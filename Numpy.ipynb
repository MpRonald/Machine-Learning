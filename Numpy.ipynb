{
 "cells": [
  {
   "cell_type": "markdown",
   "id": "fd7f42c4",
   "metadata": {},
   "source": [
    "# Numpy"
   ]
  },
  {
   "cell_type": "code",
   "execution_count": 1,
   "id": "007a4192",
   "metadata": {},
   "outputs": [],
   "source": [
    "import numpy as np"
   ]
  },
  {
   "cell_type": "code",
   "execution_count": 2,
   "id": "be063722",
   "metadata": {},
   "outputs": [],
   "source": [
    "# criando uma lista\n",
    "num_list = [10,12,14,16,18,20]"
   ]
  },
  {
   "cell_type": "code",
   "execution_count": 3,
   "id": "34c625fa",
   "metadata": {},
   "outputs": [],
   "source": [
    "# convertendo em um array numpy\n",
    "nums_array = np.array(num_list)"
   ]
  },
  {
   "cell_type": "code",
   "execution_count": 4,
   "id": "78c76145",
   "metadata": {},
   "outputs": [
    {
     "data": {
      "text/plain": [
       "numpy.ndarray"
      ]
     },
     "execution_count": 4,
     "metadata": {},
     "output_type": "execute_result"
    }
   ],
   "source": [
    "# verificando o tipo\n",
    "type(nums_array)"
   ]
  },
  {
   "cell_type": "code",
   "execution_count": 6,
   "id": "d84ed2d0",
   "metadata": {},
   "outputs": [
    {
     "data": {
      "text/plain": [
       "(3, 3)"
      ]
     },
     "execution_count": 6,
     "metadata": {},
     "output_type": "execute_result"
    }
   ],
   "source": [
    "# criando array de varias dimensoes\n",
    "row1 = [10,20,30]\n",
    "row2 = [11,12,13]\n",
    "row3 = [50,80,100]\n",
    "\n",
    "nums_2d = np.array([row1,row2,row3,])\n",
    "nums_2d.shape"
   ]
  },
  {
   "cell_type": "code",
   "execution_count": 7,
   "id": "5d2bf988",
   "metadata": {},
   "outputs": [
    {
     "data": {
      "text/plain": [
       "array([[ 10,  20,  30],\n",
       "       [ 11,  12,  13],\n",
       "       [ 50,  80, 100]])"
      ]
     },
     "execution_count": 7,
     "metadata": {},
     "output_type": "execute_result"
    }
   ],
   "source": [
    "nums_2d"
   ]
  },
  {
   "cell_type": "markdown",
   "id": "e3ebbe70",
   "metadata": {},
   "source": [
    "#### Utilizando o método arange()"
   ]
  },
  {
   "cell_type": "code",
   "execution_count": 10,
   "id": "8c45fd08",
   "metadata": {},
   "outputs": [
    {
     "name": "stdout",
     "output_type": "stream",
     "text": [
      "[ 5  6  7  8  9 10 11 12 13 14 15 16 17 18 19 20]\n"
     ]
    }
   ],
   "source": [
    "nums_arr = np.arange(5,21)\n",
    "print(nums_arr)"
   ]
  },
  {
   "cell_type": "code",
   "execution_count": 13,
   "id": "15db8589",
   "metadata": {},
   "outputs": [
    {
     "name": "stdout",
     "output_type": "stream",
     "text": [
      "[ 5  7  9 11 13 15 17 19]\n"
     ]
    }
   ],
   "source": [
    "# criando uma lista com saltos de 2 em 2 numeros\n",
    "nums_arr = np.arange(5,21,2)\n",
    "print(nums_arr)"
   ]
  },
  {
   "cell_type": "code",
   "execution_count": 14,
   "id": "a58f4560",
   "metadata": {},
   "outputs": [
    {
     "name": "stdout",
     "output_type": "stream",
     "text": [
      "[1. 1. 1. 1. 1.]\n"
     ]
    }
   ],
   "source": [
    "# criando uma lista de '1s'\n",
    "ones_array = np.ones(5)\n",
    "print(ones_array)"
   ]
  },
  {
   "cell_type": "code",
   "execution_count": 16,
   "id": "5e1ba5b8",
   "metadata": {},
   "outputs": [
    {
     "name": "stdout",
     "output_type": "stream",
     "text": [
      "[[1. 1. 1. 1.]\n",
      " [1. 1. 1. 1.]\n",
      " [1. 1. 1. 1.]\n",
      " [1. 1. 1. 1.]\n",
      " [1. 1. 1. 1.]\n",
      " [1. 1. 1. 1.]]\n"
     ]
    }
   ],
   "source": [
    "# criando um array de '1s' de 6 linhas e 4 colunas\n",
    "ones_array = np.ones((6,4))\n",
    "print(ones_array)"
   ]
  },
  {
   "cell_type": "code",
   "execution_count": 19,
   "id": "7d2edb42",
   "metadata": {},
   "outputs": [
    {
     "name": "stdout",
     "output_type": "stream",
     "text": [
      "[0. 0. 0. 0. 0. 0. 0. 0. 0. 0.]\n"
     ]
    }
   ],
   "source": [
    "# podemos fazer a mesma coisa com 'zeros'\n",
    "zero_arr = np.zeros(10)\n",
    "print(zero_arr)"
   ]
  },
  {
   "cell_type": "code",
   "execution_count": 22,
   "id": "a605145f",
   "metadata": {},
   "outputs": [
    {
     "name": "stdout",
     "output_type": "stream",
     "text": [
      "[[0. 0. 0. 0. 0. 0.]\n",
      " [0. 0. 0. 0. 0. 0.]\n",
      " [0. 0. 0. 0. 0. 0.]]\n"
     ]
    }
   ],
   "source": [
    "# podemos fazer um array de 'zeros' de 3 linhas e 6 colunas\n",
    "zero_arr = np.zeros((3,6))\n",
    "print(zero_arr)"
   ]
  },
  {
   "cell_type": "code",
   "execution_count": 24,
   "id": "6832151b",
   "metadata": {},
   "outputs": [
    {
     "name": "stdout",
     "output_type": "stream",
     "text": [
      "[[1. 0. 0. 0. 0. 0. 0. 0. 0. 0.]\n",
      " [0. 1. 0. 0. 0. 0. 0. 0. 0. 0.]\n",
      " [0. 0. 1. 0. 0. 0. 0. 0. 0. 0.]\n",
      " [0. 0. 0. 1. 0. 0. 0. 0. 0. 0.]\n",
      " [0. 0. 0. 0. 1. 0. 0. 0. 0. 0.]\n",
      " [0. 0. 0. 0. 0. 1. 0. 0. 0. 0.]\n",
      " [0. 0. 0. 0. 0. 0. 1. 0. 0. 0.]\n",
      " [0. 0. 0. 0. 0. 0. 0. 1. 0. 0.]\n",
      " [0. 0. 0. 0. 0. 0. 0. 0. 1. 0.]\n",
      " [0. 0. 0. 0. 0. 0. 0. 0. 0. 1.]]\n"
     ]
    }
   ],
   "source": [
    "# utilizando o método eyes()\n",
    "# é utilizado para criar uma matriz onde temos 1 na diagonal\n",
    "eyes_arr = np.eye(10)\n",
    "print(eyes_arr)"
   ]
  },
  {
   "cell_type": "code",
   "execution_count": 26,
   "id": "581e790d",
   "metadata": {},
   "outputs": [
    {
     "data": {
      "text/plain": [
       "array([[0.60523079, 0.07593887, 0.25040371, 0.88774889],\n",
       "       [0.13847548, 0.65842165, 0.54522184, 0.55658382],\n",
       "       [0.30880072, 0.12396542, 0.36677833, 0.66794842],\n",
       "       [0.30320073, 0.73272601, 0.97990155, 0.85335653],\n",
       "       [0.87737414, 0.87409917, 0.21505098, 0.89321779],\n",
       "       [0.15628634, 0.43873947, 0.76123512, 0.59037969],\n",
       "       [0.00360454, 0.7383948 , 0.79699889, 0.72444981],\n",
       "       [0.03569358, 0.26155072, 0.11216255, 0.92258741],\n",
       "       [0.7361478 , 0.43247853, 0.33113512, 0.84210427],\n",
       "       [0.75215286, 0.08104051, 0.93018429, 0.19565254]])"
      ]
     },
     "execution_count": 26,
     "metadata": {},
     "output_type": "execute_result"
    }
   ],
   "source": [
    "# utilizamos o método random().rand() para criar uma lista de\n",
    "# valores randomicos\n",
    "r = np.random.rand(10,4)\n",
    "r"
   ]
  },
  {
   "cell_type": "code",
   "execution_count": 30,
   "id": "9a662ef5",
   "metadata": {},
   "outputs": [
    {
     "data": {
      "text/plain": [
       "array([[-1.09992758, -0.97899021,  1.790246  ],\n",
       "       [ 0.21676593, -1.21543943,  0.10690566],\n",
       "       [ 0.26663312, -0.22676976,  0.86697193],\n",
       "       [-0.08195754, -0.46200296,  0.02714386],\n",
       "       [ 0.93628538,  0.27058355, -0.68391323]])"
      ]
     },
     "execution_count": 30,
     "metadata": {},
     "output_type": "execute_result"
    }
   ],
   "source": [
    "# utilizamos o método random().randn() para criar uma lista de\n",
    "# valores randomicos com distribuição normal\n",
    "r = np.random.randn(5,3)\n",
    "r"
   ]
  },
  {
   "cell_type": "code",
   "execution_count": 32,
   "id": "799318af",
   "metadata": {},
   "outputs": [
    {
     "data": {
      "text/plain": [
       "array([17, 90, 67, 14, 12])"
      ]
     },
     "execution_count": 32,
     "metadata": {},
     "output_type": "execute_result"
    }
   ],
   "source": [
    "# utilizamos o método random().randint() para criar uma lista de\n",
    "# valores randomicos inteiros\n",
    "# aqui estamos gerandi uma lista de 10 a 99 com cinco elementos\n",
    "# aleatorios\n",
    "r = np.random.randint(10,100,5)\n",
    "r"
   ]
  },
  {
   "cell_type": "code",
   "execution_count": 37,
   "id": "c92dae20",
   "metadata": {},
   "outputs": [
    {
     "data": {
      "text/plain": [
       "array([[0.84558125, 0.71672022, 0.67268957, 0.02576289, 0.09528801,\n",
       "        0.05111338, 0.59557216, 0.49732985, 0.96487101, 0.13456236],\n",
       "       [0.46677431, 0.57305958, 0.91081863, 0.44785969, 0.26396256,\n",
       "        0.9126465 , 0.48514287, 0.34148935, 0.87779754, 0.97703889]])"
      ]
     },
     "execution_count": 37,
     "metadata": {},
     "output_type": "execute_result"
    }
   ],
   "source": [
    "# usamos s função reshape() para realocar os elementos em um array\n",
    "r = np.random.rand(2,10)\n",
    "r"
   ]
  },
  {
   "cell_type": "code",
   "execution_count": 39,
   "id": "e1cde692",
   "metadata": {},
   "outputs": [
    {
     "data": {
      "text/plain": [
       "array([[0.84558125, 0.71672022],\n",
       "       [0.67268957, 0.02576289],\n",
       "       [0.09528801, 0.05111338],\n",
       "       [0.59557216, 0.49732985],\n",
       "       [0.96487101, 0.13456236],\n",
       "       [0.46677431, 0.57305958],\n",
       "       [0.91081863, 0.44785969],\n",
       "       [0.26396256, 0.9126465 ],\n",
       "       [0.48514287, 0.34148935],\n",
       "       [0.87779754, 0.97703889]])"
      ]
     },
     "execution_count": 39,
     "metadata": {},
     "output_type": "execute_result"
    }
   ],
   "source": [
    "r = r.reshape(10,2)\n",
    "r"
   ]
  },
  {
   "cell_type": "code",
   "execution_count": 42,
   "id": "75a12969",
   "metadata": {},
   "outputs": [
    {
     "name": "stdout",
     "output_type": "stream",
     "text": [
      "[13  7 17 16 11 15  7  6  9 14]\n",
      "Acessando o elemento no indice 3: 17\n"
     ]
    }
   ],
   "source": [
    "# acessando um elemento do array\n",
    "r = np.random.randint(1,20,10)\n",
    "print(r)\n",
    "print(f\"Acessando o elemento no indice 3: {r[2]}\")"
   ]
  },
  {
   "cell_type": "code",
   "execution_count": 43,
   "id": "43b7af37",
   "metadata": {},
   "outputs": [
    {
     "data": {
      "text/plain": [
       "array([17, 16, 11])"
      ]
     },
     "execution_count": 43,
     "metadata": {},
     "output_type": "execute_result"
    }
   ],
   "source": [
    "# usamos slice para 'dividir' o array, ou simplemente\n",
    "# para podermos verificar uma parte a qual queremos\n",
    "r[2:5]"
   ]
  },
  {
   "cell_type": "code",
   "execution_count": 45,
   "id": "8153920a",
   "metadata": {},
   "outputs": [
    {
     "name": "stdout",
     "output_type": "stream",
     "text": [
      "Verfificando valor do até o quinto elemento: [13  7 17 16 11]\n",
      "Verfificando valor do após o quinto elemento: [15  7  6  9 14]\n"
     ]
    }
   ],
   "source": [
    "print(f'Verfificando valor do até o quinto elemento: {r[:5]}')\n",
    "print(f'Verfificando valor do após o quinto elemento: {r[5:]}')"
   ]
  },
  {
   "cell_type": "code",
   "execution_count": 49,
   "id": "96ec4fff",
   "metadata": {},
   "outputs": [
    {
     "name": "stdout",
     "output_type": "stream",
     "text": [
      "[[10 12 13]\n",
      " [45 32 16]]\n",
      "[[10]\n",
      " [45]]\n"
     ]
    }
   ],
   "source": [
    "# podemos realizar slice de arrays 2d\n",
    "arr1 = [10,12,13]\n",
    "arr2 = [45,32,16]\n",
    "arr3 = [45,32,16]\n",
    "\n",
    "slice_2d = np.array([arr1,arr2,arr3])\n",
    "print(slice_2d[:2,:]) # duas linas todos os elementos\n",
    "print(slice_2d[:2,:1]) # duas linhas somente o primeiro elemento"
   ]
  },
  {
   "cell_type": "markdown",
   "id": "1dd21dc0",
   "metadata": {},
   "source": [
    "# Expressões Aritméticas"
   ]
  },
  {
   "cell_type": "code",
   "execution_count": 55,
   "id": "facd0066",
   "metadata": {},
   "outputs": [
    {
     "data": {
      "text/plain": [
       "array([10.        , 15.8113883 , 17.88854382, 20.24845673, 22.47220505])"
      ]
     },
     "execution_count": 55,
     "metadata": {},
     "output_type": "execute_result"
    }
   ],
   "source": [
    "# para realizarmos uma operação de raiz qudrada usamos o sqrt()\n",
    "n = [100,250,320,410,505]\n",
    "raiz_n = np.sqrt(n)\n",
    "raiz_n"
   ]
  },
  {
   "cell_type": "code",
   "execution_count": 57,
   "id": "76e9ddbe",
   "metadata": {},
   "outputs": [
    {
     "data": {
      "text/plain": [
       "array([3.91202301, 4.09434456, 4.24849524, 4.38202663, 4.49980967,\n",
       "       4.60517019])"
      ]
     },
     "execution_count": 57,
     "metadata": {},
     "output_type": "execute_result"
    }
   ],
   "source": [
    "# encontrando o log dos numeros\n",
    "n = [50,60,70,80,90,100]\n",
    "log_n = np.log(n)\n",
    "log_n"
   ]
  },
  {
   "cell_type": "code",
   "execution_count": 62,
   "id": "e8ea9573",
   "metadata": {},
   "outputs": [
    {
     "data": {
      "text/plain": [
       "array([1.10517092, 1.22140276, 1.34985881])"
      ]
     },
     "execution_count": 62,
     "metadata": {},
     "output_type": "execute_result"
    }
   ],
   "source": [
    "# utilizamos a função exp() para expoentes\n",
    "n = [0.1,0.2,0.3]\n",
    "exp_n = np.exp(n)\n",
    "exp_n"
   ]
  },
  {
   "cell_type": "code",
   "execution_count": 65,
   "id": "0b3ff224",
   "metadata": {},
   "outputs": [
    {
     "name": "stdout",
     "output_type": "stream",
     "text": [
      "O seno é: [ 0.14112001 -0.7568025  -0.95892427 -0.2794155 ]\n",
      "O cosseno é: [-0.9899925  -0.65364362  0.28366219  0.96017029]\n"
     ]
    }
   ],
   "source": [
    "# verificando os seno e cosseno dos numeros\n",
    "n = [3,4,5,6]\n",
    "seno_n = np.sin(n)\n",
    "cos_n = np.cos(n)\n",
    "print(f\"O seno é: {seno_n}\\nO cosseno é: {cos_n}\")"
   ]
  },
  {
   "cell_type": "markdown",
   "id": "596e4100",
   "metadata": {},
   "source": [
    "#### Multiplicação entre Matrizes"
   ]
  },
  {
   "cell_type": "code",
   "execution_count": 66,
   "id": "54dd93a3",
   "metadata": {},
   "outputs": [
    {
     "data": {
      "text/plain": [
       "array([[  49,  256,  625, 1936],\n",
       "       [ 361,   16,  289,    4],\n",
       "       [ 144, 4225,  100,  441]])"
      ]
     },
     "execution_count": 66,
     "metadata": {},
     "output_type": "execute_result"
    }
   ],
   "source": [
    "m1 = [7,16,25,44]\n",
    "m2 = [19,4,17,2]\n",
    "m3 = [12,65,10,21]\n",
    "\n",
    "arr_2d = np.array([m1,m2,m3])\n",
    "mult = np.multiply(arr_2d,arr_2d)\n",
    "mult"
   ]
  },
  {
   "cell_type": "code",
   "execution_count": null,
   "id": "1e737e53",
   "metadata": {},
   "outputs": [],
   "source": [
    "\n"
   ]
  },
  {
   "cell_type": "code",
   "execution_count": null,
   "id": "56d3c8a1",
   "metadata": {},
   "outputs": [],
   "source": []
  }
 ],
 "metadata": {
  "kernelspec": {
   "display_name": "Python 3",
   "language": "python",
   "name": "python3"
  },
  "language_info": {
   "codemirror_mode": {
    "name": "ipython",
    "version": 3
   },
   "file_extension": ".py",
   "mimetype": "text/x-python",
   "name": "python",
   "nbconvert_exporter": "python",
   "pygments_lexer": "ipython3",
   "version": "3.7.11"
  }
 },
 "nbformat": 4,
 "nbformat_minor": 5
}
