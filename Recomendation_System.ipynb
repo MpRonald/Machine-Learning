{
  "nbformat": 4,
  "nbformat_minor": 0,
  "metadata": {
    "colab": {
      "provenance": [],
      "collapsed_sections": []
    },
    "kernelspec": {
      "name": "python3",
      "display_name": "Python 3"
    },
    "language_info": {
      "name": "python"
    }
  },
  "cells": [
    {
      "cell_type": "code",
      "source": [
        "# from google.colab import drive\n",
        "# drive.mount('/content/drive')"
      ],
      "metadata": {
        "id": "iAu8sXUxHTEA"
      },
      "execution_count": 84,
      "outputs": []
    },
    {
      "cell_type": "code",
      "source": [
        "rate_users = {'Ana': \n",
        "\t\t{'Freddy x Jason': 2.5, \n",
        "\t\t 'O Ultimato Bourne': 3.5,\n",
        "\t\t 'Star Trek': 3.0, \n",
        "\t\t 'Exterminador do Futuro': 3.5, \n",
        "\t\t 'Norbit': 2.5, \n",
        "\t\t 'Star Wars': 3.0},\n",
        "\t \n",
        "\t  'Marcos': \n",
        "\t\t{'Freddy x Jason': 3.0, \n",
        "\t\t 'O Ultimato Bourne': 3.5, \n",
        "\t\t 'Star Trek': 1.5, \n",
        "\t\t 'Exterminador do Futuro': 5.0, \n",
        "\t\t 'Star Wars': 3.0, \n",
        "\t\t 'Norbit': 3.5}, \n",
        "\n",
        "\t  'Pedro': \n",
        "\t    {'Freddy x Jason': 2.5, \n",
        "\t\t 'O Ultimato Bourne': 3.0,\n",
        "\t\t 'Exterminador do Futuro': 3.5, \n",
        "\t\t 'Star Wars': 4.0},\n",
        "\t\t\t \n",
        "\t  'Claudia': \n",
        "\t\t{'O Ultimato Bourne': 3.5, \n",
        "\t\t 'Star Trek': 3.0,\n",
        "\t\t 'Star Wars': 4.5, \n",
        "\t\t 'Exterminador do Futuro': 4.0, \n",
        "\t\t 'Norbit': 2.5},\n",
        "\t\t\t\t \n",
        "\t  'Adriano': \n",
        "\t\t{'Freddy x Jason': 3.0, \n",
        "\t\t 'O Ultimato Bourne': 4.0, \n",
        "\t\t 'Star Trek': 2.0, \n",
        "\t\t 'Exterminador do Futuro': 3.0, \n",
        "\t\t 'Star Wars': 3.0,\n",
        "\t\t 'Norbit': 2.0}, \n",
        "\n",
        "\t  'Janaina': \n",
        "\t     {'Freddy x Jason': 3.0, \n",
        "\t      'O Ultimato Bourne': 4.0,\n",
        "\t      'Star Wars': 3.0, \n",
        "\t      'Exterminador do Futuro': 5.0, \n",
        "\t      'Norbit': 3.5},\n",
        "\t\t\t  \n",
        "\t  'Leonardo': \n",
        "\t    {'O Ultimato Bourne':4.5,\n",
        "             'Norbit':1.0,\n",
        "\t     'Exterminador do Futuro':4.0}}"
      ],
      "metadata": {
        "id": "sgakXnB6H9tn"
      },
      "execution_count": 51,
      "outputs": []
    },
    {
      "cell_type": "code",
      "source": [
        "rate_users['Ana']['Star Trek']"
      ],
      "metadata": {
        "colab": {
          "base_uri": "https://localhost:8080/"
        },
        "id": "42mDrgnsM8ux",
        "outputId": "5fc32c32-e1c0-4e1b-9cf4-5e0213774d83"
      },
      "execution_count": 52,
      "outputs": [
        {
          "output_type": "execute_result",
          "data": {
            "text/plain": [
              "3.0"
            ]
          },
          "metadata": {},
          "execution_count": 52
        }
      ]
    },
    {
      "cell_type": "markdown",
      "source": [
        "### Euclidean Distance"
      ],
      "metadata": {
        "id": "uJ20D9SXOZL2"
      }
    },
    {
      "cell_type": "code",
      "source": [
        "from math import sqrt\n",
        "def euclidean(rates, user1, user2):\n",
        "    sim = {}\n",
        "    for item in rates[user1]:\n",
        "        if item in rates[user2]:\n",
        "            sim[item] = 1\n",
        "    if len(sim) == 0:\n",
        "        return 0\n",
        "    s = sum([pow(rates[user1][item] - rates[user2][item], 2)\\\n",
        "               for item in rates[user1] if item in rates[user2]])\n",
        "    return round(1/(1 + sqrt(s))*100,2)"
      ],
      "metadata": {
        "id": "HbHyNIiBO2bI"
      },
      "execution_count": 53,
      "outputs": []
    },
    {
      "cell_type": "code",
      "source": [
        "euclidean(rate_users, 'Leonardo', 'Ana')"
      ],
      "metadata": {
        "colab": {
          "base_uri": "https://localhost:8080/"
        },
        "id": "-8PWt1HaSKUt",
        "outputId": "e0d8e981-25d5-45ca-afba-9e758fea844d"
      },
      "execution_count": 54,
      "outputs": [
        {
          "output_type": "execute_result",
          "data": {
            "text/plain": [
              "34.83"
            ]
          },
          "metadata": {},
          "execution_count": 54
        }
      ]
    },
    {
      "cell_type": "code",
      "source": [
        "def get_sim(rates, user, x=0, y=30):\n",
        "    sim = [(euclidean(rates, user, other), other) for other in rates if other != user]\n",
        "    sim.sort()\n",
        "    sim.reverse()\n",
        "    return sim[x:y]"
      ],
      "metadata": {
        "id": "7zkJH6Nse1oY"
      },
      "execution_count": 94,
      "outputs": []
    },
    {
      "cell_type": "code",
      "source": [
        "get_sim(rate_users, 'Leonardo')"
      ],
      "metadata": {
        "colab": {
          "base_uri": "https://localhost:8080/"
        },
        "id": "5l8F41EffRLJ",
        "outputId": "23058125-377d-4683-dbd5-d6aee97f57b0"
      },
      "execution_count": 58,
      "outputs": [
        {
          "output_type": "execute_result",
          "data": {
            "text/plain": [
              "[(40.0, 'Adriano'),\n",
              " (38.74, 'Pedro'),\n",
              " (35.68, 'Claudia'),\n",
              " (34.83, 'Ana'),\n",
              " (26.75, 'Janaina'),\n",
              " (25.82, 'Marcos')]"
            ]
          },
          "metadata": {},
          "execution_count": 58
        }
      ]
    },
    {
      "cell_type": "markdown",
      "source": [
        "### Similarity by User"
      ],
      "metadata": {
        "id": "gqYKTvtzf8JE"
      }
    },
    {
      "cell_type": "code",
      "source": [
        "def get_recomendation(rates, user, x=0, y=30):\n",
        "    total = {}\n",
        "    sum_sim = {}\n",
        "\n",
        "    # goes through the users\n",
        "    for other in rates:\n",
        "        if other == user: continue\n",
        "        sim = euclidean(rates, user, other)\n",
        "        \n",
        "        if sim <= 0: continue\n",
        "\n",
        "        # goes through the movies\n",
        "        for item in rates[other]:\n",
        "            # checking if the movies there aren't at the list\n",
        "            if item not in rates[user]:\n",
        "                # cumulating user rate\n",
        "                total.setdefault(item, 0)\n",
        "                total[item] += rates[other][item] * sim\n",
        "                sum_sim.setdefault(item, 0)\n",
        "                sum_sim[item] += sim\n",
        "\n",
        "    rankings = [(t / sum_sim[item], item) for item, t in total.items()]\n",
        "    rankings.sort()\n",
        "    rankings.reverse()\n",
        "    return rankings[x:y]"
      ],
      "metadata": {
        "id": "tizh6py2fUCd"
      },
      "execution_count": 95,
      "outputs": []
    },
    {
      "cell_type": "code",
      "source": [
        "get_recomendation(rate_users, 'Leonardo')"
      ],
      "metadata": {
        "colab": {
          "base_uri": "https://localhost:8080/"
        },
        "id": "hwVGnsHAVVh1",
        "outputId": "827d01f8-db52-42ec-c542-98e0c41a8fbc"
      },
      "execution_count": 61,
      "outputs": [
        {
          "output_type": "execute_result",
          "data": {
            "text/plain": [
              "[(3.457140025765534, 'Star Wars'),\n",
              " (2.778590345491754, 'Freddy x Jason'),\n",
              " (2.4225042177070346, 'Star Trek')]"
            ]
          },
          "metadata": {},
          "execution_count": 61
        }
      ]
    },
    {
      "cell_type": "code",
      "source": [
        "get_recomendation(rate_users, 'Pedro')"
      ],
      "metadata": {
        "colab": {
          "base_uri": "https://localhost:8080/"
        },
        "id": "7RKPorfyXLqH",
        "outputId": "62b81319-154f-4cf4-9093-95854f8dc51b"
      },
      "execution_count": 62,
      "outputs": [
        {
          "output_type": "execute_result",
          "data": {
            "text/plain": [
              "[(2.4826026844864337, 'Star Trek'), (2.453390350697713, 'Norbit')]"
            ]
          },
          "metadata": {},
          "execution_count": 62
        }
      ]
    },
    {
      "cell_type": "markdown",
      "source": [
        "##Similarity by Movies"
      ],
      "metadata": {
        "id": "Mr7FrgdVefrq"
      }
    },
    {
      "cell_type": "code",
      "source": [
        "rate_movies = {'Freddy x Jason': \n",
        "\t\t{'Ana': 2.5, \n",
        "\t\t 'Marcos:': 3.0 ,\n",
        "\t\t 'Pedro': 2.5, \n",
        "\t\t 'Adriano': 3.0, \n",
        "\t\t 'Janaina': 3.0 },\n",
        "\t \n",
        "\t 'O Ultimato Bourne': \n",
        "\t\t{'Ana': 3.5, \n",
        "\t\t 'Marcos': 3.5,\n",
        "\t\t 'Pedro': 3.0, \n",
        "\t\t 'Claudia': 3.5, \n",
        "\t\t 'Adriano': 4.0, \n",
        "\t\t 'Janaina': 4.0,\n",
        "\t\t 'Leonardo': 4.5 },\n",
        "\t\t\t\t \n",
        "\t 'Star Trek': \n",
        "\t\t{'Ana': 3.0, \n",
        "\t\t 'Marcos:': 1.5,\n",
        "\t\t 'Claudia': 3.0, \n",
        "\t\t 'Adriano': 2.0 },\n",
        "\t\n",
        "\t 'Exterminador do Futuro': \n",
        "\t\t{'Ana': 3.5, \n",
        "\t\t 'Marcos:': 5.0 ,\n",
        "\t\t 'Pedro': 3.5, \n",
        "\t\t 'Claudia': 4.0, \n",
        "\t\t 'Adriano': 3.0, \n",
        "\t\t 'Janaina': 5.0,\n",
        "\t\t 'Leonardo': 4.0},\n",
        "\t\t\t\t \n",
        "\t 'Norbit': \n",
        "\t\t{'Ana': 2.5, \n",
        "\t\t 'Marcos:': 3.0 ,\n",
        "\t\t 'Claudia': 2.5, \n",
        "\t\t 'Adriano': 2.0, \n",
        "\t\t 'Janaina': 3.5,\n",
        "\t\t 'Leonardo': 1.0},\n",
        "\t\t\t\t \n",
        "\t 'Star Wars': \n",
        "\t\t{'Ana': 3.0, \n",
        "\t\t 'Marcos:': 3.5,\n",
        "\t\t 'Pedro': 4.0, \n",
        "\t\t 'Claudia': 4.5, \n",
        "\t\t 'Adriano': 3.0, \n",
        "\t\t 'Janaina': 3.0}\n",
        "}"
      ],
      "metadata": {
        "id": "GsSHaNcidUV_"
      },
      "execution_count": 63,
      "outputs": []
    },
    {
      "cell_type": "code",
      "source": [
        "rate_movies['Star Wars']"
      ],
      "metadata": {
        "colab": {
          "base_uri": "https://localhost:8080/"
        },
        "id": "qivkr5One84s",
        "outputId": "cffd436d-0c85-40d8-eb3b-5b076f9f7966"
      },
      "execution_count": 64,
      "outputs": [
        {
          "output_type": "execute_result",
          "data": {
            "text/plain": [
              "{'Ana': 3.0,\n",
              " 'Marcos:': 3.5,\n",
              " 'Pedro': 4.0,\n",
              " 'Claudia': 4.5,\n",
              " 'Adriano': 3.0,\n",
              " 'Janaina': 3.0}"
            ]
          },
          "metadata": {},
          "execution_count": 64
        }
      ]
    },
    {
      "cell_type": "code",
      "source": [
        "rate_movies['Star Wars']['Ana']"
      ],
      "metadata": {
        "colab": {
          "base_uri": "https://localhost:8080/"
        },
        "id": "ugPBCERJfBwK",
        "outputId": "03d5330e-30ee-40c9-9300-669c0f71acd6"
      },
      "execution_count": 65,
      "outputs": [
        {
          "output_type": "execute_result",
          "data": {
            "text/plain": [
              "3.0"
            ]
          },
          "metadata": {},
          "execution_count": 65
        }
      ]
    },
    {
      "cell_type": "code",
      "source": [
        "get_sim(rate_movies, 'Star Wars')"
      ],
      "metadata": {
        "colab": {
          "base_uri": "https://localhost:8080/"
        },
        "id": "Rn0GeDKkfESq",
        "outputId": "ebc07783-1c04-4c2f-8c04-9874b6bc4677"
      },
      "execution_count": 66,
      "outputs": [
        {
          "output_type": "execute_result",
          "data": {
            "text/plain": [
              "[(37.62, 'Freddy x Jason'),\n",
              " (32.66, 'O Ultimato Bourne'),\n",
              " (29.43, 'Norbit'),\n",
              " (27.43, 'Exterminador do Futuro'),\n",
              " (27.08, 'Star Trek')]"
            ]
          },
          "metadata": {},
          "execution_count": 66
        }
      ]
    },
    {
      "cell_type": "code",
      "source": [
        "get_recomendation(rate_movies, 'Star Trek')"
      ],
      "metadata": {
        "colab": {
          "base_uri": "https://localhost:8080/"
        },
        "id": "Cuyzul-AfI7i",
        "outputId": "6c874a73-1894-40ca-eafc-616a3a984882"
      },
      "execution_count": 67,
      "outputs": [
        {
          "output_type": "execute_result",
          "data": {
            "text/plain": [
              "[(3.606746734921572, 'Janaina'),\n",
              " (3.5, 'Marcos'),\n",
              " (3.1748583877995644, 'Pedro'),\n",
              " (2.929471589652885, 'Leonardo')]"
            ]
          },
          "metadata": {},
          "execution_count": 67
        }
      ]
    },
    {
      "cell_type": "code",
      "source": [
        "def carregaMovieLens(path='/content/drive/MyDrive/Datasets'):\n",
        "    filmes = {}\n",
        "    for linha in open(path + '/u.item'):\n",
        "        (id, titulo) = linha.split('|')[0:2]\n",
        "        filmes[id] = titulo\n",
        "    # print(filmes)\n",
        "\n",
        "    base = {}\n",
        "    for linha in open(path + '/u.data'):\n",
        "        (usuario, idfilme, nota, tempo) = linha.split('\\t')\n",
        "        base.setdefault(usuario, {})\n",
        "        base[usuario][filmes[idfilme]] = float(nota)\n",
        "    return base     "
      ],
      "metadata": {
        "id": "gWqdaJIek9H3"
      },
      "execution_count": 110,
      "outputs": []
    },
    {
      "cell_type": "code",
      "source": [
        "def getRecomendacoesItens(baseUsuario, similaridadeItens, usuario):\n",
        "    notasUsuario = baseUsuario[usuario]\n",
        "    notas={}\n",
        "    totalSimilaridade={}\n",
        "    for (item, nota) in notasUsuario.items():\n",
        "        for (similaridade, item2) in similaridadeItens[item]:\n",
        "            if item2 in notasUsuario: continue\n",
        "            notas.setdefault(item2, 0)\n",
        "            notas[item2] += similaridade * nota\n",
        "            totalSimilaridade.setdefault(item2,0)\n",
        "            totalSimilaridade[item2] += similaridade\n",
        "    rankings=[(score/totalSimilaridade[item], item) for item, score in notas.items()]\n",
        "    rankings.sort()\n",
        "    rankings.reverse()\n",
        "    return rankings"
      ],
      "metadata": {
        "id": "LEMradPztIZf"
      },
      "execution_count": 112,
      "outputs": []
    }
  ]
}