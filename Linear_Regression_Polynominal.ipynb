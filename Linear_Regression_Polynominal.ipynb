{
  "nbformat": 4,
  "nbformat_minor": 0,
  "metadata": {
    "colab": {
      "name": "Linear_Regression_Polynominal.ipynb",
      "provenance": [],
      "collapsed_sections": [],
      "mount_file_id": "1475T0rbfycHmF53nqeJtweM_nhbkKuSn",
      "authorship_tag": "ABX9TyOnl7TzD8YgnZVPQcXFJezu",
      "include_colab_link": true
    },
    "kernelspec": {
      "name": "python3",
      "display_name": "Python 3"
    },
    "language_info": {
      "name": "python"
    }
  },
  "cells": [
    {
      "cell_type": "markdown",
      "metadata": {
        "id": "view-in-github",
        "colab_type": "text"
      },
      "source": [
        "<a href=\"https://colab.research.google.com/github/MpRonald/Machine-Learning/blob/main/Linear_Regression_Polynominal.ipynb\" target=\"_parent\"><img src=\"https://colab.research.google.com/assets/colab-badge.svg\" alt=\"Open In Colab\"/></a>"
      ]
    },
    {
      "cell_type": "code",
      "execution_count": 16,
      "metadata": {
        "id": "yEIsM_VMVYY9"
      },
      "outputs": [],
      "source": [
        "import pandas as pd\n",
        "import numpy as np\n",
        "\n",
        "from sklearn.model_selection import train_test_split\n",
        "from sklearn.preprocessing import PolynomialFeatures\n",
        "from sklearn.linear_model import LinearRegression\n",
        "from sklearn.metrics import mean_absolute_error"
      ]
    },
    {
      "cell_type": "code",
      "source": [
        "house = pd.read_csv('https://raw.githubusercontent.com/MpRonald/datasets/main/house_prices.csv')"
      ],
      "metadata": {
        "id": "TaGlbSN5Vqhy"
      },
      "execution_count": 2,
      "outputs": []
    },
    {
      "cell_type": "code",
      "source": [
        "X_houses = house.iloc[:,3:19].values\n",
        "X_houses"
      ],
      "metadata": {
        "colab": {
          "base_uri": "https://localhost:8080/"
        },
        "id": "zgFl87-JmuKm",
        "outputId": "c01d988d-c762-4633-b6b3-5673d2f20c04"
      },
      "execution_count": 5,
      "outputs": [
        {
          "output_type": "execute_result",
          "data": {
            "text/plain": [
              "array([[ 3.00000e+00,  1.00000e+00,  1.18000e+03, ...,  9.81780e+04,\n",
              "         4.75112e+01, -1.22257e+02],\n",
              "       [ 3.00000e+00,  2.25000e+00,  2.57000e+03, ...,  9.81250e+04,\n",
              "         4.77210e+01, -1.22319e+02],\n",
              "       [ 2.00000e+00,  1.00000e+00,  7.70000e+02, ...,  9.80280e+04,\n",
              "         4.77379e+01, -1.22233e+02],\n",
              "       ...,\n",
              "       [ 2.00000e+00,  7.50000e-01,  1.02000e+03, ...,  9.81440e+04,\n",
              "         4.75944e+01, -1.22299e+02],\n",
              "       [ 3.00000e+00,  2.50000e+00,  1.60000e+03, ...,  9.80270e+04,\n",
              "         4.75345e+01, -1.22069e+02],\n",
              "       [ 2.00000e+00,  7.50000e-01,  1.02000e+03, ...,  9.81440e+04,\n",
              "         4.75941e+01, -1.22299e+02]])"
            ]
          },
          "metadata": {},
          "execution_count": 5
        }
      ]
    },
    {
      "cell_type": "code",
      "source": [
        "y_houses = house.iloc[:,2].values\n",
        "y_houses"
      ],
      "metadata": {
        "colab": {
          "base_uri": "https://localhost:8080/"
        },
        "id": "Q7EdWx9FnrY0",
        "outputId": "06f3973a-914f-4c8a-e396-f18f8f773c0e"
      },
      "execution_count": 6,
      "outputs": [
        {
          "output_type": "execute_result",
          "data": {
            "text/plain": [
              "array([221900., 538000., 180000., ..., 402101., 400000., 325000.])"
            ]
          },
          "metadata": {},
          "execution_count": 6
        }
      ]
    },
    {
      "cell_type": "code",
      "source": [
        "X_house_train, X_house_test, y_house_train, y_house_test = \\\n",
        "train_test_split(X_houses, y_houses, test_size=0.2, random_state=0)"
      ],
      "metadata": {
        "id": "vaxXsS1Zn75N"
      },
      "execution_count": 7,
      "outputs": []
    },
    {
      "cell_type": "code",
      "source": [
        "X_house_train.shape, y_house_train.shape"
      ],
      "metadata": {
        "colab": {
          "base_uri": "https://localhost:8080/"
        },
        "id": "m4ZJc0IZouOF",
        "outputId": "a748f4a3-e4c2-4e7e-cee7-560682f47f02"
      },
      "execution_count": 8,
      "outputs": [
        {
          "output_type": "execute_result",
          "data": {
            "text/plain": [
              "((17290, 16), (17290,))"
            ]
          },
          "metadata": {},
          "execution_count": 8
        }
      ]
    },
    {
      "cell_type": "code",
      "source": [
        "X_house_test.shape, y_house_test.shape"
      ],
      "metadata": {
        "colab": {
          "base_uri": "https://localhost:8080/"
        },
        "id": "WH0KHseio4s8",
        "outputId": "1b273eae-a698-429b-b24d-417da28ead4b"
      },
      "execution_count": 9,
      "outputs": [
        {
          "output_type": "execute_result",
          "data": {
            "text/plain": [
              "((4323, 16), (4323,))"
            ]
          },
          "metadata": {},
          "execution_count": 9
        }
      ]
    },
    {
      "cell_type": "code",
      "source": [
        "poly = PolynomialFeatures(degree=2)\n",
        "X_house_train_poly = poly.fit_transform(X_house_train)\n",
        "X_house_test_poly = poly.transform(X_house_test)"
      ],
      "metadata": {
        "id": "D32lYA66Xeoa"
      },
      "execution_count": 10,
      "outputs": []
    },
    {
      "cell_type": "code",
      "source": [
        "lr_poly = LinearRegression().fit(X_house_train_poly, y_house_train)"
      ],
      "metadata": {
        "id": "9Y2LgAxJYACm"
      },
      "execution_count": 12,
      "outputs": []
    },
    {
      "cell_type": "code",
      "source": [
        "lr_poly.score(X_house_train_poly, y_house_train)"
      ],
      "metadata": {
        "colab": {
          "base_uri": "https://localhost:8080/"
        },
        "id": "0cAYHsymYWYH",
        "outputId": "fcb8e9c5-252d-4331-b953-fceec1195494"
      },
      "execution_count": 13,
      "outputs": [
        {
          "output_type": "execute_result",
          "data": {
            "text/plain": [
              "0.8219481656505645"
            ]
          },
          "metadata": {},
          "execution_count": 13
        }
      ]
    },
    {
      "cell_type": "code",
      "source": [
        "lr_poly.score(X_house_test_poly, y_house_test)"
      ],
      "metadata": {
        "colab": {
          "base_uri": "https://localhost:8080/"
        },
        "id": "bwsU6SYcYfTj",
        "outputId": "dd6fa2e0-9d20-4544-d9bb-0f70bed36986"
      },
      "execution_count": 14,
      "outputs": [
        {
          "output_type": "execute_result",
          "data": {
            "text/plain": [
              "0.8011552067798418"
            ]
          },
          "metadata": {},
          "execution_count": 14
        }
      ]
    },
    {
      "cell_type": "code",
      "source": [
        "predict = lr_poly.predict(X_house_test_poly)"
      ],
      "metadata": {
        "id": "DjHLTU40Yjzj"
      },
      "execution_count": 15,
      "outputs": []
    },
    {
      "cell_type": "code",
      "source": [
        "mean_absolute_error(y_house_test, predict)"
      ],
      "metadata": {
        "colab": {
          "base_uri": "https://localhost:8080/"
        },
        "id": "S0Ral165YuHJ",
        "outputId": "7e7b1d8d-159b-4f05-8ee8-ebdbe29a2779"
      },
      "execution_count": 17,
      "outputs": [
        {
          "output_type": "execute_result",
          "data": {
            "text/plain": [
              "98908.29596461717"
            ]
          },
          "metadata": {},
          "execution_count": 17
        }
      ]
    },
    {
      "cell_type": "code",
      "source": [
        ""
      ],
      "metadata": {
        "id": "Cwaq-Cg2Y-lU"
      },
      "execution_count": null,
      "outputs": []
    }
  ]
}