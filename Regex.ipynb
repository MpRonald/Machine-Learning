{
  "cells":[
    {
      "cell_type":"code",
      "source":[
        "import pandas as pd\n",
        "dados_portugues = pd.read_csv('\/data\/workspace_files\/portugues.csv')\n",
        "dados_portugues.head()"
      ],
      "execution_count":70,
      "outputs":[
        {
          "data":{
            "text\/html":[
              "<div>\n",
              "<style scoped>\n",
              "    .dataframe tbody tr th:only-of-type {\n",
              "        vertical-align: middle;\n",
              "    }\n",
              "\n",
              "    .dataframe tbody tr th {\n",
              "        vertical-align: top;\n",
              "    }\n",
              "\n",
              "    .dataframe thead th {\n",
              "        text-align: right;\n",
              "    }\n",
              "<\/style>\n",
              "<table border=\"1\" class=\"dataframe\">\n",
              "  <thead>\n",
              "    <tr style=\"text-align: right;\">\n",
              "      <th><\/th>\n",
              "      <th>Id<\/th>\n",
              "      <th>Título<\/th>\n",
              "      <th>Questão<\/th>\n",
              "      <th>Tags<\/th>\n",
              "      <th>Pontuação<\/th>\n",
              "      <th>Visualizações<\/th>\n",
              "    <\/tr>\n",
              "  <\/thead>\n",
              "  <tbody>\n",
              "    <tr>\n",
              "      <th>0<\/th>\n",
              "      <td>2402<\/td>\n",
              "      <td>Como fazer hash de senhas de forma segura?<\/td>\n",
              "      <td>&lt;p&gt;Se eu fizer o &lt;em&gt;&lt;a href=\"http:\/\/pt.wikipe...<\/td>\n",
              "      <td>&lt;hash&gt;&lt;segurança&gt;&lt;senhas&gt;&lt;criptografia&gt;<\/td>\n",
              "      <td>350<\/td>\n",
              "      <td>22367<\/td>\n",
              "    <\/tr>\n",
              "    <tr>\n",
              "      <th>1<\/th>\n",
              "      <td>6441<\/td>\n",
              "      <td>Qual é a diferença entre INNER JOIN e OUTER JOIN?<\/td>\n",
              "      <td>&lt;p&gt;Qual é a diferença entre &lt;code&gt;INNER JOIN&lt;\/...<\/td>\n",
              "      <td>&lt;sql&gt;&lt;join&gt;<\/td>\n",
              "      <td>276<\/td>\n",
              "      <td>176953<\/td>\n",
              "    <\/tr>\n",
              "    <tr>\n",
              "      <th>2<\/th>\n",
              "      <td>579<\/td>\n",
              "      <td>Por que não devemos usar funções do tipo mysql_*?<\/td>\n",
              "      <td>&lt;p&gt;Uma dúvida muito comum é por que devemos pa...<\/td>\n",
              "      <td>&lt;php&gt;&lt;mysql&gt;<\/td>\n",
              "      <td>226<\/td>\n",
              "      <td>9761<\/td>\n",
              "    <\/tr>\n",
              "    <tr>\n",
              "      <th>3<\/th>\n",
              "      <td>2539<\/td>\n",
              "      <td>As mensagens de erro devem se desculpar?<\/td>\n",
              "      <td>&lt;p&gt;É comum encontrar uma mensagem de erro que ...<\/td>\n",
              "      <td>&lt;aplicação-web&gt;&lt;gui&gt;&lt;console&gt;&lt;ux&gt;<\/td>\n",
              "      <td>214<\/td>\n",
              "      <td>5075<\/td>\n",
              "    <\/tr>\n",
              "    <tr>\n",
              "      <th>4<\/th>\n",
              "      <td>17501<\/td>\n",
              "      <td>Qual é a diferença de API, biblioteca e Framew...<\/td>\n",
              "      <td>&lt;p&gt;Me parecem termos muito próximos e eventual...<\/td>\n",
              "      <td>&lt;api&gt;&lt;framework&gt;&lt;terminologia&gt;&lt;biblioteca&gt;<\/td>\n",
              "      <td>193<\/td>\n",
              "      <td>54191<\/td>\n",
              "    <\/tr>\n",
              "  <\/tbody>\n",
              "<\/table>\n",
              "<\/div>"
            ]
          },
          "metadata":{
            
          },
          "output_type":"display_data"
        }
      ],
      "metadata":{
        
      }
    },
    {
      "cell_type":"code",
      "source":[
        "questao_portugues = dados_portugues.Questão[5]\n",
        "print(questao_portugues)"
      ],
      "execution_count":71,
      "outputs":[
        {
          "name":"stdout",
          "text":[
            "<p>Desenvolvi uma página em PHP para uso interno da empresa que trabalho e apenas pouquíssimas pessoas a utilizam. Através dessa página é possível fazer algumas consultas, inserções, alterações e remoções de dados de uma tabela em um banco de dados MySQL, porém eu acredito que meu código em PHP não está protegido contra injeção de código SQL, por exemplo:<\/p>\n",
            "\n",
            "<pre><code>\/\/----CONSULTA SQL----\/\/\n",
            "$busca = mysql_query ('insert into Produtos (coluna) values(' . $valor . ')');\n",
            "<\/code><\/pre>\n",
            "\n",
            "<p>Logo, digamos que o usuário usar a sentença: <code>1); DROP TABLE Produtos;<\/code> para ao campo <code>valor<\/code> o comando ficaria: <\/p>\n",
            "\n",
            "<pre><code>insert into Produtos (coluna) values(1); DROP TABLE Produtos;\n",
            "<\/code><\/pre>\n",
            "\n",
            "<p>Ele vai inserir um novo registro cujo o campo <code>coluna<\/code> será <code>1<\/code> e logo em seguida ele vai deletar a tabela Produtos.<\/p>\n",
            "\n",
            "<p>Como posso melhorar meu código para prevenir essa situação?<\/p>\n",
            "\n"
          ],
          "output_type":"stream"
        }
      ],
      "metadata":{
        
      }
    },
    {
      "cell_type":"code",
      "source":[
        "dados_espanhol = pd.read_csv('\/data\/workspace_files\/espanhol.csv')\n",
        "dados_espanhol.head()"
      ],
      "execution_count":72,
      "outputs":[
        {
          "data":{
            "text\/html":[
              "<div>\n",
              "<style scoped>\n",
              "    .dataframe tbody tr th:only-of-type {\n",
              "        vertical-align: middle;\n",
              "    }\n",
              "\n",
              "    .dataframe tbody tr th {\n",
              "        vertical-align: top;\n",
              "    }\n",
              "\n",
              "    .dataframe thead th {\n",
              "        text-align: right;\n",
              "    }\n",
              "<\/style>\n",
              "<table border=\"1\" class=\"dataframe\">\n",
              "  <thead>\n",
              "    <tr style=\"text-align: right;\">\n",
              "      <th><\/th>\n",
              "      <th>Id<\/th>\n",
              "      <th>Título<\/th>\n",
              "      <th>Questão<\/th>\n",
              "      <th>Tags<\/th>\n",
              "      <th>Pontuação<\/th>\n",
              "      <th>Visualizações<\/th>\n",
              "    <\/tr>\n",
              "  <\/thead>\n",
              "  <tbody>\n",
              "    <tr>\n",
              "      <th>0<\/th>\n",
              "      <td>18232<\/td>\n",
              "      <td>¿Cómo evitar la inyección SQL en PHP?<\/td>\n",
              "      <td>&lt;p&gt;Las sentencias dinámicas son sentencias SQL...<\/td>\n",
              "      <td>&lt;php&gt;&lt;mysql&gt;&lt;sql&gt;&lt;seguridad&gt;&lt;inyección-sql&gt;<\/td>\n",
              "      <td>169<\/td>\n",
              "      <td>38614<\/td>\n",
              "    <\/tr>\n",
              "    <tr>\n",
              "      <th>1<\/th>\n",
              "      <td>197<\/td>\n",
              "      <td>¿Por qué mis programas no pueden hacer cálculo...<\/td>\n",
              "      <td>&lt;p&gt;Unas veces los cálculos funcionan correctam...<\/td>\n",
              "      <td>&lt;matemáticas&gt;&lt;coma-flotante&gt;&lt;lenguaje-agnóstico&gt;<\/td>\n",
              "      <td>141<\/td>\n",
              "      <td>3860<\/td>\n",
              "    <\/tr>\n",
              "    <tr>\n",
              "      <th>2<\/th>\n",
              "      <td>36<\/td>\n",
              "      <td>¿Cuál es la diferencia entre un inner y un out...<\/td>\n",
              "      <td>&lt;p&gt;¿Cuál es la diferencia entre un &lt;code&gt;inner...<\/td>\n",
              "      <td>&lt;mysql&gt;&lt;sql&gt;&lt;join&gt;<\/td>\n",
              "      <td>97<\/td>\n",
              "      <td>53627<\/td>\n",
              "    <\/tr>\n",
              "    <tr>\n",
              "      <th>3<\/th>\n",
              "      <td>29177<\/td>\n",
              "      <td>¿Por qué es considerado una mala práctica util...<\/td>\n",
              "      <td>&lt;p&gt;La mayoría de nosotros decimos, (muchas vec...<\/td>\n",
              "      <td>&lt;variables&gt;&lt;variables-globales&gt;&lt;patrones-de-di...<\/td>\n",
              "      <td>89<\/td>\n",
              "      <td>9987<\/td>\n",
              "    <\/tr>\n",
              "    <tr>\n",
              "      <th>4<\/th>\n",
              "      <td>142<\/td>\n",
              "      <td>Validar un email en JavaScript que acepte todo...<\/td>\n",
              "      <td>&lt;h3&gt;Pregunta&lt;\/h3&gt;\\n\\n&lt;p&gt;¿Cómo validar un e-mai...<\/td>\n",
              "      <td>&lt;javascript&gt;&lt;validación&gt;&lt;email&gt;&lt;regex&gt;<\/td>\n",
              "      <td>87<\/td>\n",
              "      <td>73129<\/td>\n",
              "    <\/tr>\n",
              "  <\/tbody>\n",
              "<\/table>\n",
              "<\/div>"
            ]
          },
          "metadata":{
            
          },
          "output_type":"display_data"
        }
      ],
      "metadata":{
        
      }
    },
    {
      "cell_type":"code",
      "source":[
        "questao_espanhol = dados_espanhol.Questão[0]\n",
        "print(questao_espanhol)"
      ],
      "execution_count":73,
      "outputs":[
        {
          "name":"stdout",
          "text":[
            "<p>Las sentencias dinámicas son sentencias SQL que se crean como cadenas de texto (strings) y en las que se insertan\/concatenan valores obtenidos de alguna fuente (normalmente proveniente del usuario), lo que puede hacer que sean vulnerables a inyección SQL si no se sanean las entradas, como por ejemplo:<\/p>\n",
            "\n",
            "<pre><code>$id_usuario = $_POST[\"id\"];\n",
            "\n",
            "mysql_query(\"SELECT * FROM usuarios WHERE id = $id_usuario\");\n",
            "<\/code><\/pre>\n",
            "\n",
            "<p>Eso es un ejemplo de una vulnerabilidad grave en la seguridad de una aplicación (web o no) porque si el usuario introdujese un valor como <code>1; DROP TABLE usuarios;--<\/code> nos encontraríamos con que la sentencia ejecutada sería:<\/p>\n",
            "\n",
            "<pre><code>SELECT * FROM usuarios WHERE id = 1; DROP TABLE usuarios;--\n",
            "<\/code><\/pre>\n",
            "\n",
            "<p>Y se eliminaría la tabla Usuarios con todos los datos contenidos en ella. <\/p>\n",
            "\n",
            "<p><strong>¿Cómo puedo evitar que la inyección SQL ocurra en PHP?<\/strong><\/p>\n",
            "\n"
          ],
          "output_type":"stream"
        }
      ],
      "metadata":{
        
      }
    },
    {
      "cell_type":"code",
      "source":[
        "dados_ingles = pd.read_csv('\/data\/workspace_files\/ingles.csv')\n",
        "dados_ingles.head()"
      ],
      "execution_count":74,
      "outputs":[
        {
          "data":{
            "text\/html":[
              "<div>\n",
              "<style scoped>\n",
              "    .dataframe tbody tr th:only-of-type {\n",
              "        vertical-align: middle;\n",
              "    }\n",
              "\n",
              "    .dataframe tbody tr th {\n",
              "        vertical-align: top;\n",
              "    }\n",
              "\n",
              "    .dataframe thead th {\n",
              "        text-align: right;\n",
              "    }\n",
              "<\/style>\n",
              "<table border=\"1\" class=\"dataframe\">\n",
              "  <thead>\n",
              "    <tr style=\"text-align: right;\">\n",
              "      <th><\/th>\n",
              "      <th>Id<\/th>\n",
              "      <th>Título<\/th>\n",
              "      <th>Questão<\/th>\n",
              "      <th>Tags<\/th>\n",
              "      <th>Pontuação<\/th>\n",
              "      <th>Visualizações<\/th>\n",
              "    <\/tr>\n",
              "  <\/thead>\n",
              "  <tbody>\n",
              "    <tr>\n",
              "      <th>0<\/th>\n",
              "      <td>11227809<\/td>\n",
              "      <td>Why is it faster to process a sorted array tha...<\/td>\n",
              "      <td>&lt;p&gt;Here is a piece of C++ code that seems very...<\/td>\n",
              "      <td>&lt;java&gt;&lt;c++&gt;&lt;performance&gt;&lt;optimization&gt;&lt;branch-...<\/td>\n",
              "      <td>23057<\/td>\n",
              "      <td>1358574<\/td>\n",
              "    <\/tr>\n",
              "    <tr>\n",
              "      <th>1<\/th>\n",
              "      <td>927358<\/td>\n",
              "      <td>How do I undo the most recent local commits in...<\/td>\n",
              "      <td>&lt;p&gt;I accidentally committed the wrong files to...<\/td>\n",
              "      <td>&lt;git&gt;&lt;version-control&gt;&lt;git-commit&gt;&lt;undo&gt;<\/td>\n",
              "      <td>19640<\/td>\n",
              "      <td>7906137<\/td>\n",
              "    <\/tr>\n",
              "    <tr>\n",
              "      <th>2<\/th>\n",
              "      <td>2003505<\/td>\n",
              "      <td>How do I delete a Git branch locally and remot...<\/td>\n",
              "      <td>&lt;p&gt;I want to delete a branch both locally and ...<\/td>\n",
              "      <td>&lt;git&gt;&lt;git-branch&gt;&lt;git-remote&gt;<\/td>\n",
              "      <td>15249<\/td>\n",
              "      <td>6940906<\/td>\n",
              "    <\/tr>\n",
              "    <tr>\n",
              "      <th>3<\/th>\n",
              "      <td>292357<\/td>\n",
              "      <td>What is the difference between 'git pull' and ...<\/td>\n",
              "      <td>&lt;blockquote&gt;\\n  &lt;p&gt;&lt;strong&gt;Moderator Note:&lt;\/st...<\/td>\n",
              "      <td>&lt;git&gt;&lt;git-pull&gt;&lt;git-fetch&gt;<\/td>\n",
              "      <td>11008<\/td>\n",
              "      <td>2543052<\/td>\n",
              "    <\/tr>\n",
              "    <tr>\n",
              "      <th>4<\/th>\n",
              "      <td>477816<\/td>\n",
              "      <td>What is the correct JSON content type?<\/td>\n",
              "      <td>&lt;p&gt;I've been messing around with &lt;a href=\"http...<\/td>\n",
              "      <td>&lt;json&gt;&lt;http-headers&gt;&lt;content-type&gt;<\/td>\n",
              "      <td>9701<\/td>\n",
              "      <td>2478940<\/td>\n",
              "    <\/tr>\n",
              "  <\/tbody>\n",
              "<\/table>\n",
              "<\/div>"
            ]
          },
          "metadata":{
            
          },
          "output_type":"display_data"
        }
      ],
      "metadata":{
        
      }
    },
    {
      "cell_type":"code",
      "source":[
        "questao_ingles = dados_ingles.Questão[0]\n",
        "print(questao_ingles)"
      ],
      "execution_count":75,
      "outputs":[
        {
          "name":"stdout",
          "text":[
            "<p>Here is a piece of C++ code that seems very peculiar. For some strange reason, sorting the data miraculously makes the code almost six times faster.<\/p>\n",
            "\n",
            "<pre class=\"lang-cpp prettyprint-override\"><code>#include &lt;algorithm&gt;\n",
            "#include &lt;ctime&gt;\n",
            "#include &lt;iostream&gt;\n",
            "\n",
            "int main()\n",
            "{\n",
            "    \/\/ Generate data\n",
            "    const unsigned arraySize = 32768;\n",
            "    int data[arraySize];\n",
            "\n",
            "    for (unsigned c = 0; c &lt; arraySize; ++c)\n",
            "        data[c] = std::rand() % 256;\n",
            "\n",
            "    \/\/ !!! With this, the next loop runs faster\n",
            "    std::sort(data, data + arraySize);\n",
            "\n",
            "    \/\/ Test\n",
            "    clock_t start = clock();\n",
            "    long long sum = 0;\n",
            "\n",
            "    for (unsigned i = 0; i &lt; 100000; ++i)\n",
            "    {\n",
            "        \/\/ Primary loop\n",
            "        for (unsigned c = 0; c &lt; arraySize; ++c)\n",
            "        {\n",
            "            if (data[c] &gt;= 128)\n",
            "                sum += data[c];\n",
            "        }\n",
            "    }\n",
            "\n",
            "    double elapsedTime = static_cast&lt;double&gt;(clock() - start) \/ CLOCKS_PER_SEC;\n",
            "\n",
            "    std::cout &lt;&lt; elapsedTime &lt;&lt; std::endl;\n",
            "    std::cout &lt;&lt; \"sum = \" &lt;&lt; sum &lt;&lt; std::endl;\n",
            "}\n",
            "<\/code><\/pre>\n",
            "\n",
            "<ul>\n",
            "<li>Without <code>std::sort(data, data + arraySize);<\/code>, the code runs in 11.54 seconds.<\/li>\n",
            "<li>With the sorted data, the code runs in 1.93 seconds.<\/li>\n",
            "<\/ul>\n",
            "\n",
            "<p>Initially, I thought this might be just a language or compiler anomaly. So I tried it in Java.<\/p>\n",
            "\n",
            "<pre class=\"lang-java prettyprint-override\"><code>import java.util.Arrays;\n",
            "import java.util.Random;\n",
            "\n",
            "public class Main\n",
            "{\n",
            "    public static void main(String[] args)\n",
            "    {\n",
            "        \/\/ Generate data\n",
            "        int arraySize = 32768;\n",
            "        int data[] = new int[arraySize];\n",
            "\n",
            "        Random rnd = new Random(0);\n",
            "        for (int c = 0; c &lt; arraySize; ++c)\n",
            "            data[c] = rnd.nextInt() % 256;\n",
            "\n",
            "        \/\/ !!! With this, the next loop runs faster\n",
            "        Arrays.sort(data);\n",
            "\n",
            "        \/\/ Test\n",
            "        long start = System.nanoTime();\n",
            "        long sum = 0;\n",
            "\n",
            "        for (int i = 0; i &lt; 100000; ++i)\n",
            "        {\n",
            "            \/\/ Primary loop\n",
            "            for (int c = 0; c &lt; arraySize; ++c)\n",
            "            {\n",
            "                if (data[c] &gt;= 128)\n",
            "                    sum += data[c];\n",
            "            }\n",
            "        }\n",
            "\n",
            "        System.out.println((System.nanoTime() - start) \/ 1000000000.0);\n",
            "        System.out.println(\"sum = \" + sum);\n",
            "    }\n",
            "}\n",
            "<\/code><\/pre>\n",
            "\n",
            "<p>With a somewhat similar but less extreme result.<\/p>\n",
            "\n",
            "<hr>\n",
            "\n",
            "<p>My first thought was that sorting brings the data into the cache, but then I thought how silly that is because the array was just generated.<\/p>\n",
            "\n",
            "<ul>\n",
            "<li>What is going on?<\/li>\n",
            "<li>Why is it faster to process a sorted array than an unsorted array?<\/li>\n",
            "<li>The code is summing up some independent terms, and the order should not matter.<\/li>\n",
            "<\/ul>\n",
            "\n"
          ],
          "output_type":"stream"
        }
      ],
      "metadata":{
        
      }
    },
    {
      "cell_type":"code",
      "source":[
        "# importando a biblioteca re\n",
        "import re\n",
        "re.findall(r\"<p>\", questao_portugues)"
      ],
      "execution_count":76,
      "outputs":[
        {
          "data":{
            "text\/plain":[
              "['<p>', '<p>', '<p>', '<p>']"
            ]
          },
          "metadata":{
            
          },
          "output_type":"display_data"
        }
      ],
      "metadata":{
        
      }
    },
    {
      "cell_type":"code",
      "source":[
        "re.findall(r\"<.*>\", questao_portugues)"
      ],
      "execution_count":77,
      "outputs":[
        {
          "data":{
            "text\/plain":[
              "['<p>Desenvolvi uma página em PHP para uso interno da empresa que trabalho e apenas pouquíssimas pessoas a utilizam. Através dessa página é possível fazer algumas consultas, inserções, alterações e remoções de dados de uma tabela em um banco de dados MySQL, porém eu acredito que meu código em PHP não está protegido contra injeção de código SQL, por exemplo:<\/p>',\n",
              " '<pre><code>',\n",
              " '<\/code><\/pre>',\n",
              " '<p>Logo, digamos que o usuário usar a sentença: <code>1); DROP TABLE Produtos;<\/code> para ao campo <code>valor<\/code> o comando ficaria: <\/p>',\n",
              " '<pre><code>',\n",
              " '<\/code><\/pre>',\n",
              " '<p>Ele vai inserir um novo registro cujo o campo <code>coluna<\/code> será <code>1<\/code> e logo em seguida ele vai deletar a tabela Produtos.<\/p>',\n",
              " '<p>Como posso melhorar meu código para prevenir essa situação?<\/p>']"
            ]
          },
          "metadata":{
            
          },
          "output_type":"display_data"
        }
      ],
      "metadata":{
        
      }
    },
    {
      "cell_type":"code",
      "source":[
        "re.findall(r\"<.*?>\", questao_portugues)"
      ],
      "execution_count":78,
      "outputs":[
        {
          "data":{
            "text\/plain":[
              "['<p>',\n",
              " '<\/p>',\n",
              " '<pre>',\n",
              " '<code>',\n",
              " '<\/code>',\n",
              " '<\/pre>',\n",
              " '<p>',\n",
              " '<code>',\n",
              " '<\/code>',\n",
              " '<code>',\n",
              " '<\/code>',\n",
              " '<\/p>',\n",
              " '<pre>',\n",
              " '<code>',\n",
              " '<\/code>',\n",
              " '<\/pre>',\n",
              " '<p>',\n",
              " '<code>',\n",
              " '<\/code>',\n",
              " '<code>',\n",
              " '<\/code>',\n",
              " '<\/p>',\n",
              " '<p>',\n",
              " '<\/p>']"
            ]
          },
          "metadata":{
            
          },
          "output_type":"display_data"
        }
      ],
      "metadata":{
        
      }
    },
    {
      "cell_type":"code",
      "source":[
        "texto_teste = re.sub(r\"<.*?>\",\"  T----E----S----T----E  \",questao_portugues)\n",
        "print(texto_teste)"
      ],
      "execution_count":79,
      "outputs":[
        {
          "name":"stdout",
          "text":[
            "  T----E----S----T----E  Desenvolvi uma página em PHP para uso interno da empresa que trabalho e apenas pouquíssimas pessoas a utilizam. Através dessa página é possível fazer algumas consultas, inserções, alterações e remoções de dados de uma tabela em um banco de dados MySQL, porém eu acredito que meu código em PHP não está protegido contra injeção de código SQL, por exemplo:  T----E----S----T----E  \n",
            "\n",
            "  T----E----S----T----E    T----E----S----T----E  \/\/----CONSULTA SQL----\/\/\n",
            "$busca = mysql_query ('insert into Produtos (coluna) values(' . $valor . ')');\n",
            "  T----E----S----T----E    T----E----S----T----E  \n",
            "\n",
            "  T----E----S----T----E  Logo, digamos que o usuário usar a sentença:   T----E----S----T----E  1); DROP TABLE Produtos;  T----E----S----T----E   para ao campo   T----E----S----T----E  valor  T----E----S----T----E   o comando ficaria:   T----E----S----T----E  \n",
            "\n",
            "  T----E----S----T----E    T----E----S----T----E  insert into Produtos (coluna) values(1); DROP TABLE Produtos;\n",
            "  T----E----S----T----E    T----E----S----T----E  \n",
            "\n",
            "  T----E----S----T----E  Ele vai inserir um novo registro cujo o campo   T----E----S----T----E  coluna  T----E----S----T----E   será   T----E----S----T----E  1  T----E----S----T----E   e logo em seguida ele vai deletar a tabela Produtos.  T----E----S----T----E  \n",
            "\n",
            "  T----E----S----T----E  Como posso melhorar meu código para prevenir essa situação?  T----E----S----T----E  \n",
            "\n"
          ],
          "output_type":"stream"
        }
      ],
      "metadata":{
        
      }
    },
    {
      "cell_type":"code",
      "source":[
        "re.search(r\"70\",\"18728736187263817628631872638716283670\")"
      ],
      "execution_count":80,
      "outputs":[
        {
          "data":{
            "text\/plain":[
              "<re.Match object; span=(36, 38), match='70'>"
            ]
          },
          "metadata":{
            
          },
          "output_type":"display_data"
        }
      ],
      "metadata":{
        
      }
    },
    {
      "cell_type":"code",
      "source":[
        "regex = re.compile(r\"70\")"
      ],
      "execution_count":81,
      "outputs":[
        
      ],
      "metadata":{
        
      }
    },
    {
      "cell_type":"code",
      "source":[
        "regex.search(\"18728736187263817628631872638716283670\")"
      ],
      "execution_count":82,
      "outputs":[
        {
          "data":{
            "text\/plain":[
              "<re.Match object; span=(36, 38), match='70'>"
            ]
          },
          "metadata":{
            
          },
          "output_type":"display_data"
        }
      ],
      "metadata":{
        
      }
    },
    {
      "cell_type":"code",
      "source":[
        "from timeit import timeit"
      ],
      "execution_count":83,
      "outputs":[
        
      ],
      "metadata":{
        
      }
    },
    {
      "cell_type":"code",
      "source":[
        "setup = \"\"\"import re\"\"\"\n",
        "timeit(\"\"\"re.search(r\"70\",\"18728736187263817628631872638716283670\")\"\"\", setup)"
      ],
      "execution_count":84,
      "outputs":[
        {
          "data":{
            "text\/plain":[
              "0.9514325100000178"
            ]
          },
          "metadata":{
            
          },
          "output_type":"display_data"
        }
      ],
      "metadata":{
        
      }
    },
    {
      "cell_type":"code",
      "source":[
        "setup = \"\"\"import re\"\"\"\n",
        "timeit(\"\"\"re.search(r\"70\",\"18728736187263817628631872638716283670\")\"\"\",setup)"
      ],
      "execution_count":85,
      "outputs":[
        {
          "data":{
            "text\/plain":[
              "0.9684285360000331"
            ]
          },
          "metadata":{
            
          },
          "output_type":"display_data"
        }
      ],
      "metadata":{
        
      }
    },
    {
      "cell_type":"code",
      "source":[
        "def remover(textos, regex):\n",
        "    if type(textos) == str:\n",
        "        return regex.sub(\"\", textos)\n",
        "    else:\n",
        "        return [regex.sub(\"\", texto) for texto in textos]"
      ],
      "execution_count":86,
      "outputs":[
        
      ],
      "metadata":{
        
      }
    },
    {
      "cell_type":"code",
      "source":[
        "regex_html = re.compile(r\"<.*?>\")\n",
        "questao_sem_tag = remover(questao_portugues, regex_html)\n",
        "print(questao_sem_tag)"
      ],
      "execution_count":87,
      "outputs":[
        {
          "name":"stdout",
          "text":[
            "Desenvolvi uma página em PHP para uso interno da empresa que trabalho e apenas pouquíssimas pessoas a utilizam. Através dessa página é possível fazer algumas consultas, inserções, alterações e remoções de dados de uma tabela em um banco de dados MySQL, porém eu acredito que meu código em PHP não está protegido contra injeção de código SQL, por exemplo:\n",
            "\n",
            "\/\/----CONSULTA SQL----\/\/\n",
            "$busca = mysql_query ('insert into Produtos (coluna) values(' . $valor . ')');\n",
            "\n",
            "\n",
            "Logo, digamos que o usuário usar a sentença: 1); DROP TABLE Produtos; para ao campo valor o comando ficaria: \n",
            "\n",
            "insert into Produtos (coluna) values(1); DROP TABLE Produtos;\n",
            "\n",
            "\n",
            "Ele vai inserir um novo registro cujo o campo coluna será 1 e logo em seguida ele vai deletar a tabela Produtos.\n",
            "\n",
            "Como posso melhorar meu código para prevenir essa situação?\n",
            "\n"
          ],
          "output_type":"stream"
        }
      ],
      "metadata":{
        
      }
    },
    {
      "cell_type":"code",
      "source":[
        "regex_html = re.compile(r\"<.*?>\")\n",
        "questao_sem_tag = remover(questao_espanhol, regex_html)\n",
        "print(questao_sem_tag)"
      ],
      "execution_count":88,
      "outputs":[
        {
          "name":"stdout",
          "text":[
            "Las sentencias dinámicas son sentencias SQL que se crean como cadenas de texto (strings) y en las que se insertan\/concatenan valores obtenidos de alguna fuente (normalmente proveniente del usuario), lo que puede hacer que sean vulnerables a inyección SQL si no se sanean las entradas, como por ejemplo:\n",
            "\n",
            "$id_usuario = $_POST[\"id\"];\n",
            "\n",
            "mysql_query(\"SELECT * FROM usuarios WHERE id = $id_usuario\");\n",
            "\n",
            "\n",
            "Eso es un ejemplo de una vulnerabilidad grave en la seguridad de una aplicación (web o no) porque si el usuario introdujese un valor como 1; DROP TABLE usuarios;-- nos encontraríamos con que la sentencia ejecutada sería:\n",
            "\n",
            "SELECT * FROM usuarios WHERE id = 1; DROP TABLE usuarios;--\n",
            "\n",
            "\n",
            "Y se eliminaría la tabla Usuarios con todos los datos contenidos en ella. \n",
            "\n",
            "¿Cómo puedo evitar que la inyección SQL ocurra en PHP?\n",
            "\n"
          ],
          "output_type":"stream"
        }
      ],
      "metadata":{
        
      }
    },
    {
      "cell_type":"code",
      "source":[
        "regex_html = re.compile(r\"<.*?>\")\n",
        "questao_sem_tag = remover(questao_ingles, regex_html)\n",
        "print(questao_sem_tag)"
      ],
      "execution_count":89,
      "outputs":[
        {
          "name":"stdout",
          "text":[
            "Here is a piece of C++ code that seems very peculiar. For some strange reason, sorting the data miraculously makes the code almost six times faster.\n",
            "\n",
            "#include &lt;algorithm&gt;\n",
            "#include &lt;ctime&gt;\n",
            "#include &lt;iostream&gt;\n",
            "\n",
            "int main()\n",
            "{\n",
            "    \/\/ Generate data\n",
            "    const unsigned arraySize = 32768;\n",
            "    int data[arraySize];\n",
            "\n",
            "    for (unsigned c = 0; c &lt; arraySize; ++c)\n",
            "        data[c] = std::rand() % 256;\n",
            "\n",
            "    \/\/ !!! With this, the next loop runs faster\n",
            "    std::sort(data, data + arraySize);\n",
            "\n",
            "    \/\/ Test\n",
            "    clock_t start = clock();\n",
            "    long long sum = 0;\n",
            "\n",
            "    for (unsigned i = 0; i &lt; 100000; ++i)\n",
            "    {\n",
            "        \/\/ Primary loop\n",
            "        for (unsigned c = 0; c &lt; arraySize; ++c)\n",
            "        {\n",
            "            if (data[c] &gt;= 128)\n",
            "                sum += data[c];\n",
            "        }\n",
            "    }\n",
            "\n",
            "    double elapsedTime = static_cast&lt;double&gt;(clock() - start) \/ CLOCKS_PER_SEC;\n",
            "\n",
            "    std::cout &lt;&lt; elapsedTime &lt;&lt; std::endl;\n",
            "    std::cout &lt;&lt; \"sum = \" &lt;&lt; sum &lt;&lt; std::endl;\n",
            "}\n",
            "\n",
            "\n",
            "\n",
            "Without std::sort(data, data + arraySize);, the code runs in 11.54 seconds.\n",
            "With the sorted data, the code runs in 1.93 seconds.\n",
            "\n",
            "\n",
            "Initially, I thought this might be just a language or compiler anomaly. So I tried it in Java.\n",
            "\n",
            "import java.util.Arrays;\n",
            "import java.util.Random;\n",
            "\n",
            "public class Main\n",
            "{\n",
            "    public static void main(String[] args)\n",
            "    {\n",
            "        \/\/ Generate data\n",
            "        int arraySize = 32768;\n",
            "        int data[] = new int[arraySize];\n",
            "\n",
            "        Random rnd = new Random(0);\n",
            "        for (int c = 0; c &lt; arraySize; ++c)\n",
            "            data[c] = rnd.nextInt() % 256;\n",
            "\n",
            "        \/\/ !!! With this, the next loop runs faster\n",
            "        Arrays.sort(data);\n",
            "\n",
            "        \/\/ Test\n",
            "        long start = System.nanoTime();\n",
            "        long sum = 0;\n",
            "\n",
            "        for (int i = 0; i &lt; 100000; ++i)\n",
            "        {\n",
            "            \/\/ Primary loop\n",
            "            for (int c = 0; c &lt; arraySize; ++c)\n",
            "            {\n",
            "                if (data[c] &gt;= 128)\n",
            "                    sum += data[c];\n",
            "            }\n",
            "        }\n",
            "\n",
            "        System.out.println((System.nanoTime() - start) \/ 1000000000.0);\n",
            "        System.out.println(\"sum = \" + sum);\n",
            "    }\n",
            "}\n",
            "\n",
            "\n",
            "With a somewhat similar but less extreme result.\n",
            "\n",
            "\n",
            "\n",
            "My first thought was that sorting brings the data into the cache, but then I thought how silly that is because the array was just generated.\n",
            "\n",
            "\n",
            "What is going on?\n",
            "Why is it faster to process a sorted array than an unsorted array?\n",
            "The code is summing up some independent terms, and the order should not matter.\n",
            "\n",
            "\n"
          ],
          "output_type":"stream"
        }
      ],
      "metadata":{
        
      }
    },
    {
      "cell_type":"code",
      "source":[
        "def substituir_codigo(textos, regex):\n",
        "    if type(textos) == str:\n",
        "        return regex.sub(\"CODE\", textos)\n",
        "    else:\n",
        "        return [regex.sub(\"CODE\", texto) for texto in textos]"
      ],
      "execution_count":90,
      "outputs":[
        
      ],
      "metadata":{
        
      }
    },
    {
      "cell_type":"code",
      "source":[
        "regex_code = re.compile(r\"<code>(.|(\\n))*?<\/code>\")"
      ],
      "execution_count":91,
      "outputs":[
        
      ],
      "metadata":{
        
      }
    },
    {
      "cell_type":"code",
      "source":[
        "questao_sem_code = substituir_codigo(questao_portugues, regex_code)\n",
        "print(questao_sem_code)"
      ],
      "execution_count":92,
      "outputs":[
        {
          "name":"stdout",
          "text":[
            "<p>Desenvolvi uma página em PHP para uso interno da empresa que trabalho e apenas pouquíssimas pessoas a utilizam. Através dessa página é possível fazer algumas consultas, inserções, alterações e remoções de dados de uma tabela em um banco de dados MySQL, porém eu acredito que meu código em PHP não está protegido contra injeção de código SQL, por exemplo:<\/p>\n",
            "\n",
            "<pre>CODE<\/pre>\n",
            "\n",
            "<p>Logo, digamos que o usuário usar a sentença: CODE para ao campo CODE o comando ficaria: <\/p>\n",
            "\n",
            "<pre>CODE<\/pre>\n",
            "\n",
            "<p>Ele vai inserir um novo registro cujo o campo CODE será CODE e logo em seguida ele vai deletar a tabela Produtos.<\/p>\n",
            "\n",
            "<p>Como posso melhorar meu código para prevenir essa situação?<\/p>\n",
            "\n"
          ],
          "output_type":"stream"
        }
      ],
      "metadata":{
        
      }
    },
    {
      "cell_type":"code",
      "source":[
        "questao_sem_code = substituir_codigo(questao_espanhol, regex_code)\n",
        "print(questao_sem_code)"
      ],
      "execution_count":93,
      "outputs":[
        {
          "name":"stdout",
          "text":[
            "<p>Las sentencias dinámicas son sentencias SQL que se crean como cadenas de texto (strings) y en las que se insertan\/concatenan valores obtenidos de alguna fuente (normalmente proveniente del usuario), lo que puede hacer que sean vulnerables a inyección SQL si no se sanean las entradas, como por ejemplo:<\/p>\n",
            "\n",
            "<pre>CODE<\/pre>\n",
            "\n",
            "<p>Eso es un ejemplo de una vulnerabilidad grave en la seguridad de una aplicación (web o no) porque si el usuario introdujese un valor como CODE nos encontraríamos con que la sentencia ejecutada sería:<\/p>\n",
            "\n",
            "<pre>CODE<\/pre>\n",
            "\n",
            "<p>Y se eliminaría la tabla Usuarios con todos los datos contenidos en ella. <\/p>\n",
            "\n",
            "<p><strong>¿Cómo puedo evitar que la inyección SQL ocurra en PHP?<\/strong><\/p>\n",
            "\n"
          ],
          "output_type":"stream"
        }
      ],
      "metadata":{
        
      }
    },
    {
      "cell_type":"code",
      "source":[
        "questao_sem_code = substituir_codigo(questao_ingles, regex_code)\n",
        "print(questao_sem_code)"
      ],
      "execution_count":94,
      "outputs":[
        {
          "name":"stdout",
          "text":[
            "<p>Here is a piece of C++ code that seems very peculiar. For some strange reason, sorting the data miraculously makes the code almost six times faster.<\/p>\n",
            "\n",
            "<pre class=\"lang-cpp prettyprint-override\">CODE<\/pre>\n",
            "\n",
            "<ul>\n",
            "<li>Without CODE, the code runs in 11.54 seconds.<\/li>\n",
            "<li>With the sorted data, the code runs in 1.93 seconds.<\/li>\n",
            "<\/ul>\n",
            "\n",
            "<p>Initially, I thought this might be just a language or compiler anomaly. So I tried it in Java.<\/p>\n",
            "\n",
            "<pre class=\"lang-java prettyprint-override\">CODE<\/pre>\n",
            "\n",
            "<p>With a somewhat similar but less extreme result.<\/p>\n",
            "\n",
            "<hr>\n",
            "\n",
            "<p>My first thought was that sorting brings the data into the cache, but then I thought how silly that is because the array was just generated.<\/p>\n",
            "\n",
            "<ul>\n",
            "<li>What is going on?<\/li>\n",
            "<li>Why is it faster to process a sorted array than an unsorted array?<\/li>\n",
            "<li>The code is summing up some independent terms, and the order should not matter.<\/li>\n",
            "<\/ul>\n",
            "\n"
          ],
          "output_type":"stream"
        }
      ],
      "metadata":{
        
      }
    },
    {
      "cell_type":"code",
      "source":[
        "questoes_port_sem_code = substituir_codigo(dados_portugues.Questão, regex_code)\n",
        "questoes_port_sem_code_tag = remover(questoes_port_sem_code, regex_html)\n",
        "dados_portugues[\"sem_code_tag\"] = questoes_port_sem_code_tag\n",
        "dados_portugues.head()"
      ],
      "execution_count":95,
      "outputs":[
        {
          "data":{
            "text\/html":[
              "<div>\n",
              "<style scoped>\n",
              "    .dataframe tbody tr th:only-of-type {\n",
              "        vertical-align: middle;\n",
              "    }\n",
              "\n",
              "    .dataframe tbody tr th {\n",
              "        vertical-align: top;\n",
              "    }\n",
              "\n",
              "    .dataframe thead th {\n",
              "        text-align: right;\n",
              "    }\n",
              "<\/style>\n",
              "<table border=\"1\" class=\"dataframe\">\n",
              "  <thead>\n",
              "    <tr style=\"text-align: right;\">\n",
              "      <th><\/th>\n",
              "      <th>Id<\/th>\n",
              "      <th>Título<\/th>\n",
              "      <th>Questão<\/th>\n",
              "      <th>Tags<\/th>\n",
              "      <th>Pontuação<\/th>\n",
              "      <th>Visualizações<\/th>\n",
              "      <th>sem_code_tag<\/th>\n",
              "    <\/tr>\n",
              "  <\/thead>\n",
              "  <tbody>\n",
              "    <tr>\n",
              "      <th>0<\/th>\n",
              "      <td>2402<\/td>\n",
              "      <td>Como fazer hash de senhas de forma segura?<\/td>\n",
              "      <td>&lt;p&gt;Se eu fizer o &lt;em&gt;&lt;a href=\"http:\/\/pt.wikipe...<\/td>\n",
              "      <td>&lt;hash&gt;&lt;segurança&gt;&lt;senhas&gt;&lt;criptografia&gt;<\/td>\n",
              "      <td>350<\/td>\n",
              "      <td>22367<\/td>\n",
              "      <td>Se eu fizer o hash de senhas antes de armazená...<\/td>\n",
              "    <\/tr>\n",
              "    <tr>\n",
              "      <th>1<\/th>\n",
              "      <td>6441<\/td>\n",
              "      <td>Qual é a diferença entre INNER JOIN e OUTER JOIN?<\/td>\n",
              "      <td>&lt;p&gt;Qual é a diferença entre &lt;code&gt;INNER JOIN&lt;\/...<\/td>\n",
              "      <td>&lt;sql&gt;&lt;join&gt;<\/td>\n",
              "      <td>276<\/td>\n",
              "      <td>176953<\/td>\n",
              "      <td>Qual é a diferença entre CODE e CODE? Podem me...<\/td>\n",
              "    <\/tr>\n",
              "    <tr>\n",
              "      <th>2<\/th>\n",
              "      <td>579<\/td>\n",
              "      <td>Por que não devemos usar funções do tipo mysql_*?<\/td>\n",
              "      <td>&lt;p&gt;Uma dúvida muito comum é por que devemos pa...<\/td>\n",
              "      <td>&lt;php&gt;&lt;mysql&gt;<\/td>\n",
              "      <td>226<\/td>\n",
              "      <td>9761<\/td>\n",
              "      <td>Uma dúvida muito comum é por que devemos parar...<\/td>\n",
              "    <\/tr>\n",
              "    <tr>\n",
              "      <th>3<\/th>\n",
              "      <td>2539<\/td>\n",
              "      <td>As mensagens de erro devem se desculpar?<\/td>\n",
              "      <td>&lt;p&gt;É comum encontrar uma mensagem de erro que ...<\/td>\n",
              "      <td>&lt;aplicação-web&gt;&lt;gui&gt;&lt;console&gt;&lt;ux&gt;<\/td>\n",
              "      <td>214<\/td>\n",
              "      <td>5075<\/td>\n",
              "      <td>É comum encontrar uma mensagem de erro que diz...<\/td>\n",
              "    <\/tr>\n",
              "    <tr>\n",
              "      <th>4<\/th>\n",
              "      <td>17501<\/td>\n",
              "      <td>Qual é a diferença de API, biblioteca e Framew...<\/td>\n",
              "      <td>&lt;p&gt;Me parecem termos muito próximos e eventual...<\/td>\n",
              "      <td>&lt;api&gt;&lt;framework&gt;&lt;terminologia&gt;&lt;biblioteca&gt;<\/td>\n",
              "      <td>193<\/td>\n",
              "      <td>54191<\/td>\n",
              "      <td>Me parecem termos muito próximos e eventualmen...<\/td>\n",
              "    <\/tr>\n",
              "  <\/tbody>\n",
              "<\/table>\n",
              "<\/div>"
            ]
          },
          "metadata":{
            
          },
          "output_type":"display_data"
        }
      ],
      "metadata":{
        
      }
    },
    {
      "cell_type":"code",
      "source":[
        "questoes_esp_sem_code = substituir_codigo(dados_espanhol.Questão, regex_code)\n",
        "questoes_esp_sem_code_tag = remover(questoes_esp_sem_code, regex_html)\n",
        "dados_espanhol[\"sem_code_tag\"] = questoes_esp_sem_code_tag\n",
        "dados_espanhol.head()"
      ],
      "execution_count":96,
      "outputs":[
        {
          "data":{
            "text\/html":[
              "<div>\n",
              "<style scoped>\n",
              "    .dataframe tbody tr th:only-of-type {\n",
              "        vertical-align: middle;\n",
              "    }\n",
              "\n",
              "    .dataframe tbody tr th {\n",
              "        vertical-align: top;\n",
              "    }\n",
              "\n",
              "    .dataframe thead th {\n",
              "        text-align: right;\n",
              "    }\n",
              "<\/style>\n",
              "<table border=\"1\" class=\"dataframe\">\n",
              "  <thead>\n",
              "    <tr style=\"text-align: right;\">\n",
              "      <th><\/th>\n",
              "      <th>Id<\/th>\n",
              "      <th>Título<\/th>\n",
              "      <th>Questão<\/th>\n",
              "      <th>Tags<\/th>\n",
              "      <th>Pontuação<\/th>\n",
              "      <th>Visualizações<\/th>\n",
              "      <th>sem_code_tag<\/th>\n",
              "    <\/tr>\n",
              "  <\/thead>\n",
              "  <tbody>\n",
              "    <tr>\n",
              "      <th>0<\/th>\n",
              "      <td>18232<\/td>\n",
              "      <td>¿Cómo evitar la inyección SQL en PHP?<\/td>\n",
              "      <td>&lt;p&gt;Las sentencias dinámicas son sentencias SQL...<\/td>\n",
              "      <td>&lt;php&gt;&lt;mysql&gt;&lt;sql&gt;&lt;seguridad&gt;&lt;inyección-sql&gt;<\/td>\n",
              "      <td>169<\/td>\n",
              "      <td>38614<\/td>\n",
              "      <td>Las sentencias dinámicas son sentencias SQL qu...<\/td>\n",
              "    <\/tr>\n",
              "    <tr>\n",
              "      <th>1<\/th>\n",
              "      <td>197<\/td>\n",
              "      <td>¿Por qué mis programas no pueden hacer cálculo...<\/td>\n",
              "      <td>&lt;p&gt;Unas veces los cálculos funcionan correctam...<\/td>\n",
              "      <td>&lt;matemáticas&gt;&lt;coma-flotante&gt;&lt;lenguaje-agnóstico&gt;<\/td>\n",
              "      <td>141<\/td>\n",
              "      <td>3860<\/td>\n",
              "      <td>Unas veces los cálculos funcionan correctament...<\/td>\n",
              "    <\/tr>\n",
              "    <tr>\n",
              "      <th>2<\/th>\n",
              "      <td>36<\/td>\n",
              "      <td>¿Cuál es la diferencia entre un inner y un out...<\/td>\n",
              "      <td>&lt;p&gt;¿Cuál es la diferencia entre un &lt;code&gt;inner...<\/td>\n",
              "      <td>&lt;mysql&gt;&lt;sql&gt;&lt;join&gt;<\/td>\n",
              "      <td>97<\/td>\n",
              "      <td>53627<\/td>\n",
              "      <td>¿Cuál es la diferencia entre un CODE y un CODE...<\/td>\n",
              "    <\/tr>\n",
              "    <tr>\n",
              "      <th>3<\/th>\n",
              "      <td>29177<\/td>\n",
              "      <td>¿Por qué es considerado una mala práctica util...<\/td>\n",
              "      <td>&lt;p&gt;La mayoría de nosotros decimos, (muchas vec...<\/td>\n",
              "      <td>&lt;variables&gt;&lt;variables-globales&gt;&lt;patrones-de-di...<\/td>\n",
              "      <td>89<\/td>\n",
              "      <td>9987<\/td>\n",
              "      <td>La mayoría de nosotros decimos, (muchas veces ...<\/td>\n",
              "    <\/tr>\n",
              "    <tr>\n",
              "      <th>4<\/th>\n",
              "      <td>142<\/td>\n",
              "      <td>Validar un email en JavaScript que acepte todo...<\/td>\n",
              "      <td>&lt;h3&gt;Pregunta&lt;\/h3&gt;\\n\\n&lt;p&gt;¿Cómo validar un e-mai...<\/td>\n",
              "      <td>&lt;javascript&gt;&lt;validación&gt;&lt;email&gt;&lt;regex&gt;<\/td>\n",
              "      <td>87<\/td>\n",
              "      <td>73129<\/td>\n",
              "      <td>Pregunta\\n\\n¿Cómo validar un e-mail que acepte...<\/td>\n",
              "    <\/tr>\n",
              "  <\/tbody>\n",
              "<\/table>\n",
              "<\/div>"
            ]
          },
          "metadata":{
            
          },
          "output_type":"display_data"
        }
      ],
      "metadata":{
        
      }
    },
    {
      "cell_type":"code",
      "source":[
        "questoes_ing_sem_code = substituir_codigo(dados_ingles.Questão, regex_code)\n",
        "questoes_ing_sem_code_tag = remover(questoes_ing_sem_code, regex_html)\n",
        "dados_ingles[\"sem_code_tag\"] = questoes_ing_sem_code_tag\n",
        "dados_ingles.head()"
      ],
      "execution_count":97,
      "outputs":[
        {
          "data":{
            "text\/html":[
              "<div>\n",
              "<style scoped>\n",
              "    .dataframe tbody tr th:only-of-type {\n",
              "        vertical-align: middle;\n",
              "    }\n",
              "\n",
              "    .dataframe tbody tr th {\n",
              "        vertical-align: top;\n",
              "    }\n",
              "\n",
              "    .dataframe thead th {\n",
              "        text-align: right;\n",
              "    }\n",
              "<\/style>\n",
              "<table border=\"1\" class=\"dataframe\">\n",
              "  <thead>\n",
              "    <tr style=\"text-align: right;\">\n",
              "      <th><\/th>\n",
              "      <th>Id<\/th>\n",
              "      <th>Título<\/th>\n",
              "      <th>Questão<\/th>\n",
              "      <th>Tags<\/th>\n",
              "      <th>Pontuação<\/th>\n",
              "      <th>Visualizações<\/th>\n",
              "      <th>sem_code_tag<\/th>\n",
              "    <\/tr>\n",
              "  <\/thead>\n",
              "  <tbody>\n",
              "    <tr>\n",
              "      <th>0<\/th>\n",
              "      <td>11227809<\/td>\n",
              "      <td>Why is it faster to process a sorted array tha...<\/td>\n",
              "      <td>&lt;p&gt;Here is a piece of C++ code that seems very...<\/td>\n",
              "      <td>&lt;java&gt;&lt;c++&gt;&lt;performance&gt;&lt;optimization&gt;&lt;branch-...<\/td>\n",
              "      <td>23057<\/td>\n",
              "      <td>1358574<\/td>\n",
              "      <td>Here is a piece of C++ code that seems very pe...<\/td>\n",
              "    <\/tr>\n",
              "    <tr>\n",
              "      <th>1<\/th>\n",
              "      <td>927358<\/td>\n",
              "      <td>How do I undo the most recent local commits in...<\/td>\n",
              "      <td>&lt;p&gt;I accidentally committed the wrong files to...<\/td>\n",
              "      <td>&lt;git&gt;&lt;version-control&gt;&lt;git-commit&gt;&lt;undo&gt;<\/td>\n",
              "      <td>19640<\/td>\n",
              "      <td>7906137<\/td>\n",
              "      <td>I accidentally committed the wrong files to Gi...<\/td>\n",
              "    <\/tr>\n",
              "    <tr>\n",
              "      <th>2<\/th>\n",
              "      <td>2003505<\/td>\n",
              "      <td>How do I delete a Git branch locally and remot...<\/td>\n",
              "      <td>&lt;p&gt;I want to delete a branch both locally and ...<\/td>\n",
              "      <td>&lt;git&gt;&lt;git-branch&gt;&lt;git-remote&gt;<\/td>\n",
              "      <td>15249<\/td>\n",
              "      <td>6940906<\/td>\n",
              "      <td>I want to delete a branch both locally and rem...<\/td>\n",
              "    <\/tr>\n",
              "    <tr>\n",
              "      <th>3<\/th>\n",
              "      <td>292357<\/td>\n",
              "      <td>What is the difference between 'git pull' and ...<\/td>\n",
              "      <td>&lt;blockquote&gt;\\n  &lt;p&gt;&lt;strong&gt;Moderator Note:&lt;\/st...<\/td>\n",
              "      <td>&lt;git&gt;&lt;git-pull&gt;&lt;git-fetch&gt;<\/td>\n",
              "      <td>11008<\/td>\n",
              "      <td>2543052<\/td>\n",
              "      <td>\\n  Moderator Note: Given that this question h...<\/td>\n",
              "    <\/tr>\n",
              "    <tr>\n",
              "      <th>4<\/th>\n",
              "      <td>477816<\/td>\n",
              "      <td>What is the correct JSON content type?<\/td>\n",
              "      <td>&lt;p&gt;I've been messing around with &lt;a href=\"http...<\/td>\n",
              "      <td>&lt;json&gt;&lt;http-headers&gt;&lt;content-type&gt;<\/td>\n",
              "      <td>9701<\/td>\n",
              "      <td>2478940<\/td>\n",
              "      <td>I've been messing around with JSON for some ti...<\/td>\n",
              "    <\/tr>\n",
              "  <\/tbody>\n",
              "<\/table>\n",
              "<\/div>"
            ]
          },
          "metadata":{
            
          },
          "output_type":"display_data"
        }
      ],
      "metadata":{
        
      }
    },
    {
      "cell_type":"code",
      "source":[
        "print(dados_espanhol.sem_code_tag[0])"
      ],
      "execution_count":98,
      "outputs":[
        {
          "name":"stdout",
          "text":[
            "Las sentencias dinámicas son sentencias SQL que se crean como cadenas de texto (strings) y en las que se insertan\/concatenan valores obtenidos de alguna fuente (normalmente proveniente del usuario), lo que puede hacer que sean vulnerables a inyección SQL si no se sanean las entradas, como por ejemplo:\n",
            "\n",
            "CODE\n",
            "\n",
            "Eso es un ejemplo de una vulnerabilidad grave en la seguridad de una aplicación (web o no) porque si el usuario introdujese un valor como CODE nos encontraríamos con que la sentencia ejecutada sería:\n",
            "\n",
            "CODE\n",
            "\n",
            "Y se eliminaría la tabla Usuarios con todos los datos contenidos en ella. \n",
            "\n",
            "¿Cómo puedo evitar que la inyección SQL ocurra en PHP?\n",
            "\n"
          ],
          "output_type":"stream"
        }
      ],
      "metadata":{
        
      }
    },
    {
      "cell_type":"code",
      "source":[
        "regex_pontuacao = re.compile(r\"[^\\w\\s]\")\n",
        "print(remover(questoes_ing_sem_code_tag[0], regex_pontuacao))"
      ],
      "execution_count":99,
      "outputs":[
        {
          "name":"stdout",
          "text":[
            "Here is a piece of C code that seems very peculiar For some strange reason sorting the data miraculously makes the code almost six times faster\n",
            "\n",
            "CODE\n",
            "\n",
            "\n",
            "Without CODE the code runs in 1154 seconds\n",
            "With the sorted data the code runs in 193 seconds\n",
            "\n",
            "\n",
            "Initially I thought this might be just a language or compiler anomaly So I tried it in Java\n",
            "\n",
            "CODE\n",
            "\n",
            "With a somewhat similar but less extreme result\n",
            "\n",
            "\n",
            "\n",
            "My first thought was that sorting brings the data into the cache but then I thought how silly that is because the array was just generated\n",
            "\n",
            "\n",
            "What is going on\n",
            "Why is it faster to process a sorted array than an unsorted array\n",
            "The code is summing up some independent terms and the order should not matter\n",
            "\n",
            "\n"
          ],
          "output_type":"stream"
        }
      ],
      "metadata":{
        
      }
    },
    {
      "cell_type":"code",
      "source":[
        "regex_pontuacao = re.compile(r\"[^\\w\\s]\")\n",
        "print(remover(questoes_esp_sem_code_tag[0], regex_pontuacao))"
      ],
      "execution_count":100,
      "outputs":[
        {
          "name":"stdout",
          "text":[
            "Las sentencias dinámicas son sentencias SQL que se crean como cadenas de texto strings y en las que se insertanconcatenan valores obtenidos de alguna fuente normalmente proveniente del usuario lo que puede hacer que sean vulnerables a inyección SQL si no se sanean las entradas como por ejemplo\n",
            "\n",
            "CODE\n",
            "\n",
            "Eso es un ejemplo de una vulnerabilidad grave en la seguridad de una aplicación web o no porque si el usuario introdujese un valor como CODE nos encontraríamos con que la sentencia ejecutada sería\n",
            "\n",
            "CODE\n",
            "\n",
            "Y se eliminaría la tabla Usuarios con todos los datos contenidos en ella \n",
            "\n",
            "Cómo puedo evitar que la inyección SQL ocurra en PHP\n",
            "\n"
          ],
          "output_type":"stream"
        }
      ],
      "metadata":{
        
      }
    },
    {
      "cell_type":"code",
      "source":[
        "def minusculo(textos):\n",
        "    if type(textos) == str:\n",
        "        return textos.lower()\n",
        "    else:\n",
        "        return [texto.lower() for texto in textos]"
      ],
      "execution_count":101,
      "outputs":[
        
      ],
      "metadata":{
        
      }
    },
    {
      "cell_type":"code",
      "source":[
        "print(minusculo(questoes_esp_sem_code_tag[0]))"
      ],
      "execution_count":102,
      "outputs":[
        {
          "name":"stdout",
          "text":[
            "las sentencias dinámicas son sentencias sql que se crean como cadenas de texto (strings) y en las que se insertan\/concatenan valores obtenidos de alguna fuente (normalmente proveniente del usuario), lo que puede hacer que sean vulnerables a inyección sql si no se sanean las entradas, como por ejemplo:\n",
            "\n",
            "code\n",
            "\n",
            "eso es un ejemplo de una vulnerabilidad grave en la seguridad de una aplicación (web o no) porque si el usuario introdujese un valor como code nos encontraríamos con que la sentencia ejecutada sería:\n",
            "\n",
            "code\n",
            "\n",
            "y se eliminaría la tabla usuarios con todos los datos contenidos en ella. \n",
            "\n",
            "¿cómo puedo evitar que la inyección sql ocurra en php?\n",
            "\n"
          ],
          "output_type":"stream"
        }
      ],
      "metadata":{
        
      }
    },
    {
      "cell_type":"code",
      "source":[
        "regex_num = re.compile(r\"\\d+\")\n",
        "print(remover(\"Ronald 1234, Toddy 2015\", regex_num))"
      ],
      "execution_count":103,
      "outputs":[
        {
          "name":"stdout",
          "text":[
            "Ronald , Toddy \n"
          ],
          "output_type":"stream"
        }
      ],
      "metadata":{
        
      }
    },
    {
      "cell_type":"code",
      "source":[
        "regex_espaco = re.compile(r\" +\")\n",
        "regex_quebra_linha = re.compile(r\"(\\n)\")\n",
        "def substituir_por_espaco(textos, regex):\n",
        "    if type(textos) == str:\n",
        "        return regex.sub(\" \", textos)\n",
        "    else:\n",
        "        return [regex.sub(\" \", texto) for texto in textos]"
      ],
      "execution_count":104,
      "outputs":[
        
      ],
      "metadata":{
        
      }
    },
    {
      "cell_type":"code",
      "source":[
        "r = substituir_por_espaco(\"Ronald \\n\\n          Pio\", regex_quebra_linha)\n",
        "print(r)"
      ],
      "execution_count":105,
      "outputs":[
        {
          "name":"stdout",
          "text":[
            "Ronald             Pio\n"
          ],
          "output_type":"stream"
        }
      ],
      "metadata":{
        
      }
    },
    {
      "cell_type":"code",
      "source":[
        "print(substituir_por_espaco(r, regex_espaco))\n",
        "print(r)"
      ],
      "execution_count":106,
      "outputs":[
        {
          "name":"stdout",
          "text":[
            "Ronald Pio\n",
            "Ronald             Pio\n"
          ],
          "output_type":"stream"
        }
      ],
      "metadata":{
        
      }
    },
    {
      "cell_type":"code",
      "source":[
        "quest_pt_sem_pont = remover(dados_portugues.sem_code_tag, regex_pontuacao)\n",
        "quest_pt_sem_pont_minus = minusculo(quest_pt_sem_pont)\n",
        "quest_pt_sem_pont_mi_dig = remover(quest_pt_sem_pont_minus, regex_num)\n",
        "quest_pt_sem_pont_mi_sem_esp = substituir_por_espaco(quest_pt_sem_pont_mi_dig, regex_espaco)\n",
        "quest_pt_sem_pont_mi_sem_quebra = substituir_por_espaco(quest_pt_sem_pont_mi_sem_esp, regex_quebra_linha)"
      ],
      "execution_count":107,
      "outputs":[
        
      ],
      "metadata":{
        
      }
    },
    {
      "cell_type":"code",
      "source":[
        "dados_portugues[\"questoes_tratadas\"] = quest_pt_sem_pont_mi_sem_quebra"
      ],
      "execution_count":108,
      "outputs":[
        
      ],
      "metadata":{
        
      }
    },
    {
      "cell_type":"code",
      "source":[
        "dados_portugues.head()"
      ],
      "execution_count":109,
      "outputs":[
        {
          "data":{
            "text\/html":[
              "<div>\n",
              "<style scoped>\n",
              "    .dataframe tbody tr th:only-of-type {\n",
              "        vertical-align: middle;\n",
              "    }\n",
              "\n",
              "    .dataframe tbody tr th {\n",
              "        vertical-align: top;\n",
              "    }\n",
              "\n",
              "    .dataframe thead th {\n",
              "        text-align: right;\n",
              "    }\n",
              "<\/style>\n",
              "<table border=\"1\" class=\"dataframe\">\n",
              "  <thead>\n",
              "    <tr style=\"text-align: right;\">\n",
              "      <th><\/th>\n",
              "      <th>Id<\/th>\n",
              "      <th>Título<\/th>\n",
              "      <th>Questão<\/th>\n",
              "      <th>Tags<\/th>\n",
              "      <th>Pontuação<\/th>\n",
              "      <th>Visualizações<\/th>\n",
              "      <th>sem_code_tag<\/th>\n",
              "      <th>questoes_tratadas<\/th>\n",
              "    <\/tr>\n",
              "  <\/thead>\n",
              "  <tbody>\n",
              "    <tr>\n",
              "      <th>0<\/th>\n",
              "      <td>2402<\/td>\n",
              "      <td>Como fazer hash de senhas de forma segura?<\/td>\n",
              "      <td>&lt;p&gt;Se eu fizer o &lt;em&gt;&lt;a href=\"http:\/\/pt.wikipe...<\/td>\n",
              "      <td>&lt;hash&gt;&lt;segurança&gt;&lt;senhas&gt;&lt;criptografia&gt;<\/td>\n",
              "      <td>350<\/td>\n",
              "      <td>22367<\/td>\n",
              "      <td>Se eu fizer o hash de senhas antes de armazená...<\/td>\n",
              "      <td>se eu fizer o hash de senhas antes de armazená...<\/td>\n",
              "    <\/tr>\n",
              "    <tr>\n",
              "      <th>1<\/th>\n",
              "      <td>6441<\/td>\n",
              "      <td>Qual é a diferença entre INNER JOIN e OUTER JOIN?<\/td>\n",
              "      <td>&lt;p&gt;Qual é a diferença entre &lt;code&gt;INNER JOIN&lt;\/...<\/td>\n",
              "      <td>&lt;sql&gt;&lt;join&gt;<\/td>\n",
              "      <td>276<\/td>\n",
              "      <td>176953<\/td>\n",
              "      <td>Qual é a diferença entre CODE e CODE? Podem me...<\/td>\n",
              "      <td>qual é a diferença entre code e code podem me ...<\/td>\n",
              "    <\/tr>\n",
              "    <tr>\n",
              "      <th>2<\/th>\n",
              "      <td>579<\/td>\n",
              "      <td>Por que não devemos usar funções do tipo mysql_*?<\/td>\n",
              "      <td>&lt;p&gt;Uma dúvida muito comum é por que devemos pa...<\/td>\n",
              "      <td>&lt;php&gt;&lt;mysql&gt;<\/td>\n",
              "      <td>226<\/td>\n",
              "      <td>9761<\/td>\n",
              "      <td>Uma dúvida muito comum é por que devemos parar...<\/td>\n",
              "      <td>uma dúvida muito comum é por que devemos parar...<\/td>\n",
              "    <\/tr>\n",
              "    <tr>\n",
              "      <th>3<\/th>\n",
              "      <td>2539<\/td>\n",
              "      <td>As mensagens de erro devem se desculpar?<\/td>\n",
              "      <td>&lt;p&gt;É comum encontrar uma mensagem de erro que ...<\/td>\n",
              "      <td>&lt;aplicação-web&gt;&lt;gui&gt;&lt;console&gt;&lt;ux&gt;<\/td>\n",
              "      <td>214<\/td>\n",
              "      <td>5075<\/td>\n",
              "      <td>É comum encontrar uma mensagem de erro que diz...<\/td>\n",
              "      <td>é comum encontrar uma mensagem de erro que diz...<\/td>\n",
              "    <\/tr>\n",
              "    <tr>\n",
              "      <th>4<\/th>\n",
              "      <td>17501<\/td>\n",
              "      <td>Qual é a diferença de API, biblioteca e Framew...<\/td>\n",
              "      <td>&lt;p&gt;Me parecem termos muito próximos e eventual...<\/td>\n",
              "      <td>&lt;api&gt;&lt;framework&gt;&lt;terminologia&gt;&lt;biblioteca&gt;<\/td>\n",
              "      <td>193<\/td>\n",
              "      <td>54191<\/td>\n",
              "      <td>Me parecem termos muito próximos e eventualmen...<\/td>\n",
              "      <td>me parecem termos muito próximos e eventualmen...<\/td>\n",
              "    <\/tr>\n",
              "  <\/tbody>\n",
              "<\/table>\n",
              "<\/div>"
            ]
          },
          "metadata":{
            
          },
          "output_type":"display_data"
        }
      ],
      "metadata":{
        
      }
    },
    {
      "cell_type":"code",
      "source":[
        "dados_portugues.questoes_tratadas[0]"
      ],
      "execution_count":110,
      "outputs":[
        {
          "data":{
            "text\/plain":[
              "'se eu fizer o hash de senhas antes de armazenálas em meu banco de dados é suficiente para evitar que elas sejam recuperadas por alguém  estou falando apenas da recuperação diretamente do banco de dados e não qualquer outro tipo de ataque como força bruta na página de login da aplicação keylogger no cliente e criptoanálise rubberhose qualquer forma de hash não vai impedir esses ataques  tenho preocupação em dificultar ou até impossibilitar a obtenção das senhas originais caso o banco de dados seja comprometido como dar maior garantia de segurança neste aspecto  quais preocupações adicionais evitariam o acesso às senhas existem formas melhores de fazer esse hash '"
            ]
          },
          "metadata":{
            
          },
          "output_type":"display_data"
        }
      ],
      "metadata":{
        
      }
    },
    {
      "cell_type":"code",
      "source":[
        "quest_ing_sem_pont = remover(dados_ingles.sem_code_tag, regex_pontuacao)\n",
        "quest_ing_sem_pont_minus = minusculo(quest_ing_sem_pont)\n",
        "quest_ing_sem_pont_mi_dig = remover(quest_ing_sem_pont_minus, regex_num)\n",
        "quest_ing_sem_pont_mi_sem_esp = substituir_por_espaco(quest_ing_sem_pont_mi_dig, regex_espaco)\n",
        "quest_ing_sem_pont_mi_sem_quebra = substituir_por_espaco(quest_ing_sem_pont_mi_sem_esp, regex_quebra_linha)"
      ],
      "execution_count":111,
      "outputs":[
        
      ],
      "metadata":{
        
      }
    },
    {
      "cell_type":"code",
      "source":[
        "dados_ingles[\"questoes_tratadas\"] = quest_ing_sem_pont_mi_sem_quebra"
      ],
      "execution_count":112,
      "outputs":[
        
      ],
      "metadata":{
        
      }
    },
    {
      "cell_type":"code",
      "source":[
        "dados_ingles.head()"
      ],
      "execution_count":113,
      "outputs":[
        {
          "data":{
            "text\/html":[
              "<div>\n",
              "<style scoped>\n",
              "    .dataframe tbody tr th:only-of-type {\n",
              "        vertical-align: middle;\n",
              "    }\n",
              "\n",
              "    .dataframe tbody tr th {\n",
              "        vertical-align: top;\n",
              "    }\n",
              "\n",
              "    .dataframe thead th {\n",
              "        text-align: right;\n",
              "    }\n",
              "<\/style>\n",
              "<table border=\"1\" class=\"dataframe\">\n",
              "  <thead>\n",
              "    <tr style=\"text-align: right;\">\n",
              "      <th><\/th>\n",
              "      <th>Id<\/th>\n",
              "      <th>Título<\/th>\n",
              "      <th>Questão<\/th>\n",
              "      <th>Tags<\/th>\n",
              "      <th>Pontuação<\/th>\n",
              "      <th>Visualizações<\/th>\n",
              "      <th>sem_code_tag<\/th>\n",
              "      <th>questoes_tratadas<\/th>\n",
              "    <\/tr>\n",
              "  <\/thead>\n",
              "  <tbody>\n",
              "    <tr>\n",
              "      <th>0<\/th>\n",
              "      <td>11227809<\/td>\n",
              "      <td>Why is it faster to process a sorted array tha...<\/td>\n",
              "      <td>&lt;p&gt;Here is a piece of C++ code that seems very...<\/td>\n",
              "      <td>&lt;java&gt;&lt;c++&gt;&lt;performance&gt;&lt;optimization&gt;&lt;branch-...<\/td>\n",
              "      <td>23057<\/td>\n",
              "      <td>1358574<\/td>\n",
              "      <td>Here is a piece of C++ code that seems very pe...<\/td>\n",
              "      <td>here is a piece of c code that seems very pecu...<\/td>\n",
              "    <\/tr>\n",
              "    <tr>\n",
              "      <th>1<\/th>\n",
              "      <td>927358<\/td>\n",
              "      <td>How do I undo the most recent local commits in...<\/td>\n",
              "      <td>&lt;p&gt;I accidentally committed the wrong files to...<\/td>\n",
              "      <td>&lt;git&gt;&lt;version-control&gt;&lt;git-commit&gt;&lt;undo&gt;<\/td>\n",
              "      <td>19640<\/td>\n",
              "      <td>7906137<\/td>\n",
              "      <td>I accidentally committed the wrong files to Gi...<\/td>\n",
              "      <td>i accidentally committed the wrong files to gi...<\/td>\n",
              "    <\/tr>\n",
              "    <tr>\n",
              "      <th>2<\/th>\n",
              "      <td>2003505<\/td>\n",
              "      <td>How do I delete a Git branch locally and remot...<\/td>\n",
              "      <td>&lt;p&gt;I want to delete a branch both locally and ...<\/td>\n",
              "      <td>&lt;git&gt;&lt;git-branch&gt;&lt;git-remote&gt;<\/td>\n",
              "      <td>15249<\/td>\n",
              "      <td>6940906<\/td>\n",
              "      <td>I want to delete a branch both locally and rem...<\/td>\n",
              "      <td>i want to delete a branch both locally and rem...<\/td>\n",
              "    <\/tr>\n",
              "    <tr>\n",
              "      <th>3<\/th>\n",
              "      <td>292357<\/td>\n",
              "      <td>What is the difference between 'git pull' and ...<\/td>\n",
              "      <td>&lt;blockquote&gt;\\n  &lt;p&gt;&lt;strong&gt;Moderator Note:&lt;\/st...<\/td>\n",
              "      <td>&lt;git&gt;&lt;git-pull&gt;&lt;git-fetch&gt;<\/td>\n",
              "      <td>11008<\/td>\n",
              "      <td>2543052<\/td>\n",
              "      <td>\\n  Moderator Note: Given that this question h...<\/td>\n",
              "      <td>moderator note given that this question has ...<\/td>\n",
              "    <\/tr>\n",
              "    <tr>\n",
              "      <th>4<\/th>\n",
              "      <td>477816<\/td>\n",
              "      <td>What is the correct JSON content type?<\/td>\n",
              "      <td>&lt;p&gt;I've been messing around with &lt;a href=\"http...<\/td>\n",
              "      <td>&lt;json&gt;&lt;http-headers&gt;&lt;content-type&gt;<\/td>\n",
              "      <td>9701<\/td>\n",
              "      <td>2478940<\/td>\n",
              "      <td>I've been messing around with JSON for some ti...<\/td>\n",
              "      <td>ive been messing around with json for some tim...<\/td>\n",
              "    <\/tr>\n",
              "  <\/tbody>\n",
              "<\/table>\n",
              "<\/div>"
            ]
          },
          "metadata":{
            
          },
          "output_type":"display_data"
        }
      ],
      "metadata":{
        
      }
    },
    {
      "cell_type":"code",
      "source":[
        "dados_ingles.questoes_tratadas[0]"
      ],
      "execution_count":114,
      "outputs":[
        {
          "data":{
            "text\/plain":[
              "'here is a piece of c code that seems very peculiar for some strange reason sorting the data miraculously makes the code almost six times faster  code   without code the code runs in seconds with the sorted data the code runs in seconds   initially i thought this might be just a language or compiler anomaly so i tried it in java  code  with a somewhat similar but less extreme result    my first thought was that sorting brings the data into the cache but then i thought how silly that is because the array was just generated   what is going on why is it faster to process a sorted array than an unsorted array the code is summing up some independent terms and the order should not matter  '"
            ]
          },
          "metadata":{
            
          },
          "output_type":"display_data"
        }
      ],
      "metadata":{
        
      }
    },
    {
      "cell_type":"code",
      "source":[
        "quest_esp_sem_pont = remover(dados_espanhol.sem_code_tag, regex_pontuacao)\n",
        "quest_esp_sem_pont_minus = minusculo(quest_esp_sem_pont)\n",
        "quest_esp_sem_pont_mi_dig = remover(quest_esp_sem_pont_minus, regex_num)\n",
        "quest_esp_sem_pont_mi_sem_esp = substituir_por_espaco(quest_esp_sem_pont_mi_dig, regex_espaco)\n",
        "quest_esp_sem_pont_mi_sem_quebra = substituir_por_espaco(quest_esp_sem_pont_mi_sem_esp, regex_quebra_linha)"
      ],
      "execution_count":115,
      "outputs":[
        
      ],
      "metadata":{
        
      }
    },
    {
      "cell_type":"code",
      "source":[
        "dados_espanhol[\"questoes_tratadas\"] = quest_esp_sem_pont_mi_sem_quebra\n",
        "dados_espanhol.head()"
      ],
      "execution_count":116,
      "outputs":[
        {
          "data":{
            "text\/html":[
              "<div>\n",
              "<style scoped>\n",
              "    .dataframe tbody tr th:only-of-type {\n",
              "        vertical-align: middle;\n",
              "    }\n",
              "\n",
              "    .dataframe tbody tr th {\n",
              "        vertical-align: top;\n",
              "    }\n",
              "\n",
              "    .dataframe thead th {\n",
              "        text-align: right;\n",
              "    }\n",
              "<\/style>\n",
              "<table border=\"1\" class=\"dataframe\">\n",
              "  <thead>\n",
              "    <tr style=\"text-align: right;\">\n",
              "      <th><\/th>\n",
              "      <th>Id<\/th>\n",
              "      <th>Título<\/th>\n",
              "      <th>Questão<\/th>\n",
              "      <th>Tags<\/th>\n",
              "      <th>Pontuação<\/th>\n",
              "      <th>Visualizações<\/th>\n",
              "      <th>sem_code_tag<\/th>\n",
              "      <th>questoes_tratadas<\/th>\n",
              "    <\/tr>\n",
              "  <\/thead>\n",
              "  <tbody>\n",
              "    <tr>\n",
              "      <th>0<\/th>\n",
              "      <td>18232<\/td>\n",
              "      <td>¿Cómo evitar la inyección SQL en PHP?<\/td>\n",
              "      <td>&lt;p&gt;Las sentencias dinámicas son sentencias SQL...<\/td>\n",
              "      <td>&lt;php&gt;&lt;mysql&gt;&lt;sql&gt;&lt;seguridad&gt;&lt;inyección-sql&gt;<\/td>\n",
              "      <td>169<\/td>\n",
              "      <td>38614<\/td>\n",
              "      <td>Las sentencias dinámicas son sentencias SQL qu...<\/td>\n",
              "      <td>las sentencias dinámicas son sentencias sql qu...<\/td>\n",
              "    <\/tr>\n",
              "    <tr>\n",
              "      <th>1<\/th>\n",
              "      <td>197<\/td>\n",
              "      <td>¿Por qué mis programas no pueden hacer cálculo...<\/td>\n",
              "      <td>&lt;p&gt;Unas veces los cálculos funcionan correctam...<\/td>\n",
              "      <td>&lt;matemáticas&gt;&lt;coma-flotante&gt;&lt;lenguaje-agnóstico&gt;<\/td>\n",
              "      <td>141<\/td>\n",
              "      <td>3860<\/td>\n",
              "      <td>Unas veces los cálculos funcionan correctament...<\/td>\n",
              "      <td>unas veces los cálculos funcionan correctament...<\/td>\n",
              "    <\/tr>\n",
              "    <tr>\n",
              "      <th>2<\/th>\n",
              "      <td>36<\/td>\n",
              "      <td>¿Cuál es la diferencia entre un inner y un out...<\/td>\n",
              "      <td>&lt;p&gt;¿Cuál es la diferencia entre un &lt;code&gt;inner...<\/td>\n",
              "      <td>&lt;mysql&gt;&lt;sql&gt;&lt;join&gt;<\/td>\n",
              "      <td>97<\/td>\n",
              "      <td>53627<\/td>\n",
              "      <td>¿Cuál es la diferencia entre un CODE y un CODE...<\/td>\n",
              "      <td>cuál es la diferencia entre un code y un code ...<\/td>\n",
              "    <\/tr>\n",
              "    <tr>\n",
              "      <th>3<\/th>\n",
              "      <td>29177<\/td>\n",
              "      <td>¿Por qué es considerado una mala práctica util...<\/td>\n",
              "      <td>&lt;p&gt;La mayoría de nosotros decimos, (muchas vec...<\/td>\n",
              "      <td>&lt;variables&gt;&lt;variables-globales&gt;&lt;patrones-de-di...<\/td>\n",
              "      <td>89<\/td>\n",
              "      <td>9987<\/td>\n",
              "      <td>La mayoría de nosotros decimos, (muchas veces ...<\/td>\n",
              "      <td>la mayoría de nosotros decimos muchas veces si...<\/td>\n",
              "    <\/tr>\n",
              "    <tr>\n",
              "      <th>4<\/th>\n",
              "      <td>142<\/td>\n",
              "      <td>Validar un email en JavaScript que acepte todo...<\/td>\n",
              "      <td>&lt;h3&gt;Pregunta&lt;\/h3&gt;\\n\\n&lt;p&gt;¿Cómo validar un e-mai...<\/td>\n",
              "      <td>&lt;javascript&gt;&lt;validación&gt;&lt;email&gt;&lt;regex&gt;<\/td>\n",
              "      <td>87<\/td>\n",
              "      <td>73129<\/td>\n",
              "      <td>Pregunta\\n\\n¿Cómo validar un e-mail que acepte...<\/td>\n",
              "      <td>pregunta  cómo validar un email que acepte tod...<\/td>\n",
              "    <\/tr>\n",
              "  <\/tbody>\n",
              "<\/table>\n",
              "<\/div>"
            ]
          },
          "metadata":{
            
          },
          "output_type":"display_data"
        }
      ],
      "metadata":{
        
      }
    },
    {
      "cell_type":"code",
      "source":[
        "dados_espanhol.questoes_tratadas[0]"
      ],
      "execution_count":117,
      "outputs":[
        {
          "data":{
            "text\/plain":[
              "'las sentencias dinámicas son sentencias sql que se crean como cadenas de texto strings y en las que se insertanconcatenan valores obtenidos de alguna fuente normalmente proveniente del usuario lo que puede hacer que sean vulnerables a inyección sql si no se sanean las entradas como por ejemplo  code  eso es un ejemplo de una vulnerabilidad grave en la seguridad de una aplicación web o no porque si el usuario introdujese un valor como code nos encontraríamos con que la sentencia ejecutada sería  code  y se eliminaría la tabla usuarios con todos los datos contenidos en ella   cómo puedo evitar que la inyección sql ocurra en php '"
            ]
          },
          "metadata":{
            
          },
          "output_type":"display_data"
        }
      ],
      "metadata":{
        
      }
    },
    {
      "cell_type":"code",
      "source":[
        "!pip install nltk"
      ],
      "execution_count":118,
      "outputs":[
        {
          "name":"stdout",
          "text":[
            "Requirement already satisfied: nltk in \/opt\/python\/envs\/default\/lib\/python3.8\/site-packages (3.6.5)\r\n",
            "Requirement already satisfied: joblib in \/opt\/python\/envs\/default\/lib\/python3.8\/site-packages (from nltk) (1.1.0)\r\n",
            "Requirement already satisfied: tqdm in \/opt\/python\/envs\/default\/lib\/python3.8\/site-packages (from nltk) (4.62.3)\r\n",
            "Requirement already satisfied: regex>=2021.8.3 in \/opt\/python\/envs\/default\/lib\/python3.8\/site-packages (from nltk) (2021.11.10)\r\n",
            "Requirement already satisfied: click in \/opt\/python\/envs\/default\/lib\/python3.8\/site-packages (from nltk) (7.1.2)\r\n"
          ],
          "output_type":"stream"
        }
      ],
      "metadata":{
        
      }
    },
    {
      "cell_type":"code",
      "source":[
        "from nltk.util import bigrams"
      ],
      "execution_count":119,
      "outputs":[
        
      ],
      "metadata":{
        
      }
    },
    {
      "cell_type":"code",
      "source":[
        "texto_teste = \"ronald\"\n",
        "print(bigrams(texto_teste))"
      ],
      "execution_count":120,
      "outputs":[
        {
          "name":"stdout",
          "text":[
            "<generator object bigrams at 0x7f3b3dc412e0>\n"
          ],
          "output_type":"stream"
        }
      ],
      "metadata":{
        
      }
    },
    {
      "cell_type":"code",
      "source":[
        "print(list(bigrams(texto_teste)))"
      ],
      "execution_count":121,
      "outputs":[
        {
          "name":"stdout",
          "text":[
            "[('r', 'o'), ('o', 'n'), ('n', 'a'), ('a', 'l'), ('l', 'd')]\n"
          ],
          "output_type":"stream"
        }
      ],
      "metadata":{
        
      }
    },
    {
      "cell_type":"code",
      "source":[
        "from nltk.lm.preprocessing import pad_both_ends\n",
        "print(list(bigrams(pad_both_ends(texto_teste, n=2))))"
      ],
      "execution_count":122,
      "outputs":[
        {
          "name":"stdout",
          "text":[
            "[('<s>', 'r'), ('r', 'o'), ('o', 'n'), ('n', 'a'), ('a', 'l'), ('l', 'd'), ('d', '<\/s>')]\n"
          ],
          "output_type":"stream"
        }
      ],
      "metadata":{
        
      }
    },
    {
      "cell_type":"code",
      "source":[
        "dados_espanhol[\"idioma\"] = \"esp\"\n",
        "dados_portugues[\"idioma\"] = \"port\"\n",
        "dados_ingles[\"idioma\"] = \"ing\""
      ],
      "execution_count":123,
      "outputs":[
        
      ],
      "metadata":{
        
      }
    },
    {
      "cell_type":"code",
      "source":[
        "len(dados_espanhol)"
      ],
      "execution_count":124,
      "outputs":[
        {
          "data":{
            "text\/plain":[
              "500"
            ]
          },
          "metadata":{
            
          },
          "output_type":"display_data"
        }
      ],
      "metadata":{
        
      }
    },
    {
      "cell_type":"code",
      "source":[
        "from sklearn.model_selection import train_test_split"
      ],
      "execution_count":125,
      "outputs":[
        
      ],
      "metadata":{
        
      }
    },
    {
      "cell_type":"code",
      "source":[
        "port_treino, port_teste = train_test_split(dados_portugues.questoes_tratadas,\n",
        "    test_size=0.2, random_state=0)\n",
        "\n",
        "esp_treino, esp_teste = train_test_split(dados_espanhol.questoes_tratadas,\n",
        "    test_size=0.2, random_state=0)\n",
        "\n",
        "ing_treino, ing_teste = train_test_split(dados_ingles.questoes_tratadas,\n",
        "    test_size=0.2, random_state=0)"
      ],
      "execution_count":126,
      "outputs":[
        
      ],
      "metadata":{
        
      }
    },
    {
      "cell_type":"code",
      "source":[
        "len(port_treino)"
      ],
      "execution_count":127,
      "outputs":[
        {
          "data":{
            "text\/plain":[
              "400"
            ]
          },
          "metadata":{
            
          },
          "output_type":"display_data"
        }
      ],
      "metadata":{
        
      }
    },
    {
      "cell_type":"code",
      "source":[
        "len(port_teste)"
      ],
      "execution_count":128,
      "outputs":[
        {
          "data":{
            "text\/plain":[
              "100"
            ]
          },
          "metadata":{
            
          },
          "output_type":"display_data"
        }
      ],
      "metadata":{
        
      }
    },
    {
      "cell_type":"code",
      "source":[
        "todas_questoes_port = ' '.join(port_treino)\n",
        "print(todas_questoes_port)"
      ],
      "execution_count":129,
      "outputs":[
        {
          "name":"stdout",
          "text":[
            "sou estudante em sistemas de informação e estou modelando um jogo um pet virtual que tem suas necessidades e conversa com seu dono abaixo segue a modelagem das classes e interfaces   mostrei para um amigo formado em ciência da computação ele achou que tem muitas interfaces que não era necessário eu argumentei que caso no futuro eu poderia dar manutenção e implementar pets da forma que eu quisesse sem muito esforço podendo criar um pet híbrido entre animal e robo e atribuindo a ele seus comportamentos através das interfaces mas enfim ele veio com argumentos de desempenho da aplicação  minha dúvida é se minha modelagem que não está pronta apenas um esboço com tantas interfaces é uma má prática de programação quando devo utilizar uma interface    link da imagem  falam muito mal do code mas as vezes me pergunto se ele realmente é o problema ou é a pessoa que está sentada na frente do computador o suporto programador   minha vida inteira na programação tenho ouvido críticas piadinhas zoeiras em cima dessa função code mas o curioso é que mesmo aqueles que zoam acabam por usar bibliotecas que a utilizam internamente sem saber  um exemplo disso é code que no sistema de views utiliza code  exemplo removi os comentários do código original  code  github viewphp linha   é verdade o mesmo já está descontinuado mas não está numa era tão distante assim a versão dele é para php porém não seria surpresa se um dos críticos de code tivesse utilizando esse framework sem saber dessa informação  e ainda eu dou outro exemplo que muitos programadores também usam mas sem saber o superclosure que é utilizado no laravel e laravel  essa biblioteca tem como finalidade prover uma possibilidade de serializar closures no php já que nativamente as closures no php não têm suporte a serialização essa biblioteca se torna útil para quem precisa utilizar sistemas de filas como o beanstalkd onde as informações passadas geralmente são uma string e portanto os dados em php precisam ser serializados  exemplo  code  github serializableclosurephp linha   pensando na utilidade das classes das bibliotecas apresentadas acima lembrando que são só dois exemplos mas deve haver outros casos fiquei me questionando se eu deveria ainda continuar falando mau do code ou simplesmente fazer uma análise e avaliar quando é bom ou ruim usálo  por outro lado se eu pensar que todo eval independente de como é implementado é um risco provavelmente vou ter que parar de usar as bibliotecas que citei acima e fazer um trabalho todo manual   quais são os riscos de usar code num projeto  devo sempre evitálo se a resposta for sim para devo evitálo então eu também deveria deixar de usar bibliotecas que o implementam afinal de contas isso não pode pôr meu código em risco o code deve ser utilizado em alguns casos bem específicos como por exemplo somente em geração de código ou posso utilizálo livremente desde que eu tenha consciência do que estou fazendo   nota favor não editar e colocar tags como php ou laravel pois os exemplos foram apenas para mostrar casos onde code foi bem recebido se houver exemplos de outras linguagens que o usem será bemvindo  acabei de ler esse artigo e nele há esta expressão  code  avaliando isso no interpretador  code  bom por que  eu tenho a impressão que toda vez que executo o comando code para gerar o autoload das classes via code um arquivo code é criado  dentro dele parece haver um emaranhado de classes e namespaces é como se tivessem unidos vários arquivos em um só  gerar um código php em que as classes utilizadas estão no mesmo arquivo seria mais rápido do que ter elas espalhadas pelos diretórios  o que são esses tais de stack e heap que tanto se fala em gerenciamento de memória  isso realmente são porções da memória como algumas pessoas falam ou é apenas um conceito abstrato para facilitar o entendimento da forma como se gerencia a memória  algum deles é mais rápido que o outro se um é claramente mais rápido por que existe o outro  faz diferença se estou usando por exemplo assembly c java ou javascript windows ou linux isso é controlado pela linguagem ou pelo sistema operacional  enfim queria entender melhor esse conceito que parece ser mal compreendido pelos programadores seria muito útil uma explicação para quem está começando ou aprendeu isso de forma errada  hoje vi o seguinte vídeo httpswwwyoutubecomwatchvjgpvqcfms  mostra um bracelete que projeta a tela de um celular android pareado no braço do usuário este então pode manipular o celular movendo o dedo em seu braço  o vídeo me parece claramente uma montagem em vários momentos a projeção da tela não acompanha corretamente o movimento da câmera e o aparelho responde excessivamente rápido às entradas mas a empresa existe e está arrecadando fundos para lançar um protótipo então é possível que meramente tenham feito um vídeo promocional sem ter o protótipo pronto   o que me deixou em dúvida é assumindo que seja tudo real como eles fariam um aplicativo que faz streaming da tela do android e permite disparar eventos de gesture no aparelho isso é mesmo possível ou seria uma solução apenas para aparelhos com root e que tenham sido modificados de alguma forma se isso é possível por que empresas como o teamviewer ainda não fizeram um cliente de controle remoto para o android  durante meus trabalhos eu aprendi uma forma de lidar com code mas não sei se é muito boa aqui vai um exemplo do código  code  a minha ideia é mapear os erros e jogar a responsabilidade de seu tratamento para o método principal  para ser mais objetivo vou direto as perguntas   gostaria de saber a opnião de vocês existe uma forma melhor correta de propagar e exibir as exceções de forma simples essa é uma boa forma de lidar com exceptions qual a importância de capturar code mais especificas por exemplo dividebyzeroexception   recentemente fiz a pergunta porque devemos usar anonymous functions com jquery ao invés da função diretamente e junto com a resposta aceita veio uma segunda pergunta como passar argumentos pra uma função js que estamos invocando por referência  como seria a chamada à code se esta função recebesse parâmetros simples como um número ou mais complexos como um objeto propriamente dito  sei que é possível executar um code com dados de outra tabela  code  mas gostaria de fazer o mesmo com um code algo equivalente à isso  code  é possível como  quando se lê sobre arquitetura de software na web às vezes é usado o termo código spaghetti se referindo a algo que deve ser evitado  porém nunca consegui entender com clareza o que código spaghetti significa  problema  testem aí nos consoles dos seus browsers  code  o correto seria code   alguém poderia me explicar isso e como faço para resolver isso   sempre ouço falar de code e code mas não sei diferenciar um do outro nem para que servem   me pareceu algo com padrão de arquitetura de aplicação estilo commonjs  utilizar validações em javascript é suficiente para uma validação eficiente   exemplo validação de datas   é necessário verificar também no código quais as desvantagens de só realizar validações via clienteside podem causar   dúvidas   como é feita a randomização pelo computador qual algorítimo ou qual base matemática o computador usa para gerar esses números   por exemplo  no javascript utilizo o code ele me retorna diferentes números todas as vezes como por exemplo  code e etc  de forma a podermos ter a administração de um website a ser realizada a partir de um servidor diferente daquele onde o website está alojado surgiu o problema de lidar com imagens remotas  problemas comuns   verificar se a imagem efectivamente existe antes de criar links para a mesma ao substituir determinada imagem verificar se a anterior existe para que seja eliminada verificar se a imagem carregada para o servidor não está com o mesmo nome de uma imagem já existente   normalmente este tipo de operações é realizado com o code mas como o mesmo não suporta url apenas caminhos absolutos ou relativos do próprio servidor fica assim inviabilizado para este cenário  pergunta  utilizando php como posso verificar se uma imagem remota existe  um usuário digitará uma frase e devo mostrar esta frase invertida e em maiúsculo como posso fazer isto  code  tenho usado uma biblioteca de javascript para fazer iconessimbolos de uma app de metereologia queria agora fazer em svg o simbolo da nuvem céu nublado e questionome sobre qual a melhor abordagem  fiz um svg com a linha da nuvem estática jsfiddle e uma rotação básica que não é o efeito pretendido uma vez que a nuvem original na animação com o canvasjs tem arcos que expandem e contraem à medida que rotacionam  possiveis abordagens que pensei   fazer circulos usando dash para ter só arcos e depois tentar animar esse valor e fazer tudo rodar à volta de um eixo fazer path e depois tentar animar esse valor e fazer tudo rodar à volta de um eixo    haverá uma maneira melhor e que funcione em browsers modernos de maneira a recriar a animação mas com svg  o exemplo de js como no jsfiddle em cima  \r \r code\r code\r \r \r   caso alguém não saiba hoje code teremos um segundo a mais  ou seja hoje depois das code teremos code  isso para fazer a correção do tempo atômico internacional  sei que existem vários serviços que são sincronizados com relógios atômicos como o que fica no observatório nacional que podem ter problemas com esse segundo a mais  que tipos de problemas podemos esperar em nossos sistemasservidores e aplicações quando ocorre um evento como esse  caso você não esteja sabendo de nada veja algumas matérias falando disso  radioagência nacional relógios terão um segundo extra por alterações gravitacionais  tecmundo dia de junho terá segundo a mais mas o que isso pode causar  estou com algumas dúvidas quanto ao code li em algum lugar e me lembro vagamente sobre a questão da reescrita mas o que é isso e para que serve como se aplica em um código java existe em alguma outra linguagem  suponha que implementei uma nova linguagem e que tenho um interpretador funcional escrito em javascript algo como code agora gostaria de criar uma interface na qual eu posso inserir o código da minha linguagem em tags code de forma que ele funcione exatamente igual a como o javascript opera ou seja  code  ou seja as tags code seria executada sequencialmente e poderia intercalar com o javascript sei que posso por um evento no code para executar todos os scripts com a minha linguagem já que eles são ignorados pelo navegador mas isso não teria o comportamento que espero do exemplo acima outro caso é se o elemento for inserido via javascript existe como ter um callback que seja chamado sempre que um elemento aparecer no dom  outro problema é com o carregamento se a tag vier com o atributo code imaginei em carregar via ajax mas com isso os scripts serão executados fora de ordem e não estritamente na ordem em que aparecem como garantir essa ordem  qual é a melhor forma de iterar os objetos em um code no java de forma a ter acesso à chave e ao valor de cada entrada  quando escrevo código em java e tento tratar excepções costumo usar simplesmente a superclasse code não ligando à classe específica e costuma resultar há algum inconveniente em fazer isto  code  quando um cliente se conecta ao meu servidor posso confiar que o endereço ip a que tenho acesso toda linguagemframeworketc usada em aplicações web expõe o ip do cliente de alguma forma é realmente desse cliente ou ele pode ser forjado  sei que de um modo geral não devo confiar em nada que venha do lado cliente entretanto também sei que pelo modo como as redes funcionam se um atacante de alguma forma me mandar uma mensagem com um ip falso a resposta não vai para ele vai para o dono verdadeiro do ip informado me parece então que não é possível roubar informações de um usuário copiando o ip dele ou estou enganado  em que medida eu posso confiar nessa informação ao validar uma requisição vinda do lado cliente  uma code de uma classe não é a mesma coisa que um code  qual a real diferença entre eles   ou code é um sinônimo para code ou viceversa  ou varia conforme a linguagem de programação   eu tive uma aula na faculdade que me deixou meio intrigado meu professor estava falando das diferenças das linguagens interpretadas e das linguagens compiladas e destacou que as linguagens interpretadas poderiam ter seu código roubado quando nas compiladas isso não acontece aí abriu uma série de dúvidas onde a principal é  se meu código é compilado e não dá pra saber como foi escrito como os antivírus sabem que ele pode ser perigoso  ao modelar endereços em uma aplicação ingenuamente segui a forma normalizada ao representar no bd ie tabelas separadas para país estado cidade bairro etc joins para todo lado e na interface de usuário html coloquei um campo separado para cada parte desse endereço caixa de texto com autocompletar ou combo box no começo achava que estava bom desse jeito e não pensei muito no assunto  entretanto após fazer uma pergunta no uxse relativo ao nosso padrão de usar rua x em vez de x street as respostas me levaram a questionar se valia a pena na prática exigir tamanho nível de detalhe na representação além da complexidade adicional na hora de buscaratualizar como exemplificado nessa pirâmide não sei como a performance do sistema será quando ele contiver um número elevado de endereços  gostaria de saber de quem já tem experiência lidando com um grande número de endereços quais práticas seriam recomendadas deixar tudo normalizado usar um campo de texto aberto condensar algumas tabelas numa só ex code e deixar outras separadas etc levando em consideração que   poucos usuários entrarão com muitos endereços de outras pessoas se fosse cada usuário entrando com o próprio endereço uma vez e pronto não justificaria investir em usabilidade se uma parte do endereço já existe no banco ex uma rua previamente cadastrada o autocompletar pode ser usado para agilizar a entrada de dados isso seria mais difícil se o endereço fosse um campo aberto alguns dados são mais fáceis de encontrar e prépopular ex lista completa de cidades brasileiras outros são mais difíceis ou mais caros podendo ser melhor que o usuário entre com eles sob demanda mas ainda permitindo autocompletar se um campo é aberto fica mais sujeito a duplicação ex av foo av foo avenida foo a foo foo mas duplicação não é necessariamente um problema é mais difícil fazer agregação em um campo desnormalizado ex se quero estatísticas por estado mas agrupei code num campo só terei problemas   você encontra na internet a afirmação que singletons são ruins isto é verdade por quê  o problema seria generalizado para quaisquer objetos com instância única ou para qualquer coisa que tenha estado global  se é tão ruim pra que foi inventado ou seja que problema ele queria resolver  quais os problemas que terei se usálo  existe alternativa viável  se você seguir o passo a passo de instalação do visual studio ele instala a linguagem do sistema operacional como alterar a linguagem para inglês  pense em uma classe grande um cadastro completo de cliente por exemplo tem uma quantidade enorme de atributos nele muitos deles precisam ser inicializados na construção do objeto para o objeto ser válido e de antemão não sabe se todos estão válidos ou se o uso conjunto deles torna o objeto válido o objeto pode ser usado em diversos contextos da aplicação poderíamos fazer   um construtor com todos os parâmetros necessários e ele valida tudo e decide se conclui a construção ou não um construtor só com o básico para criar o objeto e depois deixar colocar valor em outros atributos validando individualmente  como deve proceder com a invalidade temporária ter um método estático que valide tudo antes de chamar o construtor para saber que vai construir corretamente criar um objeto temporário de um tipo definido para este propósito e usálo como base para criar o objeto definitivo provavelmente com um construtor que aceite este objeto e saiba o que fazer  este objeto aceitaria os atributos incrementalmente e poderia validar em determinado momento para poder ser usado no objeto real alguma outra forma   eu imagino que todas podem ser úteis em alguma situação específica ainda que algumas de forma bem rara e praticamente para contornar alguma outra deficiência  quais as vantagens e desvantagens de cada abordagem e em que cenário escolher cada uma  referência para que serve um construtor  segundo esta definição de dado    dados são um conjunto de informações quantitativas qualitativas  categóricas ou indefinidas podendo ser organizadas ou não    wikipédia   seguindo esta linha eu posso assumir que dados e informação são as mesmas coisas entretanto na faculdade meu professor disse que dado não é informação quando o mesmo não é tratado ou quando ele não possui algum significado  por exemplo este é um dado code e code também é um dado porem eu não sei o que esses dados representam como eles poderiam ser considerados informação e é neste ponto que surgi minha dúvida que vem logo abaixo    dúvida  eu gostaria de saber qual é a diferença entre dado e informação e o que faz com que dados se torne informação  ao fazer um select reparei que os dados com campo code não são recuperados usando o operadorcode   por que isso acontece code é igual a um code   vejam que na consulta abaixo só a primeira linha é retornada  sqlfiddle  até a época em que os computadores eram puramente mecânicos e eram programados por cartões perfurados eu entendo como funciona depois quando surgiram os primeiros computadores digitais operados com válvulas e relés fica mais complicado de compreender como eram feitas as programações imagino que deveria haver algo semelhante a um compartimento com uma matriz de relés semelhante aos cartões perfurados pré programada que continha um programa fixo e único a ser executado pela máquina quando fosse preciso trocar o programa os programadores apenas rearranjavam as válvulas e a máquina continuava a trabalhar  como surgiu essa noção que temos de programação hoje que o programador digita códigos em um editor de texto e compila eu não consigo imaginar como chegou a esse ponto por exemplo o assembly ele é apenas traduzido de textos para binário pelo assembler mas poxa seria preciso ter outra linguagem de programação para se criar o assembler  suponha que só existam os computadores controlados por relés e válvulas como que alguém conseguiria escrever um código em assembly sendo que não existia editor de textos nem nada  o resultado de uma montagem é outro arquivo no formato texto com s e s apenas ou são impulsos elétricos enviados para a máquina valvulada  preciso colocar um code com aquele olho do revelar senha porém tem que funcionar da seguinte maneira   usuário clica no olho e ao soltar esconde os caracteres novamente  segue uma foto de exemplo    nessa pergunta que fiz a respeito de tipos valor e tipos referência em c foi citado na resposta aceita que instâncias de structs devem ser objetos imutáveis lendo no wikipedia confirmei que um objeto imutável não deveria ter seu estado modificado depois de criado mas isso é confuso porque afinal se eu declaro uma variável seja de um tipo struct ou um tipo classe eu posso modificar seu valor a qualquer momento ou então ela seria uma constante  na realidade code é uma struct pelo que sei então nesse caso se eu declaro uma variável do tipo code ela não deveria ser modificada se instâncias de structs são realmente imutáveis mas isso claramente não é verdade eu posso fazer code e depois code e só nisso já mudei o seu estado  dessa forma o que realmente significa objetos imutáveis e como esse conceito é um conceito útil em orientação a objetos  vejo algumas perguntas no site com a tag ux sobre posicionamento de controles cores etc isso normalmente me parece fazer parte das escolhas do designer ou até mesmo do usuário  o que é ux e como isso pode me ajudar a desenvolver aplicações melhores ou mais agradáveis para os usuários  dentro do contexto do desenvolvimento de software o que significa algo ser ortogonal  por que é importante seguilo  creio que a maioria aqui conhece a diferença entre code e code  select readonly  o code não se aplica corretamente para o code  \r \r code\r \r \r   como podem ver eu ainda consigo alterar o valor do code  select disabled  o que não ocorre com o code que de fato bloqueia o select  \r \r code\r \r \r   aqui eu não consigo editar mas ele também são é enviado pelo formulário  objetivo  eu necessito enviar o conteúdo do select pelo formulário mas o usuário não pode editálo seu conteúdo é auto selecionado por outros fatores  duvida   como bloquear o code mas ainda enviar seu valor pelo code seria possível sem uso de js   adendo  desta forma eu tenho o que quero mas gostaria de um método mais elegante aqui ele ainda consegue ver as opções  \r \r code\r \r \r   gostaria de saber qual a diferença e quando devo utilizar   stateful stateless   cada módulo do projeto possui um code e um code quais são as funções desse artifacts nesse processo de deploy e qual a função do jenkins nesse contexto entendo que deploy é um processo de montar esse war pois toda vez que algo está errado recebo um build failed in jenkins  reconheço que é comum que cada linguagem utilize um padrão para compor seus identificadores variáveis constantes objetos controles etc   no caso do c quais seriam as boas práticas com relação à maiúsculasminúsculas tamanho e utilização de caracteres especiais  uma assinatura do métodofunção comum ou construtor é composta por seu nome quantidade de parâmetros tipo dos parâmetros   desde que foi introduzida a palavra code no ecmascript eu só tenho ouvido falar a respeito até então não vi nenhum exemplo prático e para ser sincero não sei muito bem o que é uma variável code e como ela se comporta a única coisa que entendi e bem superficialmente é que ela serve para declarar uma variável local algo relacionado a escopo  o que são variáveis code para que elas servem quando utilizálas ao invés de code  a microsoft anunciou um novo net core que raios é isto    qual a melhor forma de se representar unidades monetárias ie dinheiro em javascript sei que não é bom usar ponto flutuante dado o problema de arredondamento mas não sei qual seria a melhor alternativa outras linguagens têm tipos code como builtins mas até onde eu saiba não tem nada padronizado ou amplamente utilizado para esse propósito em javascript  até o momento tenho usado inteiros para representar centavos e feito toda formataçãoconversão na mão há uma maneira melhor ou mais limpa  detalhes adicionais estou buscando uma resposta canônica haja vista que esse é um requisito comum com o qual muitos de nós precisamos lidar e que frequentemente é feito de forma incorreta uma boa resposta pode tanto ser uma indicação de biblioteca desde que bem embasada quanto um guideline para se implementar manualmente caso a resposta certa seja depende ie não exista uma forma canônica para isso  exemplos de critérios a serem considerados não exaustivo   confiabilidade essa representação produz resultados corretos em operações matemáticas envolvendo unidades monetárias ex arredondamento correto se comporta bem em casos limite interoperabilidade é simples converter de e para um formato aceito pelo servidor eou sistemas externos em geral um decimal sem separador de milhar e usando o ponto code para separar a parte inteira da fracionária robustez se o usuário entrar com os dados incorretamente ex usando o ponto ou a vírgula de forma incorretainconsistente colocando ou não o cifrão etc a conversão para esse formato interpreta a entrada corretamente eou falha consistentemente apresentação é simples formatar esse tipo de dados para ser apresentado ao usuário   queria saber quais as diferenças mais relevantes que eu deva saber que existem entre essas duas linguagens por que estou perguntando isso aqui porque normalmente no meu diaadia quando faço essa pergunta meus colegas sempre demonstram um favoritismo em relação a uma dessas linguagens apesar de não ter sido essa minha pergunta a eles  o que é do meu conhecimento é que são linguagens semelhantes o c me atrai por causa de sua ide o visual studio e o java por sua vez me atrai por causa da proximidade com o android e por estar a mais tempo no mercado   obs de preferência respostas de pessoas que trabalharam com as duas linguagens  me parecem termos muito próximos e eventualmente vejo textos que trocam um pelo outro como se em algumas determinadas situações suas definições se sobreponham  quais seriam as definições técnicas que permitem distinguir o que é api biblioteca e framework  em quais situações é permitido intercambiar os termos sem ferir sua definição técnica  vi esse termo sendo empregado diversas vezes muitas pessoas e empresas querem que seus códigos sejam limpos vi também o livro código limpo habilidades práticas do agile software  mas eu queria saber o que define um código ser limpo ou não quais os pontos são avaliados uma vez que o conhecimento e o domínio sobre uma determinada linguagem pode influenciar na avaliação de quem está lendo  na pergunta como escrever um código legível e de fácil manutenção temos alguns exemplos de um código que aparentemente está bem escrito porém o domínio da linguagem é que faz bastante diferença na hora de interpretálo  então focando bem a pergunta quais o pontos que são avaliados qual a importância e o peso de cada um desses pontos dentro da avaliação  gostaria principalmente das referências para estudar um pouco mais a fundo e que não fosse limitado a um paradigma ex orientação a objeto e sim num contexto geral   o que é programação orientada a eventos o que difere entre a programação orientada a eventos e programação orientada a objeto que linguagens podemos citar que são orientada a eventos   eu vejo uma tendência cada vez maior embora isto já existisse antes de criar várias telas vários passos para executar uma única ação  claro que o advento de telas menores incentiva isto mas estou falando de desktop normal o mesmo vale para aplicações web normais que não são feitas para rodar em mobile  também entendo que telas superpopuladas de informação que permitem fazer várias coisas muitas vezes não relacionadas não fazem sentido mas percebo que antes o que você fazia em um click em interfaces modernizadas acabam exigindo dois três ou mais clicks para se alcançar o mesmo propósito muitas vezes você limpa a tela mas dificulta o acesso à operação desejada  este tipo de filosofia me parece prejudica a descoberta da operação  realmente atrapalha ter muita informação por que  existem estudos ou pelo menos informações consistentes que mostram que um realmente é melhor que outro por que esconder operações é melhor e se não é por que estão adotando isto seria interessante ver um comparação entre as duas situações para entender as vantagens e desvantagens de cada uma e com isto ajudar a entender quando e optar por um mais que o outro  existe alguma forma de facilitar a descoberta facilitar o acesso às operações sem sujar a tela há exceções onde não devemos aplicar uma destas filosofias  desenvolvi uma página em php para uso interno da empresa que trabalho e apenas pouquíssimas pessoas a utilizam através dessa página é possível fazer algumas consultas inserções alterações e remoções de dados de uma tabela em um banco de dados mysql porém eu acredito que meu código em php não está protegido contra injeção de código sql por exemplo  code  logo digamos que o usuário usar a sentença code para ao campo code o comando ficaria   code  ele vai inserir um novo registro cujo o campo code será code e logo em seguida ele vai deletar a tabela produtos  como posso melhorar meu código para prevenir essa situação  o java será lançado em breve março de e a principal feature desta versão são as expressões lambda  alguém poderia descrever como diz a pergunta o que este recurso vai agregar na prática para os desenvolvedores e se possível algum exemplo de código comentado  eu estava estudando essa documentação sobre aspnet identity e nos exemplos em c tem uma palavrachave que eu desconheço que é a code exemplo   code  para que serve essa palavrachave  qual tipo do campo cpf ou cnpj no banco de dados code ou code  já vi alguns posts sugerindo usar code para otimizar a performance no caso de codee filtros  se possuir a esquerda é só completar de acordo com o tamanho do campo armazenado cpf ou cnpj para efetuar a validação   então qual seria a melhor abordagem  qual é o termo correto para uma linguagem totalmente baseada em objetos c e uma linguagem que usa objetos mas não é completamente baseada neles  exemplo o vb tem tinha diversas funções que não estavam em objetos e um suporte limitado a oop acho que o c é assim também existem termos certos para isso  eu me lembro de ver essa diferença de classificação entre linguagens objectenabled vb e linguagens baseadas em objeto c mas não onde nem quais eram os termos específicos  tem um jogo de tanque d usando a unityengine em c em que é jogado na lateral da tela vendo apenas os lados dos tanques em que tem o tanque verde e o vermelho o verde precisa atirar e acertar o alvo vermelho o jogo lhe dá a força e ângulo ambos variam de acordo com sua mira em alguns turnos é definido um tempo aleatório que varia de à mas nesse aplicativo que estou criando é possível manualmente você pode definir o vento e sua direção não querendo dizer que é alterado o vento do jogo mas sim da trajetória que o aplicativo está calculando    nota o vento já é gerado de uma forma aleatória de para com esse aplicativo que estou criando você apenas calcula a trajetória para te ajudar no jogo   notem que o ângulo é espelhado mas já implementei uma função que nos dá o ângulo exato    o jogo é dividido por turnos em todo turno o vento muda junto com sua direção o vento varia de para na direção direita ou esquerda nunca maior ou menor que isso    a trajetória pontilhada é o que é projetado nesse aplicativo o processo está pronto a trajetória está sendo exibida o problema é que ela não é influenciada pelo vento qualquer mudança no vento ela irá permanecer sendo influenciada apenas por ângulo e a força não por vento eis o problema    grande atualização da pergunta    coloquei uma parte importante que estava faltando na pergunta o calculo horizontal   code    resuminho básico o valor code é calculado em base do tempo de voo para cada x basicamente entre à como mostrado na declaração do lopping acima que são os limites horizontais do jogo o valor code representa o tempo de voo de para a posição i x     como a trajetória é afetada com o vento  abaixo está a minha trajetória a linha contínua e a trajetória do tiro a linha pontilhada o vento que estava presente no jogo era     é percebível que além da altura code o formato e a distância da trajetória também foram alterados com o vento  brevemente minha dúvida é   como implemento vento nessas formulas   é possível observar em alguns casos que a separação de tarefas em múltiplas threads não dá ganho e até torna uma aplicação mais lenta que o uso em thread única não deveria sempre ter ganho de performance quando tem vários processadores não necessariamente chips  o ganho ocorre em alguma situação quando só existe um processador ou core na máquina  é possível paralelizar qualquer tarefa e obter ganho de performance  o que é a complexidade de um algoritmo  e quais as formas de medila big o big theta  estou querendo desenvolver um site que rode todo no mesmo arquivo mas não sei bem como procurar material de estudo para isso  assim  site normalestou na página indexphp quando clico no menu portfólio por exemplo ele vai e carrega o arquivo porfoliophp  site que eu quero fazerestou na página indexphp quando eu clico no menu portfólio o site faz uma animação fade sidescroll etc e mostra o conteúdo do portfólio sem a necessidade de carregar outro arquivo  alguém pode me dar uma luz já trabalhei com sites feitos em uma página só mas são no modelo one page scroll website  acredito que eu precise trabalhar com o ajax mas não tenho certeza ainda  o que acontece quando se faz um rebase na seguinte situação   branch master com commits a b e c após fazer o commit c criei um novo branch com o nome design fiz um commit d no branch design e voltei ao branch master fiz um commit e no branch master   atualmente o meu histórico de commits é   master a b c e design a b c d   após fazer o rebase no branch master o histórico ficará da seguinte forma   master a b c d e design a b c d   se a resposta é sim qual o objetivo de refazer o histórico quando uma das vantagens do git é poder ver o histórico tal como ele é se posso manipular o histórico então posso não ver o que realmente aconteceu  quais as vantagens limitações e principais diferenças entre esses sistemas de versionamento git svn e cvs  hoje é comum os compiladores das linguagens de programação permitirem que o arquivo de código de seus programas aceitem código com caracteres unicode  isto é útil especialmente para quem usa o português e outras línguas que fogem do ascii para criar strings com acentos e melhorar os comentários em nossa língua  mas é incomum o uso de identificadores com acentos no código há até mesmo quem recomende que não seja usado  eu mesmo não costumo usar mas me parece que dar um sentido melhor nestes casos só um exemplo isolado sem definição de linguagem  code  existe algum motivo técnico para evitar acentos e outros caracteres unicode em identificadores  se não existe problema técnico existe algum motivo prático para evitálos  depende da linguagem de programação considerando que ela suporte bem acentuação em plenitude  importa se o código é proprietário e desenvolvido por uma equipe pequena e fechada ou se é desenvolvido amplamente possivelmente de forma aberta  existe algum cuidado específico que devemos tomar quando usamos acentos em identificadores  quando a utilização de caracteres além do ascii é abuso  encontrei em um arquivo minificado do bootstrap o seguinte  code  o operador code parece estar sendo aplicado entre duas strings  o que significa isso  o que é url o que é uri são sinônimos em geral as pessoas usam quase sempre url são a mesma coisa tem mais alguma coisa relacionada  boa noite estou tentando fazer um acesso de minha máquina local a um servidor e estou recebendo esta resposta    no accesscontrolalloworigin header is present on the requested  resource origin httplocalhost is therefore not allowed access   porém usando o postman eu consigo este são os requisitos do servidor  code  meu código  code  alguem me da uma luz  qual diferença de linguagem compilada para linguagem interpretada e quais as vantagens de uma para outra   o que são exceções code quais são suas principais causas que métodospráticas podem ser utilizadas para se prevenir   tenho percebido o uso frequente do termo em alguns fóruns e fiquei me perguntando qual o seu significado e de onde surgiu tal expressão  gostaria de saber o que são e como funcionam os número das versões de softwares como por exemplo code o que significa existe algum padrão ou recomendação para versões de aplicações web   eu preciso fazer o upload de uma foto e em seguida colocala em um modal  para o usuario fazer um recorte proporcional uma breve pesquisa na web encontrei este plugin jquery  jcrop  ele parece me fornecer as coordenadas para recortar a imagens mas não faço ideia de como integrálo com php se alguém tiver um exemplo pratico sera  muito bem vindo   estou começando a estudar composer e estou desenvolvendo um sistema onde separo arquivos do core de arquivos da aplicação da seguinte forma    root   src   app   dbconfig  controller  model  core   helper  controller  model   então para setar esta configuração no arquivo composerjson e conseguir ter acesso a todas as classes tanto de app quanto de core seria desta forma   autoload   psrx   app src  core src      ou há uma forma mais correta  tenho lido também sobre psr vs psr e ainda estou um pouco em dúvidas de qual utilizar neste meu caso qual devo implementar psr ou psr  existe alguma diferença entre code e code eu sei que os dois retornam o mesmo resultado tem algum tipo de convenção adotada para usar sempre o code  criptografia é algo fundamental na web pois nos fornece privacidade e segurança é até possível que isso seja padrão no http   minha dúvida é como a criptografia via http funciona creio que exista uma chave que seja única para cada conexão entre servidor e cliente caso contrário se a chave fosse sempre a mesma alguém poderia interceptar a conexão facilmente já ouvi falar em certificados necessários para a coisa funcionar mas não sei como funciona  e quais minificadores posso usar  estou desenvolvendo uma aplicação onde a partir de uma senha fornecida pelo usuário um par de chaves autenticação e criptografia é derivado a senha em si nunca é enviada ao servidor somente a chave de autenticação  gostaria de oferecer ao usuário a opção do navegador lembrar sua senha é possível fazer isso via javascript e de forma segura  li diversas referências por exemplo essa pergunta no soen e pelo jeito não há um meio consistente entre os diversos browsers ex o chrome só oferece para salvar a senha no retorno da submissão do formulário e só se a própria senha tiver sido submetida o que não é o caso aqui pois a senha não deve nunca sair do browser estou procurando por alternativas   é possível forçar o browser a salvar um campo code arbitrário com o mesmo nível de segurança que ele salvaria uma senha submetida ainda que essa segurança não seja assim tão elevada de preferência satisfazendo essa restrição adicional de não enviála ao servidor se não dá para salvar junto com as senhas haveria uma solução igualmente boa considerei por exemplo a opção de usar code apesar dos avisos enfáticos que não se deve armazenar informações confidenciais no code entretanto não vejo como usálo possa ser pior do que salvar a senha no browser uma vez que alguém com acesso local ao computador também poderá ler essas senhas a única desvantagem que vejo é que ele é mais vulnerável a xss o que acredito não ser necessariamente o caso com as senhas salvas do jeito normal sem envolver javascript ou estou enganado   nota conheço a webcrypto api sendo desenvolvida no futuro quando a mesma estiver consolidada e amplamente suportada ela pode vir a se tornar a solução ideal entretanto estou analisando alternativas a curto prazo       e não a de criptografia toda a criptografia ocorre no lado cliente de modo que nem o servidor tem acesso aos dados do usuário por essa razão a senha original deve ser mantida confidencial inclusive do servidor mais detalhes do meu caso particular aqui   assuma como premissa que o usuário optou por armazenar a senha tenho consciência que esse é um tradeoff segurança vs conveniência e gostaria de oferecer ao usuário diferentes opções a respeito em vez de impor isso a ele uma discussão aprofundada sobre segurança seria offtopic aqui mais apropriada para securityse por exemplo essa pergunta referese somente a um problema de programação comandar o browser para salvar uma senha através dos seus mecanismos usuais    atualização por exigência popular aqui vai o meu threat model modelo de ameaças e outros requisitos particulares   a principal preocupação é confidencialidade na nuvem ou seja ainda que o código da minha aplicação javascript tenha de vir necessariamente de uma fonte confiável caso contrário nada do que eu fizesse iria garantir a segurança o servidor onde os dados são armazenados é menosqueconfiável ie há o interesse de se esconder a infomação confidencial mesmo dele ainda que não se presuma malícia a priori a resistência contra acesso local não autorizado não é uma preocupação assumese que qualquer um com acesso físico à máquina está autorizado a acessar esses dados e se pra um usuário particular isso não for verdadeiro ele será instruído a não salvar sua senha dessa maneira a facilidade de uso é um requisito de extrema importância instalar plugins java webpg etc gerenciadores de senha lastpass keepass etc usar um browser ou so particular muitos tem integração nativa com chaveiros seguros ou mesmo um servidor proxy local poderão ser oferecidos como opção para os indivíduos mais conscientes em segurança mas não devem ser obrigatórios o sistema deve ser usável somente com os recursos nativos do navegador independente de plataforma   estou postando isso aqui porque tenho recebido demasiadas sugestões de não fazer isso ou fazer aquilo em vez disso mas minha pergunta original não é sobre segurança e sim programação se é ou não possível usar o mecanismo nativo do browser de lembrar as senhas cada um tem um mas a funcionalidade é equivalente programaticamente  esses dias me deparei com um trecho de um sql que tinha o comando code  eu nunca tinha visto isso antes e pelo pouco que pude ver pareceme que isso seria para travar a tabela durante a inserção ou atualização  mas eu queria poder entender melhor o funcionamento   como funciona code gostaria de alguns exemplos quando eu devo usar esse comando devo evitar usar esse comando em alguns casos existe algum risco   é comum em muitos sistemas ao inserir o usuário e a senha incorreta o sistema nos informar que um deles está errado mas não exatamente qual isso acontece também aqui no stack overflow  isto acontece para proteger os dados ou poderíamos dizer que é porque é mais fácil fazer dessa forma   hoje em sistemas como o google e a microsoft é diferente do passado agora primeiro pedem o login e só se estiver correto pedem a senha  frequentemente precisamos aceitar a entrada de senhas por parte dos usuários em geral não podemos aceitar uma senha qualquer que pode ser facilmente atacada provavelmente por brute force força bruta ou técnicas semelhantes  é óbvio que a senha deveria ter um tamanho mínimo deveria ter variedade de caracteres não pode ser semelhante ao nome de usuário e quem sabe outros dados eu imagino que a força da senha não é medida por uma simples verificação se existe todos esses critérios todos juntos podem tornar a senha muito segura mas excessivamente difícil de ser determinada por um humano  mas como calcular a força existe algum algoritmo padrão conhecido que estabeleça isto se não existe o que deve ser observado   é recomendável usar em projetos em quais situações reflection pode ser usado   os bancos de dados nosql estão aí e uma dúvida que sempre tenho ao iniciar um projeto é quais critérios utilizar para escolher entre um banco relacional ou não   como avaliar o meu projeto para saber a melhor opção para ele  ao criar um componente usamos code para identificálo  por exemplo  code  qual é a diferença de usar code sem o no lugar do code  é correto usar um ou outro  é mais vantajoso utilizar um tipo ansi ao invés de um tipo utf ou viceversa existe algum ganho em performance ou armazenamento entre os tipos  estou desenvolvendo este programinha que deve receber uma expressão do usuário e fazer o cálculo ex    insira uma expressão           o meu problema é como tratar a expressão enviada pelo usuário me foi recomendado usar algo como o code mas não achei nada equivalente na linguagem c alguém tem algo equivalente  qual a diferença entre ienumerable iqueryable e list no net  quando é melhor usar uma ou outra  por que o resharper me sugere modificar o retorno dessa função por exemplo de code  code  para code  code    muitos sites do governo brasileiro costumam não ter certificados de segurança válidos exemplos  httpswwwibamagovbr validade expirada httpswwwibgegovbr autoassinado url inválida httpswwwfunaigovbr autoassinado httpswwwbrasilgovbr ca desconhecido icpbrasil httpswwwsenadogovbr ca desconhecido icpbrasil url inválida  na maioria dos casos o browser diz que o certificado raiz da autoridade de certificação não é confiável e outros ainda estão simplesmente com a validade expirada essa situação é incomum em sites comerciais mas de vez em quando também topo com um desses e naturalmente eu próprio tenho certa dificuldade de manter os sites que gerencio sempre com certificados válidos  é necessário que um site tenha certificado válido para que a comunicação com ele seja segura por que alguns desses sites do governo têm funções muito importantes ex receita federal ministério do trabalho siape é seguro continuar utilizandoos apesar do alerta de segurança apresentado alguns chegam mesmo a instruir o usuário a ignorar esses alertas  já me foi sugerido pelo meu antigo provedor de hospedagem usar certificados do cacertorg em vez de um autoassinado pois eles ainda não são reconhecidos pelos principais browsers mas muitos sistemas já aceitam ou seja ainda é invalido seria essa uma prática aceitável posso simplesmente dizer pros meus usuários ingnorarem o alerta de segurança e pronto tal como esses sites do governo fazem que impactos um certificado inválido tem na segurança de um site  o que nos ensinam sobre herança  a esmagadora maioria dos materiais que tratam sobre herança de classes a exemplificam como um mero mecanismo de agrupamento de atributos ou ações comuns no máximo como um meio de representar uma hierarquia análoga a algo que observamos na vida real como amostra veja esta apostila da unicamp e esta outra da caelum  o mesmo se aplica às aulas que assisti sobre o assunto ainda lembro quando aprendi que a orientação a objetos possibilita representarmos o que vemos na vida real a herança é comumente definida como um relacionamento do tipo é um exemplos clássicos como code e code estendem code ilustram isso   o problema é que quando aprendemos dessa forma a nossa preocupação recai em classificar os objetos da vida real para agrupar em hierarquias e então procurar atributos e ações comuns para colocarmos na superclasse   posso dizer que passei muito tempo usando herança como forma de agrupar coisas parecidas e evitar repetição de código não considerando pontos importantes como acoplamento e coesão   herança na prática  contudo parece que na prática isso simplesmente não funciona tão bem como na teoria como exemplificado na questão prefira composição em vez de herança a excelente resposta aceita diz    somente use herança se o subtipo puder perfeitamente substituir o tipo base   essa afirmação que considero correta nos leva à consequência lógica que de que o exemplo dos bichos não representa adequadamente o modo como devemos encarar a herança code é um code mas cada code exibe um comportamento muito distinto dos demais code não é exatamente uma especialização de code ou seja um code que tem alguma coisa a mais ele é um tipo único de code que dificilmente pode ser substituído por outro sem impacto  como foi explicado na resposta citada usar a herança simplesmente para exibir um comportamento comum ou reaproveitar código não é em geral uma solução adequada para isso existem interfaces e delegação  conclusão  enfim minha dúvida é existem situações onde seria apropriado usar a herança simplesmente para agrupar objetos com comportamentos e atributos comuns ou ainda para criar hierarquias de objetos que representam a vida real se possível dê um exemplo  pergunta bônus será que vale a pena começar a utilizar outros exemplos para herança e não deixar que as pessoas descubram por si mesmas que na prática a coisa não é bem assim    atualização considere apropriado ou certo o uso da herança que beneficie o sistema a longo prazo isto é evite problemas de manutenção e evolução do produto por exemplo usar herança para uma hierarquia pode causar um grande problema se os filhos dessa hierarquia passarem a ter características diferentes dos pais e o código polimórfico começar a quebrar ou ficar com vários codes para tratar casos específicos     por esmagadora maioria quero dizer quase todos os livros apostilas e aulas que conheço   note que não estou dizendo que elas estão totalmente erradas mas que transmitem um aspecto de forma equivocada  observação eu entendo que muitos podem considerar esta questão baseada em opiniões se acharem que ela não é adequada ao formato do site comentem que eu ajustarei ou excluirei conforme o caso  clipper foi uma linguagem muita usada nos anos e até boa parte dos anos especialmente em alguns países como o brasil de fato muitos sistemas administrativos ainda usados hoje foram feitos nele mas ainda é possível desenvolver softwares modernos usando ele  quando eu estava usando o sublime text para editar um arquivo code percebi que ele me sugeriu uma tag com o nome de code  eu nunca tinha visto sobre essa tag antes mas parece que realmente existe  como não vi nenhum explicação em português sobre o assunto resolvi fazer essa pergunta aqui   para que serve a tag code  essa tag é nova de alguma forma ela pode substituir a funcionalidade de autocomplemento que existem atualmente em várias bibliotecasframeworks em code   tenho ouvido falar muito de kotlin   o que é isso é uma linguagem de programação se sim quais as principais características posso programar em qualquer sistema operacional e executar como funcionam os tipos nela   não quero saber tudo mas uma informação básica sobre o que é isso  tenho uma tabela com uma coluna code não posso definir como chave primária em um sistema que recebe muitas notificações antes verifica com um code para ver se aquele código já existe na tabela se não existir ele dá o code e se existir ele faz o code  acontece que esse sistema recebe muitas notificações via code onde muitas delas acontecem ao mesmo tempo para o mesmo código  muitas vezes o sistema mesmo dando o code antes acaba inserindo códigos duplicados na tabela  não sei como é que o mysql trata isto pelo que não sei se é seguro fazer um code verificador antes do code presumo que exista uma espécie de fila de consultas e que a mesma vai sendo processanda uma a uma  code  como que um código acima poderia permitir inserir dois registros com códigos iguais imagina uma requisição com uma notificação acontecendo ao mesmo tempo exatamente ao mesmo tempo  qual a melhor maneira de contornar isso sem uso de chave primária  quais são as características de um código com coesão ou acoplamento até que ponto isso pode gerar problemas futuros  suponha a tabela code e o campo code  em uma consulta sql qual a melhor forma de se calcular a idade de uma pessoa em formato inteiro na linguagem tsql do sql server  por exemplo  code  estou fazendo um efeito aqui mas não estou entendendo esse sinal de code que tem no framework  resultado final  \r \r code\r code\r code\r \r \r   frequentemente é dito que pegar todas as colunas de uma tabela através do comando code é uma má prática qualquer recomendação sem explicação não é útil então  se é uma má prática deve haver um jeito de usálo adequadamente deve haver uma situação em que não cause problemas se fosse sempre ruim provavelmente nem existiria a possibilidade de uso  quais problemas são causados pelo seu uso  estes problemas ocorrem sempre há como contornar ou há situações que não faz diferença  as recomendações são válidas para qualquer banco de dados  eu comecei a ler um artigo sobre ecmascript e me deparei com o termo transpilation que em português seria transpilação além desse percebi que outros artigos usam esse termo  é a primeira vez na minha vida de programação que me deparo com esse termo  o que isso significa esse trans tem a ver com traduzir código ou algo do tipo  eu sei tem a pergunta qual a diferena de arquitetura e engenharia de software  ali já responde em parte ainda que eu não tenha ficado satisfeito com as respostas que até são boas se puder fazer algo melhor ajudará caso contrário deixa o que já tem lá especificamente a arquitetura define o que  mas acho que o que separa cada função destas disciplinas do título não fica claro  por exemplo do que trata a ciência da computação que não trata na engenharia de software ou viceversa  programação e codificação parecem a mesma coisa mas é mesmo  o mesmo pode ser dito de análise e design pra mim parecem coisas diferentes análise talvez seja um estranho nisso ficaadicapraresponder  eu vejo estas coisas como uma hierarquia ou fases do processo de desenvolvimento de software como um todo por isso acho que todas estão relacionadas diretamente por isso fiz em uma pergunta só  então quero entender a linha que determina onde começa uma e outra o que cada uma define  não quero detalhes só linhas gerais se for necessário detalhes de cada função farei perguntas específicas  note que quero saber sobre as funções efetivamente exercidas não sobre cargos eu sei que uma mesma pessoa pode ter mais de uma função e que o cargo que ela ocupa não indica nada que ela pode ou não fazer  já conheço a wikipedia pode colocar links para complementar mas uma resposta boa vai além do que está lá inclusive não sei se é uma fonte tão confiável assim nesse assunto  não quero opiniões precisa de algum fundamento caso contrário considerarei a resposta errada  tentei procurar pelo google e no soen mas não encontrei nenhuma referência ao operador code descobri que ele existe pois estava lendo um livro sobre javascript e tinha um exemplo utilizando ele mas o autor também não havia feito nenhuma referência ao til antes  code  qual a função do operador code e quando ele é geralmente utilizado  em php quando possuo um code com valores duplicados é possível obter apenas valores únicos através da função code  exemplo  code  porém eu precisei fazer algo parecido em javascript mas não encontrei uma função que fizesse isso nativamente  qual é o meio mais simples em javascript de se obter os valores únicos de um code  vou deixar esse array de exemplo  \r \r code\r \r \r   estou procurando por maneiras de se copiar um texto pra área de transferência clipboard via javascript que funcione na maioria dos browsers modernos mas há informação demais e me parece desatualizada sei que há a clipboard api e que ela é parcialmente suportada por todos exceto o firefox que a implementa totalmete gostaria de utilizála mas só encontro exemplos que usam o code que é justamente a parte ainda não amplamente suportada  montei um jsfiddle de exemplo que não funciona nem no firefox recursão infinita no evento code nem no chrome code não suportado segue o código  code  gostaria de um exemplo que evitasse essa recursão infinita ela é causada porque o handler que cria o code acaba capturando o evento que ele mesmo criou e que oferecesse um workaround pro caso do browser não dar suporte ao code  iniciar em programação nem sempre é fácil além de termos que aprender a escrever o código existem dezenas de termos tecnologias entre outras coisas que precisam ser estudadas  visando ajudar quem está começando minha pergunta é o que é uma linguagem de programação uma ide e um compilador qual a relação entre esses itens  na pergunta do meta tags diferentes para quottestesquot eu notei que tenho alguma dificuldade para entender todos estes termos sobre testes  certamente testes passaram ser muito importantes ao longo da trajetória do desenvolvimento de software com isto proliferam conceitos e a sopa de letrinhas está cada vez maior  o que diferencia os conceitos envolvidos em testes as siglas e as definições formais são fácil de descobrir  teste de software testes unitários ou unidade de testes há diferença testes funcionais tdd quality assurance acceptance testing existe algum outro termo relacionado que seja muito importante para ser destacado   faz um tempo estou tentando aprender a usar promessas e programação assíncrona em javascript mas até agora não tive muito sucesso nisso já entendi que existem funções que retornam as tais promessas e que então é possível encaixar um callback no método code do objeto retornado também sei construir funções que retornam promessas usando a biblioteca code  meu problema é que não sei como usar as promessas na prática sempre que tento vira uma confusão e acabo tendo um monte de codes aninhados e na maioria das vezes nada funciona sem falar que é extremamente comum que eu caia em situações do seguinte tipo preciso de certos dados que são carregados do servidor essa chamada retorna uma promessa mas eu preciso dos dados em uma função que é executada logo em seguida  na verdade não estou conseguindo pensar do jeito certo com programação assincrona e promessas é muito natural pensar daquela forma primeiro acontece isso e em seguida tem que acontecer aquilo mas parece muito estranho pensar alguma hora vai acontecer isso e nem sabemos quando vai acabar e precisa acontecer uma outra coisa que depende da primeira alguém poderia dar algumas dicasreferências pra pegar o jeito mesmo disso  tenho um layout com uma barra de navegação horizontal na parte superior do site ele está com code quando rolar a página o menu deve ser fixado no topo da janela mas com code   qual a melhor forma de realizar isso  bom comecei a desenvolver web a pouco tempo digamos ano e aqui na empresa utilizamos muito code e code sei que na visão de html os frames estão obsoletos mas ainda vejo muita gente defendendo o uso deles   gostaria muito de saber o por que deles serem motivo de tanto debate quais seus benefícios e malefícios na hora de se desenvolver se o code está obsoleto qual é o seu substituto na visão de html   se para o html os frames estão obsoletos deve ter uma resposta plausível do porque  por que é obrigatório implementar esse método em uma aplicação java  como um computador entende o código binário como o código binário foi criado e quem a criou  estou desenvolvendo uma ferramenta para reconhecimento biométrico usando o sdk fornecido em formato dll desenvolvido em delphi para o acesso à dll a partir do java estou usando jna  o template da digital a parte mais importante é um objeto que se refere a este trecho em delphi  code  como desenvolver algo equivalente em java    basicamente preciso chamar as seguintes funções da dll  code  olhando o exemplo fornecido desenvolvido em delphi vi que o objeto code que é passado nas funções code e code é do tipo code declarado no trecho de código mais acima  no mesmo exemplo antes de chamar o método code o objeto code é instanciado e vai vazio onde então é preenchido através da função  o leitor é o techmag bioflex que é baseado nos leitores futronic fs  pesquisando vi que o objeto code do trecho de código faz acesso à memória para ler as informações que o leitor grava nela escreve  depois de muitas pesquisa acho que devo desenvolver algum objeto equivalente em java estendendo das classes code ou code do jna      atualização informações sobre meu código  leio e armazeno duas vezes a minha digital utilizando o método code depois comparo as duas utilizando o método code que sempre retorna code comando não executado  printei os objetos code e code após ler a digital code retorna code e code retorna code  interface com os métodos da dll  code  classe que estende structure referente ao objeto cis_digital  code  método responsável por ler duas vezes qualquer digital e comparálas  code  otimização prematura é quando há uma preocupação excessiva por parte do programador com o desempenho da aplicação  ela é normalmente condenada por alguns programadores por motivos como   isso pode deixar o código mais complexo sua produtividade cai você perde tempo há uma grande chance de você se preocupar muito com otimizações que não trarão uma melhora perceptível pelo usuário   a recomendação seria que você primeiro fizesse funcionar e só depois identificasse os gargalos de desempenhos e os corrigisse  porém há certas otimizações que devem ser levadas em conta desde o início pois depois pode se tornar mais difícil otimizar  até que ponto devemos nos preocupar com o desempenho sem que isso cause uma perda considerável na produtividade  comecei em a usar padrão mvc o conceito de model e controller entendo perfeitamente mas a questão de view me intriga  o que é a view em um modelo mvc  sei que é o que o cliente vê representação dos dados mas o que pode ser entendido como parte de uma view   e no caso de uma aplicação separada para a interface do cliente posso considerar essa como a camada de view   em outras palavras o que faz parte da view no lado do servidor falando em desenvolvimento web  vejo algumas pessoas do meio da programação se referindo a esse termo sempre que aparece um código com uma solução estranha ou meio engambiarrada   dando uma pesquisada rápida no google eu cheguei a conclusão de que realmente é isso  achei os termos go horse process e extreme go horse   o que achei estranho é que em alguns artigos que falam sobre go horse process apareceu também vários tópicos de como fazer itens e ainda foi chamado de metodologia  mas do que realmente isso se trata   é realmente uma metodologia ou uma piada ou uma forma hilária de se listar aquilo que deve ser evitado na programação  essa pergunta parece ter uma resposta óbvia mas eu confesso que ainda não peguei a ideia sozinho estou trabalhando com orientação a objetos desde principalmente voltado para desenvolvimento web logo que comecei já ouvi falar sobre mvc quando peguei um livro de mvc pra ler ele citava muitos outros padrões de arquitetura entre eles o mvvm e o mvp  mas qual o real papel desses padrões de arquitetura sempre que vamos fazer um projeto orientado a objetos escolhemos algum padrão pra basear ele claro que é possível criar um novo projeto e sair programando sem padrão nenhum mas na prática sempre escolhese um padrão pra basear o projeto  além disso me parece que a decisão dos padrões se baseia em última instância não no modelo de domínio mas na interface com o usuário digo isso porque vi o seguinte a motivação para o mvc na web é o fato do http não manter estado o fato da interface com o usuário ser na web o mvvm aparece em cenários onde há estado ou seja o fato da interface com o usuário permitir isso e por ai vai como é feita essa escolha de padrão  o seguinte código imprime vezes o texto mensagem em um code    code  veja o exemplo no jsfiddle  eu entendo que isso ocorre porque o valor de code é atualizado na função externa e no momento da execução da função interna a referência aponta para o valor atualizado  como fazer para imprimir o valor da variável code correspondente ao número da iteração ou seja o valor de code no momento em que a função interna foi criada na chamado do code resultando em textos de mensagem a mensagem   recentemente descobri as famosas ou não tão famosas assim funções recursivas e achei bem interessante o conceito porém ao longo da minha leitura me surgiram algumas dúvidas com relação ao uso de tal  ª qual a vantagem de usarmos uma função recursiva pois eu não consigo entender a vantagem disto  code  sobre isto  code  ª como fica o consumo de memória pois pelo que eu entendi uma função recursiva é executada dentro de outra função fazendo então um laço de repetição dependendo do tamanho do cálculo o uso de uma função recursiva poderia prejudicar o desempenho da minha aplicação  ª eu devo utilizar uma função recursiva ao invés de um loop de repetição comum eg code quais seriam as situações ideais para o uso de funções recursivas  sou iniciante no js e procuro entender a teoria só que todos os artigos que encontro sobre dom são demasiadamente científicos  não haveria uma forma mais simples de explicar isso para um leigo  estou estudando rest e desenvolvimento de web apis e ouvi falar sobre hateoas hypertext as the engine of application state eu entendi a ideia ao responder uma requisição além do que normalmente retornamos a ideia é também retornar dados sobre o que pode ser feito em seguida um exemplo que vi na internet foi esse  code  além disso já li várias vezes que fazer isso é muito importante pra várias coisas entre elas pra permitir que a api consiga evoluir facilmente sem quebrar clients antigos  acontece que eu não consigo entender quais são os reais benefícios de fazer isso basicamente o client não vai decidir por si só quais chamadas fazer baseado nesses links de qualquer forma temos que colocar hardcoded lá o que pode ser feito em seguida  assim qual a real importância de usar hateoas e quais benefícios temos a partir do seu uso  uma dúvida muito comum é por que devemos parar de usar funções do tipo mysql_ por exemplo code ou code  vejo que muitas pessoas as usam ou param de usar mas não sabem o real motivo por que elas deveriam parar de ser usadas uma vez que funcionam  tenho uma tabela que possui registros duplicados eles não deveriam estar duplicados   alguns registros duplicaram duas cinco e até trinta vezes por acidente   preciso remover esses registros duplicados porém preciso deixar um então por exemplo se eu tenho um valor repetindo vezes preciso deletar   meu cenário é mais ou menos esse  code  o resultado está assim   code   mas preciso que fique assim   code   nota só quero deletar os duplicados se o status for porém quero deixar um  como fazer uma query que delete os duplicados porém deixando sempre um registro  estou com o seguinte código em javascript  code   por que a expressão com o operador code retorna code e com o operador code retorna code  qual é a diferença entre os dois operadores   eu já ouvi esse termo da boca de algumas pessoas mas não costumo ser bom com esses termos técnicos  o que seria um código legado   está relacionado a código ultrapassado  estou trabalhando em um sistema muito grande utilizando net aspnet mvc a aplicação requer um nível crítico de desempenho até que ponto vale ou não a pena utilizar uma orm existe alguma ferramenta que eu possa comparar em termos de desempenho os orms e sql puro   eu sei que existe uma diferença de desempenho entre sql puro e orm não sei se é os activerecords ou os orms em gerais são mais lentos em comparação com sql puro caso considere usar um orm qual deles provavelmente tem o melhor desempenho ef ou nhibernate   sei que tudo também depende da estrutura do banco e das boas práticas mas de modo geral para um sistema muito grande considero uma orm já que o custo beneficio em relação manutenção do sistema é muito mais alto do que não utilizando  em sistemas de negócios especialmente erps internacionais ou mesmo em cadastros em sites vemos que o cadastro pede o sobrenome last name e o nome first name em alguns casos há até o nome do meio middle name  no brasil eu não me lembro de ter visto isto em algum lugar sempre é usado uma coluna de nome único sem separação das partes  quais as vantagens e desvantagens de cada um do ponto de vista de modelagem e experiência do usuário  bonus point não é o foco principal da pergunta e não sei se pode ser respondido de forma autoritativa  por que isto ocorre por aqui seria uma questão cultural histórica  note que é uma questão de modelagem de dados e também de experiência do usuário nem sempre eles se compatibilizam diretamente  estou fazendo um pequeno sistema e para acessálo o usuário digita o login e senha  qual a melhor forma segura e simples de fazer o sistema de login e senha  o que é essa tal de race condition que pode causar problemas nas aplicações como evitála  no java o conceito do trywithresources foi adicionado na linguagem  o que é o trywithresources como ele funciona para que ele serve como é que ele é usado que problema ele visa resolver  tenho ouvido falar bastante sobre injeção de dependência a pergunta é como quando e para que usar  desde os tempos de faculdade não consigo entender a real diferença entre o tipo code e code acabei encontrando o tipo code que também trata valores reais  sobre o tipo code encontrei a seguinte afirmação    para qualquer cálculo que envolva dinheiro ou finanças o tipo  code deve ser sempre utilizado só este tipo tem a precisão  adequada para evitar os erros críticos de arredondamento    por quê    o tipo de dados decimal é simplesmente um tipo de ponto flutuante que  é representado internamente como base ao invés de base dois   em quais situações esses tipos devem ser usados de forma correta poderiam me explicar o porquê do tipo decimal ser o ideal quando se tem dinheiro envolvido qual a diferença entre ambos  é uma questão bem básica porém que me intriga bastante vejam o código abaixo  code  agora vejam o mesmo com code code e code  code  ou seja o mesmo fim pode ser obtido de ambas as maneiras  o code e code não teriam apenas efeito semântico  tenho ouvido falar muito sobre metodologias ágeis e gostei bastante da ideia claro que pelo que vi o cliente precisa cooperar mas me parece que para projetos próprios ou seja cuja ideia seja minha e não de um cliente essas metodologias podem ajudar bastante  minha dúvida na realidade é se essas ideias todas se aplicam a programadores que trabalham sozinhos a ideia de agilidade na primeira vez que a vi parecia ser basicamente a ideia de quebrar o processo de desenvolvimento de um software em várias iterações cada uma composta por análise design e programação  pesquisando mais porém tudo que achei se relaciona com equipes achei várias formas de se usar metodologias ágeis como scrum etc mas tudo que eu lia sobre o assunto falava sobre equipes dividir tarefas etc  minha pergunta é existe uma forma de se utilizar metodologias ágeis trabalhando sozinho se sim onde posso ver mais sobre isso  eu estava dando uma olhada no códigofonte de uma library conhecida do php chamada code tratase de um template engine com sintaxe própria e me deparei com classes interfaces e métodos como code code e code  dei uma pesquisada e percebi que se tratava do termo análise léxica  apesar de ter entendido algumas coisas fiquei confuso em outras  por exemplo estou acostumado a ver o termo code ou code quando se trata em transformação de um determinado dado em outro dado   o que seria a análise léxica análise léxica e parsingparser se trata das mesmas coisas ou na verdade são coisas diferentes   desculpem se estou confuso na pergunta mas creio que a comunidade me ajudará com uma boa e esclarecedora resposta  como remover acentos e outros sinais gráficos de uma string em java ex     code  estive me questionando porque alguns sistemas exigirem senhas tão fortes   exemplo   minimo de caracteres maiúsculas e minusculas números caracteres especiais   em vários locais dizem que senhas fortes garantem uma maior segurança do sistema e que ajudam a prevenir ataques de algorítimo como o codealgoritmo capaz de detectar senhas curtas em contrapartida descobrir o algoritmo code    bancos por exemplo usam senhas com dígitos e essa senha são números   penso que senhas fortes e complexas dificultam e muito o usuário no login pela dificuldade em lembrar qual senha criou  porque usar senhas tão complexas isso não dificultaria o usuário a lembrar essa senha em uma possível volta ao sistema  porque uma senha sem esses critérios mencionados acima são consideradas fracas  existe alguma situação em que ter o banco de dados desnormalizado é mais interessante que têlo normalizado  por exemplo  normalizado  code  desnormalizado  code  em algum momento o segundo caso é mais apropriado que o primeiro  achei engraçado o exemplo mas é válida a pergunta no sentido de entender o porquê de o php se comportar dessa forma  quando fazemos a soma exemplificada abaixo uma inteiro somado a uma string  code  o resultado é  code  porém nesse caso ele retorna apenas code  code  por que o interpretador do php se comporta dessa forma    atenção não estou procurando por pedaços de código prontos quero apenas que alguém me ajude a pensar em alguma forma de gerar esses primos da forma mais eficiente possível em python   estou resolvendo a questão do codeabbey mas não estou conseguindo pensar em como gerar os primos que o exercício pede  o enunciado basicamente considera que existe uma list que contém todos os números primos do mundo a começar pelo com base nessa list o enunciado dá uma série de índices índices dessa list e o programa tem que retornar o primo que ocupa esse índice nessa list imaginária  ex na list o índice é o é   o enunciado garante que a série de índices que ele vai fornecer aleatoriamente não possui nenhum índice superior a por isso primos no máximo  exemplo de input e output  code  no final do enunciado o codeabbey avisa que existe uma forma de gerar o resultado em segundo eu poderia deixar o meu código do jeito que está agora esperar dois dias e dar a resposta hahaha mas isso seria trapaça e eu não teria aprendido nada com o exercício  deixei o meu programa rodando por minutos e não gerou resultado talvez um segundo seja muito pouco tempo mas com certeza tem como resolver em hm menos de segundos  para tentar resolver estou implantando o sieve of eratosthene ou crivo de eratóstenes  segue meu código atual  code  por que a formação de cores no rgb não segue o mesmo padrão da natureza e mesmo assim dá certo  por exemplo  no rgb amarelo vemelho e verde ff ff ffff mas se pegarmos um lápis de cor amarelo e outro azul ou tintas pincéis etc e pintar uma mesma área ela se torna verde ou pelo menos algo parecido  os tons não são os mesmos até porque depende da quantidade de amarelo ou azul para formar o verde  isto é o amarelo depende do verde e em outro o verde depende do amarelo  nota entendo que as respostas irão pender para o lado da física e biologia mas sempre tive essa dúvida porque além de trabalhar com backend trabalho com frontend e isso me ocorre muito frequentemente isso porque o sistema rgb não fecha muito o que aprendemos com a tia de artes na escola então não fica muito intuitivo na hora de chegar em uma cor ao desenhar uma página estou atrás do porque do sistema rgb ser diferente do outro e ele ser o escolhido para ser aplicado em imagens e desenhos de aplicações se não estou enganado é estudado em processamento de imagens  tenho uma tabela por exemplo code e gostaria de deletar todas as pessoas acima de anos com o script abaixo faço isso  code  o problema que existe mais de milhões de registro na tabela com  pessoas acima de anos e como o banco esta em produção ao fazer isso vou travar todos os usuários  existe uma forma mais eficiente de resolver este problema   para um único script a ordem de cargaexecução na presença ou não dos atributos code e code é clara sem nada carrega e executa imediatamente com code carrega em paralelo e executa ao final da carga com code carrega em paralelo e executa ao final da renderização    minha dúvida é o que acontece quando há mais de um script na página em especial se o uso ou não dos atributos acima for combinado  code  pelo meu entendimento podese fazer algumas afirmações com certa segurança corrijamme se eu estiver enganado   e executará antes de f a e b executarão depois de e e f c e d podem executar antes ou depois de e e f inclusive entre um e outro d pode executar antes de c se sua carga for mais rápida   mas para outras eu não sei a resposta   b pode executar antes de a se sua carga for mais rápida ou o code impõe uma ordem aos demais scripts também com code se d for carregado enquanto e está carregando mas não executando ele executará antes de e ou não ie quando a carga de um script síncrono começou é preciso esperar sua execução terminar para executar um script assíncrono c e d podem executar depois de a e b em outras palavras se a carga de c por exemplo demorar demais e tanto a renderização da página quanto a carga de a e b concluírem primeiro estes podem executar imediatamente ou é necessário que todos os scripts code executem antes que qualquer script code execute   gostaria de saber se possível o que está especificado em relação à ordem de execução dos scripts e o que pode variar com a implementação sem necessidade de fazer testes embora estes sejam bemvindos como complemento  estou estudando javascript e vi algumas explicações que me deixaram com dúvidas aqui no stackoverflow vi várias perguntas sobre a possibilidade de se criar um classe abstrata em javascript  porém minha dúvida é a seguinte é possível criar uma classe em javascript  estou perguntando isso porque estou usando como guia o site developermozilla encontrei a seguinte informação     a javascript é uma linguagem dinâmica orientada a objetos tem tipos  e operadores objetos e métodos sua sintaxe vem das linguagens java e  c por isso tantas estruturas dessas linguagens se aplicam a  javascript também uma das principais diferenças é que o javascript  não tem classes em vez disso a funcionalidade de classe é  realizada por protótipos de objetos a outra diferença principal é que  as funções são objetos dando as funções a capacidade para armazenar  código executável e serem passadas como parâmetro para qualquer outro  objeto   a afirmação em negrito me deixou com essa dúvida pois se trata de uma fonte confiável para estudos o que entendi é que não existem classes mas existem elementos que podem ser usados como classes  não sei se essa é a interpretação correta  e mais esse mesmo texto diz que o javascript é orientado a objetos então tentei entender o porque da afirmação da não existência de classes estaria por ali   vejo muitos colegas de trabalho e profissionais afora que dizem que instanciaram classes em javascript usaram tal classe para tal propósito em javascript  com isso quero entender é correto afirmar que existem classes em javascript ou não  sempre usei o code independente da situação e sempre funcionou raras vezes que tive que usar um dos outros e nessas vezes fiz por orientação de alguém e não por saber exatamente o que eu tinha que fazer   então qual a diferença entre os tipo de this quando devo usar um e quando devo usar outro muda de alguma forma a performance do código   afinal como funciona esse padrão de arquitetura seguindo as camadas model view e controller   sei que srp significa princípio da responsabilidade única cada classe deve ser responsável por tal coisa   o que devo fazer pra detectar que estou violando o srp o que devo levar em consideração para aplicálo corretamente uso com moderação   uma dúvida de como exemplo  estou desenvolvendo o framework na parte referente à biblioteca da code sempre considero esses fatores    carrega um arquivo para view carrega os dados da view possibilidade de estender essa view possibilidade de criar blocos para a view   em cada um desses casos devo me preocupar em criar uma classe que faça o que é pretendido code code code code ou jogo tudo na classe code  se considerar jogar tudo na classe code estaria violando o srp  tenho uma listagem de status que é exibida e cada status tem uma cor atribuída essas cores estão salvas no meu banco de dados em formato hexadecimal  exemplo  code  eu estou com um pequeno problema se a cor for escura demais pelo fato da mesma ser usada para code a cor do texto tornase ilegível   então eu queria saber se tem alguma forma de descobrir se a cor é escura para quando for escura eu determinar que a cor do texto será branco e se for clara preto  tem como fazer isso  nota a solução pode ser tanto em javascript como em php  me parece que o conceito de protótipo é fundamental em javascript e inclusive em vários lugares tenho lido que é um de seus pontos fortes entretanto este não parece um conceito tão simples de entender para quem vem de outras linguagens  assim pergunto como funcionam protótipos em javascript   sei que em no primeiro o objeto passado como argumento para uma função é copiado e no segundo não também sei que é extremamente incomum em linguagens modernas a passagem de objetos complexos por valor enquanto tipos primitivos números caracteres booleanos frequentemente o são mas o que exatamente são esses modos de passagem leio muito que em java as referências são passadas por valor e vejo também que há linguagens modernas como c que dão mais opções de passagem de parâmetros que a maioria das linguagens orientadas por objeto  o que gostaria que fosse explicado é   na passagem por valor o argumento é copiado ok mas o que exatamente é copiado o objeto inteiro inclusive todas as suas referências o que constitui uma passagem por referência se a linguagem possui ponteiros passar um ponteiro para um objeto como argumento significa que se está passando o objeto por referência o que significa exatamente passar uma referência por valor volta aqui o primeiro item o que da referência está sendo copiado já que a passagem é por valor   para não ficar muito amplo se é que já não está peço que as respostas se foquem nas linguagens cc tradicionais que introduziram a muitos de nós os conceitos envolvidos java que pelo menos pra mim marcou a mudança de paradigma entre raciocinar em termos de ponteiros e em termos de referências e talvez c linguagem moderna que se não me engano trouxe mais flexibilidade nas formas de manipular objetos  estou construindo um parser para uma linguagem de programação a gramática não precisa atender todas as complexidades de uma linguagem como c ou lisp  tenho um conhecimento moderado sobre construção de linguagens mas pouca experiência com as ferramentas e metodologias para implementálas tenho uma noção como funciona um parser e quais os algoritmos mais utilizados para isso entre eles pude selecionar dois o ll e o lr já estudei o básico sobre eles mas por ter só conhecimento teórico ainda não estou confortável em dizer as vantagens de cada um  se você tem experiência com ambos algoritmos construindo um compilador na situação citada acima poderá me ajudar   o que eu ganho e o que eu perco quando escolho o parser com algoritmo ll ou com algoritmo lr deixei de olhar outros algoritmos importantes que podem ser mais indicados em alguma situação do que os dois citados como se comportam perante a complexidade da gramática facilidade de implementação e manutenção e velocidade de execução   não quero saber qual o melhor até porque se um fosse claramente melhor que o outro o último seria citado apenas historicamente isso só eu poderei determinar preciso de subsídios para tomar a minha decisão  estava lendo as respostas da pergunta quando usar waterfall e quando usar scrum e me deparei com algo citado pelo usuário utluiz que me deixou com dúvida que é a sequência de desenvolvimento de software    requisito análise design implementação teste integração   dúvida  eu gostaria de uma explicação a respeito de cada passo desta sequência e qual é a finalidade de cada um dos passos  como uma linguagem de programação é criada  em termos gerais por onde e como funciona a validação das funcionalidades da nova linguagem  por exemplo temos a linguagem c ela é complexa e tem bastante conteúdo e utilização mas como chegou até aqui como se iniciou como foi criada estou usando o c só como um exemplo a pergunta é mais geral  não quero saber sobre o que é uma linguagem de programação que já tem pergunta sobre isto não quero saber sobre como funciona um compilador e a diferença dele para a linguagem isto já foi perguntado antes  estou tentando aplicar um estilo ao meu elemento e definir a importância dele desta maneira  code  porém não funciona qual seria a maneira correta  qual a utilidade da palavrachave reservada code  quando e onde é usada  contexto fui educado na metodologia do processo unificado sei que agile é muito popular hoje em dia mas tenho pouquíssimo conhecimento do processo entendo a filosofia que mudanças são inevitáveis é melhor se preparar pra lidar bem com elas do que tentar evitálas mas isso não é muito consolo quando sou cobrado a apresentar um orçamento mesmo que inicial para um projeto de desenvolvimento pelo up primeiro se orça a elaboração do projeto conceitual que é uma simples questão de estimar o número de horas necessárias para se levantar e analisar todos os requisitos e com poucas consequências negativas caso se erre no julgamento e com base neste se orça o projeto de implementação na teoria parece tudo muito bom mas me falta experiência prática para corroborar essa afirmação  problema sei que a resposta correta para como orçar um projeto de software é depende depende do escopo depende dos requisitos específicos depende do cliente mas o fato é que clientes em potencial demandam no mínimo uma previsão preliminar de prazos e custos e às vezes plataforma antes mesmo dos requisitos serem detalhados minha dificuldade é em estabelecer esses parâmetros iniciais ou mesmo ajustar minhas expectativas sobre o que é ou não realizável na prática  pergunta quais parâmetros devo observar para fazer um orçamento inicial ou preliminar para um projeto arbitrário de desenvolvimento mais especificamente   devo cobrar pelo levantamento inicial de requisitosdefinição do escopo ou esse é um ônus que terei de assumir   e se a resposta for não cobrar devo insistir com o cliente que não é possível orçar nada antes de fazer esse levantamento o cliente não vai gostar uma vez que levantar requisitos exige envolvimento de sua equipe também o que lhe traz custos indiretos antes mesmo de ter a certeza que vai mesmo fechar contrato conosco  no caso de um projeto de grande escopo embora ainda bastante indefinido devo separálo em um projeto conceitual e um projeto de implementação ou isso é contraproducente   esclarecendo projeto conceitual é aquele em que eu faço levantamento e análise de requisitos sendo que o deliverable é uma especificação mais orçamento para a fase de implementação o projeto de implementação esse já feito com bases mais sólidas pode sim ser flexível em relação a mudanças não precisando seguir a especificação a ferro e fogo mas ainda precisa de uma base para ser orçado e essa base seria conseguida através do projeto conceitual por que seria contraproducente não sei apenas é o que sempre ouço dos proponentes do agile que é besteira fazer projeto de grande escala antes de se começar a implementar ao menos um sprint deveria estar previsto que os requisitos mudam o tempo todo e no final pouco do que foi projetado no início será implementado de fato etc  em que termos deve ser feito esse orçamento idealmente mudanças nos requisitos deveriam refletir em mudanças nos prazos e custos nisso a turma do up e a turma do agile concordam mas se contratualmente estou obrigado a entregar x no prazo y mediante pagamento de z não me parece viável haver uma mudança contratual toda vez que se fizer uma renegociação de prazos e custos   questões jurídicas à parte já que isso está obviamente fora do escopo do site o que eu pergunto é se é melhor fazer um guesstimate de preferência por cima do custo e ir refinando com o passar do tempo porém comprometido com a conclusão do projeto a todo custo ou se devo estabelecer condições para que na impossibilidade de se continuar o projeto dentro dos prazos e custos estabelecidos o mesmo seja encerrado de comum acordo por ambas as partes como fazer isso é claro é responsabilidade do nosso advogado    de preferência gostaria de respostas embasadas em experiência pregressa sei que nem todo desenvolvedor está diretamente envolvido com esse tipo de questão mas ao menos os que ocupam uma posição de liderança já devem ter tido que fazer estimativas sob bases incertas e para não ficar muito amplo o ponto central da pergunta é o quanto eu devo assumir de ônus ao estabelecer um escopopreparar uma proposta de graça e quais são os parâmetros mínimos que eu preciso coletar antes de dizer a partir daqui só me pagando  em geral classes possuem métodos construtores  qual a utilidade do método construtor de uma classe por que devemos criálo dá para trabalhar sem ele  quais problemas um programa poderá enfrentar com o uso de estados globais  onde ele pode ser aceitável ou seja como saber se estou abusando do recurso  que alternativas existem para evitar isto  eu já passei perto do assunto na pergunta por que no devemos usar singleton e de certa forma motivou esta nova pergunta  para aceder a uma área em particular do site tenho que indicar de um a três parâmetros no url  url normal  code  através do htaccess estou a tentar permitir acesso aos módulos submódulos e conteúdos específicos da seguinte forma  code  até ao momento tenho o seguinte  o código em baixo permiteme aceder ao módulo mas tenho que o repetir por cada módulo existente faltando ainda lidar com submódulos e conteúdos específicos  code  pergunta  como é que consigo através do code ler os endereços para que possam ser utilizados de ambas as maneiras em cima apresentadas tendo em conta os três possíveis parâmetros  eu geralmente uso porque aprendi que era o mais correto a atribuição de eventos da seguinte forma  code  no entanto vejo muitos desenvolvedores utilizando a seguinte sintaxe  code  apesar de terem me falado que o code é o mais recomendado eu não entendi direito o porquê então na prática qual a diferença de usar um ou outro  como inverter uma string em javascript por exemplo  entrada    alguma coisa aqui   saída    iuqa asioc amugla   quando comecei a usar linq vi que poderia usar as famosas lambda expressions   até sei que code é uma lambda expression mas não consegui explicar para um colega o que realmente são e qual a vantagem em usálas  então vos pergunto  o que são lambda expressions e qual a sacada em usálas  vejo isso em alguns arquivos javascript   code  para que serve e como funciona  estou tentando fazer um code personalizado para um userscript vide how can i log information without using alert in userscripts e me dei conta que não conheço o que está por trás do code   já vi programas assim   code  e outros assim   code  o segundo código vai consumir mais processamento  sou iniciante em php e gostaria de saber se pdophp data objects é a maneira mais segura de se conectar a um banco de dados preciso também de um exemplo de como fazer esta conexão e inserirselecionar dados  o que é escopo  o que é tempo de vida  eles se confundem  visibilidade tem alguma coisa a ver com isto também  distinct    a instrução select distinct é usada para retornar apenas valores  distintos diferentes    dentro de uma tabela uma coluna geralmente contém muitos valores  duplicados e às vezes você só deseja listar os diferentes valores  distintos   sintaxe  code  group by    a instrução group by geralmente é usada com funções agregadas count  max min sum avg para agrupar o conjunto de resultados por uma ou  mais colunas   sintaxe  code  code retorna valores diferentes valores agrupadoscode também ficam distintosdiferentes  para demonstrar que os mesmo resultados são retornados usando ambas as declarações eu fiz um teste  sql fiddle  algumas dúvidas  qual a diferença entre ambas as declarações além da sintaxe  em relação ao desempenho existem diferenças existe alguma possibilidadeexemplo na prática em que o uso das declarações é necessária  poderiam dar exemplos de uso ideal de cada uma das declarações  pode parecer bobagem mas esses tipos de declarações confundem as pessoas e apesar de não parecerem o uso de ambos trazem resultados iguais  geralmente quando precisamos recorrer à requisições ajax usando javascript temos à mão apis que nos auxiliam com isso ex jquery  porém qual seria a maneira mais segura e crossbrowser de realizar essas requisições post e get usando javascript puro  algumas linguagens como c ainda possuem a instrução code  sempre ouvi que utilizála não é uma boa prática eu gostaria de saber   quais seriam as razões para evitar o code e quais os problemas causados por sua utilização code ainda existe por compatibilidade ou para casos muito restritos de utilização   se eu tenho um array ou uma coleção em um code e preciso percorrer seus elementos ocasionalmente preciso fazer uso de laço de repetição   ex  code  ou no caso de um array simples  code  porém já vi em alguns fóruns dizerem que informar o tamanho fora da condição do laço é melhor pois à cada iteração o laço não precisa ficar verificando o tamanho da lista e consequentemente tornando rápido algo como  code  existe mesmo essa diferença de performance entre se informar o tamanho da lista fora ou na própria condição do laço   não encontrei os links no momento  onde o código javascript deve ser colocado em um documento html no elemento code ou code no início ou no final de cada um existe alguma diferença de performance ou qualquer outra relacionada a isso  quais as principais diferenças entre as engines code e code e qual a situação mais apropriada para o uso de cada  sei que code não suporta code mas suporta code enquanto no code é o contrário pelo menos até a versão do mysql  por que um sgbdr rdbms tem como padrão uma engine que não oferece meios para relacionar as tabelas  tenho essa dúvida qual a diferença entre code e code e entre code e code qual deles devo usar   o que seria esse code como evitálo   vejo pela internet uma série de artigos com títulos como setinterval is bad que traduzindo seria setinterval é ruím   vi recomendações de usar uma função anônima recursiva com um code por ser aparentemente melhor que o uso de code  exemplificando com code  code  exemplificando com função recursiva e code  code  por que dizem isso  exemplo no jsfiddle   a ª imagem utilizo o charsetiso      nesta ª imagem utilizo o utf     tenho um sistema de notícias em que é possível colar html ou texto de outras páginas na página em que as noticias são apresentadas utilizo o code por causa da acentuação mas ao utilizar este charset os menus e restantes títulos ficam alterados devido à acentuçao  precisava da vossa ajuda para saber se é possivel ter dois metas charset na mesma página ou numa parte da página ou outra forma de contornar a situção  para além disso tenho dois ficheiros de conexao  code  mysqlphp  code  fiz um campo de email para o usuário se cadastrar e agora preciso de um sistema que verifique se esse email existe  eu preciso que quando o usuário digite seu email um sistema verifique se ele existe se ele possui mesmo esse email por exemplo o usuário digita code aí aparecerá do lado email válido ou email inválido   já pesquisei sistema de validação de emails mas não aparecem resultados concretos será que alguém pode me ajudar  o fato de uma função ser maior ou menor afeta a performance da aplicação especialmente em php se precisar de performance seria melhor funções grandes ou pequenas  e o consumo de memória é afetado se uma função grande dá lugar a diversas funções pequenas  muitas pessoas falam sobre o que é null mas afinal qual é o seu verdadeiro significado  no contexto do desenvolvimento de software o que é um jitter  cada vez se fala mais nisso e várias linguagens estão usando a tão falada compilação jit  no que ele difere de um compilador  estive pensando em um algoritmo contra ataques do tipo bruteforce que como vimos no caso do icloud pode gerar grandes dores de cabeça se tratado com indiferença  inicialmente eu pensei neste fluxo  tentativa de login    code darr    code darr    code darr    code code darr    code darr    code code   uma verificação apenas com sessões seria suficiente ou valeria a pena adicionar cookies ou algum outro método de checagem  eu já li e reli no wikipédia já assisti uns videos em inglês e em português sobre esse assunto já li vários artigos no google mas não consigo entender  por que ela entraria num loop infinito ou por que ela pararia todas as explicações usando a contradição não fazem sentido na minha cabeça  por favor sem termos técnicos me ajude com lógica simples a entender  quais as diferenças prós e contras entre code e code  sei que code e code são bibliotecas a primeira é dinâmica e a segunda é estática mas o que isso realmente quer dizer como cada uma funciona  se eu tiver que gerar uma biblioteca a partir de um código o que eu devo ter em mente para decidir se eu faço uma code ou uma code   estou iniciando os estudos em c e estou com dúvida se a linguagem é compilada ou interpretada  minha dúvida surge porque ouvi em uma palestra dizer que é compilada e outros dizendo que é interpretada  existe diferença entre code além de um ser javascript e o outro ser jquery  vejo que ambos os eventos são disparados assim que o dom modelo de objetos do documento é carregado  na prática como são escritos  code  como eu posso centralizar horizontalmente uma code que está dentro de outra code utilizando apenas css  no caso podemos assumir que code externa code tem a largura de   code   o que é o php injection  qual a diferença dele para o sql injection como evitar o php injection na minha aplicação quais são as principais formas de ataque do tipo php injection   atualização  observação lembrando que o sql injection não é a mesma coisa que o php injection  code injection in php  what is sql injection  em orientação a objetos qual é o significado de uma classe abstrata qual é a sua finalidade  hoje um dos sites da empresa na qual trabalho foi hackeado assim como vários outros que estão com métodos arcaicos de desenvolvimento e cheios de falhas de segurança  a pessoa que invadiu deixou além de uma index modificada o seguinte código em um outro arquivo e me interessei em entender o por que  code  alguem tem ideia da utilidade disso   o que é oauth qual sua finalidade o que ele faz existe outras tecnologias alternativas a ele   em c quando preciso verificar se uma variável é de determinado tipo normalmente uso o operador code  code  sei que também é possível verificar o tipo de uma variável de outras formas uma delas é usando code  code  qual a diferença entre esses dois operadores existem outros que façam a mesma coisa mas com uma pequena diferença  ainda uso apenas o code mas procurei e não encontrei um exemplo mesmo que mínimo em português que fale sobre o aspnet identity para o mvc  estou usando o aspnet mvc e o entityframework gostaria de aprender sobre o aspnet identity mas estou tendo dificuldade em enteder o template mvc com code  alguém poderia dar um exemplo básico para não ser amplo e não fugir do escopo do sopt partindo do template web mvc sem autenticação code  há tempos tomei conhecimento da existência da linguagem kotlin sei que necessita da jvm para correr e que é completamente interoperável com java  na altura não lhe dei muita atenção mas agora com a possibilidade do android studio lhe vir a dar suporte nativo o meu interesse por ela cresceu  assim quais são as principais diferenças entre elas o que o kotlin pode oferecerresolvermelhorar em relação ao java  estou interessado em criar sites com animação comandada pelo scroll ex kano onde os conteúdos vão sendo animados e substituídos conforme o rolamento da página  quais são as técnicas para facilitar esse tipo de programação  sempre quis saber como funcionam closures em javascript já li algumas definições mas nunca entendi muito bem  vocês poderiam me dar uma explicação simples objetiva mas com conteúdo  existe diferença de performance entre utilizar um if e um operador ternário em c  utilizo resharper ferramenta de produtividade para o vs ele insiste que o operador ternário é melhor mas não me explica o porque  código antes do refactoring  code  depois  code  sei que um elemento dentro com posição code não respeita os limites da div pai e que code respeita e teoricamente se posiciona em relação a si  minhas duvidas basicamente são   um elemento code deixa de respeitar apenas os limites da div pai mas se alinha com a div anterior ou só com o body quando e por que usar um elemento code dentro de um code ou viceversa quando é apropriado utilizar um ou outro   talvez eu me integre a uma equipe para desenvolver um novo projeto o líder já tomou algumas decisões entre elas que as regras de negócio estarão no banco de dados em procedures e views triggers etc  ao tomar conhecimento disto minha primeira reação foi negativa estou acostumado com regras de negócio na camada de aplicação e não me parece uma boa ideia que fiquem no banco de dados  porém o fato é que eu realmente não sei tampouco tenho experiência com essa arquitetura por isso pergunto quais as vantagens quais as desvantagens é uma boa prática é uma má ideia  o operador code diz que as strings são diferentes sendo que elas armazenam o mesmo valor literal veja o exemplo  code  resultado  code  como fazer para comparar o valor literal das strings  sei que essa pergunta é bastante corriqueira e é fácil encontrar a resposta porém eu gostaria de uma resposta funcional eu já vi bastante coisa sobre mas nada entra na minha cachola gostaria de algo mais prático algo que realmente faça sentido  sempre que busco estudar sobre me deparo com um monte de fórmulas doidas e explicações superficiais  poderiam por favor me explicar como implementar isto na prática ou pelo menos um link com um exemplo funcional sem aquele monte de fórmulas doidas que sei que é necessário mas que não ajuda muito de início  quero uma explicação simples de como funciona na prática e não esse monte de o neurônio x faz isso o evento de ativação de onde vem o neurônio como implementar o que é esse tal evento de ativação onde são guardados os dados obtido tem um banco de dados especial   isso que eu não consigo entender parece que já começam explicando do final  no wikipédia possui a seguinte afirmação    na teoria de linguagens formais uma linguagem livre de contexto llc  é uma linguagem gerada por alguma gramática livre de contexto glc  diferentes gramáticas livres de contexto podem gerar a mesma linguagem  livre de contexto ou inversamente uma dada linguagem livre de  contexto pode ser gerada por diferentes gramáticas livres de contexto   oh god  no entanto achei a explicação um pouco confusa embaralhada e sendo assim ainda pergunto   o que é uma linguagem livre de contexto  como é possível se é possível definir se uma linguagem é livre de contexto ou não   vejo isso em várias classes de terceiros  lembrando que o fechamento geralmente é o code mas sem code  estive procurando a respeito desse termo e não compreendi muito bem a função desse profissional de ti o que é um full stack web developer  pergunta  gostaria de saber como transformar dígitos numéricos em números por extenso da seguinte maneira como demonstra o exemplo abaixo  exemplo    retorna zero  retorna cinco  retorna dois mil e quatorze  retorna mil e trinta e quatro  retorna dois mil quinhentos e sessenta e seis  retorna setenta e oito mil trezentos e noventa e um  retorna novecentos e noventa e nove mil novecentos e noventa e nove  retorna um bilhão    qual a definição de inteligência artificial   a pergunta à primeira vista parece falta de vontade de pesquisar por aí afora mas uma lida nos primeiros links que encontrei no google me deixaram com mais dúvidas do que eu tinha antes de começar a estudar sobre o assunto  a wikipédia me deu algumas definições e o tecmundo que foi o primeiro link que o buscador me retornou não me passou credibilidade por não citar fontes   partindo de uma definição como esta     sistemas que pensam como um humano   seria correto dizer que todo sistema que afirme que é um sistema com inteligência artificial  já vi gente recomendando nunca usar code underscore em html e css ao invés disso deveríamos dar preferência para code  exemplo  code  por que existe essa recomendação  como pegar os nomes de todas as tabelas do banco de dados mysql  como pegar os atributos nome tipo etc de uma determinada tabela no banco de dados mysql  a maioria das linguagens de programação possui um tipo nulo para representar a ausência de um valor ela pode possuir vários nomes code code code etc mas seu propósito é o mesmo com exceção do sql onde code quer dizer desconhecido javascript entretanto possui dois tipos distintos code e code  qual a diferença entre esses dois tipos noto que nem sempre são usados consistentemente embora em geral também signifiquem ausência de valor de modo que fica difícil saber quando usar um ou outro sei que uma variável que nunca foi atribuída é code bem como um campo não existente em um objeto mas sei também que é possível atribuir manualmente esse valor através de code ou code  há alguma razão na prática para se usar um ou outro ou seria melhor usar somente um deles e esquecer que o outro existe e se sim qual misturar os dois no mesmo programa parece tornar mais difícil tratar casos de valor ausente qual seria a melhor abordagem no caso em que isso está fora do seu controle ie bibliotecasframeworks externas usam um ou outro tipo no mesmo script  vejo em alguns códigos diferentes maneiras de definir uma função mas desconheço a diferença se é que existe qual a diferença entre estas funções  função   code  função   code  quais as vantagens e desvantagens do uso de índices em base de dados   em linguagens como java os parâmetros de métodos são validados na compilação pelo menos o tipo  code  em linguagens de tipagem dinâmica como javascript é recomendado validar a entrada para evitar problemas  code  isso fica mais complexo quando se trabalha com objetos e arrays  code  entre os problemas de tantas validações está   código poluído desempenho da aplicação prejudicado   apesar disso isto pode evitar alguns problemas  até que ponto ir com esta estória de validação de entrada existe alguma alternativa mais interessante  alguém poderia me ajudar a entender porque o postgresql errou varias estimativas de custos em um experimento que fiz  estou fazendo um experimento com queries do benchmark tpch para verificar o desempenho de índices nas consultas  de consultas somente consultas foi verificado que o otimizador utilizou índices secundários em um outro experimento foram executados as queries citadas num banco de dados sem a presença de índices visando identificar se o tempo de execução aumentaria devido a ausência de índices   mas para minha surpresa o experimento sem a presença de índices na base de dados foi mais rápido do que utilizando os índices para as consultas   gostaria de entender porque o parametro custo total errou em todos os casos ou seja todas as consultas que gastaram mais tempo indicou um custo menor em todos os casos que esta incorreto na minha opiniao   vejam abaixo que a primeira linha referese a query que utilizou índice o custo foi menor do que o custo da mesma query que não utilizou índice   também vejam o tempo gasto a query que utilizou índice gastou minutos enquanto sem o uso de índices demorou segundos esse comportamento se estendeu aos outros casos  minha pergunta é porque o custo total execution plan calcula incorretamente o custo para todos os casos em que se tem índices   code  por questoes de uso de um patch especifico do meu projeto de pesquisa estou utilizando uma versao antiga do ano   eu não modifiquei os parâmetros padroes somente o random_page_cost para pois estou utilizando um disco ssd onde o custo de acesso aleatório é menor que em um hdd segue o que esta no meu postgresqlconf  code  será que algum destes parâmetros interferiram para acontecer esse erro nas estatísticas de custos  segue a query e o seu explain analyse com e sem índices  code  qualquer dica é bem vinda  o que são escopo léxico e escopo dinâmico e quais são suas principais diferenças  quais são as diferenças entre os modificadores code code code e code quando se trabalha com herança  existem regras de como e quando eu devo usar eles quando eu estou trabalhando com herança e polimorfismo  ouvi falar muito em comunicação assíncrona e síncrona porém não sei o que realmente são elas  alguém poderia me explicar qual a diferença e o funcionamento de cada uma quando e para que devo usálas se possível com exemplos de código  por vezes vejo em documentações ou especificações que um determinado valor no geral string pode ou deve ser considerado opaco o que isso realmente quer dizer quais são as características que definem uma string como opaca  a citar vale referenciar a rfc também discutida nesta pergunta que afirma que um segmento de caminho é considerado opaco pela sintaxe genérica    a path segment is considered opaque by the generic syntax   assim como é válido referenciar a documentação na mdn sobre o atributo code que diz que o valor do atributo é uma string opaca    this attributes value is an opaque string   o significado de opaco nas duas situações é o mesmo pois ainda na documentação mdn há logo após o trecho citado a seguinte afirmação    this means that web author must not use it to convey any information   que traduzindo seria que o autor não deve utilizar o atributo code para transmitir qualquer informação considerando que o path da url é o identificador de recurso requisitado é correto afirmar que este também é opaco por não carregar nenhuma informação em caso afirmativo uma url amigável que carrega valores de atributos no path por exemplo code quebram a definição de valor opaco  opcional para respostas citar outros valores que são considerados opacos  alguém sabe relacionar as diferenças entre mysql e sql server inclusive usando code ou se tiverem algum link que liste as diferenças seria legal  exemplo  code  como seria o equivalente em sql server  durante a manutenção de um sistema legado reparei na seguinte procedure  code  a primeira coisa que me chamou atenção foi a condição where    por que o programador que escreveu essa procedure usou essa condição   gostaria de entender como funciona o algoritmo de criptografia code advanced encryption standard procuro respostas didáticas que me façam compreender os processos utilizados pelo algoritmo passoapasso dando ênfase a parte lógica e matemática e se possível as operações com bits  note que não peço exemplos de código embora sejam válidos para a explicação  costumo sempre dizer que não me dou muito bem com termos   esses dias atrás precisei fazer uma operação num determinado framework em php chamado laravel onde eu precisava encontrar um recurso que me permitiria usar um banco já existente e fazer com que ele gerasse automaticamente os models e migrations da aplicação através das tabelas desse banco  geralmente o que ocorre é o contrário você gera models e migrations que por sua vez geram o banco de dados  fiz várias pesquisas na internet em inglês para poder encontrar o que eu queria porém não encontrava até que eu usei o termo database reverse engine for laravel e encontrei o que procurava  até então eu não estava tão familiarizado com o termo por pensar em se tratar em algo muito distante do meu diaadia de programação mas parece que não era verdade  o que eu entendo pela experiência que tive é que engenharia reversa está relacionado a usar o que foi gerado para criar o gerador me corrijam se eu estiver errado  é por isso que venho aqui perguntar o que é exatamente a engenharia reversa  nota não vou incluir a tag code ou code pois não se trata do assunto foi apenas um exemplo  sempre utilizei os termos parâmetro e argumento como se fossem sinônimos aquilo que é passado para uma função eou que a função recebe como entrada da mesma forma tenho lido um e outro termo em inglês e português ora sendo usado um ora outro mas não consegui perceber nenhum critério na escolha entre um e outro  há diferença entre eles ou são sinônimos mesmo já cheguei a pensar que parâmetro era o único termo correto pois é usado na matemática e que argumento era algum erro de tradução mas depois percebi que não é o caso em inglês também temos parameter e argument qual a forma correta de se usar esses termos  atualmente temos percebido que muita gente vem utilizando a tag code para ícones e não para itálico se ainda estivéssemos na era préhtml isso estaria totalmente errado  segundo especificação da tag code do html agora ela é utilizada para o texto de uma voz alternativa como palavras estrangeiras transliteradas termos técnicos e tipografias  então se utilizarmos icon fonts que são tipografias de imagens o código continuará semanticamente correto certo  quero jogar a data atual num input mas no formato brasileiro ddmmyyyy  meu código  code  qual a é diferença entre as classes code code e code e em quais situções é recomendado o uso de uma ou outra  qual a forma mais prática de encontrar a diferença de tempo entre duas datas no formato padrão usado pelo mysql yyyymmdd ex  data  data   fiz essa pergunta algoritmo para detectar nudez com boa precisão aqui no site e algumas pessoas citaram algumas coisas sobre aprendizado de máquina machine learning  pelo que foi dito entre um comentário e outro a respeito do assunto deu a entender bem superficialmente que é uma forma de uma máquina aprender a ter um comportamento a partir de dados prédefinidos  gostaria de uma explanação mais detalhada a respeito do assunto   o que seria o aprendizado de máquina machine learning ele está relacionado à ou é uma forma de inteligência artificial que exemplo mais simples podemos citar a respeito desse assunto   estou a desenvolver uma aplicação em php e gostaria de saber quando e porque utilizar code ou code ou code ou code  reparei também que dá para fazer destas formas e funciona  code  qualquer uma das formas está correta estão todas  em muitos códigos são adicionados os prefixos de compatibilidade dos navegadores em atributos do css exemplo  code  mas se deixar somente o atributo sem prefixo funciona normalmente exemplo  code  esse prefixos code code code são importantes devo ainda colocálos  estou a usar uma development board da microchip explorer com o code como master e o arduino como slave o pic está a enviar tudo direitinho mas por alguma razão o arduino envia code para todos os data apenas manda code no início quando se envia o address   código pic master   code  código arduino slave  code    já vi esse termo polyfill sendo utilizado várias vezes quando se trata de uma nova função que não está disponível em versões antigas de determinadas linguagens e afins  mas afinal polyfill é simplesmente isso ou é mais abrangente  qual é o significado da palavra polyfill e a que se refere dentro do diaadia da programação especificamente  nota aparentemente esse termo está relacionado diretamente à linguagem javascript mas já vi sendo utilizado em outras linguagens também  numa discussão com experientes programadores aqui do site a respeito de controle de concorrência surgiram os termos semáforos mutex memória compartilhada monitor e ainda outros os quais estou começando a entender agora  toda essas minhas dúvidas começaram quando perguntei sobre processos assíncronos onde percebi que eu não estava entendendo muito bem sobre o termo assíncrono e acabei aprendendo sobre bifurcação de processos  no meio disso tudo comecei a pesquisar muitas coisas a respeito de processos de sistemas operacionais e foi aí que aprendi mais um termo ipc que disseram que significa inter process communication  mas o que é ipc mais detalhadamente   de que forma ele se relaciona com os termos que eu citei acima sobre os quais disse que eu estava discutindo  quais são os métodos de requisição http entre os quais estão code code e code para que se deve usar cada um deles e qual é a diferença entre eles  esses dias vi nosso colega maniero comentando sobre a existência do net native em uma resposta sobre c e c  vi que a microsoft anunciou em abril de o preview do net native e pesquisando sobre o assunto encontrei essa página explicando httpmsdnmicrosoftcomptbrvstudiodotnetnativeaspx   pelo o que entendi a ideia é permitir que código escritos em c sejam compilados para código nativo da máquina isso deixaria os aplicativos mais rápidos e usando menos memória  como o assunto é novo e estou cheio de perguntas eis algumas delas   por que a microsoft está fazendo isso não será mais necessário ter o net framework instalado nas máquinas vamos ter que compilar nossos códigos para tipos diferentes de arquiteturas x x  programas que usam o net native vão poder rodar em qualquer tipo de dispositivo e sistema operacional vou poder desenvolver um driver ou um sistema operacional com isso isso é só para apps da windows store terá alguma diferença em como desenvolvemos hoje   quem puder compartilhar um pouco sobre o assunto é muito bem vindo inclusive se quiserem editar algo na pergunta afim de enriquecer a questão  como saber se o código é de fácil leitura e manutenção costumo abstrair grande parte dos meus códigos tenho costume de usar muito funções lambda no c como essa função para validação de cpf    code  nesse exemplo comentei para facilitar quem for realizar leitura ou alteração no código   a solução seria comentar eou utilizar a quantidade mínima possível de funções prontas que agilizam muito desenvolvimento quais outras técnicas podem ser usadas para melhorar a legibilidade do código   sei que ambos escondem o elemento mas existe na prática alguma diferença entre  code  e  code  em várias aplicações que foram escritas com linguagens fortemente tipadas uma variável geralmente é declarada com seu valor padrão  exemplo  code  entretanto é possível declarálas sem definir um valor inicial   desta forma  code  no caso eu perguntei ao meu professor e ele respondeu que tempos atrás caso não fosse declarado da primeira maneira um número absurdo seria atribuído a variável code code   essa premissa é verdadeira caso seja que número é esse o exemplo que demonstrei foi baseado na linguagem c mas eu acredito que a declaração de variáveis deve ser semelhante em outras linguagens isso também ocorreocorreu em outras linguagens   geralmente ambos possuem comportamentos similares quando renderizados no navegador  se eu abrir um html com isto  code  ambos não permitem que o usuário altere o texto vejo o exemplo abaixo  \r \r code\r \r \r   então qual a diferença de fato entre os dois tipos de estados e quando eu devo usar cada um deles  o timestamp é a representação numérica de uma data e é bastante utilizado nas linguagens de programação e em banco de dados quero saber  como é feito esse cálculo  existe alguma padronização para esse cálculo uma iso ou algo parecido  já ouvi falar em code existem outros sabores de timestamp  eu estou trabalhando em uma solução que envolve determinar a rota de menor esforço entre dois pontos de um prédio imagine estudantes em seu primeiro dia de universidade e que precisam saber onde fica e como chegar a uma dada sala de aula em um prédio ou como ir da sala atual para a próxima aula  basicamente eu tenho uma estrutura cartesiana onde cada andar está mapeado eu também tenho indicadores de pontos de acesso portas rampas para deficientes escadarias e os pontos onde estes pontos se conectam escadaria do térreo se conecta com escadaria do º andar em x y por exemplo mais ou menos como a imagem abaixo    onde ciano indica uma escadaria e azulestranho elevadores entre outros marcadores não exibidos  para os daltônicos minhas sinceras desculpas e algumas informações adicionais as escadarias estão localizadas na parte superior direita dos mapas os elevadores próximos ao centro  eu comecei meu código baseado em uma variante do algoritmo de dijkstra chamado aestrela a que é basicamente o problema do caminho mais curto com algumas otimizações curiosidade vários jogos implementam variantes do a para determinar a rota de personagens em um mapa    a é perfeito para determinar rotas em um mesmo andar porém eu tenho que levar em consideração os vários andares cada um com um layout diferente  pergunta  existe alguma maneira mais apropriada para solucionar este problema   ou de forma mais clara obrigado bfavaretto   dado o fator adicional de n andares existe algum algoritmo que seja mais indicado do que o a  disclaimer imagem isométrica original de dougillustrationscom  é comum encontrar uma mensagem de erro que diz desculpe você não tem permissão para acessar esta função entre em contato com o administrador para obter ajuda   é apropriado um pedido de desculpas neste caso  é um caso claro que o problema não é culpa do sistemaplataformaprovedor do serviço então por que deveria existir esse pedido de desculpas isso é importante  tem alguma fonte de informação autoritativa que justifique o seu uso  note que não estou perguntando se você usa de um jeito ou de outro e o que você acha que é certo respostas com opiniões sem base são inválidas e devem ser votadas negativamente informações que indiquem com clareza e justificativa de qual o motivo do uso ou não são construtivas  ou será que isto é apenas gosto  não quero se você gosta mais de um do que outro não quero saber porque as pessoas gostam mais de uma ou outra não quero achismos ou respostas rasas não quero saber razões históricas  quero saber de forma fundamentada o que se ganha ou se perde em cada uma das abordagens  exemplos de linguagens sensíveis c c c java javascript python ruby objective c  exemplos de linguagens insensíveis sql cobol basic acho que todos os dialetos php bom sei lá em parte e clipper e dialetos  esta pergunta tem relação com essa outra  só para deixar claro para quem não entende do assunto estou falando da sintaxe da linguagem falo das palavraschave dos identificadores  eu estava conversando com alguns amigos programadores quando eu ouvi o termo normalização de banco de dados embora eu já tenha ouvido esse termo algumas vezes antes não consegui compreender do que se tratava  surgiram algumas dúvidas   o que significa esse termo qualquer tipo de banco de dados seja sql ou nosql pode usar essa tal normalização   outra coisa é que ao pesquisar na internet encontrei os termos normalização de dados e normalização de banco dados existe alguma diferença entre as duas coisas normalização de dados e normalização de banco dados existe o termo correto ou pode ser falado das duas formas  não quero mais passar vergonha ao ouvir um termo desses numa reunião e ficar sem entender   estou fazendo essa pergunta porque eu já cansei de ver coisas como requisitos para determinado cargo de programação    é necessários saber as linguagens php javascript css e ajax   já aprendi que code não é uma linguagem de programação é claro porque ninguém programa em ajax  mas se tratando da questão dos termos como deveríamos classificar o code recurso tecnologia como deveria ser denominado  é apenas conveniência digo é desnecessário instanciar um objeto para utilizar uma função que não utiliza os dados do mesmo  há diferença na execução memória processamento recursos em geral  qual a diferença entre code e code  que tipo de situação devo utilizar uma code invés de uma code  em php posso fazer isto sem declarardefenir variáveis    code  usando code o mesmo dá respectivamente code e code se eu usar code antes o mesmo dá codee code  a questão é existe alguma implicação de performanceutilização ou outra que justifique evitar estas utilizações  code  em c temos propriedades com getters e setters o que facilita a inserção e leitura de dados em um objeto quando alguma lógica deve ser realizada em outras linguagens como o java essas tarefas são feitas com métodos quando precisamos de lógica para ler um campo ou para escrever nele usamos métodos code e code coisas do tipo  essa abordagem com métodos também pode ser feita no c e é ai que ta minha dúvida quais são as vantagens e desvantagens no c dessas duas abordagens minha preocupação com essa questão é a seguinte estive resolvendo exercícios de orientação a objetos e notei que a grande maioria dos métodos que os exercícios pedem pra codificar podem se tornar propriedades no c o problema é que isso faz a classe parecer anêmica ou seja tendo só propriedades e sem lógica  dessa forma existem diferenças entre as duas abordagens existe algum tipo de recomendação sobre qual técnica usar  edição a resposta do maniero é muito boa e esclarece algumas coisas com relação a esse tipo de decisão mas vou adicionar alguns exemplos para ilustar o que estou falando só pra completar um ponto os exemplos são de exercícios em java um dos exercícios que resolvi pedia uma classe code com métodos code code code e code para decidir se o ano é bissexto os métodos code claramente em c poderiam ser implementados como getters   acontece que o code também poderia afinal ele devolve uma característica do objeto invés de executar um comportamento claro que existe uma lógica pra verificar isso mas me pergunto se isso não seria uma propriedade  outro exercício pede uma classe code que deve ter métodos code para inserir a alternativa da próxima questão code para retornar o número de acertos code para retornar a nota e code para comparar com outra prova  novamente os métodos code e code me parecem naturalmente propriedades eles são características da prova existe novamente uma lógica pra verificar isso basicamente é preciso comparar cada questão com os dados provenientes de um gabarito informado no construtor mas por conta de parecerem características achei que deveriam ser propriedades  acontece que tirando esses métodos e transformando em propriedades essas classes ficam quase sem funcionalidades e não só elas mas muitas outras que já vi por ai isso indicaria o problema que ouvi dizer se chama modelo anêmico   dessa forma a decisão de algo como propriedade não depende somente de ser uma característica do objeto depende também de haver ou não uma lógica a ser utilizada para ler ou escrever aquele dado em casos então como esses que citei é mais interessante então realmente utilizar métodos  encontrei no so en essa pergunta creating meta language with java no qual o usuário tem interesse em criar uma meta linguagem usando java   fiz uma breve pesquisa e encontrei no site da microsoft um tópico falando sobre gramáticas linguagens e compiladores um retorno às bases onde fala que    em computação uma metalinguagem muito conhecida é a bnf ou backusnaur form   o que é uma meta linguagem  existe uma forma clara de determinar quando um projeto de desenvolvimento de software deve ser conduzido usando uma metodologia waterfall ou usar scrum quais os critérios devem ser observados para escolher um ou outro  normalmente utilizo code mas vejo na maioria dos formulários o uso do code existe alguma diferença qual é o ideal  o que é memoization em quais circunstâncias pode ser útil e como utilizar se possível ilustrar com um exemplo simples  tenho lido sobre sass há algum tempo e ele fornece um poderoso conjunto de funcionalidades para o css como variáveis mixins e afins  e ao mesmo tempo vejo o termo scss qual a diferença entre ambos são a mesma coisa e possuem as mesmas funcionalidades e apenas recebem nomes diferentes em alguns casos ou são coisas diferentes  como é possivel resolver esse bug  code  resultado  code  recentemente enquanto estudava alguns códigos em javascript me deparei com o seguinte código  code  sei que  code  e consequentemente  code  então fiquei na dúvida qual a lógica de se fazer esse tipo de operação  no php podemos suprimir erros utilizando o code antes de determinadas expressões  isso pode ser visto em qual a funo do no inicio de expresses em php  já assisti alguns hangouts sobre php e o pessoal estava criticando a utilização do code no php pela tese de que um erro deve ser tratado e não escondido  o problema é que algumas funções do php retornam as vezes mensagens indesejadas como no caso do code que ao não encontrar o arquivo para deletar emite um code  nesse caso eu sempre utilizo o code  por exemplo  code  pois com o code o erro será suprimido e apenas retornará code caso haja alguma falha e isso é explicado na resposta do rray  eu tenho algumas perguntas a fazer a respeito dessa prática   do ponto de vista do desenvolvimento eu deveria utilizar um code arroba para casos como da função code ou configurar a exibição de erros para ocultar code ou fazer um code em relação ao uso de code antes de fazer code o arroba pode ser prejudicial para o desempenho de uma aplicação ou o desencorajamento quanto ao uso do code só existe por questões de boas práticas de programação   desde que abri um projeto online estou tendo problemas com invasão onde alguém está fazendo inserções diretas no banco de dados foi o que me deu iniciativa para por em todas as variáveis recebidas através do método code e code as funções   code  utilizei dois programas para fazer scanner para analisar o site acunetix e scrawlr onde na primeira vez retornou variáveis vulneráveis mas agora fiz todo o procedimento nas mesma e agora não da mais sinal de problema  porém mesmo assim o atacante ainda consegue invadir o servidor mesmo tendo a certeza depois de ter verificado todas as linhas de código do projeto  é comum vermos a recomendação de usar apenas um code por funçãométodo mas isso parece algo sem sentido e deixa o código mais confuso em muitos casos  veja os exemplos  forma como eu costumo fazer    code  forma como é recomendado  code  por que há essa recomendação o que se ganha em usar um único code  segundo esta definição do priberampt um número capicua é    número que se lê igualmente da direita para a esquerda ou viceversa e ao qual se atribui boa sorte   seguindo esse raciocínio capicua seriam etc  como descobrir entre números de dígitos os que são capicua apenas utilizando cálculos matemáticos removendo números que possuam todos os dígitos idênticos como etc  ps não importa a linguagem somente a lógica para se desenvolver uma forma de resolver isso  o que são e quais as principais diferenças entre programação funcional e programação orientada a objetos   em eu fiz uma pergunta no so sobre controle de versão para desenvolvedor solo e recebi uma excelente resposta do jon skeet indicando o uso do svn infelizmente recentemente ela foi fechada e removida  hoje o git está se tornando ubíquo isto por si só traz algumas vantagens se você usa alguns projetos open source de terceiros provavelmente já é pelo menos cliente de git  eu vejo o git como algo complexo para quem precisa de controle de versão simplificadamente mas admito que existem algumas vantagens também  objetivamente o que é realmente determinante para escolher trocar o svn pelo git em um cenário de desenvolvimento individual que característica matadora pode definir esta escolha lembrese que algumas das vantagens do git não se aplicam a este cenário  há vantagem nisso vou perder alguma coisa significativa com a troca  algum tempo atrás o facebook lançou sua própria linguagem de programação baseada no php veja tecnoblog facebook anuncia hack sua própria linguagem de programação  o tecnoblog explica da seguinte maneira a diferença entre o php e o hack ênfase adicionada    o objetivo principal sempre foi o de atacar os erros no comunicado oficial os desenvolvedores explicam que linguagens dinâmicas como o php facilitam o desenvolvimento rápido mas geralmente tornam a detecção de erros mais difícil uma vez que as falhas só são percebidas quando o programa está em execução o que é particularmente preocupante em projetos muito grandes    por sua vez usando linguagens do tipo estática como c os desenvolvedores podem encontrar erros antes da efetiva execução do código com a possível desvantagem de linguagens como esta não serem tão práticas quanto às mais atuais como consequência o hack foi criado para unir o melhor dos mundos   aparentemente isso significa que o hack suporta declarar o tipo de retorno das funçõesmétodos permitindo que as ides identifiquem antecipadamente erros de compilação       qual a diferença entre uma linguagem estática e dinâmica existem outras diferenças além da que eu consegui identificar acima vantagens e desvantagens podese dizer que as linguagens de script são sempre dinâmicas e viceversa veja o que uma linguagem de script   dizem que a computação quântica irá revolucionar a computação caso seja implementada de maneira bem sucedida por que isso quais as principais diferenças entre um computador quântico e um computador convencional que tornariam o primeiro muito mais rápido   qual é a diferença entre aspas simples e aspas duplas em php  ontem estava a trabalhar com uma string de um json do google calendar usei code para separar uma string  quando usei o explode em code com code deume  code  quando usei o explode em code com code deume  code  o descrito em cima foi só um exemplo prático com que me deparei seria interessante saber quais são as diferenças em php entre code e code   estou percebendo a adesão do angularjs e o abandono do jquery por parte de alguns desenvolvedores no entanto não conheço as vantagens do angularjs pois nunca trabalhei com este framework   visto que alguns blogs ex jeremyzerr paulhammant encorajam o uso do angularjs gostaria de saber quais as diferenças entre esses frameworks e se vale a pena a troca  alguns tópicos   tudo que é feito no jquery pode ser feito no angularjs qual utiliza menos código qual é o mais rápido no processamento qual o mais leve qual é o de mais fácil manutenção como é a curva de aprendizado para cada um quais são as limitações de cada um o que um faz melhor do que o outro é legal utilizar ambos ao mesmo tempo   obs exemplos são bemvindos  eu estudei java há bastante tempo e estou bem familiarizado com o funcionamento de tipos genéricos nessa linguagem sei que só existem em tempo de compilação que sofrem type erasure ao final da mesma de modo que no tempo de execução essas informações não estão disponíveis e tenho uma certa noção das dificuldades ao se aplicar polimorfismo em tipos genéricos  agora estou aprendendo c e reparei que embora essa linguagem use notação semelhante code a semântica não parece ser a mesma por exemplo ao ver essa pergunta entendi que o runtime do c guarda a informação dos tipos genéricos em vez de descartála diferentemente do java isso está correto além disso nunca vi um exemplo em c que utilizasse coringas wildcards como code isso é possível ou mesmo necessário nessa linguagem  por fim c suporta métodos individuais e não somente classes genéricos se sim qual a sintaxe equivalente dessa construção em java  code  se houver algum detalhe adicional que mereça destaque ou talvez algum material de referência para aprender mais também será bemvindo  gostaria de saber se existe alguma forma simples de realizar um upload de arquivos via ajax json  se houver qual seria  um problema pode ser resolvido e obter o mesmo resultado utilizado um loop ou através de chamadas recursivas a uma função  considerando que a linguagem de programação sendo usada possua os dois recursos como saber quando um é melhor que o outro  ao se criar um site ou aplicação web sempre há o problema do que fazer quando nem todos os browsers implementam todas as funcionalidades desejáveis pelo que tenho lido há duas principais maneiras de se lidar com isso   graceful degradation degradação suave desenvolvese pensando num ambiente o mais completo possível mas assegurandose que se a funcionalidade x ou y estiver ausente o site ainda funcione da melhor forma possível sem ela progressive enhancement enriquecimento progressivo desenvolvese pensando num ambiente o mais básico possível e acrescentase características extra caso a presença da funcionalidade x ou y seja detectada   quais as vantagens e desvantagens de cada uma delas há situações em que uma é mais adequada que a outra ou é apenas questão de preferência estou interessado principalmente no aspecto da manutenabilidade à medida que características novas vão sendo introduzidas aos browsers e versões antigas dos mesmos caem em desuso quais as implicações disso num siteaplicação desenvolvido segundo essas estratégias  estou iniciando meus estudos na área de engenharia de software ouvi muito a respeito do termo design patterns e sua aplicabilidade e importância em projetos de software segue abaixo uma definição    em engenharia de software um padrão de projeto ou padrão de desenho  do inglês design pattern é uma solução geral reutilizável para um  problema que ocorre com frequência dentro de um determinado contexto  no projeto de software   fonte wikipédia  eu não consegui visualizar o que seriam code mas afinal o que ele é alguém poderia elucidar o que devemos levar em consideração para buscarmos aplicar estes conceitos em um projeto de software talvez isso melhore no meu entendimento  tenho em minha aplicação nomes próprios em maiúsculo por exemplo josé da silva gostaria de formatar da seguinte maneira josé da silva como fazer  no método code da classe code eu tenho configurado um code  code  isso faz com que os dados recebidos ou enviados por json sejam convertidos de code padrão do client javascript para code padrão que uso nas propriedades no server e viceversa  ex de json que a api recebe num método code normal sem usar o code  code  isso é traduzido para  code  até aí tudo bem o problema é que eu tenho uma code code em um code que faz uso do code e as requisições que são enviadas para este método acabam não passando por esta tradução  eu li em alguns lugares que o odata usa um serializador e um deserializador próprio e este deve ser o problema  método code do code  code  existe alguma forma de tratar o casing dos dados recebidos em code que usam odata   eu vou precisar escrever um novo serializador ou já tem algo pronto que possa me ajudar com isso se for necessário escrever um serializador é possível me ajudar com pelo menos a implementação básica do mesmo  exemplo do json que recebo no método com code  code  se eu enviar o json como o abaixo funciona normal  code    obs estou usando owin mas a aplicação está sendo hospedada no iis usando o pacote code  desenvolvo um sistema de gerenciamento empresarial há algum tempo estou precisando adicionar ao mesmo a funcionalidade de emissão de nota fiscal eletrônica no padrão brasileiro   existe alguma biblioteca java bem testada e de preferência livre e de código aberto que me ajude com isso   como exportar uma página html para um ficheiro pdf  tendo um documento padrão onde possa mudar variáveis dentro desse template para depois exportar essa página para um ficheiro pdf em formato a sem estragar o layout   exemplo de código  code  suponha que eu tenha uma base de dados enorme que não caiba na memória ram quais estratégias para analisar esta base de dados no r uma vez que não posso carregála inteiramente na memória  ps a pergunta não trata somente de como fazer o r conversar com uma base de dados relacionalnãorelacional se por exemplo os seus dados estiverem em uma base de dados relacional você ainda assim não pode carregálos todos de uma vez no r para rodar um random forest ou uma regressão por exemplo  estou aprendendo php e pelos exemplo que tenho visto na internet existe uma mistura na codificação dos programas de orientação a objeto e procedimentos estruturados  isso é mesmo comum ou estou equivocado  se php é uma linguagem orientada a objetos até que ponto é interessante ou não essa mistura  qual a diferença entre uma classe abstrata e uma interface não entendo quando eu deveria utilizar uma ou outra  não é minha intenção trazer a confusão dos outros para o site porém ficou uma dúvida minha interna daquelas coisas que se tem certeza e depois vem alguém e faz uma pergunta que mexe com as certezas antigas vi neste site a classificação do top das linguagens de programação e notei que para algumas pessoas html é uma linguagem de programação e para outras não  dúvida  html é uma linguagem de programação ou não  tenho o seguinte código utilizando a função code do php  code  e quando ela é acionada reporta o seguinte erro    cannot modify header information headers already sent by   por que que isto possivelmente ocorre  nesta pergunta aqui eu cito que java é uma linguagem interpretada pois sempre entendi dessa maneira mas fui corrigido neste comentário de que java não é mais interpretado  assim fiquei com algumas dúvidas   o que é uma linguagem interpretada então java já foi interpretado mas não é mais é isso mesmo   se eu fizer o hash de senhas antes de armazenálas em meu banco de dados é suficiente para evitar que elas sejam recuperadas por alguém  estou falando apenas da recuperação diretamente do banco de dados e não qualquer outro tipo de ataque como força bruta na página de login da aplicação keylogger no cliente e criptoanálise rubberhose qualquer forma de hash não vai impedir esses ataques  tenho preocupação em dificultar ou até impossibilitar a obtenção das senhas originais caso o banco de dados seja comprometido como dar maior garantia de segurança neste aspecto  quais preocupações adicionais evitariam o acesso às senhas existem formas melhores de fazer esse hash  eu sempre usei endpoint e api como sinônimos hoje descobri que eles não querem dizer a mesma coisa embora estejam relacionados   afinal qual a diferença entre esses dois  no r isso seria muito simples  code  se você chamar code sem argumentos o resultado será code  como fazer o mesmo em javascript e como saber se existem valores code na função sem ter que ler o código  começarei um projeto em c que terá como code uma placa colibri t com processador nvidia tegra arm rodando uma versão leve de linux  gostaria de saber se além de ter que utilizar um compilador cruzado compatível com o processador eu preciso me preocupar com algum outro detalhe específico da arquitetura arm  pelo que li parece que a arquitetura do processador só importa se eu estiver programando em assembly estou errado  não sei se é relevante mas meu code é ubuntu linux  no desenvolvimento de um portal web utilizando o git fizemos o controle de tudo que foi alterado a nível de código no ambiente homologação e com o jenkins subimos o site para o ambiente de produção para migrar o banco foi feita um dump de toda a base que foi colocada no outro ambiente  o problema está nas próximas modificações que interfiram na estrutura ou no conteúdo do banco de dados  com o site sendo utilizado novos conteúdos vão sendo adicionados e já não posso realizar uma nova cópia do ambiente de homologação sem riscos de perder informações  se todas as alterações no banco fossem feitas manualmente eu poderia gerar um arquivo sql e rodar ele no produção quando fosse subir novas alterações  mas a instalação de módulos e componentes no site gera alterações no banco que podem não ser tão simples de controlar manualmente  gostaria de saber se há uma forma de versionar o banco de dados assim como usamos o git para versionar o códigofonte  update  minha principal necessidade é encontrar uma maneiramétodo para replicar as alterações feitas no ambiente de desenvolvimento para o ambiente de homologação e produção  estou fazendo uma implementação de um jogo em assembly no proteus  eu sorteio dois números aleatórios de até e preciso gerar no lcd uma imagem referente aos números que eu gerei  exemplo se eu gerar o número a imagem que vai aparecer no display é    se eu gerar o número a imagem que vai aparecer no display é    implementação foi feita da seguinte maneira   code  no código escrevi assim para gerar o número aleatório e guardar nas variáveis auxiliares para comparação no final do jogo  code  eu tenho number e number os valores dos números aleatórios gerados  eu fiz da seguinte maneira para buscar o número gerado e armazenar a posição de memória da imagem referente ao número armazeno em bl antes de chamar code o valor para buscar a imagem do number e para a number em ax contém o valor do number  code  para cada just equals eu chamo assim  code  mas não acho que é a melhor solução   alguém saberia um método mais prático   criar uma nova variável e armazenar como fosse um array de posições de memória se eu querer a imagem eu somente iria fazer code ou imagem code algo assim    obs sim atualmente eu gerei variáveis para armazenar cada imagem referente a cada número meu editor está até travando pela quantidade de informações no código  escrevi linhas só para comparar qual é o número gerado e tive que escrever linhas referente as imagens de cada número  ds significa data segment  passei pelas linguagens php c c javascript e agora estou trabalhando com c nesse tempo todo sempre ouvi dizer que é importante ter códigos bem comentados mas eu nunca soube a medida certa de comentários ou comento de mais ou comento de menos  além disso no c tem aquele comentário com três barras que basicamente gera algo assim  code  e ainda tem um comentário que normalmente alguns programadores colocam no topo do código com várias informações como nome do programador data versão etc  dessa forma qual a medida certa de comentários para que eles ajudem na compreensão do código invés de simplesmente poluílo  precisei desenvolver uma rotina que pegasse a cotação de venda do dólar e inserisse em uma tabela no banco o banco central disponibiliza um webservice onde é possível fazer as consultas para isso basta informar um código e ele tornar a cotação para você  o problema que tenho é em conseguir a documentação que informe o que cada código retorna não encontrei nada no site do banco central quais códigos de moeda esse serviço aceita  onde conseguir essa documentação  andei lendo sobre nosql nos últimos tempos pois a primeira impressão que tive sobre a tecnologia foi boa fiz testes com mongodb especificamente e achei muito prático e bem mais fácil do que bancos de dados relacionais também tive a impressão de que esse tipo de banco de dados é mais compatível com a orientação à objetos e por isso fiquei bastante interessado no assunto  acontece que lendo comecei a ver muitas opiniões negativas a respeito dessa tecnologia ouvi falar sobre o teorema cap que implicaria que um banco de dados nosql ou não terá disponibilidade ou não terá consistência isso é uma coisa muito preocupamente porque até hoje não encontrei casos em que é possível abrir mão de uma dessas coisas  na realidade construir um sistema que pode vir a não ter os dados disponíveis ou não ter garantia de que os dados exibidos estão corretos me parece uma coisa extremamente problemática vi até um programador falando já que esse tipo de tecnologia provavelmente não vai ser muito usada sendo que os bancos relacionais continuam sendo mais indicados  se por um lado tem tudo isso por outro lado senti muito mais facilidade e naturalidade ao usar o nosql dessa forma gostaria de saber o nosql é tão problemático assim como parece não há nenhuma forma de contornar esses problemas ou o nosql realmente só tem alguns poucos usos nos quais os dados podem nem sempre ser corretos ou nem sempre disponíveis  a ideia dos microsserviços é boa mas não entendo bem como resolver certos problemas talvez o problema seja como ela é vendida não vejo muito se falar quando usar ou quando evitar parece que tudo pode usar a tecnologia sem muitos sobressaltos mas nada é simples e universal assim  a aplicação em si é tranquilo entender mas queria entender sobre banco de dados  em leitura não parece muito complicado é possível pedir dados de bases diferentes e juntar tudo dá para questionar se isto é o mais eficiente mas não vejo complicadores muito fortes pelo menos não mais que os complicadores que microsserviços trazem  eu entendo que certas atividades de uma solução são isoladas e podem ser um microsserviço fácil mas outras me parecem integradas demais para poderem ser separadas mais ainda o que pode parecer se mostrar ótimo isoladamente mas depois parece um caso que precisa de uma integração  especificamente penso em transações qual é a solução quando você faz uma venda e deve atualizar diversas tabelas de dados tudo tem que estar em um microsserviço único mas aí tem uma série de tabelas que precisam estar em uma outra transação que envolve outras tabelas aí me parece que todas as tabelas deveriam estar juntas mesmo que nem todas se relacionem diretamente ou seja você quebra a aplicação em serviços específicos mas continua tendo um ponto único de falha e manutenção tem suas vantagens mas não é tão grande assim  uma solução seria criar um sistema de transações na aplicação que garante o acid em diversas bases de dados mas isto é bem complicado será que só funciona onde o cap é admitidamente viável  enfim tem alguma solução para micronizar o banco de dados quando o acid é necessário só funciona com algumas tecnologias de banco de dados que suportem isso estou enganado em alguma suposição minha  nesta outra pergunta eu perguntei a mesma coisa mas em relação a java agora pergunto sobre o javascript  pelo que eu saiba historicamente o javascript sempre foi interpretado mas o google mudou isso com o v no chromium estou certo ou errado e em relação aos outros browsers como o firefox e ie ainda é interpretado  já li alguns comentários na web a respeito de utilizar ou não o code no final das linhas quando se escreve javascript alguns dizem que sim outros dizem não ter necessidade mas nenhum sabe explicar bem os motivos das divergências  exemplo  code  o interessante é que mesmo esquecendo o code no meu código as vezes ele continua rodando sem problemas e sem disparar erros então o correto é usar ou não o famoso ponto e vírgula  conforme a especificação do java grande parte da api do swing não é threadsafe e deve rodar na event dispatch thread  como após inicializar o gui os eventos são disparados de dentro da própria edt a não ser que você esteja usando threads em background que precisam atualizar a ui isso não costuma ser um problema  porém como o método code roda em sua própria thread inicial é comum o uso de code para despachar a exibição da gui para a edt  code  veja que após exibir a tela o método code não executa mais nada na teoria nenhum código concorrente à edt parece ser executado na thread principal  minha dúvida é existe um motivo para termos que despachar a criação da tela para a edt  na stack overflow em inglês encontrei uma referência que aponta para a documentação dizendo que a thread inicial não deve criar o gui pois quase todo o código que cria ou interage com componentes swing deve rodar na edt esse dias porém vi o código de uma aplicação que está rodando a quase anos em produção esse código cria e exibe a code principal diretamente do code nunca houve nenhum problema reportado sobre o funcionamento dessa aplicação  nesse sentido quais seriam os problemas de concorrência possíveis se não usarmos code o que ficará rodando na thread principal e o que ficará rodando na edt eg a code principal fica na thread principal mas seus eventos vão para a edt   qual a diferença entre code e code  ambas são muito parecidas mas em qual caso é melhor usar uma ou a outra  gostaria de código de exemplos  estou desenvolvendo um sistema help desk e gostaria de algumas idéias de como criar um sistema de notificação semelhante ao próprio stack overflow sempre que algum novo suporte for cadastrado  pretendo utilizar php mysql e jquery apenas   devo utilizar o code para verificar no banco de tempos em tempos se um novo chamado for registrado  sempre achei que o operador code funcionava apenas como uma forma mais curta para o incremento tradicional por exemplo  code  ao invés de  code  mas ao realizar o seguinte experimento  code  então quando executo code resulta em erro enquanto code compila normalmente  diante disso será que é possível afirmar que code na verdade é semelhante a code  quando estou escrevendo programas normalmente eu escrevo os nomes de variáveis em inglês por exemplo code por vários motivos   nomes em inglês não têm acentos então não fica um negócio estranho como code os nomes normalmente são menores ref o código poderá um dia ser mantido por alguém que não fala a língua portuguesa as apis quase sempre são todas em inglês   porém há outras coisas que eu prefiro manter em português principalmente se for do contexto do sistema comentários nomes de classes ou tabelas por exemplo code  por esse motivo algumas vezes os nomes em português se misturam com inglês por exemplo pode haver uma code enquanto é perfeitamente compreensível isso me parece estranho  levandose também em consideração que todo programador deve ter noções básicas de inglês qual é o método preferido para a escolha do idioma que eu devo usar ao programar  quais as vantagens de escolher um método ou o outro  quando estudei java aprendi que exceções somente deveriam ser usadas em situações bem excepcionais ie um erro uma condição não prevista etc jamais para controle de fluxo normal não só por ser menos performático criar uma exceção envolve montar um stack trace dentre outras coisas mas por ser menos elegante e correto o ideal sendo testar as précondições antes de se fazer uma operação ou chamar um método ou para sinalizar um erro ao chamador usar um código de erro ou similar somente nos casos realmente imprevisíveis é que seria adequado se usar um code  entretanto ao aprender python me deparei com uma filosofia bastante diferente nessa linguagem há muitos casos em que o modo recomendado e às vezes o único modo de se tratar uma condição indesejada é tentar executála e se algo der errado capturar a exceção não há menção a performance e muitas vezes justificase essa abordagem para se prevenir condições de corrida ex em vez de testar se um arquivo existe antes de abrilo simplesmente abrao de uma vez afinal ele poderia ser apagado entre o teste e o uso e se o programa não está preparado para isso seu comportamento nessa situação pode ficar incorreto  entendo que se uma linguagemplataforma segue um determinado paradigma é aconselhável se ater a ele nem que seja por questões de consistência mas assumindose que não só linguagens novas possam ser criadas como as existentes possam ser aprimoradas pergunto existem vantagens claras de um desses paradigmas sobre o outro ou talvez situações específicas em que se justifique usar um ou outro padrão mesmo que contrarie as recomendações oficiais que parâmetros eu devo observar ao decidir entre uma abordagem e outra a título de exemplo há muitas situações em que o argumento da condição de corrida não se aplica quando os dados envolvidos na operação são imutáveis por exemplo  por fim há algum meio termo razoável que combine os benefícios de ambos sem que o ônus caia no programador por exemplo poderia testar se o arquivo existe e usar um code em seguida mas isso seria redundante nota peço que esse último ponto caso abordado na resposta venha acompanhado de fontes confiáveis para evitar mera especulação    ps algumas referências demonstrando que esse uso corriqueiro de exceções é de fato bastante recomendado na comunidade python em oposição à maioria das outras      better to try something and catch the exception or test if its possible first to avoid an exception  is it a good practice to use tryexceptelse in python  how do i check if a string is a number in python  python exception handling techniques  look before you leap vs easier to ask for forgiveness than permission  exceptions and file handling dive into python     estou desenvolvendo um projeto para automação comercial utilizando pafecf e tudo o mais  aual seria o melhor tipo de dados para trabalhar com sql server e c para questões de dinheiro principalmente em relação a arredondamentos e truncamentos  imagino que as melhores opções sejam code code ou code mas não consigo encontrar boas fontes confiáveis que se adaptam ao meu caso para que eu possa implementar com segurança  em um tabuleiro de xadrez em qualquer casa possuo um cavalo representado em vermelho e terei somente uma outra peça representada em verde que o cavalo deve ir até ela    devo utilizar o caminho mais simples e levar em consideração o movimento do cavalo em l e contabilizar os movimentos até chegar no ponto determinado  como no exemplo abaixo    como posso fazer isso usando python tenho em mente que tenho que usar matriz e uma lista como entrada de posição mas não sei como continuar  temos alguns paradigmas de programação bem conhecidos porém bati de frente com esse paradigma e me surgiu algumas dúvidas   onde é aplicado existe algum exemplo de onde já foi utilizado com sucesso qual a diferença da orientação a objetos x orientação a agentes   tenho um code no formulário que deve aceitar cpf ou cnpj  utilizarei no backend em php o valor para guardar ou no campo cpf ou no campo cnpj de uma tabela no banco de dados  estou usando angularjs e preciso de uma expressão regular para colocar em code para aceitar apenas dados utilizáveis  não me interessa neste momento validar os dígitos de verificação ao final  quero ser um pouco flexível permitindo ao usuário que use pontos traço e barra se quiser ou só números  no fim das contas em c um array code se torna um ponteiro code se não o que são arrays quais as diferenças entre eles como os arrays funcionam internamente  na empresa onde trabalho atualmente somos fortemente encorajados a evitar programação orientada a objetos tanto para projetos antigos como para projetos novos  para projetos antigos concordo que seja uma má pratica começar a inserir orientação a objetos em um projeto totalmente estrutural porém para projetos novos acredito ser mais produtivo utilizar oop  questionando a situação recebi como resposta da empresa orientação a objetos é pesada e lenta portanto recomendamos não utilizar   qual o overhead de se utilizar orientação a objetos vs programação procedural   considerando que boas práticas de programação são seguidas é mais produtivo utilizar orientação a objetos ou programação procedural  esta é uma pergunta conceitual que sempre gera confusão na hora de decidir se uma coluna deve ou não aceitar null  há uma corrente que considera o uso do null um erro e que sempre deveria ser feito uma organização no banco de dados normalmente aplicando normalização evitando assim qualquer uso de valores null  tenho uma dúvida especial com colunas do tipo code em qualquer de suas variantes onde existe uma forma de representar que não há qualquer informação mantendo a coluna em estado vazio mas esse valor pode não ser suficiente para indicar o que se quer com a coluna  já obtive alguma resposta no stack exchange do ponto de vista do dba mas além das respostas não terem me satisfeito completamente tinham um viés do administrador e não do desenvolvedor e eu também acabei me restringindo a um tipo de campo e ficou a dúvida se o mesmo comportamento valeria para outros tipos de colunas que possam ou não ter um valor natural que possa representar a ausência de valor você pode usar o valor ou negativo em alguns campos definindo o uso do valor como ausência de valor relevante  cada sistema de banco de dados trata null de um jeito diferente e é muito difícil transferir um modelo criado em um banco para outro com semântica diferente quando você cria sua própria semântica isso fica mais fácil  então existem cenários em que o null é realmente benéfico e seu uso traz vantagens que compensem os problemas que o seu uso pode carregar  tenho a seguinte string code qual a função do code na frente da string  pelo que percebo vejo um recuo em relação a outro elemento quando definidas as propriedades code  existe diferença entre code e code no css  uma resposta com exemplosimagens ou código ajudaria bastante no entendimento da questão  o que significam e quais as melhores práticas para usálos  como realizar o procedimento de captura de imagem da webcam do usuário em um formulário de cadastro para enviar via code busco por uma solução que seja compatível com a maioria dos navegadores e que seja de simples implementação  quando se fala em programação concorrente sempre citam problemas clássicosmodelos de concorrência   produtores e consumidores leitores e escritores filósofos glutões ou jantar dos filósofos   procurei aqui no site porém em nenhum momento achei explicando o que é esse problema  minhas dúvidas então são   o que é o problema dos filósofos glutões mais focado no enunciadometáfora do problema o que o jantar dos filósofos modela de fato mais focado na coisa técnica do que é esse problema deixando a metáfora de lado qual a importância dele para um programador quando um programador deve se preocupar diretamente com esse problema existe alguma coisa real e cotidiana que nos esbarremos com esse problema sem termos conhecimento sei lá num banco de dados   wikipedia    sistema de computadores interligados em rede através da internet que cooperam de modo transparente para fornecer conteúdo    cdn são geralmente implantados em vários locais os benefícios incluem a redução dos custos de largura de banda melhorando os tempos de carregamento da página ou aumentando disponibilidade global de conteúdo     baboo    uma cdn é uma rede de distribuição de informação e dados que permite fornecer conteúdo na web de forma rápida para vários usuários independentemente de onde essa pessoa se encontra o que o sistema faz é distribuir um mesmo conteúdo em diversos servidores para direcionar esses dados de acordo com a proximidade de servidor do usuário    o serviço funciona como um cache dos arquivos não dinâmicos do site em diferentes datacenters de localidades dispersas em todo o mundo     stackoverflow    cdn é simplesmente uma rede de servidores que replicam seus arquivos binários de modo que eles são servidos a partir de locais geograficamente próximos cdn é simplesmente um bando de discos que estão espalhados por todo o mundo em diferentes datacenters você envia o seu arquivo a um desses discos e depois diz de onde seus clientes estão vindo ela irá então copiar o mesmo arquivo para outros discos que estão mais perto de seus clientes       distribuição de servidor único vs cdn wikipedia    dito isso vamos às questões  tem um bom tempo que venho pesquisando sobre cdns para um projeto com grande demanda de conteúdo estático não queria recorrer a nenhum cdn free tão pouco contratar um akamai então pensei em me aprofundar no assunto para pesar o custo benefício de montar algo próprio   supondo que eu escolha um dc no brasil e um nos eua para um cdn nas américas a identificação da requisição para buscar o dc mais próximo é feita no server ou no php feito o upload de uma imagem ela é replicada instantaneamente para os dc ou somente quando houver demanda local apache e linux bastam ou há necessidade de instalação de outras ferramentas próprias para um cdn   tendo meu domínio principal com links para code neste posso ter o php trabalhando com o geoip para saber a localização da requisição mas como demandar o dc correto me parece que dessa forma o processo é mais dispendioso há ferramentas próprias    não espero um tutorial só uma luz sobre alguns pontos eu realmente já procurei bastante mas tudo é muito superficial não encontrei nada que se aprofunde na criação de um cdn a maioria explica como funciona ou explana as diferenças entre cdn e um cloud  na especificação do protocolo http mais precisamente na rfc é previsto a possibilidade de existir entidades intermediárias entre o user agent ua entidade que efetua a requisição http e o origin server o entidade que responderá à requisição   as setas para a direita indicam o trajeto da requisição http e as setas para a esquerda indicam o trajeto da resposta http as entidades a b e c são as entidades intermediárias que se comunicam entre si com o user agent ou origin server através de quatro conexões http    as três entidades intermediárias descritas são   proxy gateway tunnel   sendo que cada entidade intermediária pode operar como um origin server proxy gateway ou tunnel dependendo da natureza da requisição http que será por ela tratada  o que eu gostaria de saber é qual a diferença entre os três tipos de entidades intermediárias e quando cada um é utilizado na prática também se é possível a existência de apenas uma entidade intermediária ou se são relacionadas a ponto de só existirem mutuamente  pesquisei e li a respeito do padrão dao data access object porém não estou conseguindo entender como é o seu funcionamento e como é a estrutura dele ele também é responsável pelas regras de negócio de uma aplicação ou ele é apenas responsável pelo crud e pelas transações e conexões  obs de preferência se puder mostrar sua implementação e seu funcionamento prático em java  estou tentando implementar o code da google no meu site e não consigo fazer a integração code utilizo a linguagem code como posso fazer para que o code funcione e realize a validação antes enviar os dados do meu formulário  fonte e documentação do google recaptcha  sei que são funções que não tem o nome especificado mas qual a finalidade    é possível recursividade com funções anônimas ex sequência de fibonacci   \r \r code\r \r \r   para que serve o code no javascript   ele funciona apenas para obter os valores do objeto como se fosse uma variável ou também é possível definir ou alterar propriedades através dele  exemplo  code  nunca tinha visto antes a utilização desta diretiva mas os plugins jquery mais maduros quase todos usam  gostaria de saber quando usar o mesmo qual a finalidade dele e como  após muito tempo utilizando a implementação serializable nas minhas classes na plataforma javaandroid descobri o parcelable mas fiquei na dúvida em relação as seguintes questões abaixo   quando utilizar escolher entre o parcelable vs serializable  como implementar o parcelable e serializable  quais são as diferenças de performance das duas implementações   eu tenho duas aplicações em domínios diferentes e preciso realizar uma requisição ajax entre elas via code ou code de forma crossdomain  qual seria a maneira mais segura de implementar isto em javascript sem fazer uso de nenhuma api ou framework de uma forma que funcione em todos os navegadores crossbrowser  em primeiro lugar peço desculpas pelo texto longo e pelos vários pontos perguntados achei melhor lançar todos em uma pergunta só porque são interrelacionados e porque penso que qualquer pessoa com experiência no tipo de aplicativo descrito um cliente android que mantém uma conexão socket contínua recebendo e enviando dados é capaz de dar sua opinião a respeito de todos ou maioria desses pontos basicamente estou precisando tomar decisões de design e tenho dúvidas sobre como seria a maneira recomendada android de fazer  estou tentando definir qual seria o esqueleto mínimo necessário para se ter um aplicativo dsse tipo isto é que se conecte a um servidor via socket websocket socketio tcp etc e possa trocar mensagens com ele não tenho um exemplo de uso específico chat não é um desses exemplos porque nesse caso o ideal seria usar push notification  essa conexão não deve estar atrelada às code do aplicativo isto é as mensagens podem ser recebidas mesmo depois do usuário ter saído do aplicativo  perguntas que estou tentando responder   é recomendado delegar o gerenciamento da conexão conectar desconectar e o envio de mensagens para uma classe separada por exemplo um singleton o uso de broadcasts para passar uma mensagem recebida para a code atual parece ser a escolha apropriada no caso de uma arquitetura de aplicativo relativamente simples alguém discorda seria preferível um event bus ou então acoplamento bind a um serviço é esperado que o sistema mate o processo do aplicativo para liberar memória mas a conexão deve ser reestabelecida assim que houver memória disponível para isso qual a melhor forma de fazer isso agendar checagens periódicas da conexão via code não me parece apropriado e nem usar code que além de não garantir que o processo seja morto apenas torna isso menos provável de acontecer ainda exibe ao usuário uma incômoda notificação de que o aplicativo está em execução que ainda por cima se for clicada leva a uma tela oferecendo a opção de encerrar o aplicativo achei que retornar code no método code poderia ajudar nesse sentido mas ele não parece ser feito para isso não estou certo de como deve funcionar o reestabelecimento de conexão a fim de processar a fila de mensagens a enviar suponho que envolve ouvir o broadcast code ou então um evento de conexão reestabelecida qual a melhor forma de fazer isso garantindo que o aplicativo tente enviar as mensagens quando possível após haver consenso a respeito da modelagem do aplicativo creio que será necessário incluir wake locks ao código para evitar que o aparelho entre em sleep mode enquanto processa mensagens recebidas ou colocadas na fila de envio porém não tenho certeza de em qual parte do código incluilas e gostaria de recomendações para isso tenho também as seguintes considerações adicionais  a uma vez a conexão estabelecida o aparelho pode entrar em sleep mode tranquilamente que a chegada de dados irá acordálo porém não é garantido que esses dados sejam processados em sua completude sem uma wake lock antes do aparelho voltar a dormir  b se o aplicativo estiver adormecido e a conexão se tornar disponível um requisito desejável pode ser que a fila de mensagens a enviar seja processada em sua completude antes do aparelho voltar a dormir não tenho a certeza de onde devo adicionar a wake lock nesse caso  c mesmo que a biblioteca que trabalha com o protocolo de comunicação escolhido esteja preparada para funcionar com android isto é gerencie a entradasaída em um ou mais threads secundários e não no thread de ui pode ser que ela esteja programada para executar seus callbacks em particular o callback que recebe mensagens no thread de ui isso pode afetar a maneira como disponho as wake locks no meu código há a necessidade de manter um thread ativo em loop contínuo para manter a conexão aberta como posso evitar isso   agradeço a qualquer feedback lancei essa pergunta também no so em inglês  acredito que a maioria dos softwares padronizam o uso da palavra cancelar para um botão cuja a ação é cancelar a operação que está em curso claro que a operação em curso é a mais próxima que está ocorrendo provavelmente é aquela operação responsável pelo mecanismo de confirmação de uma outra operação que provavelmente faz parte de uma regra de negócio  por exemplo se você vai cancelar o pagamento já efetuado de um boleto esta operação usa exatamente o termo cancelar porque os usuários do software estão acostumados com ele faz parte do domínio deles e antes de concluir o cancelamento o software pergunta se é isto mesmo que o usuário quer fazer é muito comum o uso de dois botões nesta confirmação um ok e outro cancelar neste caso é para cancelar o o processo de cancelamento e provavelmente isto é o padrão para todo o software mudar isto seria despadronizar o funcionamento todo mundo está acostumado com o ok e cancela para cancelar operações em processo de confirmação  mas é bem claro que isto não é intuitivo é fácil cometer um erro confundindo o que você está efetivamente cancelando  este problema é bem mais comum do que parece  o que fazer nestes casos  a intenção da pergunta é ter um conteúdo em português sobre o assunto já que eu tenho informações em inglês se possível gostaria de novas informações também além das contidas lá nem vou pedir um estudo específico sobre o assunto porque não é fácil ter algo assim mas qualquer informação deve ser minimamente fundamentada pode parecer óbvio o que fazer mas em ux todo cuidado é pouco  bonus point muitas vezes isto só ocorre por causa de traduções sem contexto ou seja o problema podia não ocorrer no original além de simplesmente testar tudo antes de liberar que é a solução óbvia tem algo a mais que pode ser feito para garantir que o texto não seja confuso  para medir a performance e comparar dois códigos em code eu faço da seguinte maneira no console do navegador  code  explicação rápida basta iniciar um contador em milissegundos rodar o código que eu quero testar várias vezes etc dentro de um loop e anotar o tempo depois é só fazer o mesmo procedimento para o outro código a ser testado e comparar os tempos para ver quem tem o melhor desempenho para o navegador em questão  mas e em php será que o método a seguir é o mais recomendado  code  baseado em httpphpdzonecomarticlesthingsyoushouldchecknow  entre os estudos de javascript encontrei em alguns lugares muita gente sugerindo o uso de coffeescript ou typescript para acelerar o processo desenvolvimento   se entendi bem ambos são como uma metalinguagem uma maquiagem que melhora a sintaxe convoluta do javascript e depois reescreve o seu código em js  este entendimento está certo como funcionam o coffeescript e typescript o que eles são de fato qual sua relação com o javascript e como eles podem ser usados no desenvolvimento web em lugar do javascript  eu já li em vários artigos e livros de designer patterns a expressão code acredito que é um tema bastante polêmico devido aos pontos de vista discutidos  a meu ver composição e herança são usadas para resolver problemas diferentes certo  code  o exemplo acima é bem coerente pois um carro deve ter um motor entretanto se substituirmos a herança por composição em alguns casos a estrutura fica um pouco estranha por exemplo  code  é estranho pensar que veiculo virá um atributo de carro nesse contexto veiculo serve apenas para a reutilização de código pois não segue uma hierarquia e não agrega polimorfismo  desculpem minha ignorância mas as classes herdadas mantém o acoplamento que é necessário entre elas a herança em si certo  quais as vantagens de se usar composição em vez de herança é possível especificar um momento certo de usálas seguindo a opinião do título a melhor combinação seria composição interface   desde que lançou o html tenho notado que diversas tags diferentes começaram a surgir  em todo lugar que tentei estudar sobre o assunto sempre via a tal da expressão semântica entendi que essas tags na verdade não têm uma habilidade especial mas é apenas como um contexto de organização  me surgiram algumas dúvidas e preocupação quanto a essas tags pois como eu não tive paciência de aprender o que cada tag significava eu continuei a usar a boa e velha code   essas tags semânticas ajudam a melhorar o seo de um site usar somente divs como eu costumo fazer sempre é prejudicial ao seo do site   há ainda uma outra dúvida que gostaria de esclarecer é em relação à algumas tags que não são tão óbvias para mim  por exemplo olhando a tag code ou code parece que é obvio que se trata do cabecalho e rodapé do site porém algumas vezes já vi um code e um code em cada code  code por sua vez não entendi para que serve pois cada tutorial que vi explica uma coisa de um jeito diferente  talvez para mim a única tag que ficou óbvia o seu uso é a code  então vou fazer mais alguma perguntas   qual é a finalidade semântica das tags code code code code e code posso usar um code e um code por página ou posso usálos dentro de cada code e se sim por quê   o que é paradigma  existe algum mais importante que outro  é a mesma coisa que design pattern padrão de projeto  é o mesmo que idioma  vejo grandes conhecedores aqui do sopt dizerem a frase  quer desempenho esqueça o php  por exemplo perguntas sobre php  como posso melhorar o desempenho disso  claro que sabemos que desempenho vem muito da estrutura do código mas essa afirmação esqueça desempenho no php não seria pelo php não ter desempenho mas sim porque é um fator a não ser considerado quando o cenário é o php em comparação de sua tecnologia com uma outra correto    então gostaria de saber   acredito eu que quando dizem que o php não se foca em seu desempenho seria em comparação a outras linguagenstecnologias isso seria sobre o php ser uma linguagem interpretada somente o php ou todas as linguagens interpretadas ou correlacionadas     entendendo melhor o tipo de resposta que eu gostaria como no comentário feito    é dito isso porque o php não foi feito para ser rápido simples assim  php foi criado para ser fácil e ter entrega rápida abrindo mão da  performance que em aplicações web não é crítica se precisa de  performance não use php assim como se precisar martelar um prego não  use um alicate anderson carlos woss     antes de comentar ou responder entenda  não é comparar qual a melhor linguagem ou opinião mas sim sobre a diferença entre as tecnologias eou seus limites  já ouvi falar sobre uma técnica assim chamada e qualquer coisa sobre explorar colisões de hashes  mas como funciona essa técnica e onde ela pode ser aplicada  o dry significa dont repeat yourself então toda vez que eu ver uma repetição no código não estou fazendo dry o dry é sobre não ter redundâncias como ele deve ser aplicado  estou trabalhando em um site com característica responsiva e nele tenho uma página de promoções e gostaria que as imagens acompanhassem a mudança de tamanho do navegador o tamanho máximo da largura da imagem é px seguindo algumas dicas de companheiros refiz o css e exemplo exibido isoladamente funciona corretamente mas ao inserilo em minhas tabs o mesmo não funciona ficou assim    divpage   width auto  textalign center  padding px px  img   maxwidth      o código para exibição  code    a página pode ser vista aqui  página de promoções  o código da minha tab está assim      tabs   uitabs   fontfamily open sans sansserif  fontsize px  lineheight em px   marginbottom px  padding   border none  background none  widthpx   uitabs uihelperreset   lineheight em px    uitabs uiwidgetcontent   color    uitabs uitabshide   position absolute  left em   uitabs uitabsnav   padding   border none   uitabs uiwidgetheader uitabs uistateactive   background none   uitabs uitabsnav li uitabs uitabsnav liuitabsactive   float left  margin px px   padding   position relative  zindex   border none   uitabs uitabsnav li a   display block  padding px px  color   backgroundcolor fff  border px solid eee  borderbottom none   uitabs uitabsnav liuistateactive a   backgroundcolor fff  paddingbottom px makes the unselected tabs appear above the border    uitabs uitabsnav liuistatedisabled a   color important  cursor default   uitabs uitabspanel   padding px px  backgroundcolor fff  border px solid eee  borderradius   overflow hidden    vejam no tamanho da tab coloquei esse valor para que ela possa ficar expandida  code  ainda não consegui deixar a imagem responsiva dentro das tabs mesmo seguindo a dica de deixar a div pai com percentagem  estava estudando alguns exemplos do mysql com php e me deparei como seguinte trecho de código   code  pelo que pude perceber ao pesquisar os métodos chamase code mas eu não consegui entender porque isto é utilizado gostaria de saber como funciona e alguns exemplos de situações reais em que isto poderia ser útil   se tenho uma imagem horizontal x  code  e coloco a regra css code a redução não fica proporcional     e se coloco code dá errado com imagens horizontais e verticais como acertar isso  \r \r code\r code\r \r \r   quando eu estava lendo sobre alguns frameworks javascript como por exemplo o react li algumas vezes a expressão shadow dom em alguns artigos  parece inclusive que é possível nas configurações de console do chrome ativar esse tal de shadow dom    mas o que é shadow dom e pra que serve  tem alguma coisa a ver apenas com o framework citado acima ou não  acho que todo mundo com o mínimo de conhecimento sabe quando escolher c ou c no lugar de outras linguagens existem casos claros em que estas linguagens são mais adequadas e outros que não faz tanta diferença mas pode haver situação em que se sabe que uma das duas seja ideal mas não se sabe qual das duas  quais elementos concretos devemos analisar e em que situações podemos ter certeza que o c é mais indicado que c ou c é o mais adequado  os motivos não precisam ser essencialmente técnicos mas eles precisam ser objetivos precisa ser algo que os profissionais experientes nas duas linguagens costumam concordar  em outras palavras quais problemas o c lida melhor e quais o c costuma se sair bem  é claro que ambas podem ser usadas para qualquer projeto mas nem sempre é a ferramenta mais adequada existem casos que alguns requisitos podem inviabilizar uma escolha que requisitos podem dificultar tanto o uso de uma linguagem que é melhor usar a outra  considere pontos políticos como não requisitos fundamentais só a parte técnica importa mesmo   existe diferença de performance entre os dois em quais situações se aplicam  qual é o mais recomendado ser usado   sendo um programador net mas com uma antiga paixão por c que cresceu desde o c estive com essa curiosidade  eu sei que o net pode ser extendido com o ccli mas eu gostaria de saber o que o c puro não consegue fazer enquanto o c consegue  nota eu não quero opiniões aqui e também não quero iniciar uma guerra das chamas eu quero fatos eu só quero saber o que o título da pergunta diz não quero saber se você prefere uma linguagem ou outra porque é mais fácil fazer x nela  atualização depois de respostas e algumas horas estou julgando a do utluiz como a que melhor respondeu a minha pergunta portanto estou marcando como aceita a do fláviogranato também é boa mas achei a do utluiz mais correta  as duas outras respostas falam principalmente sobre o framework e a performance que são óbvios para quem não é novato no assunto não estou dizendo que foram más respostas só não foram respostas boas para essa pergunta fora o fato que o framework é bem estável e performance não é um assunto crítico  usando ruby a divisão de dois números inteiros é uma divisão inteira isso é o resultado é um número inteiro por exemplo  code  se desejo que o resultado seja um numero decimal posso utilizar um numero flutuante ao invés de um inteiro  code  como posso fazer uma divisão inteira que funcione parecida com a de ruby em javascript  de que forma números primos são uma parte importante em alguns sistemas de criptografia como funciona esse processo e em que parte entram os números primos  tenho um código em c que por algum motivo inexplicável parece ser executado muito mais rapidamente quando os meus dados estão previamente ordenados consegui reproduzir o comportamento com o seguinte código  code  tenho o seguinte resultado compilado com o g sem otimizações  code  um aumento de velocidade de quase vezes inicialmente suspeitei que fosse algum tipo de otimização que o compilador pudesse estar fazendo com o meu código se aproveitando de alguma forma do fato de minha lista estar ordenada então decidi implementar a mesma ideia em uma linguagem completamente diferente e que não fosse otimizavél escolhi o ruby  code  o resultado rodando com o ruby executando vezes a menos por ser mais lento  code  aqui o ganho de perfomance é bastante menor pouco mais de x mas claramente significativo  o que exatamente está acontecendo aqui de onde vem esse efeito e como eu posso me aproveitar dele    baseado em uma pergunta famosa do so  é comum dizer que devese evitar retornar códigos de erro em uma função quando alguma operação falha não é difícil perceber que códigos de erros são confusos é um valor válido ou um erro e não fornecem informação relevante  a recomendação é utilizar o lançamento de exceções ao invés de códigos de erro por que as exceções são melhores que o retorno de códigos de erro há casos onde esta solução é pior  o título obviamente não implica que uma afirmação ou outra esteja correta a dúvida é esta  como posso calcular a idade de uma pessoa em javascript a partir da data de nascimento   tentei algo do tipo  code  em discussões acerca de performance de algoritmos é muito comum o uso da notação big o     o on on   é fácil encontrar a definição científica desta notação e é fácil encontrar algumas definições mais informais em inglês  o que eu peço aqui é uma definição informal desta notação que seja imediatamente útil até mesmo para o menos versado em matemática  vou tentar formular um exemplo para trazer a definição do big o para o âmbito prático    estudando as implementações de lista arraylist e linkedlist java dizse que uma das diferenças entre elas é que o método arraylistgetint index é o enquanto o método linkedlistgetint index é on mas na prática o que a notação big o está indicando neste caso   é claro que outros exemplos práticos são bem vindos  a partir do php temos o code que são mecanismos que ajudam e muito a reutilização de código e servem perfeitamente para resolver o problema da falta de herança múltipla  exemplo de classe abastrata  code  exemplo com traits e interfaces  code  para os dois casos eu poderia fazer algo como   code  aí surgiu algumas confusões na minha mente   quando é que devo utilizar uma classe abstrata ou uma simples herança quando é que devo utilizar o trait seguido de uma interface implementada na classe que vai usálo segundo algumas recomendações que li internet a fora por que dizem não ser recomendável utilizar um code sem implementar code devo implementar uma interface numa code visto que a própria classe abstrata já pode forçar a criação de um método para a classe que extenderá a classe abstrata   venho navegando em vários sites que em seus cabeçalhos mostram mensagens como     este site utiliza cookies para melhorar a sua navegação ao navegar no site estará a consentir a sua utilização   tudo bem que os cookies são armazenados na máquina do usuário mas é realmente necessário esses avisos existe outro motivo por trás não achei quase nada relacionado na internet  para que serve a declaração code no css  code  estou começando a tentar usar o kanban na prática no caso eu trabaho sozinho então estou tentando buscar essa resposta em um contexto no qual não há equipe disponível muito menos processos mais formais encontrados em empresas maiores  ao utilizar metodologias ágeis é comum tentar fazer estimativas uma técnica que recentemente conheci é utilizar pomodoros e a sequencia de fibonacci com essa técnica estimamos o tempo em pomodoros um pomodoro se refere a minutos de trabalho e minutos de descanso para estimar uma tarefa usamos os números da sequência de fibonacci uma tarefa pode ser estimada em pomodoros e assim por diante  o problema que eu vejo é nesse caso temos uma unidade de tempo específica para usar e temos uma sequência de números permitidos para essa unidade de tempo a nossa disposição  de qualquer forma é necessário ainda olhar para cada tarefa e dizer essa tarefa requer x unidades de tempo  isso parece ser realmente muito complicado por vários fatores    certas vezes pode se tratar de algo que nunca fizemos antes e não temos ideia de quanto tempo aquilo demora  as vezes achamos que algo é fácil e rápido e no fim não era tão simples quanto pensávamos  podem ocorrer imprevistos e fazer demorar mais isso se não aparecer uma complicação tão grande no meio do caminho que acabe emperrando o desenvolvimento   esses são só alguns fatores que eu pensei que complicam isso para mim que estou começando agora com as metodologias ágeis em prática mesmo eu realmente não consigo ter a menor ideia de como atribuir x unidades de tempo para cada tarefa  na teoria parece simples na prática não é tão simples assim dessa forma como fazer estimativas de forma correta ao utilizar metodologias ágeis como contornar essas complicações que eu citei qual é a métrica usada para atribuir um certo número de unidades de tempo a uma tarefa  no meu projeto estou a usar a função code no entanto gostaria que fosse em português a saída da data de momento é code gostaria que ficasse no mesmo modelo mas em português este é o meu código  code  dizem que o elemento code deve ser usado para ênfase e o code para ênfases ainda mais intensas isso parece bastante confuso quando e por que usar cada um deles e code e code ainda devem ser usados em alguma situação eles foram substituídos por code e code  bom eu estava pensando como sites com grande acesso usuários fazem testes em seu software e os testam para lançamento final por que qualquer coisa ou erro de código pode ocasionar em falha bruta do sistema é interrupção em nível geral o que ocasionaria um prejuízo feio  eu li um pouco sobre automação de testes no php com o phpunit entretanto fiquei em aberto com a seguintes dúvidas no geral   qual seria uma boa forma de testar o software seria interessante usar processos de testes manuais ou automáticos existem critérios para realização de tal como definir que aquele software está apto para o usuário final   eu estava vendo alguns métodos das classes do pacote code e alguns deles possuem assinatura semelhantes a esta  code  o que significa esse code   em c há uma diferença entre a forma que a memória é alocada pelo clr para tipos referência classes e tipos valor estruturas a diferença pelo que sempre ouvi falar seria o fato de tipos valor serem armazenados na pilha e tipos referência no heap ocorre porém que tipos valor também podem ser armazenados no heap através de boxing ou sendo membros de um tipo referência  dessa forma a distinção entre tipos valor e tipos referência passa a ser não exatamente o local onde cada qual está armazenado dessa forma como se diferencia de forma mais correta tipos valor e tipos referência como realmente o clr gerencia a alocação de memória para instâncias e classes e estruturas separadamente além disso por quê existe essa distinção afinal classes e estruturas apesar de possuirem diferenças são bem parecidos um com o outro  vi algo do tipo nesta pergunta e sei que isso se relaciona de alguma forma com orientação a objetos  o que são como afetam meu código e como posso utilizálas para codificar melhor  estou tentando centralizar verticalmente o conteúdo de um elemento que tem code  consegui fazer o conteúdo se posicionar da metade para baixo do container no entanto da metade para cima o espaço fica sobrando  como posso resolver isso apenas utilizando css  eis o meu código até o momento  \r \r code\r code\r \r \r   a ideia é que o elemento code sobreponha o elementopai como se fosse um indicador de loading em cima de apenas um elemento na página  o que faz uma linguagem ser considerada de alto nível e outras de baixo nível  estou estudando javascript e tenho dúvidas quanto às diferentes formas de se fazer um code code por exemplo isto  code  como exatamente funciona  eu já li o que reactive programming programao reativa a resposta parece boa mas é teórica entendi o que é mas com aquilo não sei o que fazer  onde deve ser usada  tem um exemplo simples  qual é o mecanismo concreto usado para isto funcionar concreto até onde pode ser entendo que em programação tudo é abstração a não ser os elétrons excitados   só funciona entre agentes locais ou um deles pode ser remoto é por causa da internet  só funciona se for algo inteligente interligada em paralelo não linear se for o que é esse inteligente  aparentemente tem que ter robustez para ser classificada assim precisa rodar em vários servidores ou é uma opção  é um paradigma é um framework posso usar em net  vejo como uma dúvida muito frequente  quando devemos usar o code ou o code no php qual forma é mais adequada para o uso e qual a diferença das situações  estou tentando entender como usar code e métodos assíncronos em code mas todo lugar que eu vejo sobre isso na internet menciona uma forma multithreading usual que seria diferente do uso de code  o problema é que até agora eu não entendi muito bem como funcionam as code eu só sei que elas seriam intuitivamente caminhos de execução do código  dessa forma como entender corretamente code em code o que são e como trabalhamos com essas code eu acredito que essa pergunta seja análoga à essa que fiz mas considerando agora a relação com o processador e não com a memória  tenho um problema de maratona de programação e quero saber se a minha solução está certa assim como sugestões de melhoria  problema    um grupo de formigas é realmente orgulhoso porque elas construíram uma magnifica e grande colônia no entanto o enorme tamanho tornouse um problema porque muitas formigas não sabem o caminho entre algumas partes da colônia elas precisam desesperadamente da sua ajuda     a colônia de formigas foi feita como uma série de code formigueiros ligados por túneis as formigas obsessivas como elas são contaram os formigueiros sequencialmente como elas construíramlos     o primeiro formigueiro numerado de code não requer qualquer túnel mas para cada um dos formigueiros subseqüentes de code a code as formigas também construiram um único túnel que ligava o novo formigueiro para um dos formigueiros existentes     claro este túnel foi suficiente para permitir que qualquer formiga fosse a qualquer formigueiro previamente construído possivelmente passando por outros formigueiros em seu caminho mas elas não se incomodaram em fazer túneis extras e continuaram construindo mais formigueiros     seu trabalho é dada a estrutura da colônia e um conjunto de consultas calcular para cada consulta o caminho mais curto entre pares de formigueiros o comprimento de um caminho é a soma dos comprimentos de todos os túneis que precisam ser explorada    entrada    cada caso de teste se estende por várias linhas a primeira linha contém um inteiro code representa o número de formigueiros na colónia code     cada uma das linhas seguintes code contém dois inteiros que descrevem um túnel linha code para code contém code e code indicando que o formigueiro i estava conectado diretamente ao formigueiro code com um túnel de comprimento code code     a próxima linha contém um inteiro code representando o número de consultas que se seguem q     cada uma das próximas code linhas descreve uma consulta e contém dois inteiros code e code distintas code que representam respectivamente os formigueiros origem e de destino     o último caso de teste é seguido por uma linha contendo um zero    saída    para cada caso a saída de teste com uma única linha code números inteiros cada um deles sendo o comprimento de um caminho mais curto entre o par de formigueiros de uma consulta escrever os resultados para cada comando na mesma ordem em que foram dadas as consultas no input   minha solução atual  code  alguém que esteja a aprender a linguagem novato ou experiente pode nunca se ter cruzado com enumerações de java já li por várias vezes que são úteis por exemplo para implementar os padrões singleton com mais garantias de visibilidade entre threads  qual é a utilidade de se aprender e usar as code na programação do diaadia  contexto  quando faço um sql e desejo por um alias especifico devo por entre aspas duplas   code  quando quero fazer um code de um campo code os valores devem estar em aspa simples   code  pergunta  qual a diferença entre aspa simples e aspa dupla no sql  adendo  se eu fizer um code de code code de campos que tem alias em o meu code mais externo também deve ter   code  por que criar parâmetros para cada campo que será atualizado ajuda a evitar sql injection exemplo  code  como faço um javascript que mostreesconda uma div em html  tentei tipo  code  mas isso não funcionou   suponha que eu tenha uma lista de palavras em javascript se necessário já ordenada segundo as regras de collation  code  repare que não usei o cedilha code nem o til code de forma consistente como posso buscar nessa lista por programação mas ignorando a acentuação de modo que várias modalidades de buscas retornem resultados ex  code  fiz uma pergunta semalhante para a linguagem python e tentei aplicar a solução proposta normalizar e remover combinantes para javascript mas esbarrei no problema da falta de suporte à normalização unicode e ainda que eu consiga normalizálas usando um polyfill por exemplo ainda faltaria identificar e remover os caracteres combinantes  há algo já pronto nesse sentido para que eu não precise reinventar a roda caso contrário como fazer    atualização muitas boas respostas cada uma com seus prós e contras difícil de escolher uma decidi propor um teste levando em consideração fatores   robustez ie capacidade de buscar por palavras cujo acento está representado de mais de uma forma diferente  code flexibilidade pode buscar ignorando capitalização pode só casar o acento com outra letra acentuada   code performance exige mexer na lista original quanto tempo leva uma operação   exemplo no jsfiddle vou adequar cada resposta a esse exemplo da melhor forma que puder e availála com base nisso assim poderemos ter uma resposta canônica  o código de endereçamento postal cep ou zip code dos endereços de uma cidade garantem maior confiabilidade aos dados de endereço e à resolução de geolocalização por endereço lembrando que endereço não se presta somente ao envio de carta pelo correio é um complemento essencial ao cadastro de uma pessoa física localização mesmo que aproximada de onde reside ou jurídica endereço da sede da empresa presente em bases de dados de crms erps etc e padrões tais como vcard schema e centenas de outros  a pergunta é onde estão os dados da minha cidade e pode ter uma resposta específica para cada país da língua portuguesa assim como eventualmente para cada cidade pois as cidades tem certa autonomia sobre o tema como tomei como exemplo a cidade de campinas fica a sugestão de restringirmos discussões a campinas  no caso do brasil os dados não estão nem sob a responsabilidade do ibge nem sob a responsabilidade da prefeitura apesar da prefeitura ser a responsável pelas leis de batismo de cada nome de rua da cidade exemplo de rua de campinas    notas   o geonames tem se empenhado em construir um esboço dessa base de dados mas não resolve o openstreetmap parece ter uma parte dos dados de fato o ideal para o cep é telo espacializado dada uma coordenada geográfica da cidade retornar o cep da coordenada o diretório nacional de endereços dne é a base de dados mantida pela empresa brasileira de correios e telegrafos ect mais conhecida como correios do brasil para validar endereços postais e determinar ceps ela não pode estar numa base apoiada pelo ckan ou qualquer outra iniciativa de dados abertos   como posso declarar uma constante em javascript procuro o equivalente ao menos semanticamente de   code  em c  sempre quando tenho problema de permissões de pastas no meu sistema operacional ubuntu eu costumo dar a permissão code para a determinada pasta costumo fazer isso no ambiente de desenvolvimento  em algumas situações já dei esse tipo de permissão em ambiente de produção em um servidor linux onde rodo minhas aplicações escritas em php   por exemplo  quando tive um problema específico de escrita de arquivos de upload na pasta code de um determinado sistema eu dei a permissão code nesta pasta  porém vejo sempre recomendações de que devemos usar a permissão code ou code porque usar code é perigoso  mas em que sentido isso seria perigoso   por que os programadores mais experientes sempre recomendam a utilização de outros valores para permissões de pasta em produção ao invés de code  por exemplo já ouvi dizer que uma pessoa pode ter problemas com ataques a uma aplicação web caso haja uma permissão de escrita code em determinada pasta isso é verdade  seria legal também se a resposta pudesse explicar melhor sobre as diferenças entre code code e code  em c variáveis locais no escopo de um método podem ser declaradas com tipo implícito usando code e o tipo é resolvido em tempo de compilação  code  exemplo da msdn  casos de uso de tipos anônimos chegam a exigir o code como já mencionado numa resposta aqui do site porém nos casos em que ele é opcional a escolha é puramente uma questão de estilo existem recomendações oficiais ou não contanto que justificadas para se utilizar ou evitar o code em determinadas situações  qual a grande diferença sobre o aspnet e o c eu programo em c pra desktop mas não consigo compreender  c pra desktop windows forms application é idêntico ao c utilizado na programação web e o c usado na programação web é igual ao asp  executo uma rotina diariamente de acessar o site do serasa e fazer a consulta de cnpj preciso desenvolver uma macro para acessar esse site do serasa efetuar o login e depois a consulta e em seguida jogar as informações no excel detalhe já consegui desenvolver a macro pra acessar o site mas na hora da consulta de cnpj da erro de script e não deixa copiar as informações alguém sabe me dizer se é possível que a macro execute todas essas atividades  code  tenho o arquivo que se chama code e quero colocálo numa code por exemplo  code  pergunta  como escrever esse método code  estou realizando alguns testes e pelo que me parece object e dynamic realizam a mesma tarefa ao contrário de var que depois de atribuído é impossível mudar seu tipo qual a diferença entre eles  code  como definir apropriadamente e eficientemente dados naturalmente organizados em árvore em bancos de dados relacionais considerando as implicações físicas disso ou seja organizar de forma que minimize os acessos feitos em qualquer nó  assuma que o rdbms não tem características especiais para lidar com isso exceto a ddl do ansi sql ou recursos disponíveis em todos os principais sistemas de banco de dados relacionais eventualmente uma otimização específica opcional pode ser útil mas não obrigatória  se existir uma forma query mais adequada para acessar varreratravessar os dados estruturados desta forma um exemplo ajudaria  no jep vem se discutindo a definição do g garbage first collector como o garbage collector padrão no java nesse período venho ouvindo muitas citações sobre o g mas muito pouco material tem detalhes mais profundos ou comparações como por exemplo com o cms concurrent mark and sweep o qual seria hoje o gc padrão em aplicações em produção com requerimentos mínimos de performance  visto que o gerenciamento de memória automático provido pela jvm é um dos pontos cruciais da plataforma gostaria de uma visão mais profunda do porquê prós e contras da adoção desse novo garbage collector além de um paralelo com as implementações existentes  como regra geral é considerada má pratica de programação usar métodos estáticos mas em que situações ela se justifica ou não se justifica    por exemplo se eu fosse criar um método simples para ler um arquivo de texto  criando esse método no tipo de instância eu teria que instanciar a classe apenas para poder executálo o que não faz muito sentido código em portugol  code  já na forma estática eu chamaria o método diretamente  code  o que é importante saber antes de licenciar um programa de computador no brasil   eu realmente preciso utilizar uma licença  o que é e como funciona o sistema de software livre  tenho um site onde controlamos os usuários pelo numero de cpf acredito ser a melhor forma pois é um dado único que todo mundo sabe e é checavel porem o cliente tem agora usuários estrangeiros que não tem cpf  como lidar com isso pelo que sei não é possível controlar número de passaporte não existe nada que seja igual ao cpf  mais detalhes  como chave primaria é usado um userid o cpf é o login no sistema quem acessa são vendedores de lojas que vendem o produto e o site é uma área do lojista onde é feito promoções internas  pedir o cpf é um esforço de prevenir mais de um cadastro por pessoa já que o site cria campanhas onde o usuário pode receber prêmios por responder questionários  ex uma das acoes feitas foi ganhe um par de ingressos para assistir a final da copa no maracana ele responde o questionário com perguntas sobre o produto técnica de vendas etc e quem acertar mais ganha o premio cada um pode fazer x temos um banco de questões o questionário pede no banco tem que são randomizadas mas de qualquer modo quanto mais cadastros um usuário tem mais chances ele forjará para si  preciso mudar a posição do na máscara  code  com esta solução o resultado é o seguinte para celulares e para fixos   porém gostaria de deixar para celulares e   eu já vi muita gente defendendo o uso dos métodos http corretamente ou seja respeitando a semântica dos métodos definidos na especificação ao fazer uma requisição code só deve ser utilizado para recuperar dados e nunca para ações que causem efeitos colaterais os métodos code e code muitas vezes devem ser utilizados no lugar do code  porém é um fato óbvio que muito pouca gente na web faz isso na prática code e code são utilizados quase que exclusivamente por diversos motivos que não vêm ao caso   gostaria de saber quais as vantagens do uso correto e as desvantagens do que é feito na prática para além do dogma do certo e errado e da questão semântica  estamos em já li em alguns lugares na internet que não é mais necessário utilizar essa declaração code de fato utilizar a tag code sem declarar esse trecho não afeta em nada o funcionamento do javascript  mas mesmo assim ainda em ides atualizadas como por exemplo o sublime text o mecanismo de autocompletamento faz com que a tag code seja declarada com code  gostaria de saber se é seguro deixar de usar code  algumas ides ainda colocam por questão de compatibilidade  quando estudei mvc pela primeira vez no livro falava muito sobre ddd domaindriven design pelo que eu entendi na época a ideia do ddd era simplesmente programar o software com foco no desenvolvimento da camada de domínio   depois disso lendo sobre o processo de análise e projeto em orientação a objetos tive a impressão de que sempre que programamos um software orientado a objetos damos essa ênfase na camada de domínio começando por ela e usando os requisitos pra montar ela corretamente  isso faz parecer que o ddd prega basicamente a mesma coisa que o processo de análise e projeto em orientação a objetos dessa forma o que realmente é o ddd e quando ele se aplica de verdade quais as vantagens de se usar ddd em um projeto  eu sei que existe um livro chamado domaindriven design tackling complexity in the heart of software mas por ser um livro muito extenso nunca consegui parar pra ler ele existe alguma referência mais resumida sobre o assunto  num handler de evento do jquery podese usar code code e code ou combinações desses para cancelar a ação do evento  sei que tem diferença no comportamento deles mas sinceramente sempre que preciso fazer algo do tipo começo com code e vou na tentativa e erro porque ainda não compreendo muito bem a diferença  já li em algum lugar que code é a mesma coisa que acionar code e code ambos e já li gente dizendo que não é bem assim  alguém pode explicar melhor como devo fazer pra decidir qual desses caras eu preciso com exemplos  quero saber qual é a maneira mais simples possível de se descobrir se a data de hoje é sábado ou domingo em php  quais são as maneiras possíveis de se fazer isso  estou estudando programação de nodejs realtime e me surgiram algumas dúvidas a respeito de sockets de rede não achei nada detalhadamente explicado dai resolvi abrir a questão  o que é um socket de rede e um websocket qual a diferença entre os dois uma comunicação http baseada em requisiçãoresposta sem ser em tempo real é dada através de um socket qual é o papel do protocolo tcp nos sockets e websockets  vejo muita confusão no site sobre os termos no contexto de segurança de dados o que seria encoding encrypting e hashing e em que contextos devem ser usados cada um  em especial codificar serve como medida de segurança ou é usada para outra coisa exemplo usar base  por favor leia e entenda a pergunta o assunto tem um contexto específico  quando devo usar um arquivo javascript ou jquery com arquivo code e codepuro tipo  code  certa vez eu vi um código em c com a seguinte linha  code  o que significa em linguagem c  eu sempre faço confusão com aplicação web e aplicação desktop não consigo entender muito bem a diferenças de ambas  perguntas   quais são as diferenças entre aplicação web e aplicação desktop quais são as principais característica de cada um   a maioria dos programas se encaixam bem em espaço de endereço de menor que gb mas em alguns casos o programa pode precisar usar os novos recursosinstruções do processador que só estão disponíveis na arquitetura x infelizmente o procedimento normal seria gerar um executável bits e ganhando o custo dos ponteiros terem o dobro do tamanho  há aplicações específicas em que a maioria das estruturas de dados tem grande parte de seus elementos compostos por ponteiros ponteiros grandes produzirão cache missen com mais frequência e se você não vai usar memória além dos gb ponteiros de bits são puro desperdício  existem compiladores onde eu possa usar registradores e instruções específicas x mas preservando os ponteiros de bits para economizar a memória em quais plataformas  é possível fazer isso de forma transparente em código legado há um switchflag para ligar isso no compilador  caso não seja possível trabalhar com código legado o que é necessário mudar no código para obter os recursos de bits enquanto mantêm ponteiros de bits  eu sei que isto só é vantajoso se essa economia de memória realmente é importante  tenho dúvidas a respeito do uso do code em funções   exemplo  code  eu sei que esta função irá me retornar um inteiro que é a soma dos dois parâmetros na função code e code   exemplo  code  eu vi em um programa que continha uma implementação parecida como a do segundo exemplo acima que usei para ilustrar a situação que testemunhei do uso do code eu testei a função code e ela retorna a soma dos dois parâmetros mesmo tendo o code especificado como retorno ou seja vazio  isto me deixou confuso em relação ao uso do code eu pensava que servia somente para dizer que uma função não vai ter retorno nenhum ou não irá receber nenhum parâmetro como este exemplo code  afinal de contas qual é a finalidade deste comando em c o uso do code especificado como ponteiro pode retornar valores mesmo sendo code  ultimamente tenho vários exemplos de repository pattern homemade nas questões sobre entity framework  porém o entity framework já implementa um repository pattern que no caso é o unit of work  muitos destes repositórios atuam como um falso repositório que encapsula o repositório verdadedbcontent para executar operações básicas como getall atualizar inserir etc  desta forma não consigo ver benefícios neste tipo de implementação podendo até trazer uma complexibilidade maior ao projeto em si  seria repository pattern um novo hungarian notation onde muitos programadores ainda colocam abreviações do type como prefixo da variável em linguagens com oo quando este tipo de notação deveria mencionar a natureza da variável como prefixo e é desnecessária em linguagens oo  talvez eu não esteja conseguindo ver fora da caixa então gostaria de exemplos com repository pattern que agregem valor  os métodos http são utilizados para enviar e receber dados do servidor tais como o code recupera dados e o code envia os dados  seguindo a definição acima da para entender muito bem a finalidade do code e do code porem eu tenho uma dúvida pertinente a respeito de como o http processa a requisição de acordo com o verbo http  dúvida  como o protocolo http processa por baixo dos panos as requisições ou seja como ocorre a comunicação cliente e servidor através dos métodos de requisição  qual a melhor forma por melhor eu quero dizer com maior compatibilidade possível entre browsers e o mais simples possível de posicionar um elemento no centro da página vertical e horizontalmente e independentemente de resolução utilizando somente css  com o code entrando no estado deprecated a documentação php recomenda o uso do pdo e mysqli  qual vocês recomendam para o uso pdo parece ser mais indicado para trabalhar com orientado a objetos só que ao mesmo tempo vi benchmarks que mostram que a performance usando o mysqli teria uma performance maior a performance poderia impactar muito se comparar ao uso com o pdo  em orientação a objetos é comum que objetos de uma certa classe possuam referências a um ou mais objetos de outras classes um exemplo muito simples é um objeto de uma classe code que possui referência a uma lista de code de forma que cada objeto desse tipo possua referência a vários objetos de outro tipo  acontece que em alguns casos chamam isso de composição e em outros casos chamam isso de agregação pesquisando li que composição é quando um dos objetos não existe independente do outro e agregação é quando os dois podem existir independentemente é só isso mesmo  mesmo se for só isso eu ainda não consigo identificar quais as implicações disso na prática basicamente nos dois casos basta ter uma propriedade no objeto cujo tipo é a classe do outro tipo não tem em código uma diferença entre agregação e composição então quais as utilidades de diferenciar esses dois casos e qual a diferença dessas duas abordagens na prática  tenho receio de estar me preocupando demais com testes já que estou gastando atualmente cerca de do tempo do meu projeto apenas na criação deles  eu sei que quanto mais tempo eu gastar com testes menos eu vou gastar para corrigir bugs  mas assim como existe a curva abc para definir os itens de maior impacto em pesquisas econômicas e estratégias de negócio talvez exista algum estudo análogo na área de desenvolvimento de softwares que calcule uma quantidade ideal de tempo que deva ser gasta com testes já que assim como apontado pela curva abc a partir de um certo ponto o teste vai custar mais caro do que o próprio código que ele testa   pergunta  qual é a fração de tempo ideal de um projeto que deveria ser reservada para o desenvolvimento de testes  estou lendo um livro de javascript chamado javascript the good parts e nele em vários momentos o autor fala que não se deve utilizar variáveis globais porque elas são do mal por que elas são consideradas do mal que tipo de problemas elas podem causar  como uma música é interpretada pelo computador  entendo que uma imagem é uma matriz de pixels em que cada elemento é uma cor   quando abro uma música no code ele a apresenta como duas sequências left e right de frequências conforme a imagem  será que é correto afirmar que uma música é uma matriz com duas colunas e o número de linhas sendo alguma unidade de tempo    como busco nos correios os detalhes de um endereço utilizando seu cep similar aos cadastros de endereço que vemos nos sites de ecommerce  com o advento dos layouts responsivosadaptativofluidos está cada vez menos comum o uso do code para definir espaçamentos no layout o uso dele não é recomendado nesses layouts modernos ou é só uma questão de prática de programação de separar a responsabilidade para o css  como este código pode executar desta forma  code  saída  code  intuitivamente deve ser menor que sempre porque acontece este tipo de erro o computador não é uma máquina que não erra  estou com duvidas sobre uma certa questão em javascript suponha o seguinte cenário abaixo  \r \r code\r \r \r   nesse caso eu percebi que o meu método code foi meio que sobrescrito não sei se é realmente isso que acontece quando chamamos o mesmo só o teste que é exibido agora as duvidas em relação a isso   esse é realmente o comportamento esperado quando declaramos  métodos com o mesmo nome e parâmetros no js ele irá sempre sobrescrever e vai prevalecer o último declarado existe alguma explicação para esse comportamento se sim qual é essa explicação existe alguma forma de fazer que gere algum erro ou algo do tipo caso alguém cometa esse equivoco e declare métodos com o mesmo nome e parâmetros caso a tenha alguma maneira de fazer o que fazer caso as funções estejam em arquivos js diferentes   vejo que alguns sites ao definir o code utilizam a unidade code em uma breve pesquisa eu li que é recomendado usar code em fontes por ser melhor do que a unidade code afinal qual seria a unidade certa ao definir o tamanho da fonte e por que  quero colocar no meu site um sistema igual o do gag onde as pessoas podem pausar e dar play em um code eu sei que tenho que usar duas imagens um code e um code mas tentei algumas funções e não consegui  achei essa função   code  mas eu não sei o que passar por parâmetro e nem como usálas no html  eu preciso do regex para detectar quando a bandeira do cartão de crédito é hipercard aura e elo  eu já possuo regexes para amex martercard diners club visa discover and jcb  code  às vezes parece que estamos falamos da mesma coisa claro não é quando estes conceitos estão sendo utilizados qual é a real diferença entre eles quando utilizar um ou outro  qual a diferença entre code code e code   quando devo usar cada um especificamente \n"
          ],
          "output_type":"stream"
        }
      ],
      "metadata":{
        
      }
    },
    {
      "cell_type":"code",
      "source":[
        "from nltk.tokenize import WhitespaceTokenizer"
      ],
      "execution_count":130,
      "outputs":[
        
      ],
      "metadata":{
        
      }
    },
    {
      "cell_type":"code",
      "source":[
        "todas_palavras_port = WhitespaceTokenizer().tokenize(todas_questoes_port)\n",
        "print(todas_palavras_port)"
      ],
      "execution_count":131,
      "outputs":[
        {
          "name":"stdout",
          "text":[
            "['sou', 'estudante', 'em', 'sistemas', 'de', 'informação', 'e', 'estou', 'modelando', 'um', 'jogo', 'um', 'pet', 'virtual', 'que', 'tem', 'suas', 'necessidades', 'e', 'conversa', 'com', 'seu', 'dono', 'abaixo', 'segue', 'a', 'modelagem', 'das', 'classes', 'e', 'interfaces', 'mostrei', 'para', 'um', 'amigo', 'formado', 'em', 'ciência', 'da', 'computação', 'ele', 'achou', 'que', 'tem', 'muitas', 'interfaces', 'que', 'não', 'era', 'necessário', 'eu', 'argumentei', 'que', 'caso', 'no', 'futuro', 'eu', 'poderia', 'dar', 'manutenção', 'e', 'implementar', 'pets', 'da', 'forma', 'que', 'eu', 'quisesse', 'sem', 'muito', 'esforço', 'podendo', 'criar', 'um', 'pet', 'híbrido', 'entre', 'animal', 'e', 'robo', 'e', 'atribuindo', 'a', 'ele', 'seus', 'comportamentos', 'através', 'das', 'interfaces', 'mas', 'enfim', 'ele', 'veio', 'com', 'argumentos', 'de', 'desempenho', 'da', 'aplicação', 'minha', 'dúvida', 'é', 'se', 'minha', 'modelagem', 'que', 'não', 'está', 'pronta', 'apenas', 'um', 'esboço', 'com', 'tantas', 'interfaces', 'é', 'uma', 'má', 'prática', 'de', 'programação', 'quando', 'devo', 'utilizar', 'uma', 'interface', 'link', 'da', 'imagem', 'falam', 'muito', 'mal', 'do', 'code', 'mas', 'as', 'vezes', 'me', 'pergunto', 'se', 'ele', 'realmente', 'é', 'o', 'problema', 'ou', 'é', 'a', 'pessoa', 'que', 'está', 'sentada', 'na', 'frente', 'do', 'computador', 'o', 'suporto', 'programador', 'minha', 'vida', 'inteira', 'na', 'programação', 'tenho', 'ouvido', 'críticas', 'piadinhas', 'zoeiras', 'em', 'cima', 'dessa', 'função', 'code', 'mas', 'o', 'curioso', 'é', 'que', 'mesmo', 'aqueles', 'que', 'zoam', 'acabam', 'por', 'usar', 'bibliotecas', 'que', 'a', 'utilizam', 'internamente', 'sem', 'saber', 'um', 'exemplo', 'disso', 'é', 'code', 'que', 'no', 'sistema', 'de', 'views', 'utiliza', 'code', 'exemplo', 'removi', 'os', 'comentários', 'do', 'código', 'original', 'code', 'github', 'viewphp', 'linha', 'é', 'verdade', 'o', 'mesmo', 'já', 'está', 'descontinuado', 'mas', 'não', 'está', 'numa', 'era', 'tão', 'distante', 'assim', 'a', 'versão', 'dele', 'é', 'para', 'php', 'porém', 'não', 'seria', 'surpresa', 'se', 'um', 'dos', 'críticos', 'de', 'code', 'tivesse', 'utilizando', 'esse', 'framework', 'sem', 'saber', 'dessa', 'informação', 'e', 'ainda', 'eu', 'dou', 'outro', 'exemplo', 'que', 'muitos', 'programadores', 'também', 'usam', 'mas', 'sem', 'saber', 'o', 'superclosure', 'que', 'é', 'utilizado', 'no', 'laravel', 'e', 'laravel', 'essa', 'biblioteca', 'tem', 'como', 'finalidade', 'prover', 'uma', 'possibilidade', 'de', 'serializar', 'closures', 'no', 'php', 'já', 'que', 'nativamente', 'as', 'closures', 'no', 'php', 'não', 'têm', 'suporte', 'a', 'serialização', 'essa', 'biblioteca', 'se', 'torna', 'útil', 'para', 'quem', 'precisa', 'utilizar', 'sistemas', 'de', 'filas', 'como', 'o', 'beanstalkd', 'onde', 'as', 'informações', 'passadas', 'geralmente', 'são', 'uma', 'string', 'e', 'portanto', 'os', 'dados', 'em', 'php', 'precisam', 'ser', 'serializados', 'exemplo', 'code', 'github', 'serializableclosurephp', 'linha', 'pensando', 'na', 'utilidade', 'das', 'classes', 'das', 'bibliotecas', 'apresentadas', 'acima', 'lembrando', 'que', 'são', 'só', 'dois', 'exemplos', 'mas', 'deve', 'haver', 'outros', 'casos', 'fiquei', 'me', 'questionando', 'se', 'eu', 'deveria', 'ainda', 'continuar', 'falando', 'mau', 'do', 'code', 'ou', 'simplesmente', 'fazer', 'uma', 'análise', 'e', 'avaliar', 'quando', 'é', 'bom', 'ou', 'ruim', 'usálo', 'por', 'outro', 'lado', 'se', 'eu', 'pensar', 'que', 'todo', 'eval', 'independente', 'de', 'como', 'é', 'implementado', 'é', 'um', 'risco', 'provavelmente', 'vou', 'ter', 'que', 'parar', 'de', 'usar', 'as', 'bibliotecas', 'que', 'citei', 'acima', 'e', 'fazer', 'um', 'trabalho', 'todo', 'manual', 'quais', 'são', 'os', 'riscos', 'de', 'usar', 'code', 'num', 'projeto', 'devo', 'sempre', 'evitálo', 'se', 'a', 'resposta', 'for', 'sim', 'para', 'devo', 'evitálo', 'então', 'eu', 'também', 'deveria', 'deixar', 'de', 'usar', 'bibliotecas', 'que', 'o', 'implementam', 'afinal', 'de', 'contas', 'isso', 'não', 'pode', 'pôr', 'meu', 'código', 'em', 'risco', 'o', 'code', 'deve', 'ser', 'utilizado', 'em', 'alguns', 'casos', 'bem', 'específicos', 'como', 'por', 'exemplo', 'somente', 'em', 'geração', 'de', 'código', 'ou', 'posso', 'utilizálo', 'livremente', 'desde', 'que', 'eu', 'tenha', 'consciência', 'do', 'que', 'estou', 'fazendo', 'nota', 'favor', 'não', 'editar', 'e', 'colocar', 'tags', 'como', 'php', 'ou', 'laravel', 'pois', 'os', 'exemplos', 'foram', 'apenas', 'para', 'mostrar', 'casos', 'onde', 'code', 'foi', 'bem', 'recebido', 'se', 'houver', 'exemplos', 'de', 'outras', 'linguagens', 'que', 'o', 'usem', 'será', 'bemvindo', 'acabei', 'de', 'ler', 'esse', 'artigo', 'e', 'nele', 'há', 'esta', 'expressão', 'code', 'avaliando', 'isso', 'no', 'interpretador', 'code', 'bom', 'por', 'que', 'eu', 'tenho', 'a', 'impressão', 'que', 'toda', 'vez', 'que', 'executo', 'o', 'comando', 'code', 'para', 'gerar', 'o', 'autoload', 'das', 'classes', 'via', 'code', 'um', 'arquivo', 'code', 'é', 'criado', 'dentro', 'dele', 'parece', 'haver', 'um', 'emaranhado', 'de', 'classes', 'e', 'namespaces', 'é', 'como', 'se', 'tivessem', 'unidos', 'vários', 'arquivos', 'em', 'um', 'só', 'gerar', 'um', 'código', 'php', 'em', 'que', 'as', 'classes', 'utilizadas', 'estão', 'no', 'mesmo', 'arquivo', 'seria', 'mais', 'rápido', 'do', 'que', 'ter', 'elas', 'espalhadas', 'pelos', 'diretórios', 'o', 'que', 'são', 'esses', 'tais', 'de', 'stack', 'e', 'heap', 'que', 'tanto', 'se', 'fala', 'em', 'gerenciamento', 'de', 'memória', 'isso', 'realmente', 'são', 'porções', 'da', 'memória', 'como', 'algumas', 'pessoas', 'falam', 'ou', 'é', 'apenas', 'um', 'conceito', 'abstrato', 'para', 'facilitar', 'o', 'entendimento', 'da', 'forma', 'como', 'se', 'gerencia', 'a', 'memória', 'algum', 'deles', 'é', 'mais', 'rápido', 'que', 'o', 'outro', 'se', 'um', 'é', 'claramente', 'mais', 'rápido', 'por', 'que', 'existe', 'o', 'outro', 'faz', 'diferença', 'se', 'estou', 'usando', 'por', 'exemplo', 'assembly', 'c', 'java', 'ou', 'javascript', 'windows', 'ou', 'linux', 'isso', 'é', 'controlado', 'pela', 'linguagem', 'ou', 'pelo', 'sistema', 'operacional', 'enfim', 'queria', 'entender', 'melhor', 'esse', 'conceito', 'que', 'parece', 'ser', 'mal', 'compreendido', 'pelos', 'programadores', 'seria', 'muito', 'útil', 'uma', 'explicação', 'para', 'quem', 'está', 'começando', 'ou', 'aprendeu', 'isso', 'de', 'forma', 'errada', 'hoje', 'vi', 'o', 'seguinte', 'vídeo', 'httpswwwyoutubecomwatchvjgpvqcfms', 'mostra', 'um', 'bracelete', 'que', 'projeta', 'a', 'tela', 'de', 'um', 'celular', 'android', 'pareado', 'no', 'braço', 'do', 'usuário', 'este', 'então', 'pode', 'manipular', 'o', 'celular', 'movendo', 'o', 'dedo', 'em', 'seu', 'braço', 'o', 'vídeo', 'me', 'parece', 'claramente', 'uma', 'montagem', 'em', 'vários', 'momentos', 'a', 'projeção', 'da', 'tela', 'não', 'acompanha', 'corretamente', 'o', 'movimento', 'da', 'câmera', 'e', 'o', 'aparelho', 'responde', 'excessivamente', 'rápido', 'às', 'entradas', 'mas', 'a', 'empresa', 'existe', 'e', 'está', 'arrecadando', 'fundos', 'para', 'lançar', 'um', 'protótipo', 'então', 'é', 'possível', 'que', 'meramente', 'tenham', 'feito', 'um', 'vídeo', 'promocional', 'sem', 'ter', 'o', 'protótipo', 'pronto', 'o', 'que', 'me', 'deixou', 'em', 'dúvida', 'é', 'assumindo', 'que', 'seja', 'tudo', 'real', 'como', 'eles', 'fariam', 'um', 'aplicativo', 'que', 'faz', 'streaming', 'da', 'tela', 'do', 'android', 'e', 'permite', 'disparar', 'eventos', 'de', 'gesture', 'no', 'aparelho', 'isso', 'é', 'mesmo', 'possível', 'ou', 'seria', 'uma', 'solução', 'apenas', 'para', 'aparelhos', 'com', 'root', 'e', 'que', 'tenham', 'sido', 'modificados', 'de', 'alguma', 'forma', 'se', 'isso', 'é', 'possível', 'por', 'que', 'empresas', 'como', 'o', 'teamviewer', 'ainda', 'não', 'fizeram', 'um', 'cliente', 'de', 'controle', 'remoto', 'para', 'o', 'android', 'durante', 'meus', 'trabalhos', 'eu', 'aprendi', 'uma', 'forma', 'de', 'lidar', 'com', 'code', 'mas', 'não', 'sei', 'se', 'é', 'muito', 'boa', 'aqui', 'vai', 'um', 'exemplo', 'do', 'código', 'code', 'a', 'minha', 'ideia', 'é', 'mapear', 'os', 'erros', 'e', 'jogar', 'a', 'responsabilidade', 'de', 'seu', 'tratamento', 'para', 'o', 'método', 'principal', 'para', 'ser', 'mais', 'objetivo', 'vou', 'direto', 'as', 'perguntas', 'gostaria', 'de', 'saber', 'a', 'opnião', 'de', 'vocês', 'existe', 'uma', 'forma', 'melhor', 'correta', 'de', 'propagar', 'e', 'exibir', 'as', 'exceções', 'de', 'forma', 'simples', 'essa', 'é', 'uma', 'boa', 'forma', 'de', 'lidar', 'com', 'exceptions', 'qual', 'a', 'importância', 'de', 'capturar', 'code', 'mais', 'especificas', 'por', 'exemplo', 'dividebyzeroexception', 'recentemente', 'fiz', 'a', 'pergunta', 'porque', 'devemos', 'usar', 'anonymous', 'functions', 'com', 'jquery', 'ao', 'invés', 'da', 'função', 'diretamente', 'e', 'junto', 'com', 'a', 'resposta', 'aceita', 'veio', 'uma', 'segunda', 'pergunta', 'como', 'passar', 'argumentos', 'pra', 'uma', 'função', 'js', 'que', 'estamos', 'invocando', 'por', 'referência', 'como', 'seria', 'a', 'chamada', 'à', 'code', 'se', 'esta', 'função', 'recebesse', 'parâmetros', 'simples', 'como', 'um', 'número', 'ou', 'mais', 'complexos', 'como', 'um', 'objeto', 'propriamente', 'dito', 'sei', 'que', 'é', 'possível', 'executar', 'um', 'code', 'com', 'dados', 'de', 'outra', 'tabela', 'code', 'mas', 'gostaria', 'de', 'fazer', 'o', 'mesmo', 'com', 'um', 'code', 'algo', 'equivalente', 'à', 'isso', 'code', 'é', 'possível', 'como', 'quando', 'se', 'lê', 'sobre', 'arquitetura', 'de', 'software', 'na', 'web', 'às', 'vezes', 'é', 'usado', 'o', 'termo', 'código', 'spaghetti', 'se', 'referindo', 'a', 'algo', 'que', 'deve', 'ser', 'evitado', 'porém', 'nunca', 'consegui', 'entender', 'com', 'clareza', 'o', 'que', 'código', 'spaghetti', 'significa', 'problema', 'testem', 'aí', 'nos', 'consoles', 'dos', 'seus', 'browsers', 'code', 'o', 'correto', 'seria', 'code', 'alguém', 'poderia', 'me', 'explicar', 'isso', 'e', 'como', 'faço', 'para', 'resolver', 'isso', 'sempre', 'ouço', 'falar', 'de', 'code', 'e', 'code', 'mas', 'não', 'sei', 'diferenciar', 'um', 'do', 'outro', 'nem', 'para', 'que', 'servem', 'me', 'pareceu', 'algo', 'com', 'padrão', 'de', 'arquitetura', 'de', 'aplicação', 'estilo', 'commonjs', 'utilizar', 'validações', 'em', 'javascript', 'é', 'suficiente', 'para', 'uma', 'validação', 'eficiente', 'exemplo', 'validação', 'de', 'datas', 'é', 'necessário', 'verificar', 'também', 'no', 'código', 'quais', 'as', 'desvantagens', 'de', 'só', 'realizar', 'validações', 'via', 'clienteside', 'podem', 'causar', 'dúvidas', 'como', 'é', 'feita', 'a', 'randomização', 'pelo', 'computador', 'qual', 'algorítimo', 'ou', 'qual', 'base', 'matemática', 'o', 'computador', 'usa', 'para', 'gerar', 'esses', 'números', 'por', 'exemplo', 'no', 'javascript', 'utilizo', 'o', 'code', 'ele', 'me', 'retorna', 'diferentes', 'números', 'todas', 'as', 'vezes', 'como', 'por', 'exemplo', 'code', 'e', 'etc', 'de', 'forma', 'a', 'podermos', 'ter', 'a', 'administração', 'de', 'um', 'website', 'a', 'ser', 'realizada', 'a', 'partir', 'de', 'um', 'servidor', 'diferente', 'daquele', 'onde', 'o', 'website', 'está', 'alojado', 'surgiu', 'o', 'problema', 'de', 'lidar', 'com', 'imagens', 'remotas', 'problemas', 'comuns', 'verificar', 'se', 'a', 'imagem', 'efectivamente', 'existe', 'antes', 'de', 'criar', 'links', 'para', 'a', 'mesma', 'ao', 'substituir', 'determinada', 'imagem', 'verificar', 'se', 'a', 'anterior', 'existe', 'para', 'que', 'seja', 'eliminada', 'verificar', 'se', 'a', 'imagem', 'carregada', 'para', 'o', 'servidor', 'não', 'está', 'com', 'o', 'mesmo', 'nome', 'de', 'uma', 'imagem', 'já', 'existente', 'normalmente', 'este', 'tipo', 'de', 'operações', 'é', 'realizado', 'com', 'o', 'code', 'mas', 'como', 'o', 'mesmo', 'não', 'suporta', 'url', 'apenas', 'caminhos', 'absolutos', 'ou', 'relativos', 'do', 'próprio', 'servidor', 'fica', 'assim', 'inviabilizado', 'para', 'este', 'cenário', 'pergunta', 'utilizando', 'php', 'como', 'posso', 'verificar', 'se', 'uma', 'imagem', 'remota', 'existe', 'um', 'usuário', 'digitará', 'uma', 'frase', 'e', 'devo', 'mostrar', 'esta', 'frase', 'invertida', 'e', 'em', 'maiúsculo', 'como', 'posso', 'fazer', 'isto', 'code', 'tenho', 'usado', 'uma', 'biblioteca', 'de', 'javascript', 'para', 'fazer', 'iconessimbolos', 'de', 'uma', 'app', 'de', 'metereologia', 'queria', 'agora', 'fazer', 'em', 'svg', 'o', 'simbolo', 'da', 'nuvem', 'céu', 'nublado', 'e', 'questionome', 'sobre', 'qual', 'a', 'melhor', 'abordagem', 'fiz', 'um', 'svg', 'com', 'a', 'linha', 'da', 'nuvem', 'estática', 'jsfiddle', 'e', 'uma', 'rotação', 'básica', 'que', 'não', 'é', 'o', 'efeito', 'pretendido', 'uma', 'vez', 'que', 'a', 'nuvem', 'original', 'na', 'animação', 'com', 'o', 'canvasjs', 'tem', 'arcos', 'que', 'expandem', 'e', 'contraem', 'à', 'medida', 'que', 'rotacionam', 'possiveis', 'abordagens', 'que', 'pensei', 'fazer', 'circulos', 'usando', 'dash', 'para', 'ter', 'só', 'arcos', 'e', 'depois', 'tentar', 'animar', 'esse', 'valor', 'e', 'fazer', 'tudo', 'rodar', 'à', 'volta', 'de', 'um', 'eixo', 'fazer', 'path', 'e', 'depois', 'tentar', 'animar', 'esse', 'valor', 'e', 'fazer', 'tudo', 'rodar', 'à', 'volta', 'de', 'um', 'eixo', 'haverá', 'uma', 'maneira', 'melhor', 'e', 'que', 'funcione', 'em', 'browsers', 'modernos', 'de', 'maneira', 'a', 'recriar', 'a', 'animação', 'mas', 'com', 'svg', 'o', 'exemplo', 'de', 'js', 'como', 'no', 'jsfiddle', 'em', 'cima', 'code', 'code', 'caso', 'alguém', 'não', 'saiba', 'hoje', 'code', 'teremos', 'um', 'segundo', 'a', 'mais', 'ou', 'seja', 'hoje', 'depois', 'das', 'code', 'teremos', 'code', 'isso', 'para', 'fazer', 'a', 'correção', 'do', 'tempo', 'atômico', 'internacional', 'sei', 'que', 'existem', 'vários', 'serviços', 'que', 'são', 'sincronizados', 'com', 'relógios', 'atômicos', 'como', 'o', 'que', 'fica', 'no', 'observatório', 'nacional', 'que', 'podem', 'ter', 'problemas', 'com', 'esse', 'segundo', 'a', 'mais', 'que', 'tipos', 'de', 'problemas', 'podemos', 'esperar', 'em', 'nossos', 'sistemasservidores', 'e', 'aplicações', 'quando', 'ocorre', 'um', 'evento', 'como', 'esse', 'caso', 'você', 'não', 'esteja', 'sabendo', 'de', 'nada', 'veja', 'algumas', 'matérias', 'falando', 'disso', 'radioagência', 'nacional', 'relógios', 'terão', 'um', 'segundo', 'extra', 'por', 'alterações', 'gravitacionais', 'tecmundo', 'dia', 'de', 'junho', 'terá', 'segundo', 'a', 'mais', 'mas', 'o', 'que', 'isso', 'pode', 'causar', 'estou', 'com', 'algumas', 'dúvidas', 'quanto', 'ao', 'code', 'li', 'em', 'algum', 'lugar', 'e', 'me', 'lembro', 'vagamente', 'sobre', 'a', 'questão', 'da', 'reescrita', 'mas', 'o', 'que', 'é', 'isso', 'e', 'para', 'que', 'serve', 'como', 'se', 'aplica', 'em', 'um', 'código', 'java', 'existe', 'em', 'alguma', 'outra', 'linguagem', 'suponha', 'que', 'implementei', 'uma', 'nova', 'linguagem', 'e', 'que', 'tenho', 'um', 'interpretador', 'funcional', 'escrito', 'em', 'javascript', 'algo', 'como', 'code', 'agora', 'gostaria', 'de', 'criar', 'uma', 'interface', 'na', 'qual', 'eu', 'posso', 'inserir', 'o', 'código', 'da', 'minha', 'linguagem', 'em', 'tags', 'code', 'de', 'forma', 'que', 'ele', 'funcione', 'exatamente', 'igual', 'a', 'como', 'o', 'javascript', 'opera', 'ou', 'seja', 'code', 'ou', 'seja', 'as', 'tags', 'code', 'seria', 'executada', 'sequencialmente', 'e', 'poderia', 'intercalar', 'com', 'o', 'javascript', 'sei', 'que', 'posso', 'por', 'um', 'evento', 'no', 'code', 'para', 'executar', 'todos', 'os', 'scripts', 'com', 'a', 'minha', 'linguagem', 'já', 'que', 'eles', 'são', 'ignorados', 'pelo', 'navegador', 'mas', 'isso', 'não', 'teria', 'o', 'comportamento', 'que', 'espero', 'do', 'exemplo', 'acima', 'outro', 'caso', 'é', 'se', 'o', 'elemento', 'for', 'inserido', 'via', 'javascript', 'existe', 'como', 'ter', 'um', 'callback', 'que', 'seja', 'chamado', 'sempre', 'que', 'um', 'elemento', 'aparecer', 'no', 'dom', 'outro', 'problema', 'é', 'com', 'o', 'carregamento', 'se', 'a', 'tag', 'vier', 'com', 'o', 'atributo', 'code', 'imaginei', 'em', 'carregar', 'via', 'ajax', 'mas', 'com', 'isso', 'os', 'scripts', 'serão', 'executados', 'fora', 'de', 'ordem', 'e', 'não', 'estritamente', 'na', 'ordem', 'em', 'que', 'aparecem', 'como', 'garantir', 'essa', 'ordem', 'qual', 'é', 'a', 'melhor', 'forma', 'de', 'iterar', 'os', 'objetos', 'em', 'um', 'code', 'no', 'java', 'de', 'forma', 'a', 'ter', 'acesso', 'à', 'chave', 'e', 'ao', 'valor', 'de', 'cada', 'entrada', 'quando', 'escrevo', 'código', 'em', 'java', 'e', 'tento', 'tratar', 'excepções', 'costumo', 'usar', 'simplesmente', 'a', 'superclasse', 'code', 'não', 'ligando', 'à', 'classe', 'específica', 'e', 'costuma', 'resultar', 'há', 'algum', 'inconveniente', 'em', 'fazer', 'isto', 'code', 'quando', 'um', 'cliente', 'se', 'conecta', 'ao', 'meu', 'servidor', 'posso', 'confiar', 'que', 'o', 'endereço', 'ip', 'a', 'que', 'tenho', 'acesso', 'toda', 'linguagemframeworketc', 'usada', 'em', 'aplicações', 'web', 'expõe', 'o', 'ip', 'do', 'cliente', 'de', 'alguma', 'forma', 'é', 'realmente', 'desse', 'cliente', 'ou', 'ele', 'pode', 'ser', 'forjado', 'sei', 'que', 'de', 'um', 'modo', 'geral', 'não', 'devo', 'confiar', 'em', 'nada', 'que', 'venha', 'do', 'lado', 'cliente', 'entretanto', 'também', 'sei', 'que', 'pelo', 'modo', 'como', 'as', 'redes', 'funcionam', 'se', 'um', 'atacante', 'de', 'alguma', 'forma', 'me', 'mandar', 'uma', 'mensagem', 'com', 'um', 'ip', 'falso', 'a', 'resposta', 'não', 'vai', 'para', 'ele', 'vai', 'para', 'o', 'dono', 'verdadeiro', 'do', 'ip', 'informado', 'me', 'parece', 'então', 'que', 'não', 'é', 'possível', 'roubar', 'informações', 'de', 'um', 'usuário', 'copiando', 'o', 'ip', 'dele', 'ou', 'estou', 'enganado', 'em', 'que', 'medida', 'eu', 'posso', 'confiar', 'nessa', 'informação', 'ao', 'validar', 'uma', 'requisição', 'vinda', 'do', 'lado', 'cliente', 'uma', 'code', 'de', 'uma', 'classe', 'não', 'é', 'a', 'mesma', 'coisa', 'que', 'um', 'code', 'qual', 'a', 'real', 'diferença', 'entre', 'eles', 'ou', 'code', 'é', 'um', 'sinônimo', 'para', 'code', 'ou', 'viceversa', 'ou', 'varia', 'conforme', 'a', 'linguagem', 'de', 'programação', 'eu', 'tive', 'uma', 'aula', 'na', 'faculdade', 'que', 'me', 'deixou', 'meio', 'intrigado', 'meu', 'professor', 'estava', 'falando', 'das', 'diferenças', 'das', 'linguagens', 'interpretadas', 'e', 'das', 'linguagens', 'compiladas', 'e', 'destacou', 'que', 'as', 'linguagens', 'interpretadas', 'poderiam', 'ter', 'seu', 'código', 'roubado', 'quando', 'nas', 'compiladas', 'isso', 'não', 'acontece', 'aí', 'abriu', 'uma', 'série', 'de', 'dúvidas', 'onde', 'a', 'principal', 'é', 'se', 'meu', 'código', 'é', 'compilado', 'e', 'não', 'dá', 'pra', 'saber', 'como', 'foi', 'escrito', 'como', 'os', 'antivírus', 'sabem', 'que', 'ele', 'pode', 'ser', 'perigoso', 'ao', 'modelar', 'endereços', 'em', 'uma', 'aplicação', 'ingenuamente', 'segui', 'a', 'forma', 'normalizada', 'ao', 'representar', 'no', 'bd', 'ie', 'tabelas', 'separadas', 'para', 'país', 'estado', 'cidade', 'bairro', 'etc', 'joins', 'para', 'todo', 'lado', 'e', 'na', 'interface', 'de', 'usuário', 'html', 'coloquei', 'um', 'campo', 'separado', 'para', 'cada', 'parte', 'desse', 'endereço', 'caixa', 'de', 'texto', 'com', 'autocompletar', 'ou', 'combo', 'box', 'no', 'começo', 'achava', 'que', 'estava', 'bom', 'desse', 'jeito', 'e', 'não', 'pensei', 'muito', 'no', 'assunto', 'entretanto', 'após', 'fazer', 'uma', 'pergunta', 'no', 'uxse', 'relativo', 'ao', 'nosso', 'padrão', 'de', 'usar', 'rua', 'x', 'em', 'vez', 'de', 'x', 'street', 'as', 'respostas', 'me', 'levaram', 'a', 'questionar', 'se', 'valia', 'a', 'pena', 'na', 'prática', 'exigir', 'tamanho', 'nível', 'de', 'detalhe', 'na', 'representação', 'além', 'da', 'complexidade', 'adicional', 'na', 'hora', 'de', 'buscaratualizar', 'como', 'exemplificado', 'nessa', 'pirâmide', 'não', 'sei', 'como', 'a', 'performance', 'do', 'sistema', 'será', 'quando', 'ele', 'contiver', 'um', 'número', 'elevado', 'de', 'endereços', 'gostaria', 'de', 'saber', 'de', 'quem', 'já', 'tem', 'experiência', 'lidando', 'com', 'um', 'grande', 'número', 'de', 'endereços', 'quais', 'práticas', 'seriam', 'recomendadas', 'deixar', 'tudo', 'normalizado', 'usar', 'um', 'campo', 'de', 'texto', 'aberto', 'condensar', 'algumas', 'tabelas', 'numa', 'só', 'ex', 'code', 'e', 'deixar', 'outras', 'separadas', 'etc', 'levando', 'em', 'consideração', 'que', 'poucos', 'usuários', 'entrarão', 'com', 'muitos', 'endereços', 'de', 'outras', 'pessoas', 'se', 'fosse', 'cada', 'usuário', 'entrando', 'com', 'o', 'próprio', 'endereço', 'uma', 'vez', 'e', 'pronto', 'não', 'justificaria', 'investir', 'em', 'usabilidade', 'se', 'uma', 'parte', 'do', 'endereço', 'já', 'existe', 'no', 'banco', 'ex', 'uma', 'rua', 'previamente', 'cadastrada', 'o', 'autocompletar', 'pode', 'ser', 'usado', 'para', 'agilizar', 'a', 'entrada', 'de', 'dados', 'isso', 'seria', 'mais', 'difícil', 'se', 'o', 'endereço', 'fosse', 'um', 'campo', 'aberto', 'alguns', 'dados', 'são', 'mais', 'fáceis', 'de', 'encontrar', 'e', 'prépopular', 'ex', 'lista', 'completa', 'de', 'cidades', 'brasileiras', 'outros', 'são', 'mais', 'difíceis', 'ou', 'mais', 'caros', 'podendo', 'ser', 'melhor', 'que', 'o', 'usuário', 'entre', 'com', 'eles', 'sob', 'demanda', 'mas', 'ainda', 'permitindo', 'autocompletar', 'se', 'um', 'campo', 'é', 'aberto', 'fica', 'mais', 'sujeito', 'a', 'duplicação', 'ex', 'av', 'foo', 'av', 'foo', 'avenida', 'foo', 'a', 'foo', 'foo', 'mas', 'duplicação', 'não', 'é', 'necessariamente', 'um', 'problema', 'é', 'mais', 'difícil', 'fazer', 'agregação', 'em', 'um', 'campo', 'desnormalizado', 'ex', 'se', 'quero', 'estatísticas', 'por', 'estado', 'mas', 'agrupei', 'code', 'num', 'campo', 'só', 'terei', 'problemas', 'você', 'encontra', 'na', 'internet', 'a', 'afirmação', 'que', 'singletons', 'são', 'ruins', 'isto', 'é', 'verdade', 'por', 'quê', 'o', 'problema', 'seria', 'generalizado', 'para', 'quaisquer', 'objetos', 'com', 'instância', 'única', 'ou', 'para', 'qualquer', 'coisa', 'que', 'tenha', 'estado', 'global', 'se', 'é', 'tão', 'ruim', 'pra', 'que', 'foi', 'inventado', 'ou', 'seja', 'que', 'problema', 'ele', 'queria', 'resolver', 'quais', 'os', 'problemas', 'que', 'terei', 'se', 'usálo', 'existe', 'alternativa', 'viável', 'se', 'você', 'seguir', 'o', 'passo', 'a', 'passo', 'de', 'instalação', 'do', 'visual', 'studio', 'ele', 'instala', 'a', 'linguagem', 'do', 'sistema', 'operacional', 'como', 'alterar', 'a', 'linguagem', 'para', 'inglês', 'pense', 'em', 'uma', 'classe', 'grande', 'um', 'cadastro', 'completo', 'de', 'cliente', 'por', 'exemplo', 'tem', 'uma', 'quantidade', 'enorme', 'de', 'atributos', 'nele', 'muitos', 'deles', 'precisam', 'ser', 'inicializados', 'na', 'construção', 'do', 'objeto', 'para', 'o', 'objeto', 'ser', 'válido', 'e', 'de', 'antemão', 'não', 'sabe', 'se', 'todos', 'estão', 'válidos', 'ou', 'se', 'o', 'uso', 'conjunto', 'deles', 'torna', 'o', 'objeto', 'válido', 'o', 'objeto', 'pode', 'ser', 'usado', 'em', 'diversos', 'contextos', 'da', 'aplicação', 'poderíamos', 'fazer', 'um', 'construtor', 'com', 'todos', 'os', 'parâmetros', 'necessários', 'e', 'ele', 'valida', 'tudo', 'e', 'decide', 'se', 'conclui', 'a', 'construção', 'ou', 'não', 'um', 'construtor', 'só', 'com', 'o', 'básico', 'para', 'criar', 'o', 'objeto', 'e', 'depois', 'deixar', 'colocar', 'valor', 'em', 'outros', 'atributos', 'validando', 'individualmente', 'como', 'deve', 'proceder', 'com', 'a', 'invalidade', 'temporária', 'ter', 'um', 'método', 'estático', 'que', 'valide', 'tudo', 'antes', 'de', 'chamar', 'o', 'construtor', 'para', 'saber', 'que', 'vai', 'construir', 'corretamente', 'criar', 'um', 'objeto', 'temporário', 'de', 'um', 'tipo', 'definido', 'para', 'este', 'propósito', 'e', 'usálo', 'como', 'base', 'para', 'criar', 'o', 'objeto', 'definitivo', 'provavelmente', 'com', 'um', 'construtor', 'que', 'aceite', 'este', 'objeto', 'e', 'saiba', 'o', 'que', 'fazer', 'este', 'objeto', 'aceitaria', 'os', 'atributos', 'incrementalmente', 'e', 'poderia', 'validar', 'em', 'determinado', 'momento', 'para', 'poder', 'ser', 'usado', 'no', 'objeto', 'real', 'alguma', 'outra', 'forma', 'eu', 'imagino', 'que', 'todas', 'podem', 'ser', 'úteis', 'em', 'alguma', 'situação', 'específica', 'ainda', 'que', 'algumas', 'de', 'forma', 'bem', 'rara', 'e', 'praticamente', 'para', 'contornar', 'alguma', 'outra', 'deficiência', 'quais', 'as', 'vantagens', 'e', 'desvantagens', 'de', 'cada', 'abordagem', 'e', 'em', 'que', 'cenário', 'escolher', 'cada', 'uma', 'referência', 'para', 'que', 'serve', 'um', 'construtor', 'segundo', 'esta', 'definição', 'de', 'dado', 'dados', 'são', 'um', 'conjunto', 'de', 'informações', 'quantitativas', 'qualitativas', 'categóricas', 'ou', 'indefinidas', 'podendo', 'ser', 'organizadas', 'ou', 'não', 'wikipédia', 'seguindo', 'esta', 'linha', 'eu', 'posso', 'assumir', 'que', 'dados', 'e', 'informação', 'são', 'as', 'mesmas', 'coisas', 'entretanto', 'na', 'faculdade', 'meu', 'professor', 'disse', 'que', 'dado', 'não', 'é', 'informação', 'quando', 'o', 'mesmo', 'não', 'é', 'tratado', 'ou', 'quando', 'ele', 'não', 'possui', 'algum', 'significado', 'por', 'exemplo', 'este', 'é', 'um', 'dado', 'code', 'e', 'code', 'também', 'é', 'um', 'dado', 'porem', 'eu', 'não', 'sei', 'o', 'que', 'esses', 'dados', 'representam', 'como', 'eles', 'poderiam', 'ser', 'considerados', 'informação', 'e', 'é', 'neste', 'ponto', 'que', 'surgi', 'minha', 'dúvida', 'que', 'vem', 'logo', 'abaixo', 'dúvida', 'eu', 'gostaria', 'de', 'saber', 'qual', 'é', 'a', 'diferença', 'entre', 'dado', 'e', 'informação', 'e', 'o', 'que', 'faz', 'com', 'que', 'dados', 'se', 'torne', 'informação', 'ao', 'fazer', 'um', 'select', 'reparei', 'que', 'os', 'dados', 'com', 'campo', 'code', 'não', 'são', 'recuperados', 'usando', 'o', 'operadorcode', 'por', 'que', 'isso', 'acontece', 'code', 'é', 'igual', 'a', 'um', 'code', 'vejam', 'que', 'na', 'consulta', 'abaixo', 'só', 'a', 'primeira', 'linha', 'é', 'retornada', 'sqlfiddle', 'até', 'a', 'época', 'em', 'que', 'os', 'computadores', 'eram', 'puramente', 'mecânicos', 'e', 'eram', 'programados', 'por', 'cartões', 'perfurados', 'eu', 'entendo', 'como', 'funciona', 'depois', 'quando', 'surgiram', 'os', 'primeiros', 'computadores', 'digitais', 'operados', 'com', 'válvulas', 'e', 'relés', 'fica', 'mais', 'complicado', 'de', 'compreender', 'como', 'eram', 'feitas', 'as', 'programações', 'imagino', 'que', 'deveria', 'haver', 'algo', 'semelhante', 'a', 'um', 'compartimento', 'com', 'uma', 'matriz', 'de', 'relés', 'semelhante', 'aos', 'cartões', 'perfurados', 'pré', 'programada', 'que', 'continha', 'um', 'programa', 'fixo', 'e', 'único', 'a', 'ser', 'executado', 'pela', 'máquina', 'quando', 'fosse', 'preciso', 'trocar', 'o', 'programa', 'os', 'programadores', 'apenas', 'rearranjavam', 'as', 'válvulas', 'e', 'a', 'máquina', 'continuava', 'a', 'trabalhar', 'como', 'surgiu', 'essa', 'noção', 'que', 'temos', 'de', 'programação', 'hoje', 'que', 'o', 'programador', 'digita', 'códigos', 'em', 'um', 'editor', 'de', 'texto', 'e', 'compila', 'eu', 'não', 'consigo', 'imaginar', 'como', 'chegou', 'a', 'esse', 'ponto', 'por', 'exemplo', 'o', 'assembly', 'ele', 'é', 'apenas', 'traduzido', 'de', 'textos', 'para', 'binário', 'pelo', 'assembler', 'mas', 'poxa', 'seria', 'preciso', 'ter', 'outra', 'linguagem', 'de', 'programação', 'para', 'se', 'criar', 'o', 'assembler', 'suponha', 'que', 'só', 'existam', 'os', 'computadores', 'controlados', 'por', 'relés', 'e', 'válvulas', 'como', 'que', 'alguém', 'conseguiria', 'escrever', 'um', 'código', 'em', 'assembly', 'sendo', 'que', 'não', 'existia', 'editor', 'de', 'textos', 'nem', 'nada', 'o', 'resultado', 'de', 'uma', 'montagem', 'é', 'outro', 'arquivo', 'no', 'formato', 'texto', 'com', 's', 'e', 's', 'apenas', 'ou', 'são', 'impulsos', 'elétricos', 'enviados', 'para', 'a', 'máquina', 'valvulada', 'preciso', 'colocar', 'um', 'code', 'com', 'aquele', 'olho', 'do', 'revelar', 'senha', 'porém', 'tem', 'que', 'funcionar', 'da', 'seguinte', 'maneira', 'usuário', 'clica', 'no', 'olho', 'e', 'ao', 'soltar', 'esconde', 'os', 'caracteres', 'novamente', 'segue', 'uma', 'foto', 'de', 'exemplo', 'nessa', 'pergunta', 'que', 'fiz', 'a', 'respeito', 'de', 'tipos', 'valor', 'e', 'tipos', 'referência', 'em', 'c', 'foi', 'citado', 'na', 'resposta', 'aceita', 'que', 'instâncias', 'de', 'structs', 'devem', 'ser', 'objetos', 'imutáveis', 'lendo', 'no', 'wikipedia', 'confirmei', 'que', 'um', 'objeto', 'imutável', 'não', 'deveria', 'ter', 'seu', 'estado', 'modificado', 'depois', 'de', 'criado', 'mas', 'isso', 'é', 'confuso', 'porque', 'afinal', 'se', 'eu', 'declaro', 'uma', 'variável', 'seja', 'de', 'um', 'tipo', 'struct', 'ou', 'um', 'tipo', 'classe', 'eu', 'posso', 'modificar', 'seu', 'valor', 'a', 'qualquer', 'momento', 'ou', 'então', 'ela', 'seria', 'uma', 'constante', 'na', 'realidade', 'code', 'é', 'uma', 'struct', 'pelo', 'que', 'sei', 'então', 'nesse', 'caso', 'se', 'eu', 'declaro', 'uma', 'variável', 'do', 'tipo', 'code', 'ela', 'não', 'deveria', 'ser', 'modificada', 'se', 'instâncias', 'de', 'structs', 'são', 'realmente', 'imutáveis', 'mas', 'isso', 'claramente', 'não', 'é', 'verdade', 'eu', 'posso', 'fazer', 'code', 'e', 'depois', 'code', 'e', 'só', 'nisso', 'já', 'mudei', 'o', 'seu', 'estado', 'dessa', 'forma', 'o', 'que', 'realmente', 'significa', 'objetos', 'imutáveis', 'e', 'como', 'esse', 'conceito', 'é', 'um', 'conceito', 'útil', 'em', 'orientação', 'a', 'objetos', 'vejo', 'algumas', 'perguntas', 'no', 'site', 'com', 'a', 'tag', 'ux', 'sobre', 'posicionamento', 'de', 'controles', 'cores', 'etc', 'isso', 'normalmente', 'me', 'parece', 'fazer', 'parte', 'das', 'escolhas', 'do', 'designer', 'ou', 'até', 'mesmo', 'do', 'usuário', 'o', 'que', 'é', 'ux', 'e', 'como', 'isso', 'pode', 'me', 'ajudar', 'a', 'desenvolver', 'aplicações', 'melhores', 'ou', 'mais', 'agradáveis', 'para', 'os', 'usuários', 'dentro', 'do', 'contexto', 'do', 'desenvolvimento', 'de', 'software', 'o', 'que', 'significa', 'algo', 'ser', 'ortogonal', 'por', 'que', 'é', 'importante', 'seguilo', 'creio', 'que', 'a', 'maioria', 'aqui', 'conhece', 'a', 'diferença', 'entre', 'code', 'e', 'code', 'select', 'readonly', 'o', 'code', 'não', 'se', 'aplica', 'corretamente', 'para', 'o', 'code', 'code', 'como', 'podem', 'ver', 'eu', 'ainda', 'consigo', 'alterar', 'o', 'valor', 'do', 'code', 'select', 'disabled', 'o', 'que', 'não', 'ocorre', 'com', 'o', 'code', 'que', 'de', 'fato', 'bloqueia', 'o', 'select', 'code', 'aqui', 'eu', 'não', 'consigo', 'editar', 'mas', 'ele', 'também', 'são', 'é', 'enviado', 'pelo', 'formulário', 'objetivo', 'eu', 'necessito', 'enviar', 'o', 'conteúdo', 'do', 'select', 'pelo', 'formulário', 'mas', 'o', 'usuário', 'não', 'pode', 'editálo', 'seu', 'conteúdo', 'é', 'auto', 'selecionado', 'por', 'outros', 'fatores', 'duvida', 'como', 'bloquear', 'o', 'code', 'mas', 'ainda', 'enviar', 'seu', 'valor', 'pelo', 'code', 'seria', 'possível', 'sem', 'uso', 'de', 'js', 'adendo', 'desta', 'forma', 'eu', 'tenho', 'o', 'que', 'quero', 'mas', 'gostaria', 'de', 'um', 'método', 'mais', 'elegante', 'aqui', 'ele', 'ainda', 'consegue', 'ver', 'as', 'opções', 'code', 'gostaria', 'de', 'saber', 'qual', 'a', 'diferença', 'e', 'quando', 'devo', 'utilizar', 'stateful', 'stateless', 'cada', 'módulo', 'do', 'projeto', 'possui', 'um', 'code', 'e', 'um', 'code', 'quais', 'são', 'as', 'funções', 'desse', 'artifacts', 'nesse', 'processo', 'de', 'deploy', 'e', 'qual', 'a', 'função', 'do', 'jenkins', 'nesse', 'contexto', 'entendo', 'que', 'deploy', 'é', 'um', 'processo', 'de', 'montar', 'esse', 'war', 'pois', 'toda', 'vez', 'que', 'algo', 'está', 'errado', 'recebo', 'um', 'build', 'failed', 'in', 'jenkins', 'reconheço', 'que', 'é', 'comum', 'que', 'cada', 'linguagem', 'utilize', 'um', 'padrão', 'para', 'compor', 'seus', 'identificadores', 'variáveis', 'constantes', 'objetos', 'controles', 'etc', 'no', 'caso', 'do', 'c', 'quais', 'seriam', 'as', 'boas', 'práticas', 'com', 'relação', 'à', 'maiúsculasminúsculas', 'tamanho', 'e', 'utilização', 'de', 'caracteres', 'especiais', 'uma', 'assinatura', 'do', 'métodofunção', 'comum', 'ou', 'construtor', 'é', 'composta', 'por', 'seu', 'nome', 'quantidade', 'de', 'parâmetros', 'tipo', 'dos', 'parâmetros', 'desde', 'que', 'foi', 'introduzida', 'a', 'palavra', 'code', 'no', 'ecmascript', 'eu', 'só', 'tenho', 'ouvido', 'falar', 'a', 'respeito', 'até', 'então', 'não', 'vi', 'nenhum', 'exemplo', 'prático', 'e', 'para', 'ser', 'sincero', 'não', 'sei', 'muito', 'bem', 'o', 'que', 'é', 'uma', 'variável', 'code', 'e', 'como', 'ela', 'se', 'comporta', 'a', 'única', 'coisa', 'que', 'entendi', 'e', 'bem', 'superficialmente', 'é', 'que', 'ela', 'serve', 'para', 'declarar', 'uma', 'variável', 'local', 'algo', 'relacionado', 'a', 'escopo', 'o', 'que', 'são', 'variáveis', 'code', 'para', 'que', 'elas', 'servem', 'quando', 'utilizálas', 'ao', 'invés', 'de', 'code', 'a', 'microsoft', 'anunciou', 'um', 'novo', 'net', 'core', 'que', 'raios', 'é', 'isto', 'qual', 'a', 'melhor', 'forma', 'de', 'se', 'representar', 'unidades', 'monetárias', 'ie', 'dinheiro', 'em', 'javascript', 'sei', 'que', 'não', 'é', 'bom', 'usar', 'ponto', 'flutuante', 'dado', 'o', 'problema', 'de', 'arredondamento', 'mas', 'não', 'sei', 'qual', 'seria', 'a', 'melhor', 'alternativa', 'outras', 'linguagens', 'têm', 'tipos', 'code', 'como', 'builtins', 'mas', 'até', 'onde', 'eu', 'saiba', 'não', 'tem', 'nada', 'padronizado', 'ou', 'amplamente', 'utilizado', 'para', 'esse', 'propósito', 'em', 'javascript', 'até', 'o', 'momento', 'tenho', 'usado', 'inteiros', 'para', 'representar', 'centavos', 'e', 'feito', 'toda', 'formataçãoconversão', 'na', 'mão', 'há', 'uma', 'maneira', 'melhor', 'ou', 'mais', 'limpa', 'detalhes', 'adicionais', 'estou', 'buscando', 'uma', 'resposta', 'canônica', 'haja', 'vista', 'que', 'esse', 'é', 'um', 'requisito', 'comum', 'com', 'o', 'qual', 'muitos', 'de', 'nós', 'precisamos', 'lidar', 'e', 'que', 'frequentemente', 'é', 'feito', 'de', 'forma', 'incorreta', 'uma', 'boa', 'resposta', 'pode', 'tanto', 'ser', 'uma', 'indicação', 'de', 'biblioteca', 'desde', 'que', 'bem', 'embasada', 'quanto', 'um', 'guideline', 'para', 'se', 'implementar', 'manualmente', 'caso', 'a', 'resposta', 'certa', 'seja', 'depende', 'ie', 'não', 'exista', 'uma', 'forma', 'canônica', 'para', 'isso', 'exemplos', 'de', 'critérios', 'a', 'serem', 'considerados', 'não', 'exaustivo', 'confiabilidade', 'essa', 'representação', 'produz', 'resultados', 'corretos', 'em', 'operações', 'matemáticas', 'envolvendo', 'unidades', 'monetárias', 'ex', 'arredondamento', 'correto', 'se', 'comporta', 'bem', 'em', 'casos', 'limite', 'interoperabilidade', 'é', 'simples', 'converter', 'de', 'e', 'para', 'um', 'formato', 'aceito', 'pelo', 'servidor', 'eou', 'sistemas', 'externos', 'em', 'geral', 'um', 'decimal', 'sem', 'separador', 'de', 'milhar', 'e', 'usando', 'o', 'ponto', 'code', 'para', 'separar', 'a', 'parte', 'inteira', 'da', 'fracionária', 'robustez', 'se', 'o', 'usuário', 'entrar', 'com', 'os', 'dados', 'incorretamente', 'ex', 'usando', 'o', 'ponto', 'ou', 'a', 'vírgula', 'de', 'forma', 'incorretainconsistente', 'colocando', 'ou', 'não', 'o', 'cifrão', 'etc', 'a', 'conversão', 'para', 'esse', 'formato', 'interpreta', 'a', 'entrada', 'corretamente', 'eou', 'falha', 'consistentemente', 'apresentação', 'é', 'simples', 'formatar', 'esse', 'tipo', 'de', 'dados', 'para', 'ser', 'apresentado', 'ao', 'usuário', 'queria', 'saber', 'quais', 'as', 'diferenças', 'mais', 'relevantes', 'que', 'eu', 'deva', 'saber', 'que', 'existem', 'entre', 'essas', 'duas', 'linguagens', 'por', 'que', 'estou', 'perguntando', 'isso', 'aqui', 'porque', 'normalmente', 'no', 'meu', 'diaadia', 'quando', 'faço', 'essa', 'pergunta', 'meus', 'colegas', 'sempre', 'demonstram', 'um', 'favoritismo', 'em', 'relação', 'a', 'uma', 'dessas', 'linguagens', 'apesar', 'de', 'não', 'ter', 'sido', 'essa', 'minha', 'pergunta', 'a', 'eles', 'o', 'que', 'é', 'do', 'meu', 'conhecimento', 'é', 'que', 'são', 'linguagens', 'semelhantes', 'o', 'c', 'me', 'atrai', 'por', 'causa', 'de', 'sua', 'ide', 'o', 'visual', 'studio', 'e', 'o', 'java', 'por', 'sua', 'vez', 'me', 'atrai', 'por', 'causa', 'da', 'proximidade', 'com', 'o', 'android', 'e', 'por', 'estar', 'a', 'mais', 'tempo', 'no', 'mercado', 'obs', 'de', 'preferência', 'respostas', 'de', 'pessoas', 'que', 'trabalharam', 'com', 'as', 'duas', 'linguagens', 'me', 'parecem', 'termos', 'muito', 'próximos', 'e', 'eventualmente', 'vejo', 'textos', 'que', 'trocam', 'um', 'pelo', 'outro', 'como', 'se', 'em', 'algumas', 'determinadas', 'situações', 'suas', 'definições', 'se', 'sobreponham', 'quais', 'seriam', 'as', 'definições', 'técnicas', 'que', 'permitem', 'distinguir', 'o', 'que', 'é', 'api', 'biblioteca', 'e', 'framework', 'em', 'quais', 'situações', 'é', 'permitido', 'intercambiar', 'os', 'termos', 'sem', 'ferir', 'sua', 'definição', 'técnica', 'vi', 'esse', 'termo', 'sendo', 'empregado', 'diversas', 'vezes', 'muitas', 'pessoas', 'e', 'empresas', 'querem', 'que', 'seus', 'códigos', 'sejam', 'limpos', 'vi', 'também', 'o', 'livro', 'código', 'limpo', 'habilidades', 'práticas', 'do', 'agile', 'software', 'mas', 'eu', 'queria', 'saber', 'o', 'que', 'define', 'um', 'código', 'ser', 'limpo', 'ou', 'não', 'quais', 'os', 'pontos', 'são', 'avaliados', 'uma', 'vez', 'que', 'o', 'conhecimento', 'e', 'o', 'domínio', 'sobre', 'uma', 'determinada', 'linguagem', 'pode', 'influenciar', 'na', 'avaliação', 'de', 'quem', 'está', 'lendo', 'na', 'pergunta', 'como', 'escrever', 'um', 'código', 'legível', 'e', 'de', 'fácil', 'manutenção', 'temos', 'alguns', 'exemplos', 'de', 'um', 'código', 'que', 'aparentemente', 'está', 'bem', 'escrito', 'porém', 'o', 'domínio', 'da', 'linguagem', 'é', 'que', 'faz', 'bastante', 'diferença', 'na', 'hora', 'de', 'interpretálo', 'então', 'focando', 'bem', 'a', 'pergunta', 'quais', 'o', 'pontos', 'que', 'são', 'avaliados', 'qual', 'a', 'importância', 'e', 'o', 'peso', 'de', 'cada', 'um', 'desses', 'pontos', 'dentro', 'da', 'avaliação', 'gostaria', 'principalmente', 'das', 'referências', 'para', 'estudar', 'um', 'pouco', 'mais', 'a', 'fundo', 'e', 'que', 'não', 'fosse', 'limitado', 'a', 'um', 'paradigma', 'ex', 'orientação', 'a', 'objeto', 'e', 'sim', 'num', 'contexto', 'geral', 'o', 'que', 'é', 'programação', 'orientada', 'a', 'eventos', 'o', 'que', 'difere', 'entre', 'a', 'programação', 'orientada', 'a', 'eventos', 'e', 'programação', 'orientada', 'a', 'objeto', 'que', 'linguagens', 'podemos', 'citar', 'que', 'são', 'orientada', 'a', 'eventos', 'eu', 'vejo', 'uma', 'tendência', 'cada', 'vez', 'maior', 'embora', 'isto', 'já', 'existisse', 'antes', 'de', 'criar', 'várias', 'telas', 'vários', 'passos', 'para', 'executar', 'uma', 'única', 'ação', 'claro', 'que', 'o', 'advento', 'de', 'telas', 'menores', 'incentiva', 'isto', 'mas', 'estou', 'falando', 'de', 'desktop', 'normal', 'o', 'mesmo', 'vale', 'para', 'aplicações', 'web', 'normais', 'que', 'não', 'são', 'feitas', 'para', 'rodar', 'em', 'mobile', 'também', 'entendo', 'que', 'telas', 'superpopuladas', 'de', 'informação', 'que', 'permitem', 'fazer', 'várias', 'coisas', 'muitas', 'vezes', 'não', 'relacionadas', 'não', 'fazem', 'sentido', 'mas', 'percebo', 'que', 'antes', 'o', 'que', 'você', 'fazia', 'em', 'um', 'click', 'em', 'interfaces', 'modernizadas', 'acabam', 'exigindo', 'dois', 'três', 'ou', 'mais', 'clicks', 'para', 'se', 'alcançar', 'o', 'mesmo', 'propósito', 'muitas', 'vezes', 'você', 'limpa', 'a', 'tela', 'mas', 'dificulta', 'o', 'acesso', 'à', 'operação', 'desejada', 'este', 'tipo', 'de', 'filosofia', 'me', 'parece', 'prejudica', 'a', 'descoberta', 'da', 'operação', 'realmente', 'atrapalha', 'ter', 'muita', 'informação', 'por', 'que', 'existem', 'estudos', 'ou', 'pelo', 'menos', 'informações', 'consistentes', 'que', 'mostram', 'que', 'um', 'realmente', 'é', 'melhor', 'que', 'outro', 'por', 'que', 'esconder', 'operações', 'é', 'melhor', 'e', 'se', 'não', 'é', 'por', 'que', 'estão', 'adotando', 'isto', 'seria', 'interessante', 'ver', 'um', 'comparação', 'entre', 'as', 'duas', 'situações', 'para', 'entender', 'as', 'vantagens', 'e', 'desvantagens', 'de', 'cada', 'uma', 'e', 'com', 'isto', 'ajudar', 'a', 'entender', 'quando', 'e', 'optar', 'por', 'um', 'mais', 'que', 'o', 'outro', 'existe', 'alguma', 'forma', 'de', 'facilitar', 'a', 'descoberta', 'facilitar', 'o', 'acesso', 'às', 'operações', 'sem', 'sujar', 'a', 'tela', 'há', 'exceções', 'onde', 'não', 'devemos', 'aplicar', 'uma', 'destas', 'filosofias', 'desenvolvi', 'uma', 'página', 'em', 'php', 'para', 'uso', 'interno', 'da', 'empresa', 'que', 'trabalho', 'e', 'apenas', 'pouquíssimas', 'pessoas', 'a', 'utilizam', 'através', 'dessa', 'página', 'é', 'possível', 'fazer', 'algumas', 'consultas', 'inserções', 'alterações', 'e', 'remoções', 'de', 'dados', 'de', 'uma', 'tabela', 'em', 'um', 'banco', 'de', 'dados', 'mysql', 'porém', 'eu', 'acredito', 'que', 'meu', 'código', 'em', 'php', 'não', 'está', 'protegido', 'contra', 'injeção', 'de', 'código', 'sql', 'por', 'exemplo', 'code', 'logo', 'digamos', 'que', 'o', 'usuário', 'usar', 'a', 'sentença', 'code', 'para', 'ao', 'campo', 'code', 'o', 'comando', 'ficaria', 'code', 'ele', 'vai', 'inserir', 'um', 'novo', 'registro', 'cujo', 'o', 'campo', 'code', 'será', 'code', 'e', 'logo', 'em', 'seguida', 'ele', 'vai', 'deletar', 'a', 'tabela', 'produtos', 'como', 'posso', 'melhorar', 'meu', 'código', 'para', 'prevenir', 'essa', 'situação', 'o', 'java', 'será', 'lançado', 'em', 'breve', 'março', 'de', 'e', 'a', 'principal', 'feature', 'desta', 'versão', 'são', 'as', 'expressões', 'lambda', 'alguém', 'poderia', 'descrever', 'como', 'diz', 'a', 'pergunta', 'o', 'que', 'este', 'recurso', 'vai', 'agregar', 'na', 'prática', 'para', 'os', 'desenvolvedores', 'e', 'se', 'possível', 'algum', 'exemplo', 'de', 'código', 'comentado', 'eu', 'estava', 'estudando', 'essa', 'documentação', 'sobre', 'aspnet', 'identity', 'e', 'nos', 'exemplos', 'em', 'c', 'tem', 'uma', 'palavrachave', 'que', 'eu', 'desconheço', 'que', 'é', 'a', 'code', 'exemplo', 'code', 'para', 'que', 'serve', 'essa', 'palavrachave', 'qual', 'tipo', 'do', 'campo', 'cpf', 'ou', 'cnpj', 'no', 'banco', 'de', 'dados', 'code', 'ou', 'code', 'já', 'vi', 'alguns', 'posts', 'sugerindo', 'usar', 'code', 'para', 'otimizar', 'a', 'performance', 'no', 'caso', 'de', 'codee', 'filtros', 'se', 'possuir', 'a', 'esquerda', 'é', 'só', 'completar', 'de', 'acordo', 'com', 'o', 'tamanho', 'do', 'campo', 'armazenado', 'cpf', 'ou', 'cnpj', 'para', 'efetuar', 'a', 'validação', 'então', 'qual', 'seria', 'a', 'melhor', 'abordagem', 'qual', 'é', 'o', 'termo', 'correto', 'para', 'uma', 'linguagem', 'totalmente', 'baseada', 'em', 'objetos', 'c', 'e', 'uma', 'linguagem', 'que', 'usa', 'objetos', 'mas', 'não', 'é', 'completamente', 'baseada', 'neles', 'exemplo', 'o', 'vb', 'tem', 'tinha', 'diversas', 'funções', 'que', 'não', 'estavam', 'em', 'objetos', 'e', 'um', 'suporte', 'limitado', 'a', 'oop', 'acho', 'que', 'o', 'c', 'é', 'assim', 'também', 'existem', 'termos', 'certos', 'para', 'isso', 'eu', 'me', 'lembro', 'de', 'ver', 'essa', 'diferença', 'de', 'classificação', 'entre', 'linguagens', 'objectenabled', 'vb', 'e', 'linguagens', 'baseadas', 'em', 'objeto', 'c', 'mas', 'não', 'onde', 'nem', 'quais', 'eram', 'os', 'termos', 'específicos', 'tem', 'um', 'jogo', 'de', 'tanque', 'd', 'usando', 'a', 'unityengine', 'em', 'c', 'em', 'que', 'é', 'jogado', 'na', 'lateral', 'da', 'tela', 'vendo', 'apenas', 'os', 'lados', 'dos', 'tanques', 'em', 'que', 'tem', 'o', 'tanque', 'verde', 'e', 'o', 'vermelho', 'o', 'verde', 'precisa', 'atirar', 'e', 'acertar', 'o', 'alvo', 'vermelho', 'o', 'jogo', 'lhe', 'dá', 'a', 'força', 'e', 'ângulo', 'ambos', 'variam', 'de', 'acordo', 'com', 'sua', 'mira', 'em', 'alguns', 'turnos', 'é', 'definido', 'um', 'tempo', 'aleatório', 'que', 'varia', 'de', 'à', 'mas', 'nesse', 'aplicativo', 'que', 'estou', 'criando', 'é', 'possível', 'manualmente', 'você', 'pode', 'definir', 'o', 'vento', 'e', 'sua', 'direção', 'não', 'querendo', 'dizer', 'que', 'é', 'alterado', 'o', 'vento', 'do', 'jogo', 'mas', 'sim', 'da', 'trajetória', 'que', 'o', 'aplicativo', 'está', 'calculando', 'nota', 'o', 'vento', 'já', 'é', 'gerado', 'de', 'uma', 'forma', 'aleatória', 'de', 'para', 'com', 'esse', 'aplicativo', 'que', 'estou', 'criando', 'você', 'apenas', 'calcula', 'a', 'trajetória', 'para', 'te', 'ajudar', 'no', 'jogo', 'notem', 'que', 'o', 'ângulo', 'é', 'espelhado', 'mas', 'já', 'implementei', 'uma', 'função', 'que', 'nos', 'dá', 'o', 'ângulo', 'exato', 'o', 'jogo', 'é', 'dividido', 'por', 'turnos', 'em', 'todo', 'turno', 'o', 'vento', 'muda', 'junto', 'com', 'sua', 'direção', 'o', 'vento', 'varia', 'de', 'para', 'na', 'direção', 'direita', 'ou', 'esquerda', 'nunca', 'maior', 'ou', 'menor', 'que', 'isso', 'a', 'trajetória', 'pontilhada', 'é', 'o', 'que', 'é', 'projetado', 'nesse', 'aplicativo', 'o', 'processo', 'está', 'pronto', 'a', 'trajetória', 'está', 'sendo', 'exibida', 'o', 'problema', 'é', 'que', 'ela', 'não', 'é', 'influenciada', 'pelo', 'vento', 'qualquer', 'mudança', 'no', 'vento', 'ela', 'irá', 'permanecer', 'sendo', 'influenciada', 'apenas', 'por', 'ângulo', 'e', 'a', 'força', 'não', 'por', 'vento', 'eis', 'o', 'problema', 'grande', 'atualização', 'da', 'pergunta', 'coloquei', 'uma', 'parte', 'importante', 'que', 'estava', 'faltando', 'na', 'pergunta', 'o', 'calculo', 'horizontal', 'code', 'resuminho', 'básico', 'o', 'valor', 'code', 'é', 'calculado', 'em', 'base', 'do', 'tempo', 'de', 'voo', 'para', 'cada', 'x', 'basicamente', 'entre', 'à', 'como', 'mostrado', 'na', 'declaração', 'do', 'lopping', 'acima', 'que', 'são', 'os', 'limites', 'horizontais', 'do', 'jogo', 'o', 'valor', 'code', 'representa', 'o', 'tempo', 'de', 'voo', 'de', 'para', 'a', 'posição', 'i', 'x', 'como', 'a', 'trajetória', 'é', 'afetada', 'com', 'o', 'vento', 'abaixo', 'está', 'a', 'minha', 'trajetória', 'a', 'linha', 'contínua', 'e', 'a', 'trajetória', 'do', 'tiro', 'a', 'linha', 'pontilhada', 'o', 'vento', 'que', 'estava', 'presente', 'no', 'jogo', 'era', 'é', 'percebível', 'que', 'além', 'da', 'altura', 'code', 'o', 'formato', 'e', 'a', 'distância', 'da', 'trajetória', 'também', 'foram', 'alterados', 'com', 'o', 'vento', 'brevemente', 'minha', 'dúvida', 'é', 'como', 'implemento', 'vento', 'nessas', 'formulas', 'é', 'possível', 'observar', 'em', 'alguns', 'casos', 'que', 'a', 'separação', 'de', 'tarefas', 'em', 'múltiplas', 'threads', 'não', 'dá', 'ganho', 'e', 'até', 'torna', 'uma', 'aplicação', 'mais', 'lenta', 'que', 'o', 'uso', 'em', 'thread', 'única', 'não', 'deveria', 'sempre', 'ter', 'ganho', 'de', 'performance', 'quando', 'tem', 'vários', 'processadores', 'não', 'necessariamente', 'chips', 'o', 'ganho', 'ocorre', 'em', 'alguma', 'situação', 'quando', 'só', 'existe', 'um', 'processador', 'ou', 'core', 'na', 'máquina', 'é', 'possível', 'paralelizar', 'qualquer', 'tarefa', 'e', 'obter', 'ganho', 'de', 'performance', 'o', 'que', 'é', 'a', 'complexidade', 'de', 'um', 'algoritmo', 'e', 'quais', 'as', 'formas', 'de', 'medila', 'big', 'o', 'big', 'theta', 'estou', 'querendo', 'desenvolver', 'um', 'site', 'que', 'rode', 'todo', 'no', 'mesmo', 'arquivo', 'mas', 'não', 'sei', 'bem', 'como', 'procurar', 'material', 'de', 'estudo', 'para', 'isso', 'assim', 'site', 'normalestou', 'na', 'página', 'indexphp', 'quando', 'clico', 'no', 'menu', 'portfólio', 'por', 'exemplo', 'ele', 'vai', 'e', 'carrega', 'o', 'arquivo', 'porfoliophp', 'site', 'que', 'eu', 'quero', 'fazerestou', 'na', 'página', 'indexphp', 'quando', 'eu', 'clico', 'no', 'menu', 'portfólio', 'o', 'site', 'faz', 'uma', 'animação', 'fade', 'sidescroll', 'etc', 'e', 'mostra', 'o', 'conteúdo', 'do', 'portfólio', 'sem', 'a', 'necessidade', 'de', 'carregar', 'outro', 'arquivo', 'alguém', 'pode', 'me', 'dar', 'uma', 'luz', 'já', 'trabalhei', 'com', 'sites', 'feitos', 'em', 'uma', 'página', 'só', 'mas', 'são', 'no', 'modelo', 'one', 'page', 'scroll', 'website', 'acredito', 'que', 'eu', 'precise', 'trabalhar', 'com', 'o', 'ajax', 'mas', 'não', 'tenho', 'certeza', 'ainda', 'o', 'que', 'acontece', 'quando', 'se', 'faz', 'um', 'rebase', 'na', 'seguinte', 'situação', 'branch', 'master', 'com', 'commits', 'a', 'b', 'e', 'c', 'após', 'fazer', 'o', 'commit', 'c', 'criei', 'um', 'novo', 'branch', 'com', 'o', 'nome', 'design', 'fiz', 'um', 'commit', 'd', 'no', 'branch', 'design', 'e', 'voltei', 'ao', 'branch', 'master', 'fiz', 'um', 'commit', 'e', 'no', 'branch', 'master', 'atualmente', 'o', 'meu', 'histórico', 'de', 'commits', 'é', 'master', 'a', 'b', 'c', 'e', 'design', 'a', 'b', 'c', 'd', 'após', 'fazer', 'o', 'rebase', 'no', 'branch', 'master', 'o', 'histórico', 'ficará', 'da', 'seguinte', 'forma', 'master', 'a', 'b', 'c', 'd', 'e', 'design', 'a', 'b', 'c', 'd', 'se', 'a', 'resposta', 'é', 'sim', 'qual', 'o', 'objetivo', 'de', 'refazer', 'o', 'histórico', 'quando', 'uma', 'das', 'vantagens', 'do', 'git', 'é', 'poder', 'ver', 'o', 'histórico', 'tal', 'como', 'ele', 'é', 'se', 'posso', 'manipular', 'o', 'histórico', 'então', 'posso', 'não', 'ver', 'o', 'que', 'realmente', 'aconteceu', 'quais', 'as', 'vantagens', 'limitações', 'e', 'principais', 'diferenças', 'entre', 'esses', 'sistemas', 'de', 'versionamento', 'git', 'svn', 'e', 'cvs', 'hoje', 'é', 'comum', 'os', 'compiladores', 'das', 'linguagens', 'de', 'programação', 'permitirem', 'que', 'o', 'arquivo', 'de', 'código', 'de', 'seus', 'programas', 'aceitem', 'código', 'com', 'caracteres', 'unicode', 'isto', 'é', 'útil', 'especialmente', 'para', 'quem', 'usa', 'o', 'português', 'e', 'outras', 'línguas', 'que', 'fogem', 'do', 'ascii', 'para', 'criar', 'strings', 'com', 'acentos', 'e', 'melhorar', 'os', 'comentários', 'em', 'nossa', 'língua', 'mas', 'é', 'incomum', 'o', 'uso', 'de', 'identificadores', 'com', 'acentos', 'no', 'código', 'há', 'até', 'mesmo', 'quem', 'recomende', 'que', 'não', 'seja', 'usado', 'eu', 'mesmo', 'não', 'costumo', 'usar', 'mas', 'me', 'parece', 'que', 'dar', 'um', 'sentido', 'melhor', 'nestes', 'casos', 'só', 'um', 'exemplo', 'isolado', 'sem', 'definição', 'de', 'linguagem', 'code', 'existe', 'algum', 'motivo', 'técnico', 'para', 'evitar', 'acentos', 'e', 'outros', 'caracteres', 'unicode', 'em', 'identificadores', 'se', 'não', 'existe', 'problema', 'técnico', 'existe', 'algum', 'motivo', 'prático', 'para', 'evitálos', 'depende', 'da', 'linguagem', 'de', 'programação', 'considerando', 'que', 'ela', 'suporte', 'bem', 'acentuação', 'em', 'plenitude', 'importa', 'se', 'o', 'código', 'é', 'proprietário', 'e', 'desenvolvido', 'por', 'uma', 'equipe', 'pequena', 'e', 'fechada', 'ou', 'se', 'é', 'desenvolvido', 'amplamente', 'possivelmente', 'de', 'forma', 'aberta', 'existe', 'algum', 'cuidado', 'específico', 'que', 'devemos', 'tomar', 'quando', 'usamos', 'acentos', 'em', 'identificadores', 'quando', 'a', 'utilização', 'de', 'caracteres', 'além', 'do', 'ascii', 'é', 'abuso', 'encontrei', 'em', 'um', 'arquivo', 'minificado', 'do', 'bootstrap', 'o', 'seguinte', 'code', 'o', 'operador', 'code', 'parece', 'estar', 'sendo', 'aplicado', 'entre', 'duas', 'strings', 'o', 'que', 'significa', 'isso', 'o', 'que', 'é', 'url', 'o', 'que', 'é', 'uri', 'são', 'sinônimos', 'em', 'geral', 'as', 'pessoas', 'usam', 'quase', 'sempre', 'url', 'são', 'a', 'mesma', 'coisa', 'tem', 'mais', 'alguma', 'coisa', 'relacionada', 'boa', 'noite', 'estou', 'tentando', 'fazer', 'um', 'acesso', 'de', 'minha', 'máquina', 'local', 'a', 'um', 'servidor', 'e', 'estou', 'recebendo', 'esta', 'resposta', 'no', 'accesscontrolalloworigin', 'header', 'is', 'present', 'on', 'the', 'requested', 'resource', 'origin', 'httplocalhost', 'is', 'therefore', 'not', 'allowed', 'access', 'porém', 'usando', 'o', 'postman', 'eu', 'consigo', 'este', 'são', 'os', 'requisitos', 'do', 'servidor', 'code', 'meu', 'código', 'code', 'alguem', 'me', 'da', 'uma', 'luz', 'qual', 'diferença', 'de', 'linguagem', 'compilada', 'para', 'linguagem', 'interpretada', 'e', 'quais', 'as', 'vantagens', 'de', 'uma', 'para', 'outra', 'o', 'que', 'são', 'exceções', 'code', 'quais', 'são', 'suas', 'principais', 'causas', 'que', 'métodospráticas', 'podem', 'ser', 'utilizadas', 'para', 'se', 'prevenir', 'tenho', 'percebido', 'o', 'uso', 'frequente', 'do', 'termo', 'em', 'alguns', 'fóruns', 'e', 'fiquei', 'me', 'perguntando', 'qual', 'o', 'seu', 'significado', 'e', 'de', 'onde', 'surgiu', 'tal', 'expressão', 'gostaria', 'de', 'saber', 'o', 'que', 'são', 'e', 'como', 'funcionam', 'os', 'número', 'das', 'versões', 'de', 'softwares', 'como', 'por', 'exemplo', 'code', 'o', 'que', 'significa', 'existe', 'algum', 'padrão', 'ou', 'recomendação', 'para', 'versões', 'de', 'aplicações', 'web', 'eu', 'preciso', 'fazer', 'o', 'upload', 'de', 'uma', 'foto', 'e', 'em', 'seguida', 'colocala', 'em', 'um', 'modal', 'para', 'o', 'usuario', 'fazer', 'um', 'recorte', 'proporcional', 'uma', 'breve', 'pesquisa', 'na', 'web', 'encontrei', 'este', 'plugin', 'jquery', 'jcrop', 'ele', 'parece', 'me', 'fornecer', 'as', 'coordenadas', 'para', 'recortar', 'a', 'imagens', 'mas', 'não', 'faço', 'ideia', 'de', 'como', 'integrálo', 'com', 'php', 'se', 'alguém', 'tiver', 'um', 'exemplo', 'pratico', 'sera', 'muito', 'bem', 'vindo', 'estou', 'começando', 'a', 'estudar', 'composer', 'e', 'estou', 'desenvolvendo', 'um', 'sistema', 'onde', 'separo', 'arquivos', 'do', 'core', 'de', 'arquivos', 'da', 'aplicação', 'da', 'seguinte', 'forma', 'root', 'src', 'app', 'dbconfig', 'controller', 'model', 'core', 'helper', 'controller', 'model', 'então', 'para', 'setar', 'esta', 'configuração', 'no', 'arquivo', 'composerjson', 'e', 'conseguir', 'ter', 'acesso', 'a', 'todas', 'as', 'classes', 'tanto', 'de', 'app', 'quanto', 'de', 'core', 'seria', 'desta', 'forma', 'autoload', 'psrx', 'app', 'src', 'core', 'src', 'ou', 'há', 'uma', 'forma', 'mais', 'correta', 'tenho', 'lido', 'também', 'sobre', 'psr', 'vs', 'psr', 'e', 'ainda', 'estou', 'um', 'pouco', 'em', 'dúvidas', 'de', 'qual', 'utilizar', 'neste', 'meu', 'caso', 'qual', 'devo', 'implementar', 'psr', 'ou', 'psr', 'existe', 'alguma', 'diferença', 'entre', 'code', 'e', 'code', 'eu', 'sei', 'que', 'os', 'dois', 'retornam', 'o', 'mesmo', 'resultado', 'tem', 'algum', 'tipo', 'de', 'convenção', 'adotada', 'para', 'usar', 'sempre', 'o', 'code', 'criptografia', 'é', 'algo', 'fundamental', 'na', 'web', 'pois', 'nos', 'fornece', 'privacidade', 'e', 'segurança', 'é', 'até', 'possível', 'que', 'isso', 'seja', 'padrão', 'no', 'http', 'minha', 'dúvida', 'é', 'como', 'a', 'criptografia', 'via', 'http', 'funciona', 'creio', 'que', 'exista', 'uma', 'chave', 'que', 'seja', 'única', 'para', 'cada', 'conexão', 'entre', 'servidor', 'e', 'cliente', 'caso', 'contrário', 'se', 'a', 'chave', 'fosse', 'sempre', 'a', 'mesma', 'alguém', 'poderia', 'interceptar', 'a', 'conexão', 'facilmente', 'já', 'ouvi', 'falar', 'em', 'certificados', 'necessários', 'para', 'a', 'coisa', 'funcionar', 'mas', 'não', 'sei', 'como', 'funciona', 'e', 'quais', 'minificadores', 'posso', 'usar', 'estou', 'desenvolvendo', 'uma', 'aplicação', 'onde', 'a', 'partir', 'de', 'uma', 'senha', 'fornecida', 'pelo', 'usuário', 'um', 'par', 'de', 'chaves', 'autenticação', 'e', 'criptografia', 'é', 'derivado', 'a', 'senha', 'em', 'si', 'nunca', 'é', 'enviada', 'ao', 'servidor', 'somente', 'a', 'chave', 'de', 'autenticação', 'gostaria', 'de', 'oferecer', 'ao', 'usuário', 'a', 'opção', 'do', 'navegador', 'lembrar', 'sua', 'senha', 'é', 'possível', 'fazer', 'isso', 'via', 'javascript', 'e', 'de', 'forma', 'segura', 'li', 'diversas', 'referências', 'por', 'exemplo', 'essa', 'pergunta', 'no', 'soen', 'e', 'pelo', 'jeito', 'não', 'há', 'um', 'meio', 'consistente', 'entre', 'os', 'diversos', 'browsers', 'ex', 'o', 'chrome', 'só', 'oferece', 'para', 'salvar', 'a', 'senha', 'no', 'retorno', 'da', 'submissão', 'do', 'formulário', 'e', 'só', 'se', 'a', 'própria', 'senha', 'tiver', 'sido', 'submetida', 'o', 'que', 'não', 'é', 'o', 'caso', 'aqui', 'pois', 'a', 'senha', 'não', 'deve', 'nunca', 'sair', 'do', 'browser', 'estou', 'procurando', 'por', 'alternativas', 'é', 'possível', 'forçar', 'o', 'browser', 'a', 'salvar', 'um', 'campo', 'code', 'arbitrário', 'com', 'o', 'mesmo', 'nível', 'de', 'segurança', 'que', 'ele', 'salvaria', 'uma', 'senha', 'submetida', 'ainda', 'que', 'essa', 'segurança', 'não', 'seja', 'assim', 'tão', 'elevada', 'de', 'preferência', 'satisfazendo', 'essa', 'restrição', 'adicional', 'de', 'não', 'enviála', 'ao', 'servidor', 'se', 'não', 'dá', 'para', 'salvar', 'junto', 'com', 'as', 'senhas', 'haveria', 'uma', 'solução', 'igualmente', 'boa', 'considerei', 'por', 'exemplo', 'a', 'opção', 'de', 'usar', 'code', 'apesar', 'dos', 'avisos', 'enfáticos', 'que', 'não', 'se', 'deve', 'armazenar', 'informações', 'confidenciais', 'no', 'code', 'entretanto', 'não', 'vejo', 'como', 'usálo', 'possa', 'ser', 'pior', 'do', 'que', 'salvar', 'a', 'senha', 'no', 'browser', 'uma', 'vez', 'que', 'alguém', 'com', 'acesso', 'local', 'ao', 'computador', 'também', 'poderá', 'ler', 'essas', 'senhas', 'a', 'única', 'desvantagem', 'que', 'vejo', 'é', 'que', 'ele', 'é', 'mais', 'vulnerável', 'a', 'xss', 'o', 'que', 'acredito', 'não', 'ser', 'necessariamente', 'o', 'caso', 'com', 'as', 'senhas', 'salvas', 'do', 'jeito', 'normal', 'sem', 'envolver', 'javascript', 'ou', 'estou', 'enganado', 'nota', 'conheço', 'a', 'webcrypto', 'api', 'sendo', 'desenvolvida', 'no', 'futuro', 'quando', 'a', 'mesma', 'estiver', 'consolidada', 'e', 'amplamente', 'suportada', 'ela', 'pode', 'vir', 'a', 'se', 'tornar', 'a', 'solução', 'ideal', 'entretanto', 'estou', 'analisando', 'alternativas', 'a', 'curto', 'prazo', 'e', 'não', 'a', 'de', 'criptografia', 'toda', 'a', 'criptografia', 'ocorre', 'no', 'lado', 'cliente', 'de', 'modo', 'que', 'nem', 'o', 'servidor', 'tem', 'acesso', 'aos', 'dados', 'do', 'usuário', 'por', 'essa', 'razão', 'a', 'senha', 'original', 'deve', 'ser', 'mantida', 'confidencial', 'inclusive', 'do', 'servidor', 'mais', 'detalhes', 'do', 'meu', 'caso', 'particular', 'aqui', 'assuma', 'como', 'premissa', 'que', 'o', 'usuário', 'optou', 'por', 'armazenar', 'a', 'senha', 'tenho', 'consciência', 'que', 'esse', 'é', 'um', 'tradeoff', 'segurança', 'vs', 'conveniência', 'e', 'gostaria', 'de', 'oferecer', 'ao', 'usuário', 'diferentes', 'opções', 'a', 'respeito', 'em', 'vez', 'de', 'impor', 'isso', 'a', 'ele', 'uma', 'discussão', 'aprofundada', 'sobre', 'segurança', 'seria', 'offtopic', 'aqui', 'mais', 'apropriada', 'para', 'securityse', 'por', 'exemplo', 'essa', 'pergunta', 'referese', 'somente', 'a', 'um', 'problema', 'de', 'programação', 'comandar', 'o', 'browser', 'para', 'salvar', 'uma', 'senha', 'através', 'dos', 'seus', 'mecanismos', 'usuais', 'atualização', 'por', 'exigência', 'popular', 'aqui', 'vai', 'o', 'meu', 'threat', 'model', 'modelo', 'de', 'ameaças', 'e', 'outros', 'requisitos', 'particulares', 'a', 'principal', 'preocupação', 'é', 'confidencialidade', 'na', 'nuvem', 'ou', 'seja', 'ainda', 'que', 'o', 'código', 'da', 'minha', 'aplicação', 'javascript', 'tenha', 'de', 'vir', 'necessariamente', 'de', 'uma', 'fonte', 'confiável', 'caso', 'contrário', 'nada', 'do', 'que', 'eu', 'fizesse', 'iria', 'garantir', 'a', 'segurança', 'o', 'servidor', 'onde', 'os', 'dados', 'são', 'armazenados', 'é', 'menosqueconfiável', 'ie', 'há', 'o', 'interesse', 'de', 'se', 'esconder', 'a', 'infomação', 'confidencial', 'mesmo', 'dele', 'ainda', 'que', 'não', 'se', 'presuma', 'malícia', 'a', 'priori', 'a', 'resistência', 'contra', 'acesso', 'local', 'não', 'autorizado', 'não', 'é', 'uma', 'preocupação', 'assumese', 'que', 'qualquer', 'um', 'com', 'acesso', 'físico', 'à', 'máquina', 'está', 'autorizado', 'a', 'acessar', 'esses', 'dados', 'e', 'se', 'pra', 'um', 'usuário', 'particular', 'isso', 'não', 'for', 'verdadeiro', 'ele', 'será', 'instruído', 'a', 'não', 'salvar', 'sua', 'senha', 'dessa', 'maneira', 'a', 'facilidade', 'de', 'uso', 'é', 'um', 'requisito', 'de', 'extrema', 'importância', 'instalar', 'plugins', 'java', 'webpg', 'etc', 'gerenciadores', 'de', 'senha', 'lastpass', 'keepass', 'etc', 'usar', 'um', 'browser', 'ou', 'so', 'particular', 'muitos', 'tem', 'integração', 'nativa', 'com', 'chaveiros', 'seguros', 'ou', 'mesmo', 'um', 'servidor', 'proxy', 'local', 'poderão', 'ser', 'oferecidos', 'como', 'opção', 'para', 'os', 'indivíduos', 'mais', 'conscientes', 'em', 'segurança', 'mas', 'não', 'devem', 'ser', 'obrigatórios', 'o', 'sistema', 'deve', 'ser', 'usável', 'somente', 'com', 'os', 'recursos', 'nativos', 'do', 'navegador', 'independente', 'de', 'plataforma', 'estou', 'postando', 'isso', 'aqui', 'porque', 'tenho', 'recebido', 'demasiadas', 'sugestões', 'de', 'não', 'fazer', 'isso', 'ou', 'fazer', 'aquilo', 'em', 'vez', 'disso', 'mas', 'minha', 'pergunta', 'original', 'não', 'é', 'sobre', 'segurança', 'e', 'sim', 'programação', 'se', 'é', 'ou', 'não', 'possível', 'usar', 'o', 'mecanismo', 'nativo', 'do', 'browser', 'de', 'lembrar', 'as', 'senhas', 'cada', 'um', 'tem', 'um', 'mas', 'a', 'funcionalidade', 'é', 'equivalente', 'programaticamente', 'esses', 'dias', 'me', 'deparei', 'com', 'um', 'trecho', 'de', 'um', 'sql', 'que', 'tinha', 'o', 'comando', 'code', 'eu', 'nunca', 'tinha', 'visto', 'isso', 'antes', 'e', 'pelo', 'pouco', 'que', 'pude', 'ver', 'pareceme', 'que', 'isso', 'seria', 'para', 'travar', 'a', 'tabela', 'durante', 'a', 'inserção', 'ou', 'atualização', 'mas', 'eu', 'queria', 'poder', 'entender', 'melhor', 'o', 'funcionamento', 'como', 'funciona', 'code', 'gostaria', 'de', 'alguns', 'exemplos', 'quando', 'eu', 'devo', 'usar', 'esse', 'comando', 'devo', 'evitar', 'usar', 'esse', 'comando', 'em', 'alguns', 'casos', 'existe', 'algum', 'risco', 'é', 'comum', 'em', 'muitos', 'sistemas', 'ao', 'inserir', 'o', 'usuário', 'e', 'a', 'senha', 'incorreta', 'o', 'sistema', 'nos', 'informar', 'que', 'um', 'deles', 'está', 'errado', 'mas', 'não', 'exatamente', 'qual', 'isso', 'acontece', 'também', 'aqui', 'no', 'stack', 'overflow', 'isto', 'acontece', 'para', 'proteger', 'os', 'dados', 'ou', 'poderíamos', 'dizer', 'que', 'é', 'porque', 'é', 'mais', 'fácil', 'fazer', 'dessa', 'forma', 'hoje', 'em', 'sistemas', 'como', 'o', 'google', 'e', 'a', 'microsoft', 'é', 'diferente', 'do', 'passado', 'agora', 'primeiro', 'pedem', 'o', 'login', 'e', 'só', 'se', 'estiver', 'correto', 'pedem', 'a', 'senha', 'frequentemente', 'precisamos', 'aceitar', 'a', 'entrada', 'de', 'senhas', 'por', 'parte', 'dos', 'usuários', 'em', 'geral', 'não', 'podemos', 'aceitar', 'uma', 'senha', 'qualquer', 'que', 'pode', 'ser', 'facilmente', 'atacada', 'provavelmente', 'por', 'brute', 'force', 'força', 'bruta', 'ou', 'técnicas', 'semelhantes', 'é', 'óbvio', 'que', 'a', 'senha', 'deveria', 'ter', 'um', 'tamanho', 'mínimo', 'deveria', 'ter', 'variedade', 'de', 'caracteres', 'não', 'pode', 'ser', 'semelhante', 'ao', 'nome', 'de', 'usuário', 'e', 'quem', 'sabe', 'outros', 'dados', 'eu', 'imagino', 'que', 'a', 'força', 'da', 'senha', 'não', 'é', 'medida', 'por', 'uma', 'simples', 'verificação', 'se', 'existe', 'todos', 'esses', 'critérios', 'todos', 'juntos', 'podem', 'tornar', 'a', 'senha', 'muito', 'segura', 'mas', 'excessivamente', 'difícil', 'de', 'ser', 'determinada', 'por', 'um', 'humano', 'mas', 'como', 'calcular', 'a', 'força', 'existe', 'algum', 'algoritmo', 'padrão', 'conhecido', 'que', 'estabeleça', 'isto', 'se', 'não', 'existe', 'o', 'que', 'deve', 'ser', 'observado', 'é', 'recomendável', 'usar', 'em', 'projetos', 'em', 'quais', 'situações', 'reflection', 'pode', 'ser', 'usado', 'os', 'bancos', 'de', 'dados', 'nosql', 'estão', 'aí', 'e', 'uma', 'dúvida', 'que', 'sempre', 'tenho', 'ao', 'iniciar', 'um', 'projeto', 'é', 'quais', 'critérios', 'utilizar', 'para', 'escolher', 'entre', 'um', 'banco', 'relacional', 'ou', 'não', 'como', 'avaliar', 'o', 'meu', 'projeto', 'para', 'saber', 'a', 'melhor', 'opção', 'para', 'ele', 'ao', 'criar', 'um', 'componente', 'usamos', 'code', 'para', 'identificálo', 'por', 'exemplo', 'code', 'qual', 'é', 'a', 'diferença', 'de', 'usar', 'code', 'sem', 'o', 'no', 'lugar', 'do', 'code', 'é', 'correto', 'usar', 'um', 'ou', 'outro', 'é', 'mais', 'vantajoso', 'utilizar', 'um', 'tipo', 'ansi', 'ao', 'invés', 'de', 'um', 'tipo', 'utf', 'ou', 'viceversa', 'existe', 'algum', 'ganho', 'em', 'performance', 'ou', 'armazenamento', 'entre', 'os', 'tipos', 'estou', 'desenvolvendo', 'este', 'programinha', 'que', 'deve', 'receber', 'uma', 'expressão', 'do', 'usuário', 'e', 'fazer', 'o', 'cálculo', 'ex', 'insira', 'uma', 'expressão', 'o', 'meu', 'problema', 'é', 'como', 'tratar', 'a', 'expressão', 'enviada', 'pelo', 'usuário', 'me', 'foi', 'recomendado', 'usar', 'algo', 'como', 'o', 'code', 'mas', 'não', 'achei', 'nada', 'equivalente', 'na', 'linguagem', 'c', 'alguém', 'tem', 'algo', 'equivalente', 'qual', 'a', 'diferença', 'entre', 'ienumerable', 'iqueryable', 'e', 'list', 'no', 'net', 'quando', 'é', 'melhor', 'usar', 'uma', 'ou', 'outra', 'por', 'que', 'o', 'resharper', 'me', 'sugere', 'modificar', 'o', 'retorno', 'dessa', 'função', 'por', 'exemplo', 'de', 'code', 'code', 'para', 'code', 'code', 'muitos', 'sites', 'do', 'governo', 'brasileiro', 'costumam', 'não', 'ter', 'certificados', 'de', 'segurança', 'válidos', 'exemplos', 'httpswwwibamagovbr', 'validade', 'expirada', 'httpswwwibgegovbr', 'autoassinado', 'url', 'inválida', 'httpswwwfunaigovbr', 'autoassinado', 'httpswwwbrasilgovbr', 'ca', 'desconhecido', 'icpbrasil', 'httpswwwsenadogovbr', 'ca', 'desconhecido', 'icpbrasil', 'url', 'inválida', 'na', 'maioria', 'dos', 'casos', 'o', 'browser', 'diz', 'que', 'o', 'certificado', 'raiz', 'da', 'autoridade', 'de', 'certificação', 'não', 'é', 'confiável', 'e', 'outros', 'ainda', 'estão', 'simplesmente', 'com', 'a', 'validade', 'expirada', 'essa', 'situação', 'é', 'incomum', 'em', 'sites', 'comerciais', 'mas', 'de', 'vez', 'em', 'quando', 'também', 'topo', 'com', 'um', 'desses', 'e', 'naturalmente', 'eu', 'próprio', 'tenho', 'certa', 'dificuldade', 'de', 'manter', 'os', 'sites', 'que', 'gerencio', 'sempre', 'com', 'certificados', 'válidos', 'é', 'necessário', 'que', 'um', 'site', 'tenha', 'certificado', 'válido', 'para', 'que', 'a', 'comunicação', 'com', 'ele', 'seja', 'segura', 'por', 'que', 'alguns', 'desses', 'sites', 'do', 'governo', 'têm', 'funções', 'muito', 'importantes', 'ex', 'receita', 'federal', 'ministério', 'do', 'trabalho', 'siape', 'é', 'seguro', 'continuar', 'utilizandoos', 'apesar', 'do', 'alerta', 'de', 'segurança', 'apresentado', 'alguns', 'chegam', 'mesmo', 'a', 'instruir', 'o', 'usuário', 'a', 'ignorar', 'esses', 'alertas', 'já', 'me', 'foi', 'sugerido', 'pelo', 'meu', 'antigo', 'provedor', 'de', 'hospedagem', 'usar', 'certificados', 'do', 'cacertorg', 'em', 'vez', 'de', 'um', 'autoassinado', 'pois', 'eles', 'ainda', 'não', 'são', 'reconhecidos', 'pelos', 'principais', 'browsers', 'mas', 'muitos', 'sistemas', 'já', 'aceitam', 'ou', 'seja', 'ainda', 'é', 'invalido', 'seria', 'essa', 'uma', 'prática', 'aceitável', 'posso', 'simplesmente', 'dizer', 'pros', 'meus', 'usuários', 'ingnorarem', 'o', 'alerta', 'de', 'segurança', 'e', 'pronto', 'tal', 'como', 'esses', 'sites', 'do', 'governo', 'fazem', 'que', 'impactos', 'um', 'certificado', 'inválido', 'tem', 'na', 'segurança', 'de', 'um', 'site', 'o', 'que', 'nos', 'ensinam', 'sobre', 'herança', 'a', 'esmagadora', 'maioria', 'dos', 'materiais', 'que', 'tratam', 'sobre', 'herança', 'de', 'classes', 'a', 'exemplificam', 'como', 'um', 'mero', 'mecanismo', 'de', 'agrupamento', 'de', 'atributos', 'ou', 'ações', 'comuns', 'no', 'máximo', 'como', 'um', 'meio', 'de', 'representar', 'uma', 'hierarquia', 'análoga', 'a', 'algo', 'que', 'observamos', 'na', 'vida', 'real', 'como', 'amostra', 'veja', 'esta', 'apostila', 'da', 'unicamp', 'e', 'esta', 'outra', 'da', 'caelum', 'o', 'mesmo', 'se', 'aplica', 'às', 'aulas', 'que', 'assisti', 'sobre', 'o', 'assunto', 'ainda', 'lembro', 'quando', 'aprendi', 'que', 'a', 'orientação', 'a', 'objetos', 'possibilita', 'representarmos', 'o', 'que', 'vemos', 'na', 'vida', 'real', 'a', 'herança', 'é', 'comumente', 'definida', 'como', 'um', 'relacionamento', 'do', 'tipo', 'é', 'um', 'exemplos', 'clássicos', 'como', 'code', 'e', 'code', 'estendem', 'code', 'ilustram', 'isso', 'o', 'problema', 'é', 'que', 'quando', 'aprendemos', 'dessa', 'forma', 'a', 'nossa', 'preocupação', 'recai', 'em', 'classificar', 'os', 'objetos', 'da', 'vida', 'real', 'para', 'agrupar', 'em', 'hierarquias', 'e', 'então', 'procurar', 'atributos', 'e', 'ações', 'comuns', 'para', 'colocarmos', 'na', 'superclasse', 'posso', 'dizer', 'que', 'passei', 'muito', 'tempo', 'usando', 'herança', 'como', 'forma', 'de', 'agrupar', 'coisas', 'parecidas', 'e', 'evitar', 'repetição', 'de', 'código', 'não', 'considerando', 'pontos', 'importantes', 'como', 'acoplamento', 'e', 'coesão', 'herança', 'na', 'prática', 'contudo', 'parece', 'que', 'na', 'prática', 'isso', 'simplesmente', 'não', 'funciona', 'tão', 'bem', 'como', 'na', 'teoria', 'como', 'exemplificado', 'na', 'questão', 'prefira', 'composição', 'em', 'vez', 'de', 'herança', 'a', 'excelente', 'resposta', 'aceita', 'diz', 'somente', 'use', 'herança', 'se', 'o', 'subtipo', 'puder', 'perfeitamente', 'substituir', 'o', 'tipo', 'base', 'essa', 'afirmação', 'que', 'considero', 'correta', 'nos', 'leva', 'à', 'consequência', 'lógica', 'que', 'de', 'que', 'o', 'exemplo', 'dos', 'bichos', 'não', 'representa', 'adequadamente', 'o', 'modo', 'como', 'devemos', 'encarar', 'a', 'herança', 'code', 'é', 'um', 'code', 'mas', 'cada', 'code', 'exibe', 'um', 'comportamento', 'muito', 'distinto', 'dos', 'demais', 'code', 'não', 'é', 'exatamente', 'uma', 'especialização', 'de', 'code', 'ou', 'seja', 'um', 'code', 'que', 'tem', 'alguma', 'coisa', 'a', 'mais', 'ele', 'é', 'um', 'tipo', 'único', 'de', 'code', 'que', 'dificilmente', 'pode', 'ser', 'substituído', 'por', 'outro', 'sem', 'impacto', 'como', 'foi', 'explicado', 'na', 'resposta', 'citada', 'usar', 'a', 'herança', 'simplesmente', 'para', 'exibir', 'um', 'comportamento', 'comum', 'ou', 'reaproveitar', 'código', 'não', 'é', 'em', 'geral', 'uma', 'solução', 'adequada', 'para', 'isso', 'existem', 'interfaces', 'e', 'delegação', 'conclusão', 'enfim', 'minha', 'dúvida', 'é', 'existem', 'situações', 'onde', 'seria', 'apropriado', 'usar', 'a', 'herança', 'simplesmente', 'para', 'agrupar', 'objetos', 'com', 'comportamentos', 'e', 'atributos', 'comuns', 'ou', 'ainda', 'para', 'criar', 'hierarquias', 'de', 'objetos', 'que', 'representam', 'a', 'vida', 'real', 'se', 'possível', 'dê', 'um', 'exemplo', 'pergunta', 'bônus', 'será', 'que', 'vale', 'a', 'pena', 'começar', 'a', 'utilizar', 'outros', 'exemplos', 'para', 'herança', 'e', 'não', 'deixar', 'que', 'as', 'pessoas', 'descubram', 'por', 'si', 'mesmas', 'que', 'na', 'prática', 'a', 'coisa', 'não', 'é', 'bem', 'assim', 'atualização', 'considere', 'apropriado', 'ou', 'certo', 'o', 'uso', 'da', 'herança', 'que', 'beneficie', 'o', 'sistema', 'a', 'longo', 'prazo', 'isto', 'é', 'evite', 'problemas', 'de', 'manutenção', 'e', 'evolução', 'do', 'produto', 'por', 'exemplo', 'usar', 'herança', 'para', 'uma', 'hierarquia', 'pode', 'causar', 'um', 'grande', 'problema', 'se', 'os', 'filhos', 'dessa', 'hierarquia', 'passarem', 'a', 'ter', 'características', 'diferentes', 'dos', 'pais', 'e', 'o', 'código', 'polimórfico', 'começar', 'a', 'quebrar', 'ou', 'ficar', 'com', 'vários', 'codes', 'para', 'tratar', 'casos', 'específicos', 'por', 'esmagadora', 'maioria', 'quero', 'dizer', 'quase', 'todos', 'os', 'livros', 'apostilas', 'e', 'aulas', 'que', 'conheço', 'note', 'que', 'não', 'estou', 'dizendo', 'que', 'elas', 'estão', 'totalmente', 'erradas', 'mas', 'que', 'transmitem', 'um', 'aspecto', 'de', 'forma', 'equivocada', 'observação', 'eu', 'entendo', 'que', 'muitos', 'podem', 'considerar', 'esta', 'questão', 'baseada', 'em', 'opiniões', 'se', 'acharem', 'que', 'ela', 'não', 'é', 'adequada', 'ao', 'formato', 'do', 'site', 'comentem', 'que', 'eu', 'ajustarei', 'ou', 'excluirei', 'conforme', 'o', 'caso', 'clipper', 'foi', 'uma', 'linguagem', 'muita', 'usada', 'nos', 'anos', 'e', 'até', 'boa', 'parte', 'dos', 'anos', 'especialmente', 'em', 'alguns', 'países', 'como', 'o', 'brasil', 'de', 'fato', 'muitos', 'sistemas', 'administrativos', 'ainda', 'usados', 'hoje', 'foram', 'feitos', 'nele', 'mas', 'ainda', 'é', 'possível', 'desenvolver', 'softwares', 'modernos', 'usando', 'ele', 'quando', 'eu', 'estava', 'usando', 'o', 'sublime', 'text', 'para', 'editar', 'um', 'arquivo', 'code', 'percebi', 'que', 'ele', 'me', 'sugeriu', 'uma', 'tag', 'com', 'o', 'nome', 'de', 'code', 'eu', 'nunca', 'tinha', 'visto', 'sobre', 'essa', 'tag', 'antes', 'mas', 'parece', 'que', 'realmente', 'existe', 'como', 'não', 'vi', 'nenhum', 'explicação', 'em', 'português', 'sobre', 'o', 'assunto', 'resolvi', 'fazer', 'essa', 'pergunta', 'aqui', 'para', 'que', 'serve', 'a', 'tag', 'code', 'essa', 'tag', 'é', 'nova', 'de', 'alguma', 'forma', 'ela', 'pode', 'substituir', 'a', 'funcionalidade', 'de', 'autocomplemento', 'que', 'existem', 'atualmente', 'em', 'várias', 'bibliotecasframeworks', 'em', 'code', 'tenho', 'ouvido', 'falar', 'muito', 'de', 'kotlin', 'o', 'que', 'é', 'isso', 'é', 'uma', 'linguagem', 'de', 'programação', 'se', 'sim', 'quais', 'as', 'principais', 'características', 'posso', 'programar', 'em', 'qualquer', 'sistema', 'operacional', 'e', 'executar', 'como', 'funcionam', 'os', 'tipos', 'nela', 'não', 'quero', 'saber', 'tudo', 'mas', 'uma', 'informação', 'básica', 'sobre', 'o', 'que', 'é', 'isso', 'tenho', 'uma', 'tabela', 'com', 'uma', 'coluna', 'code', 'não', 'posso', 'definir', 'como', 'chave', 'primária', 'em', 'um', 'sistema', 'que', 'recebe', 'muitas', 'notificações', 'antes', 'verifica', 'com', 'um', 'code', 'para', 'ver', 'se', 'aquele', 'código', 'já', 'existe', 'na', 'tabela', 'se', 'não', 'existir', 'ele', 'dá', 'o', 'code', 'e', 'se', 'existir', 'ele', 'faz', 'o', 'code', 'acontece', 'que', 'esse', 'sistema', 'recebe', 'muitas', 'notificações', 'via', 'code', 'onde', 'muitas', 'delas', 'acontecem', 'ao', 'mesmo', 'tempo', 'para', 'o', 'mesmo', 'código', 'muitas', 'vezes', 'o', 'sistema', 'mesmo', 'dando', 'o', 'code', 'antes', 'acaba', 'inserindo', 'códigos', 'duplicados', 'na', 'tabela', 'não', 'sei', 'como', 'é', 'que', 'o', 'mysql', 'trata', 'isto', 'pelo', 'que', 'não', 'sei', 'se', 'é', 'seguro', 'fazer', 'um', 'code', 'verificador', 'antes', 'do', 'code', 'presumo', 'que', 'exista', 'uma', 'espécie', 'de', 'fila', 'de', 'consultas', 'e', 'que', 'a', 'mesma', 'vai', 'sendo', 'processanda', 'uma', 'a', 'uma', 'code', 'como', 'que', 'um', 'código', 'acima', 'poderia', 'permitir', 'inserir', 'dois', 'registros', 'com', 'códigos', 'iguais', 'imagina', 'uma', 'requisição', 'com', 'uma', 'notificação', 'acontecendo', 'ao', 'mesmo', 'tempo', 'exatamente', 'ao', 'mesmo', 'tempo', 'qual', 'a', 'melhor', 'maneira', 'de', 'contornar', 'isso', 'sem', 'uso', 'de', 'chave', 'primária', 'quais', 'são', 'as', 'características', 'de', 'um', 'código', 'com', 'coesão', 'ou', 'acoplamento', 'até', 'que', 'ponto', 'isso', 'pode', 'gerar', 'problemas', 'futuros', 'suponha', 'a', 'tabela', 'code', 'e', 'o', 'campo', 'code', 'em', 'uma', 'consulta', 'sql', 'qual', 'a', 'melhor', 'forma', 'de', 'se', 'calcular', 'a', 'idade', 'de', 'uma', 'pessoa', 'em', 'formato', 'inteiro', 'na', 'linguagem', 'tsql', 'do', 'sql', 'server', 'por', 'exemplo', 'code', 'estou', 'fazendo', 'um', 'efeito', 'aqui', 'mas', 'não', 'estou', 'entendendo', 'esse', 'sinal', 'de', 'code', 'que', 'tem', 'no', 'framework', 'resultado', 'final', 'code', 'code', 'code', 'frequentemente', 'é', 'dito', 'que', 'pegar', 'todas', 'as', 'colunas', 'de', 'uma', 'tabela', 'através', 'do', 'comando', 'code', 'é', 'uma', 'má', 'prática', 'qualquer', 'recomendação', 'sem', 'explicação', 'não', 'é', 'útil', 'então', 'se', 'é', 'uma', 'má', 'prática', 'deve', 'haver', 'um', 'jeito', 'de', 'usálo', 'adequadamente', 'deve', 'haver', 'uma', 'situação', 'em', 'que', 'não', 'cause', 'problemas', 'se', 'fosse', 'sempre', 'ruim', 'provavelmente', 'nem', 'existiria', 'a', 'possibilidade', 'de', 'uso', 'quais', 'problemas', 'são', 'causados', 'pelo', 'seu', 'uso', 'estes', 'problemas', 'ocorrem', 'sempre', 'há', 'como', 'contornar', 'ou', 'há', 'situações', 'que', 'não', 'faz', 'diferença', 'as', 'recomendações', 'são', 'válidas', 'para', 'qualquer', 'banco', 'de', 'dados', 'eu', 'comecei', 'a', 'ler', 'um', 'artigo', 'sobre', 'ecmascript', 'e', 'me', 'deparei', 'com', 'o', 'termo', 'transpilation', 'que', 'em', 'português', 'seria', 'transpilação', 'além', 'desse', 'percebi', 'que', 'outros', 'artigos', 'usam', 'esse', 'termo', 'é', 'a', 'primeira', 'vez', 'na', 'minha', 'vida', 'de', 'programação', 'que', 'me', 'deparo', 'com', 'esse', 'termo', 'o', 'que', 'isso', 'significa', 'esse', 'trans', 'tem', 'a', 'ver', 'com', 'traduzir', 'código', 'ou', 'algo', 'do', 'tipo', 'eu', 'sei', 'tem', 'a', 'pergunta', 'qual', 'a', 'diferena', 'de', 'arquitetura', 'e', 'engenharia', 'de', 'software', 'ali', 'já', 'responde', 'em', 'parte', 'ainda', 'que', 'eu', 'não', 'tenha', 'ficado', 'satisfeito', 'com', 'as', 'respostas', 'que', 'até', 'são', 'boas', 'se', 'puder', 'fazer', 'algo', 'melhor', 'ajudará', 'caso', 'contrário', 'deixa', 'o', 'que', 'já', 'tem', 'lá', 'especificamente', 'a', 'arquitetura', 'define', 'o', 'que', 'mas', 'acho', 'que', 'o', 'que', 'separa', 'cada', 'função', 'destas', 'disciplinas', 'do', 'título', 'não', 'fica', 'claro', 'por', 'exemplo', 'do', 'que', 'trata', 'a', 'ciência', 'da', 'computação', 'que', 'não', 'trata', 'na', 'engenharia', 'de', 'software', 'ou', 'viceversa', 'programação', 'e', 'codificação', 'parecem', 'a', 'mesma', 'coisa', 'mas', 'é', 'mesmo', 'o', 'mesmo', 'pode', 'ser', 'dito', 'de', 'análise', 'e', 'design', 'pra', 'mim', 'parecem', 'coisas', 'diferentes', 'análise', 'talvez', 'seja', 'um', 'estranho', 'nisso', 'ficaadicapraresponder', 'eu', 'vejo', 'estas', 'coisas', 'como', 'uma', 'hierarquia', 'ou', 'fases', 'do', 'processo', 'de', 'desenvolvimento', 'de', 'software', 'como', 'um', 'todo', 'por', 'isso', 'acho', 'que', 'todas', 'estão', 'relacionadas', 'diretamente', 'por', 'isso', 'fiz', 'em', 'uma', 'pergunta', 'só', 'então', 'quero', 'entender', 'a', 'linha', 'que', 'determina', 'onde', 'começa', 'uma', 'e', 'outra', 'o', 'que', 'cada', 'uma', 'define', 'não', 'quero', 'detalhes', 'só', 'linhas', 'gerais', 'se', 'for', 'necessário', 'detalhes', 'de', 'cada', 'função', 'farei', 'perguntas', 'específicas', 'note', 'que', 'quero', 'saber', 'sobre', 'as', 'funções', 'efetivamente', 'exercidas', 'não', 'sobre', 'cargos', 'eu', 'sei', 'que', 'uma', 'mesma', 'pessoa', 'pode', 'ter', 'mais', 'de', 'uma', 'função', 'e', 'que', 'o', 'cargo', 'que', 'ela', 'ocupa', 'não', 'indica', 'nada', 'que', 'ela', 'pode', 'ou', 'não', 'fazer', 'já', 'conheço', 'a', 'wikipedia', 'pode', 'colocar', 'links', 'para', 'complementar', 'mas', 'uma', 'resposta', 'boa', 'vai', 'além', 'do', 'que', 'está', 'lá', 'inclusive', 'não', 'sei', 'se', 'é', 'uma', 'fonte', 'tão', 'confiável', 'assim', 'nesse', 'assunto', 'não', 'quero', 'opiniões', 'precisa', 'de', 'algum', 'fundamento', 'caso', 'contrário', 'considerarei', 'a', 'resposta', 'errada', 'tentei', 'procurar', 'pelo', 'google', 'e', 'no', 'soen', 'mas', 'não', 'encontrei', 'nenhuma', 'referência', 'ao', 'operador', 'code', 'descobri', 'que', 'ele', 'existe', 'pois', 'estava', 'lendo', 'um', 'livro', 'sobre', 'javascript', 'e', 'tinha', 'um', 'exemplo', 'utilizando', 'ele', 'mas', 'o', 'autor', 'também', 'não', 'havia', 'feito', 'nenhuma', 'referência', 'ao', 'til', 'antes', 'code', 'qual', 'a', 'função', 'do', 'operador', 'code', 'e', 'quando', 'ele', 'é', 'geralmente', 'utilizado', 'em', 'php', 'quando', 'possuo', 'um', 'code', 'com', 'valores', 'duplicados', 'é', 'possível', 'obter', 'apenas', 'valores', 'únicos', 'através', 'da', 'função', 'code', 'exemplo', 'code', 'porém', 'eu', 'precisei', 'fazer', 'algo', 'parecido', 'em', 'javascript', 'mas', 'não', 'encontrei', 'uma', 'função', 'que', 'fizesse', 'isso', 'nativamente', 'qual', 'é', 'o', 'meio', 'mais', 'simples', 'em', 'javascript', 'de', 'se', 'obter', 'os', 'valores', 'únicos', 'de', 'um', 'code', 'vou', 'deixar', 'esse', 'array', 'de', 'exemplo', 'code', 'estou', 'procurando', 'por', 'maneiras', 'de', 'se', 'copiar', 'um', 'texto', 'pra', 'área', 'de', 'transferência', 'clipboard', 'via', 'javascript', 'que', 'funcione', 'na', 'maioria', 'dos', 'browsers', 'modernos', 'mas', 'há', 'informação', 'demais', 'e', 'me', 'parece', 'desatualizada', 'sei', 'que', 'há', 'a', 'clipboard', 'api', 'e', 'que', 'ela', 'é', 'parcialmente', 'suportada', 'por', 'todos', 'exceto', 'o', 'firefox', 'que', 'a', 'implementa', 'totalmete', 'gostaria', 'de', 'utilizála', 'mas', 'só', 'encontro', 'exemplos', 'que', 'usam', 'o', 'code', 'que', 'é', 'justamente', 'a', 'parte', 'ainda', 'não', 'amplamente', 'suportada', 'montei', 'um', 'jsfiddle', 'de', 'exemplo', 'que', 'não', 'funciona', 'nem', 'no', 'firefox', 'recursão', 'infinita', 'no', 'evento', 'code', 'nem', 'no', 'chrome', 'code', 'não', 'suportado', 'segue', 'o', 'código', 'code', 'gostaria', 'de', 'um', 'exemplo', 'que', 'evitasse', 'essa', 'recursão', 'infinita', 'ela', 'é', 'causada', 'porque', 'o', 'handler', 'que', 'cria', 'o', 'code', 'acaba', 'capturando', 'o', 'evento', 'que', 'ele', 'mesmo', 'criou', 'e', 'que', 'oferecesse', 'um', 'workaround', 'pro', 'caso', 'do', 'browser', 'não', 'dar', 'suporte', 'ao', 'code', 'iniciar', 'em', 'programação', 'nem', 'sempre', 'é', 'fácil', 'além', 'de', 'termos', 'que', 'aprender', 'a', 'escrever', 'o', 'código', 'existem', 'dezenas', 'de', 'termos', 'tecnologias', 'entre', 'outras', 'coisas', 'que', 'precisam', 'ser', 'estudadas', 'visando', 'ajudar', 'quem', 'está', 'começando', 'minha', 'pergunta', 'é', 'o', 'que', 'é', 'uma', 'linguagem', 'de', 'programação', 'uma', 'ide', 'e', 'um', 'compilador', 'qual', 'a', 'relação', 'entre', 'esses', 'itens', 'na', 'pergunta', 'do', 'meta', 'tags', 'diferentes', 'para', 'quottestesquot', 'eu', 'notei', 'que', 'tenho', 'alguma', 'dificuldade', 'para', 'entender', 'todos', 'estes', 'termos', 'sobre', 'testes', 'certamente', 'testes', 'passaram', 'ser', 'muito', 'importantes', 'ao', 'longo', 'da', 'trajetória', 'do', 'desenvolvimento', 'de', 'software', 'com', 'isto', 'proliferam', 'conceitos', 'e', 'a', 'sopa', 'de', 'letrinhas', 'está', 'cada', 'vez', 'maior', 'o', 'que', 'diferencia', 'os', 'conceitos', 'envolvidos', 'em', 'testes', 'as', 'siglas', 'e', 'as', 'definições', 'formais', 'são', 'fácil', 'de', 'descobrir', 'teste', 'de', 'software', 'testes', 'unitários', 'ou', 'unidade', 'de', 'testes', 'há', 'diferença', 'testes', 'funcionais', 'tdd', 'quality', 'assurance', 'acceptance', 'testing', 'existe', 'algum', 'outro', 'termo', 'relacionado', 'que', 'seja', 'muito', 'importante', 'para', 'ser', 'destacado', 'faz', 'um', 'tempo', 'estou', 'tentando', 'aprender', 'a', 'usar', 'promessas', 'e', 'programação', 'assíncrona', 'em', 'javascript', 'mas', 'até', 'agora', 'não', 'tive', 'muito', 'sucesso', 'nisso', 'já', 'entendi', 'que', 'existem', 'funções', 'que', 'retornam', 'as', 'tais', 'promessas', 'e', 'que', 'então', 'é', 'possível', 'encaixar', 'um', 'callback', 'no', 'método', 'code', 'do', 'objeto', 'retornado', 'também', 'sei', 'construir', 'funções', 'que', 'retornam', 'promessas', 'usando', 'a', 'biblioteca', 'code', 'meu', 'problema', 'é', 'que', 'não', 'sei', 'como', 'usar', 'as', 'promessas', 'na', 'prática', 'sempre', 'que', 'tento', 'vira', 'uma', 'confusão', 'e', 'acabo', 'tendo', 'um', 'monte', 'de', 'codes', 'aninhados', 'e', 'na', 'maioria', 'das', 'vezes', 'nada', 'funciona', 'sem', 'falar', 'que', 'é', 'extremamente', 'comum', 'que', 'eu', 'caia', 'em', 'situações', 'do', 'seguinte', 'tipo', 'preciso', 'de', 'certos', 'dados', 'que', 'são', 'carregados', 'do', 'servidor', 'essa', 'chamada', 'retorna', 'uma', 'promessa', 'mas', 'eu', 'preciso', 'dos', 'dados', 'em', 'uma', 'função', 'que', 'é', 'executada', 'logo', 'em', 'seguida', 'na', 'verdade', 'não', 'estou', 'conseguindo', 'pensar', 'do', 'jeito', 'certo', 'com', 'programação', 'assincrona', 'e', 'promessas', 'é', 'muito', 'natural', 'pensar', 'daquela', 'forma', 'primeiro', 'acontece', 'isso', 'e', 'em', 'seguida', 'tem', 'que', 'acontecer', 'aquilo', 'mas', 'parece', 'muito', 'estranho', 'pensar', 'alguma', 'hora', 'vai', 'acontecer', 'isso', 'e', 'nem', 'sabemos', 'quando', 'vai', 'acabar', 'e', 'precisa', 'acontecer', 'uma', 'outra', 'coisa', 'que', 'depende', 'da', 'primeira', 'alguém', 'poderia', 'dar', 'algumas', 'dicasreferências', 'pra', 'pegar', 'o', 'jeito', 'mesmo', 'disso', 'tenho', 'um', 'layout', 'com', 'uma', 'barra', 'de', 'navegação', 'horizontal', 'na', 'parte', 'superior', 'do', 'site', 'ele', 'está', 'com', 'code', 'quando', 'rolar', 'a', 'página', 'o', 'menu', 'deve', 'ser', 'fixado', 'no', 'topo', 'da', 'janela', 'mas', 'com', 'code', 'qual', 'a', 'melhor', 'forma', 'de', 'realizar', 'isso', 'bom', 'comecei', 'a', 'desenvolver', 'web', 'a', 'pouco', 'tempo', 'digamos', 'ano', 'e', 'aqui', 'na', 'empresa', 'utilizamos', 'muito', 'code', 'e', 'code', 'sei', 'que', 'na', 'visão', 'de', 'html', 'os', 'frames', 'estão', 'obsoletos', 'mas', 'ainda', 'vejo', 'muita', 'gente', 'defendendo', 'o', 'uso', 'deles', 'gostaria', 'muito', 'de', 'saber', 'o', 'por', 'que', 'deles', 'serem', 'motivo', 'de', 'tanto', 'debate', 'quais', 'seus', 'benefícios', 'e', 'malefícios', 'na', 'hora', 'de', 'se', 'desenvolver', 'se', 'o', 'code', 'está', 'obsoleto', 'qual', 'é', 'o', 'seu', 'substituto', 'na', 'visão', 'de', 'html', 'se', 'para', 'o', 'html', 'os', 'frames', 'estão', 'obsoletos', 'deve', 'ter', 'uma', 'resposta', 'plausível', 'do', 'porque', 'por', 'que', 'é', 'obrigatório', 'implementar', 'esse', 'método', 'em', 'uma', 'aplicação', 'java', 'como', 'um', 'computador', 'entende', 'o', 'código', 'binário', 'como', 'o', 'código', 'binário', 'foi', 'criado', 'e', 'quem', 'a', 'criou', 'estou', 'desenvolvendo', 'uma', 'ferramenta', 'para', 'reconhecimento', 'biométrico', 'usando', 'o', 'sdk', 'fornecido', 'em', 'formato', 'dll', 'desenvolvido', 'em', 'delphi', 'para', 'o', 'acesso', 'à', 'dll', 'a', 'partir', 'do', 'java', 'estou', 'usando', 'jna', 'o', 'template', 'da', 'digital', 'a', 'parte', 'mais', 'importante', 'é', 'um', 'objeto', 'que', 'se', 'refere', 'a', 'este', 'trecho', 'em', 'delphi', 'code', 'como', 'desenvolver', 'algo', 'equivalente', 'em', 'java', 'basicamente', 'preciso', 'chamar', 'as', 'seguintes', 'funções', 'da', 'dll', 'code', 'olhando', 'o', 'exemplo', 'fornecido', 'desenvolvido', 'em', 'delphi', 'vi', 'que', 'o', 'objeto', 'code', 'que', 'é', 'passado', 'nas', 'funções', 'code', 'e', 'code', 'é', 'do', 'tipo', 'code', 'declarado', 'no', 'trecho', 'de', 'código', 'mais', 'acima', 'no', 'mesmo', 'exemplo', 'antes', 'de', 'chamar', 'o', 'método', 'code', 'o', 'objeto', 'code', 'é', 'instanciado', 'e', 'vai', 'vazio', 'onde', 'então', 'é', 'preenchido', 'através', 'da', 'função', 'o', 'leitor', 'é', 'o', 'techmag', 'bioflex', 'que', 'é', 'baseado', 'nos', 'leitores', 'futronic', 'fs', 'pesquisando', 'vi', 'que', 'o', 'objeto', 'code', 'do', 'trecho', 'de', 'código', 'faz', 'acesso', 'à', 'memória', 'para', 'ler', 'as', 'informações', 'que', 'o', 'leitor', 'grava', 'nela', 'escreve', 'depois', 'de', 'muitas', 'pesquisa', 'acho', 'que', 'devo', 'desenvolver', 'algum', 'objeto', 'equivalente', 'em', 'java', 'estendendo', 'das', 'classes', 'code', 'ou', 'code', 'do', 'jna', 'atualização', 'informações', 'sobre', 'meu', 'código', 'leio', 'e', 'armazeno', 'duas', 'vezes', 'a', 'minha', 'digital', 'utilizando', 'o', 'método', 'code', 'depois', 'comparo', 'as', 'duas', 'utilizando', 'o', 'método', 'code', 'que', 'sempre', 'retorna', 'code', 'comando', 'não', 'executado', 'printei', 'os', 'objetos', 'code', 'e', 'code', 'após', 'ler', 'a', 'digital', 'code', 'retorna', 'code', 'e', 'code', 'retorna', 'code', 'interface', 'com', 'os', 'métodos', 'da', 'dll', 'code', 'classe', 'que', 'estende', 'structure', 'referente', 'ao', 'objeto', 'cis_digital', 'code', 'método', 'responsável', 'por', 'ler', 'duas', 'vezes', 'qualquer', 'digital', 'e', 'comparálas', 'code', 'otimização', 'prematura', 'é', 'quando', 'há', 'uma', 'preocupação', 'excessiva', 'por', 'parte', 'do', 'programador', 'com', 'o', 'desempenho', 'da', 'aplicação', 'ela', 'é', 'normalmente', 'condenada', 'por', 'alguns', 'programadores', 'por', 'motivos', 'como', 'isso', 'pode', 'deixar', 'o', 'código', 'mais', 'complexo', 'sua', 'produtividade', 'cai', 'você', 'perde', 'tempo', 'há', 'uma', 'grande', 'chance', 'de', 'você', 'se', 'preocupar', 'muito', 'com', 'otimizações', 'que', 'não', 'trarão', 'uma', 'melhora', 'perceptível', 'pelo', 'usuário', 'a', 'recomendação', 'seria', 'que', 'você', 'primeiro', 'fizesse', 'funcionar', 'e', 'só', 'depois', 'identificasse', 'os', 'gargalos', 'de', 'desempenhos', 'e', 'os', 'corrigisse', 'porém', 'há', 'certas', 'otimizações', 'que', 'devem', 'ser', 'levadas', 'em', 'conta', 'desde', 'o', 'início', 'pois', 'depois', 'pode', 'se', 'tornar', 'mais', 'difícil', 'otimizar', 'até', 'que', 'ponto', 'devemos', 'nos', 'preocupar', 'com', 'o', 'desempenho', 'sem', 'que', 'isso', 'cause', 'uma', 'perda', 'considerável', 'na', 'produtividade', 'comecei', 'em', 'a', 'usar', 'padrão', 'mvc', 'o', 'conceito', 'de', 'model', 'e', 'controller', 'entendo', 'perfeitamente', 'mas', 'a', 'questão', 'de', 'view', 'me', 'intriga', 'o', 'que', 'é', 'a', 'view', 'em', 'um', 'modelo', 'mvc', 'sei', 'que', 'é', 'o', 'que', 'o', 'cliente', 'vê', 'representação', 'dos', 'dados', 'mas', 'o', 'que', 'pode', 'ser', 'entendido', 'como', 'parte', 'de', 'uma', 'view', 'e', 'no', 'caso', 'de', 'uma', 'aplicação', 'separada', 'para', 'a', 'interface', 'do', 'cliente', 'posso', 'considerar', 'essa', 'como', 'a', 'camada', 'de', 'view', 'em', 'outras', 'palavras', 'o', 'que', 'faz', 'parte', 'da', 'view', 'no', 'lado', 'do', 'servidor', 'falando', 'em', 'desenvolvimento', 'web', 'vejo', 'algumas', 'pessoas', 'do', 'meio', 'da', 'programação', 'se', 'referindo', 'a', 'esse', 'termo', 'sempre', 'que', 'aparece', 'um', 'código', 'com', 'uma', 'solução', 'estranha', 'ou', 'meio', 'engambiarrada', 'dando', 'uma', 'pesquisada', 'rápida', 'no', 'google', 'eu', 'cheguei', 'a', 'conclusão', 'de', 'que', 'realmente', 'é', 'isso', 'achei', 'os', 'termos', 'go', 'horse', 'process', 'e', 'extreme', 'go', 'horse', 'o', 'que', 'achei', 'estranho', 'é', 'que', 'em', 'alguns', 'artigos', 'que', 'falam', 'sobre', 'go', 'horse', 'process', 'apareceu', 'também', 'vários', 'tópicos', 'de', 'como', 'fazer', 'itens', 'e', 'ainda', 'foi', 'chamado', 'de', 'metodologia', 'mas', 'do', 'que', 'realmente', 'isso', 'se', 'trata', 'é', 'realmente', 'uma', 'metodologia', 'ou', 'uma', 'piada', 'ou', 'uma', 'forma', 'hilária', 'de', 'se', 'listar', 'aquilo', 'que', 'deve', 'ser', 'evitado', 'na', 'programação', 'essa', 'pergunta', 'parece', 'ter', 'uma', 'resposta', 'óbvia', 'mas', 'eu', 'confesso', 'que', 'ainda', 'não', 'peguei', 'a', 'ideia', 'sozinho', 'estou', 'trabalhando', 'com', 'orientação', 'a', 'objetos', 'desde', 'principalmente', 'voltado', 'para', 'desenvolvimento', 'web', 'logo', 'que', 'comecei', 'já', 'ouvi', 'falar', 'sobre', 'mvc', 'quando', 'peguei', 'um', 'livro', 'de', 'mvc', 'pra', 'ler', 'ele', 'citava', 'muitos', 'outros', 'padrões', 'de', 'arquitetura', 'entre', 'eles', 'o', 'mvvm', 'e', 'o', 'mvp', 'mas', 'qual', 'o', 'real', 'papel', 'desses', 'padrões', 'de', 'arquitetura', 'sempre', 'que', 'vamos', 'fazer', 'um', 'projeto', 'orientado', 'a', 'objetos', 'escolhemos', 'algum', 'padrão', 'pra', 'basear', 'ele', 'claro', 'que', 'é', 'possível', 'criar', 'um', 'novo', 'projeto', 'e', 'sair', 'programando', 'sem', 'padrão', 'nenhum', 'mas', 'na', 'prática', 'sempre', 'escolhese', 'um', 'padrão', 'pra', 'basear', 'o', 'projeto', 'além', 'disso', 'me', 'parece', 'que', 'a', 'decisão', 'dos', 'padrões', 'se', 'baseia', 'em', 'última', 'instância', 'não', 'no', 'modelo', 'de', 'domínio', 'mas', 'na', 'interface', 'com', 'o', 'usuário', 'digo', 'isso', 'porque', 'vi', 'o', 'seguinte', 'a', 'motivação', 'para', 'o', 'mvc', 'na', 'web', 'é', 'o', 'fato', 'do', 'http', 'não', 'manter', 'estado', 'o', 'fato', 'da', 'interface', 'com', 'o', 'usuário', 'ser', 'na', 'web', 'o', 'mvvm', 'aparece', 'em', 'cenários', 'onde', 'há', 'estado', 'ou', 'seja', 'o', 'fato', 'da', 'interface', 'com', 'o', 'usuário', 'permitir', 'isso', 'e', 'por', 'ai', 'vai', 'como', 'é', 'feita', 'essa', 'escolha', 'de', 'padrão', 'o', 'seguinte', 'código', 'imprime', 'vezes', 'o', 'texto', 'mensagem', 'em', 'um', 'code', 'code', 'veja', 'o', 'exemplo', 'no', 'jsfiddle', 'eu', 'entendo', 'que', 'isso', 'ocorre', 'porque', 'o', 'valor', 'de', 'code', 'é', 'atualizado', 'na', 'função', 'externa', 'e', 'no', 'momento', 'da', 'execução', 'da', 'função', 'interna', 'a', 'referência', 'aponta', 'para', 'o', 'valor', 'atualizado', 'como', 'fazer', 'para', 'imprimir', 'o', 'valor', 'da', 'variável', 'code', 'correspondente', 'ao', 'número', 'da', 'iteração', 'ou', 'seja', 'o', 'valor', 'de', 'code', 'no', 'momento', 'em', 'que', 'a', 'função', 'interna', 'foi', 'criada', 'na', 'chamado', 'do', 'code', 'resultando', 'em', 'textos', 'de', 'mensagem', 'a', 'mensagem', 'recentemente', 'descobri', 'as', 'famosas', 'ou', 'não', 'tão', 'famosas', 'assim', 'funções', 'recursivas', 'e', 'achei', 'bem', 'interessante', 'o', 'conceito', 'porém', 'ao', 'longo', 'da', 'minha', 'leitura', 'me', 'surgiram', 'algumas', 'dúvidas', 'com', 'relação', 'ao', 'uso', 'de', 'tal', 'ª', 'qual', 'a', 'vantagem', 'de', 'usarmos', 'uma', 'função', 'recursiva', 'pois', 'eu', 'não', 'consigo', 'entender', 'a', 'vantagem', 'disto', 'code', 'sobre', 'isto', 'code', 'ª', 'como', 'fica', 'o', 'consumo', 'de', 'memória', 'pois', 'pelo', 'que', 'eu', 'entendi', 'uma', 'função', 'recursiva', 'é', 'executada', 'dentro', 'de', 'outra', 'função', 'fazendo', 'então', 'um', 'laço', 'de', 'repetição', 'dependendo', 'do', 'tamanho', 'do', 'cálculo', 'o', 'uso', 'de', 'uma', 'função', 'recursiva', 'poderia', 'prejudicar', 'o', 'desempenho', 'da', 'minha', 'aplicação', 'ª', 'eu', 'devo', 'utilizar', 'uma', 'função', 'recursiva', 'ao', 'invés', 'de', 'um', 'loop', 'de', 'repetição', 'comum', 'eg', 'code', 'quais', 'seriam', 'as', 'situações', 'ideais', 'para', 'o', 'uso', 'de', 'funções', 'recursivas', 'sou', 'iniciante', 'no', 'js', 'e', 'procuro', 'entender', 'a', 'teoria', 'só', 'que', 'todos', 'os', 'artigos', 'que', 'encontro', 'sobre', 'dom', 'são', 'demasiadamente', 'científicos', 'não', 'haveria', 'uma', 'forma', 'mais', 'simples', 'de', 'explicar', 'isso', 'para', 'um', 'leigo', 'estou', 'estudando', 'rest', 'e', 'desenvolvimento', 'de', 'web', 'apis', 'e', 'ouvi', 'falar', 'sobre', 'hateoas', 'hypertext', 'as', 'the', 'engine', 'of', 'application', 'state', 'eu', 'entendi', 'a', 'ideia', 'ao', 'responder', 'uma', 'requisição', 'além', 'do', 'que', 'normalmente', 'retornamos', 'a', 'ideia', 'é', 'também', 'retornar', 'dados', 'sobre', 'o', 'que', 'pode', 'ser', 'feito', 'em', 'seguida', 'um', 'exemplo', 'que', 'vi', 'na', 'internet', 'foi', 'esse', 'code', 'além', 'disso', 'já', 'li', 'várias', 'vezes', 'que', 'fazer', 'isso', 'é', 'muito', 'importante', 'pra', 'várias', 'coisas', 'entre', 'elas', 'pra', 'permitir', 'que', 'a', 'api', 'consiga', 'evoluir', 'facilmente', 'sem', 'quebrar', 'clients', 'antigos', 'acontece', 'que', 'eu', 'não', 'consigo', 'entender', 'quais', 'são', 'os', 'reais', 'benefícios', 'de', 'fazer', 'isso', 'basicamente', 'o', 'client', 'não', 'vai', 'decidir', 'por', 'si', 'só', 'quais', 'chamadas', 'fazer', 'baseado', 'nesses', 'links', 'de', 'qualquer', 'forma', 'temos', 'que', 'colocar', 'hardcoded', 'lá', 'o', 'que', 'pode', 'ser', 'feito', 'em', 'seguida', 'assim', 'qual', 'a', 'real', 'importância', 'de', 'usar', 'hateoas', 'e', 'quais', 'benefícios', 'temos', 'a', 'partir', 'do', 'seu', 'uso', 'uma', 'dúvida', 'muito', 'comum', 'é', 'por', 'que', 'devemos', 'parar', 'de', 'usar', 'funções', 'do', 'tipo', 'mysql_', 'por', 'exemplo', 'code', 'ou', 'code', 'vejo', 'que', 'muitas', 'pessoas', 'as', 'usam', 'ou', 'param', 'de', 'usar', 'mas', 'não', 'sabem', 'o', 'real', 'motivo', 'por', 'que', 'elas', 'deveriam', 'parar', 'de', 'ser', 'usadas', 'uma', 'vez', 'que', 'funcionam', 'tenho', 'uma', 'tabela', 'que', 'possui', 'registros', 'duplicados', 'eles', 'não', 'deveriam', 'estar', 'duplicados', 'alguns', 'registros', 'duplicaram', 'duas', 'cinco', 'e', 'até', 'trinta', 'vezes', 'por', 'acidente', 'preciso', 'remover', 'esses', 'registros', 'duplicados', 'porém', 'preciso', 'deixar', 'um', 'então', 'por', 'exemplo', 'se', 'eu', 'tenho', 'um', 'valor', 'repetindo', 'vezes', 'preciso', 'deletar', 'meu', 'cenário', 'é', 'mais', 'ou', 'menos', 'esse', 'code', 'o', 'resultado', 'está', 'assim', 'code', 'mas', 'preciso', 'que', 'fique', 'assim', 'code', 'nota', 'só', 'quero', 'deletar', 'os', 'duplicados', 'se', 'o', 'status', 'for', 'porém', 'quero', 'deixar', 'um', 'como', 'fazer', 'uma', 'query', 'que', 'delete', 'os', 'duplicados', 'porém', 'deixando', 'sempre', 'um', 'registro', 'estou', 'com', 'o', 'seguinte', 'código', 'em', 'javascript', 'code', 'por', 'que', 'a', 'expressão', 'com', 'o', 'operador', 'code', 'retorna', 'code', 'e', 'com', 'o', 'operador', 'code', 'retorna', 'code', 'qual', 'é', 'a', 'diferença', 'entre', 'os', 'dois', 'operadores', 'eu', 'já', 'ouvi', 'esse', 'termo', 'da', 'boca', 'de', 'algumas', 'pessoas', 'mas', 'não', 'costumo', 'ser', 'bom', 'com', 'esses', 'termos', 'técnicos', 'o', 'que', 'seria', 'um', 'código', 'legado', 'está', 'relacionado', 'a', 'código', 'ultrapassado', 'estou', 'trabalhando', 'em', 'um', 'sistema', 'muito', 'grande', 'utilizando', 'net', 'aspnet', 'mvc', 'a', 'aplicação', 'requer', 'um', 'nível', 'crítico', 'de', 'desempenho', 'até', 'que', 'ponto', 'vale', 'ou', 'não', 'a', 'pena', 'utilizar', 'uma', 'orm', 'existe', 'alguma', 'ferramenta', 'que', 'eu', 'possa', 'comparar', 'em', 'termos', 'de', 'desempenho', 'os', 'orms', 'e', 'sql', 'puro', 'eu', 'sei', 'que', 'existe', 'uma', 'diferença', 'de', 'desempenho', 'entre', 'sql', 'puro', 'e', 'orm', 'não', 'sei', 'se', 'é', 'os', 'activerecords', 'ou', 'os', 'orms', 'em', 'gerais', 'são', 'mais', 'lentos', 'em', 'comparação', 'com', 'sql', 'puro', 'caso', 'considere', 'usar', 'um', 'orm', 'qual', 'deles', 'provavelmente', 'tem', 'o', 'melhor', 'desempenho', 'ef', 'ou', 'nhibernate', 'sei', 'que', 'tudo', 'também', 'depende', 'da', 'estrutura', 'do', 'banco', 'e', 'das', 'boas', 'práticas', 'mas', 'de', 'modo', 'geral', 'para', 'um', 'sistema', 'muito', 'grande', 'considero', 'uma', 'orm', 'já', 'que', 'o', 'custo', 'beneficio', 'em', 'relação', 'manutenção', 'do', 'sistema', 'é', 'muito', 'mais', 'alto', 'do', 'que', 'não', 'utilizando', 'em', 'sistemas', 'de', 'negócios', 'especialmente', 'erps', 'internacionais', 'ou', 'mesmo', 'em', 'cadastros', 'em', 'sites', 'vemos', 'que', 'o', 'cadastro', 'pede', 'o', 'sobrenome', 'last', 'name', 'e', 'o', 'nome', 'first', 'name', 'em', 'alguns', 'casos', 'há', 'até', 'o', 'nome', 'do', 'meio', 'middle', 'name', 'no', 'brasil', 'eu', 'não', 'me', 'lembro', 'de', 'ter', 'visto', 'isto', 'em', 'algum', 'lugar', 'sempre', 'é', 'usado', 'uma', 'coluna', 'de', 'nome', 'único', 'sem', 'separação', 'das', 'partes', 'quais', 'as', 'vantagens', 'e', 'desvantagens', 'de', 'cada', 'um', 'do', 'ponto', 'de', 'vista', 'de', 'modelagem', 'e', 'experiência', 'do', 'usuário', 'bonus', 'point', 'não', 'é', 'o', 'foco', 'principal', 'da', 'pergunta', 'e', 'não', 'sei', 'se', 'pode', 'ser', 'respondido', 'de', 'forma', 'autoritativa', 'por', 'que', 'isto', 'ocorre', 'por', 'aqui', 'seria', 'uma', 'questão', 'cultural', 'histórica', 'note', 'que', 'é', 'uma', 'questão', 'de', 'modelagem', 'de', 'dados', 'e', 'também', 'de', 'experiência', 'do', 'usuário', 'nem', 'sempre', 'eles', 'se', 'compatibilizam', 'diretamente', 'estou', 'fazendo', 'um', 'pequeno', 'sistema', 'e', 'para', 'acessálo', 'o', 'usuário', 'digita', 'o', 'login', 'e', 'senha', 'qual', 'a', 'melhor', 'forma', 'segura', 'e', 'simples', 'de', 'fazer', 'o', 'sistema', 'de', 'login', 'e', 'senha', 'o', 'que', 'é', 'essa', 'tal', 'de', 'race', 'condition', 'que', 'pode', 'causar', 'problemas', 'nas', 'aplicações', 'como', 'evitála', 'no', 'java', 'o', 'conceito', 'do', 'trywithresources', 'foi', 'adicionado', 'na', 'linguagem', 'o', 'que', 'é', 'o', 'trywithresources', 'como', 'ele', 'funciona', 'para', 'que', 'ele', 'serve', 'como', 'é', 'que', 'ele', 'é', 'usado', 'que', 'problema', 'ele', 'visa', 'resolver', 'tenho', 'ouvido', 'falar', 'bastante', 'sobre', 'injeção', 'de', 'dependência', 'a', 'pergunta', 'é', 'como', 'quando', 'e', 'para', 'que', 'usar', 'desde', 'os', 'tempos', 'de', 'faculdade', 'não', 'consigo', 'entender', 'a', 'real', 'diferença', 'entre', 'o', 'tipo', 'code', 'e', 'code', 'acabei', 'encontrando', 'o', 'tipo', 'code', 'que', 'também', 'trata', 'valores', 'reais', 'sobre', 'o', 'tipo', 'code', 'encontrei', 'a', 'seguinte', 'afirmação', 'para', 'qualquer', 'cálculo', 'que', 'envolva', 'dinheiro', 'ou', 'finanças', 'o', 'tipo', 'code', 'deve', 'ser', 'sempre', 'utilizado', 'só', 'este', 'tipo', 'tem', 'a', 'precisão', 'adequada', 'para', 'evitar', 'os', 'erros', 'críticos', 'de', 'arredondamento', 'por', 'quê', 'o', 'tipo', 'de', 'dados', 'decimal', 'é', 'simplesmente', 'um', 'tipo', 'de', 'ponto', 'flutuante', 'que', 'é', 'representado', 'internamente', 'como', 'base', 'ao', 'invés', 'de', 'base', 'dois', 'em', 'quais', 'situações', 'esses', 'tipos', 'devem', 'ser', 'usados', 'de', 'forma', 'correta', 'poderiam', 'me', 'explicar', 'o', 'porquê', 'do', 'tipo', 'decimal', 'ser', 'o', 'ideal', 'quando', 'se', 'tem', 'dinheiro', 'envolvido', 'qual', 'a', 'diferença', 'entre', 'ambos', 'é', 'uma', 'questão', 'bem', 'básica', 'porém', 'que', 'me', 'intriga', 'bastante', 'vejam', 'o', 'código', 'abaixo', 'code', 'agora', 'vejam', 'o', 'mesmo', 'com', 'code', 'code', 'e', 'code', 'code', 'ou', 'seja', 'o', 'mesmo', 'fim', 'pode', 'ser', 'obtido', 'de', 'ambas', 'as', 'maneiras', 'o', 'code', 'e', 'code', 'não', 'teriam', 'apenas', 'efeito', 'semântico', 'tenho', 'ouvido', 'falar', 'muito', 'sobre', 'metodologias', 'ágeis', 'e', 'gostei', 'bastante', 'da', 'ideia', 'claro', 'que', 'pelo', 'que', 'vi', 'o', 'cliente', 'precisa', 'cooperar', 'mas', 'me', 'parece', 'que', 'para', 'projetos', 'próprios', 'ou', 'seja', 'cuja', 'ideia', 'seja', 'minha', 'e', 'não', 'de', 'um', 'cliente', 'essas', 'metodologias', 'podem', 'ajudar', 'bastante', 'minha', 'dúvida', 'na', 'realidade', 'é', 'se', 'essas', 'ideias', 'todas', 'se', 'aplicam', 'a', 'programadores', 'que', 'trabalham', 'sozinhos', 'a', 'ideia', 'de', 'agilidade', 'na', 'primeira', 'vez', 'que', 'a', 'vi', 'parecia', 'ser', 'basicamente', 'a', 'ideia', 'de', 'quebrar', 'o', 'processo', 'de', 'desenvolvimento', 'de', 'um', 'software', 'em', 'várias', 'iterações', 'cada', 'uma', 'composta', 'por', 'análise', 'design', 'e', 'programação', 'pesquisando', 'mais', 'porém', 'tudo', 'que', 'achei', 'se', 'relaciona', 'com', 'equipes', 'achei', 'várias', 'formas', 'de', 'se', 'usar', 'metodologias', 'ágeis', 'como', 'scrum', 'etc', 'mas', 'tudo', 'que', 'eu', 'lia', 'sobre', 'o', 'assunto', 'falava', 'sobre', 'equipes', 'dividir', 'tarefas', 'etc', 'minha', 'pergunta', 'é', 'existe', 'uma', 'forma', 'de', 'se', 'utilizar', 'metodologias', 'ágeis', 'trabalhando', 'sozinho', 'se', 'sim', 'onde', 'posso', 'ver', 'mais', 'sobre', 'isso', 'eu', 'estava', 'dando', 'uma', 'olhada', 'no', 'códigofonte', 'de', 'uma', 'library', 'conhecida', 'do', 'php', 'chamada', 'code', 'tratase', 'de', 'um', 'template', 'engine', 'com', 'sintaxe', 'própria', 'e', 'me', 'deparei', 'com', 'classes', 'interfaces', 'e', 'métodos', 'como', 'code', 'code', 'e', 'code', 'dei', 'uma', 'pesquisada', 'e', 'percebi', 'que', 'se', 'tratava', 'do', 'termo', 'análise', 'léxica', 'apesar', 'de', 'ter', 'entendido', 'algumas', 'coisas', 'fiquei', 'confuso', 'em', 'outras', 'por', 'exemplo', 'estou', 'acostumado', 'a', 'ver', 'o', 'termo', 'code', 'ou', 'code', 'quando', 'se', 'trata', 'em', 'transformação', 'de', 'um', 'determinado', 'dado', 'em', 'outro', 'dado', 'o', 'que', 'seria', 'a', 'análise', 'léxica', 'análise', 'léxica', 'e', 'parsingparser', 'se', 'trata', 'das', 'mesmas', 'coisas', 'ou', 'na', 'verdade', 'são', 'coisas', 'diferentes', 'desculpem', 'se', 'estou', 'confuso', 'na', 'pergunta', 'mas', 'creio', 'que', 'a', 'comunidade', 'me', 'ajudará', 'com', 'uma', 'boa', 'e', 'esclarecedora', 'resposta', 'como', 'remover', 'acentos', 'e', 'outros', 'sinais', 'gráficos', 'de', 'uma', 'string', 'em', 'java', 'ex', 'code', 'estive', 'me', 'questionando', 'porque', 'alguns', 'sistemas', 'exigirem', 'senhas', 'tão', 'fortes', 'exemplo', 'minimo', 'de', 'caracteres', 'maiúsculas', 'e', 'minusculas', 'números', 'caracteres', 'especiais', 'em', 'vários', 'locais', 'dizem', 'que', 'senhas', 'fortes', 'garantem', 'uma', 'maior', 'segurança', 'do', 'sistema', 'e', 'que', 'ajudam', 'a', 'prevenir', 'ataques', 'de', 'algorítimo', 'como', 'o', 'codealgoritmo', 'capaz', 'de', 'detectar', 'senhas', 'curtas', 'em', 'contrapartida', 'descobrir', 'o', 'algoritmo', 'code', 'bancos', 'por', 'exemplo', 'usam', 'senhas', 'com', 'dígitos', 'e', 'essa', 'senha', 'são', 'números', 'penso', 'que', 'senhas', 'fortes', 'e', 'complexas', 'dificultam', 'e', 'muito', 'o', 'usuário', 'no', 'login', 'pela', 'dificuldade', 'em', 'lembrar', 'qual', 'senha', 'criou', 'porque', 'usar', 'senhas', 'tão', 'complexas', 'isso', 'não', 'dificultaria', 'o', 'usuário', 'a', 'lembrar', 'essa', 'senha', 'em', 'uma', 'possível', 'volta', 'ao', 'sistema', 'porque', 'uma', 'senha', 'sem', 'esses', 'critérios', 'mencionados', 'acima', 'são', 'consideradas', 'fracas', 'existe', 'alguma', 'situação', 'em', 'que', 'ter', 'o', 'banco', 'de', 'dados', 'desnormalizado', 'é', 'mais', 'interessante', 'que', 'têlo', 'normalizado', 'por', 'exemplo', 'normalizado', 'code', 'desnormalizado', 'code', 'em', 'algum', 'momento', 'o', 'segundo', 'caso', 'é', 'mais', 'apropriado', 'que', 'o', 'primeiro', 'achei', 'engraçado', 'o', 'exemplo', 'mas', 'é', 'válida', 'a', 'pergunta', 'no', 'sentido', 'de', 'entender', 'o', 'porquê', 'de', 'o', 'php', 'se', 'comportar', 'dessa', 'forma', 'quando', 'fazemos', 'a', 'soma', 'exemplificada', 'abaixo', 'uma', 'inteiro', 'somado', 'a', 'uma', 'string', 'code', 'o', 'resultado', 'é', 'code', 'porém', 'nesse', 'caso', 'ele', 'retorna', 'apenas', 'code', 'code', 'por', 'que', 'o', 'interpretador', 'do', 'php', 'se', 'comporta', 'dessa', 'forma', 'atenção', 'não', 'estou', 'procurando', 'por', 'pedaços', 'de', 'código', 'prontos', 'quero', 'apenas', 'que', 'alguém', 'me', 'ajude', 'a', 'pensar', 'em', 'alguma', 'forma', 'de', 'gerar', 'esses', 'primos', 'da', 'forma', 'mais', 'eficiente', 'possível', 'em', 'python', 'estou', 'resolvendo', 'a', 'questão', 'do', 'codeabbey', 'mas', 'não', 'estou', 'conseguindo', 'pensar', 'em', 'como', 'gerar', 'os', 'primos', 'que', 'o', 'exercício', 'pede', 'o', 'enunciado', 'basicamente', 'considera', 'que', 'existe', 'uma', 'list', 'que', 'contém', 'todos', 'os', 'números', 'primos', 'do', 'mundo', 'a', 'começar', 'pelo', 'com', 'base', 'nessa', 'list', 'o', 'enunciado', 'dá', 'uma', 'série', 'de', 'índices', 'índices', 'dessa', 'list', 'e', 'o', 'programa', 'tem', 'que', 'retornar', 'o', 'primo', 'que', 'ocupa', 'esse', 'índice', 'nessa', 'list', 'imaginária', 'ex', 'na', 'list', 'o', 'índice', 'é', 'o', 'é', 'o', 'enunciado', 'garante', 'que', 'a', 'série', 'de', 'índices', 'que', 'ele', 'vai', 'fornecer', 'aleatoriamente', 'não', 'possui', 'nenhum', 'índice', 'superior', 'a', 'por', 'isso', 'primos', 'no', 'máximo', 'exemplo', 'de', 'input', 'e', 'output', 'code', 'no', 'final', 'do', 'enunciado', 'o', 'codeabbey', 'avisa', 'que', 'existe', 'uma', 'forma', 'de', 'gerar', 'o', 'resultado', 'em', 'segundo', 'eu', 'poderia', 'deixar', 'o', 'meu', 'código', 'do', 'jeito', 'que', 'está', 'agora', 'esperar', 'dois', 'dias', 'e', 'dar', 'a', 'resposta', 'hahaha', 'mas', 'isso', 'seria', 'trapaça', 'e', 'eu', 'não', 'teria', 'aprendido', 'nada', 'com', 'o', 'exercício', 'deixei', 'o', 'meu', 'programa', 'rodando', 'por', 'minutos', 'e', 'não', 'gerou', 'resultado', 'talvez', 'um', 'segundo', 'seja', 'muito', 'pouco', 'tempo', 'mas', 'com', 'certeza', 'tem', 'como', 'resolver', 'em', 'hm', 'menos', 'de', 'segundos', 'para', 'tentar', 'resolver', 'estou', 'implantando', 'o', 'sieve', 'of', 'eratosthene', 'ou', 'crivo', 'de', 'eratóstenes', 'segue', 'meu', 'código', 'atual', 'code', 'por', 'que', 'a', 'formação', 'de', 'cores', 'no', 'rgb', 'não', 'segue', 'o', 'mesmo', 'padrão', 'da', 'natureza', 'e', 'mesmo', 'assim', 'dá', 'certo', 'por', 'exemplo', 'no', 'rgb', 'amarelo', 'vemelho', 'e', 'verde', 'ff', 'ff', 'ffff', 'mas', 'se', 'pegarmos', 'um', 'lápis', 'de', 'cor', 'amarelo', 'e', 'outro', 'azul', 'ou', 'tintas', 'pincéis', 'etc', 'e', 'pintar', 'uma', 'mesma', 'área', 'ela', 'se', 'torna', 'verde', 'ou', 'pelo', 'menos', 'algo', 'parecido', 'os', 'tons', 'não', 'são', 'os', 'mesmos', 'até', 'porque', 'depende', 'da', 'quantidade', 'de', 'amarelo', 'ou', 'azul', 'para', 'formar', 'o', 'verde', 'isto', 'é', 'o', 'amarelo', 'depende', 'do', 'verde', 'e', 'em', 'outro', 'o', 'verde', 'depende', 'do', 'amarelo', 'nota', 'entendo', 'que', 'as', 'respostas', 'irão', 'pender', 'para', 'o', 'lado', 'da', 'física', 'e', 'biologia', 'mas', 'sempre', 'tive', 'essa', 'dúvida', 'porque', 'além', 'de', 'trabalhar', 'com', 'backend', 'trabalho', 'com', 'frontend', 'e', 'isso', 'me', 'ocorre', 'muito', 'frequentemente', 'isso', 'porque', 'o', 'sistema', 'rgb', 'não', 'fecha', 'muito', 'o', 'que', 'aprendemos', 'com', 'a', 'tia', 'de', 'artes', 'na', 'escola', 'então', 'não', 'fica', 'muito', 'intuitivo', 'na', 'hora', 'de', 'chegar', 'em', 'uma', 'cor', 'ao', 'desenhar', 'uma', 'página', 'estou', 'atrás', 'do', 'porque', 'do', 'sistema', 'rgb', 'ser', 'diferente', 'do', 'outro', 'e', 'ele', 'ser', 'o', 'escolhido', 'para', 'ser', 'aplicado', 'em', 'imagens', 'e', 'desenhos', 'de', 'aplicações', 'se', 'não', 'estou', 'enganado', 'é', 'estudado', 'em', 'processamento', 'de', 'imagens', 'tenho', 'uma', 'tabela', 'por', 'exemplo', 'code', 'e', 'gostaria', 'de', 'deletar', 'todas', 'as', 'pessoas', 'acima', 'de', 'anos', 'com', 'o', 'script', 'abaixo', 'faço', 'isso', 'code', 'o', 'problema', 'que', 'existe', 'mais', 'de', 'milhões', 'de', 'registro', 'na', 'tabela', 'com', 'pessoas', 'acima', 'de', 'anos', 'e', 'como', 'o', 'banco', 'esta', 'em', 'produção', 'ao', 'fazer', 'isso', 'vou', 'travar', 'todos', 'os', 'usuários', 'existe', 'uma', 'forma', 'mais', 'eficiente', 'de', 'resolver', 'este', 'problema', 'para', 'um', 'único', 'script', 'a', 'ordem', 'de', 'cargaexecução', 'na', 'presença', 'ou', 'não', 'dos', 'atributos', 'code', 'e', 'code', 'é', 'clara', 'sem', 'nada', 'carrega', 'e', 'executa', 'imediatamente', 'com', 'code', 'carrega', 'em', 'paralelo', 'e', 'executa', 'ao', 'final', 'da', 'carga', 'com', 'code', 'carrega', 'em', 'paralelo', 'e', 'executa', 'ao', 'final', 'da', 'renderização', 'minha', 'dúvida', 'é', 'o', 'que', 'acontece', 'quando', 'há', 'mais', 'de', 'um', 'script', 'na', 'página', 'em', 'especial', 'se', 'o', 'uso', 'ou', 'não', 'dos', 'atributos', 'acima', 'for', 'combinado', 'code', 'pelo', 'meu', 'entendimento', 'podese', 'fazer', 'algumas', 'afirmações', 'com', 'certa', 'segurança', 'corrijamme', 'se', 'eu', 'estiver', 'enganado', 'e', 'executará', 'antes', 'de', 'f', 'a', 'e', 'b', 'executarão', 'depois', 'de', 'e', 'e', 'f', 'c', 'e', 'd', 'podem', 'executar', 'antes', 'ou', 'depois', 'de', 'e', 'e', 'f', 'inclusive', 'entre', 'um', 'e', 'outro', 'd', 'pode', 'executar', 'antes', 'de', 'c', 'se', 'sua', 'carga', 'for', 'mais', 'rápida', 'mas', 'para', 'outras', 'eu', 'não', 'sei', 'a', 'resposta', 'b', 'pode', 'executar', 'antes', 'de', 'a', 'se', 'sua', 'carga', 'for', 'mais', 'rápida', 'ou', 'o', 'code', 'impõe', 'uma', 'ordem', 'aos', 'demais', 'scripts', 'também', 'com', 'code', 'se', 'd', 'for', 'carregado', 'enquanto', 'e', 'está', 'carregando', 'mas', 'não', 'executando', 'ele', 'executará', 'antes', 'de', 'e', 'ou', 'não', 'ie', 'quando', 'a', 'carga', 'de', 'um', 'script', 'síncrono', 'começou', 'é', 'preciso', 'esperar', 'sua', 'execução', 'terminar', 'para', 'executar', 'um', 'script', 'assíncrono', 'c', 'e', 'd', 'podem', 'executar', 'depois', 'de', 'a', 'e', 'b', 'em', 'outras', 'palavras', 'se', 'a', 'carga', 'de', 'c', 'por', 'exemplo', 'demorar', 'demais', 'e', 'tanto', 'a', 'renderização', 'da', 'página', 'quanto', 'a', 'carga', 'de', 'a', 'e', 'b', 'concluírem', 'primeiro', 'estes', 'podem', 'executar', 'imediatamente', 'ou', 'é', 'necessário', 'que', 'todos', 'os', 'scripts', 'code', 'executem', 'antes', 'que', 'qualquer', 'script', 'code', 'execute', 'gostaria', 'de', 'saber', 'se', 'possível', 'o', 'que', 'está', 'especificado', 'em', 'relação', 'à', 'ordem', 'de', 'execução', 'dos', 'scripts', 'e', 'o', 'que', 'pode', 'variar', 'com', 'a', 'implementação', 'sem', 'necessidade', 'de', 'fazer', 'testes', 'embora', 'estes', 'sejam', 'bemvindos', 'como', 'complemento', 'estou', 'estudando', 'javascript', 'e', 'vi', 'algumas', 'explicações', 'que', 'me', 'deixaram', 'com', 'dúvidas', 'aqui', 'no', 'stackoverflow', 'vi', 'várias', 'perguntas', 'sobre', 'a', 'possibilidade', 'de', 'se', 'criar', 'um', 'classe', 'abstrata', 'em', 'javascript', 'porém', 'minha', 'dúvida', 'é', 'a', 'seguinte', 'é', 'possível', 'criar', 'uma', 'classe', 'em', 'javascript', 'estou', 'perguntando', 'isso', 'porque', 'estou', 'usando', 'como', 'guia', 'o', 'site', 'developermozilla', 'encontrei', 'a', 'seguinte', 'informação', 'a', 'javascript', 'é', 'uma', 'linguagem', 'dinâmica', 'orientada', 'a', 'objetos', 'tem', 'tipos', 'e', 'operadores', 'objetos', 'e', 'métodos', 'sua', 'sintaxe', 'vem', 'das', 'linguagens', 'java', 'e', 'c', 'por', 'isso', 'tantas', 'estruturas', 'dessas', 'linguagens', 'se', 'aplicam', 'a', 'javascript', 'também', 'uma', 'das', 'principais', 'diferenças', 'é', 'que', 'o', 'javascript', 'não', 'tem', 'classes', 'em', 'vez', 'disso', 'a', 'funcionalidade', 'de', 'classe', 'é', 'realizada', 'por', 'protótipos', 'de', 'objetos', 'a', 'outra', 'diferença', 'principal', 'é', 'que', 'as', 'funções', 'são', 'objetos', 'dando', 'as', 'funções', 'a', 'capacidade', 'para', 'armazenar', 'código', 'executável', 'e', 'serem', 'passadas', 'como', 'parâmetro', 'para', 'qualquer', 'outro', 'objeto', 'a', 'afirmação', 'em', 'negrito', 'me', 'deixou', 'com', 'essa', 'dúvida', 'pois', 'se', 'trata', 'de', 'uma', 'fonte', 'confiável', 'para', 'estudos', 'o', 'que', 'entendi', 'é', 'que', 'não', 'existem', 'classes', 'mas', 'existem', 'elementos', 'que', 'podem', 'ser', 'usados', 'como', 'classes', 'não', 'sei', 'se', 'essa', 'é', 'a', 'interpretação', 'correta', 'e', 'mais', 'esse', 'mesmo', 'texto', 'diz', 'que', 'o', 'javascript', 'é', 'orientado', 'a', 'objetos', 'então', 'tentei', 'entender', 'o', 'porque', 'da', 'afirmação', 'da', 'não', 'existência', 'de', 'classes', 'estaria', 'por', 'ali', 'vejo', 'muitos', 'colegas', 'de', 'trabalho', 'e', 'profissionais', 'afora', 'que', 'dizem', 'que', 'instanciaram', 'classes', 'em', 'javascript', 'usaram', 'tal', 'classe', 'para', 'tal', 'propósito', 'em', 'javascript', 'com', 'isso', 'quero', 'entender', 'é', 'correto', 'afirmar', 'que', 'existem', 'classes', 'em', 'javascript', 'ou', 'não', 'sempre', 'usei', 'o', 'code', 'independente', 'da', 'situação', 'e', 'sempre', 'funcionou', 'raras', 'vezes', 'que', 'tive', 'que', 'usar', 'um', 'dos', 'outros', 'e', 'nessas', 'vezes', 'fiz', 'por', 'orientação', 'de', 'alguém', 'e', 'não', 'por', 'saber', 'exatamente', 'o', 'que', 'eu', 'tinha', 'que', 'fazer', 'então', 'qual', 'a', 'diferença', 'entre', 'os', 'tipo', 'de', 'this', 'quando', 'devo', 'usar', 'um', 'e', 'quando', 'devo', 'usar', 'outro', 'muda', 'de', 'alguma', 'forma', 'a', 'performance', 'do', 'código', 'afinal', 'como', 'funciona', 'esse', 'padrão', 'de', 'arquitetura', 'seguindo', 'as', 'camadas', 'model', 'view', 'e', 'controller', 'sei', 'que', 'srp', 'significa', 'princípio', 'da', 'responsabilidade', 'única', 'cada', 'classe', 'deve', 'ser', 'responsável', 'por', 'tal', 'coisa', 'o', 'que', 'devo', 'fazer', 'pra', 'detectar', 'que', 'estou', 'violando', 'o', 'srp', 'o', 'que', 'devo', 'levar', 'em', 'consideração', 'para', 'aplicálo', 'corretamente', 'uso', 'com', 'moderação', 'uma', 'dúvida', 'de', 'como', 'exemplo', 'estou', 'desenvolvendo', 'o', 'framework', 'na', 'parte', 'referente', 'à', 'biblioteca', 'da', 'code', 'sempre', 'considero', 'esses', 'fatores', 'carrega', 'um', 'arquivo', 'para', 'view', 'carrega', 'os', 'dados', 'da', 'view', 'possibilidade', 'de', 'estender', 'essa', 'view', 'possibilidade', 'de', 'criar', 'blocos', 'para', 'a', 'view', 'em', 'cada', 'um', 'desses', 'casos', 'devo', 'me', 'preocupar', 'em', 'criar', 'uma', 'classe', 'que', 'faça', 'o', 'que', 'é', 'pretendido', 'code', 'code', 'code', 'code', 'ou', 'jogo', 'tudo', 'na', 'classe', 'code', 'se', 'considerar', 'jogar', 'tudo', 'na', 'classe', 'code', 'estaria', 'violando', 'o', 'srp', 'tenho', 'uma', 'listagem', 'de', 'status', 'que', 'é', 'exibida', 'e', 'cada', 'status', 'tem', 'uma', 'cor', 'atribuída', 'essas', 'cores', 'estão', 'salvas', 'no', 'meu', 'banco', 'de', 'dados', 'em', 'formato', 'hexadecimal', 'exemplo', 'code', 'eu', 'estou', 'com', 'um', 'pequeno', 'problema', 'se', 'a', 'cor', 'for', 'escura', 'demais', 'pelo', 'fato', 'da', 'mesma', 'ser', 'usada', 'para', 'code', 'a', 'cor', 'do', 'texto', 'tornase', 'ilegível', 'então', 'eu', 'queria', 'saber', 'se', 'tem', 'alguma', 'forma', 'de', 'descobrir', 'se', 'a', 'cor', 'é', 'escura', 'para', 'quando', 'for', 'escura', 'eu', 'determinar', 'que', 'a', 'cor', 'do', 'texto', 'será', 'branco', 'e', 'se', 'for', 'clara', 'preto', 'tem', 'como', 'fazer', 'isso', 'nota', 'a', 'solução', 'pode', 'ser', 'tanto', 'em', 'javascript', 'como', 'em', 'php', 'me', 'parece', 'que', 'o', 'conceito', 'de', 'protótipo', 'é', 'fundamental', 'em', 'javascript', 'e', 'inclusive', 'em', 'vários', 'lugares', 'tenho', 'lido', 'que', 'é', 'um', 'de', 'seus', 'pontos', 'fortes', 'entretanto', 'este', 'não', 'parece', 'um', 'conceito', 'tão', 'simples', 'de', 'entender', 'para', 'quem', 'vem', 'de', 'outras', 'linguagens', 'assim', 'pergunto', 'como', 'funcionam', 'protótipos', 'em', 'javascript', 'sei', 'que', 'em', 'no', 'primeiro', 'o', 'objeto', 'passado', 'como', 'argumento', 'para', 'uma', 'função', 'é', 'copiado', 'e', 'no', 'segundo', 'não', 'também', 'sei', 'que', 'é', 'extremamente', 'incomum', 'em', 'linguagens', 'modernas', 'a', 'passagem', 'de', 'objetos', 'complexos', 'por', 'valor', 'enquanto', 'tipos', 'primitivos', 'números', 'caracteres', 'booleanos', 'frequentemente', 'o', 'são', 'mas', 'o', 'que', 'exatamente', 'são', 'esses', 'modos', 'de', 'passagem', 'leio', 'muito', 'que', 'em', 'java', 'as', 'referências', 'são', 'passadas', 'por', 'valor', 'e', 'vejo', 'também', 'que', 'há', 'linguagens', 'modernas', 'como', 'c', 'que', 'dão', 'mais', 'opções', 'de', 'passagem', 'de', 'parâmetros', 'que', 'a', 'maioria', 'das', 'linguagens', 'orientadas', 'por', 'objeto', 'o', 'que', 'gostaria', 'que', 'fosse', 'explicado', 'é', 'na', 'passagem', 'por', 'valor', 'o', 'argumento', 'é', 'copiado', 'ok', 'mas', 'o', 'que', 'exatamente', 'é', 'copiado', 'o', 'objeto', 'inteiro', 'inclusive', 'todas', 'as', 'suas', 'referências', 'o', 'que', 'constitui', 'uma', 'passagem', 'por', 'referência', 'se', 'a', 'linguagem', 'possui', 'ponteiros', 'passar', 'um', 'ponteiro', 'para', 'um', 'objeto', 'como', 'argumento', 'significa', 'que', 'se', 'está', 'passando', 'o', 'objeto', 'por', 'referência', 'o', 'que', 'significa', 'exatamente', 'passar', 'uma', 'referência', 'por', 'valor', 'volta', 'aqui', 'o', 'primeiro', 'item', 'o', 'que', 'da', 'referência', 'está', 'sendo', 'copiado', 'já', 'que', 'a', 'passagem', 'é', 'por', 'valor', 'para', 'não', 'ficar', 'muito', 'amplo', 'se', 'é', 'que', 'já', 'não', 'está', 'peço', 'que', 'as', 'respostas', 'se', 'foquem', 'nas', 'linguagens', 'cc', 'tradicionais', 'que', 'introduziram', 'a', 'muitos', 'de', 'nós', 'os', 'conceitos', 'envolvidos', 'java', 'que', 'pelo', 'menos', 'pra', 'mim', 'marcou', 'a', 'mudança', 'de', 'paradigma', 'entre', 'raciocinar', 'em', 'termos', 'de', 'ponteiros', 'e', 'em', 'termos', 'de', 'referências', 'e', 'talvez', 'c', 'linguagem', 'moderna', 'que', 'se', 'não', 'me', 'engano', 'trouxe', 'mais', 'flexibilidade', 'nas', 'formas', 'de', 'manipular', 'objetos', 'estou', 'construindo', 'um', 'parser', 'para', 'uma', 'linguagem', 'de', 'programação', 'a', 'gramática', 'não', 'precisa', 'atender', 'todas', 'as', 'complexidades', 'de', 'uma', 'linguagem', 'como', 'c', 'ou', 'lisp', 'tenho', 'um', 'conhecimento', 'moderado', 'sobre', 'construção', 'de', 'linguagens', 'mas', 'pouca', 'experiência', 'com', 'as', 'ferramentas', 'e', 'metodologias', 'para', 'implementálas', 'tenho', 'uma', 'noção', 'como', 'funciona', 'um', 'parser', 'e', 'quais', 'os', 'algoritmos', 'mais', 'utilizados', 'para', 'isso', 'entre', 'eles', 'pude', 'selecionar', 'dois', 'o', 'll', 'e', 'o', 'lr', 'já', 'estudei', 'o', 'básico', 'sobre', 'eles', 'mas', 'por', 'ter', 'só', 'conhecimento', 'teórico', 'ainda', 'não', 'estou', 'confortável', 'em', 'dizer', 'as', 'vantagens', 'de', 'cada', 'um', 'se', 'você', 'tem', 'experiência', 'com', 'ambos', 'algoritmos', 'construindo', 'um', 'compilador', 'na', 'situação', 'citada', 'acima', 'poderá', 'me', 'ajudar', 'o', 'que', 'eu', 'ganho', 'e', 'o', 'que', 'eu', 'perco', 'quando', 'escolho', 'o', 'parser', 'com', 'algoritmo', 'll', 'ou', 'com', 'algoritmo', 'lr', 'deixei', 'de', 'olhar', 'outros', 'algoritmos', 'importantes', 'que', 'podem', 'ser', 'mais', 'indicados', 'em', 'alguma', 'situação', 'do', 'que', 'os', 'dois', 'citados', 'como', 'se', 'comportam', 'perante', 'a', 'complexidade', 'da', 'gramática', 'facilidade', 'de', 'implementação', 'e', 'manutenção', 'e', 'velocidade', 'de', 'execução', 'não', 'quero', 'saber', 'qual', 'o', 'melhor', 'até', 'porque', 'se', 'um', 'fosse', 'claramente', 'melhor', 'que', 'o', 'outro', 'o', 'último', 'seria', 'citado', 'apenas', 'historicamente', 'isso', 'só', 'eu', 'poderei', 'determinar', 'preciso', 'de', 'subsídios', 'para', 'tomar', 'a', 'minha', 'decisão', 'estava', 'lendo', 'as', 'respostas', 'da', 'pergunta', 'quando', 'usar', 'waterfall', 'e', 'quando', 'usar', 'scrum', 'e', 'me', 'deparei', 'com', 'algo', 'citado', 'pelo', 'usuário', 'utluiz', 'que', 'me', 'deixou', 'com', 'dúvida', 'que', 'é', 'a', 'sequência', 'de', 'desenvolvimento', 'de', 'software', 'requisito', 'análise', 'design', 'implementação', 'teste', 'integração', 'dúvida', 'eu', 'gostaria', 'de', 'uma', 'explicação', 'a', 'respeito', 'de', 'cada', 'passo', 'desta', 'sequência', 'e', 'qual', 'é', 'a', 'finalidade', 'de', 'cada', 'um', 'dos', 'passos', 'como', 'uma', 'linguagem', 'de', 'programação', 'é', 'criada', 'em', 'termos', 'gerais', 'por', 'onde', 'e', 'como', 'funciona', 'a', 'validação', 'das', 'funcionalidades', 'da', 'nova', 'linguagem', 'por', 'exemplo', 'temos', 'a', 'linguagem', 'c', 'ela', 'é', 'complexa', 'e', 'tem', 'bastante', 'conteúdo', 'e', 'utilização', 'mas', 'como', 'chegou', 'até', 'aqui', 'como', 'se', 'iniciou', 'como', 'foi', 'criada', 'estou', 'usando', 'o', 'c', 'só', 'como', 'um', 'exemplo', 'a', 'pergunta', 'é', 'mais', 'geral', 'não', 'quero', 'saber', 'sobre', 'o', 'que', 'é', 'uma', 'linguagem', 'de', 'programação', 'que', 'já', 'tem', 'pergunta', 'sobre', 'isto', 'não', 'quero', 'saber', 'sobre', 'como', 'funciona', 'um', 'compilador', 'e', 'a', 'diferença', 'dele', 'para', 'a', 'linguagem', 'isto', 'já', 'foi', 'perguntado', 'antes', 'estou', 'tentando', 'aplicar', 'um', 'estilo', 'ao', 'meu', 'elemento', 'e', 'definir', 'a', 'importância', 'dele', 'desta', 'maneira', 'code', 'porém', 'não', 'funciona', 'qual', 'seria', 'a', 'maneira', 'correta', 'qual', 'a', 'utilidade', 'da', 'palavrachave', 'reservada', 'code', 'quando', 'e', 'onde', 'é', 'usada', 'contexto', 'fui', 'educado', 'na', 'metodologia', 'do', 'processo', 'unificado', 'sei', 'que', 'agile', 'é', 'muito', 'popular', 'hoje', 'em', 'dia', 'mas', 'tenho', 'pouquíssimo', 'conhecimento', 'do', 'processo', 'entendo', 'a', 'filosofia', 'que', 'mudanças', 'são', 'inevitáveis', 'é', 'melhor', 'se', 'preparar', 'pra', 'lidar', 'bem', 'com', 'elas', 'do', 'que', 'tentar', 'evitálas', 'mas', 'isso', 'não', 'é', 'muito', 'consolo', 'quando', 'sou', 'cobrado', 'a', 'apresentar', 'um', 'orçamento', 'mesmo', 'que', 'inicial', 'para', 'um', 'projeto', 'de', 'desenvolvimento', 'pelo', 'up', 'primeiro', 'se', 'orça', 'a', 'elaboração', 'do', 'projeto', 'conceitual', 'que', 'é', 'uma', 'simples', 'questão', 'de', 'estimar', 'o', 'número', 'de', 'horas', 'necessárias', 'para', 'se', 'levantar', 'e', 'analisar', 'todos', 'os', 'requisitos', 'e', 'com', 'poucas', 'consequências', 'negativas', 'caso', 'se', 'erre', 'no', 'julgamento', 'e', 'com', 'base', 'neste', 'se', 'orça', 'o', 'projeto', 'de', 'implementação', 'na', 'teoria', 'parece', 'tudo', 'muito', 'bom', 'mas', 'me', 'falta', 'experiência', 'prática', 'para', 'corroborar', 'essa', 'afirmação', 'problema', 'sei', 'que', 'a', 'resposta', 'correta', 'para', 'como', 'orçar', 'um', 'projeto', 'de', 'software', 'é', 'depende', 'depende', 'do', 'escopo', 'depende', 'dos', 'requisitos', 'específicos', 'depende', 'do', 'cliente', 'mas', 'o', 'fato', 'é', 'que', 'clientes', 'em', 'potencial', 'demandam', 'no', 'mínimo', 'uma', 'previsão', 'preliminar', 'de', 'prazos', 'e', 'custos', 'e', 'às', 'vezes', 'plataforma', 'antes', 'mesmo', 'dos', 'requisitos', 'serem', 'detalhados', 'minha', 'dificuldade', 'é', 'em', 'estabelecer', 'esses', 'parâmetros', 'iniciais', 'ou', 'mesmo', 'ajustar', 'minhas', 'expectativas', 'sobre', 'o', 'que', 'é', 'ou', 'não', 'realizável', 'na', 'prática', 'pergunta', 'quais', 'parâmetros', 'devo', 'observar', 'para', 'fazer', 'um', 'orçamento', 'inicial', 'ou', 'preliminar', 'para', 'um', 'projeto', 'arbitrário', 'de', 'desenvolvimento', 'mais', 'especificamente', 'devo', 'cobrar', 'pelo', 'levantamento', 'inicial', 'de', 'requisitosdefinição', 'do', 'escopo', 'ou', 'esse', 'é', 'um', 'ônus', 'que', 'terei', 'de', 'assumir', 'e', 'se', 'a', 'resposta', 'for', 'não', 'cobrar', 'devo', 'insistir', 'com', 'o', 'cliente', 'que', 'não', 'é', 'possível', 'orçar', 'nada', 'antes', 'de', 'fazer', 'esse', 'levantamento', 'o', 'cliente', 'não', 'vai', 'gostar', 'uma', 'vez', 'que', 'levantar', 'requisitos', 'exige', 'envolvimento', 'de', 'sua', 'equipe', 'também', 'o', 'que', 'lhe', 'traz', 'custos', 'indiretos', 'antes', 'mesmo', 'de', 'ter', 'a', 'certeza', 'que', 'vai', 'mesmo', 'fechar', 'contrato', 'conosco', 'no', 'caso', 'de', 'um', 'projeto', 'de', 'grande', 'escopo', 'embora', 'ainda', 'bastante', 'indefinido', 'devo', 'separálo', 'em', 'um', 'projeto', 'conceitual', 'e', 'um', 'projeto', 'de', 'implementação', 'ou', 'isso', 'é', 'contraproducente', 'esclarecendo', 'projeto', 'conceitual', 'é', 'aquele', 'em', 'que', 'eu', 'faço', 'levantamento', 'e', 'análise', 'de', 'requisitos', 'sendo', 'que', 'o', 'deliverable', 'é', 'uma', 'especificação', 'mais', 'orçamento', 'para', 'a', 'fase', 'de', 'implementação', 'o', 'projeto', 'de', 'implementação', 'esse', 'já', 'feito', 'com', 'bases', 'mais', 'sólidas', 'pode', 'sim', 'ser', 'flexível', 'em', 'relação', 'a', 'mudanças', 'não', 'precisando', 'seguir', 'a', 'especificação', 'a', 'ferro', 'e', 'fogo', 'mas', 'ainda', 'precisa', 'de', 'uma', 'base', 'para', 'ser', 'orçado', 'e', 'essa', 'base', 'seria', 'conseguida', 'através', 'do', 'projeto', 'conceitual', 'por', 'que', 'seria', 'contraproducente', 'não', 'sei', 'apenas', 'é', 'o', 'que', 'sempre', 'ouço', 'dos', 'proponentes', 'do', 'agile', 'que', 'é', 'besteira', 'fazer', 'projeto', 'de', 'grande', 'escala', 'antes', 'de', 'se', 'começar', 'a', 'implementar', 'ao', 'menos', 'um', 'sprint', 'deveria', 'estar', 'previsto', 'que', 'os', 'requisitos', 'mudam', 'o', 'tempo', 'todo', 'e', 'no', 'final', 'pouco', 'do', 'que', 'foi', 'projetado', 'no', 'início', 'será', 'implementado', 'de', 'fato', 'etc', 'em', 'que', 'termos', 'deve', 'ser', 'feito', 'esse', 'orçamento', 'idealmente', 'mudanças', 'nos', 'requisitos', 'deveriam', 'refletir', 'em', 'mudanças', 'nos', 'prazos', 'e', 'custos', 'nisso', 'a', 'turma', 'do', 'up', 'e', 'a', 'turma', 'do', 'agile', 'concordam', 'mas', 'se', 'contratualmente', 'estou', 'obrigado', 'a', 'entregar', 'x', 'no', 'prazo', 'y', 'mediante', 'pagamento', 'de', 'z', 'não', 'me', 'parece', 'viável', 'haver', 'uma', 'mudança', 'contratual', 'toda', 'vez', 'que', 'se', 'fizer', 'uma', 'renegociação', 'de', 'prazos', 'e', 'custos', 'questões', 'jurídicas', 'à', 'parte', 'já', 'que', 'isso', 'está', 'obviamente', 'fora', 'do', 'escopo', 'do', 'site', 'o', 'que', 'eu', 'pergunto', 'é', 'se', 'é', 'melhor', 'fazer', 'um', 'guesstimate', 'de', 'preferência', 'por', 'cima', 'do', 'custo', 'e', 'ir', 'refinando', 'com', 'o', 'passar', 'do', 'tempo', 'porém', 'comprometido', 'com', 'a', 'conclusão', 'do', 'projeto', 'a', 'todo', 'custo', 'ou', 'se', 'devo', 'estabelecer', 'condições', 'para', 'que', 'na', 'impossibilidade', 'de', 'se', 'continuar', 'o', 'projeto', 'dentro', 'dos', 'prazos', 'e', 'custos', 'estabelecidos', 'o', 'mesmo', 'seja', 'encerrado', 'de', 'comum', 'acordo', 'por', 'ambas', 'as', 'partes', 'como', 'fazer', 'isso', 'é', 'claro', 'é', 'responsabilidade', 'do', 'nosso', 'advogado', 'de', 'preferência', 'gostaria', 'de', 'respostas', 'embasadas', 'em', 'experiência', 'pregressa', 'sei', 'que', 'nem', 'todo', 'desenvolvedor', 'está', 'diretamente', 'envolvido', 'com', 'esse', 'tipo', 'de', 'questão', 'mas', 'ao', 'menos', 'os', 'que', 'ocupam', 'uma', 'posição', 'de', 'liderança', 'já', 'devem', 'ter', 'tido', 'que', 'fazer', 'estimativas', 'sob', 'bases', 'incertas', 'e', 'para', 'não', 'ficar', 'muito', 'amplo', 'o', 'ponto', 'central', 'da', 'pergunta', 'é', 'o', 'quanto', 'eu', 'devo', 'assumir', 'de', 'ônus', 'ao', 'estabelecer', 'um', 'escopopreparar', 'uma', 'proposta', 'de', 'graça', 'e', 'quais', 'são', 'os', 'parâmetros', 'mínimos', 'que', 'eu', 'preciso', 'coletar', 'antes', 'de', 'dizer', 'a', 'partir', 'daqui', 'só', 'me', 'pagando', 'em', 'geral', 'classes', 'possuem', 'métodos', 'construtores', 'qual', 'a', 'utilidade', 'do', 'método', 'construtor', 'de', 'uma', 'classe', 'por', 'que', 'devemos', 'criálo', 'dá', 'para', 'trabalhar', 'sem', 'ele', 'quais', 'problemas', 'um', 'programa', 'poderá', 'enfrentar', 'com', 'o', 'uso', 'de', 'estados', 'globais', 'onde', 'ele', 'pode', 'ser', 'aceitável', 'ou', 'seja', 'como', 'saber', 'se', 'estou', 'abusando', 'do', 'recurso', 'que', 'alternativas', 'existem', 'para', 'evitar', 'isto', 'eu', 'já', 'passei', 'perto', 'do', 'assunto', 'na', 'pergunta', 'por', 'que', 'no', 'devemos', 'usar', 'singleton', 'e', 'de', 'certa', 'forma', 'motivou', 'esta', 'nova', 'pergunta', 'para', 'aceder', 'a', 'uma', 'área', 'em', 'particular', 'do', 'site', 'tenho', 'que', 'indicar', 'de', 'um', 'a', 'três', 'parâmetros', 'no', 'url', 'url', 'normal', 'code', 'através', 'do', 'htaccess', 'estou', 'a', 'tentar', 'permitir', 'acesso', 'aos', 'módulos', 'submódulos', 'e', 'conteúdos', 'específicos', 'da', 'seguinte', 'forma', 'code', 'até', 'ao', 'momento', 'tenho', 'o', 'seguinte', 'o', 'código', 'em', 'baixo', 'permiteme', 'aceder', 'ao', 'módulo', 'mas', 'tenho', 'que', 'o', 'repetir', 'por', 'cada', 'módulo', 'existente', 'faltando', 'ainda', 'lidar', 'com', 'submódulos', 'e', 'conteúdos', 'específicos', 'code', 'pergunta', 'como', 'é', 'que', 'consigo', 'através', 'do', 'code', 'ler', 'os', 'endereços', 'para', 'que', 'possam', 'ser', 'utilizados', 'de', 'ambas', 'as', 'maneiras', 'em', 'cima', 'apresentadas', 'tendo', 'em', 'conta', 'os', 'três', 'possíveis', 'parâmetros', 'eu', 'geralmente', 'uso', 'porque', 'aprendi', 'que', 'era', 'o', 'mais', 'correto', 'a', 'atribuição', 'de', 'eventos', 'da', 'seguinte', 'forma', 'code', 'no', 'entanto', 'vejo', 'muitos', 'desenvolvedores', 'utilizando', 'a', 'seguinte', 'sintaxe', 'code', 'apesar', 'de', 'terem', 'me', 'falado', 'que', 'o', 'code', 'é', 'o', 'mais', 'recomendado', 'eu', 'não', 'entendi', 'direito', 'o', 'porquê', 'então', 'na', 'prática', 'qual', 'a', 'diferença', 'de', 'usar', 'um', 'ou', 'outro', 'como', 'inverter', 'uma', 'string', 'em', 'javascript', 'por', 'exemplo', 'entrada', 'alguma', 'coisa', 'aqui', 'saída', 'iuqa', 'asioc', 'amugla', 'quando', 'comecei', 'a', 'usar', 'linq', 'vi', 'que', 'poderia', 'usar', 'as', 'famosas', 'lambda', 'expressions', 'até', 'sei', 'que', 'code', 'é', 'uma', 'lambda', 'expression', 'mas', 'não', 'consegui', 'explicar', 'para', 'um', 'colega', 'o', 'que', 'realmente', 'são', 'e', 'qual', 'a', 'vantagem', 'em', 'usálas', 'então', 'vos', 'pergunto', 'o', 'que', 'são', 'lambda', 'expressions', 'e', 'qual', 'a', 'sacada', 'em', 'usálas', 'vejo', 'isso', 'em', 'alguns', 'arquivos', 'javascript', 'code', 'para', 'que', 'serve', 'e', 'como', 'funciona', 'estou', 'tentando', 'fazer', 'um', 'code', 'personalizado', 'para', 'um', 'userscript', 'vide', 'how', 'can', 'i', 'log', 'information', 'without', 'using', 'alert', 'in', 'userscripts', 'e', 'me', 'dei', 'conta', 'que', 'não', 'conheço', 'o', 'que', 'está', 'por', 'trás', 'do', 'code', 'já', 'vi', 'programas', 'assim', 'code', 'e', 'outros', 'assim', 'code', 'o', 'segundo', 'código', 'vai', 'consumir', 'mais', 'processamento', 'sou', 'iniciante', 'em', 'php', 'e', 'gostaria', 'de', 'saber', 'se', 'pdophp', 'data', 'objects', 'é', 'a', 'maneira', 'mais', 'segura', 'de', 'se', 'conectar', 'a', 'um', 'banco', 'de', 'dados', 'preciso', 'também', 'de', 'um', 'exemplo', 'de', 'como', 'fazer', 'esta', 'conexão', 'e', 'inserirselecionar', 'dados', 'o', 'que', 'é', 'escopo', 'o', 'que', 'é', 'tempo', 'de', 'vida', 'eles', 'se', 'confundem', 'visibilidade', 'tem', 'alguma', 'coisa', 'a', 'ver', 'com', 'isto', 'também', 'distinct', 'a', 'instrução', 'select', 'distinct', 'é', 'usada', 'para', 'retornar', 'apenas', 'valores', 'distintos', 'diferentes', 'dentro', 'de', 'uma', 'tabela', 'uma', 'coluna', 'geralmente', 'contém', 'muitos', 'valores', 'duplicados', 'e', 'às', 'vezes', 'você', 'só', 'deseja', 'listar', 'os', 'diferentes', 'valores', 'distintos', 'sintaxe', 'code', 'group', 'by', 'a', 'instrução', 'group', 'by', 'geralmente', 'é', 'usada', 'com', 'funções', 'agregadas', 'count', 'max', 'min', 'sum', 'avg', 'para', 'agrupar', 'o', 'conjunto', 'de', 'resultados', 'por', 'uma', 'ou', 'mais', 'colunas', 'sintaxe', 'code', 'code', 'retorna', 'valores', 'diferentes', 'valores', 'agrupadoscode', 'também', 'ficam', 'distintosdiferentes', 'para', 'demonstrar', 'que', 'os', 'mesmo', 'resultados', 'são', 'retornados', 'usando', 'ambas', 'as', 'declarações', 'eu', 'fiz', 'um', 'teste', 'sql', 'fiddle', 'algumas', 'dúvidas', 'qual', 'a', 'diferença', 'entre', 'ambas', 'as', 'declarações', 'além', 'da', 'sintaxe', 'em', 'relação', 'ao', 'desempenho', 'existem', 'diferenças', 'existe', 'alguma', 'possibilidadeexemplo', 'na', 'prática', 'em', 'que', 'o', 'uso', 'das', 'declarações', 'é', 'necessária', 'poderiam', 'dar', 'exemplos', 'de', 'uso', 'ideal', 'de', 'cada', 'uma', 'das', 'declarações', 'pode', 'parecer', 'bobagem', 'mas', 'esses', 'tipos', 'de', 'declarações', 'confundem', 'as', 'pessoas', 'e', 'apesar', 'de', 'não', 'parecerem', 'o', 'uso', 'de', 'ambos', 'trazem', 'resultados', 'iguais', 'geralmente', 'quando', 'precisamos', 'recorrer', 'à', 'requisições', 'ajax', 'usando', 'javascript', 'temos', 'à', 'mão', 'apis', 'que', 'nos', 'auxiliam', 'com', 'isso', 'ex', 'jquery', 'porém', 'qual', 'seria', 'a', 'maneira', 'mais', 'segura', 'e', 'crossbrowser', 'de', 'realizar', 'essas', 'requisições', 'post', 'e', 'get', 'usando', 'javascript', 'puro', 'algumas', 'linguagens', 'como', 'c', 'ainda', 'possuem', 'a', 'instrução', 'code', 'sempre', 'ouvi', 'que', 'utilizála', 'não', 'é', 'uma', 'boa', 'prática', 'eu', 'gostaria', 'de', 'saber', 'quais', 'seriam', 'as', 'razões', 'para', 'evitar', 'o', 'code', 'e', 'quais', 'os', 'problemas', 'causados', 'por', 'sua', 'utilização', 'code', 'ainda', 'existe', 'por', 'compatibilidade', 'ou', 'para', 'casos', 'muito', 'restritos', 'de', 'utilização', 'se', 'eu', 'tenho', 'um', 'array', 'ou', 'uma', 'coleção', 'em', 'um', 'code', 'e', 'preciso', 'percorrer', 'seus', 'elementos', 'ocasionalmente', 'preciso', 'fazer', 'uso', 'de', 'laço', 'de', 'repetição', 'ex', 'code', 'ou', 'no', 'caso', 'de', 'um', 'array', 'simples', 'code', 'porém', 'já', 'vi', 'em', 'alguns', 'fóruns', 'dizerem', 'que', 'informar', 'o', 'tamanho', 'fora', 'da', 'condição', 'do', 'laço', 'é', 'melhor', 'pois', 'à', 'cada', 'iteração', 'o', 'laço', 'não', 'precisa', 'ficar', 'verificando', 'o', 'tamanho', 'da', 'lista', 'e', 'consequentemente', 'tornando', 'rápido', 'algo', 'como', 'code', 'existe', 'mesmo', 'essa', 'diferença', 'de', 'performance', 'entre', 'se', 'informar', 'o', 'tamanho', 'da', 'lista', 'fora', 'ou', 'na', 'própria', 'condição', 'do', 'laço', 'não', 'encontrei', 'os', 'links', 'no', 'momento', 'onde', 'o', 'código', 'javascript', 'deve', 'ser', 'colocado', 'em', 'um', 'documento', 'html', 'no', 'elemento', 'code', 'ou', 'code', 'no', 'início', 'ou', 'no', 'final', 'de', 'cada', 'um', 'existe', 'alguma', 'diferença', 'de', 'performance', 'ou', 'qualquer', 'outra', 'relacionada', 'a', 'isso', 'quais', 'as', 'principais', 'diferenças', 'entre', 'as', 'engines', 'code', 'e', 'code', 'e', 'qual', 'a', 'situação', 'mais', 'apropriada', 'para', 'o', 'uso', 'de', 'cada', 'sei', 'que', 'code', 'não', 'suporta', 'code', 'mas', 'suporta', 'code', 'enquanto', 'no', 'code', 'é', 'o', 'contrário', 'pelo', 'menos', 'até', 'a', 'versão', 'do', 'mysql', 'por', 'que', 'um', 'sgbdr', 'rdbms', 'tem', 'como', 'padrão', 'uma', 'engine', 'que', 'não', 'oferece', 'meios', 'para', 'relacionar', 'as', 'tabelas', 'tenho', 'essa', 'dúvida', 'qual', 'a', 'diferença', 'entre', 'code', 'e', 'code', 'e', 'entre', 'code', 'e', 'code', 'qual', 'deles', 'devo', 'usar', 'o', 'que', 'seria', 'esse', 'code', 'como', 'evitálo', 'vejo', 'pela', 'internet', 'uma', 'série', 'de', 'artigos', 'com', 'títulos', 'como', 'setinterval', 'is', 'bad', 'que', 'traduzindo', 'seria', 'setinterval', 'é', 'ruím', 'vi', 'recomendações', 'de', 'usar', 'uma', 'função', 'anônima', 'recursiva', 'com', 'um', 'code', 'por', 'ser', 'aparentemente', 'melhor', 'que', 'o', 'uso', 'de', 'code', 'exemplificando', 'com', 'code', 'code', 'exemplificando', 'com', 'função', 'recursiva', 'e', 'code', 'code', 'por', 'que', 'dizem', 'isso', 'exemplo', 'no', 'jsfiddle', 'a', 'ª', 'imagem', 'utilizo', 'o', 'charsetiso', 'nesta', 'ª', 'imagem', 'utilizo', 'o', 'utf', 'tenho', 'um', 'sistema', 'de', 'notícias', 'em', 'que', 'é', 'possível', 'colar', 'html', 'ou', 'texto', 'de', 'outras', 'páginas', 'na', 'página', 'em', 'que', 'as', 'noticias', 'são', 'apresentadas', 'utilizo', 'o', 'code', 'por', 'causa', 'da', 'acentuação', 'mas', 'ao', 'utilizar', 'este', 'charset', 'os', 'menus', 'e', 'restantes', 'títulos', 'ficam', 'alterados', 'devido', 'à', 'acentuçao', 'precisava', 'da', 'vossa', 'ajuda', 'para', 'saber', 'se', 'é', 'possivel', 'ter', 'dois', 'metas', 'charset', 'na', 'mesma', 'página', 'ou', 'numa', 'parte', 'da', 'página', 'ou', 'outra', 'forma', 'de', 'contornar', 'a', 'situção', 'para', 'além', 'disso', 'tenho', 'dois', 'ficheiros', 'de', 'conexao', 'code', 'mysqlphp', 'code', 'fiz', 'um', 'campo', 'de', 'email', 'para', 'o', 'usuário', 'se', 'cadastrar', 'e', 'agora', 'preciso', 'de', 'um', 'sistema', 'que', 'verifique', 'se', 'esse', 'email', 'existe', 'eu', 'preciso', 'que', 'quando', 'o', 'usuário', 'digite', 'seu', 'email', 'um', 'sistema', 'verifique', 'se', 'ele', 'existe', 'se', 'ele', 'possui', 'mesmo', 'esse', 'email', 'por', 'exemplo', 'o', 'usuário', 'digita', 'code', 'aí', 'aparecerá', 'do', 'lado', 'email', 'válido', 'ou', 'email', 'inválido', 'já', 'pesquisei', 'sistema', 'de', 'validação', 'de', 'emails', 'mas', 'não', 'aparecem', 'resultados', 'concretos', 'será', 'que', 'alguém', 'pode', 'me', 'ajudar', 'o', 'fato', 'de', 'uma', 'função', 'ser', 'maior', 'ou', 'menor', 'afeta', 'a', 'performance', 'da', 'aplicação', 'especialmente', 'em', 'php', 'se', 'precisar', 'de', 'performance', 'seria', 'melhor', 'funções', 'grandes', 'ou', 'pequenas', 'e', 'o', 'consumo', 'de', 'memória', 'é', 'afetado', 'se', 'uma', 'função', 'grande', 'dá', 'lugar', 'a', 'diversas', 'funções', 'pequenas', 'muitas', 'pessoas', 'falam', 'sobre', 'o', 'que', 'é', 'null', 'mas', 'afinal', 'qual', 'é', 'o', 'seu', 'verdadeiro', 'significado', 'no', 'contexto', 'do', 'desenvolvimento', 'de', 'software', 'o', 'que', 'é', 'um', 'jitter', 'cada', 'vez', 'se', 'fala', 'mais', 'nisso', 'e', 'várias', 'linguagens', 'estão', 'usando', 'a', 'tão', 'falada', 'compilação', 'jit', 'no', 'que', 'ele', 'difere', 'de', 'um', 'compilador', 'estive', 'pensando', 'em', 'um', 'algoritmo', 'contra', 'ataques', 'do', 'tipo', 'bruteforce', 'que', 'como', 'vimos', 'no', 'caso', 'do', 'icloud', 'pode', 'gerar', 'grandes', 'dores', 'de', 'cabeça', 'se', 'tratado', 'com', 'indiferença', 'inicialmente', 'eu', 'pensei', 'neste', 'fluxo', 'tentativa', 'de', 'login', 'code', 'darr', 'code', 'darr', 'code', 'darr', 'code', 'code', 'darr', 'code', 'darr', 'code', 'code', 'uma', 'verificação', 'apenas', 'com', 'sessões', 'seria', 'suficiente', 'ou', 'valeria', 'a', 'pena', 'adicionar', 'cookies', 'ou', 'algum', 'outro', 'método', 'de', 'checagem', 'eu', 'já', 'li', 'e', 'reli', 'no', 'wikipédia', 'já', 'assisti', 'uns', 'videos', 'em', 'inglês', 'e', 'em', 'português', 'sobre', 'esse', 'assunto', 'já', 'li', 'vários', 'artigos', 'no', 'google', 'mas', 'não', 'consigo', 'entender', 'por', 'que', 'ela', 'entraria', 'num', 'loop', 'infinito', 'ou', 'por', 'que', 'ela', 'pararia', 'todas', 'as', 'explicações', 'usando', 'a', 'contradição', 'não', 'fazem', 'sentido', 'na', 'minha', 'cabeça', 'por', 'favor', 'sem', 'termos', 'técnicos', 'me', 'ajude', 'com', 'lógica', 'simples', 'a', 'entender', 'quais', 'as', 'diferenças', 'prós', 'e', 'contras', 'entre', 'code', 'e', 'code', 'sei', 'que', 'code', 'e', 'code', 'são', 'bibliotecas', 'a', 'primeira', 'é', 'dinâmica', 'e', 'a', 'segunda', 'é', 'estática', 'mas', 'o', 'que', 'isso', 'realmente', 'quer', 'dizer', 'como', 'cada', 'uma', 'funciona', 'se', 'eu', 'tiver', 'que', 'gerar', 'uma', 'biblioteca', 'a', 'partir', 'de', 'um', 'código', 'o', 'que', 'eu', 'devo', 'ter', 'em', 'mente', 'para', 'decidir', 'se', 'eu', 'faço', 'uma', 'code', 'ou', 'uma', 'code', 'estou', 'iniciando', 'os', 'estudos', 'em', 'c', 'e', 'estou', 'com', 'dúvida', 'se', 'a', 'linguagem', 'é', 'compilada', 'ou', 'interpretada', 'minha', 'dúvida', 'surge', 'porque', 'ouvi', 'em', 'uma', 'palestra', 'dizer', 'que', 'é', 'compilada', 'e', 'outros', 'dizendo', 'que', 'é', 'interpretada', 'existe', 'diferença', 'entre', 'code', 'além', 'de', 'um', 'ser', 'javascript', 'e', 'o', 'outro', 'ser', 'jquery', 'vejo', 'que', 'ambos', 'os', 'eventos', 'são', 'disparados', 'assim', 'que', 'o', 'dom', 'modelo', 'de', 'objetos', 'do', 'documento', 'é', 'carregado', 'na', 'prática', 'como', 'são', 'escritos', 'code', 'como', 'eu', 'posso', 'centralizar', 'horizontalmente', 'uma', 'code', 'que', 'está', 'dentro', 'de', 'outra', 'code', 'utilizando', 'apenas', 'css', 'no', 'caso', 'podemos', 'assumir', 'que', 'code', 'externa', 'code', 'tem', 'a', 'largura', 'de', 'code', 'o', 'que', 'é', 'o', 'php', 'injection', 'qual', 'a', 'diferença', 'dele', 'para', 'o', 'sql', 'injection', 'como', 'evitar', 'o', 'php', 'injection', 'na', 'minha', 'aplicação', 'quais', 'são', 'as', 'principais', 'formas', 'de', 'ataque', 'do', 'tipo', 'php', 'injection', 'atualização', 'observação', 'lembrando', 'que', 'o', 'sql', 'injection', 'não', 'é', 'a', 'mesma', 'coisa', 'que', 'o', 'php', 'injection', 'code', 'injection', 'in', 'php', 'what', 'is', 'sql', 'injection', 'em', 'orientação', 'a', 'objetos', 'qual', 'é', 'o', 'significado', 'de', 'uma', 'classe', 'abstrata', 'qual', 'é', 'a', 'sua', 'finalidade', 'hoje', 'um', 'dos', 'sites', 'da', 'empresa', 'na', 'qual', 'trabalho', 'foi', 'hackeado', 'assim', 'como', 'vários', 'outros', 'que', 'estão', 'com', 'métodos', 'arcaicos', 'de', 'desenvolvimento', 'e', 'cheios', 'de', 'falhas', 'de', 'segurança', 'a', 'pessoa', 'que', 'invadiu', 'deixou', 'além', 'de', 'uma', 'index', 'modificada', 'o', 'seguinte', 'código', 'em', 'um', 'outro', 'arquivo', 'e', 'me', 'interessei', 'em', 'entender', 'o', 'por', 'que', 'code', 'alguem', 'tem', 'ideia', 'da', 'utilidade', 'disso', 'o', 'que', 'é', 'oauth', 'qual', 'sua', 'finalidade', 'o', 'que', 'ele', 'faz', 'existe', 'outras', 'tecnologias', 'alternativas', 'a', 'ele', 'em', 'c', 'quando', 'preciso', 'verificar', 'se', 'uma', 'variável', 'é', 'de', 'determinado', 'tipo', 'normalmente', 'uso', 'o', 'operador', 'code', 'code', 'sei', 'que', 'também', 'é', 'possível', 'verificar', 'o', 'tipo', 'de', 'uma', 'variável', 'de', 'outras', 'formas', 'uma', 'delas', 'é', 'usando', 'code', 'code', 'qual', 'a', 'diferença', 'entre', 'esses', 'dois', 'operadores', 'existem', 'outros', 'que', 'façam', 'a', 'mesma', 'coisa', 'mas', 'com', 'uma', 'pequena', 'diferença', 'ainda', 'uso', 'apenas', 'o', 'code', 'mas', 'procurei', 'e', 'não', 'encontrei', 'um', 'exemplo', 'mesmo', 'que', 'mínimo', 'em', 'português', 'que', 'fale', 'sobre', 'o', 'aspnet', 'identity', 'para', 'o', 'mvc', 'estou', 'usando', 'o', 'aspnet', 'mvc', 'e', 'o', 'entityframework', 'gostaria', 'de', 'aprender', 'sobre', 'o', 'aspnet', 'identity', 'mas', 'estou', 'tendo', 'dificuldade', 'em', 'enteder', 'o', 'template', 'mvc', 'com', 'code', 'alguém', 'poderia', 'dar', 'um', 'exemplo', 'básico', 'para', 'não', 'ser', 'amplo', 'e', 'não', 'fugir', 'do', 'escopo', 'do', 'sopt', 'partindo', 'do', 'template', 'web', 'mvc', 'sem', 'autenticação', 'code', 'há', 'tempos', 'tomei', 'conhecimento', 'da', 'existência', 'da', 'linguagem', 'kotlin', 'sei', 'que', 'necessita', 'da', 'jvm', 'para', 'correr', 'e', 'que', 'é', 'completamente', 'interoperável', 'com', 'java', 'na', 'altura', 'não', 'lhe', 'dei', 'muita', 'atenção', 'mas', 'agora', 'com', 'a', 'possibilidade', 'do', 'android', 'studio', 'lhe', 'vir', 'a', 'dar', 'suporte', 'nativo', 'o', 'meu', 'interesse', 'por', 'ela', 'cresceu', 'assim', 'quais', 'são', 'as', 'principais', 'diferenças', 'entre', 'elas', 'o', 'que', 'o', 'kotlin', 'pode', 'oferecerresolvermelhorar', 'em', 'relação', 'ao', 'java', 'estou', 'interessado', 'em', 'criar', 'sites', 'com', 'animação', 'comandada', 'pelo', 'scroll', 'ex', 'kano', 'onde', 'os', 'conteúdos', 'vão', 'sendo', 'animados', 'e', 'substituídos', 'conforme', 'o', 'rolamento', 'da', 'página', 'quais', 'são', 'as', 'técnicas', 'para', 'facilitar', 'esse', 'tipo', 'de', 'programação', 'sempre', 'quis', 'saber', 'como', 'funcionam', 'closures', 'em', 'javascript', 'já', 'li', 'algumas', 'definições', 'mas', 'nunca', 'entendi', 'muito', 'bem', 'vocês', 'poderiam', 'me', 'dar', 'uma', 'explicação', 'simples', 'objetiva', 'mas', 'com', 'conteúdo', 'existe', 'diferença', 'de', 'performance', 'entre', 'utilizar', 'um', 'if', 'e', 'um', 'operador', 'ternário', 'em', 'c', 'utilizo', 'resharper', 'ferramenta', 'de', 'produtividade', 'para', 'o', 'vs', 'ele', 'insiste', 'que', 'o', 'operador', 'ternário', 'é', 'melhor', 'mas', 'não', 'me', 'explica', 'o', 'porque', 'código', 'antes', 'do', 'refactoring', 'code', 'depois', 'code', 'sei', 'que', 'um', 'elemento', 'dentro', 'com', 'posição', 'code', 'não', 'respeita', 'os', 'limites', 'da', 'div', 'pai', 'e', 'que', 'code', 'respeita', 'e', 'teoricamente', 'se', 'posiciona', 'em', 'relação', 'a', 'si', 'minhas', 'duvidas', 'basicamente', 'são', 'um', 'elemento', 'code', 'deixa', 'de', 'respeitar', 'apenas', 'os', 'limites', 'da', 'div', 'pai', 'mas', 'se', 'alinha', 'com', 'a', 'div', 'anterior', 'ou', 'só', 'com', 'o', 'body', 'quando', 'e', 'por', 'que', 'usar', 'um', 'elemento', 'code', 'dentro', 'de', 'um', 'code', 'ou', 'viceversa', 'quando', 'é', 'apropriado', 'utilizar', 'um', 'ou', 'outro', 'talvez', 'eu', 'me', 'integre', 'a', 'uma', 'equipe', 'para', 'desenvolver', 'um', 'novo', 'projeto', 'o', 'líder', 'já', 'tomou', 'algumas', 'decisões', 'entre', 'elas', 'que', 'as', 'regras', 'de', 'negócio', 'estarão', 'no', 'banco', 'de', 'dados', 'em', 'procedures', 'e', 'views', 'triggers', 'etc', 'ao', 'tomar', 'conhecimento', 'disto', 'minha', 'primeira', 'reação', 'foi', 'negativa', 'estou', 'acostumado', 'com', 'regras', 'de', 'negócio', 'na', 'camada', 'de', 'aplicação', 'e', 'não', 'me', 'parece', 'uma', 'boa', 'ideia', 'que', 'fiquem', 'no', 'banco', 'de', 'dados', 'porém', 'o', 'fato', 'é', 'que', 'eu', 'realmente', 'não', 'sei', 'tampouco', 'tenho', 'experiência', 'com', 'essa', 'arquitetura', 'por', 'isso', 'pergunto', 'quais', 'as', 'vantagens', 'quais', 'as', 'desvantagens', 'é', 'uma', 'boa', 'prática', 'é', 'uma', 'má', 'ideia', 'o', 'operador', 'code', 'diz', 'que', 'as', 'strings', 'são', 'diferentes', 'sendo', 'que', 'elas', 'armazenam', 'o', 'mesmo', 'valor', 'literal', 'veja', 'o', 'exemplo', 'code', 'resultado', 'code', 'como', 'fazer', 'para', 'comparar', 'o', 'valor', 'literal', 'das', 'strings', 'sei', 'que', 'essa', 'pergunta', 'é', 'bastante', 'corriqueira', 'e', 'é', 'fácil', 'encontrar', 'a', 'resposta', 'porém', 'eu', 'gostaria', 'de', 'uma', 'resposta', 'funcional', 'eu', 'já', 'vi', 'bastante', 'coisa', 'sobre', 'mas', 'nada', 'entra', 'na', 'minha', 'cachola', 'gostaria', 'de', 'algo', 'mais', 'prático', 'algo', 'que', 'realmente', 'faça', 'sentido', 'sempre', 'que', 'busco', 'estudar', 'sobre', 'me', 'deparo', 'com', 'um', 'monte', 'de', 'fórmulas', 'doidas', 'e', 'explicações', 'superficiais', 'poderiam', 'por', 'favor', 'me', 'explicar', 'como', 'implementar', 'isto', 'na', 'prática', 'ou', 'pelo', 'menos', 'um', 'link', 'com', 'um', 'exemplo', 'funcional', 'sem', 'aquele', 'monte', 'de', 'fórmulas', 'doidas', 'que', 'sei', 'que', 'é', 'necessário', 'mas', 'que', 'não', 'ajuda', 'muito', 'de', 'início', 'quero', 'uma', 'explicação', 'simples', 'de', 'como', 'funciona', 'na', 'prática', 'e', 'não', 'esse', 'monte', 'de', 'o', 'neurônio', 'x', 'faz', 'isso', 'o', 'evento', 'de', 'ativação', 'de', 'onde', 'vem', 'o', 'neurônio', 'como', 'implementar', 'o', 'que', 'é', 'esse', 'tal', 'evento', 'de', 'ativação', 'onde', 'são', 'guardados', 'os', 'dados', 'obtido', 'tem', 'um', 'banco', 'de', 'dados', 'especial', 'isso', 'que', 'eu', 'não', 'consigo', 'entender', 'parece', 'que', 'já', 'começam', 'explicando', 'do', 'final', 'no', 'wikipédia', 'possui', 'a', 'seguinte', 'afirmação', 'na', 'teoria', 'de', 'linguagens', 'formais', 'uma', 'linguagem', 'livre', 'de', 'contexto', 'llc', 'é', 'uma', 'linguagem', 'gerada', 'por', 'alguma', 'gramática', 'livre', 'de', 'contexto', 'glc', 'diferentes', 'gramáticas', 'livres', 'de', 'contexto', 'podem', 'gerar', 'a', 'mesma', 'linguagem', 'livre', 'de', 'contexto', 'ou', 'inversamente', 'uma', 'dada', 'linguagem', 'livre', 'de', 'contexto', 'pode', 'ser', 'gerada', 'por', 'diferentes', 'gramáticas', 'livres', 'de', 'contexto', 'oh', 'god', 'no', 'entanto', 'achei', 'a', 'explicação', 'um', 'pouco', 'confusa', 'embaralhada', 'e', 'sendo', 'assim', 'ainda', 'pergunto', 'o', 'que', 'é', 'uma', 'linguagem', 'livre', 'de', 'contexto', 'como', 'é', 'possível', 'se', 'é', 'possível', 'definir', 'se', 'uma', 'linguagem', 'é', 'livre', 'de', 'contexto', 'ou', 'não', 'vejo', 'isso', 'em', 'várias', 'classes', 'de', 'terceiros', 'lembrando', 'que', 'o', 'fechamento', 'geralmente', 'é', 'o', 'code', 'mas', 'sem', 'code', 'estive', 'procurando', 'a', 'respeito', 'desse', 'termo', 'e', 'não', 'compreendi', 'muito', 'bem', 'a', 'função', 'desse', 'profissional', 'de', 'ti', 'o', 'que', 'é', 'um', 'full', 'stack', 'web', 'developer', 'pergunta', 'gostaria', 'de', 'saber', 'como', 'transformar', 'dígitos', 'numéricos', 'em', 'números', 'por', 'extenso', 'da', 'seguinte', 'maneira', 'como', 'demonstra', 'o', 'exemplo', 'abaixo', 'exemplo', 'retorna', 'zero', 'retorna', 'cinco', 'retorna', 'dois', 'mil', 'e', 'quatorze', 'retorna', 'mil', 'e', 'trinta', 'e', 'quatro', 'retorna', 'dois', 'mil', 'quinhentos', 'e', 'sessenta', 'e', 'seis', 'retorna', 'setenta', 'e', 'oito', 'mil', 'trezentos', 'e', 'noventa', 'e', 'um', 'retorna', 'novecentos', 'e', 'noventa', 'e', 'nove', 'mil', 'novecentos', 'e', 'noventa', 'e', 'nove', 'retorna', 'um', 'bilhão', 'qual', 'a', 'definição', 'de', 'inteligência', 'artificial', 'a', 'pergunta', 'à', 'primeira', 'vista', 'parece', 'falta', 'de', 'vontade', 'de', 'pesquisar', 'por', 'aí', 'afora', 'mas', 'uma', 'lida', 'nos', 'primeiros', 'links', 'que', 'encontrei', 'no', 'google', 'me', 'deixaram', 'com', 'mais', 'dúvidas', 'do', 'que', 'eu', 'tinha', 'antes', 'de', 'começar', 'a', 'estudar', 'sobre', 'o', 'assunto', 'a', 'wikipédia', 'me', 'deu', 'algumas', 'definições', 'e', 'o', 'tecmundo', 'que', 'foi', 'o', 'primeiro', 'link', 'que', 'o', 'buscador', 'me', 'retornou', 'não', 'me', 'passou', 'credibilidade', 'por', 'não', 'citar', 'fontes', 'partindo', 'de', 'uma', 'definição', 'como', 'esta', 'sistemas', 'que', 'pensam', 'como', 'um', 'humano', 'seria', 'correto', 'dizer', 'que', 'todo', 'sistema', 'que', 'afirme', 'que', 'é', 'um', 'sistema', 'com', 'inteligência', 'artificial', 'já', 'vi', 'gente', 'recomendando', 'nunca', 'usar', 'code', 'underscore', 'em', 'html', 'e', 'css', 'ao', 'invés', 'disso', 'deveríamos', 'dar', 'preferência', 'para', 'code', 'exemplo', 'code', 'por', 'que', 'existe', 'essa', 'recomendação', 'como', 'pegar', 'os', 'nomes', 'de', 'todas', 'as', 'tabelas', 'do', 'banco', 'de', 'dados', 'mysql', 'como', 'pegar', 'os', 'atributos', 'nome', 'tipo', 'etc', 'de', 'uma', 'determinada', 'tabela', 'no', 'banco', 'de', 'dados', 'mysql', 'a', 'maioria', 'das', 'linguagens', 'de', 'programação', 'possui', 'um', 'tipo', 'nulo', 'para', 'representar', 'a', 'ausência', 'de', 'um', 'valor', 'ela', 'pode', 'possuir', 'vários', 'nomes', 'code', 'code', 'code', 'etc', 'mas', 'seu', 'propósito', 'é', 'o', 'mesmo', 'com', 'exceção', 'do', 'sql', 'onde', 'code', 'quer', 'dizer', 'desconhecido', 'javascript', 'entretanto', 'possui', 'dois', 'tipos', 'distintos', 'code', 'e', 'code', 'qual', 'a', 'diferença', 'entre', 'esses', 'dois', 'tipos', 'noto', 'que', 'nem', 'sempre', 'são', 'usados', 'consistentemente', 'embora', 'em', 'geral', 'também', 'signifiquem', 'ausência', 'de', 'valor', 'de', 'modo', 'que', 'fica', 'difícil', 'saber', 'quando', 'usar', 'um', 'ou', 'outro', 'sei', 'que', 'uma', 'variável', 'que', 'nunca', 'foi', 'atribuída', 'é', 'code', 'bem', 'como', 'um', 'campo', 'não', 'existente', 'em', 'um', 'objeto', 'mas', 'sei', 'também', 'que', 'é', 'possível', 'atribuir', 'manualmente', 'esse', 'valor', 'através', 'de', 'code', 'ou', 'code', 'há', 'alguma', 'razão', 'na', 'prática', 'para', 'se', 'usar', 'um', 'ou', 'outro', 'ou', 'seria', 'melhor', 'usar', 'somente', 'um', 'deles', 'e', 'esquecer', 'que', 'o', 'outro', 'existe', 'e', 'se', 'sim', 'qual', 'misturar', 'os', 'dois', 'no', 'mesmo', 'programa', 'parece', 'tornar', 'mais', 'difícil', 'tratar', 'casos', 'de', 'valor', 'ausente', 'qual', 'seria', 'a', 'melhor', 'abordagem', 'no', 'caso', 'em', 'que', 'isso', 'está', 'fora', 'do', 'seu', 'controle', 'ie', 'bibliotecasframeworks', 'externas', 'usam', 'um', 'ou', 'outro', 'tipo', 'no', 'mesmo', 'script', 'vejo', 'em', 'alguns', 'códigos', 'diferentes', 'maneiras', 'de', 'definir', 'uma', 'função', 'mas', 'desconheço', 'a', 'diferença', 'se', 'é', 'que', 'existe', 'qual', 'a', 'diferença', 'entre', 'estas', 'funções', 'função', 'code', 'função', 'code', 'quais', 'as', 'vantagens', 'e', 'desvantagens', 'do', 'uso', 'de', 'índices', 'em', 'base', 'de', 'dados', 'em', 'linguagens', 'como', 'java', 'os', 'parâmetros', 'de', 'métodos', 'são', 'validados', 'na', 'compilação', 'pelo', 'menos', 'o', 'tipo', 'code', 'em', 'linguagens', 'de', 'tipagem', 'dinâmica', 'como', 'javascript', 'é', 'recomendado', 'validar', 'a', 'entrada', 'para', 'evitar', 'problemas', 'code', 'isso', 'fica', 'mais', 'complexo', 'quando', 'se', 'trabalha', 'com', 'objetos', 'e', 'arrays', 'code', 'entre', 'os', 'problemas', 'de', 'tantas', 'validações', 'está', 'código', 'poluído', 'desempenho', 'da', 'aplicação', 'prejudicado', 'apesar', 'disso', 'isto', 'pode', 'evitar', 'alguns', 'problemas', 'até', 'que', 'ponto', 'ir', 'com', 'esta', 'estória', 'de', 'validação', 'de', 'entrada', 'existe', 'alguma', 'alternativa', 'mais', 'interessante', 'alguém', 'poderia', 'me', 'ajudar', 'a', 'entender', 'porque', 'o', 'postgresql', 'errou', 'varias', 'estimativas', 'de', 'custos', 'em', 'um', 'experimento', 'que', 'fiz', 'estou', 'fazendo', 'um', 'experimento', 'com', 'queries', 'do', 'benchmark', 'tpch', 'para', 'verificar', 'o', 'desempenho', 'de', 'índices', 'nas', 'consultas', 'de', 'consultas', 'somente', 'consultas', 'foi', 'verificado', 'que', 'o', 'otimizador', 'utilizou', 'índices', 'secundários', 'em', 'um', 'outro', 'experimento', 'foram', 'executados', 'as', 'queries', 'citadas', 'num', 'banco', 'de', 'dados', 'sem', 'a', 'presença', 'de', 'índices', 'visando', 'identificar', 'se', 'o', 'tempo', 'de', 'execução', 'aumentaria', 'devido', 'a', 'ausência', 'de', 'índices', 'mas', 'para', 'minha', 'surpresa', 'o', 'experimento', 'sem', 'a', 'presença', 'de', 'índices', 'na', 'base', 'de', 'dados', 'foi', 'mais', 'rápido', 'do', 'que', 'utilizando', 'os', 'índices', 'para', 'as', 'consultas', 'gostaria', 'de', 'entender', 'porque', 'o', 'parametro', 'custo', 'total', 'errou', 'em', 'todos', 'os', 'casos', 'ou', 'seja', 'todas', 'as', 'consultas', 'que', 'gastaram', 'mais', 'tempo', 'indicou', 'um', 'custo', 'menor', 'em', 'todos', 'os', 'casos', 'que', 'esta', 'incorreto', 'na', 'minha', 'opiniao', 'vejam', 'abaixo', 'que', 'a', 'primeira', 'linha', 'referese', 'a', 'query', 'que', 'utilizou', 'índice', 'o', 'custo', 'foi', 'menor', 'do', 'que', 'o', 'custo', 'da', 'mesma', 'query', 'que', 'não', 'utilizou', 'índice', 'também', 'vejam', 'o', 'tempo', 'gasto', 'a', 'query', 'que', 'utilizou', 'índice', 'gastou', 'minutos', 'enquanto', 'sem', 'o', 'uso', 'de', 'índices', 'demorou', 'segundos', 'esse', 'comportamento', 'se', 'estendeu', 'aos', 'outros', 'casos', 'minha', 'pergunta', 'é', 'porque', 'o', 'custo', 'total', 'execution', 'plan', 'calcula', 'incorretamente', 'o', 'custo', 'para', 'todos', 'os', 'casos', 'em', 'que', 'se', 'tem', 'índices', 'code', 'por', 'questoes', 'de', 'uso', 'de', 'um', 'patch', 'especifico', 'do', 'meu', 'projeto', 'de', 'pesquisa', 'estou', 'utilizando', 'uma', 'versao', 'antiga', 'do', 'ano', 'eu', 'não', 'modifiquei', 'os', 'parâmetros', 'padroes', 'somente', 'o', 'random_page_cost', 'para', 'pois', 'estou', 'utilizando', 'um', 'disco', 'ssd', 'onde', 'o', 'custo', 'de', 'acesso', 'aleatório', 'é', 'menor', 'que', 'em', 'um', 'hdd', 'segue', 'o', 'que', 'esta', 'no', 'meu', 'postgresqlconf', 'code', 'será', 'que', 'algum', 'destes', 'parâmetros', 'interferiram', 'para', 'acontecer', 'esse', 'erro', 'nas', 'estatísticas', 'de', 'custos', 'segue', 'a', 'query', 'e', 'o', 'seu', 'explain', 'analyse', 'com', 'e', 'sem', 'índices', 'code', 'qualquer', 'dica', 'é', 'bem', 'vinda', 'o', 'que', 'são', 'escopo', 'léxico', 'e', 'escopo', 'dinâmico', 'e', 'quais', 'são', 'suas', 'principais', 'diferenças', 'quais', 'são', 'as', 'diferenças', 'entre', 'os', 'modificadores', 'code', 'code', 'code', 'e', 'code', 'quando', 'se', 'trabalha', 'com', 'herança', 'existem', 'regras', 'de', 'como', 'e', 'quando', 'eu', 'devo', 'usar', 'eles', 'quando', 'eu', 'estou', 'trabalhando', 'com', 'herança', 'e', 'polimorfismo', 'ouvi', 'falar', 'muito', 'em', 'comunicação', 'assíncrona', 'e', 'síncrona', 'porém', 'não', 'sei', 'o', 'que', 'realmente', 'são', 'elas', 'alguém', 'poderia', 'me', 'explicar', 'qual', 'a', 'diferença', 'e', 'o', 'funcionamento', 'de', 'cada', 'uma', 'quando', 'e', 'para', 'que', 'devo', 'usálas', 'se', 'possível', 'com', 'exemplos', 'de', 'código', 'por', 'vezes', 'vejo', 'em', 'documentações', 'ou', 'especificações', 'que', 'um', 'determinado', 'valor', 'no', 'geral', 'string', 'pode', 'ou', 'deve', 'ser', 'considerado', 'opaco', 'o', 'que', 'isso', 'realmente', 'quer', 'dizer', 'quais', 'são', 'as', 'características', 'que', 'definem', 'uma', 'string', 'como', 'opaca', 'a', 'citar', 'vale', 'referenciar', 'a', 'rfc', 'também', 'discutida', 'nesta', 'pergunta', 'que', 'afirma', 'que', 'um', 'segmento', 'de', 'caminho', 'é', 'considerado', 'opaco', 'pela', 'sintaxe', 'genérica', 'a', 'path', 'segment', 'is', 'considered', 'opaque', 'by', 'the', 'generic', 'syntax', 'assim', 'como', 'é', 'válido', 'referenciar', 'a', 'documentação', 'na', 'mdn', 'sobre', 'o', 'atributo', 'code', 'que', 'diz', 'que', 'o', 'valor', 'do', 'atributo', 'é', 'uma', 'string', 'opaca', 'this', 'attributes', 'value', 'is', 'an', 'opaque', 'string', 'o', 'significado', 'de', 'opaco', 'nas', 'duas', 'situações', 'é', 'o', 'mesmo', 'pois', 'ainda', 'na', 'documentação', 'mdn', 'há', 'logo', 'após', 'o', 'trecho', 'citado', 'a', 'seguinte', 'afirmação', 'this', 'means', 'that', 'web', 'author', 'must', 'not', 'use', 'it', 'to', 'convey', 'any', 'information', 'que', 'traduzindo', 'seria', 'que', 'o', 'autor', 'não', 'deve', 'utilizar', 'o', 'atributo', 'code', 'para', 'transmitir', 'qualquer', 'informação', 'considerando', 'que', 'o', 'path', 'da', 'url', 'é', 'o', 'identificador', 'de', 'recurso', 'requisitado', 'é', 'correto', 'afirmar', 'que', 'este', 'também', 'é', 'opaco', 'por', 'não', 'carregar', 'nenhuma', 'informação', 'em', 'caso', 'afirmativo', 'uma', 'url', 'amigável', 'que', 'carrega', 'valores', 'de', 'atributos', 'no', 'path', 'por', 'exemplo', 'code', 'quebram', 'a', 'definição', 'de', 'valor', 'opaco', 'opcional', 'para', 'respostas', 'citar', 'outros', 'valores', 'que', 'são', 'considerados', 'opacos', 'alguém', 'sabe', 'relacionar', 'as', 'diferenças', 'entre', 'mysql', 'e', 'sql', 'server', 'inclusive', 'usando', 'code', 'ou', 'se', 'tiverem', 'algum', 'link', 'que', 'liste', 'as', 'diferenças', 'seria', 'legal', 'exemplo', 'code', 'como', 'seria', 'o', 'equivalente', 'em', 'sql', 'server', 'durante', 'a', 'manutenção', 'de', 'um', 'sistema', 'legado', 'reparei', 'na', 'seguinte', 'procedure', 'code', 'a', 'primeira', 'coisa', 'que', 'me', 'chamou', 'atenção', 'foi', 'a', 'condição', 'where', 'por', 'que', 'o', 'programador', 'que', 'escreveu', 'essa', 'procedure', 'usou', 'essa', 'condição', 'gostaria', 'de', 'entender', 'como', 'funciona', 'o', 'algoritmo', 'de', 'criptografia', 'code', 'advanced', 'encryption', 'standard', 'procuro', 'respostas', 'didáticas', 'que', 'me', 'façam', 'compreender', 'os', 'processos', 'utilizados', 'pelo', 'algoritmo', 'passoapasso', 'dando', 'ênfase', 'a', 'parte', 'lógica', 'e', 'matemática', 'e', 'se', 'possível', 'as', 'operações', 'com', 'bits', 'note', 'que', 'não', 'peço', 'exemplos', 'de', 'código', 'embora', 'sejam', 'válidos', 'para', 'a', 'explicação', 'costumo', 'sempre', 'dizer', 'que', 'não', 'me', 'dou', 'muito', 'bem', 'com', 'termos', 'esses', 'dias', 'atrás', 'precisei', 'fazer', 'uma', 'operação', 'num', 'determinado', 'framework', 'em', 'php', 'chamado', 'laravel', 'onde', 'eu', 'precisava', 'encontrar', 'um', 'recurso', 'que', 'me', 'permitiria', 'usar', 'um', 'banco', 'já', 'existente', 'e', 'fazer', 'com', 'que', 'ele', 'gerasse', 'automaticamente', 'os', 'models', 'e', 'migrations', 'da', 'aplicação', 'através', 'das', 'tabelas', 'desse', 'banco', 'geralmente', 'o', 'que', 'ocorre', 'é', 'o', 'contrário', 'você', 'gera', 'models', 'e', 'migrations', 'que', 'por', 'sua', 'vez', 'geram', 'o', 'banco', 'de', 'dados', 'fiz', 'várias', 'pesquisas', 'na', 'internet', 'em', 'inglês', 'para', 'poder', 'encontrar', 'o', 'que', 'eu', 'queria', 'porém', 'não', 'encontrava', 'até', 'que', 'eu', 'usei', 'o', 'termo', 'database', 'reverse', 'engine', 'for', 'laravel', 'e', 'encontrei', 'o', 'que', 'procurava', 'até', 'então', 'eu', 'não', 'estava', 'tão', 'familiarizado', 'com', 'o', 'termo', 'por', 'pensar', 'em', 'se', 'tratar', 'em', 'algo', 'muito', 'distante', 'do', 'meu', 'diaadia', 'de', 'programação', 'mas', 'parece', 'que', 'não', 'era', 'verdade', 'o', 'que', 'eu', 'entendo', 'pela', 'experiência', 'que', 'tive', 'é', 'que', 'engenharia', 'reversa', 'está', 'relacionado', 'a', 'usar', 'o', 'que', 'foi', 'gerado', 'para', 'criar', 'o', 'gerador', 'me', 'corrijam', 'se', 'eu', 'estiver', 'errado', 'é', 'por', 'isso', 'que', 'venho', 'aqui', 'perguntar', 'o', 'que', 'é', 'exatamente', 'a', 'engenharia', 'reversa', 'nota', 'não', 'vou', 'incluir', 'a', 'tag', 'code', 'ou', 'code', 'pois', 'não', 'se', 'trata', 'do', 'assunto', 'foi', 'apenas', 'um', 'exemplo', 'sempre', 'utilizei', 'os', 'termos', 'parâmetro', 'e', 'argumento', 'como', 'se', 'fossem', 'sinônimos', 'aquilo', 'que', 'é', 'passado', 'para', 'uma', 'função', 'eou', 'que', 'a', 'função', 'recebe', 'como', 'entrada', 'da', 'mesma', 'forma', 'tenho', 'lido', 'um', 'e', 'outro', 'termo', 'em', 'inglês', 'e', 'português', 'ora', 'sendo', 'usado', 'um', 'ora', 'outro', 'mas', 'não', 'consegui', 'perceber', 'nenhum', 'critério', 'na', 'escolha', 'entre', 'um', 'e', 'outro', 'há', 'diferença', 'entre', 'eles', 'ou', 'são', 'sinônimos', 'mesmo', 'já', 'cheguei', 'a', 'pensar', 'que', 'parâmetro', 'era', 'o', 'único', 'termo', 'correto', 'pois', 'é', 'usado', 'na', 'matemática', 'e', 'que', 'argumento', 'era', 'algum', 'erro', 'de', 'tradução', 'mas', 'depois', 'percebi', 'que', 'não', 'é', 'o', 'caso', 'em', 'inglês', 'também', 'temos', 'parameter', 'e', 'argument', 'qual', 'a', 'forma', 'correta', 'de', 'se', 'usar', 'esses', 'termos', 'atualmente', 'temos', 'percebido', 'que', 'muita', 'gente', 'vem', 'utilizando', 'a', 'tag', 'code', 'para', 'ícones', 'e', 'não', 'para', 'itálico', 'se', 'ainda', 'estivéssemos', 'na', 'era', 'préhtml', 'isso', 'estaria', 'totalmente', 'errado', 'segundo', 'especificação', 'da', 'tag', 'code', 'do', 'html', 'agora', 'ela', 'é', 'utilizada', 'para', 'o', 'texto', 'de', 'uma', 'voz', 'alternativa', 'como', 'palavras', 'estrangeiras', 'transliteradas', 'termos', 'técnicos', 'e', 'tipografias', 'então', 'se', 'utilizarmos', 'icon', 'fonts', 'que', 'são', 'tipografias', 'de', 'imagens', 'o', 'código', 'continuará', 'semanticamente', 'correto', 'certo', 'quero', 'jogar', 'a', 'data', 'atual', 'num', 'input', 'mas', 'no', 'formato', 'brasileiro', 'ddmmyyyy', 'meu', 'código', 'code', 'qual', 'a', 'é', 'diferença', 'entre', 'as', 'classes', 'code', 'code', 'e', 'code', 'e', 'em', 'quais', 'situções', 'é', 'recomendado', 'o', 'uso', 'de', 'uma', 'ou', 'outra', 'qual', 'a', 'forma', 'mais', 'prática', 'de', 'encontrar', 'a', 'diferença', 'de', 'tempo', 'entre', 'duas', 'datas', 'no', 'formato', 'padrão', 'usado', 'pelo', 'mysql', 'yyyymmdd', 'ex', 'data', 'data', 'fiz', 'essa', 'pergunta', 'algoritmo', 'para', 'detectar', 'nudez', 'com', 'boa', 'precisão', 'aqui', 'no', 'site', 'e', 'algumas', 'pessoas', 'citaram', 'algumas', 'coisas', 'sobre', 'aprendizado', 'de', 'máquina', 'machine', 'learning', 'pelo', 'que', 'foi', 'dito', 'entre', 'um', 'comentário', 'e', 'outro', 'a', 'respeito', 'do', 'assunto', 'deu', 'a', 'entender', 'bem', 'superficialmente', 'que', 'é', 'uma', 'forma', 'de', 'uma', 'máquina', 'aprender', 'a', 'ter', 'um', 'comportamento', 'a', 'partir', 'de', 'dados', 'prédefinidos', 'gostaria', 'de', 'uma', 'explanação', 'mais', 'detalhada', 'a', 'respeito', 'do', 'assunto', 'o', 'que', 'seria', 'o', 'aprendizado', 'de', 'máquina', 'machine', 'learning', 'ele', 'está', 'relacionado', 'à', 'ou', 'é', 'uma', 'forma', 'de', 'inteligência', 'artificial', 'que', 'exemplo', 'mais', 'simples', 'podemos', 'citar', 'a', 'respeito', 'desse', 'assunto', 'estou', 'a', 'desenvolver', 'uma', 'aplicação', 'em', 'php', 'e', 'gostaria', 'de', 'saber', 'quando', 'e', 'porque', 'utilizar', 'code', 'ou', 'code', 'ou', 'code', 'ou', 'code', 'reparei', 'também', 'que', 'dá', 'para', 'fazer', 'destas', 'formas', 'e', 'funciona', 'code', 'qualquer', 'uma', 'das', 'formas', 'está', 'correta', 'estão', 'todas', 'em', 'muitos', 'códigos', 'são', 'adicionados', 'os', 'prefixos', 'de', 'compatibilidade', 'dos', 'navegadores', 'em', 'atributos', 'do', 'css', 'exemplo', 'code', 'mas', 'se', 'deixar', 'somente', 'o', 'atributo', 'sem', 'prefixo', 'funciona', 'normalmente', 'exemplo', 'code', 'esse', 'prefixos', 'code', 'code', 'code', 'são', 'importantes', 'devo', 'ainda', 'colocálos', 'estou', 'a', 'usar', 'uma', 'development', 'board', 'da', 'microchip', 'explorer', 'com', 'o', 'code', 'como', 'master', 'e', 'o', 'arduino', 'como', 'slave', 'o', 'pic', 'está', 'a', 'enviar', 'tudo', 'direitinho', 'mas', 'por', 'alguma', 'razão', 'o', 'arduino', 'envia', 'code', 'para', 'todos', 'os', 'data', 'apenas', 'manda', 'code', 'no', 'início', 'quando', 'se', 'envia', 'o', 'address', 'código', 'pic', 'master', 'code', 'código', 'arduino', 'slave', 'code', 'já', 'vi', 'esse', 'termo', 'polyfill', 'sendo', 'utilizado', 'várias', 'vezes', 'quando', 'se', 'trata', 'de', 'uma', 'nova', 'função', 'que', 'não', 'está', 'disponível', 'em', 'versões', 'antigas', 'de', 'determinadas', 'linguagens', 'e', 'afins', 'mas', 'afinal', 'polyfill', 'é', 'simplesmente', 'isso', 'ou', 'é', 'mais', 'abrangente', 'qual', 'é', 'o', 'significado', 'da', 'palavra', 'polyfill', 'e', 'a', 'que', 'se', 'refere', 'dentro', 'do', 'diaadia', 'da', 'programação', 'especificamente', 'nota', 'aparentemente', 'esse', 'termo', 'está', 'relacionado', 'diretamente', 'à', 'linguagem', 'javascript', 'mas', 'já', 'vi', 'sendo', 'utilizado', 'em', 'outras', 'linguagens', 'também', 'numa', 'discussão', 'com', 'experientes', 'programadores', 'aqui', 'do', 'site', 'a', 'respeito', 'de', 'controle', 'de', 'concorrência', 'surgiram', 'os', 'termos', 'semáforos', 'mutex', 'memória', 'compartilhada', 'monitor', 'e', 'ainda', 'outros', 'os', 'quais', 'estou', 'começando', 'a', 'entender', 'agora', 'toda', 'essas', 'minhas', 'dúvidas', 'começaram', 'quando', 'perguntei', 'sobre', 'processos', 'assíncronos', 'onde', 'percebi', 'que', 'eu', 'não', 'estava', 'entendendo', 'muito', 'bem', 'sobre', 'o', 'termo', 'assíncrono', 'e', 'acabei', 'aprendendo', 'sobre', 'bifurcação', 'de', 'processos', 'no', 'meio', 'disso', 'tudo', 'comecei', 'a', 'pesquisar', 'muitas', 'coisas', 'a', 'respeito', 'de', 'processos', 'de', 'sistemas', 'operacionais', 'e', 'foi', 'aí', 'que', 'aprendi', 'mais', 'um', 'termo', 'ipc', 'que', 'disseram', 'que', 'significa', 'inter', 'process', 'communication', 'mas', 'o', 'que', 'é', 'ipc', 'mais', 'detalhadamente', 'de', 'que', 'forma', 'ele', 'se', 'relaciona', 'com', 'os', 'termos', 'que', 'eu', 'citei', 'acima', 'sobre', 'os', 'quais', 'disse', 'que', 'eu', 'estava', 'discutindo', 'quais', 'são', 'os', 'métodos', 'de', 'requisição', 'http', 'entre', 'os', 'quais', 'estão', 'code', 'code', 'e', 'code', 'para', 'que', 'se', 'deve', 'usar', 'cada', 'um', 'deles', 'e', 'qual', 'é', 'a', 'diferença', 'entre', 'eles', 'esses', 'dias', 'vi', 'nosso', 'colega', 'maniero', 'comentando', 'sobre', 'a', 'existência', 'do', 'net', 'native', 'em', 'uma', 'resposta', 'sobre', 'c', 'e', 'c', 'vi', 'que', 'a', 'microsoft', 'anunciou', 'em', 'abril', 'de', 'o', 'preview', 'do', 'net', 'native', 'e', 'pesquisando', 'sobre', 'o', 'assunto', 'encontrei', 'essa', 'página', 'explicando', 'httpmsdnmicrosoftcomptbrvstudiodotnetnativeaspx', 'pelo', 'o', 'que', 'entendi', 'a', 'ideia', 'é', 'permitir', 'que', 'código', 'escritos', 'em', 'c', 'sejam', 'compilados', 'para', 'código', 'nativo', 'da', 'máquina', 'isso', 'deixaria', 'os', 'aplicativos', 'mais', 'rápidos', 'e', 'usando', 'menos', 'memória', 'como', 'o', 'assunto', 'é', 'novo', 'e', 'estou', 'cheio', 'de', 'perguntas', 'eis', 'algumas', 'delas', 'por', 'que', 'a', 'microsoft', 'está', 'fazendo', 'isso', 'não', 'será', 'mais', 'necessário', 'ter', 'o', 'net', 'framework', 'instalado', 'nas', 'máquinas', 'vamos', 'ter', 'que', 'compilar', 'nossos', 'códigos', 'para', 'tipos', 'diferentes', 'de', 'arquiteturas', 'x', 'x', 'programas', 'que', 'usam', 'o', 'net', 'native', 'vão', 'poder', 'rodar', 'em', 'qualquer', 'tipo', 'de', 'dispositivo', 'e', 'sistema', 'operacional', 'vou', 'poder', 'desenvolver', 'um', 'driver', 'ou', 'um', 'sistema', 'operacional', 'com', 'isso', 'isso', 'é', 'só', 'para', 'apps', 'da', 'windows', 'store', 'terá', 'alguma', 'diferença', 'em', 'como', 'desenvolvemos', 'hoje', 'quem', 'puder', 'compartilhar', 'um', 'pouco', 'sobre', 'o', 'assunto', 'é', 'muito', 'bem', 'vindo', 'inclusive', 'se', 'quiserem', 'editar', 'algo', 'na', 'pergunta', 'afim', 'de', 'enriquecer', 'a', 'questão', 'como', 'saber', 'se', 'o', 'código', 'é', 'de', 'fácil', 'leitura', 'e', 'manutenção', 'costumo', 'abstrair', 'grande', 'parte', 'dos', 'meus', 'códigos', 'tenho', 'costume', 'de', 'usar', 'muito', 'funções', 'lambda', 'no', 'c', 'como', 'essa', 'função', 'para', 'validação', 'de', 'cpf', 'code', 'nesse', 'exemplo', 'comentei', 'para', 'facilitar', 'quem', 'for', 'realizar', 'leitura', 'ou', 'alteração', 'no', 'código', 'a', 'solução', 'seria', 'comentar', 'eou', 'utilizar', 'a', 'quantidade', 'mínima', 'possível', 'de', 'funções', 'prontas', 'que', 'agilizam', 'muito', 'desenvolvimento', 'quais', 'outras', 'técnicas', 'podem', 'ser', 'usadas', 'para', 'melhorar', 'a', 'legibilidade', 'do', 'código', 'sei', 'que', 'ambos', 'escondem', 'o', 'elemento', 'mas', 'existe', 'na', 'prática', 'alguma', 'diferença', 'entre', 'code', 'e', 'code', 'em', 'várias', 'aplicações', 'que', 'foram', 'escritas', 'com', 'linguagens', 'fortemente', 'tipadas', 'uma', 'variável', 'geralmente', 'é', 'declarada', 'com', 'seu', 'valor', 'padrão', 'exemplo', 'code', 'entretanto', 'é', 'possível', 'declarálas', 'sem', 'definir', 'um', 'valor', 'inicial', 'desta', 'forma', 'code', 'no', 'caso', 'eu', 'perguntei', 'ao', 'meu', 'professor', 'e', 'ele', 'respondeu', 'que', 'tempos', 'atrás', 'caso', 'não', 'fosse', 'declarado', 'da', 'primeira', 'maneira', 'um', 'número', 'absurdo', 'seria', 'atribuído', 'a', 'variável', 'code', 'code', 'essa', 'premissa', 'é', 'verdadeira', 'caso', 'seja', 'que', 'número', 'é', 'esse', 'o', 'exemplo', 'que', 'demonstrei', 'foi', 'baseado', 'na', 'linguagem', 'c', 'mas', 'eu', 'acredito', 'que', 'a', 'declaração', 'de', 'variáveis', 'deve', 'ser', 'semelhante', 'em', 'outras', 'linguagens', 'isso', 'também', 'ocorreocorreu', 'em', 'outras', 'linguagens', 'geralmente', 'ambos', 'possuem', 'comportamentos', 'similares', 'quando', 'renderizados', 'no', 'navegador', 'se', 'eu', 'abrir', 'um', 'html', 'com', 'isto', 'code', 'ambos', 'não', 'permitem', 'que', 'o', 'usuário', 'altere', 'o', 'texto', 'vejo', 'o', 'exemplo', 'abaixo', 'code', 'então', 'qual', 'a', 'diferença', 'de', 'fato', 'entre', 'os', 'dois', 'tipos', 'de', 'estados', 'e', 'quando', 'eu', 'devo', 'usar', 'cada', 'um', 'deles', 'o', 'timestamp', 'é', 'a', 'representação', 'numérica', 'de', 'uma', 'data', 'e', 'é', 'bastante', 'utilizado', 'nas', 'linguagens', 'de', 'programação', 'e', 'em', 'banco', 'de', 'dados', 'quero', 'saber', 'como', 'é', 'feito', 'esse', 'cálculo', 'existe', 'alguma', 'padronização', 'para', 'esse', 'cálculo', 'uma', 'iso', 'ou', 'algo', 'parecido', 'já', 'ouvi', 'falar', 'em', 'code', 'existem', 'outros', 'sabores', 'de', 'timestamp', 'eu', 'estou', 'trabalhando', 'em', 'uma', 'solução', 'que', 'envolve', 'determinar', 'a', 'rota', 'de', 'menor', 'esforço', 'entre', 'dois', 'pontos', 'de', 'um', 'prédio', 'imagine', 'estudantes', 'em', 'seu', 'primeiro', 'dia', 'de', 'universidade', 'e', 'que', 'precisam', 'saber', 'onde', 'fica', 'e', 'como', 'chegar', 'a', 'uma', 'dada', 'sala', 'de', 'aula', 'em', 'um', 'prédio', 'ou', 'como', 'ir', 'da', 'sala', 'atual', 'para', 'a', 'próxima', 'aula', 'basicamente', 'eu', 'tenho', 'uma', 'estrutura', 'cartesiana', 'onde', 'cada', 'andar', 'está', 'mapeado', 'eu', 'também', 'tenho', 'indicadores', 'de', 'pontos', 'de', 'acesso', 'portas', 'rampas', 'para', 'deficientes', 'escadarias', 'e', 'os', 'pontos', 'onde', 'estes', 'pontos', 'se', 'conectam', 'escadaria', 'do', 'térreo', 'se', 'conecta', 'com', 'escadaria', 'do', 'º', 'andar', 'em', 'x', 'y', 'por', 'exemplo', 'mais', 'ou', 'menos', 'como', 'a', 'imagem', 'abaixo', 'onde', 'ciano', 'indica', 'uma', 'escadaria', 'e', 'azulestranho', 'elevadores', 'entre', 'outros', 'marcadores', 'não', 'exibidos', 'para', 'os', 'daltônicos', 'minhas', 'sinceras', 'desculpas', 'e', 'algumas', 'informações', 'adicionais', 'as', 'escadarias', 'estão', 'localizadas', 'na', 'parte', 'superior', 'direita', 'dos', 'mapas', 'os', 'elevadores', 'próximos', 'ao', 'centro', 'eu', 'comecei', 'meu', 'código', 'baseado', 'em', 'uma', 'variante', 'do', 'algoritmo', 'de', 'dijkstra', 'chamado', 'aestrela', 'a', 'que', 'é', 'basicamente', 'o', 'problema', 'do', 'caminho', 'mais', 'curto', 'com', 'algumas', 'otimizações', 'curiosidade', 'vários', 'jogos', 'implementam', 'variantes', 'do', 'a', 'para', 'determinar', 'a', 'rota', 'de', 'personagens', 'em', 'um', 'mapa', 'a', 'é', 'perfeito', 'para', 'determinar', 'rotas', 'em', 'um', 'mesmo', 'andar', 'porém', 'eu', 'tenho', 'que', 'levar', 'em', 'consideração', 'os', 'vários', 'andares', 'cada', 'um', 'com', 'um', 'layout', 'diferente', 'pergunta', 'existe', 'alguma', 'maneira', 'mais', 'apropriada', 'para', 'solucionar', 'este', 'problema', 'ou', 'de', 'forma', 'mais', 'clara', 'obrigado', 'bfavaretto', 'dado', 'o', 'fator', 'adicional', 'de', 'n', 'andares', 'existe', 'algum', 'algoritmo', 'que', 'seja', 'mais', 'indicado', 'do', 'que', 'o', 'a', 'disclaimer', 'imagem', 'isométrica', 'original', 'de', 'dougillustrationscom', 'é', 'comum', 'encontrar', 'uma', 'mensagem', 'de', 'erro', 'que', 'diz', 'desculpe', 'você', 'não', 'tem', 'permissão', 'para', 'acessar', 'esta', 'função', 'entre', 'em', 'contato', 'com', 'o', 'administrador', 'para', 'obter', 'ajuda', 'é', 'apropriado', 'um', 'pedido', 'de', 'desculpas', 'neste', 'caso', 'é', 'um', 'caso', 'claro', 'que', 'o', 'problema', 'não', 'é', 'culpa', 'do', 'sistemaplataformaprovedor', 'do', 'serviço', 'então', 'por', 'que', 'deveria', 'existir', 'esse', 'pedido', 'de', 'desculpas', 'isso', 'é', 'importante', 'tem', 'alguma', 'fonte', 'de', 'informação', 'autoritativa', 'que', 'justifique', 'o', 'seu', 'uso', 'note', 'que', 'não', 'estou', 'perguntando', 'se', 'você', 'usa', 'de', 'um', 'jeito', 'ou', 'de', 'outro', 'e', 'o', 'que', 'você', 'acha', 'que', 'é', 'certo', 'respostas', 'com', 'opiniões', 'sem', 'base', 'são', 'inválidas', 'e', 'devem', 'ser', 'votadas', 'negativamente', 'informações', 'que', 'indiquem', 'com', 'clareza', 'e', 'justificativa', 'de', 'qual', 'o', 'motivo', 'do', 'uso', 'ou', 'não', 'são', 'construtivas', 'ou', 'será', 'que', 'isto', 'é', 'apenas', 'gosto', 'não', 'quero', 'se', 'você', 'gosta', 'mais', 'de', 'um', 'do', 'que', 'outro', 'não', 'quero', 'saber', 'porque', 'as', 'pessoas', 'gostam', 'mais', 'de', 'uma', 'ou', 'outra', 'não', 'quero', 'achismos', 'ou', 'respostas', 'rasas', 'não', 'quero', 'saber', 'razões', 'históricas', 'quero', 'saber', 'de', 'forma', 'fundamentada', 'o', 'que', 'se', 'ganha', 'ou', 'se', 'perde', 'em', 'cada', 'uma', 'das', 'abordagens', 'exemplos', 'de', 'linguagens', 'sensíveis', 'c', 'c', 'c', 'java', 'javascript', 'python', 'ruby', 'objective', 'c', 'exemplos', 'de', 'linguagens', 'insensíveis', 'sql', 'cobol', 'basic', 'acho', 'que', 'todos', 'os', 'dialetos', 'php', 'bom', 'sei', 'lá', 'em', 'parte', 'e', 'clipper', 'e', 'dialetos', 'esta', 'pergunta', 'tem', 'relação', 'com', 'essa', 'outra', 'só', 'para', 'deixar', 'claro', 'para', 'quem', 'não', 'entende', 'do', 'assunto', 'estou', 'falando', 'da', 'sintaxe', 'da', 'linguagem', 'falo', 'das', 'palavraschave', 'dos', 'identificadores', 'eu', 'estava', 'conversando', 'com', 'alguns', 'amigos', 'programadores', 'quando', 'eu', 'ouvi', 'o', 'termo', 'normalização', 'de', 'banco', 'de', 'dados', 'embora', 'eu', 'já', 'tenha', 'ouvido', 'esse', 'termo', 'algumas', 'vezes', 'antes', 'não', 'consegui', 'compreender', 'do', 'que', 'se', 'tratava', 'surgiram', 'algumas', 'dúvidas', 'o', 'que', 'significa', 'esse', 'termo', 'qualquer', 'tipo', 'de', 'banco', 'de', 'dados', 'seja', 'sql', 'ou', 'nosql', 'pode', 'usar', 'essa', 'tal', 'normalização', 'outra', 'coisa', 'é', 'que', 'ao', 'pesquisar', 'na', 'internet', 'encontrei', 'os', 'termos', 'normalização', 'de', 'dados', 'e', 'normalização', 'de', 'banco', 'dados', 'existe', 'alguma', 'diferença', 'entre', 'as', 'duas', 'coisas', 'normalização', 'de', 'dados', 'e', 'normalização', 'de', 'banco', 'dados', 'existe', 'o', 'termo', 'correto', 'ou', 'pode', 'ser', 'falado', 'das', 'duas', 'formas', 'não', 'quero', 'mais', 'passar', 'vergonha', 'ao', 'ouvir', 'um', 'termo', 'desses', 'numa', 'reunião', 'e', 'ficar', 'sem', 'entender', 'estou', 'fazendo', 'essa', 'pergunta', 'porque', 'eu', 'já', 'cansei', 'de', 'ver', 'coisas', 'como', 'requisitos', 'para', 'determinado', 'cargo', 'de', 'programação', 'é', 'necessários', 'saber', 'as', 'linguagens', 'php', 'javascript', 'css', 'e', 'ajax', 'já', 'aprendi', 'que', 'code', 'não', 'é', 'uma', 'linguagem', 'de', 'programação', 'é', 'claro', 'porque', 'ninguém', 'programa', 'em', 'ajax', 'mas', 'se', 'tratando', 'da', 'questão', 'dos', 'termos', 'como', 'deveríamos', 'classificar', 'o', 'code', 'recurso', 'tecnologia', 'como', 'deveria', 'ser', 'denominado', 'é', 'apenas', 'conveniência', 'digo', 'é', 'desnecessário', 'instanciar', 'um', 'objeto', 'para', 'utilizar', 'uma', 'função', 'que', 'não', 'utiliza', 'os', 'dados', 'do', 'mesmo', 'há', 'diferença', 'na', 'execução', 'memória', 'processamento', 'recursos', 'em', 'geral', 'qual', 'a', 'diferença', 'entre', 'code', 'e', 'code', 'que', 'tipo', 'de', 'situação', 'devo', 'utilizar', 'uma', 'code', 'invés', 'de', 'uma', 'code', 'em', 'php', 'posso', 'fazer', 'isto', 'sem', 'declarardefenir', 'variáveis', 'code', 'usando', 'code', 'o', 'mesmo', 'dá', 'respectivamente', 'code', 'e', 'code', 'se', 'eu', 'usar', 'code', 'antes', 'o', 'mesmo', 'dá', 'codee', 'code', 'a', 'questão', 'é', 'existe', 'alguma', 'implicação', 'de', 'performanceutilização', 'ou', 'outra', 'que', 'justifique', 'evitar', 'estas', 'utilizações', 'code', 'em', 'c', 'temos', 'propriedades', 'com', 'getters', 'e', 'setters', 'o', 'que', 'facilita', 'a', 'inserção', 'e', 'leitura', 'de', 'dados', 'em', 'um', 'objeto', 'quando', 'alguma', 'lógica', 'deve', 'ser', 'realizada', 'em', 'outras', 'linguagens', 'como', 'o', 'java', 'essas', 'tarefas', 'são', 'feitas', 'com', 'métodos', 'quando', 'precisamos', 'de', 'lógica', 'para', 'ler', 'um', 'campo', 'ou', 'para', 'escrever', 'nele', 'usamos', 'métodos', 'code', 'e', 'code', 'coisas', 'do', 'tipo', 'essa', 'abordagem', 'com', 'métodos', 'também', 'pode', 'ser', 'feita', 'no', 'c', 'e', 'é', 'ai', 'que', 'ta', 'minha', 'dúvida', 'quais', 'são', 'as', 'vantagens', 'e', 'desvantagens', 'no', 'c', 'dessas', 'duas', 'abordagens', 'minha', 'preocupação', 'com', 'essa', 'questão', 'é', 'a', 'seguinte', 'estive', 'resolvendo', 'exercícios', 'de', 'orientação', 'a', 'objetos', 'e', 'notei', 'que', 'a', 'grande', 'maioria', 'dos', 'métodos', 'que', 'os', 'exercícios', 'pedem', 'pra', 'codificar', 'podem', 'se', 'tornar', 'propriedades', 'no', 'c', 'o', 'problema', 'é', 'que', 'isso', 'faz', 'a', 'classe', 'parecer', 'anêmica', 'ou', 'seja', 'tendo', 'só', 'propriedades', 'e', 'sem', 'lógica', 'dessa', 'forma', 'existem', 'diferenças', 'entre', 'as', 'duas', 'abordagens', 'existe', 'algum', 'tipo', 'de', 'recomendação', 'sobre', 'qual', 'técnica', 'usar', 'edição', 'a', 'resposta', 'do', 'maniero', 'é', 'muito', 'boa', 'e', 'esclarece', 'algumas', 'coisas', 'com', 'relação', 'a', 'esse', 'tipo', 'de', 'decisão', 'mas', 'vou', 'adicionar', 'alguns', 'exemplos', 'para', 'ilustar', 'o', 'que', 'estou', 'falando', 'só', 'pra', 'completar', 'um', 'ponto', 'os', 'exemplos', 'são', 'de', 'exercícios', 'em', 'java', 'um', 'dos', 'exercícios', 'que', 'resolvi', 'pedia', 'uma', 'classe', 'code', 'com', 'métodos', 'code', 'code', 'code', 'e', 'code', 'para', 'decidir', 'se', 'o', 'ano', 'é', 'bissexto', 'os', 'métodos', 'code', 'claramente', 'em', 'c', 'poderiam', 'ser', 'implementados', 'como', 'getters', 'acontece', 'que', 'o', 'code', 'também', 'poderia', 'afinal', 'ele', 'devolve', 'uma', 'característica', 'do', 'objeto', 'invés', 'de', 'executar', 'um', 'comportamento', 'claro', 'que', 'existe', 'uma', 'lógica', 'pra', 'verificar', 'isso', 'mas', 'me', 'pergunto', 'se', 'isso', 'não', 'seria', 'uma', 'propriedade', 'outro', 'exercício', 'pede', 'uma', 'classe', 'code', 'que', 'deve', 'ter', 'métodos', 'code', 'para', 'inserir', 'a', 'alternativa', 'da', 'próxima', 'questão', 'code', 'para', 'retornar', 'o', 'número', 'de', 'acertos', 'code', 'para', 'retornar', 'a', 'nota', 'e', 'code', 'para', 'comparar', 'com', 'outra', 'prova', 'novamente', 'os', 'métodos', 'code', 'e', 'code', 'me', 'parecem', 'naturalmente', 'propriedades', 'eles', 'são', 'características', 'da', 'prova', 'existe', 'novamente', 'uma', 'lógica', 'pra', 'verificar', 'isso', 'basicamente', 'é', 'preciso', 'comparar', 'cada', 'questão', 'com', 'os', 'dados', 'provenientes', 'de', 'um', 'gabarito', 'informado', 'no', 'construtor', 'mas', 'por', 'conta', 'de', 'parecerem', 'características', 'achei', 'que', 'deveriam', 'ser', 'propriedades', 'acontece', 'que', 'tirando', 'esses', 'métodos', 'e', 'transformando', 'em', 'propriedades', 'essas', 'classes', 'ficam', 'quase', 'sem', 'funcionalidades', 'e', 'não', 'só', 'elas', 'mas', 'muitas', 'outras', 'que', 'já', 'vi', 'por', 'ai', 'isso', 'indicaria', 'o', 'problema', 'que', 'ouvi', 'dizer', 'se', 'chama', 'modelo', 'anêmico', 'dessa', 'forma', 'a', 'decisão', 'de', 'algo', 'como', 'propriedade', 'não', 'depende', 'somente', 'de', 'ser', 'uma', 'característica', 'do', 'objeto', 'depende', 'também', 'de', 'haver', 'ou', 'não', 'uma', 'lógica', 'a', 'ser', 'utilizada', 'para', 'ler', 'ou', 'escrever', 'aquele', 'dado', 'em', 'casos', 'então', 'como', 'esses', 'que', 'citei', 'é', 'mais', 'interessante', 'então', 'realmente', 'utilizar', 'métodos', 'encontrei', 'no', 'so', 'en', 'essa', 'pergunta', 'creating', 'meta', 'language', 'with', 'java', 'no', 'qual', 'o', 'usuário', 'tem', 'interesse', 'em', 'criar', 'uma', 'meta', 'linguagem', 'usando', 'java', 'fiz', 'uma', 'breve', 'pesquisa', 'e', 'encontrei', 'no', 'site', 'da', 'microsoft', 'um', 'tópico', 'falando', 'sobre', 'gramáticas', 'linguagens', 'e', 'compiladores', 'um', 'retorno', 'às', 'bases', 'onde', 'fala', 'que', 'em', 'computação', 'uma', 'metalinguagem', 'muito', 'conhecida', 'é', 'a', 'bnf', 'ou', 'backusnaur', 'form', 'o', 'que', 'é', 'uma', 'meta', 'linguagem', 'existe', 'uma', 'forma', 'clara', 'de', 'determinar', 'quando', 'um', 'projeto', 'de', 'desenvolvimento', 'de', 'software', 'deve', 'ser', 'conduzido', 'usando', 'uma', 'metodologia', 'waterfall', 'ou', 'usar', 'scrum', 'quais', 'os', 'critérios', 'devem', 'ser', 'observados', 'para', 'escolher', 'um', 'ou', 'outro', 'normalmente', 'utilizo', 'code', 'mas', 'vejo', 'na', 'maioria', 'dos', 'formulários', 'o', 'uso', 'do', 'code', 'existe', 'alguma', 'diferença', 'qual', 'é', 'o', 'ideal', 'o', 'que', 'é', 'memoization', 'em', 'quais', 'circunstâncias', 'pode', 'ser', 'útil', 'e', 'como', 'utilizar', 'se', 'possível', 'ilustrar', 'com', 'um', 'exemplo', 'simples', 'tenho', 'lido', 'sobre', 'sass', 'há', 'algum', 'tempo', 'e', 'ele', 'fornece', 'um', 'poderoso', 'conjunto', 'de', 'funcionalidades', 'para', 'o', 'css', 'como', 'variáveis', 'mixins', 'e', 'afins', 'e', 'ao', 'mesmo', 'tempo', 'vejo', 'o', 'termo', 'scss', 'qual', 'a', 'diferença', 'entre', 'ambos', 'são', 'a', 'mesma', 'coisa', 'e', 'possuem', 'as', 'mesmas', 'funcionalidades', 'e', 'apenas', 'recebem', 'nomes', 'diferentes', 'em', 'alguns', 'casos', 'ou', 'são', 'coisas', 'diferentes', 'como', 'é', 'possivel', 'resolver', 'esse', 'bug', 'code', 'resultado', 'code', 'recentemente', 'enquanto', 'estudava', 'alguns', 'códigos', 'em', 'javascript', 'me', 'deparei', 'com', 'o', 'seguinte', 'código', 'code', 'sei', 'que', 'code', 'e', 'consequentemente', 'code', 'então', 'fiquei', 'na', 'dúvida', 'qual', 'a', 'lógica', 'de', 'se', 'fazer', 'esse', 'tipo', 'de', 'operação', 'no', 'php', 'podemos', 'suprimir', 'erros', 'utilizando', 'o', 'code', 'antes', 'de', 'determinadas', 'expressões', 'isso', 'pode', 'ser', 'visto', 'em', 'qual', 'a', 'funo', 'do', 'no', 'inicio', 'de', 'expresses', 'em', 'php', 'já', 'assisti', 'alguns', 'hangouts', 'sobre', 'php', 'e', 'o', 'pessoal', 'estava', 'criticando', 'a', 'utilização', 'do', 'code', 'no', 'php', 'pela', 'tese', 'de', 'que', 'um', 'erro', 'deve', 'ser', 'tratado', 'e', 'não', 'escondido', 'o', 'problema', 'é', 'que', 'algumas', 'funções', 'do', 'php', 'retornam', 'as', 'vezes', 'mensagens', 'indesejadas', 'como', 'no', 'caso', 'do', 'code', 'que', 'ao', 'não', 'encontrar', 'o', 'arquivo', 'para', 'deletar', 'emite', 'um', 'code', 'nesse', 'caso', 'eu', 'sempre', 'utilizo', 'o', 'code', 'por', 'exemplo', 'code', 'pois', 'com', 'o', 'code', 'o', 'erro', 'será', 'suprimido', 'e', 'apenas', 'retornará', 'code', 'caso', 'haja', 'alguma', 'falha', 'e', 'isso', 'é', 'explicado', 'na', 'resposta', 'do', 'rray', 'eu', 'tenho', 'algumas', 'perguntas', 'a', 'fazer', 'a', 'respeito', 'dessa', 'prática', 'do', 'ponto', 'de', 'vista', 'do', 'desenvolvimento', 'eu', 'deveria', 'utilizar', 'um', 'code', 'arroba', 'para', 'casos', 'como', 'da', 'função', 'code', 'ou', 'configurar', 'a', 'exibição', 'de', 'erros', 'para', 'ocultar', 'code', 'ou', 'fazer', 'um', 'code', 'em', 'relação', 'ao', 'uso', 'de', 'code', 'antes', 'de', 'fazer', 'code', 'o', 'arroba', 'pode', 'ser', 'prejudicial', 'para', 'o', 'desempenho', 'de', 'uma', 'aplicação', 'ou', 'o', 'desencorajamento', 'quanto', 'ao', 'uso', 'do', 'code', 'só', 'existe', 'por', 'questões', 'de', 'boas', 'práticas', 'de', 'programação', 'desde', 'que', 'abri', 'um', 'projeto', 'online', 'estou', 'tendo', 'problemas', 'com', 'invasão', 'onde', 'alguém', 'está', 'fazendo', 'inserções', 'diretas', 'no', 'banco', 'de', 'dados', 'foi', 'o', 'que', 'me', 'deu', 'iniciativa', 'para', 'por', 'em', 'todas', 'as', 'variáveis', 'recebidas', 'através', 'do', 'método', 'code', 'e', 'code', 'as', 'funções', 'code', 'utilizei', 'dois', 'programas', 'para', 'fazer', 'scanner', 'para', 'analisar', 'o', 'site', 'acunetix', 'e', 'scrawlr', 'onde', 'na', 'primeira', 'vez', 'retornou', 'variáveis', 'vulneráveis', 'mas', 'agora', 'fiz', 'todo', 'o', 'procedimento', 'nas', 'mesma', 'e', 'agora', 'não', 'da', 'mais', 'sinal', 'de', 'problema', 'porém', 'mesmo', 'assim', 'o', 'atacante', 'ainda', 'consegue', 'invadir', 'o', 'servidor', 'mesmo', 'tendo', 'a', 'certeza', 'depois', 'de', 'ter', 'verificado', 'todas', 'as', 'linhas', 'de', 'código', 'do', 'projeto', 'é', 'comum', 'vermos', 'a', 'recomendação', 'de', 'usar', 'apenas', 'um', 'code', 'por', 'funçãométodo', 'mas', 'isso', 'parece', 'algo', 'sem', 'sentido', 'e', 'deixa', 'o', 'código', 'mais', 'confuso', 'em', 'muitos', 'casos', 'veja', 'os', 'exemplos', 'forma', 'como', 'eu', 'costumo', 'fazer', 'code', 'forma', 'como', 'é', 'recomendado', 'code', 'por', 'que', 'há', 'essa', 'recomendação', 'o', 'que', 'se', 'ganha', 'em', 'usar', 'um', 'único', 'code', 'segundo', 'esta', 'definição', 'do', 'priberampt', 'um', 'número', 'capicua', 'é', 'número', 'que', 'se', 'lê', 'igualmente', 'da', 'direita', 'para', 'a', 'esquerda', 'ou', 'viceversa', 'e', 'ao', 'qual', 'se', 'atribui', 'boa', 'sorte', 'seguindo', 'esse', 'raciocínio', 'capicua', 'seriam', 'etc', 'como', 'descobrir', 'entre', 'números', 'de', 'dígitos', 'os', 'que', 'são', 'capicua', 'apenas', 'utilizando', 'cálculos', 'matemáticos', 'removendo', 'números', 'que', 'possuam', 'todos', 'os', 'dígitos', 'idênticos', 'como', 'etc', 'ps', 'não', 'importa', 'a', 'linguagem', 'somente', 'a', 'lógica', 'para', 'se', 'desenvolver', 'uma', 'forma', 'de', 'resolver', 'isso', 'o', 'que', 'são', 'e', 'quais', 'as', 'principais', 'diferenças', 'entre', 'programação', 'funcional', 'e', 'programação', 'orientada', 'a', 'objetos', 'em', 'eu', 'fiz', 'uma', 'pergunta', 'no', 'so', 'sobre', 'controle', 'de', 'versão', 'para', 'desenvolvedor', 'solo', 'e', 'recebi', 'uma', 'excelente', 'resposta', 'do', 'jon', 'skeet', 'indicando', 'o', 'uso', 'do', 'svn', 'infelizmente', 'recentemente', 'ela', 'foi', 'fechada', 'e', 'removida', 'hoje', 'o', 'git', 'está', 'se', 'tornando', 'ubíquo', 'isto', 'por', 'si', 'só', 'traz', 'algumas', 'vantagens', 'se', 'você', 'usa', 'alguns', 'projetos', 'open', 'source', 'de', 'terceiros', 'provavelmente', 'já', 'é', 'pelo', 'menos', 'cliente', 'de', 'git', 'eu', 'vejo', 'o', 'git', 'como', 'algo', 'complexo', 'para', 'quem', 'precisa', 'de', 'controle', 'de', 'versão', 'simplificadamente', 'mas', 'admito', 'que', 'existem', 'algumas', 'vantagens', 'também', 'objetivamente', 'o', 'que', 'é', 'realmente', 'determinante', 'para', 'escolher', 'trocar', 'o', 'svn', 'pelo', 'git', 'em', 'um', 'cenário', 'de', 'desenvolvimento', 'individual', 'que', 'característica', 'matadora', 'pode', 'definir', 'esta', 'escolha', 'lembrese', 'que', 'algumas', 'das', 'vantagens', 'do', 'git', 'não', 'se', 'aplicam', 'a', 'este', 'cenário', 'há', 'vantagem', 'nisso', 'vou', 'perder', 'alguma', 'coisa', 'significativa', 'com', 'a', 'troca', 'algum', 'tempo', 'atrás', 'o', 'facebook', 'lançou', 'sua', 'própria', 'linguagem', 'de', 'programação', 'baseada', 'no', 'php', 'veja', 'tecnoblog', 'facebook', 'anuncia', 'hack', 'sua', 'própria', 'linguagem', 'de', 'programação', 'o', 'tecnoblog', 'explica', 'da', 'seguinte', 'maneira', 'a', 'diferença', 'entre', 'o', 'php', 'e', 'o', 'hack', 'ênfase', 'adicionada', 'o', 'objetivo', 'principal', 'sempre', 'foi', 'o', 'de', 'atacar', 'os', 'erros', 'no', 'comunicado', 'oficial', 'os', 'desenvolvedores', 'explicam', 'que', 'linguagens', 'dinâmicas', 'como', 'o', 'php', 'facilitam', 'o', 'desenvolvimento', 'rápido', 'mas', 'geralmente', 'tornam', 'a', 'detecção', 'de', 'erros', 'mais', 'difícil', 'uma', 'vez', 'que', 'as', 'falhas', 'só', 'são', 'percebidas', 'quando', 'o', 'programa', 'está', 'em', 'execução', 'o', 'que', 'é', 'particularmente', 'preocupante', 'em', 'projetos', 'muito', 'grandes', 'por', 'sua', 'vez', 'usando', 'linguagens', 'do', 'tipo', 'estática', 'como', 'c', 'os', 'desenvolvedores', 'podem', 'encontrar', 'erros', 'antes', 'da', 'efetiva', 'execução', 'do', 'código', 'com', 'a', 'possível', 'desvantagem', 'de', 'linguagens', 'como', 'esta', 'não', 'serem', 'tão', 'práticas', 'quanto', 'às', 'mais', 'atuais', 'como', 'consequência', 'o', 'hack', 'foi', 'criado', 'para', 'unir', 'o', 'melhor', 'dos', 'mundos', 'aparentemente', 'isso', 'significa', 'que', 'o', 'hack', 'suporta', 'declarar', 'o', 'tipo', 'de', 'retorno', 'das', 'funçõesmétodos', 'permitindo', 'que', 'as', 'ides', 'identifiquem', 'antecipadamente', 'erros', 'de', 'compilação', 'qual', 'a', 'diferença', 'entre', 'uma', 'linguagem', 'estática', 'e', 'dinâmica', 'existem', 'outras', 'diferenças', 'além', 'da', 'que', 'eu', 'consegui', 'identificar', 'acima', 'vantagens', 'e', 'desvantagens', 'podese', 'dizer', 'que', 'as', 'linguagens', 'de', 'script', 'são', 'sempre', 'dinâmicas', 'e', 'viceversa', 'veja', 'o', 'que', 'uma', 'linguagem', 'de', 'script', 'dizem', 'que', 'a', 'computação', 'quântica', 'irá', 'revolucionar', 'a', 'computação', 'caso', 'seja', 'implementada', 'de', 'maneira', 'bem', 'sucedida', 'por', 'que', 'isso', 'quais', 'as', 'principais', 'diferenças', 'entre', 'um', 'computador', 'quântico', 'e', 'um', 'computador', 'convencional', 'que', 'tornariam', 'o', 'primeiro', 'muito', 'mais', 'rápido', 'qual', 'é', 'a', 'diferença', 'entre', 'aspas', 'simples', 'e', 'aspas', 'duplas', 'em', 'php', 'ontem', 'estava', 'a', 'trabalhar', 'com', 'uma', 'string', 'de', 'um', 'json', 'do', 'google', 'calendar', 'usei', 'code', 'para', 'separar', 'uma', 'string', 'quando', 'usei', 'o', 'explode', 'em', 'code', 'com', 'code', 'deume', 'code', 'quando', 'usei', 'o', 'explode', 'em', 'code', 'com', 'code', 'deume', 'code', 'o', 'descrito', 'em', 'cima', 'foi', 'só', 'um', 'exemplo', 'prático', 'com', 'que', 'me', 'deparei', 'seria', 'interessante', 'saber', 'quais', 'são', 'as', 'diferenças', 'em', 'php', 'entre', 'code', 'e', 'code', 'estou', 'percebendo', 'a', 'adesão', 'do', 'angularjs', 'e', 'o', 'abandono', 'do', 'jquery', 'por', 'parte', 'de', 'alguns', 'desenvolvedores', 'no', 'entanto', 'não', 'conheço', 'as', 'vantagens', 'do', 'angularjs', 'pois', 'nunca', 'trabalhei', 'com', 'este', 'framework', 'visto', 'que', 'alguns', 'blogs', 'ex', 'jeremyzerr', 'paulhammant', 'encorajam', 'o', 'uso', 'do', 'angularjs', 'gostaria', 'de', 'saber', 'quais', 'as', 'diferenças', 'entre', 'esses', 'frameworks', 'e', 'se', 'vale', 'a', 'pena', 'a', 'troca', 'alguns', 'tópicos', 'tudo', 'que', 'é', 'feito', 'no', 'jquery', 'pode', 'ser', 'feito', 'no', 'angularjs', 'qual', 'utiliza', 'menos', 'código', 'qual', 'é', 'o', 'mais', 'rápido', 'no', 'processamento', 'qual', 'o', 'mais', 'leve', 'qual', 'é', 'o', 'de', 'mais', 'fácil', 'manutenção', 'como', 'é', 'a', 'curva', 'de', 'aprendizado', 'para', 'cada', 'um', 'quais', 'são', 'as', 'limitações', 'de', 'cada', 'um', 'o', 'que', 'um', 'faz', 'melhor', 'do', 'que', 'o', 'outro', 'é', 'legal', 'utilizar', 'ambos', 'ao', 'mesmo', 'tempo', 'obs', 'exemplos', 'são', 'bemvindos', 'eu', 'estudei', 'java', 'há', 'bastante', 'tempo', 'e', 'estou', 'bem', 'familiarizado', 'com', 'o', 'funcionamento', 'de', 'tipos', 'genéricos', 'nessa', 'linguagem', 'sei', 'que', 'só', 'existem', 'em', 'tempo', 'de', 'compilação', 'que', 'sofrem', 'type', 'erasure', 'ao', 'final', 'da', 'mesma', 'de', 'modo', 'que', 'no', 'tempo', 'de', 'execução', 'essas', 'informações', 'não', 'estão', 'disponíveis', 'e', 'tenho', 'uma', 'certa', 'noção', 'das', 'dificuldades', 'ao', 'se', 'aplicar', 'polimorfismo', 'em', 'tipos', 'genéricos', 'agora', 'estou', 'aprendendo', 'c', 'e', 'reparei', 'que', 'embora', 'essa', 'linguagem', 'use', 'notação', 'semelhante', 'code', 'a', 'semântica', 'não', 'parece', 'ser', 'a', 'mesma', 'por', 'exemplo', 'ao', 'ver', 'essa', 'pergunta', 'entendi', 'que', 'o', 'runtime', 'do', 'c', 'guarda', 'a', 'informação', 'dos', 'tipos', 'genéricos', 'em', 'vez', 'de', 'descartála', 'diferentemente', 'do', 'java', 'isso', 'está', 'correto', 'além', 'disso', 'nunca', 'vi', 'um', 'exemplo', 'em', 'c', 'que', 'utilizasse', 'coringas', 'wildcards', 'como', 'code', 'isso', 'é', 'possível', 'ou', 'mesmo', 'necessário', 'nessa', 'linguagem', 'por', 'fim', 'c', 'suporta', 'métodos', 'individuais', 'e', 'não', 'somente', 'classes', 'genéricos', 'se', 'sim', 'qual', 'a', 'sintaxe', 'equivalente', 'dessa', 'construção', 'em', 'java', 'code', 'se', 'houver', 'algum', 'detalhe', 'adicional', 'que', 'mereça', 'destaque', 'ou', 'talvez', 'algum', 'material', 'de', 'referência', 'para', 'aprender', 'mais', 'também', 'será', 'bemvindo', 'gostaria', 'de', 'saber', 'se', 'existe', 'alguma', 'forma', 'simples', 'de', 'realizar', 'um', 'upload', 'de', 'arquivos', 'via', 'ajax', 'json', 'se', 'houver', 'qual', 'seria', 'um', 'problema', 'pode', 'ser', 'resolvido', 'e', 'obter', 'o', 'mesmo', 'resultado', 'utilizado', 'um', 'loop', 'ou', 'através', 'de', 'chamadas', 'recursivas', 'a', 'uma', 'função', 'considerando', 'que', 'a', 'linguagem', 'de', 'programação', 'sendo', 'usada', 'possua', 'os', 'dois', 'recursos', 'como', 'saber', 'quando', 'um', 'é', 'melhor', 'que', 'o', 'outro', 'ao', 'se', 'criar', 'um', 'site', 'ou', 'aplicação', 'web', 'sempre', 'há', 'o', 'problema', 'do', 'que', 'fazer', 'quando', 'nem', 'todos', 'os', 'browsers', 'implementam', 'todas', 'as', 'funcionalidades', 'desejáveis', 'pelo', 'que', 'tenho', 'lido', 'há', 'duas', 'principais', 'maneiras', 'de', 'se', 'lidar', 'com', 'isso', 'graceful', 'degradation', 'degradação', 'suave', 'desenvolvese', 'pensando', 'num', 'ambiente', 'o', 'mais', 'completo', 'possível', 'mas', 'assegurandose', 'que', 'se', 'a', 'funcionalidade', 'x', 'ou', 'y', 'estiver', 'ausente', 'o', 'site', 'ainda', 'funcione', 'da', 'melhor', 'forma', 'possível', 'sem', 'ela', 'progressive', 'enhancement', 'enriquecimento', 'progressivo', 'desenvolvese', 'pensando', 'num', 'ambiente', 'o', 'mais', 'básico', 'possível', 'e', 'acrescentase', 'características', 'extra', 'caso', 'a', 'presença', 'da', 'funcionalidade', 'x', 'ou', 'y', 'seja', 'detectada', 'quais', 'as', 'vantagens', 'e', 'desvantagens', 'de', 'cada', 'uma', 'delas', 'há', 'situações', 'em', 'que', 'uma', 'é', 'mais', 'adequada', 'que', 'a', 'outra', 'ou', 'é', 'apenas', 'questão', 'de', 'preferência', 'estou', 'interessado', 'principalmente', 'no', 'aspecto', 'da', 'manutenabilidade', 'à', 'medida', 'que', 'características', 'novas', 'vão', 'sendo', 'introduzidas', 'aos', 'browsers', 'e', 'versões', 'antigas', 'dos', 'mesmos', 'caem', 'em', 'desuso', 'quais', 'as', 'implicações', 'disso', 'num', 'siteaplicação', 'desenvolvido', 'segundo', 'essas', 'estratégias', 'estou', 'iniciando', 'meus', 'estudos', 'na', 'área', 'de', 'engenharia', 'de', 'software', 'ouvi', 'muito', 'a', 'respeito', 'do', 'termo', 'design', 'patterns', 'e', 'sua', 'aplicabilidade', 'e', 'importância', 'em', 'projetos', 'de', 'software', 'segue', 'abaixo', 'uma', 'definição', 'em', 'engenharia', 'de', 'software', 'um', 'padrão', 'de', 'projeto', 'ou', 'padrão', 'de', 'desenho', 'do', 'inglês', 'design', 'pattern', 'é', 'uma', 'solução', 'geral', 'reutilizável', 'para', 'um', 'problema', 'que', 'ocorre', 'com', 'frequência', 'dentro', 'de', 'um', 'determinado', 'contexto', 'no', 'projeto', 'de', 'software', 'fonte', 'wikipédia', 'eu', 'não', 'consegui', 'visualizar', 'o', 'que', 'seriam', 'code', 'mas', 'afinal', 'o', 'que', 'ele', 'é', 'alguém', 'poderia', 'elucidar', 'o', 'que', 'devemos', 'levar', 'em', 'consideração', 'para', 'buscarmos', 'aplicar', 'estes', 'conceitos', 'em', 'um', 'projeto', 'de', 'software', 'talvez', 'isso', 'melhore', 'no', 'meu', 'entendimento', 'tenho', 'em', 'minha', 'aplicação', 'nomes', 'próprios', 'em', 'maiúsculo', 'por', 'exemplo', 'josé', 'da', 'silva', 'gostaria', 'de', 'formatar', 'da', 'seguinte', 'maneira', 'josé', 'da', 'silva', 'como', 'fazer', 'no', 'método', 'code', 'da', 'classe', 'code', 'eu', 'tenho', 'configurado', 'um', 'code', 'code', 'isso', 'faz', 'com', 'que', 'os', 'dados', 'recebidos', 'ou', 'enviados', 'por', 'json', 'sejam', 'convertidos', 'de', 'code', 'padrão', 'do', 'client', 'javascript', 'para', 'code', 'padrão', 'que', 'uso', 'nas', 'propriedades', 'no', 'server', 'e', 'viceversa', 'ex', 'de', 'json', 'que', 'a', 'api', 'recebe', 'num', 'método', 'code', 'normal', 'sem', 'usar', 'o', 'code', 'code', 'isso', 'é', 'traduzido', 'para', 'code', 'até', 'aí', 'tudo', 'bem', 'o', 'problema', 'é', 'que', 'eu', 'tenho', 'uma', 'code', 'code', 'em', 'um', 'code', 'que', 'faz', 'uso', 'do', 'code', 'e', 'as', 'requisições', 'que', 'são', 'enviadas', 'para', 'este', 'método', 'acabam', 'não', 'passando', 'por', 'esta', 'tradução', 'eu', 'li', 'em', 'alguns', 'lugares', 'que', 'o', 'odata', 'usa', 'um', 'serializador', 'e', 'um', 'deserializador', 'próprio', 'e', 'este', 'deve', 'ser', 'o', 'problema', 'método', 'code', 'do', 'code', 'code', 'existe', 'alguma', 'forma', 'de', 'tratar', 'o', 'casing', 'dos', 'dados', 'recebidos', 'em', 'code', 'que', 'usam', 'odata', 'eu', 'vou', 'precisar', 'escrever', 'um', 'novo', 'serializador', 'ou', 'já', 'tem', 'algo', 'pronto', 'que', 'possa', 'me', 'ajudar', 'com', 'isso', 'se', 'for', 'necessário', 'escrever', 'um', 'serializador', 'é', 'possível', 'me', 'ajudar', 'com', 'pelo', 'menos', 'a', 'implementação', 'básica', 'do', 'mesmo', 'exemplo', 'do', 'json', 'que', 'recebo', 'no', 'método', 'com', 'code', 'code', 'se', 'eu', 'enviar', 'o', 'json', 'como', 'o', 'abaixo', 'funciona', 'normal', 'code', 'obs', 'estou', 'usando', 'owin', 'mas', 'a', 'aplicação', 'está', 'sendo', 'hospedada', 'no', 'iis', 'usando', 'o', 'pacote', 'code', 'desenvolvo', 'um', 'sistema', 'de', 'gerenciamento', 'empresarial', 'há', 'algum', 'tempo', 'estou', 'precisando', 'adicionar', 'ao', 'mesmo', 'a', 'funcionalidade', 'de', 'emissão', 'de', 'nota', 'fiscal', 'eletrônica', 'no', 'padrão', 'brasileiro', 'existe', 'alguma', 'biblioteca', 'java', 'bem', 'testada', 'e', 'de', 'preferência', 'livre', 'e', 'de', 'código', 'aberto', 'que', 'me', 'ajude', 'com', 'isso', 'como', 'exportar', 'uma', 'página', 'html', 'para', 'um', 'ficheiro', 'pdf', 'tendo', 'um', 'documento', 'padrão', 'onde', 'possa', 'mudar', 'variáveis', 'dentro', 'desse', 'template', 'para', 'depois', 'exportar', 'essa', 'página', 'para', 'um', 'ficheiro', 'pdf', 'em', 'formato', 'a', 'sem', 'estragar', 'o', 'layout', 'exemplo', 'de', 'código', 'code', 'suponha', 'que', 'eu', 'tenha', 'uma', 'base', 'de', 'dados', 'enorme', 'que', 'não', 'caiba', 'na', 'memória', 'ram', 'quais', 'estratégias', 'para', 'analisar', 'esta', 'base', 'de', 'dados', 'no', 'r', 'uma', 'vez', 'que', 'não', 'posso', 'carregála', 'inteiramente', 'na', 'memória', 'ps', 'a', 'pergunta', 'não', 'trata', 'somente', 'de', 'como', 'fazer', 'o', 'r', 'conversar', 'com', 'uma', 'base', 'de', 'dados', 'relacionalnãorelacional', 'se', 'por', 'exemplo', 'os', 'seus', 'dados', 'estiverem', 'em', 'uma', 'base', 'de', 'dados', 'relacional', 'você', 'ainda', 'assim', 'não', 'pode', 'carregálos', 'todos', 'de', 'uma', 'vez', 'no', 'r', 'para', 'rodar', 'um', 'random', 'forest', 'ou', 'uma', 'regressão', 'por', 'exemplo', 'estou', 'aprendendo', 'php', 'e', 'pelos', 'exemplo', 'que', 'tenho', 'visto', 'na', 'internet', 'existe', 'uma', 'mistura', 'na', 'codificação', 'dos', 'programas', 'de', 'orientação', 'a', 'objeto', 'e', 'procedimentos', 'estruturados', 'isso', 'é', 'mesmo', 'comum', 'ou', 'estou', 'equivocado', 'se', 'php', 'é', 'uma', 'linguagem', 'orientada', 'a', 'objetos', 'até', 'que', 'ponto', 'é', 'interessante', 'ou', 'não', 'essa', 'mistura', 'qual', 'a', 'diferença', 'entre', 'uma', 'classe', 'abstrata', 'e', 'uma', 'interface', 'não', 'entendo', 'quando', 'eu', 'deveria', 'utilizar', 'uma', 'ou', 'outra', 'não', 'é', 'minha', 'intenção', 'trazer', 'a', 'confusão', 'dos', 'outros', 'para', 'o', 'site', 'porém', 'ficou', 'uma', 'dúvida', 'minha', 'interna', 'daquelas', 'coisas', 'que', 'se', 'tem', 'certeza', 'e', 'depois', 'vem', 'alguém', 'e', 'faz', 'uma', 'pergunta', 'que', 'mexe', 'com', 'as', 'certezas', 'antigas', 'vi', 'neste', 'site', 'a', 'classificação', 'do', 'top', 'das', 'linguagens', 'de', 'programação', 'e', 'notei', 'que', 'para', 'algumas', 'pessoas', 'html', 'é', 'uma', 'linguagem', 'de', 'programação', 'e', 'para', 'outras', 'não', 'dúvida', 'html', 'é', 'uma', 'linguagem', 'de', 'programação', 'ou', 'não', 'tenho', 'o', 'seguinte', 'código', 'utilizando', 'a', 'função', 'code', 'do', 'php', 'code', 'e', 'quando', 'ela', 'é', 'acionada', 'reporta', 'o', 'seguinte', 'erro', 'cannot', 'modify', 'header', 'information', 'headers', 'already', 'sent', 'by', 'por', 'que', 'que', 'isto', 'possivelmente', 'ocorre', 'nesta', 'pergunta', 'aqui', 'eu', 'cito', 'que', 'java', 'é', 'uma', 'linguagem', 'interpretada', 'pois', 'sempre', 'entendi', 'dessa', 'maneira', 'mas', 'fui', 'corrigido', 'neste', 'comentário', 'de', 'que', 'java', 'não', 'é', 'mais', 'interpretado', 'assim', 'fiquei', 'com', 'algumas', 'dúvidas', 'o', 'que', 'é', 'uma', 'linguagem', 'interpretada', 'então', 'java', 'já', 'foi', 'interpretado', 'mas', 'não', 'é', 'mais', 'é', 'isso', 'mesmo', 'se', 'eu', 'fizer', 'o', 'hash', 'de', 'senhas', 'antes', 'de', 'armazenálas', 'em', 'meu', 'banco', 'de', 'dados', 'é', 'suficiente', 'para', 'evitar', 'que', 'elas', 'sejam', 'recuperadas', 'por', 'alguém', 'estou', 'falando', 'apenas', 'da', 'recuperação', 'diretamente', 'do', 'banco', 'de', 'dados', 'e', 'não', 'qualquer', 'outro', 'tipo', 'de', 'ataque', 'como', 'força', 'bruta', 'na', 'página', 'de', 'login', 'da', 'aplicação', 'keylogger', 'no', 'cliente', 'e', 'criptoanálise', 'rubberhose', 'qualquer', 'forma', 'de', 'hash', 'não', 'vai', 'impedir', 'esses', 'ataques', 'tenho', 'preocupação', 'em', 'dificultar', 'ou', 'até', 'impossibilitar', 'a', 'obtenção', 'das', 'senhas', 'originais', 'caso', 'o', 'banco', 'de', 'dados', 'seja', 'comprometido', 'como', 'dar', 'maior', 'garantia', 'de', 'segurança', 'neste', 'aspecto', 'quais', 'preocupações', 'adicionais', 'evitariam', 'o', 'acesso', 'às', 'senhas', 'existem', 'formas', 'melhores', 'de', 'fazer', 'esse', 'hash', 'eu', 'sempre', 'usei', 'endpoint', 'e', 'api', 'como', 'sinônimos', 'hoje', 'descobri', 'que', 'eles', 'não', 'querem', 'dizer', 'a', 'mesma', 'coisa', 'embora', 'estejam', 'relacionados', 'afinal', 'qual', 'a', 'diferença', 'entre', 'esses', 'dois', 'no', 'r', 'isso', 'seria', 'muito', 'simples', 'code', 'se', 'você', 'chamar', 'code', 'sem', 'argumentos', 'o', 'resultado', 'será', 'code', 'como', 'fazer', 'o', 'mesmo', 'em', 'javascript', 'e', 'como', 'saber', 'se', 'existem', 'valores', 'code', 'na', 'função', 'sem', 'ter', 'que', 'ler', 'o', 'código', 'começarei', 'um', 'projeto', 'em', 'c', 'que', 'terá', 'como', 'code', 'uma', 'placa', 'colibri', 't', 'com', 'processador', 'nvidia', 'tegra', 'arm', 'rodando', 'uma', 'versão', 'leve', 'de', 'linux', 'gostaria', 'de', 'saber', 'se', 'além', 'de', 'ter', 'que', 'utilizar', 'um', 'compilador', 'cruzado', 'compatível', 'com', 'o', 'processador', 'eu', 'preciso', 'me', 'preocupar', 'com', 'algum', 'outro', 'detalhe', 'específico', 'da', 'arquitetura', 'arm', 'pelo', 'que', 'li', 'parece', 'que', 'a', 'arquitetura', 'do', 'processador', 'só', 'importa', 'se', 'eu', 'estiver', 'programando', 'em', 'assembly', 'estou', 'errado', 'não', 'sei', 'se', 'é', 'relevante', 'mas', 'meu', 'code', 'é', 'ubuntu', 'linux', 'no', 'desenvolvimento', 'de', 'um', 'portal', 'web', 'utilizando', 'o', 'git', 'fizemos', 'o', 'controle', 'de', 'tudo', 'que', 'foi', 'alterado', 'a', 'nível', 'de', 'código', 'no', 'ambiente', 'homologação', 'e', 'com', 'o', 'jenkins', 'subimos', 'o', 'site', 'para', 'o', 'ambiente', 'de', 'produção', 'para', 'migrar', 'o', 'banco', 'foi', 'feita', 'um', 'dump', 'de', 'toda', 'a', 'base', 'que', 'foi', 'colocada', 'no', 'outro', 'ambiente', 'o', 'problema', 'está', 'nas', 'próximas', 'modificações', 'que', 'interfiram', 'na', 'estrutura', 'ou', 'no', 'conteúdo', 'do', 'banco', 'de', 'dados', 'com', 'o', 'site', 'sendo', 'utilizado', 'novos', 'conteúdos', 'vão', 'sendo', 'adicionados', 'e', 'já', 'não', 'posso', 'realizar', 'uma', 'nova', 'cópia', 'do', 'ambiente', 'de', 'homologação', 'sem', 'riscos', 'de', 'perder', 'informações', 'se', 'todas', 'as', 'alterações', 'no', 'banco', 'fossem', 'feitas', 'manualmente', 'eu', 'poderia', 'gerar', 'um', 'arquivo', 'sql', 'e', 'rodar', 'ele', 'no', 'produção', 'quando', 'fosse', 'subir', 'novas', 'alterações', 'mas', 'a', 'instalação', 'de', 'módulos', 'e', 'componentes', 'no', 'site', 'gera', 'alterações', 'no', 'banco', 'que', 'podem', 'não', 'ser', 'tão', 'simples', 'de', 'controlar', 'manualmente', 'gostaria', 'de', 'saber', 'se', 'há', 'uma', 'forma', 'de', 'versionar', 'o', 'banco', 'de', 'dados', 'assim', 'como', 'usamos', 'o', 'git', 'para', 'versionar', 'o', 'códigofonte', 'update', 'minha', 'principal', 'necessidade', 'é', 'encontrar', 'uma', 'maneiramétodo', 'para', 'replicar', 'as', 'alterações', 'feitas', 'no', 'ambiente', 'de', 'desenvolvimento', 'para', 'o', 'ambiente', 'de', 'homologação', 'e', 'produção', 'estou', 'fazendo', 'uma', 'implementação', 'de', 'um', 'jogo', 'em', 'assembly', 'no', 'proteus', 'eu', 'sorteio', 'dois', 'números', 'aleatórios', 'de', 'até', 'e', 'preciso', 'gerar', 'no', 'lcd', 'uma', 'imagem', 'referente', 'aos', 'números', 'que', 'eu', 'gerei', 'exemplo', 'se', 'eu', 'gerar', 'o', 'número', 'a', 'imagem', 'que', 'vai', 'aparecer', 'no', 'display', 'é', 'se', 'eu', 'gerar', 'o', 'número', 'a', 'imagem', 'que', 'vai', 'aparecer', 'no', 'display', 'é', 'implementação', 'foi', 'feita', 'da', 'seguinte', 'maneira', 'code', 'no', 'código', 'escrevi', 'assim', 'para', 'gerar', 'o', 'número', 'aleatório', 'e', 'guardar', 'nas', 'variáveis', 'auxiliares', 'para', 'comparação', 'no', 'final', 'do', 'jogo', 'code', 'eu', 'tenho', 'number', 'e', 'number', 'os', 'valores', 'dos', 'números', 'aleatórios', 'gerados', 'eu', 'fiz', 'da', 'seguinte', 'maneira', 'para', 'buscar', 'o', 'número', 'gerado', 'e', 'armazenar', 'a', 'posição', 'de', 'memória', 'da', 'imagem', 'referente', 'ao', 'número', 'armazeno', 'em', 'bl', 'antes', 'de', 'chamar', 'code', 'o', 'valor', 'para', 'buscar', 'a', 'imagem', 'do', 'number', 'e', 'para', 'a', 'number', 'em', 'ax', 'contém', 'o', 'valor', 'do', 'number', 'code', 'para', 'cada', 'just', 'equals', 'eu', 'chamo', 'assim', 'code', 'mas', 'não', 'acho', 'que', 'é', 'a', 'melhor', 'solução', 'alguém', 'saberia', 'um', 'método', 'mais', 'prático', 'criar', 'uma', 'nova', 'variável', 'e', 'armazenar', 'como', 'fosse', 'um', 'array', 'de', 'posições', 'de', 'memória', 'se', 'eu', 'querer', 'a', 'imagem', 'eu', 'somente', 'iria', 'fazer', 'code', 'ou', 'imagem', 'code', 'algo', 'assim', 'obs', 'sim', 'atualmente', 'eu', 'gerei', 'variáveis', 'para', 'armazenar', 'cada', 'imagem', 'referente', 'a', 'cada', 'número', 'meu', 'editor', 'está', 'até', 'travando', 'pela', 'quantidade', 'de', 'informações', 'no', 'código', 'escrevi', 'linhas', 'só', 'para', 'comparar', 'qual', 'é', 'o', 'número', 'gerado', 'e', 'tive', 'que', 'escrever', 'linhas', 'referente', 'as', 'imagens', 'de', 'cada', 'número', 'ds', 'significa', 'data', 'segment', 'passei', 'pelas', 'linguagens', 'php', 'c', 'c', 'javascript', 'e', 'agora', 'estou', 'trabalhando', 'com', 'c', 'nesse', 'tempo', 'todo', 'sempre', 'ouvi', 'dizer', 'que', 'é', 'importante', 'ter', 'códigos', 'bem', 'comentados', 'mas', 'eu', 'nunca', 'soube', 'a', 'medida', 'certa', 'de', 'comentários', 'ou', 'comento', 'de', 'mais', 'ou', 'comento', 'de', 'menos', 'além', 'disso', 'no', 'c', 'tem', 'aquele', 'comentário', 'com', 'três', 'barras', 'que', 'basicamente', 'gera', 'algo', 'assim', 'code', 'e', 'ainda', 'tem', 'um', 'comentário', 'que', 'normalmente', 'alguns', 'programadores', 'colocam', 'no', 'topo', 'do', 'código', 'com', 'várias', 'informações', 'como', 'nome', 'do', 'programador', 'data', 'versão', 'etc', 'dessa', 'forma', 'qual', 'a', 'medida', 'certa', 'de', 'comentários', 'para', 'que', 'eles', 'ajudem', 'na', 'compreensão', 'do', 'código', 'invés', 'de', 'simplesmente', 'poluílo', 'precisei', 'desenvolver', 'uma', 'rotina', 'que', 'pegasse', 'a', 'cotação', 'de', 'venda', 'do', 'dólar', 'e', 'inserisse', 'em', 'uma', 'tabela', 'no', 'banco', 'o', 'banco', 'central', 'disponibiliza', 'um', 'webservice', 'onde', 'é', 'possível', 'fazer', 'as', 'consultas', 'para', 'isso', 'basta', 'informar', 'um', 'código', 'e', 'ele', 'tornar', 'a', 'cotação', 'para', 'você', 'o', 'problema', 'que', 'tenho', 'é', 'em', 'conseguir', 'a', 'documentação', 'que', 'informe', 'o', 'que', 'cada', 'código', 'retorna', 'não', 'encontrei', 'nada', 'no', 'site', 'do', 'banco', 'central', 'quais', 'códigos', 'de', 'moeda', 'esse', 'serviço', 'aceita', 'onde', 'conseguir', 'essa', 'documentação', 'andei', 'lendo', 'sobre', 'nosql', 'nos', 'últimos', 'tempos', 'pois', 'a', 'primeira', 'impressão', 'que', 'tive', 'sobre', 'a', 'tecnologia', 'foi', 'boa', 'fiz', 'testes', 'com', 'mongodb', 'especificamente', 'e', 'achei', 'muito', 'prático', 'e', 'bem', 'mais', 'fácil', 'do', 'que', 'bancos', 'de', 'dados', 'relacionais', 'também', 'tive', 'a', 'impressão', 'de', 'que', 'esse', 'tipo', 'de', 'banco', 'de', 'dados', 'é', 'mais', 'compatível', 'com', 'a', 'orientação', 'à', 'objetos', 'e', 'por', 'isso', 'fiquei', 'bastante', 'interessado', 'no', 'assunto', 'acontece', 'que', 'lendo', 'comecei', 'a', 'ver', 'muitas', 'opiniões', 'negativas', 'a', 'respeito', 'dessa', 'tecnologia', 'ouvi', 'falar', 'sobre', 'o', 'teorema', 'cap', 'que', 'implicaria', 'que', 'um', 'banco', 'de', 'dados', 'nosql', 'ou', 'não', 'terá', 'disponibilidade', 'ou', 'não', 'terá', 'consistência', 'isso', 'é', 'uma', 'coisa', 'muito', 'preocupamente', 'porque', 'até', 'hoje', 'não', 'encontrei', 'casos', 'em', 'que', 'é', 'possível', 'abrir', 'mão', 'de', 'uma', 'dessas', 'coisas', 'na', 'realidade', 'construir', 'um', 'sistema', 'que', 'pode', 'vir', 'a', 'não', 'ter', 'os', 'dados', 'disponíveis', 'ou', 'não', 'ter', 'garantia', 'de', 'que', 'os', 'dados', 'exibidos', 'estão', 'corretos', 'me', 'parece', 'uma', 'coisa', 'extremamente', 'problemática', 'vi', 'até', 'um', 'programador', 'falando', 'já', 'que', 'esse', 'tipo', 'de', 'tecnologia', 'provavelmente', 'não', 'vai', 'ser', 'muito', 'usada', 'sendo', 'que', 'os', 'bancos', 'relacionais', 'continuam', 'sendo', 'mais', 'indicados', 'se', 'por', 'um', 'lado', 'tem', 'tudo', 'isso', 'por', 'outro', 'lado', 'senti', 'muito', 'mais', 'facilidade', 'e', 'naturalidade', 'ao', 'usar', 'o', 'nosql', 'dessa', 'forma', 'gostaria', 'de', 'saber', 'o', 'nosql', 'é', 'tão', 'problemático', 'assim', 'como', 'parece', 'não', 'há', 'nenhuma', 'forma', 'de', 'contornar', 'esses', 'problemas', 'ou', 'o', 'nosql', 'realmente', 'só', 'tem', 'alguns', 'poucos', 'usos', 'nos', 'quais', 'os', 'dados', 'podem', 'nem', 'sempre', 'ser', 'corretos', 'ou', 'nem', 'sempre', 'disponíveis', 'a', 'ideia', 'dos', 'microsserviços', 'é', 'boa', 'mas', 'não', 'entendo', 'bem', 'como', 'resolver', 'certos', 'problemas', 'talvez', 'o', 'problema', 'seja', 'como', 'ela', 'é', 'vendida', 'não', 'vejo', 'muito', 'se', 'falar', 'quando', 'usar', 'ou', 'quando', 'evitar', 'parece', 'que', 'tudo', 'pode', 'usar', 'a', 'tecnologia', 'sem', 'muitos', 'sobressaltos', 'mas', 'nada', 'é', 'simples', 'e', 'universal', 'assim', 'a', 'aplicação', 'em', 'si', 'é', 'tranquilo', 'entender', 'mas', 'queria', 'entender', 'sobre', 'banco', 'de', 'dados', 'em', 'leitura', 'não', 'parece', 'muito', 'complicado', 'é', 'possível', 'pedir', 'dados', 'de', 'bases', 'diferentes', 'e', 'juntar', 'tudo', 'dá', 'para', 'questionar', 'se', 'isto', 'é', 'o', 'mais', 'eficiente', 'mas', 'não', 'vejo', 'complicadores', 'muito', 'fortes', 'pelo', 'menos', 'não', 'mais', 'que', 'os', 'complicadores', 'que', 'microsserviços', 'trazem', 'eu', 'entendo', 'que', 'certas', 'atividades', 'de', 'uma', 'solução', 'são', 'isoladas', 'e', 'podem', 'ser', 'um', 'microsserviço', 'fácil', 'mas', 'outras', 'me', 'parecem', 'integradas', 'demais', 'para', 'poderem', 'ser', 'separadas', 'mais', 'ainda', 'o', 'que', 'pode', 'parecer', 'se', 'mostrar', 'ótimo', 'isoladamente', 'mas', 'depois', 'parece', 'um', 'caso', 'que', 'precisa', 'de', 'uma', 'integração', 'especificamente', 'penso', 'em', 'transações', 'qual', 'é', 'a', 'solução', 'quando', 'você', 'faz', 'uma', 'venda', 'e', 'deve', 'atualizar', 'diversas', 'tabelas', 'de', 'dados', 'tudo', 'tem', 'que', 'estar', 'em', 'um', 'microsserviço', 'único', 'mas', 'aí', 'tem', 'uma', 'série', 'de', 'tabelas', 'que', 'precisam', 'estar', 'em', 'uma', 'outra', 'transação', 'que', 'envolve', 'outras', 'tabelas', 'aí', 'me', 'parece', 'que', 'todas', 'as', 'tabelas', 'deveriam', 'estar', 'juntas', 'mesmo', 'que', 'nem', 'todas', 'se', 'relacionem', 'diretamente', 'ou', 'seja', 'você', 'quebra', 'a', 'aplicação', 'em', 'serviços', 'específicos', 'mas', 'continua', 'tendo', 'um', 'ponto', 'único', 'de', 'falha', 'e', 'manutenção', 'tem', 'suas', 'vantagens', 'mas', 'não', 'é', 'tão', 'grande', 'assim', 'uma', 'solução', 'seria', 'criar', 'um', 'sistema', 'de', 'transações', 'na', 'aplicação', 'que', 'garante', 'o', 'acid', 'em', 'diversas', 'bases', 'de', 'dados', 'mas', 'isto', 'é', 'bem', 'complicado', 'será', 'que', 'só', 'funciona', 'onde', 'o', 'cap', 'é', 'admitidamente', 'viável', 'enfim', 'tem', 'alguma', 'solução', 'para', 'micronizar', 'o', 'banco', 'de', 'dados', 'quando', 'o', 'acid', 'é', 'necessário', 'só', 'funciona', 'com', 'algumas', 'tecnologias', 'de', 'banco', 'de', 'dados', 'que', 'suportem', 'isso', 'estou', 'enganado', 'em', 'alguma', 'suposição', 'minha', 'nesta', 'outra', 'pergunta', 'eu', 'perguntei', 'a', 'mesma', 'coisa', 'mas', 'em', 'relação', 'a', 'java', 'agora', 'pergunto', 'sobre', 'o', 'javascript', 'pelo', 'que', 'eu', 'saiba', 'historicamente', 'o', 'javascript', 'sempre', 'foi', 'interpretado', 'mas', 'o', 'google', 'mudou', 'isso', 'com', 'o', 'v', 'no', 'chromium', 'estou', 'certo', 'ou', 'errado', 'e', 'em', 'relação', 'aos', 'outros', 'browsers', 'como', 'o', 'firefox', 'e', 'ie', 'ainda', 'é', 'interpretado', 'já', 'li', 'alguns', 'comentários', 'na', 'web', 'a', 'respeito', 'de', 'utilizar', 'ou', 'não', 'o', 'code', 'no', 'final', 'das', 'linhas', 'quando', 'se', 'escreve', 'javascript', 'alguns', 'dizem', 'que', 'sim', 'outros', 'dizem', 'não', 'ter', 'necessidade', 'mas', 'nenhum', 'sabe', 'explicar', 'bem', 'os', 'motivos', 'das', 'divergências', 'exemplo', 'code', 'o', 'interessante', 'é', 'que', 'mesmo', 'esquecendo', 'o', 'code', 'no', 'meu', 'código', 'as', 'vezes', 'ele', 'continua', 'rodando', 'sem', 'problemas', 'e', 'sem', 'disparar', 'erros', 'então', 'o', 'correto', 'é', 'usar', 'ou', 'não', 'o', 'famoso', 'ponto', 'e', 'vírgula', 'conforme', 'a', 'especificação', 'do', 'java', 'grande', 'parte', 'da', 'api', 'do', 'swing', 'não', 'é', 'threadsafe', 'e', 'deve', 'rodar', 'na', 'event', 'dispatch', 'thread', 'como', 'após', 'inicializar', 'o', 'gui', 'os', 'eventos', 'são', 'disparados', 'de', 'dentro', 'da', 'própria', 'edt', 'a', 'não', 'ser', 'que', 'você', 'esteja', 'usando', 'threads', 'em', 'background', 'que', 'precisam', 'atualizar', 'a', 'ui', 'isso', 'não', 'costuma', 'ser', 'um', 'problema', 'porém', 'como', 'o', 'método', 'code', 'roda', 'em', 'sua', 'própria', 'thread', 'inicial', 'é', 'comum', 'o', 'uso', 'de', 'code', 'para', 'despachar', 'a', 'exibição', 'da', 'gui', 'para', 'a', 'edt', 'code', 'veja', 'que', 'após', 'exibir', 'a', 'tela', 'o', 'método', 'code', 'não', 'executa', 'mais', 'nada', 'na', 'teoria', 'nenhum', 'código', 'concorrente', 'à', 'edt', 'parece', 'ser', 'executado', 'na', 'thread', 'principal', 'minha', 'dúvida', 'é', 'existe', 'um', 'motivo', 'para', 'termos', 'que', 'despachar', 'a', 'criação', 'da', 'tela', 'para', 'a', 'edt', 'na', 'stack', 'overflow', 'em', 'inglês', 'encontrei', 'uma', 'referência', 'que', 'aponta', 'para', 'a', 'documentação', 'dizendo', 'que', 'a', 'thread', 'inicial', 'não', 'deve', 'criar', 'o', 'gui', 'pois', 'quase', 'todo', 'o', 'código', 'que', 'cria', 'ou', 'interage', 'com', 'componentes', 'swing', 'deve', 'rodar', 'na', 'edt', 'esse', 'dias', 'porém', 'vi', 'o', 'código', 'de', 'uma', 'aplicação', 'que', 'está', 'rodando', 'a', 'quase', 'anos', 'em', 'produção', 'esse', 'código', 'cria', 'e', 'exibe', 'a', 'code', 'principal', 'diretamente', 'do', 'code', 'nunca', 'houve', 'nenhum', 'problema', 'reportado', 'sobre', 'o', 'funcionamento', 'dessa', 'aplicação', 'nesse', 'sentido', 'quais', 'seriam', 'os', 'problemas', 'de', 'concorrência', 'possíveis', 'se', 'não', 'usarmos', 'code', 'o', 'que', 'ficará', 'rodando', 'na', 'thread', 'principal', 'e', 'o', 'que', 'ficará', 'rodando', 'na', 'edt', 'eg', 'a', 'code', 'principal', 'fica', 'na', 'thread', 'principal', 'mas', 'seus', 'eventos', 'vão', 'para', 'a', 'edt', 'qual', 'a', 'diferença', 'entre', 'code', 'e', 'code', 'ambas', 'são', 'muito', 'parecidas', 'mas', 'em', 'qual', 'caso', 'é', 'melhor', 'usar', 'uma', 'ou', 'a', 'outra', 'gostaria', 'de', 'código', 'de', 'exemplos', 'estou', 'desenvolvendo', 'um', 'sistema', 'help', 'desk', 'e', 'gostaria', 'de', 'algumas', 'idéias', 'de', 'como', 'criar', 'um', 'sistema', 'de', 'notificação', 'semelhante', 'ao', 'próprio', 'stack', 'overflow', 'sempre', 'que', 'algum', 'novo', 'suporte', 'for', 'cadastrado', 'pretendo', 'utilizar', 'php', 'mysql', 'e', 'jquery', 'apenas', 'devo', 'utilizar', 'o', 'code', 'para', 'verificar', 'no', 'banco', 'de', 'tempos', 'em', 'tempos', 'se', 'um', 'novo', 'chamado', 'for', 'registrado', 'sempre', 'achei', 'que', 'o', 'operador', 'code', 'funcionava', 'apenas', 'como', 'uma', 'forma', 'mais', 'curta', 'para', 'o', 'incremento', 'tradicional', 'por', 'exemplo', 'code', 'ao', 'invés', 'de', 'code', 'mas', 'ao', 'realizar', 'o', 'seguinte', 'experimento', 'code', 'então', 'quando', 'executo', 'code', 'resulta', 'em', 'erro', 'enquanto', 'code', 'compila', 'normalmente', 'diante', 'disso', 'será', 'que', 'é', 'possível', 'afirmar', 'que', 'code', 'na', 'verdade', 'é', 'semelhante', 'a', 'code', 'quando', 'estou', 'escrevendo', 'programas', 'normalmente', 'eu', 'escrevo', 'os', 'nomes', 'de', 'variáveis', 'em', 'inglês', 'por', 'exemplo', 'code', 'por', 'vários', 'motivos', 'nomes', 'em', 'inglês', 'não', 'têm', 'acentos', 'então', 'não', 'fica', 'um', 'negócio', 'estranho', 'como', 'code', 'os', 'nomes', 'normalmente', 'são', 'menores', 'ref', 'o', 'código', 'poderá', 'um', 'dia', 'ser', 'mantido', 'por', 'alguém', 'que', 'não', 'fala', 'a', 'língua', 'portuguesa', 'as', 'apis', 'quase', 'sempre', 'são', 'todas', 'em', 'inglês', 'porém', 'há', 'outras', 'coisas', 'que', 'eu', 'prefiro', 'manter', 'em', 'português', 'principalmente', 'se', 'for', 'do', 'contexto', 'do', 'sistema', 'comentários', 'nomes', 'de', 'classes', 'ou', 'tabelas', 'por', 'exemplo', 'code', 'por', 'esse', 'motivo', 'algumas', 'vezes', 'os', 'nomes', 'em', 'português', 'se', 'misturam', 'com', 'inglês', 'por', 'exemplo', 'pode', 'haver', 'uma', 'code', 'enquanto', 'é', 'perfeitamente', 'compreensível', 'isso', 'me', 'parece', 'estranho', 'levandose', 'também', 'em', 'consideração', 'que', 'todo', 'programador', 'deve', 'ter', 'noções', 'básicas', 'de', 'inglês', 'qual', 'é', 'o', 'método', 'preferido', 'para', 'a', 'escolha', 'do', 'idioma', 'que', 'eu', 'devo', 'usar', 'ao', 'programar', 'quais', 'as', 'vantagens', 'de', 'escolher', 'um', 'método', 'ou', 'o', 'outro', 'quando', 'estudei', 'java', 'aprendi', 'que', 'exceções', 'somente', 'deveriam', 'ser', 'usadas', 'em', 'situações', 'bem', 'excepcionais', 'ie', 'um', 'erro', 'uma', 'condição', 'não', 'prevista', 'etc', 'jamais', 'para', 'controle', 'de', 'fluxo', 'normal', 'não', 'só', 'por', 'ser', 'menos', 'performático', 'criar', 'uma', 'exceção', 'envolve', 'montar', 'um', 'stack', 'trace', 'dentre', 'outras', 'coisas', 'mas', 'por', 'ser', 'menos', 'elegante', 'e', 'correto', 'o', 'ideal', 'sendo', 'testar', 'as', 'précondições', 'antes', 'de', 'se', 'fazer', 'uma', 'operação', 'ou', 'chamar', 'um', 'método', 'ou', 'para', 'sinalizar', 'um', 'erro', 'ao', 'chamador', 'usar', 'um', 'código', 'de', 'erro', 'ou', 'similar', 'somente', 'nos', 'casos', 'realmente', 'imprevisíveis', 'é', 'que', 'seria', 'adequado', 'se', 'usar', 'um', 'code', 'entretanto', 'ao', 'aprender', 'python', 'me', 'deparei', 'com', 'uma', 'filosofia', 'bastante', 'diferente', 'nessa', 'linguagem', 'há', 'muitos', 'casos', 'em', 'que', 'o', 'modo', 'recomendado', 'e', 'às', 'vezes', 'o', 'único', 'modo', 'de', 'se', 'tratar', 'uma', 'condição', 'indesejada', 'é', 'tentar', 'executála', 'e', 'se', 'algo', 'der', 'errado', 'capturar', 'a', 'exceção', 'não', 'há', 'menção', 'a', 'performance', 'e', 'muitas', 'vezes', 'justificase', 'essa', 'abordagem', 'para', 'se', 'prevenir', 'condições', 'de', 'corrida', 'ex', 'em', 'vez', 'de', 'testar', 'se', 'um', 'arquivo', 'existe', 'antes', 'de', 'abrilo', 'simplesmente', 'abrao', 'de', 'uma', 'vez', 'afinal', 'ele', 'poderia', 'ser', 'apagado', 'entre', 'o', 'teste', 'e', 'o', 'uso', 'e', 'se', 'o', 'programa', 'não', 'está', 'preparado', 'para', 'isso', 'seu', 'comportamento', 'nessa', 'situação', 'pode', 'ficar', 'incorreto', 'entendo', 'que', 'se', 'uma', 'linguagemplataforma', 'segue', 'um', 'determinado', 'paradigma', 'é', 'aconselhável', 'se', 'ater', 'a', 'ele', 'nem', 'que', 'seja', 'por', 'questões', 'de', 'consistência', 'mas', 'assumindose', 'que', 'não', 'só', 'linguagens', 'novas', 'possam', 'ser', 'criadas', 'como', 'as', 'existentes', 'possam', 'ser', 'aprimoradas', 'pergunto', 'existem', 'vantagens', 'claras', 'de', 'um', 'desses', 'paradigmas', 'sobre', 'o', 'outro', 'ou', 'talvez', 'situações', 'específicas', 'em', 'que', 'se', 'justifique', 'usar', 'um', 'ou', 'outro', 'padrão', 'mesmo', 'que', 'contrarie', 'as', 'recomendações', 'oficiais', 'que', 'parâmetros', 'eu', 'devo', 'observar', 'ao', 'decidir', 'entre', 'uma', 'abordagem', 'e', 'outra', 'a', 'título', 'de', 'exemplo', 'há', 'muitas', 'situações', 'em', 'que', 'o', 'argumento', 'da', 'condição', 'de', 'corrida', 'não', 'se', 'aplica', 'quando', 'os', 'dados', 'envolvidos', 'na', 'operação', 'são', 'imutáveis', 'por', 'exemplo', 'por', 'fim', 'há', 'algum', 'meio', 'termo', 'razoável', 'que', 'combine', 'os', 'benefícios', 'de', 'ambos', 'sem', 'que', 'o', 'ônus', 'caia', 'no', 'programador', 'por', 'exemplo', 'poderia', 'testar', 'se', 'o', 'arquivo', 'existe', 'e', 'usar', 'um', 'code', 'em', 'seguida', 'mas', 'isso', 'seria', 'redundante', 'nota', 'peço', 'que', 'esse', 'último', 'ponto', 'caso', 'abordado', 'na', 'resposta', 'venha', 'acompanhado', 'de', 'fontes', 'confiáveis', 'para', 'evitar', 'mera', 'especulação', 'ps', 'algumas', 'referências', 'demonstrando', 'que', 'esse', 'uso', 'corriqueiro', 'de', 'exceções', 'é', 'de', 'fato', 'bastante', 'recomendado', 'na', 'comunidade', 'python', 'em', 'oposição', 'à', 'maioria', 'das', 'outras', 'better', 'to', 'try', 'something', 'and', 'catch', 'the', 'exception', 'or', 'test', 'if', 'its', 'possible', 'first', 'to', 'avoid', 'an', 'exception', 'is', 'it', 'a', 'good', 'practice', 'to', 'use', 'tryexceptelse', 'in', 'python', 'how', 'do', 'i', 'check', 'if', 'a', 'string', 'is', 'a', 'number', 'in', 'python', 'python', 'exception', 'handling', 'techniques', 'look', 'before', 'you', 'leap', 'vs', 'easier', 'to', 'ask', 'for', 'forgiveness', 'than', 'permission', 'exceptions', 'and', 'file', 'handling', 'dive', 'into', 'python', 'estou', 'desenvolvendo', 'um', 'projeto', 'para', 'automação', 'comercial', 'utilizando', 'pafecf', 'e', 'tudo', 'o', 'mais', 'aual', 'seria', 'o', 'melhor', 'tipo', 'de', 'dados', 'para', 'trabalhar', 'com', 'sql', 'server', 'e', 'c', 'para', 'questões', 'de', 'dinheiro', 'principalmente', 'em', 'relação', 'a', 'arredondamentos', 'e', 'truncamentos', 'imagino', 'que', 'as', 'melhores', 'opções', 'sejam', 'code', 'code', 'ou', 'code', 'mas', 'não', 'consigo', 'encontrar', 'boas', 'fontes', 'confiáveis', 'que', 'se', 'adaptam', 'ao', 'meu', 'caso', 'para', 'que', 'eu', 'possa', 'implementar', 'com', 'segurança', 'em', 'um', 'tabuleiro', 'de', 'xadrez', 'em', 'qualquer', 'casa', 'possuo', 'um', 'cavalo', 'representado', 'em', 'vermelho', 'e', 'terei', 'somente', 'uma', 'outra', 'peça', 'representada', 'em', 'verde', 'que', 'o', 'cavalo', 'deve', 'ir', 'até', 'ela', 'devo', 'utilizar', 'o', 'caminho', 'mais', 'simples', 'e', 'levar', 'em', 'consideração', 'o', 'movimento', 'do', 'cavalo', 'em', 'l', 'e', 'contabilizar', 'os', 'movimentos', 'até', 'chegar', 'no', 'ponto', 'determinado', 'como', 'no', 'exemplo', 'abaixo', 'como', 'posso', 'fazer', 'isso', 'usando', 'python', 'tenho', 'em', 'mente', 'que', 'tenho', 'que', 'usar', 'matriz', 'e', 'uma', 'lista', 'como', 'entrada', 'de', 'posição', 'mas', 'não', 'sei', 'como', 'continuar', 'temos', 'alguns', 'paradigmas', 'de', 'programação', 'bem', 'conhecidos', 'porém', 'bati', 'de', 'frente', 'com', 'esse', 'paradigma', 'e', 'me', 'surgiu', 'algumas', 'dúvidas', 'onde', 'é', 'aplicado', 'existe', 'algum', 'exemplo', 'de', 'onde', 'já', 'foi', 'utilizado', 'com', 'sucesso', 'qual', 'a', 'diferença', 'da', 'orientação', 'a', 'objetos', 'x', 'orientação', 'a', 'agentes', 'tenho', 'um', 'code', 'no', 'formulário', 'que', 'deve', 'aceitar', 'cpf', 'ou', 'cnpj', 'utilizarei', 'no', 'backend', 'em', 'php', 'o', 'valor', 'para', 'guardar', 'ou', 'no', 'campo', 'cpf', 'ou', 'no', 'campo', 'cnpj', 'de', 'uma', 'tabela', 'no', 'banco', 'de', 'dados', 'estou', 'usando', 'angularjs', 'e', 'preciso', 'de', 'uma', 'expressão', 'regular', 'para', 'colocar', 'em', 'code', 'para', 'aceitar', 'apenas', 'dados', 'utilizáveis', 'não', 'me', 'interessa', 'neste', 'momento', 'validar', 'os', 'dígitos', 'de', 'verificação', 'ao', 'final', 'quero', 'ser', 'um', 'pouco', 'flexível', 'permitindo', 'ao', 'usuário', 'que', 'use', 'pontos', 'traço', 'e', 'barra', 'se', 'quiser', 'ou', 'só', 'números', 'no', 'fim', 'das', 'contas', 'em', 'c', 'um', 'array', 'code', 'se', 'torna', 'um', 'ponteiro', 'code', 'se', 'não', 'o', 'que', 'são', 'arrays', 'quais', 'as', 'diferenças', 'entre', 'eles', 'como', 'os', 'arrays', 'funcionam', 'internamente', 'na', 'empresa', 'onde', 'trabalho', 'atualmente', 'somos', 'fortemente', 'encorajados', 'a', 'evitar', 'programação', 'orientada', 'a', 'objetos', 'tanto', 'para', 'projetos', 'antigos', 'como', 'para', 'projetos', 'novos', 'para', 'projetos', 'antigos', 'concordo', 'que', 'seja', 'uma', 'má', 'pratica', 'começar', 'a', 'inserir', 'orientação', 'a', 'objetos', 'em', 'um', 'projeto', 'totalmente', 'estrutural', 'porém', 'para', 'projetos', 'novos', 'acredito', 'ser', 'mais', 'produtivo', 'utilizar', 'oop', 'questionando', 'a', 'situação', 'recebi', 'como', 'resposta', 'da', 'empresa', 'orientação', 'a', 'objetos', 'é', 'pesada', 'e', 'lenta', 'portanto', 'recomendamos', 'não', 'utilizar', 'qual', 'o', 'overhead', 'de', 'se', 'utilizar', 'orientação', 'a', 'objetos', 'vs', 'programação', 'procedural', 'considerando', 'que', 'boas', 'práticas', 'de', 'programação', 'são', 'seguidas', 'é', 'mais', 'produtivo', 'utilizar', 'orientação', 'a', 'objetos', 'ou', 'programação', 'procedural', 'esta', 'é', 'uma', 'pergunta', 'conceitual', 'que', 'sempre', 'gera', 'confusão', 'na', 'hora', 'de', 'decidir', 'se', 'uma', 'coluna', 'deve', 'ou', 'não', 'aceitar', 'null', 'há', 'uma', 'corrente', 'que', 'considera', 'o', 'uso', 'do', 'null', 'um', 'erro', 'e', 'que', 'sempre', 'deveria', 'ser', 'feito', 'uma', 'organização', 'no', 'banco', 'de', 'dados', 'normalmente', 'aplicando', 'normalização', 'evitando', 'assim', 'qualquer', 'uso', 'de', 'valores', 'null', 'tenho', 'uma', 'dúvida', 'especial', 'com', 'colunas', 'do', 'tipo', 'code', 'em', 'qualquer', 'de', 'suas', 'variantes', 'onde', 'existe', 'uma', 'forma', 'de', 'representar', 'que', 'não', 'há', 'qualquer', 'informação', 'mantendo', 'a', 'coluna', 'em', 'estado', 'vazio', 'mas', 'esse', 'valor', 'pode', 'não', 'ser', 'suficiente', 'para', 'indicar', 'o', 'que', 'se', 'quer', 'com', 'a', 'coluna', 'já', 'obtive', 'alguma', 'resposta', 'no', 'stack', 'exchange', 'do', 'ponto', 'de', 'vista', 'do', 'dba', 'mas', 'além', 'das', 'respostas', 'não', 'terem', 'me', 'satisfeito', 'completamente', 'tinham', 'um', 'viés', 'do', 'administrador', 'e', 'não', 'do', 'desenvolvedor', 'e', 'eu', 'também', 'acabei', 'me', 'restringindo', 'a', 'um', 'tipo', 'de', 'campo', 'e', 'ficou', 'a', 'dúvida', 'se', 'o', 'mesmo', 'comportamento', 'valeria', 'para', 'outros', 'tipos', 'de', 'colunas', 'que', 'possam', 'ou', 'não', 'ter', 'um', 'valor', 'natural', 'que', 'possa', 'representar', 'a', 'ausência', 'de', 'valor', 'você', 'pode', 'usar', 'o', 'valor', 'ou', 'negativo', 'em', 'alguns', 'campos', 'definindo', 'o', 'uso', 'do', 'valor', 'como', 'ausência', 'de', 'valor', 'relevante', 'cada', 'sistema', 'de', 'banco', 'de', 'dados', 'trata', 'null', 'de', 'um', 'jeito', 'diferente', 'e', 'é', 'muito', 'difícil', 'transferir', 'um', 'modelo', 'criado', 'em', 'um', 'banco', 'para', 'outro', 'com', 'semântica', 'diferente', 'quando', 'você', 'cria', 'sua', 'própria', 'semântica', 'isso', 'fica', 'mais', 'fácil', 'então', 'existem', 'cenários', 'em', 'que', 'o', 'null', 'é', 'realmente', 'benéfico', 'e', 'seu', 'uso', 'traz', 'vantagens', 'que', 'compensem', 'os', 'problemas', 'que', 'o', 'seu', 'uso', 'pode', 'carregar', 'tenho', 'a', 'seguinte', 'string', 'code', 'qual', 'a', 'função', 'do', 'code', 'na', 'frente', 'da', 'string', 'pelo', 'que', 'percebo', 'vejo', 'um', 'recuo', 'em', 'relação', 'a', 'outro', 'elemento', 'quando', 'definidas', 'as', 'propriedades', 'code', 'existe', 'diferença', 'entre', 'code', 'e', 'code', 'no', 'css', 'uma', 'resposta', 'com', 'exemplosimagens', 'ou', 'código', 'ajudaria', 'bastante', 'no', 'entendimento', 'da', 'questão', 'o', 'que', 'significam', 'e', 'quais', 'as', 'melhores', 'práticas', 'para', 'usálos', 'como', 'realizar', 'o', 'procedimento', 'de', 'captura', 'de', 'imagem', 'da', 'webcam', 'do', 'usuário', 'em', 'um', 'formulário', 'de', 'cadastro', 'para', 'enviar', 'via', 'code', 'busco', 'por', 'uma', 'solução', 'que', 'seja', 'compatível', 'com', 'a', 'maioria', 'dos', 'navegadores', 'e', 'que', 'seja', 'de', 'simples', 'implementação', 'quando', 'se', 'fala', 'em', 'programação', 'concorrente', 'sempre', 'citam', 'problemas', 'clássicosmodelos', 'de', 'concorrência', 'produtores', 'e', 'consumidores', 'leitores', 'e', 'escritores', 'filósofos', 'glutões', 'ou', 'jantar', 'dos', 'filósofos', 'procurei', 'aqui', 'no', 'site', 'porém', 'em', 'nenhum', 'momento', 'achei', 'explicando', 'o', 'que', 'é', 'esse', 'problema', 'minhas', 'dúvidas', 'então', 'são', 'o', 'que', 'é', 'o', 'problema', 'dos', 'filósofos', 'glutões', 'mais', 'focado', 'no', 'enunciadometáfora', 'do', 'problema', 'o', 'que', 'o', 'jantar', 'dos', 'filósofos', 'modela', 'de', 'fato', 'mais', 'focado', 'na', 'coisa', 'técnica', 'do', 'que', 'é', 'esse', 'problema', 'deixando', 'a', 'metáfora', 'de', 'lado', 'qual', 'a', 'importância', 'dele', 'para', 'um', 'programador', 'quando', 'um', 'programador', 'deve', 'se', 'preocupar', 'diretamente', 'com', 'esse', 'problema', 'existe', 'alguma', 'coisa', 'real', 'e', 'cotidiana', 'que', 'nos', 'esbarremos', 'com', 'esse', 'problema', 'sem', 'termos', 'conhecimento', 'sei', 'lá', 'num', 'banco', 'de', 'dados', 'wikipedia', 'sistema', 'de', 'computadores', 'interligados', 'em', 'rede', 'através', 'da', 'internet', 'que', 'cooperam', 'de', 'modo', 'transparente', 'para', 'fornecer', 'conteúdo', 'cdn', 'são', 'geralmente', 'implantados', 'em', 'vários', 'locais', 'os', 'benefícios', 'incluem', 'a', 'redução', 'dos', 'custos', 'de', 'largura', 'de', 'banda', 'melhorando', 'os', 'tempos', 'de', 'carregamento', 'da', 'página', 'ou', 'aumentando', 'disponibilidade', 'global', 'de', 'conteúdo', 'baboo', 'uma', 'cdn', 'é', 'uma', 'rede', 'de', 'distribuição', 'de', 'informação', 'e', 'dados', 'que', 'permite', 'fornecer', 'conteúdo', 'na', 'web', 'de', 'forma', 'rápida', 'para', 'vários', 'usuários', 'independentemente', 'de', 'onde', 'essa', 'pessoa', 'se', 'encontra', 'o', 'que', 'o', 'sistema', 'faz', 'é', 'distribuir', 'um', 'mesmo', 'conteúdo', 'em', 'diversos', 'servidores', 'para', 'direcionar', 'esses', 'dados', 'de', 'acordo', 'com', 'a', 'proximidade', 'de', 'servidor', 'do', 'usuário', 'o', 'serviço', 'funciona', 'como', 'um', 'cache', 'dos', 'arquivos', 'não', 'dinâmicos', 'do', 'site', 'em', 'diferentes', 'datacenters', 'de', 'localidades', 'dispersas', 'em', 'todo', 'o', 'mundo', 'stackoverflow', 'cdn', 'é', 'simplesmente', 'uma', 'rede', 'de', 'servidores', 'que', 'replicam', 'seus', 'arquivos', 'binários', 'de', 'modo', 'que', 'eles', 'são', 'servidos', 'a', 'partir', 'de', 'locais', 'geograficamente', 'próximos', 'cdn', 'é', 'simplesmente', 'um', 'bando', 'de', 'discos', 'que', 'estão', 'espalhados', 'por', 'todo', 'o', 'mundo', 'em', 'diferentes', 'datacenters', 'você', 'envia', 'o', 'seu', 'arquivo', 'a', 'um', 'desses', 'discos', 'e', 'depois', 'diz', 'de', 'onde', 'seus', 'clientes', 'estão', 'vindo', 'ela', 'irá', 'então', 'copiar', 'o', 'mesmo', 'arquivo', 'para', 'outros', 'discos', 'que', 'estão', 'mais', 'perto', 'de', 'seus', 'clientes', 'distribuição', 'de', 'servidor', 'único', 'vs', 'cdn', 'wikipedia', 'dito', 'isso', 'vamos', 'às', 'questões', 'tem', 'um', 'bom', 'tempo', 'que', 'venho', 'pesquisando', 'sobre', 'cdns', 'para', 'um', 'projeto', 'com', 'grande', 'demanda', 'de', 'conteúdo', 'estático', 'não', 'queria', 'recorrer', 'a', 'nenhum', 'cdn', 'free', 'tão', 'pouco', 'contratar', 'um', 'akamai', 'então', 'pensei', 'em', 'me', 'aprofundar', 'no', 'assunto', 'para', 'pesar', 'o', 'custo', 'benefício', 'de', 'montar', 'algo', 'próprio', 'supondo', 'que', 'eu', 'escolha', 'um', 'dc', 'no', 'brasil', 'e', 'um', 'nos', 'eua', 'para', 'um', 'cdn', 'nas', 'américas', 'a', 'identificação', 'da', 'requisição', 'para', 'buscar', 'o', 'dc', 'mais', 'próximo', 'é', 'feita', 'no', 'server', 'ou', 'no', 'php', 'feito', 'o', 'upload', 'de', 'uma', 'imagem', 'ela', 'é', 'replicada', 'instantaneamente', 'para', 'os', 'dc', 'ou', 'somente', 'quando', 'houver', 'demanda', 'local', 'apache', 'e', 'linux', 'bastam', 'ou', 'há', 'necessidade', 'de', 'instalação', 'de', 'outras', 'ferramentas', 'próprias', 'para', 'um', 'cdn', 'tendo', 'meu', 'domínio', 'principal', 'com', 'links', 'para', 'code', 'neste', 'posso', 'ter', 'o', 'php', 'trabalhando', 'com', 'o', 'geoip', 'para', 'saber', 'a', 'localização', 'da', 'requisição', 'mas', 'como', 'demandar', 'o', 'dc', 'correto', 'me', 'parece', 'que', 'dessa', 'forma', 'o', 'processo', 'é', 'mais', 'dispendioso', 'há', 'ferramentas', 'próprias', 'não', 'espero', 'um', 'tutorial', 'só', 'uma', 'luz', 'sobre', 'alguns', 'pontos', 'eu', 'realmente', 'já', 'procurei', 'bastante', 'mas', 'tudo', 'é', 'muito', 'superficial', 'não', 'encontrei', 'nada', 'que', 'se', 'aprofunde', 'na', 'criação', 'de', 'um', 'cdn', 'a', 'maioria', 'explica', 'como', 'funciona', 'ou', 'explana', 'as', 'diferenças', 'entre', 'cdn', 'e', 'um', 'cloud', 'na', 'especificação', 'do', 'protocolo', 'http', 'mais', 'precisamente', 'na', 'rfc', 'é', 'previsto', 'a', 'possibilidade', 'de', 'existir', 'entidades', 'intermediárias', 'entre', 'o', 'user', 'agent', 'ua', 'entidade', 'que', 'efetua', 'a', 'requisição', 'http', 'e', 'o', 'origin', 'server', 'o', 'entidade', 'que', 'responderá', 'à', 'requisição', 'as', 'setas', 'para', 'a', 'direita', 'indicam', 'o', 'trajeto', 'da', 'requisição', 'http', 'e', 'as', 'setas', 'para', 'a', 'esquerda', 'indicam', 'o', 'trajeto', 'da', 'resposta', 'http', 'as', 'entidades', 'a', 'b', 'e', 'c', 'são', 'as', 'entidades', 'intermediárias', 'que', 'se', 'comunicam', 'entre', 'si', 'com', 'o', 'user', 'agent', 'ou', 'origin', 'server', 'através', 'de', 'quatro', 'conexões', 'http', 'as', 'três', 'entidades', 'intermediárias', 'descritas', 'são', 'proxy', 'gateway', 'tunnel', 'sendo', 'que', 'cada', 'entidade', 'intermediária', 'pode', 'operar', 'como', 'um', 'origin', 'server', 'proxy', 'gateway', 'ou', 'tunnel', 'dependendo', 'da', 'natureza', 'da', 'requisição', 'http', 'que', 'será', 'por', 'ela', 'tratada', 'o', 'que', 'eu', 'gostaria', 'de', 'saber', 'é', 'qual', 'a', 'diferença', 'entre', 'os', 'três', 'tipos', 'de', 'entidades', 'intermediárias', 'e', 'quando', 'cada', 'um', 'é', 'utilizado', 'na', 'prática', 'também', 'se', 'é', 'possível', 'a', 'existência', 'de', 'apenas', 'uma', 'entidade', 'intermediária', 'ou', 'se', 'são', 'relacionadas', 'a', 'ponto', 'de', 'só', 'existirem', 'mutuamente', 'pesquisei', 'e', 'li', 'a', 'respeito', 'do', 'padrão', 'dao', 'data', 'access', 'object', 'porém', 'não', 'estou', 'conseguindo', 'entender', 'como', 'é', 'o', 'seu', 'funcionamento', 'e', 'como', 'é', 'a', 'estrutura', 'dele', 'ele', 'também', 'é', 'responsável', 'pelas', 'regras', 'de', 'negócio', 'de', 'uma', 'aplicação', 'ou', 'ele', 'é', 'apenas', 'responsável', 'pelo', 'crud', 'e', 'pelas', 'transações', 'e', 'conexões', 'obs', 'de', 'preferência', 'se', 'puder', 'mostrar', 'sua', 'implementação', 'e', 'seu', 'funcionamento', 'prático', 'em', 'java', 'estou', 'tentando', 'implementar', 'o', 'code', 'da', 'google', 'no', 'meu', 'site', 'e', 'não', 'consigo', 'fazer', 'a', 'integração', 'code', 'utilizo', 'a', 'linguagem', 'code', 'como', 'posso', 'fazer', 'para', 'que', 'o', 'code', 'funcione', 'e', 'realize', 'a', 'validação', 'antes', 'enviar', 'os', 'dados', 'do', 'meu', 'formulário', 'fonte', 'e', 'documentação', 'do', 'google', 'recaptcha', 'sei', 'que', 'são', 'funções', 'que', 'não', 'tem', 'o', 'nome', 'especificado', 'mas', 'qual', 'a', 'finalidade', 'é', 'possível', 'recursividade', 'com', 'funções', 'anônimas', 'ex', 'sequência', 'de', 'fibonacci', 'code', 'para', 'que', 'serve', 'o', 'code', 'no', 'javascript', 'ele', 'funciona', 'apenas', 'para', 'obter', 'os', 'valores', 'do', 'objeto', 'como', 'se', 'fosse', 'uma', 'variável', 'ou', 'também', 'é', 'possível', 'definir', 'ou', 'alterar', 'propriedades', 'através', 'dele', 'exemplo', 'code', 'nunca', 'tinha', 'visto', 'antes', 'a', 'utilização', 'desta', 'diretiva', 'mas', 'os', 'plugins', 'jquery', 'mais', 'maduros', 'quase', 'todos', 'usam', 'gostaria', 'de', 'saber', 'quando', 'usar', 'o', 'mesmo', 'qual', 'a', 'finalidade', 'dele', 'e', 'como', 'após', 'muito', 'tempo', 'utilizando', 'a', 'implementação', 'serializable', 'nas', 'minhas', 'classes', 'na', 'plataforma', 'javaandroid', 'descobri', 'o', 'parcelable', 'mas', 'fiquei', 'na', 'dúvida', 'em', 'relação', 'as', 'seguintes', 'questões', 'abaixo', 'quando', 'utilizar', 'escolher', 'entre', 'o', 'parcelable', 'vs', 'serializable', 'como', 'implementar', 'o', 'parcelable', 'e', 'serializable', 'quais', 'são', 'as', 'diferenças', 'de', 'performance', 'das', 'duas', 'implementações', 'eu', 'tenho', 'duas', 'aplicações', 'em', 'domínios', 'diferentes', 'e', 'preciso', 'realizar', 'uma', 'requisição', 'ajax', 'entre', 'elas', 'via', 'code', 'ou', 'code', 'de', 'forma', 'crossdomain', 'qual', 'seria', 'a', 'maneira', 'mais', 'segura', 'de', 'implementar', 'isto', 'em', 'javascript', 'sem', 'fazer', 'uso', 'de', 'nenhuma', 'api', 'ou', 'framework', 'de', 'uma', 'forma', 'que', 'funcione', 'em', 'todos', 'os', 'navegadores', 'crossbrowser', 'em', 'primeiro', 'lugar', 'peço', 'desculpas', 'pelo', 'texto', 'longo', 'e', 'pelos', 'vários', 'pontos', 'perguntados', 'achei', 'melhor', 'lançar', 'todos', 'em', 'uma', 'pergunta', 'só', 'porque', 'são', 'interrelacionados', 'e', 'porque', 'penso', 'que', 'qualquer', 'pessoa', 'com', 'experiência', 'no', 'tipo', 'de', 'aplicativo', 'descrito', 'um', 'cliente', 'android', 'que', 'mantém', 'uma', 'conexão', 'socket', 'contínua', 'recebendo', 'e', 'enviando', 'dados', 'é', 'capaz', 'de', 'dar', 'sua', 'opinião', 'a', 'respeito', 'de', 'todos', 'ou', 'maioria', 'desses', 'pontos', 'basicamente', 'estou', 'precisando', 'tomar', 'decisões', 'de', 'design', 'e', 'tenho', 'dúvidas', 'sobre', 'como', 'seria', 'a', 'maneira', 'recomendada', 'android', 'de', 'fazer', 'estou', 'tentando', 'definir', 'qual', 'seria', 'o', 'esqueleto', 'mínimo', 'necessário', 'para', 'se', 'ter', 'um', 'aplicativo', 'dsse', 'tipo', 'isto', 'é', 'que', 'se', 'conecte', 'a', 'um', 'servidor', 'via', 'socket', 'websocket', 'socketio', 'tcp', 'etc', 'e', 'possa', 'trocar', 'mensagens', 'com', 'ele', 'não', 'tenho', 'um', 'exemplo', 'de', 'uso', 'específico', 'chat', 'não', 'é', 'um', 'desses', 'exemplos', 'porque', 'nesse', 'caso', 'o', 'ideal', 'seria', 'usar', 'push', 'notification', 'essa', 'conexão', 'não', 'deve', 'estar', 'atrelada', 'às', 'code', 'do', 'aplicativo', 'isto', 'é', 'as', 'mensagens', 'podem', 'ser', 'recebidas', 'mesmo', 'depois', 'do', 'usuário', 'ter', 'saído', 'do', 'aplicativo', 'perguntas', 'que', 'estou', 'tentando', 'responder', 'é', 'recomendado', 'delegar', 'o', 'gerenciamento', 'da', 'conexão', 'conectar', 'desconectar', 'e', 'o', 'envio', 'de', 'mensagens', 'para', 'uma', 'classe', 'separada', 'por', 'exemplo', 'um', 'singleton', 'o', 'uso', 'de', 'broadcasts', 'para', 'passar', 'uma', 'mensagem', 'recebida', 'para', 'a', 'code', 'atual', 'parece', 'ser', 'a', 'escolha', 'apropriada', 'no', 'caso', 'de', 'uma', 'arquitetura', 'de', 'aplicativo', 'relativamente', 'simples', 'alguém', 'discorda', 'seria', 'preferível', 'um', 'event', 'bus', 'ou', 'então', 'acoplamento', 'bind', 'a', 'um', 'serviço', 'é', 'esperado', 'que', 'o', 'sistema', 'mate', 'o', 'processo', 'do', 'aplicativo', 'para', 'liberar', 'memória', 'mas', 'a', 'conexão', 'deve', 'ser', 'reestabelecida', 'assim', 'que', 'houver', 'memória', 'disponível', 'para', 'isso', 'qual', 'a', 'melhor', 'forma', 'de', 'fazer', 'isso', 'agendar', 'checagens', 'periódicas', 'da', 'conexão', 'via', 'code', 'não', 'me', 'parece', 'apropriado', 'e', 'nem', 'usar', 'code', 'que', 'além', 'de', 'não', 'garantir', 'que', 'o', 'processo', 'seja', 'morto', 'apenas', 'torna', 'isso', 'menos', 'provável', 'de', 'acontecer', 'ainda', 'exibe', 'ao', 'usuário', 'uma', 'incômoda', 'notificação', 'de', 'que', 'o', 'aplicativo', 'está', 'em', 'execução', 'que', 'ainda', 'por', 'cima', 'se', 'for', 'clicada', 'leva', 'a', 'uma', 'tela', 'oferecendo', 'a', 'opção', 'de', 'encerrar', 'o', 'aplicativo', 'achei', 'que', 'retornar', 'code', 'no', 'método', 'code', 'poderia', 'ajudar', 'nesse', 'sentido', 'mas', 'ele', 'não', 'parece', 'ser', 'feito', 'para', 'isso', 'não', 'estou', 'certo', 'de', 'como', 'deve', 'funcionar', 'o', 'reestabelecimento', 'de', 'conexão', 'a', 'fim', 'de', 'processar', 'a', 'fila', 'de', 'mensagens', 'a', 'enviar', 'suponho', 'que', 'envolve', 'ouvir', 'o', 'broadcast', 'code', 'ou', 'então', 'um', 'evento', 'de', 'conexão', 'reestabelecida', 'qual', 'a', 'melhor', 'forma', 'de', 'fazer', 'isso', 'garantindo', 'que', 'o', 'aplicativo', 'tente', 'enviar', 'as', 'mensagens', 'quando', 'possível', 'após', 'haver', 'consenso', 'a', 'respeito', 'da', 'modelagem', 'do', 'aplicativo', 'creio', 'que', 'será', 'necessário', 'incluir', 'wake', 'locks', 'ao', 'código', 'para', 'evitar', 'que', 'o', 'aparelho', 'entre', 'em', 'sleep', 'mode', 'enquanto', 'processa', 'mensagens', 'recebidas', 'ou', 'colocadas', 'na', 'fila', 'de', 'envio', 'porém', 'não', 'tenho', 'certeza', 'de', 'em', 'qual', 'parte', 'do', 'código', 'incluilas', 'e', 'gostaria', 'de', 'recomendações', 'para', 'isso', 'tenho', 'também', 'as', 'seguintes', 'considerações', 'adicionais', 'a', 'uma', 'vez', 'a', 'conexão', 'estabelecida', 'o', 'aparelho', 'pode', 'entrar', 'em', 'sleep', 'mode', 'tranquilamente', 'que', 'a', 'chegada', 'de', 'dados', 'irá', 'acordálo', 'porém', 'não', 'é', 'garantido', 'que', 'esses', 'dados', 'sejam', 'processados', 'em', 'sua', 'completude', 'sem', 'uma', 'wake', 'lock', 'antes', 'do', 'aparelho', 'voltar', 'a', 'dormir', 'b', 'se', 'o', 'aplicativo', 'estiver', 'adormecido', 'e', 'a', 'conexão', 'se', 'tornar', 'disponível', 'um', 'requisito', 'desejável', 'pode', 'ser', 'que', 'a', 'fila', 'de', 'mensagens', 'a', 'enviar', 'seja', 'processada', 'em', 'sua', 'completude', 'antes', 'do', 'aparelho', 'voltar', 'a', 'dormir', 'não', 'tenho', 'a', 'certeza', 'de', 'onde', 'devo', 'adicionar', 'a', 'wake', 'lock', 'nesse', 'caso', 'c', 'mesmo', 'que', 'a', 'biblioteca', 'que', 'trabalha', 'com', 'o', 'protocolo', 'de', 'comunicação', 'escolhido', 'esteja', 'preparada', 'para', 'funcionar', 'com', 'android', 'isto', 'é', 'gerencie', 'a', 'entradasaída', 'em', 'um', 'ou', 'mais', 'threads', 'secundários', 'e', 'não', 'no', 'thread', 'de', 'ui', 'pode', 'ser', 'que', 'ela', 'esteja', 'programada', 'para', 'executar', 'seus', 'callbacks', 'em', 'particular', 'o', 'callback', 'que', 'recebe', 'mensagens', 'no', 'thread', 'de', 'ui', 'isso', 'pode', 'afetar', 'a', 'maneira', 'como', 'disponho', 'as', 'wake', 'locks', 'no', 'meu', 'código', 'há', 'a', 'necessidade', 'de', 'manter', 'um', 'thread', 'ativo', 'em', 'loop', 'contínuo', 'para', 'manter', 'a', 'conexão', 'aberta', 'como', 'posso', 'evitar', 'isso', 'agradeço', 'a', 'qualquer', 'feedback', 'lancei', 'essa', 'pergunta', 'também', 'no', 'so', 'em', 'inglês', 'acredito', 'que', 'a', 'maioria', 'dos', 'softwares', 'padronizam', 'o', 'uso', 'da', 'palavra', 'cancelar', 'para', 'um', 'botão', 'cuja', 'a', 'ação', 'é', 'cancelar', 'a', 'operação', 'que', 'está', 'em', 'curso', 'claro', 'que', 'a', 'operação', 'em', 'curso', 'é', 'a', 'mais', 'próxima', 'que', 'está', 'ocorrendo', 'provavelmente', 'é', 'aquela', 'operação', 'responsável', 'pelo', 'mecanismo', 'de', 'confirmação', 'de', 'uma', 'outra', 'operação', 'que', 'provavelmente', 'faz', 'parte', 'de', 'uma', 'regra', 'de', 'negócio', 'por', 'exemplo', 'se', 'você', 'vai', 'cancelar', 'o', 'pagamento', 'já', 'efetuado', 'de', 'um', 'boleto', 'esta', 'operação', 'usa', 'exatamente', 'o', 'termo', 'cancelar', 'porque', 'os', 'usuários', 'do', 'software', 'estão', 'acostumados', 'com', 'ele', 'faz', 'parte', 'do', 'domínio', 'deles', 'e', 'antes', 'de', 'concluir', 'o', 'cancelamento', 'o', 'software', 'pergunta', 'se', 'é', 'isto', 'mesmo', 'que', 'o', 'usuário', 'quer', 'fazer', 'é', 'muito', 'comum', 'o', 'uso', 'de', 'dois', 'botões', 'nesta', 'confirmação', 'um', 'ok', 'e', 'outro', 'cancelar', 'neste', 'caso', 'é', 'para', 'cancelar', 'o', 'o', 'processo', 'de', 'cancelamento', 'e', 'provavelmente', 'isto', 'é', 'o', 'padrão', 'para', 'todo', 'o', 'software', 'mudar', 'isto', 'seria', 'despadronizar', 'o', 'funcionamento', 'todo', 'mundo', 'está', 'acostumado', 'com', 'o', 'ok', 'e', 'cancela', 'para', 'cancelar', 'operações', 'em', 'processo', 'de', 'confirmação', 'mas', 'é', 'bem', 'claro', 'que', 'isto', 'não', 'é', 'intuitivo', 'é', 'fácil', 'cometer', 'um', 'erro', 'confundindo', 'o', 'que', 'você', 'está', 'efetivamente', 'cancelando', 'este', 'problema', 'é', 'bem', 'mais', 'comum', 'do', 'que', 'parece', 'o', 'que', 'fazer', 'nestes', 'casos', 'a', 'intenção', 'da', 'pergunta', 'é', 'ter', 'um', 'conteúdo', 'em', 'português', 'sobre', 'o', 'assunto', 'já', 'que', 'eu', 'tenho', 'informações', 'em', 'inglês', 'se', 'possível', 'gostaria', 'de', 'novas', 'informações', 'também', 'além', 'das', 'contidas', 'lá', 'nem', 'vou', 'pedir', 'um', 'estudo', 'específico', 'sobre', 'o', 'assunto', 'porque', 'não', 'é', 'fácil', 'ter', 'algo', 'assim', 'mas', 'qualquer', 'informação', 'deve', 'ser', 'minimamente', 'fundamentada', 'pode', 'parecer', 'óbvio', 'o', 'que', 'fazer', 'mas', 'em', 'ux', 'todo', 'cuidado', 'é', 'pouco', 'bonus', 'point', 'muitas', 'vezes', 'isto', 'só', 'ocorre', 'por', 'causa', 'de', 'traduções', 'sem', 'contexto', 'ou', 'seja', 'o', 'problema', 'podia', 'não', 'ocorrer', 'no', 'original', 'além', 'de', 'simplesmente', 'testar', 'tudo', 'antes', 'de', 'liberar', 'que', 'é', 'a', 'solução', 'óbvia', 'tem', 'algo', 'a', 'mais', 'que', 'pode', 'ser', 'feito', 'para', 'garantir', 'que', 'o', 'texto', 'não', 'seja', 'confuso', 'para', 'medir', 'a', 'performance', 'e', 'comparar', 'dois', 'códigos', 'em', 'code', 'eu', 'faço', 'da', 'seguinte', 'maneira', 'no', 'console', 'do', 'navegador', 'code', 'explicação', 'rápida', 'basta', 'iniciar', 'um', 'contador', 'em', 'milissegundos', 'rodar', 'o', 'código', 'que', 'eu', 'quero', 'testar', 'várias', 'vezes', 'etc', 'dentro', 'de', 'um', 'loop', 'e', 'anotar', 'o', 'tempo', 'depois', 'é', 'só', 'fazer', 'o', 'mesmo', 'procedimento', 'para', 'o', 'outro', 'código', 'a', 'ser', 'testado', 'e', 'comparar', 'os', 'tempos', 'para', 'ver', 'quem', 'tem', 'o', 'melhor', 'desempenho', 'para', 'o', 'navegador', 'em', 'questão', 'mas', 'e', 'em', 'php', 'será', 'que', 'o', 'método', 'a', 'seguir', 'é', 'o', 'mais', 'recomendado', 'code', 'baseado', 'em', 'httpphpdzonecomarticlesthingsyoushouldchecknow', 'entre', 'os', 'estudos', 'de', 'javascript', 'encontrei', 'em', 'alguns', 'lugares', 'muita', 'gente', 'sugerindo', 'o', 'uso', 'de', 'coffeescript', 'ou', 'typescript', 'para', 'acelerar', 'o', 'processo', 'desenvolvimento', 'se', 'entendi', 'bem', 'ambos', 'são', 'como', 'uma', 'metalinguagem', 'uma', 'maquiagem', 'que', 'melhora', 'a', 'sintaxe', 'convoluta', 'do', 'javascript', 'e', 'depois', 'reescreve', 'o', 'seu', 'código', 'em', 'js', 'este', 'entendimento', 'está', 'certo', 'como', 'funcionam', 'o', 'coffeescript', 'e', 'typescript', 'o', 'que', 'eles', 'são', 'de', 'fato', 'qual', 'sua', 'relação', 'com', 'o', 'javascript', 'e', 'como', 'eles', 'podem', 'ser', 'usados', 'no', 'desenvolvimento', 'web', 'em', 'lugar', 'do', 'javascript', 'eu', 'já', 'li', 'em', 'vários', 'artigos', 'e', 'livros', 'de', 'designer', 'patterns', 'a', 'expressão', 'code', 'acredito', 'que', 'é', 'um', 'tema', 'bastante', 'polêmico', 'devido', 'aos', 'pontos', 'de', 'vista', 'discutidos', 'a', 'meu', 'ver', 'composição', 'e', 'herança', 'são', 'usadas', 'para', 'resolver', 'problemas', 'diferentes', 'certo', 'code', 'o', 'exemplo', 'acima', 'é', 'bem', 'coerente', 'pois', 'um', 'carro', 'deve', 'ter', 'um', 'motor', 'entretanto', 'se', 'substituirmos', 'a', 'herança', 'por', 'composição', 'em', 'alguns', 'casos', 'a', 'estrutura', 'fica', 'um', 'pouco', 'estranha', 'por', 'exemplo', 'code', 'é', 'estranho', 'pensar', 'que', 'veiculo', 'virá', 'um', 'atributo', 'de', 'carro', 'nesse', 'contexto', 'veiculo', 'serve', 'apenas', 'para', 'a', 'reutilização', 'de', 'código', 'pois', 'não', 'segue', 'uma', 'hierarquia', 'e', 'não', 'agrega', 'polimorfismo', 'desculpem', 'minha', 'ignorância', 'mas', 'as', 'classes', 'herdadas', 'mantém', 'o', 'acoplamento', 'que', 'é', 'necessário', 'entre', 'elas', 'a', 'herança', 'em', 'si', 'certo', 'quais', 'as', 'vantagens', 'de', 'se', 'usar', 'composição', 'em', 'vez', 'de', 'herança', 'é', 'possível', 'especificar', 'um', 'momento', 'certo', 'de', 'usálas', 'seguindo', 'a', 'opinião', 'do', 'título', 'a', 'melhor', 'combinação', 'seria', 'composição', 'interface', 'desde', 'que', 'lançou', 'o', 'html', 'tenho', 'notado', 'que', 'diversas', 'tags', 'diferentes', 'começaram', 'a', 'surgir', 'em', 'todo', 'lugar', 'que', 'tentei', 'estudar', 'sobre', 'o', 'assunto', 'sempre', 'via', 'a', 'tal', 'da', 'expressão', 'semântica', 'entendi', 'que', 'essas', 'tags', 'na', 'verdade', 'não', 'têm', 'uma', 'habilidade', 'especial', 'mas', 'é', 'apenas', 'como', 'um', 'contexto', 'de', 'organização', 'me', 'surgiram', 'algumas', 'dúvidas', 'e', 'preocupação', 'quanto', 'a', 'essas', 'tags', 'pois', 'como', 'eu', 'não', 'tive', 'paciência', 'de', 'aprender', 'o', 'que', 'cada', 'tag', 'significava', 'eu', 'continuei', 'a', 'usar', 'a', 'boa', 'e', 'velha', 'code', 'essas', 'tags', 'semânticas', 'ajudam', 'a', 'melhorar', 'o', 'seo', 'de', 'um', 'site', 'usar', 'somente', 'divs', 'como', 'eu', 'costumo', 'fazer', 'sempre', 'é', 'prejudicial', 'ao', 'seo', 'do', 'site', 'há', 'ainda', 'uma', 'outra', 'dúvida', 'que', 'gostaria', 'de', 'esclarecer', 'é', 'em', 'relação', 'à', 'algumas', 'tags', 'que', 'não', 'são', 'tão', 'óbvias', 'para', 'mim', 'por', 'exemplo', 'olhando', 'a', 'tag', 'code', 'ou', 'code', 'parece', 'que', 'é', 'obvio', 'que', 'se', 'trata', 'do', 'cabecalho', 'e', 'rodapé', 'do', 'site', 'porém', 'algumas', 'vezes', 'já', 'vi', 'um', 'code', 'e', 'um', 'code', 'em', 'cada', 'code', 'code', 'por', 'sua', 'vez', 'não', 'entendi', 'para', 'que', 'serve', 'pois', 'cada', 'tutorial', 'que', 'vi', 'explica', 'uma', 'coisa', 'de', 'um', 'jeito', 'diferente', 'talvez', 'para', 'mim', 'a', 'única', 'tag', 'que', 'ficou', 'óbvia', 'o', 'seu', 'uso', 'é', 'a', 'code', 'então', 'vou', 'fazer', 'mais', 'alguma', 'perguntas', 'qual', 'é', 'a', 'finalidade', 'semântica', 'das', 'tags', 'code', 'code', 'code', 'code', 'e', 'code', 'posso', 'usar', 'um', 'code', 'e', 'um', 'code', 'por', 'página', 'ou', 'posso', 'usálos', 'dentro', 'de', 'cada', 'code', 'e', 'se', 'sim', 'por', 'quê', 'o', 'que', 'é', 'paradigma', 'existe', 'algum', 'mais', 'importante', 'que', 'outro', 'é', 'a', 'mesma', 'coisa', 'que', 'design', 'pattern', 'padrão', 'de', 'projeto', 'é', 'o', 'mesmo', 'que', 'idioma', 'vejo', 'grandes', 'conhecedores', 'aqui', 'do', 'sopt', 'dizerem', 'a', 'frase', 'quer', 'desempenho', 'esqueça', 'o', 'php', 'por', 'exemplo', 'perguntas', 'sobre', 'php', 'como', 'posso', 'melhorar', 'o', 'desempenho', 'disso', 'claro', 'que', 'sabemos', 'que', 'desempenho', 'vem', 'muito', 'da', 'estrutura', 'do', 'código', 'mas', 'essa', 'afirmação', 'esqueça', 'desempenho', 'no', 'php', 'não', 'seria', 'pelo', 'php', 'não', 'ter', 'desempenho', 'mas', 'sim', 'porque', 'é', 'um', 'fator', 'a', 'não', 'ser', 'considerado', 'quando', 'o', 'cenário', 'é', 'o', 'php', 'em', 'comparação', 'de', 'sua', 'tecnologia', 'com', 'uma', 'outra', 'correto', 'então', 'gostaria', 'de', 'saber', 'acredito', 'eu', 'que', 'quando', 'dizem', 'que', 'o', 'php', 'não', 'se', 'foca', 'em', 'seu', 'desempenho', 'seria', 'em', 'comparação', 'a', 'outras', 'linguagenstecnologias', 'isso', 'seria', 'sobre', 'o', 'php', 'ser', 'uma', 'linguagem', 'interpretada', 'somente', 'o', 'php', 'ou', 'todas', 'as', 'linguagens', 'interpretadas', 'ou', 'correlacionadas', 'entendendo', 'melhor', 'o', 'tipo', 'de', 'resposta', 'que', 'eu', 'gostaria', 'como', 'no', 'comentário', 'feito', 'é', 'dito', 'isso', 'porque', 'o', 'php', 'não', 'foi', 'feito', 'para', 'ser', 'rápido', 'simples', 'assim', 'php', 'foi', 'criado', 'para', 'ser', 'fácil', 'e', 'ter', 'entrega', 'rápida', 'abrindo', 'mão', 'da', 'performance', 'que', 'em', 'aplicações', 'web', 'não', 'é', 'crítica', 'se', 'precisa', 'de', 'performance', 'não', 'use', 'php', 'assim', 'como', 'se', 'precisar', 'martelar', 'um', 'prego', 'não', 'use', 'um', 'alicate', 'anderson', 'carlos', 'woss', 'antes', 'de', 'comentar', 'ou', 'responder', 'entenda', 'não', 'é', 'comparar', 'qual', 'a', 'melhor', 'linguagem', 'ou', 'opinião', 'mas', 'sim', 'sobre', 'a', 'diferença', 'entre', 'as', 'tecnologias', 'eou', 'seus', 'limites', 'já', 'ouvi', 'falar', 'sobre', 'uma', 'técnica', 'assim', 'chamada', 'e', 'qualquer', 'coisa', 'sobre', 'explorar', 'colisões', 'de', 'hashes', 'mas', 'como', 'funciona', 'essa', 'técnica', 'e', 'onde', 'ela', 'pode', 'ser', 'aplicada', 'o', 'dry', 'significa', 'dont', 'repeat', 'yourself', 'então', 'toda', 'vez', 'que', 'eu', 'ver', 'uma', 'repetição', 'no', 'código', 'não', 'estou', 'fazendo', 'dry', 'o', 'dry', 'é', 'sobre', 'não', 'ter', 'redundâncias', 'como', 'ele', 'deve', 'ser', 'aplicado', 'estou', 'trabalhando', 'em', 'um', 'site', 'com', 'característica', 'responsiva', 'e', 'nele', 'tenho', 'uma', 'página', 'de', 'promoções', 'e', 'gostaria', 'que', 'as', 'imagens', 'acompanhassem', 'a', 'mudança', 'de', 'tamanho', 'do', 'navegador', 'o', 'tamanho', 'máximo', 'da', 'largura', 'da', 'imagem', 'é', 'px', 'seguindo', 'algumas', 'dicas', 'de', 'companheiros', 'refiz', 'o', 'css', 'e', 'exemplo', 'exibido', 'isoladamente', 'funciona', 'corretamente', 'mas', 'ao', 'inserilo', 'em', 'minhas', 'tabs', 'o', 'mesmo', 'não', 'funciona', 'ficou', 'assim', 'divpage', 'width', 'auto', 'textalign', 'center', 'padding', 'px', 'px', 'img', 'maxwidth', 'o', 'código', 'para', 'exibição', 'code', 'a', 'página', 'pode', 'ser', 'vista', 'aqui', 'página', 'de', 'promoções', 'o', 'código', 'da', 'minha', 'tab', 'está', 'assim', 'tabs', 'uitabs', 'fontfamily', 'open', 'sans', 'sansserif', 'fontsize', 'px', 'lineheight', 'em', 'px', 'marginbottom', 'px', 'padding', 'border', 'none', 'background', 'none', 'widthpx', 'uitabs', 'uihelperreset', 'lineheight', 'em', 'px', 'uitabs', 'uiwidgetcontent', 'color', 'uitabs', 'uitabshide', 'position', 'absolute', 'left', 'em', 'uitabs', 'uitabsnav', 'padding', 'border', 'none', 'uitabs', 'uiwidgetheader', 'uitabs', 'uistateactive', 'background', 'none', 'uitabs', 'uitabsnav', 'li', 'uitabs', 'uitabsnav', 'liuitabsactive', 'float', 'left', 'margin', 'px', 'px', 'padding', 'position', 'relative', 'zindex', 'border', 'none', 'uitabs', 'uitabsnav', 'li', 'a', 'display', 'block', 'padding', 'px', 'px', 'color', 'backgroundcolor', 'fff', 'border', 'px', 'solid', 'eee', 'borderbottom', 'none', 'uitabs', 'uitabsnav', 'liuistateactive', 'a', 'backgroundcolor', 'fff', 'paddingbottom', 'px', 'makes', 'the', 'unselected', 'tabs', 'appear', 'above', 'the', 'border', 'uitabs', 'uitabsnav', 'liuistatedisabled', 'a', 'color', 'important', 'cursor', 'default', 'uitabs', 'uitabspanel', 'padding', 'px', 'px', 'backgroundcolor', 'fff', 'border', 'px', 'solid', 'eee', 'borderradius', 'overflow', 'hidden', 'vejam', 'no', 'tamanho', 'da', 'tab', 'coloquei', 'esse', 'valor', 'para', 'que', 'ela', 'possa', 'ficar', 'expandida', 'code', 'ainda', 'não', 'consegui', 'deixar', 'a', 'imagem', 'responsiva', 'dentro', 'das', 'tabs', 'mesmo', 'seguindo', 'a', 'dica', 'de', 'deixar', 'a', 'div', 'pai', 'com', 'percentagem', 'estava', 'estudando', 'alguns', 'exemplos', 'do', 'mysql', 'com', 'php', 'e', 'me', 'deparei', 'como', 'seguinte', 'trecho', 'de', 'código', 'code', 'pelo', 'que', 'pude', 'perceber', 'ao', 'pesquisar', 'os', 'métodos', 'chamase', 'code', 'mas', 'eu', 'não', 'consegui', 'entender', 'porque', 'isto', 'é', 'utilizado', 'gostaria', 'de', 'saber', 'como', 'funciona', 'e', 'alguns', 'exemplos', 'de', 'situações', 'reais', 'em', 'que', 'isto', 'poderia', 'ser', 'útil', 'se', 'tenho', 'uma', 'imagem', 'horizontal', 'x', 'code', 'e', 'coloco', 'a', 'regra', 'css', 'code', 'a', 'redução', 'não', 'fica', 'proporcional', 'e', 'se', 'coloco', 'code', 'dá', 'errado', 'com', 'imagens', 'horizontais', 'e', 'verticais', 'como', 'acertar', 'isso', 'code', 'code', 'quando', 'eu', 'estava', 'lendo', 'sobre', 'alguns', 'frameworks', 'javascript', 'como', 'por', 'exemplo', 'o', 'react', 'li', 'algumas', 'vezes', 'a', 'expressão', 'shadow', 'dom', 'em', 'alguns', 'artigos', 'parece', 'inclusive', 'que', 'é', 'possível', 'nas', 'configurações', 'de', 'console', 'do', 'chrome', 'ativar', 'esse', 'tal', 'de', 'shadow', 'dom', 'mas', 'o', 'que', 'é', 'shadow', 'dom', 'e', 'pra', 'que', 'serve', 'tem', 'alguma', 'coisa', 'a', 'ver', 'apenas', 'com', 'o', 'framework', 'citado', 'acima', 'ou', 'não', 'acho', 'que', 'todo', 'mundo', 'com', 'o', 'mínimo', 'de', 'conhecimento', 'sabe', 'quando', 'escolher', 'c', 'ou', 'c', 'no', 'lugar', 'de', 'outras', 'linguagens', 'existem', 'casos', 'claros', 'em', 'que', 'estas', 'linguagens', 'são', 'mais', 'adequadas', 'e', 'outros', 'que', 'não', 'faz', 'tanta', 'diferença', 'mas', 'pode', 'haver', 'situação', 'em', 'que', 'se', 'sabe', 'que', 'uma', 'das', 'duas', 'seja', 'ideal', 'mas', 'não', 'se', 'sabe', 'qual', 'das', 'duas', 'quais', 'elementos', 'concretos', 'devemos', 'analisar', 'e', 'em', 'que', 'situações', 'podemos', 'ter', 'certeza', 'que', 'o', 'c', 'é', 'mais', 'indicado', 'que', 'c', 'ou', 'c', 'é', 'o', 'mais', 'adequado', 'os', 'motivos', 'não', 'precisam', 'ser', 'essencialmente', 'técnicos', 'mas', 'eles', 'precisam', 'ser', 'objetivos', 'precisa', 'ser', 'algo', 'que', 'os', 'profissionais', 'experientes', 'nas', 'duas', 'linguagens', 'costumam', 'concordar', 'em', 'outras', 'palavras', 'quais', 'problemas', 'o', 'c', 'lida', 'melhor', 'e', 'quais', 'o', 'c', 'costuma', 'se', 'sair', 'bem', 'é', 'claro', 'que', 'ambas', 'podem', 'ser', 'usadas', 'para', 'qualquer', 'projeto', 'mas', 'nem', 'sempre', 'é', 'a', 'ferramenta', 'mais', 'adequada', 'existem', 'casos', 'que', 'alguns', 'requisitos', 'podem', 'inviabilizar', 'uma', 'escolha', 'que', 'requisitos', 'podem', 'dificultar', 'tanto', 'o', 'uso', 'de', 'uma', 'linguagem', 'que', 'é', 'melhor', 'usar', 'a', 'outra', 'considere', 'pontos', 'políticos', 'como', 'não', 'requisitos', 'fundamentais', 'só', 'a', 'parte', 'técnica', 'importa', 'mesmo', 'existe', 'diferença', 'de', 'performance', 'entre', 'os', 'dois', 'em', 'quais', 'situações', 'se', 'aplicam', 'qual', 'é', 'o', 'mais', 'recomendado', 'ser', 'usado', 'sendo', 'um', 'programador', 'net', 'mas', 'com', 'uma', 'antiga', 'paixão', 'por', 'c', 'que', 'cresceu', 'desde', 'o', 'c', 'estive', 'com', 'essa', 'curiosidade', 'eu', 'sei', 'que', 'o', 'net', 'pode', 'ser', 'extendido', 'com', 'o', 'ccli', 'mas', 'eu', 'gostaria', 'de', 'saber', 'o', 'que', 'o', 'c', 'puro', 'não', 'consegue', 'fazer', 'enquanto', 'o', 'c', 'consegue', 'nota', 'eu', 'não', 'quero', 'opiniões', 'aqui', 'e', 'também', 'não', 'quero', 'iniciar', 'uma', 'guerra', 'das', 'chamas', 'eu', 'quero', 'fatos', 'eu', 'só', 'quero', 'saber', 'o', 'que', 'o', 'título', 'da', 'pergunta', 'diz', 'não', 'quero', 'saber', 'se', 'você', 'prefere', 'uma', 'linguagem', 'ou', 'outra', 'porque', 'é', 'mais', 'fácil', 'fazer', 'x', 'nela', 'atualização', 'depois', 'de', 'respostas', 'e', 'algumas', 'horas', 'estou', 'julgando', 'a', 'do', 'utluiz', 'como', 'a', 'que', 'melhor', 'respondeu', 'a', 'minha', 'pergunta', 'portanto', 'estou', 'marcando', 'como', 'aceita', 'a', 'do', 'fláviogranato', 'também', 'é', 'boa', 'mas', 'achei', 'a', 'do', 'utluiz', 'mais', 'correta', 'as', 'duas', 'outras', 'respostas', 'falam', 'principalmente', 'sobre', 'o', 'framework', 'e', 'a', 'performance', 'que', 'são', 'óbvios', 'para', 'quem', 'não', 'é', 'novato', 'no', 'assunto', 'não', 'estou', 'dizendo', 'que', 'foram', 'más', 'respostas', 'só', 'não', 'foram', 'respostas', 'boas', 'para', 'essa', 'pergunta', 'fora', 'o', 'fato', 'que', 'o', 'framework', 'é', 'bem', 'estável', 'e', 'performance', 'não', 'é', 'um', 'assunto', 'crítico', 'usando', 'ruby', 'a', 'divisão', 'de', 'dois', 'números', 'inteiros', 'é', 'uma', 'divisão', 'inteira', 'isso', 'é', 'o', 'resultado', 'é', 'um', 'número', 'inteiro', 'por', 'exemplo', 'code', 'se', 'desejo', 'que', 'o', 'resultado', 'seja', 'um', 'numero', 'decimal', 'posso', 'utilizar', 'um', 'numero', 'flutuante', 'ao', 'invés', 'de', 'um', 'inteiro', 'code', 'como', 'posso', 'fazer', 'uma', 'divisão', 'inteira', 'que', 'funcione', 'parecida', 'com', 'a', 'de', 'ruby', 'em', 'javascript', 'de', 'que', 'forma', 'números', 'primos', 'são', 'uma', 'parte', 'importante', 'em', 'alguns', 'sistemas', 'de', 'criptografia', 'como', 'funciona', 'esse', 'processo', 'e', 'em', 'que', 'parte', 'entram', 'os', 'números', 'primos', 'tenho', 'um', 'código', 'em', 'c', 'que', 'por', 'algum', 'motivo', 'inexplicável', 'parece', 'ser', 'executado', 'muito', 'mais', 'rapidamente', 'quando', 'os', 'meus', 'dados', 'estão', 'previamente', 'ordenados', 'consegui', 'reproduzir', 'o', 'comportamento', 'com', 'o', 'seguinte', 'código', 'code', 'tenho', 'o', 'seguinte', 'resultado', 'compilado', 'com', 'o', 'g', 'sem', 'otimizações', 'code', 'um', 'aumento', 'de', 'velocidade', 'de', 'quase', 'vezes', 'inicialmente', 'suspeitei', 'que', 'fosse', 'algum', 'tipo', 'de', 'otimização', 'que', 'o', 'compilador', 'pudesse', 'estar', 'fazendo', 'com', 'o', 'meu', 'código', 'se', 'aproveitando', 'de', 'alguma', 'forma', 'do', 'fato', 'de', 'minha', 'lista', 'estar', 'ordenada', 'então', 'decidi', 'implementar', 'a', 'mesma', 'ideia', 'em', 'uma', 'linguagem', 'completamente', 'diferente', 'e', 'que', 'não', 'fosse', 'otimizavél', 'escolhi', 'o', 'ruby', 'code', 'o', 'resultado', 'rodando', 'com', 'o', 'ruby', 'executando', 'vezes', 'a', 'menos', 'por', 'ser', 'mais', 'lento', 'code', 'aqui', 'o', 'ganho', 'de', 'perfomance', 'é', 'bastante', 'menor', 'pouco', 'mais', 'de', 'x', 'mas', 'claramente', 'significativo', 'o', 'que', 'exatamente', 'está', 'acontecendo', 'aqui', 'de', 'onde', 'vem', 'esse', 'efeito', 'e', 'como', 'eu', 'posso', 'me', 'aproveitar', 'dele', 'baseado', 'em', 'uma', 'pergunta', 'famosa', 'do', 'so', 'é', 'comum', 'dizer', 'que', 'devese', 'evitar', 'retornar', 'códigos', 'de', 'erro', 'em', 'uma', 'função', 'quando', 'alguma', 'operação', 'falha', 'não', 'é', 'difícil', 'perceber', 'que', 'códigos', 'de', 'erros', 'são', 'confusos', 'é', 'um', 'valor', 'válido', 'ou', 'um', 'erro', 'e', 'não', 'fornecem', 'informação', 'relevante', 'a', 'recomendação', 'é', 'utilizar', 'o', 'lançamento', 'de', 'exceções', 'ao', 'invés', 'de', 'códigos', 'de', 'erro', 'por', 'que', 'as', 'exceções', 'são', 'melhores', 'que', 'o', 'retorno', 'de', 'códigos', 'de', 'erro', 'há', 'casos', 'onde', 'esta', 'solução', 'é', 'pior', 'o', 'título', 'obviamente', 'não', 'implica', 'que', 'uma', 'afirmação', 'ou', 'outra', 'esteja', 'correta', 'a', 'dúvida', 'é', 'esta', 'como', 'posso', 'calcular', 'a', 'idade', 'de', 'uma', 'pessoa', 'em', 'javascript', 'a', 'partir', 'da', 'data', 'de', 'nascimento', 'tentei', 'algo', 'do', 'tipo', 'code', 'em', 'discussões', 'acerca', 'de', 'performance', 'de', 'algoritmos', 'é', 'muito', 'comum', 'o', 'uso', 'da', 'notação', 'big', 'o', 'o', 'on', 'on', 'é', 'fácil', 'encontrar', 'a', 'definição', 'científica', 'desta', 'notação', 'e', 'é', 'fácil', 'encontrar', 'algumas', 'definições', 'mais', 'informais', 'em', 'inglês', 'o', 'que', 'eu', 'peço', 'aqui', 'é', 'uma', 'definição', 'informal', 'desta', 'notação', 'que', 'seja', 'imediatamente', 'útil', 'até', 'mesmo', 'para', 'o', 'menos', 'versado', 'em', 'matemática', 'vou', 'tentar', 'formular', 'um', 'exemplo', 'para', 'trazer', 'a', 'definição', 'do', 'big', 'o', 'para', 'o', 'âmbito', 'prático', 'estudando', 'as', 'implementações', 'de', 'lista', 'arraylist', 'e', 'linkedlist', 'java', 'dizse', 'que', 'uma', 'das', 'diferenças', 'entre', 'elas', 'é', 'que', 'o', 'método', 'arraylistgetint', 'index', 'é', 'o', 'enquanto', 'o', 'método', 'linkedlistgetint', 'index', 'é', 'on', 'mas', 'na', 'prática', 'o', 'que', 'a', 'notação', 'big', 'o', 'está', 'indicando', 'neste', 'caso', 'é', 'claro', 'que', 'outros', 'exemplos', 'práticos', 'são', 'bem', 'vindos', 'a', 'partir', 'do', 'php', 'temos', 'o', 'code', 'que', 'são', 'mecanismos', 'que', 'ajudam', 'e', 'muito', 'a', 'reutilização', 'de', 'código', 'e', 'servem', 'perfeitamente', 'para', 'resolver', 'o', 'problema', 'da', 'falta', 'de', 'herança', 'múltipla', 'exemplo', 'de', 'classe', 'abastrata', 'code', 'exemplo', 'com', 'traits', 'e', 'interfaces', 'code', 'para', 'os', 'dois', 'casos', 'eu', 'poderia', 'fazer', 'algo', 'como', 'code', 'aí', 'surgiu', 'algumas', 'confusões', 'na', 'minha', 'mente', 'quando', 'é', 'que', 'devo', 'utilizar', 'uma', 'classe', 'abstrata', 'ou', 'uma', 'simples', 'herança', 'quando', 'é', 'que', 'devo', 'utilizar', 'o', 'trait', 'seguido', 'de', 'uma', 'interface', 'implementada', 'na', 'classe', 'que', 'vai', 'usálo', 'segundo', 'algumas', 'recomendações', 'que', 'li', 'internet', 'a', 'fora', 'por', 'que', 'dizem', 'não', 'ser', 'recomendável', 'utilizar', 'um', 'code', 'sem', 'implementar', 'code', 'devo', 'implementar', 'uma', 'interface', 'numa', 'code', 'visto', 'que', 'a', 'própria', 'classe', 'abstrata', 'já', 'pode', 'forçar', 'a', 'criação', 'de', 'um', 'método', 'para', 'a', 'classe', 'que', 'extenderá', 'a', 'classe', 'abstrata', 'venho', 'navegando', 'em', 'vários', 'sites', 'que', 'em', 'seus', 'cabeçalhos', 'mostram', 'mensagens', 'como', 'este', 'site', 'utiliza', 'cookies', 'para', 'melhorar', 'a', 'sua', 'navegação', 'ao', 'navegar', 'no', 'site', 'estará', 'a', 'consentir', 'a', 'sua', 'utilização', 'tudo', 'bem', 'que', 'os', 'cookies', 'são', 'armazenados', 'na', 'máquina', 'do', 'usuário', 'mas', 'é', 'realmente', 'necessário', 'esses', 'avisos', 'existe', 'outro', 'motivo', 'por', 'trás', 'não', 'achei', 'quase', 'nada', 'relacionado', 'na', 'internet', 'para', 'que', 'serve', 'a', 'declaração', 'code', 'no', 'css', 'code', 'estou', 'começando', 'a', 'tentar', 'usar', 'o', 'kanban', 'na', 'prática', 'no', 'caso', 'eu', 'trabaho', 'sozinho', 'então', 'estou', 'tentando', 'buscar', 'essa', 'resposta', 'em', 'um', 'contexto', 'no', 'qual', 'não', 'há', 'equipe', 'disponível', 'muito', 'menos', 'processos', 'mais', 'formais', 'encontrados', 'em', 'empresas', 'maiores', 'ao', 'utilizar', 'metodologias', 'ágeis', 'é', 'comum', 'tentar', 'fazer', 'estimativas', 'uma', 'técnica', 'que', 'recentemente', 'conheci', 'é', 'utilizar', 'pomodoros', 'e', 'a', 'sequencia', 'de', 'fibonacci', 'com', 'essa', 'técnica', 'estimamos', 'o', 'tempo', 'em', 'pomodoros', 'um', 'pomodoro', 'se', 'refere', 'a', 'minutos', 'de', 'trabalho', 'e', 'minutos', 'de', 'descanso', 'para', 'estimar', 'uma', 'tarefa', 'usamos', 'os', 'números', 'da', 'sequência', 'de', 'fibonacci', 'uma', 'tarefa', 'pode', 'ser', 'estimada', 'em', 'pomodoros', 'e', 'assim', 'por', 'diante', 'o', 'problema', 'que', 'eu', 'vejo', 'é', 'nesse', 'caso', 'temos', 'uma', 'unidade', 'de', 'tempo', 'específica', 'para', 'usar', 'e', 'temos', 'uma', 'sequência', 'de', 'números', 'permitidos', 'para', 'essa', 'unidade', 'de', 'tempo', 'a', 'nossa', 'disposição', 'de', 'qualquer', 'forma', 'é', 'necessário', 'ainda', 'olhar', 'para', 'cada', 'tarefa', 'e', 'dizer', 'essa', 'tarefa', 'requer', 'x', 'unidades', 'de', 'tempo', 'isso', 'parece', 'ser', 'realmente', 'muito', 'complicado', 'por', 'vários', 'fatores', 'certas', 'vezes', 'pode', 'se', 'tratar', 'de', 'algo', 'que', 'nunca', 'fizemos', 'antes', 'e', 'não', 'temos', 'ideia', 'de', 'quanto', 'tempo', 'aquilo', 'demora', 'as', 'vezes', 'achamos', 'que', 'algo', 'é', 'fácil', 'e', 'rápido', 'e', 'no', 'fim', 'não', 'era', 'tão', 'simples', 'quanto', 'pensávamos', 'podem', 'ocorrer', 'imprevistos', 'e', 'fazer', 'demorar', 'mais', 'isso', 'se', 'não', 'aparecer', 'uma', 'complicação', 'tão', 'grande', 'no', 'meio', 'do', 'caminho', 'que', 'acabe', 'emperrando', 'o', 'desenvolvimento', 'esses', 'são', 'só', 'alguns', 'fatores', 'que', 'eu', 'pensei', 'que', 'complicam', 'isso', 'para', 'mim', 'que', 'estou', 'começando', 'agora', 'com', 'as', 'metodologias', 'ágeis', 'em', 'prática', 'mesmo', 'eu', 'realmente', 'não', 'consigo', 'ter', 'a', 'menor', 'ideia', 'de', 'como', 'atribuir', 'x', 'unidades', 'de', 'tempo', 'para', 'cada', 'tarefa', 'na', 'teoria', 'parece', 'simples', 'na', 'prática', 'não', 'é', 'tão', 'simples', 'assim', 'dessa', 'forma', 'como', 'fazer', 'estimativas', 'de', 'forma', 'correta', 'ao', 'utilizar', 'metodologias', 'ágeis', 'como', 'contornar', 'essas', 'complicações', 'que', 'eu', 'citei', 'qual', 'é', 'a', 'métrica', 'usada', 'para', 'atribuir', 'um', 'certo', 'número', 'de', 'unidades', 'de', 'tempo', 'a', 'uma', 'tarefa', 'no', 'meu', 'projeto', 'estou', 'a', 'usar', 'a', 'função', 'code', 'no', 'entanto', 'gostaria', 'que', 'fosse', 'em', 'português', 'a', 'saída', 'da', 'data', 'de', 'momento', 'é', 'code', 'gostaria', 'que', 'ficasse', 'no', 'mesmo', 'modelo', 'mas', 'em', 'português', 'este', 'é', 'o', 'meu', 'código', 'code', 'dizem', 'que', 'o', 'elemento', 'code', 'deve', 'ser', 'usado', 'para', 'ênfase', 'e', 'o', 'code', 'para', 'ênfases', 'ainda', 'mais', 'intensas', 'isso', 'parece', 'bastante', 'confuso', 'quando', 'e', 'por', 'que', 'usar', 'cada', 'um', 'deles', 'e', 'code', 'e', 'code', 'ainda', 'devem', 'ser', 'usados', 'em', 'alguma', 'situação', 'eles', 'foram', 'substituídos', 'por', 'code', 'e', 'code', 'bom', 'eu', 'estava', 'pensando', 'como', 'sites', 'com', 'grande', 'acesso', 'usuários', 'fazem', 'testes', 'em', 'seu', 'software', 'e', 'os', 'testam', 'para', 'lançamento', 'final', 'por', 'que', 'qualquer', 'coisa', 'ou', 'erro', 'de', 'código', 'pode', 'ocasionar', 'em', 'falha', 'bruta', 'do', 'sistema', 'é', 'interrupção', 'em', 'nível', 'geral', 'o', 'que', 'ocasionaria', 'um', 'prejuízo', 'feio', 'eu', 'li', 'um', 'pouco', 'sobre', 'automação', 'de', 'testes', 'no', 'php', 'com', 'o', 'phpunit', 'entretanto', 'fiquei', 'em', 'aberto', 'com', 'a', 'seguintes', 'dúvidas', 'no', 'geral', 'qual', 'seria', 'uma', 'boa', 'forma', 'de', 'testar', 'o', 'software', 'seria', 'interessante', 'usar', 'processos', 'de', 'testes', 'manuais', 'ou', 'automáticos', 'existem', 'critérios', 'para', 'realização', 'de', 'tal', 'como', 'definir', 'que', 'aquele', 'software', 'está', 'apto', 'para', 'o', 'usuário', 'final', 'eu', 'estava', 'vendo', 'alguns', 'métodos', 'das', 'classes', 'do', 'pacote', 'code', 'e', 'alguns', 'deles', 'possuem', 'assinatura', 'semelhantes', 'a', 'esta', 'code', 'o', 'que', 'significa', 'esse', 'code', 'em', 'c', 'há', 'uma', 'diferença', 'entre', 'a', 'forma', 'que', 'a', 'memória', 'é', 'alocada', 'pelo', 'clr', 'para', 'tipos', 'referência', 'classes', 'e', 'tipos', 'valor', 'estruturas', 'a', 'diferença', 'pelo', 'que', 'sempre', 'ouvi', 'falar', 'seria', 'o', 'fato', 'de', 'tipos', 'valor', 'serem', 'armazenados', 'na', 'pilha', 'e', 'tipos', 'referência', 'no', 'heap', 'ocorre', 'porém', 'que', 'tipos', 'valor', 'também', 'podem', 'ser', 'armazenados', 'no', 'heap', 'através', 'de', 'boxing', 'ou', 'sendo', 'membros', 'de', 'um', 'tipo', 'referência', 'dessa', 'forma', 'a', 'distinção', 'entre', 'tipos', 'valor', 'e', 'tipos', 'referência', 'passa', 'a', 'ser', 'não', 'exatamente', 'o', 'local', 'onde', 'cada', 'qual', 'está', 'armazenado', 'dessa', 'forma', 'como', 'se', 'diferencia', 'de', 'forma', 'mais', 'correta', 'tipos', 'valor', 'e', 'tipos', 'referência', 'como', 'realmente', 'o', 'clr', 'gerencia', 'a', 'alocação', 'de', 'memória', 'para', 'instâncias', 'e', 'classes', 'e', 'estruturas', 'separadamente', 'além', 'disso', 'por', 'quê', 'existe', 'essa', 'distinção', 'afinal', 'classes', 'e', 'estruturas', 'apesar', 'de', 'possuirem', 'diferenças', 'são', 'bem', 'parecidos', 'um', 'com', 'o', 'outro', 'vi', 'algo', 'do', 'tipo', 'nesta', 'pergunta', 'e', 'sei', 'que', 'isso', 'se', 'relaciona', 'de', 'alguma', 'forma', 'com', 'orientação', 'a', 'objetos', 'o', 'que', 'são', 'como', 'afetam', 'meu', 'código', 'e', 'como', 'posso', 'utilizálas', 'para', 'codificar', 'melhor', 'estou', 'tentando', 'centralizar', 'verticalmente', 'o', 'conteúdo', 'de', 'um', 'elemento', 'que', 'tem', 'code', 'consegui', 'fazer', 'o', 'conteúdo', 'se', 'posicionar', 'da', 'metade', 'para', 'baixo', 'do', 'container', 'no', 'entanto', 'da', 'metade', 'para', 'cima', 'o', 'espaço', 'fica', 'sobrando', 'como', 'posso', 'resolver', 'isso', 'apenas', 'utilizando', 'css', 'eis', 'o', 'meu', 'código', 'até', 'o', 'momento', 'code', 'code', 'a', 'ideia', 'é', 'que', 'o', 'elemento', 'code', 'sobreponha', 'o', 'elementopai', 'como', 'se', 'fosse', 'um', 'indicador', 'de', 'loading', 'em', 'cima', 'de', 'apenas', 'um', 'elemento', 'na', 'página', 'o', 'que', 'faz', 'uma', 'linguagem', 'ser', 'considerada', 'de', 'alto', 'nível', 'e', 'outras', 'de', 'baixo', 'nível', 'estou', 'estudando', 'javascript', 'e', 'tenho', 'dúvidas', 'quanto', 'às', 'diferentes', 'formas', 'de', 'se', 'fazer', 'um', 'code', 'code', 'por', 'exemplo', 'isto', 'code', 'como', 'exatamente', 'funciona', 'eu', 'já', 'li', 'o', 'que', 'reactive', 'programming', 'programao', 'reativa', 'a', 'resposta', 'parece', 'boa', 'mas', 'é', 'teórica', 'entendi', 'o', 'que', 'é', 'mas', 'com', 'aquilo', 'não', 'sei', 'o', 'que', 'fazer', 'onde', 'deve', 'ser', 'usada', 'tem', 'um', 'exemplo', 'simples', 'qual', 'é', 'o', 'mecanismo', 'concreto', 'usado', 'para', 'isto', 'funcionar', 'concreto', 'até', 'onde', 'pode', 'ser', 'entendo', 'que', 'em', 'programação', 'tudo', 'é', 'abstração', 'a', 'não', 'ser', 'os', 'elétrons', 'excitados', 'só', 'funciona', 'entre', 'agentes', 'locais', 'ou', 'um', 'deles', 'pode', 'ser', 'remoto', 'é', 'por', 'causa', 'da', 'internet', 'só', 'funciona', 'se', 'for', 'algo', 'inteligente', 'interligada', 'em', 'paralelo', 'não', 'linear', 'se', 'for', 'o', 'que', 'é', 'esse', 'inteligente', 'aparentemente', 'tem', 'que', 'ter', 'robustez', 'para', 'ser', 'classificada', 'assim', 'precisa', 'rodar', 'em', 'vários', 'servidores', 'ou', 'é', 'uma', 'opção', 'é', 'um', 'paradigma', 'é', 'um', 'framework', 'posso', 'usar', 'em', 'net', 'vejo', 'como', 'uma', 'dúvida', 'muito', 'frequente', 'quando', 'devemos', 'usar', 'o', 'code', 'ou', 'o', 'code', 'no', 'php', 'qual', 'forma', 'é', 'mais', 'adequada', 'para', 'o', 'uso', 'e', 'qual', 'a', 'diferença', 'das', 'situações', 'estou', 'tentando', 'entender', 'como', 'usar', 'code', 'e', 'métodos', 'assíncronos', 'em', 'code', 'mas', 'todo', 'lugar', 'que', 'eu', 'vejo', 'sobre', 'isso', 'na', 'internet', 'menciona', 'uma', 'forma', 'multithreading', 'usual', 'que', 'seria', 'diferente', 'do', 'uso', 'de', 'code', 'o', 'problema', 'é', 'que', 'até', 'agora', 'eu', 'não', 'entendi', 'muito', 'bem', 'como', 'funcionam', 'as', 'code', 'eu', 'só', 'sei', 'que', 'elas', 'seriam', 'intuitivamente', 'caminhos', 'de', 'execução', 'do', 'código', 'dessa', 'forma', 'como', 'entender', 'corretamente', 'code', 'em', 'code', 'o', 'que', 'são', 'e', 'como', 'trabalhamos', 'com', 'essas', 'code', 'eu', 'acredito', 'que', 'essa', 'pergunta', 'seja', 'análoga', 'à', 'essa', 'que', 'fiz', 'mas', 'considerando', 'agora', 'a', 'relação', 'com', 'o', 'processador', 'e', 'não', 'com', 'a', 'memória', 'tenho', 'um', 'problema', 'de', 'maratona', 'de', 'programação', 'e', 'quero', 'saber', 'se', 'a', 'minha', 'solução', 'está', 'certa', 'assim', 'como', 'sugestões', 'de', 'melhoria', 'problema', 'um', 'grupo', 'de', 'formigas', 'é', 'realmente', 'orgulhoso', 'porque', 'elas', 'construíram', 'uma', 'magnifica', 'e', 'grande', 'colônia', 'no', 'entanto', 'o', 'enorme', 'tamanho', 'tornouse', 'um', 'problema', 'porque', 'muitas', 'formigas', 'não', 'sabem', 'o', 'caminho', 'entre', 'algumas', 'partes', 'da', 'colônia', 'elas', 'precisam', 'desesperadamente', 'da', 'sua', 'ajuda', 'a', 'colônia', 'de', 'formigas', 'foi', 'feita', 'como', 'uma', 'série', 'de', 'code', 'formigueiros', 'ligados', 'por', 'túneis', 'as', 'formigas', 'obsessivas', 'como', 'elas', 'são', 'contaram', 'os', 'formigueiros', 'sequencialmente', 'como', 'elas', 'construíramlos', 'o', 'primeiro', 'formigueiro', 'numerado', 'de', 'code', 'não', 'requer', 'qualquer', 'túnel', 'mas', 'para', 'cada', 'um', 'dos', 'formigueiros', 'subseqüentes', 'de', 'code', 'a', 'code', 'as', 'formigas', 'também', 'construiram', 'um', 'único', 'túnel', 'que', 'ligava', 'o', 'novo', 'formigueiro', 'para', 'um', 'dos', 'formigueiros', 'existentes', 'claro', 'este', 'túnel', 'foi', 'suficiente', 'para', 'permitir', 'que', 'qualquer', 'formiga', 'fosse', 'a', 'qualquer', 'formigueiro', 'previamente', 'construído', 'possivelmente', 'passando', 'por', 'outros', 'formigueiros', 'em', 'seu', 'caminho', 'mas', 'elas', 'não', 'se', 'incomodaram', 'em', 'fazer', 'túneis', 'extras', 'e', 'continuaram', 'construindo', 'mais', 'formigueiros', 'seu', 'trabalho', 'é', 'dada', 'a', 'estrutura', 'da', 'colônia', 'e', 'um', 'conjunto', 'de', 'consultas', 'calcular', 'para', 'cada', 'consulta', 'o', 'caminho', 'mais', 'curto', 'entre', 'pares', 'de', 'formigueiros', 'o', 'comprimento', 'de', 'um', 'caminho', 'é', 'a', 'soma', 'dos', 'comprimentos', 'de', 'todos', 'os', 'túneis', 'que', 'precisam', 'ser', 'explorada', 'entrada', 'cada', 'caso', 'de', 'teste', 'se', 'estende', 'por', 'várias', 'linhas', 'a', 'primeira', 'linha', 'contém', 'um', 'inteiro', 'code', 'representa', 'o', 'número', 'de', 'formigueiros', 'na', 'colónia', 'code', 'cada', 'uma', 'das', 'linhas', 'seguintes', 'code', 'contém', 'dois', 'inteiros', 'que', 'descrevem', 'um', 'túnel', 'linha', 'code', 'para', 'code', 'contém', 'code', 'e', 'code', 'indicando', 'que', 'o', 'formigueiro', 'i', 'estava', 'conectado', 'diretamente', 'ao', 'formigueiro', 'code', 'com', 'um', 'túnel', 'de', 'comprimento', 'code', 'code', 'a', 'próxima', 'linha', 'contém', 'um', 'inteiro', 'code', 'representando', 'o', 'número', 'de', 'consultas', 'que', 'se', 'seguem', 'q', 'cada', 'uma', 'das', 'próximas', 'code', 'linhas', 'descreve', 'uma', 'consulta', 'e', 'contém', 'dois', 'inteiros', 'code', 'e', 'code', 'distintas', 'code', 'que', 'representam', 'respectivamente', 'os', 'formigueiros', 'origem', 'e', 'de', 'destino', 'o', 'último', 'caso', 'de', 'teste', 'é', 'seguido', 'por', 'uma', 'linha', 'contendo', 'um', 'zero', 'saída', 'para', 'cada', 'caso', 'a', 'saída', 'de', 'teste', 'com', 'uma', 'única', 'linha', 'code', 'números', 'inteiros', 'cada', 'um', 'deles', 'sendo', 'o', 'comprimento', 'de', 'um', 'caminho', 'mais', 'curto', 'entre', 'o', 'par', 'de', 'formigueiros', 'de', 'uma', 'consulta', 'escrever', 'os', 'resultados', 'para', 'cada', 'comando', 'na', 'mesma', 'ordem', 'em', 'que', 'foram', 'dadas', 'as', 'consultas', 'no', 'input', 'minha', 'solução', 'atual', 'code', 'alguém', 'que', 'esteja', 'a', 'aprender', 'a', 'linguagem', 'novato', 'ou', 'experiente', 'pode', 'nunca', 'se', 'ter', 'cruzado', 'com', 'enumerações', 'de', 'java', 'já', 'li', 'por', 'várias', 'vezes', 'que', 'são', 'úteis', 'por', 'exemplo', 'para', 'implementar', 'os', 'padrões', 'singleton', 'com', 'mais', 'garantias', 'de', 'visibilidade', 'entre', 'threads', 'qual', 'é', 'a', 'utilidade', 'de', 'se', 'aprender', 'e', 'usar', 'as', 'code', 'na', 'programação', 'do', 'diaadia', 'contexto', 'quando', 'faço', 'um', 'sql', 'e', 'desejo', 'por', 'um', 'alias', 'especifico', 'devo', 'por', 'entre', 'aspas', 'duplas', 'code', 'quando', 'quero', 'fazer', 'um', 'code', 'de', 'um', 'campo', 'code', 'os', 'valores', 'devem', 'estar', 'em', 'aspa', 'simples', 'code', 'pergunta', 'qual', 'a', 'diferença', 'entre', 'aspa', 'simples', 'e', 'aspa', 'dupla', 'no', 'sql', 'adendo', 'se', 'eu', 'fizer', 'um', 'code', 'de', 'code', 'code', 'de', 'campos', 'que', 'tem', 'alias', 'em', 'o', 'meu', 'code', 'mais', 'externo', 'também', 'deve', 'ter', 'code', 'por', 'que', 'criar', 'parâmetros', 'para', 'cada', 'campo', 'que', 'será', 'atualizado', 'ajuda', 'a', 'evitar', 'sql', 'injection', 'exemplo', 'code', 'como', 'faço', 'um', 'javascript', 'que', 'mostreesconda', 'uma', 'div', 'em', 'html', 'tentei', 'tipo', 'code', 'mas', 'isso', 'não', 'funcionou', 'suponha', 'que', 'eu', 'tenha', 'uma', 'lista', 'de', 'palavras', 'em', 'javascript', 'se', 'necessário', 'já', 'ordenada', 'segundo', 'as', 'regras', 'de', 'collation', 'code', 'repare', 'que', 'não', 'usei', 'o', 'cedilha', 'code', 'nem', 'o', 'til', 'code', 'de', 'forma', 'consistente', 'como', 'posso', 'buscar', 'nessa', 'lista', 'por', 'programação', 'mas', 'ignorando', 'a', 'acentuação', 'de', 'modo', 'que', 'várias', 'modalidades', 'de', 'buscas', 'retornem', 'resultados', 'ex', 'code', 'fiz', 'uma', 'pergunta', 'semalhante', 'para', 'a', 'linguagem', 'python', 'e', 'tentei', 'aplicar', 'a', 'solução', 'proposta', 'normalizar', 'e', 'remover', 'combinantes', 'para', 'javascript', 'mas', 'esbarrei', 'no', 'problema', 'da', 'falta', 'de', 'suporte', 'à', 'normalização', 'unicode', 'e', 'ainda', 'que', 'eu', 'consiga', 'normalizálas', 'usando', 'um', 'polyfill', 'por', 'exemplo', 'ainda', 'faltaria', 'identificar', 'e', 'remover', 'os', 'caracteres', 'combinantes', 'há', 'algo', 'já', 'pronto', 'nesse', 'sentido', 'para', 'que', 'eu', 'não', 'precise', 'reinventar', 'a', 'roda', 'caso', 'contrário', 'como', 'fazer', 'atualização', 'muitas', 'boas', 'respostas', 'cada', 'uma', 'com', 'seus', 'prós', 'e', 'contras', 'difícil', 'de', 'escolher', 'uma', 'decidi', 'propor', 'um', 'teste', 'levando', 'em', 'consideração', 'fatores', 'robustez', 'ie', 'capacidade', 'de', 'buscar', 'por', 'palavras', 'cujo', 'acento', 'está', 'representado', 'de', 'mais', 'de', 'uma', 'forma', 'diferente', 'code', 'flexibilidade', 'pode', 'buscar', 'ignorando', 'capitalização', 'pode', 'só', 'casar', 'o', 'acento', 'com', 'outra', 'letra', 'acentuada', 'code', 'performance', 'exige', 'mexer', 'na', 'lista', 'original', 'quanto', 'tempo', 'leva', 'uma', 'operação', 'exemplo', 'no', 'jsfiddle', 'vou', 'adequar', 'cada', 'resposta', 'a', 'esse', 'exemplo', 'da', 'melhor', 'forma', 'que', 'puder', 'e', 'availála', 'com', 'base', 'nisso', 'assim', 'poderemos', 'ter', 'uma', 'resposta', 'canônica', 'o', 'código', 'de', 'endereçamento', 'postal', 'cep', 'ou', 'zip', 'code', 'dos', 'endereços', 'de', 'uma', 'cidade', 'garantem', 'maior', 'confiabilidade', 'aos', 'dados', 'de', 'endereço', 'e', 'à', 'resolução', 'de', 'geolocalização', 'por', 'endereço', 'lembrando', 'que', 'endereço', 'não', 'se', 'presta', 'somente', 'ao', 'envio', 'de', 'carta', 'pelo', 'correio', 'é', 'um', 'complemento', 'essencial', 'ao', 'cadastro', 'de', 'uma', 'pessoa', 'física', 'localização', 'mesmo', 'que', 'aproximada', 'de', 'onde', 'reside', 'ou', 'jurídica', 'endereço', 'da', 'sede', 'da', 'empresa', 'presente', 'em', 'bases', 'de', 'dados', 'de', 'crms', 'erps', 'etc', 'e', 'padrões', 'tais', 'como', 'vcard', 'schema', 'e', 'centenas', 'de', 'outros', 'a', 'pergunta', 'é', 'onde', 'estão', 'os', 'dados', 'da', 'minha', 'cidade', 'e', 'pode', 'ter', 'uma', 'resposta', 'específica', 'para', 'cada', 'país', 'da', 'língua', 'portuguesa', 'assim', 'como', 'eventualmente', 'para', 'cada', 'cidade', 'pois', 'as', 'cidades', 'tem', 'certa', 'autonomia', 'sobre', 'o', 'tema', 'como', 'tomei', 'como', 'exemplo', 'a', 'cidade', 'de', 'campinas', 'fica', 'a', 'sugestão', 'de', 'restringirmos', 'discussões', 'a', 'campinas', 'no', 'caso', 'do', 'brasil', 'os', 'dados', 'não', 'estão', 'nem', 'sob', 'a', 'responsabilidade', 'do', 'ibge', 'nem', 'sob', 'a', 'responsabilidade', 'da', 'prefeitura', 'apesar', 'da', 'prefeitura', 'ser', 'a', 'responsável', 'pelas', 'leis', 'de', 'batismo', 'de', 'cada', 'nome', 'de', 'rua', 'da', 'cidade', 'exemplo', 'de', 'rua', 'de', 'campinas', 'notas', 'o', 'geonames', 'tem', 'se', 'empenhado', 'em', 'construir', 'um', 'esboço', 'dessa', 'base', 'de', 'dados', 'mas', 'não', 'resolve', 'o', 'openstreetmap', 'parece', 'ter', 'uma', 'parte', 'dos', 'dados', 'de', 'fato', 'o', 'ideal', 'para', 'o', 'cep', 'é', 'telo', 'espacializado', 'dada', 'uma', 'coordenada', 'geográfica', 'da', 'cidade', 'retornar', 'o', 'cep', 'da', 'coordenada', 'o', 'diretório', 'nacional', 'de', 'endereços', 'dne', 'é', 'a', 'base', 'de', 'dados', 'mantida', 'pela', 'empresa', 'brasileira', 'de', 'correios', 'e', 'telegrafos', 'ect', 'mais', 'conhecida', 'como', 'correios', 'do', 'brasil', 'para', 'validar', 'endereços', 'postais', 'e', 'determinar', 'ceps', 'ela', 'não', 'pode', 'estar', 'numa', 'base', 'apoiada', 'pelo', 'ckan', 'ou', 'qualquer', 'outra', 'iniciativa', 'de', 'dados', 'abertos', 'como', 'posso', 'declarar', 'uma', 'constante', 'em', 'javascript', 'procuro', 'o', 'equivalente', 'ao', 'menos', 'semanticamente', 'de', 'code', 'em', 'c', 'sempre', 'quando', 'tenho', 'problema', 'de', 'permissões', 'de', 'pastas', 'no', 'meu', 'sistema', 'operacional', 'ubuntu', 'eu', 'costumo', 'dar', 'a', 'permissão', 'code', 'para', 'a', 'determinada', 'pasta', 'costumo', 'fazer', 'isso', 'no', 'ambiente', 'de', 'desenvolvimento', 'em', 'algumas', 'situações', 'já', 'dei', 'esse', 'tipo', 'de', 'permissão', 'em', 'ambiente', 'de', 'produção', 'em', 'um', 'servidor', 'linux', 'onde', 'rodo', 'minhas', 'aplicações', 'escritas', 'em', 'php', 'por', 'exemplo', 'quando', 'tive', 'um', 'problema', 'específico', 'de', 'escrita', 'de', 'arquivos', 'de', 'upload', 'na', 'pasta', 'code', 'de', 'um', 'determinado', 'sistema', 'eu', 'dei', 'a', 'permissão', 'code', 'nesta', 'pasta', 'porém', 'vejo', 'sempre', 'recomendações', 'de', 'que', 'devemos', 'usar', 'a', 'permissão', 'code', 'ou', 'code', 'porque', 'usar', 'code', 'é', 'perigoso', 'mas', 'em', 'que', 'sentido', 'isso', 'seria', 'perigoso', 'por', 'que', 'os', 'programadores', 'mais', 'experientes', 'sempre', 'recomendam', 'a', 'utilização', 'de', 'outros', 'valores', 'para', 'permissões', 'de', 'pasta', 'em', 'produção', 'ao', 'invés', 'de', 'code', 'por', 'exemplo', 'já', 'ouvi', 'dizer', 'que', 'uma', 'pessoa', 'pode', 'ter', 'problemas', 'com', 'ataques', 'a', 'uma', 'aplicação', 'web', 'caso', 'haja', 'uma', 'permissão', 'de', 'escrita', 'code', 'em', 'determinada', 'pasta', 'isso', 'é', 'verdade', 'seria', 'legal', 'também', 'se', 'a', 'resposta', 'pudesse', 'explicar', 'melhor', 'sobre', 'as', 'diferenças', 'entre', 'code', 'code', 'e', 'code', 'em', 'c', 'variáveis', 'locais', 'no', 'escopo', 'de', 'um', 'método', 'podem', 'ser', 'declaradas', 'com', 'tipo', 'implícito', 'usando', 'code', 'e', 'o', 'tipo', 'é', 'resolvido', 'em', 'tempo', 'de', 'compilação', 'code', 'exemplo', 'da', 'msdn', 'casos', 'de', 'uso', 'de', 'tipos', 'anônimos', 'chegam', 'a', 'exigir', 'o', 'code', 'como', 'já', 'mencionado', 'numa', 'resposta', 'aqui', 'do', 'site', 'porém', 'nos', 'casos', 'em', 'que', 'ele', 'é', 'opcional', 'a', 'escolha', 'é', 'puramente', 'uma', 'questão', 'de', 'estilo', 'existem', 'recomendações', 'oficiais', 'ou', 'não', 'contanto', 'que', 'justificadas', 'para', 'se', 'utilizar', 'ou', 'evitar', 'o', 'code', 'em', 'determinadas', 'situações', 'qual', 'a', 'grande', 'diferença', 'sobre', 'o', 'aspnet', 'e', 'o', 'c', 'eu', 'programo', 'em', 'c', 'pra', 'desktop', 'mas', 'não', 'consigo', 'compreender', 'c', 'pra', 'desktop', 'windows', 'forms', 'application', 'é', 'idêntico', 'ao', 'c', 'utilizado', 'na', 'programação', 'web', 'e', 'o', 'c', 'usado', 'na', 'programação', 'web', 'é', 'igual', 'ao', 'asp', 'executo', 'uma', 'rotina', 'diariamente', 'de', 'acessar', 'o', 'site', 'do', 'serasa', 'e', 'fazer', 'a', 'consulta', 'de', 'cnpj', 'preciso', 'desenvolver', 'uma', 'macro', 'para', 'acessar', 'esse', 'site', 'do', 'serasa', 'efetuar', 'o', 'login', 'e', 'depois', 'a', 'consulta', 'e', 'em', 'seguida', 'jogar', 'as', 'informações', 'no', 'excel', 'detalhe', 'já', 'consegui', 'desenvolver', 'a', 'macro', 'pra', 'acessar', 'o', 'site', 'mas', 'na', 'hora', 'da', 'consulta', 'de', 'cnpj', 'da', 'erro', 'de', 'script', 'e', 'não', 'deixa', 'copiar', 'as', 'informações', 'alguém', 'sabe', 'me', 'dizer', 'se', 'é', 'possível', 'que', 'a', 'macro', 'execute', 'todas', 'essas', 'atividades', 'code', 'tenho', 'o', 'arquivo', 'que', 'se', 'chama', 'code', 'e', 'quero', 'colocálo', 'numa', 'code', 'por', 'exemplo', 'code', 'pergunta', 'como', 'escrever', 'esse', 'método', 'code', 'estou', 'realizando', 'alguns', 'testes', 'e', 'pelo', 'que', 'me', 'parece', 'object', 'e', 'dynamic', 'realizam', 'a', 'mesma', 'tarefa', 'ao', 'contrário', 'de', 'var', 'que', 'depois', 'de', 'atribuído', 'é', 'impossível', 'mudar', 'seu', 'tipo', 'qual', 'a', 'diferença', 'entre', 'eles', 'code', 'como', 'definir', 'apropriadamente', 'e', 'eficientemente', 'dados', 'naturalmente', 'organizados', 'em', 'árvore', 'em', 'bancos', 'de', 'dados', 'relacionais', 'considerando', 'as', 'implicações', 'físicas', 'disso', 'ou', 'seja', 'organizar', 'de', 'forma', 'que', 'minimize', 'os', 'acessos', 'feitos', 'em', 'qualquer', 'nó', 'assuma', 'que', 'o', 'rdbms', 'não', 'tem', 'características', 'especiais', 'para', 'lidar', 'com', 'isso', 'exceto', 'a', 'ddl', 'do', 'ansi', 'sql', 'ou', 'recursos', 'disponíveis', 'em', 'todos', 'os', 'principais', 'sistemas', 'de', 'banco', 'de', 'dados', 'relacionais', 'eventualmente', 'uma', 'otimização', 'específica', 'opcional', 'pode', 'ser', 'útil', 'mas', 'não', 'obrigatória', 'se', 'existir', 'uma', 'forma', 'query', 'mais', 'adequada', 'para', 'acessar', 'varreratravessar', 'os', 'dados', 'estruturados', 'desta', 'forma', 'um', 'exemplo', 'ajudaria', 'no', 'jep', 'vem', 'se', 'discutindo', 'a', 'definição', 'do', 'g', 'garbage', 'first', 'collector', 'como', 'o', 'garbage', 'collector', 'padrão', 'no', 'java', 'nesse', 'período', 'venho', 'ouvindo', 'muitas', 'citações', 'sobre', 'o', 'g', 'mas', 'muito', 'pouco', 'material', 'tem', 'detalhes', 'mais', 'profundos', 'ou', 'comparações', 'como', 'por', 'exemplo', 'com', 'o', 'cms', 'concurrent', 'mark', 'and', 'sweep', 'o', 'qual', 'seria', 'hoje', 'o', 'gc', 'padrão', 'em', 'aplicações', 'em', 'produção', 'com', 'requerimentos', 'mínimos', 'de', 'performance', 'visto', 'que', 'o', 'gerenciamento', 'de', 'memória', 'automático', 'provido', 'pela', 'jvm', 'é', 'um', 'dos', 'pontos', 'cruciais', 'da', 'plataforma', 'gostaria', 'de', 'uma', 'visão', 'mais', 'profunda', 'do', 'porquê', 'prós', 'e', 'contras', 'da', 'adoção', 'desse', 'novo', 'garbage', 'collector', 'além', 'de', 'um', 'paralelo', 'com', 'as', 'implementações', 'existentes', 'como', 'regra', 'geral', 'é', 'considerada', 'má', 'pratica', 'de', 'programação', 'usar', 'métodos', 'estáticos', 'mas', 'em', 'que', 'situações', 'ela', 'se', 'justifica', 'ou', 'não', 'se', 'justifica', 'por', 'exemplo', 'se', 'eu', 'fosse', 'criar', 'um', 'método', 'simples', 'para', 'ler', 'um', 'arquivo', 'de', 'texto', 'criando', 'esse', 'método', 'no', 'tipo', 'de', 'instância', 'eu', 'teria', 'que', 'instanciar', 'a', 'classe', 'apenas', 'para', 'poder', 'executálo', 'o', 'que', 'não', 'faz', 'muito', 'sentido', 'código', 'em', 'portugol', 'code', 'já', 'na', 'forma', 'estática', 'eu', 'chamaria', 'o', 'método', 'diretamente', 'code', 'o', 'que', 'é', 'importante', 'saber', 'antes', 'de', 'licenciar', 'um', 'programa', 'de', 'computador', 'no', 'brasil', 'eu', 'realmente', 'preciso', 'utilizar', 'uma', 'licença', 'o', 'que', 'é', 'e', 'como', 'funciona', 'o', 'sistema', 'de', 'software', 'livre', 'tenho', 'um', 'site', 'onde', 'controlamos', 'os', 'usuários', 'pelo', 'numero', 'de', 'cpf', 'acredito', 'ser', 'a', 'melhor', 'forma', 'pois', 'é', 'um', 'dado', 'único', 'que', 'todo', 'mundo', 'sabe', 'e', 'é', 'checavel', 'porem', 'o', 'cliente', 'tem', 'agora', 'usuários', 'estrangeiros', 'que', 'não', 'tem', 'cpf', 'como', 'lidar', 'com', 'isso', 'pelo', 'que', 'sei', 'não', 'é', 'possível', 'controlar', 'número', 'de', 'passaporte', 'não', 'existe', 'nada', 'que', 'seja', 'igual', 'ao', 'cpf', 'mais', 'detalhes', 'como', 'chave', 'primaria', 'é', 'usado', 'um', 'userid', 'o', 'cpf', 'é', 'o', 'login', 'no', 'sistema', 'quem', 'acessa', 'são', 'vendedores', 'de', 'lojas', 'que', 'vendem', 'o', 'produto', 'e', 'o', 'site', 'é', 'uma', 'área', 'do', 'lojista', 'onde', 'é', 'feito', 'promoções', 'internas', 'pedir', 'o', 'cpf', 'é', 'um', 'esforço', 'de', 'prevenir', 'mais', 'de', 'um', 'cadastro', 'por', 'pessoa', 'já', 'que', 'o', 'site', 'cria', 'campanhas', 'onde', 'o', 'usuário', 'pode', 'receber', 'prêmios', 'por', 'responder', 'questionários', 'ex', 'uma', 'das', 'acoes', 'feitas', 'foi', 'ganhe', 'um', 'par', 'de', 'ingressos', 'para', 'assistir', 'a', 'final', 'da', 'copa', 'no', 'maracana', 'ele', 'responde', 'o', 'questionário', 'com', 'perguntas', 'sobre', 'o', 'produto', 'técnica', 'de', 'vendas', 'etc', 'e', 'quem', 'acertar', 'mais', 'ganha', 'o', 'premio', 'cada', 'um', 'pode', 'fazer', 'x', 'temos', 'um', 'banco', 'de', 'questões', 'o', 'questionário', 'pede', 'no', 'banco', 'tem', 'que', 'são', 'randomizadas', 'mas', 'de', 'qualquer', 'modo', 'quanto', 'mais', 'cadastros', 'um', 'usuário', 'tem', 'mais', 'chances', 'ele', 'forjará', 'para', 'si', 'preciso', 'mudar', 'a', 'posição', 'do', 'na', 'máscara', 'code', 'com', 'esta', 'solução', 'o', 'resultado', 'é', 'o', 'seguinte', 'para', 'celulares', 'e', 'para', 'fixos', 'porém', 'gostaria', 'de', 'deixar', 'para', 'celulares', 'e', 'eu', 'já', 'vi', 'muita', 'gente', 'defendendo', 'o', 'uso', 'dos', 'métodos', 'http', 'corretamente', 'ou', 'seja', 'respeitando', 'a', 'semântica', 'dos', 'métodos', 'definidos', 'na', 'especificação', 'ao', 'fazer', 'uma', 'requisição', 'code', 'só', 'deve', 'ser', 'utilizado', 'para', 'recuperar', 'dados', 'e', 'nunca', 'para', 'ações', 'que', 'causem', 'efeitos', 'colaterais', 'os', 'métodos', 'code', 'e', 'code', 'muitas', 'vezes', 'devem', 'ser', 'utilizados', 'no', 'lugar', 'do', 'code', 'porém', 'é', 'um', 'fato', 'óbvio', 'que', 'muito', 'pouca', 'gente', 'na', 'web', 'faz', 'isso', 'na', 'prática', 'code', 'e', 'code', 'são', 'utilizados', 'quase', 'que', 'exclusivamente', 'por', 'diversos', 'motivos', 'que', 'não', 'vêm', 'ao', 'caso', 'gostaria', 'de', 'saber', 'quais', 'as', 'vantagens', 'do', 'uso', 'correto', 'e', 'as', 'desvantagens', 'do', 'que', 'é', 'feito', 'na', 'prática', 'para', 'além', 'do', 'dogma', 'do', 'certo', 'e', 'errado', 'e', 'da', 'questão', 'semântica', 'estamos', 'em', 'já', 'li', 'em', 'alguns', 'lugares', 'na', 'internet', 'que', 'não', 'é', 'mais', 'necessário', 'utilizar', 'essa', 'declaração', 'code', 'de', 'fato', 'utilizar', 'a', 'tag', 'code', 'sem', 'declarar', 'esse', 'trecho', 'não', 'afeta', 'em', 'nada', 'o', 'funcionamento', 'do', 'javascript', 'mas', 'mesmo', 'assim', 'ainda', 'em', 'ides', 'atualizadas', 'como', 'por', 'exemplo', 'o', 'sublime', 'text', 'o', 'mecanismo', 'de', 'autocompletamento', 'faz', 'com', 'que', 'a', 'tag', 'code', 'seja', 'declarada', 'com', 'code', 'gostaria', 'de', 'saber', 'se', 'é', 'seguro', 'deixar', 'de', 'usar', 'code', 'algumas', 'ides', 'ainda', 'colocam', 'por', 'questão', 'de', 'compatibilidade', 'quando', 'estudei', 'mvc', 'pela', 'primeira', 'vez', 'no', 'livro', 'falava', 'muito', 'sobre', 'ddd', 'domaindriven', 'design', 'pelo', 'que', 'eu', 'entendi', 'na', 'época', 'a', 'ideia', 'do', 'ddd', 'era', 'simplesmente', 'programar', 'o', 'software', 'com', 'foco', 'no', 'desenvolvimento', 'da', 'camada', 'de', 'domínio', 'depois', 'disso', 'lendo', 'sobre', 'o', 'processo', 'de', 'análise', 'e', 'projeto', 'em', 'orientação', 'a', 'objetos', 'tive', 'a', 'impressão', 'de', 'que', 'sempre', 'que', 'programamos', 'um', 'software', 'orientado', 'a', 'objetos', 'damos', 'essa', 'ênfase', 'na', 'camada', 'de', 'domínio', 'começando', 'por', 'ela', 'e', 'usando', 'os', 'requisitos', 'pra', 'montar', 'ela', 'corretamente', 'isso', 'faz', 'parecer', 'que', 'o', 'ddd', 'prega', 'basicamente', 'a', 'mesma', 'coisa', 'que', 'o', 'processo', 'de', 'análise', 'e', 'projeto', 'em', 'orientação', 'a', 'objetos', 'dessa', 'forma', 'o', 'que', 'realmente', 'é', 'o', 'ddd', 'e', 'quando', 'ele', 'se', 'aplica', 'de', 'verdade', 'quais', 'as', 'vantagens', 'de', 'se', 'usar', 'ddd', 'em', 'um', 'projeto', 'eu', 'sei', 'que', 'existe', 'um', 'livro', 'chamado', 'domaindriven', 'design', 'tackling', 'complexity', 'in', 'the', 'heart', 'of', 'software', 'mas', 'por', 'ser', 'um', 'livro', 'muito', 'extenso', 'nunca', 'consegui', 'parar', 'pra', 'ler', 'ele', 'existe', 'alguma', 'referência', 'mais', 'resumida', 'sobre', 'o', 'assunto', 'num', 'handler', 'de', 'evento', 'do', 'jquery', 'podese', 'usar', 'code', 'code', 'e', 'code', 'ou', 'combinações', 'desses', 'para', 'cancelar', 'a', 'ação', 'do', 'evento', 'sei', 'que', 'tem', 'diferença', 'no', 'comportamento', 'deles', 'mas', 'sinceramente', 'sempre', 'que', 'preciso', 'fazer', 'algo', 'do', 'tipo', 'começo', 'com', 'code', 'e', 'vou', 'na', 'tentativa', 'e', 'erro', 'porque', 'ainda', 'não', 'compreendo', 'muito', 'bem', 'a', 'diferença', 'já', 'li', 'em', 'algum', 'lugar', 'que', 'code', 'é', 'a', 'mesma', 'coisa', 'que', 'acionar', 'code', 'e', 'code', 'ambos', 'e', 'já', 'li', 'gente', 'dizendo', 'que', 'não', 'é', 'bem', 'assim', 'alguém', 'pode', 'explicar', 'melhor', 'como', 'devo', 'fazer', 'pra', 'decidir', 'qual', 'desses', 'caras', 'eu', 'preciso', 'com', 'exemplos', 'quero', 'saber', 'qual', 'é', 'a', 'maneira', 'mais', 'simples', 'possível', 'de', 'se', 'descobrir', 'se', 'a', 'data', 'de', 'hoje', 'é', 'sábado', 'ou', 'domingo', 'em', 'php', 'quais', 'são', 'as', 'maneiras', 'possíveis', 'de', 'se', 'fazer', 'isso', 'estou', 'estudando', 'programação', 'de', 'nodejs', 'realtime', 'e', 'me', 'surgiram', 'algumas', 'dúvidas', 'a', 'respeito', 'de', 'sockets', 'de', 'rede', 'não', 'achei', 'nada', 'detalhadamente', 'explicado', 'dai', 'resolvi', 'abrir', 'a', 'questão', 'o', 'que', 'é', 'um', 'socket', 'de', 'rede', 'e', 'um', 'websocket', 'qual', 'a', 'diferença', 'entre', 'os', 'dois', 'uma', 'comunicação', 'http', 'baseada', 'em', 'requisiçãoresposta', 'sem', 'ser', 'em', 'tempo', 'real', 'é', 'dada', 'através', 'de', 'um', 'socket', 'qual', 'é', 'o', 'papel', 'do', 'protocolo', 'tcp', 'nos', 'sockets', 'e', 'websockets', 'vejo', 'muita', 'confusão', 'no', 'site', 'sobre', 'os', 'termos', 'no', 'contexto', 'de', 'segurança', 'de', 'dados', 'o', 'que', 'seria', 'encoding', 'encrypting', 'e', 'hashing', 'e', 'em', 'que', 'contextos', 'devem', 'ser', 'usados', 'cada', 'um', 'em', 'especial', 'codificar', 'serve', 'como', 'medida', 'de', 'segurança', 'ou', 'é', 'usada', 'para', 'outra', 'coisa', 'exemplo', 'usar', 'base', 'por', 'favor', 'leia', 'e', 'entenda', 'a', 'pergunta', 'o', 'assunto', 'tem', 'um', 'contexto', 'específico', 'quando', 'devo', 'usar', 'um', 'arquivo', 'javascript', 'ou', 'jquery', 'com', 'arquivo', 'code', 'e', 'codepuro', 'tipo', 'code', 'certa', 'vez', 'eu', 'vi', 'um', 'código', 'em', 'c', 'com', 'a', 'seguinte', 'linha', 'code', 'o', 'que', 'significa', 'em', 'linguagem', 'c', 'eu', 'sempre', 'faço', 'confusão', 'com', 'aplicação', 'web', 'e', 'aplicação', 'desktop', 'não', 'consigo', 'entender', 'muito', 'bem', 'a', 'diferenças', 'de', 'ambas', 'perguntas', 'quais', 'são', 'as', 'diferenças', 'entre', 'aplicação', 'web', 'e', 'aplicação', 'desktop', 'quais', 'são', 'as', 'principais', 'característica', 'de', 'cada', 'um', 'a', 'maioria', 'dos', 'programas', 'se', 'encaixam', 'bem', 'em', 'espaço', 'de', 'endereço', 'de', 'menor', 'que', 'gb', 'mas', 'em', 'alguns', 'casos', 'o', 'programa', 'pode', 'precisar', 'usar', 'os', 'novos', 'recursosinstruções', 'do', 'processador', 'que', 'só', 'estão', 'disponíveis', 'na', 'arquitetura', 'x', 'infelizmente', 'o', 'procedimento', 'normal', 'seria', 'gerar', 'um', 'executável', 'bits', 'e', 'ganhando', 'o', 'custo', 'dos', 'ponteiros', 'terem', 'o', 'dobro', 'do', 'tamanho', 'há', 'aplicações', 'específicas', 'em', 'que', 'a', 'maioria', 'das', 'estruturas', 'de', 'dados', 'tem', 'grande', 'parte', 'de', 'seus', 'elementos', 'compostos', 'por', 'ponteiros', 'ponteiros', 'grandes', 'produzirão', 'cache', 'missen', 'com', 'mais', 'frequência', 'e', 'se', 'você', 'não', 'vai', 'usar', 'memória', 'além', 'dos', 'gb', 'ponteiros', 'de', 'bits', 'são', 'puro', 'desperdício', 'existem', 'compiladores', 'onde', 'eu', 'possa', 'usar', 'registradores', 'e', 'instruções', 'específicas', 'x', 'mas', 'preservando', 'os', 'ponteiros', 'de', 'bits', 'para', 'economizar', 'a', 'memória', 'em', 'quais', 'plataformas', 'é', 'possível', 'fazer', 'isso', 'de', 'forma', 'transparente', 'em', 'código', 'legado', 'há', 'um', 'switchflag', 'para', 'ligar', 'isso', 'no', 'compilador', 'caso', 'não', 'seja', 'possível', 'trabalhar', 'com', 'código', 'legado', 'o', 'que', 'é', 'necessário', 'mudar', 'no', 'código', 'para', 'obter', 'os', 'recursos', 'de', 'bits', 'enquanto', 'mantêm', 'ponteiros', 'de', 'bits', 'eu', 'sei', 'que', 'isto', 'só', 'é', 'vantajoso', 'se', 'essa', 'economia', 'de', 'memória', 'realmente', 'é', 'importante', 'tenho', 'dúvidas', 'a', 'respeito', 'do', 'uso', 'do', 'code', 'em', 'funções', 'exemplo', 'code', 'eu', 'sei', 'que', 'esta', 'função', 'irá', 'me', 'retornar', 'um', 'inteiro', 'que', 'é', 'a', 'soma', 'dos', 'dois', 'parâmetros', 'na', 'função', 'code', 'e', 'code', 'exemplo', 'code', 'eu', 'vi', 'em', 'um', 'programa', 'que', 'continha', 'uma', 'implementação', 'parecida', 'como', 'a', 'do', 'segundo', 'exemplo', 'acima', 'que', 'usei', 'para', 'ilustrar', 'a', 'situação', 'que', 'testemunhei', 'do', 'uso', 'do', 'code', 'eu', 'testei', 'a', 'função', 'code', 'e', 'ela', 'retorna', 'a', 'soma', 'dos', 'dois', 'parâmetros', 'mesmo', 'tendo', 'o', 'code', 'especificado', 'como', 'retorno', 'ou', 'seja', 'vazio', 'isto', 'me', 'deixou', 'confuso', 'em', 'relação', 'ao', 'uso', 'do', 'code', 'eu', 'pensava', 'que', 'servia', 'somente', 'para', 'dizer', 'que', 'uma', 'função', 'não', 'vai', 'ter', 'retorno', 'nenhum', 'ou', 'não', 'irá', 'receber', 'nenhum', 'parâmetro', 'como', 'este', 'exemplo', 'code', 'afinal', 'de', 'contas', 'qual', 'é', 'a', 'finalidade', 'deste', 'comando', 'em', 'c', 'o', 'uso', 'do', 'code', 'especificado', 'como', 'ponteiro', 'pode', 'retornar', 'valores', 'mesmo', 'sendo', 'code', 'ultimamente', 'tenho', 'vários', 'exemplos', 'de', 'repository', 'pattern', 'homemade', 'nas', 'questões', 'sobre', 'entity', 'framework', 'porém', 'o', 'entity', 'framework', 'já', 'implementa', 'um', 'repository', 'pattern', 'que', 'no', 'caso', 'é', 'o', 'unit', 'of', 'work', 'muitos', 'destes', 'repositórios', 'atuam', 'como', 'um', 'falso', 'repositório', 'que', 'encapsula', 'o', 'repositório', 'verdadedbcontent', 'para', 'executar', 'operações', 'básicas', 'como', 'getall', 'atualizar', 'inserir', 'etc', 'desta', 'forma', 'não', 'consigo', 'ver', 'benefícios', 'neste', 'tipo', 'de', 'implementação', 'podendo', 'até', 'trazer', 'uma', 'complexibilidade', 'maior', 'ao', 'projeto', 'em', 'si', 'seria', 'repository', 'pattern', 'um', 'novo', 'hungarian', 'notation', 'onde', 'muitos', 'programadores', 'ainda', 'colocam', 'abreviações', 'do', 'type', 'como', 'prefixo', 'da', 'variável', 'em', 'linguagens', 'com', 'oo', 'quando', 'este', 'tipo', 'de', 'notação', 'deveria', 'mencionar', 'a', 'natureza', 'da', 'variável', 'como', 'prefixo', 'e', 'é', 'desnecessária', 'em', 'linguagens', 'oo', 'talvez', 'eu', 'não', 'esteja', 'conseguindo', 'ver', 'fora', 'da', 'caixa', 'então', 'gostaria', 'de', 'exemplos', 'com', 'repository', 'pattern', 'que', 'agregem', 'valor', 'os', 'métodos', 'http', 'são', 'utilizados', 'para', 'enviar', 'e', 'receber', 'dados', 'do', 'servidor', 'tais', 'como', 'o', 'code', 'recupera', 'dados', 'e', 'o', 'code', 'envia', 'os', 'dados', 'seguindo', 'a', 'definição', 'acima', 'da', 'para', 'entender', 'muito', 'bem', 'a', 'finalidade', 'do', 'code', 'e', 'do', 'code', 'porem', 'eu', 'tenho', 'uma', 'dúvida', 'pertinente', 'a', 'respeito', 'de', 'como', 'o', 'http', 'processa', 'a', 'requisição', 'de', 'acordo', 'com', 'o', 'verbo', 'http', 'dúvida', 'como', 'o', 'protocolo', 'http', 'processa', 'por', 'baixo', 'dos', 'panos', 'as', 'requisições', 'ou', 'seja', 'como', 'ocorre', 'a', 'comunicação', 'cliente', 'e', 'servidor', 'através', 'dos', 'métodos', 'de', 'requisição', 'qual', 'a', 'melhor', 'forma', 'por', 'melhor', 'eu', 'quero', 'dizer', 'com', 'maior', 'compatibilidade', 'possível', 'entre', 'browsers', 'e', 'o', 'mais', 'simples', 'possível', 'de', 'posicionar', 'um', 'elemento', 'no', 'centro', 'da', 'página', 'vertical', 'e', 'horizontalmente', 'e', 'independentemente', 'de', 'resolução', 'utilizando', 'somente', 'css', 'com', 'o', 'code', 'entrando', 'no', 'estado', 'deprecated', 'a', 'documentação', 'php', 'recomenda', 'o', 'uso', 'do', 'pdo', 'e', 'mysqli', 'qual', 'vocês', 'recomendam', 'para', 'o', 'uso', 'pdo', 'parece', 'ser', 'mais', 'indicado', 'para', 'trabalhar', 'com', 'orientado', 'a', 'objetos', 'só', 'que', 'ao', 'mesmo', 'tempo', 'vi', 'benchmarks', 'que', 'mostram', 'que', 'a', 'performance', 'usando', 'o', 'mysqli', 'teria', 'uma', 'performance', 'maior', 'a', 'performance', 'poderia', 'impactar', 'muito', 'se', 'comparar', 'ao', 'uso', 'com', 'o', 'pdo', 'em', 'orientação', 'a', 'objetos', 'é', 'comum', 'que', 'objetos', 'de', 'uma', 'certa', 'classe', 'possuam', 'referências', 'a', 'um', 'ou', 'mais', 'objetos', 'de', 'outras', 'classes', 'um', 'exemplo', 'muito', 'simples', 'é', 'um', 'objeto', 'de', 'uma', 'classe', 'code', 'que', 'possui', 'referência', 'a', 'uma', 'lista', 'de', 'code', 'de', 'forma', 'que', 'cada', 'objeto', 'desse', 'tipo', 'possua', 'referência', 'a', 'vários', 'objetos', 'de', 'outro', 'tipo', 'acontece', 'que', 'em', 'alguns', 'casos', 'chamam', 'isso', 'de', 'composição', 'e', 'em', 'outros', 'casos', 'chamam', 'isso', 'de', 'agregação', 'pesquisando', 'li', 'que', 'composição', 'é', 'quando', 'um', 'dos', 'objetos', 'não', 'existe', 'independente', 'do', 'outro', 'e', 'agregação', 'é', 'quando', 'os', 'dois', 'podem', 'existir', 'independentemente', 'é', 'só', 'isso', 'mesmo', 'mesmo', 'se', 'for', 'só', 'isso', 'eu', 'ainda', 'não', 'consigo', 'identificar', 'quais', 'as', 'implicações', 'disso', 'na', 'prática', 'basicamente', 'nos', 'dois', 'casos', 'basta', 'ter', 'uma', 'propriedade', 'no', 'objeto', 'cujo', 'tipo', 'é', 'a', 'classe', 'do', 'outro', 'tipo', 'não', 'tem', 'em', 'código', 'uma', 'diferença', 'entre', 'agregação', 'e', 'composição', 'então', 'quais', 'as', 'utilidades', 'de', 'diferenciar', 'esses', 'dois', 'casos', 'e', 'qual', 'a', 'diferença', 'dessas', 'duas', 'abordagens', 'na', 'prática', 'tenho', 'receio', 'de', 'estar', 'me', 'preocupando', 'demais', 'com', 'testes', 'já', 'que', 'estou', 'gastando', 'atualmente', 'cerca', 'de', 'do', 'tempo', 'do', 'meu', 'projeto', 'apenas', 'na', 'criação', 'deles', 'eu', 'sei', 'que', 'quanto', 'mais', 'tempo', 'eu', 'gastar', 'com', 'testes', 'menos', 'eu', 'vou', 'gastar', 'para', 'corrigir', 'bugs', 'mas', 'assim', 'como', 'existe', 'a', 'curva', 'abc', 'para', 'definir', 'os', 'itens', 'de', 'maior', 'impacto', 'em', 'pesquisas', 'econômicas', 'e', 'estratégias', 'de', 'negócio', 'talvez', 'exista', 'algum', 'estudo', 'análogo', 'na', 'área', 'de', 'desenvolvimento', 'de', 'softwares', 'que', 'calcule', 'uma', 'quantidade', 'ideal', 'de', 'tempo', 'que', 'deva', 'ser', 'gasta', 'com', 'testes', 'já', 'que', 'assim', 'como', 'apontado', 'pela', 'curva', 'abc', 'a', 'partir', 'de', 'um', 'certo', 'ponto', 'o', 'teste', 'vai', 'custar', 'mais', 'caro', 'do', 'que', 'o', 'próprio', 'código', 'que', 'ele', 'testa', 'pergunta', 'qual', 'é', 'a', 'fração', 'de', 'tempo', 'ideal', 'de', 'um', 'projeto', 'que', 'deveria', 'ser', 'reservada', 'para', 'o', 'desenvolvimento', 'de', 'testes', 'estou', 'lendo', 'um', 'livro', 'de', 'javascript', 'chamado', 'javascript', 'the', 'good', 'parts', 'e', 'nele', 'em', 'vários', 'momentos', 'o', 'autor', 'fala', 'que', 'não', 'se', 'deve', 'utilizar', 'variáveis', 'globais', 'porque', 'elas', 'são', 'do', 'mal', 'por', 'que', 'elas', 'são', 'consideradas', 'do', 'mal', 'que', 'tipo', 'de', 'problemas', 'elas', 'podem', 'causar', 'como', 'uma', 'música', 'é', 'interpretada', 'pelo', 'computador', 'entendo', 'que', 'uma', 'imagem', 'é', 'uma', 'matriz', 'de', 'pixels', 'em', 'que', 'cada', 'elemento', 'é', 'uma', 'cor', 'quando', 'abro', 'uma', 'música', 'no', 'code', 'ele', 'a', 'apresenta', 'como', 'duas', 'sequências', 'left', 'e', 'right', 'de', 'frequências', 'conforme', 'a', 'imagem', 'será', 'que', 'é', 'correto', 'afirmar', 'que', 'uma', 'música', 'é', 'uma', 'matriz', 'com', 'duas', 'colunas', 'e', 'o', 'número', 'de', 'linhas', 'sendo', 'alguma', 'unidade', 'de', 'tempo', 'como', 'busco', 'nos', 'correios', 'os', 'detalhes', 'de', 'um', 'endereço', 'utilizando', 'seu', 'cep', 'similar', 'aos', 'cadastros', 'de', 'endereço', 'que', 'vemos', 'nos', 'sites', 'de', 'ecommerce', 'com', 'o', 'advento', 'dos', 'layouts', 'responsivosadaptativofluidos', 'está', 'cada', 'vez', 'menos', 'comum', 'o', 'uso', 'do', 'code', 'para', 'definir', 'espaçamentos', 'no', 'layout', 'o', 'uso', 'dele', 'não', 'é', 'recomendado', 'nesses', 'layouts', 'modernos', 'ou', 'é', 'só', 'uma', 'questão', 'de', 'prática', 'de', 'programação', 'de', 'separar', 'a', 'responsabilidade', 'para', 'o', 'css', 'como', 'este', 'código', 'pode', 'executar', 'desta', 'forma', 'code', 'saída', 'code', 'intuitivamente', 'deve', 'ser', 'menor', 'que', 'sempre', 'porque', 'acontece', 'este', 'tipo', 'de', 'erro', 'o', 'computador', 'não', 'é', 'uma', 'máquina', 'que', 'não', 'erra', 'estou', 'com', 'duvidas', 'sobre', 'uma', 'certa', 'questão', 'em', 'javascript', 'suponha', 'o', 'seguinte', 'cenário', 'abaixo', 'code', 'nesse', 'caso', 'eu', 'percebi', 'que', 'o', 'meu', 'método', 'code', 'foi', 'meio', 'que', 'sobrescrito', 'não', 'sei', 'se', 'é', 'realmente', 'isso', 'que', 'acontece', 'quando', 'chamamos', 'o', 'mesmo', 'só', 'o', 'teste', 'que', 'é', 'exibido', 'agora', 'as', 'duvidas', 'em', 'relação', 'a', 'isso', 'esse', 'é', 'realmente', 'o', 'comportamento', 'esperado', 'quando', 'declaramos', 'métodos', 'com', 'o', 'mesmo', 'nome', 'e', 'parâmetros', 'no', 'js', 'ele', 'irá', 'sempre', 'sobrescrever', 'e', 'vai', 'prevalecer', 'o', 'último', 'declarado', 'existe', 'alguma', 'explicação', 'para', 'esse', 'comportamento', 'se', 'sim', 'qual', 'é', 'essa', 'explicação', 'existe', 'alguma', 'forma', 'de', 'fazer', 'que', 'gere', 'algum', 'erro', 'ou', 'algo', 'do', 'tipo', 'caso', 'alguém', 'cometa', 'esse', 'equivoco', 'e', 'declare', 'métodos', 'com', 'o', 'mesmo', 'nome', 'e', 'parâmetros', 'caso', 'a', 'tenha', 'alguma', 'maneira', 'de', 'fazer', 'o', 'que', 'fazer', 'caso', 'as', 'funções', 'estejam', 'em', 'arquivos', 'js', 'diferentes', 'vejo', 'que', 'alguns', 'sites', 'ao', 'definir', 'o', 'code', 'utilizam', 'a', 'unidade', 'code', 'em', 'uma', 'breve', 'pesquisa', 'eu', 'li', 'que', 'é', 'recomendado', 'usar', 'code', 'em', 'fontes', 'por', 'ser', 'melhor', 'do', 'que', 'a', 'unidade', 'code', 'afinal', 'qual', 'seria', 'a', 'unidade', 'certa', 'ao', 'definir', 'o', 'tamanho', 'da', 'fonte', 'e', 'por', 'que', 'quero', 'colocar', 'no', 'meu', 'site', 'um', 'sistema', 'igual', 'o', 'do', 'gag', 'onde', 'as', 'pessoas', 'podem', 'pausar', 'e', 'dar', 'play', 'em', 'um', 'code', 'eu', 'sei', 'que', 'tenho', 'que', 'usar', 'duas', 'imagens', 'um', 'code', 'e', 'um', 'code', 'mas', 'tentei', 'algumas', 'funções', 'e', 'não', 'consegui', 'achei', 'essa', 'função', 'code', 'mas', 'eu', 'não', 'sei', 'o', 'que', 'passar', 'por', 'parâmetro', 'e', 'nem', 'como', 'usálas', 'no', 'html', 'eu', 'preciso', 'do', 'regex', 'para', 'detectar', 'quando', 'a', 'bandeira', 'do', 'cartão', 'de', 'crédito', 'é', 'hipercard', 'aura', 'e', 'elo', 'eu', 'já', 'possuo', 'regexes', 'para', 'amex', 'martercard', 'diners', 'club', 'visa', 'discover', 'and', 'jcb', 'code', 'às', 'vezes', 'parece', 'que', 'estamos', 'falamos', 'da', 'mesma', 'coisa', 'claro', 'não', 'é', 'quando', 'estes', 'conceitos', 'estão', 'sendo', 'utilizados', 'qual', 'é', 'a', 'real', 'diferença', 'entre', 'eles', 'quando', 'utilizar', 'um', 'ou', 'outro', 'qual', 'a', 'diferença', 'entre', 'code', 'code', 'e', 'code', 'quando', 'devo', 'usar', 'cada', 'um', 'especificamente']\n"
          ],
          "output_type":"stream"
        }
      ],
      "metadata":{
        
      }
    },
    {
      "cell_type":"code",
      "source":[
        "from nltk.lm.preprocessing import padded_everygram_pipeline"
      ],
      "execution_count":132,
      "outputs":[
        
      ],
      "metadata":{
        
      }
    },
    {
      "cell_type":"code",
      "source":[
        "port_treino_brigram, vocab_port = padded_everygram_pipeline(2, todas_palavras_port)"
      ],
      "execution_count":133,
      "outputs":[
        
      ],
      "metadata":{
        
      }
    },
    {
      "cell_type":"code",
      "source":[
        "next(next(port_treino_brigram))"
      ],
      "execution_count":134,
      "outputs":[
        {
          "data":{
            "text\/plain":[
              "('<s>',)"
            ]
          },
          "metadata":{
            
          },
          "output_type":"display_data"
        }
      ],
      "metadata":{
        
      }
    },
    {
      "cell_type":"code",
      "source":[
        "from nltk.lm import MLE"
      ],
      "execution_count":135,
      "outputs":[
        
      ],
      "metadata":{
        
      }
    },
    {
      "cell_type":"code",
      "source":[
        "modelo_port = MLE(2)\n",
        "modelo_port.fit(port_treino_brigram, vocab_port)"
      ],
      "execution_count":136,
      "outputs":[
        
      ],
      "metadata":{
        
      }
    },
    {
      "cell_type":"code",
      "source":[
        "modelo_port.generate(num_words=6)"
      ],
      "execution_count":137,
      "outputs":[
        {
          "data":{
            "text\/plain":[
              "['d', 'e', 'n', 'v', 'e', 't']"
            ]
          },
          "metadata":{
            
          },
          "output_type":"display_data"
        }
      ],
      "metadata":{
        
      }
    },
    {
      "cell_type":"code",
      "source":[
        "modelo_port.generate(num_words=8)"
      ],
      "execution_count":138,
      "outputs":[
        {
          "data":{
            "text\/plain":[
              "['<s>', 'p', 'a', '<\/s>', 'e', '<\/s>', 'e', '<\/s>']"
            ]
          },
          "metadata":{
            
          },
          "output_type":"display_data"
        }
      ],
      "metadata":{
        
      }
    },
    {
      "cell_type":"code",
      "source":[
        "from nltk.lm import NgramCounter"
      ],
      "execution_count":139,
      "outputs":[
        
      ],
      "metadata":{
        
      }
    },
    {
      "cell_type":"code",
      "source":[
        "sorted(modelo_port.counts[['m']].items())"
      ],
      "execution_count":144,
      "outputs":[
        {
          "data":{
            "text\/plain":[
              "[('<\/s>', 2746),\n",
              " ('_', 1),\n",
              " ('a', 2073),\n",
              " ('b', 146),\n",
              " ('d', 3),\n",
              " ('e', 1455),\n",
              " ('f', 1),\n",
              " ('g', 1),\n",
              " ('i', 296),\n",
              " ('l', 17),\n",
              " ('m', 13),\n",
              " ('o', 856),\n",
              " ('p', 711),\n",
              " ('s', 10),\n",
              " ('u', 223),\n",
              " ('v', 19),\n",
              " ('w', 1),\n",
              " ('y', 15),\n",
              " ('á', 44),\n",
              " ('â', 9),\n",
              " ('ã', 5),\n",
              " ('é', 74),\n",
              " ('í', 16),\n",
              " ('ó', 30),\n",
              " ('ú', 5)]"
            ]
          },
          "metadata":{
            
          },
          "output_type":"display_data"
        }
      ],
      "metadata":{
        
      }
    },
    {
      "cell_type":"code",
      "source":[
        "texto = \"bom dia\"\n",
        "palavras = WhitespaceTokenizer().tokenize(texto)\n",
        "palavras_fakechar = [list(pad_both_ends(palavra, n=2)) for palavra in palavras]\n",
        "palavras_bigrams = [list(bigrams(palavra)) for palavra in palavras_fakechar]\n",
        "print(palavras_bigrams)"
      ],
      "execution_count":146,
      "outputs":[
        {
          "name":"stdout",
          "text":[
            "[[('<s>', 'b'), ('b', 'o'), ('o', 'm'), ('m', '<\/s>')], [('<s>', 'd'), ('d', 'i'), ('i', 'a'), ('a', '<\/s>')]]\n"
          ],
          "output_type":"stream"
        }
      ],
      "metadata":{
        
      }
    },
    {
      "cell_type":"code",
      "source":[
        "for p in range(2):\n",
        "    print(modelo_port.perplexity(palavras_bigrams[p]))"
      ],
      "execution_count":151,
      "outputs":[
        {
          "name":"stdout",
          "text":[
            "15.1951161293058\n",
            "8.076299923692847\n"
          ],
          "output_type":"stream"
        }
      ],
      "metadata":{
        
      }
    },
    {
      "cell_type":"code",
      "source":[
        "texto = \"good morning\"\n",
        "palavras = WhitespaceTokenizer().tokenize(texto)\n",
        "palavras_fakechar = [list(pad_both_ends(palavra, n=2)) for palavra in palavras]\n",
        "palavras_bigrams = [list(bigrams(palavra)) for palavra in palavras_fakechar]\n",
        "print(palavras_bigrams)\n",
        "for p in range(2):\n",
        "    print(modelo_port.perplexity(palavras_bigrams[p]))"
      ],
      "execution_count":152,
      "outputs":[
        {
          "name":"stdout",
          "text":[
            "[[('<s>', 'g'), ('g', 'o'), ('o', 'o'), ('o', 'd'), ('d', '<\/s>')], [('<s>', 'm'), ('m', 'o'), ('o', 'r'), ('r', 'n'), ('n', 'i'), ('i', 'n'), ('n', 'g'), ('g', '<\/s>')]]\n",
            "53.58014072446399\n",
            "21.47540054966223\n"
          ],
          "output_type":"stream"
        }
      ],
      "metadata":{
        
      }
    },
    {
      "cell_type":"code",
      "source":[
        "texto = \"buenos dias\"\n",
        "palavras = WhitespaceTokenizer().tokenize(texto)\n",
        "palavras_fakechar = [list(pad_both_ends(palavra, n=2)) for palavra in palavras]\n",
        "palavras_bigrams = [list(bigrams(palavra)) for palavra in palavras_fakechar]\n",
        "print(palavras_bigrams)\n",
        "for p in range(2):\n",
        "    print(modelo_port.perplexity(palavras_bigrams[p]))"
      ],
      "execution_count":153,
      "outputs":[
        {
          "name":"stdout",
          "text":[
            "[[('<s>', 'b'), ('b', 'u'), ('u', 'e'), ('e', 'n'), ('n', 'o'), ('o', 's'), ('s', '<\/s>')], [('<s>', 'd'), ('d', 'i'), ('i', 'a'), ('a', 's'), ('s', '<\/s>')]]\n",
            "11.879169739262888\n",
            "7.989468433777212\n"
          ],
          "output_type":"stream"
        }
      ],
      "metadata":{
        
      }
    },
    {
      "cell_type":"code",
      "source":[
        "def treinar_modelo_mle(lista_textos):\n",
        "    todas_questoes = ' '.join(lista_textos)\n",
        "    todas_palavras = WhitespaceTokenizer().tokenize(todas_questoes)\n",
        "    bigrams, vocabulario = padded_everygram_pipeline(2, todas_palavras)\n",
        "    modelo = MLE(2)\n",
        "    modelo.fit(bigrams, vocabulario)\n",
        "    return modelo"
      ],
      "execution_count":154,
      "outputs":[
        
      ],
      "metadata":{
        
      }
    },
    {
      "cell_type":"code",
      "source":[
        "modelo_port_2 = treinar_modelo_mle(port_treino)\n",
        "for p in range(2):\n",
        "    print(modelo_port_2.perplexity(palavras_bigrams[p]))"
      ],
      "execution_count":155,
      "outputs":[
        {
          "name":"stdout",
          "text":[
            "11.879647798503129\n",
            "7.9896300633756345\n"
          ],
          "output_type":"stream"
        }
      ],
      "metadata":{
        
      }
    },
    {
      "cell_type":"code",
      "source":[
        "modelo_ing_treino = treinar_modelo_mle(ing_treino)\n",
        "modelo_ing_teste = treinar_modelo_mle(ing_teste)"
      ],
      "execution_count":157,
      "outputs":[
        
      ],
      "metadata":{
        
      }
    },
    {
      "cell_type":"code",
      "source":[
        "print(\"Modelo de treino ingles:\")\n",
        "for p in range(2):\n",
        "    print(modelo_ing_treino.perplexity(palavras_bigrams[p]))"
      ],
      "execution_count":158,
      "outputs":[
        {
          "name":"stdout",
          "text":[
            "Modelo de treino ingles:\n",
            "13.356759690524303\n",
            "15.133014535629625\n"
          ],
          "output_type":"stream"
        }
      ],
      "metadata":{
        
      }
    },
    {
      "cell_type":"code",
      "source":[
        "print(\"Modelo de teste ingles:\")\n",
        "for p in range(2):\n",
        "    print(modelo_ing_teste.perplexity(palavras_bigrams[p]))"
      ],
      "execution_count":159,
      "outputs":[
        {
          "name":"stdout",
          "text":[
            "Modelo de teste ingles:\n",
            "11.919054087362849\n",
            "15.307891058837836\n"
          ],
          "output_type":"stream"
        }
      ],
      "metadata":{
        
      }
    },
    {
      "cell_type":"code",
      "source":[
        "def calcular_perp(modelo_perp, textos):\n",
        "    perp = 0\n",
        "    palavras_2 = WhitespaceTokenizer().tokenize(textos)\n",
        "    palavras_fakechar_2 = [list(pad_both_ends(palavra, n=2)) for palavra in palavras_2]\n",
        "    palavras_bigrams_2 = [list(bigrams(palavra)) for palavra in palavras_fakechar_2]\n",
        "    for palavra in palavras_bigrams_2:\n",
        "        perp += modelo_perp.perplexity(palavra)\n",
        "    return perp"
      ],
      "execution_count":161,
      "outputs":[
        
      ],
      "metadata":{
        
      }
    },
    {
      "cell_type":"code",
      "source":[
        "print(calcular_perp(modelo_ing_treino, \"good morning\"))"
      ],
      "execution_count":162,
      "outputs":[
        {
          "name":"stdout",
          "text":[
            "30.359153866232536\n"
          ],
          "output_type":"stream"
        }
      ],
      "metadata":{
        
      }
    },
    {
      "cell_type":"code",
      "source":[
        "print(calcular_perp(modelo_ing_teste, \"good morning\"))"
      ],
      "execution_count":163,
      "outputs":[
        {
          "name":"stdout",
          "text":[
            "31.75777386451321\n"
          ],
          "output_type":"stream"
        }
      ],
      "metadata":{
        
      }
    },
    {
      "cell_type":"code",
      "source":[
        "print(calcular_perp(modelo_port_2, port_teste.iloc[0]))"
      ],
      "execution_count":164,
      "outputs":[
        {
          "name":"stdout",
          "text":[
            "203.02162831110184\n"
          ],
          "output_type":"stream"
        }
      ],
      "metadata":{
        
      }
    },
    {
      "cell_type":"code",
      "source":[
        "print(calcular_perp(modelo_ing_treino, ing_teste.iloc[0]))"
      ],
      "execution_count":173,
      "outputs":[
        {
          "name":"stdout",
          "text":[
            "466.55456828077615\n"
          ],
          "output_type":"stream"
        }
      ],
      "metadata":{
        
      }
    },
    {
      "cell_type":"code",
      "source":[
        "from nltk.lm import Laplace\n",
        "def treinar_modelo_LaPlace(lista_textos):\n",
        "    todas_questoes = ' '.join(lista_textos)\n",
        "    todas_palavras = WhitespaceTokenizer().tokenize(todas_questoes)\n",
        "    bigrams, vocabulario = padded_everygram_pipeline(2, todas_palavras)\n",
        "    modelo = Laplace(2)\n",
        "    modelo.fit(bigrams, vocabulario)\n",
        "    return modelo"
      ],
      "execution_count":174,
      "outputs":[
        
      ],
      "metadata":{
        
      }
    },
    {
      "cell_type":"code",
      "source":[
        "modelo_ing_laplace = treinar_modelo_LaPlace(ing_treino)\n",
        "print(calcular_perp(modelo_ing_laplace, port_teste.iloc[0]))"
      ],
      "execution_count":175,
      "outputs":[
        {
          "name":"stdout",
          "text":[
            "563.8858041240233\n"
          ],
          "output_type":"stream"
        }
      ],
      "metadata":{
        
      }
    },
    {
      "cell_type":"code",
      "source":[
        "modelo_port_laplace = treinar_modelo_LaPlace(port_treino)\n",
        "print(calcular_perp(modelo_port_laplace, port_teste.iloc[0]))"
      ],
      "execution_count":176,
      "outputs":[
        {
          "name":"stdout",
          "text":[
            "204.1085202805881\n"
          ],
          "output_type":"stream"
        }
      ],
      "metadata":{
        
      }
    },
    {
      "cell_type":"code",
      "source":[
        "modelo_esp_laplace = treinar_modelo_LaPlace(esp_treino)\n",
        "print(calcular_perp(modelo_esp_laplace, port_teste.iloc[0]))"
      ],
      "execution_count":177,
      "outputs":[
        {
          "name":"stdout",
          "text":[
            "458.7836197996381\n"
          ],
          "output_type":"stream"
        }
      ],
      "metadata":{
        
      }
    },
    {
      "cell_type":"code",
      "source":[
        "def atribuir_idioma(lista_textos):\n",
        "    idioma = []\n",
        "    for texto in lista_textos:\n",
        "        portugues = calcular_perp(modelo_port_laplace, texto)\n",
        "        ingles = calcular_perp(modelo_ing_laplace, texto)\n",
        "        espanhol = calcular_perp(modelo_esp_laplace, texto)\n",
        "        if ingles >= portugues <= espanhol:\n",
        "            idioma.append(\"portugues\")\n",
        "        elif portugues >= ingles < espanhol:\n",
        "            idioma.append(\"ingles\")\n",
        "        else:\n",
        "            idioma.append(\"espanhol\")\n",
        "    return idioma"
      ],
      "execution_count":178,
      "outputs":[
        
      ],
      "metadata":{
        
      }
    },
    {
      "cell_type":"code",
      "source":[
        "resultados_portugues = atribuir_idioma(port_treino)"
      ],
      "execution_count":182,
      "outputs":[
        
      ],
      "metadata":{
        
      }
    },
    {
      "cell_type":"code",
      "source":[
        "resultados_portugues.count(\"portugues\")"
      ],
      "execution_count":184,
      "outputs":[
        {
          "data":{
            "text\/plain":[
              "400"
            ]
          },
          "metadata":{
            
          },
          "output_type":"display_data"
        }
      ],
      "metadata":{
        
      }
    },
    {
      "cell_type":"code",
      "source":[
        "resultados_portugues = atribuir_idioma(port_teste)"
      ],
      "execution_count":185,
      "outputs":[
        
      ],
      "metadata":{
        
      }
    },
    {
      "cell_type":"code",
      "source":[
        "resultados_portugues.count(\"portugues\")"
      ],
      "execution_count":186,
      "outputs":[
        {
          "data":{
            "text\/plain":[
              "99"
            ]
          },
          "metadata":{
            
          },
          "output_type":"display_data"
        }
      ],
      "metadata":{
        
      }
    },
    {
      "cell_type":"code",
      "source":[
        "resultados_portugues"
      ],
      "execution_count":193,
      "outputs":[
        {
          "data":{
            "text\/plain":[
              "['portugues',\n",
              " 'portugues',\n",
              " 'portugues',\n",
              " 'portugues',\n",
              " 'portugues',\n",
              " 'portugues',\n",
              " 'portugues',\n",
              " 'portugues',\n",
              " 'portugues',\n",
              " 'portugues',\n",
              " 'portugues',\n",
              " 'portugues',\n",
              " 'portugues',\n",
              " 'portugues',\n",
              " 'portugues',\n",
              " 'portugues',\n",
              " 'portugues',\n",
              " 'portugues',\n",
              " 'portugues',\n",
              " 'portugues',\n",
              " 'portugues',\n",
              " 'portugues',\n",
              " 'portugues',\n",
              " 'portugues',\n",
              " 'portugues',\n",
              " 'portugues',\n",
              " 'portugues',\n",
              " 'portugues',\n",
              " 'portugues',\n",
              " 'portugues',\n",
              " 'portugues',\n",
              " 'portugues',\n",
              " 'portugues',\n",
              " 'portugues',\n",
              " 'portugues',\n",
              " 'portugues',\n",
              " 'portugues',\n",
              " 'portugues',\n",
              " 'portugues',\n",
              " 'espanhol',\n",
              " 'portugues',\n",
              " 'portugues',\n",
              " 'portugues',\n",
              " 'portugues',\n",
              " 'portugues',\n",
              " 'portugues',\n",
              " 'portugues',\n",
              " 'portugues',\n",
              " 'portugues',\n",
              " 'portugues',\n",
              " 'portugues',\n",
              " 'portugues',\n",
              " 'portugues',\n",
              " 'portugues',\n",
              " 'portugues',\n",
              " 'portugues',\n",
              " 'portugues',\n",
              " 'portugues',\n",
              " 'portugues',\n",
              " 'portugues',\n",
              " 'portugues',\n",
              " 'portugues',\n",
              " 'portugues',\n",
              " 'portugues',\n",
              " 'portugues',\n",
              " 'portugues',\n",
              " 'portugues',\n",
              " 'portugues',\n",
              " 'portugues',\n",
              " 'portugues',\n",
              " 'portugues',\n",
              " 'portugues',\n",
              " 'portugues',\n",
              " 'portugues',\n",
              " 'portugues',\n",
              " 'portugues',\n",
              " 'portugues',\n",
              " 'portugues',\n",
              " 'portugues',\n",
              " 'portugues',\n",
              " 'portugues',\n",
              " 'portugues',\n",
              " 'portugues',\n",
              " 'portugues',\n",
              " 'portugues',\n",
              " 'portugues',\n",
              " 'portugues',\n",
              " 'portugues',\n",
              " 'portugues',\n",
              " 'portugues',\n",
              " 'portugues',\n",
              " 'portugues',\n",
              " 'portugues',\n",
              " 'portugues',\n",
              " 'portugues',\n",
              " 'portugues',\n",
              " 'portugues',\n",
              " 'portugues',\n",
              " 'portugues',\n",
              " 'portugues']"
            ]
          },
          "metadata":{
            
          },
          "output_type":"display_data"
        }
      ],
      "metadata":{
        
      }
    },
    {
      "cell_type":"code",
      "source":[
        "resultados_ingles = atribuir_idioma(ing_teste)\n",
        "taxa_acerto_ingles = resultados_ingles.count(\"ingles\")\/len(resultados_ingles)\n",
        "taxa_acerto_ingles"
      ],
      "execution_count":187,
      "outputs":[
        {
          "data":{
            "text\/plain":[
              "1.0"
            ]
          },
          "metadata":{
            
          },
          "output_type":"display_data"
        }
      ],
      "metadata":{
        
      }
    },
    {
      "cell_type":"code",
      "source":[
        "resultados_esp = atribuir_idioma(esp_teste)\n",
        "taxa_acerto_esp = resultados_esp.count(\"espanhol\")\/len(resultados_esp)\n",
        "taxa_acerto_esp"
      ],
      "execution_count":192,
      "outputs":[
        {
          "data":{
            "text\/plain":[
              "1.0"
            ]
          },
          "metadata":{
            
          },
          "output_type":"display_data"
        }
      ],
      "metadata":{
        
      }
    },
    {
      "cell_type":"code",
      "source":[
        
      ],
      "execution_count":190,
      "outputs":[
        
      ],
      "metadata":{
        
      }
    },
    {
      "cell_type":"code",
      "source":[
        
      ],
      "execution_count":0,
      "outputs":[
        
      ],
      "metadata":{
        
      }
    }
  ],
  "metadata":{
    
  },
  "nbformat":4,
  "nbformat_minor":0
}