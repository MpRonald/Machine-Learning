{
  "nbformat": 4,
  "nbformat_minor": 0,
  "metadata": {
    "colab": {
      "name": "Parameter_Tunning_Grid_Search.ipynb",
      "provenance": [],
      "collapsed_sections": [],
      "authorship_tag": "ABX9TyMEy38MHkMrcnwVJztpBdQn",
      "include_colab_link": true
    },
    "kernelspec": {
      "name": "python3",
      "display_name": "Python 3"
    },
    "language_info": {
      "name": "python"
    }
  },
  "cells": [
    {
      "cell_type": "markdown",
      "metadata": {
        "id": "view-in-github",
        "colab_type": "text"
      },
      "source": [
        "<a href=\"https://colab.research.google.com/github/MpRonald/Machine-Learning/blob/main/Parameter_Tunning_Grid_Search.ipynb\" target=\"_parent\"><img src=\"https://colab.research.google.com/assets/colab-badge.svg\" alt=\"Open In Colab\"/></a>"
      ]
    },
    {
      "cell_type": "markdown",
      "source": [
        "# Parameter_Tunning_Grid_Search"
      ],
      "metadata": {
        "id": "Oh52ApqjDFra"
      }
    },
    {
      "cell_type": "code",
      "source": [
        "from google.colab import drive\n",
        "drive.mount('/content/drive')"
      ],
      "metadata": {
        "colab": {
          "base_uri": "https://localhost:8080/"
        },
        "id": "wiukAMaPDV0_",
        "outputId": "879c2dc3-324b-4b49-db08-1169071b90cf"
      },
      "execution_count": 1,
      "outputs": [
        {
          "output_type": "stream",
          "name": "stdout",
          "text": [
            "Mounted at /content/drive\n"
          ]
        }
      ]
    },
    {
      "cell_type": "code",
      "execution_count": 2,
      "metadata": {
        "id": "TzljV-FnDDwb"
      },
      "outputs": [],
      "source": [
        "import numpy as np\n",
        "from sklearn.model_selection import GridSearchCV\n",
        "from sklearn.tree import DecisionTreeClassifier\n",
        "from sklearn.ensemble import RandomForestClassifier\n",
        "from sklearn.neighbors import KNeighborsClassifier\n",
        "from sklearn.linear_model import LogisticRegression\n",
        "from sklearn.svm import SVC\n",
        "from sklearn.neural_network import MLPClassifier\n",
        "from sklearn.model_selection import cross_val_score, KFold"
      ]
    },
    {
      "cell_type": "code",
      "source": [
        "import pickle as pkl\n",
        "with open('/content/drive/MyDrive/Datasets/credit.pkl', 'rb') as f:\n",
        "  X_train, y_train, X_test, y_test = pkl.load(f)"
      ],
      "metadata": {
        "id": "gWqXC97RDgR6"
      },
      "execution_count": 3,
      "outputs": []
    },
    {
      "cell_type": "code",
      "source": [
        "X_train.shape, y_train.shape"
      ],
      "metadata": {
        "colab": {
          "base_uri": "https://localhost:8080/"
        },
        "id": "TQFi_3jIEwwd",
        "outputId": "751644ee-eb04-43c2-84f5-1ab2fbb7cccf"
      },
      "execution_count": 4,
      "outputs": [
        {
          "output_type": "execute_result",
          "data": {
            "text/plain": [
              "((1500, 3), (1500,))"
            ]
          },
          "metadata": {},
          "execution_count": 4
        }
      ]
    },
    {
      "cell_type": "code",
      "source": [
        "X_test.shape, y_test.shape"
      ],
      "metadata": {
        "colab": {
          "base_uri": "https://localhost:8080/"
        },
        "id": "8kKjRD4lE7jr",
        "outputId": "0f277c01-5acd-43cd-e6dd-305487cf1b44"
      },
      "execution_count": 5,
      "outputs": [
        {
          "output_type": "execute_result",
          "data": {
            "text/plain": [
              "((500, 3), (500,))"
            ]
          },
          "metadata": {},
          "execution_count": 5
        }
      ]
    },
    {
      "cell_type": "code",
      "source": [
        "# concat\n",
        "X_credit = np.concatenate((X_train, X_test), axis=0) # axis=0 concatenate rows\n",
        "y_credit = np.concatenate((y_train, y_test), axis=0)\n",
        "X_credit.shape, y_credit.shape"
      ],
      "metadata": {
        "colab": {
          "base_uri": "https://localhost:8080/"
        },
        "id": "hsVL50xvFCO6",
        "outputId": "8c82ac1b-efed-4a8a-a9a2-8a1f5f4a7bfc"
      },
      "execution_count": 6,
      "outputs": [
        {
          "output_type": "execute_result",
          "data": {
            "text/plain": [
              "((2000, 3), (2000,))"
            ]
          },
          "metadata": {},
          "execution_count": 6
        }
      ]
    },
    {
      "cell_type": "code",
      "source": [
        "# function to run Grid Search\n",
        "def run_grid_search(estimators, param):\n",
        "  grid = GridSearchCV(estimator=estimators, param_grid=param).fit(X_credit, y_credit)\n",
        "  print(f\"Best Parameter: {grid.best_params_}\")\n",
        "  print(f\"Best Index: {grid.best_index_}\")\n",
        "  best_score = round(grid.best_score_,4)\n",
        "  print(f\"Best Score: {best_score}\")"
      ],
      "metadata": {
        "id": "6QzDJZNzPx9o"
      },
      "execution_count": 90,
      "outputs": []
    },
    {
      "cell_type": "markdown",
      "source": [
        "# Decision Tree Classifier"
      ],
      "metadata": {
        "id": "YksGLjfZGKNP"
      }
    },
    {
      "cell_type": "code",
      "source": [
        "# parameters to classifier\n",
        "parameters_D = {\n",
        "      'criterion':['gini', 'entropy'],\n",
        "      'splitter':['best', 'random'],\n",
        "      'min_samples_split':[2,5,10],\n",
        "      'min_samples_leaf':[2,6,10]}"
      ],
      "metadata": {
        "id": "KsI7LSXwGJfW"
      },
      "execution_count": 91,
      "outputs": []
    },
    {
      "cell_type": "code",
      "source": [
        "run_grid_search(DecisionTreeClassifier(), parameters_D)"
      ],
      "metadata": {
        "colab": {
          "base_uri": "https://localhost:8080/"
        },
        "id": "nIakAiz4KMii",
        "outputId": "62eb1c1b-0b3b-4d20-afef-3c9a06a28eae"
      },
      "execution_count": 92,
      "outputs": [
        {
          "output_type": "stream",
          "name": "stdout",
          "text": [
            "Best Parameter: {'criterion': 'entropy', 'min_samples_leaf': 2, 'min_samples_split': 2, 'splitter': 'best'}\n",
            "Best Index: 18\n",
            "Best Score: 0.9835\n"
          ]
        }
      ]
    },
    {
      "cell_type": "markdown",
      "source": [
        "# Random Forest"
      ],
      "metadata": {
        "id": "37jT0nye3s2Z"
      }
    },
    {
      "cell_type": "code",
      "source": [
        "# parameters to classifier\n",
        "parameters_R = {\n",
        "      'criterion':['gini', 'entropy'],\n",
        "      'n_estimators':[10, 50, 100, 200],\n",
        "      'min_samples_split':[2,5,10],\n",
        "      'min_samples_leaf':[2,6,10]}"
      ],
      "metadata": {
        "id": "jM0m29NXKT5q"
      },
      "execution_count": 14,
      "outputs": []
    },
    {
      "cell_type": "code",
      "source": [
        "result_RF = GridSearchCV(RandomForestClassifier(), param_grid = parameters_R).fit(X_credit, y_credit)\n",
        "best_RF = result_RF.best_score_\n",
        "best_RF"
      ],
      "metadata": {
        "colab": {
          "base_uri": "https://localhost:8080/"
        },
        "id": "Z19DAQ4GnsDc",
        "outputId": "c6fbbd3a-f0b1-44a3-911b-3a8a5d6c7949"
      },
      "execution_count": 17,
      "outputs": [
        {
          "output_type": "execute_result",
          "data": {
            "text/plain": [
              "0.986"
            ]
          },
          "metadata": {},
          "execution_count": 17
        }
      ]
    },
    {
      "cell_type": "markdown",
      "source": [
        "# KNN"
      ],
      "metadata": {
        "id": "mmaKSPEwNKhB"
      }
    },
    {
      "cell_type": "code",
      "source": [
        "parameters_K = {\n",
        "    'n_neighbors':[3, 5, 10, 20, 35],\n",
        "    'p':[1,2]}"
      ],
      "metadata": {
        "id": "pLyms6kaLwr5"
      },
      "execution_count": 18,
      "outputs": []
    },
    {
      "cell_type": "code",
      "source": [
        "run_grid_search(KNeighborsClassifier(), parameters_K)"
      ],
      "metadata": {
        "colab": {
          "base_uri": "https://localhost:8080/"
        },
        "id": "2GFZdrhdO77V",
        "outputId": "86491d0d-50d1-4c68-84cb-b6ba3e2c6b05"
      },
      "execution_count": 19,
      "outputs": [
        {
          "output_type": "stream",
          "name": "stdout",
          "text": [
            "Best Parameter: {'n_neighbors': 35, 'p': 2}\n",
            "Best Index: 9\n",
            "Best Score: 0.9815\n"
          ]
        }
      ]
    },
    {
      "cell_type": "code",
      "source": [
        "result_knn = GridSearchCV(KNeighborsClassifier(), param_grid = parameters_K).fit(X_credit, y_credit)\n",
        "best_knn = result_knn.best_score_\n",
        "best_knn"
      ],
      "metadata": {
        "colab": {
          "base_uri": "https://localhost:8080/"
        },
        "id": "dpDfzyb6oDuI",
        "outputId": "62cd2b22-2aee-4763-cb81-72f4adbd13eb"
      },
      "execution_count": 20,
      "outputs": [
        {
          "output_type": "execute_result",
          "data": {
            "text/plain": [
              "0.9814999999999999"
            ]
          },
          "metadata": {},
          "execution_count": 20
        }
      ]
    },
    {
      "cell_type": "markdown",
      "source": [
        "# Logistic Regression"
      ],
      "metadata": {
        "id": "iCJxStZmQbBu"
      }
    },
    {
      "cell_type": "code",
      "source": [
        "parameters_L ={\n",
        "    'tol': [0.1, 0.01, 0.001, 0.0001, 0.00001],\n",
        "    'C': [1.0, 1.5, 2.0, 2.5, 3.0],\n",
        "    'solver': ['lbfgs', 'sag', 'saga']\n",
        "}"
      ],
      "metadata": {
        "id": "LDuOtTy5QZ_8"
      },
      "execution_count": 21,
      "outputs": []
    },
    {
      "cell_type": "code",
      "source": [
        "run_grid_search(LogisticRegression(), parameters_L)"
      ],
      "metadata": {
        "colab": {
          "base_uri": "https://localhost:8080/"
        },
        "id": "5dKRnzvPQaJA",
        "outputId": "13bbd7fa-3b6a-4d6b-c272-512c6c418805"
      },
      "execution_count": 22,
      "outputs": [
        {
          "output_type": "stream",
          "name": "stdout",
          "text": [
            "Best Parameter: {'C': 1.0, 'solver': 'lbfgs', 'tol': 0.1}\n",
            "Best Index: 0\n",
            "Best Score: 0.9485\n"
          ]
        }
      ]
    },
    {
      "cell_type": "code",
      "source": [
        "result_lr = GridSearchCV(LogisticRegression(), param_grid = parameters_L).fit(X_credit, y_credit)\n",
        "best_lr = result_lr.best_score_\n",
        "best_lr"
      ],
      "metadata": {
        "colab": {
          "base_uri": "https://localhost:8080/"
        },
        "id": "YWZ92_YWoV1u",
        "outputId": "85754d65-07f4-45db-c18a-18f59777520b"
      },
      "execution_count": 29,
      "outputs": [
        {
          "output_type": "execute_result",
          "data": {
            "text/plain": [
              "0.9490000000000001"
            ]
          },
          "metadata": {},
          "execution_count": 29
        }
      ]
    },
    {
      "cell_type": "markdown",
      "source": [
        "# SVM"
      ],
      "metadata": {
        "id": "pE1n3l9VRokQ"
      }
    },
    {
      "cell_type": "code",
      "source": [
        "parameters_S = {\n",
        "    'tol': [0.1, 0.01, 0.001, 0.0001, 0.00001],\n",
        "    'C': [1.0, 1.5, 2.0, 2.5, 3.0],\n",
        "    'kernel':['rbf', 'linear', 'poly', 'sigmoid']}"
      ],
      "metadata": {
        "id": "trlStGrnQaP7"
      },
      "execution_count": 24,
      "outputs": []
    },
    {
      "cell_type": "code",
      "source": [
        "run_grid_search(SVC(), parameters_S)"
      ],
      "metadata": {
        "colab": {
          "base_uri": "https://localhost:8080/"
        },
        "id": "Bs6RQcnnQaX6",
        "outputId": "b9d018fc-1f74-40fe-b22b-bfd5f68550c5"
      },
      "execution_count": 25,
      "outputs": [
        {
          "output_type": "stream",
          "name": "stdout",
          "text": [
            "Best Parameter: {'C': 3.0, 'kernel': 'rbf', 'tol': 0.1}\n",
            "Best Index: 80\n",
            "Best Score: 0.984\n"
          ]
        }
      ]
    },
    {
      "cell_type": "code",
      "source": [
        "result_svm = GridSearchCV(SVC(), param_grid = parameters_S).fit(X_credit, y_credit)\n",
        "best_svm = result_svm.best_score_\n",
        "best_svm"
      ],
      "metadata": {
        "colab": {
          "base_uri": "https://localhost:8080/"
        },
        "id": "mrBkgJG2ogOv",
        "outputId": "b61c5758-7a51-42c5-bfa3-4ae2f26fde4a"
      },
      "execution_count": 27,
      "outputs": [
        {
          "output_type": "execute_result",
          "data": {
            "text/plain": [
              "0.984"
            ]
          },
          "metadata": {},
          "execution_count": 27
        }
      ]
    },
    {
      "cell_type": "markdown",
      "source": [
        "# Neural Netwoks"
      ],
      "metadata": {
        "id": "yH_Kmg48SQYX"
      }
    },
    {
      "cell_type": "code",
      "source": [
        "parameters_N = {\n",
        "    'activation':['relu', 'logistic', 'tahn'],\n",
        "    'solver':['adam', 'sgd'],\n",
        "    'batch_size':[10, 42]}"
      ],
      "metadata": {
        "id": "kpX_1PMiSFTd"
      },
      "execution_count": 30,
      "outputs": []
    },
    {
      "cell_type": "code",
      "source": [
        "run_grid_search(MLPClassifier(), parameters_N)"
      ],
      "metadata": {
        "id": "Uga7eQ2RSwfD"
      },
      "execution_count": null,
      "outputs": []
    },
    {
      "cell_type": "code",
      "source": [
        "result_nn = GridSearchCV(MLPClassifier(), param_grid = parameters_N).fit(X_credit, y_credit)\n",
        "best_nn = result_nn.best_score_\n",
        "best_nn"
      ],
      "metadata": {
        "id": "t7O4sb9totuW"
      },
      "execution_count": null,
      "outputs": []
    },
    {
      "cell_type": "markdown",
      "source": [
        "# Cross Validation"
      ],
      "metadata": {
        "id": "n-aMz5BITJa5"
      }
    },
    {
      "cell_type": "code",
      "source": [
        "def cross_validation(algorithm, X, y):\n",
        "  list_result = []\n",
        "  for i in range(30):\n",
        "    kfold = KFold(n_splits=10, shuffle=True, random_state=i)\n",
        "    \n",
        "    clf = algorithm\n",
        "    scores = cross_val_score(clf, X, y, cv = kfold)\n",
        "    list_result.append(scores.mean())\n",
        "  print(f'Mean of : {list_result}')"
      ],
      "metadata": {
        "id": "Lyq4Y3j8S4bp"
      },
      "execution_count": 33,
      "outputs": []
    },
    {
      "cell_type": "code",
      "source": [
        "list_algorithm = [DecisionTreeClassifier(), RandomForestClassifier(),\n",
        "                  LogisticRegression(), SVC(), MLPClassifier()]"
      ],
      "metadata": {
        "id": "l64pybtYZpYL"
      },
      "execution_count": 34,
      "outputs": []
    },
    {
      "cell_type": "code",
      "source": [
        "for i in list_algorithm:\n",
        "  print(i)\n",
        "  cross_validation(i, X_credit, y_credit)"
      ],
      "metadata": {
        "id": "DrouVe8jauwX"
      },
      "execution_count": null,
      "outputs": []
    },
    {
      "cell_type": "markdown",
      "source": [
        "# Loading a trained classifier"
      ],
      "metadata": {
        "id": "Kivi3UQ5bT9N"
      }
    },
    {
      "cell_type": "code",
      "source": [
        "neural = MLPClassifier(activation='relu', batch_size=56, solver='adam').fit(X_credit, y_credit)"
      ],
      "metadata": {
        "colab": {
          "base_uri": "https://localhost:8080/"
        },
        "id": "TpbQqYIw1TRk",
        "outputId": "e62b0850-ef18-40a9-a6ec-77ff0ada2d58"
      },
      "execution_count": 94,
      "outputs": [
        {
          "output_type": "stream",
          "name": "stderr",
          "text": [
            "/usr/local/lib/python3.7/dist-packages/sklearn/neural_network/_multilayer_perceptron.py:696: ConvergenceWarning: Stochastic Optimizer: Maximum iterations (200) reached and the optimization hasn't converged yet.\n",
            "  ConvergenceWarning,\n"
          ]
        }
      ]
    },
    {
      "cell_type": "code",
      "source": [
        "decision_tree = DecisionTreeClassifier(criterion='entropy', min_samples_leaf=1,\n",
        "                                       min_samples_split=5, splitter='best').fit(X_credit, y_credit)"
      ],
      "metadata": {
        "id": "umQCOcgAbs7W"
      },
      "execution_count": 96,
      "outputs": []
    },
    {
      "cell_type": "code",
      "source": [
        "svm = SVC(C=2.0, kernel='rbf').fit(X_credit, y_credit)"
      ],
      "metadata": {
        "id": "et-zW5BdcCWz"
      },
      "execution_count": 98,
      "outputs": []
    },
    {
      "cell_type": "code",
      "source": [
        "# creating files\n",
        "import pickle as pkl\n",
        "pkl.dump(neural, open('neural_final.sav', 'wb'))\n",
        "pkl.dump(decision_tree, open('tree_final.sav', 'wb'))\n",
        "pkl.dump(svm, open('svm_final.sav', 'wb'))"
      ],
      "metadata": {
        "id": "5eJU7f1icMhI"
      },
      "execution_count": 101,
      "outputs": []
    },
    {
      "cell_type": "code",
      "source": [
        "# loading\n",
        "neural = pkl.load(open('neural_final.sav', 'rb'))\n",
        "tree = pkl.load(open('tree_final.sav', 'rb'))\n",
        "svm = pkl.load(open('svm_final.sav', 'rb'))"
      ],
      "metadata": {
        "id": "e01e09xScpH8"
      },
      "execution_count": 103,
      "outputs": []
    },
    {
      "cell_type": "code",
      "source": [
        "new_register = X_credit[1999]"
      ],
      "metadata": {
        "id": "P_5MUOBmdaAR"
      },
      "execution_count": 117,
      "outputs": []
    },
    {
      "cell_type": "code",
      "source": [
        "# prediction\n",
        "new_register = new_register.reshape(1,-1)"
      ],
      "metadata": {
        "id": "cQhuhS7bdpYZ"
      },
      "execution_count": 118,
      "outputs": []
    },
    {
      "cell_type": "code",
      "source": [
        "# neural network\n",
        "output = neural.predict(new_register)\n",
        "if output == 0:\n",
        "  print('Crédito Consedido!')\n",
        "else:\n",
        "  print('Crédito Negado!')"
      ],
      "metadata": {
        "colab": {
          "base_uri": "https://localhost:8080/"
        },
        "id": "zHTIAp6jd3fb",
        "outputId": "3ab82438-eb59-4fdf-f21e-ba8ac963a037"
      },
      "execution_count": 120,
      "outputs": [
        {
          "output_type": "stream",
          "name": "stdout",
          "text": [
            "Crédito Negado!\n"
          ]
        }
      ]
    },
    {
      "cell_type": "code",
      "source": [
        "# decision tree\n",
        "output = tree.predict(new_register)\n",
        "if output == 0:\n",
        "  print('Crédito Consedido!')\n",
        "else:\n",
        "  print('Crédito Negado!')"
      ],
      "metadata": {
        "colab": {
          "base_uri": "https://localhost:8080/"
        },
        "id": "eUuw5lU9eAtD",
        "outputId": "54814c2a-1225-47da-b247-f7c120358345"
      },
      "execution_count": 121,
      "outputs": [
        {
          "output_type": "stream",
          "name": "stdout",
          "text": [
            "Crédito Negado!\n"
          ]
        }
      ]
    },
    {
      "cell_type": "code",
      "source": [
        "# svm\n",
        "output = svm.predict(new_register)\n",
        "if output == 0:\n",
        "  print('Crédito Consedido!')\n",
        "else:\n",
        "  print('Crédito Negado!')"
      ],
      "metadata": {
        "colab": {
          "base_uri": "https://localhost:8080/"
        },
        "id": "v-GxLOUifLAN",
        "outputId": "2e227531-25e3-4fc6-9229-1d05d4e52921"
      },
      "execution_count": 122,
      "outputs": [
        {
          "output_type": "stream",
          "name": "stdout",
          "text": [
            "Crédito Negado!\n"
          ]
        }
      ]
    },
    {
      "cell_type": "code",
      "source": [
        ""
      ],
      "metadata": {
        "id": "g4_I3GEVfOLf"
      },
      "execution_count": null,
      "outputs": []
    }
  ]
}