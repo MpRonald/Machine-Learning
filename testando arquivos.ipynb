{
  "cells":[
    {
      "cell_type":"code",
      "source":[
        "import pandas as pd"
      ],
      "execution_count":1,
      "outputs":[
        
      ],
      "metadata":{
        
      }
    },
    {
      "cell_type":"code",
      "source":[
        "dados = pd.read_csv('wine.csv')"
      ],
      "execution_count":2,
      "outputs":[
        
      ],
      "metadata":{
        
      }
    },
    {
      "cell_type":"code",
      "source":[
        "dados.head()"
      ],
      "execution_count":3,
      "outputs":[
        {
          "data":{
            "text\/html":[
              "<div>\n",
              "<style scoped>\n",
              "    .dataframe tbody tr th:only-of-type {\n",
              "        vertical-align: middle;\n",
              "    }\n",
              "\n",
              "    .dataframe tbody tr th {\n",
              "        vertical-align: top;\n",
              "    }\n",
              "\n",
              "    .dataframe thead th {\n",
              "        text-align: right;\n",
              "    }\n",
              "<\/style>\n",
              "<table border=\"1\" class=\"dataframe\">\n",
              "  <thead>\n",
              "    <tr style=\"text-align: right;\">\n",
              "      <th><\/th>\n",
              "      <th>fixed acidity<\/th>\n",
              "      <th>volatile acidity<\/th>\n",
              "      <th>citric acid<\/th>\n",
              "      <th>residual sugar<\/th>\n",
              "      <th>chlorides<\/th>\n",
              "      <th>free sulfur dioxide<\/th>\n",
              "      <th>total sulfur dioxide<\/th>\n",
              "      <th>density<\/th>\n",
              "      <th>pH<\/th>\n",
              "      <th>sulphates<\/th>\n",
              "      <th>alcohol<\/th>\n",
              "      <th>quality<\/th>\n",
              "    <\/tr>\n",
              "  <\/thead>\n",
              "  <tbody>\n",
              "    <tr>\n",
              "      <th>0<\/th>\n",
              "      <td>7.4<\/td>\n",
              "      <td>0.70<\/td>\n",
              "      <td>0.00<\/td>\n",
              "      <td>1.9<\/td>\n",
              "      <td>0.076<\/td>\n",
              "      <td>11.0<\/td>\n",
              "      <td>34.0<\/td>\n",
              "      <td>0.9978<\/td>\n",
              "      <td>3.51<\/td>\n",
              "      <td>0.56<\/td>\n",
              "      <td>9.4<\/td>\n",
              "      <td>5<\/td>\n",
              "    <\/tr>\n",
              "    <tr>\n",
              "      <th>1<\/th>\n",
              "      <td>7.8<\/td>\n",
              "      <td>0.88<\/td>\n",
              "      <td>0.00<\/td>\n",
              "      <td>2.6<\/td>\n",
              "      <td>0.098<\/td>\n",
              "      <td>25.0<\/td>\n",
              "      <td>67.0<\/td>\n",
              "      <td>0.9968<\/td>\n",
              "      <td>3.20<\/td>\n",
              "      <td>0.68<\/td>\n",
              "      <td>9.8<\/td>\n",
              "      <td>5<\/td>\n",
              "    <\/tr>\n",
              "    <tr>\n",
              "      <th>2<\/th>\n",
              "      <td>7.8<\/td>\n",
              "      <td>0.76<\/td>\n",
              "      <td>0.04<\/td>\n",
              "      <td>2.3<\/td>\n",
              "      <td>0.092<\/td>\n",
              "      <td>15.0<\/td>\n",
              "      <td>54.0<\/td>\n",
              "      <td>0.9970<\/td>\n",
              "      <td>3.26<\/td>\n",
              "      <td>0.65<\/td>\n",
              "      <td>9.8<\/td>\n",
              "      <td>5<\/td>\n",
              "    <\/tr>\n",
              "    <tr>\n",
              "      <th>3<\/th>\n",
              "      <td>11.2<\/td>\n",
              "      <td>0.28<\/td>\n",
              "      <td>0.56<\/td>\n",
              "      <td>1.9<\/td>\n",
              "      <td>0.075<\/td>\n",
              "      <td>17.0<\/td>\n",
              "      <td>60.0<\/td>\n",
              "      <td>0.9980<\/td>\n",
              "      <td>3.16<\/td>\n",
              "      <td>0.58<\/td>\n",
              "      <td>9.8<\/td>\n",
              "      <td>6<\/td>\n",
              "    <\/tr>\n",
              "    <tr>\n",
              "      <th>4<\/th>\n",
              "      <td>7.4<\/td>\n",
              "      <td>0.70<\/td>\n",
              "      <td>0.00<\/td>\n",
              "      <td>1.9<\/td>\n",
              "      <td>0.076<\/td>\n",
              "      <td>11.0<\/td>\n",
              "      <td>34.0<\/td>\n",
              "      <td>0.9978<\/td>\n",
              "      <td>3.51<\/td>\n",
              "      <td>0.56<\/td>\n",
              "      <td>9.4<\/td>\n",
              "      <td>5<\/td>\n",
              "    <\/tr>\n",
              "  <\/tbody>\n",
              "<\/table>\n",
              "<\/div>"
            ]
          },
          "metadata":{
            
          },
          "output_type":"display_data"
        }
      ],
      "metadata":{
        
      }
    },
    {
      "cell_type":"code",
      "source":[
        
      ],
      "execution_count":0,
      "outputs":[
        
      ],
      "metadata":{
        
      }
    }
  ],
  "metadata":{
    
  },
  "nbformat":4,
  "nbformat_minor":0
}