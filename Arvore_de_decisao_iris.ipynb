{
  "cells":[
    {
      "cell_type":"markdown",
      "source":[
        "# Árvore de decisão\n",
        "\n",
        "\n",
        "Ilustra o funcionamento do algoritmo de árvore de decisão com atributos numéricos.\n",
        "\n",
        "Este notebook foi desenvolvido para o ambiente GOOGLE COLAB ([colab.research.google.com](https:\/\/colab.research.google.com)).\n",
        "\n",
        "Prof. Hugo de Paula\n",
        "\n",
        "-------------------------------------------------------------------------------\n",
        "\n",
        "### Base de dados: Iris dataset (espécies de lírios)\n",
        "\n",
        "https:\/\/archive.ics.uci.edu\/ml\/datasets\/Iris\/\n",
        "\n",
        "3 classes (setosa, virginica, versicolor)\n",
        "\n",
        "50 amostras por classe\n",
        "\n",
        "4 atributos reais positivos (comp. pétala, comp. sépala, larg. pétala, larg. sépala)\n",
        "\n"
      ],
      "attachments":{
        
      },
      "metadata":{
        
      }
    },
    {
      "cell_type":"code",
      "source":[
        "!pip install pydotplus\n",
        "!pip install dtreeviz"
      ],
      "execution_count":null,
      "outputs":[
        
      ],
      "metadata":{
        
      }
    },
    {
      "cell_type":"code",
      "source":[
        "import pandas as pd\n",
        "from sklearn import datasets, tree\n",
        "from sklearn.model_selection import train_test_split\n",
        "from sklearn.tree import DecisionTreeClassifier\n",
        "from sklearn.metrics import accuracy_score, classification_report, confusion_matrix\n",
        "from sklearn.feature_extraction import DictVectorizer\n",
        "from sklearn.preprocessing import LabelEncoder\n"
      ],
      "execution_count":null,
      "outputs":[
        
      ],
      "metadata":{
        
      }
    },
    {
      "cell_type":"markdown",
      "source":[
        "### Carga dos dados e particionamento das bases de treinamento e teste\n",
        "\n",
        "<code>train_test_split(X, y) -- particiona a base de dados original em bases de treinamento e teste.<\/code>\n",
        "\n",
        "Por padrão, 75% da base é utilizada para treinamento e 25% para testes. No código a seguir, são utilizados 15% para teste e 85% para treinamento.\n"
      ],
      "attachments":{
        
      },
      "metadata":{
        
      }
    },
    {
      "cell_type":"code",
      "source":[
        "# importa a base de dados iris\n",
        "iris = datasets.load_iris()\n",
        "\n",
        "X, y = iris.data, iris.target\n",
        "class_names = iris.target_names\n",
        "\n",
        "# Particiona a base de dados\n",
        "X_train, X_test, y_train, y_test = train_test_split(X, y, random_state=0, test_size=0.15)\n"
      ],
      "execution_count":null,
      "outputs":[
        
      ],
      "metadata":{
        
      }
    },
    {
      "cell_type":"markdown",
      "source":[
        "### Indução do Modelo\n",
        "\n",
        "\n",
        "Os três passos para indução de um modelo são:\n",
        "\n",
        "1.   Instanciar o modelo: ``` DecisionTreeClassifier()```\n",
        "2.   Treinar o modelo: ```fit()```\n",
        "3.   Testar o modelo: ```predict()```\n"
      ],
      "attachments":{
        
      },
      "metadata":{
        
      }
    },
    {
      "cell_type":"code",
      "source":[
        "tree_iris = DecisionTreeClassifier(random_state=0, criterion='entropy', class_weight=[{0: 1, 1: 1})\n",
        "tree_iris = tree_iris.fit(X_train, y_train)\n",
        "print(\"Acurácia (base de treinamento):\", tree_iris.score(X_train, y_train))\n",
        "\n",
        "y_pred = tree_iris.predict(X_test)\n",
        "print(\"Acurácia de previsão:\", accuracy_score(y_test, y_pred))\n",
        "print(classification_report(y_test, y_pred, target_names=iris.target_names))\n",
        "\n",
        "cnf_matrix = confusion_matrix(y_test, y_pred)\n",
        "cnf_table = pd.DataFrame(data=cnf_matrix, index=iris.target_names, columns=[x + \"(prev)\" for x in iris.target_names])\n",
        "print(cnf_table)"
      ],
      "execution_count":null,
      "outputs":[
        
      ],
      "metadata":{
        
      }
    },
    {
      "cell_type":"markdown",
      "source":[
        "### Exibição da árvore de decisão"
      ],
      "attachments":{
        
      },
      "metadata":{
        
      }
    },
    {
      "cell_type":"code",
      "source":[
        "from dtreeviz.trees import *\n",
        "\n",
        "viz = dtreeviz(tree_iris,\n",
        "              X_train,\n",
        "              y_train,\n",
        "              target_name=\"espécie\",\n",
        "              feature_names=iris.feature_names,\n",
        "              class_names=[\"setosa\", \"versicolor\", \"virginica\"])  \n",
        "\n",
        "viz.view()"
      ],
      "execution_count":null,
      "outputs":[
        
      ],
      "metadata":{
        
      }
    },
    {
      "cell_type":"code",
      "source":[
        "import pydotplus \n",
        "# Create DOT data\n",
        "dot_data = tree.export_graphviz(tree_iris, out_file=None, \n",
        "                                #proportion=True,\n",
        "                                rounded =True,\n",
        "                                filled=True,\n",
        "                                feature_names=iris.feature_names,  \n",
        "                                class_names=[\"setosa\", \"versicolor\", \"virginica\"])\n",
        "\n",
        "# Draw graph\n",
        "graph = pydotplus.graph_from_dot_data(dot_data)  \n",
        "\n",
        "# Show graph\n",
        "Image(graph.create_png())"
      ],
      "execution_count":null,
      "outputs":[
        
      ],
      "metadata":{
        
      }
    }
  ],
  "metadata":{
    
  },
  "nbformat":4,
  "nbformat_minor":0
}