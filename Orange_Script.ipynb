{
  "nbformat": 4,
  "nbformat_minor": 0,
  "metadata": {
    "colab": {
      "name": "Orange_Script.ipynb",
      "provenance": [],
      "collapsed_sections": [],
      "authorship_tag": "ABX9TyNlQ6MLrnHxu5foZBRQBrwq",
      "include_colab_link": true
    },
    "kernelspec": {
      "name": "python3",
      "display_name": "Python 3"
    },
    "language_info": {
      "name": "python"
    }
  },
  "cells": [
    {
      "cell_type": "markdown",
      "metadata": {
        "id": "view-in-github",
        "colab_type": "text"
      },
      "source": [
        "<a href=\"https://colab.research.google.com/github/MpRonald/Machine-Learning/blob/main/Orange_Script.ipynb\" target=\"_parent\"><img src=\"https://colab.research.google.com/assets/colab-badge.svg\" alt=\"Open In Colab\"/></a>"
      ]
    },
    {
      "cell_type": "code",
      "source": [
        "from google.colab import drive\n",
        "drive.mount('/content/drive')"
      ],
      "metadata": {
        "colab": {
          "base_uri": "https://localhost:8080/"
        },
        "id": "00187iyVMZ28",
        "outputId": "353dd6d2-9dfb-474e-b323-1b49ffc6000d"
      },
      "execution_count": 1,
      "outputs": [
        {
          "output_type": "stream",
          "name": "stdout",
          "text": [
            "Mounted at /content/drive\n"
          ]
        }
      ]
    },
    {
      "cell_type": "code",
      "execution_count": null,
      "metadata": {
        "id": "_gz5Z4mmMTCP"
      },
      "outputs": [],
      "source": [
        "!pip install Orange3"
      ]
    },
    {
      "cell_type": "code",
      "source": [
        "import Orange"
      ],
      "metadata": {
        "id": "XLHf3qF-Mhph"
      },
      "execution_count": 3,
      "outputs": []
    },
    {
      "cell_type": "markdown",
      "source": [
        "# Credit Risk Data Base"
      ],
      "metadata": {
        "id": "GBspjSjfMzvR"
      }
    },
    {
      "cell_type": "code",
      "source": [
        "url = \"https://raw.githubusercontent.com/MpRonald/datasets/main/risco_credito_regras.csv\"\n",
        "credit_risk = Orange.data.Table(url)"
      ],
      "metadata": {
        "id": "qVaNCiwiMyTk"
      },
      "execution_count": 5,
      "outputs": []
    },
    {
      "cell_type": "code",
      "source": [
        "credit_risk"
      ],
      "metadata": {
        "colab": {
          "base_uri": "https://localhost:8080/"
        },
        "id": "lidZbdz7OSqK",
        "outputId": "9beca76a-1889-49fc-a06a-ff803acd7191"
      },
      "execution_count": 6,
      "outputs": [
        {
          "output_type": "execute_result",
          "data": {
            "text/plain": [
              "[[ruim, alta, nenhuma, 0_15 | alto],\n",
              " [desconhecida, alta, nenhuma, 15_35 | alto],\n",
              " [desconhecida, baixa, nenhuma, 15_35 | moderado],\n",
              " [desconhecida, baixa, nenhuma, acima_35 | alto],\n",
              " [desconhecida, baixa, nenhuma, acima_35 | baixo],\n",
              " ...\n",
              "]"
            ]
          },
          "metadata": {},
          "execution_count": 6
        }
      ]
    },
    {
      "cell_type": "code",
      "source": [
        "credit_risk.domain"
      ],
      "metadata": {
        "colab": {
          "base_uri": "https://localhost:8080/"
        },
        "id": "-pFYjjBaOzjp",
        "outputId": "42a10df5-edac-4108-bcb5-883a1e943c0a"
      },
      "execution_count": 7,
      "outputs": [
        {
          "output_type": "execute_result",
          "data": {
            "text/plain": [
              "[historia, divida, garantias, renda | risco]"
            ]
          },
          "metadata": {},
          "execution_count": 7
        }
      ]
    },
    {
      "cell_type": "code",
      "source": [
        "cn2 = Orange.classification.rules.CN2Learner()\n",
        "credit_risk_rules = cn2(credit_risk)"
      ],
      "metadata": {
        "id": "8Tqnk6LgPKub"
      },
      "execution_count": 8,
      "outputs": []
    },
    {
      "cell_type": "code",
      "source": [
        "# checking rules\n",
        "for rules in credit_risk_rules.rule_list:\n",
        "  print(rules)"
      ],
      "metadata": {
        "colab": {
          "base_uri": "https://localhost:8080/"
        },
        "id": "BMoN-oZoPauf",
        "outputId": "b22ea209-654c-4179-a737-f59640e5a2e5"
      },
      "execution_count": 10,
      "outputs": [
        {
          "output_type": "stream",
          "name": "stdout",
          "text": [
            "IF renda==0_15 THEN risco=alto \n",
            "IF historia==boa AND divida!=alta THEN risco=baixo \n",
            "IF historia==boa AND garantias!=nenhuma THEN risco=baixo \n",
            "IF historia==boa AND renda!=15_35 THEN risco=baixo \n",
            "IF historia==boa THEN risco=moderado \n",
            "IF divida==alta THEN risco=alto \n",
            "IF historia!=desconhecida THEN risco=moderado \n",
            "IF garantias==adequada THEN risco=baixo \n",
            "IF renda==15_35 THEN risco=moderado \n",
            "IF historia==desconhecida THEN risco=alto \n",
            "IF TRUE THEN risco=alto \n"
          ]
        }
      ]
    },
    {
      "cell_type": "code",
      "source": [
        "# prediction\n",
        "pred = credit_risk_rules([['boa', 'alta', 'nenhuma', 'acima_35'],\n",
        "                         ['ruim', 'alta', 'adequada', '0_15']])"
      ],
      "metadata": {
        "id": "V05f_1f0PoTw"
      },
      "execution_count": 12,
      "outputs": []
    },
    {
      "cell_type": "code",
      "source": [
        "for i in pred:\n",
        "  print(credit_risk.domain.class_var.values[i])"
      ],
      "metadata": {
        "colab": {
          "base_uri": "https://localhost:8080/"
        },
        "id": "Q7YBZ2RkQMYc",
        "outputId": "d9e29186-77c5-45ce-dbdd-8f52a608bf3b"
      },
      "execution_count": 13,
      "outputs": [
        {
          "output_type": "stream",
          "name": "stdout",
          "text": [
            "baixo\n",
            "alto\n"
          ]
        }
      ]
    },
    {
      "cell_type": "markdown",
      "source": [
        "# Credit Data Base"
      ],
      "metadata": {
        "id": "7mW4gXlvRfEE"
      }
    },
    {
      "cell_type": "code",
      "source": [
        "url = \"https://raw.githubusercontent.com/MpRonald/datasets/main/credit_data_regras.csv\"\n",
        "base_credit = Orange.data.Table(url)"
      ],
      "metadata": {
        "id": "zLxo_jCzRIlv"
      },
      "execution_count": 14,
      "outputs": []
    },
    {
      "cell_type": "code",
      "source": [
        "base_credit.domain"
      ],
      "metadata": {
        "colab": {
          "base_uri": "https://localhost:8080/"
        },
        "id": "V3tE2VF6Rz9y",
        "outputId": "50866dfb-8bff-4183-96e2-ac510942fb11"
      },
      "execution_count": 15,
      "outputs": [
        {
          "output_type": "execute_result",
          "data": {
            "text/plain": [
              "[income, age, loan | default]"
            ]
          },
          "metadata": {},
          "execution_count": 15
        }
      ]
    },
    {
      "cell_type": "code",
      "source": [
        "# split dataset\n",
        "base_splited = Orange.evaluation.testing.sample(base_credit, n=0.20)"
      ],
      "metadata": {
        "id": "-pC-De56R2nM"
      },
      "execution_count": 16,
      "outputs": []
    },
    {
      "cell_type": "code",
      "source": [
        "base_splited"
      ],
      "metadata": {
        "colab": {
          "base_uri": "https://localhost:8080/"
        },
        "id": "CNxNC-PbSLzS",
        "outputId": "dec48e7a-1675-4968-8d45-81018ecfc928"
      },
      "execution_count": 17,
      "outputs": [
        {
          "output_type": "execute_result",
          "data": {
            "text/plain": [
              "([[45382.8, 42.5163, 2742.45 | 0],\n",
              "  [53825.5, 49.7139, 5272.8 | 0],\n",
              "  [61129.7, 35.1092, 11302.8 | 0],\n",
              "  [43203.4, 40.9017, 7730.73 | 0],\n",
              "  [25534.7, 37.8718, 1084.97 | 0],\n",
              "  ...\n",
              " ], [[20568.9, 25.8539, 2257.06 | 0],\n",
              "  [36029.3, 52.6406, 2928.1 | 0],\n",
              "  [62125.3, 21.0859, 5700.46 | 0],\n",
              "  [29445.5, 28.4457, 1758.88 | 0],\n",
              "  [60776.1, 34.2069, 10382.4 | 1],\n",
              "  ...\n",
              " ])"
            ]
          },
          "metadata": {},
          "execution_count": 17
        }
      ]
    },
    {
      "cell_type": "code",
      "source": [
        "base_train = base_splited[1]\n",
        "base_test = base_splited[0]"
      ],
      "metadata": {
        "id": "IWRK74HhSQcl"
      },
      "execution_count": 18,
      "outputs": []
    },
    {
      "cell_type": "code",
      "source": [
        "len(base_train), len(base_test)"
      ],
      "metadata": {
        "colab": {
          "base_uri": "https://localhost:8080/"
        },
        "id": "02S4dovpSlcn",
        "outputId": "310e4a96-9334-4b88-cd0e-75f8320b2bec"
      },
      "execution_count": 19,
      "outputs": [
        {
          "output_type": "execute_result",
          "data": {
            "text/plain": [
              "(1600, 400)"
            ]
          },
          "metadata": {},
          "execution_count": 19
        }
      ]
    },
    {
      "cell_type": "code",
      "source": [
        "# training\n",
        "cn2 = Orange.classification.rules.CN2Learner()\n",
        "credit_rules = cn2(base_train)"
      ],
      "metadata": {
        "id": "pmOY_O0gSpiI"
      },
      "execution_count": 20,
      "outputs": []
    },
    {
      "cell_type": "code",
      "source": [
        "for rules in credit_rules.rule_list:\n",
        "  print(rules)"
      ],
      "metadata": {
        "colab": {
          "base_uri": "https://localhost:8080/"
        },
        "id": "IXRhSnqES9jf",
        "outputId": "3aa933b6-00c4-4b49-e0a1-9b633d6f6a7b"
      },
      "execution_count": 21,
      "outputs": [
        {
          "output_type": "stream",
          "name": "stdout",
          "text": [
            "IF income>=68743.3531787246 THEN default=0 \n",
            "IF age>=34.9966813726351 THEN default=0 \n",
            "IF loan<=2495.13299137587 AND income>=20145.9885970689 THEN default=0 \n",
            "IF income<=31702.3342987522 AND loan>=3665.88089899456 THEN default=1 \n",
            "IF loan>=7708.31562497011 AND age>=18.1760434475727 THEN default=1 \n",
            "IF income>=58147.7998569608 THEN default=0 \n",
            "IF income<=22925.8120805025 AND age>=34.7410444347188 THEN default=0 \n",
            "IF income<=24857.6948815025 AND age>=23.238169600255798 THEN default=1 \n",
            "IF loan>=5836.56338145928 AND age>=26.9590053195134 THEN default=1 \n",
            "IF loan>=6415.0862444378 THEN default=1 \n",
            "IF income>=50360.6787929311 THEN default=0 \n",
            "IF loan<=4849.33378471958 AND loan>=4849.33378471958 THEN default=1 \n",
            "IF loan<=4859.2352866332 AND income>=34667.0204005204 THEN default=0 \n",
            "IF loan>=5836.56338145928 THEN default=1 \n",
            "IF income>=46801.274286117405 THEN default=0 \n",
            "IF loan>=4285.38691174949 AND loan>=5416.3577980789005 THEN default=1 \n",
            "IF income>=42522.5757574663 THEN default=0 \n",
            "IF income>=34635.7447491027 THEN default=1 \n",
            "IF age>=34.1016539284028 THEN default=0 \n",
            "IF age>=33.804503521882 THEN default=1 \n",
            "IF loan>=4285.38691174949 THEN default=1 \n",
            "IF income>=29724.4768752716 THEN default=0 \n",
            "IF loan>=3293.25087871026 THEN default=1 \n",
            "IF income>=24857.6948815025 THEN default=0 \n",
            "IF income<=21217.7474563941 THEN default=1 \n",
            "IF TRUE THEN default=0 \n"
          ]
        }
      ]
    },
    {
      "cell_type": "code",
      "source": [
        "# prediction\n",
        "pred = Orange.evaluation.testing.TestOnTestData(base_train, base_test,\n",
        "                                                [lambda data_test: credit_rules])"
      ],
      "metadata": {
        "id": "7WQJd4guTvTB"
      },
      "execution_count": 22,
      "outputs": []
    },
    {
      "cell_type": "code",
      "source": [
        "pred"
      ],
      "metadata": {
        "colab": {
          "base_uri": "https://localhost:8080/"
        },
        "id": "7uWtRwtjUmma",
        "outputId": "a640cb82-394c-4d03-a9ec-fb4c6c3d6f25"
      },
      "execution_count": 23,
      "outputs": [
        {
          "output_type": "execute_result",
          "data": {
            "text/plain": [
              "<Orange.evaluation.testing.Results at 0x7fac5aad7090>"
            ]
          },
          "metadata": {},
          "execution_count": 23
        }
      ]
    },
    {
      "cell_type": "code",
      "source": [
        "Orange.evaluation.CA(pred)"
      ],
      "metadata": {
        "colab": {
          "base_uri": "https://localhost:8080/"
        },
        "id": "IxWlUin3UpvE",
        "outputId": "26bb053d-2242-4bc0-aa37-d2d90173e824"
      },
      "execution_count": 24,
      "outputs": [
        {
          "output_type": "execute_result",
          "data": {
            "text/plain": [
              "array([0.98])"
            ]
          },
          "metadata": {},
          "execution_count": 24
        }
      ]
    },
    {
      "cell_type": "code",
      "source": [
        ""
      ],
      "metadata": {
        "id": "gmcZdcMWUwJK"
      },
      "execution_count": null,
      "outputs": []
    }
  ]
}