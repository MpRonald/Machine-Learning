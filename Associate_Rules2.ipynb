{
  "nbformat": 4,
  "nbformat_minor": 0,
  "metadata": {
    "colab": {
      "provenance": [],
      "authorship_tag": "ABX9TyNnPDHAbB70ULNCK8A4Ucqk",
      "include_colab_link": true
    },
    "kernelspec": {
      "name": "python3",
      "display_name": "Python 3"
    },
    "language_info": {
      "name": "python"
    }
  },
  "cells": [
    {
      "cell_type": "markdown",
      "metadata": {
        "id": "view-in-github",
        "colab_type": "text"
      },
      "source": [
        "<a href=\"https://colab.research.google.com/github/MpRonald/Machine-Learning/blob/main/Associate_Rules2.ipynb\" target=\"_parent\"><img src=\"https://colab.research.google.com/assets/colab-badge.svg\" alt=\"Open In Colab\"/></a>"
      ]
    },
    {
      "cell_type": "code",
      "source": [
        "!pip -qq install apyori"
      ],
      "metadata": {
        "colab": {
          "base_uri": "https://localhost:8080/"
        },
        "id": "uX00SAp-EI7z",
        "outputId": "304d6ec0-25c1-4b9c-8fdb-49a54b0a9f4e"
      },
      "execution_count": 7,
      "outputs": [
        {
          "output_type": "stream",
          "name": "stdout",
          "text": [
            "  Preparing metadata (setup.py) ... \u001b[?25l\u001b[?25hdone\n",
            "  Building wheel for apyori (setup.py) ... \u001b[?25l\u001b[?25hdone\n"
          ]
        }
      ]
    },
    {
      "cell_type": "code",
      "execution_count": 15,
      "metadata": {
        "id": "xlGZFuVqoaCy"
      },
      "outputs": [],
      "source": [
        "import apyori\n",
        "import pandas as pd\n",
        "import numpy as np\n",
        "import matplotlib.pyplot as plt\n",
        "%matplotlib inline\n",
        "plt.rcParams['figure.figsize']=(16,8)"
      ]
    },
    {
      "cell_type": "code",
      "source": [
        "url = 'https://raw.githubusercontent.com/higoramario/univesp-com360-mineracao-dados/main/market-basket-optimisation.csv'\n",
        "data = pd.read_csv(url, header=None)\n",
        "data"
      ],
      "metadata": {
        "colab": {
          "base_uri": "https://localhost:8080/",
          "height": 591
        },
        "id": "GJfdR1Btok_s",
        "outputId": "486e5980-162f-4953-94a4-9cbbd1defcd8"
      },
      "execution_count": 16,
      "outputs": [
        {
          "output_type": "execute_result",
          "data": {
            "text/plain": [
              "                 0                  1            2                 3   \\\n",
              "0            shrimp            almonds      avocado    vegetables mix   \n",
              "1           burgers          meatballs         eggs               NaN   \n",
              "2           chutney                NaN          NaN               NaN   \n",
              "3            turkey            avocado          NaN               NaN   \n",
              "4     mineral water               milk   energy bar  whole wheat rice   \n",
              "...             ...                ...          ...               ...   \n",
              "7496         butter         light mayo  fresh bread               NaN   \n",
              "7497        burgers  frozen vegetables         eggs      french fries   \n",
              "7498        chicken                NaN          NaN               NaN   \n",
              "7499       escalope          green tea          NaN               NaN   \n",
              "7500           eggs    frozen smoothie  yogurt cake    low fat yogurt   \n",
              "\n",
              "                4                 5     6               7             8   \\\n",
              "0     green grapes  whole weat flour  yams  cottage cheese  energy drink   \n",
              "1              NaN               NaN   NaN             NaN           NaN   \n",
              "2              NaN               NaN   NaN             NaN           NaN   \n",
              "3              NaN               NaN   NaN             NaN           NaN   \n",
              "4        green tea               NaN   NaN             NaN           NaN   \n",
              "...            ...               ...   ...             ...           ...   \n",
              "7496           NaN               NaN   NaN             NaN           NaN   \n",
              "7497     magazines         green tea   NaN             NaN           NaN   \n",
              "7498           NaN               NaN   NaN             NaN           NaN   \n",
              "7499           NaN               NaN   NaN             NaN           NaN   \n",
              "7500           NaN               NaN   NaN             NaN           NaN   \n",
              "\n",
              "                9               10         11     12     13             14  \\\n",
              "0     tomato juice  low fat yogurt  green tea  honey  salad  mineral water   \n",
              "1              NaN             NaN        NaN    NaN    NaN            NaN   \n",
              "2              NaN             NaN        NaN    NaN    NaN            NaN   \n",
              "3              NaN             NaN        NaN    NaN    NaN            NaN   \n",
              "4              NaN             NaN        NaN    NaN    NaN            NaN   \n",
              "...            ...             ...        ...    ...    ...            ...   \n",
              "7496           NaN             NaN        NaN    NaN    NaN            NaN   \n",
              "7497           NaN             NaN        NaN    NaN    NaN            NaN   \n",
              "7498           NaN             NaN        NaN    NaN    NaN            NaN   \n",
              "7499           NaN             NaN        NaN    NaN    NaN            NaN   \n",
              "7500           NaN             NaN        NaN    NaN    NaN            NaN   \n",
              "\n",
              "          15                 16               17       18         19  \n",
              "0     salmon  antioxydant juice  frozen smoothie  spinach  olive oil  \n",
              "1        NaN                NaN              NaN      NaN        NaN  \n",
              "2        NaN                NaN              NaN      NaN        NaN  \n",
              "3        NaN                NaN              NaN      NaN        NaN  \n",
              "4        NaN                NaN              NaN      NaN        NaN  \n",
              "...      ...                ...              ...      ...        ...  \n",
              "7496     NaN                NaN              NaN      NaN        NaN  \n",
              "7497     NaN                NaN              NaN      NaN        NaN  \n",
              "7498     NaN                NaN              NaN      NaN        NaN  \n",
              "7499     NaN                NaN              NaN      NaN        NaN  \n",
              "7500     NaN                NaN              NaN      NaN        NaN  \n",
              "\n",
              "[7501 rows x 20 columns]"
            ],
            "text/html": [
              "\n",
              "  <div id=\"df-a6498420-6a27-40b5-bec0-d31b190c8df8\">\n",
              "    <div class=\"colab-df-container\">\n",
              "      <div>\n",
              "<style scoped>\n",
              "    .dataframe tbody tr th:only-of-type {\n",
              "        vertical-align: middle;\n",
              "    }\n",
              "\n",
              "    .dataframe tbody tr th {\n",
              "        vertical-align: top;\n",
              "    }\n",
              "\n",
              "    .dataframe thead th {\n",
              "        text-align: right;\n",
              "    }\n",
              "</style>\n",
              "<table border=\"1\" class=\"dataframe\">\n",
              "  <thead>\n",
              "    <tr style=\"text-align: right;\">\n",
              "      <th></th>\n",
              "      <th>0</th>\n",
              "      <th>1</th>\n",
              "      <th>2</th>\n",
              "      <th>3</th>\n",
              "      <th>4</th>\n",
              "      <th>5</th>\n",
              "      <th>6</th>\n",
              "      <th>7</th>\n",
              "      <th>8</th>\n",
              "      <th>9</th>\n",
              "      <th>10</th>\n",
              "      <th>11</th>\n",
              "      <th>12</th>\n",
              "      <th>13</th>\n",
              "      <th>14</th>\n",
              "      <th>15</th>\n",
              "      <th>16</th>\n",
              "      <th>17</th>\n",
              "      <th>18</th>\n",
              "      <th>19</th>\n",
              "    </tr>\n",
              "  </thead>\n",
              "  <tbody>\n",
              "    <tr>\n",
              "      <th>0</th>\n",
              "      <td>shrimp</td>\n",
              "      <td>almonds</td>\n",
              "      <td>avocado</td>\n",
              "      <td>vegetables mix</td>\n",
              "      <td>green grapes</td>\n",
              "      <td>whole weat flour</td>\n",
              "      <td>yams</td>\n",
              "      <td>cottage cheese</td>\n",
              "      <td>energy drink</td>\n",
              "      <td>tomato juice</td>\n",
              "      <td>low fat yogurt</td>\n",
              "      <td>green tea</td>\n",
              "      <td>honey</td>\n",
              "      <td>salad</td>\n",
              "      <td>mineral water</td>\n",
              "      <td>salmon</td>\n",
              "      <td>antioxydant juice</td>\n",
              "      <td>frozen smoothie</td>\n",
              "      <td>spinach</td>\n",
              "      <td>olive oil</td>\n",
              "    </tr>\n",
              "    <tr>\n",
              "      <th>1</th>\n",
              "      <td>burgers</td>\n",
              "      <td>meatballs</td>\n",
              "      <td>eggs</td>\n",
              "      <td>NaN</td>\n",
              "      <td>NaN</td>\n",
              "      <td>NaN</td>\n",
              "      <td>NaN</td>\n",
              "      <td>NaN</td>\n",
              "      <td>NaN</td>\n",
              "      <td>NaN</td>\n",
              "      <td>NaN</td>\n",
              "      <td>NaN</td>\n",
              "      <td>NaN</td>\n",
              "      <td>NaN</td>\n",
              "      <td>NaN</td>\n",
              "      <td>NaN</td>\n",
              "      <td>NaN</td>\n",
              "      <td>NaN</td>\n",
              "      <td>NaN</td>\n",
              "      <td>NaN</td>\n",
              "    </tr>\n",
              "    <tr>\n",
              "      <th>2</th>\n",
              "      <td>chutney</td>\n",
              "      <td>NaN</td>\n",
              "      <td>NaN</td>\n",
              "      <td>NaN</td>\n",
              "      <td>NaN</td>\n",
              "      <td>NaN</td>\n",
              "      <td>NaN</td>\n",
              "      <td>NaN</td>\n",
              "      <td>NaN</td>\n",
              "      <td>NaN</td>\n",
              "      <td>NaN</td>\n",
              "      <td>NaN</td>\n",
              "      <td>NaN</td>\n",
              "      <td>NaN</td>\n",
              "      <td>NaN</td>\n",
              "      <td>NaN</td>\n",
              "      <td>NaN</td>\n",
              "      <td>NaN</td>\n",
              "      <td>NaN</td>\n",
              "      <td>NaN</td>\n",
              "    </tr>\n",
              "    <tr>\n",
              "      <th>3</th>\n",
              "      <td>turkey</td>\n",
              "      <td>avocado</td>\n",
              "      <td>NaN</td>\n",
              "      <td>NaN</td>\n",
              "      <td>NaN</td>\n",
              "      <td>NaN</td>\n",
              "      <td>NaN</td>\n",
              "      <td>NaN</td>\n",
              "      <td>NaN</td>\n",
              "      <td>NaN</td>\n",
              "      <td>NaN</td>\n",
              "      <td>NaN</td>\n",
              "      <td>NaN</td>\n",
              "      <td>NaN</td>\n",
              "      <td>NaN</td>\n",
              "      <td>NaN</td>\n",
              "      <td>NaN</td>\n",
              "      <td>NaN</td>\n",
              "      <td>NaN</td>\n",
              "      <td>NaN</td>\n",
              "    </tr>\n",
              "    <tr>\n",
              "      <th>4</th>\n",
              "      <td>mineral water</td>\n",
              "      <td>milk</td>\n",
              "      <td>energy bar</td>\n",
              "      <td>whole wheat rice</td>\n",
              "      <td>green tea</td>\n",
              "      <td>NaN</td>\n",
              "      <td>NaN</td>\n",
              "      <td>NaN</td>\n",
              "      <td>NaN</td>\n",
              "      <td>NaN</td>\n",
              "      <td>NaN</td>\n",
              "      <td>NaN</td>\n",
              "      <td>NaN</td>\n",
              "      <td>NaN</td>\n",
              "      <td>NaN</td>\n",
              "      <td>NaN</td>\n",
              "      <td>NaN</td>\n",
              "      <td>NaN</td>\n",
              "      <td>NaN</td>\n",
              "      <td>NaN</td>\n",
              "    </tr>\n",
              "    <tr>\n",
              "      <th>...</th>\n",
              "      <td>...</td>\n",
              "      <td>...</td>\n",
              "      <td>...</td>\n",
              "      <td>...</td>\n",
              "      <td>...</td>\n",
              "      <td>...</td>\n",
              "      <td>...</td>\n",
              "      <td>...</td>\n",
              "      <td>...</td>\n",
              "      <td>...</td>\n",
              "      <td>...</td>\n",
              "      <td>...</td>\n",
              "      <td>...</td>\n",
              "      <td>...</td>\n",
              "      <td>...</td>\n",
              "      <td>...</td>\n",
              "      <td>...</td>\n",
              "      <td>...</td>\n",
              "      <td>...</td>\n",
              "      <td>...</td>\n",
              "    </tr>\n",
              "    <tr>\n",
              "      <th>7496</th>\n",
              "      <td>butter</td>\n",
              "      <td>light mayo</td>\n",
              "      <td>fresh bread</td>\n",
              "      <td>NaN</td>\n",
              "      <td>NaN</td>\n",
              "      <td>NaN</td>\n",
              "      <td>NaN</td>\n",
              "      <td>NaN</td>\n",
              "      <td>NaN</td>\n",
              "      <td>NaN</td>\n",
              "      <td>NaN</td>\n",
              "      <td>NaN</td>\n",
              "      <td>NaN</td>\n",
              "      <td>NaN</td>\n",
              "      <td>NaN</td>\n",
              "      <td>NaN</td>\n",
              "      <td>NaN</td>\n",
              "      <td>NaN</td>\n",
              "      <td>NaN</td>\n",
              "      <td>NaN</td>\n",
              "    </tr>\n",
              "    <tr>\n",
              "      <th>7497</th>\n",
              "      <td>burgers</td>\n",
              "      <td>frozen vegetables</td>\n",
              "      <td>eggs</td>\n",
              "      <td>french fries</td>\n",
              "      <td>magazines</td>\n",
              "      <td>green tea</td>\n",
              "      <td>NaN</td>\n",
              "      <td>NaN</td>\n",
              "      <td>NaN</td>\n",
              "      <td>NaN</td>\n",
              "      <td>NaN</td>\n",
              "      <td>NaN</td>\n",
              "      <td>NaN</td>\n",
              "      <td>NaN</td>\n",
              "      <td>NaN</td>\n",
              "      <td>NaN</td>\n",
              "      <td>NaN</td>\n",
              "      <td>NaN</td>\n",
              "      <td>NaN</td>\n",
              "      <td>NaN</td>\n",
              "    </tr>\n",
              "    <tr>\n",
              "      <th>7498</th>\n",
              "      <td>chicken</td>\n",
              "      <td>NaN</td>\n",
              "      <td>NaN</td>\n",
              "      <td>NaN</td>\n",
              "      <td>NaN</td>\n",
              "      <td>NaN</td>\n",
              "      <td>NaN</td>\n",
              "      <td>NaN</td>\n",
              "      <td>NaN</td>\n",
              "      <td>NaN</td>\n",
              "      <td>NaN</td>\n",
              "      <td>NaN</td>\n",
              "      <td>NaN</td>\n",
              "      <td>NaN</td>\n",
              "      <td>NaN</td>\n",
              "      <td>NaN</td>\n",
              "      <td>NaN</td>\n",
              "      <td>NaN</td>\n",
              "      <td>NaN</td>\n",
              "      <td>NaN</td>\n",
              "    </tr>\n",
              "    <tr>\n",
              "      <th>7499</th>\n",
              "      <td>escalope</td>\n",
              "      <td>green tea</td>\n",
              "      <td>NaN</td>\n",
              "      <td>NaN</td>\n",
              "      <td>NaN</td>\n",
              "      <td>NaN</td>\n",
              "      <td>NaN</td>\n",
              "      <td>NaN</td>\n",
              "      <td>NaN</td>\n",
              "      <td>NaN</td>\n",
              "      <td>NaN</td>\n",
              "      <td>NaN</td>\n",
              "      <td>NaN</td>\n",
              "      <td>NaN</td>\n",
              "      <td>NaN</td>\n",
              "      <td>NaN</td>\n",
              "      <td>NaN</td>\n",
              "      <td>NaN</td>\n",
              "      <td>NaN</td>\n",
              "      <td>NaN</td>\n",
              "    </tr>\n",
              "    <tr>\n",
              "      <th>7500</th>\n",
              "      <td>eggs</td>\n",
              "      <td>frozen smoothie</td>\n",
              "      <td>yogurt cake</td>\n",
              "      <td>low fat yogurt</td>\n",
              "      <td>NaN</td>\n",
              "      <td>NaN</td>\n",
              "      <td>NaN</td>\n",
              "      <td>NaN</td>\n",
              "      <td>NaN</td>\n",
              "      <td>NaN</td>\n",
              "      <td>NaN</td>\n",
              "      <td>NaN</td>\n",
              "      <td>NaN</td>\n",
              "      <td>NaN</td>\n",
              "      <td>NaN</td>\n",
              "      <td>NaN</td>\n",
              "      <td>NaN</td>\n",
              "      <td>NaN</td>\n",
              "      <td>NaN</td>\n",
              "      <td>NaN</td>\n",
              "    </tr>\n",
              "  </tbody>\n",
              "</table>\n",
              "<p>7501 rows × 20 columns</p>\n",
              "</div>\n",
              "      <button class=\"colab-df-convert\" onclick=\"convertToInteractive('df-a6498420-6a27-40b5-bec0-d31b190c8df8')\"\n",
              "              title=\"Convert this dataframe to an interactive table.\"\n",
              "              style=\"display:none;\">\n",
              "        \n",
              "  <svg xmlns=\"http://www.w3.org/2000/svg\" height=\"24px\"viewBox=\"0 0 24 24\"\n",
              "       width=\"24px\">\n",
              "    <path d=\"M0 0h24v24H0V0z\" fill=\"none\"/>\n",
              "    <path d=\"M18.56 5.44l.94 2.06.94-2.06 2.06-.94-2.06-.94-.94-2.06-.94 2.06-2.06.94zm-11 1L8.5 8.5l.94-2.06 2.06-.94-2.06-.94L8.5 2.5l-.94 2.06-2.06.94zm10 10l.94 2.06.94-2.06 2.06-.94-2.06-.94-.94-2.06-.94 2.06-2.06.94z\"/><path d=\"M17.41 7.96l-1.37-1.37c-.4-.4-.92-.59-1.43-.59-.52 0-1.04.2-1.43.59L10.3 9.45l-7.72 7.72c-.78.78-.78 2.05 0 2.83L4 21.41c.39.39.9.59 1.41.59.51 0 1.02-.2 1.41-.59l7.78-7.78 2.81-2.81c.8-.78.8-2.07 0-2.86zM5.41 20L4 18.59l7.72-7.72 1.47 1.35L5.41 20z\"/>\n",
              "  </svg>\n",
              "      </button>\n",
              "      \n",
              "  <style>\n",
              "    .colab-df-container {\n",
              "      display:flex;\n",
              "      flex-wrap:wrap;\n",
              "      gap: 12px;\n",
              "    }\n",
              "\n",
              "    .colab-df-convert {\n",
              "      background-color: #E8F0FE;\n",
              "      border: none;\n",
              "      border-radius: 50%;\n",
              "      cursor: pointer;\n",
              "      display: none;\n",
              "      fill: #1967D2;\n",
              "      height: 32px;\n",
              "      padding: 0 0 0 0;\n",
              "      width: 32px;\n",
              "    }\n",
              "\n",
              "    .colab-df-convert:hover {\n",
              "      background-color: #E2EBFA;\n",
              "      box-shadow: 0px 1px 2px rgba(60, 64, 67, 0.3), 0px 1px 3px 1px rgba(60, 64, 67, 0.15);\n",
              "      fill: #174EA6;\n",
              "    }\n",
              "\n",
              "    [theme=dark] .colab-df-convert {\n",
              "      background-color: #3B4455;\n",
              "      fill: #D2E3FC;\n",
              "    }\n",
              "\n",
              "    [theme=dark] .colab-df-convert:hover {\n",
              "      background-color: #434B5C;\n",
              "      box-shadow: 0px 1px 3px 1px rgba(0, 0, 0, 0.15);\n",
              "      filter: drop-shadow(0px 1px 2px rgba(0, 0, 0, 0.3));\n",
              "      fill: #FFFFFF;\n",
              "    }\n",
              "  </style>\n",
              "\n",
              "      <script>\n",
              "        const buttonEl =\n",
              "          document.querySelector('#df-a6498420-6a27-40b5-bec0-d31b190c8df8 button.colab-df-convert');\n",
              "        buttonEl.style.display =\n",
              "          google.colab.kernel.accessAllowed ? 'block' : 'none';\n",
              "\n",
              "        async function convertToInteractive(key) {\n",
              "          const element = document.querySelector('#df-a6498420-6a27-40b5-bec0-d31b190c8df8');\n",
              "          const dataTable =\n",
              "            await google.colab.kernel.invokeFunction('convertToInteractive',\n",
              "                                                     [key], {});\n",
              "          if (!dataTable) return;\n",
              "\n",
              "          const docLinkHtml = 'Like what you see? Visit the ' +\n",
              "            '<a target=\"_blank\" href=https://colab.research.google.com/notebooks/data_table.ipynb>data table notebook</a>'\n",
              "            + ' to learn more about interactive tables.';\n",
              "          element.innerHTML = '';\n",
              "          dataTable['output_type'] = 'display_data';\n",
              "          await google.colab.output.renderOutput(dataTable, element);\n",
              "          const docLink = document.createElement('div');\n",
              "          docLink.innerHTML = docLinkHtml;\n",
              "          element.appendChild(docLink);\n",
              "        }\n",
              "      </script>\n",
              "    </div>\n",
              "  </div>\n",
              "  "
            ]
          },
          "metadata": {},
          "execution_count": 16
        }
      ]
    },
    {
      "cell_type": "code",
      "source": [
        "# removendo espaços\n",
        "for idx in data.columns:\n",
        "    data.idx = data[idx].str.strip()"
      ],
      "metadata": {
        "colab": {
          "base_uri": "https://localhost:8080/"
        },
        "id": "TQ88SdevpDlh",
        "outputId": "71ddabc2-5592-4448-f686-23699b009ad7"
      },
      "execution_count": 17,
      "outputs": [
        {
          "output_type": "stream",
          "name": "stderr",
          "text": [
            "<ipython-input-17-33f846245638>:3: UserWarning: Pandas doesn't allow columns to be created via a new attribute name - see https://pandas.pydata.org/pandas-docs/stable/indexing.html#attribute-access\n",
            "  data.idx = data[idx].str.strip()\n"
          ]
        }
      ]
    },
    {
      "cell_type": "code",
      "source": [
        "# juntando valores não nulos e ordenando\n",
        "items = data.melt()['value'].dropna().sort_values()\n",
        "print(f'Nomes e quantidades dos itens: \\n{items.value_counts()} ')"
      ],
      "metadata": {
        "colab": {
          "base_uri": "https://localhost:8080/"
        },
        "id": "g3QchdrjE4y3",
        "outputId": "ec00d2d9-69f8-4dc1-85fa-a6c64cb90fef"
      },
      "execution_count": 26,
      "outputs": [
        {
          "output_type": "stream",
          "name": "stdout",
          "text": [
            "Nomes e quantidades dos itens: \n",
            "mineral water    1788\n",
            "eggs             1348\n",
            "spaghetti        1306\n",
            "french fries     1282\n",
            "chocolate        1230\n",
            "                 ... \n",
            "bramble            14\n",
            "cream               7\n",
            "napkins             5\n",
            "water spray         3\n",
            " asparagus          1\n",
            "Name: value, Length: 120, dtype: int64 \n"
          ]
        }
      ]
    },
    {
      "cell_type": "code",
      "source": [
        "top_ten = items.value_counts().nlargest(10).plot(kind='bar')\n",
        "top_ten.set_title('Os dez itens mais vendidos', size=16, weight=500, pad=5)\n",
        "top_ten.set_ylabel('Quantidade');"
      ],
      "metadata": {
        "colab": {
          "base_uri": "https://localhost:8080/",
          "height": 562
        },
        "id": "p3bJm6IjGoMu",
        "outputId": "68798c3a-2a6f-42d1-ef52-a4c0e05fa830"
      },
      "execution_count": 32,
      "outputs": [
        {
          "output_type": "display_data",
          "data": {
            "text/plain": [
              "<Figure size 1152x576 with 1 Axes>"
            ],
            "image/png": "[encoded data removed]"
          },
          "metadata": {
            "needs_background": "light"
          }
        }
      ]
    },
    {
      "cell_type": "code",
      "source": [
        "last_ten = items.value_counts().nsmallest(10).plot(kind='bar')\n",
        "last_ten.set_title('Os dez itens menos vendidos', size=16, weight=500, pad=5)\n",
        "last_ten.set_ylabel('Quantidade');"
      ],
      "metadata": {
        "colab": {
          "base_uri": "https://localhost:8080/",
          "height": 561
        },
        "id": "KoyuOtGUJJyR",
        "outputId": "934165d6-57b5-4f4f-d027-0c1b98c7e2de"
      },
      "execution_count": 33,
      "outputs": [
        {
          "output_type": "display_data",
          "data": {
            "text/plain": [
              "<Figure size 1152x576 with 1 Axes>"
            ],
            "image/png": "[encoded data removed]"
          },
          "metadata": {
            "needs_background": "light"
          }
        }
      ]
    },
    {
      "cell_type": "code",
      "source": [
        "# removendo dados que contém um único produto\n",
        "qt_basket = data.notna().apply(sum, axis=1)\n",
        "basket = [set(line.dropna()) for _, line in data[qt_basket > 1].iterrows()]\n",
        "basket[:6]"
      ],
      "metadata": {
        "colab": {
          "base_uri": "https://localhost:8080/"
        },
        "id": "MBkgUH26J1sg",
        "outputId": "aef86f00-01fa-4923-d0a6-e8e676e24e41"
      },
      "execution_count": 35,
      "outputs": [
        {
          "output_type": "execute_result",
          "data": {
            "text/plain": [
              "[{'almonds',\n",
              "  'antioxydant juice',\n",
              "  'avocado',\n",
              "  'cottage cheese',\n",
              "  'energy drink',\n",
              "  'frozen smoothie',\n",
              "  'green grapes',\n",
              "  'green tea',\n",
              "  'honey',\n",
              "  'low fat yogurt',\n",
              "  'mineral water',\n",
              "  'olive oil',\n",
              "  'salad',\n",
              "  'salmon',\n",
              "  'shrimp',\n",
              "  'spinach',\n",
              "  'tomato juice',\n",
              "  'vegetables mix',\n",
              "  'whole weat flour',\n",
              "  'yams'},\n",
              " {'burgers', 'eggs', 'meatballs'},\n",
              " {'avocado', 'turkey'},\n",
              " {'energy bar', 'green tea', 'milk', 'mineral water', 'whole wheat rice'},\n",
              " {'french fries', 'whole wheat pasta'},\n",
              " {'light cream', 'shallot', 'soup'}]"
            ]
          },
          "metadata": {},
          "execution_count": 35
        }
      ]
    },
    {
      "cell_type": "code",
      "source": [
        "print(f'Antes tínhamos {len(data)} e agora temos {len(basket)}')"
      ],
      "metadata": {
        "colab": {
          "base_uri": "https://localhost:8080/"
        },
        "id": "8nwhd1N2Kosf",
        "outputId": "914bb160-91bc-4b1a-a7e3-7808bcb2858b"
      },
      "execution_count": 36,
      "outputs": [
        {
          "output_type": "stream",
          "name": "stdout",
          "text": [
            "Antes tínhamos 7501 e agora temos 5747\n"
          ]
        }
      ]
    },
    {
      "cell_type": "code",
      "source": [
        "min_sup = 0.04\n",
        "min_conf = 0.3\n",
        "\n",
        "asso_rules = apyori.apriori(basket, min_support=min_sup, min_confidence=min_conf)\n",
        "\n",
        "for rules in asso_rules:\n",
        "    itens = list(rules.items)\n",
        "    print(\n",
        "        f\"{itens[:1]} --> {[itens[-1]]} - Suporte: {rules.support:.3f}\"\n",
        "        f\" Confiança: {rules.ordered_statistics[0].confidence:.3f}\"\n",
        "    )"
      ],
      "metadata": {
        "colab": {
          "base_uri": "https://localhost:8080/"
        },
        "id": "DPFqNq6YK6Uf",
        "outputId": "6c4befc3-0185-48d9-bb79-f73e9e42a49e"
      },
      "execution_count": 38,
      "outputs": [
        {
          "output_type": "stream",
          "name": "stdout",
          "text": [
            "['chocolate'] --> ['mineral water'] - Suporte: 0.069 Confiança: 0.342\n",
            "['mineral water'] --> ['eggs'] - Suporte: 0.066 Confiança: 0.304\n",
            "['frozen vegetables'] --> ['mineral water'] - Suporte: 0.047 Confiança: 0.385\n",
            "['mineral water'] --> ['ground beef'] - Suporte: 0.053 Confiança: 0.429\n",
            "['spaghetti'] --> ['ground beef'] - Suporte: 0.051 Confiança: 0.411\n",
            "['milk'] --> ['mineral water'] - Suporte: 0.063 Confiança: 0.383\n",
            "['pancakes'] --> ['mineral water'] - Suporte: 0.044 Confiança: 0.375\n",
            "['mineral water'] --> ['spaghetti'] - Suporte: 0.078 Confiança: 0.357\n"
          ]
        }
      ]
    },
    {
      "cell_type": "code",
      "source": [],
      "metadata": {
        "id": "AvmawOvaN8tH"
      },
      "execution_count": null,
      "outputs": []
    }
  ]
}