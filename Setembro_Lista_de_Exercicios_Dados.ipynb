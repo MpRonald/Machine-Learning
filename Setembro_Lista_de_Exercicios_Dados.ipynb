{
  "cells": [
    {
      "cell_type": "markdown",
      "metadata": {
        "id": "view-in-github",
        "colab_type": "text"
      },
      "source": [
        "<a href=\"https://colab.research.google.com/github/MpRonald/Machine-Learning/blob/main/Setembro_Lista_de_Exercicios_Dados.ipynb\" target=\"_parent\"><img src=\"https://colab.research.google.com/assets/colab-badge.svg\" alt=\"Open In Colab\"/></a>"
      ]
    },
    {
      "cell_type": "markdown",
      "id": "8477f090",
      "metadata": {
        "id": "8477f090"
      },
      "source": [
        "# Exercícios Data Science - Setembro 2022\n",
        "\n",
        "Autor: Jorge Chamby Diaz\n",
        "_________"
      ]
    },
    {
      "cell_type": "code",
      "execution_count": 288,
      "id": "34a3a464",
      "metadata": {
        "ExecuteTime": {
          "end_time": "2022-07-19T04:05:28.960886Z",
          "start_time": "2022-07-19T04:05:26.422642Z"
        },
        "id": "34a3a464"
      },
      "outputs": [],
      "source": [
        "import pandas as pd\n",
        "import numpy as np\n",
        "import matplotlib.pyplot as plt\n",
        "%matplotlib inline\n",
        "import seaborn as sns\n",
        "\n",
        "from sklearn.model_selection import train_test_split\n",
        "from statsmodels.stats.outliers_influence import variance_inflation_factor\n",
        "from sklearn.preprocessing import LabelEncoder, OneHotEncoder, StandardScaler\n",
        "from sklearn.compose import ColumnTransformer\n",
        "from sklearn.linear_model import LogisticRegression\n",
        "from sklearn.neighbors import KNeighborsClassifier\n",
        "from sklearn.ensemble import RandomForestClassifier\n",
        "from imblearn.over_sampling import SMOTE\n",
        "from sklearn.metrics import (accuracy_score, plot_confusion_matrix,\n",
        "                             classification_report, roc_curve, roc_auc_score)\n",
        "\n",
        "# abaixo estou importando 'warnings' para evitar avisos duarnte\n",
        "# a rodagem de nosso código e assim deixar a visualização mais limpa\n",
        "import warnings\n",
        "warnings.filterwarnings('ignore')"
      ]
    },
    {
      "cell_type": "markdown",
      "id": "53f00bfa",
      "metadata": {
        "id": "53f00bfa"
      },
      "source": [
        "_______"
      ]
    },
    {
      "cell_type": "markdown",
      "id": "a46de502",
      "metadata": {
        "id": "a46de502"
      },
      "source": [
        "# Questões DS\n",
        "\n",
        "## O Problema\n",
        "\n",
        "As doenças cardiovasculares (DCVs) são a causa número 1 de morte em todo o mundo, levando cerca de 17,9 milhões de vidas a cada ano, o que representa 31% de todas as mortes em todo o mundo. Quatro de cada 5 mortes por CVDs são devido a ataques cardíacos e derrames, e um terço dessas mortes ocorre prematuramente em pessoas com menos de 70 anos de idade. \n",
        "\n",
        "Pessoas com doença cardiovascular ou com alto risco cardiovascular (devido à presença de um ou mais fatores de risco, como hipertensão, diabetes, hiperlipidemia ou doença já estabelecida) precisam de detecção e gerenciamento precoces, onde um modelo de aprendizado de máquina pode ser de grande ajuda.\n",
        "\n",
        "## Os dados\n",
        "\n",
        "A insuficiência cardíaca é um evento comum causado por DCVs e este conjunto de dados contém 11 características que podem ser usadas para prever uma possível doença cardíaca:\n",
        "\n",
        "- Medidas de 11 variáveis que caracterizam cada amostra (as features do problema):\n",
        "<br><br>\n",
        "    - 1 - Age: idade do paciente (anos)\n",
        "    - 2 - Sex: sexo do paciente (M: Masculino, F: Feminino)\n",
        "    - 3 - ChestPainType: tipo de dor no peito (TA: Angina Típica, ATA: Angina Atípica, NAP: Dor Não Anginosa, ASY: Assintomática)\n",
        "    - 4 - RestingBP: pressão arterial de repouso (mm Hg)\n",
        "    - 5 - Cholesterol: colesterol sérico (mm/dl)\n",
        "    - 6 - FastingBS: glicemia em jejum (1: se FastingBS > 120 mg/dl, 0: caso contrário)\n",
        "    - 7 - RestingECG: resultados do eletrocardiograma de repouso (Normal: normal, ST: com anormalidade da onda ST-T, LVH: mostrando provável ou definitiva hipertrofia ventricular esquerda pelos critérios de Estes)\n",
        "    - 8 - MaxHR: frequência cardíaca máxima alcançada (Valor numérico entre 60 e 202)\n",
        "    - 9 - ExerciseAngina: angina induzida por exercício (Y: Sim, N: Não)\n",
        "    - 10 - Oldpeak: pico antigo = ST (Valor numérico medido em depressão)\n",
        "    - 11 - ST_Slope: a inclinação do segmento ST do exercício de pico (Up: upsloping, Flat: flat, Down: downsloping)    \n",
        "<br><br>\n",
        "- Além disso, há a variável resposta que no caso é uma variável binária:\n",
        "<br><br>\n",
        "    - 12 - HeartDisease: classe de saída (1: doença cardíaca, 0: normal)\n",
        "\n",
        "Para maiores informações sobre a coleta e origem dos dados, veja a página do dataset no repositório UCI machine learning repository, [disponível aqui!](https://archive.ics.uci.edu/ml/machine-learning-databases/heart-disease/) \n",
        "\n",
        "**Para baixar os conjuntos de dados, podem acessar diretamente a este [link](https://github.com/jchambyd/Datasets/tree/main/Heart-disease)**\n"
      ]
    },
    {
      "cell_type": "markdown",
      "id": "025c370a",
      "metadata": {
        "id": "025c370a"
      },
      "source": [
        "_______"
      ]
    },
    {
      "cell_type": "markdown",
      "id": "a8eeb73a",
      "metadata": {
        "id": "a8eeb73a"
      },
      "source": [
        "1) Cientistas de dados com frequência precisam de ler dados de várias fontes diferentes e juntar em um único conjunto de dados. **Sejam dois datasets com a mesma estrutura de colunas, junte eles em um único dataframe. Leia os arquivos csv `heart_part1.csv` e `heart_part2.csv`.**"
      ]
    },
    {
      "cell_type": "code",
      "source": [
        "# por facilidade de leitura, estamos buscando o dataset diretamente do repositorio\n",
        "# GiitHub disponível\n",
        "data_1 = pd.read_csv('https://github.com/jchambyd/Datasets/raw/main/Heart-disease/heart_part1.csv', index_col=0)\n",
        "data_2 = pd.read_csv('https://github.com/jchambyd/Datasets/raw/main/Heart-disease/heart_part2.csv', index_col=0)"
      ],
      "metadata": {
        "id": "bfbSIPg_zcGm"
      },
      "id": "bfbSIPg_zcGm",
      "execution_count": 211,
      "outputs": []
    },
    {
      "cell_type": "code",
      "execution_count": 212,
      "id": "02790521",
      "metadata": {
        "ExecuteTime": {
          "end_time": "2022-07-19T04:05:29.008257Z",
          "start_time": "2022-07-19T04:05:28.964283Z"
        },
        "id": "02790521",
        "outputId": "fe01d290-82ee-4e50-ff59-ed2071c3c3ea",
        "colab": {
          "base_uri": "https://localhost:8080/"
        }
      },
      "outputs": [
        {
          "output_type": "stream",
          "name": "stdout",
          "text": [
            "Tamanho do dataframe 1: (500, 12)\n",
            "Tamanho do dataframe 2: (418, 12)\n"
          ]
        }
      ],
      "source": [
        "print('Tamanho do dataframe 1:', data_1.shape )\n",
        "print('Tamanho do dataframe 2:', data_2.shape )"
      ]
    },
    {
      "cell_type": "code",
      "execution_count": 213,
      "id": "e3c69f87",
      "metadata": {
        "id": "e3c69f87",
        "outputId": "ebbf2233-5a69-4ca9-a6e5-4b8ef85cb2fe",
        "colab": {
          "base_uri": "https://localhost:8080/"
        }
      },
      "outputs": [
        {
          "output_type": "stream",
          "name": "stdout",
          "text": [
            "Tamanho do novo dataframe: (918, 12)\n"
          ]
        }
      ],
      "source": [
        "# Usamos el metodo 'concat' para juntar o datasets\n",
        "dataset = pd.concat((data_1, data_2), axis = 0)\n",
        "\n",
        "# - axis = 1 empilha colunas juntas.\n",
        "# - axis = 0 empilha linhas juntas, desde que corresponda ao cabeçalho da coluna.\n",
        "\n",
        "print('Tamanho do novo dataframe:', dataset.shape)"
      ]
    },
    {
      "cell_type": "markdown",
      "id": "8f769bbd",
      "metadata": {
        "id": "8f769bbd"
      },
      "source": [
        "_______"
      ]
    },
    {
      "cell_type": "markdown",
      "id": "966b1a8f",
      "metadata": {
        "id": "966b1a8f"
      },
      "source": [
        "2) Utilizando o conjunto de dados, estude a distribuição das variáveis numéricas, calculando, para cada coluna, as principais estatísticas descritivas de posição (média, mediana, quartis, etc.) e de dispersão (std, IQR, etc.). Se desejar, visualize as distribuições de cada variável na amostra."
      ]
    },
    {
      "cell_type": "code",
      "execution_count": 214,
      "id": "14b74870",
      "metadata": {
        "id": "14b74870",
        "outputId": "a26231df-455a-4eb3-c5e1-583a0be236ce",
        "colab": {
          "base_uri": "https://localhost:8080/",
          "height": 269
        }
      },
      "outputs": [
        {
          "output_type": "execute_result",
          "data": {
            "text/plain": [
              "              count        mean         std   min     25%    50%    75%    max\n",
              "Age           918.0   53.510893    9.432617  28.0   47.00   54.0   60.0   77.0\n",
              "RestingBP     918.0  132.396514   18.514154   0.0  120.00  130.0  140.0  200.0\n",
              "Cholesterol   918.0  198.799564  109.384145   0.0  173.25  223.0  267.0  603.0\n",
              "FastingBS     918.0    0.233115    0.423046   0.0    0.00    0.0    0.0    1.0\n",
              "MaxHR         918.0  136.809368   25.460334  60.0  120.00  138.0  156.0  202.0\n",
              "Oldpeak       918.0    0.887364    1.066570  -2.6    0.00    0.6    1.5    6.2\n",
              "HeartDisease  918.0    0.553377    0.497414   0.0    0.00    1.0    1.0    1.0"
            ],
            "text/html": [
              "\n",
              "  <div id=\"df-9efc73ad-d9a2-4614-af23-50ea1d6b7d79\">\n",
              "    <div class=\"colab-df-container\">\n",
              "      <div>\n",
              "<style scoped>\n",
              "    .dataframe tbody tr th:only-of-type {\n",
              "        vertical-align: middle;\n",
              "    }\n",
              "\n",
              "    .dataframe tbody tr th {\n",
              "        vertical-align: top;\n",
              "    }\n",
              "\n",
              "    .dataframe thead th {\n",
              "        text-align: right;\n",
              "    }\n",
              "</style>\n",
              "<table border=\"1\" class=\"dataframe\">\n",
              "  <thead>\n",
              "    <tr style=\"text-align: right;\">\n",
              "      <th></th>\n",
              "      <th>count</th>\n",
              "      <th>mean</th>\n",
              "      <th>std</th>\n",
              "      <th>min</th>\n",
              "      <th>25%</th>\n",
              "      <th>50%</th>\n",
              "      <th>75%</th>\n",
              "      <th>max</th>\n",
              "    </tr>\n",
              "  </thead>\n",
              "  <tbody>\n",
              "    <tr>\n",
              "      <th>Age</th>\n",
              "      <td>918.0</td>\n",
              "      <td>53.510893</td>\n",
              "      <td>9.432617</td>\n",
              "      <td>28.0</td>\n",
              "      <td>47.00</td>\n",
              "      <td>54.0</td>\n",
              "      <td>60.0</td>\n",
              "      <td>77.0</td>\n",
              "    </tr>\n",
              "    <tr>\n",
              "      <th>RestingBP</th>\n",
              "      <td>918.0</td>\n",
              "      <td>132.396514</td>\n",
              "      <td>18.514154</td>\n",
              "      <td>0.0</td>\n",
              "      <td>120.00</td>\n",
              "      <td>130.0</td>\n",
              "      <td>140.0</td>\n",
              "      <td>200.0</td>\n",
              "    </tr>\n",
              "    <tr>\n",
              "      <th>Cholesterol</th>\n",
              "      <td>918.0</td>\n",
              "      <td>198.799564</td>\n",
              "      <td>109.384145</td>\n",
              "      <td>0.0</td>\n",
              "      <td>173.25</td>\n",
              "      <td>223.0</td>\n",
              "      <td>267.0</td>\n",
              "      <td>603.0</td>\n",
              "    </tr>\n",
              "    <tr>\n",
              "      <th>FastingBS</th>\n",
              "      <td>918.0</td>\n",
              "      <td>0.233115</td>\n",
              "      <td>0.423046</td>\n",
              "      <td>0.0</td>\n",
              "      <td>0.00</td>\n",
              "      <td>0.0</td>\n",
              "      <td>0.0</td>\n",
              "      <td>1.0</td>\n",
              "    </tr>\n",
              "    <tr>\n",
              "      <th>MaxHR</th>\n",
              "      <td>918.0</td>\n",
              "      <td>136.809368</td>\n",
              "      <td>25.460334</td>\n",
              "      <td>60.0</td>\n",
              "      <td>120.00</td>\n",
              "      <td>138.0</td>\n",
              "      <td>156.0</td>\n",
              "      <td>202.0</td>\n",
              "    </tr>\n",
              "    <tr>\n",
              "      <th>Oldpeak</th>\n",
              "      <td>918.0</td>\n",
              "      <td>0.887364</td>\n",
              "      <td>1.066570</td>\n",
              "      <td>-2.6</td>\n",
              "      <td>0.00</td>\n",
              "      <td>0.6</td>\n",
              "      <td>1.5</td>\n",
              "      <td>6.2</td>\n",
              "    </tr>\n",
              "    <tr>\n",
              "      <th>HeartDisease</th>\n",
              "      <td>918.0</td>\n",
              "      <td>0.553377</td>\n",
              "      <td>0.497414</td>\n",
              "      <td>0.0</td>\n",
              "      <td>0.00</td>\n",
              "      <td>1.0</td>\n",
              "      <td>1.0</td>\n",
              "      <td>1.0</td>\n",
              "    </tr>\n",
              "  </tbody>\n",
              "</table>\n",
              "</div>\n",
              "      <button class=\"colab-df-convert\" onclick=\"convertToInteractive('df-9efc73ad-d9a2-4614-af23-50ea1d6b7d79')\"\n",
              "              title=\"Convert this dataframe to an interactive table.\"\n",
              "              style=\"display:none;\">\n",
              "        \n",
              "  <svg xmlns=\"http://www.w3.org/2000/svg\" height=\"24px\"viewBox=\"0 0 24 24\"\n",
              "       width=\"24px\">\n",
              "    <path d=\"M0 0h24v24H0V0z\" fill=\"none\"/>\n",
              "    <path d=\"M18.56 5.44l.94 2.06.94-2.06 2.06-.94-2.06-.94-.94-2.06-.94 2.06-2.06.94zm-11 1L8.5 8.5l.94-2.06 2.06-.94-2.06-.94L8.5 2.5l-.94 2.06-2.06.94zm10 10l.94 2.06.94-2.06 2.06-.94-2.06-.94-.94-2.06-.94 2.06-2.06.94z\"/><path d=\"M17.41 7.96l-1.37-1.37c-.4-.4-.92-.59-1.43-.59-.52 0-1.04.2-1.43.59L10.3 9.45l-7.72 7.72c-.78.78-.78 2.05 0 2.83L4 21.41c.39.39.9.59 1.41.59.51 0 1.02-.2 1.41-.59l7.78-7.78 2.81-2.81c.8-.78.8-2.07 0-2.86zM5.41 20L4 18.59l7.72-7.72 1.47 1.35L5.41 20z\"/>\n",
              "  </svg>\n",
              "      </button>\n",
              "      \n",
              "  <style>\n",
              "    .colab-df-container {\n",
              "      display:flex;\n",
              "      flex-wrap:wrap;\n",
              "      gap: 12px;\n",
              "    }\n",
              "\n",
              "    .colab-df-convert {\n",
              "      background-color: #E8F0FE;\n",
              "      border: none;\n",
              "      border-radius: 50%;\n",
              "      cursor: pointer;\n",
              "      display: none;\n",
              "      fill: #1967D2;\n",
              "      height: 32px;\n",
              "      padding: 0 0 0 0;\n",
              "      width: 32px;\n",
              "    }\n",
              "\n",
              "    .colab-df-convert:hover {\n",
              "      background-color: #E2EBFA;\n",
              "      box-shadow: 0px 1px 2px rgba(60, 64, 67, 0.3), 0px 1px 3px 1px rgba(60, 64, 67, 0.15);\n",
              "      fill: #174EA6;\n",
              "    }\n",
              "\n",
              "    [theme=dark] .colab-df-convert {\n",
              "      background-color: #3B4455;\n",
              "      fill: #D2E3FC;\n",
              "    }\n",
              "\n",
              "    [theme=dark] .colab-df-convert:hover {\n",
              "      background-color: #434B5C;\n",
              "      box-shadow: 0px 1px 3px 1px rgba(0, 0, 0, 0.15);\n",
              "      filter: drop-shadow(0px 1px 2px rgba(0, 0, 0, 0.3));\n",
              "      fill: #FFFFFF;\n",
              "    }\n",
              "  </style>\n",
              "\n",
              "      <script>\n",
              "        const buttonEl =\n",
              "          document.querySelector('#df-9efc73ad-d9a2-4614-af23-50ea1d6b7d79 button.colab-df-convert');\n",
              "        buttonEl.style.display =\n",
              "          google.colab.kernel.accessAllowed ? 'block' : 'none';\n",
              "\n",
              "        async function convertToInteractive(key) {\n",
              "          const element = document.querySelector('#df-9efc73ad-d9a2-4614-af23-50ea1d6b7d79');\n",
              "          const dataTable =\n",
              "            await google.colab.kernel.invokeFunction('convertToInteractive',\n",
              "                                                     [key], {});\n",
              "          if (!dataTable) return;\n",
              "\n",
              "          const docLinkHtml = 'Like what you see? Visit the ' +\n",
              "            '<a target=\"_blank\" href=https://colab.research.google.com/notebooks/data_table.ipynb>data table notebook</a>'\n",
              "            + ' to learn more about interactive tables.';\n",
              "          element.innerHTML = '';\n",
              "          dataTable['output_type'] = 'display_data';\n",
              "          await google.colab.output.renderOutput(dataTable, element);\n",
              "          const docLink = document.createElement('div');\n",
              "          docLink.innerHTML = docLinkHtml;\n",
              "          element.appendChild(docLink);\n",
              "        }\n",
              "      </script>\n",
              "    </div>\n",
              "  </div>\n",
              "  "
            ]
          },
          "metadata": {},
          "execution_count": 214
        }
      ],
      "source": [
        "# Usamos o metodo describe() para visualizar as  estatisticas descritivas das variaveis numericas\n",
        "dataset.describe().T"
      ]
    },
    {
      "cell_type": "code",
      "source": [
        "# verificando se há algum dado nulo em nosso dataset\n",
        "dataset.isnull().sum()"
      ],
      "metadata": {
        "colab": {
          "base_uri": "https://localhost:8080/"
        },
        "id": "gve-zo9C0Jqg",
        "outputId": "8a433c2f-1e1d-48cb-c8b9-16496d266a48"
      },
      "id": "gve-zo9C0Jqg",
      "execution_count": 215,
      "outputs": [
        {
          "output_type": "execute_result",
          "data": {
            "text/plain": [
              "Age               0\n",
              "Sex               0\n",
              "ChestPainType     0\n",
              "RestingBP         0\n",
              "Cholesterol       0\n",
              "FastingBS         0\n",
              "RestingECG        0\n",
              "MaxHR             0\n",
              "ExerciseAngina    0\n",
              "Oldpeak           0\n",
              "ST_Slope          0\n",
              "HeartDisease      0\n",
              "dtype: int64"
            ]
          },
          "metadata": {},
          "execution_count": 215
        }
      ]
    },
    {
      "cell_type": "code",
      "source": [
        "# verificando se há dados duplicados\n",
        "dataset.duplicated().sum()"
      ],
      "metadata": {
        "colab": {
          "base_uri": "https://localhost:8080/"
        },
        "id": "-T_LWWL00PgP",
        "outputId": "597fd53f-bb01-4131-8c93-dcb223697141"
      },
      "id": "-T_LWWL00PgP",
      "execution_count": 216,
      "outputs": [
        {
          "output_type": "execute_result",
          "data": {
            "text/plain": [
              "0"
            ]
          },
          "metadata": {},
          "execution_count": 216
        }
      ]
    },
    {
      "cell_type": "code",
      "execution_count": 217,
      "id": "21a33b74",
      "metadata": {
        "scrolled": true,
        "id": "21a33b74",
        "outputId": "9f32954a-a356-461d-dbdb-0d86739d3dcc",
        "colab": {
          "base_uri": "https://localhost:8080/",
          "height": 1000
        }
      },
      "outputs": [
        {
          "output_type": "display_data",
          "data": {
            "text/plain": [
              "<Figure size 432x288 with 1 Axes>"
            ],
            "image/png": "[encoded data removed]"
          },
          "metadata": {
            "needs_background": "light"
          }
        },
        {
          "output_type": "display_data",
          "data": {
            "text/plain": [
              "<Figure size 432x288 with 1 Axes>"
            ],
            "image/png": "[encoded data removed]"
          },
          "metadata": {
            "needs_background": "light"
          }
        },
        {
          "output_type": "display_data",
          "data": {
            "text/plain": [
              "<Figure size 432x288 with 1 Axes>"
            ],
            "image/png": "[encoded data removed]"
          },
          "metadata": {
            "needs_background": "light"
          }
        },
        {
          "output_type": "display_data",
          "data": {
            "text/plain": [
              "<Figure size 432x288 with 1 Axes>"
            ],
            "image/png": "[encoded data removed]"
          },
          "metadata": {
            "needs_background": "light"
          }
        },
        {
          "output_type": "display_data",
          "data": {
            "text/plain": [
              "<Figure size 432x288 with 1 Axes>"
            ],
            "image/png": "[encoded data removed]"
          },
          "metadata": {
            "needs_background": "light"
          }
        },
        {
          "output_type": "display_data",
          "data": {
            "text/plain": [
              "<Figure size 432x288 with 1 Axes>"
            ],
            "image/png": "[encoded data removed]"
          },
          "metadata": {
            "needs_background": "light"
          }
        },
        {
          "output_type": "display_data",
          "data": {
            "text/plain": [
              "<Figure size 432x288 with 1 Axes>"
            ],
            "image/png": "[encoded data removed]"
          },
          "metadata": {
            "needs_background": "light"
          }
        },
        {
          "output_type": "display_data",
          "data": {
            "text/plain": [
              "<Figure size 432x288 with 1 Axes>"
            ],
            "image/png": "[encoded data removed]"
          },
          "metadata": {
            "needs_background": "light"
          }
        },
        {
          "output_type": "display_data",
          "data": {
            "text/plain": [
              "<Figure size 432x288 with 1 Axes>"
            ],
            "image/png": "[encoded data removed]"
          },
          "metadata": {
            "needs_background": "light"
          }
        },
        {
          "output_type": "display_data",
          "data": {
            "text/plain": [
              "<Figure size 432x288 with 1 Axes>"
            ],
            "image/png": "[encoded data removed]"
          },
          "metadata": {
            "needs_background": "light"
          }
        },
        {
          "output_type": "display_data",
          "data": {
            "text/plain": [
              "<Figure size 432x288 with 1 Axes>"
            ],
            "image/png": "[encoded data removed]"
          },
          "metadata": {
            "needs_background": "light"
          }
        },
        {
          "output_type": "display_data",
          "data": {
            "text/plain": [
              "<Figure size 432x288 with 1 Axes>"
            ],
            "image/png": "[encoded data removed]"
          },
          "metadata": {
            "needs_background": "light"
          }
        }
      ],
      "source": [
        "for col in dataset:\n",
        "    sns.histplot(data=dataset, x=col, kde=True).set_title(f\"Distribuição da variável {col}\")\n",
        "    plt.show()"
      ]
    },
    {
      "cell_type": "markdown",
      "id": "1890463b",
      "metadata": {
        "id": "1890463b"
      },
      "source": [
        "_______"
      ]
    },
    {
      "cell_type": "markdown",
      "id": "4e285af6",
      "metadata": {
        "id": "4e285af6"
      },
      "source": [
        "3) Muitas vezes no trabalho de um cientista de dos se tem que lidar com grandes quantidades de dados (Big data!) e é importante usar o espaço corretamente. **Visualize os diferentes tipos de dados das colunas do dataframe, e veja a quantidade de memória que o dataframe está usando atualmente.**\n"
      ]
    },
    {
      "cell_type": "code",
      "execution_count": 218,
      "id": "9293a565",
      "metadata": {
        "ExecuteTime": {
          "end_time": "2022-07-19T04:05:29.151216Z",
          "start_time": "2022-07-19T04:05:29.013269Z"
        },
        "id": "9293a565",
        "outputId": "650dff93-e79a-435b-8f71-7dc918d7b6a7",
        "colab": {
          "base_uri": "https://localhost:8080/"
        }
      },
      "outputs": [
        {
          "output_type": "stream",
          "name": "stdout",
          "text": [
            "<class 'pandas.core.frame.DataFrame'>\n",
            "Int64Index: 918 entries, 0 to 917\n",
            "Data columns (total 12 columns):\n",
            " #   Column          Non-Null Count  Dtype  \n",
            "---  ------          --------------  -----  \n",
            " 0   Age             918 non-null    int64  \n",
            " 1   Sex             918 non-null    object \n",
            " 2   ChestPainType   918 non-null    object \n",
            " 3   RestingBP       918 non-null    int64  \n",
            " 4   Cholesterol     918 non-null    int64  \n",
            " 5   FastingBS       918 non-null    int64  \n",
            " 6   RestingECG      918 non-null    object \n",
            " 7   MaxHR           918 non-null    int64  \n",
            " 8   ExerciseAngina  918 non-null    object \n",
            " 9   Oldpeak         918 non-null    float64\n",
            " 10  ST_Slope        918 non-null    object \n",
            " 11  HeartDisease    918 non-null    int64  \n",
            "dtypes: float64(1), int64(6), object(5)\n",
            "memory usage: 398.2 KB\n"
          ]
        }
      ],
      "source": [
        "# Visualizamos a informacao do dataframe\n",
        "# - memory_usage=\"deep\" Para obter o uso total da memória\n",
        "\n",
        "dataset.info(memory_usage=\"deep\")"
      ]
    },
    {
      "cell_type": "markdown",
      "id": "dcb27e16",
      "metadata": {
        "id": "dcb27e16"
      },
      "source": [
        "_______"
      ]
    },
    {
      "cell_type": "markdown",
      "id": "3c877013",
      "metadata": {
        "ExecuteTime": {
          "end_time": "2022-07-19T04:05:32.585501Z",
          "start_time": "2022-07-19T04:05:29.155188Z"
        },
        "scrolled": true,
        "id": "3c877013"
      },
      "source": [
        "Por padrão, o Pandas sempre atribui o tipo de dados de memória mais alto às colunas, muitas vezes sem ser necessário. Por exemplo, se o Pandas interpretou uma coluna como valor inteiro, há possivelmente quatro subcategorias (assinadas) para escolher:\n",
        "\n",
        "- int8: inteiro de 8 bits que cobre inteiros de $[-2^7, 2^7]$.\n",
        "- int16: inteiro de 16 bits que cobre inteiros de $[-2^{15}, 2^{15}]$.\n",
        "- int32: inteiro de 32 bits que cobre inteiros de $[-2^{31}, 2^{31}]$.\n",
        "- int64: inteiro de 64 bits que cobre inteiros de $[-2^{63}, 2^{63}]$.\n",
        "\n",
        "4) Para cada coluna inteira, **verifique os valores máximos e mínimos que atualmente estão armazenando.**"
      ]
    },
    {
      "cell_type": "code",
      "execution_count": 219,
      "id": "e6ec7df9",
      "metadata": {
        "id": "e6ec7df9",
        "outputId": "93071f8e-3ccd-4f2d-8109-7578b7ddd566",
        "colab": {
          "base_uri": "https://localhost:8080/"
        }
      },
      "outputs": [
        {
          "output_type": "stream",
          "name": "stdout",
          "text": [
            "Coluna:  Age\n",
            "- Maximo valor:  77\n",
            "- Minimo valor:  28\n",
            "Coluna:  RestingBP\n",
            "- Maximo valor:  200\n",
            "- Minimo valor:  0\n",
            "Coluna:  Cholesterol\n",
            "- Maximo valor:  603\n",
            "- Minimo valor:  0\n",
            "Coluna:  FastingBS\n",
            "- Maximo valor:  1\n",
            "- Minimo valor:  0\n",
            "Coluna:  MaxHR\n",
            "- Maximo valor:  202\n",
            "- Minimo valor:  60\n",
            "Coluna:  HeartDisease\n",
            "- Maximo valor:  1\n",
            "- Minimo valor:  0\n"
          ]
        }
      ],
      "source": [
        "for col in dataset: \n",
        "    if dataset[col].dtype == np.int64:\n",
        "        print(\"Coluna: \", col)\n",
        "        print(\"- Maximo valor: \", dataset[col].max())\n",
        "        print(\"- Minimo valor: \", dataset[col].min())"
      ]
    },
    {
      "cell_type": "markdown",
      "id": "d69ca1ee",
      "metadata": {
        "id": "d69ca1ee"
      },
      "source": [
        "_______"
      ]
    },
    {
      "cell_type": "markdown",
      "id": "6215498c",
      "metadata": {
        "id": "6215498c"
      },
      "source": [
        "**Alterando o tipo de dados de colunas inteiras**\n",
        "\n",
        "Pela análise do exercício 4, deu para ver que algumas dessas colunas poderiam ter um tipo de dado diferente (por causa dos valores máximos e mínimos). Por exemplo, o valor máximo da coluna 'Cholesterol' é 600, então facilmente os diferentes valores encaixam no tipo 'int16' ($[-2^{15} < 600 < 2^{15}]$). \n",
        "\n",
        "5) Para otimizar nosso uso de memória, **atualize os tipos de dados das colunas numéricas, e depois verifique a quantidade de memoria que o dataset agora usando.**"
      ]
    },
    {
      "cell_type": "code",
      "execution_count": 220,
      "id": "dbdc656c",
      "metadata": {
        "id": "dbdc656c",
        "outputId": "bfd5a468-9f40-4882-b9c3-992ade20c842",
        "colab": {
          "base_uri": "https://localhost:8080/"
        }
      },
      "outputs": [
        {
          "output_type": "stream",
          "name": "stdout",
          "text": [
            "Uso de memória antes de alterar o tipo de dados: 398.17578125 KB\n",
            "Uso de memória depois de alterar o tipo de dados: 365.90234375 KB\n"
          ]
        }
      ],
      "source": [
        "print('Uso de memória antes de alterar o tipo de dados:', dataset.memory_usage(deep=True).sum() / 1024, 'KB')\n",
        "\n",
        "# Pandas fornece a flexibilidade de alterar o tipo de dados de uma coluna usando o metodo 'astype()'\n",
        "\n",
        "dataset[\"Age\"] = dataset.Age.astype(np.int16)\n",
        "dataset[\"RestingBP\"] = dataset.RestingBP.astype(np.int16)\n",
        "dataset[\"Cholesterol\"] = dataset.Cholesterol.astype(np.int16)\n",
        "dataset[\"FastingBS\"] = dataset.FastingBS.astype(np.int16)\n",
        "dataset[\"MaxHR\"] = dataset.MaxHR.astype(np.int16)\n",
        "dataset[\"HeartDisease\"] = dataset.HeartDisease.astype(np.int16)\n",
        "\n",
        "print('Uso de memória depois de alterar o tipo de dados:', dataset.memory_usage(deep=True).sum() / 1024, 'KB')"
      ]
    },
    {
      "cell_type": "markdown",
      "id": "cda77296",
      "metadata": {
        "id": "cda77296"
      },
      "source": [
        "_______"
      ]
    },
    {
      "cell_type": "markdown",
      "id": "79678a94",
      "metadata": {
        "id": "79678a94"
      },
      "source": [
        "**Alterando o tipo de dados de colunas que representam dados categóricos.**\n",
        "\n",
        "Como o nome sugere, uma coluna categórica é uma coluna que consiste em apenas alguns valores exclusivos que são repetidos várias vezes em toda a coluna. Por exemplo, vamos encontrar o número de valores exclusivos em algumas colunas usando o método `nunique()` conforme mostrado abaixo:"
      ]
    },
    {
      "cell_type": "code",
      "execution_count": 221,
      "id": "c041254c",
      "metadata": {
        "id": "c041254c",
        "outputId": "3f063214-1822-4686-f87f-d7ad1fac9faf",
        "colab": {
          "base_uri": "https://localhost:8080/"
        }
      },
      "outputs": [
        {
          "output_type": "execute_result",
          "data": {
            "text/plain": [
              "Age                50\n",
              "Sex                 2\n",
              "ChestPainType       4\n",
              "RestingBP          67\n",
              "Cholesterol       222\n",
              "FastingBS           2\n",
              "RestingECG          3\n",
              "MaxHR             119\n",
              "ExerciseAngina      2\n",
              "Oldpeak            53\n",
              "ST_Slope            3\n",
              "HeartDisease        2\n",
              "dtype: int64"
            ]
          },
          "metadata": {},
          "execution_count": 221
        }
      ],
      "source": [
        "dataset.nunique()"
      ]
    },
    {
      "cell_type": "code",
      "source": [
        "dataset.columns"
      ],
      "metadata": {
        "colab": {
          "base_uri": "https://localhost:8080/"
        },
        "id": "-ncMHrgR4Aeb",
        "outputId": "0797c106-2829-41c2-d30d-440575ae298e"
      },
      "id": "-ncMHrgR4Aeb",
      "execution_count": 222,
      "outputs": [
        {
          "output_type": "execute_result",
          "data": {
            "text/plain": [
              "Index(['Age', 'Sex', 'ChestPainType', 'RestingBP', 'Cholesterol', 'FastingBS',\n",
              "       'RestingECG', 'MaxHR', 'ExerciseAngina', 'Oldpeak', 'ST_Slope',\n",
              "       'HeartDisease'],\n",
              "      dtype='object')"
            ]
          },
          "metadata": {},
          "execution_count": 222
        }
      ]
    },
    {
      "cell_type": "markdown",
      "source": [
        "<font color='SeaGreen'> Abaixo iremos verificar com o método value_counts() o a quantidade de dados diferentes para cada coluna selecionada, por exemplo, veremos a quantidade para a coluna Sex (M -> masculino | F -> feminino) e assim por diante com as outras colunas."
      ],
      "metadata": {
        "id": "kX8xpJLV-MAh"
      },
      "id": "kX8xpJLV-MAh"
    },
    {
      "cell_type": "code",
      "source": [
        "list_columns = ['Sex', 'ChestPainType', 'FastingBS', 'RestingECG',\n",
        "                'ExerciseAngina', 'ST_Slope', 'HeartDisease']\n",
        "\n",
        "def value_counts(x) -> str:\n",
        "    print(f'Coluna: {x}')\n",
        "    vlc = dataset[x].value_counts()\n",
        "    print(f\"{vlc} \\n{'-'*50}\")\n",
        "\n",
        "for i in list_columns:\n",
        "    value_counts(i)"
      ],
      "metadata": {
        "colab": {
          "base_uri": "https://localhost:8080/"
        },
        "id": "r4UOC5Q614z_",
        "outputId": "fe475026-060c-4f65-c7b1-07be156a519d"
      },
      "id": "r4UOC5Q614z_",
      "execution_count": 223,
      "outputs": [
        {
          "output_type": "stream",
          "name": "stdout",
          "text": [
            "Coluna: Sex\n",
            "M    725\n",
            "F    193\n",
            "Name: Sex, dtype: int64 \n",
            "--------------------------------------------------\n",
            "Coluna: ChestPainType\n",
            "ASY    496\n",
            "NAP    203\n",
            "ATA    173\n",
            "TA      46\n",
            "Name: ChestPainType, dtype: int64 \n",
            "--------------------------------------------------\n",
            "Coluna: FastingBS\n",
            "0    704\n",
            "1    214\n",
            "Name: FastingBS, dtype: int64 \n",
            "--------------------------------------------------\n",
            "Coluna: RestingECG\n",
            "Normal    552\n",
            "LVH       188\n",
            "ST        178\n",
            "Name: RestingECG, dtype: int64 \n",
            "--------------------------------------------------\n",
            "Coluna: ExerciseAngina\n",
            "N    547\n",
            "Y    371\n",
            "Name: ExerciseAngina, dtype: int64 \n",
            "--------------------------------------------------\n",
            "Coluna: ST_Slope\n",
            "Flat    460\n",
            "Up      395\n",
            "Down     63\n",
            "Name: ST_Slope, dtype: int64 \n",
            "--------------------------------------------------\n",
            "Coluna: HeartDisease\n",
            "1    508\n",
            "0    410\n",
            "Name: HeartDisease, dtype: int64 \n",
            "--------------------------------------------------\n"
          ]
        }
      ]
    },
    {
      "cell_type": "markdown",
      "source": [
        "<font color='SeaGreen'> Podemos ver que na listagem acima temos alguns valores bem desbalanceados, vemos isso principalmente na coluna 'Sex' onde temos 725 pessoas do sexo masculino e somente 193 do sexo feminino, se em nosso modelo tivermos algum problema na fase de validação de nosso modelo, podemos realizar um oversample com nossos dados para que possamos ter mais confiança nos resultados, em nossa variável target temos um pequeno desbalanceamento, caso seja necessário realizaremos o oversample nela também."
      ],
      "metadata": {
        "id": "xBrFRg7Q5O1-"
      },
      "id": "xBrFRg7Q5O1-"
    },
    {
      "cell_type": "markdown",
      "id": "82180cf6",
      "metadata": {
        "id": "82180cf6"
      },
      "source": [
        "O número de valores exclusivos nessas colunas em relação ao tamanho do DataFrame mostra que são colunas categóricas. No entanto, por padrão, o Pandas inferiu o tipo de dados de todas essas colunas como 'object' (como visto no Exercício 3).\n",
        "\n",
        "6) Usando o método `astype()`, **altere o tipo de dados de uma coluna categórica para 'category'. Analise a redução na utilização de memória.**"
      ]
    },
    {
      "cell_type": "code",
      "execution_count": 224,
      "id": "8892a7cd",
      "metadata": {
        "id": "8892a7cd",
        "outputId": "2301f512-5ea0-4bda-9fc7-05ea4a127618",
        "colab": {
          "base_uri": "https://localhost:8080/"
        }
      },
      "outputs": [
        {
          "output_type": "stream",
          "name": "stdout",
          "text": [
            "Uso de memória incial: 365.90234375 KB\n",
            "Uso de memória depois de alterar o tipo de dados 'object': 63.47265625 KB\n"
          ]
        }
      ],
      "source": [
        "print('Uso de memória incial:', dataset.memory_usage(deep=True).sum() / 1024, 'KB')\n",
        "\n",
        "# Para cada coluna com tipo de dado 'object', atualizamos para 'category'\n",
        "for col in dataset: \n",
        "    if dataset[col].dtype == 'object':\n",
        "        dataset[col] = dataset[col].astype(\"category\")\n",
        "        \n",
        "print('Uso de memória depois de alterar o tipo de dados \\'object\\':', dataset.memory_usage(deep=True).sum() / 1024, 'KB')"
      ]
    },
    {
      "cell_type": "markdown",
      "id": "eb10a646",
      "metadata": {
        "id": "eb10a646"
      },
      "source": [
        "_______"
      ]
    },
    {
      "cell_type": "markdown",
      "id": "6d5b15f9",
      "metadata": {
        "id": "6d5b15f9"
      },
      "source": [
        "Os Exercicios #5 e #6 acima pressupõem que você já tenha um Pandas DataFrame carregado no ambiente python. Em outras palavras, essas eram técnicas de pós-entrada para otimizar a utilização da memória.\n",
        "\n",
        "No entanto, em situações em que o carregamento do conjunto de dados é o principal desafio, você pode assumir o controle da tarefa de interpretação de tipo de dados realizada pelo Pandas durante a entrada e especificar o tipo de dados específico para o qual deseja que suas colunas sejam inferidas.\n",
        "\n",
        "**7) Passe os tipos dos dados como argumento no metodo `read_csv`, para otimizar memoria desde a leitura (Leia o arquivo csv `heart.csv`).**"
      ]
    },
    {
      "cell_type": "code",
      "execution_count": 225,
      "id": "60282970",
      "metadata": {
        "id": "60282970",
        "outputId": "351681b8-31ab-4326-d31d-88573544b568",
        "colab": {
          "base_uri": "https://localhost:8080/"
        }
      },
      "outputs": [
        {
          "output_type": "stream",
          "name": "stdout",
          "text": [
            "Uso de memória: 23.8671875 KB\n"
          ]
        }
      ],
      "source": [
        "dataset = pd.read_csv('https://github.com/jchambyd/Datasets/raw/main/Heart-disease/heart.csv', \n",
        "                   dtype = {\"Age\":np.int16, \n",
        "                            \"Sex\":\"category\",\n",
        "                            \"ChestPainType\":\"category\", \n",
        "                            \"RestingBP\":np.int16, \n",
        "                            \"Cholesterol\":np.int16, \n",
        "                            \"FastingBS\":np.int16,\n",
        "                            \"RestingECG\":\"category\",\n",
        "                            \"MaxHR\":np.int16,\n",
        "                            \"ExerciseAngina\":\"category\",\n",
        "                            \"Oldpeak\":np.float64,\n",
        "                            \"ST_Slope\":\"category\",\n",
        "                            \"HeartDisease\":np.int16})\n",
        "\n",
        "print('Uso de memória:', dataset.memory_usage(deep=True).sum() / 1024, 'KB')"
      ]
    },
    {
      "cell_type": "markdown",
      "id": "3797b17d",
      "metadata": {
        "id": "3797b17d"
      },
      "source": [
        "_______"
      ]
    },
    {
      "cell_type": "markdown",
      "id": "4433c256",
      "metadata": {
        "id": "4433c256"
      },
      "source": [
        "Suponha que você tenha feito tudo o que podia, mas o CSV ainda é impossível de carregar devido a restrições de memória. Existe uma técnica que nos ajuda a carregar grandes conjuntos de dados, que você pode usar em situações tão extremas.\n",
        "Os métodos de entrada dos pandas são serializados. Portanto, ele lê apenas uma linha (ou linha) por vez de um arquivo CSV. Se o número de linhas for extremamente grande para carregar na memória de uma só vez, você poderá carregar um segmento (ou bloco) de linhas, processá-lo e ler o próximo segmento do arquivo CSV.\n",
        "\n",
        "**8) Faça a leitura do arquivo `heart.csv` em blocos de 500 linhas, e depois para cada bloco faça a soma da coluna 'HeartDisease', para saber quantas pessoas do conjunto de dados têm uma doença cardíaca.**"
      ]
    },
    {
      "cell_type": "code",
      "execution_count": 226,
      "id": "a02ce805",
      "metadata": {
        "id": "a02ce805",
        "outputId": "69f53be4-65ae-4bb3-de9d-f26c54f1e81a",
        "colab": {
          "base_uri": "https://localhost:8080/"
        }
      },
      "outputs": [
        {
          "output_type": "stream",
          "name": "stdout",
          "text": [
            "Total de pessoas com doenca cardiaca: 508\n",
            "# de pessoas com doenca cardiaca no bloco 1 : 284\n",
            "# de pessoas com doenca cardiaca no bloco 2 : 224\n",
            "Total de pessoas com doenca cardiaca (contando por blocos): 508\n"
          ]
        }
      ],
      "source": [
        "# Lendo o total de pessoas com doenca cardiaca fazendo uma unica leitura\n",
        "print('Total de pessoas com doenca cardiaca:', dataset['HeartDisease'].sum())\n",
        "\n",
        "bloco = 1\n",
        "total = 0\n",
        "# Passando o argumento 'chunksize' para o método read_csv()\n",
        "for chunk in pd.read_csv(\"https://github.com/jchambyd/Datasets/raw/main/Heart-disease/heart.csv\", chunksize=500):    \n",
        "    print('# de pessoas com doenca cardiaca no bloco', bloco, ':' , chunk['HeartDisease'].sum())\n",
        "    bloco = bloco + 1\n",
        "    total = total + chunk['HeartDisease'].sum()\n",
        "    \n",
        "print('Total de pessoas com doenca cardiaca (contando por blocos):', total)"
      ]
    },
    {
      "cell_type": "markdown",
      "id": "f2d0f694",
      "metadata": {
        "id": "f2d0f694"
      },
      "source": [
        "_______"
      ]
    },
    {
      "cell_type": "markdown",
      "id": "4d521174",
      "metadata": {
        "id": "4d521174"
      },
      "source": [
        "**Analisando os dados**\n",
        "\n",
        "9) Utilizando nosso conjunto de dados, responda: existe alguma coluna com outliers? Indique qual método de detecção de outliers você utilizou, justificando seu uso."
      ]
    },
    {
      "cell_type": "code",
      "execution_count": 227,
      "id": "b0876daf",
      "metadata": {
        "ExecuteTime": {
          "end_time": "2022-07-19T04:06:35.395360Z",
          "start_time": "2022-07-19T04:06:35.305038Z"
        },
        "scrolled": true,
        "id": "b0876daf",
        "outputId": "0cbc8443-fa10-4cf4-e34b-d441f83ae91f",
        "colab": {
          "base_uri": "https://localhost:8080/"
        }
      },
      "outputs": [
        {
          "output_type": "stream",
          "name": "stdout",
          "text": [
            "- Não há outliers na coluna Age!\n",
            "\n",
            "- Outliers de RestingBP:\n",
            "\n",
            "[190, 200, 200, 200, 0, 190, 200, 192]\n",
            "- Outliers de Cholesterol:\n",
            "\n",
            "[529, 603, 564]\n",
            "- Não há outliers na coluna FastingBS!\n",
            "\n",
            "- Outliers de MaxHR:\n",
            "\n",
            "[60]\n",
            "- Outliers de Oldpeak:\n",
            "\n",
            "[5.0, -2.6, 4.2, 5.6, 4.2, 6.2, 4.4]\n",
            "- Não há outliers na coluna HeartDisease!\n",
            "\n"
          ]
        }
      ],
      "source": [
        "for col in dataset:\n",
        "    if dataset[col].dtype != 'category':\n",
        "        mu, std = dataset[col].mean(), dataset[col].std() \n",
        "        # usando o critério de |z| > 3 (não é dos melhores, mas tá ok kkkkk)\n",
        "        aux_outlier = dataset[col].apply(lambda x: (x-mu)/std).apply(lambda x: True if abs(x) > 3 else False)\n",
        "        if aux_outlier.sum() > 0:\n",
        "            print(f\"- Outliers de {col}:\\n\")\n",
        "            print(dataset[aux_outlier][col].tolist())\n",
        "        else:\n",
        "            print(f\"- Não há outliers na coluna {col}!\\n\")"
      ]
    },
    {
      "cell_type": "markdown",
      "source": [
        "<font color='SeaGreen'> Acima vimos as variáveis que contém outliers, na sequência iremos plotar um conjunto de boxplots para que tenhamos uma ideia mais visível dos outliers."
      ],
      "metadata": {
        "id": "k3K4VN_BJ4ix"
      },
      "id": "k3K4VN_BJ4ix"
    },
    {
      "cell_type": "code",
      "source": [
        "f, ax = plt.subplots(2, 2, figsize=(10,12))\n",
        "f.subplots_adjust(left=0.08, right=0.98, bottom=0.05, top=0.9, hspace=0.4, wspace=0.3)\n",
        "\n",
        "ax[0, 0].boxplot(dataset.RestingBP, 1, 'gD')\n",
        "ax[0, 0].set_title('RestingBP')\n",
        "\n",
        "ax[0, 1].boxplot(dataset.Cholesterol, 1, 'gD')\n",
        "ax[0, 1].set_title('Cholesterol')\n",
        "\n",
        "ax[1, 0].boxplot(dataset.MaxHR, 1, 'gD')\n",
        "ax[1, 0].set_title('MaxHR')\n",
        "\n",
        "ax[1, 1].boxplot(dataset.Oldpeak, 1, 'gD')\n",
        "ax[1, 1].set_title('Oldpeak');"
      ],
      "metadata": {
        "colab": {
          "base_uri": "https://localhost:8080/",
          "height": 798
        },
        "id": "3e06bxp4BKm_",
        "outputId": "94f886d0-9fdf-4c4b-9271-0d8b404c8ae7"
      },
      "id": "3e06bxp4BKm_",
      "execution_count": 228,
      "outputs": [
        {
          "output_type": "display_data",
          "data": {
            "text/plain": [
              "<Figure size 720x864 with 4 Axes>"
            ],
            "image/png": "[encoded data removed]"
          },
          "metadata": {
            "needs_background": "light"
          }
        }
      ]
    },
    {
      "cell_type": "markdown",
      "id": "02f98078",
      "metadata": {
        "id": "02f98078"
      },
      "source": [
        "_______"
      ]
    },
    {
      "cell_type": "markdown",
      "id": "5322f7fa",
      "metadata": {
        "id": "5322f7fa"
      },
      "source": [
        "**10) Utilizando o conjunto de dados, calcule e/ou visualize a correlação (utilizando a relação que achar mais adequada) entre as variáveis na base.** \n",
        "\n",
        "Em particular, estude a correlação entre as features e o target `HeartDisease`, e responda se há correlações fortes.\n",
        "\n",
        "Plote também a relação entre cada uma das features e o target (na forma de um scatterplot, por exemplo)."
      ]
    },
    {
      "cell_type": "code",
      "execution_count": 229,
      "id": "a8773fb9",
      "metadata": {
        "ExecuteTime": {
          "end_time": "2022-07-19T04:05:34.504137Z",
          "start_time": "2022-07-19T04:05:33.503964Z"
        },
        "id": "a8773fb9",
        "outputId": "c6f52fd4-afc8-452e-ec10-cd5ca8600ede",
        "colab": {
          "base_uri": "https://localhost:8080/",
          "height": 378
        }
      },
      "outputs": [
        {
          "output_type": "display_data",
          "data": {
            "text/plain": [
              "<Figure size 864x432 with 2 Axes>"
            ],
            "image/png": "[encoded data removed]"
          },
          "metadata": {
            "needs_background": "light"
          }
        }
      ],
      "source": [
        "plt.figure(figsize=(12, 6))\n",
        "sns.heatmap(dataset.corr(), annot=True);"
      ]
    },
    {
      "cell_type": "code",
      "execution_count": 230,
      "id": "1d31ea7b",
      "metadata": {
        "ExecuteTime": {
          "end_time": "2022-07-19T04:05:34.535102Z",
          "start_time": "2022-07-19T04:05:34.509117Z"
        },
        "id": "1d31ea7b",
        "outputId": "46205364-28e1-442f-b126-ae2d8e6af06b",
        "colab": {
          "base_uri": "https://localhost:8080/"
        }
      },
      "outputs": [
        {
          "output_type": "execute_result",
          "data": {
            "text/plain": [
              "MaxHR          -0.400421\n",
              "Cholesterol    -0.232741\n",
              "RestingBP       0.107589\n",
              "FastingBS       0.267291\n",
              "Age             0.282039\n",
              "Oldpeak         0.403951\n",
              "HeartDisease    1.000000\n",
              "Name: HeartDisease, dtype: float64"
            ]
          },
          "metadata": {},
          "execution_count": 230
        }
      ],
      "source": [
        "dataset.corr()[\"HeartDisease\"].sort_values()"
      ]
    },
    {
      "cell_type": "markdown",
      "source": [
        "<font color='SeaGreen'>No código abaixo iremos testar a multicolinearidade das variáveis para com isso ver se temos alta relação(redundância) entre elas."
      ],
      "metadata": {
        "id": "808OHYUFMNJf"
      },
      "id": "808OHYUFMNJf"
    },
    {
      "cell_type": "code",
      "source": [
        "# separando nossso dataset da variável target\n",
        "X = dataset.iloc[:, 0:11]\n",
        "# separando a variável target\n",
        "y = dataset.iloc[:,11]"
      ],
      "metadata": {
        "id": "UEPALnF6XU0r"
      },
      "id": "UEPALnF6XU0r",
      "execution_count": 233,
      "outputs": []
    },
    {
      "cell_type": "code",
      "source": [
        "data = X[~X.isin([np.nan, np.inf, -np.inf]).any(1)]\n",
        "# somente variáveis numéricas\n",
        "X_variables = data[['Age', 'RestingBP', 'Cholesterol', 'FastingBS', 'MaxHR', 'Oldpeak']]\n",
        "X_variables       "
      ],
      "metadata": {
        "colab": {
          "base_uri": "https://localhost:8080/",
          "height": 424
        },
        "id": "wK34wMSGMrbF",
        "outputId": "aaeb8bd7-8733-4806-c328-b5227a38be2a"
      },
      "id": "wK34wMSGMrbF",
      "execution_count": 234,
      "outputs": [
        {
          "output_type": "execute_result",
          "data": {
            "text/plain": [
              "     Age  RestingBP  Cholesterol  FastingBS  MaxHR  Oldpeak\n",
              "0     40        140          289          0    172      0.0\n",
              "1     49        160          180          0    156      1.0\n",
              "2     37        130          283          0     98      0.0\n",
              "3     48        138          214          0    108      1.5\n",
              "4     54        150          195          0    122      0.0\n",
              "..   ...        ...          ...        ...    ...      ...\n",
              "913   45        110          264          0    132      1.2\n",
              "914   68        144          193          1    141      3.4\n",
              "915   57        130          131          0    115      1.2\n",
              "916   57        130          236          0    174      0.0\n",
              "917   38        138          175          0    173      0.0\n",
              "\n",
              "[918 rows x 6 columns]"
            ],
            "text/html": [
              "\n",
              "  <div id=\"df-7db8b658-25ef-4171-8653-7be7462d098e\">\n",
              "    <div class=\"colab-df-container\">\n",
              "      <div>\n",
              "<style scoped>\n",
              "    .dataframe tbody tr th:only-of-type {\n",
              "        vertical-align: middle;\n",
              "    }\n",
              "\n",
              "    .dataframe tbody tr th {\n",
              "        vertical-align: top;\n",
              "    }\n",
              "\n",
              "    .dataframe thead th {\n",
              "        text-align: right;\n",
              "    }\n",
              "</style>\n",
              "<table border=\"1\" class=\"dataframe\">\n",
              "  <thead>\n",
              "    <tr style=\"text-align: right;\">\n",
              "      <th></th>\n",
              "      <th>Age</th>\n",
              "      <th>RestingBP</th>\n",
              "      <th>Cholesterol</th>\n",
              "      <th>FastingBS</th>\n",
              "      <th>MaxHR</th>\n",
              "      <th>Oldpeak</th>\n",
              "    </tr>\n",
              "  </thead>\n",
              "  <tbody>\n",
              "    <tr>\n",
              "      <th>0</th>\n",
              "      <td>40</td>\n",
              "      <td>140</td>\n",
              "      <td>289</td>\n",
              "      <td>0</td>\n",
              "      <td>172</td>\n",
              "      <td>0.0</td>\n",
              "    </tr>\n",
              "    <tr>\n",
              "      <th>1</th>\n",
              "      <td>49</td>\n",
              "      <td>160</td>\n",
              "      <td>180</td>\n",
              "      <td>0</td>\n",
              "      <td>156</td>\n",
              "      <td>1.0</td>\n",
              "    </tr>\n",
              "    <tr>\n",
              "      <th>2</th>\n",
              "      <td>37</td>\n",
              "      <td>130</td>\n",
              "      <td>283</td>\n",
              "      <td>0</td>\n",
              "      <td>98</td>\n",
              "      <td>0.0</td>\n",
              "    </tr>\n",
              "    <tr>\n",
              "      <th>3</th>\n",
              "      <td>48</td>\n",
              "      <td>138</td>\n",
              "      <td>214</td>\n",
              "      <td>0</td>\n",
              "      <td>108</td>\n",
              "      <td>1.5</td>\n",
              "    </tr>\n",
              "    <tr>\n",
              "      <th>4</th>\n",
              "      <td>54</td>\n",
              "      <td>150</td>\n",
              "      <td>195</td>\n",
              "      <td>0</td>\n",
              "      <td>122</td>\n",
              "      <td>0.0</td>\n",
              "    </tr>\n",
              "    <tr>\n",
              "      <th>...</th>\n",
              "      <td>...</td>\n",
              "      <td>...</td>\n",
              "      <td>...</td>\n",
              "      <td>...</td>\n",
              "      <td>...</td>\n",
              "      <td>...</td>\n",
              "    </tr>\n",
              "    <tr>\n",
              "      <th>913</th>\n",
              "      <td>45</td>\n",
              "      <td>110</td>\n",
              "      <td>264</td>\n",
              "      <td>0</td>\n",
              "      <td>132</td>\n",
              "      <td>1.2</td>\n",
              "    </tr>\n",
              "    <tr>\n",
              "      <th>914</th>\n",
              "      <td>68</td>\n",
              "      <td>144</td>\n",
              "      <td>193</td>\n",
              "      <td>1</td>\n",
              "      <td>141</td>\n",
              "      <td>3.4</td>\n",
              "    </tr>\n",
              "    <tr>\n",
              "      <th>915</th>\n",
              "      <td>57</td>\n",
              "      <td>130</td>\n",
              "      <td>131</td>\n",
              "      <td>0</td>\n",
              "      <td>115</td>\n",
              "      <td>1.2</td>\n",
              "    </tr>\n",
              "    <tr>\n",
              "      <th>916</th>\n",
              "      <td>57</td>\n",
              "      <td>130</td>\n",
              "      <td>236</td>\n",
              "      <td>0</td>\n",
              "      <td>174</td>\n",
              "      <td>0.0</td>\n",
              "    </tr>\n",
              "    <tr>\n",
              "      <th>917</th>\n",
              "      <td>38</td>\n",
              "      <td>138</td>\n",
              "      <td>175</td>\n",
              "      <td>0</td>\n",
              "      <td>173</td>\n",
              "      <td>0.0</td>\n",
              "    </tr>\n",
              "  </tbody>\n",
              "</table>\n",
              "<p>918 rows × 6 columns</p>\n",
              "</div>\n",
              "      <button class=\"colab-df-convert\" onclick=\"convertToInteractive('df-7db8b658-25ef-4171-8653-7be7462d098e')\"\n",
              "              title=\"Convert this dataframe to an interactive table.\"\n",
              "              style=\"display:none;\">\n",
              "        \n",
              "  <svg xmlns=\"http://www.w3.org/2000/svg\" height=\"24px\"viewBox=\"0 0 24 24\"\n",
              "       width=\"24px\">\n",
              "    <path d=\"M0 0h24v24H0V0z\" fill=\"none\"/>\n",
              "    <path d=\"M18.56 5.44l.94 2.06.94-2.06 2.06-.94-2.06-.94-.94-2.06-.94 2.06-2.06.94zm-11 1L8.5 8.5l.94-2.06 2.06-.94-2.06-.94L8.5 2.5l-.94 2.06-2.06.94zm10 10l.94 2.06.94-2.06 2.06-.94-2.06-.94-.94-2.06-.94 2.06-2.06.94z\"/><path d=\"M17.41 7.96l-1.37-1.37c-.4-.4-.92-.59-1.43-.59-.52 0-1.04.2-1.43.59L10.3 9.45l-7.72 7.72c-.78.78-.78 2.05 0 2.83L4 21.41c.39.39.9.59 1.41.59.51 0 1.02-.2 1.41-.59l7.78-7.78 2.81-2.81c.8-.78.8-2.07 0-2.86zM5.41 20L4 18.59l7.72-7.72 1.47 1.35L5.41 20z\"/>\n",
              "  </svg>\n",
              "      </button>\n",
              "      \n",
              "  <style>\n",
              "    .colab-df-container {\n",
              "      display:flex;\n",
              "      flex-wrap:wrap;\n",
              "      gap: 12px;\n",
              "    }\n",
              "\n",
              "    .colab-df-convert {\n",
              "      background-color: #E8F0FE;\n",
              "      border: none;\n",
              "      border-radius: 50%;\n",
              "      cursor: pointer;\n",
              "      display: none;\n",
              "      fill: #1967D2;\n",
              "      height: 32px;\n",
              "      padding: 0 0 0 0;\n",
              "      width: 32px;\n",
              "    }\n",
              "\n",
              "    .colab-df-convert:hover {\n",
              "      background-color: #E2EBFA;\n",
              "      box-shadow: 0px 1px 2px rgba(60, 64, 67, 0.3), 0px 1px 3px 1px rgba(60, 64, 67, 0.15);\n",
              "      fill: #174EA6;\n",
              "    }\n",
              "\n",
              "    [theme=dark] .colab-df-convert {\n",
              "      background-color: #3B4455;\n",
              "      fill: #D2E3FC;\n",
              "    }\n",
              "\n",
              "    [theme=dark] .colab-df-convert:hover {\n",
              "      background-color: #434B5C;\n",
              "      box-shadow: 0px 1px 3px 1px rgba(0, 0, 0, 0.15);\n",
              "      filter: drop-shadow(0px 1px 2px rgba(0, 0, 0, 0.3));\n",
              "      fill: #FFFFFF;\n",
              "    }\n",
              "  </style>\n",
              "\n",
              "      <script>\n",
              "        const buttonEl =\n",
              "          document.querySelector('#df-7db8b658-25ef-4171-8653-7be7462d098e button.colab-df-convert');\n",
              "        buttonEl.style.display =\n",
              "          google.colab.kernel.accessAllowed ? 'block' : 'none';\n",
              "\n",
              "        async function convertToInteractive(key) {\n",
              "          const element = document.querySelector('#df-7db8b658-25ef-4171-8653-7be7462d098e');\n",
              "          const dataTable =\n",
              "            await google.colab.kernel.invokeFunction('convertToInteractive',\n",
              "                                                     [key], {});\n",
              "          if (!dataTable) return;\n",
              "\n",
              "          const docLinkHtml = 'Like what you see? Visit the ' +\n",
              "            '<a target=\"_blank\" href=https://colab.research.google.com/notebooks/data_table.ipynb>data table notebook</a>'\n",
              "            + ' to learn more about interactive tables.';\n",
              "          element.innerHTML = '';\n",
              "          dataTable['output_type'] = 'display_data';\n",
              "          await google.colab.output.renderOutput(dataTable, element);\n",
              "          const docLink = document.createElement('div');\n",
              "          docLink.innerHTML = docLinkHtml;\n",
              "          element.appendChild(docLink);\n",
              "        }\n",
              "      </script>\n",
              "    </div>\n",
              "  </div>\n",
              "  "
            ]
          },
          "metadata": {},
          "execution_count": 234
        }
      ]
    },
    {
      "cell_type": "code",
      "source": [
        "# criando as colunas\n",
        "multi_data = pd.DataFrame()\n",
        "multi_data[\"feature\"] = X_variables.columns\n",
        "multi_data"
      ],
      "metadata": {
        "colab": {
          "base_uri": "https://localhost:8080/",
          "height": 237
        },
        "id": "S3iZKil_OqSZ",
        "outputId": "21c2483d-a208-4cd1-d7f3-41e21e48d150"
      },
      "id": "S3iZKil_OqSZ",
      "execution_count": 235,
      "outputs": [
        {
          "output_type": "execute_result",
          "data": {
            "text/plain": [
              "       feature\n",
              "0          Age\n",
              "1    RestingBP\n",
              "2  Cholesterol\n",
              "3    FastingBS\n",
              "4        MaxHR\n",
              "5      Oldpeak"
            ],
            "text/html": [
              "\n",
              "  <div id=\"df-eed71011-a520-4a36-8b65-20ac7ae3235f\">\n",
              "    <div class=\"colab-df-container\">\n",
              "      <div>\n",
              "<style scoped>\n",
              "    .dataframe tbody tr th:only-of-type {\n",
              "        vertical-align: middle;\n",
              "    }\n",
              "\n",
              "    .dataframe tbody tr th {\n",
              "        vertical-align: top;\n",
              "    }\n",
              "\n",
              "    .dataframe thead th {\n",
              "        text-align: right;\n",
              "    }\n",
              "</style>\n",
              "<table border=\"1\" class=\"dataframe\">\n",
              "  <thead>\n",
              "    <tr style=\"text-align: right;\">\n",
              "      <th></th>\n",
              "      <th>feature</th>\n",
              "    </tr>\n",
              "  </thead>\n",
              "  <tbody>\n",
              "    <tr>\n",
              "      <th>0</th>\n",
              "      <td>Age</td>\n",
              "    </tr>\n",
              "    <tr>\n",
              "      <th>1</th>\n",
              "      <td>RestingBP</td>\n",
              "    </tr>\n",
              "    <tr>\n",
              "      <th>2</th>\n",
              "      <td>Cholesterol</td>\n",
              "    </tr>\n",
              "    <tr>\n",
              "      <th>3</th>\n",
              "      <td>FastingBS</td>\n",
              "    </tr>\n",
              "    <tr>\n",
              "      <th>4</th>\n",
              "      <td>MaxHR</td>\n",
              "    </tr>\n",
              "    <tr>\n",
              "      <th>5</th>\n",
              "      <td>Oldpeak</td>\n",
              "    </tr>\n",
              "  </tbody>\n",
              "</table>\n",
              "</div>\n",
              "      <button class=\"colab-df-convert\" onclick=\"convertToInteractive('df-eed71011-a520-4a36-8b65-20ac7ae3235f')\"\n",
              "              title=\"Convert this dataframe to an interactive table.\"\n",
              "              style=\"display:none;\">\n",
              "        \n",
              "  <svg xmlns=\"http://www.w3.org/2000/svg\" height=\"24px\"viewBox=\"0 0 24 24\"\n",
              "       width=\"24px\">\n",
              "    <path d=\"M0 0h24v24H0V0z\" fill=\"none\"/>\n",
              "    <path d=\"M18.56 5.44l.94 2.06.94-2.06 2.06-.94-2.06-.94-.94-2.06-.94 2.06-2.06.94zm-11 1L8.5 8.5l.94-2.06 2.06-.94-2.06-.94L8.5 2.5l-.94 2.06-2.06.94zm10 10l.94 2.06.94-2.06 2.06-.94-2.06-.94-.94-2.06-.94 2.06-2.06.94z\"/><path d=\"M17.41 7.96l-1.37-1.37c-.4-.4-.92-.59-1.43-.59-.52 0-1.04.2-1.43.59L10.3 9.45l-7.72 7.72c-.78.78-.78 2.05 0 2.83L4 21.41c.39.39.9.59 1.41.59.51 0 1.02-.2 1.41-.59l7.78-7.78 2.81-2.81c.8-.78.8-2.07 0-2.86zM5.41 20L4 18.59l7.72-7.72 1.47 1.35L5.41 20z\"/>\n",
              "  </svg>\n",
              "      </button>\n",
              "      \n",
              "  <style>\n",
              "    .colab-df-container {\n",
              "      display:flex;\n",
              "      flex-wrap:wrap;\n",
              "      gap: 12px;\n",
              "    }\n",
              "\n",
              "    .colab-df-convert {\n",
              "      background-color: #E8F0FE;\n",
              "      border: none;\n",
              "      border-radius: 50%;\n",
              "      cursor: pointer;\n",
              "      display: none;\n",
              "      fill: #1967D2;\n",
              "      height: 32px;\n",
              "      padding: 0 0 0 0;\n",
              "      width: 32px;\n",
              "    }\n",
              "\n",
              "    .colab-df-convert:hover {\n",
              "      background-color: #E2EBFA;\n",
              "      box-shadow: 0px 1px 2px rgba(60, 64, 67, 0.3), 0px 1px 3px 1px rgba(60, 64, 67, 0.15);\n",
              "      fill: #174EA6;\n",
              "    }\n",
              "\n",
              "    [theme=dark] .colab-df-convert {\n",
              "      background-color: #3B4455;\n",
              "      fill: #D2E3FC;\n",
              "    }\n",
              "\n",
              "    [theme=dark] .colab-df-convert:hover {\n",
              "      background-color: #434B5C;\n",
              "      box-shadow: 0px 1px 3px 1px rgba(0, 0, 0, 0.15);\n",
              "      filter: drop-shadow(0px 1px 2px rgba(0, 0, 0, 0.3));\n",
              "      fill: #FFFFFF;\n",
              "    }\n",
              "  </style>\n",
              "\n",
              "      <script>\n",
              "        const buttonEl =\n",
              "          document.querySelector('#df-eed71011-a520-4a36-8b65-20ac7ae3235f button.colab-df-convert');\n",
              "        buttonEl.style.display =\n",
              "          google.colab.kernel.accessAllowed ? 'block' : 'none';\n",
              "\n",
              "        async function convertToInteractive(key) {\n",
              "          const element = document.querySelector('#df-eed71011-a520-4a36-8b65-20ac7ae3235f');\n",
              "          const dataTable =\n",
              "            await google.colab.kernel.invokeFunction('convertToInteractive',\n",
              "                                                     [key], {});\n",
              "          if (!dataTable) return;\n",
              "\n",
              "          const docLinkHtml = 'Like what you see? Visit the ' +\n",
              "            '<a target=\"_blank\" href=https://colab.research.google.com/notebooks/data_table.ipynb>data table notebook</a>'\n",
              "            + ' to learn more about interactive tables.';\n",
              "          element.innerHTML = '';\n",
              "          dataTable['output_type'] = 'display_data';\n",
              "          await google.colab.output.renderOutput(dataTable, element);\n",
              "          const docLink = document.createElement('div');\n",
              "          docLink.innerHTML = docLinkHtml;\n",
              "          element.appendChild(docLink);\n",
              "        }\n",
              "      </script>\n",
              "    </div>\n",
              "  </div>\n",
              "  "
            ]
          },
          "metadata": {},
          "execution_count": 235
        }
      ]
    },
    {
      "cell_type": "code",
      "source": [
        "# realizando o calculo da multicolinearidade\n",
        "multi_data[\"VIF\"] = [variance_inflation_factor(X_variables.values, i) for i in range(len(X_variables.columns))]\n",
        "multi_data"
      ],
      "metadata": {
        "colab": {
          "base_uri": "https://localhost:8080/",
          "height": 237
        },
        "id": "xj02WwnvPvfA",
        "outputId": "d8a46eff-3a83-4df5-9284-d07e0ee6dea0"
      },
      "id": "xj02WwnvPvfA",
      "execution_count": 236,
      "outputs": [
        {
          "output_type": "execute_result",
          "data": {
            "text/plain": [
              "       feature        VIF\n",
              "0          Age  29.254296\n",
              "1    RestingBP  42.122441\n",
              "2  Cholesterol   4.980057\n",
              "3    FastingBS   1.450433\n",
              "4        MaxHR  19.690697\n",
              "5      Oldpeak   1.849527"
            ],
            "text/html": [
              "\n",
              "  <div id=\"df-5596eb69-c574-461d-92b2-42b4629b5532\">\n",
              "    <div class=\"colab-df-container\">\n",
              "      <div>\n",
              "<style scoped>\n",
              "    .dataframe tbody tr th:only-of-type {\n",
              "        vertical-align: middle;\n",
              "    }\n",
              "\n",
              "    .dataframe tbody tr th {\n",
              "        vertical-align: top;\n",
              "    }\n",
              "\n",
              "    .dataframe thead th {\n",
              "        text-align: right;\n",
              "    }\n",
              "</style>\n",
              "<table border=\"1\" class=\"dataframe\">\n",
              "  <thead>\n",
              "    <tr style=\"text-align: right;\">\n",
              "      <th></th>\n",
              "      <th>feature</th>\n",
              "      <th>VIF</th>\n",
              "    </tr>\n",
              "  </thead>\n",
              "  <tbody>\n",
              "    <tr>\n",
              "      <th>0</th>\n",
              "      <td>Age</td>\n",
              "      <td>29.254296</td>\n",
              "    </tr>\n",
              "    <tr>\n",
              "      <th>1</th>\n",
              "      <td>RestingBP</td>\n",
              "      <td>42.122441</td>\n",
              "    </tr>\n",
              "    <tr>\n",
              "      <th>2</th>\n",
              "      <td>Cholesterol</td>\n",
              "      <td>4.980057</td>\n",
              "    </tr>\n",
              "    <tr>\n",
              "      <th>3</th>\n",
              "      <td>FastingBS</td>\n",
              "      <td>1.450433</td>\n",
              "    </tr>\n",
              "    <tr>\n",
              "      <th>4</th>\n",
              "      <td>MaxHR</td>\n",
              "      <td>19.690697</td>\n",
              "    </tr>\n",
              "    <tr>\n",
              "      <th>5</th>\n",
              "      <td>Oldpeak</td>\n",
              "      <td>1.849527</td>\n",
              "    </tr>\n",
              "  </tbody>\n",
              "</table>\n",
              "</div>\n",
              "      <button class=\"colab-df-convert\" onclick=\"convertToInteractive('df-5596eb69-c574-461d-92b2-42b4629b5532')\"\n",
              "              title=\"Convert this dataframe to an interactive table.\"\n",
              "              style=\"display:none;\">\n",
              "        \n",
              "  <svg xmlns=\"http://www.w3.org/2000/svg\" height=\"24px\"viewBox=\"0 0 24 24\"\n",
              "       width=\"24px\">\n",
              "    <path d=\"M0 0h24v24H0V0z\" fill=\"none\"/>\n",
              "    <path d=\"M18.56 5.44l.94 2.06.94-2.06 2.06-.94-2.06-.94-.94-2.06-.94 2.06-2.06.94zm-11 1L8.5 8.5l.94-2.06 2.06-.94-2.06-.94L8.5 2.5l-.94 2.06-2.06.94zm10 10l.94 2.06.94-2.06 2.06-.94-2.06-.94-.94-2.06-.94 2.06-2.06.94z\"/><path d=\"M17.41 7.96l-1.37-1.37c-.4-.4-.92-.59-1.43-.59-.52 0-1.04.2-1.43.59L10.3 9.45l-7.72 7.72c-.78.78-.78 2.05 0 2.83L4 21.41c.39.39.9.59 1.41.59.51 0 1.02-.2 1.41-.59l7.78-7.78 2.81-2.81c.8-.78.8-2.07 0-2.86zM5.41 20L4 18.59l7.72-7.72 1.47 1.35L5.41 20z\"/>\n",
              "  </svg>\n",
              "      </button>\n",
              "      \n",
              "  <style>\n",
              "    .colab-df-container {\n",
              "      display:flex;\n",
              "      flex-wrap:wrap;\n",
              "      gap: 12px;\n",
              "    }\n",
              "\n",
              "    .colab-df-convert {\n",
              "      background-color: #E8F0FE;\n",
              "      border: none;\n",
              "      border-radius: 50%;\n",
              "      cursor: pointer;\n",
              "      display: none;\n",
              "      fill: #1967D2;\n",
              "      height: 32px;\n",
              "      padding: 0 0 0 0;\n",
              "      width: 32px;\n",
              "    }\n",
              "\n",
              "    .colab-df-convert:hover {\n",
              "      background-color: #E2EBFA;\n",
              "      box-shadow: 0px 1px 2px rgba(60, 64, 67, 0.3), 0px 1px 3px 1px rgba(60, 64, 67, 0.15);\n",
              "      fill: #174EA6;\n",
              "    }\n",
              "\n",
              "    [theme=dark] .colab-df-convert {\n",
              "      background-color: #3B4455;\n",
              "      fill: #D2E3FC;\n",
              "    }\n",
              "\n",
              "    [theme=dark] .colab-df-convert:hover {\n",
              "      background-color: #434B5C;\n",
              "      box-shadow: 0px 1px 3px 1px rgba(0, 0, 0, 0.15);\n",
              "      filter: drop-shadow(0px 1px 2px rgba(0, 0, 0, 0.3));\n",
              "      fill: #FFFFFF;\n",
              "    }\n",
              "  </style>\n",
              "\n",
              "      <script>\n",
              "        const buttonEl =\n",
              "          document.querySelector('#df-5596eb69-c574-461d-92b2-42b4629b5532 button.colab-df-convert');\n",
              "        buttonEl.style.display =\n",
              "          google.colab.kernel.accessAllowed ? 'block' : 'none';\n",
              "\n",
              "        async function convertToInteractive(key) {\n",
              "          const element = document.querySelector('#df-5596eb69-c574-461d-92b2-42b4629b5532');\n",
              "          const dataTable =\n",
              "            await google.colab.kernel.invokeFunction('convertToInteractive',\n",
              "                                                     [key], {});\n",
              "          if (!dataTable) return;\n",
              "\n",
              "          const docLinkHtml = 'Like what you see? Visit the ' +\n",
              "            '<a target=\"_blank\" href=https://colab.research.google.com/notebooks/data_table.ipynb>data table notebook</a>'\n",
              "            + ' to learn more about interactive tables.';\n",
              "          element.innerHTML = '';\n",
              "          dataTable['output_type'] = 'display_data';\n",
              "          await google.colab.output.renderOutput(dataTable, element);\n",
              "          const docLink = document.createElement('div');\n",
              "          docLink.innerHTML = docLinkHtml;\n",
              "          element.appendChild(docLink);\n",
              "        }\n",
              "      </script>\n",
              "    </div>\n",
              "  </div>\n",
              "  "
            ]
          },
          "metadata": {},
          "execution_count": 236
        }
      ]
    },
    {
      "cell_type": "markdown",
      "source": [
        "<font color='SeaGreen'> Podemos ver acima que as variáveis 'Age', 'RestingBP' e 'MaxHR' teem alta multicolinearidade, e isso pode influenciar caso usemos modelos de regressão para criar nossos modelos."
      ],
      "metadata": {
        "id": "vnpmOE2qRoMN"
      },
      "id": "vnpmOE2qRoMN"
    },
    {
      "cell_type": "markdown",
      "source": [
        "<font color='SeaGreen'> Nesta etapa iremos realizar o encoder de nosso dataset, que nada mais é que tranformar nossas variáveis categóricas em numéricas, e em seguida o OneHotEncoder, para que sejam dividas essas varáveis (agora tranformadas) em colunas de 0 e 1."
      ],
      "metadata": {
        "id": "7Hgmnbq9SkN4"
      },
      "id": "7Hgmnbq9SkN4"
    },
    {
      "cell_type": "code",
      "source": [
        "lb = LabelEncoder()\n",
        "X.Sex = lb.fit_transform(X.Sex) \n",
        "X.ChestPainType = lb.fit_transform(X.ChestPainType)\n",
        "X.RestingECG = lb.fit_transform(X.RestingECG)\n",
        "X.ExerciseAngina = lb.fit_transform(X.ExerciseAngina) \n",
        "X.ST_Slope = lb.fit_transform(X.ST_Slope)"
      ],
      "metadata": {
        "id": "9cZGN0oDSx9Z"
      },
      "id": "9cZGN0oDSx9Z",
      "execution_count": 237,
      "outputs": []
    },
    {
      "cell_type": "code",
      "source": [
        "# podemos verificar agora que nosso dataset tem somente\n",
        "# variáveis numéricas\n",
        "X.info()"
      ],
      "metadata": {
        "colab": {
          "base_uri": "https://localhost:8080/"
        },
        "id": "qk5SRuVAS_kT",
        "outputId": "a61480a3-d019-41b2-8f25-8f1320e706c3"
      },
      "id": "qk5SRuVAS_kT",
      "execution_count": 238,
      "outputs": [
        {
          "output_type": "stream",
          "name": "stdout",
          "text": [
            "<class 'pandas.core.frame.DataFrame'>\n",
            "RangeIndex: 918 entries, 0 to 917\n",
            "Data columns (total 11 columns):\n",
            " #   Column          Non-Null Count  Dtype  \n",
            "---  ------          --------------  -----  \n",
            " 0   Age             918 non-null    int16  \n",
            " 1   Sex             918 non-null    int64  \n",
            " 2   ChestPainType   918 non-null    int64  \n",
            " 3   RestingBP       918 non-null    int16  \n",
            " 4   Cholesterol     918 non-null    int16  \n",
            " 5   FastingBS       918 non-null    int16  \n",
            " 6   RestingECG      918 non-null    int64  \n",
            " 7   MaxHR           918 non-null    int16  \n",
            " 8   ExerciseAngina  918 non-null    int64  \n",
            " 9   Oldpeak         918 non-null    float64\n",
            " 10  ST_Slope        918 non-null    int64  \n",
            "dtypes: float64(1), int16(5), int64(5)\n",
            "memory usage: 52.1 KB\n"
          ]
        }
      ]
    },
    {
      "cell_type": "code",
      "source": [
        "# podemos ver na saída abaixo que a variável 'RestingECG' agora\n",
        "# conta com os valores 0, 1 e 2.\n",
        "X.RestingECG.value_counts()"
      ],
      "metadata": {
        "colab": {
          "base_uri": "https://localhost:8080/"
        },
        "id": "ltz2ucRwUeUC",
        "outputId": "57c7f93a-8b87-44ae-cf27-bc95cabafc0e"
      },
      "id": "ltz2ucRwUeUC",
      "execution_count": 239,
      "outputs": [
        {
          "output_type": "execute_result",
          "data": {
            "text/plain": [
              "1    552\n",
              "0    188\n",
              "2    178\n",
              "Name: RestingECG, dtype: int64"
            ]
          },
          "metadata": {},
          "execution_count": 239
        }
      ]
    },
    {
      "cell_type": "code",
      "source": [
        "oneHoteEncoder = ColumnTransformer(transformers=[('OneHot', OneHotEncoder(),\n",
        "                                                  [1,2,6,8,10])],\n",
        "                                                  remainder='passthrough')"
      ],
      "metadata": {
        "id": "I04KxGNuUnnN"
      },
      "id": "I04KxGNuUnnN",
      "execution_count": 240,
      "outputs": []
    },
    {
      "cell_type": "code",
      "source": [
        "X = oneHoteEncoder.fit_transform(X)\n",
        "X.shape"
      ],
      "metadata": {
        "colab": {
          "base_uri": "https://localhost:8080/"
        },
        "id": "uD0vo44nVIv7",
        "outputId": "14ea420c-142f-4093-cb57-05000bdb468f"
      },
      "id": "uD0vo44nVIv7",
      "execution_count": 241,
      "outputs": [
        {
          "output_type": "execute_result",
          "data": {
            "text/plain": [
              "(918, 20)"
            ]
          },
          "metadata": {},
          "execution_count": 241
        }
      ]
    },
    {
      "cell_type": "markdown",
      "source": [
        "<font color='SeaGreen'> Na saída acima podemos ver que nosso dataset agora contém 21 colunas."
      ],
      "metadata": {
        "id": "M1TRwxqKVW2y"
      },
      "id": "M1TRwxqKVW2y"
    },
    {
      "cell_type": "markdown",
      "source": [
        "<font color='SeaGreen'>Dando senquência neste etapa iremos normalizar nossos dados, já que o modelo de Machine Learning trabalha melhor com dados normalizados, como podemos ver nas variáveis 'Cholesterol' e 'FastingBS' onde o valor máximo da primeira é 603 e da segunda 1, isso poderá influenciar no modelo."
      ],
      "metadata": {
        "id": "9TxzZa9DLANC"
      },
      "id": "9TxzZa9DLANC"
    },
    {
      "cell_type": "code",
      "source": [
        "# criando e ajustando o modelo escalonado\n",
        "scaler = StandardScaler().fit(X)\n",
        "X = scaler.transform(X)\n",
        "X.shape"
      ],
      "metadata": {
        "id": "0krtKkzDNR11",
        "colab": {
          "base_uri": "https://localhost:8080/"
        },
        "outputId": "c343d6dc-2347-439e-deec-92f0ab5aba16"
      },
      "execution_count": 242,
      "outputs": [
        {
          "output_type": "execute_result",
          "data": {
            "text/plain": [
              "(918, 20)"
            ]
          },
          "metadata": {},
          "execution_count": 242
        }
      ],
      "id": "0krtKkzDNR11"
    },
    {
      "cell_type": "code",
      "source": [
        "# dados normalizados\n",
        "X"
      ],
      "metadata": {
        "colab": {
          "base_uri": "https://localhost:8080/"
        },
        "id": "hhAGHELIX9TX",
        "outputId": "b9ac6e21-4525-4af7-d138-054dea0370fc"
      },
      "id": "hhAGHELIX9TX",
      "execution_count": 245,
      "outputs": [
        {
          "output_type": "execute_result",
          "data": {
            "text/plain": [
              "array([[-0.51595242,  0.51595242, -1.08413811, ..., -0.55134134,\n",
              "         1.38292822, -0.83243239],\n",
              "       [ 1.93816322, -1.93816322, -1.08413811, ..., -0.55134134,\n",
              "         0.75415714,  0.10566353],\n",
              "       [-0.51595242,  0.51595242, -1.08413811, ..., -0.55134134,\n",
              "        -1.52513802, -0.83243239],\n",
              "       ...,\n",
              "       [-0.51595242,  0.51595242,  0.9223917 , ..., -0.55134134,\n",
              "        -0.85706875,  0.29328271],\n",
              "       [ 1.93816322, -1.93816322, -1.08413811, ..., -0.55134134,\n",
              "         1.4615246 , -0.83243239],\n",
              "       [-0.51595242,  0.51595242, -1.08413811, ..., -0.55134134,\n",
              "         1.42222641, -0.83243239]])"
            ]
          },
          "metadata": {},
          "execution_count": 245
        }
      ]
    },
    {
      "cell_type": "markdown",
      "source": [
        "<font color='SeaGreen'> No código abaixo iremos dividir nosso dataset em treino e test"
      ],
      "metadata": {
        "id": "yKzzxKqDM0YK"
      },
      "id": "yKzzxKqDM0YK"
    },
    {
      "cell_type": "code",
      "source": [
        "X_train, X_test, y_train, y_test = train_test_split(X, y, test_size=0.2, random_state=42)\n",
        "X_train.shape, X_test.shape, y_train.shape, y_test.shape"
      ],
      "metadata": {
        "colab": {
          "base_uri": "https://localhost:8080/"
        },
        "id": "jYFfe3EXM7QL",
        "outputId": "3a7cfeaa-94cc-4764-fc85-a4c6a6a83e64"
      },
      "execution_count": 243,
      "outputs": [
        {
          "output_type": "execute_result",
          "data": {
            "text/plain": [
              "((734, 20), (184, 20), (734,), (184,))"
            ]
          },
          "metadata": {},
          "execution_count": 243
        }
      ],
      "id": "jYFfe3EXM7QL"
    },
    {
      "cell_type": "markdown",
      "source": [
        "<font color='SeaGreen'><h1><center> Abaixo iremos iniciar nossos treinamentos e testes de Machine Learning"
      ],
      "metadata": {
        "id": "ZdRTPhcqayVS"
      },
      "id": "ZdRTPhcqayVS"
    },
    {
      "cell_type": "markdown",
      "source": [
        "### Regressão Logística (Logistic Regression)"
      ],
      "metadata": {
        "id": "m-Vzhm7AbIfI"
      },
      "id": "m-Vzhm7AbIfI"
    },
    {
      "cell_type": "code",
      "source": [
        "def run_log_reg(X, Y, test_x, test_y):\n",
        "  \"\"\"Roda Logistic Regression\"\"\"\n",
        "  \n",
        "  kVals_log_reg = range(1000, 5500, 500)\n",
        "  accuracy = []\n",
        "\n",
        "  # criando o classificador e treinando modelo\n",
        "  # abaixo nosso código é treinado com várias iterações com as variáveis de treino\n",
        "  for k in kVals_log_reg:\n",
        "    lr = LogisticRegression(max_iter=k)\n",
        "    lr = lr.fit(X, Y)\n",
        "    \n",
        "    # realizando a predição do modelo\n",
        "    y_pred = lr.predict(test_x)\n",
        "\n",
        "    # verificando acurácia do modelo\n",
        "    accuracy_lr = accuracy_score(test_y, y_pred)\n",
        "    print(\"Com %d iterações, a acurácia do modelo é: %.2f%%\" % (k, accuracy_lr * 100))\n",
        "    accuracy.append(accuracy_lr)\n",
        "\n",
        "  # utilizando o classification report \n",
        "  print(classification_report(y_test, y_pred))\n",
        "  \n",
        "  # Obtendo o valor de k que apresentou a maior acurácia\n",
        "  i = np.argmax(accuracy)\n",
        "  \n",
        "  print(\"\\nO valor de k = %d alcançou a mais alta acurácia de %.2f%% nos dados!\" % (kVals_log_reg[i], accuracy[i] * 100))\n",
        "\n",
        "  print('\\n***********ROC CURVE***********\\n')\n",
        "  prob_lr = lr.predict_proba(X_test)[:,1]\n",
        "  fpr, tpr, limit = roc_curve(y_test, prob_lr) # define a curva ROC\n",
        "  roc_lr = roc_auc_score(y_test, prob_lr)\n",
        "  # calculo da area sobre a curva ROC\n",
        "  print(f'Curva ROC: {(round(roc_lr, 3)*10)}')\n",
        "\n",
        "  # plotando a curva ROC\n",
        "\n",
        "  plt.subplots(1, figsize=(8,8))\n",
        "  plt.title(\"Curva ROC Logistic Regression\")\n",
        "  plt.plot(fpr, tpr)\n",
        "  plt.xlabel('Especificidade')\n",
        "  plt.ylabel('Sensibilidade')\n",
        "  plt.plot([0, 1], ls= '--', c = 'red') # plotando linha guia (pontilhada)\n",
        "  plt.plot([0, 0], [1, 0], ls='-', c = 'green'), plt.plot([1, 1], ls='-', c = 'green') # linha guia superior\n",
        "  plt.show()\n",
        "\n",
        "  print('\\n***********CONFUSION MATRIX***********\\n')\n",
        "  conf_matrix = plot_confusion_matrix(lr, X_test, y_test, cmap='Greens')"
      ],
      "metadata": {
        "id": "V-8HFqpVSZdq"
      },
      "id": "V-8HFqpVSZdq",
      "execution_count": 260,
      "outputs": []
    },
    {
      "cell_type": "code",
      "source": [
        "run_log_reg(X_train, y_train, X_test, y_test)"
      ],
      "metadata": {
        "colab": {
          "base_uri": "https://localhost:8080/",
          "height": 1000
        },
        "id": "WQ0aKUZDbgk3",
        "outputId": "4f072b37-b11d-4253-92f9-d5783f478c1f"
      },
      "id": "WQ0aKUZDbgk3",
      "execution_count": 261,
      "outputs": [
        {
          "output_type": "stream",
          "name": "stdout",
          "text": [
            "Com 1000 iterações, a acurácia do modelo é: 85.33%\n",
            "Com 1500 iterações, a acurácia do modelo é: 85.33%\n",
            "Com 2000 iterações, a acurácia do modelo é: 85.33%\n",
            "Com 2500 iterações, a acurácia do modelo é: 85.33%\n",
            "Com 3000 iterações, a acurácia do modelo é: 85.33%\n",
            "Com 3500 iterações, a acurácia do modelo é: 85.33%\n",
            "Com 4000 iterações, a acurácia do modelo é: 85.33%\n",
            "Com 4500 iterações, a acurácia do modelo é: 85.33%\n",
            "Com 5000 iterações, a acurácia do modelo é: 85.33%\n",
            "              precision    recall  f1-score   support\n",
            "\n",
            "           0       0.80      0.87      0.83        77\n",
            "           1       0.90      0.84      0.87       107\n",
            "\n",
            "    accuracy                           0.85       184\n",
            "   macro avg       0.85      0.86      0.85       184\n",
            "weighted avg       0.86      0.85      0.85       184\n",
            "\n",
            "\n",
            "O valor de k = 1000 alcançou a mais alta acurácia de 85.33% nos dados!\n",
            "\n",
            "***********ROC CURVE***********\n",
            "\n",
            "Curva ROC: 9.27\n"
          ]
        },
        {
          "output_type": "display_data",
          "data": {
            "text/plain": [
              "<Figure size 576x576 with 1 Axes>"
            ],
            "image/png": "[encoded data removed]"
          },
          "metadata": {
            "needs_background": "light"
          }
        },
        {
          "output_type": "stream",
          "name": "stdout",
          "text": [
            "\n",
            "***********CONFUSION MATRIX***********\n",
            "\n"
          ]
        },
        {
          "output_type": "display_data",
          "data": {
            "text/plain": [
              "<Figure size 432x288 with 2 Axes>"
            ],
            "image/png": "[encoded data removed]"
          },
          "metadata": {
            "needs_background": "light"
          }
        }
      ]
    },
    {
      "cell_type": "code",
      "source": [
        "lr = LogisticRegression(max_iter=1000).fit(X, y)\n",
        "prediction = lr.predict(X_test)\n",
        "tam_i = []\n",
        "for i in prediction[1:]:\n",
        "  if i == 1:\n",
        "    tam_i.append(i)\n",
        "error_valid_lr = (len(tam_i))\n",
        "print(f\"No conjunto de treino X com {X_train.shape[0]}, temos {error_valid_lr} dados classificados errados\")"
      ],
      "metadata": {
        "colab": {
          "base_uri": "https://localhost:8080/"
        },
        "id": "95_4tokixhy3",
        "outputId": "a4b32b3d-ed8b-4c1e-c7bc-0009ba0214ca"
      },
      "id": "95_4tokixhy3",
      "execution_count": 266,
      "outputs": [
        {
          "output_type": "stream",
          "name": "stdout",
          "text": [
            "No conjunto de treino X com 734, temos 103 dados classificados errados\n"
          ]
        }
      ]
    },
    {
      "cell_type": "markdown",
      "source": [
        "<font color='SeaGreen'> Acima temos nossa saída para o algoritmo de Regressão Logística, podemos ver uma boa acurácia 85,33%, temos o precision e recall com ótimo índice, na curva ROC obtivemos ótimo valor também, 9.27, siginifica que nosso modelo está com bastante acerto, e por fim temos nossa matriz de confusão,o onde temos poucos falsos negativos e positivos."
      ],
      "metadata": {
        "id": "r6T87CyqwUVK"
      },
      "id": "r6T87CyqwUVK"
    },
    {
      "cell_type": "markdown",
      "source": [
        "### KNN (K-Near Neighbour) - K Vizinhos Próximos"
      ],
      "metadata": {
        "id": "-1YeLsKyxSHZ"
      },
      "id": "-1YeLsKyxSHZ"
    },
    {
      "cell_type": "code",
      "source": [
        "def run_KNN(X, Y, test_x, test_y):\n",
        "  \"\"\"Roda a KNN\"\"\"\n",
        "  \n",
        "  kVals_KNN = range(3, 11)\n",
        "  accuracy = []\n",
        "\n",
        "  # criando classificador e treinando o modelo\n",
        "  for k in kVals_KNN:\n",
        "    knn = KNeighborsClassifier(n_neighbors=k)\n",
        "    knn = knn.fit(X, Y)\n",
        "    \n",
        "    # realizando a predição do modelo\n",
        "    y_pred = knn.predict(test_x)\n",
        "\n",
        "    # verificando acurácia do modelo\n",
        "    accuracy_knn = accuracy_score(test_y, y_pred)\n",
        "    print(\"Com valor de %d, a acurácia do modelo é: %.2f%%\" % (k, accuracy_knn * 100))\n",
        "    accuracy.append(accuracy_knn)\n",
        "\n",
        "  # utilizando o classification report \n",
        "  print(classification_report(y_test, y_pred))\n",
        "  \n",
        "  # Obtendo o valor de k que apresentou a maior acurácia\n",
        "  i = np.argmax(accuracy)\n",
        "  \n",
        "  print(\"\\nO valor de k = %d alcançou a mais alta acurácia de %.2f%% nos dados!\" % (kVals_KNN[i], accuracy[i] * 100))\n",
        "\n",
        "  print('\\n***********ROC CURVE***********\\n')\n",
        "  prob_knn = knn.predict_proba(X_test)[:,1]\n",
        "  fpr, tpr, limit = roc_curve(y_test, prob_knn) # define a curva ROC\n",
        "  roc_knn = roc_auc_score(y_test, prob_knn)\n",
        "  # calculo da area sobre a curva ROC\n",
        "  print(f'Curva ROC: {(round(roc_knn, 3)*10)}')\n",
        "\n",
        "  # plotando a curva ROC\n",
        "\n",
        "  plt.subplots(1, figsize=(8,8))\n",
        "  plt.title(\"Curva ROC KNN\")\n",
        "  plt.plot(fpr, tpr)\n",
        "  plt.xlabel('Especificidade')\n",
        "  plt.ylabel('Sensibilidade')\n",
        "  plt.plot([0, 1], ls= '--', c = 'red') # plotando linha guia (pontilhada)\n",
        "  plt.plot([0, 0], [1, 0], ls='-', c = 'green'), plt.plot([1, 1], ls='-', c = 'green') # linha guia superior\n",
        "  plt.show()\n",
        "\n",
        "  print('\\n***********CONFUSION MATRIX***********\\n')\n",
        "  conf_matrix = plot_confusion_matrix(knn, X_test, y_test, cmap='Greens')"
      ],
      "metadata": {
        "id": "DartU-ATxvGI"
      },
      "id": "DartU-ATxvGI",
      "execution_count": 254,
      "outputs": []
    },
    {
      "cell_type": "code",
      "source": [
        "run_KNN(X_train, y_train, X_test, y_test)"
      ],
      "metadata": {
        "colab": {
          "base_uri": "https://localhost:8080/",
          "height": 1000
        },
        "id": "kBRzRaALx37t",
        "outputId": "cb194d68-3de7-47bd-b57b-c10a56fa5409"
      },
      "id": "kBRzRaALx37t",
      "execution_count": 262,
      "outputs": [
        {
          "output_type": "stream",
          "name": "stdout",
          "text": [
            "Com valor de 3, a acurácia do modelo é: 82.61%\n",
            "Com valor de 4, a acurácia do modelo é: 82.07%\n",
            "Com valor de 5, a acurácia do modelo é: 86.41%\n",
            "Com valor de 6, a acurácia do modelo é: 84.78%\n",
            "Com valor de 7, a acurácia do modelo é: 86.41%\n",
            "Com valor de 8, a acurácia do modelo é: 85.87%\n",
            "Com valor de 9, a acurácia do modelo é: 86.41%\n",
            "Com valor de 10, a acurácia do modelo é: 85.33%\n",
            "              precision    recall  f1-score   support\n",
            "\n",
            "           0       0.80      0.87      0.83        77\n",
            "           1       0.90      0.84      0.87       107\n",
            "\n",
            "    accuracy                           0.85       184\n",
            "   macro avg       0.85      0.86      0.85       184\n",
            "weighted avg       0.86      0.85      0.85       184\n",
            "\n",
            "\n",
            "O valor de k = 5 alcançou a mais alta acurácia de 86.41% nos dados!\n",
            "\n",
            "***********ROC CURVE***********\n",
            "\n",
            "Curva ROC: 9.23\n"
          ]
        },
        {
          "output_type": "display_data",
          "data": {
            "text/plain": [
              "<Figure size 576x576 with 1 Axes>"
            ],
            "image/png": "[encoded data removed]"
          },
          "metadata": {
            "needs_background": "light"
          }
        },
        {
          "output_type": "stream",
          "name": "stdout",
          "text": [
            "\n",
            "***********CONFUSION MATRIX***********\n",
            "\n"
          ]
        },
        {
          "output_type": "display_data",
          "data": {
            "text/plain": [
              "<Figure size 432x288 with 2 Axes>"
            ],
            "image/png": "[encoded data removed]"
          },
          "metadata": {
            "needs_background": "light"
          }
        }
      ]
    },
    {
      "cell_type": "code",
      "source": [
        "knn = KNeighborsClassifier(n_neighbors=5).fit(X, y)\n",
        "prediction = knn.predict(X_test)\n",
        "tam_i = []\n",
        "for i in prediction[1:]:\n",
        "  if i == 1:\n",
        "    tam_i.append(i)\n",
        "error_valid_lr = (len(tam_i))\n",
        "print(f\"No conjunto de treino X com {X_train.shape[0]}, temos {error_valid_lr} dados classificados errados\")"
      ],
      "metadata": {
        "colab": {
          "base_uri": "https://localhost:8080/"
        },
        "id": "jyR513CP0jef",
        "outputId": "4b87899e-af44-413c-912c-0f3f6921314e"
      },
      "id": "jyR513CP0jef",
      "execution_count": 268,
      "outputs": [
        {
          "output_type": "stream",
          "name": "stdout",
          "text": [
            "No conjunto de treino X com 734, temos 101 dados classificados errados\n"
          ]
        }
      ]
    },
    {
      "cell_type": "markdown",
      "source": [
        "<font color='SeaGreen'> Neste temos nossa saída para o algoritmo KNN, podemos ver uma boa acurácia com k=5 86,41%, temos o precision e recall com ótimo índice, melhores que mais alinhados que o treino e teste anterior, na curva ROC obtivemos ótimo valor também, 9.23, siginifica que nosso modelo está com bastante acerto, e por fim temos nossa matriz de confusão,o onde temos poucos falsos negativos e positivos."
      ],
      "metadata": {
        "id": "bLBt1Hi_yxBl"
      },
      "id": "bLBt1Hi_yxBl"
    },
    {
      "cell_type": "markdown",
      "source": [
        "### Floresta Aleatória (Random Forest)"
      ],
      "metadata": {
        "id": "mZkxzCChzRrA"
      },
      "id": "mZkxzCChzRrA"
    },
    {
      "cell_type": "code",
      "source": [
        "def run_random_forest(X, Y, test_x, test_y):\n",
        "  \"\"\"Roda a Random Forest\"\"\"\n",
        "  \n",
        "  kVals_random = range(100, 501, 100)\n",
        "  accuracy = []\n",
        "\n",
        "  # criando classificador e treinando o modelo\n",
        "  for k in kVals_random:\n",
        "    clf = RandomForestClassifier(max_depth=k,\n",
        "                                 max_features=5,\n",
        "                                 criterion='gini', \n",
        "                                 min_samples_leaf=1,\n",
        "                                 min_samples_split=2)\n",
        "    clf = clf.fit(X, Y)\n",
        "    \n",
        "    # realizando a predição do modelo\n",
        "    y_pred = clf.predict(test_x)\n",
        "\n",
        "    # verificando acurácia do modelo\n",
        "    accuracy_dec_tree = clf.score(test_x, test_y)\n",
        "    print(\"Com valor de %d, a acurácia do modelo é: %.2f%%\" % (k, accuracy_dec_tree * 100))\n",
        "    accuracy.append(accuracy_dec_tree)\n",
        "\n",
        "    # prediction\n",
        "    y_pred = clf.predict(test_x)\n",
        "  \n",
        "  # Obtendo o valor de k que apresentou a maior acurácia\n",
        "  i = np.argmax(accuracy)\n",
        "  print(\"\\nO valor de k = %d alcançou a mais alta acurácia de %.2f%% nos dados!\\n\" % (kVals_random[i], accuracy[i] * 100))\n",
        "  \n",
        "  # utilizando o classification report \n",
        "  print(classification_report(y_test, y_pred))\n",
        "\n",
        "  print('\\n***********ROC CURVE***********\\n')\n",
        "  prob_clf = clf.predict_proba(X_test)[:,1]\n",
        "  fpr, tpr, limit = roc_curve(y_test, prob_clf) # define a curva ROC\n",
        "  roc_clf = roc_auc_score(y_test, prob_clf)\n",
        "  # calculo da area sobre a curva ROC\n",
        "  print(f'Curva ROC: {(round(roc_clf, 3)*10)}')\n",
        "\n",
        "  # plotando a curva ROC\n",
        "\n",
        "  plt.subplots(1, figsize=(8,8))\n",
        "  plt.title(\"Curva ROC Random Forest\")\n",
        "  plt.plot(fpr, tpr)\n",
        "  plt.xlabel('Especificidade')\n",
        "  plt.ylabel('Sensibilidade')\n",
        "  plt.plot([0, 1], ls= '--', c = 'red') # plotando linha guia (pontilhada)\n",
        "  plt.plot([0, 0], [1, 0], ls='-', c = 'green'), plt.plot([1, 1], ls='-', c = 'green') # linha guia superior\n",
        "  plt.show()\n",
        "\n",
        "  print('\\n***********CONFUSION MATRIX***********\\n')\n",
        "  conf_matrix = plot_confusion_matrix(clf, X_test, y_test, cmap='Reds')"
      ],
      "metadata": {
        "id": "r3GTwaPayv-C"
      },
      "id": "r3GTwaPayv-C",
      "execution_count": 264,
      "outputs": []
    },
    {
      "cell_type": "code",
      "source": [
        "run_random_forest(X_train, y_train, X_test, y_test)"
      ],
      "metadata": {
        "colab": {
          "base_uri": "https://localhost:8080/",
          "height": 1000
        },
        "id": "Z2gdpLjOzdzW",
        "outputId": "c2db3127-e2c8-4dae-f633-fd6d7bc25b6c"
      },
      "id": "Z2gdpLjOzdzW",
      "execution_count": 265,
      "outputs": [
        {
          "output_type": "stream",
          "name": "stdout",
          "text": [
            "Com valor de 100, a acurácia do modelo é: 87.50%\n",
            "Com valor de 200, a acurácia do modelo é: 88.04%\n",
            "Com valor de 300, a acurácia do modelo é: 86.96%\n",
            "Com valor de 400, a acurácia do modelo é: 88.04%\n",
            "Com valor de 500, a acurácia do modelo é: 86.96%\n",
            "\n",
            "O valor de k = 200 alcançou a mais alta acurácia de 88.04% nos dados!\n",
            "\n",
            "              precision    recall  f1-score   support\n",
            "\n",
            "           0       0.83      0.87      0.85        77\n",
            "           1       0.90      0.87      0.89       107\n",
            "\n",
            "    accuracy                           0.87       184\n",
            "   macro avg       0.87      0.87      0.87       184\n",
            "weighted avg       0.87      0.87      0.87       184\n",
            "\n",
            "\n",
            "***********ROC CURVE***********\n",
            "\n",
            "Curva ROC: 9.41\n"
          ]
        },
        {
          "output_type": "display_data",
          "data": {
            "text/plain": [
              "<Figure size 576x576 with 1 Axes>"
            ],
            "image/png": "[encoded data removed]"
          },
          "metadata": {
            "needs_background": "light"
          }
        },
        {
          "output_type": "stream",
          "name": "stdout",
          "text": [
            "\n",
            "***********CONFUSION MATRIX***********\n",
            "\n"
          ]
        },
        {
          "output_type": "display_data",
          "data": {
            "text/plain": [
              "<Figure size 432x288 with 2 Axes>"
            ],
            "image/png": "[encoded data removed]"
          },
          "metadata": {
            "needs_background": "light"
          }
        }
      ]
    },
    {
      "cell_type": "code",
      "source": [
        "clf = RandomForestClassifier(max_depth=200, max_features=5, criterion='gini', \n",
        "                             min_samples_leaf=1, min_samples_split=2).fit(X, y)\n",
        "prediction = clf.predict(X_test)\n",
        "tam_i = []\n",
        "for i in prediction[1:]:\n",
        "  if i == 1:\n",
        "    tam_i.append(i)\n",
        "error_valid_lr = (len(tam_i))\n",
        "print(f\"No conjunto de treino X com {X_train.shape[0]}, temos {error_valid_lr} dados classificados errados\")"
      ],
      "metadata": {
        "colab": {
          "base_uri": "https://localhost:8080/"
        },
        "id": "GoABY0_b0yNr",
        "outputId": "9fda00ca-b6cc-41ac-855e-d0c92338d3a4"
      },
      "id": "GoABY0_b0yNr",
      "execution_count": 270,
      "outputs": [
        {
          "output_type": "stream",
          "name": "stdout",
          "text": [
            "No conjunto de treino X com 734, temos 107 dados classificados errados\n"
          ]
        }
      ]
    },
    {
      "cell_type": "markdown",
      "source": [
        "<font color='SeaGreen'> Com este último algoritmo obtivemos resultados um pouco melhores, porém ainda podemos realizar algumas alterações em nosso dataset para chegarmos a valores de acurácia melhores"
      ],
      "metadata": {
        "id": "x-cKv0v8zz7-"
      },
      "id": "x-cKv0v8zz7-"
    },
    {
      "cell_type": "markdown",
      "source": [
        "<font color='SeaGreen'> Para buscarmos um algoritmo de Floresta Aleatória mais eficaz, abaixo iremos rodar um algoritmo de 'tunning' que nos mostrará os melhores parâmetros para nosso dataset, apesar de ser uma boa técnica, ela pode ser custosa computacionalmente, como nosso dataset é pequeno podemos realizar este teste"
      ],
      "metadata": {
        "id": "bQhdSzTt7Eo2"
      },
      "id": "bQhdSzTt7Eo2"
    },
    {
      "cell_type": "markdown",
      "id": "d048d4df",
      "metadata": {
        "id": "d048d4df"
      },
      "source": [
        "___________"
      ]
    },
    {
      "cell_type": "code",
      "source": [
        "from sklearn.model_selection import GridSearchCV\n",
        "param_grid = { \n",
        "    'n_estimators': [200, 500],\n",
        "    'max_features': ['auto', 'sqrt', 'log2'],\n",
        "    'max_depth' : [4,5,6,7,8],\n",
        "    'criterion' :['gini', 'entropy']\n",
        "}"
      ],
      "metadata": {
        "id": "SZC8DbXA3os0"
      },
      "id": "SZC8DbXA3os0",
      "execution_count": 313,
      "outputs": []
    },
    {
      "cell_type": "code",
      "source": [
        "random_grid = RandomForestClassifier(random_state=42)\n",
        "rgcv = GridSearchCV(estimator=random_grid, param_grid=param_grid, cv= 5).fit(X_train, y_train)"
      ],
      "metadata": {
        "id": "cwqyTENU6pM6"
      },
      "id": "cwqyTENU6pM6",
      "execution_count": 317,
      "outputs": []
    },
    {
      "cell_type": "code",
      "source": [
        "rgcv.best_params_"
      ],
      "metadata": {
        "colab": {
          "base_uri": "https://localhost:8080/"
        },
        "id": "gxmNToNB67g_",
        "outputId": "efef84d6-70c0-4a8d-b05d-318c2945f1bf"
      },
      "id": "gxmNToNB67g_",
      "execution_count": 318,
      "outputs": [
        {
          "output_type": "execute_result",
          "data": {
            "text/plain": [
              "{'criterion': 'gini',\n",
              " 'max_depth': 7,\n",
              " 'max_features': 'auto',\n",
              " 'n_estimators': 500}"
            ]
          },
          "metadata": {},
          "execution_count": 318
        }
      ]
    },
    {
      "cell_type": "code",
      "source": [
        "random_tuning = RandomForestClassifier(random_state=42, max_features='auto',\n",
        "                                       n_estimators= 200, max_depth=8,\n",
        "                                       criterion='gini').fit(X_train, y_train)"
      ],
      "metadata": {
        "id": "EtWGe3YB7AQH"
      },
      "id": "EtWGe3YB7AQH",
      "execution_count": 320,
      "outputs": []
    },
    {
      "cell_type": "code",
      "source": [
        "y_pred = random_tuning.predict(X_test)\n",
        "print(f\"Acurácia para Random Forest Grid: {accuracy_score(y_test, y_pred)*100}%\")"
      ],
      "metadata": {
        "colab": {
          "base_uri": "https://localhost:8080/"
        },
        "id": "aF1zZhKJ-slQ",
        "outputId": "de6804ef-ec2a-4550-e14a-8e31b35560a9"
      },
      "id": "aF1zZhKJ-slQ",
      "execution_count": 323,
      "outputs": [
        {
          "output_type": "stream",
          "name": "stdout",
          "text": [
            "Acurácia para Random Forest Grid: 89.2%\n"
          ]
        }
      ]
    },
    {
      "cell_type": "code",
      "source": [
        "print(classification_report(y_test, y_pred))"
      ],
      "metadata": {
        "colab": {
          "base_uri": "https://localhost:8080/"
        },
        "id": "BinT4Wd8_CyA",
        "outputId": "7afaa28b-1146-475e-c13e-bc71f541848f"
      },
      "id": "BinT4Wd8_CyA",
      "execution_count": 324,
      "outputs": [
        {
          "output_type": "stream",
          "name": "stdout",
          "text": [
            "              precision    recall  f1-score   support\n",
            "\n",
            "           0       0.90      0.88      0.89       125\n",
            "           1       0.88      0.90      0.89       125\n",
            "\n",
            "    accuracy                           0.89       250\n",
            "   macro avg       0.89      0.89      0.89       250\n",
            "weighted avg       0.89      0.89      0.89       250\n",
            "\n"
          ]
        }
      ]
    },
    {
      "cell_type": "code",
      "source": [
        "print('\\n***********ROC CURVE***********\\n')\n",
        "prob = random_tuning.predict_proba(X_test)[:,1]\n",
        "fpr, tpr, limit = roc_curve(y_test, prob) # define a curva ROC\n",
        "roc_clf = roc_auc_score(y_test, prob)\n",
        "# calculo da area sobre a curva ROC\n",
        "print(f'Curva ROC: {(round(roc_clf, 3)*10)}')"
      ],
      "metadata": {
        "colab": {
          "base_uri": "https://localhost:8080/"
        },
        "id": "kUPryKcB_VnO",
        "outputId": "3aba132e-dd7a-439f-c045-e2047405bcda"
      },
      "id": "kUPryKcB_VnO",
      "execution_count": 326,
      "outputs": [
        {
          "output_type": "stream",
          "name": "stdout",
          "text": [
            "\n",
            "***********ROC CURVE***********\n",
            "\n",
            "Curva ROC: 9.559999999999999\n"
          ]
        }
      ]
    },
    {
      "cell_type": "code",
      "source": [
        "# plotando a curva ROC\n",
        "plt.subplots(1, figsize=(8,8))\n",
        "plt.title(\"Curva ROC Random Forest\")\n",
        "plt.plot(fpr, tpr)\n",
        "plt.xlabel('Especificidade')\n",
        "plt.ylabel('Sensibilidade')\n",
        "plt.plot([0, 1], ls= '--', c = 'red') # plotando linha guia (pontilhada)\n",
        "plt.plot([0, 0], [1, 0], ls='-', c = 'green'), plt.plot([1, 1], ls='-', c = 'green') # linha guia superior\n",
        "plt.show()"
      ],
      "metadata": {
        "colab": {
          "base_uri": "https://localhost:8080/",
          "height": 513
        },
        "id": "r5x3PjZb_aoG",
        "outputId": "ea42dd01-7dce-4a49-d7bf-68b86c35f90f"
      },
      "id": "r5x3PjZb_aoG",
      "execution_count": 327,
      "outputs": [
        {
          "output_type": "display_data",
          "data": {
            "text/plain": [
              "<Figure size 576x576 with 1 Axes>"
            ],
            "image/png": "[encoded data removed]"
          },
          "metadata": {
            "needs_background": "light"
          }
        }
      ]
    },
    {
      "cell_type": "code",
      "source": [
        "print('\\n***********CONFUSION MATRIX***********\\n')\n",
        "conf_matrix = plot_confusion_matrix(random_tuning, X_test, y_test, cmap='Reds')"
      ],
      "metadata": {
        "colab": {
          "base_uri": "https://localhost:8080/",
          "height": 331
        },
        "id": "_y-oCzPb_tZd",
        "outputId": "c324d499-4716-4889-d689-72e34cabb7bf"
      },
      "id": "_y-oCzPb_tZd",
      "execution_count": 328,
      "outputs": [
        {
          "output_type": "stream",
          "name": "stdout",
          "text": [
            "\n",
            "***********CONFUSION MATRIX***********\n",
            "\n"
          ]
        },
        {
          "output_type": "display_data",
          "data": {
            "text/plain": [
              "<Figure size 432x288 with 2 Axes>"
            ],
            "image/png": "[encoded data removed]"
          },
          "metadata": {
            "needs_background": "light"
          }
        }
      ]
    },
    {
      "cell_type": "markdown",
      "source": [
        "<font color='SeaGreen'> Podemos ver que com o 'tuning' conseguimos melhorar nosso modelo, na sequencia iremos realizar a validação"
      ],
      "metadata": {
        "id": "BVJtgahG_3wa"
      },
      "id": "BVJtgahG_3wa"
    },
    {
      "cell_type": "code",
      "source": [],
      "metadata": {
        "id": "di5eQuBD_16M"
      },
      "id": "di5eQuBD_16M",
      "execution_count": null,
      "outputs": []
    }
  ],
  "metadata": {
    "kernelspec": {
      "display_name": "Python 3 (ipykernel)",
      "language": "python",
      "name": "python3"
    },
    "language_info": {
      "codemirror_mode": {
        "name": "ipython",
        "version": 3
      },
      "file_extension": ".py",
      "mimetype": "text/x-python",
      "name": "python",
      "nbconvert_exporter": "python",
      "pygments_lexer": "ipython3",
      "version": "3.10.5"
    },
    "colab": {
      "provenance": [],
      "collapsed_sections": [],
      "include_colab_link": true
    }
  },
  "nbformat": 4,
  "nbformat_minor": 5
}