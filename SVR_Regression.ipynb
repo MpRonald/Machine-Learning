{
  "nbformat": 4,
  "nbformat_minor": 0,
  "metadata": {
    "colab": {
      "name": "SVR_Regression.ipynb",
      "provenance": [],
      "collapsed_sections": [],
      "mount_file_id": "1ESsB7sQzyFpTxeYt8eYNAA-oDo-6buHx",
      "authorship_tag": "ABX9TyMmiLxb9jQollc9jIl/DEdy",
      "include_colab_link": true
    },
    "kernelspec": {
      "name": "python3",
      "display_name": "Python 3"
    },
    "language_info": {
      "name": "python"
    }
  },
  "cells": [
    {
      "cell_type": "markdown",
      "metadata": {
        "id": "view-in-github",
        "colab_type": "text"
      },
      "source": [
        "<a href=\"https://colab.research.google.com/github/MpRonald/Machine-Learning/blob/main/SVR_Regression.ipynb\" target=\"_parent\"><img src=\"https://colab.research.google.com/assets/colab-badge.svg\" alt=\"Open In Colab\"/></a>"
      ]
    },
    {
      "cell_type": "code",
      "execution_count": 1,
      "metadata": {
        "id": "yEIsM_VMVYY9"
      },
      "outputs": [],
      "source": [
        "import pandas as pd\n",
        "import numpy as np\n",
        "\n",
        "from sklearn.model_selection import train_test_split\n",
        "from sklearn.preprocessing import StandardScaler\n",
        "from sklearn.svm import SVR\n",
        "from sklearn.metrics import mean_absolute_error"
      ]
    },
    {
      "cell_type": "code",
      "source": [
        "house = pd.read_csv('https://raw.githubusercontent.com/MpRonald/datasets/main/house_prices.csv')"
      ],
      "metadata": {
        "id": "TaGlbSN5Vqhy"
      },
      "execution_count": 2,
      "outputs": []
    },
    {
      "cell_type": "code",
      "source": [
        "X_houses = house.iloc[:,3:19].values\n",
        "X_houses"
      ],
      "metadata": {
        "colab": {
          "base_uri": "https://localhost:8080/"
        },
        "id": "zgFl87-JmuKm",
        "outputId": "1a19f06f-2c1f-4884-8827-ac6de7e6ebb5"
      },
      "execution_count": 3,
      "outputs": [
        {
          "output_type": "execute_result",
          "data": {
            "text/plain": [
              "array([[ 3.00000e+00,  1.00000e+00,  1.18000e+03, ...,  9.81780e+04,\n",
              "         4.75112e+01, -1.22257e+02],\n",
              "       [ 3.00000e+00,  2.25000e+00,  2.57000e+03, ...,  9.81250e+04,\n",
              "         4.77210e+01, -1.22319e+02],\n",
              "       [ 2.00000e+00,  1.00000e+00,  7.70000e+02, ...,  9.80280e+04,\n",
              "         4.77379e+01, -1.22233e+02],\n",
              "       ...,\n",
              "       [ 2.00000e+00,  7.50000e-01,  1.02000e+03, ...,  9.81440e+04,\n",
              "         4.75944e+01, -1.22299e+02],\n",
              "       [ 3.00000e+00,  2.50000e+00,  1.60000e+03, ...,  9.80270e+04,\n",
              "         4.75345e+01, -1.22069e+02],\n",
              "       [ 2.00000e+00,  7.50000e-01,  1.02000e+03, ...,  9.81440e+04,\n",
              "         4.75941e+01, -1.22299e+02]])"
            ]
          },
          "metadata": {},
          "execution_count": 3
        }
      ]
    },
    {
      "cell_type": "code",
      "source": [
        "y_houses = house.iloc[:,2].values\n",
        "y_houses"
      ],
      "metadata": {
        "colab": {
          "base_uri": "https://localhost:8080/"
        },
        "id": "Q7EdWx9FnrY0",
        "outputId": "a53ead33-e618-4a2c-e1cd-feca6443cabc"
      },
      "execution_count": 4,
      "outputs": [
        {
          "output_type": "execute_result",
          "data": {
            "text/plain": [
              "array([221900., 538000., 180000., ..., 402101., 400000., 325000.])"
            ]
          },
          "metadata": {},
          "execution_count": 4
        }
      ]
    },
    {
      "cell_type": "code",
      "source": [
        "X_house_train, X_house_test, y_house_train, y_house_test = \\\n",
        "train_test_split(X_houses, y_houses, test_size=0.2, random_state=0)"
      ],
      "metadata": {
        "id": "vaxXsS1Zn75N"
      },
      "execution_count": 5,
      "outputs": []
    },
    {
      "cell_type": "code",
      "source": [
        "X_house_train.shape, y_house_train.shape"
      ],
      "metadata": {
        "colab": {
          "base_uri": "https://localhost:8080/"
        },
        "id": "m4ZJc0IZouOF",
        "outputId": "1ca0e34d-4ae5-480f-a9aa-c1c698d67271"
      },
      "execution_count": 6,
      "outputs": [
        {
          "output_type": "execute_result",
          "data": {
            "text/plain": [
              "((17290, 16), (17290,))"
            ]
          },
          "metadata": {},
          "execution_count": 6
        }
      ]
    },
    {
      "cell_type": "code",
      "source": [
        "X_house_test.shape, y_house_test.shape"
      ],
      "metadata": {
        "colab": {
          "base_uri": "https://localhost:8080/"
        },
        "id": "WH0KHseio4s8",
        "outputId": "ba7a6c44-62fc-40f7-878d-eda368f9c71f"
      },
      "execution_count": 7,
      "outputs": [
        {
          "output_type": "execute_result",
          "data": {
            "text/plain": [
              "((4323, 16), (4323,))"
            ]
          },
          "metadata": {},
          "execution_count": 7
        }
      ]
    },
    {
      "cell_type": "code",
      "source": [
        "std_X = StandardScaler()\n",
        "std_y = StandardScaler()\n",
        "X_train_scaled = std_X.fit_transform(X_house_train)\n",
        "y_train_scaled = std_y.fit_transform(y_house_train.reshape(-1,1))"
      ],
      "metadata": {
        "id": "MrrDjF_8gx0O"
      },
      "execution_count": 8,
      "outputs": []
    },
    {
      "cell_type": "code",
      "source": [
        "X_test_scaled = std_X.transform(X_house_test)\n",
        "y_test_scaled = std_y.transform(y_house_test.reshape(-1,1))"
      ],
      "metadata": {
        "id": "cqh4Mxd6jXob"
      },
      "execution_count": 9,
      "outputs": []
    },
    {
      "cell_type": "code",
      "source": [
        "X_train_scaled.shape, y_train_scaled.shape"
      ],
      "metadata": {
        "colab": {
          "base_uri": "https://localhost:8080/"
        },
        "id": "BvfjYK3igxpo",
        "outputId": "02b9d29d-1e7c-4535-ea91-64432c3ec3d4"
      },
      "execution_count": 10,
      "outputs": [
        {
          "output_type": "execute_result",
          "data": {
            "text/plain": [
              "((17290, 16), (17290, 1))"
            ]
          },
          "metadata": {},
          "execution_count": 10
        }
      ]
    },
    {
      "cell_type": "code",
      "source": [
        "X_test_scaled.shape, y_test_scaled.shape"
      ],
      "metadata": {
        "colab": {
          "base_uri": "https://localhost:8080/"
        },
        "id": "hxhXNYZVgxhT",
        "outputId": "311fa19c-a1e3-47fc-ebd3-b1685c7ad70a"
      },
      "execution_count": 11,
      "outputs": [
        {
          "output_type": "execute_result",
          "data": {
            "text/plain": [
              "((4323, 16), (4323, 1))"
            ]
          },
          "metadata": {},
          "execution_count": 11
        }
      ]
    },
    {
      "cell_type": "code",
      "source": [
        "reg_srv = SVR(kernel='rbf').fit(X_train_scaled, y_train_scaled)"
      ],
      "metadata": {
        "id": "Cwaq-Cg2Y-lU",
        "colab": {
          "base_uri": "https://localhost:8080/"
        },
        "outputId": "bd9747a9-61e4-4629-940e-96801a023e7b"
      },
      "execution_count": 12,
      "outputs": [
        {
          "output_type": "stream",
          "name": "stderr",
          "text": [
            "/usr/local/lib/python3.7/dist-packages/sklearn/utils/validation.py:993: DataConversionWarning: A column-vector y was passed when a 1d array was expected. Please change the shape of y to (n_samples, ), for example using ravel().\n",
            "  y = column_or_1d(y, warn=True)\n"
          ]
        }
      ]
    },
    {
      "cell_type": "code",
      "source": [
        "reg_srv.score(X_train_scaled, y_train_scaled)"
      ],
      "metadata": {
        "colab": {
          "base_uri": "https://localhost:8080/"
        },
        "id": "q0jCyN5xlF-n",
        "outputId": "475c27ac-0482-4711-e691-0b96a10a26b8"
      },
      "execution_count": 13,
      "outputs": [
        {
          "output_type": "execute_result",
          "data": {
            "text/plain": [
              "0.8022023251592605"
            ]
          },
          "metadata": {},
          "execution_count": 13
        }
      ]
    },
    {
      "cell_type": "code",
      "source": [
        "reg_srv.score(X_test_scaled, y_test_scaled)"
      ],
      "metadata": {
        "colab": {
          "base_uri": "https://localhost:8080/"
        },
        "id": "U4zLq9tplSBK",
        "outputId": "8409eb71-410d-4e74-92b9-173af9f16460"
      },
      "execution_count": 14,
      "outputs": [
        {
          "output_type": "execute_result",
          "data": {
            "text/plain": [
              "0.7970270608704864"
            ]
          },
          "metadata": {},
          "execution_count": 14
        }
      ]
    },
    {
      "cell_type": "code",
      "source": [
        "svr_pred = reg_srv.predict(X_test_scaled)\n",
        "svr_pred"
      ],
      "metadata": {
        "colab": {
          "base_uri": "https://localhost:8080/"
        },
        "id": "KJ9vNpkXlR2j",
        "outputId": "d4aad79d-8423-4ee4-f0cf-fb01e79405b9"
      },
      "execution_count": 17,
      "outputs": [
        {
          "output_type": "execute_result",
          "data": {
            "text/plain": [
              "array([-0.52568937,  3.3788823 ,  0.04597442, ..., -0.37777563,\n",
              "       -0.72723365, -0.16014809])"
            ]
          },
          "metadata": {},
          "execution_count": 17
        }
      ]
    },
    {
      "cell_type": "code",
      "source": [
        "y_test_inverse = std_y.inverse_transform(y_test_scaled)"
      ],
      "metadata": {
        "id": "gWd8oq7MmoVc"
      },
      "execution_count": 18,
      "outputs": []
    },
    {
      "cell_type": "code",
      "source": [
        "pred_inverse = std_y.inverse_transform(svr_pred.reshape(-1,1))"
      ],
      "metadata": {
        "id": "BMquOTdjoUIJ"
      },
      "execution_count": 20,
      "outputs": []
    },
    {
      "cell_type": "code",
      "source": [
        "mean_absolute_error(y_test_inverse, pred_inverse)"
      ],
      "metadata": {
        "colab": {
          "base_uri": "https://localhost:8080/"
        },
        "id": "EQh7Rj08mzMG",
        "outputId": "eaf8b089-9b50-4fe2-a8fe-98b4c5d934a7"
      },
      "execution_count": 21,
      "outputs": [
        {
          "output_type": "execute_result",
          "data": {
            "text/plain": [
              "78067.00599904536"
            ]
          },
          "metadata": {},
          "execution_count": 21
        }
      ]
    },
    {
      "cell_type": "markdown",
      "source": [
        "# END"
      ],
      "metadata": {
        "id": "n7YOTUggcR5N"
      }
    }
  ]
}