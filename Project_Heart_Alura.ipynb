{
  "nbformat": 4,
  "nbformat_minor": 0,
  "metadata": {
    "colab": {
      "name": "Project_Heart_Alura.ipynb",
      "provenance": [],
      "collapsed_sections": [],
      "mount_file_id": "1ziHkA85As23ZwgZd2dQbVangDO4wyWZq",
      "authorship_tag": "ABX9TyMBJUBNVFTytldxxoRblpzd",
      "include_colab_link": true
    },
    "kernelspec": {
      "name": "python3",
      "display_name": "Python 3"
    },
    "language_info": {
      "name": "python"
    }
  },
  "cells": [
    {
      "cell_type": "markdown",
      "metadata": {
        "id": "view-in-github",
        "colab_type": "text"
      },
      "source": [
        "<a href=\"https://colab.research.google.com/github/MpRonald/Machine-Learning/blob/main/Project_Heart_Alura.ipynb\" target=\"_parent\"><img src=\"https://colab.research.google.com/assets/colab-badge.svg\" alt=\"Open In Colab\"/></a>"
      ]
    },
    {
      "cell_type": "code",
      "source": [
        "from google.colab import drive\n",
        "drive.mount('/content/drive')"
      ],
      "metadata": {
        "colab": {
          "base_uri": "https://localhost:8080/"
        },
        "id": "dltw1n94TVmr",
        "outputId": "06788949-e20b-488f-94b9-e776b36e9b73"
      },
      "execution_count": 1,
      "outputs": [
        {
          "output_type": "stream",
          "name": "stdout",
          "text": [
            "Drive already mounted at /content/drive; to attempt to forcibly remount, call drive.mount(\"/content/drive\", force_remount=True).\n"
          ]
        }
      ]
    },
    {
      "cell_type": "code",
      "execution_count": 2,
      "metadata": {
        "id": "oGhPABxsBVBS",
        "colab": {
          "base_uri": "https://localhost:8080/"
        },
        "outputId": "46ef9821-082b-4a29-b0a2-c63736057bce"
      },
      "outputs": [
        {
          "output_type": "stream",
          "name": "stdout",
          "text": [
            "\u001b[?25l\r\u001b[K     |███████▉                        | 10 kB 23.8 MB/s eta 0:00:01\r\u001b[K     |███████████████▊                | 20 kB 23.5 MB/s eta 0:00:01\r\u001b[K     |███████████████████████▌        | 30 kB 29.9 MB/s eta 0:00:01\r\u001b[K     |███████████████████████████████▍| 40 kB 20.5 MB/s eta 0:00:01\r\u001b[K     |████████████████████████████████| 41 kB 533 kB/s \n",
            "\u001b[?25h  Building wheel for ads (setup.py) ... \u001b[?25l\u001b[?25hdone\n",
            "  Building wheel for httpretty (setup.py) ... \u001b[?25l\u001b[?25hdone\n"
          ]
        }
      ],
      "source": [
        "!pip install -q ads"
      ]
    },
    {
      "cell_type": "code",
      "source": [
        "import ads\n",
        "ads.__version__"
      ],
      "metadata": {
        "colab": {
          "base_uri": "https://localhost:8080/",
          "height": 35
        },
        "id": "cjs7PMFKBhhL",
        "outputId": "801afbd2-e8bd-4bc0-9b3d-2ae02d707b87"
      },
      "execution_count": 3,
      "outputs": [
        {
          "output_type": "execute_result",
          "data": {
            "text/plain": [
              "'0.12.3'"
            ],
            "application/vnd.google.colaboratory.intrinsic+json": {
              "type": "string"
            }
          },
          "metadata": {},
          "execution_count": 3
        }
      ]
    },
    {
      "cell_type": "code",
      "source": [
        "# import\n",
        "import pandas as pd\n",
        "import numpy as np\n",
        "from sklearn.model_selection import train_test_split, cross_validate\n",
        "from sklearn.tree import DecisionTreeClassifier\n",
        "from sklearn.metrics import ConfusionMatrixDisplay, accuracy_score, classification_report, roc_curve\n",
        "from sklearn.model_selection import GridSearchCV\n",
        "from sklearn.svm import SVC\n",
        "from sklearn.tree import DecisionTreeClassifier\n",
        "from sklearn.ensemble import RandomForestClassifier\n",
        "from sklearn.neighbors import KNeighborsClassifier\n",
        "from sklearn.linear_model import LogisticRegression\n",
        "import seaborn as sns\n",
        "import matplotlib.pyplot as plt\n",
        "%matplotlib inline"
      ],
      "metadata": {
        "id": "BI8djlbbBtMV"
      },
      "execution_count": 100,
      "outputs": []
    },
    {
      "cell_type": "code",
      "source": [
        "dataset = pd.read_csv('https://raw.githubusercontent.com/MpRonald/datasets/main/doenca_cardiaca_final.csv')\n",
        "dataset.head(6)"
      ],
      "metadata": {
        "colab": {
          "base_uri": "https://localhost:8080/",
          "height": 302
        },
        "id": "Slz01msBCFVI",
        "outputId": "bf00be0b-add6-4b42-c772-b56e0b7d7d3c"
      },
      "execution_count": 6,
      "outputs": [
        {
          "output_type": "execute_result",
          "data": {
            "text/plain": [
              "   sexo  idade  cigarros_por_dia  uso_medicamento_pressao  AVC  hipertensao  \\\n",
              "0     1     39                 0                      0.0    0            0   \n",
              "1     0     46                 0                      0.0    0            0   \n",
              "2     1     48                20                      0.0    0            0   \n",
              "3     0     61                30                      0.0    0            1   \n",
              "4     0     46                23                      0.0    0            0   \n",
              "5     0     43                 0                      0.0    0            1   \n",
              "\n",
              "   diabetes  colesterol_total  pressao_arterial_sistolica  \\\n",
              "0         0             195.0                       106.0   \n",
              "1         0             250.0                       121.0   \n",
              "2         0             245.0                       127.5   \n",
              "3         0             225.0                       150.0   \n",
              "4         0             285.0                       130.0   \n",
              "5         0             228.0                       180.0   \n",
              "\n",
              "   pressao_arterial_diastolica    IMC  freq_cardiaca  glicemia  fumante  \\\n",
              "0                         70.0  26.97           80.0      77.0        0   \n",
              "1                         81.0  28.73           95.0      76.0        0   \n",
              "2                         80.0  25.34           75.0      70.0        2   \n",
              "3                         95.0  28.58           65.0     103.0        3   \n",
              "4                         84.0  23.10           85.0      85.0        3   \n",
              "5                        110.0  30.30           77.0      99.0        0   \n",
              "\n",
              "   risco_DAC_decada  \n",
              "0                 0  \n",
              "1                 0  \n",
              "2                 0  \n",
              "3                 1  \n",
              "4                 0  \n",
              "5                 0  "
            ],
            "text/html": [
              "\n",
              "  <div id=\"df-300632ee-5f59-4172-92b5-84f31acc2a30\">\n",
              "    <div class=\"colab-df-container\">\n",
              "      <div>\n",
              "<style scoped>\n",
              "    .dataframe tbody tr th:only-of-type {\n",
              "        vertical-align: middle;\n",
              "    }\n",
              "\n",
              "    .dataframe tbody tr th {\n",
              "        vertical-align: top;\n",
              "    }\n",
              "\n",
              "    .dataframe thead th {\n",
              "        text-align: right;\n",
              "    }\n",
              "</style>\n",
              "<table border=\"1\" class=\"dataframe\">\n",
              "  <thead>\n",
              "    <tr style=\"text-align: right;\">\n",
              "      <th></th>\n",
              "      <th>sexo</th>\n",
              "      <th>idade</th>\n",
              "      <th>cigarros_por_dia</th>\n",
              "      <th>uso_medicamento_pressao</th>\n",
              "      <th>AVC</th>\n",
              "      <th>hipertensao</th>\n",
              "      <th>diabetes</th>\n",
              "      <th>colesterol_total</th>\n",
              "      <th>pressao_arterial_sistolica</th>\n",
              "      <th>pressao_arterial_diastolica</th>\n",
              "      <th>IMC</th>\n",
              "      <th>freq_cardiaca</th>\n",
              "      <th>glicemia</th>\n",
              "      <th>fumante</th>\n",
              "      <th>risco_DAC_decada</th>\n",
              "    </tr>\n",
              "  </thead>\n",
              "  <tbody>\n",
              "    <tr>\n",
              "      <th>0</th>\n",
              "      <td>1</td>\n",
              "      <td>39</td>\n",
              "      <td>0</td>\n",
              "      <td>0.0</td>\n",
              "      <td>0</td>\n",
              "      <td>0</td>\n",
              "      <td>0</td>\n",
              "      <td>195.0</td>\n",
              "      <td>106.0</td>\n",
              "      <td>70.0</td>\n",
              "      <td>26.97</td>\n",
              "      <td>80.0</td>\n",
              "      <td>77.0</td>\n",
              "      <td>0</td>\n",
              "      <td>0</td>\n",
              "    </tr>\n",
              "    <tr>\n",
              "      <th>1</th>\n",
              "      <td>0</td>\n",
              "      <td>46</td>\n",
              "      <td>0</td>\n",
              "      <td>0.0</td>\n",
              "      <td>0</td>\n",
              "      <td>0</td>\n",
              "      <td>0</td>\n",
              "      <td>250.0</td>\n",
              "      <td>121.0</td>\n",
              "      <td>81.0</td>\n",
              "      <td>28.73</td>\n",
              "      <td>95.0</td>\n",
              "      <td>76.0</td>\n",
              "      <td>0</td>\n",
              "      <td>0</td>\n",
              "    </tr>\n",
              "    <tr>\n",
              "      <th>2</th>\n",
              "      <td>1</td>\n",
              "      <td>48</td>\n",
              "      <td>20</td>\n",
              "      <td>0.0</td>\n",
              "      <td>0</td>\n",
              "      <td>0</td>\n",
              "      <td>0</td>\n",
              "      <td>245.0</td>\n",
              "      <td>127.5</td>\n",
              "      <td>80.0</td>\n",
              "      <td>25.34</td>\n",
              "      <td>75.0</td>\n",
              "      <td>70.0</td>\n",
              "      <td>2</td>\n",
              "      <td>0</td>\n",
              "    </tr>\n",
              "    <tr>\n",
              "      <th>3</th>\n",
              "      <td>0</td>\n",
              "      <td>61</td>\n",
              "      <td>30</td>\n",
              "      <td>0.0</td>\n",
              "      <td>0</td>\n",
              "      <td>1</td>\n",
              "      <td>0</td>\n",
              "      <td>225.0</td>\n",
              "      <td>150.0</td>\n",
              "      <td>95.0</td>\n",
              "      <td>28.58</td>\n",
              "      <td>65.0</td>\n",
              "      <td>103.0</td>\n",
              "      <td>3</td>\n",
              "      <td>1</td>\n",
              "    </tr>\n",
              "    <tr>\n",
              "      <th>4</th>\n",
              "      <td>0</td>\n",
              "      <td>46</td>\n",
              "      <td>23</td>\n",
              "      <td>0.0</td>\n",
              "      <td>0</td>\n",
              "      <td>0</td>\n",
              "      <td>0</td>\n",
              "      <td>285.0</td>\n",
              "      <td>130.0</td>\n",
              "      <td>84.0</td>\n",
              "      <td>23.10</td>\n",
              "      <td>85.0</td>\n",
              "      <td>85.0</td>\n",
              "      <td>3</td>\n",
              "      <td>0</td>\n",
              "    </tr>\n",
              "    <tr>\n",
              "      <th>5</th>\n",
              "      <td>0</td>\n",
              "      <td>43</td>\n",
              "      <td>0</td>\n",
              "      <td>0.0</td>\n",
              "      <td>0</td>\n",
              "      <td>1</td>\n",
              "      <td>0</td>\n",
              "      <td>228.0</td>\n",
              "      <td>180.0</td>\n",
              "      <td>110.0</td>\n",
              "      <td>30.30</td>\n",
              "      <td>77.0</td>\n",
              "      <td>99.0</td>\n",
              "      <td>0</td>\n",
              "      <td>0</td>\n",
              "    </tr>\n",
              "  </tbody>\n",
              "</table>\n",
              "</div>\n",
              "      <button class=\"colab-df-convert\" onclick=\"convertToInteractive('df-300632ee-5f59-4172-92b5-84f31acc2a30')\"\n",
              "              title=\"Convert this dataframe to an interactive table.\"\n",
              "              style=\"display:none;\">\n",
              "        \n",
              "  <svg xmlns=\"http://www.w3.org/2000/svg\" height=\"24px\"viewBox=\"0 0 24 24\"\n",
              "       width=\"24px\">\n",
              "    <path d=\"M0 0h24v24H0V0z\" fill=\"none\"/>\n",
              "    <path d=\"M18.56 5.44l.94 2.06.94-2.06 2.06-.94-2.06-.94-.94-2.06-.94 2.06-2.06.94zm-11 1L8.5 8.5l.94-2.06 2.06-.94-2.06-.94L8.5 2.5l-.94 2.06-2.06.94zm10 10l.94 2.06.94-2.06 2.06-.94-2.06-.94-.94-2.06-.94 2.06-2.06.94z\"/><path d=\"M17.41 7.96l-1.37-1.37c-.4-.4-.92-.59-1.43-.59-.52 0-1.04.2-1.43.59L10.3 9.45l-7.72 7.72c-.78.78-.78 2.05 0 2.83L4 21.41c.39.39.9.59 1.41.59.51 0 1.02-.2 1.41-.59l7.78-7.78 2.81-2.81c.8-.78.8-2.07 0-2.86zM5.41 20L4 18.59l7.72-7.72 1.47 1.35L5.41 20z\"/>\n",
              "  </svg>\n",
              "      </button>\n",
              "      \n",
              "  <style>\n",
              "    .colab-df-container {\n",
              "      display:flex;\n",
              "      flex-wrap:wrap;\n",
              "      gap: 12px;\n",
              "    }\n",
              "\n",
              "    .colab-df-convert {\n",
              "      background-color: #E8F0FE;\n",
              "      border: none;\n",
              "      border-radius: 50%;\n",
              "      cursor: pointer;\n",
              "      display: none;\n",
              "      fill: #1967D2;\n",
              "      height: 32px;\n",
              "      padding: 0 0 0 0;\n",
              "      width: 32px;\n",
              "    }\n",
              "\n",
              "    .colab-df-convert:hover {\n",
              "      background-color: #E2EBFA;\n",
              "      box-shadow: 0px 1px 2px rgba(60, 64, 67, 0.3), 0px 1px 3px 1px rgba(60, 64, 67, 0.15);\n",
              "      fill: #174EA6;\n",
              "    }\n",
              "\n",
              "    [theme=dark] .colab-df-convert {\n",
              "      background-color: #3B4455;\n",
              "      fill: #D2E3FC;\n",
              "    }\n",
              "\n",
              "    [theme=dark] .colab-df-convert:hover {\n",
              "      background-color: #434B5C;\n",
              "      box-shadow: 0px 1px 3px 1px rgba(0, 0, 0, 0.15);\n",
              "      filter: drop-shadow(0px 1px 2px rgba(0, 0, 0, 0.3));\n",
              "      fill: #FFFFFF;\n",
              "    }\n",
              "  </style>\n",
              "\n",
              "      <script>\n",
              "        const buttonEl =\n",
              "          document.querySelector('#df-300632ee-5f59-4172-92b5-84f31acc2a30 button.colab-df-convert');\n",
              "        buttonEl.style.display =\n",
              "          google.colab.kernel.accessAllowed ? 'block' : 'none';\n",
              "\n",
              "        async function convertToInteractive(key) {\n",
              "          const element = document.querySelector('#df-300632ee-5f59-4172-92b5-84f31acc2a30');\n",
              "          const dataTable =\n",
              "            await google.colab.kernel.invokeFunction('convertToInteractive',\n",
              "                                                     [key], {});\n",
              "          if (!dataTable) return;\n",
              "\n",
              "          const docLinkHtml = 'Like what you see? Visit the ' +\n",
              "            '<a target=\"_blank\" href=https://colab.research.google.com/notebooks/data_table.ipynb>data table notebook</a>'\n",
              "            + ' to learn more about interactive tables.';\n",
              "          element.innerHTML = '';\n",
              "          dataTable['output_type'] = 'display_data';\n",
              "          await google.colab.output.renderOutput(dataTable, element);\n",
              "          const docLink = document.createElement('div');\n",
              "          docLink.innerHTML = docLinkHtml;\n",
              "          element.appendChild(docLink);\n",
              "        }\n",
              "      </script>\n",
              "    </div>\n",
              "  </div>\n",
              "  "
            ]
          },
          "metadata": {},
          "execution_count": 6
        }
      ]
    },
    {
      "cell_type": "code",
      "source": [
        "dataset.info()"
      ],
      "metadata": {
        "colab": {
          "base_uri": "https://localhost:8080/"
        },
        "id": "F1-LWmVbCsOI",
        "outputId": "3b7159a2-e26c-4b54-bf8e-ce86fcf939e4"
      },
      "execution_count": 7,
      "outputs": [
        {
          "output_type": "stream",
          "name": "stdout",
          "text": [
            "<class 'pandas.core.frame.DataFrame'>\n",
            "RangeIndex: 6954 entries, 0 to 6953\n",
            "Data columns (total 15 columns):\n",
            " #   Column                       Non-Null Count  Dtype  \n",
            "---  ------                       --------------  -----  \n",
            " 0   sexo                         6954 non-null   int64  \n",
            " 1   idade                        6954 non-null   int64  \n",
            " 2   cigarros_por_dia             6954 non-null   int64  \n",
            " 3   uso_medicamento_pressao      6954 non-null   float64\n",
            " 4   AVC                          6954 non-null   int64  \n",
            " 5   hipertensao                  6954 non-null   int64  \n",
            " 6   diabetes                     6954 non-null   int64  \n",
            " 7   colesterol_total             6954 non-null   float64\n",
            " 8   pressao_arterial_sistolica   6954 non-null   float64\n",
            " 9   pressao_arterial_diastolica  6954 non-null   float64\n",
            " 10  IMC                          6954 non-null   float64\n",
            " 11  freq_cardiaca                6954 non-null   float64\n",
            " 12  glicemia                     6954 non-null   float64\n",
            " 13  fumante                      6954 non-null   int64  \n",
            " 14  risco_DAC_decada             6954 non-null   int64  \n",
            "dtypes: float64(7), int64(8)\n",
            "memory usage: 815.0 KB\n"
          ]
        }
      ]
    },
    {
      "cell_type": "code",
      "source": [
        "X = dataset.iloc[:,0:14]\n",
        "X.shape"
      ],
      "metadata": {
        "colab": {
          "base_uri": "https://localhost:8080/"
        },
        "id": "xeHn1Vy7Cw26",
        "outputId": "13193acf-4e75-4596-9cf1-e0b8102248f1"
      },
      "execution_count": 8,
      "outputs": [
        {
          "output_type": "execute_result",
          "data": {
            "text/plain": [
              "(6954, 14)"
            ]
          },
          "metadata": {},
          "execution_count": 8
        }
      ]
    },
    {
      "cell_type": "code",
      "source": [
        "y = dataset.iloc[:,14]\n",
        "y.shape"
      ],
      "metadata": {
        "colab": {
          "base_uri": "https://localhost:8080/"
        },
        "id": "6EPUw-ezEqXo",
        "outputId": "b046a1d5-7f36-4590-ea59-71ddbd3ea440"
      },
      "execution_count": 9,
      "outputs": [
        {
          "output_type": "execute_result",
          "data": {
            "text/plain": [
              "(6954,)"
            ]
          },
          "metadata": {},
          "execution_count": 9
        }
      ]
    },
    {
      "cell_type": "code",
      "source": [
        "np.random.seed(42)"
      ],
      "metadata": {
        "id": "84GYyvovJqTF"
      },
      "execution_count": 10,
      "outputs": []
    },
    {
      "cell_type": "code",
      "source": [
        "X_train, X_test, y_train, y_test = train_test_split(X, y, test_size=0.15)"
      ],
      "metadata": {
        "id": "sILVh7yUIHA_"
      },
      "execution_count": 11,
      "outputs": []
    },
    {
      "cell_type": "code",
      "source": [
        "X_train.shape, y_train.shape"
      ],
      "metadata": {
        "colab": {
          "base_uri": "https://localhost:8080/"
        },
        "id": "xUTz-ObDIYvU",
        "outputId": "74ccd578-a54c-4e51-a35a-b33e1e02d9ea"
      },
      "execution_count": 12,
      "outputs": [
        {
          "output_type": "execute_result",
          "data": {
            "text/plain": [
              "((5910, 14), (5910,))"
            ]
          },
          "metadata": {},
          "execution_count": 12
        }
      ]
    },
    {
      "cell_type": "code",
      "source": [
        "X_test.shape, y_test.shape"
      ],
      "metadata": {
        "colab": {
          "base_uri": "https://localhost:8080/"
        },
        "id": "GY7aDl99Ibc2",
        "outputId": "64b2a277-5ea1-4947-83a4-9c6b6da04bd8"
      },
      "execution_count": 13,
      "outputs": [
        {
          "output_type": "execute_result",
          "data": {
            "text/plain": [
              "((1044, 14), (1044,))"
            ]
          },
          "metadata": {},
          "execution_count": 13
        }
      ]
    },
    {
      "cell_type": "code",
      "source": [
        "tree = DecisionTreeClassifier(max_depth=120).fit(X_train, y_train)"
      ],
      "metadata": {
        "id": "ugTtocYgIlps"
      },
      "execution_count": 14,
      "outputs": []
    },
    {
      "cell_type": "code",
      "source": [
        "tree.score(X_test, y_test)"
      ],
      "metadata": {
        "colab": {
          "base_uri": "https://localhost:8080/"
        },
        "id": "dF0iDrfLJ1Yv",
        "outputId": "90e63cd5-db81-4e87-f1b1-12acaeb50e1e"
      },
      "execution_count": 15,
      "outputs": [
        {
          "output_type": "execute_result",
          "data": {
            "text/plain": [
              "0.9090038314176245"
            ]
          },
          "metadata": {},
          "execution_count": 15
        }
      ]
    },
    {
      "cell_type": "code",
      "source": [
        "ConfusionMatrixDisplay.from_estimator(tree, X_test, y_test);"
      ],
      "metadata": {
        "colab": {
          "base_uri": "https://localhost:8080/",
          "height": 282
        },
        "id": "Taj62lK8KAPc",
        "outputId": "5371c033-069e-45da-fd04-ac1e88af1ea0"
      },
      "execution_count": 16,
      "outputs": [
        {
          "output_type": "display_data",
          "data": {
            "text/plain": [
              "<Figure size 432x288 with 2 Axes>"
            ],
            "image/png": "[encoded data removed]"
          },
          "metadata": {
            "needs_background": "light"
          }
        }
      ]
    },
    {
      "cell_type": "code",
      "source": [
        "y_pred = tree.predict(X_test)"
      ],
      "metadata": {
        "id": "BL5_e1-JKTkP"
      },
      "execution_count": 17,
      "outputs": []
    },
    {
      "cell_type": "code",
      "source": [
        "accuracy_score(y_test, y_pred)"
      ],
      "metadata": {
        "colab": {
          "base_uri": "https://localhost:8080/"
        },
        "id": "XOCkFL46L5yv",
        "outputId": "6d5471e2-023a-4ce2-d18d-eb7ac90d9d02"
      },
      "execution_count": 18,
      "outputs": [
        {
          "output_type": "execute_result",
          "data": {
            "text/plain": [
              "0.9090038314176245"
            ]
          },
          "metadata": {},
          "execution_count": 18
        }
      ]
    },
    {
      "cell_type": "code",
      "source": [
        "cross_validate(tree, X, y)"
      ],
      "metadata": {
        "colab": {
          "base_uri": "https://localhost:8080/"
        },
        "id": "wehk9ufsMdsb",
        "outputId": "d7df22d7-1254-4b4a-e1ba-36a92327d13f"
      },
      "execution_count": 19,
      "outputs": [
        {
          "output_type": "execute_result",
          "data": {
            "text/plain": [
              "{'fit_time': array([0.03414607, 0.04297137, 0.03277755, 0.0326345 , 0.03183079]),\n",
              " 'score_time': array([0.00302172, 0.0029614 , 0.0029099 , 0.00297689, 0.00296068]),\n",
              " 'test_score': array([0.91301222, 0.91876348, 0.90007189, 0.91660676, 0.91007194])}"
            ]
          },
          "metadata": {},
          "execution_count": 19
        }
      ]
    },
    {
      "cell_type": "code",
      "source": [
        "print(classification_report(y_test, y_pred))"
      ],
      "metadata": {
        "colab": {
          "base_uri": "https://localhost:8080/"
        },
        "id": "0r7joH7eM7Rq",
        "outputId": "1175a759-a3f1-478b-d6ef-cc24a19375a6"
      },
      "execution_count": 20,
      "outputs": [
        {
          "output_type": "stream",
          "name": "stdout",
          "text": [
            "              precision    recall  f1-score   support\n",
            "\n",
            "           0       0.99      0.83      0.90       536\n",
            "           1       0.85      0.99      0.91       508\n",
            "\n",
            "    accuracy                           0.91      1044\n",
            "   macro avg       0.92      0.91      0.91      1044\n",
            "weighted avg       0.92      0.91      0.91      1044\n",
            "\n"
          ]
        }
      ]
    },
    {
      "cell_type": "code",
      "source": [
        "tree.feature_importances_"
      ],
      "metadata": {
        "colab": {
          "base_uri": "https://localhost:8080/"
        },
        "id": "WqMqZ_ctNKip",
        "outputId": "a1b24da3-a620-47a7-b6b0-7ca53dd070eb"
      },
      "execution_count": 21,
      "outputs": [
        {
          "output_type": "execute_result",
          "data": {
            "text/plain": [
              "array([0.01939473, 0.17644557, 0.05994374, 0.00350179, 0.00381464,\n",
              "       0.01348196, 0.0012331 , 0.12841557, 0.13526209, 0.11859615,\n",
              "       0.12564023, 0.07897355, 0.12873376, 0.00656314])"
            ]
          },
          "metadata": {},
          "execution_count": 21
        }
      ]
    },
    {
      "cell_type": "code",
      "source": [
        "pd.Series(data=tree.feature_importances_, index=X_test.columns).sort_values(ascending=False)"
      ],
      "metadata": {
        "colab": {
          "base_uri": "https://localhost:8080/"
        },
        "id": "653aMnk1N91g",
        "outputId": "0faf8b2c-946b-4d83-b11b-88287262afa4"
      },
      "execution_count": 22,
      "outputs": [
        {
          "output_type": "execute_result",
          "data": {
            "text/plain": [
              "idade                          0.176446\n",
              "pressao_arterial_sistolica     0.135262\n",
              "glicemia                       0.128734\n",
              "colesterol_total               0.128416\n",
              "IMC                            0.125640\n",
              "pressao_arterial_diastolica    0.118596\n",
              "freq_cardiaca                  0.078974\n",
              "cigarros_por_dia               0.059944\n",
              "sexo                           0.019395\n",
              "hipertensao                    0.013482\n",
              "fumante                        0.006563\n",
              "AVC                            0.003815\n",
              "uso_medicamento_pressao        0.003502\n",
              "diabetes                       0.001233\n",
              "dtype: float64"
            ]
          },
          "metadata": {},
          "execution_count": 22
        }
      ]
    },
    {
      "cell_type": "code",
      "source": [
        "data = dataset.drop(['diabetes', 'uso_medicamento_pressao', 'AVC'], axis=1)"
      ],
      "metadata": {
        "id": "x8PLpBnUOR0M"
      },
      "execution_count": 23,
      "outputs": []
    },
    {
      "cell_type": "code",
      "source": [
        "data.info()"
      ],
      "metadata": {
        "colab": {
          "base_uri": "https://localhost:8080/"
        },
        "id": "qctPinxiPjDt",
        "outputId": "8d0424b9-46b6-4f58-975c-b35c47b497fb"
      },
      "execution_count": 24,
      "outputs": [
        {
          "output_type": "stream",
          "name": "stdout",
          "text": [
            "<class 'pandas.core.frame.DataFrame'>\n",
            "RangeIndex: 6954 entries, 0 to 6953\n",
            "Data columns (total 12 columns):\n",
            " #   Column                       Non-Null Count  Dtype  \n",
            "---  ------                       --------------  -----  \n",
            " 0   sexo                         6954 non-null   int64  \n",
            " 1   idade                        6954 non-null   int64  \n",
            " 2   cigarros_por_dia             6954 non-null   int64  \n",
            " 3   hipertensao                  6954 non-null   int64  \n",
            " 4   colesterol_total             6954 non-null   float64\n",
            " 5   pressao_arterial_sistolica   6954 non-null   float64\n",
            " 6   pressao_arterial_diastolica  6954 non-null   float64\n",
            " 7   IMC                          6954 non-null   float64\n",
            " 8   freq_cardiaca                6954 non-null   float64\n",
            " 9   glicemia                     6954 non-null   float64\n",
            " 10  fumante                      6954 non-null   int64  \n",
            " 11  risco_DAC_decada             6954 non-null   int64  \n",
            "dtypes: float64(6), int64(6)\n",
            "memory usage: 652.1 KB\n"
          ]
        }
      ]
    },
    {
      "cell_type": "code",
      "source": [
        "X = data.iloc[:,0:11]\n",
        "X.shape"
      ],
      "metadata": {
        "colab": {
          "base_uri": "https://localhost:8080/"
        },
        "outputId": "ed4e8692-e593-48a1-f081-7855ab516443",
        "id": "aEuaD4imQez9"
      },
      "execution_count": 25,
      "outputs": [
        {
          "output_type": "execute_result",
          "data": {
            "text/plain": [
              "(6954, 11)"
            ]
          },
          "metadata": {},
          "execution_count": 25
        }
      ]
    },
    {
      "cell_type": "code",
      "source": [
        "y = data.iloc[:,11]\n",
        "y.shape"
      ],
      "metadata": {
        "colab": {
          "base_uri": "https://localhost:8080/"
        },
        "outputId": "2951e042-b8a8-4725-e9c0-60f8462c1932",
        "id": "lWyAvSrJQe0L"
      },
      "execution_count": 26,
      "outputs": [
        {
          "output_type": "execute_result",
          "data": {
            "text/plain": [
              "(6954,)"
            ]
          },
          "metadata": {},
          "execution_count": 26
        }
      ]
    },
    {
      "cell_type": "code",
      "source": [
        "X_train, X_test, y_train, y_test = train_test_split(X, y, test_size=0.15)"
      ],
      "metadata": {
        "id": "qTJTEkaLQe0Q"
      },
      "execution_count": 27,
      "outputs": []
    },
    {
      "cell_type": "code",
      "source": [
        "X_train.shape, y_train.shape"
      ],
      "metadata": {
        "colab": {
          "base_uri": "https://localhost:8080/"
        },
        "outputId": "d713b5de-6e65-41ed-e176-2a6f220271cf",
        "id": "0OEB8_IuQe0S"
      },
      "execution_count": 28,
      "outputs": [
        {
          "output_type": "execute_result",
          "data": {
            "text/plain": [
              "((5910, 11), (5910,))"
            ]
          },
          "metadata": {},
          "execution_count": 28
        }
      ]
    },
    {
      "cell_type": "code",
      "source": [
        "X_test.shape, y_test.shape"
      ],
      "metadata": {
        "colab": {
          "base_uri": "https://localhost:8080/"
        },
        "outputId": "d8945b6a-a9a7-4502-b5b9-ddcc7fb6e018",
        "id": "GosoP8fbQe0T"
      },
      "execution_count": 29,
      "outputs": [
        {
          "output_type": "execute_result",
          "data": {
            "text/plain": [
              "((1044, 11), (1044,))"
            ]
          },
          "metadata": {},
          "execution_count": 29
        }
      ]
    },
    {
      "cell_type": "code",
      "source": [
        "tree = DecisionTreeClassifier(max_depth=120).fit(X_train, y_train)"
      ],
      "metadata": {
        "id": "8oHbmv-cQuMd"
      },
      "execution_count": 30,
      "outputs": []
    },
    {
      "cell_type": "code",
      "source": [
        "tree.score(X_test, y_test)"
      ],
      "metadata": {
        "colab": {
          "base_uri": "https://localhost:8080/"
        },
        "outputId": "d4b52958-961a-474a-d6a4-25341565ee92",
        "id": "34Hf6RRFQuMf"
      },
      "execution_count": 31,
      "outputs": [
        {
          "output_type": "execute_result",
          "data": {
            "text/plain": [
              "0.9109195402298851"
            ]
          },
          "metadata": {},
          "execution_count": 31
        }
      ]
    },
    {
      "cell_type": "code",
      "source": [
        "ConfusionMatrixDisplay.from_estimator(tree, X_test, y_test);"
      ],
      "metadata": {
        "colab": {
          "base_uri": "https://localhost:8080/",
          "height": 282
        },
        "outputId": "485d64f4-1893-4dda-a69f-0aa19ba17d57",
        "id": "t-f25W0nQuMi"
      },
      "execution_count": 32,
      "outputs": [
        {
          "output_type": "display_data",
          "data": {
            "text/plain": [
              "<Figure size 432x288 with 2 Axes>"
            ],
            "image/png": "[encoded data removed]"
          },
          "metadata": {
            "needs_background": "light"
          }
        }
      ]
    },
    {
      "cell_type": "code",
      "source": [
        "y_pred = tree.predict(X_test)"
      ],
      "metadata": {
        "id": "bf1rVJiGQuMk"
      },
      "execution_count": 33,
      "outputs": []
    },
    {
      "cell_type": "code",
      "source": [
        "accuracy_score(y_test, y_pred)"
      ],
      "metadata": {
        "colab": {
          "base_uri": "https://localhost:8080/"
        },
        "outputId": "f3e3b5fa-33eb-40f7-b551-3ea3ed89b2fd",
        "id": "jhPGgBHKQuMl"
      },
      "execution_count": 34,
      "outputs": [
        {
          "output_type": "execute_result",
          "data": {
            "text/plain": [
              "0.9109195402298851"
            ]
          },
          "metadata": {},
          "execution_count": 34
        }
      ]
    },
    {
      "cell_type": "code",
      "source": [
        "cross_validate(tree, X, y)"
      ],
      "metadata": {
        "colab": {
          "base_uri": "https://localhost:8080/"
        },
        "outputId": "a6709701-fc9d-4a7d-e6fe-333562c1a233",
        "id": "_xtao3zKQuMn"
      },
      "execution_count": 35,
      "outputs": [
        {
          "output_type": "execute_result",
          "data": {
            "text/plain": [
              "{'fit_time': array([0.03590822, 0.03602481, 0.03542566, 0.0315814 , 0.02996302]),\n",
              " 'score_time': array([0.00258017, 0.00364757, 0.00258803, 0.00251341, 0.00238276]),\n",
              " 'test_score': array([0.91516894, 0.91732566, 0.90941769, 0.91516894, 0.91151079])}"
            ]
          },
          "metadata": {},
          "execution_count": 35
        }
      ]
    },
    {
      "cell_type": "code",
      "source": [
        "print(classification_report(y_test, y_pred))"
      ],
      "metadata": {
        "colab": {
          "base_uri": "https://localhost:8080/"
        },
        "outputId": "62fd1836-2c9b-496b-d271-12dd02c4b1b5",
        "id": "lcffkvhNQuMp"
      },
      "execution_count": 36,
      "outputs": [
        {
          "output_type": "stream",
          "name": "stdout",
          "text": [
            "              precision    recall  f1-score   support\n",
            "\n",
            "           0       1.00      0.83      0.91       538\n",
            "           1       0.85      1.00      0.92       506\n",
            "\n",
            "    accuracy                           0.91      1044\n",
            "   macro avg       0.92      0.91      0.91      1044\n",
            "weighted avg       0.92      0.91      0.91      1044\n",
            "\n"
          ]
        }
      ]
    },
    {
      "cell_type": "markdown",
      "source": [
        "# Using Grid Search"
      ],
      "metadata": {
        "id": "zooQHZ3nU70J"
      }
    },
    {
      "cell_type": "code",
      "source": [
        "# function to run Grid Search\n",
        "def run_grid_search(estimators, param, X, y):\n",
        "  grid = GridSearchCV(estimator=estimators, param_grid=param).fit(X, y)\n",
        "  print(f\"Best Parameter: {grid.best_params_}\")\n",
        "  print(f\"Best Index: {grid.best_index_}\")\n",
        "  best_score = round(grid.best_score_,4)\n",
        "  print(f\"Best Score: {best_score}\")"
      ],
      "metadata": {
        "id": "d8xA0EzkQRSk"
      },
      "execution_count": 37,
      "outputs": []
    },
    {
      "cell_type": "markdown",
      "source": [
        "# Parameters to Random Forest Classifier"
      ],
      "metadata": {
        "id": "O8_Zo8odc6bj"
      }
    },
    {
      "cell_type": "code",
      "source": [
        "parameters_R = {\n",
        "      'criterion':['gini', 'entropy'],\n",
        "      'n_estimators':[10, 50, 100, 200],\n",
        "      'min_samples_split':[2,5,10],\n",
        "      'min_samples_leaf':[2,6,10]}\n",
        "\n",
        "result_RF = GridSearchCV(RandomForestClassifier(), param_grid = parameters_R).fit(X_train, y_train)\n",
        "best_RF = result_RF.best_score_\n",
        "best_RF"
      ],
      "metadata": {
        "colab": {
          "base_uri": "https://localhost:8080/"
        },
        "id": "EDtzUp4iWMi8",
        "outputId": "9dc81493-7e16-4c66-ac84-ef519898988e"
      },
      "execution_count": 38,
      "outputs": [
        {
          "output_type": "execute_result",
          "data": {
            "text/plain": [
              "0.940439932318105"
            ]
          },
          "metadata": {},
          "execution_count": 38
        }
      ]
    },
    {
      "cell_type": "code",
      "source": [
        "y_pred = result_RF.predict(X_test)\n",
        "accuracy_random_forest = accuracy_score(y_test, y_pred)\n",
        "accuracy_random_forest"
      ],
      "metadata": {
        "colab": {
          "base_uri": "https://localhost:8080/"
        },
        "id": "deXZCWBWcSfc",
        "outputId": "adad6490-f566-4e30-f555-4216974aa85b"
      },
      "execution_count": 39,
      "outputs": [
        {
          "output_type": "execute_result",
          "data": {
            "text/plain": [
              "0.9588122605363985"
            ]
          },
          "metadata": {},
          "execution_count": 39
        }
      ]
    },
    {
      "cell_type": "code",
      "source": [
        "print(classification_report(y_test, y_pred))"
      ],
      "metadata": {
        "colab": {
          "base_uri": "https://localhost:8080/"
        },
        "id": "6WNHKxIqck2Y",
        "outputId": "cc90948e-1a90-4f79-9437-00ece410a6e8"
      },
      "execution_count": 40,
      "outputs": [
        {
          "output_type": "stream",
          "name": "stdout",
          "text": [
            "              precision    recall  f1-score   support\n",
            "\n",
            "           0       0.98      0.94      0.96       538\n",
            "           1       0.94      0.98      0.96       506\n",
            "\n",
            "    accuracy                           0.96      1044\n",
            "   macro avg       0.96      0.96      0.96      1044\n",
            "weighted avg       0.96      0.96      0.96      1044\n",
            "\n"
          ]
        }
      ]
    },
    {
      "cell_type": "code",
      "source": [
        "data_random_forest = pd.DataFrame(result_RF.cv_results_)\n",
        "data_random_forest.head(10)"
      ],
      "metadata": {
        "id": "AbEYJLSPXzcB",
        "colab": {
          "base_uri": "https://localhost:8080/",
          "height": 774
        },
        "outputId": "db1e30e2-1779-4445-c80e-6ebfef41ad45"
      },
      "execution_count": 67,
      "outputs": [
        {
          "output_type": "execute_result",
          "data": {
            "text/plain": [
              "   mean_fit_time  std_fit_time  mean_score_time  std_score_time  \\\n",
              "0       0.157138      0.023291         0.011674        0.003688   \n",
              "1       0.723741      0.109207         0.032385        0.006614   \n",
              "2       1.462281      0.253566         0.073414        0.021979   \n",
              "3       1.516651      0.270282         0.073629        0.001963   \n",
              "4       0.072245      0.002721         0.006451        0.000627   \n",
              "5       0.338765      0.004823         0.021403        0.002942   \n",
              "6       0.680283      0.007613         0.037998        0.002697   \n",
              "7       1.365085      0.006524         0.073888        0.003260   \n",
              "8       0.070540      0.001609         0.006677        0.001556   \n",
              "9       0.337047      0.009330         0.019396        0.000755   \n",
              "\n",
              "  param_criterion param_min_samples_leaf param_min_samples_split  \\\n",
              "0            gini                      2                       2   \n",
              "1            gini                      2                       2   \n",
              "2            gini                      2                       2   \n",
              "3            gini                      2                       2   \n",
              "4            gini                      2                       5   \n",
              "5            gini                      2                       5   \n",
              "6            gini                      2                       5   \n",
              "7            gini                      2                       5   \n",
              "8            gini                      2                      10   \n",
              "9            gini                      2                      10   \n",
              "\n",
              "  param_n_estimators                                             params  \\\n",
              "0                 10  {'criterion': 'gini', 'min_samples_leaf': 2, '...   \n",
              "1                 50  {'criterion': 'gini', 'min_samples_leaf': 2, '...   \n",
              "2                100  {'criterion': 'gini', 'min_samples_leaf': 2, '...   \n",
              "3                200  {'criterion': 'gini', 'min_samples_leaf': 2, '...   \n",
              "4                 10  {'criterion': 'gini', 'min_samples_leaf': 2, '...   \n",
              "5                 50  {'criterion': 'gini', 'min_samples_leaf': 2, '...   \n",
              "6                100  {'criterion': 'gini', 'min_samples_leaf': 2, '...   \n",
              "7                200  {'criterion': 'gini', 'min_samples_leaf': 2, '...   \n",
              "8                 10  {'criterion': 'gini', 'min_samples_leaf': 2, '...   \n",
              "9                 50  {'criterion': 'gini', 'min_samples_leaf': 2, '...   \n",
              "\n",
              "   split0_test_score  split1_test_score  split2_test_score  split3_test_score  \\\n",
              "0           0.929780           0.906091           0.916244           0.924704   \n",
              "1           0.936548           0.930626           0.934010           0.927242   \n",
              "2           0.951777           0.932318           0.941624           0.934856   \n",
              "3           0.937394           0.943316           0.947547           0.928934   \n",
              "4           0.917090           0.912860           0.920474           0.915398   \n",
              "5           0.941624           0.939086           0.937394           0.929780   \n",
              "6           0.939932           0.944162           0.934856           0.928088   \n",
              "7           0.939086           0.940778           0.944162           0.931472   \n",
              "8           0.891709           0.893401           0.901861           0.888325   \n",
              "9           0.912860           0.913706           0.920474           0.906937   \n",
              "\n",
              "   split4_test_score  mean_test_score  std_test_score  rank_test_score  \n",
              "0           0.930626         0.921489        0.009243               18  \n",
              "1           0.934856         0.932657        0.003324               12  \n",
              "2           0.937394         0.939594        0.006823                4  \n",
              "3           0.943316         0.940102        0.006452                3  \n",
              "4           0.917090         0.916582        0.002487               21  \n",
              "5           0.938240         0.937225        0.003983                7  \n",
              "6           0.939086         0.937225        0.005441                7  \n",
              "7           0.940778         0.939255        0.004227                5  \n",
              "8           0.897631         0.894585        0.004713               23  \n",
              "9           0.921320         0.915059        0.005313               22  "
            ],
            "text/html": [
              "\n",
              "  <div id=\"df-c5716012-7d17-4353-ad8c-82cfd15cb394\">\n",
              "    <div class=\"colab-df-container\">\n",
              "      <div>\n",
              "<style scoped>\n",
              "    .dataframe tbody tr th:only-of-type {\n",
              "        vertical-align: middle;\n",
              "    }\n",
              "\n",
              "    .dataframe tbody tr th {\n",
              "        vertical-align: top;\n",
              "    }\n",
              "\n",
              "    .dataframe thead th {\n",
              "        text-align: right;\n",
              "    }\n",
              "</style>\n",
              "<table border=\"1\" class=\"dataframe\">\n",
              "  <thead>\n",
              "    <tr style=\"text-align: right;\">\n",
              "      <th></th>\n",
              "      <th>mean_fit_time</th>\n",
              "      <th>std_fit_time</th>\n",
              "      <th>mean_score_time</th>\n",
              "      <th>std_score_time</th>\n",
              "      <th>param_criterion</th>\n",
              "      <th>param_min_samples_leaf</th>\n",
              "      <th>param_min_samples_split</th>\n",
              "      <th>param_n_estimators</th>\n",
              "      <th>params</th>\n",
              "      <th>split0_test_score</th>\n",
              "      <th>split1_test_score</th>\n",
              "      <th>split2_test_score</th>\n",
              "      <th>split3_test_score</th>\n",
              "      <th>split4_test_score</th>\n",
              "      <th>mean_test_score</th>\n",
              "      <th>std_test_score</th>\n",
              "      <th>rank_test_score</th>\n",
              "    </tr>\n",
              "  </thead>\n",
              "  <tbody>\n",
              "    <tr>\n",
              "      <th>0</th>\n",
              "      <td>0.157138</td>\n",
              "      <td>0.023291</td>\n",
              "      <td>0.011674</td>\n",
              "      <td>0.003688</td>\n",
              "      <td>gini</td>\n",
              "      <td>2</td>\n",
              "      <td>2</td>\n",
              "      <td>10</td>\n",
              "      <td>{'criterion': 'gini', 'min_samples_leaf': 2, '...</td>\n",
              "      <td>0.929780</td>\n",
              "      <td>0.906091</td>\n",
              "      <td>0.916244</td>\n",
              "      <td>0.924704</td>\n",
              "      <td>0.930626</td>\n",
              "      <td>0.921489</td>\n",
              "      <td>0.009243</td>\n",
              "      <td>18</td>\n",
              "    </tr>\n",
              "    <tr>\n",
              "      <th>1</th>\n",
              "      <td>0.723741</td>\n",
              "      <td>0.109207</td>\n",
              "      <td>0.032385</td>\n",
              "      <td>0.006614</td>\n",
              "      <td>gini</td>\n",
              "      <td>2</td>\n",
              "      <td>2</td>\n",
              "      <td>50</td>\n",
              "      <td>{'criterion': 'gini', 'min_samples_leaf': 2, '...</td>\n",
              "      <td>0.936548</td>\n",
              "      <td>0.930626</td>\n",
              "      <td>0.934010</td>\n",
              "      <td>0.927242</td>\n",
              "      <td>0.934856</td>\n",
              "      <td>0.932657</td>\n",
              "      <td>0.003324</td>\n",
              "      <td>12</td>\n",
              "    </tr>\n",
              "    <tr>\n",
              "      <th>2</th>\n",
              "      <td>1.462281</td>\n",
              "      <td>0.253566</td>\n",
              "      <td>0.073414</td>\n",
              "      <td>0.021979</td>\n",
              "      <td>gini</td>\n",
              "      <td>2</td>\n",
              "      <td>2</td>\n",
              "      <td>100</td>\n",
              "      <td>{'criterion': 'gini', 'min_samples_leaf': 2, '...</td>\n",
              "      <td>0.951777</td>\n",
              "      <td>0.932318</td>\n",
              "      <td>0.941624</td>\n",
              "      <td>0.934856</td>\n",
              "      <td>0.937394</td>\n",
              "      <td>0.939594</td>\n",
              "      <td>0.006823</td>\n",
              "      <td>4</td>\n",
              "    </tr>\n",
              "    <tr>\n",
              "      <th>3</th>\n",
              "      <td>1.516651</td>\n",
              "      <td>0.270282</td>\n",
              "      <td>0.073629</td>\n",
              "      <td>0.001963</td>\n",
              "      <td>gini</td>\n",
              "      <td>2</td>\n",
              "      <td>2</td>\n",
              "      <td>200</td>\n",
              "      <td>{'criterion': 'gini', 'min_samples_leaf': 2, '...</td>\n",
              "      <td>0.937394</td>\n",
              "      <td>0.943316</td>\n",
              "      <td>0.947547</td>\n",
              "      <td>0.928934</td>\n",
              "      <td>0.943316</td>\n",
              "      <td>0.940102</td>\n",
              "      <td>0.006452</td>\n",
              "      <td>3</td>\n",
              "    </tr>\n",
              "    <tr>\n",
              "      <th>4</th>\n",
              "      <td>0.072245</td>\n",
              "      <td>0.002721</td>\n",
              "      <td>0.006451</td>\n",
              "      <td>0.000627</td>\n",
              "      <td>gini</td>\n",
              "      <td>2</td>\n",
              "      <td>5</td>\n",
              "      <td>10</td>\n",
              "      <td>{'criterion': 'gini', 'min_samples_leaf': 2, '...</td>\n",
              "      <td>0.917090</td>\n",
              "      <td>0.912860</td>\n",
              "      <td>0.920474</td>\n",
              "      <td>0.915398</td>\n",
              "      <td>0.917090</td>\n",
              "      <td>0.916582</td>\n",
              "      <td>0.002487</td>\n",
              "      <td>21</td>\n",
              "    </tr>\n",
              "    <tr>\n",
              "      <th>5</th>\n",
              "      <td>0.338765</td>\n",
              "      <td>0.004823</td>\n",
              "      <td>0.021403</td>\n",
              "      <td>0.002942</td>\n",
              "      <td>gini</td>\n",
              "      <td>2</td>\n",
              "      <td>5</td>\n",
              "      <td>50</td>\n",
              "      <td>{'criterion': 'gini', 'min_samples_leaf': 2, '...</td>\n",
              "      <td>0.941624</td>\n",
              "      <td>0.939086</td>\n",
              "      <td>0.937394</td>\n",
              "      <td>0.929780</td>\n",
              "      <td>0.938240</td>\n",
              "      <td>0.937225</td>\n",
              "      <td>0.003983</td>\n",
              "      <td>7</td>\n",
              "    </tr>\n",
              "    <tr>\n",
              "      <th>6</th>\n",
              "      <td>0.680283</td>\n",
              "      <td>0.007613</td>\n",
              "      <td>0.037998</td>\n",
              "      <td>0.002697</td>\n",
              "      <td>gini</td>\n",
              "      <td>2</td>\n",
              "      <td>5</td>\n",
              "      <td>100</td>\n",
              "      <td>{'criterion': 'gini', 'min_samples_leaf': 2, '...</td>\n",
              "      <td>0.939932</td>\n",
              "      <td>0.944162</td>\n",
              "      <td>0.934856</td>\n",
              "      <td>0.928088</td>\n",
              "      <td>0.939086</td>\n",
              "      <td>0.937225</td>\n",
              "      <td>0.005441</td>\n",
              "      <td>7</td>\n",
              "    </tr>\n",
              "    <tr>\n",
              "      <th>7</th>\n",
              "      <td>1.365085</td>\n",
              "      <td>0.006524</td>\n",
              "      <td>0.073888</td>\n",
              "      <td>0.003260</td>\n",
              "      <td>gini</td>\n",
              "      <td>2</td>\n",
              "      <td>5</td>\n",
              "      <td>200</td>\n",
              "      <td>{'criterion': 'gini', 'min_samples_leaf': 2, '...</td>\n",
              "      <td>0.939086</td>\n",
              "      <td>0.940778</td>\n",
              "      <td>0.944162</td>\n",
              "      <td>0.931472</td>\n",
              "      <td>0.940778</td>\n",
              "      <td>0.939255</td>\n",
              "      <td>0.004227</td>\n",
              "      <td>5</td>\n",
              "    </tr>\n",
              "    <tr>\n",
              "      <th>8</th>\n",
              "      <td>0.070540</td>\n",
              "      <td>0.001609</td>\n",
              "      <td>0.006677</td>\n",
              "      <td>0.001556</td>\n",
              "      <td>gini</td>\n",
              "      <td>2</td>\n",
              "      <td>10</td>\n",
              "      <td>10</td>\n",
              "      <td>{'criterion': 'gini', 'min_samples_leaf': 2, '...</td>\n",
              "      <td>0.891709</td>\n",
              "      <td>0.893401</td>\n",
              "      <td>0.901861</td>\n",
              "      <td>0.888325</td>\n",
              "      <td>0.897631</td>\n",
              "      <td>0.894585</td>\n",
              "      <td>0.004713</td>\n",
              "      <td>23</td>\n",
              "    </tr>\n",
              "    <tr>\n",
              "      <th>9</th>\n",
              "      <td>0.337047</td>\n",
              "      <td>0.009330</td>\n",
              "      <td>0.019396</td>\n",
              "      <td>0.000755</td>\n",
              "      <td>gini</td>\n",
              "      <td>2</td>\n",
              "      <td>10</td>\n",
              "      <td>50</td>\n",
              "      <td>{'criterion': 'gini', 'min_samples_leaf': 2, '...</td>\n",
              "      <td>0.912860</td>\n",
              "      <td>0.913706</td>\n",
              "      <td>0.920474</td>\n",
              "      <td>0.906937</td>\n",
              "      <td>0.921320</td>\n",
              "      <td>0.915059</td>\n",
              "      <td>0.005313</td>\n",
              "      <td>22</td>\n",
              "    </tr>\n",
              "  </tbody>\n",
              "</table>\n",
              "</div>\n",
              "      <button class=\"colab-df-convert\" onclick=\"convertToInteractive('df-c5716012-7d17-4353-ad8c-82cfd15cb394')\"\n",
              "              title=\"Convert this dataframe to an interactive table.\"\n",
              "              style=\"display:none;\">\n",
              "        \n",
              "  <svg xmlns=\"http://www.w3.org/2000/svg\" height=\"24px\"viewBox=\"0 0 24 24\"\n",
              "       width=\"24px\">\n",
              "    <path d=\"M0 0h24v24H0V0z\" fill=\"none\"/>\n",
              "    <path d=\"M18.56 5.44l.94 2.06.94-2.06 2.06-.94-2.06-.94-.94-2.06-.94 2.06-2.06.94zm-11 1L8.5 8.5l.94-2.06 2.06-.94-2.06-.94L8.5 2.5l-.94 2.06-2.06.94zm10 10l.94 2.06.94-2.06 2.06-.94-2.06-.94-.94-2.06-.94 2.06-2.06.94z\"/><path d=\"M17.41 7.96l-1.37-1.37c-.4-.4-.92-.59-1.43-.59-.52 0-1.04.2-1.43.59L10.3 9.45l-7.72 7.72c-.78.78-.78 2.05 0 2.83L4 21.41c.39.39.9.59 1.41.59.51 0 1.02-.2 1.41-.59l7.78-7.78 2.81-2.81c.8-.78.8-2.07 0-2.86zM5.41 20L4 18.59l7.72-7.72 1.47 1.35L5.41 20z\"/>\n",
              "  </svg>\n",
              "      </button>\n",
              "      \n",
              "  <style>\n",
              "    .colab-df-container {\n",
              "      display:flex;\n",
              "      flex-wrap:wrap;\n",
              "      gap: 12px;\n",
              "    }\n",
              "\n",
              "    .colab-df-convert {\n",
              "      background-color: #E8F0FE;\n",
              "      border: none;\n",
              "      border-radius: 50%;\n",
              "      cursor: pointer;\n",
              "      display: none;\n",
              "      fill: #1967D2;\n",
              "      height: 32px;\n",
              "      padding: 0 0 0 0;\n",
              "      width: 32px;\n",
              "    }\n",
              "\n",
              "    .colab-df-convert:hover {\n",
              "      background-color: #E2EBFA;\n",
              "      box-shadow: 0px 1px 2px rgba(60, 64, 67, 0.3), 0px 1px 3px 1px rgba(60, 64, 67, 0.15);\n",
              "      fill: #174EA6;\n",
              "    }\n",
              "\n",
              "    [theme=dark] .colab-df-convert {\n",
              "      background-color: #3B4455;\n",
              "      fill: #D2E3FC;\n",
              "    }\n",
              "\n",
              "    [theme=dark] .colab-df-convert:hover {\n",
              "      background-color: #434B5C;\n",
              "      box-shadow: 0px 1px 3px 1px rgba(0, 0, 0, 0.15);\n",
              "      filter: drop-shadow(0px 1px 2px rgba(0, 0, 0, 0.3));\n",
              "      fill: #FFFFFF;\n",
              "    }\n",
              "  </style>\n",
              "\n",
              "      <script>\n",
              "        const buttonEl =\n",
              "          document.querySelector('#df-c5716012-7d17-4353-ad8c-82cfd15cb394 button.colab-df-convert');\n",
              "        buttonEl.style.display =\n",
              "          google.colab.kernel.accessAllowed ? 'block' : 'none';\n",
              "\n",
              "        async function convertToInteractive(key) {\n",
              "          const element = document.querySelector('#df-c5716012-7d17-4353-ad8c-82cfd15cb394');\n",
              "          const dataTable =\n",
              "            await google.colab.kernel.invokeFunction('convertToInteractive',\n",
              "                                                     [key], {});\n",
              "          if (!dataTable) return;\n",
              "\n",
              "          const docLinkHtml = 'Like what you see? Visit the ' +\n",
              "            '<a target=\"_blank\" href=https://colab.research.google.com/notebooks/data_table.ipynb>data table notebook</a>'\n",
              "            + ' to learn more about interactive tables.';\n",
              "          element.innerHTML = '';\n",
              "          dataTable['output_type'] = 'display_data';\n",
              "          await google.colab.output.renderOutput(dataTable, element);\n",
              "          const docLink = document.createElement('div');\n",
              "          docLink.innerHTML = docLinkHtml;\n",
              "          element.appendChild(docLink);\n",
              "        }\n",
              "      </script>\n",
              "    </div>\n",
              "  </div>\n",
              "  "
            ]
          },
          "metadata": {},
          "execution_count": 67
        }
      ]
    },
    {
      "cell_type": "code",
      "source": [
        "result_RF.best_params_"
      ],
      "metadata": {
        "colab": {
          "base_uri": "https://localhost:8080/"
        },
        "id": "73RLcvOhrKId",
        "outputId": "3f68262b-37b8-4fb4-fc0d-cdc77f60bb9a"
      },
      "execution_count": 69,
      "outputs": [
        {
          "output_type": "execute_result",
          "data": {
            "text/plain": [
              "{'criterion': 'entropy',\n",
              " 'min_samples_leaf': 2,\n",
              " 'min_samples_split': 2,\n",
              " 'n_estimators': 100}"
            ]
          },
          "metadata": {},
          "execution_count": 69
        }
      ]
    },
    {
      "cell_type": "code",
      "source": [
        "ConfusionMatrixDisplay.from_estimator(result_RF, X_test, y_test);"
      ],
      "metadata": {
        "colab": {
          "base_uri": "https://localhost:8080/",
          "height": 280
        },
        "id": "ec0oHWk8ccvg",
        "outputId": "ae455621-ede9-4a50-e6f2-81c946a0d55d"
      },
      "execution_count": 42,
      "outputs": [
        {
          "output_type": "display_data",
          "data": {
            "text/plain": [
              "<Figure size 432x288 with 2 Axes>"
            ],
            "image/png": "[encoded data removed]"
          },
          "metadata": {
            "needs_background": "light"
          }
        }
      ]
    },
    {
      "cell_type": "markdown",
      "source": [
        "# Logistic Regression"
      ],
      "metadata": {
        "id": "WiRrvT5bdLFE"
      }
    },
    {
      "cell_type": "code",
      "source": [
        "parameters_L ={\n",
        "    'tol': [0.1, 0.01, 0.001, 0.0001, 0.00001],\n",
        "    'C': [1.0, 1.5, 2.0, 2.5, 3.0],\n",
        "    'solver': ['lbfgs', 'sag', 'saga']}\n",
        "\n",
        "result_lr = GridSearchCV(LogisticRegression(), param_grid = parameters_L).fit(X_train, y_train)"
      ],
      "metadata": {
        "id": "mJmZKqUgYSMR"
      },
      "execution_count": null,
      "outputs": []
    },
    {
      "cell_type": "code",
      "source": [
        "best_lr = result_lr.best_score_\n",
        "best_lr"
      ],
      "metadata": {
        "colab": {
          "base_uri": "https://localhost:8080/"
        },
        "id": "NYe_MugpYR9O",
        "outputId": "542f8c67-a186-4fa2-fc6f-6f984ac37822"
      },
      "execution_count": 44,
      "outputs": [
        {
          "output_type": "execute_result",
          "data": {
            "text/plain": [
              "0.6554991539763113"
            ]
          },
          "metadata": {},
          "execution_count": 44
        }
      ]
    },
    {
      "cell_type": "code",
      "source": [
        "data_lr = pd.DataFrame(result_lr.cv_results_)\n",
        "data_lr.head(5)"
      ],
      "metadata": {
        "id": "Yq8TUr_QaBn_",
        "colab": {
          "base_uri": "https://localhost:8080/",
          "height": 704
        },
        "outputId": "9a10ff8d-0053-41cc-949c-5c39dc409546"
      },
      "execution_count": 45,
      "outputs": [
        {
          "output_type": "execute_result",
          "data": {
            "text/plain": [
              "   mean_fit_time  std_fit_time  mean_score_time  std_score_time param_C  \\\n",
              "0       0.133562      0.009818         0.002914        0.000030     1.0   \n",
              "1       0.130932      0.019048         0.003370        0.000893     1.0   \n",
              "2       0.126530      0.003427         0.003284        0.000441     1.0   \n",
              "3       0.127664      0.013770         0.002930        0.000106     1.0   \n",
              "4       0.130792      0.007979         0.002886        0.000093     1.0   \n",
              "\n",
              "  param_solver param_tol                                        params  \\\n",
              "0        lbfgs       0.1     {'C': 1.0, 'solver': 'lbfgs', 'tol': 0.1}   \n",
              "1        lbfgs      0.01    {'C': 1.0, 'solver': 'lbfgs', 'tol': 0.01}   \n",
              "2        lbfgs     0.001   {'C': 1.0, 'solver': 'lbfgs', 'tol': 0.001}   \n",
              "3        lbfgs    0.0001  {'C': 1.0, 'solver': 'lbfgs', 'tol': 0.0001}   \n",
              "4        lbfgs   0.00001   {'C': 1.0, 'solver': 'lbfgs', 'tol': 1e-05}   \n",
              "\n",
              "   split0_test_score  split1_test_score  split2_test_score  split3_test_score  \\\n",
              "0           0.648054           0.658206           0.677665           0.638748   \n",
              "1           0.648054           0.658206           0.677665           0.638748   \n",
              "2           0.648054           0.658206           0.677665           0.638748   \n",
              "3           0.648054           0.658206           0.677665           0.638748   \n",
              "4           0.648054           0.658206           0.677665           0.638748   \n",
              "\n",
              "   split4_test_score  mean_test_score  std_test_score  rank_test_score  \n",
              "0           0.643824         0.653299        0.013761                6  \n",
              "1           0.643824         0.653299        0.013761                6  \n",
              "2           0.643824         0.653299        0.013761                6  \n",
              "3           0.643824         0.653299        0.013761                6  \n",
              "4           0.643824         0.653299        0.013761                6  "
            ],
            "text/html": [
              "\n",
              "  <div id=\"df-914f7381-c545-4ee8-b764-338c55a6db55\">\n",
              "    <div class=\"colab-df-container\">\n",
              "      <div>\n",
              "<style scoped>\n",
              "    .dataframe tbody tr th:only-of-type {\n",
              "        vertical-align: middle;\n",
              "    }\n",
              "\n",
              "    .dataframe tbody tr th {\n",
              "        vertical-align: top;\n",
              "    }\n",
              "\n",
              "    .dataframe thead th {\n",
              "        text-align: right;\n",
              "    }\n",
              "</style>\n",
              "<table border=\"1\" class=\"dataframe\">\n",
              "  <thead>\n",
              "    <tr style=\"text-align: right;\">\n",
              "      <th></th>\n",
              "      <th>mean_fit_time</th>\n",
              "      <th>std_fit_time</th>\n",
              "      <th>mean_score_time</th>\n",
              "      <th>std_score_time</th>\n",
              "      <th>param_C</th>\n",
              "      <th>param_solver</th>\n",
              "      <th>param_tol</th>\n",
              "      <th>params</th>\n",
              "      <th>split0_test_score</th>\n",
              "      <th>split1_test_score</th>\n",
              "      <th>split2_test_score</th>\n",
              "      <th>split3_test_score</th>\n",
              "      <th>split4_test_score</th>\n",
              "      <th>mean_test_score</th>\n",
              "      <th>std_test_score</th>\n",
              "      <th>rank_test_score</th>\n",
              "    </tr>\n",
              "  </thead>\n",
              "  <tbody>\n",
              "    <tr>\n",
              "      <th>0</th>\n",
              "      <td>0.133562</td>\n",
              "      <td>0.009818</td>\n",
              "      <td>0.002914</td>\n",
              "      <td>0.000030</td>\n",
              "      <td>1.0</td>\n",
              "      <td>lbfgs</td>\n",
              "      <td>0.1</td>\n",
              "      <td>{'C': 1.0, 'solver': 'lbfgs', 'tol': 0.1}</td>\n",
              "      <td>0.648054</td>\n",
              "      <td>0.658206</td>\n",
              "      <td>0.677665</td>\n",
              "      <td>0.638748</td>\n",
              "      <td>0.643824</td>\n",
              "      <td>0.653299</td>\n",
              "      <td>0.013761</td>\n",
              "      <td>6</td>\n",
              "    </tr>\n",
              "    <tr>\n",
              "      <th>1</th>\n",
              "      <td>0.130932</td>\n",
              "      <td>0.019048</td>\n",
              "      <td>0.003370</td>\n",
              "      <td>0.000893</td>\n",
              "      <td>1.0</td>\n",
              "      <td>lbfgs</td>\n",
              "      <td>0.01</td>\n",
              "      <td>{'C': 1.0, 'solver': 'lbfgs', 'tol': 0.01}</td>\n",
              "      <td>0.648054</td>\n",
              "      <td>0.658206</td>\n",
              "      <td>0.677665</td>\n",
              "      <td>0.638748</td>\n",
              "      <td>0.643824</td>\n",
              "      <td>0.653299</td>\n",
              "      <td>0.013761</td>\n",
              "      <td>6</td>\n",
              "    </tr>\n",
              "    <tr>\n",
              "      <th>2</th>\n",
              "      <td>0.126530</td>\n",
              "      <td>0.003427</td>\n",
              "      <td>0.003284</td>\n",
              "      <td>0.000441</td>\n",
              "      <td>1.0</td>\n",
              "      <td>lbfgs</td>\n",
              "      <td>0.001</td>\n",
              "      <td>{'C': 1.0, 'solver': 'lbfgs', 'tol': 0.001}</td>\n",
              "      <td>0.648054</td>\n",
              "      <td>0.658206</td>\n",
              "      <td>0.677665</td>\n",
              "      <td>0.638748</td>\n",
              "      <td>0.643824</td>\n",
              "      <td>0.653299</td>\n",
              "      <td>0.013761</td>\n",
              "      <td>6</td>\n",
              "    </tr>\n",
              "    <tr>\n",
              "      <th>3</th>\n",
              "      <td>0.127664</td>\n",
              "      <td>0.013770</td>\n",
              "      <td>0.002930</td>\n",
              "      <td>0.000106</td>\n",
              "      <td>1.0</td>\n",
              "      <td>lbfgs</td>\n",
              "      <td>0.0001</td>\n",
              "      <td>{'C': 1.0, 'solver': 'lbfgs', 'tol': 0.0001}</td>\n",
              "      <td>0.648054</td>\n",
              "      <td>0.658206</td>\n",
              "      <td>0.677665</td>\n",
              "      <td>0.638748</td>\n",
              "      <td>0.643824</td>\n",
              "      <td>0.653299</td>\n",
              "      <td>0.013761</td>\n",
              "      <td>6</td>\n",
              "    </tr>\n",
              "    <tr>\n",
              "      <th>4</th>\n",
              "      <td>0.130792</td>\n",
              "      <td>0.007979</td>\n",
              "      <td>0.002886</td>\n",
              "      <td>0.000093</td>\n",
              "      <td>1.0</td>\n",
              "      <td>lbfgs</td>\n",
              "      <td>0.00001</td>\n",
              "      <td>{'C': 1.0, 'solver': 'lbfgs', 'tol': 1e-05}</td>\n",
              "      <td>0.648054</td>\n",
              "      <td>0.658206</td>\n",
              "      <td>0.677665</td>\n",
              "      <td>0.638748</td>\n",
              "      <td>0.643824</td>\n",
              "      <td>0.653299</td>\n",
              "      <td>0.013761</td>\n",
              "      <td>6</td>\n",
              "    </tr>\n",
              "  </tbody>\n",
              "</table>\n",
              "</div>\n",
              "      <button class=\"colab-df-convert\" onclick=\"convertToInteractive('df-914f7381-c545-4ee8-b764-338c55a6db55')\"\n",
              "              title=\"Convert this dataframe to an interactive table.\"\n",
              "              style=\"display:none;\">\n",
              "        \n",
              "  <svg xmlns=\"http://www.w3.org/2000/svg\" height=\"24px\"viewBox=\"0 0 24 24\"\n",
              "       width=\"24px\">\n",
              "    <path d=\"M0 0h24v24H0V0z\" fill=\"none\"/>\n",
              "    <path d=\"M18.56 5.44l.94 2.06.94-2.06 2.06-.94-2.06-.94-.94-2.06-.94 2.06-2.06.94zm-11 1L8.5 8.5l.94-2.06 2.06-.94-2.06-.94L8.5 2.5l-.94 2.06-2.06.94zm10 10l.94 2.06.94-2.06 2.06-.94-2.06-.94-.94-2.06-.94 2.06-2.06.94z\"/><path d=\"M17.41 7.96l-1.37-1.37c-.4-.4-.92-.59-1.43-.59-.52 0-1.04.2-1.43.59L10.3 9.45l-7.72 7.72c-.78.78-.78 2.05 0 2.83L4 21.41c.39.39.9.59 1.41.59.51 0 1.02-.2 1.41-.59l7.78-7.78 2.81-2.81c.8-.78.8-2.07 0-2.86zM5.41 20L4 18.59l7.72-7.72 1.47 1.35L5.41 20z\"/>\n",
              "  </svg>\n",
              "      </button>\n",
              "      \n",
              "  <style>\n",
              "    .colab-df-container {\n",
              "      display:flex;\n",
              "      flex-wrap:wrap;\n",
              "      gap: 12px;\n",
              "    }\n",
              "\n",
              "    .colab-df-convert {\n",
              "      background-color: #E8F0FE;\n",
              "      border: none;\n",
              "      border-radius: 50%;\n",
              "      cursor: pointer;\n",
              "      display: none;\n",
              "      fill: #1967D2;\n",
              "      height: 32px;\n",
              "      padding: 0 0 0 0;\n",
              "      width: 32px;\n",
              "    }\n",
              "\n",
              "    .colab-df-convert:hover {\n",
              "      background-color: #E2EBFA;\n",
              "      box-shadow: 0px 1px 2px rgba(60, 64, 67, 0.3), 0px 1px 3px 1px rgba(60, 64, 67, 0.15);\n",
              "      fill: #174EA6;\n",
              "    }\n",
              "\n",
              "    [theme=dark] .colab-df-convert {\n",
              "      background-color: #3B4455;\n",
              "      fill: #D2E3FC;\n",
              "    }\n",
              "\n",
              "    [theme=dark] .colab-df-convert:hover {\n",
              "      background-color: #434B5C;\n",
              "      box-shadow: 0px 1px 3px 1px rgba(0, 0, 0, 0.15);\n",
              "      filter: drop-shadow(0px 1px 2px rgba(0, 0, 0, 0.3));\n",
              "      fill: #FFFFFF;\n",
              "    }\n",
              "  </style>\n",
              "\n",
              "      <script>\n",
              "        const buttonEl =\n",
              "          document.querySelector('#df-914f7381-c545-4ee8-b764-338c55a6db55 button.colab-df-convert');\n",
              "        buttonEl.style.display =\n",
              "          google.colab.kernel.accessAllowed ? 'block' : 'none';\n",
              "\n",
              "        async function convertToInteractive(key) {\n",
              "          const element = document.querySelector('#df-914f7381-c545-4ee8-b764-338c55a6db55');\n",
              "          const dataTable =\n",
              "            await google.colab.kernel.invokeFunction('convertToInteractive',\n",
              "                                                     [key], {});\n",
              "          if (!dataTable) return;\n",
              "\n",
              "          const docLinkHtml = 'Like what you see? Visit the ' +\n",
              "            '<a target=\"_blank\" href=https://colab.research.google.com/notebooks/data_table.ipynb>data table notebook</a>'\n",
              "            + ' to learn more about interactive tables.';\n",
              "          element.innerHTML = '';\n",
              "          dataTable['output_type'] = 'display_data';\n",
              "          await google.colab.output.renderOutput(dataTable, element);\n",
              "          const docLink = document.createElement('div');\n",
              "          docLink.innerHTML = docLinkHtml;\n",
              "          element.appendChild(docLink);\n",
              "        }\n",
              "      </script>\n",
              "    </div>\n",
              "  </div>\n",
              "  "
            ]
          },
          "metadata": {},
          "execution_count": 45
        }
      ]
    },
    {
      "cell_type": "code",
      "source": [
        "y_pred = result_lr.predict(X_test)\n",
        "accuracy_lr = accuracy_score(y_test, y_pred)\n",
        "accuracy_lr"
      ],
      "metadata": {
        "colab": {
          "base_uri": "https://localhost:8080/"
        },
        "outputId": "bf2445eb-ee6e-4fd9-fb97-47d361a2ea8f",
        "id": "mbjaBBzDdVYS"
      },
      "execution_count": 46,
      "outputs": [
        {
          "output_type": "execute_result",
          "data": {
            "text/plain": [
              "0.671455938697318"
            ]
          },
          "metadata": {},
          "execution_count": 46
        }
      ]
    },
    {
      "cell_type": "code",
      "source": [
        "print(classification_report(y_test, y_pred))"
      ],
      "metadata": {
        "colab": {
          "base_uri": "https://localhost:8080/"
        },
        "outputId": "aa48e6b8-4c75-4564-9c8c-96b50fe6ee78",
        "id": "kMMkS8q9dVYU"
      },
      "execution_count": 47,
      "outputs": [
        {
          "output_type": "stream",
          "name": "stdout",
          "text": [
            "              precision    recall  f1-score   support\n",
            "\n",
            "           0       0.69      0.67      0.68       538\n",
            "           1       0.66      0.68      0.67       506\n",
            "\n",
            "    accuracy                           0.67      1044\n",
            "   macro avg       0.67      0.67      0.67      1044\n",
            "weighted avg       0.67      0.67      0.67      1044\n",
            "\n"
          ]
        }
      ]
    },
    {
      "cell_type": "code",
      "source": [
        "ConfusionMatrixDisplay.from_estimator(result_lr, X_test, y_test);"
      ],
      "metadata": {
        "colab": {
          "base_uri": "https://localhost:8080/",
          "height": 279
        },
        "outputId": "74f916be-a2a0-426c-c0a3-bf2fdbb80470",
        "id": "6NLxPrhedVYV"
      },
      "execution_count": 48,
      "outputs": [
        {
          "output_type": "display_data",
          "data": {
            "text/plain": [
              "<Figure size 432x288 with 2 Axes>"
            ],
            "image/png": "[encoded data removed]"
          },
          "metadata": {
            "needs_background": "light"
          }
        }
      ]
    },
    {
      "cell_type": "markdown",
      "source": [
        "# KNN"
      ],
      "metadata": {
        "id": "KoaUr9Izdjfw"
      }
    },
    {
      "cell_type": "code",
      "source": [
        "parameters_K = {\n",
        "    'n_neighbors':[3, 5, 10, 20, 35],\n",
        "    'p':[1,2]}\n",
        "result_knn = GridSearchCV(KNeighborsClassifier(), param_grid = parameters_K).fit(X, y)\n",
        "best_knn = result_knn.best_score_\n",
        "data_knn = pd.DataFrame(result_knn.cv_results_)"
      ],
      "metadata": {
        "id": "p5BB_oDabBnM"
      },
      "execution_count": 49,
      "outputs": []
    },
    {
      "cell_type": "code",
      "source": [
        "data_knn = pd.DataFrame(result_knn.cv_results_)\n",
        "data_knn.head(5)"
      ],
      "metadata": {
        "colab": {
          "base_uri": "https://localhost:8080/",
          "height": 357
        },
        "id": "-JNXfbHqdvz7",
        "outputId": "1b5d2ca5-035b-4d83-c0a3-a880ae019c4c"
      },
      "execution_count": 50,
      "outputs": [
        {
          "output_type": "execute_result",
          "data": {
            "text/plain": [
              "   mean_fit_time  std_fit_time  mean_score_time  std_score_time  \\\n",
              "0       0.010792      0.001230         0.072796        0.003046   \n",
              "1       0.009805      0.000064         0.054414        0.002552   \n",
              "2       0.010154      0.000821         0.086114        0.004506   \n",
              "3       0.009974      0.000261         0.063165        0.005338   \n",
              "4       0.009654      0.000050         0.104080        0.004026   \n",
              "\n",
              "  param_n_neighbors param_p                       params  split0_test_score  \\\n",
              "0                 3       1   {'n_neighbors': 3, 'p': 1}           0.854062   \n",
              "1                 3       2   {'n_neighbors': 3, 'p': 2}           0.848311   \n",
              "2                 5       1   {'n_neighbors': 5, 'p': 1}           0.799425   \n",
              "3                 5       2   {'n_neighbors': 5, 'p': 2}           0.792236   \n",
              "4                10       1  {'n_neighbors': 10, 'p': 1}           0.720345   \n",
              "\n",
              "   split1_test_score  split2_test_score  split3_test_score  split4_test_score  \\\n",
              "0           0.861970           0.861970           0.870597           0.846763   \n",
              "1           0.865564           0.860532           0.861970           0.856115   \n",
              "2           0.791517           0.800863           0.808771           0.792806   \n",
              "3           0.798706           0.798706           0.800863           0.802158   \n",
              "4           0.698778           0.723221           0.725377           0.728777   \n",
              "\n",
              "   mean_test_score  std_test_score  rank_test_score  \n",
              "0         0.859072        0.008078                1  \n",
              "1         0.858498        0.005926                2  \n",
              "2         0.798676        0.006212                3  \n",
              "3         0.798534        0.003414                4  \n",
              "4         0.719300        0.010624                6  "
            ],
            "text/html": [
              "\n",
              "  <div id=\"df-7ecd2951-99bc-46fd-bd15-881a46018060\">\n",
              "    <div class=\"colab-df-container\">\n",
              "      <div>\n",
              "<style scoped>\n",
              "    .dataframe tbody tr th:only-of-type {\n",
              "        vertical-align: middle;\n",
              "    }\n",
              "\n",
              "    .dataframe tbody tr th {\n",
              "        vertical-align: top;\n",
              "    }\n",
              "\n",
              "    .dataframe thead th {\n",
              "        text-align: right;\n",
              "    }\n",
              "</style>\n",
              "<table border=\"1\" class=\"dataframe\">\n",
              "  <thead>\n",
              "    <tr style=\"text-align: right;\">\n",
              "      <th></th>\n",
              "      <th>mean_fit_time</th>\n",
              "      <th>std_fit_time</th>\n",
              "      <th>mean_score_time</th>\n",
              "      <th>std_score_time</th>\n",
              "      <th>param_n_neighbors</th>\n",
              "      <th>param_p</th>\n",
              "      <th>params</th>\n",
              "      <th>split0_test_score</th>\n",
              "      <th>split1_test_score</th>\n",
              "      <th>split2_test_score</th>\n",
              "      <th>split3_test_score</th>\n",
              "      <th>split4_test_score</th>\n",
              "      <th>mean_test_score</th>\n",
              "      <th>std_test_score</th>\n",
              "      <th>rank_test_score</th>\n",
              "    </tr>\n",
              "  </thead>\n",
              "  <tbody>\n",
              "    <tr>\n",
              "      <th>0</th>\n",
              "      <td>0.010792</td>\n",
              "      <td>0.001230</td>\n",
              "      <td>0.072796</td>\n",
              "      <td>0.003046</td>\n",
              "      <td>3</td>\n",
              "      <td>1</td>\n",
              "      <td>{'n_neighbors': 3, 'p': 1}</td>\n",
              "      <td>0.854062</td>\n",
              "      <td>0.861970</td>\n",
              "      <td>0.861970</td>\n",
              "      <td>0.870597</td>\n",
              "      <td>0.846763</td>\n",
              "      <td>0.859072</td>\n",
              "      <td>0.008078</td>\n",
              "      <td>1</td>\n",
              "    </tr>\n",
              "    <tr>\n",
              "      <th>1</th>\n",
              "      <td>0.009805</td>\n",
              "      <td>0.000064</td>\n",
              "      <td>0.054414</td>\n",
              "      <td>0.002552</td>\n",
              "      <td>3</td>\n",
              "      <td>2</td>\n",
              "      <td>{'n_neighbors': 3, 'p': 2}</td>\n",
              "      <td>0.848311</td>\n",
              "      <td>0.865564</td>\n",
              "      <td>0.860532</td>\n",
              "      <td>0.861970</td>\n",
              "      <td>0.856115</td>\n",
              "      <td>0.858498</td>\n",
              "      <td>0.005926</td>\n",
              "      <td>2</td>\n",
              "    </tr>\n",
              "    <tr>\n",
              "      <th>2</th>\n",
              "      <td>0.010154</td>\n",
              "      <td>0.000821</td>\n",
              "      <td>0.086114</td>\n",
              "      <td>0.004506</td>\n",
              "      <td>5</td>\n",
              "      <td>1</td>\n",
              "      <td>{'n_neighbors': 5, 'p': 1}</td>\n",
              "      <td>0.799425</td>\n",
              "      <td>0.791517</td>\n",
              "      <td>0.800863</td>\n",
              "      <td>0.808771</td>\n",
              "      <td>0.792806</td>\n",
              "      <td>0.798676</td>\n",
              "      <td>0.006212</td>\n",
              "      <td>3</td>\n",
              "    </tr>\n",
              "    <tr>\n",
              "      <th>3</th>\n",
              "      <td>0.009974</td>\n",
              "      <td>0.000261</td>\n",
              "      <td>0.063165</td>\n",
              "      <td>0.005338</td>\n",
              "      <td>5</td>\n",
              "      <td>2</td>\n",
              "      <td>{'n_neighbors': 5, 'p': 2}</td>\n",
              "      <td>0.792236</td>\n",
              "      <td>0.798706</td>\n",
              "      <td>0.798706</td>\n",
              "      <td>0.800863</td>\n",
              "      <td>0.802158</td>\n",
              "      <td>0.798534</td>\n",
              "      <td>0.003414</td>\n",
              "      <td>4</td>\n",
              "    </tr>\n",
              "    <tr>\n",
              "      <th>4</th>\n",
              "      <td>0.009654</td>\n",
              "      <td>0.000050</td>\n",
              "      <td>0.104080</td>\n",
              "      <td>0.004026</td>\n",
              "      <td>10</td>\n",
              "      <td>1</td>\n",
              "      <td>{'n_neighbors': 10, 'p': 1}</td>\n",
              "      <td>0.720345</td>\n",
              "      <td>0.698778</td>\n",
              "      <td>0.723221</td>\n",
              "      <td>0.725377</td>\n",
              "      <td>0.728777</td>\n",
              "      <td>0.719300</td>\n",
              "      <td>0.010624</td>\n",
              "      <td>6</td>\n",
              "    </tr>\n",
              "  </tbody>\n",
              "</table>\n",
              "</div>\n",
              "      <button class=\"colab-df-convert\" onclick=\"convertToInteractive('df-7ecd2951-99bc-46fd-bd15-881a46018060')\"\n",
              "              title=\"Convert this dataframe to an interactive table.\"\n",
              "              style=\"display:none;\">\n",
              "        \n",
              "  <svg xmlns=\"http://www.w3.org/2000/svg\" height=\"24px\"viewBox=\"0 0 24 24\"\n",
              "       width=\"24px\">\n",
              "    <path d=\"M0 0h24v24H0V0z\" fill=\"none\"/>\n",
              "    <path d=\"M18.56 5.44l.94 2.06.94-2.06 2.06-.94-2.06-.94-.94-2.06-.94 2.06-2.06.94zm-11 1L8.5 8.5l.94-2.06 2.06-.94-2.06-.94L8.5 2.5l-.94 2.06-2.06.94zm10 10l.94 2.06.94-2.06 2.06-.94-2.06-.94-.94-2.06-.94 2.06-2.06.94z\"/><path d=\"M17.41 7.96l-1.37-1.37c-.4-.4-.92-.59-1.43-.59-.52 0-1.04.2-1.43.59L10.3 9.45l-7.72 7.72c-.78.78-.78 2.05 0 2.83L4 21.41c.39.39.9.59 1.41.59.51 0 1.02-.2 1.41-.59l7.78-7.78 2.81-2.81c.8-.78.8-2.07 0-2.86zM5.41 20L4 18.59l7.72-7.72 1.47 1.35L5.41 20z\"/>\n",
              "  </svg>\n",
              "      </button>\n",
              "      \n",
              "  <style>\n",
              "    .colab-df-container {\n",
              "      display:flex;\n",
              "      flex-wrap:wrap;\n",
              "      gap: 12px;\n",
              "    }\n",
              "\n",
              "    .colab-df-convert {\n",
              "      background-color: #E8F0FE;\n",
              "      border: none;\n",
              "      border-radius: 50%;\n",
              "      cursor: pointer;\n",
              "      display: none;\n",
              "      fill: #1967D2;\n",
              "      height: 32px;\n",
              "      padding: 0 0 0 0;\n",
              "      width: 32px;\n",
              "    }\n",
              "\n",
              "    .colab-df-convert:hover {\n",
              "      background-color: #E2EBFA;\n",
              "      box-shadow: 0px 1px 2px rgba(60, 64, 67, 0.3), 0px 1px 3px 1px rgba(60, 64, 67, 0.15);\n",
              "      fill: #174EA6;\n",
              "    }\n",
              "\n",
              "    [theme=dark] .colab-df-convert {\n",
              "      background-color: #3B4455;\n",
              "      fill: #D2E3FC;\n",
              "    }\n",
              "\n",
              "    [theme=dark] .colab-df-convert:hover {\n",
              "      background-color: #434B5C;\n",
              "      box-shadow: 0px 1px 3px 1px rgba(0, 0, 0, 0.15);\n",
              "      filter: drop-shadow(0px 1px 2px rgba(0, 0, 0, 0.3));\n",
              "      fill: #FFFFFF;\n",
              "    }\n",
              "  </style>\n",
              "\n",
              "      <script>\n",
              "        const buttonEl =\n",
              "          document.querySelector('#df-7ecd2951-99bc-46fd-bd15-881a46018060 button.colab-df-convert');\n",
              "        buttonEl.style.display =\n",
              "          google.colab.kernel.accessAllowed ? 'block' : 'none';\n",
              "\n",
              "        async function convertToInteractive(key) {\n",
              "          const element = document.querySelector('#df-7ecd2951-99bc-46fd-bd15-881a46018060');\n",
              "          const dataTable =\n",
              "            await google.colab.kernel.invokeFunction('convertToInteractive',\n",
              "                                                     [key], {});\n",
              "          if (!dataTable) return;\n",
              "\n",
              "          const docLinkHtml = 'Like what you see? Visit the ' +\n",
              "            '<a target=\"_blank\" href=https://colab.research.google.com/notebooks/data_table.ipynb>data table notebook</a>'\n",
              "            + ' to learn more about interactive tables.';\n",
              "          element.innerHTML = '';\n",
              "          dataTable['output_type'] = 'display_data';\n",
              "          await google.colab.output.renderOutput(dataTable, element);\n",
              "          const docLink = document.createElement('div');\n",
              "          docLink.innerHTML = docLinkHtml;\n",
              "          element.appendChild(docLink);\n",
              "        }\n",
              "      </script>\n",
              "    </div>\n",
              "  </div>\n",
              "  "
            ]
          },
          "metadata": {},
          "execution_count": 50
        }
      ]
    },
    {
      "cell_type": "code",
      "source": [
        "y_pred = result_knn.predict(X_test)\n",
        "accuracy_knn = accuracy_score(y_test, y_pred)\n",
        "accuracy_knn"
      ],
      "metadata": {
        "colab": {
          "base_uri": "https://localhost:8080/"
        },
        "outputId": "dda2dbaa-f1a6-4497-e695-7d3800e53ca0",
        "id": "EtJKNjGMdvz7"
      },
      "execution_count": 51,
      "outputs": [
        {
          "output_type": "execute_result",
          "data": {
            "text/plain": [
              "0.9386973180076629"
            ]
          },
          "metadata": {},
          "execution_count": 51
        }
      ]
    },
    {
      "cell_type": "code",
      "source": [
        "print(classification_report(y_test, y_pred))"
      ],
      "metadata": {
        "colab": {
          "base_uri": "https://localhost:8080/"
        },
        "outputId": "d5642baf-c19b-4978-a3dc-2a5f4a3d8291",
        "id": "eOekTZl9dvz8"
      },
      "execution_count": 52,
      "outputs": [
        {
          "output_type": "stream",
          "name": "stdout",
          "text": [
            "              precision    recall  f1-score   support\n",
            "\n",
            "           0       0.99      0.89      0.94       538\n",
            "           1       0.89      0.99      0.94       506\n",
            "\n",
            "    accuracy                           0.94      1044\n",
            "   macro avg       0.94      0.94      0.94      1044\n",
            "weighted avg       0.94      0.94      0.94      1044\n",
            "\n"
          ]
        }
      ]
    },
    {
      "cell_type": "code",
      "source": [
        "ConfusionMatrixDisplay.from_estimator(result_knn, X_test, y_test);"
      ],
      "metadata": {
        "colab": {
          "base_uri": "https://localhost:8080/",
          "height": 282
        },
        "outputId": "68990b62-00a8-4a0d-c7c0-85a1c64e9cb0",
        "id": "40oKmIi8dvz8"
      },
      "execution_count": 53,
      "outputs": [
        {
          "output_type": "display_data",
          "data": {
            "text/plain": [
              "<Figure size 432x288 with 2 Axes>"
            ],
            "image/png": "[encoded data removed]"
          },
          "metadata": {
            "needs_background": "light"
          }
        }
      ]
    },
    {
      "cell_type": "code",
      "source": [
        "plt.hist(x=data.idade, bins=20);"
      ],
      "metadata": {
        "id": "EIWqdhSrnvlV",
        "colab": {
          "base_uri": "https://localhost:8080/",
          "height": 265
        },
        "outputId": "ee5845f9-1e5a-4631-e397-15d4f6db63d7"
      },
      "execution_count": 57,
      "outputs": [
        {
          "output_type": "display_data",
          "data": {
            "text/plain": [
              "<Figure size 432x288 with 1 Axes>"
            ],
            "image/png": "[encoded data removed]"
          },
          "metadata": {
            "needs_background": "light"
          }
        }
      ]
    },
    {
      "cell_type": "markdown",
      "source": [
        "# Using the best parameters"
      ],
      "metadata": {
        "id": "yg_qpuaWsZYJ"
      }
    },
    {
      "cell_type": "code",
      "source": [
        "random_forest_parameters = result_RF.best_params_"
      ],
      "metadata": {
        "id": "ObFaZziqpp1-"
      },
      "execution_count": 70,
      "outputs": []
    },
    {
      "cell_type": "code",
      "source": [
        "best_model = RandomForestClassifier(**random_forest_parameters).fit(X_train, y_train)"
      ],
      "metadata": {
        "id": "zaZcJ0Vxq1nr"
      },
      "execution_count": 74,
      "outputs": []
    },
    {
      "cell_type": "code",
      "source": [
        "clf = DecisionTreeClassifier(max_depth=120).fit(X_train, y_train)"
      ],
      "metadata": {
        "id": "1JTQYwVfsvTD"
      },
      "execution_count": 75,
      "outputs": []
    },
    {
      "cell_type": "code",
      "source": [
        "def plot_roc_curve(fper, tper):\n",
        "    plt.plot(fper, tper, color='red', label='ROC')\n",
        "    plt.plot([0, 1], [0, 1], color='green', linestyle='--')\n",
        "    plt.xlabel('False Positive Rate')\n",
        "    plt.ylabel('True Positive Rate')\n",
        "    plt.title('Receiver Operating Characteristic Curve')\n",
        "    plt.legend()\n",
        "    plt.show()"
      ],
      "metadata": {
        "id": "_Xv91xBLs_Xa"
      },
      "execution_count": 77,
      "outputs": []
    },
    {
      "cell_type": "code",
      "source": [
        "y_pred = best_model.predict_proba(X_test)\n",
        "y_pred = y_pred[:, 1]\n",
        "fper, tper, thresholds = roc_curve(y_test, y_pred)\n",
        "plot_roc_curve(fper, tper)\n",
        "print('\\n')\n",
        "ConfusionMatrixDisplay.from_estimator(best_model, X_test, y_test);"
      ],
      "metadata": {
        "colab": {
          "base_uri": "https://localhost:8080/",
          "height": 592
        },
        "id": "v3TXFL6XuhCw",
        "outputId": "fb468c2e-5681-4158-f466-64087ba6cef4"
      },
      "execution_count": 81,
      "outputs": [
        {
          "output_type": "display_data",
          "data": {
            "text/plain": [
              "<Figure size 432x288 with 1 Axes>"
            ],
            "image/png": "[encoded data removed]"
          },
          "metadata": {
            "needs_background": "light"
          }
        },
        {
          "output_type": "stream",
          "name": "stdout",
          "text": [
            "\n",
            "\n"
          ]
        },
        {
          "output_type": "display_data",
          "data": {
            "text/plain": [
              "<Figure size 432x288 with 2 Axes>"
            ],
            "image/png": "[encoded data removed]"
          },
          "metadata": {
            "needs_background": "light"
          }
        }
      ]
    },
    {
      "cell_type": "code",
      "source": [
        "y_pred = clf.predict_proba(X_test)\n",
        "y_pred = y_pred[:, 1]\n",
        "fper, tper, thresholds = roc_curve(y_test, y_pred)\n",
        "plot_roc_curve(fper, tper)\n",
        "print('\\n')\n",
        "ConfusionMatrixDisplay.from_estimator(clf, X_test, y_test);"
      ],
      "metadata": {
        "colab": {
          "base_uri": "https://localhost:8080/",
          "height": 596
        },
        "id": "3sidwK8Tu5vL",
        "outputId": "fe3211d7-f355-4b15-dd00-0d91f4eb8af8"
      },
      "execution_count": 82,
      "outputs": [
        {
          "output_type": "display_data",
          "data": {
            "text/plain": [
              "<Figure size 432x288 with 1 Axes>"
            ],
            "image/png": "[encoded data removed]"
          },
          "metadata": {
            "needs_background": "light"
          }
        },
        {
          "output_type": "stream",
          "name": "stdout",
          "text": [
            "\n",
            "\n"
          ]
        },
        {
          "output_type": "display_data",
          "data": {
            "text/plain": [
              "<Figure size 432x288 with 2 Axes>"
            ],
            "image/png": "[encoded data removed]"
          },
          "metadata": {
            "needs_background": "light"
          }
        }
      ]
    },
    {
      "cell_type": "code",
      "source": [
        "y_pred = best_model.predict(X_test)\n",
        "accuracy_best = accuracy_score(y_test, y_pred)\n",
        "accuracy_best"
      ],
      "metadata": {
        "colab": {
          "base_uri": "https://localhost:8080/"
        },
        "outputId": "ac9446bb-0a8d-40a2-cc52-c5181e323c3f",
        "id": "f9KvACbuxrDp"
      },
      "execution_count": 93,
      "outputs": [
        {
          "output_type": "execute_result",
          "data": {
            "text/plain": [
              "0.9521072796934866"
            ]
          },
          "metadata": {},
          "execution_count": 93
        }
      ]
    },
    {
      "cell_type": "code",
      "source": [
        "print(classification_report(y_test, y_pred))"
      ],
      "metadata": {
        "colab": {
          "base_uri": "https://localhost:8080/"
        },
        "outputId": "f71d7057-f4f7-461e-a7b3-ce8a16d8354d",
        "id": "c35EoF2mxrD8"
      },
      "execution_count": 94,
      "outputs": [
        {
          "output_type": "stream",
          "name": "stdout",
          "text": [
            "              precision    recall  f1-score   support\n",
            "\n",
            "           0       0.98      0.93      0.95       538\n",
            "           1       0.93      0.98      0.95       506\n",
            "\n",
            "    accuracy                           0.95      1044\n",
            "   macro avg       0.95      0.95      0.95      1044\n",
            "weighted avg       0.95      0.95      0.95      1044\n",
            "\n"
          ]
        }
      ]
    },
    {
      "cell_type": "code",
      "source": [
        "y_pred = clf.predict(X_test)\n",
        "accuracy_best = accuracy_score(y_test, y_pred)\n",
        "print(accuracy_best)\n",
        "print(classification_report(y_test, y_pred))"
      ],
      "metadata": {
        "colab": {
          "base_uri": "https://localhost:8080/"
        },
        "id": "SvXLXAIzvzPE",
        "outputId": "8a671c34-e084-4e04-e31b-14a054f1d6c3"
      },
      "execution_count": 95,
      "outputs": [
        {
          "output_type": "stream",
          "name": "stdout",
          "text": [
            "0.9128352490421456\n",
            "              precision    recall  f1-score   support\n",
            "\n",
            "           0       0.99      0.84      0.91       538\n",
            "           1       0.85      0.99      0.92       506\n",
            "\n",
            "    accuracy                           0.91      1044\n",
            "   macro avg       0.92      0.92      0.91      1044\n",
            "weighted avg       0.92      0.91      0.91      1044\n",
            "\n"
          ]
        }
      ]
    },
    {
      "cell_type": "code",
      "source": [
        "features = pd.Series(data=best_model.feature_importances_, index=X_test.columns).sort_values(ascending=False)"
      ],
      "metadata": {
        "id": "DcqYdnhmx6dI"
      },
      "execution_count": 97,
      "outputs": []
    },
    {
      "cell_type": "code",
      "source": [
        "features"
      ],
      "metadata": {
        "colab": {
          "base_uri": "https://localhost:8080/"
        },
        "id": "egsZF0ZuOaNx",
        "outputId": "0deb6596-8ec3-4d45-dd20-1520e136bcfa"
      },
      "execution_count": 98,
      "outputs": [
        {
          "output_type": "execute_result",
          "data": {
            "text/plain": [
              "idade                          0.150635\n",
              "pressao_arterial_sistolica     0.146609\n",
              "IMC                            0.130600\n",
              "colesterol_total               0.123843\n",
              "glicemia                       0.120526\n",
              "pressao_arterial_diastolica    0.116159\n",
              "freq_cardiaca                  0.101612\n",
              "cigarros_por_dia               0.046690\n",
              "fumante                        0.022173\n",
              "sexo                           0.021617\n",
              "hipertensao                    0.019537\n",
              "dtype: float64"
            ]
          },
          "metadata": {},
          "execution_count": 98
        }
      ]
    },
    {
      "cell_type": "code",
      "source": [
        "data_features = pd.DataFrame(features, columns = ['importance'])"
      ],
      "metadata": {
        "id": "jZCdReSIOc6w"
      },
      "execution_count": 129,
      "outputs": []
    },
    {
      "cell_type": "code",
      "source": [
        "data_features"
      ],
      "metadata": {
        "colab": {
          "base_uri": "https://localhost:8080/",
          "height": 394
        },
        "id": "d9AiTPmWPUu3",
        "outputId": "ba3bf932-0793-4c34-959e-c864382d3564"
      },
      "execution_count": 152,
      "outputs": [
        {
          "output_type": "execute_result",
          "data": {
            "text/plain": [
              "                             importance\n",
              "idade                          0.150635\n",
              "pressao_arterial_sistolica     0.146609\n",
              "IMC                            0.130600\n",
              "colesterol_total               0.123843\n",
              "glicemia                       0.120526\n",
              "pressao_arterial_diastolica    0.116159\n",
              "freq_cardiaca                  0.101612\n",
              "cigarros_por_dia               0.046690\n",
              "fumante                        0.022173\n",
              "sexo                           0.021617\n",
              "hipertensao                    0.019537"
            ],
            "text/html": [
              "\n",
              "  <div id=\"df-c1020cd6-69ae-46e0-8853-1d3565a692f3\">\n",
              "    <div class=\"colab-df-container\">\n",
              "      <div>\n",
              "<style scoped>\n",
              "    .dataframe tbody tr th:only-of-type {\n",
              "        vertical-align: middle;\n",
              "    }\n",
              "\n",
              "    .dataframe tbody tr th {\n",
              "        vertical-align: top;\n",
              "    }\n",
              "\n",
              "    .dataframe thead th {\n",
              "        text-align: right;\n",
              "    }\n",
              "</style>\n",
              "<table border=\"1\" class=\"dataframe\">\n",
              "  <thead>\n",
              "    <tr style=\"text-align: right;\">\n",
              "      <th></th>\n",
              "      <th>importance</th>\n",
              "    </tr>\n",
              "  </thead>\n",
              "  <tbody>\n",
              "    <tr>\n",
              "      <th>idade</th>\n",
              "      <td>0.150635</td>\n",
              "    </tr>\n",
              "    <tr>\n",
              "      <th>pressao_arterial_sistolica</th>\n",
              "      <td>0.146609</td>\n",
              "    </tr>\n",
              "    <tr>\n",
              "      <th>IMC</th>\n",
              "      <td>0.130600</td>\n",
              "    </tr>\n",
              "    <tr>\n",
              "      <th>colesterol_total</th>\n",
              "      <td>0.123843</td>\n",
              "    </tr>\n",
              "    <tr>\n",
              "      <th>glicemia</th>\n",
              "      <td>0.120526</td>\n",
              "    </tr>\n",
              "    <tr>\n",
              "      <th>pressao_arterial_diastolica</th>\n",
              "      <td>0.116159</td>\n",
              "    </tr>\n",
              "    <tr>\n",
              "      <th>freq_cardiaca</th>\n",
              "      <td>0.101612</td>\n",
              "    </tr>\n",
              "    <tr>\n",
              "      <th>cigarros_por_dia</th>\n",
              "      <td>0.046690</td>\n",
              "    </tr>\n",
              "    <tr>\n",
              "      <th>fumante</th>\n",
              "      <td>0.022173</td>\n",
              "    </tr>\n",
              "    <tr>\n",
              "      <th>sexo</th>\n",
              "      <td>0.021617</td>\n",
              "    </tr>\n",
              "    <tr>\n",
              "      <th>hipertensao</th>\n",
              "      <td>0.019537</td>\n",
              "    </tr>\n",
              "  </tbody>\n",
              "</table>\n",
              "</div>\n",
              "      <button class=\"colab-df-convert\" onclick=\"convertToInteractive('df-c1020cd6-69ae-46e0-8853-1d3565a692f3')\"\n",
              "              title=\"Convert this dataframe to an interactive table.\"\n",
              "              style=\"display:none;\">\n",
              "        \n",
              "  <svg xmlns=\"http://www.w3.org/2000/svg\" height=\"24px\"viewBox=\"0 0 24 24\"\n",
              "       width=\"24px\">\n",
              "    <path d=\"M0 0h24v24H0V0z\" fill=\"none\"/>\n",
              "    <path d=\"M18.56 5.44l.94 2.06.94-2.06 2.06-.94-2.06-.94-.94-2.06-.94 2.06-2.06.94zm-11 1L8.5 8.5l.94-2.06 2.06-.94-2.06-.94L8.5 2.5l-.94 2.06-2.06.94zm10 10l.94 2.06.94-2.06 2.06-.94-2.06-.94-.94-2.06-.94 2.06-2.06.94z\"/><path d=\"M17.41 7.96l-1.37-1.37c-.4-.4-.92-.59-1.43-.59-.52 0-1.04.2-1.43.59L10.3 9.45l-7.72 7.72c-.78.78-.78 2.05 0 2.83L4 21.41c.39.39.9.59 1.41.59.51 0 1.02-.2 1.41-.59l7.78-7.78 2.81-2.81c.8-.78.8-2.07 0-2.86zM5.41 20L4 18.59l7.72-7.72 1.47 1.35L5.41 20z\"/>\n",
              "  </svg>\n",
              "      </button>\n",
              "      \n",
              "  <style>\n",
              "    .colab-df-container {\n",
              "      display:flex;\n",
              "      flex-wrap:wrap;\n",
              "      gap: 12px;\n",
              "    }\n",
              "\n",
              "    .colab-df-convert {\n",
              "      background-color: #E8F0FE;\n",
              "      border: none;\n",
              "      border-radius: 50%;\n",
              "      cursor: pointer;\n",
              "      display: none;\n",
              "      fill: #1967D2;\n",
              "      height: 32px;\n",
              "      padding: 0 0 0 0;\n",
              "      width: 32px;\n",
              "    }\n",
              "\n",
              "    .colab-df-convert:hover {\n",
              "      background-color: #E2EBFA;\n",
              "      box-shadow: 0px 1px 2px rgba(60, 64, 67, 0.3), 0px 1px 3px 1px rgba(60, 64, 67, 0.15);\n",
              "      fill: #174EA6;\n",
              "    }\n",
              "\n",
              "    [theme=dark] .colab-df-convert {\n",
              "      background-color: #3B4455;\n",
              "      fill: #D2E3FC;\n",
              "    }\n",
              "\n",
              "    [theme=dark] .colab-df-convert:hover {\n",
              "      background-color: #434B5C;\n",
              "      box-shadow: 0px 1px 3px 1px rgba(0, 0, 0, 0.15);\n",
              "      filter: drop-shadow(0px 1px 2px rgba(0, 0, 0, 0.3));\n",
              "      fill: #FFFFFF;\n",
              "    }\n",
              "  </style>\n",
              "\n",
              "      <script>\n",
              "        const buttonEl =\n",
              "          document.querySelector('#df-c1020cd6-69ae-46e0-8853-1d3565a692f3 button.colab-df-convert');\n",
              "        buttonEl.style.display =\n",
              "          google.colab.kernel.accessAllowed ? 'block' : 'none';\n",
              "\n",
              "        async function convertToInteractive(key) {\n",
              "          const element = document.querySelector('#df-c1020cd6-69ae-46e0-8853-1d3565a692f3');\n",
              "          const dataTable =\n",
              "            await google.colab.kernel.invokeFunction('convertToInteractive',\n",
              "                                                     [key], {});\n",
              "          if (!dataTable) return;\n",
              "\n",
              "          const docLinkHtml = 'Like what you see? Visit the ' +\n",
              "            '<a target=\"_blank\" href=https://colab.research.google.com/notebooks/data_table.ipynb>data table notebook</a>'\n",
              "            + ' to learn more about interactive tables.';\n",
              "          element.innerHTML = '';\n",
              "          dataTable['output_type'] = 'display_data';\n",
              "          await google.colab.output.renderOutput(dataTable, element);\n",
              "          const docLink = document.createElement('div');\n",
              "          docLink.innerHTML = docLinkHtml;\n",
              "          element.appendChild(docLink);\n",
              "        }\n",
              "      </script>\n",
              "    </div>\n",
              "  </div>\n",
              "  "
            ]
          },
          "metadata": {},
          "execution_count": 152
        }
      ]
    },
    {
      "cell_type": "code",
      "source": [
        "data_features.plot.barh();"
      ],
      "metadata": {
        "colab": {
          "base_uri": "https://localhost:8080/",
          "height": 265
        },
        "id": "mDgQoq4bPp_X",
        "outputId": "c44cebaa-cdfb-419b-a2f3-4cd3ec36ed6d"
      },
      "execution_count": 146,
      "outputs": [
        {
          "output_type": "display_data",
          "data": {
            "text/plain": [
              "<Figure size 432x288 with 1 Axes>"
            ],
            "image/png": "[encoded data removed]"
          },
          "metadata": {
            "needs_background": "light"
          }
        }
      ]
    },
    {
      "cell_type": "code",
      "source": [
        "fig = px.area(data_features)\n",
        "fig.show()"
      ],
      "metadata": {
        "colab": {
          "base_uri": "https://localhost:8080/",
          "height": 542
        },
        "id": "pEBN34IlX_w3",
        "outputId": "53b500dc-d078-4aa4-f88d-3d6fb60e4db2"
      },
      "execution_count": 157,
      "outputs": [
        {
          "output_type": "display_data",
          "data": {
            "text/html": [
              "<html>\n",
              "<head><meta charset=\"utf-8\" /></head>\n",
              "<body>\n",
              "    <div>            <script src=\"https://cdnjs.cloudflare.com/ajax/libs/mathjax/2.7.5/MathJax.js?config=TeX-AMS-MML_SVG\"></script><script type=\"text/javascript\">if (window.MathJax) {MathJax.Hub.Config({SVG: {font: \"STIX-Web\"}});}</script>                <script type=\"text/javascript\">window.PlotlyConfig = {MathJaxConfig: 'local'};</script>\n",
              "        <script src=\"https://cdn.plot.ly/plotly-2.8.3.min.js\"></script>                <div id=\"9f7b9c79-741f-460c-acff-3cffbf30eae5\" class=\"plotly-graph-div\" style=\"height:525px; width:100%;\"></div>            <script type=\"text/javascript\">                                    window.PLOTLYENV=window.PLOTLYENV || {};                                    if (document.getElementById(\"9f7b9c79-741f-460c-acff-3cffbf30eae5\")) {                    Plotly.newPlot(                        \"9f7b9c79-741f-460c-acff-3cffbf30eae5\",                        [{\"hovertemplate\":\"variable=importance<br>index=%{x}<br>value=%{y}<extra></extra>\",\"legendgroup\":\"importance\",\"line\":{\"color\":\"#636efa\"},\"marker\":{\"symbol\":\"circle\"},\"mode\":\"lines\",\"name\":\"importance\",\"orientation\":\"v\",\"showlegend\":true,\"stackgroup\":\"1\",\"x\":[\"idade\",\"pressao_arterial_sistolica\",\"IMC\",\"colesterol_total\",\"glicemia\",\"pressao_arterial_diastolica\",\"freq_cardiaca\",\"cigarros_por_dia\",\"fumante\",\"sexo\",\"hipertensao\"],\"xaxis\":\"x\",\"y\":[0.1506346301080396,0.14660939184794033,0.13059986584985578,0.12384301394963748,0.12052644419576847,0.11615850287396463,0.1016121267413909,0.046690225827020246,0.02217272862938044,0.021616545713063862,0.019536524263938305],\"yaxis\":\"y\",\"type\":\"scatter\"}],                        {\"template\":{\"data\":{\"bar\":[{\"error_x\":{\"color\":\"#2a3f5f\"},\"error_y\":{\"color\":\"#2a3f5f\"},\"marker\":{\"line\":{\"color\":\"#E5ECF6\",\"width\":0.5},\"pattern\":{\"fillmode\":\"overlay\",\"size\":10,\"solidity\":0.2}},\"type\":\"bar\"}],\"barpolar\":[{\"marker\":{\"line\":{\"color\":\"#E5ECF6\",\"width\":0.5},\"pattern\":{\"fillmode\":\"overlay\",\"size\":10,\"solidity\":0.2}},\"type\":\"barpolar\"}],\"carpet\":[{\"aaxis\":{\"endlinecolor\":\"#2a3f5f\",\"gridcolor\":\"white\",\"linecolor\":\"white\",\"minorgridcolor\":\"white\",\"startlinecolor\":\"#2a3f5f\"},\"baxis\":{\"endlinecolor\":\"#2a3f5f\",\"gridcolor\":\"white\",\"linecolor\":\"white\",\"minorgridcolor\":\"white\",\"startlinecolor\":\"#2a3f5f\"},\"type\":\"carpet\"}],\"choropleth\":[{\"colorbar\":{\"outlinewidth\":0,\"ticks\":\"\"},\"type\":\"choropleth\"}],\"contour\":[{\"colorbar\":{\"outlinewidth\":0,\"ticks\":\"\"},\"colorscale\":[[0.0,\"#0d0887\"],[0.1111111111111111,\"#46039f\"],[0.2222222222222222,\"#7201a8\"],[0.3333333333333333,\"#9c179e\"],[0.4444444444444444,\"#bd3786\"],[0.5555555555555556,\"#d8576b\"],[0.6666666666666666,\"#ed7953\"],[0.7777777777777778,\"#fb9f3a\"],[0.8888888888888888,\"#fdca26\"],[1.0,\"#f0f921\"]],\"type\":\"contour\"}],\"contourcarpet\":[{\"colorbar\":{\"outlinewidth\":0,\"ticks\":\"\"},\"type\":\"contourcarpet\"}],\"heatmap\":[{\"colorbar\":{\"outlinewidth\":0,\"ticks\":\"\"},\"colorscale\":[[0.0,\"#0d0887\"],[0.1111111111111111,\"#46039f\"],[0.2222222222222222,\"#7201a8\"],[0.3333333333333333,\"#9c179e\"],[0.4444444444444444,\"#bd3786\"],[0.5555555555555556,\"#d8576b\"],[0.6666666666666666,\"#ed7953\"],[0.7777777777777778,\"#fb9f3a\"],[0.8888888888888888,\"#fdca26\"],[1.0,\"#f0f921\"]],\"type\":\"heatmap\"}],\"heatmapgl\":[{\"colorbar\":{\"outlinewidth\":0,\"ticks\":\"\"},\"colorscale\":[[0.0,\"#0d0887\"],[0.1111111111111111,\"#46039f\"],[0.2222222222222222,\"#7201a8\"],[0.3333333333333333,\"#9c179e\"],[0.4444444444444444,\"#bd3786\"],[0.5555555555555556,\"#d8576b\"],[0.6666666666666666,\"#ed7953\"],[0.7777777777777778,\"#fb9f3a\"],[0.8888888888888888,\"#fdca26\"],[1.0,\"#f0f921\"]],\"type\":\"heatmapgl\"}],\"histogram\":[{\"marker\":{\"pattern\":{\"fillmode\":\"overlay\",\"size\":10,\"solidity\":0.2}},\"type\":\"histogram\"}],\"histogram2d\":[{\"colorbar\":{\"outlinewidth\":0,\"ticks\":\"\"},\"colorscale\":[[0.0,\"#0d0887\"],[0.1111111111111111,\"#46039f\"],[0.2222222222222222,\"#7201a8\"],[0.3333333333333333,\"#9c179e\"],[0.4444444444444444,\"#bd3786\"],[0.5555555555555556,\"#d8576b\"],[0.6666666666666666,\"#ed7953\"],[0.7777777777777778,\"#fb9f3a\"],[0.8888888888888888,\"#fdca26\"],[1.0,\"#f0f921\"]],\"type\":\"histogram2d\"}],\"histogram2dcontour\":[{\"colorbar\":{\"outlinewidth\":0,\"ticks\":\"\"},\"colorscale\":[[0.0,\"#0d0887\"],[0.1111111111111111,\"#46039f\"],[0.2222222222222222,\"#7201a8\"],[0.3333333333333333,\"#9c179e\"],[0.4444444444444444,\"#bd3786\"],[0.5555555555555556,\"#d8576b\"],[0.6666666666666666,\"#ed7953\"],[0.7777777777777778,\"#fb9f3a\"],[0.8888888888888888,\"#fdca26\"],[1.0,\"#f0f921\"]],\"type\":\"histogram2dcontour\"}],\"mesh3d\":[{\"colorbar\":{\"outlinewidth\":0,\"ticks\":\"\"},\"type\":\"mesh3d\"}],\"parcoords\":[{\"line\":{\"colorbar\":{\"outlinewidth\":0,\"ticks\":\"\"}},\"type\":\"parcoords\"}],\"pie\":[{\"automargin\":true,\"type\":\"pie\"}],\"scatter\":[{\"marker\":{\"colorbar\":{\"outlinewidth\":0,\"ticks\":\"\"}},\"type\":\"scatter\"}],\"scatter3d\":[{\"line\":{\"colorbar\":{\"outlinewidth\":0,\"ticks\":\"\"}},\"marker\":{\"colorbar\":{\"outlinewidth\":0,\"ticks\":\"\"}},\"type\":\"scatter3d\"}],\"scattercarpet\":[{\"marker\":{\"colorbar\":{\"outlinewidth\":0,\"ticks\":\"\"}},\"type\":\"scattercarpet\"}],\"scattergeo\":[{\"marker\":{\"colorbar\":{\"outlinewidth\":0,\"ticks\":\"\"}},\"type\":\"scattergeo\"}],\"scattergl\":[{\"marker\":{\"colorbar\":{\"outlinewidth\":0,\"ticks\":\"\"}},\"type\":\"scattergl\"}],\"scattermapbox\":[{\"marker\":{\"colorbar\":{\"outlinewidth\":0,\"ticks\":\"\"}},\"type\":\"scattermapbox\"}],\"scatterpolar\":[{\"marker\":{\"colorbar\":{\"outlinewidth\":0,\"ticks\":\"\"}},\"type\":\"scatterpolar\"}],\"scatterpolargl\":[{\"marker\":{\"colorbar\":{\"outlinewidth\":0,\"ticks\":\"\"}},\"type\":\"scatterpolargl\"}],\"scatterternary\":[{\"marker\":{\"colorbar\":{\"outlinewidth\":0,\"ticks\":\"\"}},\"type\":\"scatterternary\"}],\"surface\":[{\"colorbar\":{\"outlinewidth\":0,\"ticks\":\"\"},\"colorscale\":[[0.0,\"#0d0887\"],[0.1111111111111111,\"#46039f\"],[0.2222222222222222,\"#7201a8\"],[0.3333333333333333,\"#9c179e\"],[0.4444444444444444,\"#bd3786\"],[0.5555555555555556,\"#d8576b\"],[0.6666666666666666,\"#ed7953\"],[0.7777777777777778,\"#fb9f3a\"],[0.8888888888888888,\"#fdca26\"],[1.0,\"#f0f921\"]],\"type\":\"surface\"}],\"table\":[{\"cells\":{\"fill\":{\"color\":\"#EBF0F8\"},\"line\":{\"color\":\"white\"}},\"header\":{\"fill\":{\"color\":\"#C8D4E3\"},\"line\":{\"color\":\"white\"}},\"type\":\"table\"}]},\"layout\":{\"annotationdefaults\":{\"arrowcolor\":\"#2a3f5f\",\"arrowhead\":0,\"arrowwidth\":1},\"autotypenumbers\":\"strict\",\"coloraxis\":{\"colorbar\":{\"outlinewidth\":0,\"ticks\":\"\"}},\"colorscale\":{\"diverging\":[[0,\"#8e0152\"],[0.1,\"#c51b7d\"],[0.2,\"#de77ae\"],[0.3,\"#f1b6da\"],[0.4,\"#fde0ef\"],[0.5,\"#f7f7f7\"],[0.6,\"#e6f5d0\"],[0.7,\"#b8e186\"],[0.8,\"#7fbc41\"],[0.9,\"#4d9221\"],[1,\"#276419\"]],\"sequential\":[[0.0,\"#0d0887\"],[0.1111111111111111,\"#46039f\"],[0.2222222222222222,\"#7201a8\"],[0.3333333333333333,\"#9c179e\"],[0.4444444444444444,\"#bd3786\"],[0.5555555555555556,\"#d8576b\"],[0.6666666666666666,\"#ed7953\"],[0.7777777777777778,\"#fb9f3a\"],[0.8888888888888888,\"#fdca26\"],[1.0,\"#f0f921\"]],\"sequentialminus\":[[0.0,\"#0d0887\"],[0.1111111111111111,\"#46039f\"],[0.2222222222222222,\"#7201a8\"],[0.3333333333333333,\"#9c179e\"],[0.4444444444444444,\"#bd3786\"],[0.5555555555555556,\"#d8576b\"],[0.6666666666666666,\"#ed7953\"],[0.7777777777777778,\"#fb9f3a\"],[0.8888888888888888,\"#fdca26\"],[1.0,\"#f0f921\"]]},\"colorway\":[\"#636efa\",\"#EF553B\",\"#00cc96\",\"#ab63fa\",\"#FFA15A\",\"#19d3f3\",\"#FF6692\",\"#B6E880\",\"#FF97FF\",\"#FECB52\"],\"font\":{\"color\":\"#2a3f5f\"},\"geo\":{\"bgcolor\":\"white\",\"lakecolor\":\"white\",\"landcolor\":\"#E5ECF6\",\"showlakes\":true,\"showland\":true,\"subunitcolor\":\"white\"},\"hoverlabel\":{\"align\":\"left\"},\"hovermode\":\"closest\",\"mapbox\":{\"style\":\"light\"},\"paper_bgcolor\":\"white\",\"plot_bgcolor\":\"#E5ECF6\",\"polar\":{\"angularaxis\":{\"gridcolor\":\"white\",\"linecolor\":\"white\",\"ticks\":\"\"},\"bgcolor\":\"#E5ECF6\",\"radialaxis\":{\"gridcolor\":\"white\",\"linecolor\":\"white\",\"ticks\":\"\"}},\"scene\":{\"xaxis\":{\"backgroundcolor\":\"#E5ECF6\",\"gridcolor\":\"white\",\"gridwidth\":2,\"linecolor\":\"white\",\"showbackground\":true,\"ticks\":\"\",\"zerolinecolor\":\"white\"},\"yaxis\":{\"backgroundcolor\":\"#E5ECF6\",\"gridcolor\":\"white\",\"gridwidth\":2,\"linecolor\":\"white\",\"showbackground\":true,\"ticks\":\"\",\"zerolinecolor\":\"white\"},\"zaxis\":{\"backgroundcolor\":\"#E5ECF6\",\"gridcolor\":\"white\",\"gridwidth\":2,\"linecolor\":\"white\",\"showbackground\":true,\"ticks\":\"\",\"zerolinecolor\":\"white\"}},\"shapedefaults\":{\"line\":{\"color\":\"#2a3f5f\"}},\"ternary\":{\"aaxis\":{\"gridcolor\":\"white\",\"linecolor\":\"white\",\"ticks\":\"\"},\"baxis\":{\"gridcolor\":\"white\",\"linecolor\":\"white\",\"ticks\":\"\"},\"bgcolor\":\"#E5ECF6\",\"caxis\":{\"gridcolor\":\"white\",\"linecolor\":\"white\",\"ticks\":\"\"}},\"title\":{\"x\":0.05},\"xaxis\":{\"automargin\":true,\"gridcolor\":\"white\",\"linecolor\":\"white\",\"ticks\":\"\",\"title\":{\"standoff\":15},\"zerolinecolor\":\"white\",\"zerolinewidth\":2},\"yaxis\":{\"automargin\":true,\"gridcolor\":\"white\",\"linecolor\":\"white\",\"ticks\":\"\",\"title\":{\"standoff\":15},\"zerolinecolor\":\"white\",\"zerolinewidth\":2}}},\"xaxis\":{\"anchor\":\"y\",\"domain\":[0.0,1.0],\"title\":{\"text\":\"index\"}},\"yaxis\":{\"anchor\":\"x\",\"domain\":[0.0,1.0],\"title\":{\"text\":\"value\"}},\"legend\":{\"title\":{\"text\":\"variable\"},\"tracegroupgap\":0},\"margin\":{\"t\":60}},                        {\"responsive\": true}                    ).then(function(){\n",
              "                            \n",
              "var gd = document.getElementById('9f7b9c79-741f-460c-acff-3cffbf30eae5');\n",
              "var x = new MutationObserver(function (mutations, observer) {{\n",
              "        var display = window.getComputedStyle(gd).display;\n",
              "        if (!display || display === 'none') {{\n",
              "            console.log([gd, 'removed!']);\n",
              "            Plotly.purge(gd);\n",
              "            observer.disconnect();\n",
              "        }}\n",
              "}});\n",
              "\n",
              "// Listen for the removal of the full notebook cells\n",
              "var notebookContainer = gd.closest('#notebook-container');\n",
              "if (notebookContainer) {{\n",
              "    x.observe(notebookContainer, {childList: true});\n",
              "}}\n",
              "\n",
              "// Listen for the clearing of the current output cell\n",
              "var outputEl = gd.closest('.output');\n",
              "if (outputEl) {{\n",
              "    x.observe(outputEl, {childList: true});\n",
              "}}\n",
              "\n",
              "                        })                };                            </script>        </div>\n",
              "</body>\n",
              "</html>"
            ]
          },
          "metadata": {}
        }
      ]
    },
    {
      "cell_type": "code",
      "source": [
        "fig = px.parallel_coordinates(data[['idade','IMC', 'colesterol_total']],\n",
        "                              color_continuous_scale=px.colors.diverging.Tealrose,\n",
        "                              color_continuous_midpoint=2)\n",
        "fig.show()"
      ],
      "metadata": {
        "colab": {
          "base_uri": "https://localhost:8080/",
          "height": 542
        },
        "id": "mW8Hgk7jYY-t",
        "outputId": "d2e9e8bd-771c-4f2c-c17c-828482eb1184"
      },
      "execution_count": 163,
      "outputs": [
        {
          "output_type": "display_data",
          "data": {
            "text/html": [
              "<html>\n",
              "<head><meta charset=\"utf-8\" /></head>\n",
              "<body>\n",
              "    <div>            <script src=\"https://cdnjs.cloudflare.com/ajax/libs/mathjax/2.7.5/MathJax.js?config=TeX-AMS-MML_SVG\"></script><script type=\"text/javascript\">if (window.MathJax) {MathJax.Hub.Config({SVG: {font: \"STIX-Web\"}});}</script>                <script type=\"text/javascript\">window.PlotlyConfig = {MathJaxConfig: 'local'};</script>\n",
              "        <script src=\"https://cdn.plot.ly/plotly-2.8.3.min.js\"></script>                <div id=\"33bd3caf-5dda-414e-b1eb-1945b3a6cad9\" class=\"plotly-graph-div\" style=\"height:525px; width:100%;\"></div>            <script type=\"text/javascript\">                                    window.PLOTLYENV=window.PLOTLYENV || {};                                    if (document.getElementById(\"33bd3caf-5dda-414e-b1eb-1945b3a6cad9\")) {                    Plotly.newPlot(                        \"33bd3caf-5dda-414e-b1eb-1945b3a6cad9\",                        [{\"dimensions\":[{\"label\":\"idade\",\"values\":[39,46,48,61,46,43,63,45,52,43,50,43,46,41,39,38,48,46,38,41,42,43,52,52,44,47,60,35,61,60,36,43,59,61,54,37,56,52,42,36,43,41,54,53,49,65,46,63,63,51,47,62,39,46,54,49,44,40,56,67,53,57,57,63,62,38,47,52,63,42,37,41,44,59,44,45,41,60,39,53,52,61,36,62,61,41,41,53,39,51,66,60,65,63,56,56,47,60,45,48,42,63,42,40,66,49,67,51,48,64,41,50,60,37,36,50,39,46,66,46,55,41,44,38,43,41,53,59,56,50,46,43,61,41,55,43,40,57,56,48,59,47,64,54,64,61,61,66,39,58,49,49,46,36,41,47,57,50,62,39,37,48,46,52,38,50,39,55,62,60,61,39,42,37,42,36,53,67,52,45,56,42,55,38,56,61,42,49,48,55,58,60,38,53,52,41,37,42,64,56,67,43,45,61,66,34,52,45,43,49,57,48,36,38,60,40,43,53,54,56,50,46,53,59,48,48,54,36,59,55,55,40,65,65,45,40,63,61,55,60,38,58,39,61,51,60,36,39,42,60,52,47,46,64,57,45,45,55,41,50,54,57,62,43,46,53,52,67,42,45,51,60,35,39,68,54,38,39,36,36,44,48,54,45,41,51,34,41,62,38,48,55,55,46,36,52,49,39,54,47,62,39,45,46,63,41,44,37,44,49,53,51,43,60,39,56,59,56,43,48,61,55,39,42,51,54,52,64,58,42,41,43,63,46,53,41,53,59,45,49,41,39,50,58,53,54,40,51,40,38,48,46,59,37,40,59,46,67,40,55,52,42,54,58,45,67,68,61,55,42,53,39,40,39,63,55,39,39,51,54,48,51,65,39,47,59,66,56,41,41,41,45,37,43,46,41,44,36,60,46,44,55,61,45,45,37,52,46,42,58,38,51,64,53,59,40,57,48,45,40,43,54,45,36,63,33,56,43,60,44,61,61,46,38,48,55,50,46,47,44,44,41,55,47,48,40,35,49,38,50,38,57,53,44,47,56,61,38,56,46,53,49,46,37,50,51,64,44,37,62,54,39,47,44,51,41,63,46,40,56,44,51,45,56,60,40,52,64,38,50,41,57,51,50,46,53,54,65,58,56,46,64,43,35,46,59,50,62,53,52,57,46,49,47,65,41,61,41,53,36,43,37,62,64,40,49,49,46,47,38,39,43,43,50,48,45,55,61,53,50,40,50,56,44,37,42,54,39,38,42,55,60,34,44,49,50,47,63,39,43,59,41,59,51,62,51,46,37,60,52,40,52,45,60,41,39,46,40,44,38,60,42,44,47,55,48,61,62,64,46,54,42,55,35,40,44,52,63,39,51,59,51,67,47,64,50,63,39,38,42,38,52,60,41,41,56,38,63,42,40,51,60,40,34,40,54,36,39,38,37,39,60,58,56,50,57,41,40,51,43,36,64,50,51,49,59,62,56,57,48,38,49,65,42,45,38,53,48,58,60,36,55,54,45,64,49,45,48,45,57,60,50,58,40,38,54,39,46,60,62,60,40,54,47,58,51,47,35,44,50,57,39,41,47,45,49,38,59,38,39,59,64,51,57,40,62,53,37,48,40,51,48,64,44,64,41,48,49,39,61,58,52,48,45,66,44,60,42,42,67,63,62,50,63,45,41,44,53,53,38,42,47,58,45,55,67,56,38,63,40,45,54,67,39,41,34,40,46,35,48,47,43,52,45,42,56,63,52,46,49,44,42,64,59,54,57,53,35,46,40,47,49,58,54,47,60,53,66,35,59,36,37,49,44,41,43,37,55,36,37,47,50,68,44,53,42,50,35,53,57,47,49,58,55,59,55,43,46,43,46,49,42,61,36,39,48,39,59,48,44,42,44,52,60,35,40,64,53,59,55,58,56,40,42,48,38,65,52,39,55,64,51,49,53,47,52,62,50,58,64,37,57,64,66,35,38,39,42,45,59,57,62,58,51,59,44,60,54,38,53,43,64,61,39,35,66,53,40,46,47,64,49,42,60,56,48,39,62,45,61,55,58,53,37,36,60,53,62,59,44,43,47,40,53,47,51,48,48,43,47,43,56,34,47,66,39,58,57,63,53,38,57,49,47,36,42,39,52,64,61,54,61,52,38,51,37,52,50,60,39,57,64,55,45,67,40,48,53,50,47,42,53,39,39,64,61,46,47,49,55,37,41,46,64,43,50,38,56,53,51,42,58,54,53,58,60,62,59,53,42,35,50,36,57,34,46,42,63,65,46,45,60,45,44,39,42,62,48,55,45,58,56,55,57,61,42,50,42,46,53,44,54,58,67,44,41,52,40,55,41,40,37,48,41,48,52,53,52,45,65,42,48,45,56,58,54,56,67,55,59,49,54,45,55,46,40,44,40,37,47,47,43,53,51,52,52,50,37,50,38,43,60,53,42,61,40,59,52,63,66,53,42,39,58,55,65,56,54,64,44,46,40,42,63,47,61,52,51,64,64,40,44,45,59,44,50,56,53,63,57,64,57,55,55,41,46,38,56,67,45,50,41,46,60,41,61,68,45,52,56,53,51,47,67,49,53,36,62,58,36,45,44,47,54,38,57,64,46,49,50,63,48,58,60,41,64,62,62,66,59,36,40,53,49,47,64,46,58,41,40,42,52,42,49,52,58,46,40,35,42,58,43,44,38,39,41,40,38,57,41,42,58,42,47,59,45,55,68,61,36,41,45,51,45,35,49,50,40,43,49,47,45,58,38,50,47,60,45,58,63,43,52,47,46,49,36,58,58,46,61,59,40,54,56,45,51,53,59,40,53,64,48,41,43,56,40,65,45,53,60,40,55,47,50,45,39,55,40,52,50,63,55,46,62,41,38,59,34,50,59,44,33,64,60,55,50,35,57,60,53,43,56,36,38,59,49,49,42,35,38,62,44,43,39,39,46,52,48,52,57,44,57,49,42,42,64,49,59,37,33,38,40,66,64,47,44,39,55,41,56,65,53,55,42,45,55,53,62,54,61,43,43,49,66,42,64,43,42,46,43,53,50,46,51,67,51,45,44,47,42,44,48,36,63,43,36,65,48,63,40,40,42,43,63,36,36,46,39,39,51,48,57,41,42,38,41,43,55,38,46,45,53,44,52,51,39,51,55,43,67,55,39,54,41,48,45,61,38,49,47,59,60,37,48,39,46,58,46,65,59,52,40,54,51,60,51,44,47,59,40,50,54,53,51,61,41,47,46,60,49,57,45,39,61,40,55,61,52,54,50,37,55,61,63,57,46,58,57,40,43,46,52,52,64,62,42,47,38,52,42,39,51,38,63,41,58,47,36,56,47,49,41,57,51,40,37,44,36,61,51,43,48,37,44,54,54,59,44,48,45,53,53,46,63,52,42,48,48,42,59,40,45,38,46,67,53,38,43,59,61,52,53,67,37,54,54,55,62,52,41,47,47,39,64,46,51,38,61,40,42,52,36,40,63,55,42,55,39,57,60,53,39,62,45,40,58,36,66,62,63,61,41,47,44,46,45,43,46,52,64,49,50,50,59,56,49,50,46,41,46,50,44,57,58,41,43,36,52,44,36,38,54,39,40,48,39,41,40,51,38,60,43,42,51,39,39,51,46,40,41,56,47,56,44,54,63,53,50,44,56,43,47,37,51,53,41,56,44,57,40,66,34,62,55,36,39,54,53,35,61,40,41,43,64,49,43,40,66,51,57,62,51,35,42,47,40,58,43,53,48,49,55,57,51,50,44,39,47,38,65,43,48,65,49,56,39,52,49,55,46,63,64,58,52,39,39,54,38,38,55,59,45,54,48,52,56,38,50,56,37,47,60,43,36,40,44,45,57,57,48,57,39,51,60,61,39,51,63,55,47,57,55,48,58,41,37,48,43,43,51,41,65,62,42,54,45,58,46,51,61,40,56,53,42,59,40,60,56,37,40,43,55,49,59,40,38,44,55,45,43,57,38,40,50,56,64,67,43,55,66,48,51,57,55,38,39,63,46,41,49,61,42,58,41,61,62,44,61,56,41,49,56,35,57,40,62,47,48,42,42,50,39,58,66,61,60,67,39,42,50,50,43,42,57,56,43,56,36,63,62,44,41,56,56,50,55,38,40,47,49,54,40,63,65,50,54,39,46,53,48,51,64,63,55,39,59,52,48,64,64,54,55,47,42,55,42,47,62,40,37,58,51,48,51,52,66,37,44,61,58,42,42,40,59,58,63,41,51,62,49,59,44,64,45,63,38,39,45,55,63,41,46,58,53,59,46,51,42,62,47,43,48,57,43,64,49,45,53,45,52,61,46,48,48,48,44,41,64,53,53,42,38,63,59,46,61,48,57,40,49,43,50,51,58,51,40,46,44,44,36,36,64,47,42,54,52,52,51,38,45,42,47,43,46,42,45,62,62,57,35,39,36,38,67,64,38,38,43,38,54,41,39,39,50,68,54,49,40,60,38,48,52,50,50,44,44,45,52,51,57,60,40,38,57,64,56,42,54,42,46,36,35,54,62,39,37,64,59,40,52,48,40,62,48,46,55,57,50,50,42,42,66,41,57,39,43,39,50,50,33,36,44,55,53,67,50,57,40,41,55,56,39,62,57,39,56,56,54,39,37,60,62,58,51,48,58,54,63,37,59,55,53,40,56,41,45,37,50,41,41,49,51,62,42,59,52,37,36,36,39,55,40,38,44,54,40,42,62,48,66,54,57,38,42,42,45,48,44,62,41,58,49,54,43,61,63,38,58,53,45,51,52,40,42,37,52,44,44,42,45,39,63,42,55,46,45,37,50,52,53,46,35,42,52,41,48,62,53,60,45,39,43,34,42,60,65,45,38,38,59,55,62,37,38,52,45,41,52,59,53,48,54,39,46,45,50,46,36,53,50,63,38,56,41,38,48,56,55,41,48,57,44,40,45,57,65,42,38,41,61,63,43,43,52,48,45,44,49,42,42,57,57,54,39,50,49,49,48,39,54,51,54,58,45,60,47,40,64,47,54,60,48,41,36,37,39,63,66,48,37,64,46,38,43,44,44,63,63,46,46,60,61,51,63,61,36,43,60,46,48,66,40,42,44,46,50,40,50,49,42,39,49,41,37,43,64,49,40,48,63,51,64,58,48,37,58,55,42,43,44,37,50,58,42,48,32,39,54,50,60,54,46,50,45,63,60,52,58,38,59,41,46,53,50,57,40,41,41,56,49,47,64,59,40,45,46,42,62,41,35,37,55,56,51,62,49,44,47,39,51,48,43,65,65,56,45,61,53,65,34,46,49,63,55,42,44,49,60,47,49,52,41,36,50,59,44,49,51,56,38,66,54,48,63,63,50,51,48,60,48,58,44,39,37,56,59,53,59,65,39,58,40,37,64,62,35,48,37,52,51,66,54,55,57,39,59,55,42,45,48,50,37,57,57,42,67,44,59,47,59,46,39,45,53,67,57,46,45,60,53,43,45,68,57,59,54,44,50,39,43,36,54,41,60,63,41,52,53,37,45,47,38,40,37,65,49,39,41,48,50,67,41,46,43,55,55,48,48,38,48,40,57,40,64,53,46,51,40,63,52,41,50,36,51,40,45,40,43,54,51,38,60,36,52,47,39,58,40,49,52,40,55,58,48,54,60,41,43,54,49,53,44,44,42,37,53,45,64,36,64,54,55,59,55,60,57,42,59,58,57,58,51,49,52,41,47,44,40,39,38,64,44,53,43,53,60,48,48,50,45,56,61,44,43,59,41,42,61,61,43,53,47,55,38,46,64,40,60,63,64,45,47,54,42,52,46,55,40,44,52,65,51,42,42,58,40,41,57,55,65,59,51,36,63,37,51,52,47,56,39,68,52,65,47,54,67,63,58,40,63,58,36,46,64,41,43,56,68,48,63,49,40,46,51,44,67,38,43,46,49,41,41,54,41,48,62,58,67,41,37,62,44,48,44,42,48,40,46,46,56,40,53,63,41,55,45,43,45,38,40,40,43,58,45,59,39,64,44,39,52,47,45,45,41,50,54,41,44,44,45,46,41,41,58,65,44,41,60,59,40,42,56,52,54,42,42,43,49,47,53,62,55,41,38,50,44,55,53,54,36,47,51,60,49,43,57,61,46,47,62,62,35,51,42,40,44,46,40,40,48,43,48,43,38,48,58,51,42,46,48,55,59,41,57,51,42,41,45,61,43,54,59,40,60,49,52,51,49,52,42,44,50,50,54,48,52,42,50,46,59,59,50,39,48,58,47,57,63,43,56,50,47,48,56,40,63,52,59,42,41,48,49,43,53,49,67,42,59,46,44,47,36,51,49,54,49,67,62,38,45,50,45,48,58,36,55,57,40,41,43,63,59,67,42,52,39,42,43,52,45,61,56,43,56,55,46,43,43,50,48,49,46,57,51,40,51,41,59,61,43,65,42,41,55,56,48,56,51,59,54,47,45,53,54,59,41,47,65,44,54,55,53,52,51,49,68,39,54,44,46,49,46,63,51,55,61,38,36,50,42,45,48,50,52,50,58,57,41,55,44,40,58,45,38,61,57,62,50,36,44,44,44,51,55,48,64,53,37,49,40,45,39,55,57,42,52,35,39,54,56,49,39,59,52,45,53,66,41,45,46,41,59,44,56,53,34,38,44,45,57,61,38,57,47,39,54,58,69,60,63,50,56,54,57,48,44,60,41,50,49,50,61,52,33,46,52,45,46,63,41,41,52,46,63,37,43,67,42,51,63,36,51,43,40,49,57,39,58,54,53,60,40,52,57,46,42,40,54,51,54,51,39,54,63,40,47,42,38,44,45,53,43,54,48,38,54,62,51,39,46,44,48,42,52,62,54,64,65,49,60,70,44,40,47,39,57,58,67,42,60,52,51,50,41,38,57,35,42,45,58,35,51,62,42,44,39,44,59,60,53,40,53,41,60,36,45,50,43,49,42,55,45,53,39,38,42,48,62,63,49,46,55,43,45,38,46,48,45,59,43,45,49,38,47,45,49,37,52,37,45,57,46,48,46,57,55,39,40,42,61,65,36,44,50,43,50,43,41,55,58,46,45,66,47,51,46,43,42,64,39,45,52,50,60,62,51,51,40,39,47,48,40,43,51,59,44,64,50,37,54,60,69,36,51,40,58,44,44,42,48,46,44,47,46,41,61,42,69,53,66,45,38,58,39,56,44,59,63,65,43,41,55,46,46,39,48,46,48,57,40,61,47,47,42,56,41,40,48,65,61,47,41,47,60,37,36,52,58,57,45,58,62,61,44,48,65,52,39,46,40,63,39,50,46,47,64,59,63,51,47,38,45,61,51,45,54,64,49,59,48,48,63,55,42,59,64,51,54,66,52,36,54,47,41,62,65,50,55,37,60,47,38,47,48,51,61,56,41,47,50,37,59,50,44,61,43,62,57,39,46,49,44,62,55,58,53,46,62,52,41,44,59,58,51,63,42,44,57,49,53,54,63,63,42,41,66,52,48,53,45,40,39,51,45,44,56,51,42,52,36,42,48,50,36,62,61,36,58,57,49,48,56,61,51,42,58,47,50,52,52,57,61,62,56,57,60,50,54,52,54,44,59,62,45,40,43,42,40,48,43,59,60,63,50,38,35,56,45,40,35,67,62,61,54,38,63,60,49,53,50,62,55,46,40,38,55,40,58,49,50,45,42,51,56,53,38,59,48,40,62,36,43,56,59,43,43,50,46,43,61,60,48,38,44,49,52,60,62,58,48,44,47,44,46,37,57,55,54,55,46,39,37,43,46,68,46,41,55,39,41,46,48,53,58,57,40,49,43,37,43,46,62,53,61,35,49,56,54,39,65,40,41,36,48,52,63,61,44,53,44,39,44,48,45,58,40,39,47,44,47,57,60,41,42,58,45,63,49,51,40,49,41,55,38,54,40,50,54,66,63,52,48,38,54,38,65,53,44,47,57,44,43,50,41,45,46,50,42,58,48,36,68,37,56,50,53,62,40,41,38,53,56,46,51,39,37,43,46,48,48,49,60,49,41,38,59,56,54,48,69,67,43,48,48,42,47,60,62,57,38,56,51,40,43,34,55,44,50,52,63,43,41,34,37,50,36,59,40,42,42,43,49,47,60,46,46,49,42,42,53,44,60,47,40,44,65,49,56,41,46,56,59,45,63,59,60,48,50,45,55,55,57,65,36,60,44,39,55,61,38,59,60,54,45,38,56,35,34,44,46,45,50,55,53,60,39,61,34,40,52,35,49,43,40,40,39,50,51,59,37,61,47,67,64,55,41,60,42,38,47,49,61,52,56,34,58,54,48,59,53,43,54,48,48,46,43,53,51,52,43,65,50,49,35,61,44,41,60,47,41,53,48,39,38,65,39,37,37,39,52,55,62,46,52,68,45,62,53,42,65,63,49,52,45,53,62,40,57,37,46,38,48,62,55,68,45,58,46,43,43,38,64,67,45,37,45,48,61,52,64,57,45,46,46,38,56,59,48,61,40,41,45,59,58,47,39,65,37,40,53,38,57,42,39,39,65,46,58,68,40,38,55,52,63,54,44,47,42,59,55,40,43,43,36,56,52,62,44,63,57,38,38,38,59,39,35,61,67,56,55,48,51,43,40,46,62,35,49,49,47,45,51,51,55,57,52,41,48,48,47,53,44,63,59,41,41,39,40,66,52,39,56,64,42,42,54,43,64,56,62,64,43,56,46,61,44,55,61,54,41,51,35,46,51,35,55,39,43,40,54,41,46,44,37,54,46,58,46,53,39,52,40,46,64,48,44,40,39,55,38,62,39,63,43,55,53,60,45,48,46,55,36,44,60,34,40,40,49,40,52,58,46,39,52,66,56,44,56,39,56,46,37,59,47,50,41,39,44,48,44,44,57,48,55,38,44,61,46,41,53,47,42,42,51,40,52,53,51,40,63,61,43,42,62,36,63,47,46,54,58,55,56,47,64,51,43,40,46,64,60,56,54,37,61,69,56,50,51,38,43,46,43,56,54,45,61,49,64,65,63,40,47,37,51,40,55,69,51,57,64,38,48,53,57,45,57,57,39,46,42,42,42,67,49,48,47,55,59,55,42,48,42,55,62,36,57,41,52,47,38,61,69,62,56,37,65,39,44,57,45,62,38,41,41,58,54,51,52,41,52,41,54,43,38,65,37,44,49,42,44,54,41,37,45,63,65,40,46,63,52,61,38,62,42,63,38,46,43,61,51,65,50,42,48,48,56,63,59,63,52,48,60,50,53,56,47,45,58,43,50,51,56,58,68,50,51,44,52,51,60,63,51,51,60,45,46,46,49,65,55,43,62,58,49,49,56,67,48,58,58,65,50,46,61,51,47,47,43,40,51,51,67,63,40,46,58,53,60,65,42,53,65,38,44,64,49,52,58,63,44,55,50,62,56,45,59,63,53,63,58,47,63,51,51,52,45,64,56,63,46,66,48,57,50,36,60,64,65,52,56,60,59,67,48,49,53,57,46,52,62,59,64,57,64,51,58,60,56,61,56,49,56,45,44,63,48,61,68,66,47,45,44,51,44,49,59,43,43,52,66,62,39,53,63,60,40,50,42,47,63,49,49,57,46,48,61,52,58,49,41,59,44,60,51,62,67,55,44,59,57,46,62,52,62,52,59,56,57,46,44,62,49,62,66,49,48,56,44,59,44,63,63,47,62,67,42,57,36,43,65,63,44,63,35,62,46,59,68,48,40,62,58,49,43,62,60,42,56,42,49,40,47,53,48,62,50,44,56,61,50,50,66,62,49,44,63,37,57,45,48,63,53,46,61,66,58,57,66,62,67,54,51,41,67,57,61,45,49,44,61,36,50,61,65,42,51,58,58,64,56,55,62,56,50,48,61,61,42,39,54,67,41,44,64,47,58,58,40,52,45,57,68,58,54,61,60,47,63,57,51,61,43,68,61,48,59,56,62,62,53,50,61,62,50,51,65,62,60,47,40,47,42,60,57,52,58,48,67,44,47,59,67,51,54,41,47,41,42,50,63,61,47,52,42,63,52,51,52,51,42,59,46,42,49,56,62,54,61,36,44,47,51,55,66,60,44,58,63,67,48,58,49,63,50,59,44,58,55,39,53,47,65,63,56,64,58,51,63,65,44,52,63,49,58,63,54,60,59,45,39,45,63,45,53,62,64,57,59,41,56,62,50,57,49,56,63,57,39,58,59,62,63,47,65,65,50,66,56,43,58,54,52,58,47,40,50,62,51,62,56,44,56,61,48,66,55,62,52,64,57,55,51,58,52,52,58,61,62,39,51,48,59,47,55,60,64,40,41,49,47,66,52,52,60,46,44,61,55,62,62,41,44,62,54,61,52,57,40,51,52,56,62,66,67,54,53,64,51,57,43,61,46,58,61,53,61,56,51,39,62,51,58,45,44,65,50,66,67,41,52,35,54,49,58,40,66,60,56,59,65,48,61,60,57,65,60,55,67,46,53,43,63,58,51,46,68,61,56,59,51,46,50,40,59,49,50,59,58,52,43,53,65,48,44,55,61,49,51,51,60,46,56,57,42,61,55,43,47,59,52,40,49,53,41,43,61,45,59,44,38,58,51,56,61,58,49,43,38,68,51,58,47,62,60,63,64,50,47,58,59,67,46,67,56,52,52,46,60,43,68,64,61,40,67,54,68,51,61,41,52,57,53,58,53,56,52,61,51,58,39,63,38,59,51,51,62,52,54,41,53,41,66,62,43,41,62,58,49,55,57,64,63,51,41,41,48,58,63,51,58,63,52,52,58,49,63,67,59,43,51,63,62,49,40,54,62,36,60,55,46,54,47,49,51,59,56,46,57,55,55,59,51,51,42,47,59,48,60,54,55,46,48,49,61,62,56,38,63,60,63,51,56,59,66,51,45,60,60,48,58,61,51,58,59,57,63,61,56,52,48,54,57,42,59,38,65,40,42,41,59,58,53,61,67,64,60,49,63,46,53,58,47,42,57,42,52,58,46,54,46,47,36,47,48,38,59,65,43,52,68,52,41,54,60,55,64,61,58,61,44,57,66,58,66,50,64,49,60,54,55,62,57,61,52,47,64,46,53,60,58,48,51,65,64,48,63,43,55,60,59,53,62,49,44,62,56,61,44,41,53,52,40,59,63,56,47,57,58,41,63,54,50,53,57,60,51,63,52,43,58,55,65,64,61,68,55,57,41,44,56,55,56,68,67,47,51,56,59,48,59,65,53,53,51,57,37,57,41,41,52,42,58,62,44,67,67,48,48,45,52,43,42,58,59,64,64,60,51,60,53,51,46,62,64,57,55,54,56,50,53,53,36,52,59,60,56,60,60,38,57,62,51,60,44,54,63,57,53,59,41,49,62,65,52,45,64,67,50,59,38,43,59,63,48,65,51,66,66,57,50,63,54,49,51,57,61,63,60,51,49,64,64,60,63,50,52,40,53,61,64,48,67,47,48,60,60,52,57,57,50,62,65,52,58,46,52,40,54,52,68,53,49,51,46,46,47,66,64,46,63,52,60,58,56,57,51,64,62,55,66,40,51,60,50,65,61,44,49,47,61,60,57,45,65,47,60,51,58,45,56,61,63,54,50,62,56,55,48,51,58,48,61,48,39,55,56,57,67,57,45,58,67,57,40,59,49,56,53,47,63,62,58,62,54,67,48,52,58,52,49,56,62,47,36,58,41,53,59,59,57,43,47,66,51,57,48,57,56,57,57,49,64,58,57,46,49,66,54,68,64,46,47,53,59,56,38,60,36,65,61,45,49,64,42,58,68,66,55,62,51,38,52,57,65,60,60,66,53,57,63,61,44,62,61,61,48,60,50,54,42,64,62,53,46,40,57,57,54,62,49,52,60,62,38,57,60,60,51,53,57,67,58,63,55,59,47,63,64,55,48,66,55,60,49,66,62,40,52,64,52,52,59,53,59,49,53,59,53,66,62,48,54,60,57,39,62,49,54,45,58,62,64,63,51,47,57,48,51,54,58,64,57,53,66,64,48,58,40,49,53,67,53,62,57,56,47,65,39,52,68,59,60,52,45,62,67,50,64,42,43,56,67,66,51,52,39,64,67,56,55,49,57,58,41,56,38,57,64,55,38,46,56,45,56,49,49,62,62,51,65,67,54,62,49,63,40,47,36,62,62,64,52,61,49,52,40,49,51,47,45,41,59,50,62,60,48,61,50,60,58,57,40,58,52,38,63,67,53,50,42,59,68,42,60,50,55,37,45,48,47,54,53,56,50,47,43,42,50,50,59,61,46,48,38,59,49,54,56,67,52,56,66,60,41,54,54,64,55,52,47,58,58,63,48,62,62,65,46,56,45,59,50,41,59,43,46,52,56,68,52,65,61,62,62,59,59,63,48,37,67,47,61,44,46,60,46,57,42,54,60,46,67,55,69,46,67,58,44,58,47,48,64,55,51,64,38,58,60,48,62,61,63,67,67,41,56,58,61,63,50,59,66,56,40,65,42,54,62,58,58,57,61,47,48,67,63,60,64,57,52,61,65,53,67,67,48,60,58,52,45,56,57,58,42,53,45,61,48,63,56,66,53,64,63,58,56,49,56,51,64,63,52,56,56,59,65,38,53,36,45,55,64,43,48,62,50,48,49,64,50,59,51,42,41,50,40,63,50,52,47,63,56,55,52,64,51,55,55,62,61,61,47,64,61,49,63,64,63,62,63,62,51,65,52,44,45,42,63,50,56,55,53,38,57,57,43,55,58,61,52,52,52,47,50,49,59,65,52,66,58,46,61,59,65,59,44,40,47,48,53,56,49,45,47,63,59,49,57,38,47,63,65,42,43,56,60,59,49,48,37,53,55,57,57,53,67,49,66,63,56,51,54,50,61,57,58,48,37,60,64,47,66,56,57,57,60,56,62,64,45,50,57,58,63,61,56,55,52,61,63,44,58,60,52,57,58,61,55,61,55,56,39,55,50,56,58,42,50,63,56,64,56,68,58,43,37,55,63,52,40,63,51,39,67,56,62,52,52,44,50,58,40,56,50,52,61,58,56,48,53,43,65,45,40,58,37,64,52,50,46,60,41,58,67,57,63,63,50,58,50,46,56,62,58,58,61,61,53,53,65,53,50,63,49,50,58,52,58,45,50,67,49,58,54,58,61,56,61,47,42,36,37,54,68,61,63,52,56,65,53,56,63,53,48,38,68,63,55,57,66,46,62,47,47,55,54,49,49,55,65,67,44,42,56,44,43,56,62,68,55,42,38,53,50,60,46,58,52,40,43,37,56,55,54,51,60,63,53,50,60,63,58,50,43,49,51,38,64,48,58,43,62,57,53,52,68,62,63,51,63,63,44,56,66,65,66,59,59,69,67,53,55,42,66,60,50,42,52,45,67,47,55,60,56,64,53,58,63,48,48,63,65,64,66,54,52,56,42,67,55,63,65,64,46,63,64,63,47,50,59,47,45,57,55,63,67,51,54,62,51,57,41,66,44,43,59,65,65,59,62,55,42,45,55,43,57,65,42,48,38,48,65,52,47,50,50,53,63,53,39,63,58,63,58,59,49,57,47,51,52,52,62,61,49,62,45,51,42,58,52,66,58,60,40,47,65,49,56,55,59,67,50,49,53,63,64,53,52,50,46,65,50,53,58,62,52,49,57,68,53,39,50,63,55,59,52,55,57,50,42,49,38,46,40,58,40,56,47,53,47,57,57,52,66,59,58,59,57,38,49,54,57,57,59,45,49,53,51,64,53,51,54,58,63,63,60,50,57,50,62,64,53,40,42,43,40,47,56,63,60,49,51,58,54,57,57,63,46,42,50,46,56,67,51,59,47,52,53,61,53,50,52,51,57,66,65,47,58,43,57,46,57,65,58,51,43,41,60,46,53,48,50,62,52,63,57,55,54,49,49,48,48,54,47,51,52,54,67,57,48,64,52,48,50,43,53,51,62,50,58,49,49,62,62,47,61,60,41,43,60,43,47,64,58,60,67,44,52,53,57,44,47,66,46,63,64,62,40,49,40,43,46,63,43,39,47,46,61,49,46,47,54,67,63,41,50,60,53,58,62,40,36,60,49,51,45,62,51,67,57,49,56,66,65,56,41,51,53,59,63,60,57,46,50,47,47,67,51,67,60,65,58,51,58,53,63,59,63,59,57,57,47,67,56,64,51,49,63,43,67,47,57,63,44,45,47,47,67,62,46,57,53,47,62,46,63,43,44,62,54,58,56,60,59,50,48,47,60,44,63,50,47,63,55,55,43,64,65,48,65,66,41,57,48,59,44,57,47,55,47,40,60,64,64,53,56,65,39,67,50,67,57,44,63,54,62,60,55,45,57,44,58,54,52,61,46,47,40,51,44,48,61,55,50,54,65,51,46,59,63,59,50,59,61,52,40,54,64,42,64,51,50,64,58,55,57,58,57,65,58,60,58,59,45,47,53,64,63,54,51,50,54,44,49,46,50,66,45,66,49,44,49,52,46,44,51,58,53,65,62,48,43,60,49,56,56,43,64,64,61,47,46,58,60,51,67,57,67,68,68,62,63,56,54,61,56,59,61,61,43,37,63,57,53,64,66,60,41,62,41,67,49,63,61,63,56,47,57,55,61,52,36,41,54,51,67,55,62,65,49,44,53,57,52,68,56,64,63,67,46,60,62,63,58,45,56,60,62,60,52,65,58,58,66,54,64,59,60,60,52,61,54,54,54,52,60,68,57,48,68,56,50,54,61,45,51,55,48,62,63,49,61,49,46,62,50,49,47,60,45,58,49,52,49,45,51,55,48,40,48,63,58,48,51,55,57,55,46,43,61,60,65,51,58,50,38,58,66,69,61,40,51,50,53,53,44,51,63,56,63,67,67,43,47,46,66,48,56,59,44,54,41,63,53,56,43,40,47,48,39,53,52,54,67,44,45,43,55,41,62,65,53,58,48,55,67,61,51,51,61,48,41,61,51,44,55,50,60,53,52,47,58,61,51,58,52,45,51,43,62,56,38,50,46,64,55,59,64,64,64,55,50,49,52,60,46,49,43,61,50,48,57,49,42,50,67,61,63,62,50,62,62,44,49,67,66,50,52,63,54,61,52,38,53,64,62,68,49,57,41,57,55,56,52,53,68,66,40,43,66,46,38,61,40,51,67,61,51,64,61,41,55,53,44,58,47,56,45,54,54,59,43,39,51,40,45,66,56,52,57,63,40,63,37,37,49,60,38,56,62,66,67,61,56,51,51,55,37,41,61,51,56,53,48,56,50,62,67,53,46,52,59,55,59,51,50,44,48,56,65,45,60,68,64,47,55,51,60,55,44,46,65,60,39,51,59,55,64,68,45,54,62,51,40,48,57,61,53,52,65,67,46,49,63,55,60,62,49,56,62,47,57,63,59,38,46,61,58,66,37,64,46,54,66,60,44,56,61,51,54,45,56,36,51,51,51,38,51,47,53,58,52,44,37,65,56,64,64,60,49,67,67,53,55,62,51,52,46,54,56,56,66,57,59,59,66,57,58,52,59,48,48,54,59,57,55,41,46,46,58,41,51,51,50,57,61,38,48,64,53,53,55,52,47,56,46,41,46,64,47,53,65,38,67,59,55,65,41,58,56,53,64,54,57,50,55,47,46,50,52,63,64,67,39,41,52,53,61,55,49,54,48,64,46,52,58,65,42,52,67,55,42,39,49,53,45,42,63,45,43,56,47,49,59,54,43,51,58,54,64,45,54,67,48,56,54,51,51,43,52,43,54,67,62,53,49,67,55,52,57,62,67,48,59,50,47,52,63,62,64,61,67,51,67]},{\"label\":\"IMC\",\"values\":[26.97,28.73,25.34,28.58,23.1,30.3,33.11,21.68,26.36,23.61,22.91,27.64,26.31,31.31,22.35,21.35,22.37,23.38,23.24,26.88,21.59,29.89,34.17,25.11,21.96,24.18,26.59,26.09,32.8,30.36,28.15,27.57,20.77,18.59,24.71,38.53,28.09,40.11,28.93,27.78,26.87,23.28,26.21,21.51,20.68,30.47,23.59,22.15,27.1,23.47,19.66,28.27,22.54,20.35,17.61,25.65,22.29,25.45,23.58,24.25,19.64,24.88,26.84,28.6,29.64,23.01,20.13,23.51,29.35,28.61,33.29,33.8,22.16,34.55,24.04,45.8,30.58,26.52,32.51,22.49,26.03,29.35,22.73,23.89,38.46,28.56,25.42,18.23,24.8,27.38,28.55,28.57,29.33,26.64,23.72,22.36,27.98,29.66,20.68,24.23,23.25,26.76,26.93,27.54,40.52,29.62,25.75,26.09,23.62,24.37,42.15,32.23,26.4,18.38,21.93,25.09,26.12,20.2,29.29,36.81,24.45,29.44,25.95,25.87,25.1,24.81,21.84,24.07,25.54,28.69,26.4,24.03,25.63,20.5,24.27,24.3,26.82,38.39,32.99,31.61,25.97,22.02,26.49,28.92,26.24,23.37,31.13,25.32,28.34,23.36,21.83,28.35,24.19,20.41,30.77,26.15,23.5,28.04,42.0,21.19,24.43,24.12,22.51,28.86,21.66,25.26,19.24,27.23,26.51,27.61,25.45,27.27,22.54,23.67,26.79,18.99,23.95,25.95,24.53,16.75,30.76,23.25,28.96,28.82,20.12,28.63,22.9,22.89,30.85,22.91,29.06,29.51,18.76,23.59,22.93,29.79,21.48,23.75,27.53,27.3,25.81,20.65,20.27,25.74,26.04,23.88,26.79,22.3,25.91,28.57,22.37,22.72,23.71,29.29,29.17,23.05,21.95,29.56,31.3,29.44,27.61,27.78,27.35,23.29,28.62,26.73,24.85,22.53,27.06,26.89,27.15,26.32,24.04,29.35,21.99,18.06,20.12,22.82,21.97,44.27,33.61,21.81,20.59,21.9,19.36,28.77,29.77,30.96,24.85,36.29,24.59,27.33,25.43,29.73,38.14,22.32,24.15,27.78,24.26,27.07,29.06,24.22,25.49,20.06,31.24,24.11,29.29,25.23,23.78,22.36,21.94,25.82,22.0,20.51,30.28,22.02,21.1,24.1,23.86,25.14,22.19,26.22,22.16,23.47,26.74,21.52,21.5,28.39,35.2,29.77,24.73,26.2,30.24,21.17,32.63,23.74,23.94,23.09,22.19,24.16,21.61,19.97,27.87,21.4,21.05,33.11,26.41,22.71,17.44,29.69,24.22,31.23,26.72,22.36,23.22,29.64,19.88,27.96,24.33,21.35,29.04,25.2,26.5,22.5,29.91,28.47,24.36,27.59,23.06,23.85,18.48,23.16,20.2,25.11,28.78,26.09,27.09,26.89,22.86,19.26,21.51,25.38,25.77,24.77,25.82,21.31,21.21,25.08,23.27,22.73,24.53,24.01,26.46,22.7,21.86,28.04,29.0,22.91,24.06,32.35,25.02,23.68,27.91,29.5,23.85,15.54,24.68,26.98,31.35,29.02,27.45,27.17,19.98,27.23,27.18,31.82,28.28,23.87,25.62,26.64,25.94,24.76,29.75,24.35,21.34,26.84,31.42,23.44,25.13,29.73,18.58,25.34,27.45,29.25,34.36,25.52,39.88,26.23,23.02,23.51,26.38,27.51,21.93,21.79,22.98,27.47,24.25,19.2,20.62,35.58,24.03,18.8,30.18,21.14,27.49,22.36,18.59,36.11,45.79,24.01,31.07,29.18,25.01,25.84,27.61,21.61,27.72,21.08,25.94,26.72,24.35,30.77,27.48,23.68,31.16,20.53,22.54,25.13,27.65,26.62,22.17,25.25,26.57,22.53,21.1,27.9,25.71,25.04,29.6,29.46,30.02,21.08,31.22,25.71,23.45,25.94,28.15,27.26,25.11,27.22,19.82,27.38,21.51,19.56,26.26,24.03,38.82,29.15,26.75,29.35,25.72,27.16,26.2,23.74,21.14,20.18,26.76,26.8,31.69,21.91,27.51,22.26,29.17,24.04,26.69,24.4,23.09,28.87,24.67,24.19,20.47,25.84,31.16,24.91,23.48,30.1,26.77,29.93,24.25,22.67,26.55,28.66,24.89,22.78,31.46,19.77,23.06,30.84,27.08,29.63,24.79,34.84,27.17,20.57,24.33,24.56,37.41,22.29,24.64,30.92,30.55,28.07,23.88,16.59,22.55,21.42,26.85,19.98,22.42,21.8,26.47,24.42,22.36,26.29,32.58,26.6,36.62,22.73,29.82,22.18,16.69,26.39,25.79,21.33,23.09,24.56,19.63,30.36,30.24,21.96,26.27,29.23,20.81,23.29,29.07,25.74,20.27,24.85,24.12,26.84,30.28,23.27,28.83,37.48,26.97,27.42,22.89,25.83,32.53,20.87,24.01,27.01,23.87,24.22,23.54,30.22,32.49,20.68,28.04,27.05,26.98,21.93,24.44,21.66,24.5,27.61,30.74,19.53,25.16,22.54,23.81,17.81,28.35,19.64,23.65,20.56,24.29,24.3,27.29,23.63,25.63,29.38,22.11,22.35,26.81,23.3,24.42,29.23,24.58,24.23,19.53,21.48,26.67,27.8,18.21,30.78,23.47,23.62,19.27,20.99,26.98,25.23,31.96,29.04,27.91,26.89,27.08,28.73,20.39,26.81,20.56,27.49,22.54,23.17,18.99,27.6,23.47,19.11,29.86,21.73,26.03,22.89,25.35,24.16,25.94,25.83,32.19,25.68,26.24,26.25,23.88,23.1,28.38,24.58,28.57,31.39,39.6,31.67,27.73,28.36,26.13,20.56,26.58,29.32,25.81,21.6,25.92,24.87,22.02,18.64,25.45,21.45,23.17,27.47,18.18,23.09,26.97,21.5,23.06,28.96,24.48,25.88,23.28,28.59,21.24,26.28,26.59,23.74,31.44,29.98,27.77,27.43,25.48,29.23,27.05,25.94,20.67,26.45,25.59,24.79,25.05,24.95,31.63,31.68,31.6,24.75,21.8,21.51,19.78,18.92,23.84,24.59,18.7,28.82,30.93,22.72,30.5,29.25,26.48,28.87,32.49,22.32,23.1,21.67,29.84,22.92,28.56,26.14,22.56,44.09,22.26,23.8,25.86,25.88,24.58,22.28,24.16,33.38,25.61,24.6,26.03,16.87,33.32,27.98,23.59,22.69,28.3,22.7,24.01,26.17,22.19,24.9,20.5,24.56,20.2,24.39,19.32,19.7,21.03,27.97,28.96,21.85,24.83,27.18,23.59,23.42,27.01,18.98,20.63,28.47,33.47,24.86,28.91,15.96,25.82,26.56,19.64,23.09,26.95,26.79,27.93,24.35,24.69,22.17,23.81,25.01,25.04,25.16,24.55,28.45,27.5,28.46,24.24,26.79,25.26,25.09,27.27,26.45,20.87,32.26,22.34,25.09,26.37,28.49,40.58,25.75,24.06,26.59,43.3,20.55,25.59,23.38,30.64,25.01,23.76,24.15,26.11,29.21,26.77,21.02,26.91,32.36,24.79,33.36,24.25,30.46,22.45,25.4,21.14,31.16,21.67,23.09,27.26,19.42,20.64,24.71,21.17,21.02,19.61,32.17,20.68,21.03,19.93,25.75,22.12,24.24,26.46,22.73,25.13,30.61,23.39,30.38,25.16,25.13,28.78,30.93,31.44,24.07,18.84,33.19,28.95,27.98,22.3,23.63,22.91,21.51,22.89,43.69,28.56,23.28,18.55,26.39,27.47,24.94,31.76,22.36,28.58,25.84,30.85,24.27,24.54,24.35,29.53,28.57,23.1,25.27,22.01,32.73,26.42,24.49,32.52,23.03,21.34,22.66,31.11,26.13,32.66,27.23,20.56,28.74,23.65,23.72,23.71,20.24,25.35,24.61,22.73,20.56,29.16,25.38,25.29,20.15,17.64,31.5,27.05,26.27,27.75,26.6,23.33,20.89,25.32,24.87,20.79,21.93,28.62,27.35,20.34,27.1,25.31,31.31,26.69,28.3,20.94,22.88,25.07,23.48,20.39,26.48,23.98,22.48,29.76,42.53,27.78,26.57,28.5,22.89,24.54,31.27,29.59,26.82,24.07,20.67,22.19,26.24,24.53,28.46,32.67,25.46,22.02,28.23,23.61,26.26,28.59,23.39,32.32,24.03,21.35,20.12,26.62,22.89,26.98,23.64,29.91,26.15,22.36,28.86,23.09,31.1,25.09,21.02,28.3,25.67,31.82,23.85,28.92,28.76,28.5,26.53,25.45,21.85,24.43,29.94,19.42,36.21,25.41,32.4,25.09,30.12,20.5,23.14,30.63,20.34,26.65,30.4,27.06,19.78,31.78,27.13,23.45,20.17,29.01,24.25,27.76,20.19,27.73,32.52,24.54,24.77,29.11,28.04,19.44,34.25,32.0,29.04,24.06,24.04,24.39,23.26,25.23,23.38,24.08,28.44,27.88,34.99,26.03,32.04,27.8,28.28,22.14,25.61,26.54,29.34,17.38,21.85,23.08,25.91,24.48,30.04,25.05,23.94,25.57,23.48,27.55,22.69,26.61,27.22,27.23,23.48,26.72,24.58,24.5,25.68,25.46,21.19,19.47,27.22,26.26,24.89,21.67,27.47,23.31,25.96,25.77,23.8,26.18,20.33,25.85,28.27,26.45,26.69,26.28,32.4,25.83,26.37,24.99,21.24,24.81,28.35,24.28,23.13,27.22,22.85,24.38,27.91,27.12,23.95,24.56,23.58,34.56,24.77,23.9,24.58,24.53,27.25,25.16,28.5,30.42,24.96,25.92,22.73,25.98,24.71,27.63,29.66,29.69,23.35,33.49,26.67,19.81,25.56,21.65,24.17,24.1,24.96,24.22,30.18,23.25,28.59,29.01,29.47,26.21,23.45,26.84,22.81,25.97,23.01,18.98,26.97,19.09,36.52,28.58,24.36,22.01,27.3,23.9,38.88,25.23,23.48,28.33,22.32,32.51,28.49,21.09,24.62,19.68,30.39,26.03,23.88,30.06,25.33,21.67,30.07,24.45,28.23,21.4,24.68,26.97,24.49,25.99,22.16,32.52,33.03,35.45,23.06,22.35,22.91,26.82,18.52,22.39,28.68,24.49,27.99,31.74,24.19,21.3,30.85,27.04,21.16,30.93,25.25,21.5,26.04,23.37,25.77,25.18,31.35,26.77,22.85,24.69,33.82,27.02,21.44,27.57,28.25,25.94,21.18,24.24,32.84,29.34,20.66,30.7,25.97,31.34,24.72,26.73,23.48,22.16,25.74,28.3,28.78,28.59,27.66,26.98,28.87,26.56,26.33,20.12,29.85,23.01,28.89,24.66,26.56,23.66,24.38,32.15,28.68,25.51,29.69,29.29,28.52,22.48,26.18,23.63,32.02,22.92,28.3,38.38,20.24,30.24,28.41,21.84,23.18,22.41,31.37,21.68,35.11,25.33,27.99,26.73,26.54,26.47,26.83,24.8,21.18,26.36,20.55,29.76,20.82,25.9,24.79,26.02,19.84,31.23,23.56,34.4,27.82,24.73,21.85,25.13,26.91,24.96,26.67,22.36,32.19,22.7,27.66,29.45,21.26,24.69,24.56,25.65,23.51,22.71,31.48,22.91,28.92,32.27,28.9,21.85,29.38,27.29,23.08,24.17,29.94,27.67,34.53,23.1,27.39,30.93,26.74,30.27,25.05,24.35,24.77,28.88,27.38,19.57,22.24,24.16,30.73,25.37,25.5,26.77,21.74,20.41,26.18,24.74,23.88,25.63,26.07,22.53,33.17,29.03,20.74,29.84,20.52,22.87,20.53,27.18,24.01,27.6,24.39,23.05,29.36,28.56,29.43,33.65,21.01,21.97,25.08,24.16,30.91,22.05,33.49,22.65,28.53,24.5,25.04,21.35,35.2,29.86,21.31,19.84,23.64,26.78,24.11,20.66,24.01,24.89,19.05,20.27,26.59,24.5,21.48,30.06,20.0,35.99,30.24,21.99,22.7,24.94,24.09,25.24,25.89,26.83,22.32,26.65,29.17,23.84,21.8,23.43,24.1,20.55,26.26,27.04,21.56,24.12,27.8,19.39,25.86,24.39,24.57,27.22,25.48,23.6,22.78,22.88,23.28,19.83,18.43,29.51,19.78,26.77,29.8,18.87,27.77,24.12,32.07,29.77,26.56,30.46,20.51,24.16,23.53,29.82,30.69,27.86,21.82,25.38,24.46,26.08,30.35,25.73,27.33,21.12,26.36,24.38,27.52,35.85,24.94,23.87,28.27,26.11,22.62,28.36,18.0,23.38,27.01,22.52,23.09,23.29,18.65,26.36,21.85,22.68,25.15,22.18,31.22,26.0,29.0,23.98,33.66,23.05,16.92,26.22,26.33,20.05,20.86,22.69,22.18,23.19,38.75,22.0,30.39,26.13,27.17,44.55,21.34,21.64,22.73,20.86,17.11,20.84,28.32,20.55,25.13,19.34,22.34,26.73,25.68,26.51,22.74,29.41,30.47,31.19,21.68,25.1,22.01,20.02,22.91,27.34,22.35,25.17,22.15,30.42,24.5,24.51,19.38,31.6,29.25,29.77,28.9,26.71,20.68,29.4,21.03,26.08,24.83,22.81,26.42,24.63,24.05,24.79,19.34,25.17,23.24,25.33,25.71,29.42,20.77,22.69,24.04,22.71,28.69,29.0,23.64,29.6,29.7,25.99,32.41,19.94,21.01,24.49,30.39,20.82,25.46,20.69,26.37,28.18,23.08,21.57,23.69,24.99,24.72,31.64,23.1,29.56,19.03,24.49,35.22,21.0,23.24,30.11,33.45,26.1,23.29,27.96,24.81,23.7,22.72,23.2,25.13,25.41,21.51,25.63,24.09,21.27,27.61,26.98,23.09,31.61,30.29,26.04,27.72,21.79,22.33,27.49,24.75,32.35,31.62,29.47,34.95,27.63,25.09,24.6,24.47,23.08,25.46,25.05,20.72,25.67,32.43,27.12,23.72,25.82,31.71,25.96,24.33,23.75,30.14,25.82,27.64,27.6,27.47,30.63,25.03,25.09,29.91,26.0,22.17,19.09,22.15,29.64,24.59,21.27,22.01,24.41,24.17,28.7,28.88,23.16,19.78,19.88,26.01,21.83,32.93,27.24,18.23,24.36,23.84,33.97,22.34,23.48,19.42,24.71,23.78,21.47,24.56,28.02,23.22,20.23,21.05,24.19,28.06,22.01,26.92,22.92,39.64,21.79,28.16,21.1,21.34,34.69,25.4,24.08,18.7,29.82,22.29,26.59,19.27,23.06,21.82,26.0,23.37,20.93,25.64,34.13,26.68,23.66,24.99,23.76,23.21,27.97,28.6,30.18,25.59,27.51,29.13,27.82,22.9,20.49,27.87,21.14,19.87,24.77,28.72,23.22,25.69,27.26,26.4,36.46,30.06,18.52,27.82,26.84,24.44,24.81,24.91,24.79,23.79,26.0,26.79,32.4,23.45,23.07,24.66,20.27,24.47,26.11,23.54,22.18,23.07,25.95,23.72,26.81,23.48,29.86,26.67,27.56,22.16,28.06,21.41,23.98,25.49,33.54,21.15,23.53,28.82,33.07,21.19,23.05,30.23,25.01,26.42,23.48,20.4,31.55,32.91,26.46,27.18,29.51,26.23,17.61,28.55,28.34,20.52,27.78,22.9,19.5,34.36,31.67,22.67,24.17,23.48,22.58,28.41,24.38,30.0,20.79,24.87,22.91,31.84,26.98,25.03,25.05,35.11,34.59,23.33,24.59,26.38,25.35,26.05,22.64,29.08,29.35,23.24,21.71,23.03,29.65,20.93,26.25,38.06,27.73,25.22,24.84,24.66,24.63,18.16,25.41,23.01,33.1,21.99,22.85,24.19,26.82,25.65,25.36,19.53,25.82,26.73,25.09,24.2,25.39,33.71,30.36,26.31,29.19,26.63,35.78,27.25,20.41,32.81,27.17,26.54,23.62,29.93,24.22,22.92,25.63,25.34,26.69,22.73,19.97,26.89,27.26,25.32,32.52,26.39,21.03,29.67,26.28,29.05,21.33,23.31,20.17,22.65,18.67,20.87,22.98,26.48,25.62,28.59,26.03,28.76,26.06,31.11,24.5,21.65,27.28,28.31,26.25,27.78,23.71,32.84,26.45,25.15,21.42,24.67,27.91,23.86,25.58,30.85,27.01,22.53,31.5,25.45,22.85,26.09,30.0,26.87,33.29,25.87,26.38,21.35,25.64,27.23,24.41,22.19,30.91,23.46,21.22,24.1,35.17,24.67,26.76,23.17,26.51,23.62,28.68,22.54,32.77,34.52,28.69,21.45,30.43,27.99,22.94,23.09,20.33,23.4,26.62,21.35,29.17,22.82,29.84,24.83,27.49,30.05,27.46,25.77,27.99,23.81,24.08,20.76,25.33,24.26,19.74,22.25,30.47,25.68,25.82,25.33,27.96,22.19,22.7,26.64,24.47,21.66,20.42,29.17,22.51,27.01,38.43,28.09,26.81,24.35,22.01,18.99,20.86,29.42,22.88,24.27,29.14,36.04,22.54,22.9,28.68,28.96,26.43,22.5,22.72,31.09,31.38,23.88,33.16,30.62,29.01,23.58,23.77,26.65,19.42,25.68,29.64,23.44,29.89,21.02,21.72,32.27,26.56,26.35,22.7,21.71,26.89,25.14,27.08,25.66,27.54,20.12,23.95,27.4,28.35,27.86,29.88,23.5,24.25,21.64,23.64,25.9,25.21,27.39,30.34,23.54,35.42,24.91,25.2,27.87,30.77,29.38,21.98,21.29,24.41,29.58,22.37,28.18,21.51,29.01,23.96,23.82,24.33,23.8,28.59,22.19,24.5,22.37,22.36,25.12,20.34,23.09,30.34,27.05,25.14,23.32,26.21,24.94,17.65,20.12,32.07,26.05,26.39,20.22,26.72,27.15,26.25,28.38,21.06,24.6,22.18,23.64,19.53,25.86,27.51,27.94,21.99,26.45,22.91,25.71,24.99,33.68,22.25,31.06,23.68,23.9,25.42,26.25,25.56,22.7,22.71,28.09,27.08,22.19,20.69,23.9,23.1,20.88,28.56,24.12,23.72,31.12,23.68,44.71,24.77,25.77,29.08,28.78,38.54,17.32,25.08,39.04,30.21,28.25,28.88,27.92,20.26,30.28,25.11,38.42,28.74,26.4,26.18,20.24,30.67,28.88,27.15,25.77,27.97,28.79,26.41,22.19,33.26,27.94,27.8,30.0,24.2,28.89,28.23,32.03,24.66,23.88,21.17,29.35,26.33,26.38,24.46,28.35,28.54,31.76,21.28,29.82,25.06,24.61,23.57,26.64,25.56,27.26,22.13,22.84,21.35,21.35,23.97,25.63,26.09,27.2,19.61,24.18,23.41,23.48,21.1,24.06,20.12,20.31,27.6,26.2,23.9,33.79,26.0,25.03,23.97,20.79,39.53,24.0,24.69,20.4,22.89,31.61,27.06,28.31,25.16,26.76,28.78,29.07,25.38,28.3,25.98,23.45,25.62,39.54,29.76,26.49,25.51,30.65,28.87,23.05,26.32,25.95,33.29,28.06,23.77,18.44,19.97,24.1,27.04,25.57,21.93,25.91,27.71,22.02,28.4,25.79,22.0,24.96,21.8,27.03,28.4,27.73,24.8,24.27,23.45,35.62,28.02,21.78,26.68,28.11,20.72,26.32,28.61,24.2,29.76,26.35,32.67,43.48,32.68,28.04,30.19,23.43,24.3,26.09,20.5,26.6,26.72,26.15,26.53,26.28,20.72,27.8,25.08,24.39,28.77,22.17,20.1,24.0,25.41,28.4,27.23,25.25,29.15,25.26,31.77,25.9,28.66,22.9,24.26,33.14,19.23,26.09,28.82,26.42,29.36,24.75,25.09,20.15,28.25,27.96,36.91,24.35,29.19,25.56,24.71,23.98,28.36,27.51,24.46,29.35,29.63,26.17,27.97,29.84,25.57,27.34,22.99,28.53,29.23,22.9,39.08,31.9,24.38,29.99,27.02,26.27,33.14,28.61,23.57,29.28,29.3,30.41,22.55,26.51,23.92,39.69,25.5,25.29,23.75,23.29,25.18,23.81,25.38,22.19,34.55,31.11,25.27,22.88,21.8,30.16,26.64,24.1,21.34,22.86,21.11,27.31,23.57,24.14,27.33,19.05,25.83,30.12,25.49,28.04,21.97,27.49,29.48,22.15,30.1,19.7,25.58,28.57,22.4,32.82,21.86,19.54,23.26,20.26,21.84,24.88,30.2,20.3,29.07,27.43,27.49,27.78,23.4,29.84,32.33,22.54,23.25,27.68,24.91,22.17,29.11,26.09,32.76,24.24,23.97,23.07,17.51,23.55,24.58,28.23,24.65,25.45,29.36,22.91,36.65,21.83,19.68,21.68,27.27,34.04,20.72,23.51,29.93,29.29,32.6,30.47,24.8,28.18,26.11,27.88,25.41,25.31,19.16,21.97,24.22,25.87,22.99,27.56,26.58,25.35,26.49,25.97,24.54,39.82,30.41,26.74,30.34,28.15,35.01,28.09,25.18,28.74,29.37,26.86,26.91,21.94,31.64,24.76,28.7,22.91,23.82,27.08,19.8,22.35,22.19,23.4,23.78,23.96,25.94,19.09,23.96,24.76,18.3,27.94,24.45,30.34,22.98,25.23,23.95,29.3,25.31,35.42,23.68,25.2,30.12,25.67,31.93,20.43,30.61,24.24,27.86,29.34,27.14,24.57,23.28,27.38,24.87,23.33,27.04,32.37,23.66,28.0,27.06,26.56,32.52,19.88,25.88,27.73,24.91,24.35,36.79,24.59,23.63,23.48,21.43,21.07,28.74,37.02,29.17,25.19,28.38,22.37,31.67,30.99,28.04,26.21,23.27,30.28,24.89,28.09,20.11,25.89,27.49,27.1,26.5,23.85,23.1,27.01,23.28,22.91,23.95,35.35,22.02,22.46,29.45,28.69,25.91,23.55,26.76,25.27,30.55,33.0,24.51,24.27,23.96,21.19,35.96,29.09,35.53,24.08,34.89,27.42,20.7,24.45,37.38,31.62,28.27,24.83,17.89,23.03,19.72,21.35,30.47,26.45,18.62,22.01,30.32,20.82,31.52,29.01,21.98,25.86,31.31,26.01,32.6,20.32,24.8,28.03,24.17,21.11,21.32,33.88,36.54,25.16,21.07,18.88,27.93,29.47,22.0,25.86,56.8,18.75,23.39,26.55,25.41,26.91,31.75,25.35,29.66,23.46,25.21,38.11,33.76,22.91,26.24,24.22,25.64,24.1,24.99,25.7,26.25,24.39,29.67,23.29,25.21,28.68,24.73,20.23,26.84,21.64,28.4,25.33,22.31,23.44,23.55,22.54,18.4,20.09,24.2,31.54,40.21,20.98,21.33,28.57,22.19,23.6,23.99,26.32,25.46,27.59,23.82,28.85,27.62,24.84,26.91,25.4,27.01,26.58,26.27,25.37,27.87,32.63,22.49,27.93,20.56,21.19,25.22,22.02,21.49,26.39,24.29,26.97,22.53,23.68,26.56,21.01,27.69,31.12,19.81,22.33,27.49,23.68,28.21,26.77,22.37,23.95,26.05,23.08,24.92,29.68,25.77,34.39,28.33,24.56,23.29,30.53,31.14,22.41,26.09,30.47,31.71,24.17,17.48,23.14,23.22,25.48,27.27,27.02,24.12,24.67,31.57,29.28,26.23,18.82,30.22,28.22,28.33,26.13,21.99,28.84,21.83,28.38,27.73,24.15,23.29,32.51,23.08,21.49,25.65,25.12,28.55,26.73,25.09,25.97,29.98,16.98,22.69,23.03,25.62,37.15,25.98,25.6,34.91,27.4,31.2,21.63,24.49,30.03,19.64,23.13,23.62,22.54,29.38,26.27,19.48,18.55,27.78,28.88,25.14,22.49,25.15,23.22,28.12,23.1,18.06,28.96,20.62,26.36,24.87,24.21,24.73,22.54,18.14,23.18,25.36,28.06,24.74,30.71,26.87,25.12,28.55,25.61,24.85,29.89,27.17,28.21,25.61,26.42,35.12,27.73,23.68,21.82,24.67,21.48,22.17,25.45,20.99,22.98,25.33,23.44,22.66,21.35,35.16,30.77,20.72,24.23,21.51,27.73,23.35,24.19,21.84,27.48,23.99,23.96,24.87,29.91,17.81,27.17,31.07,24.67,27.38,39.4,28.65,26.84,23.78,25.25,27.51,23.88,22.73,27.29,22.9,17.17,18.18,26.32,20.74,24.24,24.67,26.11,24.47,23.79,25.13,25.75,24.38,21.73,40.81,23.65,27.86,28.04,31.02,20.74,21.12,26.24,30.42,22.01,27.3,28.61,23.97,23.58,27.38,26.83,24.25,24.17,24.1,23.34,27.94,22.08,38.61,25.62,21.32,28.85,22.27,24.67,31.27,20.4,29.8,30.91,21.27,29.65,25.12,24.32,26.01,24.58,26.48,22.49,20.39,19.46,30.75,32.1,25.11,26.89,25.62,24.72,25.71,25.11,22.57,23.65,30.38,23.6,21.18,23.13,25.51,29.86,23.24,33.49,24.96,22.34,33.66,25.79,29.86,29.87,24.46,25.23,29.38,28.09,23.46,25.5,28.26,27.09,26.73,25.18,26.13,39.21,25.71,22.33,26.38,26.85,31.72,22.18,28.85,29.28,23.29,23.09,30.82,25.65,31.69,23.23,31.04,27.18,25.94,26.11,34.69,25.91,23.35,31.57,26.35,22.85,24.68,30.74,24.98,26.77,19.14,22.72,24.11,27.38,24.26,28.62,27.59,25.4,23.72,29.4,23.22,31.65,22.54,18.28,25.38,25.65,20.52,24.54,26.55,24.99,29.76,25.01,23.96,26.33,23.84,23.84,28.53,30.61,20.71,27.76,26.51,17.23,20.84,32.57,18.26,27.68,23.08,27.99,26.4,25.34,18.64,23.46,24.29,29.22,27.83,24.69,33.9,24.95,27.17,23.78,26.95,21.01,28.85,19.16,21.49,23.43,25.98,28.27,31.47,24.38,27.89,22.65,29.64,32.66,30.18,32.98,24.81,24.35,29.76,28.13,24.06,28.4,23.74,24.8,25.09,36.01,16.59,23.81,22.5,34.71,29.62,33.11,30.79,22.97,23.48,23.07,26.42,23.5,24.23,28.24,28.77,28.94,27.22,25.74,27.88,22.34,24.05,27.69,20.44,28.76,28.66,23.86,23.9,20.23,19.05,31.78,22.19,25.23,33.7,26.47,28.92,25.74,29.35,23.27,31.78,27.33,35.02,28.84,22.44,17.71,19.18,35.35,22.32,33.45,20.15,28.57,25.38,24.62,20.73,23.22,23.93,30.31,23.85,25.02,25.16,24.44,29.49,21.88,24.37,28.09,26.44,24.87,24.86,26.25,22.73,28.09,23.81,22.43,21.59,26.27,23.07,34.32,31.4,23.56,21.18,26.05,28.49,26.44,20.71,25.74,23.36,27.89,27.13,21.45,18.99,22.72,19.78,25.56,24.69,24.3,23.96,24.1,28.41,23.02,35.02,19.72,25.62,22.73,32.92,23.79,27.98,31.05,16.48,27.15,23.04,27.78,23.85,26.25,26.84,27.6,29.06,22.81,23.43,24.83,30.43,23.24,23.24,19.72,21.26,24.47,28.18,22.5,27.86,25.08,32.89,24.56,27.07,20.88,24.03,26.35,26.66,25.14,21.82,28.44,24.74,32.27,24.56,26.85,27.94,30.75,22.34,23.08,25.79,23.72,21.08,23.74,26.61,28.86,27.87,21.27,20.06,25.14,21.84,23.52,25.64,20.92,21.63,20.24,23.59,25.68,25.48,28.23,24.68,20.99,31.31,24.94,22.71,28.53,19.09,23.65,18.11,24.14,25.7,23.36,22.79,25.63,23.37,21.51,30.33,19.18,27.2,28.25,31.34,24.45,20.67,28.49,26.84,22.72,30.08,22.72,29.15,24.53,25.51,23.06,21.77,29.34,23.48,22.91,28.41,25.54,22.67,33.99,21.18,22.91,24.71,27.78,34.56,21.76,28.78,23.1,24.8,21.68,25.48,22.18,24.0,28.83,19.22,27.78,24.95,26.08,24.88,29.7,26.18,25.67,25.84,24.04,26.76,27.31,20.86,29.97,21.82,25.09,20.82,31.31,20.39,25.23,25.51,29.11,24.62,31.82,20.09,22.17,28.3,25.82,23.95,22.49,28.52,19.12,26.08,26.91,28.58,24.39,25.59,23.68,35.31,38.31,23.4,25.14,25.35,26.82,29.36,28.45,23.8,24.1,27.82,25.69,25.85,25.21,27.22,31.63,31.5,28.76,21.14,26.3,22.79,31.08,24.45,31.93,26.98,24.68,28.73,21.2,31.6,20.87,30.33,26.58,26.18,24.14,25.96,19.97,21.66,30.53,23.35,25.2,21.44,22.38,26.94,24.1,29.01,27.71,25.21,27.64,22.54,22.19,25.91,27.31,23.72,22.9,28.08,29.04,25.82,22.83,23.65,24.39,28.09,28.35,26.36,23.86,25.14,22.64,26.97,29.35,27.78,24.43,21.5,23.62,23.29,29.59,24.46,23.48,26.79,23.07,32.09,28.3,20.41,29.22,26.3,22.91,22.26,18.53,29.73,20.17,26.55,24.98,23.01,22.35,22.35,24.47,26.36,23.06,22.81,20.72,25.88,19.18,22.72,25.02,28.24,23.75,28.57,27.15,28.89,20.79,26.79,30.79,26.89,27.13,21.9,35.68,25.42,17.92,21.97,21.51,22.9,16.71,21.93,37.1,23.16,26.21,27.22,19.69,27.94,20.13,28.47,32.22,25.62,31.44,20.06,27.65,23.74,23.81,23.29,24.73,28.86,22.93,22.82,27.72,24.63,24.22,26.05,24.38,29.51,17.5,30.55,22.53,20.42,24.21,27.69,28.47,38.96,22.05,24.61,20.25,24.92,26.46,26.13,26.83,27.14,28.92,26.03,21.18,24.68,24.53,23.65,18.01,22.67,28.88,22.19,24.91,24.61,28.9,31.68,27.64,22.89,24.24,30.36,17.93,18.83,21.34,30.12,28.06,33.08,20.92,29.72,22.54,22.54,25.1,25.52,26.98,25.51,30.8,20.26,23.83,31.22,22.17,21.67,26.21,32.52,30.23,26.23,21.14,24.62,31.44,22.43,32.54,39.94,34.54,22.66,27.61,25.37,21.33,27.04,22.55,32.32,26.51,20.55,24.56,28.96,34.27,28.24,20.25,25.31,23.64,21.28,24.62,18.09,29.64,28.68,18.73,25.26,28.4,28.6,25.83,21.66,28.32,24.82,21.02,28.26,23.76,24.76,22.69,25.31,32.99,27.56,25.9,29.35,22.19,21.44,25.58,21.67,29.08,26.32,25.38,30.59,23.41,29.29,24.44,33.81,23.8,28.81,21.14,21.86,28.74,25.66,26.36,22.54,26.73,23.1,18.46,39.94,28.71,27.99,34.46,24.71,25.75,26.76,28.67,23.65,39.22,24.41,41.29,23.09,18.68,29.45,27.48,24.68,30.85,23.58,22.53,19.49,25.69,24.66,24.21,25.83,25.4,25.86,27.94,25.68,40.08,24.87,34.08,27.94,29.88,27.51,28.3,29.77,25.79,22.14,26.01,23.51,25.94,21.99,30.89,26.89,24.38,25.6,28.8,21.51,25.66,23.96,26.82,25.92,24.6,27.53,25.71,30.22,32.13,24.33,27.73,36.12,22.76,27.92,20.06,27.83,23.84,31.29,22.0,27.42,20.32,26.26,32.41,24.16,28.66,23.68,26.22,36.18,23.94,20.5,28.43,27.93,30.41,23.08,23.48,25.38,27.49,28.18,41.61,32.0,26.53,28.04,21.19,24.0,28.86,26.8,24.91,24.67,19.91,21.22,23.26,24.28,27.51,23.95,24.42,26.95,22.83,21.03,23.31,28.68,25.23,26.38,27.52,31.03,19.68,22.13,23.86,29.27,22.86,29.48,27.99,23.41,24.5,20.42,24.41,35.11,24.81,23.61,27.9,23.1,24.02,29.44,26.83,22.19,19.74,25.69,26.25,22.52,25.36,26.51,26.21,24.96,32.18,25.07,29.8,25.48,24.8,27.94,25.36,22.51,25.23,19.48,26.28,23.03,34.97,27.33,22.73,29.47,25.78,25.56,19.99,23.2,27.56,25.8,23.68,28.5,23.71,29.55,27.56,19.98,22.15,27.26,23.36,22.52,26.29,32.09,23.88,20.72,28.65,25.94,23.09,25.78,21.49,22.9,30.85,25.38,23.87,30.08,27.8,23.63,24.45,29.87,37.62,24.63,25.94,26.0,20.84,31.08,21.47,30.51,32.27,33.52,27.25,21.65,21.96,17.84,26.01,22.73,21.99,26.05,30.92,26.71,26.63,25.1,26.88,32.52,24.01,31.82,26.6,22.02,26.84,22.17,17.68,29.41,24.41,24.93,22.66,18.76,27.45,25.01,28.89,26.09,21.8,23.14,32.35,25.41,28.92,19.76,25.45,22.04,21.33,20.24,25.12,27.27,25.98,29.54,40.38,21.19,26.41,29.6,26.91,27.2,26.97,27.13,27.35,26.0,24.73,22.01,26.59,28.31,23.07,21.88,37.58,23.35,27.42,23.1,31.01,28.61,23.85,25.94,27.14,27.27,20.32,51.28,22.71,25.48,28.9,29.79,23.17,22.72,23.92,26.83,31.42,20.86,24.3,31.47,26.58,21.25,20.12,25.29,22.62,32.31,30.12,25.87,20.42,26.18,26.32,38.94,33.99,21.99,27.27,25.48,27.68,25.74,25.74,23.48,31.92,16.73,21.75,28.82,30.13,19.93,23.26,25.23,24.9,25.38,28.55,26.51,21.38,26.36,19.37,20.72,21.67,23.05,31.64,24.96,28.6,22.46,24.08,29.29,22.62,29.22,26.45,21.01,19.83,28.18,37.3,21.28,35.13,30.98,21.8,25.59,28.61,41.66,27.42,27.87,22.04,24.22,23.09,27.86,24.94,21.84,24.56,22.14,22.66,26.99,27.68,26.15,21.99,25.91,26.0,24.51,22.26,29.89,24.32,27.24,26.13,26.79,28.3,19.28,28.63,25.67,23.48,25.09,27.87,19.98,28.18,27.97,22.91,20.68,22.18,25.29,25.71,27.93,23.38,34.84,27.81,18.1,22.52,23.72,20.7,21.55,27.63,27.48,18.63,25.85,25.43,28.15,25.15,23.03,28.45,24.57,25.81,24.69,24.28,20.96,21.31,26.4,24.01,28.94,26.68,28.35,26.81,27.75,20.09,22.72,26.18,29.5,25.46,28.47,24.02,22.16,26.92,31.98,27.72,29.94,35.19,23.46,27.35,27.4,20.49,22.01,23.99,18.84,27.27,20.45,28.59,27.73,23.71,22.16,22.02,26.58,29.59,28.67,22.19,22.01,25.09,33.02,20.12,26.89,26.38,27.34,33.9,26.17,21.32,19.76,24.16,26.68,26.25,21.03,21.51,25.82,26.27,26.64,26.35,22.9,33.37,28.12,28.54,20.54,24.15,21.26,27.14,38.17,20.62,32.47,25.75,24.05,33.19,24.92,26.29,28.13,27.51,27.73,24.17,28.82,21.48,25.11,22.54,22.54,22.91,27.86,35.19,26.95,26.6,19.14,27.16,24.4,26.27,24.88,24.99,22.81,24.3,19.0,25.74,29.02,26.79,35.16,21.83,20.85,27.13,27.91,31.98,25.98,25.64,21.99,20.78,28.62,25.43,26.64,25.85,26.36,25.09,30.03,19.22,18.68,23.98,20.88,36.07,20.02,27.11,27.96,19.34,22.9,24.62,25.49,29.64,25.31,26.87,24.35,27.01,30.48,22.01,31.02,24.08,23.06,25.74,28.06,27.3,22.41,29.11,27.89,24.71,39.17,22.18,25.23,26.91,22.37,21.18,21.85,26.7,21.68,25.23,24.24,26.05,25.62,43.67,25.6,22.89,24.96,23.14,25.97,19.71,19.16,21.47,29.38,18.64,27.17,29.86,18.8,26.4,22.19,29.15,23.28,33.14,30.43,36.62,20.82,19.53,30.64,27.92,22.86,29.22,27.86,25.22,28.3,26.45,20.5,24.47,26.33,25.63,18.52,27.13,20.86,23.16,39.94,20.82,27.57,22.71,21.99,27.24,28.06,30.64,19.97,26.4,25.61,22.65,21.01,19.34,21.35,22.16,26.01,19.7,30.12,26.27,24.85,23.85,22.72,28.26,26.21,20.12,20.41,19.77,23.1,21.01,33.11,26.05,26.32,24.42,29.11,24.49,32.52,26.65,24.77,33.71,27.17,24.3,27.07,26.4,30.77,39.08,32.63,25.38,24.68,24.73,26.55,29.44,29.59,34.55,22.91,29.45,22.86,43.3,25.48,24.01,30.93,25.62,24.17,25.77,38.61,22.54,24.22,23.07,32.41,29.44,31.13,21.03,23.1,30.76,24.15,28.92,24.19,27.24,30.74,25.78,27.07,24.18,30.35,28.92,16.98,34.39,29.03,34.55,17.84,28.18,28.18,19.09,31.42,30.22,19.97,24.19,32.41,23.48,25.78,22.9,34.08,30.12,21.83,26.85,25.15,22.02,27.24,31.13,32.52,26.27,33.14,33.08,29.07,27.78,32.41,27.57,24.83,32.63,33.76,27.99,26.42,28.09,24.3,17.17,24.06,24.83,24.49,31.52,21.68,25.48,31.64,28.82,37.1,29.76,31.42,25.22,21.14,25.22,23.68,28.82,19.77,28.82,33.11,16.92,26.32,24.83,32.63,30.03,20.55,32.63,24.25,34.69,28.27,27.38,32.51,21.03,31.2,27.4,25.64,23.14,28.9,39.94,26.39,26.05,23.1,21.85,23.88,22.17,25.14,23.4,30.03,19.7,39.94,24.49,23.71,23.62,37.62,39.08,27.78,24.87,27.3,23.82,25.97,34.36,26.39,19.7,21.67,33.11,19.53,26.0,26.05,30.85,30.12,21.51,31.64,30.74,20.74,30.64,26.36,28.62,21.61,22.69,26.38,28.85,26.89,22.11,26.0,25.71,27.05,21.14,27.78,30.74,25.07,39.08,27.73,20.5,28.94,16.98,26.45,23.65,25.77,21.03,23.18,31.2,30.76,24.47,33.99,25.86,25.63,23.75,29.7,23.63,22.71,19.16,27.99,26.49,24.63,26.45,26.05,27.46,23.68,26.05,23.41,25.78,28.3,29.06,27.04,28.57,24.58,16.92,24.07,29.11,22.82,20.82,26.73,30.74,30.85,25.64,23.4,37.1,26.21,24.96,21.85,30.74,23.8,26.73,18.52,20.5,25.95,26.68,27.93,27.54,26.32,30.13,26.68,20.86,27.78,23.07,25.22,22.11,34.39,39.64,25.85,25.81,29.11,25.36,23.96,34.08,33.08,22.9,32.23,28.87,27.04,34.91,24.8,43.69,24.85,29.93,21.94,28.18,27.57,23.59,29.16,26.33,30.13,25.29,26.45,21.61,28.76,22.91,32.63,21.67,24.18,29.38,25.33,32.33,36.29,25.09,23.96,24.42,22.69,27.89,23.06,19.7,25.84,25.86,15.96,34.39,23.06,28.26,30.22,33.38,26.09,19.34,27.31,27.12,21.03,26.04,28.57,26.18,34.69,29.15,26.48,32.57,26.85,20.76,16.92,26.64,36.29,28.83,26.05,19.57,30.35,25.84,26.35,29.3,37.62,22.54,26.0,39.82,20.5,24.66,19.53,28.5,22.0,29.76,21.68,26.6,23.41,32.51,29.63,33.54,37.1,30.12,20.86,24.73,27.26,29.38,25.22,23.38,24.17,23.08,24.85,32.52,20.76,29.98,25.45,21.85,26.21,18.52,25.62,20.12,21.33,24.71,25.31,23.34,29.84,25.33,22.53,26.55,38.82,25.13,56.8,28.85,26.45,24.56,31.05,28.3,30.74,22.9,30.22,27.57,30.85,33.0,34.08,30.0,25.38,29.67,23.27,27.13,25.29,29.98,40.52,28.27,28.33,23.27,31.64,29.15,25.05,22.72,25.37,31.42,33.08,23.85,26.39,26.64,30.74,28.33,38.39,22.67,27.22,30.12,24.87,26.39,23.48,25.81,26.58,27.35,30.39,16.98,22.0,26.77,27.73,23.28,21.51,33.9,21.51,28.15,29.22,18.52,29.7,27.99,21.19,23.08,27.55,34.39,38.38,33.81,25.32,29.04,26.89,27.02,16.71,23.63,25.29,24.73,39.94,25.41,25.38,25.14,23.76,29.75,26.4,27.3,23.27,38.88,25.61,29.23,28.68,25.81,20.63,26.25,25.68,16.92,23.06,20.82,24.3,31.64,28.58,23.68,29.07,27.57,28.06,26.73,30.8,33.0,31.07,25.86,19.61,23.06,32.52,25.68,22.73,29.93,20.27,27.38,29.6,25.71,22.86,29.64,24.49,36.29,31.64,26.45,27.51,43.69,27.3,28.26,20.82,26.32,26.42,24.8,25.45,28.66,28.15,23.96,20.82,18.59,22.19,29.07,21.33,21.35,26.37,34.97,29.44,26.46,27.47,23.1,28.18,22.17,25.78,18.52,26.05,19.14,25.95,24.86,22.15,26.01,29.13,24.18,33.32,31.52,22.91,26.42,30.42,25.09,28.27,22.54,24.01,25.38,28.18,23.14,26.81,30.74,39.94,32.63,25.36,26.73,20.82,24.69,20.5,30.12,26.84,27.08,27.47,24.64,21.91,31.05,28.58,21.94,19.18,28.09,27.31,28.82,29.07,37.48,18.8,37.62,26.48,27.97,19.16,33.38,22.91,25.22,21.61,34.95,31.12,31.2,26.25,29.03,29.6,25.15,38.82,32.57,29.38,26.89,22.91,27.61,25.56,32.57,28.57,28.88,23.06,24.39,23.68,25.56,25.56,24.42,22.71,19.77,26.77,30.38,32.51,31.2,28.66,30.8,26.64,28.65,32.63,24.86,22.24,20.63,24.85,26.59,28.33,37.48,31.52,28.67,25.18,35.17,23.18,23.18,30.28,25.08,21.94,30.03,24.18,27.87,27.89,22.19,25.36,28.26,31.64,40.08,19.7,22.82,28.65,21.91,23.68,23.06,36.29,24.01,26.83,25.09,19.88,32.33,29.86,24.15,29.89,28.53,31.61,29.86,18.59,18.52,26.25,19.88,27.51,25.84,31.13,21.91,29.51,25.22,23.63,27.51,33.26,20.77,21.35,23.95,30.8,22.65,33.08,34.55,28.3,19.97,31.13,25.81,29.67,32.41,26.85,25.84,20.63,24.8,27.47,34.08,21.31,38.39,28.94,24.56,29.5,31.64,26.58,26.42,26.59,24.04,26.59,33.99,28.82,33.0,24.3,17.84,30.38,26.73,22.54,25.51,22.97,25.06,33.76,22.54,24.69,26.45,29.5,28.92,23.41,32.33,19.18,32.33,21.85,23.39,21.83,23.68,31.3,29.6,22.9,22.0,32.8,25.95,29.34,38.82,23.38,33.38,21.18,23.65,27.24,29.64,38.38,25.77,31.61,32.57,25.68,27.05,22.17,39.4,33.38,24.83,22.86,28.82,31.44,17.68,28.58,21.33,25.51,29.87,30.93,39.94,26.42,22.15,28.34,24.58,26.84,23.08,27.13,28.87,26.2,25.9,29.87,38.61,21.18,37.48,26.18,24.06,34.95,36.91,56.8,30.43,23.39,33.9,25.78,28.26,30.77,25.51,21.67,23.4,29.6,33.71,33.16,29.04,24.18,24.22,21.91,39.4,27.24,23.76,19.34,27.35,29.82,24.49,30.77,21.64,27.51,26.89,20.5,28.18,43.69,27.47,24.83,28.92,22.11,25.81,28.9,23.03,23.08,24.56,17.84,21.88,24.73,34.55,22.54,20.09,32.41,28.85,29.59,29.87,29.64,32.49,17.17,22.54,26.0,25.33,20.88,24.66,33.81,33.38,25.46,24.04,29.51,34.55,29.59,28.34,29.59,36.29,30.19,20.55,17.17,37.48,22.7,27.99,26.64,27.1,26.0,29.87,19.61,20.5,19.7,26.21,23.95,28.33,30.35,33.19,28.56,24.47,27.88,30.19,26.77,15.96,24.42,27.89,22.91,21.94,25.32,27.07,30.77,29.38,24.19,25.36,19.7,28.85,38.88,28.58,21.99,23.03,31.04,27.92,23.39,24.77,18.64,30.0,25.86,28.18,27.24,24.8,25.31,38.82,25.22,28.56,20.86,23.34,19.54,30.41,24.56,38.88,38.39,28.5,22.53,20.5,28.27,20.76,24.01,24.54,22.67,29.06,29.63,31.64,23.71,25.29,20.82,24.01,25.18,27.13,25.41,33.19,23.28,32.57,24.06,27.61,20.76,26.45,26.13,29.11,25.33,26.39,22.57,40.52,27.54,21.51,23.03,26.26,38.38,26.46,28.82,29.25,22.18,22.91,22.36,26.84,26.65,24.73,22.42,22.36,20.82,26.37,23.08,23.4,18.59,30.0,22.97,25.26,21.61,25.09,29.6,23.03,21.94,26.05,27.89,22.91,23.34,30.22,36.62,21.91,20.86,22.69,32.09,26.27,24.73,29.04,38.88,22.67,20.77,28.66,24.87,24.64,24.49,23.44,22.9,20.76,30.84,25.58,25.86,25.22,24.8,33.32,28.33,22.86,28.34,25.95,24.63,32.63,24.73,33.08,27.04,25.64,24.17,24.07,23.16,27.93,29.84,29.36,27.51,29.45,25.94,27.12,35.17,28.09,23.1,27.01,21.51,26.36,23.38,29.76,25.32,26.58,23.14,38.82,26.42,27.93,27.35,27.88,29.44,28.82,28.57,25.07,22.91,33.9,27.11,25.29,26.49,22.51,23.08,23.14,25.22,22.72,31.2,20.82,22.17,22.18,20.55,23.95,22.7,23.03,25.32,22.73,30.77,27.1,27.04,28.82,23.88,25.71,25.11,27.61,22.36,28.21,26.64,33.26,22.54,22.9,23.71,29.15,27.24,32.09,25.51,23.63,25.35,23.1,26.48,24.86,22.53,23.68,30.77,28.57,25.38,25.08,27.35,38.39,25.81,30.64,19.69,29.6,25.83,24.58,32.57,20.09,28.35,40.08,31.11,27.15,28.57,28.66,23.48,37.1,25.45,24.06,33.37,29.51,27.02,19.77,19.97,31.52,24.17,24.8,27.87,29.82,25.22,28.55,23.62,25.36,36.29,20.86,32.51,31.2,26.85,27.97,23.08,25.56,27.99,23.39,19.69,29.11,19.14,22.0,19.72,24.49,22.97,23.07,29.67,27.51,25.46,28.62,24.68,27.61,30.64,23.48,28.33,27.04,25.81,23.84,37.1,23.41,23.4,29.98,20.5,32.51,26.55,23.13,25.83,24.86,28.88,27.55,28.65,27.86,29.13,33.19,22.65,24.25,21.68,25.81,25.32,29.11,24.06,22.92,21.03,27.89,25.09,33.76,25.35,28.09,26.27,31.12,23.38,21.35,26.13,22.3,56.8,30.19,26.42,25.66,26.35,27.73,23.03,22.86,31.44,23.88,25.08,24.73,27.89,26.2,26.21,22.86,27.1,23.27,24.63,25.07,31.42,28.55,20.45,28.18,25.11,21.83,26.55,28.04,28.66,29.86,24.63,30.35,33.08,26.42,33.81,21.61,36.29,29.45,30.74,32.23,29.89,23.07,38.61,23.27,27.47,29.51,21.35,30.12,22.69,29.82,25.9,28.94,39.82,23.14,20.93,26.68,25.78,23.18,26.09,27.55,29.45,20.88,31.3,24.8,28.34,26.09,24.63,21.85,23.75,25.26,29.13,25.85,25.31,18.99,30.85,21.35,24.17,29.25,31.3,25.14,30.42,24.06,23.4,29.84,26.68,27.68,31.3,31.3,22.54,19.5,29.51,24.49,29.63,23.08,24.85,20.72,28.55,28.55,23.95,22.02,25.49,27.55,27.88,26.73,26.89,20.77,26.77,22.02,28.86,26.21,23.13,24.56,23.95,24.69,37.62,30.84,27.88,33.54,24.16,40.08,21.64,30.42,34.08,22.82,28.82,31.64,28.57,25.18,22.0,21.88,23.63,22.17,29.15,27.86,22.72,26.58,31.64,30.42,26.11,21.67,25.56,22.18,30.85,27.01,25.33,27.22,26.01,30.19,28.3,28.57,40.08,31.2,25.63,25.84,22.69,28.56,22.91,33.71,20.76,25.71,23.44,24.47,20.77,25.32,30.76,24.4,30.43,30.13,25.36,25.35,26.85,20.76,23.41,30.74,29.98,23.62,25.81,27.17,29.59,38.82,20.55,29.63,25.63,30.43,23.03,27.59,27.89,27.89,26.4,26.25,29.63,26.05,23.68,25.51,29.86,30.13,23.84,26.65,27.73,40.08,27.17,29.22,20.74,23.03,20.45,20.2,26.85,24.71,27.92,28.67,26.35,26.49,23.1,21.85,23.68,23.4,25.48,22.91,22.17,23.84,25.07,20.41,22.72,29.67,34.95,29.45,22.53,25.86,25.22,22.86,20.45,26.09,28.04,18.8,22.65,25.51,39.08,28.04,21.9,21.85,24.39,28.5,27.1,25.14,28.35,30.38,25.77,26.83,36.62,32.27,31.2,33.9,22.82,20.88,33.37,25.11,26.85,24.85,26.01,33.11,24.83,24.16,23.8,29.38,38.38,24.39,21.33,22.19,43.69,24.42,28.26,26.45,26.09,21.51,23.68,28.09,22.0,24.25,32.27,23.96,22.91,24.06,29.63,24.06,26.59,29.13,24.84,20.77,30.43,29.63,20.74,26.05,26.33,25.63,39.4,29.08,15.96,22.16,25.45,22.42,40.08,24.8,25.14,21.83,22.19,24.49,21.99,27.88,27.92,20.86,23.1,19.14,30.08,29.36,33.26,23.16,20.12,23.27,30.28,29.03,20.72,26.09,25.46,24.27,26.36,23.41,27.04,27.59,22.86,28.62,23.1,21.68,28.85,27.97,25.86,27.04,25.15,25.56,23.34,21.64,23.03,30.39,39.64,25.22,27.12,41.61,25.94,26.4,28.67,19.53,20.09,27.11,23.82,27.51,36.91,33.11,25.86,25.66,32.27,24.06,26.46,23.44,22.16,23.65,32.41,29.63,20.55,27.47,31.13,32.35,27.73,29.6,28.34,28.09,22.57,24.47,25.14,26.25,22.51,26.09,22.15,33.71,33.37,24.71,31.64,29.86,26.77,24.5,28.26,30.0,22.18,27.46,24.01,29.86,19.57,29.04,26.45,37.1,32.52,24.54,23.85,29.13,36.91,39.94,25.66,32.23,22.54,28.58,33.32,20.12,28.9,19.97,23.16,20.5,20.41,25.45,23.07,24.5,26.01,29.51,29.13,20.63,25.38,22.91,21.09,25.81,22.0,32.51,21.9,29.38,26.37,28.26,27.4,24.87,25.37,28.88,29.63,25.86,18.59,29.3,43.3,29.36,28.15,33.81,21.9,26.85,26.26,29.85,28.88,33.32,30.35,29.38,27.86,29.25,27.47,25.36,26.25,33.9,25.49,28.58,24.49,22.51,32.63,19.53,26.64,31.64,25.31,16.92,28.18,27.73,20.5,29.82,27.73,24.16,25.46,23.62,30.19,23.14,23.44,28.35,26.36,40.52,18.99,25.35,19.14,29.98,30.0,23.63,33.14,22.86,22.72,19.34,22.91,29.15,43.69,24.71,27.78,24.17,26.45,37.1,33.16,28.35,20.93,21.35,24.64,25.26,24.86,18.99,26.33,26.48,25.45,26.77,19.53,25.66,27.05,24.85,24.1,22.17,19.69,27.04,29.38,26.4,24.19,29.63,25.86,21.85,23.03,21.94,30.19,33.19,33.99,36.91,20.82,31.42,26.36,23.03,24.54,33.16,26.39,24.42,28.85,33.11,24.16,21.33,25.49,32.33,30.43,34.36,25.45,25.83,26.58,25.81,25.46,23.46,33.26,19.09,23.27,23.82,22.9,29.63,26.27,32.63,24.58,56.8,23.96,17.68,33.19,33.38,26.45,16.92,31.61,29.45,22.15,22.91,20.45,28.62,29.06,26.48,25.66,28.94,25.23,28.68,20.2,25.61,24.77,26.42,28.27,26.01,26.18,27.13,29.36,25.83,24.63,26.35,38.61,22.72,30.12,25.86,21.51,25.72,26.21,29.64,26.0,25.51,34.36,23.98,17.84,31.52,25.61,30.43,25.64,26.21,28.68,28.94,30.35,28.35,17.84,20.86,25.61,22.9,20.72,23.68,20.72,29.75,30.38,27.13,33.81,28.26,23.03,30.12,22.73,29.7,23.1,29.5,23.44,23.06,26.42,25.29,20.55,24.58,29.36,29.93,24.8,23.8,22.91,29.76,22.9,26.05,29.11,22.51,26.25,28.88,20.74,19.18,22.36,25.45,34.91,29.08,25.56,27.12,30.0,29.07,22.11,33.81,25.4,27.04,28.87,25.33,22.73,29.63,28.21,24.3,20.5,24.47,29.87,24.73,26.21,23.68,29.25,25.15,31.64,29.3,28.09,28.5,24.19,25.33,27.87,28.88,19.5,38.61,28.21,43.69,25.29,21.35,22.54,27.24,23.07,25.45,25.09,27.13,27.35,19.14,26.13,24.07,29.51,27.07,19.61,29.5,20.77,27.51,23.68,23.03,25.36,25.15,20.55,27.87,20.41,25.35,24.8,18.52,22.54,28.04,37.48,23.09,29.63,31.71,23.44,18.64,29.36,38.39,25.86,25.35,25.77,24.8,24.4,28.94,25.68,25.45,27.93,21.68,24.85,23.68,22.86,28.57,26.05,24.85,26.0,20.55,20.2,29.15,22.51,33.81,29.15,25.49,27.59,18.52,19.88,20.88,31.05,27.08,30.74,22.73,25.9,24.54,27.57,26.36,34.36,29.93,34.91,26.05,27.18,25.94,22.54,28.09,24.73,26.33,28.85,21.85,26.89,32.41,24.01,19.97,27.24,29.36,27.99,27.78,24.85,27.51,22.72,20.88,21.14,28.33,25.22,27.24,25.36,39.64,26.35,24.8,25.11,22.91,26.84,20.27,26.01,26.55,20.27,39.08,25.68,28.04,28.86,37.1,26.09,28.88,28.33,21.14,28.65,31.42,19.14,25.71,18.64,26.89,17.84,26.4,17.84,29.98,26.81,28.3,28.57,22.69,34.39,30.38,43.3,20.55,21.67,26.09,25.32,32.49,22.15,26.01,28.18,27.46,24.17,24.4,25.68,29.15,26.18,24.25,28.09,22.42,22.54,18.59,24.17,28.06,22.42,24.85,32.63,32.57,23.96,29.36,28.57,23.71,26.45,28.18,28.04,24.04,18.64,23.03,29.43,23.08,25.62,34.97,22.71,32.09,29.76,28.34,32.33,29.36,28.67,25.51,30.38,29.87,25.91,16.92,28.53,22.0,25.18,25.9,20.88,27.13,27.59,21.51,30.04,25.38,22.91,33.32,27.57,23.96,22.73,27.31,31.52,30.12,25.45,20.86,20.86,24.63,25.86,24.66,29.67,24.49,28.33,27.31,21.85,27.86,24.58,20.86,32.57,28.82,22.19,28.5,22.18,25.81,37.1,31.64,41.61,22.73,29.98,26.21,25.18,31.71,34.95,27.38,25.95,20.88,21.51,25.49,22.19,27.87,25.78,20.27,20.88,18.64,27.99,23.1,21.85,20.88,24.19,36.62,27.15,28.18,27.01,29.8,20.72,29.08,40.52,20.5,25.13,24.12,25.83,23.85,35.17,27.93,29.6,26.59,19.93,23.96,30.39,20.45,43.3,28.34,29.08,28.09,22.11,29.36,30.42,32.09,27.78,22.15,25.36,26.21,32.41,32.35,27.05,26.84,34.39,24.73,20.88,24.49,25.31,26.33,26.32,25.45,29.36,22.16,23.34,24.69,33.76,32.23,26.38,29.75,29.43,22.54,23.76,23.44,23.76,32.23,25.48,25.71,26.48,22.67,25.36,24.77,23.75,24.68,29.91,32.23,29.67,33.32,23.46,23.41,26.33,27.51,29.08,29.63,22.36,24.73,25.48,26.65,19.14,25.46,24.68,20.2,26.2,29.43,28.21,26.58,29.15,25.56,26.33,25.86,40.52,26.35,32.33,28.33,28.82,28.33,23.68,26.42,28.82,20.82,26.25,33.38,20.5,31.2,28.9,27.18,36.29,23.03,17.68,21.91,21.85,38.82,23.39,25.31,34.91,28.06,24.73,29.89,30.38,25.23,26.0,22.71,23.13,25.78,26.21,26.18,23.4,29.06,28.15,28.34,27.88,29.5,25.31,27.18,21.64,30.0,38.88,27.04,24.68,23.48,23.68,27.13,22.9,23.96,27.86,25.29,16.92,27.73,16.92,33.71,34.91,38.88,22.24,29.5,32.52,24.04,27.13,27.97,29.64,23.1,25.33,27.99,29.75,23.03,27.38,23.71,25.48,21.85,23.13,29.22,22.3,30.0,29.04,26.33,26.4,30.84,26.18,30.64,27.11,26.45,23.03,25.37,23.27,30.38,20.5,26.37,23.07,25.41,20.88,22.54,24.17,29.89,29.89,29.93,31.13,24.85,25.11,20.88,28.27,30.41,23.14,26.36,28.9,23.14,23.38,33.81,25.58,25.63,27.05,29.91,32.35,27.61,26.39,32.57,26.85,33.9,22.86,27.4,28.55,25.97,21.83,27.13,27.61,23.08,26.45,22.86,26.48,24.84,23.85,26.83,56.8,20.27,24.4,27.89,23.44,23.06,31.61,28.57,32.35,26.0,27.15,32.49,17.84,25.71,18.64,19.34,24.22,26.37,29.38,23.1,23.65,25.22,26.58,18.59,30.8,20.82,29.38,28.04,19.97,23.98,18.8,21.99,17.68,31.71,22.11,28.56,17.84,29.34,18.99,25.22,25.22,23.68,26.42,27.99,31.3,25.2,16.92,43.3,28.67,27.18,28.04,28.5,40.08,32.51,43.3,28.18,26.58,23.1,25.09,26.65,27.18,28.35,33.08,28.55,34.69,24.8,30.64,20.72,25.33,27.59,25.71,20.82,29.11,25.05,19.72,25.2,23.84,29.43,21.67,33.76,26.09,24.86,27.04,31.05,24.63,30.64,33.9,20.82,26.45,24.54,30.35,27.57,24.17,28.65,29.44,23.1,39.08,26.33,38.82,30.0,25.85,29.67,22.54,21.03,32.35,29.36,25.4,24.54,36.29,18.99,23.1,21.85,28.58,26.73,23.03,23.41,29.76,43.69,26.73,23.1,25.71,30.0,26.21,24.47,31.2,37.62,34.39,29.03,28.56,29.84,29.13,27.52,24.19,22.97,23.06,29.93,22.17,29.87,22.3,22.53,25.78,25.56,25.51,27.13,35.17,22.57,33.71,26.48,27.08,23.13,31.11,27.46,25.68,25.41,24.01,23.68,25.86,30.8,16.98,22.69,24.69,28.86,25.33,25.05,25.51,56.8,29.82,27.38,36.91,22.18,29.44,23.85,25.58,20.88,15.96,26.11,32.51,29.11,23.27,26.35,25.22,20.12,22.18,26.36,23.1,22.67,26.6,19.53,24.5,23.1,23.27,30.19,20.12,25.35,25.59,22.91,18.59,25.14,24.1,31.04,22.57,26.09,19.16,33.9,21.19,17.68,23.84,31.61,24.71,28.21,28.18,23.1,29.87,28.06,24.56,23.76,22.72,29.07,34.97,28.21,29.15,23.03,29.22,38.38,26.65,19.54,31.64,20.45,22.42,19.5,26.83,29.89,19.5,27.99,29.15,24.73,23.96,28.09,29.64,30.28,22.57,22.3,33.16,26.35,29.06,26.21,27.57,19.93,25.1,26.36,25.31,29.3,24.06,23.95,27.59,31.64,22.86,30.08,32.27,30.41,28.55,28.33,29.44,37.62,29.98,26.36,20.15,15.96,22.17,22.02,28.58,23.08,40.52,26.09,20.45,24.3,26.58,25.22,23.27,29.91,25.14,25.31,29.38,27.97,26.05,28.67,25.07,21.19,24.1,31.04,30.19,28.85,19.14,19.97,26.11,29.63,28.82,26.09,22.91,29.44,26.81,24.77,24.86,25.35,28.56,22.71,33.38,33.76,37.62,34.97,29.63,18.99,25.58,24.71,23.68,32.33,30.77,33.54,19.77,25.22,38.61,21.51,28.88,39.82,20.27,27.24,29.06,15.96,22.0,30.0,23.96,28.06,27.4,26.45,19.16,29.86,28.85,25.97,26.13,25.86,23.68,24.12,24.68,27.04,26.25,23.18,24.54,24.58,29.44,24.01,20.5,25.18,38.82,26.09,33.38,24.73,28.68,27.89,20.77,25.33,29.8,27.68,29.85,17.68,23.71,24.77,28.76,38.61,29.38,28.52,20.86,20.63,26.09,22.18,26.6,25.77,27.89,19.57,25.2,28.86,21.01,23.84,56.8,22.86,22.97,23.03,38.82,22.02,27.78,26.85,23.95,21.88,24.49,22.71,19.5,23.59,22.92,25.56,19.97,22.19,23.59,30.08,27.55,21.85,20.12,22.42,23.1,33.0,25.72,23.16,31.04,24.73,26.58,27.01,23.85,26.64,29.04,23.62,26.45,23.63,24.22,24.1,17.84,29.93,24.25,26.58,22.71,37.1,29.3,24.84,23.1,27.05,30.93,28.09,25.62,32.63,27.89,25.64,29.36,26.59,30.93,32.57,26.21,29.67,30.74,22.11,26.83,29.04]},{\"label\":\"colesterol_total\",\"values\":[195.0,250.0,245.0,225.0,285.0,228.0,205.0,313.0,260.0,225.0,254.0,247.0,294.0,332.0,226.0,221.0,232.0,291.0,195.0,195.0,190.0,185.0,234.0,215.0,270.0,294.0,260.0,225.0,272.0,247.0,295.0,226.0,209.0,175.0,214.0,225.0,257.0,178.0,233.0,180.0,243.0,237.0,195.0,311.0,208.0,252.0,261.0,179.0,267.0,216.0,237.0,240.0,209.0,250.0,266.0,255.0,185.0,205.0,270.0,254.0,220.0,235.0,220.0,252.0,212.0,223.0,300.0,302.0,248.0,175.0,200.0,189.0,221.0,258.0,202.0,183.0,274.0,170.0,285.0,210.0,170.0,210.0,197.0,261.0,326.0,252.0,274.0,188.0,256.0,244.0,311.0,243.0,193.0,239.0,296.0,269.0,220.0,275.0,268.0,265.0,173.0,273.0,250.0,290.0,278.0,197.0,264.0,214.0,233.0,282.0,265.0,257.0,278.0,185.0,210.0,175.0,241.0,237.0,288.0,200.0,183.0,223.0,244.0,235.0,210.0,213.0,244.0,303.0,246.0,150.0,270.0,266.0,246.0,187.0,286.0,240.0,154.0,266.0,279.0,293.0,259.0,219.0,210.0,230.0,320.0,220.0,312.0,214.0,209.0,195.0,265.0,254.0,165.0,159.0,244.0,174.0,242.0,301.0,266.0,167.0,205.0,210.0,197.0,235.0,220.0,265.0,200.0,308.0,245.0,325.0,229.0,236.0,214.0,300.0,225.0,215.0,225.0,257.0,216.0,224.0,215.0,216.0,245.0,253.0,241.0,235.0,464.0,226.0,308.0,248.0,215.0,240.0,171.0,189.0,240.0,239.0,186.0,227.0,273.0,212.0,249.0,185.0,176.0,239.0,285.0,163.0,254.0,191.0,263.0,237.0,175.0,196.0,150.0,180.0,242.0,173.0,257.0,193.0,243.0,239.0,273.0,220.0,303.0,310.0,232.0,164.0,245.0,135.0,265.0,291.0,273.0,238.0,207.0,219.0,246.0,197.0,260.0,189.0,342.0,180.0,268.0,287.0,182.0,224.0,238.0,252.0,212.0,300.0,165.0,352.0,240.0,284.0,219.0,217.0,176.0,203.0,265.0,219.0,245.0,312.0,273.0,254.0,273.0,213.0,254.0,262.0,215.0,302.0,185.0,129.0,284.0,325.0,208.0,260.0,164.0,270.0,186.0,258.0,228.0,155.0,270.0,323.0,242.0,203.0,310.0,245.0,206.0,173.0,283.0,319.0,230.0,220.0,282.0,188.0,304.0,268.0,221.0,269.0,288.0,250.0,194.0,258.0,272.0,219.0,260.0,270.0,340.0,223.0,197.0,240.0,240.0,220.0,200.0,328.0,222.0,246.0,246.0,280.0,186.0,197.0,311.0,368.0,220.0,218.0,241.0,219.0,225.0,312.0,200.0,237.0,207.0,245.0,238.0,259.0,250.0,238.0,276.0,339.0,231.0,187.0,198.0,196.0,225.0,177.0,202.0,231.0,210.0,230.0,283.0,203.0,200.0,244.0,212.0,218.0,185.0,282.0,198.0,248.0,290.0,239.0,245.0,200.0,201.0,290.0,285.0,203.0,250.0,290.0,258.0,246.0,174.0,220.0,195.0,235.0,223.0,308.0,167.0,185.0,240.0,245.0,310.0,300.0,256.0,202.0,155.0,207.0,276.0,255.0,215.0,277.0,179.0,226.0,245.0,240.0,184.0,218.0,229.0,174.0,285.0,212.0,175.0,323.0,206.0,246.0,304.0,243.0,235.0,232.0,177.0,188.0,176.0,234.0,268.0,252.0,242.0,195.0,197.0,268.0,226.0,212.0,220.0,224.0,240.0,226.0,237.0,199.0,206.0,265.0,260.0,243.0,258.0,182.0,209.0,168.0,266.0,210.0,292.0,190.0,234.0,173.0,198.0,208.0,227.0,186.0,195.0,284.0,177.0,305.0,195.0,227.0,245.0,250.0,306.0,152.0,222.0,243.0,270.0,300.0,252.0,235.0,161.0,168.0,247.0,250.0,219.0,320.0,253.0,319.0,176.0,239.0,230.0,190.0,196.0,181.0,220.0,220.0,207.0,269.0,258.0,340.0,277.0,245.0,233.0,258.0,215.0,210.0,248.0,251.0,210.0,258.0,201.0,303.0,248.0,296.0,218.0,235.0,255.0,240.0,234.0,278.0,269.0,203.0,243.0,231.0,216.0,271.0,261.0,203.0,210.0,206.0,301.0,241.0,215.0,261.0,266.0,237.0,217.0,176.0,370.0,182.0,245.0,292.0,246.0,193.0,247.0,229.0,300.0,213.0,439.0,171.0,227.0,207.0,145.0,210.0,245.0,258.0,233.0,243.0,240.0,213.0,242.0,214.0,241.0,250.0,240.0,188.0,275.0,252.0,227.0,253.0,278.0,232.0,189.0,242.0,247.0,230.0,223.0,263.0,277.0,215.0,320.0,210.0,300.0,287.0,234.0,176.0,240.0,300.0,258.0,215.0,197.0,210.0,220.0,294.0,210.0,232.0,220.0,205.0,198.0,208.0,276.0,216.0,254.0,246.0,330.0,170.0,245.0,286.0,250.0,270.0,287.0,218.0,222.0,170.0,197.0,157.0,244.0,252.0,203.0,398.0,207.0,264.0,214.0,272.0,293.0,200.0,269.0,250.0,219.0,187.0,243.0,190.0,267.0,218.0,195.0,266.0,229.0,264.0,273.0,162.0,250.0,314.0,219.0,250.0,230.0,195.0,194.0,273.0,224.0,166.0,160.0,238.0,281.0,292.0,203.0,250.0,240.0,193.0,243.0,292.0,200.0,295.0,255.0,197.0,285.0,206.0,300.0,289.0,287.0,253.0,199.0,262.0,355.0,223.0,307.0,220.0,156.0,240.0,234.0,239.0,165.0,225.0,267.0,227.0,300.0,248.0,215.0,215.0,156.0,289.0,236.0,329.0,270.0,267.0,199.0,272.0,195.0,203.0,212.0,190.0,222.0,206.0,262.0,294.0,251.0,160.0,143.0,245.0,200.0,215.0,185.0,212.0,255.0,230.0,211.0,212.0,200.0,278.0,190.0,240.0,298.0,271.0,283.0,241.0,251.0,292.0,245.0,168.0,197.0,152.0,225.0,296.0,211.0,334.0,241.0,196.0,222.0,215.0,188.0,290.0,229.0,196.0,249.0,210.0,232.0,205.0,245.0,249.0,160.0,251.0,207.0,214.0,296.0,250.0,222.0,193.0,226.0,278.0,254.0,196.0,192.0,184.0,267.0,162.0,220.0,204.0,280.0,180.0,210.0,246.0,262.0,193.0,218.0,152.0,239.0,210.0,220.0,253.0,175.0,202.0,177.0,199.0,211.0,258.0,256.0,207.0,260.0,272.0,208.0,222.0,219.0,228.0,230.0,167.0,175.0,280.0,242.0,231.0,238.0,314.0,219.0,219.0,326.0,255.0,191.0,239.0,292.0,233.0,254.0,237.0,237.0,231.0,260.0,225.0,210.0,276.0,205.0,305.0,178.0,217.0,328.0,232.0,261.0,217.0,240.0,197.0,173.0,265.0,248.0,205.0,234.0,240.0,266.0,244.0,241.0,207.0,214.0,225.0,214.0,304.0,238.0,241.0,255.0,212.0,207.0,222.0,220.0,240.0,231.0,268.0,256.0,195.0,247.0,166.0,248.0,165.0,283.0,261.0,264.0,273.0,234.0,197.0,202.0,163.0,247.0,215.0,251.0,205.0,225.0,250.0,255.0,239.0,264.0,232.0,232.0,225.0,174.0,221.0,242.0,194.0,238.0,206.0,273.0,290.0,290.0,180.0,233.0,199.0,255.0,249.0,200.0,244.0,255.0,257.0,176.0,217.0,282.0,318.0,309.0,220.0,201.0,206.0,259.0,224.0,154.0,273.0,303.0,229.0,253.0,236.0,205.0,152.0,194.0,353.0,298.0,224.0,253.0,318.0,196.0,360.0,230.0,243.0,247.0,229.0,280.0,335.0,219.0,168.0,250.0,262.0,260.0,232.0,240.0,284.0,247.0,295.0,203.0,150.0,202.0,215.0,229.0,285.0,220.0,274.0,234.0,170.0,268.0,257.0,252.0,285.0,209.0,262.0,261.0,202.0,160.0,218.0,284.0,265.0,239.0,210.0,266.0,256.0,199.0,171.0,272.0,205.0,225.0,272.0,269.0,160.0,158.0,239.0,196.0,258.0,201.0,340.0,192.0,300.0,177.0,194.0,266.0,287.0,247.0,199.0,205.0,310.0,270.0,201.0,199.0,255.0,159.0,168.0,216.0,263.0,175.0,240.0,220.0,310.0,186.0,220.0,232.0,240.0,187.0,213.0,210.0,267.0,332.0,236.0,232.0,242.0,242.0,224.0,167.0,277.0,227.0,217.0,200.0,271.0,217.0,197.0,279.0,236.0,218.0,187.0,222.0,183.0,264.0,270.0,269.0,207.0,192.0,285.0,250.0,211.0,201.0,164.0,220.0,270.0,346.0,266.0,169.0,237.0,250.0,245.0,271.0,176.0,240.0,187.0,252.0,140.0,185.0,169.0,287.0,324.0,273.0,245.0,229.0,200.0,215.0,276.0,165.0,181.0,170.0,289.0,190.0,225.0,273.0,263.0,290.0,273.0,265.0,279.0,232.0,346.0,253.0,216.0,220.0,239.0,261.0,210.0,253.0,263.0,265.0,219.0,246.0,200.0,220.0,279.0,274.0,174.0,229.0,352.0,230.0,209.0,227.0,159.0,201.0,600.0,241.0,238.0,220.0,240.0,175.0,272.0,230.0,285.0,267.0,241.0,251.0,210.0,259.0,202.0,253.0,236.0,279.0,292.0,215.0,206.0,293.0,262.0,282.0,245.0,192.0,190.0,217.0,249.0,256.0,218.0,315.0,224.0,196.0,225.0,270.0,265.0,193.0,392.0,239.0,261.0,242.0,222.0,242.0,257.0,291.0,229.0,223.0,214.0,239.0,250.0,334.0,322.0,291.0,214.0,200.0,256.0,221.0,245.0,185.0,304.0,246.0,248.0,221.0,196.0,242.0,300.0,170.0,233.0,315.0,205.0,267.0,261.0,306.0,169.0,222.0,260.0,242.0,280.0,231.0,270.0,216.0,320.0,214.0,304.0,248.0,246.0,195.0,253.0,256.0,245.0,205.0,199.0,304.0,206.0,245.0,309.0,234.0,218.0,305.0,208.0,210.0,271.0,264.0,209.0,248.0,155.0,149.0,255.0,137.0,160.0,210.0,226.0,197.0,279.0,195.0,231.0,229.0,186.0,242.0,230.0,183.0,208.0,190.0,261.0,246.0,172.0,216.0,222.0,298.0,208.0,213.0,266.0,220.0,244.0,210.0,252.0,200.0,285.0,175.0,225.0,213.0,252.0,204.0,318.0,230.0,248.0,270.0,245.0,196.0,220.0,190.0,218.0,184.0,205.0,272.0,186.0,218.0,234.0,268.0,270.0,154.0,253.0,214.0,226.0,187.0,241.0,195.0,233.0,220.0,218.0,225.0,238.0,244.0,222.0,197.0,240.0,222.0,310.0,250.0,175.0,312.0,253.0,226.0,180.0,259.0,216.0,260.0,233.0,280.0,170.0,212.0,206.0,230.0,158.0,186.0,183.0,211.0,238.0,186.0,239.0,277.0,235.0,207.0,256.0,230.0,199.0,236.0,271.0,250.0,152.0,300.0,287.0,237.0,214.0,237.0,201.0,180.0,248.0,240.0,304.0,271.0,250.0,200.0,272.0,211.0,230.0,225.0,185.0,260.0,292.0,246.0,165.0,198.0,204.0,253.0,210.0,217.0,232.0,190.0,205.0,235.0,259.0,289.0,272.0,309.0,249.0,194.0,340.0,314.0,226.0,225.0,265.0,232.0,234.0,278.0,305.0,224.0,317.0,292.0,175.0,295.0,262.0,234.0,240.0,251.0,358.0,239.0,185.0,217.0,220.0,292.0,228.0,272.0,211.0,155.0,252.0,216.0,172.0,244.0,246.0,276.0,229.0,204.0,170.0,153.0,192.0,234.0,295.0,161.0,251.0,255.0,345.0,212.0,210.0,245.0,231.0,187.0,190.0,174.0,243.0,160.0,250.0,263.0,221.0,271.0,275.0,260.0,213.0,239.0,252.0,201.0,261.0,329.0,229.0,254.0,293.0,250.0,262.0,256.0,239.0,186.0,232.0,260.0,391.0,275.0,231.0,215.0,279.0,249.0,198.0,246.0,246.0,310.0,219.0,215.0,214.0,318.0,335.0,206.0,325.0,237.0,234.0,340.0,258.0,238.0,260.0,176.0,206.0,278.0,214.0,334.0,290.0,190.0,172.0,194.0,295.0,185.0,255.0,179.0,258.0,206.0,215.0,254.0,230.0,326.0,232.0,306.0,210.0,242.0,160.0,304.0,232.0,165.0,262.0,234.0,217.0,275.0,230.0,241.0,250.0,265.0,220.0,217.0,320.0,255.0,222.0,235.0,220.0,252.0,219.0,248.0,253.0,273.0,306.0,262.0,269.0,190.0,240.0,169.0,220.0,210.0,326.0,195.0,205.0,169.0,264.0,218.0,211.0,239.0,185.0,258.0,220.0,183.0,211.0,214.0,293.0,238.0,410.0,193.0,212.0,182.0,276.0,213.0,213.0,274.0,182.0,285.0,297.0,209.0,213.0,294.0,250.0,167.0,258.0,222.0,190.0,302.0,179.0,219.0,312.0,233.0,223.0,187.0,219.0,323.0,239.0,271.0,226.0,255.0,204.0,286.0,248.0,272.0,242.0,203.0,234.0,246.0,212.0,259.0,235.0,309.0,170.0,157.0,186.0,249.0,270.0,168.0,289.0,272.0,235.0,274.0,246.0,200.0,249.0,271.0,286.0,237.0,234.0,255.0,190.0,219.0,254.0,170.0,243.0,180.0,178.0,338.0,241.0,253.0,221.0,247.0,244.0,229.0,197.0,200.0,312.0,313.0,240.0,204.0,246.0,211.0,200.0,265.0,298.0,325.0,228.0,271.0,229.0,159.0,195.0,216.0,268.0,268.0,231.0,231.0,246.0,195.0,148.0,168.0,222.0,174.0,180.0,232.0,248.0,222.0,173.0,209.0,320.0,246.0,258.0,240.0,285.0,202.0,305.0,272.0,261.0,233.0,192.0,214.0,312.0,229.0,187.0,270.0,175.0,268.0,265.0,165.0,164.0,240.0,225.0,215.0,285.0,155.0,169.0,259.0,372.0,225.0,170.0,271.0,225.0,226.0,250.0,229.0,201.0,170.0,246.0,246.0,265.0,223.0,203.0,250.0,234.0,206.0,269.0,366.0,262.0,208.0,227.0,257.0,277.0,266.0,201.0,270.0,268.0,167.0,260.0,254.0,247.0,222.0,286.0,281.0,239.0,248.0,218.0,241.0,221.0,191.0,190.0,226.0,279.0,293.0,289.0,294.0,150.0,333.0,255.0,225.0,296.0,192.0,208.0,280.0,197.0,215.0,285.0,250.0,164.0,234.0,212.0,195.0,333.0,274.0,250.0,207.0,283.0,327.0,270.0,260.0,320.0,285.0,281.0,249.0,250.0,193.0,180.0,235.0,295.0,197.0,158.0,253.0,190.0,226.0,230.0,235.0,245.0,157.0,204.0,293.0,184.0,215.0,264.0,176.0,170.0,209.0,189.0,202.0,211.0,240.0,188.0,275.0,205.0,178.0,160.0,224.0,285.0,275.0,238.0,236.0,212.0,228.0,195.0,238.0,180.0,256.0,225.0,180.0,193.0,206.0,342.0,234.0,233.0,280.0,275.0,188.0,244.0,245.0,200.0,167.0,196.0,246.0,265.0,209.0,203.0,235.0,256.0,210.0,233.0,183.0,344.0,201.0,340.0,227.0,256.0,252.0,194.0,196.0,263.0,190.0,232.0,289.0,252.0,196.0,211.0,229.0,214.0,294.0,182.0,204.0,241.0,326.0,184.0,283.0,235.0,227.0,249.0,252.0,235.0,344.0,126.0,310.0,213.0,233.0,298.0,229.0,200.0,301.0,217.0,287.0,310.0,251.0,236.0,221.0,222.0,219.0,290.0,225.0,288.0,225.0,215.0,280.0,235.0,239.0,230.0,300.0,283.0,230.0,238.0,225.0,261.0,161.0,186.0,232.0,229.0,286.0,245.0,210.0,220.0,175.0,219.0,228.0,300.0,282.0,261.0,184.0,215.0,188.0,256.0,223.0,292.0,211.0,245.0,167.0,296.0,286.0,193.0,222.0,288.0,240.0,362.0,224.0,246.0,202.0,307.0,410.0,243.0,296.0,237.0,237.0,227.0,220.0,161.0,232.0,213.0,250.0,295.0,232.0,185.0,210.0,222.0,216.0,190.0,262.0,260.0,192.0,229.0,289.0,192.0,229.0,238.0,244.0,226.0,250.0,249.0,266.0,212.0,249.0,176.0,236.0,198.0,224.0,330.0,317.0,238.0,319.0,162.0,240.0,200.0,174.0,238.0,279.0,198.0,144.0,193.0,234.0,241.0,224.0,260.0,240.0,195.0,228.0,260.0,192.0,300.0,240.0,266.0,261.0,274.0,227.0,279.0,190.0,351.0,150.0,280.0,225.0,260.0,240.0,280.0,233.0,208.0,273.0,390.0,207.0,282.0,226.0,245.0,282.0,287.0,173.0,196.0,244.0,165.0,221.0,321.0,192.0,292.0,262.0,216.0,184.0,225.0,224.0,237.0,261.0,229.0,253.0,275.0,234.0,281.0,273.0,163.0,229.0,210.0,163.0,251.0,305.0,165.0,221.0,257.0,203.0,220.0,228.0,255.0,274.0,242.0,210.0,165.0,288.0,245.0,216.0,166.0,287.0,220.0,182.0,266.0,200.0,237.0,308.0,270.0,185.0,263.0,213.0,259.0,236.0,232.0,185.0,228.0,177.0,265.0,179.0,206.0,209.0,243.0,305.0,200.0,264.0,240.0,244.0,309.0,250.0,227.0,267.0,169.0,248.0,275.0,260.0,217.0,217.0,258.0,180.0,177.0,242.0,258.0,195.0,160.0,266.0,254.0,200.0,195.0,234.0,225.0,225.0,276.0,179.0,216.0,298.0,315.0,143.0,290.0,195.0,215.0,164.0,259.0,206.0,298.0,283.0,234.0,202.0,258.0,293.0,245.0,154.0,310.0,186.0,170.0,271.0,200.0,305.0,265.0,260.0,162.0,212.0,242.0,259.0,212.0,274.0,274.0,328.0,165.0,240.0,255.0,210.0,249.0,205.0,203.0,156.0,247.0,205.0,229.0,273.0,229.0,300.0,282.0,279.0,250.0,293.0,238.0,297.0,232.0,165.0,232.0,209.0,339.0,272.0,288.0,190.0,293.0,190.0,260.0,230.0,258.0,209.0,232.0,260.0,260.0,405.0,197.0,359.0,234.0,230.0,174.0,295.0,243.0,260.0,202.0,195.0,226.0,184.0,182.0,288.0,322.0,230.0,309.0,240.0,205.0,232.0,193.0,167.0,238.0,285.0,239.0,235.0,219.0,207.0,260.0,246.0,288.0,255.0,270.0,239.0,202.0,233.0,200.0,243.0,250.0,235.0,178.0,207.0,260.0,220.0,205.0,197.0,282.0,213.0,232.0,238.0,258.0,208.0,268.0,314.0,211.0,260.0,148.0,199.0,270.0,275.0,179.0,240.0,346.0,237.0,285.0,193.0,350.0,166.0,219.0,281.0,272.0,243.0,208.0,240.0,240.0,206.0,251.0,270.0,292.0,235.0,212.0,200.0,238.0,227.0,183.0,254.0,213.0,190.0,195.0,230.0,336.0,204.0,180.0,230.0,175.0,235.0,199.0,202.0,274.0,246.0,275.0,203.0,245.0,205.0,213.0,281.0,219.0,233.0,200.0,195.0,312.0,192.0,176.0,157.0,183.0,249.0,233.0,259.0,252.0,273.0,193.0,199.0,229.0,181.0,168.0,267.0,261.0,235.0,281.0,201.0,215.0,218.0,266.0,217.0,241.0,246.0,226.0,216.0,380.0,233.0,270.0,281.0,299.0,243.0,260.0,293.0,270.0,262.0,212.0,232.0,254.0,200.0,355.0,210.0,242.0,240.0,390.0,190.0,212.0,315.0,230.0,189.0,218.0,210.0,264.0,279.0,287.0,186.0,235.0,156.0,275.0,310.0,259.0,240.0,332.0,228.0,280.0,254.0,205.0,265.0,227.0,342.0,302.0,152.0,193.0,196.0,271.0,326.0,135.0,156.0,230.0,303.0,220.0,233.0,323.0,288.0,225.0,190.0,255.0,218.0,179.0,212.0,216.0,205.0,188.0,260.0,180.0,221.0,159.0,216.0,193.0,229.0,268.0,205.0,214.0,193.0,212.0,261.0,189.0,248.0,185.0,155.0,161.0,266.0,275.0,224.0,223.0,325.0,278.0,124.0,253.0,250.0,213.0,264.0,214.0,205.0,243.0,295.0,187.0,189.0,242.0,236.0,185.0,270.0,285.0,185.0,299.0,266.0,254.0,290.0,261.0,237.0,189.0,208.0,275.0,259.0,212.0,202.0,227.0,261.0,239.0,165.0,198.0,232.0,252.0,260.0,230.0,260.0,271.0,220.0,200.0,273.0,235.0,201.0,371.0,201.0,309.0,190.0,312.0,300.0,227.0,215.0,235.0,270.0,300.0,232.0,277.0,270.0,219.0,309.0,199.0,258.0,199.0,242.0,199.0,223.0,212.0,206.0,172.0,211.0,334.0,197.0,280.0,246.0,181.0,224.0,216.0,222.0,228.0,234.0,113.0,212.0,309.0,238.0,231.0,180.0,317.0,201.0,167.0,302.0,228.0,226.0,232.0,215.0,214.0,266.0,234.0,155.0,240.0,178.0,254.0,274.0,266.0,237.0,260.0,190.0,188.0,270.0,200.0,167.0,248.0,176.0,226.0,233.0,253.0,170.0,273.0,207.0,227.0,150.0,282.0,204.0,215.0,199.0,226.0,333.0,235.0,304.0,350.0,275.0,315.0,290.0,251.0,248.0,231.0,180.0,256.0,231.0,168.0,207.0,246.0,295.0,216.0,249.0,304.0,221.0,270.0,214.0,214.0,213.0,240.0,230.0,252.0,354.0,320.0,193.0,243.0,268.0,382.0,241.0,231.0,288.0,211.0,240.0,214.0,210.0,287.0,205.0,195.0,188.0,240.0,241.0,308.0,213.0,232.0,211.0,225.0,312.0,280.0,288.0,222.0,267.0,202.0,345.0,295.0,173.0,215.0,193.0,260.0,342.0,243.0,246.0,205.0,219.0,262.0,155.0,254.0,150.0,255.0,279.0,210.0,226.0,171.0,240.0,220.0,208.0,250.0,211.0,248.0,344.0,285.0,158.0,272.0,175.0,209.0,292.0,318.0,222.0,230.0,364.0,339.0,242.0,230.0,179.0,215.0,210.0,250.0,307.0,253.0,242.0,291.0,295.0,173.0,248.0,194.0,204.0,220.0,159.0,246.0,207.0,177.0,208.0,259.0,180.0,315.0,262.0,322.0,172.0,219.0,288.0,335.0,192.0,198.0,274.0,228.0,215.0,263.0,285.0,213.0,178.0,309.0,341.0,265.0,195.0,240.0,282.0,216.0,260.0,205.0,286.0,225.0,275.0,231.0,212.0,182.0,220.0,238.0,211.0,300.0,232.0,190.0,180.0,236.0,211.0,212.0,249.0,200.0,159.0,228.0,187.0,275.0,264.0,210.0,232.0,185.0,305.0,229.0,285.0,325.0,205.0,175.0,238.0,180.0,293.0,208.0,170.0,244.0,205.0,234.0,255.0,197.0,209.0,231.0,253.0,226.0,228.0,261.0,267.0,240.0,233.0,280.0,260.0,235.0,278.0,238.0,210.0,239.0,344.0,193.0,281.0,279.0,189.0,179.0,243.0,230.0,274.0,268.0,220.0,180.0,286.0,133.0,295.0,280.0,367.0,207.0,224.0,284.0,160.0,313.0,191.0,219.0,212.0,241.0,215.0,188.0,214.0,193.0,201.0,214.0,208.0,194.0,230.0,265.0,263.0,279.0,304.0,218.0,272.0,285.0,240.0,282.0,232.0,252.0,237.0,220.0,177.0,230.0,219.0,185.0,230.0,297.0,203.0,173.0,282.0,220.0,264.0,257.0,208.0,184.0,237.0,206.0,308.0,262.0,172.0,240.0,263.0,280.0,165.0,188.0,314.0,320.0,153.0,186.0,255.0,205.0,163.0,281.0,194.0,226.0,163.0,214.0,215.0,212.0,152.0,253.0,280.0,240.0,228.0,264.0,247.0,291.0,175.0,280.0,211.0,260.0,222.0,234.0,238.0,253.0,205.0,201.0,292.0,189.0,241.0,248.0,144.0,346.0,224.0,181.0,250.0,290.0,178.0,231.0,203.0,270.0,174.0,250.0,190.0,206.0,179.0,229.0,303.0,223.0,340.0,252.0,183.0,230.0,263.0,210.0,243.0,192.0,296.0,228.0,345.0,273.0,252.0,206.0,258.0,230.0,254.0,212.0,283.0,218.0,280.0,240.0,163.0,254.0,295.0,276.0,225.0,176.0,217.0,328.0,220.0,210.0,287.0,250.0,279.0,217.0,218.0,254.0,328.0,306.0,281.0,260.0,237.0,205.0,160.0,180.0,180.0,260.0,258.0,274.0,228.0,193.0,202.0,248.0,244.0,237.0,262.0,229.0,219.0,352.0,280.0,270.0,220.0,252.0,225.0,234.0,258.0,280.0,233.0,265.0,258.0,241.0,432.0,188.0,326.0,189.0,230.0,240.0,252.0,172.0,239.0,245.0,317.0,229.0,200.0,234.0,260.0,232.0,200.0,216.0,258.0,185.0,181.0,217.0,239.0,210.0,264.0,188.0,204.0,246.0,191.0,200.0,165.0,216.0,195.0,240.0,273.0,273.0,250.0,300.0,266.0,239.0,273.0,261.0,282.0,290.0,232.0,313.0,310.0,285.0,225.0,226.0,226.0,195.0,271.0,287.0,257.0,177.0,235.0,266.0,208.0,192.0,239.0,215.0,270.0,241.0,210.0,243.0,278.0,315.0,150.0,351.0,174.0,196.0,275.0,254.0,239.0,220.0,280.0,165.0,328.0,243.0,217.0,196.0,256.0,192.0,193.0,214.0,297.0,184.0,257.0,269.0,223.0,245.0,177.0,289.0,163.0,260.0,177.0,220.0,278.0,167.0,216.0,274.0,165.0,204.0,298.0,192.0,254.0,249.0,303.0,290.0,230.0,252.0,262.0,177.0,236.0,337.0,243.0,248.0,256.0,210.0,184.0,275.0,238.0,195.0,268.0,205.0,260.0,248.0,267.0,240.0,224.0,198.0,221.0,182.0,213.0,274.0,260.0,222.0,326.0,279.0,280.0,272.0,286.0,254.0,231.0,273.0,226.0,221.0,243.0,257.0,275.0,295.0,310.0,280.0,246.0,275.0,305.0,293.0,193.0,219.0,200.0,270.0,201.0,200.0,234.0,696.0,240.0,234.0,179.0,292.0,363.0,226.0,217.0,265.0,189.0,253.0,201.0,279.0,209.0,311.0,256.0,195.0,278.0,223.0,331.0,271.0,267.0,188.0,226.0,252.0,235.0,164.0,190.0,165.0,229.0,175.0,207.0,155.0,220.0,187.0,195.0,218.0,225.0,237.0,297.0,277.0,165.0,214.0,275.0,224.0,253.0,205.0,184.0,216.0,206.0,313.0,208.0,210.0,194.0,226.0,219.0,196.0,225.0,260.0,279.0,195.0,200.0,258.0,202.0,236.0,300.0,172.0,290.0,187.0,315.0,201.0,263.0,304.0,204.0,255.0,200.0,327.0,272.0,230.0,285.0,281.0,258.0,235.0,265.0,230.0,212.0,272.0,275.0,281.0,259.0,205.0,202.0,342.0,239.0,254.0,239.0,268.0,165.0,265.0,227.0,286.0,226.0,261.0,224.0,225.0,316.0,216.0,197.0,305.0,185.0,194.0,167.0,270.0,159.0,260.0,218.0,232.0,307.0,241.0,229.0,200.0,200.0,194.0,290.0,175.0,239.0,242.0,221.0,199.0,205.0,283.0,193.0,250.0,250.0,215.0,267.0,253.0,213.0,165.0,262.0,259.0,229.0,200.0,193.0,225.0,216.0,247.0,177.0,259.0,220.0,243.0,346.0,235.0,254.0,215.0,264.0,265.0,225.0,198.0,226.0,243.0,235.0,241.0,175.0,194.0,212.0,186.0,193.0,173.0,228.0,200.0,240.0,253.0,198.0,285.0,254.0,297.0,326.0,190.0,150.0,288.0,195.0,290.0,257.0,197.0,259.0,232.0,223.0,240.0,306.0,291.0,275.0,231.0,274.0,272.0,261.0,250.0,312.0,253.0,233.0,320.0,231.0,181.0,260.0,274.0,234.0,215.0,210.0,253.0,205.0,184.0,221.0,262.0,227.0,254.0,240.0,245.0,206.0,330.0,249.0,163.0,265.0,178.0,217.0,214.0,157.0,382.0,228.0,179.0,270.0,239.0,288.0,281.0,229.0,228.0,250.0,258.0,225.0,212.0,158.0,280.0,241.0,240.0,188.0,204.0,229.0,286.0,346.0,219.0,250.0,361.0,197.0,238.0,232.0,260.0,220.0,281.0,256.0,333.0,208.0,215.0,230.0,232.0,210.0,266.0,255.0,240.0,285.0,203.0,236.0,170.0,271.0,180.0,263.0,194.0,222.0,271.0,310.0,221.0,241.0,241.0,231.0,242.0,195.0,206.0,254.0,231.0,287.0,216.0,245.0,219.0,312.0,214.0,178.0,248.0,259.0,267.0,248.0,230.0,253.0,249.0,282.0,230.0,258.0,245.0,453.0,156.0,165.0,232.0,232.0,250.0,222.0,238.0,256.0,194.0,254.0,200.0,185.0,168.0,292.0,298.0,233.0,173.0,281.0,273.0,259.0,185.0,325.0,204.0,237.0,235.0,221.0,242.0,183.0,256.0,231.0,149.0,210.0,214.0,252.0,306.0,251.0,267.0,294.0,240.0,281.0,205.0,211.0,186.0,197.0,218.0,246.0,190.0,258.0,285.0,195.0,217.0,175.0,217.0,224.0,309.0,201.0,352.0,233.0,223.0,260.0,185.0,320.0,246.0,302.0,237.0,216.0,275.0,192.0,242.0,202.0,241.0,309.0,262.0,197.0,209.0,235.0,217.0,241.0,280.0,260.0,265.0,186.0,206.0,210.0,150.0,222.0,292.0,221.0,161.0,273.0,291.0,212.0,276.0,165.0,276.0,366.0,310.0,245.0,184.0,186.0,207.0,190.0,217.0,209.0,199.0,202.0,235.0,193.0,207.0,206.0,292.0,246.0,140.0,205.0,246.0,244.0,268.0,252.0,200.0,230.0,175.0,270.0,226.0,238.0,275.0,280.0,206.0,250.0,189.0,238.0,167.0,220.0,193.0,308.0,166.0,212.0,270.0,262.0,180.0,238.0,235.0,189.0,178.0,170.0,202.0,205.0,208.0,182.0,215.0,196.0,244.0,190.0,285.0,231.0,286.0,202.0,226.0,297.0,193.0,270.0,216.0,240.0,240.0,188.0,157.0,275.0,225.0,204.0,220.0,211.0,178.0,268.0,164.0,270.0,193.0,207.0,190.0,226.0,257.0,210.0,200.0,227.0,273.0,220.0,226.0,155.0,243.0,175.0,282.0,208.0,240.0,232.0,203.0,223.0,192.0,194.0,263.0,230.0,211.0,255.0,282.0,260.0,163.0,220.0,315.0,186.0,250.0,155.0,185.0,205.0,252.0,225.0,235.0,240.0,242.0,180.0,195.0,210.0,212.0,254.0,248.0,283.0,186.0,212.0,309.0,308.0,225.0,275.0,154.0,246.0,234.0,242.0,198.0,208.0,286.0,236.0,214.0,175.0,271.0,208.0,265.0,240.0,212.0,260.0,330.0,185.0,161.0,259.0,220.0,340.0,165.0,220.0,257.0,237.0,254.0,193.0,230.0,203.0,284.0,218.0,244.0,240.0,180.0,233.0,275.0,223.0,232.0,192.0,225.0,190.0,185.0,189.0,274.0,212.0,261.0,262.0,231.0,246.0,318.0,231.0,185.0,176.0,239.0,227.0,262.0,201.0,290.0,199.0,215.0,196.0,295.0,254.0,228.0,286.0,186.0,281.0,282.0,204.0,252.0,247.0,220.0,214.0,277.0,203.0,238.0,232.0,246.0,227.0,241.0,325.0,224.0,254.0,234.0,210.0,267.0,274.0,262.0,205.0,188.0,263.0,227.0,410.0,223.0,238.0,232.0,350.0,223.0,252.0,257.0,289.0,266.0,296.0,235.0,230.0,231.0,206.0,185.0,223.0,192.0,185.0,181.0,190.0,188.0,232.0,252.0,288.0,222.0,276.0,207.0,266.0,279.0,215.0,342.0,260.0,267.0,209.0,219.0,218.0,358.0,190.0,321.0,170.0,233.0,266.0,228.0,242.0,260.0,237.0,213.0,290.0,199.0,163.0,204.0,254.0,200.0,245.0,255.0,220.0,347.0,259.0,228.0,232.0,279.0,277.0,256.0,291.0,188.0,248.0,214.0,244.0,205.0,300.0,334.0,246.0,285.0,162.0,345.0,270.0,181.0,205.0,189.0,192.0,272.0,167.0,236.0,143.0,202.0,200.0,304.0,263.0,230.0,258.0,240.0,210.0,199.0,232.0,258.0,260.0,212.0,230.0,205.0,206.0,243.0,202.0,200.0,184.0,190.0,233.0,203.0,373.0,222.0,316.0,155.0,305.0,164.0,155.0,248.0,173.0,185.0,225.0,261.0,273.0,237.0,249.0,275.0,214.0,191.0,212.0,208.0,175.0,227.0,239.0,260.0,202.0,219.0,346.0,250.0,250.0,283.0,179.0,260.0,202.0,200.0,291.0,174.0,217.0,313.0,240.0,254.0,291.0,211.0,304.0,292.0,213.0,223.0,263.0,270.0,172.0,205.0,250.0,195.0,306.0,309.0,262.0,240.0,287.0,202.0,180.0,180.0,273.0,235.0,238.0,188.0,199.0,185.0,203.0,239.0,234.0,266.0,163.0,179.0,190.0,246.0,200.0,325.0,205.0,205.0,298.0,200.0,385.0,277.0,366.0,186.0,309.0,242.0,254.0,240.0,245.0,254.0,262.0,271.0,268.0,159.0,264.0,181.0,217.0,310.0,266.0,232.0,250.0,233.0,215.0,332.0,242.0,153.0,170.0,232.0,196.0,193.0,325.0,233.0,213.0,205.0,166.0,259.0,181.0,225.0,226.0,199.0,208.0,296.0,195.0,177.0,214.0,315.0,345.0,271.0,262.0,206.0,253.0,160.0,193.0,311.0,254.0,272.0,224.0,198.0,197.0,160.0,210.0,246.0,155.0,232.0,119.0,209.0,240.0,264.0,202.0,296.0,275.0,241.0,220.0,203.0,265.0,222.0,214.0,260.0,195.0,253.0,254.0,247.0,326.0,239.0,195.0,262.0,290.0,232.0,220.0,198.0,221.0,229.0,180.0,213.0,273.0,245.0,184.0,271.0,245.0,217.0,256.0,238.0,175.0,171.0,282.0,199.0,260.0,299.0,220.0,257.0,230.0,270.0,280.0,250.0,213.0,283.0,160.0,195.0,169.0,240.0,186.0,268.0,201.0,232.0,216.0,287.0,228.0,176.0,291.0,210.0,259.0,195.0,247.0,179.0,235.0,238.0,221.0,305.0,206.0,234.0,231.0,237.0,239.0,235.0,202.0,226.0,198.0,207.0,257.0,212.0,239.0,269.0,227.0,227.0,325.0,220.0,241.0,240.0,224.0,236.0,287.0,230.0,194.0,235.0,325.0,214.0,205.0,249.0,223.0,302.0,267.0,266.0,199.0,218.0,210.0,207.0,285.0,235.0,196.0,208.0,232.0,215.0,199.0,180.0,261.0,229.0,173.0,241.0,306.0,246.0,207.0,222.0,257.0,240.0,271.0,169.0,214.0,236.0,240.0,216.0,213.0,190.0,261.0,340.0,286.0,282.0,245.0,209.0,193.0,230.0,236.0,251.0,266.0,265.0,204.0,252.0,260.0,289.0,287.0,198.0,216.0,233.0,187.0,260.0,251.0,268.0,187.0,176.0,313.0,207.0,210.0,269.0,264.0,174.0,225.0,243.0,234.0,278.0,262.0,267.0,198.0,215.0,279.0,233.0,202.0,286.0,266.0,247.0,323.0,241.0,303.0,275.0,213.0,240.0,217.0,236.0,405.0,246.0,327.0,230.0,198.0,245.0,209.0,326.0,246.0,261.0,217.0,271.0,280.0,266.0,228.0,278.0,276.0,219.0,190.0,246.0,309.0,221.0,372.0,193.0,283.0,287.0,263.0,246.0,175.0,233.0,276.0,241.0,194.0,271.0,316.0,190.0,205.0,264.0,200.0,269.0,290.0,212.0,232.0,218.0,210.0,217.0,225.0,187.0,263.0,250.0,213.0,189.0,304.0,334.0,253.0,295.0,287.0,239.0,269.0,258.0,248.0,227.0,323.0,248.0,225.0,244.0,225.0,237.0,237.0,305.0,283.0,173.0,339.0,271.0,170.0,239.0,312.0,197.0,260.0,215.0,265.0,352.0,253.0,215.0,245.0,276.0,263.0,294.0,172.0,352.0,133.0,229.0,278.0,258.0,163.0,300.0,205.0,270.0,208.0,232.0,228.0,253.0,170.0,239.0,232.0,464.0,211.0,271.0,225.0,300.0,272.0,291.0,215.0,312.0,232.0,287.0,215.0,260.0,266.0,241.0,170.0,246.0,312.0,216.0,222.0,198.0,238.0,300.0,187.0,346.0,219.0,312.0,219.0,345.0,287.0,225.0,237.0,334.0,298.0,278.0,208.0,182.0,184.0,275.0,300.0,334.0,271.0,334.0,205.0,222.0,200.0,312.0,216.0,241.0,205.0,304.0,252.0,167.0,184.0,232.0,306.0,175.0,191.0,242.0,210.0,176.0,304.0,209.0,244.0,233.0,260.0,199.0,270.0,233.0,327.0,325.0,241.0,193.0,209.0,236.0,247.0,170.0,358.0,189.0,241.0,285.0,243.0,243.0,313.0,275.0,244.0,193.0,180.0,205.0,179.0,193.0,271.0,308.0,271.0,311.0,237.0,245.0,305.0,266.0,252.0,234.0,194.0,204.0,299.0,240.0,260.0,214.0,193.0,204.0,211.0,184.0,241.0,245.0,160.0,189.0,201.0,217.0,240.0,133.0,240.0,320.0,305.0,197.0,222.0,191.0,215.0,236.0,247.0,215.0,246.0,227.0,235.0,207.0,261.0,192.0,198.0,210.0,187.0,240.0,233.0,144.0,253.0,271.0,285.0,276.0,213.0,273.0,206.0,243.0,210.0,222.0,158.0,290.0,189.0,202.0,157.0,245.0,308.0,210.0,325.0,298.0,217.0,218.0,260.0,245.0,214.0,200.0,327.0,217.0,157.0,230.0,219.0,290.0,200.0,270.0,230.0,207.0,199.0,271.0,275.0,214.0,229.0,277.0,201.0,249.0,290.0,267.0,264.0,211.0,260.0,464.0,257.0,275.0,206.0,160.0,264.0,199.0,263.0,202.0,284.0,205.0,246.0,256.0,250.0,405.0,270.0,205.0,290.0,194.0,240.0,235.0,304.0,180.0,294.0,264.0,250.0,124.0,352.0,229.0,241.0,269.0,204.0,193.0,200.0,193.0,228.0,296.0,167.0,229.0,200.0,212.0,232.0,278.0,270.0,246.0,361.0,222.0,232.0,279.0,275.0,203.0,167.0,319.0,265.0,241.0,300.0,260.0,222.0,245.0,352.0,300.0,271.0,190.0,172.0,228.0,264.0,310.0,358.0,173.0,193.0,312.0,187.0,208.0,286.0,249.0,262.0,278.0,287.0,219.0,285.0,285.0,200.0,240.0,298.0,271.0,198.0,295.0,223.0,225.0,182.0,296.0,206.0,190.0,245.0,232.0,260.0,286.0,205.0,260.0,217.0,327.0,237.0,241.0,250.0,230.0,271.0,230.0,232.0,250.0,186.0,287.0,253.0,174.0,208.0,240.0,240.0,325.0,205.0,213.0,245.0,266.0,232.0,246.0,308.0,243.0,211.0,232.0,334.0,229.0,283.0,249.0,205.0,286.0,278.0,600.0,260.0,254.0,237.0,319.0,183.0,175.0,240.0,208.0,260.0,246.0,244.0,245.0,245.0,260.0,266.0,216.0,227.0,283.0,285.0,244.0,304.0,249.0,267.0,303.0,280.0,133.0,262.0,214.0,201.0,198.0,312.0,257.0,311.0,270.0,241.0,327.0,235.0,211.0,219.0,190.0,232.0,229.0,220.0,202.0,214.0,245.0,260.0,279.0,168.0,207.0,205.0,149.0,209.0,273.0,334.0,260.0,241.0,256.0,250.0,243.0,254.0,233.0,276.0,232.0,262.0,249.0,208.0,265.0,263.0,222.0,200.0,326.0,187.0,258.0,225.0,300.0,266.0,246.0,280.0,200.0,161.0,243.0,211.0,296.0,264.0,200.0,232.0,263.0,219.0,240.0,212.0,232.0,259.0,204.0,262.0,177.0,212.0,352.0,237.0,290.0,260.0,199.0,243.0,212.0,202.0,200.0,238.0,264.0,205.0,235.0,235.0,264.0,202.0,175.0,262.0,266.0,250.0,309.0,272.0,227.0,239.0,217.0,255.0,260.0,300.0,248.0,276.0,327.0,264.0,227.0,157.0,217.0,179.0,372.0,208.0,294.0,267.0,345.0,248.0,253.0,285.0,214.0,600.0,249.0,244.0,334.0,300.0,176.0,293.0,245.0,209.0,216.0,230.0,157.0,326.0,220.0,187.0,283.0,194.0,210.0,255.0,370.0,340.0,205.0,225.0,284.0,275.0,292.0,361.0,253.0,266.0,287.0,234.0,358.0,265.0,333.0,192.0,278.0,195.0,182.0,194.0,231.0,236.0,191.0,200.0,278.0,259.0,272.0,253.0,241.0,264.0,260.0,195.0,170.0,260.0,241.0,275.0,156.0,248.0,240.0,253.0,260.0,350.0,269.0,261.0,271.0,214.0,239.0,306.0,191.0,235.0,161.0,245.0,252.0,304.0,217.0,205.0,208.0,245.0,143.0,267.0,287.0,345.0,193.0,232.0,289.0,222.0,222.0,320.0,230.0,284.0,241.0,294.0,239.0,193.0,247.0,230.0,212.0,237.0,263.0,193.0,189.0,252.0,340.0,168.0,248.0,352.0,210.0,260.0,214.0,246.0,124.0,243.0,265.0,250.0,212.0,293.0,215.0,175.0,327.0,200.0,246.0,260.0,228.0,312.0,340.0,310.0,275.0,207.0,260.0,272.0,209.0,221.0,238.0,161.0,219.0,260.0,258.0,213.0,228.0,312.0,249.0,229.0,170.0,300.0,228.0,208.0,234.0,255.0,211.0,170.0,266.0,240.0,325.0,290.0,237.0,267.0,253.0,143.0,242.0,143.0,247.0,253.0,243.0,236.0,163.0,258.0,157.0,249.0,199.0,177.0,260.0,222.0,173.0,220.0,240.0,265.0,352.0,285.0,124.0,275.0,124.0,260.0,255.0,225.0,266.0,243.0,259.0,266.0,262.0,272.0,346.0,259.0,253.0,291.0,278.0,252.0,320.0,215.0,177.0,220.0,305.0,293.0,241.0,263.0,275.0,233.0,234.0,278.0,312.0,262.0,334.0,174.0,214.0,225.0,250.0,199.0,218.0,225.0,209.0,238.0,179.0,206.0,210.0,220.0,190.0,249.0,275.0,288.0,261.0,218.0,283.0,252.0,287.0,203.0,219.0,231.0,281.0,208.0,279.0,255.0,257.0,276.0,212.0,213.0,199.0,180.0,325.0,259.0,217.0,184.0,245.0,294.0,339.0,340.0,234.0,215.0,241.0,246.0,303.0,240.0,212.0,213.0,166.0,260.0,260.0,187.0,205.0,199.0,255.0,312.0,352.0,214.0,249.0,304.0,224.0,210.0,215.0,163.0,234.0,149.0,258.0,173.0,259.0,170.0,240.0,269.0,218.0,177.0,220.0,346.0,173.0,193.0,250.0,261.0,208.0,202.0,278.0,300.0,242.0,310.0,258.0,269.0,206.0,269.0,352.0,203.0,205.0,346.0,287.0,305.0,198.0,245.0,267.0,193.0,218.0,264.0,187.0,193.0,217.0,238.0,260.0,172.0,194.0,239.0,236.0,252.0,203.0,214.0,167.0,269.0,193.0,230.0,284.0,214.0,263.0,213.0,259.0,253.0,230.0,193.0,240.0,233.0,225.0,217.0,232.0,200.0,247.0,255.0,210.0,174.0,293.0,296.0,205.0,271.0,234.0,271.0,253.0,275.0,239.0,198.0,230.0,212.0,220.0,215.0,233.0,266.0,249.0,186.0,217.0,600.0,260.0,244.0,225.0,216.0,273.0,206.0,258.0,247.0,205.0,326.0,244.0,232.0,230.0,273.0,194.0,198.0,241.0,219.0,325.0,260.0,290.0,432.0,290.0,266.0,244.0,180.0,278.0,290.0,195.0,232.0,220.0,220.0,217.0,334.0,215.0,253.0,235.0,328.0,194.0,218.0,295.0,439.0,328.0,326.0,272.0,210.0,325.0,175.0,293.0,177.0,168.0,194.0,214.0,259.0,224.0,284.0,233.0,193.0,235.0,230.0,232.0,233.0,340.0,207.0,204.0,310.0,311.0,149.0,245.0,233.0,216.0,209.0,235.0,285.0,370.0,236.0,246.0,266.0,260.0,203.0,208.0,223.0,275.0,264.0,267.0,260.0,262.0,206.0,157.0,187.0,304.0,149.0,260.0,237.0,210.0,237.0,158.0,245.0,219.0,232.0,358.0,260.0,227.0,321.0,222.0,289.0,300.0,260.0,296.0,312.0,178.0,291.0,278.0,214.0,267.0,176.0,253.0,253.0,219.0,303.0,252.0,239.0,253.0,243.0,160.0,230.0,257.0,241.0,205.0,210.0,225.0,190.0,176.0,182.0,175.0,191.0,326.0,248.0,225.0,205.0,238.0,305.0,232.0,214.0,219.0,213.0,267.0,206.0,334.0,270.0,204.0,273.0,170.0,328.0,206.0,245.0,272.0,173.0,266.0,247.0,267.0,271.0,310.0,221.0,207.0,260.0,260.0,265.0,217.0,186.0,168.0,213.0,243.0,334.0,230.0,303.0,266.0,249.0,266.0,273.0,259.0,206.0,210.0,241.0,259.0,222.0,263.0,292.0,273.0,243.0,235.0,304.0,298.0,205.0,219.0,232.0,310.0,279.0,271.0,228.0,345.0,211.0,234.0,239.0,240.0,182.0,309.0,170.0,267.0,352.0,207.0,285.0,191.0,300.0,333.0,210.0,260.0,211.0,255.0,273.0,290.0,227.0,262.0,211.0,212.0,177.0,271.0,229.0,260.0,300.0,234.0,253.0,170.0,266.0,239.0,267.0,237.0,249.0,198.0,298.0,285.0,325.0,286.0,217.0,285.0,287.0,193.0,206.0,217.0,238.0,232.0,252.0,303.0,208.0,194.0,219.0,252.0,287.0,249.0,214.0,290.0,219.0,257.0,232.0,223.0,214.0,222.0,252.0,300.0,287.0,236.0,296.0,221.0,432.0,273.0,208.0,203.0,253.0,220.0,264.0,273.0,280.0,323.0,174.0,270.0,230.0,295.0,223.0,288.0,217.0,323.0,267.0,283.0,187.0,160.0,208.0,309.0,180.0,205.0,273.0,225.0,287.0,275.0,235.0,243.0,187.0,172.0,260.0,238.0,202.0,194.0,352.0,227.0,245.0,257.0,250.0,271.0,283.0,283.0,255.0,310.0,221.0,271.0,204.0,240.0,261.0,240.0,312.0,176.0,211.0,230.0,232.0,222.0,266.0,232.0,227.0,304.0,243.0,234.0,206.0,293.0,187.0,199.0,227.0,168.0,208.0,201.0,271.0,229.0,308.0,309.0,237.0,215.0,243.0,260.0,285.0,219.0,325.0,232.0,230.0,254.0,243.0,243.0,173.0,280.0,310.0,236.0,200.0,190.0,263.0,259.0,309.0,309.0,238.0,291.0,205.0,232.0,252.0,200.0,260.0,209.0,214.0,291.0,235.0,246.0,193.0,325.0,238.0,220.0,358.0,203.0,252.0,240.0,250.0,263.0,166.0,285.0,211.0,189.0,334.0,237.0,243.0,232.0,262.0,234.0,207.0,233.0,267.0,303.0,175.0,245.0,237.0,285.0,231.0,180.0,260.0,253.0,308.0,296.0,250.0,227.0,372.0,203.0,213.0,243.0,263.0,191.0,246.0,228.0,204.0,239.0,195.0,217.0,260.0,204.0,246.0,236.0,209.0,214.0,215.0,210.0,279.0,270.0,267.0,260.0,240.0,260.0,285.0,245.0,286.0,170.0,249.0,225.0,269.0,253.0,205.0,206.0,246.0,279.0,263.0,228.0,223.0,193.0,278.0,200.0,206.0,271.0,300.0,221.0,215.0,270.0,198.0,218.0,201.0,263.0,225.0,241.0,305.0,263.0,180.0,238.0,240.0,230.0,247.0,193.0,268.0,210.0,316.0,271.0,300.0,325.0,254.0,230.0,248.0,198.0,160.0,194.0,175.0,229.0,231.0,227.0,186.0,296.0,275.0,323.0,180.0,293.0,282.0,234.0,219.0,199.0,189.0,275.0,222.0,260.0,240.0,296.0,267.0,260.0,222.0,258.0,305.0,260.0,233.0,260.0,191.0,257.0,189.0,304.0,232.0,273.0,300.0,263.0,372.0,205.0,312.0,250.0,214.0,264.0,220.0,240.0,250.0,262.0,199.0,269.0,233.0,290.0,232.0,311.0,168.0,300.0,262.0,252.0,260.0,241.0,235.0,219.0,206.0,219.0,143.0,208.0,213.0,209.0,279.0,206.0,305.0,264.0,405.0,246.0,234.0,215.0,167.0,221.0,205.0,439.0,263.0,234.0,260.0,225.0,262.0,236.0,217.0,252.0,247.0,207.0,305.0,227.0,260.0,266.0,272.0,245.0,241.0,254.0,320.0,278.0,259.0,266.0,300.0,286.0,252.0,285.0,237.0,228.0,262.0,234.0,316.0,287.0,240.0,333.0,296.0,206.0,272.0,260.0,230.0,166.0,232.0,280.0,277.0,182.0,222.0,254.0,321.0,278.0,193.0,286.0,259.0,241.0,243.0,260.0,281.0,205.0,215.0,220.0,260.0,219.0,217.0,246.0,221.0,320.0,170.0,206.0,205.0,255.0,312.0,239.0,201.0,259.0,206.0,292.0,180.0,236.0,260.0,200.0,225.0,293.0,179.0,217.0,232.0,230.0,258.0,215.0,214.0,211.0,212.0,293.0,225.0,144.0,210.0,243.0,190.0,245.0,290.0,298.0,232.0,225.0,246.0,208.0,281.0,209.0,220.0,257.0,249.0,225.0,267.0,241.0,304.0,228.0,245.0,217.0,194.0,205.0,271.0,211.0,372.0,310.0,208.0,208.0,334.0,195.0,222.0,249.0,262.0,306.0,222.0,225.0,272.0,233.0,242.0,285.0,240.0,156.0,200.0,215.0,175.0,310.0,248.0,266.0,235.0,202.0,222.0,300.0,220.0,220.0,238.0,267.0,172.0,225.0,303.0,215.0,255.0,267.0,200.0,257.0,205.0,225.0,236.0,225.0,304.0,179.0,245.0,258.0,271.0,222.0,205.0,273.0,217.0,240.0,273.0,250.0,300.0,170.0,203.0,176.0,246.0,222.0,178.0,278.0,229.0,260.0,227.0,286.0,232.0,207.0,215.0,323.0,175.0,246.0,248.0,319.0,199.0,230.0,241.0,206.0,290.0,298.0,184.0,222.0,211.0,221.0,370.0,168.0,217.0,229.0,220.0,265.0,205.0,214.0,179.0,220.0,275.0,245.0,220.0,233.0,273.0,237.0,225.0,278.0,253.0,200.0,296.0,199.0,280.0,284.0,203.0,194.0,247.0,281.0,202.0,208.0,178.0,263.0,225.0,184.0,244.0,269.0,240.0,205.0,250.0,250.0,205.0,124.0,279.0,275.0,299.0,206.0,245.0,249.0,300.0,195.0,272.0,270.0,254.0,243.0,464.0,206.0,311.0,216.0,210.0,208.0,280.0,214.0,194.0,278.0,240.0,222.0,293.0,227.0,179.0,230.0,180.0,234.0,273.0,265.0,220.0,240.0,302.0,262.0,238.0,276.0,210.0,253.0,184.0,372.0,203.0,230.0,234.0,206.0,187.0,264.0,283.0,175.0,271.0,223.0,195.0,230.0,276.0,177.0,193.0,199.0,275.0,180.0,163.0,345.0,276.0,279.0,210.0,217.0,262.0,240.0,172.0,222.0,163.0,207.0,276.0,464.0,259.0,168.0,259.0,256.0,258.0,230.0,202.0,233.0,263.0,271.0,219.0,235.0,316.0,290.0,246.0,200.0,238.0,205.0,205.0,210.0,358.0,202.0,264.0,214.0,235.0,278.0,266.0,271.0,290.0,225.0,200.0,238.0,305.0,275.0,328.0,205.0,160.0,215.0,350.0,222.0,232.0,266.0,214.0,202.0,260.0,237.0,275.0,266.0,219.0,206.0,206.0,187.0,217.0,236.0,218.0,149.0,276.0,253.0,215.0,272.0,258.0,310.0,292.0,249.0,253.0,250.0,239.0,238.0,280.0,283.0,206.0,199.0,205.0,309.0,270.0,271.0,271.0,205.0,214.0,230.0,303.0,227.0,432.0,158.0,310.0,263.0,264.0,290.0,209.0,260.0,168.0,280.0,230.0,272.0,205.0,239.0,194.0,252.0,234.0,327.0,173.0,266.0,287.0,272.0,200.0,320.0,246.0,174.0,234.0,266.0,296.0,260.0,305.0,234.0,210.0,240.0,263.0,205.0,219.0,287.0,263.0,266.0,262.0,275.0,264.0,245.0,193.0,205.0,238.0,267.0,225.0,202.0,267.0,205.0,228.0,327.0,246.0,304.0,205.0,210.0,245.0,219.0,261.0,225.0,246.0,178.0,275.0,240.0,160.0,233.0,180.0,321.0,270.0,300.0,295.0,220.0,240.0,199.0,260.0,170.0,244.0,228.0,215.0,234.0,211.0,199.0,263.0,260.0,175.0,261.0,184.0,267.0,275.0,215.0,230.0,277.0,268.0,264.0,180.0,248.0,220.0,212.0,372.0,287.0,212.0,189.0,263.0,266.0,342.0,298.0,293.0,156.0,267.0,184.0,252.0,208.0,227.0,204.0,174.0,260.0,163.0,278.0,163.0,286.0,293.0,213.0,243.0,204.0,229.0,258.0,248.0,205.0,180.0,270.0,214.0,220.0,179.0,372.0,274.0,144.0,211.0,210.0,263.0,267.0,203.0,252.0,292.0,439.0,270.0,175.0,211.0,280.0,439.0,245.0,216.0,241.0,264.0,234.0,243.0,247.0,240.0,274.0,275.0,242.0,174.0,280.0,185.0,210.0,237.0,227.0,261.0,310.0,278.0,206.0,124.0,266.0,193.0,199.0,239.0,218.0,230.0,222.0,212.0,262.0,232.0,261.0,304.0,230.0,228.0,195.0,263.0,334.0,230.0,267.0,246.0,241.0,219.0,361.0,345.0,271.0,299.0,207.0,207.0,187.0,223.0,208.0,229.0,212.0,267.0,361.0,199.0,303.0,210.0,207.0,241.0,334.0,262.0,296.0,253.0,249.0,298.0,237.0,254.0,219.0,286.0,217.0,232.0,320.0,231.0,232.0,157.0,261.0,312.0,205.0,247.0,239.0,232.0,212.0,304.0,174.0,198.0,316.0,260.0,304.0,253.0,233.0,273.0,300.0,296.0,225.0,259.0,215.0,278.0,187.0,174.0,210.0,206.0,246.0,289.0,219.0,259.0,143.0,202.0,280.0,280.0,180.0,248.0,206.0,215.0,292.0,214.0,234.0,285.0,310.0,241.0,179.0,230.0,217.0,170.0,239.0,211.0,220.0,229.0,149.0,261.0,219.0,271.0,405.0,200.0,205.0,358.0,221.0,230.0,220.0,222.0,257.0,299.0,256.0,185.0,270.0,241.0,246.0,241.0,257.0,254.0,204.0,265.0,216.0,230.0,210.0,227.0,253.0,241.0,257.0,229.0,267.0,195.0,285.0,220.0,260.0,215.0,200.0,328.0,149.0,254.0,218.0,227.0,300.0,253.0,238.0,288.0,185.0,206.0,267.0,319.0,350.0,405.0,296.0,278.0,264.0,124.0,267.0,334.0,267.0,253.0,253.0,334.0,326.0,200.0,278.0,217.0,191.0,304.0,180.0,352.0,280.0,214.0,340.0,199.0,253.0,255.0,271.0,160.0,280.0,149.0,250.0,239.0,302.0,193.0,261.0,193.0,276.0,217.0,203.0,325.0,273.0,270.0,206.0,252.0,265.0,271.0,180.0,166.0,293.0,233.0,237.0,253.0,304.0,266.0,249.0,266.0,264.0,303.0,205.0,222.0,201.0,222.0,217.0,160.0,233.0,205.0,265.0,232.0,242.0,249.0,333.0,177.0,281.0,250.0,211.0,256.0,280.0,232.0,247.0,225.0,271.0,193.0,241.0,273.0,293.0,245.0,405.0,278.0,203.0,203.0,266.0,241.0,290.0,232.0,240.0,254.0,258.0,217.0,272.0,271.0,273.0,261.0,173.0,237.0,250.0,250.0,202.0,312.0,245.0,180.0,261.0,600.0,220.0,176.0,178.0,304.0,176.0,296.0,202.0,208.0,246.0,211.0,241.0,239.0,170.0,244.0,241.0,300.0,257.0,323.0,242.0,309.0,313.0,225.0,230.0,325.0,210.0,240.0,262.0,265.0,213.0,285.0,260.0,208.0,212.0,210.0,193.0,246.0,200.0,293.0,275.0,239.0,193.0,273.0,220.0,163.0,204.0,174.0,246.0,339.0,272.0,225.0,305.0,320.0,182.0,245.0,175.0,161.0,326.0,259.0,266.0,228.0,180.0,234.0,217.0,214.0,320.0,214.0,239.0,163.0,259.0,229.0,182.0,275.0,300.0,238.0,198.0,243.0,212.0,222.0,248.0,193.0,180.0,275.0,296.0,263.0,285.0,248.0,205.0,267.0,281.0,229.0,218.0,180.0,222.0,260.0,309.0,167.0,234.0,266.0,259.0,250.0,228.0,204.0,326.0,290.0,183.0,211.0,212.0,257.0,185.0,180.0,222.0,293.0,217.0,237.0,205.0,187.0,266.0,257.0,326.0,240.0,225.0,172.0,246.0,206.0,252.0,239.0,305.0,189.0,405.0,253.0,232.0,201.0,229.0,173.0,232.0,239.0,234.0,260.0,225.0,352.0,229.0,260.0,199.0,225.0,200.0,224.0,285.0,278.0,199.0,200.0,281.0,204.0,293.0,217.0,236.0,191.0,358.0,229.0,278.0,239.0,232.0,208.0,258.0,253.0,177.0,261.0,202.0,248.0,218.0,273.0,186.0,276.0,350.0,221.0,249.0,289.0,180.0,217.0,265.0,210.0,193.0,292.0,144.0,263.0,273.0,244.0,168.0,215.0,161.0,133.0,204.0,220.0,342.0,266.0,183.0,199.0,208.0,240.0,232.0,281.0,253.0,239.0,285.0,208.0,261.0,167.0,226.0,285.0,290.0,283.0,264.0,182.0,241.0,225.0,178.0,316.0,216.0,219.0,179.0,211.0,260.0,254.0,203.0,241.0,260.0,312.0,248.0,175.0,260.0,220.0,200.0,180.0,266.0,192.0,257.0,219.0,214.0,198.0,293.0,230.0,206.0,274.0,281.0,218.0,280.0,215.0,241.0,175.0,266.0,227.0,206.0,319.0,224.0,241.0,220.0,218.0,212.0,258.0,180.0,439.0,280.0,260.0,250.0,280.0,198.0,267.0,295.0,280.0,292.0,177.0,320.0,180.0,273.0,184.0,264.0,273.0,217.0,246.0,202.0,259.0,252.0,271.0,310.0,219.0,238.0,228.0,237.0,323.0,260.0,260.0,220.0,309.0,267.0,239.0,358.0,286.0,178.0,380.0,167.0,248.0,291.0,225.0,190.0,278.0,266.0,180.0,187.0,267.0,182.0,254.0,312.0,260.0,271.0,264.0,333.0,271.0,193.0,160.0,219.0,220.0,200.0,203.0,240.0,227.0,228.0,231.0,206.0,334.0,266.0,230.0,239.0,293.0,210.0,217.0,252.0,239.0,261.0,278.0,222.0,358.0,227.0,206.0,229.0,208.0,230.0,300.0,124.0,213.0,240.0,271.0,182.0,283.0,312.0,238.0,312.0,212.0,215.0,273.0,167.0,262.0,232.0,264.0,280.0,242.0,240.0,192.0,243.0,240.0,313.0,432.0,215.0,168.0,210.0,253.0,237.0,265.0,222.0,225.0,210.0,239.0,244.0,187.0,232.0,253.0,270.0,278.0,295.0,244.0,223.0,209.0,250.0,225.0,254.0,220.0,214.0,247.0,210.0,240.0,283.0,225.0,275.0,198.0,208.0,293.0,225.0,219.0,305.0,223.0,190.0,212.0,235.0,190.0,257.0,208.0,323.0,177.0,224.0,253.0,291.0,199.0,240.0,238.0,234.0,219.0,261.0,280.0,256.0,257.0,350.0,228.0,262.0,256.0,260.0,232.0,199.0,241.0,439.0,260.0,243.0,230.0,245.0,200.0,149.0,267.0,296.0,285.0,245.0,245.0,170.0,290.0,207.0,339.0,220.0,163.0,202.0,252.0,267.0,261.0,298.0,310.0,213.0,281.0,275.0,225.0,300.0,237.0,216.0,193.0,210.0,234.0,143.0,225.0,241.0,276.0,229.0,245.0,214.0,260.0,245.0]}],\"domain\":{\"x\":[0.0,1.0],\"y\":[0.0,1.0]},\"name\":\"\",\"type\":\"parcoords\"}],                        {\"template\":{\"data\":{\"bar\":[{\"error_x\":{\"color\":\"#2a3f5f\"},\"error_y\":{\"color\":\"#2a3f5f\"},\"marker\":{\"line\":{\"color\":\"#E5ECF6\",\"width\":0.5},\"pattern\":{\"fillmode\":\"overlay\",\"size\":10,\"solidity\":0.2}},\"type\":\"bar\"}],\"barpolar\":[{\"marker\":{\"line\":{\"color\":\"#E5ECF6\",\"width\":0.5},\"pattern\":{\"fillmode\":\"overlay\",\"size\":10,\"solidity\":0.2}},\"type\":\"barpolar\"}],\"carpet\":[{\"aaxis\":{\"endlinecolor\":\"#2a3f5f\",\"gridcolor\":\"white\",\"linecolor\":\"white\",\"minorgridcolor\":\"white\",\"startlinecolor\":\"#2a3f5f\"},\"baxis\":{\"endlinecolor\":\"#2a3f5f\",\"gridcolor\":\"white\",\"linecolor\":\"white\",\"minorgridcolor\":\"white\",\"startlinecolor\":\"#2a3f5f\"},\"type\":\"carpet\"}],\"choropleth\":[{\"colorbar\":{\"outlinewidth\":0,\"ticks\":\"\"},\"type\":\"choropleth\"}],\"contour\":[{\"colorbar\":{\"outlinewidth\":0,\"ticks\":\"\"},\"colorscale\":[[0.0,\"#0d0887\"],[0.1111111111111111,\"#46039f\"],[0.2222222222222222,\"#7201a8\"],[0.3333333333333333,\"#9c179e\"],[0.4444444444444444,\"#bd3786\"],[0.5555555555555556,\"#d8576b\"],[0.6666666666666666,\"#ed7953\"],[0.7777777777777778,\"#fb9f3a\"],[0.8888888888888888,\"#fdca26\"],[1.0,\"#f0f921\"]],\"type\":\"contour\"}],\"contourcarpet\":[{\"colorbar\":{\"outlinewidth\":0,\"ticks\":\"\"},\"type\":\"contourcarpet\"}],\"heatmap\":[{\"colorbar\":{\"outlinewidth\":0,\"ticks\":\"\"},\"colorscale\":[[0.0,\"#0d0887\"],[0.1111111111111111,\"#46039f\"],[0.2222222222222222,\"#7201a8\"],[0.3333333333333333,\"#9c179e\"],[0.4444444444444444,\"#bd3786\"],[0.5555555555555556,\"#d8576b\"],[0.6666666666666666,\"#ed7953\"],[0.7777777777777778,\"#fb9f3a\"],[0.8888888888888888,\"#fdca26\"],[1.0,\"#f0f921\"]],\"type\":\"heatmap\"}],\"heatmapgl\":[{\"colorbar\":{\"outlinewidth\":0,\"ticks\":\"\"},\"colorscale\":[[0.0,\"#0d0887\"],[0.1111111111111111,\"#46039f\"],[0.2222222222222222,\"#7201a8\"],[0.3333333333333333,\"#9c179e\"],[0.4444444444444444,\"#bd3786\"],[0.5555555555555556,\"#d8576b\"],[0.6666666666666666,\"#ed7953\"],[0.7777777777777778,\"#fb9f3a\"],[0.8888888888888888,\"#fdca26\"],[1.0,\"#f0f921\"]],\"type\":\"heatmapgl\"}],\"histogram\":[{\"marker\":{\"pattern\":{\"fillmode\":\"overlay\",\"size\":10,\"solidity\":0.2}},\"type\":\"histogram\"}],\"histogram2d\":[{\"colorbar\":{\"outlinewidth\":0,\"ticks\":\"\"},\"colorscale\":[[0.0,\"#0d0887\"],[0.1111111111111111,\"#46039f\"],[0.2222222222222222,\"#7201a8\"],[0.3333333333333333,\"#9c179e\"],[0.4444444444444444,\"#bd3786\"],[0.5555555555555556,\"#d8576b\"],[0.6666666666666666,\"#ed7953\"],[0.7777777777777778,\"#fb9f3a\"],[0.8888888888888888,\"#fdca26\"],[1.0,\"#f0f921\"]],\"type\":\"histogram2d\"}],\"histogram2dcontour\":[{\"colorbar\":{\"outlinewidth\":0,\"ticks\":\"\"},\"colorscale\":[[0.0,\"#0d0887\"],[0.1111111111111111,\"#46039f\"],[0.2222222222222222,\"#7201a8\"],[0.3333333333333333,\"#9c179e\"],[0.4444444444444444,\"#bd3786\"],[0.5555555555555556,\"#d8576b\"],[0.6666666666666666,\"#ed7953\"],[0.7777777777777778,\"#fb9f3a\"],[0.8888888888888888,\"#fdca26\"],[1.0,\"#f0f921\"]],\"type\":\"histogram2dcontour\"}],\"mesh3d\":[{\"colorbar\":{\"outlinewidth\":0,\"ticks\":\"\"},\"type\":\"mesh3d\"}],\"parcoords\":[{\"line\":{\"colorbar\":{\"outlinewidth\":0,\"ticks\":\"\"}},\"type\":\"parcoords\"}],\"pie\":[{\"automargin\":true,\"type\":\"pie\"}],\"scatter\":[{\"marker\":{\"colorbar\":{\"outlinewidth\":0,\"ticks\":\"\"}},\"type\":\"scatter\"}],\"scatter3d\":[{\"line\":{\"colorbar\":{\"outlinewidth\":0,\"ticks\":\"\"}},\"marker\":{\"colorbar\":{\"outlinewidth\":0,\"ticks\":\"\"}},\"type\":\"scatter3d\"}],\"scattercarpet\":[{\"marker\":{\"colorbar\":{\"outlinewidth\":0,\"ticks\":\"\"}},\"type\":\"scattercarpet\"}],\"scattergeo\":[{\"marker\":{\"colorbar\":{\"outlinewidth\":0,\"ticks\":\"\"}},\"type\":\"scattergeo\"}],\"scattergl\":[{\"marker\":{\"colorbar\":{\"outlinewidth\":0,\"ticks\":\"\"}},\"type\":\"scattergl\"}],\"scattermapbox\":[{\"marker\":{\"colorbar\":{\"outlinewidth\":0,\"ticks\":\"\"}},\"type\":\"scattermapbox\"}],\"scatterpolar\":[{\"marker\":{\"colorbar\":{\"outlinewidth\":0,\"ticks\":\"\"}},\"type\":\"scatterpolar\"}],\"scatterpolargl\":[{\"marker\":{\"colorbar\":{\"outlinewidth\":0,\"ticks\":\"\"}},\"type\":\"scatterpolargl\"}],\"scatterternary\":[{\"marker\":{\"colorbar\":{\"outlinewidth\":0,\"ticks\":\"\"}},\"type\":\"scatterternary\"}],\"surface\":[{\"colorbar\":{\"outlinewidth\":0,\"ticks\":\"\"},\"colorscale\":[[0.0,\"#0d0887\"],[0.1111111111111111,\"#46039f\"],[0.2222222222222222,\"#7201a8\"],[0.3333333333333333,\"#9c179e\"],[0.4444444444444444,\"#bd3786\"],[0.5555555555555556,\"#d8576b\"],[0.6666666666666666,\"#ed7953\"],[0.7777777777777778,\"#fb9f3a\"],[0.8888888888888888,\"#fdca26\"],[1.0,\"#f0f921\"]],\"type\":\"surface\"}],\"table\":[{\"cells\":{\"fill\":{\"color\":\"#EBF0F8\"},\"line\":{\"color\":\"white\"}},\"header\":{\"fill\":{\"color\":\"#C8D4E3\"},\"line\":{\"color\":\"white\"}},\"type\":\"table\"}]},\"layout\":{\"annotationdefaults\":{\"arrowcolor\":\"#2a3f5f\",\"arrowhead\":0,\"arrowwidth\":1},\"autotypenumbers\":\"strict\",\"coloraxis\":{\"colorbar\":{\"outlinewidth\":0,\"ticks\":\"\"}},\"colorscale\":{\"diverging\":[[0,\"#8e0152\"],[0.1,\"#c51b7d\"],[0.2,\"#de77ae\"],[0.3,\"#f1b6da\"],[0.4,\"#fde0ef\"],[0.5,\"#f7f7f7\"],[0.6,\"#e6f5d0\"],[0.7,\"#b8e186\"],[0.8,\"#7fbc41\"],[0.9,\"#4d9221\"],[1,\"#276419\"]],\"sequential\":[[0.0,\"#0d0887\"],[0.1111111111111111,\"#46039f\"],[0.2222222222222222,\"#7201a8\"],[0.3333333333333333,\"#9c179e\"],[0.4444444444444444,\"#bd3786\"],[0.5555555555555556,\"#d8576b\"],[0.6666666666666666,\"#ed7953\"],[0.7777777777777778,\"#fb9f3a\"],[0.8888888888888888,\"#fdca26\"],[1.0,\"#f0f921\"]],\"sequentialminus\":[[0.0,\"#0d0887\"],[0.1111111111111111,\"#46039f\"],[0.2222222222222222,\"#7201a8\"],[0.3333333333333333,\"#9c179e\"],[0.4444444444444444,\"#bd3786\"],[0.5555555555555556,\"#d8576b\"],[0.6666666666666666,\"#ed7953\"],[0.7777777777777778,\"#fb9f3a\"],[0.8888888888888888,\"#fdca26\"],[1.0,\"#f0f921\"]]},\"colorway\":[\"#636efa\",\"#EF553B\",\"#00cc96\",\"#ab63fa\",\"#FFA15A\",\"#19d3f3\",\"#FF6692\",\"#B6E880\",\"#FF97FF\",\"#FECB52\"],\"font\":{\"color\":\"#2a3f5f\"},\"geo\":{\"bgcolor\":\"white\",\"lakecolor\":\"white\",\"landcolor\":\"#E5ECF6\",\"showlakes\":true,\"showland\":true,\"subunitcolor\":\"white\"},\"hoverlabel\":{\"align\":\"left\"},\"hovermode\":\"closest\",\"mapbox\":{\"style\":\"light\"},\"paper_bgcolor\":\"white\",\"plot_bgcolor\":\"#E5ECF6\",\"polar\":{\"angularaxis\":{\"gridcolor\":\"white\",\"linecolor\":\"white\",\"ticks\":\"\"},\"bgcolor\":\"#E5ECF6\",\"radialaxis\":{\"gridcolor\":\"white\",\"linecolor\":\"white\",\"ticks\":\"\"}},\"scene\":{\"xaxis\":{\"backgroundcolor\":\"#E5ECF6\",\"gridcolor\":\"white\",\"gridwidth\":2,\"linecolor\":\"white\",\"showbackground\":true,\"ticks\":\"\",\"zerolinecolor\":\"white\"},\"yaxis\":{\"backgroundcolor\":\"#E5ECF6\",\"gridcolor\":\"white\",\"gridwidth\":2,\"linecolor\":\"white\",\"showbackground\":true,\"ticks\":\"\",\"zerolinecolor\":\"white\"},\"zaxis\":{\"backgroundcolor\":\"#E5ECF6\",\"gridcolor\":\"white\",\"gridwidth\":2,\"linecolor\":\"white\",\"showbackground\":true,\"ticks\":\"\",\"zerolinecolor\":\"white\"}},\"shapedefaults\":{\"line\":{\"color\":\"#2a3f5f\"}},\"ternary\":{\"aaxis\":{\"gridcolor\":\"white\",\"linecolor\":\"white\",\"ticks\":\"\"},\"baxis\":{\"gridcolor\":\"white\",\"linecolor\":\"white\",\"ticks\":\"\"},\"bgcolor\":\"#E5ECF6\",\"caxis\":{\"gridcolor\":\"white\",\"linecolor\":\"white\",\"ticks\":\"\"}},\"title\":{\"x\":0.05},\"xaxis\":{\"automargin\":true,\"gridcolor\":\"white\",\"linecolor\":\"white\",\"ticks\":\"\",\"title\":{\"standoff\":15},\"zerolinecolor\":\"white\",\"zerolinewidth\":2},\"yaxis\":{\"automargin\":true,\"gridcolor\":\"white\",\"linecolor\":\"white\",\"ticks\":\"\",\"title\":{\"standoff\":15},\"zerolinecolor\":\"white\",\"zerolinewidth\":2}}},\"legend\":{\"tracegroupgap\":0},\"margin\":{\"t\":60}},                        {\"responsive\": true}                    ).then(function(){\n",
              "                            \n",
              "var gd = document.getElementById('33bd3caf-5dda-414e-b1eb-1945b3a6cad9');\n",
              "var x = new MutationObserver(function (mutations, observer) {{\n",
              "        var display = window.getComputedStyle(gd).display;\n",
              "        if (!display || display === 'none') {{\n",
              "            console.log([gd, 'removed!']);\n",
              "            Plotly.purge(gd);\n",
              "            observer.disconnect();\n",
              "        }}\n",
              "}});\n",
              "\n",
              "// Listen for the removal of the full notebook cells\n",
              "var notebookContainer = gd.closest('#notebook-container');\n",
              "if (notebookContainer) {{\n",
              "    x.observe(notebookContainer, {childList: true});\n",
              "}}\n",
              "\n",
              "// Listen for the clearing of the current output cell\n",
              "var outputEl = gd.closest('.output');\n",
              "if (outputEl) {{\n",
              "    x.observe(outputEl, {childList: true});\n",
              "}}\n",
              "\n",
              "                        })                };                            </script>        </div>\n",
              "</body>\n",
              "</html>"
            ]
          },
          "metadata": {}
        }
      ]
    },
    {
      "cell_type": "code",
      "source": [
        ""
      ],
      "metadata": {
        "id": "_-FWBrdKaBrH"
      },
      "execution_count": null,
      "outputs": []
    }
  ]
}