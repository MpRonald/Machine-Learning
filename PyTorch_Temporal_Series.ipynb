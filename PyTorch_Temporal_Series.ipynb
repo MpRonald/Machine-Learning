{
  "nbformat": 4,
  "nbformat_minor": 0,
  "metadata": {
    "colab": {
      "name": "PyTorch_Temporal_Series.ipynb",
      "provenance": [],
      "collapsed_sections": [],
      "authorship_tag": "ABX9TyMGsHGXV37hB0ceOhdNJA/c",
      "include_colab_link": true
    },
    "kernelspec": {
      "name": "python3",
      "display_name": "Python 3"
    },
    "language_info": {
      "name": "python"
    },
    "accelerator": "GPU",
    "gpuClass": "standard"
  },
  "cells": [
    {
      "cell_type": "markdown",
      "metadata": {
        "id": "view-in-github",
        "colab_type": "text"
      },
      "source": [
        "<a href=\"https://colab.research.google.com/github/MpRonald/Deep-Learning/blob/main/PyTorch_Temporal_Series.ipynb\" target=\"_parent\"><img src=\"https://colab.research.google.com/assets/colab-badge.svg\" alt=\"Open In Colab\"/></a>"
      ]
    },
    {
      "cell_type": "markdown",
      "source": [
        "###Imports"
      ],
      "metadata": {
        "id": "kcGwxfG-LWL9"
      }
    },
    {
      "cell_type": "code",
      "execution_count": 1,
      "metadata": {
        "colab": {
          "base_uri": "https://localhost:8080/"
        },
        "id": "cRJ-5KbRLBO2",
        "outputId": "b06b6c27-b714-4722-c520-843ccff22164"
      },
      "outputs": [
        {
          "output_type": "stream",
          "name": "stdout",
          "text": [
            "Drive already mounted at /content/drive; to attempt to forcibly remount, call drive.mount(\"/content/drive\", force_remount=True).\n"
          ]
        }
      ],
      "source": [
        "from google.colab import drive\n",
        "drive.mount('/content/drive')"
      ]
    },
    {
      "cell_type": "code",
      "source": [
        "import numpy as np\n",
        "import pandas as pd\n",
        "import matplotlib.pyplot as plt\n",
        "%matplotlib inline\n",
        "import torch\n",
        "\n",
        "from sklearn.preprocessing import MinMaxScaler\n",
        "from sklearn.metrics import mean_absolute_error\n",
        "from torch import nn, optim\n",
        "\n",
        "import warnings\n",
        "warnings.filterwarnings('ignore')"
      ],
      "metadata": {
        "id": "6Dqhs0XFLcft"
      },
      "execution_count": 2,
      "outputs": []
    },
    {
      "cell_type": "code",
      "source": [
        "torch.manual_seed(42)"
      ],
      "metadata": {
        "colab": {
          "base_uri": "https://localhost:8080/"
        },
        "id": "_a5iwpaIL4NE",
        "outputId": "8f84f79b-58a5-4dfe-f666-14b50136f7d7"
      },
      "execution_count": 3,
      "outputs": [
        {
          "output_type": "execute_result",
          "data": {
            "text/plain": [
              "<torch._C.Generator at 0x7f192b9fb470>"
            ]
          },
          "metadata": {},
          "execution_count": 3
        }
      ]
    },
    {
      "cell_type": "markdown",
      "source": [
        "###Dataset"
      ],
      "metadata": {
        "id": "9SCw0bhOL9ax"
      }
    },
    {
      "cell_type": "code",
      "source": [
        "data_train = pd.read_csv('https://github.com/MpRonald/datasets/raw/main/petr4_treinamento.csv')\n",
        "data_train.head()"
      ],
      "metadata": {
        "colab": {
          "base_uri": "https://localhost:8080/",
          "height": 206
        },
        "id": "6ZZ99YWrL7zG",
        "outputId": "84b8bf86-9c52-40e3-cdc8-ccfa97763ba6"
      },
      "execution_count": 4,
      "outputs": [
        {
          "output_type": "execute_result",
          "data": {
            "text/plain": [
              "         Date       Open       High        Low      Close  Adj Close  \\\n",
              "0  2013-01-02  19.990000  20.209999  19.690001  19.690001  18.086271   \n",
              "1  2013-01-03  19.809999  20.400000  19.700001  20.400000  18.738441   \n",
              "2  2013-01-04  20.330000  20.620001  20.170000  20.430000  18.766001   \n",
              "3  2013-01-07  20.480000  20.670000  19.950001  20.080000  18.444506   \n",
              "4  2013-01-08  20.110001  20.230000  19.459999  19.500000  17.911745   \n",
              "\n",
              "       Volume  \n",
              "0  30182600.0  \n",
              "1  30552600.0  \n",
              "2  36141000.0  \n",
              "3  28069600.0  \n",
              "4  29091300.0  "
            ],
            "text/html": [
              "\n",
              "  <div id=\"df-e8987460-fead-45cf-ae60-a99cb92470c5\">\n",
              "    <div class=\"colab-df-container\">\n",
              "      <div>\n",
              "<style scoped>\n",
              "    .dataframe tbody tr th:only-of-type {\n",
              "        vertical-align: middle;\n",
              "    }\n",
              "\n",
              "    .dataframe tbody tr th {\n",
              "        vertical-align: top;\n",
              "    }\n",
              "\n",
              "    .dataframe thead th {\n",
              "        text-align: right;\n",
              "    }\n",
              "</style>\n",
              "<table border=\"1\" class=\"dataframe\">\n",
              "  <thead>\n",
              "    <tr style=\"text-align: right;\">\n",
              "      <th></th>\n",
              "      <th>Date</th>\n",
              "      <th>Open</th>\n",
              "      <th>High</th>\n",
              "      <th>Low</th>\n",
              "      <th>Close</th>\n",
              "      <th>Adj Close</th>\n",
              "      <th>Volume</th>\n",
              "    </tr>\n",
              "  </thead>\n",
              "  <tbody>\n",
              "    <tr>\n",
              "      <th>0</th>\n",
              "      <td>2013-01-02</td>\n",
              "      <td>19.990000</td>\n",
              "      <td>20.209999</td>\n",
              "      <td>19.690001</td>\n",
              "      <td>19.690001</td>\n",
              "      <td>18.086271</td>\n",
              "      <td>30182600.0</td>\n",
              "    </tr>\n",
              "    <tr>\n",
              "      <th>1</th>\n",
              "      <td>2013-01-03</td>\n",
              "      <td>19.809999</td>\n",
              "      <td>20.400000</td>\n",
              "      <td>19.700001</td>\n",
              "      <td>20.400000</td>\n",
              "      <td>18.738441</td>\n",
              "      <td>30552600.0</td>\n",
              "    </tr>\n",
              "    <tr>\n",
              "      <th>2</th>\n",
              "      <td>2013-01-04</td>\n",
              "      <td>20.330000</td>\n",
              "      <td>20.620001</td>\n",
              "      <td>20.170000</td>\n",
              "      <td>20.430000</td>\n",
              "      <td>18.766001</td>\n",
              "      <td>36141000.0</td>\n",
              "    </tr>\n",
              "    <tr>\n",
              "      <th>3</th>\n",
              "      <td>2013-01-07</td>\n",
              "      <td>20.480000</td>\n",
              "      <td>20.670000</td>\n",
              "      <td>19.950001</td>\n",
              "      <td>20.080000</td>\n",
              "      <td>18.444506</td>\n",
              "      <td>28069600.0</td>\n",
              "    </tr>\n",
              "    <tr>\n",
              "      <th>4</th>\n",
              "      <td>2013-01-08</td>\n",
              "      <td>20.110001</td>\n",
              "      <td>20.230000</td>\n",
              "      <td>19.459999</td>\n",
              "      <td>19.500000</td>\n",
              "      <td>17.911745</td>\n",
              "      <td>29091300.0</td>\n",
              "    </tr>\n",
              "  </tbody>\n",
              "</table>\n",
              "</div>\n",
              "      <button class=\"colab-df-convert\" onclick=\"convertToInteractive('df-e8987460-fead-45cf-ae60-a99cb92470c5')\"\n",
              "              title=\"Convert this dataframe to an interactive table.\"\n",
              "              style=\"display:none;\">\n",
              "        \n",
              "  <svg xmlns=\"http://www.w3.org/2000/svg\" height=\"24px\"viewBox=\"0 0 24 24\"\n",
              "       width=\"24px\">\n",
              "    <path d=\"M0 0h24v24H0V0z\" fill=\"none\"/>\n",
              "    <path d=\"M18.56 5.44l.94 2.06.94-2.06 2.06-.94-2.06-.94-.94-2.06-.94 2.06-2.06.94zm-11 1L8.5 8.5l.94-2.06 2.06-.94-2.06-.94L8.5 2.5l-.94 2.06-2.06.94zm10 10l.94 2.06.94-2.06 2.06-.94-2.06-.94-.94-2.06-.94 2.06-2.06.94z\"/><path d=\"M17.41 7.96l-1.37-1.37c-.4-.4-.92-.59-1.43-.59-.52 0-1.04.2-1.43.59L10.3 9.45l-7.72 7.72c-.78.78-.78 2.05 0 2.83L4 21.41c.39.39.9.59 1.41.59.51 0 1.02-.2 1.41-.59l7.78-7.78 2.81-2.81c.8-.78.8-2.07 0-2.86zM5.41 20L4 18.59l7.72-7.72 1.47 1.35L5.41 20z\"/>\n",
              "  </svg>\n",
              "      </button>\n",
              "      \n",
              "  <style>\n",
              "    .colab-df-container {\n",
              "      display:flex;\n",
              "      flex-wrap:wrap;\n",
              "      gap: 12px;\n",
              "    }\n",
              "\n",
              "    .colab-df-convert {\n",
              "      background-color: #E8F0FE;\n",
              "      border: none;\n",
              "      border-radius: 50%;\n",
              "      cursor: pointer;\n",
              "      display: none;\n",
              "      fill: #1967D2;\n",
              "      height: 32px;\n",
              "      padding: 0 0 0 0;\n",
              "      width: 32px;\n",
              "    }\n",
              "\n",
              "    .colab-df-convert:hover {\n",
              "      background-color: #E2EBFA;\n",
              "      box-shadow: 0px 1px 2px rgba(60, 64, 67, 0.3), 0px 1px 3px 1px rgba(60, 64, 67, 0.15);\n",
              "      fill: #174EA6;\n",
              "    }\n",
              "\n",
              "    [theme=dark] .colab-df-convert {\n",
              "      background-color: #3B4455;\n",
              "      fill: #D2E3FC;\n",
              "    }\n",
              "\n",
              "    [theme=dark] .colab-df-convert:hover {\n",
              "      background-color: #434B5C;\n",
              "      box-shadow: 0px 1px 3px 1px rgba(0, 0, 0, 0.15);\n",
              "      filter: drop-shadow(0px 1px 2px rgba(0, 0, 0, 0.3));\n",
              "      fill: #FFFFFF;\n",
              "    }\n",
              "  </style>\n",
              "\n",
              "      <script>\n",
              "        const buttonEl =\n",
              "          document.querySelector('#df-e8987460-fead-45cf-ae60-a99cb92470c5 button.colab-df-convert');\n",
              "        buttonEl.style.display =\n",
              "          google.colab.kernel.accessAllowed ? 'block' : 'none';\n",
              "\n",
              "        async function convertToInteractive(key) {\n",
              "          const element = document.querySelector('#df-e8987460-fead-45cf-ae60-a99cb92470c5');\n",
              "          const dataTable =\n",
              "            await google.colab.kernel.invokeFunction('convertToInteractive',\n",
              "                                                     [key], {});\n",
              "          if (!dataTable) return;\n",
              "\n",
              "          const docLinkHtml = 'Like what you see? Visit the ' +\n",
              "            '<a target=\"_blank\" href=https://colab.research.google.com/notebooks/data_table.ipynb>data table notebook</a>'\n",
              "            + ' to learn more about interactive tables.';\n",
              "          element.innerHTML = '';\n",
              "          dataTable['output_type'] = 'display_data';\n",
              "          await google.colab.output.renderOutput(dataTable, element);\n",
              "          const docLink = document.createElement('div');\n",
              "          docLink.innerHTML = docLinkHtml;\n",
              "          element.appendChild(docLink);\n",
              "        }\n",
              "      </script>\n",
              "    </div>\n",
              "  </div>\n",
              "  "
            ]
          },
          "metadata": {},
          "execution_count": 4
        }
      ]
    },
    {
      "cell_type": "code",
      "source": [
        "data_train.columns = ['Date', 'Open', 'High', 'Low', 'Close', 'Adj_Close', 'Volume']\n",
        "data_train.columns"
      ],
      "metadata": {
        "colab": {
          "base_uri": "https://localhost:8080/"
        },
        "id": "VEGpzLnHMr2F",
        "outputId": "cdeff2e7-cd31-4375-eb7a-039f8832ba77"
      },
      "execution_count": 5,
      "outputs": [
        {
          "output_type": "execute_result",
          "data": {
            "text/plain": [
              "Index(['Date', 'Open', 'High', 'Low', 'Close', 'Adj_Close', 'Volume'], dtype='object')"
            ]
          },
          "metadata": {},
          "execution_count": 5
        }
      ]
    },
    {
      "cell_type": "code",
      "source": [
        "data_test = pd.read_csv('https://github.com/MpRonald/datasets/raw/main/petr4_teste.csv')\n",
        "data_test.head()"
      ],
      "metadata": {
        "colab": {
          "base_uri": "https://localhost:8080/",
          "height": 206
        },
        "id": "RdHUUulbMSqj",
        "outputId": "37088905-c31d-4fbe-b7af-cd99322be7ce"
      },
      "execution_count": 6,
      "outputs": [
        {
          "output_type": "execute_result",
          "data": {
            "text/plain": [
              "         Date       Open       High        Low      Close  Adj Close    Volume\n",
              "0  2018-01-02  16.190001  16.549999  16.190001  16.549999  16.516966  33461800\n",
              "1  2018-01-03  16.490000  16.719999  16.370001  16.700001  16.666668  55940900\n",
              "2  2018-01-04  16.780001  16.959999  16.620001  16.730000  16.696608  37064900\n",
              "3  2018-01-05  16.700001  16.860001  16.570000  16.830000  16.796408  26958200\n",
              "4  2018-01-08  16.740000  17.030001  16.709999  17.030001  16.996010  28400000"
            ],
            "text/html": [
              "\n",
              "  <div id=\"df-63749644-fd43-41a0-b4d3-cbda2717e5be\">\n",
              "    <div class=\"colab-df-container\">\n",
              "      <div>\n",
              "<style scoped>\n",
              "    .dataframe tbody tr th:only-of-type {\n",
              "        vertical-align: middle;\n",
              "    }\n",
              "\n",
              "    .dataframe tbody tr th {\n",
              "        vertical-align: top;\n",
              "    }\n",
              "\n",
              "    .dataframe thead th {\n",
              "        text-align: right;\n",
              "    }\n",
              "</style>\n",
              "<table border=\"1\" class=\"dataframe\">\n",
              "  <thead>\n",
              "    <tr style=\"text-align: right;\">\n",
              "      <th></th>\n",
              "      <th>Date</th>\n",
              "      <th>Open</th>\n",
              "      <th>High</th>\n",
              "      <th>Low</th>\n",
              "      <th>Close</th>\n",
              "      <th>Adj Close</th>\n",
              "      <th>Volume</th>\n",
              "    </tr>\n",
              "  </thead>\n",
              "  <tbody>\n",
              "    <tr>\n",
              "      <th>0</th>\n",
              "      <td>2018-01-02</td>\n",
              "      <td>16.190001</td>\n",
              "      <td>16.549999</td>\n",
              "      <td>16.190001</td>\n",
              "      <td>16.549999</td>\n",
              "      <td>16.516966</td>\n",
              "      <td>33461800</td>\n",
              "    </tr>\n",
              "    <tr>\n",
              "      <th>1</th>\n",
              "      <td>2018-01-03</td>\n",
              "      <td>16.490000</td>\n",
              "      <td>16.719999</td>\n",
              "      <td>16.370001</td>\n",
              "      <td>16.700001</td>\n",
              "      <td>16.666668</td>\n",
              "      <td>55940900</td>\n",
              "    </tr>\n",
              "    <tr>\n",
              "      <th>2</th>\n",
              "      <td>2018-01-04</td>\n",
              "      <td>16.780001</td>\n",
              "      <td>16.959999</td>\n",
              "      <td>16.620001</td>\n",
              "      <td>16.730000</td>\n",
              "      <td>16.696608</td>\n",
              "      <td>37064900</td>\n",
              "    </tr>\n",
              "    <tr>\n",
              "      <th>3</th>\n",
              "      <td>2018-01-05</td>\n",
              "      <td>16.700001</td>\n",
              "      <td>16.860001</td>\n",
              "      <td>16.570000</td>\n",
              "      <td>16.830000</td>\n",
              "      <td>16.796408</td>\n",
              "      <td>26958200</td>\n",
              "    </tr>\n",
              "    <tr>\n",
              "      <th>4</th>\n",
              "      <td>2018-01-08</td>\n",
              "      <td>16.740000</td>\n",
              "      <td>17.030001</td>\n",
              "      <td>16.709999</td>\n",
              "      <td>17.030001</td>\n",
              "      <td>16.996010</td>\n",
              "      <td>28400000</td>\n",
              "    </tr>\n",
              "  </tbody>\n",
              "</table>\n",
              "</div>\n",
              "      <button class=\"colab-df-convert\" onclick=\"convertToInteractive('df-63749644-fd43-41a0-b4d3-cbda2717e5be')\"\n",
              "              title=\"Convert this dataframe to an interactive table.\"\n",
              "              style=\"display:none;\">\n",
              "        \n",
              "  <svg xmlns=\"http://www.w3.org/2000/svg\" height=\"24px\"viewBox=\"0 0 24 24\"\n",
              "       width=\"24px\">\n",
              "    <path d=\"M0 0h24v24H0V0z\" fill=\"none\"/>\n",
              "    <path d=\"M18.56 5.44l.94 2.06.94-2.06 2.06-.94-2.06-.94-.94-2.06-.94 2.06-2.06.94zm-11 1L8.5 8.5l.94-2.06 2.06-.94-2.06-.94L8.5 2.5l-.94 2.06-2.06.94zm10 10l.94 2.06.94-2.06 2.06-.94-2.06-.94-.94-2.06-.94 2.06-2.06.94z\"/><path d=\"M17.41 7.96l-1.37-1.37c-.4-.4-.92-.59-1.43-.59-.52 0-1.04.2-1.43.59L10.3 9.45l-7.72 7.72c-.78.78-.78 2.05 0 2.83L4 21.41c.39.39.9.59 1.41.59.51 0 1.02-.2 1.41-.59l7.78-7.78 2.81-2.81c.8-.78.8-2.07 0-2.86zM5.41 20L4 18.59l7.72-7.72 1.47 1.35L5.41 20z\"/>\n",
              "  </svg>\n",
              "      </button>\n",
              "      \n",
              "  <style>\n",
              "    .colab-df-container {\n",
              "      display:flex;\n",
              "      flex-wrap:wrap;\n",
              "      gap: 12px;\n",
              "    }\n",
              "\n",
              "    .colab-df-convert {\n",
              "      background-color: #E8F0FE;\n",
              "      border: none;\n",
              "      border-radius: 50%;\n",
              "      cursor: pointer;\n",
              "      display: none;\n",
              "      fill: #1967D2;\n",
              "      height: 32px;\n",
              "      padding: 0 0 0 0;\n",
              "      width: 32px;\n",
              "    }\n",
              "\n",
              "    .colab-df-convert:hover {\n",
              "      background-color: #E2EBFA;\n",
              "      box-shadow: 0px 1px 2px rgba(60, 64, 67, 0.3), 0px 1px 3px 1px rgba(60, 64, 67, 0.15);\n",
              "      fill: #174EA6;\n",
              "    }\n",
              "\n",
              "    [theme=dark] .colab-df-convert {\n",
              "      background-color: #3B4455;\n",
              "      fill: #D2E3FC;\n",
              "    }\n",
              "\n",
              "    [theme=dark] .colab-df-convert:hover {\n",
              "      background-color: #434B5C;\n",
              "      box-shadow: 0px 1px 3px 1px rgba(0, 0, 0, 0.15);\n",
              "      filter: drop-shadow(0px 1px 2px rgba(0, 0, 0, 0.3));\n",
              "      fill: #FFFFFF;\n",
              "    }\n",
              "  </style>\n",
              "\n",
              "      <script>\n",
              "        const buttonEl =\n",
              "          document.querySelector('#df-63749644-fd43-41a0-b4d3-cbda2717e5be button.colab-df-convert');\n",
              "        buttonEl.style.display =\n",
              "          google.colab.kernel.accessAllowed ? 'block' : 'none';\n",
              "\n",
              "        async function convertToInteractive(key) {\n",
              "          const element = document.querySelector('#df-63749644-fd43-41a0-b4d3-cbda2717e5be');\n",
              "          const dataTable =\n",
              "            await google.colab.kernel.invokeFunction('convertToInteractive',\n",
              "                                                     [key], {});\n",
              "          if (!dataTable) return;\n",
              "\n",
              "          const docLinkHtml = 'Like what you see? Visit the ' +\n",
              "            '<a target=\"_blank\" href=https://colab.research.google.com/notebooks/data_table.ipynb>data table notebook</a>'\n",
              "            + ' to learn more about interactive tables.';\n",
              "          element.innerHTML = '';\n",
              "          dataTable['output_type'] = 'display_data';\n",
              "          await google.colab.output.renderOutput(dataTable, element);\n",
              "          const docLink = document.createElement('div');\n",
              "          docLink.innerHTML = docLinkHtml;\n",
              "          element.appendChild(docLink);\n",
              "        }\n",
              "      </script>\n",
              "    </div>\n",
              "  </div>\n",
              "  "
            ]
          },
          "metadata": {},
          "execution_count": 6
        }
      ]
    },
    {
      "cell_type": "code",
      "source": [
        "data_test.columns = ['Date', 'Open', 'High', 'Low', 'Close', 'Adj_Close', 'Volume']\n",
        "data_test.columns"
      ],
      "metadata": {
        "colab": {
          "base_uri": "https://localhost:8080/"
        },
        "id": "RW7CW3kmMe6U",
        "outputId": "c51c2ae5-a926-4578-e029-43bff403dc68"
      },
      "execution_count": 7,
      "outputs": [
        {
          "output_type": "execute_result",
          "data": {
            "text/plain": [
              "Index(['Date', 'Open', 'High', 'Low', 'Close', 'Adj_Close', 'Volume'], dtype='object')"
            ]
          },
          "metadata": {},
          "execution_count": 7
        }
      ]
    },
    {
      "cell_type": "markdown",
      "source": [
        "### Data Treatment"
      ],
      "metadata": {
        "id": "MtOedUWzNBGS"
      }
    },
    {
      "cell_type": "code",
      "source": [
        "data_train.shape"
      ],
      "metadata": {
        "colab": {
          "base_uri": "https://localhost:8080/"
        },
        "id": "-dyqbxrTNJMt",
        "outputId": "a30b8494-e8c5-4f2a-d02f-38ed49d90c23"
      },
      "execution_count": 8,
      "outputs": [
        {
          "output_type": "execute_result",
          "data": {
            "text/plain": [
              "(1245, 7)"
            ]
          },
          "metadata": {},
          "execution_count": 8
        }
      ]
    },
    {
      "cell_type": "code",
      "source": [
        "data_train.isnull().sum()"
      ],
      "metadata": {
        "colab": {
          "base_uri": "https://localhost:8080/"
        },
        "id": "VvPkLLzKNA2K",
        "outputId": "68be2494-9d38-40fe-ab10-e1b4b79dc6db"
      },
      "execution_count": 9,
      "outputs": [
        {
          "output_type": "execute_result",
          "data": {
            "text/plain": [
              "Date         0\n",
              "Open         3\n",
              "High         3\n",
              "Low          3\n",
              "Close        3\n",
              "Adj_Close    3\n",
              "Volume       3\n",
              "dtype: int64"
            ]
          },
          "metadata": {},
          "execution_count": 9
        }
      ]
    },
    {
      "cell_type": "code",
      "source": [
        "data_train = data_train.dropna()\n",
        "data_train.isnull().sum()"
      ],
      "metadata": {
        "colab": {
          "base_uri": "https://localhost:8080/"
        },
        "id": "5m5k1jNSM6Dt",
        "outputId": "e8de4ff4-a613-4a7c-88cf-3be1365ec070"
      },
      "execution_count": 10,
      "outputs": [
        {
          "output_type": "execute_result",
          "data": {
            "text/plain": [
              "Date         0\n",
              "Open         0\n",
              "High         0\n",
              "Low          0\n",
              "Close        0\n",
              "Adj_Close    0\n",
              "Volume       0\n",
              "dtype: int64"
            ]
          },
          "metadata": {},
          "execution_count": 10
        }
      ]
    },
    {
      "cell_type": "code",
      "source": [
        "data_train.duplicated().sum()"
      ],
      "metadata": {
        "colab": {
          "base_uri": "https://localhost:8080/"
        },
        "id": "pPTUPocSNQdS",
        "outputId": "789f986d-647f-445c-c287-a5f695f74f0c"
      },
      "execution_count": 11,
      "outputs": [
        {
          "output_type": "execute_result",
          "data": {
            "text/plain": [
              "0"
            ]
          },
          "metadata": {},
          "execution_count": 11
        }
      ]
    },
    {
      "cell_type": "code",
      "source": [
        "data_test.isnull().sum()"
      ],
      "metadata": {
        "colab": {
          "base_uri": "https://localhost:8080/"
        },
        "id": "u3xyZkyeNUth",
        "outputId": "d8a0d156-56b9-4e21-996c-626f63748502"
      },
      "execution_count": 12,
      "outputs": [
        {
          "output_type": "execute_result",
          "data": {
            "text/plain": [
              "Date         0\n",
              "Open         0\n",
              "High         0\n",
              "Low          0\n",
              "Close        0\n",
              "Adj_Close    0\n",
              "Volume       0\n",
              "dtype: int64"
            ]
          },
          "metadata": {},
          "execution_count": 12
        }
      ]
    },
    {
      "cell_type": "code",
      "source": [
        "data_test.duplicated().sum()"
      ],
      "metadata": {
        "colab": {
          "base_uri": "https://localhost:8080/"
        },
        "id": "vRktVzDxNXfY",
        "outputId": "a158648f-9e4f-465c-d647-06f470da9892"
      },
      "execution_count": 13,
      "outputs": [
        {
          "output_type": "execute_result",
          "data": {
            "text/plain": [
              "0"
            ]
          },
          "metadata": {},
          "execution_count": 13
        }
      ]
    },
    {
      "cell_type": "code",
      "source": [
        "data_train.shape, data_test.shape"
      ],
      "metadata": {
        "colab": {
          "base_uri": "https://localhost:8080/"
        },
        "id": "JIzEBbI6NgEQ",
        "outputId": "9e2fb933-b248-4f79-bf68-b81a0f695c25"
      },
      "execution_count": 14,
      "outputs": [
        {
          "output_type": "execute_result",
          "data": {
            "text/plain": [
              "((1242, 7), (22, 7))"
            ]
          },
          "metadata": {},
          "execution_count": 14
        }
      ]
    },
    {
      "cell_type": "code",
      "source": [
        "base_train = data_train.iloc[:,1:2].values\n",
        "base_train"
      ],
      "metadata": {
        "colab": {
          "base_uri": "https://localhost:8080/"
        },
        "id": "zlG6VqZqNo4v",
        "outputId": "9104a9ae-5379-4d43-d7e1-d2729d6072fd"
      },
      "execution_count": 15,
      "outputs": [
        {
          "output_type": "execute_result",
          "data": {
            "text/plain": [
              "array([[19.99    ],\n",
              "       [19.809999],\n",
              "       [20.33    ],\n",
              "       ...,\n",
              "       [15.99    ],\n",
              "       [16.1     ],\n",
              "       [16.1     ]])"
            ]
          },
          "metadata": {},
          "execution_count": 15
        }
      ]
    },
    {
      "cell_type": "code",
      "source": [
        "type(base_train)"
      ],
      "metadata": {
        "colab": {
          "base_uri": "https://localhost:8080/"
        },
        "id": "1VRlwPsKN-12",
        "outputId": "141920b6-cfab-42d5-bee7-81cac3665a3b"
      },
      "execution_count": 16,
      "outputs": [
        {
          "output_type": "execute_result",
          "data": {
            "text/plain": [
              "numpy.ndarray"
            ]
          },
          "metadata": {},
          "execution_count": 16
        }
      ]
    },
    {
      "cell_type": "code",
      "source": [
        "base_train_norm = MinMaxScaler(feature_range=(0,1)).fit_transform(base_train)\n",
        "base_train_norm"
      ],
      "metadata": {
        "colab": {
          "base_uri": "https://localhost:8080/"
        },
        "id": "iQbrGzu7ONtH",
        "outputId": "d15010a3-1b1f-4440-ddaf-6b8cb928a74a"
      },
      "execution_count": 17,
      "outputs": [
        {
          "output_type": "execute_result",
          "data": {
            "text/plain": [
              "array([[0.76501938],\n",
              "       [0.7562984 ],\n",
              "       [0.78149225],\n",
              "       ...,\n",
              "       [0.57122093],\n",
              "       [0.57655039],\n",
              "       [0.57655039]])"
            ]
          },
          "metadata": {},
          "execution_count": 17
        }
      ]
    },
    {
      "cell_type": "code",
      "source": [
        "X, y = [], []\n",
        "for i in range(90, base_train_norm.shape[0]):\n",
        "    X.append(base_train_norm[i-90:i,0])\n",
        "    y.append(base_train_norm[i,0])\n",
        "X, y = np.array(X), np.array(y)"
      ],
      "metadata": {
        "id": "mnC0iIFfOncY"
      },
      "execution_count": 18,
      "outputs": []
    },
    {
      "cell_type": "code",
      "source": [
        "X[0]"
      ],
      "metadata": {
        "colab": {
          "base_uri": "https://localhost:8080/"
        },
        "id": "MvvEQ8eaPFF1",
        "outputId": "9f8d8f14-753b-44a8-b790-95faec6bc9c6"
      },
      "execution_count": 19,
      "outputs": [
        {
          "output_type": "execute_result",
          "data": {
            "text/plain": [
              "array([0.76501938, 0.7562984 , 0.78149225, 0.78875969, 0.77083338,\n",
              "       0.74806197, 0.75436047, 0.75823643, 0.76598837, 0.76598837,\n",
              "       0.76017437, 0.75872098, 0.75581391, 0.74467054, 0.7374031 ,\n",
              "       0.7374031 , 0.73498067, 0.75242248, 0.73401163, 0.71656977,\n",
              "       0.68120155, 0.67538755, 0.67635659, 0.63372098, 0.66521318,\n",
              "       0.65649225, 0.64680228, 0.66618222, 0.65843028, 0.64970935,\n",
              "       0.65116274, 0.66424419, 0.67344961, 0.64292631, 0.64486434,\n",
              "       0.62257747, 0.60949617, 0.60998067, 0.60852713, 0.59593023,\n",
              "       0.61143411, 0.60222863, 0.64922481, 0.68362398, 0.70687989,\n",
              "       0.68265509, 0.70978682, 0.70784879, 0.71608527, 0.73643411,\n",
              "       0.7122093 , 0.7122093 , 0.7194767 , 0.70348832, 0.69525189,\n",
              "       0.70397287, 0.70397287, 0.69767442, 0.68168605, 0.68168605,\n",
              "       0.65310078, 0.66618222, 0.64825581, 0.66182175, 0.64341085,\n",
              "       0.67877902, 0.69137592, 0.66569772, 0.65406982, 0.64292631,\n",
              "       0.64147292, 0.63565891, 0.67587209, 0.68653106, 0.70300383,\n",
              "       0.71996119, 0.73982553, 0.76550388, 0.74854651, 0.75823643,\n",
              "       0.78924419, 0.76598837, 0.78488372, 0.80184109, 0.77761628,\n",
              "       0.77325581, 0.7562984 , 0.74273261, 0.74127907, 0.74224806])"
            ]
          },
          "metadata": {},
          "execution_count": 19
        }
      ]
    },
    {
      "cell_type": "code",
      "source": [
        "y[0]"
      ],
      "metadata": {
        "colab": {
          "base_uri": "https://localhost:8080/"
        },
        "id": "fssKSeXtPkS3",
        "outputId": "83a7f7de-82fb-4478-d1f3-263e5cb0898c"
      },
      "execution_count": 20,
      "outputs": [
        {
          "output_type": "execute_result",
          "data": {
            "text/plain": [
              "0.7611434108527131"
            ]
          },
          "metadata": {},
          "execution_count": 20
        }
      ]
    },
    {
      "cell_type": "code",
      "source": [
        "X = torch.tensor(X, dtype=torch.float32)\n",
        "y = torch.tensor(y, dtype=torch.float32)\n",
        "type(X), type(y)"
      ],
      "metadata": {
        "colab": {
          "base_uri": "https://localhost:8080/"
        },
        "id": "tKDNG-RePl-F",
        "outputId": "5c82f00b-7876-4e40-ddb5-64396cdcd3dd"
      },
      "execution_count": 21,
      "outputs": [
        {
          "output_type": "execute_result",
          "data": {
            "text/plain": [
              "(torch.Tensor, torch.Tensor)"
            ]
          },
          "metadata": {},
          "execution_count": 21
        }
      ]
    },
    {
      "cell_type": "code",
      "source": [
        "dataset = torch.utils.data.TensorDataset(X, y)\n",
        "loader = torch.utils.data.DataLoader(dataset, batch_size=32, shuffle=True)"
      ],
      "metadata": {
        "id": "ho3vj0f3P4Zd"
      },
      "execution_count": 22,
      "outputs": []
    },
    {
      "cell_type": "markdown",
      "source": [
        "###Building Recorrent Neural Network"
      ],
      "metadata": {
        "id": "jQWpx-ZpQaRg"
      }
    },
    {
      "cell_type": "markdown",
      "source": [
        "### Training Model"
      ],
      "metadata": {
        "id": "EV650ng9H8l0"
      }
    },
    {
      "cell_type": "code",
      "metadata": {
        "id": "NPwFS6SScThE"
      },
      "source": [
        "class regressor_LSTM(nn.Module):\n",
        "  def __init__(self):\n",
        "    super().__init__()\n",
        "\n",
        "    self.lstm1 = nn.LSTM(input_size=1, hidden_size=100)\n",
        "    self.lstm2 = nn.LSTM(100, 50)\n",
        "    self.lstm3 = nn.LSTM(50, 50, dropout = 0.3, num_layers=2)\n",
        "    self.dropout = nn.Dropout(p = 0.3)\n",
        "    self.linear = nn.Linear(in_features=50, out_features=1)\n",
        "\n",
        "  def forward(self, X):\n",
        "    # (batch_size, timesteps) -> (timesteps, batch_size, dimensions)\n",
        "    X = X.permute(1, 0).unsqueeze(2)\n",
        "    X, _ = self.lstm1(X)\n",
        "    X = self.dropout(X)\n",
        "    X, _ = self.lstm2(X)\n",
        "    X = self.dropout(X)\n",
        "    X, _ = self.lstm3(X)\n",
        "\n",
        "    X = X[-1]\n",
        "    X = self.dropout(X)\n",
        "    X = self.linear(X)\n",
        "\n",
        "    return X"
      ],
      "execution_count": 23,
      "outputs": []
    },
    {
      "cell_type": "code",
      "metadata": {
        "id": "pJqCrc3cfLgg",
        "outputId": "384d13be-da08-4ab7-9be3-6faa44010586",
        "colab": {
          "base_uri": "https://localhost:8080/"
        }
      },
      "source": [
        "device = torch.device('cuda') if torch.cuda.is_available else torch.device('cpu')\n",
        "device"
      ],
      "execution_count": 24,
      "outputs": [
        {
          "output_type": "execute_result",
          "data": {
            "text/plain": [
              "device(type='cuda')"
            ]
          },
          "metadata": {},
          "execution_count": 24
        }
      ]
    },
    {
      "cell_type": "code",
      "metadata": {
        "id": "hShspfqhfUH5"
      },
      "source": [
        "regressor = regressor_LSTM()\n",
        "criterion = nn.MSELoss()\n",
        "optimizer = optim.RMSprop(regressor.parameters(), lr = 1e-3, alpha = 0.9)"
      ],
      "execution_count": 25,
      "outputs": []
    },
    {
      "cell_type": "code",
      "metadata": {
        "id": "-q2FbKBhffed",
        "outputId": "9a6745d7-fe0a-4993-96ca-a2b39f5ef351",
        "colab": {
          "base_uri": "https://localhost:8080/"
        }
      },
      "source": [
        "regressor.to(device)"
      ],
      "execution_count": 26,
      "outputs": [
        {
          "output_type": "execute_result",
          "data": {
            "text/plain": [
              "regressor_LSTM(\n",
              "  (lstm1): LSTM(1, 100)\n",
              "  (lstm2): LSTM(100, 50)\n",
              "  (lstm3): LSTM(50, 50, num_layers=2, dropout=0.3)\n",
              "  (dropout): Dropout(p=0.3, inplace=False)\n",
              "  (linear): Linear(in_features=50, out_features=1, bias=True)\n",
              ")"
            ]
          },
          "metadata": {},
          "execution_count": 26
        }
      ]
    },
    {
      "cell_type": "code",
      "metadata": {
        "id": "OxqnJdUsELbQ",
        "outputId": "211a0e36-149b-4dcb-e859-f4ceb97a2f24",
        "colab": {
          "base_uri": "https://localhost:8080/"
        }
      },
      "source": [
        "for epoch in range(100):\n",
        "    running_loss = 0.\n",
        "    running_mae = 0.\n",
        "          \n",
        "    for i, data in enumerate(loader):\n",
        "        inputs, labels = data\n",
        "        inputs, labels = inputs.to(device), labels.to(device)\n",
        "        \n",
        "        optimizer.zero_grad()\n",
        "        \n",
        "        outputs = regressor(inputs)\n",
        "        outputs = outputs.flatten()\n",
        "        \n",
        "        loss = criterion(outputs, labels)\n",
        "        loss.backward()\n",
        "        \n",
        "        optimizer.step()\n",
        "    \n",
        "        running_loss += loss.item()\n",
        "        \n",
        "        mae = mean_absolute_error(labels.detach().cpu().numpy().flatten(), \n",
        "                                  outputs.detach().cpu().numpy().flatten())\n",
        "        running_mae += mae\n",
        "        \n",
        "        \n",
        "        print('\\rEpoch {:3d} --- Loop {:3d} of {:3d}: Cost {:03.5f} - MAE {:03.5f}'.format(epoch+1, i+1, len(loader), loss, mae), end = '\\r')\n",
        "    \n",
        "    \n",
        "    running_loss /= len(loader)\n",
        "    running_mae /= len(loader)\n",
        "    print('Epoch {:3d} --- Cost {:03.6f} --- MAE {:03.6f}     '.format(epoch+1, running_loss, running_mae))"
      ],
      "execution_count": 27,
      "outputs": [
        {
          "output_type": "stream",
          "name": "stdout",
          "text": [
            "Epoch   1 --- Cost 0.046791 --- MAE 0.171083     \n",
            "Epoch   2 --- Cost 0.021545 --- MAE 0.118916     \n",
            "Epoch   3 --- Cost 0.012852 --- MAE 0.089161     \n",
            "Epoch   4 --- Cost 0.010328 --- MAE 0.080467     \n",
            "Epoch   5 --- Cost 0.008521 --- MAE 0.071649     \n",
            "Epoch   6 --- Cost 0.008312 --- MAE 0.070534     \n",
            "Epoch   7 --- Cost 0.006451 --- MAE 0.061912     \n",
            "Epoch   8 --- Cost 0.006205 --- MAE 0.060418     \n",
            "Epoch   9 --- Cost 0.005781 --- MAE 0.057182     \n",
            "Epoch  10 --- Cost 0.005540 --- MAE 0.058333     \n",
            "Epoch  11 --- Cost 0.005378 --- MAE 0.056875     \n",
            "Epoch  12 --- Cost 0.004767 --- MAE 0.053876     \n",
            "Epoch  13 --- Cost 0.005202 --- MAE 0.056387     \n",
            "Epoch  14 --- Cost 0.004291 --- MAE 0.050509     \n",
            "Epoch  15 --- Cost 0.003949 --- MAE 0.048547     \n",
            "Epoch  16 --- Cost 0.004217 --- MAE 0.051233     \n",
            "Epoch  17 --- Cost 0.003466 --- MAE 0.046464     \n",
            "Epoch  18 --- Cost 0.003957 --- MAE 0.048994     \n",
            "Epoch  19 --- Cost 0.003553 --- MAE 0.047272     \n",
            "Epoch  20 --- Cost 0.003564 --- MAE 0.045824     \n",
            "Epoch  21 --- Cost 0.003502 --- MAE 0.045330     \n",
            "Epoch  22 --- Cost 0.003220 --- MAE 0.043470     \n",
            "Epoch  23 --- Cost 0.002924 --- MAE 0.041748     \n",
            "Epoch  24 --- Cost 0.003119 --- MAE 0.043084     \n",
            "Epoch  25 --- Cost 0.003259 --- MAE 0.043343     \n",
            "Epoch  26 --- Cost 0.002782 --- MAE 0.040329     \n",
            "Epoch  27 --- Cost 0.003111 --- MAE 0.042436     \n",
            "Epoch  28 --- Cost 0.002783 --- MAE 0.040211     \n",
            "Epoch  29 --- Cost 0.002920 --- MAE 0.041379     \n",
            "Epoch  30 --- Cost 0.002620 --- MAE 0.039316     \n",
            "Epoch  31 --- Cost 0.002582 --- MAE 0.038762     \n",
            "Epoch  32 --- Cost 0.002678 --- MAE 0.039763     \n",
            "Epoch  33 --- Cost 0.002467 --- MAE 0.038293     \n",
            "Epoch  34 --- Cost 0.002306 --- MAE 0.037507     \n",
            "Epoch  35 --- Cost 0.002409 --- MAE 0.037630     \n",
            "Epoch  36 --- Cost 0.002174 --- MAE 0.035254     \n",
            "Epoch  37 --- Cost 0.002379 --- MAE 0.037509     \n",
            "Epoch  38 --- Cost 0.002046 --- MAE 0.034541     \n",
            "Epoch  39 --- Cost 0.002492 --- MAE 0.038187     \n",
            "Epoch  40 --- Cost 0.002306 --- MAE 0.037441     \n",
            "Epoch  41 --- Cost 0.002280 --- MAE 0.036762     \n",
            "Epoch  42 --- Cost 0.002204 --- MAE 0.036032     \n",
            "Epoch  43 --- Cost 0.002029 --- MAE 0.034649     \n",
            "Epoch  44 --- Cost 0.002066 --- MAE 0.034553     \n",
            "Epoch  45 --- Cost 0.001932 --- MAE 0.033624     \n",
            "Epoch  46 --- Cost 0.002011 --- MAE 0.034910     \n",
            "Epoch  47 --- Cost 0.002252 --- MAE 0.035609     \n",
            "Epoch  48 --- Cost 0.002256 --- MAE 0.035628     \n",
            "Epoch  49 --- Cost 0.001853 --- MAE 0.033444     \n",
            "Epoch  50 --- Cost 0.001934 --- MAE 0.034360     \n",
            "Epoch  51 --- Cost 0.002173 --- MAE 0.035219     \n",
            "Epoch  52 --- Cost 0.001800 --- MAE 0.032295     \n",
            "Epoch  53 --- Cost 0.001848 --- MAE 0.032035     \n",
            "Epoch  54 --- Cost 0.001885 --- MAE 0.032813     \n",
            "Epoch  55 --- Cost 0.002103 --- MAE 0.035176     \n",
            "Epoch  56 --- Cost 0.002038 --- MAE 0.034670     \n",
            "Epoch  57 --- Cost 0.001829 --- MAE 0.032583     \n",
            "Epoch  58 --- Cost 0.001729 --- MAE 0.030694     \n",
            "Epoch  59 --- Cost 0.001952 --- MAE 0.032793     \n",
            "Epoch  60 --- Cost 0.001745 --- MAE 0.031690     \n",
            "Epoch  61 --- Cost 0.001856 --- MAE 0.032367     \n",
            "Epoch  62 --- Cost 0.001774 --- MAE 0.031626     \n",
            "Epoch  63 --- Cost 0.001815 --- MAE 0.031696     \n",
            "Epoch  64 --- Cost 0.001738 --- MAE 0.031662     \n",
            "Epoch  65 --- Cost 0.001731 --- MAE 0.031192     \n",
            "Epoch  66 --- Cost 0.001711 --- MAE 0.031005     \n",
            "Epoch  67 --- Cost 0.001701 --- MAE 0.031016     \n",
            "Epoch  68 --- Cost 0.001716 --- MAE 0.031441     \n",
            "Epoch  69 --- Cost 0.001731 --- MAE 0.031382     \n",
            "Epoch  70 --- Cost 0.001654 --- MAE 0.030041     \n",
            "Epoch  71 --- Cost 0.001785 --- MAE 0.031237     \n",
            "Epoch  72 --- Cost 0.001557 --- MAE 0.030043     \n",
            "Epoch  73 --- Cost 0.001644 --- MAE 0.030477     \n",
            "Epoch  74 --- Cost 0.001694 --- MAE 0.031096     \n",
            "Epoch  75 --- Cost 0.001571 --- MAE 0.029890     \n",
            "Epoch  76 --- Cost 0.001513 --- MAE 0.029637     \n",
            "Epoch  77 --- Cost 0.001616 --- MAE 0.030397     \n",
            "Epoch  78 --- Cost 0.001648 --- MAE 0.030680     \n",
            "Epoch  79 --- Cost 0.001528 --- MAE 0.029615     \n",
            "Epoch  80 --- Cost 0.001597 --- MAE 0.029575     \n",
            "Epoch  81 --- Cost 0.001599 --- MAE 0.030557     \n",
            "Epoch  82 --- Cost 0.001602 --- MAE 0.030286     \n",
            "Epoch  83 --- Cost 0.001553 --- MAE 0.029877     \n",
            "Epoch  84 --- Cost 0.001503 --- MAE 0.028767     \n",
            "Epoch  85 --- Cost 0.001642 --- MAE 0.029977     \n",
            "Epoch  86 --- Cost 0.001524 --- MAE 0.029556     \n",
            "Epoch  87 --- Cost 0.001635 --- MAE 0.030239     \n",
            "Epoch  88 --- Cost 0.001531 --- MAE 0.029243     \n",
            "Epoch  89 --- Cost 0.001339 --- MAE 0.027488     \n",
            "Epoch  90 --- Cost 0.001312 --- MAE 0.027440     \n",
            "Epoch  91 --- Cost 0.001568 --- MAE 0.029913     \n",
            "Epoch  92 --- Cost 0.001430 --- MAE 0.028203     \n",
            "Epoch  93 --- Cost 0.001400 --- MAE 0.028459     \n",
            "Epoch  94 --- Cost 0.001425 --- MAE 0.028256     \n",
            "Epoch  95 --- Cost 0.001515 --- MAE 0.029484     \n",
            "Epoch  96 --- Cost 0.001542 --- MAE 0.029001     \n",
            "Epoch  97 --- Cost 0.001366 --- MAE 0.027446     \n",
            "Epoch  98 --- Cost 0.001434 --- MAE 0.027649     \n",
            "Epoch  99 --- Cost 0.001417 --- MAE 0.028055     \n",
            "Epoch 100 --- Cost 0.001555 --- MAE 0.028830     \n"
          ]
        }
      ]
    },
    {
      "cell_type": "markdown",
      "source": [
        "###Test data preparation"
      ],
      "metadata": {
        "id": "cbpvANwujeNZ"
      }
    },
    {
      "cell_type": "code",
      "source": [
        "norm = MinMaxScaler(feature_range=(0,1))"
      ],
      "metadata": {
        "id": "0nvZ3WgHnNaB"
      },
      "execution_count": 28,
      "outputs": []
    },
    {
      "cell_type": "code",
      "source": [
        "data_test.shape"
      ],
      "metadata": {
        "id": "iRM_v2SpNb7x",
        "colab": {
          "base_uri": "https://localhost:8080/"
        },
        "outputId": "5496a38c-d01b-4450-b97e-a579ec8a247b"
      },
      "execution_count": 29,
      "outputs": [
        {
          "output_type": "execute_result",
          "data": {
            "text/plain": [
              "(22, 7)"
            ]
          },
          "metadata": {},
          "execution_count": 29
        }
      ]
    },
    {
      "cell_type": "code",
      "source": [
        "test_price = data_test.iloc[:,1]\n",
        "test_price.shape"
      ],
      "metadata": {
        "colab": {
          "base_uri": "https://localhost:8080/"
        },
        "id": "MOEaOjbOjrLK",
        "outputId": "57a1f3c9-e0e0-421b-b4b8-edc37c790c2e"
      },
      "execution_count": 30,
      "outputs": [
        {
          "output_type": "execute_result",
          "data": {
            "text/plain": [
              "(22,)"
            ]
          },
          "metadata": {},
          "execution_count": 30
        }
      ]
    },
    {
      "cell_type": "code",
      "source": [
        "dataset = pd.concat((data_train.Open, data_test.Open), axis=0)\n",
        "dataset.shape"
      ],
      "metadata": {
        "colab": {
          "base_uri": "https://localhost:8080/"
        },
        "id": "6qrWa2jQj4yv",
        "outputId": "3abef660-b9e7-4442-f6f9-d948a7a11f84"
      },
      "execution_count": 31,
      "outputs": [
        {
          "output_type": "execute_result",
          "data": {
            "text/plain": [
              "(1264,)"
            ]
          },
          "metadata": {},
          "execution_count": 31
        }
      ]
    },
    {
      "cell_type": "code",
      "source": [
        "inputs = dataset[len(dataset) - len(data_test)- 90:].values.reshape(-1,1)\n",
        "inputs = norm.fit_transform(inputs)\n",
        "inputs.shape"
      ],
      "metadata": {
        "colab": {
          "base_uri": "https://localhost:8080/"
        },
        "id": "jplDLYeekb-M",
        "outputId": "1df03b27-f81a-4ce7-e354-d5583d031ea3"
      },
      "execution_count": 32,
      "outputs": [
        {
          "output_type": "execute_result",
          "data": {
            "text/plain": [
              "(112, 1)"
            ]
          },
          "metadata": {},
          "execution_count": 32
        }
      ]
    },
    {
      "cell_type": "code",
      "source": [
        "X_test = []\n",
        "for i in range(90, 112):\n",
        "    X_test.append(inputs[i-90:i,0])   \n",
        "\n",
        "X_test = np.array(X_test)"
      ],
      "metadata": {
        "id": "tlWL71p8k_v-"
      },
      "execution_count": 33,
      "outputs": []
    },
    {
      "cell_type": "code",
      "source": [
        "X_test = torch.tensor(X_test, device=device, dtype=torch.float32)"
      ],
      "metadata": {
        "id": "2UPX6Tr5mGHb"
      },
      "execution_count": 34,
      "outputs": []
    },
    {
      "cell_type": "markdown",
      "source": [
        "###Prediction"
      ],
      "metadata": {
        "id": "ht6lpzDkmt4m"
      }
    },
    {
      "cell_type": "code",
      "source": [
        "regressor.eval()\n",
        "predict = regressor.forward(X_test)"
      ],
      "metadata": {
        "id": "GSbVY-47mT4V"
      },
      "execution_count": 35,
      "outputs": []
    },
    {
      "cell_type": "code",
      "source": [
        "predict = predict.detach().cpu().numpy().reshape(-1,1)\n",
        "predict = norm.inverse_transform(predict)"
      ],
      "metadata": {
        "id": "rQgUkxQcnWh9"
      },
      "execution_count": 36,
      "outputs": []
    },
    {
      "cell_type": "code",
      "source": [
        "# checking test and predict value\n",
        "predict.mean(), test_price.mean()"
      ],
      "metadata": {
        "colab": {
          "base_uri": "https://localhost:8080/"
        },
        "id": "8l28imdwo5UZ",
        "outputId": "7ce8a369-81e6-40d5-da9f-a48cf5e536bc"
      },
      "execution_count": 37,
      "outputs": [
        {
          "output_type": "execute_result",
          "data": {
            "text/plain": [
              "(17.45066, 17.87454563636364)"
            ]
          },
          "metadata": {},
          "execution_count": 37
        }
      ]
    },
    {
      "cell_type": "code",
      "source": [
        "print(f\"Accuracy Model = {round(predict.mean() / test_price.mean() *100,3)}%\")"
      ],
      "metadata": {
        "colab": {
          "base_uri": "https://localhost:8080/"
        },
        "id": "pw4ub2qIpTv5",
        "outputId": "ab8c46c0-bb3c-4558-9253-5cd1cd6dcd5f"
      },
      "execution_count": 38,
      "outputs": [
        {
          "output_type": "stream",
          "name": "stdout",
          "text": [
            "Accuracy Model = 97.629%\n"
          ]
        }
      ]
    },
    {
      "cell_type": "code",
      "source": [
        "plt.plot(test_price, color='red', label='Real Price')\n",
        "plt.plot(predict, color='blue', label='Prediction')\n",
        "plt.title('Predict Values')\n",
        "plt.xlabel('Time')\n",
        "plt.ylabel('Value')\n",
        "plt.legend();"
      ],
      "metadata": {
        "colab": {
          "base_uri": "https://localhost:8080/",
          "height": 295
        },
        "id": "MnAANzb5pmef",
        "outputId": "27cd43f4-a9d3-4163-cc94-139e926c86fc"
      },
      "execution_count": 39,
      "outputs": [
        {
          "output_type": "display_data",
          "data": {
            "text/plain": [
              "<Figure size 432x288 with 1 Axes>"
            ],
            "image/png": "[encoded data removed]"
          },
          "metadata": {
            "needs_background": "light"
          }
        }
      ]
    },
    {
      "cell_type": "code",
      "source": [
        "base_train = data_train.iloc[:,1:7].values\n",
        "base_test = data_test.iloc[:,1:7].values\n",
        "base_train.shape, base_test.shape"
      ],
      "metadata": {
        "colab": {
          "base_uri": "https://localhost:8080/"
        },
        "id": "tLXRYudiqmIk",
        "outputId": "0a473fab-30ac-4088-9a21-932c93a768b6"
      },
      "execution_count": 85,
      "outputs": [
        {
          "output_type": "execute_result",
          "data": {
            "text/plain": [
              "((1242, 6), (22, 6))"
            ]
          },
          "metadata": {},
          "execution_count": 85
        }
      ]
    },
    {
      "cell_type": "code",
      "source": [
        "base_train_norm = norm.fit_transform(base_train)"
      ],
      "metadata": {
        "id": "P10asRz0wxj4"
      },
      "execution_count": 86,
      "outputs": []
    },
    {
      "cell_type": "code",
      "source": [
        "X, y = [], []\n",
        "for i in range(90, base_train_norm.shape[0]):\n",
        "    X.append(base_train_norm[i-90:i,0:6])\n",
        "    y.append(base_train_norm[i,0])\n",
        "X, y = np.array(X), np.array(y)\n",
        "\n",
        "X = torch.tensor(X, dtype=torch.float32)\n",
        "y = torch.tensor(y, dtype=torch.float32)\n",
        "type(X), type(y)"
      ],
      "metadata": {
        "colab": {
          "base_uri": "https://localhost:8080/"
        },
        "id": "89eQHnesxKHJ",
        "outputId": "5a141a17-711a-4dd7-e9fe-06faaced2f76"
      },
      "execution_count": 87,
      "outputs": [
        {
          "output_type": "execute_result",
          "data": {
            "text/plain": [
              "(torch.Tensor, torch.Tensor)"
            ]
          },
          "metadata": {},
          "execution_count": 87
        }
      ]
    },
    {
      "cell_type": "code",
      "source": [
        "dataset = torch.utils.data.TensorDataset(X, y)\n",
        "loader = torch.utils.data.DataLoader(dataset, batch_size=32, shuffle=True)"
      ],
      "metadata": {
        "id": "buXeQ7T1xhgB"
      },
      "execution_count": 88,
      "outputs": []
    },
    {
      "cell_type": "code",
      "metadata": {
        "id": "VrFGMM3Qiboh"
      },
      "source": [
        "class regressor_LSTM(nn.Module):\n",
        "    def __init__(self):\n",
        "        super().__init__()\n",
        "        \n",
        "        # O primeiro input_size é o número de dimensões que cada dado tem em \n",
        "        # cada timestep. Nesse caso, são 6 dimensões, uma para cada variável.\n",
        "        self.lstm1 = nn.LSTM(input_size = 6, hidden_size = 100)\n",
        "        self.lstm2 = nn.LSTM(100, 50)\n",
        "        self.lstm3 = nn.LSTM(50, 50, dropout = 0.3, num_layers = 2)\n",
        "        self.dropout = nn.Dropout(p = 0.3)\n",
        "        self.linear = nn.Linear(in_features = 50, out_features = 1)\n",
        "        self.sigmoid = nn.Sigmoid()\n",
        "        \n",
        "    def forward(self, X):\n",
        "        \n",
        "        X = X.permute(1, 0, 2)\n",
        "        X, _ = self.lstm1(X)\n",
        "        X = self.dropout(X)\n",
        "        X, _ = self.lstm2(X)\n",
        "        X = self.dropout(X)\n",
        "        X, _ = self.lstm3(X)\n",
        "        \n",
        "        X = X[-1]\n",
        "        X = self.dropout(X)\n",
        "        X = self.linear(X)\n",
        "        X = self.sigmoid(X)\n",
        "       \n",
        "        return X"
      ],
      "execution_count": 89,
      "outputs": []
    },
    {
      "cell_type": "code",
      "metadata": {
        "id": "yY9lDtY8BqnE",
        "colab": {
          "base_uri": "https://localhost:8080/"
        },
        "outputId": "be3391c4-b3a3-4080-bb90-39a9845a245c"
      },
      "source": [
        "device = torch.device('cuda') if torch.cuda.is_available() else torch.device('cpu')\n",
        "device"
      ],
      "execution_count": 90,
      "outputs": [
        {
          "output_type": "execute_result",
          "data": {
            "text/plain": [
              "device(type='cuda')"
            ]
          },
          "metadata": {},
          "execution_count": 90
        }
      ]
    },
    {
      "cell_type": "code",
      "metadata": {
        "id": "-FnosQO7BspO"
      },
      "source": [
        "regressor = regressor_LSTM()\n",
        "criterion = nn.MSELoss()\n",
        "optimizer = optim.Adam(regressor.parameters())"
      ],
      "execution_count": 91,
      "outputs": []
    },
    {
      "cell_type": "code",
      "metadata": {
        "id": "X-YnfblQBxKG",
        "colab": {
          "base_uri": "https://localhost:8080/"
        },
        "outputId": "bdf1979f-48e2-41c9-c5e0-141defeb150f"
      },
      "source": [
        "regressor.to(device)"
      ],
      "execution_count": 92,
      "outputs": [
        {
          "output_type": "execute_result",
          "data": {
            "text/plain": [
              "regressor_LSTM(\n",
              "  (lstm1): LSTM(6, 100)\n",
              "  (lstm2): LSTM(100, 50)\n",
              "  (lstm3): LSTM(50, 50, num_layers=2, dropout=0.3)\n",
              "  (dropout): Dropout(p=0.3, inplace=False)\n",
              "  (linear): Linear(in_features=50, out_features=1, bias=True)\n",
              "  (sigmoid): Sigmoid()\n",
              ")"
            ]
          },
          "metadata": {},
          "execution_count": 92
        }
      ]
    },
    {
      "cell_type": "code",
      "metadata": {
        "id": "PlpY0oS0x3Xi"
      },
      "source": [
        "# Variáveis para o callback\n",
        "ES_MIN_DELTA = 1e-10\n",
        "ES_PATIENCE = 10\n",
        "RLR_FACTOR = 0.2\n",
        "RLR_PATIENCE = 5\n",
        "\n",
        "# Inicializando o custo inicial para usar nos callbacks\n",
        "min_loss = np.inf"
      ],
      "execution_count": 93,
      "outputs": []
    },
    {
      "cell_type": "code",
      "metadata": {
        "id": "lpE6Y3piyD3n",
        "colab": {
          "base_uri": "https://localhost:8080/"
        },
        "outputId": "e4409e68-3be2-416c-fecf-33a752a78e57"
      },
      "source": [
        "for epoch in range(200):\n",
        "    running_loss = 0.\n",
        "    running_mae = 0.\n",
        "          \n",
        "    for i, data in enumerate(loader):\n",
        "        inputs, labels = data\n",
        "        inputs, labels = inputs.to(device), labels.to(device)\n",
        "        \n",
        "        optimizer.zero_grad()\n",
        "        \n",
        "        outputs = regressor(inputs)\n",
        "        outputs = outputs.flatten()\n",
        "        \n",
        "        loss = criterion(outputs, labels)\n",
        "        loss.backward()\n",
        "        \n",
        "        optimizer.step()\n",
        "    \n",
        "        running_loss += loss.item()\n",
        "        mae = mean_absolute_error(labels.detach().cpu().numpy().flatten(), \n",
        "                                  outputs.detach().cpu().numpy().flatten())\n",
        "        running_mae += mae\n",
        "        \n",
        "        # Imprimindo os dados referentes a esse loop \n",
        "        print('\\rÉpoca {:3d} - Loop {:3d} de {:3d}: custo {:03.5f} - MAE {:03.5f}'.format(epoch+1, i+1, len(loader), loss, mae), end = '\\r')\n",
        "    \n",
        "    # Imprimindo os dados referentes a essa época\n",
        "    running_loss /= len(loader)\n",
        "    running_mae /= len(loader)\n",
        "    print('ÉPOCA {:3d} finalizada: custo {:03.6f} - MAE {:03.6f}     '.format(epoch+1, running_loss, running_mae))\n",
        "    \n",
        "    # CALLBACKS\n",
        "    \n",
        "    # Salvar o modelo\n",
        "    \n",
        "    if running_loss < min_loss:\n",
        "        print('**Custo reduzido de {:03.6f} para {:03.6f} ... salvando checkpoint'.format(min_loss, running_loss))\n",
        "        torch.save(regressor.state_dict(), 'checkpoint.pth')\n",
        "        min_loss = running_loss\n",
        "        es_patience = 0\n",
        "        rlr_patience = 0\n",
        "    else:\n",
        "        print('**Custo não reduziu, não salvando checkpoint')\n",
        "        \n",
        "        # Os demais parâmetros só serão considerados se o custo não tiver \n",
        "               \n",
        "        # Parada antecipada\n",
        "        if running_loss - min_loss >= ES_MIN_DELTA:\n",
        "            es_patience += 1\n",
        "            if es_patience == ES_PATIENCE:\n",
        "                print('--Critério de parada antecipada alcançado, parando o treinamento.')\n",
        "                break\n",
        "            \n",
        "        # Reduzir a taxa de aprendizagem\n",
        "        rlr_patience += 1\n",
        "        if rlr_patience == RLR_PATIENCE:\n",
        "            print('--Critério de redução de taxa de aprendizagem alcançado, reduzindo LR.')\n",
        "            for param_group in optimizer.param_groups:\n",
        "                param_group['lr'] *= RLR_FACTOR\n",
        "            rlr_patience = 0\n"
      ],
      "execution_count": 94,
      "outputs": [
        {
          "output_type": "stream",
          "name": "stdout",
          "text": [
            "ÉPOCA   1 finalizada: custo 0.026922 - MAE 0.125950     \n",
            "**Custo reduzido de inf para 0.026922 ... salvando checkpoint\n",
            "ÉPOCA   2 finalizada: custo 0.004392 - MAE 0.050660     \n",
            "**Custo reduzido de 0.026922 para 0.004392 ... salvando checkpoint\n",
            "ÉPOCA   3 finalizada: custo 0.003104 - MAE 0.043129     \n",
            "**Custo reduzido de 0.004392 para 0.003104 ... salvando checkpoint\n",
            "ÉPOCA   4 finalizada: custo 0.002607 - MAE 0.038947     \n",
            "**Custo reduzido de 0.003104 para 0.002607 ... salvando checkpoint\n",
            "ÉPOCA   5 finalizada: custo 0.002544 - MAE 0.038070     \n",
            "**Custo reduzido de 0.002607 para 0.002544 ... salvando checkpoint\n",
            "ÉPOCA   6 finalizada: custo 0.002421 - MAE 0.037160     \n",
            "**Custo reduzido de 0.002544 para 0.002421 ... salvando checkpoint\n",
            "ÉPOCA   7 finalizada: custo 0.002236 - MAE 0.036074     \n",
            "**Custo reduzido de 0.002421 para 0.002236 ... salvando checkpoint\n",
            "ÉPOCA   8 finalizada: custo 0.001999 - MAE 0.034244     \n",
            "**Custo reduzido de 0.002236 para 0.001999 ... salvando checkpoint\n",
            "ÉPOCA   9 finalizada: custo 0.002298 - MAE 0.036312     \n",
            "**Custo não reduziu, não salvando checkpoint\n",
            "ÉPOCA  10 finalizada: custo 0.002200 - MAE 0.035751     \n",
            "**Custo não reduziu, não salvando checkpoint\n",
            "ÉPOCA  11 finalizada: custo 0.001770 - MAE 0.031556     \n",
            "**Custo reduzido de 0.001999 para 0.001770 ... salvando checkpoint\n",
            "ÉPOCA  12 finalizada: custo 0.001710 - MAE 0.031420     \n",
            "**Custo reduzido de 0.001770 para 0.001710 ... salvando checkpoint\n",
            "ÉPOCA  13 finalizada: custo 0.001666 - MAE 0.031003     \n",
            "**Custo reduzido de 0.001710 para 0.001666 ... salvando checkpoint\n",
            "ÉPOCA  14 finalizada: custo 0.001633 - MAE 0.030364     \n",
            "**Custo reduzido de 0.001666 para 0.001633 ... salvando checkpoint\n",
            "ÉPOCA  15 finalizada: custo 0.001632 - MAE 0.030342     \n",
            "**Custo reduzido de 0.001633 para 0.001632 ... salvando checkpoint\n",
            "ÉPOCA  16 finalizada: custo 0.001446 - MAE 0.028887     \n",
            "**Custo reduzido de 0.001632 para 0.001446 ... salvando checkpoint\n",
            "ÉPOCA  17 finalizada: custo 0.001599 - MAE 0.030504     \n",
            "**Custo não reduziu, não salvando checkpoint\n",
            "ÉPOCA  18 finalizada: custo 0.001530 - MAE 0.029126     \n",
            "**Custo não reduziu, não salvando checkpoint\n",
            "ÉPOCA  19 finalizada: custo 0.001547 - MAE 0.029094     \n",
            "**Custo não reduziu, não salvando checkpoint\n",
            "ÉPOCA  20 finalizada: custo 0.001261 - MAE 0.026745     \n",
            "**Custo reduzido de 0.001446 para 0.001261 ... salvando checkpoint\n",
            "ÉPOCA  21 finalizada: custo 0.001407 - MAE 0.028056     \n",
            "**Custo não reduziu, não salvando checkpoint\n",
            "ÉPOCA  22 finalizada: custo 0.001325 - MAE 0.027396     \n",
            "**Custo não reduziu, não salvando checkpoint\n",
            "ÉPOCA  23 finalizada: custo 0.001265 - MAE 0.026728     \n",
            "**Custo não reduziu, não salvando checkpoint\n",
            "ÉPOCA  24 finalizada: custo 0.001182 - MAE 0.025747     \n",
            "**Custo reduzido de 0.001261 para 0.001182 ... salvando checkpoint\n",
            "ÉPOCA  25 finalizada: custo 0.001268 - MAE 0.026681     \n",
            "**Custo não reduziu, não salvando checkpoint\n",
            "ÉPOCA  26 finalizada: custo 0.001194 - MAE 0.025699     \n",
            "**Custo não reduziu, não salvando checkpoint\n",
            "ÉPOCA  27 finalizada: custo 0.001162 - MAE 0.025422     \n",
            "**Custo reduzido de 0.001182 para 0.001162 ... salvando checkpoint\n",
            "ÉPOCA  28 finalizada: custo 0.001159 - MAE 0.025267     \n",
            "**Custo reduzido de 0.001162 para 0.001159 ... salvando checkpoint\n",
            "ÉPOCA  29 finalizada: custo 0.001161 - MAE 0.025764     \n",
            "**Custo não reduziu, não salvando checkpoint\n",
            "ÉPOCA  30 finalizada: custo 0.001073 - MAE 0.024568     \n",
            "**Custo reduzido de 0.001159 para 0.001073 ... salvando checkpoint\n",
            "ÉPOCA  31 finalizada: custo 0.001094 - MAE 0.024969     \n",
            "**Custo não reduziu, não salvando checkpoint\n",
            "ÉPOCA  32 finalizada: custo 0.001252 - MAE 0.027115     \n",
            "**Custo não reduziu, não salvando checkpoint\n",
            "ÉPOCA  33 finalizada: custo 0.001077 - MAE 0.024770     \n",
            "**Custo não reduziu, não salvando checkpoint\n",
            "ÉPOCA  34 finalizada: custo 0.000967 - MAE 0.023172     \n",
            "**Custo reduzido de 0.001073 para 0.000967 ... salvando checkpoint\n",
            "ÉPOCA  35 finalizada: custo 0.001009 - MAE 0.023907     \n",
            "**Custo não reduziu, não salvando checkpoint\n",
            "ÉPOCA  36 finalizada: custo 0.001038 - MAE 0.024025     \n",
            "**Custo não reduziu, não salvando checkpoint\n",
            "ÉPOCA  37 finalizada: custo 0.001078 - MAE 0.024325     \n",
            "**Custo não reduziu, não salvando checkpoint\n",
            "ÉPOCA  38 finalizada: custo 0.000962 - MAE 0.023544     \n",
            "**Custo reduzido de 0.000967 para 0.000962 ... salvando checkpoint\n",
            "ÉPOCA  39 finalizada: custo 0.000945 - MAE 0.022517     \n",
            "**Custo reduzido de 0.000962 para 0.000945 ... salvando checkpoint\n",
            "ÉPOCA  40 finalizada: custo 0.000913 - MAE 0.022233     \n",
            "**Custo reduzido de 0.000945 para 0.000913 ... salvando checkpoint\n",
            "ÉPOCA  41 finalizada: custo 0.001096 - MAE 0.025299     \n",
            "**Custo não reduziu, não salvando checkpoint\n",
            "ÉPOCA  42 finalizada: custo 0.001014 - MAE 0.023428     \n",
            "**Custo não reduziu, não salvando checkpoint\n",
            "ÉPOCA  43 finalizada: custo 0.000994 - MAE 0.023322     \n",
            "**Custo não reduziu, não salvando checkpoint\n",
            "ÉPOCA  44 finalizada: custo 0.000956 - MAE 0.022663     \n",
            "**Custo não reduziu, não salvando checkpoint\n",
            "ÉPOCA  45 finalizada: custo 0.000912 - MAE 0.022344     \n",
            "**Custo reduzido de 0.000913 para 0.000912 ... salvando checkpoint\n",
            "ÉPOCA  46 finalizada: custo 0.000929 - MAE 0.022478     \n",
            "**Custo não reduziu, não salvando checkpoint\n",
            "ÉPOCA  47 finalizada: custo 0.000886 - MAE 0.022589     \n",
            "**Custo reduzido de 0.000912 para 0.000886 ... salvando checkpoint\n",
            "ÉPOCA  48 finalizada: custo 0.000954 - MAE 0.023061     \n",
            "**Custo não reduziu, não salvando checkpoint\n",
            "ÉPOCA  49 finalizada: custo 0.000874 - MAE 0.022240     \n",
            "**Custo reduzido de 0.000886 para 0.000874 ... salvando checkpoint\n",
            "ÉPOCA  50 finalizada: custo 0.000856 - MAE 0.021704     \n",
            "**Custo reduzido de 0.000874 para 0.000856 ... salvando checkpoint\n",
            "ÉPOCA  51 finalizada: custo 0.000819 - MAE 0.021192     \n",
            "**Custo reduzido de 0.000856 para 0.000819 ... salvando checkpoint\n",
            "ÉPOCA  52 finalizada: custo 0.000834 - MAE 0.021585     \n",
            "**Custo não reduziu, não salvando checkpoint\n",
            "ÉPOCA  53 finalizada: custo 0.000709 - MAE 0.019699     \n",
            "**Custo reduzido de 0.000819 para 0.000709 ... salvando checkpoint\n",
            "ÉPOCA  54 finalizada: custo 0.000770 - MAE 0.020477     \n",
            "**Custo não reduziu, não salvando checkpoint\n",
            "ÉPOCA  55 finalizada: custo 0.000806 - MAE 0.020789     \n",
            "**Custo não reduziu, não salvando checkpoint\n",
            "ÉPOCA  56 finalizada: custo 0.000727 - MAE 0.019652     \n",
            "**Custo não reduziu, não salvando checkpoint\n",
            "ÉPOCA  57 finalizada: custo 0.000800 - MAE 0.021269     \n",
            "**Custo não reduziu, não salvando checkpoint\n",
            "ÉPOCA  58 finalizada: custo 0.000763 - MAE 0.020161     \n",
            "**Custo não reduziu, não salvando checkpoint\n",
            "--Critério de redução de taxa de aprendizagem alcançado, reduzindo LR.\n",
            "ÉPOCA  59 finalizada: custo 0.000674 - MAE 0.019142     \n",
            "**Custo reduzido de 0.000709 para 0.000674 ... salvando checkpoint\n",
            "ÉPOCA  60 finalizada: custo 0.000743 - MAE 0.019587     \n",
            "**Custo não reduziu, não salvando checkpoint\n",
            "ÉPOCA  61 finalizada: custo 0.000703 - MAE 0.019701     \n",
            "**Custo não reduziu, não salvando checkpoint\n",
            "ÉPOCA  62 finalizada: custo 0.000664 - MAE 0.018982     \n",
            "**Custo reduzido de 0.000674 para 0.000664 ... salvando checkpoint\n",
            "ÉPOCA  63 finalizada: custo 0.000663 - MAE 0.019183     \n",
            "**Custo reduzido de 0.000664 para 0.000663 ... salvando checkpoint\n",
            "ÉPOCA  64 finalizada: custo 0.000684 - MAE 0.018622     \n",
            "**Custo não reduziu, não salvando checkpoint\n",
            "ÉPOCA  65 finalizada: custo 0.000692 - MAE 0.019235     \n",
            "**Custo não reduziu, não salvando checkpoint\n",
            "ÉPOCA  66 finalizada: custo 0.000669 - MAE 0.018365     \n",
            "**Custo não reduziu, não salvando checkpoint\n",
            "ÉPOCA  67 finalizada: custo 0.000611 - MAE 0.018414     \n",
            "**Custo reduzido de 0.000663 para 0.000611 ... salvando checkpoint\n",
            "ÉPOCA  68 finalizada: custo 0.000596 - MAE 0.018264     \n",
            "**Custo reduzido de 0.000611 para 0.000596 ... salvando checkpoint\n",
            "ÉPOCA  69 finalizada: custo 0.000641 - MAE 0.018533     \n",
            "**Custo não reduziu, não salvando checkpoint\n",
            "ÉPOCA  70 finalizada: custo 0.000642 - MAE 0.018340     \n",
            "**Custo não reduziu, não salvando checkpoint\n",
            "ÉPOCA  71 finalizada: custo 0.000671 - MAE 0.018762     \n",
            "**Custo não reduziu, não salvando checkpoint\n",
            "ÉPOCA  72 finalizada: custo 0.000612 - MAE 0.017762     \n",
            "**Custo não reduziu, não salvando checkpoint\n",
            "ÉPOCA  73 finalizada: custo 0.000615 - MAE 0.018330     \n",
            "**Custo não reduziu, não salvando checkpoint\n",
            "--Critério de redução de taxa de aprendizagem alcançado, reduzindo LR.\n",
            "ÉPOCA  74 finalizada: custo 0.000638 - MAE 0.018261     \n",
            "**Custo não reduziu, não salvando checkpoint\n",
            "ÉPOCA  75 finalizada: custo 0.000598 - MAE 0.017816     \n",
            "**Custo não reduziu, não salvando checkpoint\n",
            "ÉPOCA  76 finalizada: custo 0.000632 - MAE 0.018356     \n",
            "**Custo não reduziu, não salvando checkpoint\n",
            "ÉPOCA  77 finalizada: custo 0.000591 - MAE 0.017540     \n",
            "**Custo reduzido de 0.000596 para 0.000591 ... salvando checkpoint\n",
            "ÉPOCA  78 finalizada: custo 0.000663 - MAE 0.018589     \n",
            "**Custo não reduziu, não salvando checkpoint\n",
            "ÉPOCA  79 finalizada: custo 0.000623 - MAE 0.017952     \n",
            "**Custo não reduziu, não salvando checkpoint\n",
            "ÉPOCA  80 finalizada: custo 0.000662 - MAE 0.018490     \n",
            "**Custo não reduziu, não salvando checkpoint\n",
            "ÉPOCA  81 finalizada: custo 0.000626 - MAE 0.018402     \n",
            "**Custo não reduziu, não salvando checkpoint\n",
            "ÉPOCA  82 finalizada: custo 0.000585 - MAE 0.017303     \n",
            "**Custo reduzido de 0.000591 para 0.000585 ... salvando checkpoint\n",
            "ÉPOCA  83 finalizada: custo 0.000602 - MAE 0.018197     \n",
            "**Custo não reduziu, não salvando checkpoint\n",
            "ÉPOCA  84 finalizada: custo 0.000582 - MAE 0.017473     \n",
            "**Custo reduzido de 0.000585 para 0.000582 ... salvando checkpoint\n",
            "ÉPOCA  85 finalizada: custo 0.000637 - MAE 0.018382     \n",
            "**Custo não reduziu, não salvando checkpoint\n",
            "ÉPOCA  86 finalizada: custo 0.000650 - MAE 0.018137     \n",
            "**Custo não reduziu, não salvando checkpoint\n",
            "ÉPOCA  87 finalizada: custo 0.000667 - MAE 0.018627     \n",
            "**Custo não reduziu, não salvando checkpoint\n",
            "ÉPOCA  88 finalizada: custo 0.000561 - MAE 0.017329     \n",
            "**Custo reduzido de 0.000582 para 0.000561 ... salvando checkpoint\n",
            "ÉPOCA  89 finalizada: custo 0.000603 - MAE 0.017995     \n",
            "**Custo não reduziu, não salvando checkpoint\n",
            "ÉPOCA  90 finalizada: custo 0.000591 - MAE 0.017459     \n",
            "**Custo não reduziu, não salvando checkpoint\n",
            "ÉPOCA  91 finalizada: custo 0.000597 - MAE 0.017710     \n",
            "**Custo não reduziu, não salvando checkpoint\n",
            "ÉPOCA  92 finalizada: custo 0.000606 - MAE 0.017800     \n",
            "**Custo não reduziu, não salvando checkpoint\n",
            "ÉPOCA  93 finalizada: custo 0.000606 - MAE 0.017616     \n",
            "**Custo não reduziu, não salvando checkpoint\n",
            "--Critério de redução de taxa de aprendizagem alcançado, reduzindo LR.\n",
            "ÉPOCA  94 finalizada: custo 0.000645 - MAE 0.018342     \n",
            "**Custo não reduziu, não salvando checkpoint\n",
            "ÉPOCA  95 finalizada: custo 0.000654 - MAE 0.018255     \n",
            "**Custo não reduziu, não salvando checkpoint\n",
            "ÉPOCA  96 finalizada: custo 0.000610 - MAE 0.017972     \n",
            "**Custo não reduziu, não salvando checkpoint\n",
            "ÉPOCA  97 finalizada: custo 0.000617 - MAE 0.017722     \n",
            "**Custo não reduziu, não salvando checkpoint\n",
            "ÉPOCA  98 finalizada: custo 0.000608 - MAE 0.018195     \n",
            "**Custo não reduziu, não salvando checkpoint\n",
            "--Critério de parada antecipada alcançado, parando o treinamento.\n"
          ]
        }
      ]
    },
    {
      "cell_type": "code",
      "source": [
        ""
      ],
      "metadata": {
        "id": "NiG2pRzq2FS1"
      },
      "execution_count": 101,
      "outputs": []
    },
    {
      "cell_type": "code",
      "source": [
        ""
      ],
      "metadata": {
        "id": "BC5lexsu2j_0"
      },
      "execution_count": null,
      "outputs": []
    }
  ]
}