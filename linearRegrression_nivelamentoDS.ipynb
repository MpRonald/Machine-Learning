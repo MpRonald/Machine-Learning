{
 "cells": [
  {
   "cell_type": "code",
   "execution_count": 1,
   "metadata": {},
   "outputs": [
    {
     "name": "stdout",
     "output_type": "stream",
     "text": [
      "As 3 variáveis que mais impactam o modelo são: ['EXPL_10', 'EXPL_7', 'EXPL_9']\n"
     ]
    }
   ],
   "source": [
    "import pandas as pd\n",
    "import numpy as np\n",
    "from sklearn.linear_model import LinearRegression\n",
    "\n",
    "url = \"https://raw.githubusercontent.com/MpRonald/datasets/refs/heads/main/3fbeab8b-1b87-4f2b-9c9d-c6d2b5f02564.csv\"\n",
    "df = pd.read_csv(url)\n",
    "\n",
    "# Definir variáveis explicativas e resposta\n",
    "X = df.drop(columns=[\"RESP\"])\n",
    "y = df[\"RESP\"]\n",
    "\n",
    "# Ajustar a regressão linear\n",
    "model = LinearRegression()\n",
    "model.fit(X, y)\n",
    "\n",
    "# Obter coeficientes absolutos e identificar as 3 variáveis mais importantes\n",
    "coef_abs = np.abs(model.coef_)\n",
    "top_3_indices = np.argsort(coef_abs)[-3:][::-1]\n",
    "top_3_features = X.columns[top_3_indices]\n",
    "\n",
    "# Exibir as 3 variáveis mais impactantes\n",
    "print(\"As 3 variáveis que mais impactam o modelo são:\", top_3_features.tolist())\n"
   ]
  }
 ],
 "metadata": {
  "kernelspec": {
   "display_name": "base",
   "language": "python",
   "name": "python3"
  },
  "language_info": {
   "codemirror_mode": {
    "name": "ipython",
    "version": 3
   },
   "file_extension": ".py",
   "mimetype": "text/x-python",
   "name": "python",
   "nbconvert_exporter": "python",
   "pygments_lexer": "ipython3",
   "version": "3.11.5"
  }
 },
 "nbformat": 4,
 "nbformat_minor": 2
}
