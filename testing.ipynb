{
  "cells":[
    {
      "cell_type":"code",
      "source":[
        "import pandas as pd"
      ],
      "execution_count":1,
      "outputs":[
        
      ],
      "metadata":{
        
      }
    },
    {
      "cell_type":"code",
      "source":[
        "dados = pd.read_csv('iris.csv')"
      ],
      "execution_count":3,
      "outputs":[
        {
          "ename":"FileNotFoundError",
          "evalue":"FileNotFoundError: [Errno 2] No such file or directory: 'iris.csv'",
          "traceback":[
            "\u001b[0;31m---------------------------------------------------------------------------",
            "Traceback (most recent call last)",
            "    at line 1 in <module>",
            "FileNotFoundError: [Errno 2] No such file or directory: 'iris.csv'"
          ],
          "output_type":"error"
        }
      ],
      "metadata":{
        
      }
    },
    {
      "cell_type":"code",
      "source":[
        
      ],
      "execution_count":0,
      "outputs":[
        
      ],
      "metadata":{
        
      }
    }
  ],
  "metadata":{
    
  },
  "nbformat":4,
  "nbformat_minor":0
}