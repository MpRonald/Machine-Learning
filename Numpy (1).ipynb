{
  "cells":[
    {
      "cell_type":"markdown",
      "source":[
        "# Numpy"
      ],
      "attachments":{
        
      },
      "metadata":{
        
      }
    },
    {
      "cell_type":"code",
      "source":[
        "import numpy as np"
      ],
      "execution_count":1,
      "outputs":[
        
      ],
      "metadata":{
        
      }
    },
    {
      "cell_type":"code",
      "source":[
        "# criando uma lista\n",
        "num_list = [10,12,14,16,18,20]"
      ],
      "execution_count":2,
      "outputs":[
        
      ],
      "metadata":{
        
      }
    },
    {
      "cell_type":"code",
      "source":[
        "# convertendo em um array numpy\n",
        "nums_array = np.array(num_list)"
      ],
      "execution_count":3,
      "outputs":[
        
      ],
      "metadata":{
        
      }
    },
    {
      "cell_type":"code",
      "source":[
        "# verificando o tipo\n",
        "type(nums_array)"
      ],
      "execution_count":4,
      "outputs":[
        {
          "data":{
            "text\/plain":[
              "numpy.ndarray"
            ]
          },
          "metadata":{
            
          },
          "output_type":"display_data"
        }
      ],
      "metadata":{
        
      }
    },
    {
      "cell_type":"code",
      "source":[
        "# criando array de varias dimensoes\n",
        "row1 = [10,20,30]\n",
        "row2 = [11,12,13]\n",
        "row3 = [50,80,100]\n",
        "\n",
        "nums_2d = np.array([row1,row2,row3,])\n",
        "nums_2d.shape"
      ],
      "execution_count":5,
      "outputs":[
        {
          "data":{
            "text\/plain":[
              "(3, 3)"
            ]
          },
          "metadata":{
            
          },
          "output_type":"display_data"
        }
      ],
      "metadata":{
        
      }
    },
    {
      "cell_type":"code",
      "source":[
        "nums_2d"
      ],
      "execution_count":6,
      "outputs":[
        {
          "data":{
            "text\/html":[
              
            ]
          },
          "metadata":{
            
          },
          "output_type":"display_data"
        }
      ],
      "metadata":{
        
      }
    },
    {
      "cell_type":"markdown",
      "source":[
        "#### Utilizando o método arange()"
      ],
      "attachments":{
        
      },
      "metadata":{
        
      }
    },
    {
      "cell_type":"code",
      "source":[
        "nums_arr = np.arange(5,21)\n",
        "print(nums_arr)"
      ],
      "execution_count":7,
      "outputs":[
        {
          "name":"stdout",
          "text":[
            "[ 5  6  7  8  9 10 11 12 13 14 15 16 17 18 19 20]\n"
          ],
          "output_type":"stream"
        }
      ],
      "metadata":{
        
      }
    },
    {
      "cell_type":"code",
      "source":[
        "# criando uma lista com saltos de 2 em 2 numeros\n",
        "nums_arr = np.arange(5,21,2)\n",
        "print(nums_arr)"
      ],
      "execution_count":8,
      "outputs":[
        {
          "name":"stdout",
          "text":[
            "[ 5  7  9 11 13 15 17 19]\n"
          ],
          "output_type":"stream"
        }
      ],
      "metadata":{
        
      }
    },
    {
      "cell_type":"code",
      "source":[
        "# criando uma lista de '1s'\n",
        "ones_array = np.ones(5)\n",
        "print(ones_array)"
      ],
      "execution_count":9,
      "outputs":[
        {
          "name":"stdout",
          "text":[
            "[1. 1. 1. 1. 1.]\n"
          ],
          "output_type":"stream"
        }
      ],
      "metadata":{
        
      }
    },
    {
      "cell_type":"code",
      "source":[
        "# criando um array de '1s' de 6 linhas e 4 colunas\n",
        "ones_array = np.ones((6,4))\n",
        "print(ones_array)"
      ],
      "execution_count":10,
      "outputs":[
        {
          "name":"stdout",
          "text":[
            "[[1. 1. 1. 1.]\n",
            " [1. 1. 1. 1.]\n",
            " [1. 1. 1. 1.]\n",
            " [1. 1. 1. 1.]\n",
            " [1. 1. 1. 1.]\n",
            " [1. 1. 1. 1.]]\n"
          ],
          "output_type":"stream"
        }
      ],
      "metadata":{
        
      }
    },
    {
      "cell_type":"code",
      "source":[
        "# podemos fazer a mesma coisa com 'zeros'\n",
        "zero_arr = np.zeros(10)\n",
        "print(zero_arr)"
      ],
      "execution_count":11,
      "outputs":[
        {
          "name":"stdout",
          "text":[
            "[0. 0. 0. 0. 0. 0. 0. 0. 0. 0.]\n"
          ],
          "output_type":"stream"
        }
      ],
      "metadata":{
        
      }
    },
    {
      "cell_type":"code",
      "source":[
        "# podemos fazer um array de 'zeros' de 3 linhas e 6 colunas\n",
        "zero_arr = np.zeros((3,6))\n",
        "print(zero_arr)"
      ],
      "execution_count":12,
      "outputs":[
        {
          "name":"stdout",
          "text":[
            "[[0. 0. 0. 0. 0. 0.]\n",
            " [0. 0. 0. 0. 0. 0.]\n",
            " [0. 0. 0. 0. 0. 0.]]\n"
          ],
          "output_type":"stream"
        }
      ],
      "metadata":{
        
      }
    },
    {
      "cell_type":"code",
      "source":[
        "# utilizando o método eyes()\n",
        "# é utilizado para criar uma matriz onde temos 1 na diagonal\n",
        "eyes_arr = np.eye(10)\n",
        "print(eyes_arr)"
      ],
      "execution_count":13,
      "outputs":[
        {
          "name":"stdout",
          "text":[
            "[[1. 0. 0. 0. 0. 0. 0. 0. 0. 0.]\n",
            " [0. 1. 0. 0. 0. 0. 0. 0. 0. 0.]\n",
            " [0. 0. 1. 0. 0. 0. 0. 0. 0. 0.]\n",
            " [0. 0. 0. 1. 0. 0. 0. 0. 0. 0.]\n",
            " [0. 0. 0. 0. 1. 0. 0. 0. 0. 0.]\n",
            " [0. 0. 0. 0. 0. 1. 0. 0. 0. 0.]\n",
            " [0. 0. 0. 0. 0. 0. 1. 0. 0. 0.]\n",
            " [0. 0. 0. 0. 0. 0. 0. 1. 0. 0.]\n",
            " [0. 0. 0. 0. 0. 0. 0. 0. 1. 0.]\n",
            " [0. 0. 0. 0. 0. 0. 0. 0. 0. 1.]]\n"
          ],
          "output_type":"stream"
        }
      ],
      "metadata":{
        
      }
    },
    {
      "cell_type":"code",
      "source":[
        "# utilizamos o método random().rand() para criar uma lista de\n",
        "# valores randomicos\n",
        "r = np.random.rand(10,4)\n",
        "r"
      ],
      "execution_count":14,
      "outputs":[
        {
          "data":{
            "text\/html":[
              
            ]
          },
          "metadata":{
            
          },
          "output_type":"display_data"
        }
      ],
      "metadata":{
        
      }
    },
    {
      "cell_type":"code",
      "source":[
        "# utilizamos o método random().randn() para criar uma lista de\n",
        "# valores randomicos com distribuição normal\n",
        "r = np.random.randn(5,3)\n",
        "r"
      ],
      "execution_count":15,
      "outputs":[
        {
          "data":{
            "text\/html":[
              
            ]
          },
          "metadata":{
            
          },
          "output_type":"display_data"
        }
      ],
      "metadata":{
        
      }
    },
    {
      "cell_type":"code",
      "source":[
        "# utilizamos o método random().randint() para criar uma lista de\n",
        "# valores randomicos inteiros\n",
        "# aqui estamos gerandi uma lista de 10 a 99 com cinco elementos\n",
        "# aleatorios\n",
        "r = np.random.randint(10,100,5)\n",
        "r"
      ],
      "execution_count":16,
      "outputs":[
        {
          "data":{
            "text\/html":[
              
            ]
          },
          "metadata":{
            
          },
          "output_type":"display_data"
        }
      ],
      "metadata":{
        
      }
    },
    {
      "cell_type":"code",
      "source":[
        "# usamos s função reshape() para realocar os elementos em um array\n",
        "r = np.random.rand(2,10)\n",
        "r"
      ],
      "execution_count":17,
      "outputs":[
        {
          "data":{
            "text\/html":[
              
            ]
          },
          "metadata":{
            
          },
          "output_type":"display_data"
        }
      ],
      "metadata":{
        
      }
    },
    {
      "cell_type":"code",
      "source":[
        "r = r.reshape(10,2)\n",
        "r"
      ],
      "execution_count":18,
      "outputs":[
        {
          "data":{
            "text\/html":[
              
            ]
          },
          "metadata":{
            
          },
          "output_type":"display_data"
        }
      ],
      "metadata":{
        
      }
    },
    {
      "cell_type":"code",
      "source":[
        "# acessando um elemento do array\n",
        "r = np.random.randint(1,20,10)\n",
        "print(r)\n",
        "print(f\"Acessando o elemento no indice 3: {r[2]}\")"
      ],
      "execution_count":19,
      "outputs":[
        {
          "name":"stdout",
          "text":[
            "[15 13  6 14  5 10  9 19  2  8]\n",
            "Acessando o elemento no indice 3: 6\n"
          ],
          "output_type":"stream"
        }
      ],
      "metadata":{
        
      }
    },
    {
      "cell_type":"code",
      "source":[
        "# usamos slice para 'dividir' o array, ou simplemente\n",
        "# para podermos verificar uma parte a qual queremos\n",
        "r[2:5]"
      ],
      "execution_count":20,
      "outputs":[
        {
          "data":{
            "text\/html":[
              
            ]
          },
          "metadata":{
            
          },
          "output_type":"display_data"
        }
      ],
      "metadata":{
        
      }
    },
    {
      "cell_type":"code",
      "source":[
        "print(f'Verfificando valor do até o quinto elemento: {r[:5]}')\n",
        "print(f'Verfificando valor do após o quinto elemento: {r[5:]}')"
      ],
      "execution_count":21,
      "outputs":[
        {
          "name":"stdout",
          "text":[
            "Verfificando valor do até o quinto elemento: [15 13  6 14  5]\n",
            "Verfificando valor do após o quinto elemento: [10  9 19  2  8]\n"
          ],
          "output_type":"stream"
        }
      ],
      "metadata":{
        
      }
    },
    {
      "cell_type":"code",
      "source":[
        "# podemos realizar slice de arrays 2d\n",
        "arr1 = [10,12,13]\n",
        "arr2 = [45,32,16]\n",
        "arr3 = [45,32,16]\n",
        "\n",
        "slice_2d = np.array([arr1,arr2,arr3])\n",
        "print(slice_2d[:2,:]) # duas linas todos os elementos\n",
        "print(slice_2d[:2,:1]) # duas linhas somente o primeiro elemento"
      ],
      "execution_count":22,
      "outputs":[
        {
          "name":"stdout",
          "text":[
            "[[10 12 13]\n",
            " [45 32 16]]\n",
            "[[10]\n",
            " [45]]\n"
          ],
          "output_type":"stream"
        }
      ],
      "metadata":{
        
      }
    },
    {
      "cell_type":"markdown",
      "source":[
        "# Expressões Aritméticas"
      ],
      "attachments":{
        
      },
      "metadata":{
        
      }
    },
    {
      "cell_type":"code",
      "source":[
        "# para realizarmos uma operação de raiz qudrada usamos o sqrt()\n",
        "n = [100,250,320,410,505]\n",
        "raiz_n = np.sqrt(n)\n",
        "raiz_n"
      ],
      "execution_count":23,
      "outputs":[
        {
          "data":{
            "text\/html":[
              
            ]
          },
          "metadata":{
            
          },
          "output_type":"display_data"
        }
      ],
      "metadata":{
        
      }
    },
    {
      "cell_type":"code",
      "source":[
        "# encontrando o log dos numeros\n",
        "n = [50,60,70,80,90,100]\n",
        "log_n = np.log(n)\n",
        "log_n"
      ],
      "execution_count":24,
      "outputs":[
        {
          "data":{
            "text\/html":[
              
            ]
          },
          "metadata":{
            
          },
          "output_type":"display_data"
        }
      ],
      "metadata":{
        
      }
    },
    {
      "cell_type":"code",
      "source":[
        "# utilizamos a função exp() para expoentes\n",
        "n = [0.1,0.2,0.3]\n",
        "exp_n = np.exp(n)\n",
        "exp_n"
      ],
      "execution_count":25,
      "outputs":[
        {
          "data":{
            "text\/html":[
              
            ]
          },
          "metadata":{
            
          },
          "output_type":"display_data"
        }
      ],
      "metadata":{
        
      }
    },
    {
      "cell_type":"code",
      "source":[
        "# verificando os seno e cosseno dos numeros\n",
        "n = [3,4,5,6]\n",
        "seno_n = np.sin(n)\n",
        "cos_n = np.cos(n)\n",
        "print(f\"O seno é: {seno_n}\\nO cosseno é: {cos_n}\")"
      ],
      "execution_count":26,
      "outputs":[
        {
          "name":"stdout",
          "text":[
            "O seno é: [ 0.14112001 -0.7568025  -0.95892427 -0.2794155 ]\n",
            "O cosseno é: [-0.9899925  -0.65364362  0.28366219  0.96017029]\n"
          ],
          "output_type":"stream"
        }
      ],
      "metadata":{
        
      }
    },
    {
      "cell_type":"markdown",
      "source":[
        "#### Multiplicação entre Matrizes"
      ],
      "attachments":{
        
      },
      "metadata":{
        
      }
    },
    {
      "cell_type":"code",
      "source":[
        "m1 = [7,16,25,44]\n",
        "m2 = [19,4,17,2]\n",
        "m3 = [12,65,10,21]\n",
        "\n",
        "arr_2d = np.array([m1,m2,m3])\n",
        "mult = np.multiply(arr_2d,arr_2d)\n",
        "mult"
      ],
      "execution_count":27,
      "outputs":[
        {
          "data":{
            "text\/html":[
              
            ]
          },
          "metadata":{
            
          },
          "output_type":"display_data"
        }
      ],
      "metadata":{
        
      }
    },
    {
      "cell_type":"code",
      "source":[
        "import pandas as pd"
      ],
      "execution_count":28,
      "outputs":[
        
      ],
      "metadata":{
        
      }
    },
    {
      "cell_type":"code",
      "source":[
        "dados = pd.DataFrame({'col1': m1, 'col2': m2})"
      ],
      "execution_count":29,
      "outputs":[
        
      ],
      "metadata":{
        
      }
    },
    {
      "cell_type":"code",
      "source":[
        "dados"
      ],
      "execution_count":30,
      "outputs":[
        {
          "data":{
            "text\/html":[
              "<div>\n",
              "<style scoped>\n",
              "    .dataframe tbody tr th:only-of-type {\n",
              "        vertical-align: middle;\n",
              "    }\n",
              "\n",
              "    .dataframe tbody tr th {\n",
              "        vertical-align: top;\n",
              "    }\n",
              "\n",
              "    .dataframe thead th {\n",
              "        text-align: right;\n",
              "    }\n",
              "<\/style>\n",
              "<table border=\"1\" class=\"dataframe\">\n",
              "  <thead>\n",
              "    <tr style=\"text-align: right;\">\n",
              "      <th><\/th>\n",
              "      <th>col1<\/th>\n",
              "      <th>col2<\/th>\n",
              "    <\/tr>\n",
              "  <\/thead>\n",
              "  <tbody>\n",
              "    <tr>\n",
              "      <th>0<\/th>\n",
              "      <td>7<\/td>\n",
              "      <td>19<\/td>\n",
              "    <\/tr>\n",
              "    <tr>\n",
              "      <th>1<\/th>\n",
              "      <td>16<\/td>\n",
              "      <td>4<\/td>\n",
              "    <\/tr>\n",
              "    <tr>\n",
              "      <th>2<\/th>\n",
              "      <td>25<\/td>\n",
              "      <td>17<\/td>\n",
              "    <\/tr>\n",
              "    <tr>\n",
              "      <th>3<\/th>\n",
              "      <td>44<\/td>\n",
              "      <td>2<\/td>\n",
              "    <\/tr>\n",
              "  <\/tbody>\n",
              "<\/table>\n",
              "<\/div>"
            ]
          },
          "metadata":{
            
          },
          "output_type":"display_data"
        }
      ],
      "metadata":{
        
      }
    },
    {
      "cell_type":"code",
      "source":[
        "import matplotlib.pyplot as plt\n",
        "%matplotlib inline"
      ],
      "execution_count":32,
      "outputs":[
        
      ],
      "metadata":{
        
      }
    },
    {
      "cell_type":"code",
      "source":[
        "plt.scatter(m1, m2)"
      ],
      "execution_count":33,
      "outputs":[
        {
          "data":{
            "text\/plain":[
              "<matplotlib.collections.PathCollection at 0x7f4bd76872b0>"
            ],
            "image\/png":"[encoded data removed]"
          },
          "metadata":{
            "image\/png":{
              
            }
          },
          "output_type":"display_data"
        }
      ],
      "metadata":{
        
      }
    },
    {
      "cell_type":"code",
      "source":[
        "plt.hist(m1, m2, data=dados)"
      ],
      "execution_count":35,
      "outputs":[
        {
          "ename":"ValueError",
          "evalue":"ValueError: `bins` must increase monotonically, when an array",
          "traceback":[
            "\u001b[0;31m---------------------------------------------------------------------------",
            "Traceback (most recent call last)",
            "    at line 1 in <module>",
            "ValueError: `bins` must increase monotonically, when an array"
          ],
          "output_type":"error"
        },
        {
          "data":{
            "image\/png":"[encoded data removed]"
          },
          "metadata":{
            "image\/png":{
              
            }
          },
          "output_type":"display_data"
        }
      ],
      "metadata":{
        
      }
    },
    {
      "cell_type":"code",
      "source":[
        
      ],
      "execution_count":0,
      "outputs":[
        
      ],
      "metadata":{
        
      }
    }
  ],
  "metadata":{
    
  },
  "nbformat":4,
  "nbformat_minor":0
}