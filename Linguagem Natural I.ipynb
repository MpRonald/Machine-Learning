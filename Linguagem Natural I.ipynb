{
  "cells":[
    {
      "cell_type":"code",
      "source":[
        "import pandas as pd"
      ],
      "execution_count":1,
      "outputs":[
        
      ],
      "metadata":{
        
      }
    },
    {
      "cell_type":"code",
      "source":[
        "resenha = pd.read_csv('\/data\/workspace_files\/imdb.csv')"
      ],
      "execution_count":2,
      "outputs":[
        
      ],
      "metadata":{
        
      }
    },
    {
      "cell_type":"code",
      "source":[
        "resenha.head()"
      ],
      "execution_count":3,
      "outputs":[
        {
          "data":{
            "text\/html":[
              "<div>\n",
              "<style scoped>\n",
              "    .dataframe tbody tr th:only-of-type {\n",
              "        vertical-align: middle;\n",
              "    }\n",
              "\n",
              "    .dataframe tbody tr th {\n",
              "        vertical-align: top;\n",
              "    }\n",
              "\n",
              "    .dataframe thead th {\n",
              "        text-align: right;\n",
              "    }\n",
              "<\/style>\n",
              "<table border=\"1\" class=\"dataframe\">\n",
              "  <thead>\n",
              "    <tr style=\"text-align: right;\">\n",
              "      <th><\/th>\n",
              "      <th>id<\/th>\n",
              "      <th>text_en<\/th>\n",
              "      <th>text_pt<\/th>\n",
              "      <th>sentiment<\/th>\n",
              "    <\/tr>\n",
              "  <\/thead>\n",
              "  <tbody>\n",
              "    <tr>\n",
              "      <th>0<\/th>\n",
              "      <td>1<\/td>\n",
              "      <td>Once again Mr. Costner has dragged out a movie...<\/td>\n",
              "      <td>Mais uma vez, o Sr. Costner arrumou um filme p...<\/td>\n",
              "      <td>neg<\/td>\n",
              "    <\/tr>\n",
              "    <tr>\n",
              "      <th>1<\/th>\n",
              "      <td>2<\/td>\n",
              "      <td>This is an example of why the majority of acti...<\/td>\n",
              "      <td>Este é um exemplo do motivo pelo qual a maiori...<\/td>\n",
              "      <td>neg<\/td>\n",
              "    <\/tr>\n",
              "    <tr>\n",
              "      <th>2<\/th>\n",
              "      <td>3<\/td>\n",
              "      <td>First of all I hate those moronic rappers, who...<\/td>\n",
              "      <td>Primeiro de tudo eu odeio esses raps imbecis, ...<\/td>\n",
              "      <td>neg<\/td>\n",
              "    <\/tr>\n",
              "    <tr>\n",
              "      <th>3<\/th>\n",
              "      <td>4<\/td>\n",
              "      <td>Not even the Beatles could write songs everyon...<\/td>\n",
              "      <td>Nem mesmo os Beatles puderam escrever músicas ...<\/td>\n",
              "      <td>neg<\/td>\n",
              "    <\/tr>\n",
              "    <tr>\n",
              "      <th>4<\/th>\n",
              "      <td>5<\/td>\n",
              "      <td>Brass pictures movies is not a fitting word fo...<\/td>\n",
              "      <td>Filmes de fotos de latão não é uma palavra apr...<\/td>\n",
              "      <td>neg<\/td>\n",
              "    <\/tr>\n",
              "  <\/tbody>\n",
              "<\/table>\n",
              "<\/div>"
            ]
          },
          "metadata":{
            
          },
          "output_type":"display_data"
        }
      ],
      "metadata":{
        
      }
    },
    {
      "cell_type":"code",
      "source":[
        "from sklearn.model_selection import train_test_split\n",
        "\n",
        "treino, teste, classe_treino, classe_teste = train_test_split(resenha.text_pt, resenha.sentiment,\n",
        "                                                                random_state=42)"
      ],
      "execution_count":4,
      "outputs":[
        
      ],
      "metadata":{
        
      }
    },
    {
      "cell_type":"code",
      "source":[
        "from sklearn.linear_model import LogisticRegression"
      ],
      "execution_count":5,
      "outputs":[
        
      ],
      "metadata":{
        
      }
    },
    {
      "cell_type":"code",
      "source":[
        "print(resenha.sentiment.value_counts())"
      ],
      "execution_count":6,
      "outputs":[
        {
          "name":"stdout",
          "text":[
            "neg    24765\n",
            "pos    24694\n",
            "Name: sentiment, dtype: int64\n"
          ],
          "output_type":"stream"
        }
      ],
      "metadata":{
        
      }
    },
    {
      "cell_type":"code",
      "source":[
        "classificacao = resenha[\"sentiment\"].replace([\"neg\", \"pos\"], [0,1])\n",
        "classificacao"
      ],
      "execution_count":9,
      "outputs":[
        {
          "data":{
            "text\/html":[
              
            ]
          },
          "metadata":{
            
          },
          "output_type":"display_data"
        }
      ],
      "metadata":{
        
      }
    },
    {
      "cell_type":"code",
      "source":[
        "resenha[\"classificacao\"] = classificacao\n",
        "resenha"
      ],
      "execution_count":10,
      "outputs":[
        {
          "data":{
            "text\/html":[
              "<div>\n",
              "<style scoped>\n",
              "    .dataframe tbody tr th:only-of-type {\n",
              "        vertical-align: middle;\n",
              "    }\n",
              "\n",
              "    .dataframe tbody tr th {\n",
              "        vertical-align: top;\n",
              "    }\n",
              "\n",
              "    .dataframe thead th {\n",
              "        text-align: right;\n",
              "    }\n",
              "<\/style>\n",
              "<table border=\"1\" class=\"dataframe\">\n",
              "  <thead>\n",
              "    <tr style=\"text-align: right;\">\n",
              "      <th><\/th>\n",
              "      <th>id<\/th>\n",
              "      <th>text_en<\/th>\n",
              "      <th>text_pt<\/th>\n",
              "      <th>sentiment<\/th>\n",
              "      <th>classificacao<\/th>\n",
              "    <\/tr>\n",
              "  <\/thead>\n",
              "  <tbody>\n",
              "    <tr>\n",
              "      <th>0<\/th>\n",
              "      <td>1<\/td>\n",
              "      <td>Once again Mr. Costner has dragged out a movie...<\/td>\n",
              "      <td>Mais uma vez, o Sr. Costner arrumou um filme p...<\/td>\n",
              "      <td>neg<\/td>\n",
              "      <td>0<\/td>\n",
              "    <\/tr>\n",
              "    <tr>\n",
              "      <th>1<\/th>\n",
              "      <td>2<\/td>\n",
              "      <td>This is an example of why the majority of acti...<\/td>\n",
              "      <td>Este é um exemplo do motivo pelo qual a maiori...<\/td>\n",
              "      <td>neg<\/td>\n",
              "      <td>0<\/td>\n",
              "    <\/tr>\n",
              "    <tr>\n",
              "      <th>2<\/th>\n",
              "      <td>3<\/td>\n",
              "      <td>First of all I hate those moronic rappers, who...<\/td>\n",
              "      <td>Primeiro de tudo eu odeio esses raps imbecis, ...<\/td>\n",
              "      <td>neg<\/td>\n",
              "      <td>0<\/td>\n",
              "    <\/tr>\n",
              "    <tr>\n",
              "      <th>3<\/th>\n",
              "      <td>4<\/td>\n",
              "      <td>Not even the Beatles could write songs everyon...<\/td>\n",
              "      <td>Nem mesmo os Beatles puderam escrever músicas ...<\/td>\n",
              "      <td>neg<\/td>\n",
              "      <td>0<\/td>\n",
              "    <\/tr>\n",
              "    <tr>\n",
              "      <th>4<\/th>\n",
              "      <td>5<\/td>\n",
              "      <td>Brass pictures movies is not a fitting word fo...<\/td>\n",
              "      <td>Filmes de fotos de latão não é uma palavra apr...<\/td>\n",
              "      <td>neg<\/td>\n",
              "      <td>0<\/td>\n",
              "    <\/tr>\n",
              "    <tr>\n",
              "      <th>...<\/th>\n",
              "      <td>...<\/td>\n",
              "      <td>...<\/td>\n",
              "      <td>...<\/td>\n",
              "      <td>...<\/td>\n",
              "      <td>...<\/td>\n",
              "    <\/tr>\n",
              "    <tr>\n",
              "      <th>49454<\/th>\n",
              "      <td>49456<\/td>\n",
              "      <td>Seeing as the vote average was pretty low, and...<\/td>\n",
              "      <td>Como a média de votos era muito baixa, e o fat...<\/td>\n",
              "      <td>pos<\/td>\n",
              "      <td>1<\/td>\n",
              "    <\/tr>\n",
              "    <tr>\n",
              "      <th>49455<\/th>\n",
              "      <td>49457<\/td>\n",
              "      <td>The plot had some wretched, unbelievable twist...<\/td>\n",
              "      <td>O enredo teve algumas reviravoltas infelizes e...<\/td>\n",
              "      <td>pos<\/td>\n",
              "      <td>1<\/td>\n",
              "    <\/tr>\n",
              "    <tr>\n",
              "      <th>49456<\/th>\n",
              "      <td>49458<\/td>\n",
              "      <td>I am amazed at how this movieand most others h...<\/td>\n",
              "      <td>Estou espantado com a forma como este filme e ...<\/td>\n",
              "      <td>pos<\/td>\n",
              "      <td>1<\/td>\n",
              "    <\/tr>\n",
              "    <tr>\n",
              "      <th>49457<\/th>\n",
              "      <td>49459<\/td>\n",
              "      <td>A Christmas Together actually came before my t...<\/td>\n",
              "      <td>A Christmas Together realmente veio antes do m...<\/td>\n",
              "      <td>pos<\/td>\n",
              "      <td>1<\/td>\n",
              "    <\/tr>\n",
              "    <tr>\n",
              "      <th>49458<\/th>\n",
              "      <td>49460<\/td>\n",
              "      <td>Working-class romantic drama from director Mar...<\/td>\n",
              "      <td>O drama romântico da classe trabalhadora do di...<\/td>\n",
              "      <td>pos<\/td>\n",
              "      <td>1<\/td>\n",
              "    <\/tr>\n",
              "  <\/tbody>\n",
              "<\/table>\n",
              "<p>49459 rows × 5 columns<\/p>\n",
              "<\/div>"
            ]
          },
          "metadata":{
            
          },
          "output_type":"display_data"
        }
      ],
      "metadata":{
        
      }
    },
    {
      "cell_type":"code",
      "source":[
        "from sklearn.feature_extraction.text import CountVectorizer"
      ],
      "execution_count":12,
      "outputs":[
        
      ],
      "metadata":{
        
      }
    },
    {
      "cell_type":"code",
      "source":[
        "texto = [\"Assisti um filme ótimo\", \"Assisti um filme ruim\"]\n",
        "vetorizar = CountVectorizer(lowercase=False)\n",
        "bag_of_words = vetorizar.fit_transform(texto)"
      ],
      "execution_count":17,
      "outputs":[
        
      ],
      "metadata":{
        
      }
    },
    {
      "cell_type":"code",
      "source":[
        "bag_of_words"
      ],
      "execution_count":18,
      "outputs":[
        {
          "data":{
            "text\/plain":[
              "<2x5 sparse matrix of type '<class 'numpy.int64'>'\n",
              "\twith 8 stored elements in Compressed Sparse Row format>"
            ]
          },
          "metadata":{
            
          },
          "output_type":"display_data"
        }
      ],
      "metadata":{
        
      }
    },
    {
      "cell_type":"code",
      "source":[
        "vetorizar.get_feature_names()"
      ],
      "execution_count":19,
      "outputs":[
        {
          "name":"stderr",
          "text":[
            "\/opt\/python\/envs\/default\/lib\/python3.8\/site-packages\/sklearn\/utils\/deprecation.py:87: FutureWarning: Function get_feature_names is deprecated; get_feature_names is deprecated in 1.0 and will be removed in 1.2. Please use get_feature_names_out instead.\n",
            "  warnings.warn(msg, category=FutureWarning)\n"
          ],
          "output_type":"stream"
        },
        {
          "data":{
            "text\/plain":[
              "['Assisti', 'filme', 'ruim', 'um', 'ótimo']"
            ]
          },
          "metadata":{
            
          },
          "output_type":"display_data"
        }
      ],
      "metadata":{
        
      }
    },
    {
      "cell_type":"code",
      "source":[
        "matriz_esparsa = pd.DataFrame.sparse.from_spmatrix(bag_of_words, \n",
        "    columns=vetorizar.get_feature_names())"
      ],
      "execution_count":21,
      "outputs":[
        {
          "name":"stderr",
          "text":[
            "\/opt\/python\/envs\/default\/lib\/python3.8\/site-packages\/sklearn\/utils\/deprecation.py:87: FutureWarning: Function get_feature_names is deprecated; get_feature_names is deprecated in 1.0 and will be removed in 1.2. Please use get_feature_names_out instead.\n",
            "  warnings.warn(msg, category=FutureWarning)\n"
          ],
          "output_type":"stream"
        }
      ],
      "metadata":{
        
      }
    },
    {
      "cell_type":"code",
      "source":[
        "matriz_esparsa"
      ],
      "execution_count":22,
      "outputs":[
        {
          "data":{
            "text\/html":[
              "<div>\n",
              "<style scoped>\n",
              "    .dataframe tbody tr th:only-of-type {\n",
              "        vertical-align: middle;\n",
              "    }\n",
              "\n",
              "    .dataframe tbody tr th {\n",
              "        vertical-align: top;\n",
              "    }\n",
              "\n",
              "    .dataframe thead th {\n",
              "        text-align: right;\n",
              "    }\n",
              "<\/style>\n",
              "<table border=\"1\" class=\"dataframe\">\n",
              "  <thead>\n",
              "    <tr style=\"text-align: right;\">\n",
              "      <th><\/th>\n",
              "      <th>Assisti<\/th>\n",
              "      <th>filme<\/th>\n",
              "      <th>ruim<\/th>\n",
              "      <th>um<\/th>\n",
              "      <th>ótimo<\/th>\n",
              "    <\/tr>\n",
              "  <\/thead>\n",
              "  <tbody>\n",
              "    <tr>\n",
              "      <th>0<\/th>\n",
              "      <td>1<\/td>\n",
              "      <td>1<\/td>\n",
              "      <td>0<\/td>\n",
              "      <td>1<\/td>\n",
              "      <td>1<\/td>\n",
              "    <\/tr>\n",
              "    <tr>\n",
              "      <th>1<\/th>\n",
              "      <td>1<\/td>\n",
              "      <td>1<\/td>\n",
              "      <td>1<\/td>\n",
              "      <td>1<\/td>\n",
              "      <td>0<\/td>\n",
              "    <\/tr>\n",
              "  <\/tbody>\n",
              "<\/table>\n",
              "<\/div>"
            ]
          },
          "metadata":{
            
          },
          "output_type":"display_data"
        }
      ],
      "metadata":{
        
      }
    },
    {
      "cell_type":"code",
      "source":[
        "vetorizar = CountVectorizer(lowercase=False, max_features=50)\n",
        "bag_of_words = vetorizar.fit_transform(resenha.text_pt)\n",
        "bag_of_words.shape"
      ],
      "execution_count":24,
      "outputs":[
        {
          "data":{
            "text\/plain":[
              "(49459, 50)"
            ]
          },
          "metadata":{
            
          },
          "output_type":"display_data"
        }
      ],
      "metadata":{
        
      }
    },
    {
      "cell_type":"code",
      "source":[
        "treino, teste, classe_treino, classe_treino = train_test_split(bag_of_words,\n",
        "    resenha.classificacao, random_state=42)\n",
        "regressao_logistica = LogisticRegression(solver=\"lbfgs\")\n",
        "regressao_logistica.fit(treino[:,10], classe_treino[:10])\n",
        "acuracia = regressao_logistica.score(teste, classe_teste)\n",
        "acuracia"
      ],
      "execution_count":35,
      "outputs":[
        {
          "ename":"ValueError",
          "evalue":"ValueError: Found input variables with inconsistent numbers of samples: [37094, 10]",
          "traceback":[
            "\u001b[0;31m---------------------------------------------------------------------------",
            "Traceback (most recent call last)",
            "    at line 4 in <module>",
            "ValueError: Found input variables with inconsistent numbers of samples: [37094, 10]"
          ],
          "output_type":"error"
        }
      ],
      "metadata":{
        
      }
    },
    {
      "cell_type":"code",
      "source":[
        
      ],
      "execution_count":28,
      "outputs":[
        
      ],
      "metadata":{
        
      }
    },
    {
      "cell_type":"code",
      "source":[
        
      ],
      "execution_count":0,
      "outputs":[
        
      ],
      "metadata":{
        
      }
    }
  ],
  "metadata":{
    
  },
  "nbformat":4,
  "nbformat_minor":0
}