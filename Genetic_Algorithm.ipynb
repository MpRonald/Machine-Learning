{
 "cells": [
  {
   "cell_type": "markdown",
   "metadata": {},
   "source": [
    "## Product Class"
   ]
  },
  {
   "cell_type": "code",
   "execution_count": 246,
   "metadata": {},
   "outputs": [],
   "source": [
    "class Product():\n",
    "\n",
    "    def __init__(self, name, space, value):\n",
    "        self.name = name\n",
    "        self.space = space\n",
    "        self.value = value"
   ]
  },
  {
   "cell_type": "code",
   "execution_count": 247,
   "metadata": {},
   "outputs": [
    {
     "data": {
      "text/plain": [
       "('Moto', 0.0009, 2199.12)"
      ]
     },
     "execution_count": 247,
     "metadata": {},
     "output_type": "execute_result"
    }
   ],
   "source": [
    "p1 = Product('Moto', 0.0009, 2199.12)\n",
    "p1.name, p1.space, p1.value"
   ]
  },
  {
   "cell_type": "code",
   "execution_count": 248,
   "metadata": {},
   "outputs": [
    {
     "name": "stdout",
     "output_type": "stream",
     "text": [
      "Product name: Geladeira Dako | Value: R$ 999.9\n",
      "Product name: Iphone 6 | Value: R$ 2911.12\n",
      "Product name: TV 55'  | Value: R$ 4346.99\n",
      "Product name: TV 50'  | Value: R$ 3999.9\n",
      "Product name: TV 42'  | Value: R$ 2999.0\n",
      "Product name: Notebook Dell | Value: R$ 2499.9\n",
      "Product name: Ventilador Panasonic | Value: R$ 199.9\n",
      "Product name: Microondas Electrolux | Value: R$ 308.66\n",
      "Product name: Microondas LG | Value: R$ 429.9\n",
      "Product name: Microondas Panasonic | Value: R$ 299.29\n",
      "Product name: Geladeira Brastemp | Value: R$ 849.0\n",
      "Product name: Geladeira Consul | Value: R$ 1199.89\n",
      "Product name: Notebook Lenovo | Value: R$ 1999.9\n",
      "Product name: Notebook Asus | Value: R$ 3999.0\n"
     ]
    }
   ],
   "source": [
    "prod_list = []\n",
    "prod_list.append(Product(\"Geladeira Dako\", 0.751, 999.90))\n",
    "prod_list.append(Product(\"Iphone 6\", 0.0000899, 2911.12))\n",
    "prod_list.append(Product(\"TV 55' \", 0.400, 4346.99))\n",
    "prod_list.append(Product(\"TV 50' \", 0.290, 3999.90))\n",
    "prod_list.append(Product(\"TV 42' \", 0.200, 2999.00))\n",
    "prod_list.append(Product(\"Notebook Dell\", 0.00350, 2499.90))\n",
    "prod_list.append(Product(\"Ventilador Panasonic\", 0.496, 199.90))\n",
    "prod_list.append(Product(\"Microondas Electrolux\", 0.0424, 308.66))\n",
    "prod_list.append(Product(\"Microondas LG\", 0.0544, 429.90))\n",
    "prod_list.append(Product(\"Microondas Panasonic\", 0.0319, 299.29))\n",
    "prod_list.append(Product(\"Geladeira Brastemp\", 0.635, 849.00))\n",
    "prod_list.append(Product(\"Geladeira Consul\", 0.870, 1199.89))\n",
    "prod_list.append(Product(\"Notebook Lenovo\", 0.498, 1999.90))\n",
    "prod_list.append(Product(\"Notebook Asus\", 0.527, 3999.00))\n",
    "for prod in prod_list:\n",
    "    print(f\"Product name: {prod.name} | Value: R$ {prod.value}\")"
   ]
  },
  {
   "cell_type": "markdown",
   "metadata": {},
   "source": [
    "## Person Class"
   ]
  },
  {
   "cell_type": "code",
   "execution_count": 249,
   "metadata": {},
   "outputs": [],
   "source": [
    "from random import random"
   ]
  },
  {
   "cell_type": "code",
   "execution_count": 250,
   "metadata": {},
   "outputs": [],
   "source": [
    "class Person():\n",
    "\n",
    "    def __init__(self, space, value, space_limit, generation=0):\n",
    "        self.space = space\n",
    "        self.value = value\n",
    "        self.space_limit = space_limit\n",
    "        self.note_val = 0\n",
    "        self.used_space = 0\n",
    "        self.generation = generation\n",
    "        self.chromosome = []\n",
    "\n",
    "        for i in range(len(space)):\n",
    "            if random() < 0.5:\n",
    "                self.chromosome.append(\"0\")\n",
    "            else:\n",
    "                self.chromosome.append(\"1\")\n",
    "\n",
    "    def validation(self):\n",
    "        note = 0\n",
    "        sum_space = 0\n",
    "        for i in range(len(self.chromosome)):\n",
    "            if self.chromosome[i] == '1':\n",
    "                note += self.value[i]\n",
    "                sum_space += self.space[i]\n",
    "\n",
    "        if sum_space > self.space_limit:\n",
    "            note = 1\n",
    "        self.note_val = note\n",
    "        self.used_space = round(sum_space, 5)\n",
    "\n",
    "    \n",
    "        return note / 100000\n",
    "\n",
    "    def crossover(self, other):\n",
    "        cut = round(random() * len(self.chromosome))\n",
    "        son1 = other.chromosome[0:cut] + other.chromosome[cut::]\n",
    "        son2 = self.chromosome[0:cut] + other.chromosome[cut::]\n",
    "\n",
    "        sons = [Person(self.space, self.value, self.space_limit, self.generation + 1),\n",
    "                Person(self.space, self.value, self.space_limit, self.generation + 1)]\n",
    "\n",
    "        sons[0].chromosome = son1\n",
    "        sons[1].chromosome = son2\n",
    "\n",
    "        return sons\n",
    "\n",
    "    def mutation(self, mutation_rate):\n",
    "        print(f\"\\nBefore: {self.chromosome}\")\n",
    "        for i in range(len(self.chromosome)):\n",
    "            if random() < mutation_rate == '1':\n",
    "                self.chromosome[i] == '0'\n",
    "            else:\n",
    "                self.chromosome[i] = '1'\n",
    "\n",
    "        print(f\"After: {self.chromosome}\")\n",
    "        return self"
   ]
  },
  {
   "cell_type": "markdown",
   "metadata": {},
   "source": [
    "## Class Genetic"
   ]
  },
  {
   "cell_type": "code",
   "execution_count": 269,
   "metadata": {},
   "outputs": [],
   "source": [
    "class Genetic():\n",
    "    \n",
    "    def __init__(self, population_size):\n",
    "        self.population_size = population_size\n",
    "        self.population = []\n",
    "        self.generation = 0\n",
    "        self.best_solution = 0\n",
    "        self.solution_list = []\n",
    "\n",
    "    def iniciali_individuo(self, space, value, space_limit):\n",
    "        for i in range(self.population_size):\n",
    "            self.population.append(Person(space, value, space_limit))\n",
    "        self.best_solution = self.population[0]\n",
    "\n",
    "    def sort_population(self):\n",
    "        self.population = sorted(self.population,\\\n",
    "            key = lambda population: population.note_val, reverse=True)\n",
    "\n",
    "    def best_person(self, person):\n",
    "        if person.note_val > self.best_solution.note_val:\n",
    "            self.best_solution = person\n",
    "\n",
    "    def sum_val(self):\n",
    "        sum_ = 0\n",
    "        for person in self.population:\n",
    "            sum_ += person.note_val\n",
    "\n",
    "        return sum_\n",
    "\n",
    "    def select_father(self, sum_val):\n",
    "        father, sum_, i = -1, 0, 0\n",
    "        sorted_val = random() * sum_val\n",
    "        while i < len(self.population) and sum_ < sorted_val:\n",
    "            sum_ += self.population[i].note_val\n",
    "            father += 1\n",
    "            i += 1\n",
    "        \n",
    "        return father\n",
    "\n",
    "    def generation_visualize(self):\n",
    "        best = self.population[0]\n",
    "        print(f\"\\nGeneration: {self.population[0].generation} \\nValue: {best.note_val}\\\n",
    "            \\nSpace: {best.used_space} \\nChromosome: {best.chromosome}\")\n",
    "\n",
    "    '''def resolve(self, mutation_rate, gen_num, spaces, value, space_limit):\n",
    "        self.population_initialize(spaces, value, space_limit)\n",
    "\n",
    "        for person in self.population:\n",
    "            person.validation()\n",
    "\n",
    "        self.sort_population()\n",
    "        self.best_solution = self.population[0]\n",
    "        self.solution_list.append(self.best_solution.note_val)\n",
    "        self.generation_visualize()\n",
    "\n",
    "        for generation in range(gen_num):\n",
    "            sum_value = self.sum_val()\n",
    "            new_population = []\n",
    "\n",
    "            for person_gen in range(0, self.population_size, 2):\n",
    "                f1 = self.select_father(sum_value)\n",
    "                f2 = self.select_father(sum_value)\n",
    "\n",
    "                sons = self.population[f1].crossover(self.population[f2])\n",
    "                new_population.append(sons[0].mutation(mutation_rate))\n",
    "                new_population.append(sons[1].mutation(mutation_rate))\n",
    "\n",
    "            self.population = list(new_population)\n",
    "\n",
    "            for person in self.population:\n",
    "                person.validation()\n",
    "\n",
    "            \n",
    "            self.sort_population()\n",
    "            self.generation_visualize()\n",
    "\n",
    "            best = self.population[0]\n",
    "            self.solution_list.append(best.note_val)\n",
    "            self.best_person(best)\n",
    "\n",
    "        print(f\"\\nBest Solution G: {self.best_solution.generation} \\nValue: {self.best_solution.note_val}\\\n",
    "            \\nSpace: {self.best_solution.used_space} \\nChromosome: {self.best_solution.chromosome}\")\n",
    "\n",
    "        return self.best_solution.chromosome'''\n",
    "\n",
    "    def resolver(self, taxa_mutacao, numero_geracoes, espacos, valores, limite_espacos):\n",
    "        self.inicializa_populacao(espacos, valores, limite_espacos)\n",
    "    \n",
    "        for individuo in self.populacao:\n",
    "            individuo.avaliacao()\n",
    "        \n",
    "        self.ordena_populacao()\n",
    "        self.melhor_solucao = self.populacao[0]\n",
    "        self.lista_solucoes.append(self.melhor_solucao.nota_avaliacao)\n",
    "        self.visualiza_geracao()\n",
    "                    \n",
    "        for geracao in range(numero_geracoes):\n",
    "            soma_avaliacao = self.soma_avaliacoes()\n",
    "            nova_populacao = []\n",
    "            \n",
    "            for individuos_gerados in range(0, self.tamanho_populacao, 2):\n",
    "                pai1 = self.seleciona_pai(soma_avaliacao)\n",
    "                pai2 = self.seleciona_pai(soma_avaliacao)\n",
    "                \n",
    "                filhos = self.populacao[pai1].crossover(self.populacao[pai2])\n",
    "                    \n",
    "                nova_populacao.append(filhos[0].mutacao(taxa_mutacao))\n",
    "                nova_populacao.append(filhos[1].mutacao(taxa_mutacao))\n",
    "                \n",
    "            self.populacao = list(nova_populacao)\n",
    "                \n",
    "            for individuo in self.populacao:\n",
    "                individuo.avaliacao()\n",
    "                \n",
    "            self.ordena_populacao()\n",
    "                \n",
    "            self.visualiza_geracao()\n",
    "                \n",
    "            melhor = self.populacao[0]\n",
    "            self.lista_solucoes.append(melhor.nota_avaliacao)\n",
    "            self.melhor_individuo(melhor)\n",
    "            \n",
    "        print(\"\\nMelhor solução -> G: %s Valor: %s Espaço: %s Cromossomo: %s\" %\n",
    "                (self.melhor_solucao.geracao,\n",
    "                self.melhor_solucao.nota_avaliacao,\n",
    "                self.melhor_solucao.espaco_usado,\n",
    "                self.melhor_solucao.cromossomo))\n",
    "            \n",
    "        return self.melhor_solucao.cromossomo"
   ]
  },
  {
   "cell_type": "code",
   "execution_count": 270,
   "metadata": {},
   "outputs": [],
   "source": [
    "space, value, name = [], [], []\n",
    "\n",
    "for prod in prod_list:\n",
    "    space.append(prod.space)\n",
    "    value.append(prod.value)\n",
    "    name.append(prod.name)"
   ]
  },
  {
   "cell_type": "code",
   "execution_count": 271,
   "metadata": {},
   "outputs": [
    {
     "name": "stdout",
     "output_type": "stream",
     "text": [
      "Space: [0.751, 8.99e-05, 0.4, 0.29, 0.2, 0.0035, 0.496, 0.0424, 0.0544, 0.0319, 0.635, 0.87, 0.498, 0.527]\n",
      "Value: [999.9, 2911.12, 4346.99, 3999.9, 2999.0, 2499.9, 199.9, 308.66, 429.9, 299.29, 849.0, 1199.89, 1999.9, 3999.0]\n",
      "Chromossome: ['0', '0', '1', '1', '1', '0', '0', '1', '0', '0', '0', '0', '1', '1']\n"
     ]
    }
   ],
   "source": [
    "LIMIT = 3\n",
    "\n",
    "person1 = Person(space, value, LIMIT)\n",
    "print(f\"Space: {person1.space}\\nValue: {person1.value}\\nChromossome: {person1.chromosome}\")"
   ]
  },
  {
   "cell_type": "code",
   "execution_count": 272,
   "metadata": {},
   "outputs": [
    {
     "name": "stdout",
     "output_type": "stream",
     "text": [
      "Name: TV 55'  \n",
      "Value: R$ 4346.99\n",
      "Name: TV 50'  \n",
      "Value: R$ 3999.9\n",
      "Name: TV 42'  \n",
      "Value: R$ 2999.0\n",
      "Name: Microondas Electrolux \n",
      "Value: R$ 308.66\n",
      "Name: Notebook Lenovo \n",
      "Value: R$ 1999.9\n",
      "Name: Notebook Asus \n",
      "Value: R$ 3999.0\n"
     ]
    }
   ],
   "source": [
    "for i in range(len(prod_list)):\n",
    "    if person1.chromosome[i] == '1':\n",
    "        print(f\"Name: {prod_list[i].name} \\nValue: R$ {prod_list[i].value}\")"
   ]
  },
  {
   "cell_type": "code",
   "execution_count": 273,
   "metadata": {},
   "outputs": [
    {
     "name": "stdout",
     "output_type": "stream",
     "text": [
      "Note: 17653.449999999997 \n",
      "Used Space: 1.9574\n"
     ]
    }
   ],
   "source": [
    "person1.validation()\n",
    "print(f\"Note: {person1.note_val} \\nUsed Space: {person1.used_space}\")"
   ]
  },
  {
   "cell_type": "markdown",
   "metadata": {},
   "source": [
    "## Crossover"
   ]
  },
  {
   "cell_type": "code",
   "execution_count": 274,
   "metadata": {},
   "outputs": [
    {
     "name": "stdout",
     "output_type": "stream",
     "text": [
      "Space: [0.751, 8.99e-05, 0.4, 0.29, 0.2, 0.0035, 0.496, 0.0424, 0.0544, 0.0319, 0.635, 0.87, 0.498, 0.527]\n",
      "Value: [999.9, 2911.12, 4346.99, 3999.9, 2999.0, 2499.9, 199.9, 308.66, 429.9, 299.29, 849.0, 1199.89, 1999.9, 3999.0]\n",
      "Chromossome: ['0', '1', '1', '1', '0', '1', '1', '1', '0', '1', '1', '0', '0', '1']\n",
      "\n",
      "Name: TV 55'  \n",
      "Value: R$ 4346.99\n",
      "Name: TV 50'  \n",
      "Value: R$ 3999.9\n",
      "Name: TV 42'  \n",
      "Value: R$ 2999.0\n",
      "Name: Microondas Electrolux \n",
      "Value: R$ 308.66\n",
      "Name: Notebook Lenovo \n",
      "Value: R$ 1999.9\n",
      "Name: Notebook Asus \n",
      "Value: R$ 3999.0\n",
      "\n",
      "Note: 19413.760000000002 \n",
      "Used Space: 2.42589\n"
     ]
    }
   ],
   "source": [
    "person2 = Person(space, value, LIMIT)\n",
    "print(f\"Space: {person2.space}\\nValue: {person2.value}\\nChromossome: {person2.chromosome}\\n\")\n",
    "\n",
    "for i in range(len(prod_list)):\n",
    "    if person1.chromosome[i] == '1':\n",
    "        print(f\"Name: {prod_list[i].name} \\nValue: R$ {prod_list[i].value}\")\n",
    "\n",
    "person2.validation()\n",
    "print(f\"\\nNote: {person2.note_val} \\nUsed Space: {person2.used_space}\")"
   ]
  },
  {
   "cell_type": "code",
   "execution_count": 275,
   "metadata": {},
   "outputs": [
    {
     "data": {
      "text/plain": [
       "[<__main__.Person at 0x7fdfce65ff40>, <__main__.Person at 0x7fdfce65fdc0>]"
      ]
     },
     "execution_count": 275,
     "metadata": {},
     "output_type": "execute_result"
    }
   ],
   "source": [
    "person1.crossover(person2)"
   ]
  },
  {
   "cell_type": "code",
   "execution_count": 276,
   "metadata": {},
   "outputs": [
    {
     "name": "stdout",
     "output_type": "stream",
     "text": [
      "\n",
      "Before: ['0', '0', '1', '1', '1', '0', '0', '1', '0', '0', '0', '0', '1', '1']\n",
      "After: ['1', '1', '1', '1', '1', '1', '1', '1', '1', '1', '1', '1', '1', '1']\n"
     ]
    },
    {
     "data": {
      "text/plain": [
       "<__main__.Person at 0x7fdfce758a60>"
      ]
     },
     "execution_count": 276,
     "metadata": {},
     "output_type": "execute_result"
    }
   ],
   "source": [
    "person1.mutation(0.005)"
   ]
  },
  {
   "cell_type": "code",
   "execution_count": 277,
   "metadata": {},
   "outputs": [
    {
     "name": "stdout",
     "output_type": "stream",
     "text": [
      "\n",
      "Before: ['0', '1', '1', '1', '0', '1', '1', '1', '0', '1', '1', '0', '0', '1']\n",
      "After: ['1', '1', '1', '1', '1', '1', '1', '1', '1', '1', '1', '1', '1', '1']\n"
     ]
    },
    {
     "data": {
      "text/plain": [
       "<__main__.Person at 0x7fdfce6591c0>"
      ]
     },
     "execution_count": 277,
     "metadata": {},
     "output_type": "execute_result"
    }
   ],
   "source": [
    "person2.mutation(0.05)"
   ]
  },
  {
   "cell_type": "code",
   "execution_count": 279,
   "metadata": {},
   "outputs": [],
   "source": [
    "pop_size = 20\n",
    "ag = Genetic(pop_size)\n",
    "ag.iniciali_individuo(space, value, LIMIT)\n",
    "\n",
    "for person in ag.population:\n",
    "    person.validation()\n",
    "\n",
    "ag.sort_population()\n",
    "ag.best_person(ag.population[0])"
   ]
  },
  {
   "cell_type": "code",
   "execution_count": 280,
   "metadata": {},
   "outputs": [
    {
     "name": "stdout",
     "output_type": "stream",
     "text": [
      "Person: 1 \n",
      "Space: [0.751, 8.99e-05, 0.4, 0.29, 0.2, 0.0035, 0.496, 0.0424, 0.0544, 0.0319, 0.635, 0.87, 0.498, 0.527]            \n",
      "Value: [999.9, 2911.12, 4346.99, 3999.9, 2999.0, 2499.9, 199.9, 308.66, 429.9, 299.29, 849.0, 1199.89, 1999.9, 3999.0]                \n",
      "Chromosome: ['0', '1', '1', '0', '1', '1', '1', '1', '0', '0', '0', '0', '1', '1']                    \n",
      "Note: 19264.47\n",
      "\n",
      "Person: 2 \n",
      "Space: [0.751, 8.99e-05, 0.4, 0.29, 0.2, 0.0035, 0.496, 0.0424, 0.0544, 0.0319, 0.635, 0.87, 0.498, 0.527]            \n",
      "Value: [999.9, 2911.12, 4346.99, 3999.9, 2999.0, 2499.9, 199.9, 308.66, 429.9, 299.29, 849.0, 1199.89, 1999.9, 3999.0]                \n",
      "Chromosome: ['0', '1', '1', '0', '1', '1', '1', '0', '0', '1', '0', '1', '0', '1']                    \n",
      "Note: 18455.09\n",
      "\n",
      "Person: 3 \n",
      "Space: [0.751, 8.99e-05, 0.4, 0.29, 0.2, 0.0035, 0.496, 0.0424, 0.0544, 0.0319, 0.635, 0.87, 0.498, 0.527]            \n",
      "Value: [999.9, 2911.12, 4346.99, 3999.9, 2999.0, 2499.9, 199.9, 308.66, 429.9, 299.29, 849.0, 1199.89, 1999.9, 3999.0]                \n",
      "Chromosome: ['0', '1', '1', '1', '0', '1', '0', '0', '1', '1', '0', '1', '1', '0']                    \n",
      "Note: 17686.89\n",
      "\n",
      "Person: 4 \n",
      "Space: [0.751, 8.99e-05, 0.4, 0.29, 0.2, 0.0035, 0.496, 0.0424, 0.0544, 0.0319, 0.635, 0.87, 0.498, 0.527]            \n",
      "Value: [999.9, 2911.12, 4346.99, 3999.9, 2999.0, 2499.9, 199.9, 308.66, 429.9, 299.29, 849.0, 1199.89, 1999.9, 3999.0]                \n",
      "Chromosome: ['1', '1', '1', '1', '1', '0', '0', '0', '0', '1', '0', '1', '0', '0']                    \n",
      "Note: 16756.09\n",
      "\n",
      "Person: 5 \n",
      "Space: [0.751, 8.99e-05, 0.4, 0.29, 0.2, 0.0035, 0.496, 0.0424, 0.0544, 0.0319, 0.635, 0.87, 0.498, 0.527]            \n",
      "Value: [999.9, 2911.12, 4346.99, 3999.9, 2999.0, 2499.9, 199.9, 308.66, 429.9, 299.29, 849.0, 1199.89, 1999.9, 3999.0]                \n",
      "Chromosome: ['1', '1', '0', '1', '0', '1', '0', '1', '1', '1', '1', '0', '0', '1']                    \n",
      "Note: 16296.67\n",
      "\n",
      "Person: 6 \n",
      "Space: [0.751, 8.99e-05, 0.4, 0.29, 0.2, 0.0035, 0.496, 0.0424, 0.0544, 0.0319, 0.635, 0.87, 0.498, 0.527]            \n",
      "Value: [999.9, 2911.12, 4346.99, 3999.9, 2999.0, 2499.9, 199.9, 308.66, 429.9, 299.29, 849.0, 1199.89, 1999.9, 3999.0]                \n",
      "Chromosome: ['1', '0', '1', '1', '1', '1', '0', '0', '1', '0', '1', '0', '0', '0']                    \n",
      "Note: 16124.589999999998\n",
      "\n",
      "Person: 7 \n",
      "Space: [0.751, 8.99e-05, 0.4, 0.29, 0.2, 0.0035, 0.496, 0.0424, 0.0544, 0.0319, 0.635, 0.87, 0.498, 0.527]            \n",
      "Value: [999.9, 2911.12, 4346.99, 3999.9, 2999.0, 2499.9, 199.9, 308.66, 429.9, 299.29, 849.0, 1199.89, 1999.9, 3999.0]                \n",
      "Chromosome: ['1', '1', '0', '1', '0', '1', '0', '0', '1', '1', '0', '1', '1', '0']                    \n",
      "Note: 14339.8\n",
      "\n",
      "Person: 8 \n",
      "Space: [0.751, 8.99e-05, 0.4, 0.29, 0.2, 0.0035, 0.496, 0.0424, 0.0544, 0.0319, 0.635, 0.87, 0.498, 0.527]            \n",
      "Value: [999.9, 2911.12, 4346.99, 3999.9, 2999.0, 2499.9, 199.9, 308.66, 429.9, 299.29, 849.0, 1199.89, 1999.9, 3999.0]                \n",
      "Chromosome: ['0', '1', '1', '0', '1', '0', '1', '0', '0', '0', '1', '0', '0', '0']                    \n",
      "Note: 11306.01\n",
      "\n",
      "Person: 9 \n",
      "Space: [0.751, 8.99e-05, 0.4, 0.29, 0.2, 0.0035, 0.496, 0.0424, 0.0544, 0.0319, 0.635, 0.87, 0.498, 0.527]            \n",
      "Value: [999.9, 2911.12, 4346.99, 3999.9, 2999.0, 2499.9, 199.9, 308.66, 429.9, 299.29, 849.0, 1199.89, 1999.9, 3999.0]                \n",
      "Chromosome: ['0', '1', '0', '1', '0', '0', '1', '0', '0', '1', '0', '1', '1', '0']                    \n",
      "Note: 10610.0\n",
      "\n",
      "Person: 10 \n",
      "Space: [0.751, 8.99e-05, 0.4, 0.29, 0.2, 0.0035, 0.496, 0.0424, 0.0544, 0.0319, 0.635, 0.87, 0.498, 0.527]            \n",
      "Value: [999.9, 2911.12, 4346.99, 3999.9, 2999.0, 2499.9, 199.9, 308.66, 429.9, 299.29, 849.0, 1199.89, 1999.9, 3999.0]                \n",
      "Chromosome: ['1', '1', '0', '1', '0', '0', '1', '1', '0', '0', '0', '0', '1', '0']                    \n",
      "Note: 10419.38\n",
      "\n",
      "Person: 11 \n",
      "Space: [0.751, 8.99e-05, 0.4, 0.29, 0.2, 0.0035, 0.496, 0.0424, 0.0544, 0.0319, 0.635, 0.87, 0.498, 0.527]            \n",
      "Value: [999.9, 2911.12, 4346.99, 3999.9, 2999.0, 2499.9, 199.9, 308.66, 429.9, 299.29, 849.0, 1199.89, 1999.9, 3999.0]                \n",
      "Chromosome: ['0', '0', '1', '0', '1', '1', '1', '0', '0', '1', '0', '0', '0', '0']                    \n",
      "Note: 10345.08\n",
      "\n",
      "Person: 12 \n",
      "Space: [0.751, 8.99e-05, 0.4, 0.29, 0.2, 0.0035, 0.496, 0.0424, 0.0544, 0.0319, 0.635, 0.87, 0.498, 0.527]            \n",
      "Value: [999.9, 2911.12, 4346.99, 3999.9, 2999.0, 2499.9, 199.9, 308.66, 429.9, 299.29, 849.0, 1199.89, 1999.9, 3999.0]                \n",
      "Chromosome: ['1', '1', '1', '0', '0', '0', '1', '0', '1', '1', '1', '0', '0', '0']                    \n",
      "Note: 10036.1\n",
      "\n",
      "Person: 13 \n",
      "Space: [0.751, 8.99e-05, 0.4, 0.29, 0.2, 0.0035, 0.496, 0.0424, 0.0544, 0.0319, 0.635, 0.87, 0.498, 0.527]            \n",
      "Value: [999.9, 2911.12, 4346.99, 3999.9, 2999.0, 2499.9, 199.9, 308.66, 429.9, 299.29, 849.0, 1199.89, 1999.9, 3999.0]                \n",
      "Chromosome: ['1', '0', '0', '1', '1', '0', '0', '0', '1', '1', '0', '0', '0', '0']                    \n",
      "Note: 8727.990000000002\n",
      "\n",
      "Person: 14 \n",
      "Space: [0.751, 8.99e-05, 0.4, 0.29, 0.2, 0.0035, 0.496, 0.0424, 0.0544, 0.0319, 0.635, 0.87, 0.498, 0.527]            \n",
      "Value: [999.9, 2911.12, 4346.99, 3999.9, 2999.0, 2499.9, 199.9, 308.66, 429.9, 299.29, 849.0, 1199.89, 1999.9, 3999.0]                \n",
      "Chromosome: ['0', '0', '0', '0', '1', '0', '0', '1', '1', '0', '0', '0', '1', '0']                    \n",
      "Note: 5737.46\n",
      "\n",
      "Person: 15 \n",
      "Space: [0.751, 8.99e-05, 0.4, 0.29, 0.2, 0.0035, 0.496, 0.0424, 0.0544, 0.0319, 0.635, 0.87, 0.498, 0.527]            \n",
      "Value: [999.9, 2911.12, 4346.99, 3999.9, 2999.0, 2499.9, 199.9, 308.66, 429.9, 299.29, 849.0, 1199.89, 1999.9, 3999.0]                \n",
      "Chromosome: ['0', '0', '0', '0', '1', '0', '1', '0', '1', '0', '0', '0', '1', '0']                    \n",
      "Note: 5628.700000000001\n",
      "\n",
      "Person: 16 \n",
      "Space: [0.751, 8.99e-05, 0.4, 0.29, 0.2, 0.0035, 0.496, 0.0424, 0.0544, 0.0319, 0.635, 0.87, 0.498, 0.527]            \n",
      "Value: [999.9, 2911.12, 4346.99, 3999.9, 2999.0, 2499.9, 199.9, 308.66, 429.9, 299.29, 849.0, 1199.89, 1999.9, 3999.0]                \n",
      "Chromosome: ['0', '1', '1', '0', '1', '0', '0', '0', '1', '1', '1', '1', '1', '1']                    \n",
      "Note: 1\n",
      "\n",
      "Person: 17 \n",
      "Space: [0.751, 8.99e-05, 0.4, 0.29, 0.2, 0.0035, 0.496, 0.0424, 0.0544, 0.0319, 0.635, 0.87, 0.498, 0.527]            \n",
      "Value: [999.9, 2911.12, 4346.99, 3999.9, 2999.0, 2499.9, 199.9, 308.66, 429.9, 299.29, 849.0, 1199.89, 1999.9, 3999.0]                \n",
      "Chromosome: ['1', '1', '1', '1', '1', '1', '1', '1', '0', '0', '0', '1', '1', '0']                    \n",
      "Note: 1\n",
      "\n",
      "Person: 18 \n",
      "Space: [0.751, 8.99e-05, 0.4, 0.29, 0.2, 0.0035, 0.496, 0.0424, 0.0544, 0.0319, 0.635, 0.87, 0.498, 0.527]            \n",
      "Value: [999.9, 2911.12, 4346.99, 3999.9, 2999.0, 2499.9, 199.9, 308.66, 429.9, 299.29, 849.0, 1199.89, 1999.9, 3999.0]                \n",
      "Chromosome: ['1', '0', '1', '0', '0', '1', '0', '0', '1', '0', '1', '1', '0', '1']                    \n",
      "Note: 1\n",
      "\n",
      "Person: 19 \n",
      "Space: [0.751, 8.99e-05, 0.4, 0.29, 0.2, 0.0035, 0.496, 0.0424, 0.0544, 0.0319, 0.635, 0.87, 0.498, 0.527]            \n",
      "Value: [999.9, 2911.12, 4346.99, 3999.9, 2999.0, 2499.9, 199.9, 308.66, 429.9, 299.29, 849.0, 1199.89, 1999.9, 3999.0]                \n",
      "Chromosome: ['1', '1', '1', '1', '1', '0', '1', '0', '1', '1', '1', '1', '1', '0']                    \n",
      "Note: 1\n",
      "\n",
      "Person: 20 \n",
      "Space: [0.751, 8.99e-05, 0.4, 0.29, 0.2, 0.0035, 0.496, 0.0424, 0.0544, 0.0319, 0.635, 0.87, 0.498, 0.527]            \n",
      "Value: [999.9, 2911.12, 4346.99, 3999.9, 2999.0, 2499.9, 199.9, 308.66, 429.9, 299.29, 849.0, 1199.89, 1999.9, 3999.0]                \n",
      "Chromosome: ['1', '0', '1', '1', '1', '0', '0', '0', '1', '0', '1', '1', '0', '0']                    \n",
      "Note: 1\n",
      "\n"
     ]
    }
   ],
   "source": [
    "for i in range(ag.population_size):\n",
    "    print(f\"Person: {i+1} \\nSpace: {str(ag.population[i].space)}\\\n",
    "            \\nValue: {str(ag.population[i].value)}\\\n",
    "                \\nChromosome: {str(ag.population[i].chromosome)}\\\n",
    "                    \\nNote: {ag.population[i].note_val}\\n\")"
   ]
  },
  {
   "cell_type": "code",
   "execution_count": 281,
   "metadata": {},
   "outputs": [
    {
     "name": "stdout",
     "output_type": "stream",
     "text": [
      "Best Soluiton: ['0', '1', '1', '0', '1', '1', '1', '1', '0', '0', '0', '0', '1', '1'] \n",
      "Note: 19264.47\n"
     ]
    }
   ],
   "source": [
    "print(f\"Best Soluiton: {ag.best_solution.chromosome} \\nNote: {ag.best_solution.note_val}\")"
   ]
  },
  {
   "cell_type": "code",
   "execution_count": 282,
   "metadata": {},
   "outputs": [
    {
     "name": "stdout",
     "output_type": "stream",
     "text": [
      "The sum of validation is: 191739.32\n"
     ]
    }
   ],
   "source": [
    "sum_ = ag.sum_val()\n",
    "print(f\"The sum of validation is: {round(sum_,4)}\")"
   ]
  },
  {
   "cell_type": "code",
   "execution_count": 283,
   "metadata": {},
   "outputs": [
    {
     "data": {
      "text/plain": [
       "(1, 4)"
      ]
     },
     "execution_count": 283,
     "metadata": {},
     "output_type": "execute_result"
    }
   ],
   "source": [
    "for person_generate in range(0, ag.population_size, 2):\n",
    "    father1 = ag.select_father(sum_)\n",
    "    father2 = ag.select_father(sum_)\n",
    "father1, father2"
   ]
  },
  {
   "cell_type": "code",
   "execution_count": 284,
   "metadata": {},
   "outputs": [
    {
     "name": "stdout",
     "output_type": "stream",
     "text": [
      "\n",
      "Before: ['1', '0', '1', '1', '1', '1', '0', '0', '1', '0', '1', '0', '0', '0']\n",
      "After: ['1', '1', '1', '1', '1', '1', '1', '1', '1', '1', '1', '1', '1', '1']\n",
      "\n",
      "Before: ['1', '1', '1', '1', '1', '0', '0', '0', '1', '0', '1', '0', '0', '0']\n",
      "After: ['1', '1', '1', '1', '1', '1', '1', '1', '1', '1', '1', '1', '1', '1']\n",
      "\n",
      "Before: ['1', '0', '0', '1', '1', '0', '0', '0', '1', '1', '0', '0', '0', '0']\n",
      "After: ['1', '1', '1', '1', '1', '1', '1', '1', '1', '1', '1', '1', '1', '1']\n",
      "\n",
      "Before: ['1', '1', '0', '1', '0', '1', '0', '1', '1', '1', '0', '0', '0', '0']\n",
      "After: ['1', '1', '1', '1', '1', '1', '1', '1', '1', '1', '1', '1', '1', '1']\n",
      "\n",
      "Before: ['0', '1', '1', '0', '1', '1', '1', '1', '0', '0', '0', '0', '1', '1']\n",
      "After: ['1', '1', '1', '1', '1', '1', '1', '1', '1', '1', '1', '1', '1', '1']\n",
      "\n",
      "Before: ['0', '0', '1', '0', '1', '1', '1', '0', '0', '1', '0', '0', '1', '1']\n",
      "After: ['1', '1', '1', '1', '1', '1', '1', '1', '1', '1', '1', '1', '1', '1']\n",
      "\n",
      "Before: ['1', '1', '0', '1', '0', '1', '0', '0', '1', '1', '0', '1', '1', '0']\n",
      "After: ['1', '1', '1', '1', '1', '1', '1', '1', '1', '1', '1', '1', '1', '1']\n",
      "\n",
      "Before: ['0', '0', '0', '1', '0', '1', '0', '0', '1', '1', '0', '1', '1', '0']\n",
      "After: ['1', '1', '1', '1', '1', '1', '1', '1', '1', '1', '1', '1', '1', '1']\n",
      "\n",
      "Before: ['0', '0', '1', '0', '1', '1', '1', '0', '0', '1', '0', '0', '0', '0']\n",
      "After: ['1', '1', '1', '1', '1', '1', '1', '1', '1', '1', '1', '1', '1', '1']\n",
      "\n",
      "Before: ['1', '0', '1', '0', '1', '1', '1', '0', '0', '1', '0', '0', '0', '0']\n",
      "After: ['1', '1', '1', '1', '1', '1', '1', '1', '1', '1', '1', '1', '1', '1']\n",
      "\n",
      "Before: ['0', '1', '0', '1', '0', '0', '1', '0', '0', '1', '0', '1', '1', '0']\n",
      "After: ['1', '1', '1', '1', '1', '1', '1', '1', '1', '1', '1', '1', '1', '1']\n",
      "\n",
      "Before: ['0', '1', '1', '1', '0', '0', '1', '0', '0', '1', '0', '1', '1', '0']\n",
      "After: ['1', '1', '1', '1', '1', '1', '1', '1', '1', '1', '1', '1', '1', '1']\n",
      "\n",
      "Before: ['1', '1', '0', '1', '0', '0', '1', '1', '0', '0', '0', '0', '1', '0']\n",
      "After: ['1', '1', '1', '1', '1', '1', '1', '1', '1', '1', '1', '1', '1', '1']\n",
      "\n",
      "Before: ['0', '1', '1', '0', '1', '1', '1', '0', '0', '0', '0', '0', '1', '0']\n",
      "After: ['1', '1', '1', '1', '1', '1', '1', '1', '1', '1', '1', '1', '1', '1']\n",
      "\n",
      "Before: ['0', '1', '1', '1', '0', '1', '0', '0', '1', '1', '0', '1', '1', '0']\n",
      "After: ['1', '1', '1', '1', '1', '1', '1', '1', '1', '1', '1', '1', '1', '1']\n",
      "\n",
      "Before: ['1', '0', '0', '1', '1', '0', '0', '0', '1', '1', '0', '1', '1', '0']\n",
      "After: ['1', '1', '1', '1', '1', '1', '1', '1', '1', '1', '1', '1', '1', '1']\n",
      "\n",
      "Before: ['0', '0', '0', '0', '1', '0', '0', '1', '1', '0', '0', '0', '1', '0']\n",
      "After: ['1', '1', '1', '1', '1', '1', '1', '1', '1', '1', '1', '1', '1', '1']\n",
      "\n",
      "Before: ['1', '1', '0', '1', '0', '1', '0', '1', '1', '1', '1', '0', '0', '0']\n",
      "After: ['1', '1', '1', '1', '1', '1', '1', '1', '1', '1', '1', '1', '1', '1']\n",
      "\n",
      "Before: ['1', '1', '0', '1', '0', '0', '1', '1', '0', '0', '0', '0', '1', '0']\n",
      "After: ['1', '1', '1', '1', '1', '1', '1', '1', '1', '1', '1', '1', '1', '1']\n",
      "\n",
      "Before: ['1', '1', '1', '1', '0', '0', '1', '1', '0', '0', '0', '0', '1', '0']\n",
      "After: ['1', '1', '1', '1', '1', '1', '1', '1', '1', '1', '1', '1', '1', '1']\n",
      "\n",
      "\n",
      "Best: ['0', '1', '1', '0', '1', '1', '1', '1', '0', '0', '0', '0', '1', '1'] \n",
      "Value: 19264.47\n",
      "\n"
     ]
    }
   ],
   "source": [
    "new_population = []\n",
    "prob_mutation = 0.01\n",
    "\n",
    "for person_generate in range(0, ag.population_size, 2):\n",
    "    father1 = ag.select_father(sum_)\n",
    "    father2 = ag.select_father(sum_)\n",
    "    sons = ag.population[father1].crossover(ag.population[father2])\n",
    "    new_population.append(sons[0].mutation(prob_mutation))\n",
    "    new_population.append(sons[1].mutation(prob_mutation))\n",
    "\n",
    "ag.population = list(new_population)\n",
    "\n",
    "for person in ag.population:\n",
    "    person.validation()\n",
    "\n",
    "ag.sort_population()\n",
    "ag.best_person(ag.population[0])\n",
    "sum_ = ag.sum_val()\n",
    "\n",
    "print(f\"\\n\\nBest: {ag.best_solution.chromosome} \\nValue: {ag.best_solution.note_val}\\n\")"
   ]
  },
  {
   "cell_type": "code",
   "execution_count": 285,
   "metadata": {},
   "outputs": [
    {
     "ename": "AttributeError",
     "evalue": "'Genetic' object has no attribute 'inicializa_populacao'",
     "output_type": "error",
     "traceback": [
      "\u001b[0;31m---------------------------------------------------------------------------\u001b[0m",
      "\u001b[0;31mAttributeError\u001b[0m                            Traceback (most recent call last)",
      "Cell \u001b[0;32mIn [285], line 6\u001b[0m\n\u001b[1;32m      4\u001b[0m gen_num \u001b[38;5;241m=\u001b[39m \u001b[38;5;241m100\u001b[39m\n\u001b[1;32m      5\u001b[0m ag \u001b[38;5;241m=\u001b[39m Genetic(pop_size)\n\u001b[0;32m----> 6\u001b[0m result \u001b[38;5;241m=\u001b[39m \u001b[43mag\u001b[49m\u001b[38;5;241;43m.\u001b[39;49m\u001b[43mresolver\u001b[49m\u001b[43m(\u001b[49m\u001b[43mmutation_rate\u001b[49m\u001b[43m,\u001b[49m\u001b[43m \u001b[49m\u001b[43mgen_num\u001b[49m\u001b[43m,\u001b[49m\u001b[43m \u001b[49m\u001b[43mspace\u001b[49m\u001b[43m,\u001b[49m\u001b[43m \u001b[49m\u001b[43mvalue\u001b[49m\u001b[43m,\u001b[49m\u001b[43m \u001b[49m\u001b[43mlimit\u001b[49m\u001b[43m)\u001b[49m\n\u001b[1;32m      8\u001b[0m \u001b[38;5;28;01mfor\u001b[39;00m i \u001b[38;5;129;01min\u001b[39;00m \u001b[38;5;28mrange\u001b[39m(\u001b[38;5;28mlen\u001b[39m(prod_list)):\n\u001b[1;32m      9\u001b[0m     \u001b[38;5;28;01mif\u001b[39;00m result[i] \u001b[38;5;241m==\u001b[39m \u001b[38;5;124m'\u001b[39m\u001b[38;5;124m1\u001b[39m\u001b[38;5;124m'\u001b[39m:\n",
      "Cell \u001b[0;32mIn [269], line 87\u001b[0m, in \u001b[0;36mGenetic.resolver\u001b[0;34m(self, taxa_mutacao, numero_geracoes, espacos, valores, limite_espacos)\u001b[0m\n\u001b[1;32m     86\u001b[0m \u001b[38;5;28;01mdef\u001b[39;00m \u001b[38;5;21mresolver\u001b[39m(\u001b[38;5;28mself\u001b[39m, taxa_mutacao, numero_geracoes, espacos, valores, limite_espacos):\n\u001b[0;32m---> 87\u001b[0m     \u001b[38;5;28;43mself\u001b[39;49m\u001b[38;5;241;43m.\u001b[39;49m\u001b[43minicializa_populacao\u001b[49m(espacos, valores, limite_espacos)\n\u001b[1;32m     89\u001b[0m     \u001b[38;5;28;01mfor\u001b[39;00m individuo \u001b[38;5;129;01min\u001b[39;00m \u001b[38;5;28mself\u001b[39m\u001b[38;5;241m.\u001b[39mpopulacao:\n\u001b[1;32m     90\u001b[0m         individuo\u001b[38;5;241m.\u001b[39mavaliacao()\n",
      "\u001b[0;31mAttributeError\u001b[0m: 'Genetic' object has no attribute 'inicializa_populacao'"
     ]
    }
   ],
   "source": [
    "limit = 8\n",
    "pop_size = 10\n",
    "mutation_rate = 0.01\n",
    "gen_num = 100\n",
    "ag = Genetic(pop_size)\n",
    "result = ag.resolver(mutation_rate, gen_num, space, value, limit)\n",
    "\n",
    "for i in range(len(prod_list)):\n",
    "    if result[i] == '1':\n",
    "        print(f\"Name: {prod_list[i].name} \\nR$ {prod_list[i].value}\")"
   ]
  },
  {
   "cell_type": "code",
   "execution_count": null,
   "metadata": {},
   "outputs": [
    {
     "data": {
      "text/plain": [
       "1"
      ]
     },
     "execution_count": 224,
     "metadata": {},
     "output_type": "execute_result"
    }
   ],
   "source": [
    "person.note_val"
   ]
  },
  {
   "cell_type": "code",
   "execution_count": 286,
   "metadata": {},
   "outputs": [],
   "source": [
    "import matplotlib.pyplot as plt"
   ]
  },
  {
   "cell_type": "code",
   "execution_count": 287,
   "metadata": {},
   "outputs": [
    {
     "data": {
      "image/png": "[encoded data removed]",
      "text/plain": [
       "<Figure size 640x480 with 1 Axes>"
      ]
     },
     "metadata": {},
     "output_type": "display_data"
    }
   ],
   "source": [
    "plt.plot(ag.solution_list)\n",
    "plt.title(\"Acompanhamento dos valores\")\n",
    "plt.show()"
   ]
  },
  {
   "cell_type": "markdown",
   "metadata": {},
   "source": [
    "## DEAP (Distribuided Evolutionary Algorithms in Python)"
   ]
  },
  {
   "cell_type": "code",
   "execution_count": 288,
   "metadata": {},
   "outputs": [],
   "source": [
    "# pip install deap"
   ]
  },
  {
   "cell_type": "code",
   "execution_count": 289,
   "metadata": {},
   "outputs": [],
   "source": [
    "import random\n",
    "import numpy as np\n",
    "import matplotlib.pyplot as plt\n",
    "\n",
    "from deap import base, creator, algorithms, tools"
   ]
  },
  {
   "cell_type": "code",
   "execution_count": 290,
   "metadata": {},
   "outputs": [
    {
     "name": "stdout",
     "output_type": "stream",
     "text": [
      "Product name: Geladeira Dako | Value: R$ 999.9\n",
      "Product name: Iphone 6 | Value: R$ 2911.12\n",
      "Product name: TV 55'  | Value: R$ 4346.99\n",
      "Product name: TV 50'  | Value: R$ 3999.9\n",
      "Product name: TV 42'  | Value: R$ 2999.0\n",
      "Product name: Notebook Dell | Value: R$ 2499.9\n",
      "Product name: Ventilador Panasonic | Value: R$ 199.9\n",
      "Product name: Microondas Electrolux | Value: R$ 308.66\n",
      "Product name: Microondas LG | Value: R$ 429.9\n",
      "Product name: Microondas Panasonic | Value: R$ 299.29\n",
      "Product name: Geladeira Brastemp | Value: R$ 849.0\n",
      "Product name: Geladeira Consul | Value: R$ 1199.89\n",
      "Product name: Notebook Lenovo | Value: R$ 1999.9\n",
      "Product name: Notebook Asus | Value: R$ 3999.0\n"
     ]
    }
   ],
   "source": [
    "pro"
   ]
  },
  {
   "cell_type": "code",
   "execution_count": 291,
   "metadata": {},
   "outputs": [
    {
     "name": "stdout",
     "output_type": "stream",
     "text": [
      "Product name: Geladeira Dako | Value: R$ 999.9\n",
      "Product name: Iphone 6 | Value: R$ 2911.12\n",
      "Product name: TV 55'  | Value: R$ 4346.99\n",
      "Product name: TV 50'  | Value: R$ 3999.9\n",
      "Product name: TV 42'  | Value: R$ 2999.0\n",
      "Product name: Notebook Dell | Value: R$ 2499.9\n",
      "Product name: Ventilador Panasonic | Value: R$ 199.9\n",
      "Product name: Microondas Electrolux | Value: R$ 308.66\n",
      "Product name: Microondas LG | Value: R$ 429.9\n",
      "Product name: Microondas Panasonic | Value: R$ 299.29\n",
      "Product name: Geladeira Brastemp | Value: R$ 849.0\n",
      "Product name: Geladeira Consul | Value: R$ 1199.89\n",
      "Product name: Notebook Lenovo | Value: R$ 1999.9\n",
      "Product name: Notebook Asus | Value: R$ 3999.0\n"
     ]
    }
   ],
   "source": [
    "space, value, names = [], [], []\n",
    "\n",
    "for prod in prod_list:\n",
    "    space.append(prod.space)\n",
    "    value.append(prod.value)\n",
    "    name.append(prod.name)\n",
    "    print(f\"Product name: {prod.name} | Value: R$ {prod.value}\")"
   ]
  },
  {
   "cell_type": "code",
   "execution_count": 293,
   "metadata": {},
   "outputs": [
    {
     "ename": "AttributeError",
     "evalue": "'Genetic' object has no attribute 'inicializa_populacao'",
     "output_type": "error",
     "traceback": [
      "\u001b[0;31m---------------------------------------------------------------------------\u001b[0m",
      "\u001b[0;31mAttributeError\u001b[0m                            Traceback (most recent call last)",
      "Cell \u001b[0;32mIn [293], line 13\u001b[0m\n\u001b[1;32m     11\u001b[0m numero_geracoes \u001b[38;5;241m=\u001b[39m \u001b[38;5;241m100\u001b[39m\n\u001b[1;32m     12\u001b[0m ag \u001b[38;5;241m=\u001b[39m Genetic(tamanho_populacao)\n\u001b[0;32m---> 13\u001b[0m resultado \u001b[38;5;241m=\u001b[39m \u001b[43mag\u001b[49m\u001b[38;5;241;43m.\u001b[39;49m\u001b[43mresolver\u001b[49m\u001b[43m(\u001b[49m\u001b[43mtaxa_mutacao\u001b[49m\u001b[43m,\u001b[49m\u001b[43m \u001b[49m\u001b[43mnumero_geracoes\u001b[49m\u001b[43m,\u001b[49m\u001b[43m \u001b[49m\u001b[43mespacos\u001b[49m\u001b[43m,\u001b[49m\u001b[43m \u001b[49m\u001b[43mvalores\u001b[49m\u001b[43m,\u001b[49m\u001b[43m \u001b[49m\u001b[43mlimite\u001b[49m\u001b[43m)\u001b[49m\n\u001b[1;32m     14\u001b[0m \u001b[38;5;28;01mfor\u001b[39;00m i \u001b[38;5;129;01min\u001b[39;00m \u001b[38;5;28mrange\u001b[39m(\u001b[38;5;28mlen\u001b[39m(prod_list)):\n\u001b[1;32m     15\u001b[0m     \u001b[38;5;28;01mif\u001b[39;00m resultado[i] \u001b[38;5;241m==\u001b[39m \u001b[38;5;124m'\u001b[39m\u001b[38;5;124m1\u001b[39m\u001b[38;5;124m'\u001b[39m:\n",
      "Cell \u001b[0;32mIn [269], line 87\u001b[0m, in \u001b[0;36mGenetic.resolver\u001b[0;34m(self, taxa_mutacao, numero_geracoes, espacos, valores, limite_espacos)\u001b[0m\n\u001b[1;32m     86\u001b[0m \u001b[38;5;28;01mdef\u001b[39;00m \u001b[38;5;21mresolver\u001b[39m(\u001b[38;5;28mself\u001b[39m, taxa_mutacao, numero_geracoes, espacos, valores, limite_espacos):\n\u001b[0;32m---> 87\u001b[0m     \u001b[38;5;28;43mself\u001b[39;49m\u001b[38;5;241;43m.\u001b[39;49m\u001b[43minicializa_populacao\u001b[49m(espacos, valores, limite_espacos)\n\u001b[1;32m     89\u001b[0m     \u001b[38;5;28;01mfor\u001b[39;00m individuo \u001b[38;5;129;01min\u001b[39;00m \u001b[38;5;28mself\u001b[39m\u001b[38;5;241m.\u001b[39mpopulacao:\n\u001b[1;32m     90\u001b[0m         individuo\u001b[38;5;241m.\u001b[39mavaliacao()\n",
      "\u001b[0;31mAttributeError\u001b[0m: 'Genetic' object has no attribute 'inicializa_populacao'"
     ]
    }
   ],
   "source": [
    "espacos = []\n",
    "valores = []\n",
    "nomes = []\n",
    "for produto in prod_list:\n",
    "    espacos.append(produto.space)\n",
    "    valores.append(produto.value)\n",
    "    nomes.append(produto.name)\n",
    "limite = 3\n",
    "tamanho_populacao = 20\n",
    "taxa_mutacao = 0.01\n",
    "numero_geracoes = 100\n",
    "ag = Genetic(tamanho_populacao)\n",
    "resultado = ag.resolver(taxa_mutacao, numero_geracoes, espacos, valores, limite)\n",
    "for i in range(len(prod_list)):\n",
    "    if resultado[i] == '1':\n",
    "        print(\"Nome: %s R$ %s \" % (prod_list[i].nome,\n",
    "                                   prod_list[i].valor))\n",
    "            \n",
    "    \n",
    "#for valor in ag.lista_solucoes:\n",
    "#    print(valor)\n",
    "plt.plot(ag.lista_solucoes)\n",
    "plt.title(\"Acompanhamento dos valores\")\n",
    "plt.show()"
   ]
  },
  {
   "cell_type": "code",
   "execution_count": null,
   "metadata": {},
   "outputs": [],
   "source": []
  },
  {
   "cell_type": "code",
   "execution_count": null,
   "metadata": {},
   "outputs": [],
   "source": []
  },
  {
   "cell_type": "code",
   "execution_count": null,
   "metadata": {},
   "outputs": [],
   "source": []
  },
  {
   "cell_type": "code",
   "execution_count": null,
   "metadata": {},
   "outputs": [],
   "source": []
  },
  {
   "cell_type": "code",
   "execution_count": null,
   "metadata": {},
   "outputs": [],
   "source": []
  },
  {
   "cell_type": "code",
   "execution_count": null,
   "metadata": {},
   "outputs": [],
   "source": []
  }
 ],
 "metadata": {
  "kernelspec": {
   "display_name": "Python 3.8.10 64-bit",
   "language": "python",
   "name": "python3"
  },
  "language_info": {
   "codemirror_mode": {
    "name": "ipython",
    "version": 3
   },
   "file_extension": ".py",
   "mimetype": "text/x-python",
   "name": "python",
   "nbconvert_exporter": "python",
   "pygments_lexer": "ipython3",
   "version": "3.8.10"
  },
  "orig_nbformat": 4,
  "vscode": {
   "interpreter": {
    "hash": "916dbcbb3f70747c44a77c7bcd40155683ae19c65e1c03b4aa3499c5328201f1"
   }
  }
 },
 "nbformat": 4,
 "nbformat_minor": 2
}
