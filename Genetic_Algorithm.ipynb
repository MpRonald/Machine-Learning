{
 "cells": [
  {
   "cell_type": "markdown",
   "metadata": {},
   "source": [
    "## Product Class"
   ]
  },
  {
   "cell_type": "code",
   "execution_count": 142,
   "metadata": {},
   "outputs": [],
   "source": [
    "class Product():\n",
    "\n",
    "    def __init__(self, name, space, value):\n",
    "        self.name = name\n",
    "        self.space = space\n",
    "        self.value = value"
   ]
  },
  {
   "cell_type": "code",
   "execution_count": 143,
   "metadata": {},
   "outputs": [
    {
     "data": {
      "text/plain": [
       "('Moto', 0.0009, 2199.12)"
      ]
     },
     "execution_count": 143,
     "metadata": {},
     "output_type": "execute_result"
    }
   ],
   "source": [
    "p1 = Product('Moto', 0.0009, 2199.12)\n",
    "p1.name, p1.space, p1.value"
   ]
  },
  {
   "cell_type": "code",
   "execution_count": 144,
   "metadata": {},
   "outputs": [
    {
     "name": "stdout",
     "output_type": "stream",
     "text": [
      "Product name: Geladeira Dako | Value: R$ 999.9\n",
      "Product name: Iphone 6 | Value: R$ 2911.12\n",
      "Product name: TV 55'  | Value: R$ 4346.99\n",
      "Product name: TV 50'  | Value: R$ 3999.9\n",
      "Product name: TV 42'  | Value: R$ 2999.0\n",
      "Product name: Notebook Dell | Value: R$ 2499.9\n",
      "Product name: Ventilador Panasonic | Value: R$ 199.9\n",
      "Product name: Microondas Electrolux | Value: R$ 308.66\n",
      "Product name: Microondas LG | Value: R$ 429.9\n",
      "Product name: Microondas Panasonic | Value: R$ 299.29\n",
      "Product name: Geladeira Brastemp | Value: R$ 849.0\n",
      "Product name: Geladeira Consul | Value: R$ 1199.89\n",
      "Product name: Notebook Lenovo | Value: R$ 1999.9\n",
      "Product name: Notebook Asus | Value: R$ 3999.0\n"
     ]
    }
   ],
   "source": [
    "prod_list = []\n",
    "prod_list.append(Product(\"Geladeira Dako\", 0.751, 999.90))\n",
    "prod_list.append(Product(\"Iphone 6\", 0.0000899, 2911.12))\n",
    "prod_list.append(Product(\"TV 55' \", 0.400, 4346.99))\n",
    "prod_list.append(Product(\"TV 50' \", 0.290, 3999.90))\n",
    "prod_list.append(Product(\"TV 42' \", 0.200, 2999.00))\n",
    "prod_list.append(Product(\"Notebook Dell\", 0.00350, 2499.90))\n",
    "prod_list.append(Product(\"Ventilador Panasonic\", 0.496, 199.90))\n",
    "prod_list.append(Product(\"Microondas Electrolux\", 0.0424, 308.66))\n",
    "prod_list.append(Product(\"Microondas LG\", 0.0544, 429.90))\n",
    "prod_list.append(Product(\"Microondas Panasonic\", 0.0319, 299.29))\n",
    "prod_list.append(Product(\"Geladeira Brastemp\", 0.635, 849.00))\n",
    "prod_list.append(Product(\"Geladeira Consul\", 0.870, 1199.89))\n",
    "prod_list.append(Product(\"Notebook Lenovo\", 0.498, 1999.90))\n",
    "prod_list.append(Product(\"Notebook Asus\", 0.527, 3999.00))\n",
    "for prod in prod_list:\n",
    "    print(f\"Product name: {prod.name} | Value: R$ {prod.value}\")"
   ]
  },
  {
   "cell_type": "markdown",
   "metadata": {},
   "source": [
    "## Person Class"
   ]
  },
  {
   "cell_type": "code",
   "execution_count": 145,
   "metadata": {},
   "outputs": [],
   "source": [
    "from random import random"
   ]
  },
  {
   "cell_type": "code",
   "execution_count": 146,
   "metadata": {},
   "outputs": [],
   "source": [
    "class Person():\n",
    "\n",
    "    def __init__(self, space, value, space_limit, generation=0):\n",
    "        self.space = space\n",
    "        self.value = value\n",
    "        self.space_limit = space_limit\n",
    "        self.note_val = 0\n",
    "        self.used_space = 0\n",
    "        self.generation = generation\n",
    "        self.chromosome = []\n",
    "\n",
    "        for i in range(len(space)):\n",
    "            if random() < 0.5:\n",
    "                self.chromosome.append(\"0\")\n",
    "            else:\n",
    "                self.chromosome.append(\"1\")\n",
    "\n",
    "    def validation(self):\n",
    "        note = 0\n",
    "        sum_space = 0\n",
    "        for i in range(len(self.chromosome)):\n",
    "            if self.chromosome[i] == '1':\n",
    "                note += self.value[i]\n",
    "                sum_space += self.space[i]\n",
    "\n",
    "        if sum_space > self.space_limit:\n",
    "            note = 1\n",
    "        self.note_val = note\n",
    "        self.used_space = round(sum_space, 5)\n",
    "\n",
    "    def crossover(self, other):\n",
    "        cut = round(random() * len(self.chromosome))\n",
    "        son1 = other.chromosome[0:cut] + other.chromosome[cut::]\n",
    "        son2 = self.chromosome[0:cut] + other.chromosome[cut::]\n",
    "\n",
    "        sons = [Person(self.space, self.value, self.space_limit, self.generation + 1),\n",
    "                Person(self.space, self.value, self.space_limit, self.generation + 1)]\n",
    "\n",
    "        sons[0].chromosome = son1\n",
    "        sons[1].chromosome = son2\n",
    "\n",
    "        return sons\n",
    "\n",
    "    def mutation(self, mutation_rate):\n",
    "        print(f\"Before: {self.chromosome}\")\n",
    "        for i in range(len(self.chromosome)):\n",
    "            if random() < mutation_rate == '1':\n",
    "                self.chromosome[i] == '0'\n",
    "            else:\n",
    "                self.chromosome[i] = '1'\n",
    "\n",
    "        print(f\"After: {self.chromosome}\")\n",
    "        return self"
   ]
  },
  {
   "cell_type": "markdown",
   "metadata": {},
   "source": [
    "## Class Genetic"
   ]
  },
  {
   "cell_type": "code",
   "execution_count": 163,
   "metadata": {},
   "outputs": [],
   "source": [
    "class Genetic():\n",
    "    \n",
    "    def __init__(self, population_size):\n",
    "        self.population_size = population_size\n",
    "        self.population = []\n",
    "        self.generation = 0\n",
    "        self.best_solution = 0\n",
    "\n",
    "    def population_initialize(self, space, value, space_limit):\n",
    "        for i in range(self.population_size):\n",
    "            self.population.append(Person(space, value, space_limit))\n",
    "        self.best_solution = self.population[0]"
   ]
  },
  {
   "cell_type": "code",
   "execution_count": 147,
   "metadata": {},
   "outputs": [],
   "source": [
    "space, value, name = [], [], []\n",
    "\n",
    "for prod in prod_list:\n",
    "    space.append(prod.space)\n",
    "    value.append(prod.value)\n",
    "    name.append(prod.name)"
   ]
  },
  {
   "cell_type": "code",
   "execution_count": 148,
   "metadata": {},
   "outputs": [
    {
     "name": "stdout",
     "output_type": "stream",
     "text": [
      "Space: [0.751, 8.99e-05, 0.4, 0.29, 0.2, 0.0035, 0.496, 0.0424, 0.0544, 0.0319, 0.635, 0.87, 0.498, 0.527]\n",
      "Value: [999.9, 2911.12, 4346.99, 3999.9, 2999.0, 2499.9, 199.9, 308.66, 429.9, 299.29, 849.0, 1199.89, 1999.9, 3999.0]\n",
      "Chromossome: ['0', '0', '0', '1', '0', '1', '0', '1', '1', '1', '1', '0', '1', '0']\n"
     ]
    }
   ],
   "source": [
    "LIMIT = 3\n",
    "person1 = Person(space, value, LIMIT)\n",
    "print(f\"Space: {person1.space}\\nValue: {person1.value}\\nChromossome: {person1.chromosome}\")"
   ]
  },
  {
   "cell_type": "code",
   "execution_count": 149,
   "metadata": {},
   "outputs": [
    {
     "name": "stdout",
     "output_type": "stream",
     "text": [
      "Name: TV 50'  | Value: R$ 3999.9\n",
      "Name: Notebook Dell | Value: R$ 2499.9\n",
      "Name: Microondas Electrolux | Value: R$ 308.66\n",
      "Name: Microondas LG | Value: R$ 429.9\n",
      "Name: Microondas Panasonic | Value: R$ 299.29\n",
      "Name: Geladeira Brastemp | Value: R$ 849.0\n",
      "Name: Notebook Lenovo | Value: R$ 1999.9\n"
     ]
    }
   ],
   "source": [
    "for i in range(len(prod_list)):\n",
    "    if person1.chromosome[i] == '1':\n",
    "        print(f\"Name: {prod_list[i].name} | Value: R$ {prod_list[i].value}\")"
   ]
  },
  {
   "cell_type": "code",
   "execution_count": 150,
   "metadata": {},
   "outputs": [
    {
     "name": "stdout",
     "output_type": "stream",
     "text": [
      "Note: 10386.55 | Used Space: 1.5552\n"
     ]
    }
   ],
   "source": [
    "person1.validation()\n",
    "print(f\"Note: {person1.note_val} | Used Space: {person1.used_space}\")"
   ]
  },
  {
   "cell_type": "markdown",
   "metadata": {},
   "source": [
    "## Crossover"
   ]
  },
  {
   "cell_type": "code",
   "execution_count": 157,
   "metadata": {},
   "outputs": [
    {
     "name": "stdout",
     "output_type": "stream",
     "text": [
      "Space: [0.751, 8.99e-05, 0.4, 0.29, 0.2, 0.0035, 0.496, 0.0424, 0.0544, 0.0319, 0.635, 0.87, 0.498, 0.527]\n",
      "Value: [999.9, 2911.12, 4346.99, 3999.9, 2999.0, 2499.9, 199.9, 308.66, 429.9, 299.29, 849.0, 1199.89, 1999.9, 3999.0]\n",
      "Chromossome: ['1', '0', '0', '1', '1', '1', '0', '1', '1', '0', '1', '0', '1', '1']\n",
      "\n",
      "Name: Geladeira Dako | Value: R$ 999.9\n",
      "Name: Iphone 6 | Value: R$ 2911.12\n",
      "Name: TV 55'  | Value: R$ 4346.99\n",
      "Name: TV 50'  | Value: R$ 3999.9\n",
      "Name: TV 42'  | Value: R$ 2999.0\n",
      "Name: Notebook Dell | Value: R$ 2499.9\n",
      "Name: Ventilador Panasonic | Value: R$ 199.9\n",
      "Name: Microondas Electrolux | Value: R$ 308.66\n",
      "Name: Microondas LG | Value: R$ 429.9\n",
      "Name: Microondas Panasonic | Value: R$ 299.29\n",
      "Name: Geladeira Brastemp | Value: R$ 849.0\n",
      "Name: Geladeira Consul | Value: R$ 1199.89\n",
      "Name: Notebook Lenovo | Value: R$ 1999.9\n",
      "Name: Notebook Asus | Value: R$ 3999.0\n",
      "\n",
      "Note: 1 | Used Space: 3.0013\n"
     ]
    }
   ],
   "source": [
    "person2 = Person(space, value, LIMIT)\n",
    "print(f\"Space: {person2.space}\\nValue: {person2.value}\\nChromossome: {person2.chromosome}\\n\")\n",
    "\n",
    "for i in range(len(prod_list)):\n",
    "    if person1.chromosome[i] == '1':\n",
    "        print(f\"Name: {prod_list[i].name} | Value: R$ {prod_list[i].value}\")\n",
    "\n",
    "person2.validation()\n",
    "print(f\"\\nNote: {person2.note_val} | Used Space: {person2.used_space}\")"
   ]
  },
  {
   "cell_type": "code",
   "execution_count": 158,
   "metadata": {},
   "outputs": [
    {
     "data": {
      "text/plain": [
       "[<__main__.Person at 0x7f004d4c7e80>, <__main__.Person at 0x7f004d4c7370>]"
      ]
     },
     "execution_count": 158,
     "metadata": {},
     "output_type": "execute_result"
    }
   ],
   "source": [
    "person1.crossover(person2)"
   ]
  },
  {
   "cell_type": "code",
   "execution_count": 159,
   "metadata": {},
   "outputs": [
    {
     "name": "stdout",
     "output_type": "stream",
     "text": [
      "Before: ['1', '1', '1', '1', '1', '1', '1', '1', '1', '1', '1', '1', '1', '1']\n",
      "After: ['1', '1', '1', '1', '1', '1', '1', '1', '1', '1', '1', '1', '1', '1']\n"
     ]
    },
    {
     "data": {
      "text/plain": [
       "<__main__.Person at 0x7f004d577700>"
      ]
     },
     "execution_count": 159,
     "metadata": {},
     "output_type": "execute_result"
    }
   ],
   "source": [
    "person1.mutation(0.005)"
   ]
  },
  {
   "cell_type": "code",
   "execution_count": 160,
   "metadata": {},
   "outputs": [
    {
     "name": "stdout",
     "output_type": "stream",
     "text": [
      "Before: ['1', '0', '0', '1', '1', '1', '0', '1', '1', '0', '1', '0', '1', '1']\n",
      "After: ['1', '1', '1', '1', '1', '1', '1', '1', '1', '1', '1', '1', '1', '1']\n"
     ]
    },
    {
     "data": {
      "text/plain": [
       "<__main__.Person at 0x7f004d577850>"
      ]
     },
     "execution_count": 160,
     "metadata": {},
     "output_type": "execute_result"
    }
   ],
   "source": [
    "person2.mutation(0.05)"
   ]
  },
  {
   "cell_type": "code",
   "execution_count": 166,
   "metadata": {},
   "outputs": [
    {
     "name": "stdout",
     "output_type": "stream",
     "text": [
      "Person: 1 | Space: [0.751, 8.99e-05, 0.4, 0.29, 0.2, 0.0035, 0.496, 0.0424, 0.0544, 0.0319, 0.635, 0.87, 0.498, 0.527] |             Value: [999.9, 2911.12, 4346.99, 3999.9, 2999.0, 2499.9, 199.9, 308.66, 429.9, 299.29, 849.0, 1199.89, 1999.9, 3999.0] | Chromosome: ['0', '0', '1', '1', '1', '1', '1', '1', '1', '0', '0', '0', '0', '0']\n",
      "\n",
      "Person: 2 | Space: [0.751, 8.99e-05, 0.4, 0.29, 0.2, 0.0035, 0.496, 0.0424, 0.0544, 0.0319, 0.635, 0.87, 0.498, 0.527] |             Value: [999.9, 2911.12, 4346.99, 3999.9, 2999.0, 2499.9, 199.9, 308.66, 429.9, 299.29, 849.0, 1199.89, 1999.9, 3999.0] | Chromosome: ['0', '0', '0', '0', '1', '0', '0', '1', '1', '0', '0', '0', '0', '1']\n",
      "\n",
      "Person: 3 | Space: [0.751, 8.99e-05, 0.4, 0.29, 0.2, 0.0035, 0.496, 0.0424, 0.0544, 0.0319, 0.635, 0.87, 0.498, 0.527] |             Value: [999.9, 2911.12, 4346.99, 3999.9, 2999.0, 2499.9, 199.9, 308.66, 429.9, 299.29, 849.0, 1199.89, 1999.9, 3999.0] | Chromosome: ['1', '0', '1', '1', '1', '0', '1', '0', '1', '1', '1', '1', '1', '1']\n",
      "\n",
      "Person: 4 | Space: [0.751, 8.99e-05, 0.4, 0.29, 0.2, 0.0035, 0.496, 0.0424, 0.0544, 0.0319, 0.635, 0.87, 0.498, 0.527] |             Value: [999.9, 2911.12, 4346.99, 3999.9, 2999.0, 2499.9, 199.9, 308.66, 429.9, 299.29, 849.0, 1199.89, 1999.9, 3999.0] | Chromosome: ['0', '0', '1', '1', '0', '0', '1', '1', '1', '1', '0', '1', '0', '1']\n",
      "\n",
      "Person: 5 | Space: [0.751, 8.99e-05, 0.4, 0.29, 0.2, 0.0035, 0.496, 0.0424, 0.0544, 0.0319, 0.635, 0.87, 0.498, 0.527] |             Value: [999.9, 2911.12, 4346.99, 3999.9, 2999.0, 2499.9, 199.9, 308.66, 429.9, 299.29, 849.0, 1199.89, 1999.9, 3999.0] | Chromosome: ['0', '1', '0', '0', '1', '0', '1', '0', '0', '1', '0', '0', '1', '0']\n",
      "\n",
      "Person: 6 | Space: [0.751, 8.99e-05, 0.4, 0.29, 0.2, 0.0035, 0.496, 0.0424, 0.0544, 0.0319, 0.635, 0.87, 0.498, 0.527] |             Value: [999.9, 2911.12, 4346.99, 3999.9, 2999.0, 2499.9, 199.9, 308.66, 429.9, 299.29, 849.0, 1199.89, 1999.9, 3999.0] | Chromosome: ['1', '0', '0', '1', '0', '0', '0', '1', '0', '1', '0', '1', '1', '0']\n",
      "\n",
      "Person: 7 | Space: [0.751, 8.99e-05, 0.4, 0.29, 0.2, 0.0035, 0.496, 0.0424, 0.0544, 0.0319, 0.635, 0.87, 0.498, 0.527] |             Value: [999.9, 2911.12, 4346.99, 3999.9, 2999.0, 2499.9, 199.9, 308.66, 429.9, 299.29, 849.0, 1199.89, 1999.9, 3999.0] | Chromosome: ['0', '0', '1', '1', '0', '1', '1', '0', '0', '1', '1', '0', '0', '0']\n",
      "\n",
      "Person: 8 | Space: [0.751, 8.99e-05, 0.4, 0.29, 0.2, 0.0035, 0.496, 0.0424, 0.0544, 0.0319, 0.635, 0.87, 0.498, 0.527] |             Value: [999.9, 2911.12, 4346.99, 3999.9, 2999.0, 2499.9, 199.9, 308.66, 429.9, 299.29, 849.0, 1199.89, 1999.9, 3999.0] | Chromosome: ['0', '1', '0', '0', '1', '0', '0', '1', '0', '1', '1', '0', '0', '0']\n",
      "\n",
      "Person: 9 | Space: [0.751, 8.99e-05, 0.4, 0.29, 0.2, 0.0035, 0.496, 0.0424, 0.0544, 0.0319, 0.635, 0.87, 0.498, 0.527] |             Value: [999.9, 2911.12, 4346.99, 3999.9, 2999.0, 2499.9, 199.9, 308.66, 429.9, 299.29, 849.0, 1199.89, 1999.9, 3999.0] | Chromosome: ['0', '0', '0', '1', '1', '1', '1', '0', '1', '0', '0', '0', '1', '1']\n",
      "\n",
      "Person: 10 | Space: [0.751, 8.99e-05, 0.4, 0.29, 0.2, 0.0035, 0.496, 0.0424, 0.0544, 0.0319, 0.635, 0.87, 0.498, 0.527] |             Value: [999.9, 2911.12, 4346.99, 3999.9, 2999.0, 2499.9, 199.9, 308.66, 429.9, 299.29, 849.0, 1199.89, 1999.9, 3999.0] | Chromosome: ['0', '0', '0', '1', '0', '0', '0', '0', '1', '0', '0', '0', '1', '0']\n",
      "\n",
      "Person: 11 | Space: [0.751, 8.99e-05, 0.4, 0.29, 0.2, 0.0035, 0.496, 0.0424, 0.0544, 0.0319, 0.635, 0.87, 0.498, 0.527] |             Value: [999.9, 2911.12, 4346.99, 3999.9, 2999.0, 2499.9, 199.9, 308.66, 429.9, 299.29, 849.0, 1199.89, 1999.9, 3999.0] | Chromosome: ['0', '1', '0', '0', '0', '0', '1', '1', '1', '0', '1', '0', '1', '1']\n",
      "\n",
      "Person: 12 | Space: [0.751, 8.99e-05, 0.4, 0.29, 0.2, 0.0035, 0.496, 0.0424, 0.0544, 0.0319, 0.635, 0.87, 0.498, 0.527] |             Value: [999.9, 2911.12, 4346.99, 3999.9, 2999.0, 2499.9, 199.9, 308.66, 429.9, 299.29, 849.0, 1199.89, 1999.9, 3999.0] | Chromosome: ['1', '1', '0', '1', '0', '1', '1', '0', '0', '1', '0', '0', '1', '0']\n",
      "\n",
      "Person: 13 | Space: [0.751, 8.99e-05, 0.4, 0.29, 0.2, 0.0035, 0.496, 0.0424, 0.0544, 0.0319, 0.635, 0.87, 0.498, 0.527] |             Value: [999.9, 2911.12, 4346.99, 3999.9, 2999.0, 2499.9, 199.9, 308.66, 429.9, 299.29, 849.0, 1199.89, 1999.9, 3999.0] | Chromosome: ['0', '0', '1', '1', '0', '0', '1', '0', '0', '0', '1', '0', '1', '1']\n",
      "\n",
      "Person: 14 | Space: [0.751, 8.99e-05, 0.4, 0.29, 0.2, 0.0035, 0.496, 0.0424, 0.0544, 0.0319, 0.635, 0.87, 0.498, 0.527] |             Value: [999.9, 2911.12, 4346.99, 3999.9, 2999.0, 2499.9, 199.9, 308.66, 429.9, 299.29, 849.0, 1199.89, 1999.9, 3999.0] | Chromosome: ['0', '0', '1', '0', '0', '1', '1', '1', '1', '1', '1', '1', '0', '0']\n",
      "\n",
      "Person: 15 | Space: [0.751, 8.99e-05, 0.4, 0.29, 0.2, 0.0035, 0.496, 0.0424, 0.0544, 0.0319, 0.635, 0.87, 0.498, 0.527] |             Value: [999.9, 2911.12, 4346.99, 3999.9, 2999.0, 2499.9, 199.9, 308.66, 429.9, 299.29, 849.0, 1199.89, 1999.9, 3999.0] | Chromosome: ['0', '0', '0', '0', '1', '0', '1', '0', '0', '0', '1', '1', '1', '0']\n",
      "\n",
      "Person: 16 | Space: [0.751, 8.99e-05, 0.4, 0.29, 0.2, 0.0035, 0.496, 0.0424, 0.0544, 0.0319, 0.635, 0.87, 0.498, 0.527] |             Value: [999.9, 2911.12, 4346.99, 3999.9, 2999.0, 2499.9, 199.9, 308.66, 429.9, 299.29, 849.0, 1199.89, 1999.9, 3999.0] | Chromosome: ['0', '1', '0', '1', '0', '0', '1', '0', '0', '1', '0', '0', '1', '0']\n",
      "\n",
      "Person: 17 | Space: [0.751, 8.99e-05, 0.4, 0.29, 0.2, 0.0035, 0.496, 0.0424, 0.0544, 0.0319, 0.635, 0.87, 0.498, 0.527] |             Value: [999.9, 2911.12, 4346.99, 3999.9, 2999.0, 2499.9, 199.9, 308.66, 429.9, 299.29, 849.0, 1199.89, 1999.9, 3999.0] | Chromosome: ['1', '1', '0', '1', '0', '1', '0', '0', '0', '1', '1', '0', '1', '1']\n",
      "\n",
      "Person: 18 | Space: [0.751, 8.99e-05, 0.4, 0.29, 0.2, 0.0035, 0.496, 0.0424, 0.0544, 0.0319, 0.635, 0.87, 0.498, 0.527] |             Value: [999.9, 2911.12, 4346.99, 3999.9, 2999.0, 2499.9, 199.9, 308.66, 429.9, 299.29, 849.0, 1199.89, 1999.9, 3999.0] | Chromosome: ['1', '1', '1', '1', '0', '1', '1', '0', '0', '0', '0', '1', '0', '0']\n",
      "\n",
      "Person: 19 | Space: [0.751, 8.99e-05, 0.4, 0.29, 0.2, 0.0035, 0.496, 0.0424, 0.0544, 0.0319, 0.635, 0.87, 0.498, 0.527] |             Value: [999.9, 2911.12, 4346.99, 3999.9, 2999.0, 2499.9, 199.9, 308.66, 429.9, 299.29, 849.0, 1199.89, 1999.9, 3999.0] | Chromosome: ['0', '0', '0', '1', '1', '0', '1', '1', '1', '0', '0', '1', '1', '1']\n",
      "\n",
      "Person: 20 | Space: [0.751, 8.99e-05, 0.4, 0.29, 0.2, 0.0035, 0.496, 0.0424, 0.0544, 0.0319, 0.635, 0.87, 0.498, 0.527] |             Value: [999.9, 2911.12, 4346.99, 3999.9, 2999.0, 2499.9, 199.9, 308.66, 429.9, 299.29, 849.0, 1199.89, 1999.9, 3999.0] | Chromosome: ['1', '1', '1', '0', '0', '1', '0', '1', '0', '1', '1', '0', '1', '1']\n",
      "\n"
     ]
    }
   ],
   "source": [
    "pop_size = 20\n",
    "ag = Genetic(pop_size)\n",
    "ag.population_initialize(space, value, LIMIT)\n",
    "\n",
    "for i in range(ag.population_size):\n",
    "    print(f\"Person: {i+1} | Space: {str(ag.population[i].space)} | \\\n",
    "            Value: {str(ag.population[i].value)} | Chromosome: {str(ag.population[i].chromosome)}\\n\")"
   ]
  },
  {
   "cell_type": "code",
   "execution_count": null,
   "metadata": {},
   "outputs": [],
   "source": []
  }
 ],
 "metadata": {
  "kernelspec": {
   "display_name": "Python 3.8.10 64-bit",
   "language": "python",
   "name": "python3"
  },
  "language_info": {
   "codemirror_mode": {
    "name": "ipython",
    "version": 3
   },
   "file_extension": ".py",
   "mimetype": "text/x-python",
   "name": "python",
   "nbconvert_exporter": "python",
   "pygments_lexer": "ipython3",
   "version": "3.8.10"
  },
  "orig_nbformat": 4,
  "vscode": {
   "interpreter": {
    "hash": "916dbcbb3f70747c44a77c7bcd40155683ae19c65e1c03b4aa3499c5328201f1"
   }
  }
 },
 "nbformat": 4,
 "nbformat_minor": 2
}
