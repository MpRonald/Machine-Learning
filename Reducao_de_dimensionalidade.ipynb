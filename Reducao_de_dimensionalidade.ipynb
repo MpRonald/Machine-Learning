{
  "cells":[
    {
      "cell_type":"markdown",
      "source":[
        "# Redução de dimensionalidade com PCA e LDA usando Sklearn"
      ],
      "attachments":{
        
      },
      "metadata":{
        
      }
    },
    {
      "cell_type":"markdown",
      "source":[
        "A redução de dimensionalidade se refere à redução do número de recursos em um conjunto de dados de forma que o desempenho geral dos algoritmos treinados no conjunto de dados seja minimamente afetado. Com a redução da dimensionalidade, o tempo de treinamento de algoritmos estatísticos pode ser reduzido significativamente e os dados podem ser visualizados mais facilmente, uma vez que não é fácil visualizar conjuntos de dados em dimensões superiores."
      ],
      "attachments":{
        
      },
      "metadata":{
        
      }
    },
    {
      "cell_type":"markdown",
      "source":[
        "# PCA\n",
        "A análise de componentes principais é uma técnica de redução de dimensionalidade não supervisionada que não depende dos rótulos de um conjunto de dados. A análise de componentes principais prioriza os recursos com base em sua capacidade de causar variação máxima na saída. A ideia por trás do PCA é capturar os recursos que contêm o máximo de recursos sobre o conjunto de dados. O recurso que causa a variação máxima na saída é chamado de primeiro componente principal, o recurso que causa a segunda maior variação é chamado de segundo componente principal e assim por diante."
      ],
      "attachments":{
        
      },
      "metadata":{
        
      }
    },
    {
      "cell_type":"code",
      "source":[
        "import pandas as pd\n",
        "import numpy as np\n",
        "import seaborn as sns"
      ],
      "execution_count":1,
      "outputs":[
        
      ],
      "metadata":{
        
      }
    },
    {
      "cell_type":"code",
      "source":[
        "iris_df = sns.load_dataset(\"iris\")"
      ],
      "execution_count":2,
      "outputs":[
        
      ],
      "metadata":{
        
      }
    },
    {
      "cell_type":"code",
      "source":[
        "iris_df.head()"
      ],
      "execution_count":3,
      "outputs":[
        {
          "data":{
            "text\/html":[
              "<div>\n",
              "<style scoped>\n",
              "    .dataframe tbody tr th:only-of-type {\n",
              "        vertical-align: middle;\n",
              "    }\n",
              "\n",
              "    .dataframe tbody tr th {\n",
              "        vertical-align: top;\n",
              "    }\n",
              "\n",
              "    .dataframe thead th {\n",
              "        text-align: right;\n",
              "    }\n",
              "<\/style>\n",
              "<table border=\"1\" class=\"dataframe\">\n",
              "  <thead>\n",
              "    <tr style=\"text-align: right;\">\n",
              "      <th><\/th>\n",
              "      <th>sepal_length<\/th>\n",
              "      <th>sepal_width<\/th>\n",
              "      <th>petal_length<\/th>\n",
              "      <th>petal_width<\/th>\n",
              "      <th>species<\/th>\n",
              "    <\/tr>\n",
              "  <\/thead>\n",
              "  <tbody>\n",
              "    <tr>\n",
              "      <th>0<\/th>\n",
              "      <td>5.1<\/td>\n",
              "      <td>3.5<\/td>\n",
              "      <td>1.4<\/td>\n",
              "      <td>0.2<\/td>\n",
              "      <td>setosa<\/td>\n",
              "    <\/tr>\n",
              "    <tr>\n",
              "      <th>1<\/th>\n",
              "      <td>4.9<\/td>\n",
              "      <td>3.0<\/td>\n",
              "      <td>1.4<\/td>\n",
              "      <td>0.2<\/td>\n",
              "      <td>setosa<\/td>\n",
              "    <\/tr>\n",
              "    <tr>\n",
              "      <th>2<\/th>\n",
              "      <td>4.7<\/td>\n",
              "      <td>3.2<\/td>\n",
              "      <td>1.3<\/td>\n",
              "      <td>0.2<\/td>\n",
              "      <td>setosa<\/td>\n",
              "    <\/tr>\n",
              "    <tr>\n",
              "      <th>3<\/th>\n",
              "      <td>4.6<\/td>\n",
              "      <td>3.1<\/td>\n",
              "      <td>1.5<\/td>\n",
              "      <td>0.2<\/td>\n",
              "      <td>setosa<\/td>\n",
              "    <\/tr>\n",
              "    <tr>\n",
              "      <th>4<\/th>\n",
              "      <td>5.0<\/td>\n",
              "      <td>3.6<\/td>\n",
              "      <td>1.4<\/td>\n",
              "      <td>0.2<\/td>\n",
              "      <td>setosa<\/td>\n",
              "    <\/tr>\n",
              "  <\/tbody>\n",
              "<\/table>\n",
              "<\/div>"
            ]
          },
          "metadata":{
            
          },
          "output_type":"display_data"
        }
      ],
      "metadata":{
        
      }
    },
    {
      "cell_type":"code",
      "source":[
        "# dividindo dataset\n",
        "X = iris_df.drop(['species'], axis=1)\n",
        "y = iris_df['species']"
      ],
      "execution_count":4,
      "outputs":[
        
      ],
      "metadata":{
        
      }
    },
    {
      "cell_type":"code",
      "source":[
        "# convertendo rotulos em numeros\n",
        "from sklearn import preprocessing\n",
        "\n",
        "le = preprocessing.LabelEncoder()\n",
        "y = le.fit_transform(y)"
      ],
      "execution_count":5,
      "outputs":[
        
      ],
      "metadata":{
        
      }
    },
    {
      "cell_type":"code",
      "source":[
        "from sklearn.model_selection import train_test_split\n",
        "\n",
        "X_train, X_test, y_train, y_test = train_test_split(X,y,test_size=0.20, random_state=0)"
      ],
      "execution_count":6,
      "outputs":[
        
      ],
      "metadata":{
        
      }
    },
    {
      "cell_type":"code",
      "source":[
        "from sklearn.preprocessing import StandardScaler\n",
        "\n",
        "sc = StandardScaler()\n",
        "X_train = sc.fit_transform(X_train)\n",
        "X_test = sc.transform(X_test)"
      ],
      "execution_count":7,
      "outputs":[
        
      ],
      "metadata":{
        
      }
    },
    {
      "cell_type":"code",
      "source":[
        "from sklearn.decomposition import PCA\n",
        "\n",
        "# criando objeto de classe PCA\n",
        "pca = PCA()\n",
        "\n",
        "# treinando modelo PCA\n",
        "X_train = pca.fit_transform(X_train)\n",
        "\n",
        "# realizando precições com X_test\n",
        "X_test = pca.transform(X_test)"
      ],
      "execution_count":8,
      "outputs":[
        
      ],
      "metadata":{
        
      }
    },
    {
      "cell_type":"code",
      "source":[
        "variance_ratios = pca.explained_variance_ratio_\n",
        "print(variance_ratios)"
      ],
      "execution_count":9,
      "outputs":[
        {
          "name":"stdout",
          "text":[
            "[0.72229951 0.2397406  0.03335483 0.00460506]\n"
          ],
          "output_type":"stream"
        }
      ],
      "metadata":{
        
      }
    },
    {
      "cell_type":"markdown",
      "source":[
        "A saida acima mostra que 72,22% da variancia é causada no primeiro principal compononete,e 23,97% no segundo principal componente, se somarmos os dois principais componentes teremos 96,19% de variancia"
      ],
      "attachments":{
        
      },
      "metadata":{
        
      }
    },
    {
      "cell_type":"code",
      "source":[
        "# utilizando a classificação logística\n",
        "pca = PCA(n_components=2)\n",
        "X_train = pca.fit_transform(X_train)\n",
        "X_test = pca.transform(X_test)"
      ],
      "execution_count":10,
      "outputs":[
        
      ],
      "metadata":{
        
      }
    },
    {
      "cell_type":"code",
      "source":[
        "# realizando predições através da regressão logística\n",
        "from sklearn.linear_model import LogisticRegression\n",
        "\n",
        "lg = LogisticRegression()\n",
        "lg.fit(X_train, y_train)\n",
        "\n",
        "# predizendo o resultado dos testes\n",
        "y_pred = lg.predict(X_test)\n",
        "\n",
        "# avaliando resultados\n",
        "from sklearn.metrics import accuracy_score\n",
        "ac_result = accuracy_score(y_test, y_pred)*100\n",
        "print(f'teste de acuracia para o modelo: %.2f%%' % ac_result)"
      ],
      "execution_count":11,
      "outputs":[
        {
          "name":"stdout",
          "text":[
            "teste de acuracia para o modelo: 86.67%\n"
          ],
          "output_type":"stream"
        }
      ],
      "metadata":{
        
      }
    },
    {
      "cell_type":"code",
      "source":[
        "from matplotlib import pyplot as plt\n",
        "%matplotlib inline\n",
        "\n",
        "plt.scatter(X_test[:,0], X_test[:,1], c=y_test, cmap='rainbow')"
      ],
      "execution_count":12,
      "outputs":[
        {
          "data":{
            "text\/plain":[
              "<matplotlib.collections.PathCollection at 0x7fac29139c40>"
            ],
            "image\/png":"[encoded data removed]"
          },
          "metadata":{
            "image\/png":{
              
            }
          },
          "output_type":"display_data"
        }
      ],
      "metadata":{
        
      }
    },
    {
      "cell_type":"markdown",
      "source":[
        "# LDA\n",
        "# Análise Discriminante Linear\n",
        "A Análise Discriminante Linear (LDA) é uma técnica de redução de dimensionalidade supervisionada, onde um limite de decisão é formado em torno de pontos de dados pertencentes a cada cluster de uma classe. Os pontos de dados são projetados para novas dimensões de forma que a distância entre os pontos de dados dentro de um cluster seja minimizada, enquanto a distância entre os clusters é maximizada. As novas dimensões são classificadas de acordo com sua capacidade de (i) minimizar a distância entre os pontos de dados dentro de um cluster e (ii) maximizar a distância entre os clusters individuais."
      ],
      "attachments":{
        
      },
      "metadata":{
        
      }
    },
    {
      "cell_type":"code",
      "source":[
        
      ],
      "execution_count":14,
      "outputs":[
        
      ],
      "metadata":{
        
      }
    },
    {
      "cell_type":"code",
      "source":[
        "from sklearn.discriminant_analysis import LinearDiscriminantAnalysis as LDA"
      ],
      "execution_count":15,
      "outputs":[
        
      ],
      "metadata":{
        
      }
    },
    {
      "cell_type":"code",
      "source":[
        "lda = LDA()\n",
        "X_train = lda.fit_transform(X_train, y_train)\n",
        "X_test = lda.transform(X_test)"
      ],
      "execution_count":16,
      "outputs":[
        
      ],
      "metadata":{
        
      }
    },
    {
      "cell_type":"code",
      "source":[
        "variance_ratios = lda.explained_variance_ratio_\n",
        "print(variance_ratios)"
      ],
      "execution_count":17,
      "outputs":[
        {
          "name":"stdout",
          "text":[
            "[0.98793602 0.01206398]\n"
          ],
          "output_type":"stream"
        }
      ],
      "metadata":{
        
      }
    },
    {
      "cell_type":"code",
      "source":[
        "# criando um objeto LDA\n",
        "lda = LDA(n_components=1)"
      ],
      "execution_count":18,
      "outputs":[
        
      ],
      "metadata":{
        
      }
    },
    {
      "cell_type":"code",
      "source":[
        "from sklearn.linear_model import LogisticRegression\n",
        "from sklearn.metrics import accuracy_score\n",
        "\n",
        "lg = LogisticRegression()\n",
        "lg.fit(X_train, y_train)\n",
        "y_pred = lg.predict(X_test)\n",
        "ac_result = accuracy_score(y_test, y_pred)\n",
        "print('Resultado de teste de acuracia: %.2f' % ac_result)"
      ],
      "execution_count":21,
      "outputs":[
        {
          "name":"stdout",
          "text":[
            "Resultado de teste de acuracia: 0.90\n"
          ],
          "output_type":"stream"
        }
      ],
      "metadata":{
        
      }
    },
    {
      "cell_type":"code",
      "source":[
        
      ],
      "execution_count":0,
      "outputs":[
        
      ],
      "metadata":{
        
      }
    }
  ],
  "metadata":{
    
  },
  "nbformat":4,
  "nbformat_minor":0
}