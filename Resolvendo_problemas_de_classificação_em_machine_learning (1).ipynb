{
  "cells":[
    {
      "cell_type":"markdown",
      "source":[
        "<font size=5><b>Resolvendo problemas de classificação em Machine Learning"
      ],
      "attachments":{
        
      },
      "metadata":{
        
      }
    },
    {
      "cell_type":"markdown",
      "source":[
        "#### Preparação de dados para problemas de classificação"
      ],
      "attachments":{
        
      },
      "metadata":{
        
      }
    },
    {
      "cell_type":"code",
      "source":[
        "import pandas as pd\n",
        "import numpy as np\n",
        "import seaborn as sns"
      ],
      "execution_count":null,
      "outputs":[
        
      ],
      "metadata":{
        
      }
    },
    {
      "cell_type":"code",
      "source":[
        "churn_df = pd.read_csv(\"customer_churn.csv\")"
      ],
      "execution_count":null,
      "outputs":[
        
      ],
      "metadata":{
        
      }
    },
    {
      "cell_type":"code",
      "source":[
        "churn_df.head()"
      ],
      "execution_count":null,
      "outputs":[
        
      ],
      "metadata":{
        
      }
    },
    {
      "cell_type":"code",
      "source":[
        "X = churn_df.drop(['RatePlan'], axis=1)\n",
        "y = churn_df['RatePlan']"
      ],
      "execution_count":null,
      "outputs":[
        
      ],
      "metadata":{
        
      }
    },
    {
      "cell_type":"code",
      "source":[
        "X.head()"
      ],
      "execution_count":null,
      "outputs":[
        
      ],
      "metadata":{
        
      }
    },
    {
      "cell_type":"code",
      "source":[
        "y.head()"
      ],
      "execution_count":null,
      "outputs":[
        
      ],
      "metadata":{
        
      }
    },
    {
      "cell_type":"markdown",
      "source":[
        "## Convertendo dados categoricos em numericos"
      ],
      "attachments":{
        
      },
      "metadata":{
        
      }
    },
    {
      "cell_type":"code",
      "source":[
        "# criando um DF com somente dados numericos\n",
        "# criando um novo DF\n",
        "numerical = X.drop(['CHURN', 'Gender', 'Status', 'LocalBilltype',\\\n",
        "                    'Paymethod', 'LongDistanceBilltype', 'Car Owner'],\n",
        "                   axis=1)"
      ],
      "execution_count":null,
      "outputs":[
        
      ],
      "metadata":{
        
      }
    },
    {
      "cell_type":"code",
      "source":[
        "numerical.head()"
      ],
      "execution_count":null,
      "outputs":[
        
      ],
      "metadata":{
        
      }
    },
    {
      "cell_type":"code",
      "source":[
        "categorical = X.filter(['CHURN', 'Gender', 'Status', 'LocalBilltype',\\\n",
        "                    'Paymethod', 'LongDistanceBilltype', 'Car Owner'])"
      ],
      "execution_count":null,
      "outputs":[
        
      ],
      "metadata":{
        
      }
    },
    {
      "cell_type":"code",
      "source":[
        "categorical.head()"
      ],
      "execution_count":null,
      "outputs":[
        
      ],
      "metadata":{
        
      }
    },
    {
      "cell_type":"markdown",
      "source":[
        "O script a seguir converte colunas categóricas em colunas com codificação one-hot usando o método pd.get_dummies()."
      ],
      "attachments":{
        
      },
      "metadata":{
        
      }
    },
    {
      "cell_type":"code",
      "source":[
        "import pandas as pd\n",
        "cat_numerical = pd.get_dummies(categorical, drop_first=True)\n",
        "cat_numerical.head()"
      ],
      "execution_count":null,
      "outputs":[
        
      ],
      "metadata":{
        
      }
    },
    {
      "cell_type":"markdown",
      "source":[
        "A última e última etapa é unir ou concatenar as colunas numéricas e as colunas categóricas com codificação one-hot. Para fazer isso, você pode usar a função concat da biblioteca Pandas, conforme mostrado abaixo:\n"
      ],
      "attachments":{
        
      },
      "metadata":{
        
      }
    },
    {
      "cell_type":"code",
      "source":[
        "X = pd.concat([numerical, cat_numerical], axis = 1)\n",
        "X.head()"
      ],
      "execution_count":null,
      "outputs":[
        
      ],
      "metadata":{
        
      }
    },
    {
      "cell_type":"markdown",
      "source":[
        "### Dividindo os dados em conjuntos de treinamento e teste\n",
        "Depois de treinar um algoritmo de aprendizado de máquina, você precisa avaliá-lo para ver o desempenho dele em dados não vistos. Como a regressão, também em problemas de classificação dividimos o conjunto de dados em dois conjuntos, ou seja, o conjunto de treinamento e o conjunto de teste. O conjunto de dados é treinado por meio do conjunto de treinamento e avaliado no conjunto de teste. Para dividir os dados em conjuntos de treinamento e teste, você pode usar a função train_test_split() da biblioteca Sklearn, conforme mostrado abaixo. O script a seguir divide os dados em um conjunto de treinamento de 80 por cento e um conjunto de teste de 20 por cento."
      ],
      "attachments":{
        
      },
      "metadata":{
        
      }
    },
    {
      "cell_type":"code",
      "source":[
        "from sklearn.model_selection import train_test_split\n",
        "\n",
        "# tamanho do teste é a fração do tamanho do teste\n",
        "X_train, X_test, y_train, y_test = train_test_split\\\n",
        "(X, y, test_size = 0.30, random_state = 0)"
      ],
      "execution_count":null,
      "outputs":[
        
      ],
      "metadata":{
        
      }
    },
    {
      "cell_type":"markdown",
      "source":[
        "# Escalonamento \/ normalização de dados\n",
        "A última etapa (opcional) antes de os dados serem passados ​​para os algoritmos de aprendizado de máquina é dimensionar os dados. Você pode ver que algumas colunas do conjunto de dados contêm valores pequenos, enquanto as outras colunas contêm valores muito grandes. É melhor converter todos os valores em uma escala uniforme. Para fazer isso, você pode usar a função StandardScaler () do módulo sklearn.preprocessing, conforme mostrado abaixo:"
      ],
      "attachments":{
        
      },
      "metadata":{
        
      }
    },
    {
      "cell_type":"code",
      "source":[
        "from sklearn.preprocessing import StandardScaler\n",
        "\n",
        "sc = StandardScaler()\n",
        "X_train = sc.fit_transform (X_train)\n",
        "X_test = sc.transform (X_test)"
      ],
      "execution_count":null,
      "outputs":[
        
      ],
      "metadata":{
        
      }
    },
    {
      "cell_type":"markdown",
      "source":[
        "# Regressão Logística\n",
        "A regressão logística é um modelo linear que faz a classificação passando a saída da regressão linear por uma função sigmóide. \n",
        "\n",
        "Para implementar a regressão linear com Sklearn, você pode usar a classe LogisticRegression do módulo sklearn.linear_model. Para treinar o algoritmo, os conjuntos de treinamento e teste, ou seja, X_train e X_test em nosso caso, são passados para o método fit() do objeto da classe LogisticRegression. O conjunto de testes é passado para o método predict() da classe para fazer previsões. O processo de treinar e fazer previsões com o algoritmo de regressão linear é o seguinte:"
      ],
      "attachments":{
        
      },
      "metadata":{
        
      }
    },
    {
      "cell_type":"code",
      "source":[
        "from sklearn.linear_model import LogisticRegression\n",
        "\n",
        "log_clf = LogisticRegression ()\n",
        "classifier = log_clf.fit (X_train, y_train)\n",
        "y_pred = classifier.predict(X_test)"
      ],
      "execution_count":null,
      "outputs":[
        
      ],
      "metadata":{
        
      }
    },
    {
      "cell_type":"code",
      "source":[
        "from sklearn.metrics import classification_report, confusion_matrix, accuracy_score\n",
        "\n",
        "print(confusion_matrix(y_test,y_pred))\n",
        "print(classification_report(y_test,y_pred))\n",
        "print(accuracy_score(y_test, y_pred))"
      ],
      "execution_count":null,
      "outputs":[
        
      ],
      "metadata":{
        
      }
    },
    {
      "cell_type":"markdown",
      "source":[
        "Leituras Adicionais - Regressão Logística\n",
        "Para estudar mais sobre regressão linear, verifique estes links:\n",
        "1. https:\/\/bit.ly\/3mjFV76\n",
        "2. https:\/\/bit.ly\/2FvcU7B"
      ],
      "attachments":{
        
      },
      "metadata":{
        
      }
    },
    {
      "cell_type":"markdown",
      "source":[
        "# Classificador KNN"
      ],
      "attachments":{
        
      },
      "metadata":{
        
      }
    },
    {
      "cell_type":"markdown",
      "source":[
        "O script a seguir mostra o processo de treinamento, teste e avaliação do algoritmo de classificação KNN para prever os valores da coluna de dicas do conjunto de dados Dicas."
      ],
      "attachments":{
        
      },
      "metadata":{
        
      }
    },
    {
      "cell_type":"code",
      "source":[
        "from sklearn.neighbors import KNeighborsClassifier\n",
        "from sklearn.metrics import classification_report, confusion_matrix, accuracy_score\n",
        "\n",
        "knn_clf = KNeighborsClassifier(n_neighbors=5)\n",
        "classifier = knn_clf.fit(X_train, y_train)\n",
        "y_pred = classifier.predict(X_test)\n",
        "\n",
        "print(confusion_matrix(y_test,y_pred))\n",
        "print(classification_report(y_test,y_pred))\n",
        "print(accuracy_score(y_test, y_pred))"
      ],
      "execution_count":null,
      "outputs":[
        
      ],
      "metadata":{
        
      }
    },
    {
      "cell_type":"markdown",
      "source":[
        "Leituras adicionais - Classificação KNN\n",
        "Para estudar mais sobre a classificação KNN, verifique estes links:\n",
        "1. https:\/\/bit.ly\/33pXWIj\n",
        "2. https:\/\/bit.ly\/2FqNmZx"
      ],
      "attachments":{
        
      },
      "metadata":{
        
      }
    },
    {
      "cell_type":"markdown",
      "source":[
        "# Classificador Random Forest\n",
        "Como o regressor de floresta aleatório, o classificador de floresta aleatório é um algoritmo baseado em árvore que converte recursos em nós de árvore e, em seguida, usa a perda de entropia para fazer previsões de classificação."
      ],
      "attachments":{
        
      },
      "metadata":{
        
      }
    },
    {
      "cell_type":"code",
      "source":[
        "from sklearn.ensemble import RandomForestClassifier\n",
        "from sklearn.metrics import classification_report, confusion_matrix, accuracy_score\n",
        "\n",
        "rf_clf = RandomForestClassifier(random_state=42, n_estimators=500)\n",
        "classifier = rf_clf.fit(X_train, y_train)\n",
        "y_pred = classifier.predict(X_test)\n",
        "\n",
        "print(confusion_matrix(y_test,y_pred))\n",
        "print(classification_report(y_test,y_pred))\n",
        "print(accuracy_score(y_test, y_pred))"
      ],
      "execution_count":null,
      "outputs":[
        
      ],
      "metadata":{
        
      }
    },
    {
      "cell_type":"markdown",
      "source":[
        "Leituras adicionais - Classificação aleatória da floresta\n",
        "Para estudar mais sobre a classificação aleatória de florestas, verifique estes links:\n",
        "1. https:\/\/bit.ly\/2V1G0k0\n",
        "2. https:\/\/bit.ly\/2GTyqDH"
      ],
      "attachments":{
        
      },
      "metadata":{
        
      }
    },
    {
      "cell_type":"markdown",
      "source":[
        "# Classificação de vetores de suporte\n",
        "A máquina de vetores de suporte é de classificação, bem como algoritmos de regressão, que minimizam o erro entre as previsões reais e as previsões previstas, maximizando a distância entre os hiperplanos que contêm dados para vários registros."
      ],
      "attachments":{
        
      },
      "metadata":{
        
      }
    },
    {
      "cell_type":"code",
      "source":[
        "from sklearn import svm\n",
        "from sklearn.metrics import classification_report, confusion_matrix, accuracy_score\n",
        "\n",
        "svm_clf = svm.SVC()\n",
        "classifier = svm_clf .fit(X_train, y_train)\n",
        "y_pred = classifier.predict(X_test)\n",
        "\n",
        "print(confusion_matrix(y_test,y_pred))\n",
        "print(classification_report(y_test,y_pred))\n",
        "print(accuracy_score(y_test, y_pred))"
      ],
      "execution_count":null,
      "outputs":[
        
      ],
      "metadata":{
        
      }
    },
    {
      "cell_type":"markdown",
      "source":[
        "Further Readings – SVM Classification\n",
        "To study more about SVM classification, please check these links:\n",
        "1. https:\/\/bit.ly\/3hr4jAi\n",
        "2. https:\/\/bit.ly\/3iF0gln"
      ],
      "attachments":{
        
      },
      "metadata":{
        
      }
    },
    {
      "cell_type":"markdown",
      "source":[
        "# Validação cruzada K-Fold\n",
        "Você também pode realizar validação cruzada K-fold para modelos de classificação, assim como modelos de regressão. Você pode usar a função cross_val_score() do módulo sklearn.model_selection para realizar a validação cruzada, como mostrado abaixo. Para o algoritmo de classificação, você precisa passar uma métrica de classificação, por exemplo, precisão para o atributo de pontuação."
      ],
      "attachments":{
        
      },
      "metadata":{
        
      }
    },
    {
      "cell_type":"code",
      "source":[
        "from sklearn.model_selection import cross_val_score\n",
        "\n",
        "print(cross_val_score(classifier, X, y, cv=5, scoring ='accuracy'))"
      ],
      "execution_count":null,
      "outputs":[
        
      ],
      "metadata":{
        
      }
    },
    {
      "cell_type":"markdown",
      "source":[
        "# Previsão de um único valor\n",
        "Vamos fazer uma previsão em um único registro de cliente e ver se ele deixará o banco após seis meses ou não."
      ],
      "attachments":{
        
      },
      "metadata":{
        
      }
    },
    {
      "cell_type":"code",
      "source":[
        "churn_df.loc [100]"
      ],
      "execution_count":null,
      "outputs":[
        
      ],
      "metadata":{
        
      }
    },
    {
      "cell_type":"code",
      "source":[
        "# training the random forest algorithm\n",
        "from sklearn.ensemble import RandomForestClassifier\n",
        "\n",
        "rf_clf = RandomForestClassifier(random_state=42, n_estimators=500)\n",
        "classifier = rf_clf.fit(X_train, y_train)\n",
        "single_record = sc.transform (X.values[100].reshape(1, -1))\n",
        "predicted_churn = classifier.predict(single_record)\n",
        "\n",
        "print(predicted_churn)"
      ],
      "execution_count":null,
      "outputs":[
        
      ],
      "metadata":{
        
      }
    },
    {
      "cell_type":"code",
      "source":[
        
      ],
      "execution_count":null,
      "outputs":[
        
      ],
      "metadata":{
        
      }
    }
  ],
  "metadata":{
    
  },
  "nbformat":4,
  "nbformat_minor":0
}