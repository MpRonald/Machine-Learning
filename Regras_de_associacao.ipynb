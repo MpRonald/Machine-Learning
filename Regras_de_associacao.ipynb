{
  "cells":[
    {
      "cell_type":"markdown",
      "source":[
        "# Regras de associação.\n",
        "\n",
        "Cálculos de itemsets frequentes com o algoritmo Apriori utilizando o pacote ```mlxt```.\n",
        "\n",
        "\n",
        "Este notebook foi desenvolvido para o ambiente GOOGLE COLAB ([colab.research.google.com](https:\/\/colab.research.google.com)).\n",
        "\n",
        "Prof. Hugo de Paula\n"
      ],
      "attachments":{
        
      },
      "metadata":{
        
      }
    },
    {
      "cell_type":"code",
      "source":[
        "# ! pip install mlxtend\n",
        "# ! pip install xlrd"
      ],
      "execution_count":2,
      "outputs":[
        
      ],
      "metadata":{
        
      }
    },
    {
      "cell_type":"markdown",
      "source":[
        "## Regras de associação geradas a partir de itemsets frequentes\n",
        "\n",
        "Fonte: https:\/\/rasbt.github.io\/mlxtend\/user_guide\/frequent_patterns\/association_rules\/\n",
        "\n",
        "No exemplo a seguir, foi criado um ```dataset```  transacional formado por uma \"lista de listas\", onde cada linha corresponde a um cesto de compras de um supermercado hipotético.\n",
        "\n",
        "Nesta base, são considerados ```itemsets``` frequentes aqueles que possuírem suporte superior a 0.6."
      ],
      "attachments":{
        
      },
      "metadata":{
        
      }
    },
    {
      "cell_type":"code",
      "source":[
        "\n",
        "import pandas as pd\n",
        "from mlxtend.preprocessing import TransactionEncoder\n",
        "from mlxtend.frequent_patterns import apriori\n",
        "from mlxtend.frequent_patterns import association_rules\n",
        "\n",
        "# Dataset transcional com cestos de compras\n",
        "\n",
        "dataset = [['Leite', 'Cebola', 'Batata', 'Feijão', 'Ovos', 'Iogurte'],\n",
        "           ['Arroz', 'Cebola', 'Batata', 'Feijão', 'Ovos', 'Iogurte'],\n",
        "           ['Leite', 'Maçã', 'Feijão', 'Ovos'],\n",
        "           ['Leite', 'Milho', 'Feijão', 'Iogurte'],\n",
        "           ['Milho', 'Cebola', 'Feijão', 'Sorvete', 'Ovos']]\n",
        "\n",
        "te = TransactionEncoder()\n",
        "te_ary = te.fit(dataset).transform(dataset)\n",
        "df = pd.DataFrame(te_ary, columns=te.columns_)\n",
        "frequent_itemsets = apriori(df, min_support=0.6, use_colnames=True)\n",
        "\n",
        "print(frequent_itemsets)"
      ],
      "execution_count":3,
      "outputs":[
        {
          "name":"stdout",
          "text":[
            "    support                itemsets\n",
            "0       0.6                (Cebola)\n",
            "1       1.0                (Feijão)\n",
            "2       0.6               (Iogurte)\n",
            "3       0.6                 (Leite)\n",
            "4       0.8                  (Ovos)\n",
            "5       0.6        (Feijão, Cebola)\n",
            "6       0.6          (Ovos, Cebola)\n",
            "7       0.6       (Iogurte, Feijão)\n",
            "8       0.6         (Leite, Feijão)\n",
            "9       0.8          (Ovos, Feijão)\n",
            "10      0.6  (Ovos, Feijão, Cebola)\n"
          ],
          "output_type":"stream"
        }
      ],
      "metadata":{
        
      }
    },
    {
      "cell_type":"markdown",
      "source":[
        "###Regras de associação\n",
        "\n",
        "Gera regras de associação com confiança mínima de 0.7."
      ],
      "attachments":{
        
      },
      "metadata":{
        
      }
    },
    {
      "cell_type":"code",
      "source":[
        "association_rules(frequent_itemsets, metric=\"confidence\", min_threshold=0.7)"
      ],
      "execution_count":4,
      "outputs":[
        {
          "data":{
            "text\/html":[
              "<div>\n",
              "<style scoped>\n",
              "    .dataframe tbody tr th:only-of-type {\n",
              "        vertical-align: middle;\n",
              "    }\n",
              "\n",
              "    .dataframe tbody tr th {\n",
              "        vertical-align: top;\n",
              "    }\n",
              "\n",
              "    .dataframe thead th {\n",
              "        text-align: right;\n",
              "    }\n",
              "<\/style>\n",
              "<table border=\"1\" class=\"dataframe\">\n",
              "  <thead>\n",
              "    <tr style=\"text-align: right;\">\n",
              "      <th><\/th>\n",
              "      <th>antecedents<\/th>\n",
              "      <th>consequents<\/th>\n",
              "      <th>antecedent support<\/th>\n",
              "      <th>consequent support<\/th>\n",
              "      <th>support<\/th>\n",
              "      <th>confidence<\/th>\n",
              "      <th>lift<\/th>\n",
              "      <th>leverage<\/th>\n",
              "      <th>conviction<\/th>\n",
              "    <\/tr>\n",
              "  <\/thead>\n",
              "  <tbody>\n",
              "    <tr>\n",
              "      <th>0<\/th>\n",
              "      <td>(Cebola)<\/td>\n",
              "      <td>(Feijão)<\/td>\n",
              "      <td>0.6<\/td>\n",
              "      <td>1.0<\/td>\n",
              "      <td>0.6<\/td>\n",
              "      <td>1.00<\/td>\n",
              "      <td>1.00<\/td>\n",
              "      <td>0.00<\/td>\n",
              "      <td>inf<\/td>\n",
              "    <\/tr>\n",
              "    <tr>\n",
              "      <th>1<\/th>\n",
              "      <td>(Ovos)<\/td>\n",
              "      <td>(Cebola)<\/td>\n",
              "      <td>0.8<\/td>\n",
              "      <td>0.6<\/td>\n",
              "      <td>0.6<\/td>\n",
              "      <td>0.75<\/td>\n",
              "      <td>1.25<\/td>\n",
              "      <td>0.12<\/td>\n",
              "      <td>1.6<\/td>\n",
              "    <\/tr>\n",
              "    <tr>\n",
              "      <th>2<\/th>\n",
              "      <td>(Cebola)<\/td>\n",
              "      <td>(Ovos)<\/td>\n",
              "      <td>0.6<\/td>\n",
              "      <td>0.8<\/td>\n",
              "      <td>0.6<\/td>\n",
              "      <td>1.00<\/td>\n",
              "      <td>1.25<\/td>\n",
              "      <td>0.12<\/td>\n",
              "      <td>inf<\/td>\n",
              "    <\/tr>\n",
              "    <tr>\n",
              "      <th>3<\/th>\n",
              "      <td>(Iogurte)<\/td>\n",
              "      <td>(Feijão)<\/td>\n",
              "      <td>0.6<\/td>\n",
              "      <td>1.0<\/td>\n",
              "      <td>0.6<\/td>\n",
              "      <td>1.00<\/td>\n",
              "      <td>1.00<\/td>\n",
              "      <td>0.00<\/td>\n",
              "      <td>inf<\/td>\n",
              "    <\/tr>\n",
              "    <tr>\n",
              "      <th>4<\/th>\n",
              "      <td>(Leite)<\/td>\n",
              "      <td>(Feijão)<\/td>\n",
              "      <td>0.6<\/td>\n",
              "      <td>1.0<\/td>\n",
              "      <td>0.6<\/td>\n",
              "      <td>1.00<\/td>\n",
              "      <td>1.00<\/td>\n",
              "      <td>0.00<\/td>\n",
              "      <td>inf<\/td>\n",
              "    <\/tr>\n",
              "    <tr>\n",
              "      <th>5<\/th>\n",
              "      <td>(Ovos)<\/td>\n",
              "      <td>(Feijão)<\/td>\n",
              "      <td>0.8<\/td>\n",
              "      <td>1.0<\/td>\n",
              "      <td>0.8<\/td>\n",
              "      <td>1.00<\/td>\n",
              "      <td>1.00<\/td>\n",
              "      <td>0.00<\/td>\n",
              "      <td>inf<\/td>\n",
              "    <\/tr>\n",
              "    <tr>\n",
              "      <th>6<\/th>\n",
              "      <td>(Feijão)<\/td>\n",
              "      <td>(Ovos)<\/td>\n",
              "      <td>1.0<\/td>\n",
              "      <td>0.8<\/td>\n",
              "      <td>0.8<\/td>\n",
              "      <td>0.80<\/td>\n",
              "      <td>1.00<\/td>\n",
              "      <td>0.00<\/td>\n",
              "      <td>1.0<\/td>\n",
              "    <\/tr>\n",
              "    <tr>\n",
              "      <th>7<\/th>\n",
              "      <td>(Ovos, Feijão)<\/td>\n",
              "      <td>(Cebola)<\/td>\n",
              "      <td>0.8<\/td>\n",
              "      <td>0.6<\/td>\n",
              "      <td>0.6<\/td>\n",
              "      <td>0.75<\/td>\n",
              "      <td>1.25<\/td>\n",
              "      <td>0.12<\/td>\n",
              "      <td>1.6<\/td>\n",
              "    <\/tr>\n",
              "    <tr>\n",
              "      <th>8<\/th>\n",
              "      <td>(Ovos, Cebola)<\/td>\n",
              "      <td>(Feijão)<\/td>\n",
              "      <td>0.6<\/td>\n",
              "      <td>1.0<\/td>\n",
              "      <td>0.6<\/td>\n",
              "      <td>1.00<\/td>\n",
              "      <td>1.00<\/td>\n",
              "      <td>0.00<\/td>\n",
              "      <td>inf<\/td>\n",
              "    <\/tr>\n",
              "    <tr>\n",
              "      <th>9<\/th>\n",
              "      <td>(Cebola, Feijão)<\/td>\n",
              "      <td>(Ovos)<\/td>\n",
              "      <td>0.6<\/td>\n",
              "      <td>0.8<\/td>\n",
              "      <td>0.6<\/td>\n",
              "      <td>1.00<\/td>\n",
              "      <td>1.25<\/td>\n",
              "      <td>0.12<\/td>\n",
              "      <td>inf<\/td>\n",
              "    <\/tr>\n",
              "    <tr>\n",
              "      <th>10<\/th>\n",
              "      <td>(Ovos)<\/td>\n",
              "      <td>(Cebola, Feijão)<\/td>\n",
              "      <td>0.8<\/td>\n",
              "      <td>0.6<\/td>\n",
              "      <td>0.6<\/td>\n",
              "      <td>0.75<\/td>\n",
              "      <td>1.25<\/td>\n",
              "      <td>0.12<\/td>\n",
              "      <td>1.6<\/td>\n",
              "    <\/tr>\n",
              "    <tr>\n",
              "      <th>11<\/th>\n",
              "      <td>(Cebola)<\/td>\n",
              "      <td>(Ovos, Feijão)<\/td>\n",
              "      <td>0.6<\/td>\n",
              "      <td>0.8<\/td>\n",
              "      <td>0.6<\/td>\n",
              "      <td>1.00<\/td>\n",
              "      <td>1.25<\/td>\n",
              "      <td>0.12<\/td>\n",
              "      <td>inf<\/td>\n",
              "    <\/tr>\n",
              "  <\/tbody>\n",
              "<\/table>\n",
              "<\/div>"
            ]
          },
          "metadata":{
            
          },
          "output_type":"display_data"
        }
      ],
      "metadata":{
        
      }
    },
    {
      "cell_type":"markdown",
      "source":[
        "Gera regras de associação com lift mínimo de 1.2. \n",
        "\n",
        "É importante lembrar que valores de lift inferiores a 1 significam que a regra não possui causalidade relevante e não aumentam o nosso poder de previsão."
      ],
      "attachments":{
        
      },
      "metadata":{
        
      }
    },
    {
      "cell_type":"code",
      "source":[
        "rules = association_rules(frequent_itemsets, metric=\"lift\", min_threshold=1.2)\n",
        "print(rules)"
      ],
      "execution_count":5,
      "outputs":[
        {
          "name":"stdout",
          "text":[
            "        antecedents       consequents  antecedent support  consequent support  \\\n",
            "0            (Ovos)          (Cebola)                 0.8                 0.6   \n",
            "1          (Cebola)            (Ovos)                 0.6                 0.8   \n",
            "2    (Ovos, Feijão)          (Cebola)                 0.8                 0.6   \n",
            "3  (Cebola, Feijão)            (Ovos)                 0.6                 0.8   \n",
            "4            (Ovos)  (Cebola, Feijão)                 0.8                 0.6   \n",
            "5          (Cebola)    (Ovos, Feijão)                 0.6                 0.8   \n",
            "\n",
            "   support  confidence  lift  leverage  conviction  \n",
            "0      0.6        0.75  1.25      0.12         1.6  \n",
            "1      0.6        1.00  1.25      0.12         inf  \n",
            "2      0.6        0.75  1.25      0.12         1.6  \n",
            "3      0.6        1.00  1.25      0.12         inf  \n",
            "4      0.6        0.75  1.25      0.12         1.6  \n",
            "5      0.6        1.00  1.25      0.12         inf  \n"
          ],
          "output_type":"stream"
        }
      ],
      "metadata":{
        
      }
    },
    {
      "cell_type":"code",
      "source":[
        "rules[\"antecedent_len\"] = rules[\"antecedents\"].apply(lambda x: len(x))\n",
        "print(rules)"
      ],
      "execution_count":6,
      "outputs":[
        {
          "name":"stdout",
          "text":[
            "        antecedents       consequents  antecedent support  consequent support  \\\n",
            "0            (Ovos)          (Cebola)                 0.8                 0.6   \n",
            "1          (Cebola)            (Ovos)                 0.6                 0.8   \n",
            "2    (Ovos, Feijão)          (Cebola)                 0.8                 0.6   \n",
            "3  (Cebola, Feijão)            (Ovos)                 0.6                 0.8   \n",
            "4            (Ovos)  (Cebola, Feijão)                 0.8                 0.6   \n",
            "5          (Cebola)    (Ovos, Feijão)                 0.6                 0.8   \n",
            "\n",
            "   support  confidence  lift  leverage  conviction  antecedent_len  \n",
            "0      0.6        0.75  1.25      0.12         1.6               1  \n",
            "1      0.6        1.00  1.25      0.12         inf               1  \n",
            "2      0.6        0.75  1.25      0.12         1.6               2  \n",
            "3      0.6        1.00  1.25      0.12         inf               2  \n",
            "4      0.6        0.75  1.25      0.12         1.6               1  \n",
            "5      0.6        1.00  1.25      0.12         inf               1  \n"
          ],
          "output_type":"stream"
        }
      ],
      "metadata":{
        
      }
    },
    {
      "cell_type":"markdown",
      "source":[
        "Exibe apenas as regras com antecedentes de comprimento maior ou igual a 2 e com confiança superior a 0.75 e lift superior a 1.2."
      ],
      "attachments":{
        
      },
      "metadata":{
        
      }
    },
    {
      "cell_type":"code",
      "source":[
        "rules[ (rules['antecedent_len'] >= 2) &\n",
        "       (rules['confidence'] > 0.75) &\n",
        "       (rules['lift'] > 1.2) ]"
      ],
      "execution_count":7,
      "outputs":[
        {
          "data":{
            "text\/html":[
              "<div>\n",
              "<style scoped>\n",
              "    .dataframe tbody tr th:only-of-type {\n",
              "        vertical-align: middle;\n",
              "    }\n",
              "\n",
              "    .dataframe tbody tr th {\n",
              "        vertical-align: top;\n",
              "    }\n",
              "\n",
              "    .dataframe thead th {\n",
              "        text-align: right;\n",
              "    }\n",
              "<\/style>\n",
              "<table border=\"1\" class=\"dataframe\">\n",
              "  <thead>\n",
              "    <tr style=\"text-align: right;\">\n",
              "      <th><\/th>\n",
              "      <th>antecedents<\/th>\n",
              "      <th>consequents<\/th>\n",
              "      <th>antecedent support<\/th>\n",
              "      <th>consequent support<\/th>\n",
              "      <th>support<\/th>\n",
              "      <th>confidence<\/th>\n",
              "      <th>lift<\/th>\n",
              "      <th>leverage<\/th>\n",
              "      <th>conviction<\/th>\n",
              "      <th>antecedent_len<\/th>\n",
              "    <\/tr>\n",
              "  <\/thead>\n",
              "  <tbody>\n",
              "    <tr>\n",
              "      <th>3<\/th>\n",
              "      <td>(Cebola, Feijão)<\/td>\n",
              "      <td>(Ovos)<\/td>\n",
              "      <td>0.6<\/td>\n",
              "      <td>0.8<\/td>\n",
              "      <td>0.6<\/td>\n",
              "      <td>1.0<\/td>\n",
              "      <td>1.25<\/td>\n",
              "      <td>0.12<\/td>\n",
              "      <td>inf<\/td>\n",
              "      <td>2<\/td>\n",
              "    <\/tr>\n",
              "  <\/tbody>\n",
              "<\/table>\n",
              "<\/div>"
            ]
          },
          "metadata":{
            
          },
          "output_type":"display_data"
        }
      ],
      "metadata":{
        
      }
    },
    {
      "cell_type":"markdown",
      "source":[
        "Exibe apenas as regras cujos antecedentes são Feijão e Ovos."
      ],
      "attachments":{
        
      },
      "metadata":{
        
      }
    },
    {
      "cell_type":"code",
      "source":[
        "rules[rules['antecedents'] == {'Ovos', 'Feijão'}]"
      ],
      "execution_count":8,
      "outputs":[
        {
          "data":{
            "text\/html":[
              "<div>\n",
              "<style scoped>\n",
              "    .dataframe tbody tr th:only-of-type {\n",
              "        vertical-align: middle;\n",
              "    }\n",
              "\n",
              "    .dataframe tbody tr th {\n",
              "        vertical-align: top;\n",
              "    }\n",
              "\n",
              "    .dataframe thead th {\n",
              "        text-align: right;\n",
              "    }\n",
              "<\/style>\n",
              "<table border=\"1\" class=\"dataframe\">\n",
              "  <thead>\n",
              "    <tr style=\"text-align: right;\">\n",
              "      <th><\/th>\n",
              "      <th>antecedents<\/th>\n",
              "      <th>consequents<\/th>\n",
              "      <th>antecedent support<\/th>\n",
              "      <th>consequent support<\/th>\n",
              "      <th>support<\/th>\n",
              "      <th>confidence<\/th>\n",
              "      <th>lift<\/th>\n",
              "      <th>leverage<\/th>\n",
              "      <th>conviction<\/th>\n",
              "      <th>antecedent_len<\/th>\n",
              "    <\/tr>\n",
              "  <\/thead>\n",
              "  <tbody>\n",
              "    <tr>\n",
              "      <th>2<\/th>\n",
              "      <td>(Ovos, Feijão)<\/td>\n",
              "      <td>(Cebola)<\/td>\n",
              "      <td>0.8<\/td>\n",
              "      <td>0.6<\/td>\n",
              "      <td>0.6<\/td>\n",
              "      <td>0.75<\/td>\n",
              "      <td>1.25<\/td>\n",
              "      <td>0.12<\/td>\n",
              "      <td>1.6<\/td>\n",
              "      <td>2<\/td>\n",
              "    <\/tr>\n",
              "  <\/tbody>\n",
              "<\/table>\n",
              "<\/div>"
            ]
          },
          "metadata":{
            
          },
          "output_type":"display_data"
        }
      ],
      "metadata":{
        
      }
    },
    {
      "cell_type":"markdown",
      "source":[
        "## Análise de cesta de compras em Python\n",
        "\n",
        "Fonte:  Chris Moffitt (2017), Introduction to Market Basket Analysis in Python, http:\/\/pbpython.com\/market-basket-analysis.html\n",
        "\n",
        "\n",
        "Neste exemplo é utilizada a base de dados **Online Retail** da UCI, disponível em [archive.ics.uci.edu\/ml\/machine-learning-databases\/00352\/Online Retail.xlsx](http:\/\/archive.ics.uci.edu\/ml\/machine-learning-databases\/00352\/Online%20Retail.xlsx)"
      ],
      "attachments":{
        
      },
      "metadata":{
        
      }
    },
    {
      "cell_type":"code",
      "source":[
        "import numpy as np\n",
        "import matplotlib.pyplot as plt\n",
        "import pandas as pd\n",
        "from mlxtend.frequent_patterns import apriori\n",
        "from mlxtend.frequent_patterns import association_rules"
      ],
      "execution_count":9,
      "outputs":[
        
      ],
      "metadata":{
        
      }
    },
    {
      "cell_type":"code",
      "source":[
        "# ! pip install openpyxl"
      ],
      "execution_count":12,
      "outputs":[
        
      ],
      "metadata":{
        
      }
    },
    {
      "cell_type":"code",
      "source":[
        "df = pd.read_excel('http:\/\/archive.ics.uci.edu\/ml\/machine-learning-databases\/00352\/Online%20Retail.xlsx')\n",
        "print(df.head())"
      ],
      "execution_count":13,
      "outputs":[
        {
          "name":"stdout",
          "text":[
            "  InvoiceNo StockCode                          Description  Quantity  \\\n",
            "0    536365    85123A   WHITE HANGING HEART T-LIGHT HOLDER         6   \n",
            "1    536365     71053                  WHITE METAL LANTERN         6   \n",
            "2    536365    84406B       CREAM CUPID HEARTS COAT HANGER         8   \n",
            "3    536365    84029G  KNITTED UNION FLAG HOT WATER BOTTLE         6   \n",
            "4    536365    84029E       RED WOOLLY HOTTIE WHITE HEART.         6   \n",
            "\n",
            "          InvoiceDate  UnitPrice  CustomerID         Country  \n",
            "0 2010-12-01 08:26:00       2.55     17850.0  United Kingdom  \n",
            "1 2010-12-01 08:26:00       3.39     17850.0  United Kingdom  \n",
            "2 2010-12-01 08:26:00       2.75     17850.0  United Kingdom  \n",
            "3 2010-12-01 08:26:00       3.39     17850.0  United Kingdom  \n",
            "4 2010-12-01 08:26:00       3.39     17850.0  United Kingdom  \n"
          ],
          "output_type":"stream"
        }
      ],
      "metadata":{
        
      }
    },
    {
      "cell_type":"code",
      "source":[
        "print(df.describe())"
      ],
      "execution_count":14,
      "outputs":[
        {
          "name":"stdout",
          "text":[
            "            Quantity      UnitPrice     CustomerID\n",
            "count  541909.000000  541909.000000  406829.000000\n",
            "mean        9.552250       4.611114   15287.690570\n",
            "std       218.081158      96.759853    1713.600303\n",
            "min    -80995.000000  -11062.060000   12346.000000\n",
            "25%         1.000000       1.250000   13953.000000\n",
            "50%         3.000000       2.080000   15152.000000\n",
            "75%        10.000000       4.130000   16791.000000\n",
            "max     80995.000000   38970.000000   18287.000000\n"
          ],
          "output_type":"stream"
        }
      ],
      "metadata":{
        
      }
    },
    {
      "cell_type":"markdown",
      "source":[
        "### Preparação de dados\n",
        "\n",
        "\n",
        "Comando ```strip()``` elimina espaços no início e fim da string.\n",
        "\n",
        "Comando ```dropna()``` remove registros com valores faltantes (*missing values*) no campo ```InvoiceNo```.\n",
        "\n",
        "Comando ```df[~df['InvoiceNo'].str.contains('C')]``` remove registros com ```InvoiceNo``` iniciados com a letra *'C'*, uma vez que esses campos correspondem a pedidos cancelados.\n",
        "\n",
        "\n"
      ],
      "attachments":{
        
      },
      "metadata":{
        
      }
    },
    {
      "cell_type":"code",
      "source":[
        "df['Description'] = df['Description'].str.strip()\n",
        "df.dropna(axis=0, subset=['InvoiceNo'], inplace=True)\n",
        "df['InvoiceNo'] = df['InvoiceNo'].astype('str')\n",
        "df = df[~df['InvoiceNo'].str.contains('C')]\n",
        "print(df.describe())"
      ],
      "execution_count":15,
      "outputs":[
        {
          "name":"stdout",
          "text":[
            "            Quantity      UnitPrice     CustomerID\n",
            "count  532621.000000  532621.000000  397924.000000\n",
            "mean       10.239972       3.847621   15294.315171\n",
            "std       159.593551      41.758023    1713.169877\n",
            "min     -9600.000000  -11062.060000   12346.000000\n",
            "25%         1.000000       1.250000   13969.000000\n",
            "50%         3.000000       2.080000   15159.000000\n",
            "75%        10.000000       4.130000   16795.000000\n",
            "max     80995.000000   13541.330000   18287.000000\n"
          ],
          "output_type":"stream"
        }
      ],
      "metadata":{
        
      }
    },
    {
      "cell_type":"markdown",
      "source":[
        "Gera uma base de dados apenas com pedidos da França. É gerada uma tabela pivô em que cada coluna corresponde à um produto e cada linha corresponde ao somatório da quantidade comprada daquele produto em um determinado pedido."
      ],
      "attachments":{
        
      },
      "metadata":{
        
      }
    },
    {
      "cell_type":"code",
      "source":[
        "basket = (df[df['Country'] ==\"France\"]\n",
        "          .groupby(['InvoiceNo', 'Description'])['Quantity']\n",
        "          .sum().unstack().reset_index().fillna(0)\n",
        "          .set_index('InvoiceNo'))\n",
        "print(basket.head())"
      ],
      "execution_count":16,
      "outputs":[
        {
          "name":"stdout",
          "text":[
            "Description  10 COLOUR SPACEBOY PEN  12 COLOURED PARTY BALLOONS  \\\n",
            "InvoiceNo                                                         \n",
            "536370                          0.0                         0.0   \n",
            "536852                          0.0                         0.0   \n",
            "536974                          0.0                         0.0   \n",
            "537065                          0.0                         0.0   \n",
            "537463                          0.0                         0.0   \n",
            "\n",
            "Description  12 EGG HOUSE PAINTED WOOD  12 MESSAGE CARDS WITH ENVELOPES  \\\n",
            "InvoiceNo                                                                 \n",
            "536370                             0.0                              0.0   \n",
            "536852                             0.0                              0.0   \n",
            "536974                             0.0                              0.0   \n",
            "537065                             0.0                              0.0   \n",
            "537463                             0.0                              0.0   \n",
            "\n",
            "Description  12 PENCIL SMALL TUBE WOODLAND  \\\n",
            "InvoiceNo                                    \n",
            "536370                                 0.0   \n",
            "536852                                 0.0   \n",
            "536974                                 0.0   \n",
            "537065                                 0.0   \n",
            "537463                                 0.0   \n",
            "\n",
            "Description  12 PENCILS SMALL TUBE RED RETROSPOT  12 PENCILS SMALL TUBE SKULL  \\\n",
            "InvoiceNo                                                                       \n",
            "536370                                       0.0                          0.0   \n",
            "536852                                       0.0                          0.0   \n",
            "536974                                       0.0                          0.0   \n",
            "537065                                       0.0                          0.0   \n",
            "537463                                       0.0                          0.0   \n",
            "\n",
            "Description  12 PENCILS TALL TUBE POSY  12 PENCILS TALL TUBE RED RETROSPOT  \\\n",
            "InvoiceNo                                                                    \n",
            "536370                             0.0                                 0.0   \n",
            "536852                             0.0                                 0.0   \n",
            "536974                             0.0                                 0.0   \n",
            "537065                             0.0                                 0.0   \n",
            "537463                             0.0                                 0.0   \n",
            "\n",
            "Description  12 PENCILS TALL TUBE WOODLAND  ...  WRAP VINTAGE PETALS  DESIGN  \\\n",
            "InvoiceNo                                   ...                                \n",
            "536370                                 0.0  ...                          0.0   \n",
            "536852                                 0.0  ...                          0.0   \n",
            "536974                                 0.0  ...                          0.0   \n",
            "537065                                 0.0  ...                          0.0   \n",
            "537463                                 0.0  ...                          0.0   \n",
            "\n",
            "Description  YELLOW COAT RACK PARIS FASHION  YELLOW GIANT GARDEN THERMOMETER  \\\n",
            "InvoiceNo                                                                      \n",
            "536370                                  0.0                              0.0   \n",
            "536852                                  0.0                              0.0   \n",
            "536974                                  0.0                              0.0   \n",
            "537065                                  0.0                              0.0   \n",
            "537463                                  0.0                              0.0   \n",
            "\n",
            "Description  YELLOW SHARK HELICOPTER  ZINC  STAR T-LIGHT HOLDER  \\\n",
            "InvoiceNo                                                         \n",
            "536370                           0.0                        0.0   \n",
            "536852                           0.0                        0.0   \n",
            "536974                           0.0                        0.0   \n",
            "537065                           0.0                        0.0   \n",
            "537463                           0.0                        0.0   \n",
            "\n",
            "Description  ZINC FOLKART SLEIGH BELLS  ZINC HERB GARDEN CONTAINER  \\\n",
            "InvoiceNo                                                            \n",
            "536370                             0.0                         0.0   \n",
            "536852                             0.0                         0.0   \n",
            "536974                             0.0                         0.0   \n",
            "537065                             0.0                         0.0   \n",
            "537463                             0.0                         0.0   \n",
            "\n",
            "Description  ZINC METAL HEART DECORATION  ZINC T-LIGHT HOLDER STAR LARGE  \\\n",
            "InvoiceNo                                                                  \n",
            "536370                               0.0                             0.0   \n",
            "536852                               0.0                             0.0   \n",
            "536974                               0.0                             0.0   \n",
            "537065                               0.0                             0.0   \n",
            "537463                               0.0                             0.0   \n",
            "\n",
            "Description  ZINC T-LIGHT HOLDER STARS SMALL  \n",
            "InvoiceNo                                     \n",
            "536370                                   0.0  \n",
            "536852                                   0.0  \n",
            "536974                                   0.0  \n",
            "537065                                   0.0  \n",
            "537463                                   0.0  \n",
            "\n",
            "[5 rows x 1563 columns]\n"
          ],
          "output_type":"stream"
        }
      ],
      "metadata":{
        
      }
    },
    {
      "cell_type":"markdown",
      "source":[
        "Transforma as quantidades em 0 ou 1."
      ],
      "attachments":{
        
      },
      "metadata":{
        
      }
    },
    {
      "cell_type":"code",
      "source":[
        "def encode_units(x):\n",
        "    if x <= 0:\n",
        "        return 0\n",
        "    if x >= 1:\n",
        "        return 1\n",
        "\n",
        "basket_sets = basket.applymap(encode_units)\n",
        "basket_sets.drop('POSTAGE', inplace=True, axis=1)\n",
        "\n",
        "print(basket_sets.head())"
      ],
      "execution_count":17,
      "outputs":[
        {
          "name":"stdout",
          "text":[
            "Description  10 COLOUR SPACEBOY PEN  12 COLOURED PARTY BALLOONS  \\\n",
            "InvoiceNo                                                         \n",
            "536370                            0                           0   \n",
            "536852                            0                           0   \n",
            "536974                            0                           0   \n",
            "537065                            0                           0   \n",
            "537463                            0                           0   \n",
            "\n",
            "Description  12 EGG HOUSE PAINTED WOOD  12 MESSAGE CARDS WITH ENVELOPES  \\\n",
            "InvoiceNo                                                                 \n",
            "536370                               0                                0   \n",
            "536852                               0                                0   \n",
            "536974                               0                                0   \n",
            "537065                               0                                0   \n",
            "537463                               0                                0   \n",
            "\n",
            "Description  12 PENCIL SMALL TUBE WOODLAND  \\\n",
            "InvoiceNo                                    \n",
            "536370                                   0   \n",
            "536852                                   0   \n",
            "536974                                   0   \n",
            "537065                                   0   \n",
            "537463                                   0   \n",
            "\n",
            "Description  12 PENCILS SMALL TUBE RED RETROSPOT  12 PENCILS SMALL TUBE SKULL  \\\n",
            "InvoiceNo                                                                       \n",
            "536370                                         0                            0   \n",
            "536852                                         0                            0   \n",
            "536974                                         0                            0   \n",
            "537065                                         0                            0   \n",
            "537463                                         0                            0   \n",
            "\n",
            "Description  12 PENCILS TALL TUBE POSY  12 PENCILS TALL TUBE RED RETROSPOT  \\\n",
            "InvoiceNo                                                                    \n",
            "536370                               0                                   0   \n",
            "536852                               0                                   0   \n",
            "536974                               0                                   0   \n",
            "537065                               0                                   0   \n",
            "537463                               0                                   0   \n",
            "\n",
            "Description  12 PENCILS TALL TUBE WOODLAND  ...  WRAP VINTAGE PETALS  DESIGN  \\\n",
            "InvoiceNo                                   ...                                \n",
            "536370                                   0  ...                            0   \n",
            "536852                                   0  ...                            0   \n",
            "536974                                   0  ...                            0   \n",
            "537065                                   0  ...                            0   \n",
            "537463                                   0  ...                            0   \n",
            "\n",
            "Description  YELLOW COAT RACK PARIS FASHION  YELLOW GIANT GARDEN THERMOMETER  \\\n",
            "InvoiceNo                                                                      \n",
            "536370                                    0                                0   \n",
            "536852                                    0                                0   \n",
            "536974                                    0                                0   \n",
            "537065                                    0                                0   \n",
            "537463                                    0                                0   \n",
            "\n",
            "Description  YELLOW SHARK HELICOPTER  ZINC  STAR T-LIGHT HOLDER  \\\n",
            "InvoiceNo                                                         \n",
            "536370                             0                          0   \n",
            "536852                             0                          0   \n",
            "536974                             0                          0   \n",
            "537065                             0                          0   \n",
            "537463                             0                          0   \n",
            "\n",
            "Description  ZINC FOLKART SLEIGH BELLS  ZINC HERB GARDEN CONTAINER  \\\n",
            "InvoiceNo                                                            \n",
            "536370                               0                           0   \n",
            "536852                               0                           0   \n",
            "536974                               0                           0   \n",
            "537065                               0                           0   \n",
            "537463                               0                           0   \n",
            "\n",
            "Description  ZINC METAL HEART DECORATION  ZINC T-LIGHT HOLDER STAR LARGE  \\\n",
            "InvoiceNo                                                                  \n",
            "536370                                 0                               0   \n",
            "536852                                 0                               0   \n",
            "536974                                 0                               0   \n",
            "537065                                 0                               0   \n",
            "537463                                 0                               0   \n",
            "\n",
            "Description  ZINC T-LIGHT HOLDER STARS SMALL  \n",
            "InvoiceNo                                     \n",
            "536370                                     0  \n",
            "536852                                     0  \n",
            "536974                                     0  \n",
            "537065                                     0  \n",
            "537463                                     0  \n",
            "\n",
            "[5 rows x 1562 columns]\n"
          ],
          "output_type":"stream"
        }
      ],
      "metadata":{
        
      }
    },
    {
      "cell_type":"markdown",
      "source":[
        "### Geração de ```itemsets``` frequentes e de regras de associação.\n"
      ],
      "attachments":{
        
      },
      "metadata":{
        
      }
    },
    {
      "cell_type":"code",
      "source":[
        "frequent_itemsets = apriori(basket_sets, min_support=0.07, use_colnames=True)\n",
        "print(frequent_itemsets)\n",
        "\n",
        "rules = association_rules(frequent_itemsets, metric=\"lift\", min_threshold=1)\n",
        "print(\"\\nAlgumas regras de associação geradas:\\n\", rules.head())\n",
        "print(\"\\nDimensões da matriz de regras:\", rules.shape)"
      ],
      "execution_count":18,
      "outputs":[
        {
          "name":"stdout",
          "text":[
            "     support                                           itemsets\n",
            "0   0.071429                      (4 TRADITIONAL SPINNING TOPS)\n",
            "1   0.096939                       (ALARM CLOCK BAKELIKE GREEN)\n",
            "2   0.102041                        (ALARM CLOCK BAKELIKE PINK)\n",
            "3   0.094388                         (ALARM CLOCK BAKELIKE RED)\n",
            "4   0.081633                     (BAKING SET 9 PIECE RETROSPOT)\n",
            "5   0.071429                     (CHILDRENS CUTLERY DOLLY GIRL)\n",
            "6   0.099490                             (DOLLY GIRL LUNCH BOX)\n",
            "7   0.096939                          (JUMBO BAG RED RETROSPOT)\n",
            "8   0.076531                       (JUMBO BAG WOODLAND ANIMALS)\n",
            "9   0.125000                           (LUNCH BAG APPLE DESIGN)\n",
            "10  0.084184                      (LUNCH BAG DOLLY GIRL DESIGN)\n",
            "11  0.153061                          (LUNCH BAG RED RETROSPOT)\n",
            "12  0.119898                        (LUNCH BAG SPACEBOY DESIGN)\n",
            "13  0.117347                               (LUNCH BAG WOODLAND)\n",
            "14  0.142857                 (LUNCH BOX WITH CUTLERY RETROSPOT)\n",
            "15  0.104592                           (MINI PAINT SET VINTAGE)\n",
            "16  0.102041                  (PACK OF 72 RETROSPOT CAKE CASES)\n",
            "17  0.081633                          (PAPER BUNTING RETROSPOT)\n",
            "18  0.168367                    (PLASTERS IN TIN CIRCUS PARADE)\n",
            "19  0.137755                         (PLASTERS IN TIN SPACEBOY)\n",
            "20  0.081633                        (PLASTERS IN TIN STRONGMAN)\n",
            "21  0.170918                 (PLASTERS IN TIN WOODLAND ANIMALS)\n",
            "22  0.188776                               (RABBIT NIGHT LIGHT)\n",
            "23  0.096939                      (RED RETROSPOT CHARLOTTE BAG)\n",
            "24  0.137755                         (RED RETROSPOT MINI CASES)\n",
            "25  0.071429                         (RED RETROSPOT PICNIC BAG)\n",
            "26  0.181122                    (RED TOADSTOOL LED NIGHT LIGHT)\n",
            "27  0.125000                         (REGENCY CAKESTAND 3 TIER)\n",
            "28  0.086735                  (RETROSPOT TEA SET CERAMIC 11 PC)\n",
            "29  0.107143                (ROUND SNACK BOXES SET OF 4 FRUITS)\n",
            "30  0.158163               (ROUND SNACK BOXES SET OF4 WOODLAND)\n",
            "31  0.076531                (SET\/10 RED POLKADOT PARTY CANDLES)\n",
            "32  0.132653               (SET\/20 RED RETROSPOT PAPER NAPKINS)\n",
            "33  0.137755                      (SET\/6 RED SPOTTY PAPER CUPS)\n",
            "34  0.127551                    (SET\/6 RED SPOTTY PAPER PLATES)\n",
            "35  0.071429                           (SPACEBOY BIRTHDAY CARD)\n",
            "36  0.125000                               (SPACEBOY LUNCH BOX)\n",
            "37  0.122449                (STRAWBERRY LUNCH BOX WITH CUTLERY)\n",
            "38  0.094388                          (TEA PARTY BIRTHDAY CARD)\n",
            "39  0.073980                           (WOODLAND CHARLOTTE BAG)\n",
            "40  0.073980  (ALARM CLOCK BAKELIKE GREEN, ALARM CLOCK BAKEL...\n",
            "41  0.079082  (ALARM CLOCK BAKELIKE GREEN, ALARM CLOCK BAKEL...\n",
            "42  0.073980  (ALARM CLOCK BAKELIKE PINK, ALARM CLOCK BAKELI...\n",
            "43  0.071429         (SPACEBOY LUNCH BOX, DOLLY GIRL LUNCH BOX)\n",
            "44  0.089286  (PLASTERS IN TIN CIRCUS PARADE, PLASTERS IN TI...\n",
            "45  0.102041  (PLASTERS IN TIN CIRCUS PARADE, PLASTERS IN TI...\n",
            "46  0.104592  (PLASTERS IN TIN SPACEBOY, PLASTERS IN TIN WOO...\n",
            "47  0.102041  (SET\/6 RED SPOTTY PAPER CUPS, SET\/20 RED RETRO...\n",
            "48  0.102041  (SET\/6 RED SPOTTY PAPER PLATES, SET\/20 RED RET...\n",
            "49  0.122449  (SET\/6 RED SPOTTY PAPER PLATES, SET\/6 RED SPOT...\n",
            "50  0.099490  (SET\/6 RED SPOTTY PAPER PLATES, SET\/6 RED SPOT...\n",
            "\n",
            "Algumas regras de associação geradas:\n",
            "                     antecedents                   consequents  \\\n",
            "0  (ALARM CLOCK BAKELIKE GREEN)   (ALARM CLOCK BAKELIKE PINK)   \n",
            "1   (ALARM CLOCK BAKELIKE PINK)  (ALARM CLOCK BAKELIKE GREEN)   \n",
            "2  (ALARM CLOCK BAKELIKE GREEN)    (ALARM CLOCK BAKELIKE RED)   \n",
            "3    (ALARM CLOCK BAKELIKE RED)  (ALARM CLOCK BAKELIKE GREEN)   \n",
            "4   (ALARM CLOCK BAKELIKE PINK)    (ALARM CLOCK BAKELIKE RED)   \n",
            "\n",
            "   antecedent support  consequent support   support  confidence      lift  \\\n",
            "0            0.096939            0.102041  0.073980    0.763158  7.478947   \n",
            "1            0.102041            0.096939  0.073980    0.725000  7.478947   \n",
            "2            0.096939            0.094388  0.079082    0.815789  8.642959   \n",
            "3            0.094388            0.096939  0.079082    0.837838  8.642959   \n",
            "4            0.102041            0.094388  0.073980    0.725000  7.681081   \n",
            "\n",
            "   leverage  conviction  \n",
            "0  0.064088    3.791383  \n",
            "1  0.064088    3.283859  \n",
            "2  0.069932    4.916181  \n",
            "3  0.069932    5.568878  \n",
            "4  0.064348    3.293135  \n",
            "\n",
            "Dimensões da matriz de regras: (26, 9)\n"
          ],
          "output_type":"stream"
        }
      ],
      "metadata":{
        
      }
    },
    {
      "cell_type":"markdown",
      "source":[
        "### Exemplos de filtros sobre regras de associação"
      ],
      "attachments":{
        
      },
      "metadata":{
        
      }
    },
    {
      "cell_type":"code",
      "source":[
        "rules[ (rules['lift'] >= 6) &\n",
        "       (rules['confidence'] >= 0.8) ]"
      ],
      "execution_count":19,
      "outputs":[
        {
          "data":{
            "text\/html":[
              "<div>\n",
              "<style scoped>\n",
              "    .dataframe tbody tr th:only-of-type {\n",
              "        vertical-align: middle;\n",
              "    }\n",
              "\n",
              "    .dataframe tbody tr th {\n",
              "        vertical-align: top;\n",
              "    }\n",
              "\n",
              "    .dataframe thead th {\n",
              "        text-align: right;\n",
              "    }\n",
              "<\/style>\n",
              "<table border=\"1\" class=\"dataframe\">\n",
              "  <thead>\n",
              "    <tr style=\"text-align: right;\">\n",
              "      <th><\/th>\n",
              "      <th>antecedents<\/th>\n",
              "      <th>consequents<\/th>\n",
              "      <th>antecedent support<\/th>\n",
              "      <th>consequent support<\/th>\n",
              "      <th>support<\/th>\n",
              "      <th>confidence<\/th>\n",
              "      <th>lift<\/th>\n",
              "      <th>leverage<\/th>\n",
              "      <th>conviction<\/th>\n",
              "    <\/tr>\n",
              "  <\/thead>\n",
              "  <tbody>\n",
              "    <tr>\n",
              "      <th>2<\/th>\n",
              "      <td>(ALARM CLOCK BAKELIKE GREEN)<\/td>\n",
              "      <td>(ALARM CLOCK BAKELIKE RED)<\/td>\n",
              "      <td>0.096939<\/td>\n",
              "      <td>0.094388<\/td>\n",
              "      <td>0.079082<\/td>\n",
              "      <td>0.815789<\/td>\n",
              "      <td>8.642959<\/td>\n",
              "      <td>0.069932<\/td>\n",
              "      <td>4.916181<\/td>\n",
              "    <\/tr>\n",
              "    <tr>\n",
              "      <th>3<\/th>\n",
              "      <td>(ALARM CLOCK BAKELIKE RED)<\/td>\n",
              "      <td>(ALARM CLOCK BAKELIKE GREEN)<\/td>\n",
              "      <td>0.094388<\/td>\n",
              "      <td>0.096939<\/td>\n",
              "      <td>0.079082<\/td>\n",
              "      <td>0.837838<\/td>\n",
              "      <td>8.642959<\/td>\n",
              "      <td>0.069932<\/td>\n",
              "      <td>5.568878<\/td>\n",
              "    <\/tr>\n",
              "    <tr>\n",
              "      <th>16<\/th>\n",
              "      <td>(SET\/6 RED SPOTTY PAPER PLATES)<\/td>\n",
              "      <td>(SET\/20 RED RETROSPOT PAPER NAPKINS)<\/td>\n",
              "      <td>0.127551<\/td>\n",
              "      <td>0.132653<\/td>\n",
              "      <td>0.102041<\/td>\n",
              "      <td>0.800000<\/td>\n",
              "      <td>6.030769<\/td>\n",
              "      <td>0.085121<\/td>\n",
              "      <td>4.336735<\/td>\n",
              "    <\/tr>\n",
              "    <tr>\n",
              "      <th>18<\/th>\n",
              "      <td>(SET\/6 RED SPOTTY PAPER PLATES)<\/td>\n",
              "      <td>(SET\/6 RED SPOTTY PAPER CUPS)<\/td>\n",
              "      <td>0.127551<\/td>\n",
              "      <td>0.137755<\/td>\n",
              "      <td>0.122449<\/td>\n",
              "      <td>0.960000<\/td>\n",
              "      <td>6.968889<\/td>\n",
              "      <td>0.104878<\/td>\n",
              "      <td>21.556122<\/td>\n",
              "    <\/tr>\n",
              "    <tr>\n",
              "      <th>19<\/th>\n",
              "      <td>(SET\/6 RED SPOTTY PAPER CUPS)<\/td>\n",
              "      <td>(SET\/6 RED SPOTTY PAPER PLATES)<\/td>\n",
              "      <td>0.137755<\/td>\n",
              "      <td>0.127551<\/td>\n",
              "      <td>0.122449<\/td>\n",
              "      <td>0.888889<\/td>\n",
              "      <td>6.968889<\/td>\n",
              "      <td>0.104878<\/td>\n",
              "      <td>7.852041<\/td>\n",
              "    <\/tr>\n",
              "    <tr>\n",
              "      <th>20<\/th>\n",
              "      <td>(SET\/6 RED SPOTTY PAPER PLATES, SET\/6 RED SPOT...<\/td>\n",
              "      <td>(SET\/20 RED RETROSPOT PAPER NAPKINS)<\/td>\n",
              "      <td>0.122449<\/td>\n",
              "      <td>0.132653<\/td>\n",
              "      <td>0.099490<\/td>\n",
              "      <td>0.812500<\/td>\n",
              "      <td>6.125000<\/td>\n",
              "      <td>0.083247<\/td>\n",
              "      <td>4.625850<\/td>\n",
              "    <\/tr>\n",
              "    <tr>\n",
              "      <th>21<\/th>\n",
              "      <td>(SET\/6 RED SPOTTY PAPER PLATES, SET\/20 RED RET...<\/td>\n",
              "      <td>(SET\/6 RED SPOTTY PAPER CUPS)<\/td>\n",
              "      <td>0.102041<\/td>\n",
              "      <td>0.137755<\/td>\n",
              "      <td>0.099490<\/td>\n",
              "      <td>0.975000<\/td>\n",
              "      <td>7.077778<\/td>\n",
              "      <td>0.085433<\/td>\n",
              "      <td>34.489796<\/td>\n",
              "    <\/tr>\n",
              "    <tr>\n",
              "      <th>22<\/th>\n",
              "      <td>(SET\/6 RED SPOTTY PAPER CUPS, SET\/20 RED RETRO...<\/td>\n",
              "      <td>(SET\/6 RED SPOTTY PAPER PLATES)<\/td>\n",
              "      <td>0.102041<\/td>\n",
              "      <td>0.127551<\/td>\n",
              "      <td>0.099490<\/td>\n",
              "      <td>0.975000<\/td>\n",
              "      <td>7.644000<\/td>\n",
              "      <td>0.086474<\/td>\n",
              "      <td>34.897959<\/td>\n",
              "    <\/tr>\n",
              "  <\/tbody>\n",
              "<\/table>\n",
              "<\/div>"
            ]
          },
          "metadata":{
            
          },
          "output_type":"display_data"
        }
      ],
      "metadata":{
        
      }
    },
    {
      "cell_type":"code",
      "source":[
        "basket['ALARM CLOCK BAKELIKE GREEN'].sum()"
      ],
      "execution_count":20,
      "outputs":[
        {
          "data":{
            "text\/plain":[
              "340.0"
            ]
          },
          "metadata":{
            
          },
          "output_type":"display_data"
        }
      ],
      "metadata":{
        
      }
    },
    {
      "cell_type":"code",
      "source":[
        "basket['ALARM CLOCK BAKELIKE RED'].sum()"
      ],
      "execution_count":21,
      "outputs":[
        {
          "data":{
            "text\/plain":[
              "316.0"
            ]
          },
          "metadata":{
            
          },
          "output_type":"display_data"
        }
      ],
      "metadata":{
        
      }
    },
    {
      "cell_type":"markdown",
      "source":[
        "### Análise de cesto de compras da Alemanha\n",
        "\n",
        "Esse código é semelhante ao código utilizado para gerar as regras da França. O objetivo é mostrar como que o suporte mínimo e a confiança mínima podem variar de uma base para outra. Um país pode ter um perfil de compras mais homogêneo e gerar regras com suporte maior, enquanto outro país pode gerar regras com suporte menor."
      ],
      "attachments":{
        
      },
      "metadata":{
        
      }
    },
    {
      "cell_type":"code",
      "source":[
        "basket2 = (df[df['Country'] ==\"Germany\"]\n",
        "          .groupby(['InvoiceNo', 'Description'])['Quantity']\n",
        "          .sum().unstack().reset_index().fillna(0)\n",
        "          .set_index('InvoiceNo'))\n",
        "\n",
        "basket_sets2 = basket2.applymap(encode_units)\n",
        "basket_sets2.drop('POSTAGE', inplace=True, axis=1)\n",
        "frequent_itemsets2 = apriori(basket_sets2, min_support=0.05, use_colnames=True)\n",
        "rules2 = association_rules(frequent_itemsets2, metric=\"lift\", min_threshold=1)\n",
        "\n",
        "rules2[ (rules2['lift'] >= 4) &\n",
        "        (rules2['confidence'] >= 0.5)]"
      ],
      "execution_count":22,
      "outputs":[
        {
          "data":{
            "text\/html":[
              "<div>\n",
              "<style scoped>\n",
              "    .dataframe tbody tr th:only-of-type {\n",
              "        vertical-align: middle;\n",
              "    }\n",
              "\n",
              "    .dataframe tbody tr th {\n",
              "        vertical-align: top;\n",
              "    }\n",
              "\n",
              "    .dataframe thead th {\n",
              "        text-align: right;\n",
              "    }\n",
              "<\/style>\n",
              "<table border=\"1\" class=\"dataframe\">\n",
              "  <thead>\n",
              "    <tr style=\"text-align: right;\">\n",
              "      <th><\/th>\n",
              "      <th>antecedents<\/th>\n",
              "      <th>consequents<\/th>\n",
              "      <th>antecedent support<\/th>\n",
              "      <th>consequent support<\/th>\n",
              "      <th>support<\/th>\n",
              "      <th>confidence<\/th>\n",
              "      <th>lift<\/th>\n",
              "      <th>leverage<\/th>\n",
              "      <th>conviction<\/th>\n",
              "    <\/tr>\n",
              "  <\/thead>\n",
              "  <tbody>\n",
              "    <tr>\n",
              "      <th>0<\/th>\n",
              "      <td>(PLASTERS IN TIN CIRCUS PARADE)<\/td>\n",
              "      <td>(PLASTERS IN TIN WOODLAND ANIMALS)<\/td>\n",
              "      <td>0.115974<\/td>\n",
              "      <td>0.137856<\/td>\n",
              "      <td>0.067834<\/td>\n",
              "      <td>0.584906<\/td>\n",
              "      <td>4.242887<\/td>\n",
              "      <td>0.051846<\/td>\n",
              "      <td>2.076984<\/td>\n",
              "    <\/tr>\n",
              "    <tr>\n",
              "      <th>6<\/th>\n",
              "      <td>(PLASTERS IN TIN SPACEBOY)<\/td>\n",
              "      <td>(PLASTERS IN TIN WOODLAND ANIMALS)<\/td>\n",
              "      <td>0.107221<\/td>\n",
              "      <td>0.137856<\/td>\n",
              "      <td>0.061269<\/td>\n",
              "      <td>0.571429<\/td>\n",
              "      <td>4.145125<\/td>\n",
              "      <td>0.046488<\/td>\n",
              "      <td>2.011670<\/td>\n",
              "    <\/tr>\n",
              "    <tr>\n",
              "      <th>10<\/th>\n",
              "      <td>(RED RETROSPOT CHARLOTTE BAG)<\/td>\n",
              "      <td>(WOODLAND CHARLOTTE BAG)<\/td>\n",
              "      <td>0.070022<\/td>\n",
              "      <td>0.126915<\/td>\n",
              "      <td>0.059081<\/td>\n",
              "      <td>0.843750<\/td>\n",
              "      <td>6.648168<\/td>\n",
              "      <td>0.050194<\/td>\n",
              "      <td>5.587746<\/td>\n",
              "    <\/tr>\n",
              "  <\/tbody>\n",
              "<\/table>\n",
              "<\/div>"
            ]
          },
          "metadata":{
            
          },
          "output_type":"display_data"
        }
      ],
      "metadata":{
        
      }
    },
    {
      "cell_type":"code",
      "source":[
        
      ],
      "execution_count":null,
      "outputs":[
        
      ],
      "metadata":{
        
      }
    }
  ],
  "metadata":{
    
  },
  "nbformat":4,
  "nbformat_minor":0
}