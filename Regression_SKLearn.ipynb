{
 "cells": [
  {
   "cell_type": "code",
   "execution_count": 79,
   "metadata": {},
   "outputs": [],
   "source": [
    "import pandas as pd\n",
    "import numpy as np\n",
    "from sklearn.linear_model import LinearRegression\n",
    "import seaborn as sns\n",
    "import matplotlib.pyplot as plt\n",
    "%matplotlib inline"
   ]
  },
  {
   "cell_type": "markdown",
   "metadata": {},
   "source": [
    "### Loading Dataset"
   ]
  },
  {
   "cell_type": "code",
   "execution_count": 2,
   "metadata": {},
   "outputs": [],
   "source": [
    "data = pd.read_json('https://raw.githubusercontent.com/alura-cursos/2570-regressao-com-sklearn/main/dados/imoveis.json',\n",
    "                    orient='columns')"
   ]
  },
  {
   "cell_type": "markdown",
   "metadata": {},
   "source": [
    "### Exploring Information"
   ]
  },
  {
   "cell_type": "code",
   "execution_count": 3,
   "metadata": {},
   "outputs": [
    {
     "data": {
      "text/html": [
       "<div>\n",
       "<style scoped>\n",
       "    .dataframe tbody tr th:only-of-type {\n",
       "        vertical-align: middle;\n",
       "    }\n",
       "\n",
       "    .dataframe tbody tr th {\n",
       "        vertical-align: top;\n",
       "    }\n",
       "\n",
       "    .dataframe thead th {\n",
       "        text-align: right;\n",
       "    }\n",
       "</style>\n",
       "<table border=\"1\" class=\"dataframe\">\n",
       "  <thead>\n",
       "    <tr style=\"text-align: right;\">\n",
       "      <th></th>\n",
       "      <th>ident</th>\n",
       "      <th>listing</th>\n",
       "    </tr>\n",
       "  </thead>\n",
       "  <tbody>\n",
       "    <tr>\n",
       "      <th>0</th>\n",
       "      <td>{'customerID': '775564-BOJSMVON', 'source': 'W...</td>\n",
       "      <td>{'types': {'unit': 'Outros', 'usage': 'Residen...</td>\n",
       "    </tr>\n",
       "    <tr>\n",
       "      <th>1</th>\n",
       "      <td>{'customerID': '660895-AUENKNYY', 'source': 'W...</td>\n",
       "      <td>{'types': {'unit': 'Apartamento', 'usage': 'Re...</td>\n",
       "    </tr>\n",
       "    <tr>\n",
       "      <th>2</th>\n",
       "      <td>{'customerID': '751522-JESYFEQL', 'source': 'W...</td>\n",
       "      <td>{'types': {'unit': 'Outros', 'usage': 'Residen...</td>\n",
       "    </tr>\n",
       "    <tr>\n",
       "      <th>3</th>\n",
       "      <td>{'customerID': '714052-GAAEWYKS', 'source': 'W...</td>\n",
       "      <td>{'types': {'unit': 'Outros', 'usage': 'Comerci...</td>\n",
       "    </tr>\n",
       "    <tr>\n",
       "      <th>4</th>\n",
       "      <td>{'customerID': '568886-ZIBFOMCC', 'source': 'W...</td>\n",
       "      <td>{'types': {'unit': 'Apartamento', 'usage': 'Re...</td>\n",
       "    </tr>\n",
       "  </tbody>\n",
       "</table>\n",
       "</div>"
      ],
      "text/plain": [
       "                                               ident  \\\n",
       "0  {'customerID': '775564-BOJSMVON', 'source': 'W...   \n",
       "1  {'customerID': '660895-AUENKNYY', 'source': 'W...   \n",
       "2  {'customerID': '751522-JESYFEQL', 'source': 'W...   \n",
       "3  {'customerID': '714052-GAAEWYKS', 'source': 'W...   \n",
       "4  {'customerID': '568886-ZIBFOMCC', 'source': 'W...   \n",
       "\n",
       "                                             listing  \n",
       "0  {'types': {'unit': 'Outros', 'usage': 'Residen...  \n",
       "1  {'types': {'unit': 'Apartamento', 'usage': 'Re...  \n",
       "2  {'types': {'unit': 'Outros', 'usage': 'Residen...  \n",
       "3  {'types': {'unit': 'Outros', 'usage': 'Comerci...  \n",
       "4  {'types': {'unit': 'Apartamento', 'usage': 'Re...  "
      ]
     },
     "execution_count": 3,
     "metadata": {},
     "output_type": "execute_result"
    }
   ],
   "source": [
    "data.head()"
   ]
  },
  {
   "cell_type": "code",
   "execution_count": 4,
   "metadata": {},
   "outputs": [
    {
     "data": {
      "text/plain": [
       "{'customerID': '775564-BOJSMVON', 'source': 'Website'}"
      ]
     },
     "execution_count": 4,
     "metadata": {},
     "output_type": "execute_result"
    }
   ],
   "source": [
    "data.ident[0]"
   ]
  },
  {
   "cell_type": "code",
   "execution_count": 5,
   "metadata": {},
   "outputs": [
    {
     "data": {
      "text/plain": [
       "{'types': {'unit': 'Outros', 'usage': 'Residencial'},\n",
       " 'address': {'city': 'Rio de Janeiro',\n",
       "  'location': {'lon': -43.413557, 'lat': -22.909429},\n",
       "  'zone': 'Zona Oeste',\n",
       "  'neighborhood': 'Taquara'},\n",
       " 'prices': {'price': '45000', 'tax': {'iptu': '0', 'condo': '150'}},\n",
       " 'features': {'bedrooms': 0,\n",
       "  'bathrooms': 0,\n",
       "  'suites': 0,\n",
       "  'parkingSpaces': 1,\n",
       "  'usableAreas': '62',\n",
       "  'totalAreas': '62',\n",
       "  'floors': 0,\n",
       "  'unitsOnTheFloor': 0,\n",
       "  'unitFloor': 0}}"
      ]
     },
     "execution_count": 5,
     "metadata": {},
     "output_type": "execute_result"
    }
   ],
   "source": [
    "data.listing[0]"
   ]
  },
  {
   "cell_type": "markdown",
   "metadata": {},
   "source": [
    "### Data Treatment"
   ]
  },
  {
   "cell_type": "markdown",
   "metadata": {},
   "source": [
    "##### Normalization"
   ]
  },
  {
   "cell_type": "code",
   "execution_count": 6,
   "metadata": {},
   "outputs": [
    {
     "data": {
      "text/html": [
       "<div>\n",
       "<style scoped>\n",
       "    .dataframe tbody tr th:only-of-type {\n",
       "        vertical-align: middle;\n",
       "    }\n",
       "\n",
       "    .dataframe tbody tr th {\n",
       "        vertical-align: top;\n",
       "    }\n",
       "\n",
       "    .dataframe thead th {\n",
       "        text-align: right;\n",
       "    }\n",
       "</style>\n",
       "<table border=\"1\" class=\"dataframe\">\n",
       "  <thead>\n",
       "    <tr style=\"text-align: right;\">\n",
       "      <th></th>\n",
       "      <th>customerID</th>\n",
       "      <th>source</th>\n",
       "    </tr>\n",
       "  </thead>\n",
       "  <tbody>\n",
       "    <tr>\n",
       "      <th>0</th>\n",
       "      <td>775564-BOJSMVON</td>\n",
       "      <td>Website</td>\n",
       "    </tr>\n",
       "    <tr>\n",
       "      <th>1</th>\n",
       "      <td>660895-AUENKNYY</td>\n",
       "      <td>Website</td>\n",
       "    </tr>\n",
       "    <tr>\n",
       "      <th>2</th>\n",
       "      <td>751522-JESYFEQL</td>\n",
       "      <td>Website</td>\n",
       "    </tr>\n",
       "    <tr>\n",
       "      <th>3</th>\n",
       "      <td>714052-GAAEWYKS</td>\n",
       "      <td>Website</td>\n",
       "    </tr>\n",
       "    <tr>\n",
       "      <th>4</th>\n",
       "      <td>568886-ZIBFOMCC</td>\n",
       "      <td>Website</td>\n",
       "    </tr>\n",
       "  </tbody>\n",
       "</table>\n",
       "</div>"
      ],
      "text/plain": [
       "        customerID   source\n",
       "0  775564-BOJSMVON  Website\n",
       "1  660895-AUENKNYY  Website\n",
       "2  751522-JESYFEQL  Website\n",
       "3  714052-GAAEWYKS  Website\n",
       "4  568886-ZIBFOMCC  Website"
      ]
     },
     "execution_count": 6,
     "metadata": {},
     "output_type": "execute_result"
    }
   ],
   "source": [
    "data_list1 = pd.json_normalize(data.ident)\n",
    "data_list1.head()"
   ]
  },
  {
   "cell_type": "code",
   "execution_count": 7,
   "metadata": {},
   "outputs": [
    {
     "data": {
      "text/html": [
       "<div>\n",
       "<style scoped>\n",
       "    .dataframe tbody tr th:only-of-type {\n",
       "        vertical-align: middle;\n",
       "    }\n",
       "\n",
       "    .dataframe tbody tr th {\n",
       "        vertical-align: top;\n",
       "    }\n",
       "\n",
       "    .dataframe thead th {\n",
       "        text-align: right;\n",
       "    }\n",
       "</style>\n",
       "<table border=\"1\" class=\"dataframe\">\n",
       "  <thead>\n",
       "    <tr style=\"text-align: right;\">\n",
       "      <th></th>\n",
       "      <th>types_unit</th>\n",
       "      <th>types_usage</th>\n",
       "      <th>address_city</th>\n",
       "      <th>address_location_lon</th>\n",
       "      <th>address_location_lat</th>\n",
       "      <th>address_zone</th>\n",
       "      <th>address_neighborhood</th>\n",
       "      <th>prices_price</th>\n",
       "      <th>prices_tax_iptu</th>\n",
       "      <th>prices_tax_condo</th>\n",
       "      <th>features_bedrooms</th>\n",
       "      <th>features_bathrooms</th>\n",
       "      <th>features_suites</th>\n",
       "      <th>features_parkingSpaces</th>\n",
       "      <th>features_usableAreas</th>\n",
       "      <th>features_totalAreas</th>\n",
       "      <th>features_floors</th>\n",
       "      <th>features_unitsOnTheFloor</th>\n",
       "      <th>features_unitFloor</th>\n",
       "    </tr>\n",
       "  </thead>\n",
       "  <tbody>\n",
       "    <tr>\n",
       "      <th>0</th>\n",
       "      <td>Outros</td>\n",
       "      <td>Residencial</td>\n",
       "      <td>Rio de Janeiro</td>\n",
       "      <td>-43.413557</td>\n",
       "      <td>-22.909429</td>\n",
       "      <td>Zona Oeste</td>\n",
       "      <td>Taquara</td>\n",
       "      <td>45000</td>\n",
       "      <td>0</td>\n",
       "      <td>150</td>\n",
       "      <td>0</td>\n",
       "      <td>0</td>\n",
       "      <td>0</td>\n",
       "      <td>1</td>\n",
       "      <td>62</td>\n",
       "      <td>62</td>\n",
       "      <td>0</td>\n",
       "      <td>0</td>\n",
       "      <td>0</td>\n",
       "    </tr>\n",
       "    <tr>\n",
       "      <th>1</th>\n",
       "      <td>Apartamento</td>\n",
       "      <td>Residencial</td>\n",
       "      <td>Rio de Janeiro</td>\n",
       "      <td>-43.509141</td>\n",
       "      <td>-22.869698</td>\n",
       "      <td>Zona Oeste</td>\n",
       "      <td>Santíssimo</td>\n",
       "      <td>45000</td>\n",
       "      <td>0</td>\n",
       "      <td>120</td>\n",
       "      <td>2</td>\n",
       "      <td>1</td>\n",
       "      <td>0</td>\n",
       "      <td>1</td>\n",
       "      <td>44</td>\n",
       "      <td>0</td>\n",
       "      <td>0</td>\n",
       "      <td>0</td>\n",
       "      <td>0</td>\n",
       "    </tr>\n",
       "    <tr>\n",
       "      <th>2</th>\n",
       "      <td>Outros</td>\n",
       "      <td>Residencial</td>\n",
       "      <td>Rio de Janeiro</td>\n",
       "      <td>-43.646786</td>\n",
       "      <td>-22.986927</td>\n",
       "      <td>Zona Oeste</td>\n",
       "      <td>Pedra de Guaratiba</td>\n",
       "      <td>50000</td>\n",
       "      <td>0</td>\n",
       "      <td>100</td>\n",
       "      <td>0</td>\n",
       "      <td>0</td>\n",
       "      <td>0</td>\n",
       "      <td>0</td>\n",
       "      <td>132</td>\n",
       "      <td>132</td>\n",
       "      <td>0</td>\n",
       "      <td>0</td>\n",
       "      <td>0</td>\n",
       "    </tr>\n",
       "    <tr>\n",
       "      <th>3</th>\n",
       "      <td>Outros</td>\n",
       "      <td>Comercial</td>\n",
       "      <td>Rio de Janeiro</td>\n",
       "      <td>-43.330818</td>\n",
       "      <td>-22.881977</td>\n",
       "      <td>Zona Norte</td>\n",
       "      <td>Cascadura</td>\n",
       "      <td>45000</td>\n",
       "      <td>346</td>\n",
       "      <td>468</td>\n",
       "      <td>0</td>\n",
       "      <td>1</td>\n",
       "      <td>0</td>\n",
       "      <td>0</td>\n",
       "      <td>32</td>\n",
       "      <td>32</td>\n",
       "      <td>0</td>\n",
       "      <td>0</td>\n",
       "      <td>3</td>\n",
       "    </tr>\n",
       "    <tr>\n",
       "      <th>4</th>\n",
       "      <td>Apartamento</td>\n",
       "      <td>Residencial</td>\n",
       "      <td>Rio de Janeiro</td>\n",
       "      <td>-43.480742</td>\n",
       "      <td>-23.027653</td>\n",
       "      <td>Zona Oeste</td>\n",
       "      <td>Recreio dos Bandeirantes</td>\n",
       "      <td>50000</td>\n",
       "      <td>120</td>\n",
       "      <td>400</td>\n",
       "      <td>3</td>\n",
       "      <td>2</td>\n",
       "      <td>1</td>\n",
       "      <td>1</td>\n",
       "      <td>60</td>\n",
       "      <td>0</td>\n",
       "      <td>3</td>\n",
       "      <td>4</td>\n",
       "      <td>2</td>\n",
       "    </tr>\n",
       "  </tbody>\n",
       "</table>\n",
       "</div>"
      ],
      "text/plain": [
       "    types_unit  types_usage    address_city  address_location_lon  \\\n",
       "0       Outros  Residencial  Rio de Janeiro            -43.413557   \n",
       "1  Apartamento  Residencial  Rio de Janeiro            -43.509141   \n",
       "2       Outros  Residencial  Rio de Janeiro            -43.646786   \n",
       "3       Outros    Comercial  Rio de Janeiro            -43.330818   \n",
       "4  Apartamento  Residencial  Rio de Janeiro            -43.480742   \n",
       "\n",
       "   address_location_lat address_zone      address_neighborhood prices_price  \\\n",
       "0            -22.909429   Zona Oeste                   Taquara        45000   \n",
       "1            -22.869698   Zona Oeste                Santíssimo        45000   \n",
       "2            -22.986927   Zona Oeste        Pedra de Guaratiba        50000   \n",
       "3            -22.881977   Zona Norte                 Cascadura        45000   \n",
       "4            -23.027653   Zona Oeste  Recreio dos Bandeirantes        50000   \n",
       "\n",
       "  prices_tax_iptu prices_tax_condo  features_bedrooms  features_bathrooms  \\\n",
       "0               0              150                  0                   0   \n",
       "1               0              120                  2                   1   \n",
       "2               0              100                  0                   0   \n",
       "3             346              468                  0                   1   \n",
       "4             120              400                  3                   2   \n",
       "\n",
       "   features_suites  features_parkingSpaces features_usableAreas  \\\n",
       "0                0                       1                   62   \n",
       "1                0                       1                   44   \n",
       "2                0                       0                  132   \n",
       "3                0                       0                   32   \n",
       "4                1                       1                   60   \n",
       "\n",
       "  features_totalAreas  features_floors  features_unitsOnTheFloor  \\\n",
       "0                  62                0                         0   \n",
       "1                   0                0                         0   \n",
       "2                 132                0                         0   \n",
       "3                  32                0                         0   \n",
       "4                   0                3                         4   \n",
       "\n",
       "   features_unitFloor  \n",
       "0                   0  \n",
       "1                   0  \n",
       "2                   0  \n",
       "3                   3  \n",
       "4                   2  "
      ]
     },
     "execution_count": 7,
     "metadata": {},
     "output_type": "execute_result"
    }
   ],
   "source": [
    "data_list2 = pd.json_normalize(data.listing, sep='_')\n",
    "data_list2.head()"
   ]
  },
  {
   "cell_type": "code",
   "execution_count": 8,
   "metadata": {},
   "outputs": [
    {
     "data": {
      "text/html": [
       "<div>\n",
       "<style scoped>\n",
       "    .dataframe tbody tr th:only-of-type {\n",
       "        vertical-align: middle;\n",
       "    }\n",
       "\n",
       "    .dataframe tbody tr th {\n",
       "        vertical-align: top;\n",
       "    }\n",
       "\n",
       "    .dataframe thead th {\n",
       "        text-align: right;\n",
       "    }\n",
       "</style>\n",
       "<table border=\"1\" class=\"dataframe\">\n",
       "  <thead>\n",
       "    <tr style=\"text-align: right;\">\n",
       "      <th></th>\n",
       "      <th>customerID</th>\n",
       "      <th>source</th>\n",
       "      <th>types_unit</th>\n",
       "      <th>types_usage</th>\n",
       "      <th>address_city</th>\n",
       "      <th>address_location_lon</th>\n",
       "      <th>address_location_lat</th>\n",
       "      <th>address_zone</th>\n",
       "      <th>address_neighborhood</th>\n",
       "      <th>prices_price</th>\n",
       "      <th>...</th>\n",
       "      <th>prices_tax_condo</th>\n",
       "      <th>features_bedrooms</th>\n",
       "      <th>features_bathrooms</th>\n",
       "      <th>features_suites</th>\n",
       "      <th>features_parkingSpaces</th>\n",
       "      <th>features_usableAreas</th>\n",
       "      <th>features_totalAreas</th>\n",
       "      <th>features_floors</th>\n",
       "      <th>features_unitsOnTheFloor</th>\n",
       "      <th>features_unitFloor</th>\n",
       "    </tr>\n",
       "  </thead>\n",
       "  <tbody>\n",
       "    <tr>\n",
       "      <th>0</th>\n",
       "      <td>775564-BOJSMVON</td>\n",
       "      <td>Website</td>\n",
       "      <td>Outros</td>\n",
       "      <td>Residencial</td>\n",
       "      <td>Rio de Janeiro</td>\n",
       "      <td>-43.413557</td>\n",
       "      <td>-22.909429</td>\n",
       "      <td>Zona Oeste</td>\n",
       "      <td>Taquara</td>\n",
       "      <td>45000</td>\n",
       "      <td>...</td>\n",
       "      <td>150</td>\n",
       "      <td>0</td>\n",
       "      <td>0</td>\n",
       "      <td>0</td>\n",
       "      <td>1</td>\n",
       "      <td>62</td>\n",
       "      <td>62</td>\n",
       "      <td>0</td>\n",
       "      <td>0</td>\n",
       "      <td>0</td>\n",
       "    </tr>\n",
       "    <tr>\n",
       "      <th>1</th>\n",
       "      <td>660895-AUENKNYY</td>\n",
       "      <td>Website</td>\n",
       "      <td>Apartamento</td>\n",
       "      <td>Residencial</td>\n",
       "      <td>Rio de Janeiro</td>\n",
       "      <td>-43.509141</td>\n",
       "      <td>-22.869698</td>\n",
       "      <td>Zona Oeste</td>\n",
       "      <td>Santíssimo</td>\n",
       "      <td>45000</td>\n",
       "      <td>...</td>\n",
       "      <td>120</td>\n",
       "      <td>2</td>\n",
       "      <td>1</td>\n",
       "      <td>0</td>\n",
       "      <td>1</td>\n",
       "      <td>44</td>\n",
       "      <td>0</td>\n",
       "      <td>0</td>\n",
       "      <td>0</td>\n",
       "      <td>0</td>\n",
       "    </tr>\n",
       "    <tr>\n",
       "      <th>2</th>\n",
       "      <td>751522-JESYFEQL</td>\n",
       "      <td>Website</td>\n",
       "      <td>Outros</td>\n",
       "      <td>Residencial</td>\n",
       "      <td>Rio de Janeiro</td>\n",
       "      <td>-43.646786</td>\n",
       "      <td>-22.986927</td>\n",
       "      <td>Zona Oeste</td>\n",
       "      <td>Pedra de Guaratiba</td>\n",
       "      <td>50000</td>\n",
       "      <td>...</td>\n",
       "      <td>100</td>\n",
       "      <td>0</td>\n",
       "      <td>0</td>\n",
       "      <td>0</td>\n",
       "      <td>0</td>\n",
       "      <td>132</td>\n",
       "      <td>132</td>\n",
       "      <td>0</td>\n",
       "      <td>0</td>\n",
       "      <td>0</td>\n",
       "    </tr>\n",
       "    <tr>\n",
       "      <th>3</th>\n",
       "      <td>714052-GAAEWYKS</td>\n",
       "      <td>Website</td>\n",
       "      <td>Outros</td>\n",
       "      <td>Comercial</td>\n",
       "      <td>Rio de Janeiro</td>\n",
       "      <td>-43.330818</td>\n",
       "      <td>-22.881977</td>\n",
       "      <td>Zona Norte</td>\n",
       "      <td>Cascadura</td>\n",
       "      <td>45000</td>\n",
       "      <td>...</td>\n",
       "      <td>468</td>\n",
       "      <td>0</td>\n",
       "      <td>1</td>\n",
       "      <td>0</td>\n",
       "      <td>0</td>\n",
       "      <td>32</td>\n",
       "      <td>32</td>\n",
       "      <td>0</td>\n",
       "      <td>0</td>\n",
       "      <td>3</td>\n",
       "    </tr>\n",
       "    <tr>\n",
       "      <th>4</th>\n",
       "      <td>568886-ZIBFOMCC</td>\n",
       "      <td>Website</td>\n",
       "      <td>Apartamento</td>\n",
       "      <td>Residencial</td>\n",
       "      <td>Rio de Janeiro</td>\n",
       "      <td>-43.480742</td>\n",
       "      <td>-23.027653</td>\n",
       "      <td>Zona Oeste</td>\n",
       "      <td>Recreio dos Bandeirantes</td>\n",
       "      <td>50000</td>\n",
       "      <td>...</td>\n",
       "      <td>400</td>\n",
       "      <td>3</td>\n",
       "      <td>2</td>\n",
       "      <td>1</td>\n",
       "      <td>1</td>\n",
       "      <td>60</td>\n",
       "      <td>0</td>\n",
       "      <td>3</td>\n",
       "      <td>4</td>\n",
       "      <td>2</td>\n",
       "    </tr>\n",
       "  </tbody>\n",
       "</table>\n",
       "<p>5 rows × 21 columns</p>\n",
       "</div>"
      ],
      "text/plain": [
       "        customerID   source   types_unit  types_usage    address_city  \\\n",
       "0  775564-BOJSMVON  Website       Outros  Residencial  Rio de Janeiro   \n",
       "1  660895-AUENKNYY  Website  Apartamento  Residencial  Rio de Janeiro   \n",
       "2  751522-JESYFEQL  Website       Outros  Residencial  Rio de Janeiro   \n",
       "3  714052-GAAEWYKS  Website       Outros    Comercial  Rio de Janeiro   \n",
       "4  568886-ZIBFOMCC  Website  Apartamento  Residencial  Rio de Janeiro   \n",
       "\n",
       "   address_location_lon  address_location_lat address_zone  \\\n",
       "0            -43.413557            -22.909429   Zona Oeste   \n",
       "1            -43.509141            -22.869698   Zona Oeste   \n",
       "2            -43.646786            -22.986927   Zona Oeste   \n",
       "3            -43.330818            -22.881977   Zona Norte   \n",
       "4            -43.480742            -23.027653   Zona Oeste   \n",
       "\n",
       "       address_neighborhood prices_price  ... prices_tax_condo  \\\n",
       "0                   Taquara        45000  ...              150   \n",
       "1                Santíssimo        45000  ...              120   \n",
       "2        Pedra de Guaratiba        50000  ...              100   \n",
       "3                 Cascadura        45000  ...              468   \n",
       "4  Recreio dos Bandeirantes        50000  ...              400   \n",
       "\n",
       "  features_bedrooms  features_bathrooms  features_suites  \\\n",
       "0                 0                   0                0   \n",
       "1                 2                   1                0   \n",
       "2                 0                   0                0   \n",
       "3                 0                   1                0   \n",
       "4                 3                   2                1   \n",
       "\n",
       "   features_parkingSpaces  features_usableAreas features_totalAreas  \\\n",
       "0                       1                    62                  62   \n",
       "1                       1                    44                   0   \n",
       "2                       0                   132                 132   \n",
       "3                       0                    32                  32   \n",
       "4                       1                    60                   0   \n",
       "\n",
       "  features_floors  features_unitsOnTheFloor  features_unitFloor  \n",
       "0               0                         0                   0  \n",
       "1               0                         0                   0  \n",
       "2               0                         0                   0  \n",
       "3               0                         0                   3  \n",
       "4               3                         4                   2  \n",
       "\n",
       "[5 rows x 21 columns]"
      ]
     },
     "execution_count": 8,
     "metadata": {},
     "output_type": "execute_result"
    }
   ],
   "source": [
    "# concat dataframes\n",
    "data_houses = pd.concat([data_list1, data_list2], axis=1)\n",
    "data_houses.head()"
   ]
  },
  {
   "cell_type": "code",
   "execution_count": 9,
   "metadata": {},
   "outputs": [
    {
     "data": {
      "text/plain": [
       "(73615, 21)"
      ]
     },
     "execution_count": 9,
     "metadata": {},
     "output_type": "execute_result"
    }
   ],
   "source": [
    "data_houses.shape"
   ]
  },
  {
   "cell_type": "code",
   "execution_count": 10,
   "metadata": {},
   "outputs": [
    {
     "name": "stdout",
     "output_type": "stream",
     "text": [
      "============================================================\n",
      "775564-BOJSMVON    1\n",
      "917809-TRNXMOHE    1\n",
      "125760-XEXDELYV    1\n",
      "294183-VCUBOXCU    1\n",
      "465524-CFDRZTHS    1\n",
      "                  ..\n",
      "200525-LDRZXCVM    1\n",
      "938284-QWFBFUXB    1\n",
      "882696-YVZSJYMI    1\n",
      "566032-WFPGBXHL    1\n",
      "610503-VULDJJZZ    1\n",
      "Name: customerID, Length: 73615, dtype: int64\n",
      "============================================================\n",
      "Website    73615\n",
      "Name: source, dtype: int64\n",
      "============================================================\n",
      "Apartamento    59106\n",
      "Casa            9389\n",
      "Outros          5120\n",
      "Name: types_unit, dtype: int64\n",
      "============================================================\n",
      "Residencial    69596\n",
      "Comercial       4019\n",
      "Name: types_usage, dtype: int64\n",
      "============================================================\n",
      "Rio de Janeiro        73607\n",
      "Queimados                 3\n",
      "São Gonçalo               2\n",
      "Cachoeirinha              1\n",
      "São João de Meriti        1\n",
      "Armação dos Búzios        1\n",
      "Name: address_city, dtype: int64\n",
      "============================================================\n",
      "-43.365895    399\n",
      "-43.462590    278\n",
      "-43.333066    236\n",
      "-43.383834    232\n",
      "-43.516473    218\n",
      "             ... \n",
      "-43.231882      1\n",
      "-43.236952      1\n",
      "-43.240152      1\n",
      "-43.185712      1\n",
      "-43.250934      1\n",
      "Name: address_location_lon, Length: 25753, dtype: int64\n",
      "============================================================\n",
      "-23.000371    399\n",
      "-23.017479    278\n",
      "-22.937463    236\n",
      "-22.966600    232\n",
      "-23.015968    218\n",
      "             ... \n",
      "-22.916667      1\n",
      "-22.904453      1\n",
      "-22.927386      1\n",
      "-22.944062      1\n",
      "-22.998918      1\n",
      "Name: address_location_lat, Length: 25552, dtype: int64\n",
      "============================================================\n",
      "Zona Oeste      37116\n",
      "Zona Sul        19222\n",
      "Zona Norte      15191\n",
      "Zona Central     1921\n",
      "                  165\n",
      "Name: address_zone, dtype: int64\n",
      "============================================================\n",
      "Barra da Tijuca                 11987\n",
      "Recreio dos Bandeirantes         7956\n",
      "Copacabana                       6380\n",
      "Jacarepaguá                      4192\n",
      "Tijuca                           3672\n",
      "                                ...  \n",
      "Área Rural de Rio de Janeiro        1\n",
      "Parque Analândia                    1\n",
      "Dumas                               1\n",
      "Tubiacanga                          1\n",
      "Vasco da Gama                       1\n",
      "Name: address_neighborhood, Length: 158, dtype: int64\n",
      "============================================================\n",
      "650000     830\n",
      "550000     750\n",
      "750000     748\n",
      "450000     737\n",
      "1200000    723\n",
      "          ... \n",
      "672042       1\n",
      "671567       1\n",
      "678825       1\n",
      "371932       1\n",
      "578990       1\n",
      "Name: prices_price, Length: 5230, dtype: int64\n",
      "============================================================\n",
      "0         9436\n",
      "1         1937\n",
      "20        1247\n",
      "10        1122\n",
      "100        939\n",
      "          ... \n",
      "4857         1\n",
      "2526         1\n",
      "5376         1\n",
      "444900       1\n",
      "3729         1\n",
      "Name: prices_tax_iptu, Length: 5488, dtype: int64\n",
      "============================================================\n",
      "0         6562\n",
      "1200      1371\n",
      "800       1350\n",
      "1100      1257\n",
      "1         1254\n",
      "          ... \n",
      "2905         1\n",
      "2272         1\n",
      "4102         1\n",
      "144654       1\n",
      "6075         1\n",
      "Name: prices_tax_condo, Length: 3297, dtype: int64\n",
      "============================================================\n",
      "2     25350\n",
      "3     24068\n",
      "4     10911\n",
      "1      6353\n",
      "0      3980\n",
      "5      2220\n",
      "6       476\n",
      "7        90\n",
      "8        65\n",
      "10       28\n",
      "9        18\n",
      "11        9\n",
      "12        8\n",
      "13        7\n",
      "14        7\n",
      "20        5\n",
      "15        4\n",
      "32        3\n",
      "30        2\n",
      "17        2\n",
      "23        2\n",
      "50        2\n",
      "27        2\n",
      "40        1\n",
      "24        1\n",
      "36        1\n",
      "Name: features_bedrooms, dtype: int64\n",
      "============================================================\n",
      "2     25451\n",
      "1     21096\n",
      "3     13481\n",
      "4      5591\n",
      "5      3286\n",
      "6      1999\n",
      "0      1270\n",
      "7       813\n",
      "8       405\n",
      "9        95\n",
      "10       72\n",
      "11       17\n",
      "12       16\n",
      "15        3\n",
      "40        3\n",
      "22        2\n",
      "17        2\n",
      "16        2\n",
      "13        2\n",
      "25        2\n",
      "18        2\n",
      "14        1\n",
      "49        1\n",
      "24        1\n",
      "36        1\n",
      "20        1\n",
      "Name: features_bathrooms, dtype: int64\n",
      "============================================================\n",
      "1     33188\n",
      "0     24492\n",
      "2      7812\n",
      "3      3707\n",
      "4      3314\n",
      "5       916\n",
      "6       140\n",
      "7        18\n",
      "8         7\n",
      "9         4\n",
      "10        4\n",
      "11        4\n",
      "13        2\n",
      "20        1\n",
      "50        1\n",
      "23        1\n",
      "17        1\n",
      "12        1\n",
      "16        1\n",
      "36        1\n",
      "Name: features_suites, dtype: int64\n",
      "============================================================\n",
      "1      35766\n",
      "2      15487\n",
      "0      13173\n",
      "3       5020\n",
      "4       2727\n",
      "5        601\n",
      "6        377\n",
      "8        134\n",
      "10       124\n",
      "7         82\n",
      "12        16\n",
      "15        14\n",
      "20        10\n",
      "9         10\n",
      "14         8\n",
      "30         8\n",
      "19         7\n",
      "21         7\n",
      "11         6\n",
      "13         5\n",
      "25         4\n",
      "50         3\n",
      "45         3\n",
      "16         3\n",
      "40         3\n",
      "18         3\n",
      "144        1\n",
      "60         1\n",
      "26         1\n",
      "35         1\n",
      "44         1\n",
      "180        1\n",
      "27         1\n",
      "17         1\n",
      "99         1\n",
      "31         1\n",
      "34         1\n",
      "42         1\n",
      "23         1\n",
      "32         1\n",
      "Name: features_parkingSpaces, dtype: int64\n",
      "============================================================\n",
      "70      2197\n",
      "60      1560\n",
      "80      1525\n",
      "90      1302\n",
      "50      1259\n",
      "        ... \n",
      "1442       1\n",
      "1917       1\n",
      "916        1\n",
      "1629       1\n",
      "1201       1\n",
      "Name: features_usableAreas, Length: 939, dtype: int64\n",
      "============================================================\n",
      "0        6948\n",
      "70       1981\n",
      "80       1329\n",
      "60       1302\n",
      "100      1135\n",
      "         ... \n",
      "2965        1\n",
      "5710        1\n",
      "10265       1\n",
      "3463        1\n",
      "1014        1\n",
      "Name: features_totalAreas, Length: 1305, dtype: int64\n",
      "============================================================\n",
      "0     57971\n",
      "12     2100\n",
      "3      1994\n",
      "10     1496\n",
      "5      1102\n",
      "4      1016\n",
      "7       975\n",
      "8       966\n",
      "2       878\n",
      "6       744\n",
      "15      732\n",
      "11      431\n",
      "9       377\n",
      "17      344\n",
      "20      335\n",
      "13      324\n",
      "18      321\n",
      "14      296\n",
      "16      286\n",
      "1       276\n",
      "22      194\n",
      "21      113\n",
      "19       91\n",
      "23       78\n",
      "25       48\n",
      "24       30\n",
      "30       25\n",
      "28       16\n",
      "27       13\n",
      "26        8\n",
      "40        8\n",
      "29        6\n",
      "32        4\n",
      "33        4\n",
      "34        3\n",
      "35        3\n",
      "42        2\n",
      "38        1\n",
      "37        1\n",
      "31        1\n",
      "50        1\n",
      "41        1\n",
      "Name: features_floors, dtype: int64\n",
      "============================================================\n",
      "0     60027\n",
      "4      3570\n",
      "8      1967\n",
      "6      1680\n",
      "2      1437\n",
      "10     1187\n",
      "12     1015\n",
      "1       966\n",
      "3       329\n",
      "5       324\n",
      "7       151\n",
      "9       147\n",
      "19      147\n",
      "16       98\n",
      "11       72\n",
      "20       69\n",
      "14       61\n",
      "15       58\n",
      "18       41\n",
      "13       36\n",
      "50       34\n",
      "30       28\n",
      "25       22\n",
      "17       18\n",
      "22       17\n",
      "24       16\n",
      "40       12\n",
      "21       11\n",
      "23       11\n",
      "36        9\n",
      "26        9\n",
      "49        5\n",
      "29        5\n",
      "37        5\n",
      "34        5\n",
      "44        4\n",
      "35        3\n",
      "45        3\n",
      "27        3\n",
      "33        3\n",
      "38        3\n",
      "32        2\n",
      "31        1\n",
      "76        1\n",
      "39        1\n",
      "43        1\n",
      "28        1\n",
      "Name: features_unitsOnTheFloor, dtype: int64\n",
      "============================================================\n",
      "0       54737\n",
      "2        3298\n",
      "3        3000\n",
      "1        2584\n",
      "4        1830\n",
      "5        1552\n",
      "6        1322\n",
      "7        1023\n",
      "8         895\n",
      "10        794\n",
      "9         558\n",
      "12        428\n",
      "11        361\n",
      "15        247\n",
      "13        178\n",
      "14        175\n",
      "16        150\n",
      "17        115\n",
      "18         77\n",
      "20         72\n",
      "19         48\n",
      "21         41\n",
      "22         32\n",
      "25         17\n",
      "50         12\n",
      "24         11\n",
      "23         10\n",
      "1234        7\n",
      "28          6\n",
      "26          6\n",
      "42          3\n",
      "99          3\n",
      "27          3\n",
      "36          2\n",
      "29          2\n",
      "31          1\n",
      "102         1\n",
      "701         1\n",
      "302         1\n",
      "370         1\n",
      "123         1\n",
      "480         1\n",
      "33          1\n",
      "65          1\n",
      "167         1\n",
      "78          1\n",
      "30          1\n",
      "60          1\n",
      "504         1\n",
      "32          1\n",
      "43          1\n",
      "Name: features_unitFloor, dtype: int64\n"
     ]
    }
   ],
   "source": [
    "for col in data_houses.columns:\n",
    "    print('='*60)\n",
    "    print(data_houses[col].value_counts())"
   ]
  },
  {
   "cell_type": "markdown",
   "metadata": {},
   "source": [
    "### Pre processing"
   ]
  },
  {
   "cell_type": "markdown",
   "metadata": {},
   "source": [
    "##### Cleaning Dataset"
   ]
  },
  {
   "cell_type": "code",
   "execution_count": 11,
   "metadata": {},
   "outputs": [
    {
     "data": {
      "text/html": [
       "<div>\n",
       "<style scoped>\n",
       "    .dataframe tbody tr th:only-of-type {\n",
       "        vertical-align: middle;\n",
       "    }\n",
       "\n",
       "    .dataframe tbody tr th {\n",
       "        vertical-align: top;\n",
       "    }\n",
       "\n",
       "    .dataframe thead th {\n",
       "        text-align: right;\n",
       "    }\n",
       "</style>\n",
       "<table border=\"1\" class=\"dataframe\">\n",
       "  <thead>\n",
       "    <tr style=\"text-align: right;\">\n",
       "      <th></th>\n",
       "      <th>customerID</th>\n",
       "      <th>source</th>\n",
       "      <th>types_unit</th>\n",
       "      <th>types_usage</th>\n",
       "      <th>address_city</th>\n",
       "      <th>address_location_lon</th>\n",
       "      <th>address_location_lat</th>\n",
       "      <th>address_zone</th>\n",
       "      <th>address_neighborhood</th>\n",
       "      <th>prices_price</th>\n",
       "      <th>...</th>\n",
       "      <th>prices_tax_condo</th>\n",
       "      <th>features_bedrooms</th>\n",
       "      <th>features_bathrooms</th>\n",
       "      <th>features_suites</th>\n",
       "      <th>features_parkingSpaces</th>\n",
       "      <th>features_usableAreas</th>\n",
       "      <th>features_totalAreas</th>\n",
       "      <th>features_floors</th>\n",
       "      <th>features_unitsOnTheFloor</th>\n",
       "      <th>features_unitFloor</th>\n",
       "    </tr>\n",
       "  </thead>\n",
       "  <tbody>\n",
       "    <tr>\n",
       "      <th>0</th>\n",
       "      <td>775564-BOJSMVON</td>\n",
       "      <td>Website</td>\n",
       "      <td>Outros</td>\n",
       "      <td>Residencial</td>\n",
       "      <td>Rio de Janeiro</td>\n",
       "      <td>-43.413557</td>\n",
       "      <td>-22.909429</td>\n",
       "      <td>Zona Oeste</td>\n",
       "      <td>Taquara</td>\n",
       "      <td>45000</td>\n",
       "      <td>...</td>\n",
       "      <td>150</td>\n",
       "      <td>0</td>\n",
       "      <td>0</td>\n",
       "      <td>0</td>\n",
       "      <td>1</td>\n",
       "      <td>62</td>\n",
       "      <td>62</td>\n",
       "      <td>0</td>\n",
       "      <td>0</td>\n",
       "      <td>0</td>\n",
       "    </tr>\n",
       "    <tr>\n",
       "      <th>1</th>\n",
       "      <td>660895-AUENKNYY</td>\n",
       "      <td>Website</td>\n",
       "      <td>Apartamento</td>\n",
       "      <td>Residencial</td>\n",
       "      <td>Rio de Janeiro</td>\n",
       "      <td>-43.509141</td>\n",
       "      <td>-22.869698</td>\n",
       "      <td>Zona Oeste</td>\n",
       "      <td>Santíssimo</td>\n",
       "      <td>45000</td>\n",
       "      <td>...</td>\n",
       "      <td>120</td>\n",
       "      <td>2</td>\n",
       "      <td>1</td>\n",
       "      <td>0</td>\n",
       "      <td>1</td>\n",
       "      <td>44</td>\n",
       "      <td>0</td>\n",
       "      <td>0</td>\n",
       "      <td>0</td>\n",
       "      <td>0</td>\n",
       "    </tr>\n",
       "    <tr>\n",
       "      <th>2</th>\n",
       "      <td>751522-JESYFEQL</td>\n",
       "      <td>Website</td>\n",
       "      <td>Outros</td>\n",
       "      <td>Residencial</td>\n",
       "      <td>Rio de Janeiro</td>\n",
       "      <td>-43.646786</td>\n",
       "      <td>-22.986927</td>\n",
       "      <td>Zona Oeste</td>\n",
       "      <td>Pedra de Guaratiba</td>\n",
       "      <td>50000</td>\n",
       "      <td>...</td>\n",
       "      <td>100</td>\n",
       "      <td>0</td>\n",
       "      <td>0</td>\n",
       "      <td>0</td>\n",
       "      <td>0</td>\n",
       "      <td>132</td>\n",
       "      <td>132</td>\n",
       "      <td>0</td>\n",
       "      <td>0</td>\n",
       "      <td>0</td>\n",
       "    </tr>\n",
       "    <tr>\n",
       "      <th>4</th>\n",
       "      <td>568886-ZIBFOMCC</td>\n",
       "      <td>Website</td>\n",
       "      <td>Apartamento</td>\n",
       "      <td>Residencial</td>\n",
       "      <td>Rio de Janeiro</td>\n",
       "      <td>-43.480742</td>\n",
       "      <td>-23.027653</td>\n",
       "      <td>Zona Oeste</td>\n",
       "      <td>Recreio dos Bandeirantes</td>\n",
       "      <td>50000</td>\n",
       "      <td>...</td>\n",
       "      <td>400</td>\n",
       "      <td>3</td>\n",
       "      <td>2</td>\n",
       "      <td>1</td>\n",
       "      <td>1</td>\n",
       "      <td>60</td>\n",
       "      <td>0</td>\n",
       "      <td>3</td>\n",
       "      <td>4</td>\n",
       "      <td>2</td>\n",
       "    </tr>\n",
       "    <tr>\n",
       "      <th>5</th>\n",
       "      <td>526755-OBLTYTEN</td>\n",
       "      <td>Website</td>\n",
       "      <td>Outros</td>\n",
       "      <td>Residencial</td>\n",
       "      <td>Rio de Janeiro</td>\n",
       "      <td>-43.571183</td>\n",
       "      <td>-22.966059</td>\n",
       "      <td>Zona Oeste</td>\n",
       "      <td>Guaratiba</td>\n",
       "      <td>50000</td>\n",
       "      <td>...</td>\n",
       "      <td>0</td>\n",
       "      <td>0</td>\n",
       "      <td>0</td>\n",
       "      <td>0</td>\n",
       "      <td>0</td>\n",
       "      <td>200</td>\n",
       "      <td>200</td>\n",
       "      <td>0</td>\n",
       "      <td>0</td>\n",
       "      <td>0</td>\n",
       "    </tr>\n",
       "  </tbody>\n",
       "</table>\n",
       "<p>5 rows × 21 columns</p>\n",
       "</div>"
      ],
      "text/plain": [
       "        customerID   source   types_unit  types_usage    address_city  \\\n",
       "0  775564-BOJSMVON  Website       Outros  Residencial  Rio de Janeiro   \n",
       "1  660895-AUENKNYY  Website  Apartamento  Residencial  Rio de Janeiro   \n",
       "2  751522-JESYFEQL  Website       Outros  Residencial  Rio de Janeiro   \n",
       "4  568886-ZIBFOMCC  Website  Apartamento  Residencial  Rio de Janeiro   \n",
       "5  526755-OBLTYTEN  Website       Outros  Residencial  Rio de Janeiro   \n",
       "\n",
       "   address_location_lon  address_location_lat address_zone  \\\n",
       "0            -43.413557            -22.909429   Zona Oeste   \n",
       "1            -43.509141            -22.869698   Zona Oeste   \n",
       "2            -43.646786            -22.986927   Zona Oeste   \n",
       "4            -43.480742            -23.027653   Zona Oeste   \n",
       "5            -43.571183            -22.966059   Zona Oeste   \n",
       "\n",
       "       address_neighborhood prices_price  ... prices_tax_condo  \\\n",
       "0                   Taquara        45000  ...              150   \n",
       "1                Santíssimo        45000  ...              120   \n",
       "2        Pedra de Guaratiba        50000  ...              100   \n",
       "4  Recreio dos Bandeirantes        50000  ...              400   \n",
       "5                 Guaratiba        50000  ...                0   \n",
       "\n",
       "  features_bedrooms  features_bathrooms  features_suites  \\\n",
       "0                 0                   0                0   \n",
       "1                 2                   1                0   \n",
       "2                 0                   0                0   \n",
       "4                 3                   2                1   \n",
       "5                 0                   0                0   \n",
       "\n",
       "   features_parkingSpaces  features_usableAreas features_totalAreas  \\\n",
       "0                       1                    62                  62   \n",
       "1                       1                    44                   0   \n",
       "2                       0                   132                 132   \n",
       "4                       1                    60                   0   \n",
       "5                       0                   200                 200   \n",
       "\n",
       "  features_floors  features_unitsOnTheFloor  features_unitFloor  \n",
       "0               0                         0                   0  \n",
       "1               0                         0                   0  \n",
       "2               0                         0                   0  \n",
       "4               3                         4                   2  \n",
       "5               0                         0                   0  \n",
       "\n",
       "[5 rows x 21 columns]"
      ]
     },
     "execution_count": 11,
     "metadata": {},
     "output_type": "execute_result"
    }
   ],
   "source": [
    "# filter\n",
    "filter = (data_houses.types_usage == 'Residencial')\\\n",
    "    & (data_houses.address_city == 'Rio de Janeiro')\n",
    "data_houses = data_houses[filter]\n",
    "data_houses.head()"
   ]
  },
  {
   "cell_type": "code",
   "execution_count": 12,
   "metadata": {},
   "outputs": [
    {
     "name": "stdout",
     "output_type": "stream",
     "text": [
      "<class 'pandas.core.frame.DataFrame'>\n",
      "Int64Index: 69588 entries, 0 to 73614\n",
      "Data columns (total 21 columns):\n",
      " #   Column                    Non-Null Count  Dtype  \n",
      "---  ------                    --------------  -----  \n",
      " 0   customerID                69588 non-null  object \n",
      " 1   source                    69588 non-null  object \n",
      " 2   types_unit                69588 non-null  object \n",
      " 3   types_usage               69588 non-null  object \n",
      " 4   address_city              69588 non-null  object \n",
      " 5   address_location_lon      69449 non-null  float64\n",
      " 6   address_location_lat      69449 non-null  float64\n",
      " 7   address_zone              69588 non-null  object \n",
      " 8   address_neighborhood      69588 non-null  object \n",
      " 9   prices_price              69588 non-null  object \n",
      " 10  prices_tax_iptu           60863 non-null  object \n",
      " 11  prices_tax_condo          63527 non-null  object \n",
      " 12  features_bedrooms         69588 non-null  int64  \n",
      " 13  features_bathrooms        69588 non-null  int64  \n",
      " 14  features_suites           69588 non-null  int64  \n",
      " 15  features_parkingSpaces    69588 non-null  int64  \n",
      " 16  features_usableAreas      69588 non-null  object \n",
      " 17  features_totalAreas       69588 non-null  object \n",
      " 18  features_floors           69588 non-null  int64  \n",
      " 19  features_unitsOnTheFloor  69588 non-null  int64  \n",
      " 20  features_unitFloor        69588 non-null  int64  \n",
      "dtypes: float64(2), int64(7), object(12)\n",
      "memory usage: 11.7+ MB\n"
     ]
    }
   ],
   "source": [
    "# variable types\n",
    "data_houses.info()"
   ]
  },
  {
   "cell_type": "markdown",
   "metadata": {},
   "source": [
    "##### Our index is incorrect, we'll fix this problem"
   ]
  },
  {
   "cell_type": "code",
   "execution_count": 13,
   "metadata": {},
   "outputs": [
    {
     "name": "stdout",
     "output_type": "stream",
     "text": [
      "<class 'pandas.core.frame.DataFrame'>\n",
      "RangeIndex: 69588 entries, 0 to 69587\n",
      "Columns: 21 entries, customerID to features_unitFloor\n",
      "dtypes: float64(2), int64(7), object(12)\n",
      "memory usage: 11.1+ MB\n"
     ]
    }
   ],
   "source": [
    "data_houses.reset_index(drop=True, inplace=True)\n",
    "data_houses.info(verbose=False)"
   ]
  },
  {
   "cell_type": "code",
   "execution_count": 14,
   "metadata": {},
   "outputs": [
    {
     "name": "stdout",
     "output_type": "stream",
     "text": [
      "<class 'pandas.core.frame.DataFrame'>\n",
      "RangeIndex: 69588 entries, 0 to 69587\n",
      "Data columns (total 21 columns):\n",
      " #   Column                    Non-Null Count  Dtype  \n",
      "---  ------                    --------------  -----  \n",
      " 0   customerID                69588 non-null  object \n",
      " 1   source                    69588 non-null  object \n",
      " 2   types_unit                69588 non-null  object \n",
      " 3   types_usage               69588 non-null  object \n",
      " 4   address_city              69588 non-null  object \n",
      " 5   address_location_lon      69449 non-null  float64\n",
      " 6   address_location_lat      69449 non-null  float64\n",
      " 7   address_zone              69588 non-null  object \n",
      " 8   address_neighborhood      69588 non-null  object \n",
      " 9   prices_price              69588 non-null  float64\n",
      " 10  prices_tax_iptu           60863 non-null  float64\n",
      " 11  prices_tax_condo          63527 non-null  float64\n",
      " 12  features_bedrooms         69588 non-null  int64  \n",
      " 13  features_bathrooms        69588 non-null  int64  \n",
      " 14  features_suites           69588 non-null  int64  \n",
      " 15  features_parkingSpaces    69588 non-null  int64  \n",
      " 16  features_usableAreas      69588 non-null  int64  \n",
      " 17  features_totalAreas       69588 non-null  int64  \n",
      " 18  features_floors           69588 non-null  int64  \n",
      " 19  features_unitsOnTheFloor  69588 non-null  int64  \n",
      " 20  features_unitFloor        69588 non-null  int64  \n",
      "dtypes: float64(5), int64(9), object(7)\n",
      "memory usage: 11.1+ MB\n"
     ]
    }
   ],
   "source": [
    "# change variables types\n",
    "data_houses = data_houses.astype({\n",
    "    'prices_price':'float64',\n",
    "    'prices_tax_iptu':'float64',\n",
    "    'prices_tax_condo':'float64',\n",
    "    'features_usableAreas':'int64',\n",
    "    'features_totalAreas':'int64'\n",
    "})\n",
    "\n",
    "data_houses.info()"
   ]
  },
  {
   "cell_type": "code",
   "execution_count": 17,
   "metadata": {},
   "outputs": [
    {
     "data": {
      "text/plain": [
       "Zona Oeste      35523\n",
       "Zona Sul        18535\n",
       "Zona Norte      14379\n",
       "Zona Central     1002\n",
       "                  149\n",
       "Name: address_zone, dtype: int64"
      ]
     },
     "execution_count": 17,
     "metadata": {},
     "output_type": "execute_result"
    }
   ],
   "source": [
    "# checking null data\n",
    "data_houses.address_zone.value_counts()"
   ]
  },
  {
   "cell_type": "code",
   "execution_count": 18,
   "metadata": {},
   "outputs": [
    {
     "data": {
      "text/plain": [
       "Zona Oeste      35523\n",
       "Zona Sul        18535\n",
       "Zona Norte      14379\n",
       "Zona Central     1002\n",
       "Name: address_zone, dtype: int64"
      ]
     },
     "execution_count": 18,
     "metadata": {},
     "output_type": "execute_result"
    }
   ],
   "source": [
    "data_houses.address_zone = data_houses.address_zone.replace('', np.nan)\n",
    "data_houses.address_zone.value_counts()"
   ]
  },
  {
   "cell_type": "code",
   "execution_count": 19,
   "metadata": {},
   "outputs": [
    {
     "data": {
      "text/plain": [
       "149"
      ]
     },
     "execution_count": 19,
     "metadata": {},
     "output_type": "execute_result"
    }
   ],
   "source": [
    "data_houses.address_zone.isnull().sum()"
   ]
  },
  {
   "cell_type": "code",
   "execution_count": 22,
   "metadata": {},
   "outputs": [],
   "source": [
    "dic = data_houses[~data_houses['address_zone'].isna()].drop_duplicates(subset=['address_neighborhood']).to_dict('records')"
   ]
  },
  {
   "cell_type": "code",
   "execution_count": 23,
   "metadata": {},
   "outputs": [],
   "source": [
    "dic_zone = {x['address_neighborhood']: x['address_zone'] for x in dic}"
   ]
  },
  {
   "cell_type": "code",
   "execution_count": 26,
   "metadata": {},
   "outputs": [
    {
     "data": {
      "text/plain": [
       "0"
      ]
     },
     "execution_count": 26,
     "metadata": {},
     "output_type": "execute_result"
    }
   ],
   "source": [
    "for neigh, zone in dic_zone.items():\n",
    "    data_houses.loc[data_houses['address_neighborhood'] == neigh, 'address_zone'] = zone\n",
    "\n",
    "data_houses.address_zone.isnull().sum()"
   ]
  },
  {
   "cell_type": "markdown",
   "metadata": {},
   "source": [
    "##### checking null values in prices_tax_iptu variables"
   ]
  },
  {
   "cell_type": "code",
   "execution_count": 28,
   "metadata": {},
   "outputs": [
    {
     "data": {
      "text/plain": [
       "(4379.018845604061,\n",
       " 380.0,\n",
       " 0    0.0\n",
       " Name: prices_tax_iptu, dtype: float64)"
      ]
     },
     "execution_count": 28,
     "metadata": {},
     "output_type": "execute_result"
    }
   ],
   "source": [
    "mean_tax_iptu = data_houses.prices_tax_iptu.mean()\n",
    "median_tax_iptu = data_houses.prices_tax_iptu.median()\n",
    "mode_tax_iptu = data_houses.prices_tax_iptu.mode()\n",
    "mean_tax_iptu, median_tax_iptu, mode_tax_iptu"
   ]
  },
  {
   "cell_type": "code",
   "execution_count": 38,
   "metadata": {},
   "outputs": [
    {
     "data": {
      "text/plain": [
       "9026"
      ]
     },
     "execution_count": 38,
     "metadata": {},
     "output_type": "execute_result"
    }
   ],
   "source": [
    "(data_houses['prices_tax_iptu'] == 0.0).sum()"
   ]
  },
  {
   "cell_type": "code",
   "execution_count": 44,
   "metadata": {},
   "outputs": [
    {
     "data": {
      "text/plain": [
       "49931"
      ]
     },
     "execution_count": 44,
     "metadata": {},
     "output_type": "execute_result"
    }
   ],
   "source": [
    "(data_houses['prices_tax_iptu'] >= 4.000).sum()"
   ]
  },
  {
   "cell_type": "code",
   "execution_count": 45,
   "metadata": {},
   "outputs": [
    {
     "data": {
      "text/plain": [
       "10940"
      ]
     },
     "execution_count": 45,
     "metadata": {},
     "output_type": "execute_result"
    }
   ],
   "source": [
    "(data_houses['prices_tax_iptu'] <= 5.000).sum()"
   ]
  },
  {
   "cell_type": "code",
   "execution_count": 46,
   "metadata": {},
   "outputs": [
    {
     "data": {
      "text/plain": [
       "(69588, 21)"
      ]
     },
     "execution_count": 46,
     "metadata": {},
     "output_type": "execute_result"
    }
   ],
   "source": [
    "data_houses.shape"
   ]
  },
  {
   "cell_type": "code",
   "execution_count": 47,
   "metadata": {},
   "outputs": [
    {
     "data": {
      "text/plain": [
       "0.7175231361729034"
      ]
     },
     "execution_count": 47,
     "metadata": {},
     "output_type": "execute_result"
    }
   ],
   "source": [
    "49931 / 69588"
   ]
  },
  {
   "cell_type": "markdown",
   "metadata": {},
   "source": [
    "##### checking null values in prices_tax_condo variables"
   ]
  },
  {
   "cell_type": "code",
   "execution_count": 48,
   "metadata": {},
   "outputs": [
    {
     "data": {
      "text/plain": [
       "(3616.081162340422,\n",
       " 800.0,\n",
       " 0    0.0\n",
       " Name: prices_tax_condo, dtype: float64)"
      ]
     },
     "execution_count": 48,
     "metadata": {},
     "output_type": "execute_result"
    }
   ],
   "source": [
    "mean_tax_condo = data_houses.prices_tax_condo.mean()\n",
    "median_tax_condo = data_houses.prices_tax_condo.median()\n",
    "mode_tax_condo = data_houses.prices_tax_condo.mode()\n",
    "mean_tax_condo, median_tax_condo, mode_tax_condo"
   ]
  },
  {
   "cell_type": "code",
   "execution_count": 49,
   "metadata": {},
   "outputs": [
    {
     "data": {
      "text/plain": [
       "5926"
      ]
     },
     "execution_count": 49,
     "metadata": {},
     "output_type": "execute_result"
    }
   ],
   "source": [
    "(data_houses['prices_tax_condo'] == 0.0).sum()"
   ]
  },
  {
   "cell_type": "code",
   "execution_count": 50,
   "metadata": {},
   "outputs": [
    {
     "data": {
      "text/plain": [
       "56384"
      ]
     },
     "execution_count": 50,
     "metadata": {},
     "output_type": "execute_result"
    }
   ],
   "source": [
    "(data_houses['prices_tax_condo'] >= 3.000).sum()"
   ]
  },
  {
   "cell_type": "code",
   "execution_count": 52,
   "metadata": {},
   "outputs": [
    {
     "data": {
      "text/plain": [
       "10936"
      ]
     },
     "execution_count": 52,
     "metadata": {},
     "output_type": "execute_result"
    }
   ],
   "source": [
    "(data_houses['prices_tax_iptu'] <= 4.000).sum()"
   ]
  },
  {
   "cell_type": "code",
   "execution_count": 53,
   "metadata": {},
   "outputs": [
    {
     "data": {
      "text/plain": [
       "0.8102546416048744"
      ]
     },
     "execution_count": 53,
     "metadata": {},
     "output_type": "execute_result"
    }
   ],
   "source": [
    "56384 / 69588"
   ]
  },
  {
   "cell_type": "code",
   "execution_count": 54,
   "metadata": {},
   "outputs": [],
   "source": [
    "# apply variables\n",
    "data_houses.prices_tax_iptu.fillna(mean_tax_iptu, inplace=True)\n",
    "data_houses.prices_tax_condo.fillna(mean_tax_condo, inplace=True)"
   ]
  },
  {
   "cell_type": "code",
   "execution_count": 55,
   "metadata": {},
   "outputs": [
    {
     "data": {
      "text/plain": [
       "(0, 0)"
      ]
     },
     "execution_count": 55,
     "metadata": {},
     "output_type": "execute_result"
    }
   ],
   "source": [
    "data_houses.prices_tax_iptu.isnull().sum(), data_houses.prices_tax_condo.isnull().sum()"
   ]
  },
  {
   "cell_type": "markdown",
   "metadata": {},
   "source": [
    "### Changing columns"
   ]
  },
  {
   "cell_type": "code",
   "execution_count": 57,
   "metadata": {},
   "outputs": [
    {
     "data": {
      "text/plain": [
       "Index(['customerID', 'source', 'types_unit', 'types_usage', 'address_city',\n",
       "       'address_location_lon', 'address_location_lat', 'address_zone',\n",
       "       'address_neighborhood', 'prices_price', 'prices_tax_iptu',\n",
       "       'prices_tax_condo', 'features_bedrooms', 'features_bathrooms',\n",
       "       'features_suites', 'features_parkingSpaces', 'features_usableAreas',\n",
       "       'features_totalAreas', 'features_floors', 'features_unitsOnTheFloor',\n",
       "       'features_unitFloor'],\n",
       "      dtype='object')"
      ]
     },
     "execution_count": 57,
     "metadata": {},
     "output_type": "execute_result"
    }
   ],
   "source": [
    "data_houses.columns"
   ]
  },
  {
   "cell_type": "code",
   "execution_count": 64,
   "metadata": {},
   "outputs": [],
   "source": [
    "data_houses = data_houses[['types_unit', 'types_usage',  'address_zone', 'prices_price', 'prices_tax_iptu',\n",
    "       'prices_tax_condo', 'features_bedrooms', 'features_bathrooms', 'features_suites', 'features_parkingSpaces',\n",
    "       'features_usableAreas', 'features_totalAreas', 'features_floors', 'features_unitsOnTheFloor', \n",
    "       'features_unitFloor']]"
   ]
  },
  {
   "cell_type": "code",
   "execution_count": 65,
   "metadata": {},
   "outputs": [
    {
     "data": {
      "text/plain": [
       "Index(['types_unit', 'types_usage', 'address_zone', 'prices_price',\n",
       "       'prices_tax_iptu', 'prices_tax_condo', 'features_bedrooms',\n",
       "       'features_bathrooms', 'features_suites', 'features_parkingSpaces',\n",
       "       'features_usableAreas', 'features_totalAreas', 'features_floors',\n",
       "       'features_unitsOnTheFloor', 'features_unitFloor'],\n",
       "      dtype='object')"
      ]
     },
     "execution_count": 65,
     "metadata": {},
     "output_type": "execute_result"
    }
   ],
   "source": [
    "data_houses.columns"
   ]
  },
  {
   "cell_type": "code",
   "execution_count": 68,
   "metadata": {},
   "outputs": [],
   "source": [
    "data_houses.columns = [['unit', 'usage', 'zone', 'price', 'tax_iptu', 'tax_condo', 'bedrooms',\n",
    "                           'bathrooms', 'suites', 'parkingSpaces', 'usableAreas', 'totalAreas',\n",
    "                           'floors', 'unitsOnTheFloor', 'unitFloor']]"
   ]
  },
  {
   "cell_type": "code",
   "execution_count": 69,
   "metadata": {},
   "outputs": [
    {
     "data": {
      "text/html": [
       "<div>\n",
       "<style scoped>\n",
       "    .dataframe tbody tr th:only-of-type {\n",
       "        vertical-align: middle;\n",
       "    }\n",
       "\n",
       "    .dataframe tbody tr th {\n",
       "        vertical-align: top;\n",
       "    }\n",
       "\n",
       "    .dataframe thead tr th {\n",
       "        text-align: left;\n",
       "    }\n",
       "</style>\n",
       "<table border=\"1\" class=\"dataframe\">\n",
       "  <thead>\n",
       "    <tr>\n",
       "      <th></th>\n",
       "      <th>unit</th>\n",
       "      <th>usage</th>\n",
       "      <th>zone</th>\n",
       "      <th>price</th>\n",
       "      <th>tax_iptu</th>\n",
       "      <th>tax_condo</th>\n",
       "      <th>bedrooms</th>\n",
       "      <th>bathrooms</th>\n",
       "      <th>suites</th>\n",
       "      <th>parkingSpaces</th>\n",
       "      <th>usableAreas</th>\n",
       "      <th>totalAreas</th>\n",
       "      <th>floors</th>\n",
       "      <th>unitsOnTheFloor</th>\n",
       "      <th>unitFloor</th>\n",
       "    </tr>\n",
       "  </thead>\n",
       "  <tbody>\n",
       "    <tr>\n",
       "      <th>0</th>\n",
       "      <td>Outros</td>\n",
       "      <td>Residencial</td>\n",
       "      <td>Zona Oeste</td>\n",
       "      <td>45000.0</td>\n",
       "      <td>0.000000</td>\n",
       "      <td>150.0</td>\n",
       "      <td>0</td>\n",
       "      <td>0</td>\n",
       "      <td>0</td>\n",
       "      <td>1</td>\n",
       "      <td>62</td>\n",
       "      <td>62</td>\n",
       "      <td>0</td>\n",
       "      <td>0</td>\n",
       "      <td>0</td>\n",
       "    </tr>\n",
       "    <tr>\n",
       "      <th>1</th>\n",
       "      <td>Apartamento</td>\n",
       "      <td>Residencial</td>\n",
       "      <td>Zona Oeste</td>\n",
       "      <td>45000.0</td>\n",
       "      <td>0.000000</td>\n",
       "      <td>120.0</td>\n",
       "      <td>2</td>\n",
       "      <td>1</td>\n",
       "      <td>0</td>\n",
       "      <td>1</td>\n",
       "      <td>44</td>\n",
       "      <td>0</td>\n",
       "      <td>0</td>\n",
       "      <td>0</td>\n",
       "      <td>0</td>\n",
       "    </tr>\n",
       "    <tr>\n",
       "      <th>2</th>\n",
       "      <td>Outros</td>\n",
       "      <td>Residencial</td>\n",
       "      <td>Zona Oeste</td>\n",
       "      <td>50000.0</td>\n",
       "      <td>0.000000</td>\n",
       "      <td>100.0</td>\n",
       "      <td>0</td>\n",
       "      <td>0</td>\n",
       "      <td>0</td>\n",
       "      <td>0</td>\n",
       "      <td>132</td>\n",
       "      <td>132</td>\n",
       "      <td>0</td>\n",
       "      <td>0</td>\n",
       "      <td>0</td>\n",
       "    </tr>\n",
       "    <tr>\n",
       "      <th>3</th>\n",
       "      <td>Apartamento</td>\n",
       "      <td>Residencial</td>\n",
       "      <td>Zona Oeste</td>\n",
       "      <td>50000.0</td>\n",
       "      <td>120.000000</td>\n",
       "      <td>400.0</td>\n",
       "      <td>3</td>\n",
       "      <td>2</td>\n",
       "      <td>1</td>\n",
       "      <td>1</td>\n",
       "      <td>60</td>\n",
       "      <td>0</td>\n",
       "      <td>3</td>\n",
       "      <td>4</td>\n",
       "      <td>2</td>\n",
       "    </tr>\n",
       "    <tr>\n",
       "      <th>4</th>\n",
       "      <td>Outros</td>\n",
       "      <td>Residencial</td>\n",
       "      <td>Zona Oeste</td>\n",
       "      <td>50000.0</td>\n",
       "      <td>4379.018846</td>\n",
       "      <td>0.0</td>\n",
       "      <td>0</td>\n",
       "      <td>0</td>\n",
       "      <td>0</td>\n",
       "      <td>0</td>\n",
       "      <td>200</td>\n",
       "      <td>200</td>\n",
       "      <td>0</td>\n",
       "      <td>0</td>\n",
       "      <td>0</td>\n",
       "    </tr>\n",
       "  </tbody>\n",
       "</table>\n",
       "</div>"
      ],
      "text/plain": [
       "          unit        usage        zone    price     tax_iptu tax_condo  \\\n",
       "0       Outros  Residencial  Zona Oeste  45000.0     0.000000     150.0   \n",
       "1  Apartamento  Residencial  Zona Oeste  45000.0     0.000000     120.0   \n",
       "2       Outros  Residencial  Zona Oeste  50000.0     0.000000     100.0   \n",
       "3  Apartamento  Residencial  Zona Oeste  50000.0   120.000000     400.0   \n",
       "4       Outros  Residencial  Zona Oeste  50000.0  4379.018846       0.0   \n",
       "\n",
       "  bedrooms bathrooms suites parkingSpaces usableAreas totalAreas floors  \\\n",
       "0        0         0      0             1          62         62      0   \n",
       "1        2         1      0             1          44          0      0   \n",
       "2        0         0      0             0         132        132      0   \n",
       "3        3         2      1             1          60          0      3   \n",
       "4        0         0      0             0         200        200      0   \n",
       "\n",
       "  unitsOnTheFloor unitFloor  \n",
       "0               0         0  \n",
       "1               0         0  \n",
       "2               0         0  \n",
       "3               4         2  \n",
       "4               0         0  "
      ]
     },
     "execution_count": 69,
     "metadata": {},
     "output_type": "execute_result"
    }
   ],
   "source": [
    "data_houses.head()"
   ]
  },
  {
   "cell_type": "markdown",
   "metadata": {},
   "source": [
    "## Linear Regression"
   ]
  },
  {
   "cell_type": "code",
   "execution_count": 81,
   "metadata": {},
   "outputs": [
    {
     "name": "stderr",
     "output_type": "stream",
     "text": [
      "/tmp/ipykernel_10456/1572059520.py:1: FutureWarning: The default value of numeric_only in DataFrame.corr is deprecated. In a future version, it will default to False. Select only valid columns or specify the value of numeric_only to silence this warning.\n",
      "  correlation = data_houses.corr()\n"
     ]
    },
    {
     "data": {
      "text/html": [
       "<div>\n",
       "<style scoped>\n",
       "    .dataframe tbody tr th:only-of-type {\n",
       "        vertical-align: middle;\n",
       "    }\n",
       "\n",
       "    .dataframe tbody tr th {\n",
       "        vertical-align: top;\n",
       "    }\n",
       "\n",
       "    .dataframe thead tr th {\n",
       "        text-align: left;\n",
       "    }\n",
       "</style>\n",
       "<table border=\"1\" class=\"dataframe\">\n",
       "  <thead>\n",
       "    <tr>\n",
       "      <th></th>\n",
       "      <th>price</th>\n",
       "      <th>tax_iptu</th>\n",
       "      <th>tax_condo</th>\n",
       "      <th>bedrooms</th>\n",
       "      <th>bathrooms</th>\n",
       "      <th>suites</th>\n",
       "      <th>parkingSpaces</th>\n",
       "      <th>usableAreas</th>\n",
       "      <th>totalAreas</th>\n",
       "      <th>floors</th>\n",
       "      <th>unitsOnTheFloor</th>\n",
       "      <th>unitFloor</th>\n",
       "    </tr>\n",
       "  </thead>\n",
       "  <tbody>\n",
       "    <tr>\n",
       "      <th>price</th>\n",
       "      <td>1.000000</td>\n",
       "      <td>0.028920</td>\n",
       "      <td>0.047136</td>\n",
       "      <td>0.530474</td>\n",
       "      <td>0.571725</td>\n",
       "      <td>0.588738</td>\n",
       "      <td>0.423186</td>\n",
       "      <td>0.692502</td>\n",
       "      <td>-0.000619</td>\n",
       "      <td>-0.061910</td>\n",
       "      <td>-0.133700</td>\n",
       "      <td>-0.000143</td>\n",
       "    </tr>\n",
       "    <tr>\n",
       "      <th>tax_iptu</th>\n",
       "      <td>0.028920</td>\n",
       "      <td>1.000000</td>\n",
       "      <td>0.226136</td>\n",
       "      <td>0.013028</td>\n",
       "      <td>0.014553</td>\n",
       "      <td>0.018769</td>\n",
       "      <td>0.009277</td>\n",
       "      <td>0.013970</td>\n",
       "      <td>-0.000179</td>\n",
       "      <td>0.005477</td>\n",
       "      <td>0.003883</td>\n",
       "      <td>0.000904</td>\n",
       "    </tr>\n",
       "    <tr>\n",
       "      <th>tax_condo</th>\n",
       "      <td>0.047136</td>\n",
       "      <td>0.226136</td>\n",
       "      <td>1.000000</td>\n",
       "      <td>0.018487</td>\n",
       "      <td>0.019718</td>\n",
       "      <td>0.023605</td>\n",
       "      <td>0.018032</td>\n",
       "      <td>0.019707</td>\n",
       "      <td>-0.000336</td>\n",
       "      <td>0.012151</td>\n",
       "      <td>-0.002053</td>\n",
       "      <td>0.002680</td>\n",
       "    </tr>\n",
       "    <tr>\n",
       "      <th>bedrooms</th>\n",
       "      <td>0.530474</td>\n",
       "      <td>0.013028</td>\n",
       "      <td>0.018487</td>\n",
       "      <td>1.000000</td>\n",
       "      <td>0.665958</td>\n",
       "      <td>0.600596</td>\n",
       "      <td>0.467391</td>\n",
       "      <td>0.563545</td>\n",
       "      <td>-0.000532</td>\n",
       "      <td>-0.082025</td>\n",
       "      <td>-0.130611</td>\n",
       "      <td>-0.007146</td>\n",
       "    </tr>\n",
       "    <tr>\n",
       "      <th>bathrooms</th>\n",
       "      <td>0.571725</td>\n",
       "      <td>0.014553</td>\n",
       "      <td>0.019718</td>\n",
       "      <td>0.665958</td>\n",
       "      <td>1.000000</td>\n",
       "      <td>0.752495</td>\n",
       "      <td>0.487624</td>\n",
       "      <td>0.597793</td>\n",
       "      <td>0.000041</td>\n",
       "      <td>-0.044552</td>\n",
       "      <td>-0.107347</td>\n",
       "      <td>0.007599</td>\n",
       "    </tr>\n",
       "    <tr>\n",
       "      <th>suites</th>\n",
       "      <td>0.588738</td>\n",
       "      <td>0.018769</td>\n",
       "      <td>0.023605</td>\n",
       "      <td>0.600596</td>\n",
       "      <td>0.752495</td>\n",
       "      <td>1.000000</td>\n",
       "      <td>0.484850</td>\n",
       "      <td>0.577344</td>\n",
       "      <td>0.003971</td>\n",
       "      <td>-0.047576</td>\n",
       "      <td>-0.091408</td>\n",
       "      <td>0.005300</td>\n",
       "    </tr>\n",
       "    <tr>\n",
       "      <th>parkingSpaces</th>\n",
       "      <td>0.423186</td>\n",
       "      <td>0.009277</td>\n",
       "      <td>0.018032</td>\n",
       "      <td>0.467391</td>\n",
       "      <td>0.487624</td>\n",
       "      <td>0.484850</td>\n",
       "      <td>1.000000</td>\n",
       "      <td>0.483709</td>\n",
       "      <td>-0.000062</td>\n",
       "      <td>-0.048310</td>\n",
       "      <td>-0.074348</td>\n",
       "      <td>0.003788</td>\n",
       "    </tr>\n",
       "    <tr>\n",
       "      <th>usableAreas</th>\n",
       "      <td>0.692502</td>\n",
       "      <td>0.013970</td>\n",
       "      <td>0.019707</td>\n",
       "      <td>0.563545</td>\n",
       "      <td>0.597793</td>\n",
       "      <td>0.577344</td>\n",
       "      <td>0.483709</td>\n",
       "      <td>1.000000</td>\n",
       "      <td>-0.000214</td>\n",
       "      <td>-0.103729</td>\n",
       "      <td>-0.144041</td>\n",
       "      <td>-0.012715</td>\n",
       "    </tr>\n",
       "    <tr>\n",
       "      <th>totalAreas</th>\n",
       "      <td>-0.000619</td>\n",
       "      <td>-0.000179</td>\n",
       "      <td>-0.000336</td>\n",
       "      <td>-0.000532</td>\n",
       "      <td>0.000041</td>\n",
       "      <td>0.003971</td>\n",
       "      <td>-0.000062</td>\n",
       "      <td>-0.000214</td>\n",
       "      <td>1.000000</td>\n",
       "      <td>0.014677</td>\n",
       "      <td>0.003975</td>\n",
       "      <td>0.002329</td>\n",
       "    </tr>\n",
       "    <tr>\n",
       "      <th>floors</th>\n",
       "      <td>-0.061910</td>\n",
       "      <td>0.005477</td>\n",
       "      <td>0.012151</td>\n",
       "      <td>-0.082025</td>\n",
       "      <td>-0.044552</td>\n",
       "      <td>-0.047576</td>\n",
       "      <td>-0.048310</td>\n",
       "      <td>-0.103729</td>\n",
       "      <td>0.014677</td>\n",
       "      <td>1.000000</td>\n",
       "      <td>0.737802</td>\n",
       "      <td>0.121067</td>\n",
       "    </tr>\n",
       "    <tr>\n",
       "      <th>unitsOnTheFloor</th>\n",
       "      <td>-0.133700</td>\n",
       "      <td>0.003883</td>\n",
       "      <td>-0.002053</td>\n",
       "      <td>-0.130611</td>\n",
       "      <td>-0.107347</td>\n",
       "      <td>-0.091408</td>\n",
       "      <td>-0.074348</td>\n",
       "      <td>-0.144041</td>\n",
       "      <td>0.003975</td>\n",
       "      <td>0.737802</td>\n",
       "      <td>1.000000</td>\n",
       "      <td>0.092434</td>\n",
       "    </tr>\n",
       "    <tr>\n",
       "      <th>unitFloor</th>\n",
       "      <td>-0.000143</td>\n",
       "      <td>0.000904</td>\n",
       "      <td>0.002680</td>\n",
       "      <td>-0.007146</td>\n",
       "      <td>0.007599</td>\n",
       "      <td>0.005300</td>\n",
       "      <td>0.003788</td>\n",
       "      <td>-0.012715</td>\n",
       "      <td>0.002329</td>\n",
       "      <td>0.121067</td>\n",
       "      <td>0.092434</td>\n",
       "      <td>1.000000</td>\n",
       "    </tr>\n",
       "  </tbody>\n",
       "</table>\n",
       "</div>"
      ],
      "text/plain": [
       "                    price  tax_iptu tax_condo  bedrooms bathrooms    suites  \\\n",
       "price            1.000000  0.028920  0.047136  0.530474  0.571725  0.588738   \n",
       "tax_iptu         0.028920  1.000000  0.226136  0.013028  0.014553  0.018769   \n",
       "tax_condo        0.047136  0.226136  1.000000  0.018487  0.019718  0.023605   \n",
       "bedrooms         0.530474  0.013028  0.018487  1.000000  0.665958  0.600596   \n",
       "bathrooms        0.571725  0.014553  0.019718  0.665958  1.000000  0.752495   \n",
       "suites           0.588738  0.018769  0.023605  0.600596  0.752495  1.000000   \n",
       "parkingSpaces    0.423186  0.009277  0.018032  0.467391  0.487624  0.484850   \n",
       "usableAreas      0.692502  0.013970  0.019707  0.563545  0.597793  0.577344   \n",
       "totalAreas      -0.000619 -0.000179 -0.000336 -0.000532  0.000041  0.003971   \n",
       "floors          -0.061910  0.005477  0.012151 -0.082025 -0.044552 -0.047576   \n",
       "unitsOnTheFloor -0.133700  0.003883 -0.002053 -0.130611 -0.107347 -0.091408   \n",
       "unitFloor       -0.000143  0.000904  0.002680 -0.007146  0.007599  0.005300   \n",
       "\n",
       "                parkingSpaces usableAreas totalAreas    floors  \\\n",
       "price                0.423186    0.692502  -0.000619 -0.061910   \n",
       "tax_iptu             0.009277    0.013970  -0.000179  0.005477   \n",
       "tax_condo            0.018032    0.019707  -0.000336  0.012151   \n",
       "bedrooms             0.467391    0.563545  -0.000532 -0.082025   \n",
       "bathrooms            0.487624    0.597793   0.000041 -0.044552   \n",
       "suites               0.484850    0.577344   0.003971 -0.047576   \n",
       "parkingSpaces        1.000000    0.483709  -0.000062 -0.048310   \n",
       "usableAreas          0.483709    1.000000  -0.000214 -0.103729   \n",
       "totalAreas          -0.000062   -0.000214   1.000000  0.014677   \n",
       "floors              -0.048310   -0.103729   0.014677  1.000000   \n",
       "unitsOnTheFloor     -0.074348   -0.144041   0.003975  0.737802   \n",
       "unitFloor            0.003788   -0.012715   0.002329  0.121067   \n",
       "\n",
       "                unitsOnTheFloor unitFloor  \n",
       "price                 -0.133700 -0.000143  \n",
       "tax_iptu               0.003883  0.000904  \n",
       "tax_condo             -0.002053  0.002680  \n",
       "bedrooms              -0.130611 -0.007146  \n",
       "bathrooms             -0.107347  0.007599  \n",
       "suites                -0.091408  0.005300  \n",
       "parkingSpaces         -0.074348  0.003788  \n",
       "usableAreas           -0.144041 -0.012715  \n",
       "totalAreas             0.003975  0.002329  \n",
       "floors                 0.737802  0.121067  \n",
       "unitsOnTheFloor        1.000000  0.092434  \n",
       "unitFloor              0.092434  1.000000  "
      ]
     },
     "execution_count": 81,
     "metadata": {},
     "output_type": "execute_result"
    }
   ],
   "source": [
    "correlation = data_houses.corr()\n",
    "correlation"
   ]
  },
  {
   "cell_type": "code",
   "execution_count": 84,
   "metadata": {},
   "outputs": [
    {
     "data": {
      "image/png": "[encoded data removed]",
      "text/plain": [
       "<Figure size 1300x800 with 2 Axes>"
      ]
     },
     "metadata": {},
     "output_type": "display_data"
    }
   ],
   "source": [
    "colors = sns.color_palette('light:salmon', as_cmap=True)\n",
    "mask = np.zeros_like(correlation)\n",
    "mask[np.triu_indices_from(mask)] = True\n",
    "with sns.axes_style(\"white\"):\n",
    "    f, ax = plt.subplots(figsize=(13,8))\n",
    "    ax = sns.heatmap(correlation, cmap=colors, mask=mask, square=True, fmt='.2f', annot=True)"
   ]
  },
  {
   "cell_type": "code",
   "execution_count": 99,
   "metadata": {},
   "outputs": [
    {
     "data": {
      "image/png": "[encoded data removed]",
      "text/plain": [
       "<Figure size 2000x1000 with 1 Axes>"
      ]
     },
     "metadata": {},
     "output_type": "display_data"
    }
   ],
   "source": [
    "ax = sns.histplot(data=data_houses.price, bins=20)\n",
    "ax.figure.set_size_inches(20,10)\n",
    "ax.set_title('Price Histogram')\n",
    "ax.set_xlabel('Price');"
   ]
  },
  {
   "cell_type": "markdown",
   "metadata": {},
   "source": [
    "### Pre Processing"
   ]
  },
  {
   "cell_type": "code",
   "execution_count": null,
   "metadata": {},
   "outputs": [],
   "source": []
  }
 ],
 "metadata": {
  "kernelspec": {
   "display_name": "Python 3.8.10 64-bit",
   "language": "python",
   "name": "python3"
  },
  "language_info": {
   "codemirror_mode": {
    "name": "ipython",
    "version": 3
   },
   "file_extension": ".py",
   "mimetype": "text/x-python",
   "name": "python",
   "nbconvert_exporter": "python",
   "pygments_lexer": "ipython3",
   "version": "3.8.10"
  },
  "orig_nbformat": 4,
  "vscode": {
   "interpreter": {
    "hash": "916dbcbb3f70747c44a77c7bcd40155683ae19c65e1c03b4aa3499c5328201f1"
   }
  }
 },
 "nbformat": 4,
 "nbformat_minor": 2
}
