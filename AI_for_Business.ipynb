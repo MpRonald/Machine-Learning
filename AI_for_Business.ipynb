{
 "cells": [
  {
   "attachments": {},
   "cell_type": "markdown",
   "metadata": {},
   "source": [
    "### In this project I'll do warehouse flow optmization reinforced learning"
   ]
  },
  {
   "cell_type": "code",
   "execution_count": 1,
   "metadata": {},
   "outputs": [],
   "source": [
    "import numpy as np"
   ]
  },
  {
   "attachments": {},
   "cell_type": "markdown",
   "metadata": {},
   "source": [
    "##### Step 1"
   ]
  },
  {
   "cell_type": "code",
   "execution_count": 2,
   "metadata": {},
   "outputs": [],
   "source": [
    "# evironment definition\n",
    "gamma= 0.75\n",
    "alpha = 0.9\n",
    "\n",
    "loc_to_state = {\"A\":0, \"B\":1, \"C\":2, \"D\":3, \"E\":4, \"F\":5,\n",
    "                \"G\":6, \"H\":7, \"I\":8, \"J\":9, \"K\":10, \"L\":11}\n",
    "\n",
    "actions = [0,1,2,3,4,5,6,7,8,9,10,11]\n",
    "\n",
    "R = np.array([[0,1,0,0,0,0,0,0,0,0,0,0],\n",
    "              [1,0,1,0,0,1,0,0,0,0,0,0],\n",
    "              [0,1,0,0,0,0,1,0,0,0,0,0],\n",
    "              [0,0,0,0,0,0,0,1,0,0,0,0],\n",
    "              [0,0,0,0,0,0,0,0,1,0,0,0],\n",
    "              [0,1,0,0,0,0,0,0,0,1,0,0],\n",
    "              [0,0,1,0,0,0,1000,1,0,0,0,0],\n",
    "              [0,0,0,1,0,0,1,0,0,0,0,1],\n",
    "              [0,0,0,0,1,0,0,0,0,1,0,0],\n",
    "              [0,0,0,0,0,1,0,0,1,0,1,0],\n",
    "              [0,0,0,0,0,0,0,0,0,1,0,1],\n",
    "              [0,0,0,0,0,0,0,1,0,0,1,0]])"
   ]
  },
  {
   "attachments": {},
   "cell_type": "markdown",
   "metadata": {},
   "source": [
    "##### Step 2"
   ]
  },
  {
   "cell_type": "code",
   "execution_count": 3,
   "metadata": {},
   "outputs": [],
   "source": [
    "# building Q-Learning\n",
    "\n",
    "Q = np.array(np.zeros([len(actions),len(actions)]))\n",
    "for i in range(1000):\n",
    "    current_state = np.random.randint(len(actions))\n",
    "    play_actions = []\n",
    "    for j in range(len(actions)):\n",
    "        if R[current_state, j] > min(actions):\n",
    "            play_actions.append(j)\n",
    "    next_state = np.random.choice(play_actions)\n",
    "    TD = R[current_state, next_state] + gamma * Q[next_state, np.argmax(Q[next_state,])] - Q[current_state, next_state]\n",
    "    Q[current_state, next_state] = Q[current_state, next_state] + alpha * TD  "
   ]
  },
  {
   "cell_type": "code",
   "execution_count": 4,
   "metadata": {},
   "outputs": [
    {
     "data": {
      "text/plain": [
       "{0: 'A',\n",
       " 1: 'B',\n",
       " 2: 'C',\n",
       " 3: 'D',\n",
       " 4: 'E',\n",
       " 5: 'F',\n",
       " 6: 'G',\n",
       " 7: 'H',\n",
       " 8: 'I',\n",
       " 9: 'J',\n",
       " 10: 'K',\n",
       " 11: 'L'}"
      ]
     },
     "execution_count": 4,
     "metadata": {},
     "output_type": "execute_result"
    }
   ],
   "source": [
    "state_to_location = {state: location for location, state in loc_to_state.items()}\n",
    "state_to_location"
   ]
  },
  {
   "cell_type": "code",
   "execution_count": 5,
   "metadata": {},
   "outputs": [],
   "source": [
    "def route(starting_loc, ending_loc):\n",
    "    route = [starting_loc]\n",
    "    next_loc = starting_loc\n",
    "    while (next_loc != ending_loc):\n",
    "        starting_state = loc_to_state[starting_loc]\n",
    "        next_state = np.argmax(Q[starting_state])\n",
    "        next_loc = state_to_location[next_state]\n",
    "        route.append(next_loc)\n",
    "        starting_loc = next_loc\n",
    "    return route"
   ]
  },
  {
   "cell_type": "code",
   "execution_count": 7,
   "metadata": {},
   "outputs": [
    {
     "name": "stdout",
     "output_type": "stream",
     "text": [
      "Route: ['A', 'B', 'C', 'G']\n",
      "Route: ['F', 'B', 'C', 'G']\n"
     ]
    }
   ],
   "source": [
    "# testing\n",
    "print(f\"Route: {route('A', 'G')}\")\n",
    "print(f\"Route: {route('F', 'G')}\")"
   ]
  },
  {
   "cell_type": "code",
   "execution_count": null,
   "metadata": {},
   "outputs": [],
   "source": []
  }
 ],
 "metadata": {
  "kernelspec": {
   "display_name": "Python 3.8.10 64-bit",
   "language": "python",
   "name": "python3"
  },
  "language_info": {
   "codemirror_mode": {
    "name": "ipython",
    "version": 3
   },
   "file_extension": ".py",
   "mimetype": "text/x-python",
   "name": "python",
   "nbconvert_exporter": "python",
   "pygments_lexer": "ipython3",
   "version": "3.8.10"
  },
  "orig_nbformat": 4,
  "vscode": {
   "interpreter": {
    "hash": "916dbcbb3f70747c44a77c7bcd40155683ae19c65e1c03b4aa3499c5328201f1"
   }
  }
 },
 "nbformat": 4,
 "nbformat_minor": 2
}
